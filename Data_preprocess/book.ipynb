{
 "cells": [
  {
   "cell_type": "markdown",
   "metadata": {
    "collapsed": true
   },
   "source": [
    "+ 代码2 -1 用interpolate模块进行Lagrange 插值"
   ]
  },
  {
   "cell_type": "code",
   "execution_count": 1,
   "metadata": {},
   "outputs": [
    {
     "name": "stdout",
     "output_type": "stream",
     "text": [
      "当x为6, 7时，使用Lagrange 插值 yl为： [72. 98.]\n",
      "当x为6, 7时，使用Lagrange 插值 y2为：  [13. 15.]\n"
     ]
    }
   ],
   "source": [
    "import numpy as np \n",
    "import scipy\n",
    "x = np. array([ 1, 2, 3, 4, 5, 8, 9, 10]) #创建自变批x \n",
    "y1 =np. array([2, 8, 18, 32, 50, 128, 162, 200]) #创建因变量yl \n",
    "y2=np.array([3, 5, 7, 9, 11, 17, 19, 21]) #创建因变量y2 \n",
    "Lag_Valuel = scipy.interpolate.lagrange (x, y1) # Lagrange 插值拟合 x, yl \n",
    "Lag_Value2 = scipy.interpolate.lagrange (x, y2) # Lagrange 插值拟合 x, y2 \n",
    "print('当x为6, 7时，使用Lagrange 插值 yl为：' , Lag_Valuel([6, 7]))\n",
    "print('当x为6, 7时，使用Lagrange 插值 y2为： ' ,Lag_Value2 ([ 6, 7 ]))"
   ]
  },
  {
   "cell_type": "markdown",
   "metadata": {},
   "source": [
    "+ 代码2-2 自定义 Newton 插值"
   ]
  },
  {
   "cell_type": "code",
   "execution_count": 2,
   "metadata": {
    "scrolled": true
   },
   "outputs": [
    {
     "name": "stdout",
     "output_type": "stream",
     "text": [
      "当x为6, 7时，使用Newton插值yl为： [72. 98.]\n",
      "当x为6, 7时，使用Newton插值y2为： [13. 15.]\n"
     ]
    }
   ],
   "source": [
    "# 自定义阶跳跃差分函数\n",
    "def diff_self(xi, k):\n",
    "    '''\n",
    "    xi:接收array。表示自变量 x。无默认， 不可省略\n",
    "    k:接收int。表示差分的次数。 无默认， 不可省略\n",
    "    '''\n",
    "    diffValue = [] \n",
    "    for i in range(len(xi) - k) : \n",
    "        diffValue.append(xi[i + k] -xi[i]) \n",
    "    return diffValue \n",
    "#自定义求取差商函数\n",
    "def diff_quot(xi, yi):\n",
    "    '''\n",
    "    xi:接收array。表示自变械 x。尤默认， 不可省略\n",
    "    yi:接收array。表示因变晕 y。无默认， 不可省略\n",
    "    '''\n",
    "    length = len (xi) \n",
    "    quot=[] \n",
    "    temp =yi\n",
    "    for i in range (1, length):\n",
    "        tern = np.diff(temp, 1) / diff_self(xi, i)# 此处需要numpy广播特性支持\n",
    "        quot.append (tern [0]) \n",
    "        temp= tern\n",
    "    return (quot)\n",
    "# 自定义求取(x-xO) * (x -xl)…．．＊(x -xO) \n",
    "def get_Wi(k = 0, xi = []) : \n",
    "    ''' \n",
    "    xi: 接收 array。表示自变趾x。无默认，不可省略\n",
    "    yi: 接收 array。表示因变趾y。无默认，不可省略\n",
    "    '''\n",
    "    def Wi(x):\n",
    "        \n",
    "        '''\n",
    "        X: 接收 int, float, ndarray。 表示插值节点。 无默认\n",
    "        '''\n",
    "        result= 1.0 \n",
    "        for each in range (k) : \n",
    "            result *= (x - xi[each]) \n",
    "        return result \n",
    "    return Wi\n",
    "# 自定义牛顿插值公式\n",
    "def get_Newton_inter (xi, yi):\n",
    "    '''\n",
    "    i: 接收 array。表示自变趾x。无默认，不可省略\n",
    "    yi: 接收 array。表示因变趾y。无默认，不可省略\n",
    "    '''\n",
    "    diffQuot = diff_quot(xi, yi) \n",
    "    def Newton_inter(x):\n",
    "        '''\n",
    "        x ：接收 int, float, ndarray。 表示插值节点。 无默认\n",
    "        '''\n",
    "        result= yi[0] \n",
    "        for i in range(0, len(xi) -1): \n",
    "            result +=get_Wi(i+1, xi)(x) *diffQuot[i] \n",
    "        return result \n",
    "    return Newton_inter \n",
    "Newt_Valuel = get_Newton_inter(x, y1) # Newton插值拟合x, yl \n",
    "Newt_Value2 = get_Newton_inter(x, y2) # Newton插值拟合x, y2 \n",
    "print('当x为6, 7时，使用Newton插值yl为：', Newt_Valuel([6,7]))\n",
    "print('当x为6, 7时，使用Newton插值y2为：', Newt_Value2([6,7]))"
   ]
  },
  {
   "cell_type": "markdown",
   "metadata": {},
   "source": [
    "+ 代码2-3 小数定标标准化示例"
   ]
  },
  {
   "cell_type": "code",
   "execution_count": 3,
   "metadata": {},
   "outputs": [
    {
     "data": {
      "text/plain": "array([0.1, 0.2, 0.3, 0.4, 0.5, 0.8, 0.9, 1. ])"
     },
     "execution_count": 3,
     "metadata": {},
     "output_type": "execute_result"
    }
   ],
   "source": [
    "##自定义小数定标差标准化函数\n",
    "def DecimalScaler(data):\n",
    "    data= data/10 ** np.ceil(np.log10(data.max()))\n",
    "    return data \n",
    "x = np.array([ 1, 2, 3, 4, 5, 8, 9, 10])\n",
    "DecimalScaler(x)"
   ]
  },
  {
   "cell_type": "markdown",
   "metadata": {},
   "source": [
    "+ 代码2-4 等频法离散化示例"
   ]
  },
  {
   "cell_type": "code",
   "execution_count": 4,
   "metadata": {},
   "outputs": [],
   "source": [
    "def SameRateCut(data, k):\n",
    "    w = data.quantile(np.arange (0, 1 + 1.0/k, 1.0/k))\n",
    "    data = pd.cut (data, w) \n",
    "    return data "
   ]
  },
  {
   "cell_type": "markdown",
   "metadata": {},
   "source": [
    "+ 代码2 -5 基于聚类分析的离散化\n"
   ]
  },
  {
   "cell_type": "code",
   "execution_count": 5,
   "metadata": {},
   "outputs": [],
   "source": [
    "##自定义数据 K-Means 聚类离散化函数\n",
    "import pandas as pd\n",
    "def KmeanCut(data, k): \n",
    "    from sklearn.cluster import KMeans #引入KMeans\n",
    "    kmodel = KMeans(n_clusters = k) #建立模型，n_]．obs是并行数 \n",
    "    kmodel.fit(data.reshape((len(data), 1))) ##训练模型\n",
    "    c = pd.DataFrame(kmodel.cluster_centers_).sort_values(0) # 输出聚类中心并排序\n",
    "    w = pd.rolling_mean(c, 2).iloc[1:]\n",
    "   \n",
    "    w=[O] + list(w[O]) +[data.max()]\n",
    "    data= pd.cut(data, w) \n",
    "    return data "
   ]
  },
  {
   "cell_type": "code",
   "execution_count": 6,
   "metadata": {},
   "outputs": [
    {
     "ename": "AttributeError",
     "evalue": "'DataFrame' object has no attribute 'reshape'",
     "output_type": "error",
     "traceback": [
      "\u001B[1;31m---------------------------------------------------------------------------\u001B[0m",
      "\u001B[1;31mAttributeError\u001B[0m                            Traceback (most recent call last)",
      "Cell \u001B[1;32mIn [6], line 5\u001B[0m\n\u001B[0;32m      3\u001B[0m df \u001B[38;5;241m=\u001B[39m pd\u001B[38;5;241m.\u001B[39mread_excel(\u001B[38;5;124mr\u001B[39m\u001B[38;5;124m'\u001B[39m\u001B[38;5;124m./data.xlsx\u001B[39m\u001B[38;5;124m'\u001B[39m,sheet_name\u001B[38;5;241m=\u001B[39m sheet_name, header\u001B[38;5;241m=\u001B[39m \u001B[38;5;241m0\u001B[39m, index_col\u001B[38;5;241m=\u001B[39m \u001B[38;5;124m'\u001B[39m\u001B[38;5;124m编号\u001B[39m\u001B[38;5;124m'\u001B[39m )\u001B[38;5;66;03m# \u001B[39;00m\n\u001B[0;32m      4\u001B[0m y \u001B[38;5;241m=\u001B[39m np\u001B[38;5;241m.\u001B[39marray(df[\u001B[38;5;124m'\u001B[39m\u001B[38;5;124mSiO2\u001B[39m\u001B[38;5;124m'\u001B[39m])\n\u001B[1;32m----> 5\u001B[0m data \u001B[38;5;241m=\u001B[39m \u001B[43mKmeanCut\u001B[49m\u001B[43m(\u001B[49m\u001B[43mdf\u001B[49m\u001B[43m,\u001B[49m\u001B[38;5;241;43m4\u001B[39;49m\u001B[43m)\u001B[49m\n",
      "Cell \u001B[1;32mIn [5], line 6\u001B[0m, in \u001B[0;36mKmeanCut\u001B[1;34m(data, k)\u001B[0m\n\u001B[0;32m      4\u001B[0m \u001B[38;5;28;01mfrom\u001B[39;00m \u001B[38;5;21;01msklearn\u001B[39;00m\u001B[38;5;21;01m.\u001B[39;00m\u001B[38;5;21;01mcluster\u001B[39;00m \u001B[38;5;28;01mimport\u001B[39;00m KMeans \u001B[38;5;66;03m#引入KMeans\u001B[39;00m\n\u001B[0;32m      5\u001B[0m kmodel \u001B[38;5;241m=\u001B[39m KMeans(n_clusters \u001B[38;5;241m=\u001B[39m k) \u001B[38;5;66;03m#建立模型，n_]．obs是并行数 \u001B[39;00m\n\u001B[1;32m----> 6\u001B[0m kmodel\u001B[38;5;241m.\u001B[39mfit(\u001B[43mdata\u001B[49m\u001B[38;5;241;43m.\u001B[39;49m\u001B[43mreshape\u001B[49m((\u001B[38;5;28mlen\u001B[39m(data), \u001B[38;5;241m1\u001B[39m))) \u001B[38;5;66;03m##训练模型\u001B[39;00m\n\u001B[0;32m      7\u001B[0m c \u001B[38;5;241m=\u001B[39m pd\u001B[38;5;241m.\u001B[39mDataFrame(kmodel\u001B[38;5;241m.\u001B[39mcluster_centers_)\u001B[38;5;241m.\u001B[39msort_values(\u001B[38;5;241m0\u001B[39m) \u001B[38;5;66;03m# 输出聚类中心并排序\u001B[39;00m\n\u001B[0;32m      8\u001B[0m w \u001B[38;5;241m=\u001B[39m pd\u001B[38;5;241m.\u001B[39mrolling_mean(c, \u001B[38;5;241m2\u001B[39m)\u001B[38;5;241m.\u001B[39miloc[\u001B[38;5;241m1\u001B[39m:]\n",
      "File \u001B[1;32md:\\big_data_test\\envi\\lib\\site-packages\\pandas\\core\\generic.py:5907\u001B[0m, in \u001B[0;36mNDFrame.__getattr__\u001B[1;34m(self, name)\u001B[0m\n\u001B[0;32m   5900\u001B[0m \u001B[38;5;28;01mif\u001B[39;00m (\n\u001B[0;32m   5901\u001B[0m     name \u001B[38;5;129;01mnot\u001B[39;00m \u001B[38;5;129;01min\u001B[39;00m \u001B[38;5;28mself\u001B[39m\u001B[38;5;241m.\u001B[39m_internal_names_set\n\u001B[0;32m   5902\u001B[0m     \u001B[38;5;129;01mand\u001B[39;00m name \u001B[38;5;129;01mnot\u001B[39;00m \u001B[38;5;129;01min\u001B[39;00m \u001B[38;5;28mself\u001B[39m\u001B[38;5;241m.\u001B[39m_metadata\n\u001B[0;32m   5903\u001B[0m     \u001B[38;5;129;01mand\u001B[39;00m name \u001B[38;5;129;01mnot\u001B[39;00m \u001B[38;5;129;01min\u001B[39;00m \u001B[38;5;28mself\u001B[39m\u001B[38;5;241m.\u001B[39m_accessors\n\u001B[0;32m   5904\u001B[0m     \u001B[38;5;129;01mand\u001B[39;00m \u001B[38;5;28mself\u001B[39m\u001B[38;5;241m.\u001B[39m_info_axis\u001B[38;5;241m.\u001B[39m_can_hold_identifiers_and_holds_name(name)\n\u001B[0;32m   5905\u001B[0m ):\n\u001B[0;32m   5906\u001B[0m     \u001B[38;5;28;01mreturn\u001B[39;00m \u001B[38;5;28mself\u001B[39m[name]\n\u001B[1;32m-> 5907\u001B[0m \u001B[38;5;28;01mreturn\u001B[39;00m \u001B[38;5;28;43mobject\u001B[39;49m\u001B[38;5;241;43m.\u001B[39;49m\u001B[38;5;21;43m__getattribute__\u001B[39;49m\u001B[43m(\u001B[49m\u001B[38;5;28;43mself\u001B[39;49m\u001B[43m,\u001B[49m\u001B[43m \u001B[49m\u001B[43mname\u001B[49m\u001B[43m)\u001B[49m\n",
      "\u001B[1;31mAttributeError\u001B[0m: 'DataFrame' object has no attribute 'reshape'"
     ]
    }
   ],
   "source": [
    "import pandas as pd\n",
    "sheet_name = '因子分析2'\n",
    "df = pd.read_excel(r'./data.xlsx',sheet_name= sheet_name, header= 0, index_col= '编号' )# \n",
    "y = np.array(df['SiO2'])\n",
    "data = KmeanCut(df,4)"
   ]
  },
  {
   "cell_type": "markdown",
   "metadata": {},
   "source": [
    "+ 剔除奇异值"
   ]
  },
  {
   "cell_type": "code",
   "execution_count": null,
   "metadata": {},
   "outputs": [],
   "source": [
    "#剔除奇异值\n",
    "def remove_singular(arr,n):\n",
    "    #创建新数组用于存储原数据\n",
    "    tem_1 = []\n",
    "    tem_2 = []\n",
    "    #取出第一列和第二列数据\n",
    "    for i in range(len(arr)):\n",
    "        tem_1.append(arr[i][0])\n",
    "        tem_2.append(arr[i][1])\n",
    "    tem_1_std = np.std(tem_1, ddof=1)  # 求第一列数据标准差\n",
    "    tem_2_std = np.std(tem_2, ddof=1)\n",
    "    tem_1_mean = np.mean(tem_1)  # 求第一列数据平均值\n",
    "    tem_2_mean = np.mean(tem_2)\n",
    "    #创建新数组用于存储剔除奇异值后的数据\n",
    "    arr1 = []\n",
    "    arr2 = []\n",
    "    #提供一个阈值(此处取数组中数据的平均值+-2倍的标准差为阈值)削去奇异值\n",
    "    for i in range(len(tem_1)):\n",
    "        if tem_1[i] <= tem_1_mean + 2 * tem_1_std and tem_1[i] >= tem_1_mean - 2 * tem_1_std:\n",
    "            arr1.append(tem_1[i])\n",
    "    #展示原数据曲线图\n",
    "    plt.figure('tem_1')\n",
    "    plt.plot(np.linspace(-20,20,len(tem_1)),tem_1)#生成一个数量为len(tem_1)的等间距样本，在区间[-20,20]内\n",
    "    #展示剔除奇异值后的曲线图像\n",
    "    plt.figure('arr1')\n",
    "    plt.plot(np.linspace(-20,20,len(arr1)),arr1)\n",
    "    for j in range(len(tem_2)):\n",
    "        if tem_2[j] <= tem_2_mean + 2 * tem_2_std and tem_2[j] >= tem_2_mean - 2 * tem_2_std:\n",
    "            arr2.append(tem_2[j])\n",
    "    plt.figure('tem_2')\n",
    "    plt.plot(tem_2)\n",
    "    plt.figure('arr2')\n",
    "    plt.plot(arr2)\n",
    "    #滑动平均去高斯噪声\n",
    "    window = np.ones(n)/n\n",
    "    c = np.convolve(arr1,window,'valid')#numpy中的卷积库函数，’valid‘返回的是完全重叠的点，边缘的点无效\n",
    "    d = np.convolve(arr2,window,'valid')\n",
    "    #展示去噪后的图线\n",
    "    plt.figure('c')\n",
    "    plt.plot(c)\n",
    "    plt.figure('d')\n",
    "    plt.plot(d)\n",
    "    plt.show()\n",
    "    return arr1,arr2,c,d"
   ]
  },
  {
   "cell_type": "code",
   "execution_count": null,
   "metadata": {},
   "outputs": [],
   "source": [
    "import pandas as pd\n",
    "import numpy as np\n",
    "import matplotlib.pyplot as plt\n",
    "sheet_name = '因子分析2'\n",
    "df = pd.read_excel(r'./data.xlsx',sheet_name= sheet_name, header= 0, index_col= '编号' )# \n",
    "y = np.array(df.iloc[:,4:6])\n",
    "arr1,arr2,c,d = remove_singular(y,n=2)"
   ]
  },
  {
   "cell_type": "markdown",
   "metadata": {},
   "source": [
    "+ 数据规范化"
   ]
  },
  {
   "cell_type": "code",
   "execution_count": null,
   "metadata": {},
   "outputs": [],
   "source": [
    "#最大最小值规范化以及零均值规范化函数\n",
    "import numpy as np\n",
    "import scipy.io\n",
    "import copy\n",
    "import matplotlib.pyplot as plt\n",
    "def standard(y):\n",
    "    #创建空数组存取第一、二列数\n",
    "    tem_1 = []\n",
    "    tem_2 = []\n",
    "    #取出第一列和第二列数据\n",
    "    for i in range(len(y)):    #此处也可用for i,item in enumerate(y):\n",
    "        tem_1.append(y[i][0])\n",
    "        tem_2.append(y[i][1])\n",
    "    tem_1.sort()#对第一列数据进行排序\n",
    "    tem_2.sort()\n",
    "    max_1 = tem_1[-1]#取出第一列数据最大值\n",
    "    min_1 = tem_1[0]#取出第一列数据最小值\n",
    "    max_2 = tem_2[-1]\n",
    "    min_2 = tem_2[0]\n",
    "    xx = copy.deepcopy(y)#深拷贝以便后序进行零均值规范化\n",
    "    # 最小-最大规范化：\n",
    "    for j in range(len(y)):\n",
    "        y[j][0] = (y[j][0] - min_1)/(max_1 - min_1)#公式为x' = (x - min)/(max - min)映射到[0,1]\n",
    "        y[j][1] = (y[j][1] - min_2)/(max_2 - min_2)\n",
    "    #零均值规范化\n",
    "    tem_1_std = np.std(tem_1, ddof=1)  # 求第一列数据标准差\n",
    "    tem_2_std = np.std(tem_2, ddof=1)\n",
    "    tem_1_mean = np.mean(tem_1)  # 求第一列数据平均值\n",
    "    tem_2_mean = np.mean(tem_2)\n",
    "    for k in range(len(xx)):\n",
    "        xx[k][0] = (xx[k][0] - tem_1_mean)/tem_1_std#公式为x' = (x - mean)/std\n",
    "        xx[k][1] = (xx[k][1] - tem_2_mean)/tem_2_std\n",
    "    print(\"最大最小规范化\",y)\n",
    "    plt.figure('第一列规范化分布')\n",
    "    plt.plot(y[:, 0])\n",
    "    plt.figure('第二列规范化分布')\n",
    "    plt.plot(y[:, 1])\n",
    "    print(\"零均值规范化\",xx)\n",
    "    #画出图像分布用于对比\n",
    "    plt.figure('第一列零均值分布')\n",
    "    plt.plot(xx[:, 0])\n",
    "    plt.figure('第二列零均值分布')\n",
    "    plt.plot(xx[:, 1])\n",
    "    plt.show()\n",
    "\n"
   ]
  },
  {
   "cell_type": "code",
   "execution_count": null,
   "metadata": {
    "scrolled": false
   },
   "outputs": [],
   "source": [
    "import pandas as pd\n",
    "sheet_name = '因子分析2'\n",
    "df = pd.read_excel(r'./data.xlsx',sheet_name= sheet_name, header= 0, index_col= '编号' )# \n",
    "y = np.array(df.iloc[:,1:3])\n",
    "standard(y)"
   ]
  },
  {
   "cell_type": "markdown",
   "metadata": {},
   "source": [
    "+ 实现最小最大、零均值、小数定标规范化、pca降维"
   ]
  },
  {
   "cell_type": "code",
   "execution_count": null,
   "metadata": {
    "collapsed": true
   },
   "outputs": [],
   "source": [
    "\n",
    "import pandas as pd\n",
    "import numpy as np\n",
    "import matplotlib.pyplot as plt\n",
    "from sklearn import decomposition\n",
    "\n",
    "#--------------------------------------------最小-最大规范化--------------------------------------------\n",
    "def MinMax_Normalize(data):\n",
    "    text=(data - data.min())/(data.max() - data.min())          #最小-最大规范化\n",
    "    text.to_excel ('./最小-最大规范化.xlsx',index=None)   #另存为excel（删除索引\n",
    "    return text\n",
    "\n",
    "#--------------------------------------------零-均值规范化--------------------------------------------\n",
    "def ZeroAvg_Normalize(data):\n",
    "    text=(data - data.mean())/data.std() \n",
    "    text.to_excel ('./零-均值规范化.xlsx',index=None)\n",
    "    return text\n",
    "\n",
    "#--------------------------------------------小数定标规范化--------------------------------------------\n",
    "def Float_Normalize(data):\n",
    "    text=data/10**np.ceil(np.log10(data.abs().max())) \n",
    "    text.to_excel ('.小数定标规范化.xlsx',index=None)\n",
    "    return (text)\n",
    "\n",
    "#--------------------------------------------pca降维代码--------------------------------------------\n",
    "\n",
    "def PCA(data):\n",
    "#调用sklearn库实现PCA:\n",
    "    pca = decomposition.PCA()\n",
    "    pca.fit(data)                                         #X_arr是原始数据集，一行表示一个样本，一列表示一个feature\n",
    "    pca.n_components = 2                        #降为1维\n",
    "    X_reduced = pca.fit_transform(data) #X_reduced是降维后的数据集\n",
    "    plt.plot(X_reduced)\n",
    "    plt.show()\n",
    "    return(X_reduced)\n",
    "\n",
    "if __name__ == '__main__':\n",
    "    #读取excel文件：\n",
    "    sheet_name = '因子分析2'\n",
    "    data = pd.read_excel(r'./data.xlsx',sheet_name= sheet_name, header= 0, index_col= '编号' )#\n",
    "#     print(data)\n",
    "    #规范化：\n",
    "    M=MinMax_Normalize(data) \n",
    "    F=Float_Normalize(data)\n",
    "    Z=ZeroAvg_Normalize(data)\n",
    "    print('最小小-最大规范化:\\n', M)\n",
    "    print('小数定标规范化:\\n', F)\n",
    "    print('零-均值规范化:\\n', Z)\n",
    "    #PCA降维：\n",
    "    print('PCA降维：\\n', PCA(data))\n",
    "\n"
   ]
  },
  {
   "cell_type": "code",
   "execution_count": null,
   "metadata": {},
   "outputs": [],
   "source": []
  },
  {
   "cell_type": "code",
   "execution_count": null,
   "metadata": {
    "scrolled": false
   },
   "outputs": [],
   "source": [
    "#coding:utf-8\n",
    "import pandas as pd\n",
    "import numpy as np\n",
    "from scipy.interpolate import lagrange#拉格朗日函数\n",
    "sheet_name = '因子分析2'\n",
    "data = pd.read_excel(r'./data.xlsx',sheet_name= sheet_name, header= 0 )#\n",
    "#自定义列向量插值函数\n",
    "# 过滤异常值，并置为空值\n",
    "data['SiO2'][(data['SiO2'] < 30) | (data['SiO2'] > 80)] = np.NAN\n",
    "print(data)\n",
    "\n",
    "# 自定义列向量插值函数\n",
    "def ployinterp_columns(s, n, k=4):\n",
    "    if n < k:\n",
    "        y = s[list(range(0, n)) + list(range(n + 1, n + k + 1))]\n",
    "    elif n > len(s) - k - 1:\n",
    "        y = s[list(range(n - k, n)) + list(range(n + 1, len(s)))]\n",
    "    else:\n",
    "        y = s[list(range(n - k, n)) + list(range(n + 1, n + k + 1))]  # 取空值处的前后3个数\n",
    "    y = y[y.notnull()]  # 剔除空值\n",
    "    return lagrange(y.index, list(y))(n)  # 插值并返回插值结果\n",
    "\n",
    "\n",
    "# 逐个判断元素是否需要插值\n",
    "for i in data.columns:\n",
    "    for j in range(len(data)):\n",
    "        if (data[i].isnull())[j]:  # 如果为空则插值\n",
    "            print(data[i])\n",
    "            print(ployinterp_columns(data[i], j))\n",
    "            data[i][j] = ployinterp_columns(data[i], j)\n",
    "\n",
    "data.to_excel('lagrange.xlsx')  # 输出结果，写入文件\n"
   ]
  },
  {
   "cell_type": "code",
   "execution_count": null,
   "metadata": {},
   "outputs": [],
   "source": []
  },
  {
   "cell_type": "code",
   "execution_count": null,
   "metadata": {},
   "outputs": [],
   "source": [
    "#coding:utf-8\n",
    "import pandas as pd\n",
    "import numpy as np\n",
    "from scipy.interpolate import lagrange#拉格朗日函数\n",
    "sheet_name = '因子分析2'\n",
    "data = pd.read_excel(r'./data.xlsx',sheet_name= sheet_name, header= 0 )#\n",
    "#自定义列向量插值函数\n",
    "# 过滤异常值，并置为空值\n",
    "data['SiO2'][(data['SiO2'] < 30) | (data['SiO2'] > 80)] = np.NAN\n",
    "print(data)\n",
    "# 分别定义求插商与求w的函数\n",
    "def cal_f(x, y):\n",
    "    \"\"\"\n",
    "    计算插商\n",
    "    \"\"\"\n",
    "    f0 = np.zeros((len(x), len(y)))  # 定义一个存储插商的数组\n",
    "    for k in range(len(y) + 1):  # 遍历列\n",
    "        for i in range(k, len(x)):  # 遍历行\n",
    "            if k == 0:\n",
    "                f0[i, k] = y[i]\n",
    "            else:\n",
    "                f0[i, k] = (f0[i, k - 1] - f0[i - 1, k - 1]) / (x[i] - x[i - 1])\n",
    "    print('差商表', '\\n', f0)\n",
    "    return f0\n",
    "\n",
    "\n",
    "def newton(x, y, x_j):\n",
    "    \"\"\"\n",
    "    牛顿差值多项式\n",
    "    \"\"\"\n",
    "    f0 = cal_f(x, y)  # 计算插商\n",
    "    f0 = f0.diagonal()\n",
    "    # 与w相乘\n",
    "    f1 = 0\n",
    "    for i in range(len(f0)):\n",
    "        s = 1\n",
    "        k = 0\n",
    "        while k < i:\n",
    "            s = s * (x_j - x[k])\n",
    "            k += 1\n",
    "        f1 = f1 + f0[i] * s\n",
    "    return f1\n",
    "\n",
    "\n",
    "# 自定义列向量插值函数\n",
    "def ployinterp_columns(s, n, x_j, k=3):\n",
    "    if n < k:\n",
    "        y = s[list(range(0, n)) + list(range(n + 1, n + k + 1))]\n",
    "    elif n > len(s) - k - 1:\n",
    "        y = s[list(range(n - k, n)) + list(range(n + 1, len(s)))]\n",
    "    else:\n",
    "        y = s[list(range(n - k, n)) + list(range(n + 1, n + k + 1))]  # 取空值处的前后5个数\n",
    "    y = y[y.notnull()]  # 剔除空值\n",
    "    return newton(y.index, list(y), x_j)  # 插值并返回插值结果\n",
    "\n",
    "\n",
    "for i in data.columns:\n",
    "    for j in range(len(data)):\n",
    "        if (data[i].isnull())[j]:\n",
    "            x_j = data.index[j]\n",
    "            print(ployinterp_columns(data[i], j, x_j))\n",
    "            data[i][j] = ployinterp_columns(data[i], j, x_j)\n",
    "\n",
    "data.to_excel('newton.xlsx')\n"
   ]
  },
  {
   "cell_type": "code",
   "execution_count": null,
   "metadata": {},
   "outputs": [],
   "source": []
  }
 ],
 "metadata": {
  "kernelspec": {
   "display_name": "Python 3 (ipykernel)",
   "language": "python",
   "name": "python3"
  },
  "language_info": {
   "codemirror_mode": {
    "name": "ipython",
    "version": 3
   },
   "file_extension": ".py",
   "mimetype": "text/x-python",
   "name": "python",
   "nbconvert_exporter": "python",
   "pygments_lexer": "ipython3",
   "version": "3.10.7"
  }
 },
 "nbformat": 4,
 "nbformat_minor": 1
}