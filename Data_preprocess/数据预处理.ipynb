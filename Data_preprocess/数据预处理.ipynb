{
 "cells": [
  {
   "cell_type": "markdown",
   "metadata": {
    "collapsed": true
   },
   "source": [
    "# 数据预处理¶\n",
    "---\n",
    "现实的数据往往是充满噪声的，⽽没有⾼质量的数据，就没有⾼质量的数据挖掘结果。所以，我们需要对数据进⾏预处理，以提⾼数据的质量。\n",
    "数据的质量涉及许多因素，包括：\n",
    "+ 准确性\n",
    "+ 完整性\n",
    "+ ⼀致性\n",
    "+ 时效性\n",
    "+ 可信性\n",
    "+ 可解释性\n",
    "\n",
    "数据预处理的主要步骤为：\n",
    "+ 数据清理：通过填写缺失值、光滑噪声数据、识别或删除离群点。并解决不⼀致性来“清理”数据\n",
    "+ 数据集成：将多个数据源、数据库集成在⼀个\n",
    "+ 数据规约：将得到的数据进⾏简化，去除冗余数据\n",
    "+ 数据变换：讲数据进⾏规范化、数据离散化和数据分层，可以使得数据挖掘在多个抽象层次上进⾏。\n"
   ]
  },
  {
   "cell_type": "markdown",
   "metadata": {},
   "source": [
    "## 1.数据清洗\n",
    "现实中的数据⼀般是不完整的、有噪声的和不⼀致的。数据清洗试图填充缺失值、光滑噪声并识别离\n",
    "群点和纠正数据中的不⼀致。"
   ]
  },
  {
   "cell_type": "markdown",
   "metadata": {},
   "source": [
    "### 1.1 缺失值\n",
    "有时候我们获取的数据存在缺失值，这个往往⽤NaN来表示。"
   ]
  },
  {
   "cell_type": "code",
   "execution_count": 5,
   "metadata": {
    "scrolled": true
   },
   "outputs": [
    {
     "name": "stdout",
     "output_type": "stream",
     "text": [
      "     a    b    c  d\n",
      "0  1.0  2.0  3.0  4\n",
      "1  2.0  3.0  NaN  7\n",
      "2  NaN  4.0  5.0  8\n",
      "3  4.0  NaN  6.0  9\n",
      "[[False False False False]\n",
      " [False False  True False]\n",
      " [ True False False False]\n",
      " [False  True False False]]\n"
     ]
    }
   ],
   "source": [
    "import numpy as np\n",
    "import pandas as pd\n",
    "import matplotlib.pyplot as plt\n",
    "import scipy.interpolate as interpolate\n",
    "\n",
    "df = pd.DataFrame({'a':[1,2,np.nan,4],          #写的是a这一列的值\n",
    "                   'b':[2,3,4,np.nan],\n",
    "                   'c':[3,np.nan,5,6],\n",
    "                   'd':[4,7,8,9]})\n",
    "\n",
    "a = [1,2,3,4,5,6,9,10,11,12]\n",
    "b = [10,16,21,32,35,43,58,62,67,70]\n",
    "\n",
    "# print('原数据')\n",
    "# print(df)\n",
    "# print(df.isnull())\n",
    "# df.isnull()函数返回df数据帧中的数据是否为NaN值的boolean型数据矩阵，如果数据为NaN，矩阵对应\n",
    "# 位置为True，否则为False\n",
    "print(df)\n",
    "ar = np.array(df)\n",
    "print(np.isnan(ar))"
   ]
  },
  {
   "cell_type": "code",
   "execution_count": 6,
   "metadata": {},
   "outputs": [],
   "source": [
    "class process:\n",
    "    def __init__(self,data,x,y):\n",
    "        self.data = data\n",
    "#         self.a = x\n",
    "#         self.b = y\n",
    "\n",
    "    def delete_data(self,flag):\n",
    "        if flag==True:\n",
    "            data = pd.DataFrame(self.data).dropna()  #删除空值所在的行\n",
    "        if flag == False:\n",
    "            data = pd.DataFrame(self.data).dropna(axis = 1)   #删除空值所在的列\n",
    "        return data\n",
    "\n",
    "    def replace_data(self):\n",
    "        data = pd.DataFrame(self.data).replace(np.nan,100)  # 用固定值代替\n",
    "        return data\n",
    "\n",
    "    def fill_data(self,tag):\n",
    "        if tag == True:\n",
    "            data = pd.DataFrame(self.data).fillna(df.mean())  #用平均值填充\n",
    "        if tag == False:\n",
    "            data = pd.DataFrame(self.data).fillna(method='bfill')  #向后填充  ffill向前填充\n",
    "        return data\n",
    "\n",
    "    def Interpolation(self):\n",
    "        linear = interpolate.interp1d(self.a,self.b,kind='linear')  #线性插值法根据已知数值构建线性方程组，通过求解线性方程组\n",
    "        plt.plot(linear([1,2,3,4,5,6,7,8,9,10,11,12]),'-.')         #获取缺失值\n",
    "        print('线性插值法求出的ss[7:9]=',linear([7,8]))\n",
    "        lagrange = interpolate.lagrange(self.x,self.y)            #多项式插值是通过拟合多项式，通过多项式求解缺失值，多项式插值中\n",
    "        plt.plot(lagrange([1,2,3,4,5,6,7,8,9,10,11,12]),'--')     #最常用的是拉格朗日插值法和牛顿插值法\n",
    "        print('拉格朗日插值法求出的ss[7:9]=',lagrange([7,8]))\n",
    "        plt.show()\n",
    "\n",
    "    def spline(self):\n",
    "        x = np.linspace(-np.pi,np.pi,10)\n",
    "        y = np.sin(x)\n",
    "        plt.plot(x,y)\n",
    "        tck = interpolate.splrep(x,y)\n",
    "        x_new = np.linspace(-np.pi,np.pi,100)\n",
    "        y_spine = interpolate.splev(x_new,tck)\n",
    "        plt.figure()    #同时生成两张图\n",
    "        plt.plot(x_new,y_spine)\n",
    "        plt.show()\n",
    "\n"
   ]
  },
  {
   "cell_type": "code",
   "execution_count": 7,
   "metadata": {},
   "outputs": [
    {
     "name": "stdout",
     "output_type": "stream",
     "text": [
      "输出元数据\n",
      "<__main__.process object at 0x00000259FCBF4070>\n"
     ]
    }
   ],
   "source": [
    "df1 = process(df,a,b)\n",
    "print('输出元数据')\n",
    "print(df1)\n"
   ]
  },
  {
   "cell_type": "code",
   "execution_count": 8,
   "metadata": {},
   "outputs": [
    {
     "name": "stdout",
     "output_type": "stream",
     "text": [
      "删除法处理缺失值\n",
      "     a    b    c  d\n",
      "0  1.0  2.0  3.0  4\n"
     ]
    }
   ],
   "source": [
    "print('删除法处理缺失值')\n",
    "df2 = df1.delete_data(flag=True)\n",
    "print(df2)\n"
   ]
  },
  {
   "cell_type": "code",
   "execution_count": 9,
   "metadata": {},
   "outputs": [
    {
     "name": "stdout",
     "output_type": "stream",
     "text": [
      "固定值替换法处理缺失值\n",
      "       a      b      c  d\n",
      "0    1.0    2.0    3.0  4\n",
      "1    2.0    3.0  100.0  7\n",
      "2  100.0    4.0    5.0  8\n",
      "3    4.0  100.0    6.0  9\n"
     ]
    }
   ],
   "source": [
    "print('固定值替换法处理缺失值')\n",
    "df3 = df1.replace_data()\n",
    "print(df3)\n"
   ]
  },
  {
   "cell_type": "code",
   "execution_count": 10,
   "metadata": {},
   "outputs": [
    {
     "name": "stdout",
     "output_type": "stream",
     "text": [
      "填充法处理缺失值\n",
      "     a    b    c  d\n",
      "0  1.0  2.0  3.0  4\n",
      "1  2.0  3.0  5.0  7\n",
      "2  4.0  4.0  5.0  8\n",
      "3  4.0  NaN  6.0  9\n"
     ]
    }
   ],
   "source": [
    "print('填充法处理缺失值')\n",
    "df4 = df1.fill_data(tag=False)\n",
    "print(df4)\n"
   ]
  },
  {
   "cell_type": "code",
   "execution_count": 11,
   "metadata": {},
   "outputs": [
    {
     "name": "stdout",
     "output_type": "stream",
     "text": [
      "插值法处理缺失值\n"
     ]
    },
    {
     "ename": "AttributeError",
     "evalue": "'process' object has no attribute 'a'",
     "output_type": "error",
     "traceback": [
      "\u001B[1;31m---------------------------------------------------------------------------\u001B[0m",
      "\u001B[1;31mAttributeError\u001B[0m                            Traceback (most recent call last)",
      "Cell \u001B[1;32mIn [11], line 2\u001B[0m\n\u001B[0;32m      1\u001B[0m \u001B[38;5;28mprint\u001B[39m(\u001B[38;5;124m'\u001B[39m\u001B[38;5;124m插值法处理缺失值\u001B[39m\u001B[38;5;124m'\u001B[39m)\n\u001B[1;32m----> 2\u001B[0m df5 \u001B[38;5;241m=\u001B[39m \u001B[43mdf1\u001B[49m\u001B[38;5;241;43m.\u001B[39;49m\u001B[43mInterpolation\u001B[49m\u001B[43m(\u001B[49m\u001B[43m)\u001B[49m\n\u001B[0;32m      3\u001B[0m \u001B[38;5;28mprint\u001B[39m(df5)\n\u001B[0;32m      4\u001B[0m \u001B[38;5;28mprint\u001B[39m(\u001B[38;5;124m'\u001B[39m\u001B[38;5;124m样条插值法处理缺失值\u001B[39m\u001B[38;5;124m'\u001B[39m)\n",
      "Cell \u001B[1;32mIn [6], line 26\u001B[0m, in \u001B[0;36mprocess.Interpolation\u001B[1;34m(self)\u001B[0m\n\u001B[0;32m     25\u001B[0m \u001B[38;5;28;01mdef\u001B[39;00m \u001B[38;5;21mInterpolation\u001B[39m(\u001B[38;5;28mself\u001B[39m):\n\u001B[1;32m---> 26\u001B[0m     linear \u001B[38;5;241m=\u001B[39m interpolate\u001B[38;5;241m.\u001B[39minterp1d(\u001B[38;5;28;43mself\u001B[39;49m\u001B[38;5;241;43m.\u001B[39;49m\u001B[43ma\u001B[49m,\u001B[38;5;28mself\u001B[39m\u001B[38;5;241m.\u001B[39mb,kind\u001B[38;5;241m=\u001B[39m\u001B[38;5;124m'\u001B[39m\u001B[38;5;124mlinear\u001B[39m\u001B[38;5;124m'\u001B[39m)  \u001B[38;5;66;03m#线性插值法根据已知数值构建线性方程组，通过求解线性方程组\u001B[39;00m\n\u001B[0;32m     27\u001B[0m     plt\u001B[38;5;241m.\u001B[39mplot(linear([\u001B[38;5;241m1\u001B[39m,\u001B[38;5;241m2\u001B[39m,\u001B[38;5;241m3\u001B[39m,\u001B[38;5;241m4\u001B[39m,\u001B[38;5;241m5\u001B[39m,\u001B[38;5;241m6\u001B[39m,\u001B[38;5;241m7\u001B[39m,\u001B[38;5;241m8\u001B[39m,\u001B[38;5;241m9\u001B[39m,\u001B[38;5;241m10\u001B[39m,\u001B[38;5;241m11\u001B[39m,\u001B[38;5;241m12\u001B[39m]),\u001B[38;5;124m'\u001B[39m\u001B[38;5;124m-.\u001B[39m\u001B[38;5;124m'\u001B[39m)         \u001B[38;5;66;03m#获取缺失值\u001B[39;00m\n\u001B[0;32m     28\u001B[0m     \u001B[38;5;28mprint\u001B[39m(\u001B[38;5;124m'\u001B[39m\u001B[38;5;124m线性插值法求出的ss[7:9]=\u001B[39m\u001B[38;5;124m'\u001B[39m,linear([\u001B[38;5;241m7\u001B[39m,\u001B[38;5;241m8\u001B[39m]))\n",
      "\u001B[1;31mAttributeError\u001B[0m: 'process' object has no attribute 'a'"
     ]
    }
   ],
   "source": [
    "print('插值法处理缺失值')\n",
    "df5 = df1.Interpolation()\n",
    "print(df5)\n",
    "print('样条插值法处理缺失值')\n",
    "df1.spline()"
   ]
  },
  {
   "cell_type": "code",
   "execution_count": null,
   "metadata": {},
   "outputs": [],
   "source": [
    "import numpy as np\n",
    "import pandas as pd\n",
    "raw_data = {'first_name': ['Jason', np.nan, 'Tina', 'Jake', 'Amy'],\n",
    "'last_name': ['Miller', np.nan, 'Ali', 'Milner', 'Cooze'],\n",
    "'age': [42, np.nan, 36, 24, 73],\n",
    "'sex': ['m', np.nan, 'f', 'm', 'f'],\n",
    "'preTestScore': [4, np.nan, np.nan, 2, 3],\n",
    "'postTestScore': [25, np.nan, np.nan, 62, 70]}\n",
    "df = pd.DataFrame(raw_data)\n",
    "df"
   ]
  },
  {
   "cell_type": "markdown",
   "metadata": {
    "pycharm": {
     "is_executing": true
    }
   },
   "source": [
    "+ scipy.interpolate.lagrange"
   ]
  },
  {
   "cell_type": "code",
   "execution_count": null,
   "metadata": {},
   "outputs": [],
   "source": [
    "from scipy.interpolate import lagrange\n",
    "import numpy as np\n",
    "x = np.array([0, 1, 2])\n",
    "y = x**3\n",
    "poly = lagrange(x, y)"
   ]
  },
  {
   "cell_type": "code",
   "execution_count": null,
   "metadata": {},
   "outputs": [],
   "source": [
    "from numpy.polynomial.polynomial import Polynomial\n",
    "Polynomial(poly.coef[::-1]).coef"
   ]
  },
  {
   "cell_type": "code",
   "execution_count": null,
   "metadata": {},
   "outputs": [],
   "source": [
    "import matplotlib.pyplot as plt\n",
    "x_new = np.arange(0, 2.1, 0.1)\n",
    "plt.scatter(x, y, label='data')\n",
    "plt.plot(x_new, Polynomial(poly.coef[::-1])(x_new), label='Polynomial')\n",
    "plt.plot(x_new, 3*x_new**2 - 2*x_new + 0*x_new,\n",
    "         label=r\"$3 x^2 - 2 x$\", linestyle='-.')\n",
    "plt.legend()\n",
    "plt.show()"
   ]
  },
  {
   "cell_type": "markdown",
   "metadata": {},
   "source": [
    "**忽略缺失值**\n",
    "\n",
    "当缺失值较少的时候，我们可以丢弃缺失的元组，⽽缺失值较多的时候，我们需要采取别的⽅法"
   ]
  },
  {
   "cell_type": "code",
   "execution_count": null,
   "metadata": {},
   "outputs": [],
   "source": [
    "## 判断缺失值\n",
    "df.isnull()"
   ]
  },
  {
   "cell_type": "code",
   "execution_count": null,
   "metadata": {},
   "outputs": [],
   "source": [
    "## 删除缺失值所在的元组（⾏）\n",
    "df.dropna(axis=0)"
   ]
  },
  {
   "cell_type": "markdown",
   "metadata": {},
   "source": [
    "**⼈⼯填写缺失值**\n",
    "\n",
    "该⽅法对少数缺失值有效，但费时，且当数据⾮常⼤时难以实现"
   ]
  },
  {
   "cell_type": "code",
   "execution_count": null,
   "metadata": {},
   "outputs": [],
   "source": [
    "## 将序号 1 的年龄填写为30\n",
    "df_manual = df.copy()\n",
    "df_manual.loc[1,'age'] = 30\n",
    "df_manual"
   ]
  },
  {
   "cell_type": "markdown",
   "metadata": {},
   "source": [
    "**使⽤⼀个全局常量填充缺失值**"
   ]
  },
  {
   "cell_type": "code",
   "execution_count": null,
   "metadata": {},
   "outputs": [],
   "source": [
    "## ⽤999填充缺失值\n",
    "df.fillna(value=999)"
   ]
  },
  {
   "cell_type": "markdown",
   "metadata": {},
   "source": [
    "**使⽤属性中⼼度填充缺失值**"
   ]
  },
  {
   "cell_type": "code",
   "execution_count": null,
   "metadata": {},
   "outputs": [],
   "source": [
    "## 给定元组均值\n",
    "df.fillna(value=df.mean())"
   ]
  },
  {
   "cell_type": "markdown",
   "metadata": {},
   "source": [
    "**使⽤最可能的值填充缺失值**\n",
    "\n",
    "可使⽤是回归、⻉叶斯等⽅法确定最可能的值。也可以使⽤插值法填充。"
   ]
  },
  {
   "cell_type": "code",
   "execution_count": null,
   "metadata": {},
   "outputs": [],
   "source": [
    "## 使⽤上⼀个值替代\n",
    "df.fillna(method='ffill')"
   ]
  },
  {
   "cell_type": "code",
   "execution_count": null,
   "metadata": {},
   "outputs": [],
   "source": [
    "##使⽤线性插值法填充\n",
    "df.interpolate()"
   ]
  },
  {
   "cell_type": "markdown",
   "metadata": {},
   "source": [
    "## 1.2 噪声数据\n",
    "噪声（noise）是被测量的变量的随机误差或⽅差。\n",
    "\n",
    "分箱（binning）\n",
    "\n",
    "分箱通过查考数据的“临近”即周围值来光滑有序数据值。由于分箱⽅法考察邻近值，因此它进⾏的是局部光滑。\n",
    "\n",
    "将数据分为个等频的箱中，可以⽤箱均值、箱中位数或箱边界光滑数据"
   ]
  },
  {
   "attachments": {
    "e671c47453f093c3672b07e943f05c85_webp.webp": {
     "image/webp": "[encoded data removed]"
    }
   },
   "cell_type": "markdown",
   "metadata": {},
   "source": [
    "+ 异常值判别\n",
    "![e671c47453f093c3672b07e943f05c85_webp.webp](attachment:e671c47453f093c3672b07e943f05c85_webp.webp)"
   ]
  },
  {
   "cell_type": "code",
   "execution_count": null,
   "metadata": {},
   "outputs": [],
   "source": [
    "import pandas as pd\n",
    "import numpy as np\n",
    "import matplotlib.pyplot as plt\n",
    "plt.rcParams['font.sans-serif'] = ['SimHei']     # 用来显示中文标签\n",
    "plt.rcParams['axes.unicode_minus'] = False       # 用来正常显示负号\n",
    "plt.style.use('_mpl-gallery')\n",
    "# 生成异常数据\n",
    "# df = pd.DataFrame({'coll' : [1, 58, 3, 5, 2, 12, 13], 'col2' : [12, 17, 31, 53, 22, 32, 43]})\n",
    "# print(df)\n",
    "\n",
    "sheet_name = '因子分析2'\n",
    "df = pd.read_excel(r'./data.xlsx',sheet_name= sheet_name, header= 0) # , index_col= '编号'\n",
    "x = df['编号']\n",
    "y = df['SiO2']\n",
    "# plot\n",
    "fig, ax1 = plt.subplots()\n",
    "ax1.plot(x, y, linewidth=2.0)\n",
    "ax1.set(xlim=(x.min(), x.max()), xticks=np.arange(x.min(), x.max(), step= 2),\n",
    "       ylim=(y.min(), y.max()), yticks=np.arange(y.min(), y.max(),step= 10))\n",
    "\n",
    "fig, ax2 = plt.subplots()\n",
    "ax2.bar(x, y, linewidth=2.0)\n",
    "ax2.set(xlim=(x.min(), x.max()), xticks=np.arange(x.min(), x.max(), step= 2),\n",
    "       ylim=(y.min(), y.max()), yticks=np.arange(y.min(), y.max(),step= 10))\n",
    "\n",
    "fig, ax3= plt.subplots()\n",
    "ax3.boxplot(y)\n",
    "# ax3.set(xlim=(x.min(), x.max()), xticks=np.arange(x.min(), x.max(), step= 1),\n",
    "#        ylim=(y.min(), y.max()), yticks=np.arange(y.min(), y.max(),step= 10))\n",
    "\n",
    "fig, ax4= plt.subplots()\n",
    "ax4.violinplot(y)\n",
    "\n",
    "plt.show()\n",
    "import seaborn as sns\n",
    "sns.violinplot(y=y)\n",
    "# sns.violinplot(data = df.iloc[0:,1:2])\n"
   ]
  },
  {
   "cell_type": "markdown",
   "metadata": {},
   "source": [
    "- 3σ准则"
   ]
  },
  {
   "cell_type": "code",
   "execution_count": null,
   "metadata": {},
   "outputs": [],
   "source": [
    "import pandas as pd\n",
    "\n",
    "# 生成异常数据\n",
    "# df = pd.DataFrame({'coll' : [1, 58, 3, 5, 2, 12, 13], 'col2' : [12, 17, 31, 53, 22, 32, 43]})\n",
    "# print(df)\n",
    "\n",
    "sheet_name = '因子分析2'\n",
    "df = pd.read_excel(r'./data.xlsx',sheet_name= sheet_name, header= 0, index_col= '编号')\n",
    "\n",
    "# 通过Z-Score方法判断异常值\n",
    "# pandas中，如果b = a，则b is a。所以想要复制它的值，但不关联，就必须深度复制，b = a.copy()。\n",
    "df_zscore = df.copy()       # 通过df.copy()复制一个原始数据框的副本用来存储Z-Score标准化后的得分      \n",
    "cols = df.columns           # 获得数据框的列名\n",
    "for col in cols:\n",
    "    df_col = df[col]        # 得到每列的值\n",
    "#     print(df_col)\n",
    "    mean = df_col.mean()\n",
    "    std = df_col.std()\n",
    "    print('平均值',mean)\n",
    "    print('3倍标准差',3* std)\n",
    "#     z_score = (df_col - df_col.mean())/df_col.std()     # 计算每列的Z-score得分\n",
    "#     print(abs((df_col- mean)))\n",
    "    df_zscore[col] = abs((df_col- mean)) > 3 * std             # 判断Z-score得分是否大于2.2，如果是则是True,否则为False\n",
    "\n",
    "print(df_zscore)    \n"
   ]
  },
  {
   "cell_type": "code",
   "execution_count": null,
   "metadata": {},
   "outputs": [],
   "source": [
    "import numpy as np\n",
    "import pandas as pd\n",
    "#设置需读取文件的路径\n",
    "sheet_name = '因子分析2'\n",
    "data = pd.read_excel(r'./data.xlsx',sheet_name= sheet_name, header= 0, index_col= '编号')\n",
    "# print(data)\n",
    "# 记录方差大于3倍的值\n",
    "#shape[0]记录行数，shape[1]记录列数\n",
    "sigmayb = [0]*data.shape[0]\n",
    "\n",
    "for i in range(0,data.shape[1]):\n",
    "    print(\"处理第\"+str(i)+\"列\")\n",
    "    # 循环 每一列\n",
    "    lie = data.iloc[:, i].to_numpy()\n",
    "    #        print(lie)\n",
    "    mea = np.mean(lie)\n",
    "    s = np.std(lie, ddof=1)\n",
    "    # 计算每一列 均值 mea 标准差 s\n",
    "    print(\"均值和标准差分别为：\"+str(mea)+\" \"+str(s))\n",
    "    #统计大于三倍方差的行\n",
    "    for t in range(0,data.shape[0]):\n",
    "        if (abs(lie[t]-mea) > 3*s):\n",
    "            print(\">3sigma\"+\" \"+str(t)+\" \"+str(i))\n",
    "        #将异常值置空\n",
    "        #            data.iloc[t,i]=' '\n",
    "        #平均值代替异常值\n",
    "            data.iloc[t,i]=mea\n",
    "    print('__________________________')\n",
    "#将处理后的数据存储到原文件中\n",
    "data.to_excel(r'./data11.xlsx',sheet_name= sheet_name + '异常值为空', header= True, columns=data.columns)\n"
   ]
  },
  {
   "cell_type": "code",
   "execution_count": null,
   "metadata": {},
   "outputs": [],
   "source": [
    "import numpy as np   #载入numpy库\n",
    "import pandas as pd   #载入pandas库\n",
    "sheet_name = '因子分析2'\n",
    "data = pd.read_excel(r'./data.xlsx',sheet_name= sheet_name, header= 0, index_col= '编号')\n",
    "# print(data.columns)\n",
    "# data.head(5)   #显示数据集的前5行\n",
    "# print(data.shape[0])   #显示数据集的行数\n",
    "# print(data.shape[1])   #显示数据集的列数\n",
    "def three_sigma(x):   #传入某变量  \n",
    "    mean_value = x.mean()   #计算该变量的均值  \n",
    "    std_value = x.std()   #计算该变量的标准差  \n",
    "    rule = (mean_value - 3 * std_value > x) | (x.mean() + 3 * x.std() < x)   #处于(mean-3std,mean+3std)区间外的数据为异常值\n",
    "    index = np.arange(x.shape[0])[rule]   #获取异常值的行位置索引  \n",
    "    outlier = x.iloc[index]   #获取异常值的数据  \n",
    "    print(outlier)\n",
    "    return outlier   #返回异常值的数据\n",
    "\n",
    "# print(three_sigma(data[\"SiO2\"]))   #显示变量\"fixed acidity\"的异常值\n",
    "for col in data.columns:\n",
    "    three_sigma(data[col])\n",
    "    "
   ]
  },
  {
   "cell_type": "markdown",
   "metadata": {},
   "source": [
    "- 箱型图判断"
   ]
  },
  {
   "cell_type": "code",
   "execution_count": null,
   "metadata": {},
   "outputs": [],
   "source": [
    "import pandas as pd\n",
    "sheet_name = '因子分析2'\n",
    "data = pd.read_excel(r'./data.xlsx',sheet_name= sheet_name, header= 0, index_col= '编号')\n",
    "data.head()\n",
    "\n",
    "import matplotlib.pyplot as plt\n",
    "plt.rcParams['font.sans-serif'] = ['SimHei']     # 用来显示中文标签\n",
    "plt.rcParams['axes.unicode_minus'] = False       # 用来正常显示负号\n",
    "\n",
    "# data = data['SiO2']\n",
    "\n",
    "plt.figure()\n",
    "p = data.boxplot(return_type='dict')                   # 画箱线图，直接使用DataFrame方法\n",
    "x = p['fliers'][0].get_xdata()       # 'flies'为异常值的标签\n",
    "y = p['fliers'][0].get_ydata()\n",
    "y.sort()\n",
    "print(x)\n",
    "print(y)\n",
    "# 用annotate添加注释\n",
    "# 其中有些相近的点，注释会出现重叠，难以看清，需要一些技巧来控制\n",
    "# 以下参数都是经过调试的，需要具体问题具体调试\n",
    "for i in range(len(x)):\n",
    "    if i>0:\n",
    "        plt.annotate(y[i], xy = (x[i], y[i]), xytext=(x[i]+0.05 - 0.8/(y[i]-y[i-1]),y[i]))\n",
    "    else:\n",
    "        plt.annotate(y[i], xy = (x[i], y[i]), xytext=(x[i]+0.08,y[i]))\n",
    "plt.show()"
   ]
  },
  {
   "cell_type": "markdown",
   "metadata": {},
   "source": [
    "Z-Score判断"
   ]
  },
  {
   "cell_type": "code",
   "execution_count": null,
   "metadata": {},
   "outputs": [],
   "source": [
    "import pandas as pd\n",
    "\n",
    "df = pd.DataFrame({'col1': [1, 120, 3, 5, 2, 12, 13],\n",
    "                   'col2' : [12, 17, 31, 53, 22, 32, 43]})\n",
    "print(df)\n",
    "\n",
    "# 通过Z-Score方法判断异常值\n",
    "df_zscore = df.copy()   # 通过df.copy()复制一个原始数据框的副本用来存储Z-Score标准化后的得分\n",
    "for col in df.columns:\n",
    "    z_score = (df[col] - df[col].mean()) / df[col].std()\n",
    "    df_zscore[col] = z_score.abs() > 2.2    # 判断Z-score得分是否大于2.2，如果是则是True,否则为False\n",
    "print(df_zscore)"
   ]
  },
  {
   "cell_type": "code",
   "execution_count": null,
   "metadata": {},
   "outputs": [],
   "source": [
    "# 噪声数据检测\n",
    "import pandas as pd\n",
    "import numpy as np\n",
    "import matplotlib.pyplot as plt\n",
    "\n",
    "df = pd.DataFrame({'a':[1,2,33,4],\n",
    "                   'b':[5,6,7,8],\n",
    "                   'c':[9,10,11,122],\n",
    "                   'd':[13,14,15,16]})\n",
    "\n",
    "df['e'] = [1,2,3,4]   # 添加一列e\n",
    "print(df)\n",
    "df.boxplot()        # 画箱型图\n",
    "df.plot(kind='scatter',x='e',y='e')   # 画散点图\n",
    "plt.show()"
   ]
  },
  {
   "cell_type": "code",
   "execution_count": null,
   "metadata": {},
   "outputs": [],
   "source": [
    "data_price = np.array([15,4,8,21,28,21,24,25,34])\n",
    "data_price"
   ]
  },
  {
   "cell_type": "code",
   "execution_count": null,
   "metadata": {},
   "outputs": [],
   "source": [
    "## 对数据进⾏排序\n",
    "data_price.sort()\n",
    "data_price"
   ]
  },
  {
   "cell_type": "code",
   "execution_count": null,
   "metadata": {},
   "outputs": [],
   "source": [
    "## 将数据进⾏分箱， 分3个箱\n",
    "data_box = data_price.reshape([3,-1])\n",
    "data_box"
   ]
  },
  {
   "cell_type": "code",
   "execution_count": null,
   "metadata": {},
   "outputs": [],
   "source": [
    "## ⽤箱均值光滑\n",
    "np.repeat(data_box.mean(axis=1), 3)"
   ]
  },
  {
   "cell_type": "code",
   "execution_count": null,
   "metadata": {},
   "outputs": [],
   "source": [
    "## ⽤箱中位数光滑\n",
    "np.repeat(np.median(data_box, axis=1), 3)"
   ]
  },
  {
   "cell_type": "code",
   "execution_count": null,
   "metadata": {},
   "outputs": [],
   "source": [
    "from scipy import stats\n",
    "values = [1.0, 1.0, 2.0, 1.5, 3.0]\n",
    "stats.binned_statistic([1, 1, 2, 5, 7], values, 'mean', bins=3)"
   ]
  },
  {
   "cell_type": "code",
   "execution_count": null,
   "metadata": {},
   "outputs": [],
   "source": [
    "## ⽤箱边界光滑\n",
    "np.repeat(data_box.max(axis=1), 3)"
   ]
  },
  {
   "cell_type": "markdown",
   "metadata": {},
   "source": [
    "### 重复数据处理"
   ]
  },
  {
   "cell_type": "code",
   "execution_count": null,
   "metadata": {},
   "outputs": [],
   "source": [
    "import pandas as pd\n",
    "import numpy as np\n",
    "\n",
    "df = pd.DataFrame({'a':np.random.randint(1,3,1000),'b':np.random.randint(3,5,1000),\n",
    "                   'c':np.random.randint(5,7,1000)})\n",
    "print('原数据\\n',df)\n",
    "print('原数据shape',df.shape)\n",
    "# print(df.duplicated()[1])\n",
    "num_false = 0\n",
    "num_true = 0\n",
    "for i in range(df.shape[0]):\n",
    "    if (df.duplicated()[i] == True):\n",
    "        num_true = num_true+1\n",
    "    else:\n",
    "        num_false = num_false+1\n",
    "print('不重复的行（第一次出现）',num_false)\n",
    "print('重复行',num_true)\n",
    "print(df.duplicated())\n",
    "df1 = df.drop_duplicates()\n",
    "print('去重后的数据shape',df1.shape)\n",
    "print('去重后原数据shape不变',df.shape)\n",
    "'''\n",
    "drop_duplicates()函数可以删除重复记录。\n",
    "参数subset用于识别重复的列标签或列标签序列，默认None表示所有列标签\n",
    "参数keep是特定字符串，表示重复时保留哪个记录数据。first表示第一条，last表示保留最后一条\n",
    "false表示重复的都不保留，默认为first\n",
    "参数inplace是一个布尔值，表示是否在原数据上进行操作，默认为False，当inplace为True时，drop_duplicates()函数\n",
    "没有返回值，原DataFrame数据发生修改。\n",
    "'''\n",
    "df.drop_duplicates(subset=('a','b'),keep='last',inplace=True)\n",
    "print(df)\n",
    "print(df.shape)"
   ]
  },
  {
   "attachments": {
    "1665192926312.png": {
     "image/png": "[encoded data removed]"
    }
   },
   "cell_type": "markdown",
   "metadata": {},
   "source": [
    "## 2. 数据规范化\n",
    "### 2.1 最⼤最⼩规范化(min-max scaled)\n",
    "![1665192926312.png](attachment:1665192926312.png)"
   ]
  },
  {
   "cell_type": "code",
   "execution_count": null,
   "metadata": {},
   "outputs": [],
   "source": [
    "## min-max scale\n",
    "from sklearn import preprocessing\n",
    "X_train = np.array([[ 1., -1., 2.],\n",
    "                    [ 2., 0., 0.],\n",
    "                    [ 0., 1., -1.]])\n",
    "min_max_scaler = preprocessing.MinMaxScaler() # 默认各列数按照均值归一化到【0，1】区间\n",
    "X_train_minmax = min_max_scaler.fit_transform(X_train)\n",
    "X_train_minmax"
   ]
  },
  {
   "cell_type": "code",
   "execution_count": null,
   "metadata": {},
   "outputs": [],
   "source": [
    "## min-max scale\n",
    "from sklearn import preprocessing\n",
    "X_train = np.array([[ 1., -1., 2.],\n",
    "                    [ 2., 0., 0.],\n",
    "                    [ 0., 1., -1.]])\n",
    "min_max_scaler = preprocessing.MaxAbsScaler() # 默认各列数按照均值归一化到【-1，1】区间\n",
    "X_train_minmax = min_max_scaler.fit_transform(X_train)\n",
    "X_train_minmax"
   ]
  },
  {
   "cell_type": "code",
   "execution_count": null,
   "metadata": {},
   "outputs": [],
   "source": [
    "import pandas as pd\n",
    "from sklearn.preprocessing import MinMaxScaler\n",
    "data = pd.DataFrame(\n",
    "    {\n",
    "        'a':[1,2,3],\n",
    "        'b':[5,6,6],\n",
    "        'c':[9,100,2]\n",
    "    }\n",
    ")\n",
    "print(data.values)\n",
    "#归一化(MinMaxScaler)\n",
    "min_max_scaler = MinMaxScaler(feature_range=[0,10])\n",
    "min_max_scaler_data=min_max_scaler.fit_transform(data)\n",
    "print(min_max_scaler_data)"
   ]
  },
  {
   "attachments": {
    "1665193397995.png": {
     "image/png": "[encoded data removed]"
    }
   },
   "cell_type": "markdown",
   "metadata": {},
   "source": [
    "### 2.2 Z-score 规范化（零均值规范化）\n",
    "![1665193397995.png](attachment:1665193397995.png)"
   ]
  },
  {
   "cell_type": "code",
   "execution_count": null,
   "metadata": {},
   "outputs": [],
   "source": [
    "X_scaled = preprocessing.scale(X_train)\n",
    "X_scaled\n"
   ]
  },
  {
   "cell_type": "code",
   "execution_count": null,
   "metadata": {},
   "outputs": [],
   "source": [
    "X_scaled.mean()"
   ]
  },
  {
   "cell_type": "code",
   "execution_count": null,
   "metadata": {},
   "outputs": [],
   "source": [
    "X_scaled.var()"
   ]
  },
  {
   "attachments": {
    "1665193686582.png": {
     "image/png": "[encoded data removed]"
    }
   },
   "cell_type": "markdown",
   "metadata": {},
   "source": [
    "### 2.3⼩数定标\n",
    "![1665193686582.png](attachment:1665193686582.png)"
   ]
  },
  {
   "cell_type": "code",
   "execution_count": null,
   "metadata": {},
   "outputs": [],
   "source": [
    "X_train / 10"
   ]
  },
  {
   "cell_type": "markdown",
   "metadata": {},
   "source": [
    "### 2.4 连续数据离散化\n"
   ]
  },
  {
   "cell_type": "markdown",
   "metadata": {},
   "source": [
    "+ 等宽法"
   ]
  },
  {
   "cell_type": "code",
   "execution_count": null,
   "metadata": {},
   "outputs": [],
   "source": [
    "import pandas as pd\n",
    "ages=[20,22,25,27,21,23,37,31,61,45,41,32]\n",
    "# 返回的是一个特殊的Categorical对象 → 一组表示面元名称的字符串\n",
    "bins = [18,25,35,60,100]\n",
    "cats = pd.cut(ages,bins)\n",
    "print(cats)\n",
    "print(type(cats))\n",
    "print('-------')"
   ]
  },
  {
   "cell_type": "code",
   "execution_count": null,
   "metadata": {},
   "outputs": [],
   "source": [
    "# cut结果含有一个表示不同分类名称的层级数组以及一个年龄数据进行标号的代号属性\n",
    "print(cats.codes, type(cats.codes))  # 0-3对应分组后的四个区间，用代号来注释数据对应区间，结果为ndarray\n",
    "print(cats.categories, type(cats.categories))  # 四个区间，结果为index\n",
    "print(pd.value_counts(cats))  # 按照区间计数\n",
    "print('-------')\n"
   ]
  },
  {
   "cell_type": "code",
   "execution_count": null,
   "metadata": {},
   "outputs": [],
   "source": [
    "# 通过right函数修改闭端，默认为True\n",
    "print(pd.cut(ages,[18,26,36,61,100],right=False))\n",
    "print('-------')"
   ]
  },
  {
   "cell_type": "code",
   "execution_count": null,
   "metadata": {},
   "outputs": [],
   "source": [
    "# 可以设置自己的区间名称，用labels参数\n",
    "group_names=['Youth','YoungAdult','MiddleAged','Senior']\n",
    "print(pd.cut(ages,bins,labels=group_names))\n",
    "print('-------')"
   ]
  },
  {
   "cell_type": "code",
   "execution_count": null,
   "metadata": {},
   "outputs": [],
   "source": [
    "# 对一个Dataframe数据进行离散化，并计算各个区间的数据计数\n",
    "df = pd.DataFrame({'ages':ages})\n",
    "group_names=['Youth','YoungAdult','MiddleAged','Senior']\n",
    "s = pd.cut(df['ages'],bins)  # 也可以 pd.cut(df['ages'],5),将数据等分为5份\n",
    "df['label'] = s\n",
    "cut_counts = s.value_counts(sort=False) \n",
    "print(df)\n",
    "print(cut_counts)\n"
   ]
  },
  {
   "cell_type": "code",
   "execution_count": null,
   "metadata": {},
   "outputs": [],
   "source": [
    "# 用散点图表示，其中颜色按照codes分类\n",
    "# 注意codes是来自于Categorical对象\n",
    "plt.scatter(df.index,df['ages'],cmap = 'Reds',c = cats.codes)\n",
    "plt.grid()"
   ]
  },
  {
   "cell_type": "code",
   "execution_count": null,
   "metadata": {},
   "outputs": [],
   "source": [
    "#-*- coding:utf-8 -*- #数据离散化-等宽离散\n",
    "import pandas as pd\n",
    "sheet_name = '因子分析2'\n",
    "data = pd.read_excel(r'./data.xlsx',sheet_name= sheet_name, header= 0, index_col= '编号')\n",
    "\n",
    "data = data[u'有机含量'].copy()\n",
    "k = 5 #设置离散之后的数据段为5 #等宽离散 \n",
    "d1 = pd.cut(data,k,labels =range(k))#将回款金额等宽分成k类，命名为0,1,2,3,4,5，data经过cut之后生成了第一列为索引，第二列为当前行的回款金额被划分为0-5的哪一类，属于3这一类的第二列就显示为3\n",
    "\n",
    "def cluster_plot(d,k):\n",
    "    import matplotlib.pyplot as plt\n",
    "    plt.rcParams['font.sans-serif'] = ['SimHei']\n",
    "    plt.rcParams['axes.unicode_minus']= False \n",
    "    plt.figure(figsize = (12,4)) \n",
    "    for j in range(0,k):\n",
    "        plt.plot(data[d==j],[j for i in d[d==j]],'o')\n",
    "        plt.ylim(-0.5, k-0.5) \n",
    "    return plt \n",
    "cluster_plot(d1,k).show()"
   ]
  },
  {
   "cell_type": "markdown",
   "metadata": {},
   "source": [
    "+ 等频法\n",
    "→ 以相同数量的记录放进每个区间\n",
    "\n",
    "qcut → 根据样本分位数对数据进行面元划分，得到大小基本相等的面元，但并不能保证每个面元含有相同数据个数\n",
    "\n",
    "可以设置自定义的分位数（0到1之间的数值，包含端点） → pd.qcut(data1,[0,0.1,0.5,0.9,1])\n"
   ]
  },
  {
   "cell_type": "code",
   "execution_count": null,
   "metadata": {},
   "outputs": [],
   "source": [
    "data = np.random.randn(1000)\n",
    "s = pd.Series(data)\n",
    "cats = pd.qcut(s,4)  # 按四分位数进行切割，可以试试 pd.qcut(data,10)\n",
    "print(cats.head())\n",
    "print(pd.value_counts(cats))\n",
    "print('------')\n"
   ]
  },
  {
   "cell_type": "code",
   "execution_count": null,
   "metadata": {},
   "outputs": [],
   "source": [
    "# 用散点图表示，其中颜色按照codes分类\n",
    "# 注意codes是来自于Categorical对象\n",
    "plt.scatter(s.index,s,cmap = 'Greens',c = pd.qcut(data,4).codes)\n",
    "plt.xlim([0,1000])\n",
    "plt.grid()"
   ]
  },
  {
   "cell_type": "code",
   "execution_count": null,
   "metadata": {},
   "outputs": [],
   "source": [
    "#-*- coding:utf-8 -*- #数据离散化-等频离散\n",
    "import pandas as pd\n",
    "sheet_name = '因子分析2'\n",
    "data = pd.read_excel(r'./data.xlsx',sheet_name= sheet_name, header= 0, index_col= '编号')\n",
    "\n",
    "data = data[u'有机含量'].copy()\n",
    "k = 5 #设置离散之后的数据段为5 #等宽离散 \n",
    "w = [1.0*i/k for i in range(k+1)]\n",
    "w = data.describe(percentiles = w)[4:4+k+1] \n",
    "w[0] = w[0]*(1-1e-10)\n",
    "\n",
    "d2 = pd.cut(data, w, labels = range(k))\n",
    "def cluster_plot(d,k): \n",
    "    import matplotlib.pyplot as plt\n",
    "    plt.rcParams['font.sans-serif'] = ['SimHei']\n",
    "    plt.rcParams['axes.unicode_minus'] = False \n",
    "    plt.figure(figsize = (12,4)) \n",
    "    for j in range(0,k): \n",
    "        plt.plot(data[d==j], [j for i in d[d==j]],'o')\n",
    "        plt.ylim(-0.5,k-0.5) \n",
    "        return plt \n",
    "cluster_plot(d2, k).show()"
   ]
  },
  {
   "cell_type": "markdown",
   "metadata": {},
   "source": [
    "+ 聚类离散"
   ]
  },
  {
   "cell_type": "code",
   "execution_count": null,
   "metadata": {},
   "outputs": [],
   "source": [
    "#-*- coding:utf-8 -*- #数据离散化-聚类离散\n",
    "import pandas as pd\n",
    "from sklearn.cluster import KMeans #导入K均值聚类算法\n",
    "sheet_name = '因子分析2'\n",
    "result = pd.DataFrame()\n",
    "processedfile = './data_processed.xls' #数据处理后文件\n",
    "data = pd.read_excel(r'./data.xlsx',sheet_name= sheet_name, header= 0, index_col= '编号')\n",
    "print(data)\n",
    "col = list(data.columns)\n",
    "\n",
    "print(col)\n",
    "val = [chr(i) for i in range(ord('a'),ord('h')+1)]\n",
    "print(val)\n",
    "typelabel = {}\n",
    "# list = list(zip(col,val))\n",
    "for (k,v) in zip(col,val): \n",
    "    typelabel[k] = v\n",
    "print(typelabel)\n",
    "print(typelabel.keys())\n",
    "keys = list(typelabel.keys())\n",
    "print(keys)\n",
    "if __name__ == '__main__': #判断是否主窗口运行，这句代码的作用比较神奇，有兴趣了解的读取请自行搜索相关材料。\n",
    "  for i in range(len(keys)):\n",
    "    #调用k-means算法，进行聚类离散化\n",
    "    print(u'正在进行“%s”的聚类...' % keys[i])\n",
    "    kmodel = KMeans(n_clusters = k) #n_jobs是并行数，一般等于CPU数较好\n",
    "    print(data[keys[i]])\n",
    "    kmodel.fit(data[[keys[i]]]) #训练模型\n",
    "    print(kmodel.cluster_centers_)\n",
    "    r1 = pd.DataFrame(kmodel.cluster_centers_, columns = [typelabel[keys[i]]]) #聚类中心\n",
    "    #print('r1',r1,kmodel.labels_)\n",
    "    r2 = pd.Series(kmodel.labels_).value_counts() #分类统计\n",
    "    r2 = pd.DataFrame(r2, columns = [typelabel[keys[i]]+'n']) #转为DataFrame，记录各个类别的数目\n",
    "\n",
    "    r = pd.concat([r1, r2], axis = 1).sort_values(typelabel[keys[i]]) #匹配聚类中心和类别数目\n",
    "    r.index = [1, 2, 3, 4]\n",
    "    print('r-1',r)\n",
    "    r[typelabel[keys[i]]] = r[typelabel[keys[i]]].rolling(2).mean() #rolling_mean()用来计算相邻2列的均值，以此作为边界点。\n",
    "    print('r-2', r)\n",
    "    r.iloc[0,0] = 0.0 #这两句代码将原来的聚类中心改为边界点。\n",
    "    print('r-3', r)\n",
    "    result = result.append(r.T)\n",
    "\n",
    "  result = result.sort_index() #以Index排序，即以A,B,C,D,E,F顺序排\n",
    "  result.to_excel(processedfile)"
   ]
  },
  {
   "cell_type": "code",
   "execution_count": null,
   "metadata": {},
   "outputs": [],
   "source": [
    "#-*- coding:utf-8 -*- #数据离散化-等宽离散\n",
    "import pandas as pd\n",
    "sheet_name = '因子分析2'\n",
    "data = pd.read_excel(r'./data.xlsx',sheet_name= sheet_name, header= 0, index_col= '编号')\n",
    "\n",
    "data = data[u'有机含量'].copy()\n",
    "\n",
    "k = 4 #分类数\n",
    " \n",
    "d1 = pd.cut(data, k, labels = range(k)) #等宽离散化,各个类别依次命名为,1,2,3 保存的是index 的分类\n",
    " \n",
    "#等频离散化\n",
    "w = [1.0*i/k for i in range(k+1)]  #创建一个列表，确定分位数0%，25%，50%，75%，100%\n",
    "w=data.describe(percentiles=w)[4:4+k+1] #利用describe函数计算分位数，取出分位数\n",
    "w[0]=w[0]*(1-1e-10)  #保证小于最小值\n",
    "d2=pd.cut(data,w,labels=range(k)) \n",
    " \n",
    "from sklearn.cluster import KMeans #引入KMeanms\n",
    " \n",
    "kmodel = KMeans(n_clusters = k) #建立模型，簇数为k，n_jobs一般为CPU数\n",
    "kmodel.fit(data.values.reshape((len(data),1))) #训练模型\n",
    "c = pd.DataFrame(kmodel.cluster_centers_).sort_values(0) #输出聚类中心，并且排序\n",
    "w = c.rolling(2).mean().iloc[1:] #用滑动窗口求均值的方法求相邻两项求中点，作为边界点\n",
    "w = [0] + list(w[0]) + [data.max()] #把首末边界点加上\n",
    "d3 = pd.cut(data, w, labels = range(k))\n",
    " \n",
    "def cluster_plot(d, k): #自定义作图函数来显示聚类结果\n",
    "\timport matplotlib.pyplot as plt\n",
    "\tplt.rcParams['font.sans-serif'] = ['SimHei'] #用来显示中文标签\n",
    "\tplt.rcParams['axes.unicode_minus'] = False #用来正常显示负号\n",
    " \n",
    "\tplt.figure(figsize = (8, 3)) #图的大小\n",
    "\tfor j in range(0,  k):\n",
    "\t\tplt.plot(data[d==j], [j for i in d[d==j]], 'o')\n",
    " \n",
    "\tplt.ylim(-0.5, k-0.5)\n",
    "\treturn plt\n",
    " \n",
    "cluster_plot(d1, k).show()\n",
    "cluster_plot(d2, k).show()\n",
    "cluster_plot(d3, k).show()"
   ]
  },
  {
   "cell_type": "markdown",
   "metadata": {},
   "source": [
    "## 4. 主成分分析\n",
    "主成分分析（principal components anaylysis）主要是利⽤降维的思想，在损失很少信息的前提下减\n",
    "少数据的维度，通常将转化⽣成的综合指标称为主成分。每个主成分都是原始变量的线性组合，且各\n",
    "个主成分之间互不相关。"
   ]
  },
  {
   "cell_type": "code",
   "execution_count": null,
   "metadata": {},
   "outputs": [],
   "source": [
    "import pandas as pd\n",
    "import numpy as np\n",
    "import matplotlib.pyplot as plt\n",
    "%matplotlib inline\n",
    "from matplotlib.font_manager import FontProperties\n",
    "plt.rcParams['font.sans-serif'] = ['simhei']"
   ]
  },
  {
   "cell_type": "code",
   "execution_count": null,
   "metadata": {},
   "outputs": [],
   "source": [
    "sheet_name = '因子分析2'\n",
    "data = pd.read_excel(r'.\\data.xlsx',sheet_name= sheet_name, header= 0, index_col= '编号')\n",
    "data.head()"
   ]
  },
  {
   "cell_type": "code",
   "execution_count": null,
   "metadata": {},
   "outputs": [],
   "source": [
    "### 标准化\n",
    "X = (data - data.mean()) / data.std()\n",
    "## 导⼊主成分库，并先选择所有主成分\n",
    "from sklearn.decomposition import PCA\n",
    "pca = PCA(n_components = X.shape[1])\n",
    "## 训练数据\n",
    "pca.fit(X)"
   ]
  },
  {
   "cell_type": "code",
   "execution_count": null,
   "metadata": {},
   "outputs": [],
   "source": [
    "## 展示⽅差解释⼒度\n",
    "pd.DataFrame({'⽅差': pca.explained_variance_,\n",
    "'贡献度':pca.explained_variance_ratio_,\n",
    "'累计贡献度':pca.explained_variance_ratio_.cumsum()})"
   ]
  },
  {
   "cell_type": "code",
   "execution_count": null,
   "metadata": {},
   "outputs": [],
   "source": [
    "plt.bar(range(9), pca.explained_variance_ratio_)\n",
    "plt.title('贡献度')"
   ]
  },
  {
   "cell_type": "code",
   "execution_count": null,
   "metadata": {},
   "outputs": [],
   "source": [
    "## 选择前两个作为主成分\n",
    "pca.n_components = 2\n",
    "pca.fit(X)"
   ]
  },
  {
   "cell_type": "code",
   "execution_count": null,
   "metadata": {},
   "outputs": [],
   "source": [
    "## 主成分系数：\n",
    "pd.DataFrame(pca.components_, columns=data.columns)"
   ]
  },
  {
   "cell_type": "code",
   "execution_count": null,
   "metadata": {},
   "outputs": [],
   "source": [
    "## 主成分\n",
    "y = pd.DataFrame(pca.transform(X), index=data.index)\n",
    "y"
   ]
  },
  {
   "cell_type": "code",
   "execution_count": null,
   "metadata": {},
   "outputs": [],
   "source": [
    "plt.figure(dpi=100, figsize=(11,5))\n",
    "ax = plt.subplot(111)\n",
    "y.plot.scatter(0,1, ax=ax, alpha=1)\n",
    "for i in range(y.shape[0]):\n",
    "    ax.annotate(data.index[i], (y.iloc[i,0], y.iloc[i,1]),alpha=0.7)"
   ]
  },
  {
   "cell_type": "code",
   "execution_count": null,
   "metadata": {},
   "outputs": [],
   "source": []
  }
 ],
 "metadata": {
  "kernelspec": {
   "display_name": "Python 3 (ipykernel)",
   "language": "python",
   "name": "python3"
  },
  "language_info": {
   "codemirror_mode": {
    "name": "ipython",
    "version": 3
   },
   "file_extension": ".py",
   "mimetype": "text/x-python",
   "name": "python",
   "nbconvert_exporter": "python",
   "pygments_lexer": "ipython3",
   "version": "3.10.7"
  }
 },
 "nbformat": 4,
 "nbformat_minor": 1
}
