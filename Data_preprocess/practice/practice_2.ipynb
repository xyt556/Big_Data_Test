{
 "cells": [
  {
   "cell_type": "code",
   "execution_count": 2,
   "metadata": {
    "collapsed": true
   },
   "outputs": [],
   "source": [
    "import numpy as np\n",
    "import scipy.stats as st"
   ]
  },
  {
   "cell_type": "code",
   "execution_count": 7,
   "outputs": [
    {
     "name": "stdout",
     "output_type": "stream",
     "text": [
      "[131.  98. 125. 131. 124. 139. 131. 117. 115. 128. 108. 135. 138. 131.\n",
      " 102. 107. 114. 119. 128. 121. 127. 130. 124. 101. 120. 110. 116. 117.\n",
      " 110. 128. 128. 115.  99. 115. 136. 126. 134.  95. 138. 117. 111. 122.\n",
      " 124. 113. 150. 120. 110. 117.  86.  95. 144. 105. 126. 130. 115. 126.\n",
      " 130. 126. 116. 123. 106. 112. 123.  86. 101.  99. 136. 123. 117. 119.\n",
      " 105. 127. 123. 128. 125. 104. 109. 134. 125. 127. 105. 120. 142. 127.\n",
      " 129. 116. 108. 132. 103. 136. 118. 115. 120. 102. 120. 115. 114. 105.\n",
      " 115. 132. 145. 119. 121. 125. 138. 109. 132. 120. 134. 156. 106. 117.\n",
      " 127. 144. 139. 139. 119. 140.  83. 110. 102. 123. 107. 115. 136. 118.\n",
      " 139. 123. 112. 120. 118. 125. 109. 115.  95.  95. 119. 133. 112. 114.\n",
      " 122. 109. 106. 123. 115. 118. 112. 135. 115. 146. 137. 120. 116. 103.\n",
      " 144.  83. 123. 111. 110. 111. 125. 126. 114. 140. 103. 130. 181. 117.\n",
      " 106. 114. 121. 114. 133. 137.  92. 121. 112.  95.  98. 146.  97. 137.\n",
      " 105.  98. 117. 112.  81. 139. 113. 134. 106. 144. 110. 137. 137. 111.\n",
      " 104. 117. 100. 120. 111. 101. 110. 105. 129. 127. 112. 113. 133. 112.\n",
      "  83.  94. 146. 133. 101. 131. 116. 111.  84. 137. 115. 122. 106. 144.\n",
      " 112. 109. 143. 123. 116. 111. 111. 133. 150.  90.  91.  92. 115.  93.\n",
      "  93.  78. 115.  93.  97. 139. 125. 120. 116. 121. 127. 128.]\n"
     ]
    }
   ],
   "source": [
    "# 从文本文件中读取数据到数组\n",
    "data = np.loadtxt('./data/movie.txt',delimiter=',')\n",
    "print(data)"
   ],
   "metadata": {
    "collapsed": false
   }
  },
  {
   "cell_type": "code",
   "execution_count": 9,
   "outputs": [
    {
     "data": {
      "text/plain": "DescribeResult(nobs=250, minmax=(78.0, 181.0), mean=118.372, variance=236.12210441767067, skewness=0.07294424847074614, kurtosis=0.5772882618446364)"
     },
     "execution_count": 9,
     "metadata": {},
     "output_type": "execute_result"
    }
   ],
   "source": [
    "st.describe(data)"
   ],
   "metadata": {
    "collapsed": false
   }
  },
  {
   "cell_type": "code",
   "execution_count": 14,
   "outputs": [
    {
     "name": "stdout",
     "output_type": "stream",
     "text": [
      "几何平均： 117.35988061554848\n",
      "调和平均： 116.32115754054888\n",
      "中位数：\n",
      " 117.5\n",
      "众数：\n",
      " 115.0\n"
     ]
    },
    {
     "name": "stderr",
     "output_type": "stream",
     "text": [
      "C:\\Users\\xyt556\\AppData\\Local\\Temp\\4\\ipykernel_46568\\2208899370.py:4: FutureWarning: Unlike other reduction functions (e.g. `skew`, `kurtosis`), the default behavior of `mode` typically preserves the axis it acts along. In SciPy 1.11.0, this behavior will change: the default value of `keepdims` will become False, the `axis` over which the statistic is taken will be eliminated, and the value None will no longer be accepted. Set `keepdims` to True or False to avoid this warning.\n",
      "  print('众数：\\n',st.mode(data)[0][0])\n"
     ]
    }
   ],
   "source": [
    "print('几何平均：',st.gmean(data))\n",
    "print('调和平均：',st.hmean(data))\n",
    "print('中位数：\\n',np.median(data)) # 中位数\n",
    "print('众数：\\n',st.mode(data)[0][0])"
   ],
   "metadata": {
    "collapsed": false
   }
  },
  {
   "cell_type": "code",
   "execution_count": 15,
   "outputs": [
    {
     "data": {
      "text/plain": "235.17761599999997"
     },
     "execution_count": 15,
     "metadata": {},
     "output_type": "execute_result"
    }
   ],
   "source": [
    "np.var(data)"
   ],
   "metadata": {
    "collapsed": false
   }
  },
  {
   "cell_type": "code",
   "execution_count": 16,
   "outputs": [
    {
     "data": {
      "text/plain": "118.372"
     },
     "execution_count": 16,
     "metadata": {},
     "output_type": "execute_result"
    }
   ],
   "source": [
    "np.mean(data)"
   ],
   "metadata": {
    "collapsed": false
   }
  },
  {
   "cell_type": "code",
   "execution_count": 17,
   "outputs": [
    {
     "data": {
      "text/plain": "15.335501817677828"
     },
     "execution_count": 17,
     "metadata": {},
     "output_type": "execute_result"
    }
   ],
   "source": [
    "np.std(data)"
   ],
   "metadata": {
    "collapsed": false
   }
  },
  {
   "cell_type": "code",
   "execution_count": 19,
   "outputs": [
    {
     "name": "stdout",
     "output_type": "stream",
     "text": [
      "Zn的[10%,20%,40%,60%,80%,100%]分位数： [ 98.  106.  115.  122.  131.2 181. ]\n"
     ]
    }
   ],
   "source": [
    "# 计算分位数\n",
    "quantiles = np.quantile(data,[0.1,0.2,0.4,0.6,0.8,1])\n",
    "print('Zn的[10%,20%,40%,60%,80%,100%]分位数：',quantiles)"
   ],
   "metadata": {
    "collapsed": false
   }
  },
  {
   "cell_type": "code",
   "execution_count": 20,
   "outputs": [
    {
     "data": {
      "text/plain": "array(236.12210442)"
     },
     "execution_count": 20,
     "metadata": {},
     "output_type": "execute_result"
    }
   ],
   "source": [
    "np.cov(data) # 计算协方差矩阵"
   ],
   "metadata": {
    "collapsed": false
   }
  },
  {
   "cell_type": "code",
   "execution_count": 21,
   "outputs": [
    {
     "data": {
      "text/plain": "KurtosistestResult(statistic=1.7580326141433689, pvalue=0.0787419601741306)"
     },
     "execution_count": 21,
     "metadata": {},
     "output_type": "execute_result"
    }
   ],
   "source": [
    "st.kurtosistest(data) # 峰度检验"
   ],
   "metadata": {
    "collapsed": false
   }
  },
  {
   "cell_type": "code",
   "execution_count": 22,
   "outputs": [
    {
     "data": {
      "text/plain": "0.07294424847074614"
     },
     "execution_count": 22,
     "metadata": {},
     "output_type": "execute_result"
    }
   ],
   "source": [
    "st.skew(data) # 偏度检验"
   ],
   "metadata": {
    "collapsed": false
   }
  },
  {
   "cell_type": "code",
   "execution_count": 33,
   "outputs": [],
   "source": [
    "def three_sigma(x):   #传入某变量\n",
    "    mean_value = x.mean()   #计算该变量的均值\n",
    "    std_value = x.std()   #计算该变量的标准差\n",
    "    rule = (mean_value - 3 * std_value > x) | (x.mean() + 3 * x.std() < x)   #处于(mean-3std,mean+3std)区间外的数据为异常值\n",
    "    index = np.arange(x.shape[0])[rule]   #获取异常值的行位置索引\n",
    "    outlier = x[index]   #获取异常值的数据\n",
    "    print(index,outlier)\n",
    "    # print(index)\n",
    "    return outlier   #返回异常值的数据"
   ],
   "metadata": {
    "collapsed": false
   }
  },
  {
   "cell_type": "code",
   "execution_count": 35,
   "outputs": [
    {
     "name": "stdout",
     "output_type": "stream",
     "text": [
      "[166] [181.]\n"
     ]
    },
    {
     "data": {
      "text/plain": "array([181.])"
     },
     "execution_count": 35,
     "metadata": {},
     "output_type": "execute_result"
    }
   ],
   "source": [
    "three_sigma(data)"
   ],
   "metadata": {
    "collapsed": false
   }
  },
  {
   "cell_type": "code",
   "execution_count": null,
   "outputs": [],
   "source": [],
   "metadata": {
    "collapsed": false
   }
  }
 ],
 "metadata": {
  "kernelspec": {
   "display_name": "Python 3",
   "language": "python",
   "name": "python3"
  },
  "language_info": {
   "codemirror_mode": {
    "name": "ipython",
    "version": 2
   },
   "file_extension": ".py",
   "mimetype": "text/x-python",
   "name": "python",
   "nbconvert_exporter": "python",
   "pygments_lexer": "ipython2",
   "version": "2.7.6"
  }
 },
 "nbformat": 4,
 "nbformat_minor": 0
}
