{
 "cells": [
  {
   "cell_type": "markdown",
   "metadata": {},
   "source": [
    "pearson相关系数：用于判断数据是否线性相关的方法。\n",
    "\n",
    "注意：不线性相关并不代表不相关，因为可能是非线性相关。\n",
    "\n",
    "Python计算pearson相关系数：\n",
    "\n",
    "1. 使用numpy计算（corrcoef），以下是先标准化再求相关系数"
   ]
  },
  {
   "cell_type": "code",
   "execution_count": 16,
   "outputs": [
    {
     "name": "stdout",
     "output_type": "stream",
     "text": [
      "[[2 3 9 6 8]\n",
      " [5 6 3 7 9]]\n",
      "     有机含量   黏土矿物  FeS2   碳酸盐   SiO2  Fe2O3  Al2O3   CaO   MgO\n",
      "编号                                                           \n",
      "1   86.76  12.25  0.00  0.40  46.20   5.26  34.55  3.58  1.30\n",
      "2   92.52   7.32  0.00  0.16  47.52   3.68  37.70  1.95  0.59\n",
      "3   96.79   3.07  0.17  0.00  47.86   7.82  36.77  1.38  0.63\n",
      "4   85.56  13.03  0.94  0.47  45.04   7.44  36.06  3.43  0.65\n",
      "5   87.75  10.26  1.23  0.76  36.22  24.29  29.25  3.23  1.15\n",
      "6   75.69  24.06  0.00  2.50  47.40   3.76  40.00  0.97  1.15\n",
      "7   99.21   0.63  0.16  0.00  86.62   8.87  31.75  2.82  0.96\n",
      "8   84.50  14.46  1.04  0.00  46.94  14.59  37.35  2.20  0.89\n",
      "9   94.14   5.86  0.00  0.00  48.66   8.41  38.42  0.51  0.67\n",
      "10  90.50   6.72  2.78  0.00  35.18   1.58  30.11  0.51  0.59\n",
      "11  72.05  26.49  1.46  0.00  49.04   5.19  39.28  0.05  0.74\n",
      "12  98.10   1.71  0.00  0.00  54.22   5.79  32.04  1.33  0.63\n",
      "13  96.35   3.13  0.26  0.00  44.76  36.54  36.20  0.67  0.70\n",
      "14  98.48   0.00  1.08  0.44  28.60  17.67  24.37  3.37  5.56\n",
      "15  88.51   2.54  4.33  0.29  49.12  25.26  18.49  2.46  1.07\n",
      "16  79.75  19.63  0.00  0.00  53.98   8.27  24.66  4.25  2.37\n",
      "17  94.54   0.76  2.05  0.31  35.64  34.81  11.18  6.50  0.78\n",
      "18  91.51   7.88  0.61  0.00  46.06   8.42  38.71  0.82  0.74\n",
      "19  90.89   3.04  0.23  1.17  62.48   5.11  25.73  0.72  0.70\n",
      "20  69.79  24.13  5.04  0.00  47.56  10.56  37.99  0.10  1.04\n",
      "21  78.47  20.60  0.75  0.00  46.96   4.36  38.42  1.28  1.19\n",
      "22  60.71  29.28  3.58  0.00  61.84   5.19  27.53  0.01  0.85\n",
      "23  73.03  24.09  2.88  0.00  47.02   8.72  39.42  0.10  0.78\n",
      "24  86.35   4.99  8.12  0.00  33.48  40.15  13.98  4.30  0.63\n",
      "[[ 0.    0.    0.17  0.94  1.23  0.    0.16  1.04  0.    2.78  1.46  0.\n",
      "   0.26  1.08  4.33  0.    2.05  0.61  0.23  5.04  0.75  3.58  2.88  8.12]\n",
      " [ 0.4   0.16  0.    0.47  0.76  2.5   0.    0.    0.    0.    0.    0.\n",
      "   0.    0.44  0.29  0.    0.31  0.    1.17  0.    0.    0.    0.    0.  ]\n",
      " [46.2  47.52 47.86 45.04 36.22 47.4  86.62 46.94 48.66 35.18 49.04 54.22\n",
      "  44.76 28.6  49.12 53.98 35.64 46.06 62.48 47.56 46.96 61.84 47.02 33.48]\n",
      " [ 5.26  3.68  7.82  7.44 24.29  3.76  8.87 14.59  8.41  1.58  5.19  5.79\n",
      "  36.54 17.67 25.26  8.27 34.81  8.42  5.11 10.56  4.36  5.19  8.72 40.15]]\n",
      "[[ 1.          0.68359729  0.6764137  -0.81252217]\n",
      " [ 0.68359729  1.          0.90814178 -0.95345795]\n",
      " [ 0.6764137   0.90814178  1.         -0.96743802]\n",
      " [-0.81252217 -0.95345795 -0.96743802  1.        ]]\n"
     ]
    }
   ],
   "source": [
    "import numpy as np\n",
    "import pandas as pd\n",
    "\n",
    "aa = np.array([2,3,9,6,8])\n",
    "bb = np.array([5,6,3,7,9])\n",
    "cc = np.array([aa, bb])\n",
    "print(cc)\n",
    "df = pd.read_excel('data.xlsx',sheet_name='因子分析2',header=0,index_col='编号')\n",
    "print(df)\n",
    "cc = np.array(df.iloc[:,2:6]).T\n",
    "print(cc)\n",
    "cc_mean = np.mean(cc, axis=0)  #axis=0,表示按列求均值 ——— 即第一维\n",
    "cc_std = np.std(cc, axis=0)\n",
    "cc_zscore = (cc-cc_mean)/cc_std   #标准化\n",
    "\n",
    "cc_zscore_corr = np.corrcoef(cc_zscore)  #相关系数矩阵\n",
    "print(cc_zscore_corr)"
   ],
   "metadata": {
    "collapsed": false
   }
  },
  {
   "cell_type": "markdown",
   "metadata": {},
   "source": [
    "2. 使用pandas计算相关系数"
   ]
  },
  {
   "cell_type": "code",
   "execution_count": 7,
   "metadata": {},
   "outputs": [],
   "source": [
    "cc_pd = pd.DataFrame(cc_zscore.T, columns=['c1', 'c2'])\n",
    "cc_corr = cc_pd.corr(method='spearman')   #相关系数矩阵"
   ]
  },
  {
   "cell_type": "code",
   "execution_count": 8,
   "metadata": {},
   "outputs": [
    {
     "name": "stdout",
     "output_type": "stream",
     "text": [
      "c1    1.0\n",
      "c2   -1.0\n",
      "Name: c1, dtype: float64\n"
     ]
    }
   ],
   "source": [
    "print(cc_corr['c1'])  #某个因子与其他因子的相关系数"
   ]
  },
  {
   "attachments": {
    "1468269-20200331205354493-488091413.png": {
     "image/png": "[encoded data removed]"
    }
   },
   "cell_type": "markdown",
   "metadata": {},
   "source": [
    "pearson相关系数的计算公式为：\n",
    "cov(X,Y)表示的是协方差\n",
    "\n",
    "var(x)和var(y)表示的是方差\n",
    "![1468269-20200331205354493-488091413.png](attachment:1468269-20200331205354493-488091413.png)"
   ]
  },
  {
   "cell_type": "code",
   "execution_count": 9,
   "metadata": {},
   "outputs": [
    {
     "name": "stdout",
     "output_type": "stream",
     "text": [
      "-0.8000000000000002\n",
      "-1.0\n"
     ]
    }
   ],
   "source": [
    "# pandas计算协方差\n",
    "\n",
    "print(cc_pd.c1.cov(cc_pd.c2))   #协方差\n",
    "print(cc_pd.c1.corr(cc_pd.c2))  #两个因子的相关系数\n",
    "y_cov = cc_pd.cov()     #协方差矩阵\n",
    "\n"
   ]
  },
  {
   "cell_type": "code",
   "execution_count": null,
   "outputs": [],
   "source": [],
   "metadata": {
    "collapsed": false
   }
  }
 ],
 "metadata": {
  "kernelspec": {
   "display_name": "Python 3 (ipykernel)",
   "language": "python",
   "name": "python3"
  },
  "language_info": {
   "codemirror_mode": {
    "name": "ipython",
    "version": 3
   },
   "file_extension": ".py",
   "mimetype": "text/x-python",
   "name": "python",
   "nbconvert_exporter": "python",
   "pygments_lexer": "ipython3",
   "version": "3.10.7"
  }
 },
 "nbformat": 4,
 "nbformat_minor": 1
}
