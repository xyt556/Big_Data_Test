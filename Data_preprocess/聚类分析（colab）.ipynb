{
  "nbformat": 4,
  "nbformat_minor": 0,
  "metadata": {
    "colab": {
      "provenance": []
    },
    "kernelspec": {
      "name": "python3",
      "display_name": "Python 3"
    },
    "language_info": {
      "name": "python"
    }
  },
  "cells": [
    {
      "cell_type": "code",
      "execution_count": 1,
      "metadata": {
        "scrolled": false,
        "id": "2f226bb8",
        "colab": {
          "base_uri": "https://localhost:8080/",
          "height": 206
        },
        "outputId": "638ccbd6-f33e-4663-f5cc-3787fd59eb9f"
      },
      "outputs": [
        {
          "output_type": "execute_result",
          "data": {
            "text/plain": [
              "    有机含量   黏土矿物  FeS2   碳酸盐   SiO2  Fe2O3  Al2O3   CaO   MgO\n",
              "0  86.76  12.25  0.00  0.40  46.20   5.26  34.55  3.58  1.30\n",
              "1  92.52   7.32  0.00  0.16  47.52   3.68  37.70  1.95  0.59\n",
              "2  96.79   3.07  0.17  0.00  47.86   7.82  36.77  1.38  0.63\n",
              "3  85.56  13.03  0.94  0.47  45.04   7.44  36.06  3.43  0.65\n",
              "4  87.75  10.26  1.23  0.76  36.22  24.29  29.25  3.23  1.15"
            ],
            "text/html": [
              "\n",
              "  <div id=\"df-fde2cc42-576c-4909-878b-c8e13c25486d\">\n",
              "    <div class=\"colab-df-container\">\n",
              "      <div>\n",
              "<style scoped>\n",
              "    .dataframe tbody tr th:only-of-type {\n",
              "        vertical-align: middle;\n",
              "    }\n",
              "\n",
              "    .dataframe tbody tr th {\n",
              "        vertical-align: top;\n",
              "    }\n",
              "\n",
              "    .dataframe thead th {\n",
              "        text-align: right;\n",
              "    }\n",
              "</style>\n",
              "<table border=\"1\" class=\"dataframe\">\n",
              "  <thead>\n",
              "    <tr style=\"text-align: right;\">\n",
              "      <th></th>\n",
              "      <th>有机含量</th>\n",
              "      <th>黏土矿物</th>\n",
              "      <th>FeS2</th>\n",
              "      <th>碳酸盐</th>\n",
              "      <th>SiO2</th>\n",
              "      <th>Fe2O3</th>\n",
              "      <th>Al2O3</th>\n",
              "      <th>CaO</th>\n",
              "      <th>MgO</th>\n",
              "    </tr>\n",
              "  </thead>\n",
              "  <tbody>\n",
              "    <tr>\n",
              "      <th>0</th>\n",
              "      <td>86.76</td>\n",
              "      <td>12.25</td>\n",
              "      <td>0.00</td>\n",
              "      <td>0.40</td>\n",
              "      <td>46.20</td>\n",
              "      <td>5.26</td>\n",
              "      <td>34.55</td>\n",
              "      <td>3.58</td>\n",
              "      <td>1.30</td>\n",
              "    </tr>\n",
              "    <tr>\n",
              "      <th>1</th>\n",
              "      <td>92.52</td>\n",
              "      <td>7.32</td>\n",
              "      <td>0.00</td>\n",
              "      <td>0.16</td>\n",
              "      <td>47.52</td>\n",
              "      <td>3.68</td>\n",
              "      <td>37.70</td>\n",
              "      <td>1.95</td>\n",
              "      <td>0.59</td>\n",
              "    </tr>\n",
              "    <tr>\n",
              "      <th>2</th>\n",
              "      <td>96.79</td>\n",
              "      <td>3.07</td>\n",
              "      <td>0.17</td>\n",
              "      <td>0.00</td>\n",
              "      <td>47.86</td>\n",
              "      <td>7.82</td>\n",
              "      <td>36.77</td>\n",
              "      <td>1.38</td>\n",
              "      <td>0.63</td>\n",
              "    </tr>\n",
              "    <tr>\n",
              "      <th>3</th>\n",
              "      <td>85.56</td>\n",
              "      <td>13.03</td>\n",
              "      <td>0.94</td>\n",
              "      <td>0.47</td>\n",
              "      <td>45.04</td>\n",
              "      <td>7.44</td>\n",
              "      <td>36.06</td>\n",
              "      <td>3.43</td>\n",
              "      <td>0.65</td>\n",
              "    </tr>\n",
              "    <tr>\n",
              "      <th>4</th>\n",
              "      <td>87.75</td>\n",
              "      <td>10.26</td>\n",
              "      <td>1.23</td>\n",
              "      <td>0.76</td>\n",
              "      <td>36.22</td>\n",
              "      <td>24.29</td>\n",
              "      <td>29.25</td>\n",
              "      <td>3.23</td>\n",
              "      <td>1.15</td>\n",
              "    </tr>\n",
              "  </tbody>\n",
              "</table>\n",
              "</div>\n",
              "      <button class=\"colab-df-convert\" onclick=\"convertToInteractive('df-fde2cc42-576c-4909-878b-c8e13c25486d')\"\n",
              "              title=\"Convert this dataframe to an interactive table.\"\n",
              "              style=\"display:none;\">\n",
              "        \n",
              "  <svg xmlns=\"http://www.w3.org/2000/svg\" height=\"24px\"viewBox=\"0 0 24 24\"\n",
              "       width=\"24px\">\n",
              "    <path d=\"M0 0h24v24H0V0z\" fill=\"none\"/>\n",
              "    <path d=\"M18.56 5.44l.94 2.06.94-2.06 2.06-.94-2.06-.94-.94-2.06-.94 2.06-2.06.94zm-11 1L8.5 8.5l.94-2.06 2.06-.94-2.06-.94L8.5 2.5l-.94 2.06-2.06.94zm10 10l.94 2.06.94-2.06 2.06-.94-2.06-.94-.94-2.06-.94 2.06-2.06.94z\"/><path d=\"M17.41 7.96l-1.37-1.37c-.4-.4-.92-.59-1.43-.59-.52 0-1.04.2-1.43.59L10.3 9.45l-7.72 7.72c-.78.78-.78 2.05 0 2.83L4 21.41c.39.39.9.59 1.41.59.51 0 1.02-.2 1.41-.59l7.78-7.78 2.81-2.81c.8-.78.8-2.07 0-2.86zM5.41 20L4 18.59l7.72-7.72 1.47 1.35L5.41 20z\"/>\n",
              "  </svg>\n",
              "      </button>\n",
              "      \n",
              "  <style>\n",
              "    .colab-df-container {\n",
              "      display:flex;\n",
              "      flex-wrap:wrap;\n",
              "      gap: 12px;\n",
              "    }\n",
              "\n",
              "    .colab-df-convert {\n",
              "      background-color: #E8F0FE;\n",
              "      border: none;\n",
              "      border-radius: 50%;\n",
              "      cursor: pointer;\n",
              "      display: none;\n",
              "      fill: #1967D2;\n",
              "      height: 32px;\n",
              "      padding: 0 0 0 0;\n",
              "      width: 32px;\n",
              "    }\n",
              "\n",
              "    .colab-df-convert:hover {\n",
              "      background-color: #E2EBFA;\n",
              "      box-shadow: 0px 1px 2px rgba(60, 64, 67, 0.3), 0px 1px 3px 1px rgba(60, 64, 67, 0.15);\n",
              "      fill: #174EA6;\n",
              "    }\n",
              "\n",
              "    [theme=dark] .colab-df-convert {\n",
              "      background-color: #3B4455;\n",
              "      fill: #D2E3FC;\n",
              "    }\n",
              "\n",
              "    [theme=dark] .colab-df-convert:hover {\n",
              "      background-color: #434B5C;\n",
              "      box-shadow: 0px 1px 3px 1px rgba(0, 0, 0, 0.15);\n",
              "      filter: drop-shadow(0px 1px 2px rgba(0, 0, 0, 0.3));\n",
              "      fill: #FFFFFF;\n",
              "    }\n",
              "  </style>\n",
              "\n",
              "      <script>\n",
              "        const buttonEl =\n",
              "          document.querySelector('#df-fde2cc42-576c-4909-878b-c8e13c25486d button.colab-df-convert');\n",
              "        buttonEl.style.display =\n",
              "          google.colab.kernel.accessAllowed ? 'block' : 'none';\n",
              "\n",
              "        async function convertToInteractive(key) {\n",
              "          const element = document.querySelector('#df-fde2cc42-576c-4909-878b-c8e13c25486d');\n",
              "          const dataTable =\n",
              "            await google.colab.kernel.invokeFunction('convertToInteractive',\n",
              "                                                     [key], {});\n",
              "          if (!dataTable) return;\n",
              "\n",
              "          const docLinkHtml = 'Like what you see? Visit the ' +\n",
              "            '<a target=\"_blank\" href=https://colab.research.google.com/notebooks/data_table.ipynb>data table notebook</a>'\n",
              "            + ' to learn more about interactive tables.';\n",
              "          element.innerHTML = '';\n",
              "          dataTable['output_type'] = 'display_data';\n",
              "          await google.colab.output.renderOutput(dataTable, element);\n",
              "          const docLink = document.createElement('div');\n",
              "          docLink.innerHTML = docLinkHtml;\n",
              "          element.appendChild(docLink);\n",
              "        }\n",
              "      </script>\n",
              "    </div>\n",
              "  </div>\n",
              "  "
            ]
          },
          "metadata": {},
          "execution_count": 1
        }
      ],
      "source": [
        "import matplotlib.pyplot as plt\n",
        "import pandas as pd\n",
        "import numpy as np\n",
        "import seaborn as sns\n",
        "\n",
        "filename = \"/content/drive/MyDrive/Colab Notebooks/大数据基础/data.xlsx\"\n",
        "df = pd.read_excel(filename,header=0,sheet_name='因子分析2',index_col='编号')\n",
        "df.head(5)\n",
        "# index如果有重复值，需要重新index一下，不然后面可能会出错\n",
        "df.index = range(df.shape[0])\n",
        "df.head()"
      ]
    },
    {
      "cell_type": "code",
      "source": [
        "## 设置显示中文（Colab）\n",
        "import matplotlib as mpl\n",
        "zhfont = mpl.font_manager.FontProperties(fname='/content/drive/MyDrive/Colab Notebooks/大数据基础/SimHei.ttf')\n",
        "plt.rcParams['axes.unicode_minus'] = False\n",
        "# ,fontproperties=zhfont\n",
        "## for Seaborn\n",
        "sns.set(font=zhfont.get_name())"
      ],
      "metadata": {
        "id": "-DlNTXhTuEA_"
      },
      "execution_count": 2,
      "outputs": []
    },
    {
      "cell_type": "code",
      "source": [
        "# # 设置显示中文（正常情况下）\n",
        "# plt.rcParams['font.sans-serif'] = ['SimHei']\n",
        "# plt.rcParams['axes.unicode_minus'] = False\n",
        "# sns.set(font='SimHei')"
      ],
      "metadata": {
        "id": "jZqZ70iuubkQ"
      },
      "execution_count": 3,
      "outputs": []
    },
    {
      "cell_type": "markdown",
      "source": [
        "# KMeans"
      ],
      "metadata": {
        "id": "y9JuSrmlWofs"
      }
    },
    {
      "cell_type": "code",
      "source": [
        "from sklearn.cluster import KMeans\n",
        "from sklearn import metrics\n",
        "# x = np.array([[1,2],[1,4],[1,0],[10,2],[10,4],[10,0]])\n",
        "X=df.iloc[:,0:2]\n",
        "Kmeans = KMeans(n_clusters=2,random_state=0).fit(X)\n",
        "Kmeans.labels_"
      ],
      "metadata": {
        "colab": {
          "base_uri": "https://localhost:8080/"
        },
        "id": "4DCpeYZ8W1Mu",
        "outputId": "0c50e736-9fb6-4668-c0c6-2da471632106"
      },
      "execution_count": 4,
      "outputs": [
        {
          "output_type": "execute_result",
          "data": {
            "text/plain": [
              "array([0, 0, 0, 0, 0, 1, 0, 0, 0, 0, 1, 0, 0, 0, 0, 1, 0, 0, 0, 1, 1, 1,\n",
              "       1, 0], dtype=int32)"
            ]
          },
          "metadata": {},
          "execution_count": 4
        }
      ]
    },
    {
      "cell_type": "code",
      "source": [
        "Kmeans.cluster_centers_"
      ],
      "metadata": {
        "colab": {
          "base_uri": "https://localhost:8080/"
        },
        "id": "bdllFcWSXCER",
        "outputId": "49992ef0-2b3e-4e6a-b97f-13001609a4a0"
      },
      "execution_count": 5,
      "outputs": [
        {
          "output_type": "execute_result",
          "data": {
            "text/plain": [
              "array([[91.90941176,  5.74411765],\n",
              "       [72.78428571, 24.04      ]])"
            ]
          },
          "metadata": {},
          "execution_count": 5
        }
      ]
    },
    {
      "cell_type": "code",
      "source": [
        "Kmeans.predict([[86,12],[45,3.1]])"
      ],
      "metadata": {
        "colab": {
          "base_uri": "https://localhost:8080/"
        },
        "id": "OchwpJdAW89a",
        "outputId": "771849e0-1ee8-4239-a667-1f93f412f5a7"
      },
      "execution_count": 6,
      "outputs": [
        {
          "output_type": "stream",
          "name": "stderr",
          "text": [
            "/usr/local/lib/python3.7/dist-packages/sklearn/base.py:451: UserWarning: X does not have valid feature names, but KMeans was fitted with feature names\n",
            "  \"X does not have valid feature names, but\"\n"
          ]
        },
        {
          "output_type": "execute_result",
          "data": {
            "text/plain": [
              "array([0, 1], dtype=int32)"
            ]
          },
          "metadata": {},
          "execution_count": 6
        }
      ]
    },
    {
      "cell_type": "markdown",
      "source": [
        "## 最佳k值的确定\n",
        "### 拐点法\n",
        "\n",
        "就是在不同的k值下计算簇内离差平方和，然后通过可视化的方法找到“拐点”所对应的k值。正如前文所介绍的Kmeans聚类算法的目标函数J，随着簇数量的增加，簇中的样本量会越来越少，进而导致目标函数J的值也会越来越小。通过可视化方法，重点关注的是斜率的变化，当斜率由大突然变小时，并且之后的斜率变化缓慢，则认为突然变化的点就是寻找的目标点，因为继续随着簇数k的增加，聚类效果不再有大的变化。\n",
        "为了验证这个方法的直观性，这里随机生成三组二元正态分布数据，首先基于该数据绘制散点图\n"
      ],
      "metadata": {
        "id": "zfNRXLRmdIqV"
      }
    },
    {
      "cell_type": "code",
      "source": [
        "# 构造自定义函数，用于绘制不同k值和对应总的簇内离差平方和的折线图\n",
        "def k_SSE(X, clusters):\n",
        "    # 选择连续的K种不同的值\n",
        "    K = range(1,clusters+1)\n",
        "    # 构建空列表用于存储总的簇内离差平方和\n",
        "    TSSE = []\n",
        "    for k in K:\n",
        "        # 用于存储各个簇内离差平方和\n",
        "        SSE = []\n",
        "        kmeans = KMeans(n_clusters=k)\n",
        "        kmeans.fit(X)\n",
        "        # 返回簇标签\n",
        "        labels = kmeans.labels_\n",
        "        # 返回簇中心\n",
        "        centers = kmeans.cluster_centers_\n",
        "        # 计算各簇样本的离差平方和，并保存到列表中\n",
        "        for label in set(labels):\n",
        "            SSE.append(np.sum((X.loc[labels == label,]-centers[label,:])**2))\n",
        "        # 计算总的簇内离差平方和 \n",
        "        TSSE.append(np.sum(SSE))\n",
        "\n",
        "    # 中文和负号的正常显示\n",
        "    plt.rcParams['font.sans-serif'] = ['Microsoft YaHei']\n",
        "    plt.rcParams['axes.unicode_minus'] = False\n",
        "    # 设置绘图风格\n",
        "    plt.style.use('ggplot')\n",
        "    # 绘制K的个数与GSSE的关系\n",
        "    plt.plot(K, TSSE, 'b*-')\n",
        "    plt.xlabel('簇的个数',fontproperties=zhfont)\n",
        "    plt.ylabel('簇内离差平方和之和',fontproperties=zhfont)\n",
        "    # 显示图形\n",
        "    plt.show()\n",
        "\n",
        "# 将三组数据集汇总到数据框中\n",
        "\n",
        "# 自定义函数的调用\n",
        "k_SSE(X, 15)\n"
      ],
      "metadata": {
        "colab": {
          "base_uri": "https://localhost:8080/",
          "height": 299
        },
        "id": "l4BD-Lisbwsr",
        "outputId": "535f68b3-067a-4fe7-a9ee-e26a4aacbc1d"
      },
      "execution_count": 7,
      "outputs": [
        {
          "output_type": "stream",
          "name": "stderr",
          "text": [
            "WARNING:matplotlib.font_manager:findfont: Font family ['SimHei'] not found. Falling back to DejaVu Sans.\n"
          ]
        },
        {
          "output_type": "display_data",
          "data": {
            "text/plain": [
              "<Figure size 432x288 with 1 Axes>"
            ],
            "image/png": "[encoded data removed]"
          },
          "metadata": {}
        }
      ]
    },
    {
      "cell_type": "markdown",
      "source": [
        "### 轮廓系数法\n",
        "\n",
        "有关轮廓系数的计算，可以直接调用sklearn子模块metrics中的函数，即\n",
        "silhouette_score。需要注意的是，该函数接受的聚类簇数必须大于等于2。下面基于该函数重新自定义一个函数，用于绘制不同k值下对应轮廓系数的折线图"
      ],
      "metadata": {
        "id": "m4uY13iNdTyy"
      }
    },
    {
      "cell_type": "code",
      "source": [
        "# 构造自定义函数，用于绘制不同k值和对应轮廓系数的折线图\n",
        "def k_silhouette(X, clusters):\n",
        "    K = range(2,clusters+1)\n",
        "    # 构建空列表，用于存储个中簇数下的轮廓系数\n",
        "    S = []\n",
        "    for k in K:\n",
        "        kmeans = KMeans(n_clusters=k)\n",
        "        kmeans.fit(X)\n",
        "        labels = kmeans.labels_\n",
        "        # 调用字模块metrics中的silhouette_score函数，计算轮廓系数\n",
        "        S.append(metrics.silhouette_score(X, labels, metric='euclidean'))\n",
        "\n",
        "    # 中文和负号的正常显示\n",
        "    plt.rcParams['font.sans-serif'] = ['Microsoft YaHei']\n",
        "    plt.rcParams['axes.unicode_minus'] = False\n",
        "    # 设置绘图风格\n",
        "    plt.style.use('ggplot')    \n",
        "    # 绘制K的个数与轮廓系数的关系\n",
        "    plt.plot(K, S, 'b*-')\n",
        "    plt.xlabel('簇的个数',fontproperties=zhfont)\n",
        "    plt.ylabel('轮廓系数',fontproperties=zhfont)\n",
        "    # 显示图形\n",
        "    plt.show()\n",
        "    \n",
        "# 自定义函数的调用\n",
        "k_silhouette(X, 15)\n"
      ],
      "metadata": {
        "colab": {
          "base_uri": "https://localhost:8080/",
          "height": 281
        },
        "id": "J1AEopj6dY2k",
        "outputId": "ff837b3b-65e3-4a02-ddad-4966130a56d1"
      },
      "execution_count": 8,
      "outputs": [
        {
          "output_type": "display_data",
          "data": {
            "text/plain": [
              "<Figure size 432x288 with 1 Axes>"
            ],
            "image/png": "[encoded data removed]"
          },
          "metadata": {}
        }
      ]
    },
    {
      "cell_type": "markdown",
      "source": [
        "当k等于2时，轮廓系数最大，且比较接近于1，说明应该把数据聚为2类比较合理"
      ],
      "metadata": {
        "id": "OAN7usBdeFdO"
      }
    },
    {
      "cell_type": "markdown",
      "source": [
        "### 间隔统计量法"
      ],
      "metadata": {
        "id": "lSwzFUCKeRBS"
      }
    },
    {
      "cell_type": "code",
      "source": [
        "# 自定义函数，计算簇内任意两样本之间的欧氏距离\n",
        "def short_pair_wise_D(each_cluster):\n",
        "    mu = each_cluster.mean(axis = 0)\n",
        "    Dk = sum(sum((each_cluster - mu)**2)) * 2.0 * each_cluster.shape[0]\n",
        "    return Dk\n",
        "\n",
        "# 计算簇内的Wk值\n",
        "def compute_Wk(data, classfication_result):\n",
        "    Wk = 0\n",
        "    label_set = set(classfication_result)\n",
        "    for label in label_set:\n",
        "        each_cluster = data[classfication_result == label, :]\n",
        "        Wk = Wk + short_pair_wise_D(each_cluster)/(2.0*each_cluster.shape[0])\n",
        "    return Wk\n",
        "\n",
        "# 计算GAP统计量 \n",
        "def gap_statistic(X, B=10, K=range(1,11), N_init = 10):\n",
        "    # 将输入数据集转换为数组\n",
        "    X = np.array(X)\n",
        "    # 生成B组参照数据\n",
        "    shape = X.shape\n",
        "    tops = X.max(axis=0)\n",
        "    bots = X.min(axis=0)\n",
        "    dists = np.matrix(np.diag(tops-bots))\n",
        "    rands = np.random.random_sample(size=(B,shape[0],shape[1]))\n",
        "    for i in range(B):\n",
        "        rands[i,:,:] = rands[i,:,:]*dists+bots\n",
        "    \n",
        "    # 自定义0元素的数组，用于存储gaps、Wks和Wkbs\n",
        "    gaps = np.zeros(len(K))\n",
        "    Wks = np.zeros(len(K))\n",
        "    Wkbs = np.zeros((len(K),B))\n",
        "    # 循环不同的k值，\n",
        "    for idxk, k in enumerate(K):\n",
        "        k_means =  KMeans(n_clusters=k)\n",
        "        k_means.fit(X)\n",
        "        classfication_result = k_means.labels_\n",
        "        # 将所有簇内的Wk存储起来\n",
        "        Wks[idxk] = compute_Wk(X,classfication_result)\n",
        "        \n",
        "        # 通过循环，计算每一个参照数据集下的各簇Wk值\n",
        "        for i in range(B):\n",
        "            Xb = rands[i,:,:]\n",
        "            k_means.fit(Xb)\n",
        "            classfication_result_b = k_means.labels_\n",
        "            Wkbs[idxk,i] = compute_Wk(Xb,classfication_result_b)\n",
        "\n",
        "    # 计算gaps、sd_ks、sk和gapDiff\n",
        "    gaps = (np.log(Wkbs)).mean(axis = 1) - np.log(Wks)        \n",
        "    sd_ks = np.std(np.log(Wkbs), axis=1)\n",
        "    sk = sd_ks*np.sqrt(1+1.0/B)\n",
        "    # 用于判别最佳k的标准，当gapDiff首次为正时，对应的k即为目标值\n",
        "    gapDiff = gaps[:-1] - gaps[1:] + sk[1:]\n",
        "    \n",
        "    # 中文和负号的正常显示\n",
        "    plt.rcParams['font.sans-serif'] = ['Microsoft YaHei']\n",
        "    plt.rcParams['axes.unicode_minus'] = False\n",
        "    # 设置绘图风格\n",
        "    plt.style.use('ggplot')\n",
        "    # 绘制gapDiff的条形图\n",
        "    plt.bar(np.arange(len(gapDiff))+1, gapDiff, color = 'steelblue')\n",
        "    plt.xlabel('簇的个数',fontproperties=zhfont)\n",
        "    plt.ylabel('k的选择标准',fontproperties=zhfont)\n",
        "    plt.show()\n",
        "    \n",
        "# 自定义函数的调用\n",
        "gap_statistic(X)    \n"
      ],
      "metadata": {
        "colab": {
          "base_uri": "https://localhost:8080/",
          "height": 281
        },
        "id": "HqdOijDzeHq5",
        "outputId": "d5d6a11f-93b4-452e-bdd7-f96067328b1f"
      },
      "execution_count": 9,
      "outputs": [
        {
          "output_type": "display_data",
          "data": {
            "text/plain": [
              "<Figure size 432x288 with 1 Axes>"
            ],
            "image/png": "[encoded data removed]"
          },
          "metadata": {}
        }
      ]
    },
    {
      "cell_type": "markdown",
      "source": [
        "x轴代表了不同的簇数k，y轴代表k值选择的判断指标gapDiff，gapDiff首次\n",
        "出现正值时对应的k为2。所以，对于数据集来说，将其划分为2个簇是比较合理的，同样与预设的簇数一致。代码中自定义了3个函数，分别用于计算公式中的Dk、Wk和Gapk，虽然计算逻辑比较简单，但是涉及的循环比较多，所以对大数据集而言，其k值的确定会比较慢。\n"
      ],
      "metadata": {
        "id": "DmXuX0nvelgi"
      }
    },
    {
      "cell_type": "markdown",
      "source": [],
      "metadata": {
        "id": "Id30Wfeee9Hr"
      }
    },
    {
      "cell_type": "code",
      "source": [
        "# 构建Kmeans模型\n",
        "Y = df\n",
        "kmeans = KMeans(n_clusters = 3)\n",
        "kmeans.fit(X)\n",
        "# 聚类结果标签\n",
        "X['cluster'] = kmeans.labels_\n",
        "# 各类频数统计\n",
        "X.cluster.value_counts()"
      ],
      "metadata": {
        "colab": {
          "base_uri": "https://localhost:8080/"
        },
        "id": "hBoWK3fue8oL",
        "outputId": "2f4f06fa-c43a-4ce9-9770-cb8c9a1fe805"
      },
      "execution_count": 10,
      "outputs": [
        {
          "output_type": "stream",
          "name": "stderr",
          "text": [
            "/usr/local/lib/python3.7/dist-packages/ipykernel_launcher.py:6: SettingWithCopyWarning: \n",
            "A value is trying to be set on a copy of a slice from a DataFrame.\n",
            "Try using .loc[row_indexer,col_indexer] = value instead\n",
            "\n",
            "See the caveats in the documentation: https://pandas.pydata.org/pandas-docs/stable/user_guide/indexing.html#returning-a-view-versus-a-copy\n",
            "  \n"
          ]
        },
        {
          "output_type": "execute_result",
          "data": {
            "text/plain": [
              "1    10\n",
              "2     7\n",
              "0     7\n",
              "Name: cluster, dtype: int64"
            ]
          },
          "metadata": {},
          "execution_count": 10
        }
      ]
    },
    {
      "cell_type": "code",
      "source": [
        "# 导入第三方模块\n",
        "import seaborn as sns\n",
        "\n",
        "# 三个簇的簇中心\n",
        "centers = kmeans.cluster_centers_\n",
        "print(centers)\n",
        "# 绘制聚类效果的散点图\n",
        "sns.lmplot(x = '有机含量', y = '黏土矿物', data = X, fit_reg = False, scatter_kws = {'alpha':0.8}, legend_out = False)\n",
        "plt.scatter(centers[:,0], centers[:,1], marker = '*', color = 'black', s = 130)\n",
        "plt.xlabel('有机含量',fontproperties=zhfont)\n",
        "plt.ylabel('黏土矿物',fontproperties=zhfont)\n",
        "# 图形显示\n",
        "plt.show()\n"
      ],
      "metadata": {
        "colab": {
          "base_uri": "https://localhost:8080/",
          "height": 766
        },
        "id": "UHW-sV9Sf-gq",
        "outputId": "f8085521-c89e-4102-db5b-1fdf2bb86beb"
      },
      "execution_count": 11,
      "outputs": [
        {
          "output_type": "stream",
          "name": "stderr",
          "text": [
            "/usr/local/lib/python3.7/dist-packages/seaborn/regression.py:592: UserWarning: legend_out is deprecated from the `lmplot` function signature. Please update your code to pass it using `facet_kws`.\n",
            "  warnings.warn(msg, UserWarning)\n"
          ]
        },
        {
          "output_type": "stream",
          "name": "stdout",
          "text": [
            "[[72.78428571 24.04      ]\n",
            " [88.485       8.249     ]\n",
            " [96.80142857  2.16571429]]\n"
          ]
        },
        {
          "output_type": "stream",
          "name": "stderr",
          "text": [
            "WARNING:matplotlib.font_manager:findfont: Font family ['SimHei'] not found. Falling back to DejaVu Sans.\n",
            "/usr/local/lib/python3.7/dist-packages/matplotlib/backends/backend_agg.py:214: RuntimeWarning: Glyph 26377 missing from current font.\n",
            "  font.set_text(s, 0.0, flags=flags)\n",
            "/usr/local/lib/python3.7/dist-packages/matplotlib/backends/backend_agg.py:214: RuntimeWarning: Glyph 26426 missing from current font.\n",
            "  font.set_text(s, 0.0, flags=flags)\n",
            "/usr/local/lib/python3.7/dist-packages/matplotlib/backends/backend_agg.py:214: RuntimeWarning: Glyph 21547 missing from current font.\n",
            "  font.set_text(s, 0.0, flags=flags)\n",
            "/usr/local/lib/python3.7/dist-packages/matplotlib/backends/backend_agg.py:214: RuntimeWarning: Glyph 37327 missing from current font.\n",
            "  font.set_text(s, 0.0, flags=flags)\n",
            "/usr/local/lib/python3.7/dist-packages/matplotlib/backends/backend_agg.py:214: RuntimeWarning: Glyph 40655 missing from current font.\n",
            "  font.set_text(s, 0.0, flags=flags)\n",
            "/usr/local/lib/python3.7/dist-packages/matplotlib/backends/backend_agg.py:214: RuntimeWarning: Glyph 22303 missing from current font.\n",
            "  font.set_text(s, 0.0, flags=flags)\n",
            "/usr/local/lib/python3.7/dist-packages/matplotlib/backends/backend_agg.py:214: RuntimeWarning: Glyph 30719 missing from current font.\n",
            "  font.set_text(s, 0.0, flags=flags)\n",
            "/usr/local/lib/python3.7/dist-packages/matplotlib/backends/backend_agg.py:214: RuntimeWarning: Glyph 29289 missing from current font.\n",
            "  font.set_text(s, 0.0, flags=flags)\n"
          ]
        },
        {
          "output_type": "display_data",
          "data": {
            "text/plain": [
              "<Figure size 360x360 with 1 Axes>"
            ],
            "image/png": "[encoded data removed]"
          },
          "metadata": {}
        }
      ]
    },
    {
      "cell_type": "markdown",
      "source": [
        "# 聚类层次树-dendrogram"
      ],
      "metadata": {
        "id": "vPgXfwDMiM9R"
      }
    },
    {
      "cell_type": "code",
      "source": [
        "import numpy as np\n",
        "import pandas as pd\n",
        "import scipy.stats as st\n",
        "import statsmodels.api as sm\n",
        "import scipy.cluster as sc\n",
        "from scipy.cluster import hierarchy\n",
        "import matplotlib.pyplot as plt\n",
        "import scipy.spatial.distance as dist\n"
      ],
      "metadata": {
        "id": "f_xfhmjeiMT3"
      },
      "execution_count": 33,
      "outputs": []
    },
    {
      "cell_type": "markdown",
      "source": [
        "#### 对变量进行聚类"
      ],
      "metadata": {
        "id": "upDPTRDopnW0"
      }
    },
    {
      "cell_type": "code",
      "source": [
        "df_list = df.values\n",
        "X =np.matrix(df_list)\n",
        "# print(X)\n",
        "X_std = (X - np.mean(X,axis=0))/st.tstd(X,axis=0)#注意这里要使用标准差的无偏估计\n",
        "names = df.index.tolist()\n",
        "print(names)"
      ],
      "metadata": {
        "colab": {
          "base_uri": "https://localhost:8080/"
        },
        "id": "B9NqmsfhjLCx",
        "outputId": "e90a04e9-4b22-4e93-effa-0f6b7c7ab8f0"
      },
      "execution_count": 34,
      "outputs": [
        {
          "output_type": "stream",
          "name": "stdout",
          "text": [
            "[0, 1, 2, 3, 4, 5, 6, 7, 8, 9, 10, 11, 12, 13, 14, 15, 16, 17, 18, 19, 20, 21, 22, 23]\n"
          ]
        }
      ]
    },
    {
      "cell_type": "code",
      "source": [
        "# 计算距离\n",
        "dist = dist.pdist(X_std,'euclidean')"
      ],
      "metadata": {
        "id": "9wKd1iHHlC4Z"
      },
      "execution_count": 35,
      "outputs": []
    },
    {
      "cell_type": "code",
      "source": [
        "Z = hierarchy.linkage(dist, 'average')"
      ],
      "metadata": {
        "id": "1qvTNoHMnzzn"
      },
      "execution_count": 36,
      "outputs": []
    },
    {
      "cell_type": "code",
      "source": [
        "#dendrogram：系统树图\n",
        "d1 = hierarchy.dendrogram(Z, labels = names, count_sort=False)\n",
        "plt.xticks(size=16)\n",
        "plt.show()"
      ],
      "metadata": {
        "colab": {
          "base_uri": "https://localhost:8080/",
          "height": 283
        },
        "id": "hWMBfAUtlNYT",
        "outputId": "533f87d4-742c-426c-e026-d00db00f4d3b"
      },
      "execution_count": 37,
      "outputs": [
        {
          "output_type": "display_data",
          "data": {
            "text/plain": [
              "<Figure size 432x288 with 1 Axes>"
            ],
            "image/png": "[encoded data removed]"
          },
          "metadata": {}
        }
      ]
    },
    {
      "cell_type": "markdown",
      "source": [
        "#### 对属性进行聚类"
      ],
      "metadata": {
        "id": "aQR6-BMVpq61"
      }
    },
    {
      "cell_type": "code",
      "source": [
        "import numpy as np\n",
        "import pandas as pd\n",
        "import scipy.stats as st\n",
        "import statsmodels.api as sm\n",
        "import scipy.cluster as sc\n",
        "from scipy.cluster import hierarchy\n",
        "import matplotlib.pyplot as plt\n",
        "import scipy.spatial.distance as dist\n"
      ],
      "metadata": {
        "id": "JQkgTwZS9c14"
      },
      "execution_count": 51,
      "outputs": []
    },
    {
      "cell_type": "code",
      "source": [
        "df_list = df.values\n",
        "X =np.matrix(df_list).T\n",
        "# print(X)\n",
        "X_std = (X - np.mean(X,axis=0))/st.tstd(X,axis=0)#注意这里要使用标准差的无偏估计\n",
        "names = df.index.tolist()\n",
        "print(names)"
      ],
      "metadata": {
        "colab": {
          "base_uri": "https://localhost:8080/"
        },
        "id": "KbXg3S529cqP",
        "outputId": "cbec7e1a-75fc-4598-8e65-0524062d5e20"
      },
      "execution_count": 52,
      "outputs": [
        {
          "output_type": "stream",
          "name": "stdout",
          "text": [
            "[0, 1, 2, 3, 4, 5, 6, 7, 8, 9, 10, 11, 12, 13, 14, 15, 16, 17, 18, 19, 20, 21, 22, 23]\n"
          ]
        }
      ]
    },
    {
      "cell_type": "code",
      "source": [
        "# 计算距离\n",
        "dist1 = dist.pdist(X_std,'euclidean')"
      ],
      "metadata": {
        "id": "-3ICuQ_dpBoZ"
      },
      "execution_count": 53,
      "outputs": []
    },
    {
      "cell_type": "code",
      "source": [
        "Z = hierarchy.linkage(dist1, 'average')"
      ],
      "metadata": {
        "id": "H4vLJH19pCl5"
      },
      "execution_count": 54,
      "outputs": []
    },
    {
      "cell_type": "code",
      "source": [
        "#dendrogram：系统树图\n",
        "d1 = hierarchy.dendrogram(Z, labels = df.columns, count_sort=False)\n",
        "plt.xticks(size=16,fontproperties=zhfont)\n",
        "plt.show()"
      ],
      "metadata": {
        "colab": {
          "base_uri": "https://localhost:8080/",
          "height": 268
        },
        "id": "J5gH6rFHpE2I",
        "outputId": "f32f5371-ab9b-4da5-d075-577f5eb01365"
      },
      "execution_count": 55,
      "outputs": [
        {
          "output_type": "display_data",
          "data": {
            "text/plain": [
              "<Figure size 432x288 with 1 Axes>"
            ],
            "image/png": "[encoded data removed]"
          },
          "metadata": {}
        }
      ]
    }
  ]
}