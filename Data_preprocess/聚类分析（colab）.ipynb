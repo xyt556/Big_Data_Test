{
 "cells": [
  {
   "cell_type": "code",
   "execution_count": 1,
   "metadata": {
    "colab": {
     "base_uri": "https://localhost:8080/",
     "height": 206
    },
    "id": "2f226bb8",
    "outputId": "638ccbd6-f33e-4663-f5cc-3787fd59eb9f",
    "scrolled": false
   },
   "outputs": [
    {
     "ename": "FileNotFoundError",
     "evalue": "[Errno 2] No such file or directory: '/content/drive/MyDrive/Colab Notebooks/大数据基础/data.xlsx'",
     "output_type": "error",
     "traceback": [
      "\u001B[1;31m---------------------------------------------------------------------------\u001B[0m",
      "\u001B[1;31mFileNotFoundError\u001B[0m                         Traceback (most recent call last)",
      "Cell \u001B[1;32mIn [1], line 8\u001B[0m\n\u001B[0;32m      6\u001B[0m filename \u001B[38;5;241m=\u001B[39m \u001B[38;5;124m\"\u001B[39m\u001B[38;5;124m/content/drive/MyDrive/Colab Notebooks/大数据基础/data.xlsx\u001B[39m\u001B[38;5;124m\"\u001B[39m\n\u001B[0;32m      7\u001B[0m \u001B[38;5;66;03m# filename = 'data.xlsx'\u001B[39;00m\n\u001B[1;32m----> 8\u001B[0m df \u001B[38;5;241m=\u001B[39m \u001B[43mpd\u001B[49m\u001B[38;5;241;43m.\u001B[39;49m\u001B[43mread_excel\u001B[49m\u001B[43m(\u001B[49m\u001B[43mfilename\u001B[49m\u001B[43m,\u001B[49m\u001B[43mheader\u001B[49m\u001B[38;5;241;43m=\u001B[39;49m\u001B[38;5;241;43m0\u001B[39;49m\u001B[43m,\u001B[49m\u001B[43msheet_name\u001B[49m\u001B[38;5;241;43m=\u001B[39;49m\u001B[38;5;124;43m'\u001B[39;49m\u001B[38;5;124;43m因子分析2\u001B[39;49m\u001B[38;5;124;43m'\u001B[39;49m\u001B[43m,\u001B[49m\u001B[43mindex_col\u001B[49m\u001B[38;5;241;43m=\u001B[39;49m\u001B[38;5;124;43m'\u001B[39;49m\u001B[38;5;124;43m编号\u001B[39;49m\u001B[38;5;124;43m'\u001B[39;49m\u001B[43m)\u001B[49m\n\u001B[0;32m      9\u001B[0m df\u001B[38;5;241m.\u001B[39mhead(\u001B[38;5;241m5\u001B[39m)\n\u001B[0;32m     10\u001B[0m \u001B[38;5;66;03m# index如果有重复值，需要重新index一下，不然后面可能会出错\u001B[39;00m\n",
      "File \u001B[1;32md:\\big_data_test\\envi\\lib\\site-packages\\pandas\\util\\_decorators.py:211\u001B[0m, in \u001B[0;36mdeprecate_kwarg.<locals>._deprecate_kwarg.<locals>.wrapper\u001B[1;34m(*args, **kwargs)\u001B[0m\n\u001B[0;32m    209\u001B[0m     \u001B[38;5;28;01melse\u001B[39;00m:\n\u001B[0;32m    210\u001B[0m         kwargs[new_arg_name] \u001B[38;5;241m=\u001B[39m new_arg_value\n\u001B[1;32m--> 211\u001B[0m \u001B[38;5;28;01mreturn\u001B[39;00m func(\u001B[38;5;241m*\u001B[39margs, \u001B[38;5;241m*\u001B[39m\u001B[38;5;241m*\u001B[39mkwargs)\n",
      "File \u001B[1;32md:\\big_data_test\\envi\\lib\\site-packages\\pandas\\util\\_decorators.py:317\u001B[0m, in \u001B[0;36mdeprecate_nonkeyword_arguments.<locals>.decorate.<locals>.wrapper\u001B[1;34m(*args, **kwargs)\u001B[0m\n\u001B[0;32m    311\u001B[0m \u001B[38;5;28;01mif\u001B[39;00m \u001B[38;5;28mlen\u001B[39m(args) \u001B[38;5;241m>\u001B[39m num_allow_args:\n\u001B[0;32m    312\u001B[0m     warnings\u001B[38;5;241m.\u001B[39mwarn(\n\u001B[0;32m    313\u001B[0m         msg\u001B[38;5;241m.\u001B[39mformat(arguments\u001B[38;5;241m=\u001B[39marguments),\n\u001B[0;32m    314\u001B[0m         \u001B[38;5;167;01mFutureWarning\u001B[39;00m,\n\u001B[0;32m    315\u001B[0m         stacklevel\u001B[38;5;241m=\u001B[39mfind_stack_level(inspect\u001B[38;5;241m.\u001B[39mcurrentframe()),\n\u001B[0;32m    316\u001B[0m     )\n\u001B[1;32m--> 317\u001B[0m \u001B[38;5;28;01mreturn\u001B[39;00m func(\u001B[38;5;241m*\u001B[39margs, \u001B[38;5;241m*\u001B[39m\u001B[38;5;241m*\u001B[39mkwargs)\n",
      "File \u001B[1;32md:\\big_data_test\\envi\\lib\\site-packages\\pandas\\io\\excel\\_base.py:483\u001B[0m, in \u001B[0;36mread_excel\u001B[1;34m(io, sheet_name, header, names, index_col, usecols, squeeze, dtype, engine, converters, true_values, false_values, skiprows, nrows, na_values, keep_default_na, na_filter, verbose, parse_dates, date_parser, thousands, decimal, comment, skipfooter, convert_float, mangle_dupe_cols, storage_options)\u001B[0m\n\u001B[0;32m    481\u001B[0m \u001B[38;5;28;01mif\u001B[39;00m \u001B[38;5;129;01mnot\u001B[39;00m \u001B[38;5;28misinstance\u001B[39m(io, ExcelFile):\n\u001B[0;32m    482\u001B[0m     should_close \u001B[38;5;241m=\u001B[39m \u001B[38;5;28;01mTrue\u001B[39;00m\n\u001B[1;32m--> 483\u001B[0m     io \u001B[38;5;241m=\u001B[39m \u001B[43mExcelFile\u001B[49m\u001B[43m(\u001B[49m\u001B[43mio\u001B[49m\u001B[43m,\u001B[49m\u001B[43m \u001B[49m\u001B[43mstorage_options\u001B[49m\u001B[38;5;241;43m=\u001B[39;49m\u001B[43mstorage_options\u001B[49m\u001B[43m,\u001B[49m\u001B[43m \u001B[49m\u001B[43mengine\u001B[49m\u001B[38;5;241;43m=\u001B[39;49m\u001B[43mengine\u001B[49m\u001B[43m)\u001B[49m\n\u001B[0;32m    484\u001B[0m \u001B[38;5;28;01melif\u001B[39;00m engine \u001B[38;5;129;01mand\u001B[39;00m engine \u001B[38;5;241m!=\u001B[39m io\u001B[38;5;241m.\u001B[39mengine:\n\u001B[0;32m    485\u001B[0m     \u001B[38;5;28;01mraise\u001B[39;00m \u001B[38;5;167;01mValueError\u001B[39;00m(\n\u001B[0;32m    486\u001B[0m         \u001B[38;5;124m\"\u001B[39m\u001B[38;5;124mEngine should not be specified when passing \u001B[39m\u001B[38;5;124m\"\u001B[39m\n\u001B[0;32m    487\u001B[0m         \u001B[38;5;124m\"\u001B[39m\u001B[38;5;124man ExcelFile - ExcelFile already has the engine set\u001B[39m\u001B[38;5;124m\"\u001B[39m\n\u001B[0;32m    488\u001B[0m     )\n",
      "File \u001B[1;32md:\\big_data_test\\envi\\lib\\site-packages\\pandas\\io\\excel\\_base.py:1629\u001B[0m, in \u001B[0;36mExcelFile.__init__\u001B[1;34m(self, path_or_buffer, engine, storage_options)\u001B[0m\n\u001B[0;32m   1627\u001B[0m     ext \u001B[38;5;241m=\u001B[39m \u001B[38;5;124m\"\u001B[39m\u001B[38;5;124mxls\u001B[39m\u001B[38;5;124m\"\u001B[39m\n\u001B[0;32m   1628\u001B[0m \u001B[38;5;28;01melse\u001B[39;00m:\n\u001B[1;32m-> 1629\u001B[0m     ext \u001B[38;5;241m=\u001B[39m \u001B[43minspect_excel_format\u001B[49m\u001B[43m(\u001B[49m\n\u001B[0;32m   1630\u001B[0m \u001B[43m        \u001B[49m\u001B[43mcontent_or_path\u001B[49m\u001B[38;5;241;43m=\u001B[39;49m\u001B[43mpath_or_buffer\u001B[49m\u001B[43m,\u001B[49m\u001B[43m \u001B[49m\u001B[43mstorage_options\u001B[49m\u001B[38;5;241;43m=\u001B[39;49m\u001B[43mstorage_options\u001B[49m\n\u001B[0;32m   1631\u001B[0m \u001B[43m    \u001B[49m\u001B[43m)\u001B[49m\n\u001B[0;32m   1632\u001B[0m     \u001B[38;5;28;01mif\u001B[39;00m ext \u001B[38;5;129;01mis\u001B[39;00m \u001B[38;5;28;01mNone\u001B[39;00m:\n\u001B[0;32m   1633\u001B[0m         \u001B[38;5;28;01mraise\u001B[39;00m \u001B[38;5;167;01mValueError\u001B[39;00m(\n\u001B[0;32m   1634\u001B[0m             \u001B[38;5;124m\"\u001B[39m\u001B[38;5;124mExcel file format cannot be determined, you must specify \u001B[39m\u001B[38;5;124m\"\u001B[39m\n\u001B[0;32m   1635\u001B[0m             \u001B[38;5;124m\"\u001B[39m\u001B[38;5;124man engine manually.\u001B[39m\u001B[38;5;124m\"\u001B[39m\n\u001B[0;32m   1636\u001B[0m         )\n",
      "File \u001B[1;32md:\\big_data_test\\envi\\lib\\site-packages\\pandas\\io\\excel\\_base.py:1502\u001B[0m, in \u001B[0;36minspect_excel_format\u001B[1;34m(content_or_path, storage_options)\u001B[0m\n\u001B[0;32m   1499\u001B[0m \u001B[38;5;28;01mif\u001B[39;00m \u001B[38;5;28misinstance\u001B[39m(content_or_path, \u001B[38;5;28mbytes\u001B[39m):\n\u001B[0;32m   1500\u001B[0m     content_or_path \u001B[38;5;241m=\u001B[39m BytesIO(content_or_path)\n\u001B[1;32m-> 1502\u001B[0m \u001B[38;5;28;01mwith\u001B[39;00m \u001B[43mget_handle\u001B[49m\u001B[43m(\u001B[49m\n\u001B[0;32m   1503\u001B[0m \u001B[43m    \u001B[49m\u001B[43mcontent_or_path\u001B[49m\u001B[43m,\u001B[49m\u001B[43m \u001B[49m\u001B[38;5;124;43m\"\u001B[39;49m\u001B[38;5;124;43mrb\u001B[39;49m\u001B[38;5;124;43m\"\u001B[39;49m\u001B[43m,\u001B[49m\u001B[43m \u001B[49m\u001B[43mstorage_options\u001B[49m\u001B[38;5;241;43m=\u001B[39;49m\u001B[43mstorage_options\u001B[49m\u001B[43m,\u001B[49m\u001B[43m \u001B[49m\u001B[43mis_text\u001B[49m\u001B[38;5;241;43m=\u001B[39;49m\u001B[38;5;28;43;01mFalse\u001B[39;49;00m\n\u001B[0;32m   1504\u001B[0m \u001B[43m\u001B[49m\u001B[43m)\u001B[49m \u001B[38;5;28;01mas\u001B[39;00m handle:\n\u001B[0;32m   1505\u001B[0m     stream \u001B[38;5;241m=\u001B[39m handle\u001B[38;5;241m.\u001B[39mhandle\n\u001B[0;32m   1506\u001B[0m     stream\u001B[38;5;241m.\u001B[39mseek(\u001B[38;5;241m0\u001B[39m)\n",
      "File \u001B[1;32md:\\big_data_test\\envi\\lib\\site-packages\\pandas\\io\\common.py:866\u001B[0m, in \u001B[0;36mget_handle\u001B[1;34m(path_or_buf, mode, encoding, compression, memory_map, is_text, errors, storage_options)\u001B[0m\n\u001B[0;32m    857\u001B[0m         handle \u001B[38;5;241m=\u001B[39m \u001B[38;5;28mopen\u001B[39m(\n\u001B[0;32m    858\u001B[0m             handle,\n\u001B[0;32m    859\u001B[0m             ioargs\u001B[38;5;241m.\u001B[39mmode,\n\u001B[1;32m   (...)\u001B[0m\n\u001B[0;32m    862\u001B[0m             newline\u001B[38;5;241m=\u001B[39m\u001B[38;5;124m\"\u001B[39m\u001B[38;5;124m\"\u001B[39m,\n\u001B[0;32m    863\u001B[0m         )\n\u001B[0;32m    864\u001B[0m     \u001B[38;5;28;01melse\u001B[39;00m:\n\u001B[0;32m    865\u001B[0m         \u001B[38;5;66;03m# Binary mode\u001B[39;00m\n\u001B[1;32m--> 866\u001B[0m         handle \u001B[38;5;241m=\u001B[39m \u001B[38;5;28;43mopen\u001B[39;49m\u001B[43m(\u001B[49m\u001B[43mhandle\u001B[49m\u001B[43m,\u001B[49m\u001B[43m \u001B[49m\u001B[43mioargs\u001B[49m\u001B[38;5;241;43m.\u001B[39;49m\u001B[43mmode\u001B[49m\u001B[43m)\u001B[49m\n\u001B[0;32m    867\u001B[0m     handles\u001B[38;5;241m.\u001B[39mappend(handle)\n\u001B[0;32m    869\u001B[0m \u001B[38;5;66;03m# Convert BytesIO or file objects passed with an encoding\u001B[39;00m\n",
      "\u001B[1;31mFileNotFoundError\u001B[0m: [Errno 2] No such file or directory: '/content/drive/MyDrive/Colab Notebooks/大数据基础/data.xlsx'"
     ]
    }
   ],
   "source": [
    "import matplotlib.pyplot as plt\n",
    "import pandas as pd\n",
    "import numpy as np\n",
    "import seaborn as sns\n",
    "\n",
    "filename = \"/content/drive/MyDrive/Colab Notebooks/大数据基础/data.xlsx\"\n",
    "# filename = 'data.xlsx'\n",
    "df = pd.read_excel(filename,header=0,sheet_name='因子分析2',index_col='编号')\n",
    "df.head(5)\n",
    "# index如果有重复值，需要重新index一下，不然后面可能会出错\n",
    "df.index = range(df.shape[0])\n",
    "df.head()"
   ]
  },
  {
   "cell_type": "code",
   "execution_count": 2,
   "metadata": {
    "id": "-DlNTXhTuEA_"
   },
   "outputs": [],
   "source": [
    "# 设置显示中文（Colab）\n",
    "import matplotlib as mpl\n",
    "zhfont = mpl.font_manager.FontProperties(fname='/content/drive/MyDrive/Colab Notebooks/大数据基础/SimHei.ttf')\n",
    "plt.rcParams['axes.unicode_minus'] = False\n",
    "# ,fontproperties=zhfont\n",
    "## for Seaborn\n",
    "sns.set(font=zhfont.get_name())"
   ]
  },
  {
   "cell_type": "code",
   "execution_count": 2,
   "metadata": {
    "id": "jZqZ70iuubkQ"
   },
   "outputs": [],
   "source": [
    "# # 设置显示中文（正常情况下）\n",
    "# plt.rcParams['font.sans-serif'] = ['SimHei']\n",
    "# plt.rcParams['axes.unicode_minus'] = False\n",
    "# sns.set(font='SimHei')"
   ]
  },
  {
   "cell_type": "markdown",
   "metadata": {
    "id": "y9JuSrmlWofs"
   },
   "source": [
    "# KMeans"
   ]
  },
  {
   "cell_type": "code",
   "execution_count": 3,
   "metadata": {
    "colab": {
     "base_uri": "https://localhost:8080/"
    },
    "id": "4DCpeYZ8W1Mu",
    "outputId": "0c50e736-9fb6-4668-c0c6-2da471632106"
   },
   "outputs": [
    {
     "data": {
      "text/plain": [
       "array([0, 0, 0, 0, 0, 1, 0, 0, 0, 0, 1, 0, 0, 0, 0, 1, 0, 0, 0, 1, 1, 1,\n",
       "       1, 0])"
      ]
     },
     "execution_count": 3,
     "metadata": {},
     "output_type": "execute_result"
    }
   ],
   "source": [
    "from sklearn.cluster import KMeans\n",
    "from sklearn import metrics\n",
    "# x = np.array([[1,2],[1,4],[1,0],[10,2],[10,4],[10,0]])\n",
    "X=df.iloc[:,0:2]\n",
    "Kmeans = KMeans(n_clusters=2,random_state=0).fit(X)\n",
    "Kmeans.labels_"
   ]
  },
  {
   "cell_type": "code",
   "execution_count": 4,
   "metadata": {
    "colab": {
     "base_uri": "https://localhost:8080/"
    },
    "id": "bdllFcWSXCER",
    "outputId": "49992ef0-2b3e-4e6a-b97f-13001609a4a0"
   },
   "outputs": [
    {
     "data": {
      "text/plain": [
       "array([[91.90941176,  5.74411765],\n",
       "       [72.78428571, 24.04      ]])"
      ]
     },
     "execution_count": 4,
     "metadata": {},
     "output_type": "execute_result"
    }
   ],
   "source": [
    "Kmeans.cluster_centers_"
   ]
  },
  {
   "cell_type": "code",
   "execution_count": 5,
   "metadata": {
    "colab": {
     "base_uri": "https://localhost:8080/"
    },
    "id": "OchwpJdAW89a",
    "outputId": "771849e0-1ee8-4239-a667-1f93f412f5a7"
   },
   "outputs": [
    {
     "name": "stderr",
     "output_type": "stream",
     "text": [
      "d:\\big_data_test\\envi\\lib\\site-packages\\sklearn\\base.py:450: UserWarning: X does not have valid feature names, but KMeans was fitted with feature names\n",
      "  warnings.warn(\n"
     ]
    },
    {
     "data": {
      "text/plain": [
       "array([0, 1])"
      ]
     },
     "execution_count": 5,
     "metadata": {},
     "output_type": "execute_result"
    }
   ],
   "source": [
    "Kmeans.predict([[86,12],[45,3.1]])"
   ]
  },
  {
   "cell_type": "markdown",
   "metadata": {
    "id": "zfNRXLRmdIqV"
   },
   "source": [
    "## 最佳k值的确定\n",
    "### 拐点法\n",
    "\n",
    "就是在不同的k值下计算簇内离差平方和，然后通过可视化的方法找到“拐点”所对应的k值。正如前文所介绍的Kmeans聚类算法的目标函数J，随着簇数量的增加，簇中的样本量会越来越少，进而导致目标函数J的值也会越来越小。通过可视化方法，重点关注的是斜率的变化，当斜率由大突然变小时，并且之后的斜率变化缓慢，则认为突然变化的点就是寻找的目标点，因为继续随着簇数k的增加，聚类效果不再有大的变化。\n",
    "性，这里随机生成三组二元正态分布数据，首先基于该数据绘制散点图\n"
   ]
  },
  {
   "cell_type": "code",
   "execution_count": 6,
   "metadata": {
    "colab": {
     "base_uri": "https://localhost:8080/",
     "height": 299
    },
    "id": "l4BD-Lisbwsr",
    "outputId": "535f68b3-067a-4fe7-a9ee-e26a4aacbc1d"
   },
   "outputs": [
    {
     "ename": "NameError",
     "evalue": "name 'zhfont' is not defined",
     "output_type": "error",
     "traceback": [
      "\u001B[1;31m---------------------------------------------------------------------------\u001B[0m",
      "\u001B[1;31mNameError\u001B[0m                                 Traceback (most recent call last)",
      "Cell \u001B[1;32mIn [6], line 37\u001B[0m\n\u001B[0;32m     32\u001B[0m     plt\u001B[38;5;241m.\u001B[39mshow()\n\u001B[0;32m     34\u001B[0m \u001B[38;5;66;03m# 将三组数据集汇总到数据框中\u001B[39;00m\n\u001B[0;32m     35\u001B[0m \n\u001B[0;32m     36\u001B[0m \u001B[38;5;66;03m# 自定义函数的调用\u001B[39;00m\n\u001B[1;32m---> 37\u001B[0m \u001B[43mk_SSE\u001B[49m\u001B[43m(\u001B[49m\u001B[43mX\u001B[49m\u001B[43m,\u001B[49m\u001B[43m \u001B[49m\u001B[38;5;241;43m15\u001B[39;49m\u001B[43m)\u001B[49m\n",
      "Cell \u001B[1;32mIn [6], line 29\u001B[0m, in \u001B[0;36mk_SSE\u001B[1;34m(X, clusters)\u001B[0m\n\u001B[0;32m     27\u001B[0m \u001B[38;5;66;03m# 绘制K的个数与GSSE的关系\u001B[39;00m\n\u001B[0;32m     28\u001B[0m plt\u001B[38;5;241m.\u001B[39mplot(K, TSSE, \u001B[38;5;124m'\u001B[39m\u001B[38;5;124mb*-\u001B[39m\u001B[38;5;124m'\u001B[39m)\n\u001B[1;32m---> 29\u001B[0m plt\u001B[38;5;241m.\u001B[39mxlabel(\u001B[38;5;124m'\u001B[39m\u001B[38;5;124m簇的个数\u001B[39m\u001B[38;5;124m'\u001B[39m,fontproperties\u001B[38;5;241m=\u001B[39m\u001B[43mzhfont\u001B[49m)\n\u001B[0;32m     30\u001B[0m plt\u001B[38;5;241m.\u001B[39mylabel(\u001B[38;5;124m'\u001B[39m\u001B[38;5;124m簇内离差平方和之和\u001B[39m\u001B[38;5;124m'\u001B[39m,fontproperties\u001B[38;5;241m=\u001B[39mzhfont)\n\u001B[0;32m     31\u001B[0m \u001B[38;5;66;03m# 显示图形\u001B[39;00m\n",
      "\u001B[1;31mNameError\u001B[0m: name 'zhfont' is not defined"
     ]
    },
    {
     "data": {
      "image/png": "[encoded data removed]",
      "text/plain": [
       "<Figure size 640x480 with 1 Axes>"
      ]
     },
     "metadata": {},
     "output_type": "display_data"
    }
   ],
   "source": [
    "# 构造自定义函数，用于绘制不同k值和对应总的簇内离差平方和的折线图\n",
    "def k_SSE(X, clusters):\n",
    "    # 选择连续的K种不同的值\n",
    "    K = range(1,clusters+1)\n",
    "    # 构建空列表用于存储总的簇内离差平方和\n",
    "    TSSE = []\n",
    "    for k in K:\n",
    "        # 用于存储各个簇内离差平方和\n",
    "        SSE = []\n",
    "        kmeans = KMeans(n_clusters=k)\n",
    "        kmeans.fit(X)\n",
    "        # 返回簇标签\n",
    "        labels = kmeans.labels_\n",
    "        # 返回簇中心\n",
    "        centers = kmeans.cluster_centers_\n",
    "        # 计算各簇样本的离差平方和，并保存到列表中\n",
    "        for label in set(labels):\n",
    "            SSE.append(np.sum((X.loc[labels == label,]-centers[label,:])**2))\n",
    "        # 计算总的簇内离差平方和 \n",
    "        TSSE.append(np.sum(SSE))\n",
    "\n",
    "    # 中文和负号的正常显示\n",
    "    plt.rcParams['font.sans-serif'] = ['Microsoft YaHei']\n",
    "    plt.rcParams['axes.unicode_minus'] = False\n",
    "    # 设置绘图风格\n",
    "    plt.style.use('ggplot')\n",
    "    # 绘制K的个数与GSSE的关系\n",
    "    plt.plot(K, TSSE, 'b*-')\n",
    "    plt.xlabel('簇的个数',fontproperties=zhfont)\n",
    "    plt.ylabel('簇内离差平方和之和',fontproperties=zhfont)\n",
    "    # 显示图形\n",
    "    plt.show()\n",
    "\n",
    "# 将三组数据集汇总到数据框中\n",
    "\n",
    "# 自定义函数的调用\n",
    "k_SSE(X, 15)\n"
   ]
  },
  {
   "cell_type": "markdown",
   "metadata": {
    "id": "m4uY13iNdTyy"
   },
   "source": [
    "### 轮廓系数法\n",
    "\n",
    "有关轮廓系数的计算，可以直接调用sklearn子模块metrics中的函数，即\n",
    "silhouette_score。需要注意的是，该函数接受的聚类簇数必须大于等于2。下面基于该函数重新自定义一个函数，用于绘制不同k值下对应轮廓系数的折线图"
   ]
  },
  {
   "cell_type": "code",
   "execution_count": 7,
   "metadata": {
    "colab": {
     "base_uri": "https://localhost:8080/",
     "height": 281
    },
    "id": "J1AEopj6dY2k",
    "outputId": "ff837b3b-65e3-4a02-ddad-4966130a56d1"
   },
   "outputs": [
    {
     "ename": "NameError",
     "evalue": "name 'zhfont' is not defined",
     "output_type": "error",
     "traceback": [
      "\u001B[1;31m---------------------------------------------------------------------------\u001B[0m",
      "\u001B[1;31mNameError\u001B[0m                                 Traceback (most recent call last)",
      "Cell \u001B[1;32mIn [7], line 26\u001B[0m\n\u001B[0;32m     23\u001B[0m     plt\u001B[38;5;241m.\u001B[39mshow()\n\u001B[0;32m     25\u001B[0m \u001B[38;5;66;03m# 自定义函数的调用\u001B[39;00m\n\u001B[1;32m---> 26\u001B[0m \u001B[43mk_silhouette\u001B[49m\u001B[43m(\u001B[49m\u001B[43mX\u001B[49m\u001B[43m,\u001B[49m\u001B[43m \u001B[49m\u001B[38;5;241;43m15\u001B[39;49m\u001B[43m)\u001B[49m\n",
      "Cell \u001B[1;32mIn [7], line 20\u001B[0m, in \u001B[0;36mk_silhouette\u001B[1;34m(X, clusters)\u001B[0m\n\u001B[0;32m     18\u001B[0m \u001B[38;5;66;03m# 绘制K的个数与轮廓系数的关系\u001B[39;00m\n\u001B[0;32m     19\u001B[0m plt\u001B[38;5;241m.\u001B[39mplot(K, S, \u001B[38;5;124m'\u001B[39m\u001B[38;5;124mb*-\u001B[39m\u001B[38;5;124m'\u001B[39m)\n\u001B[1;32m---> 20\u001B[0m plt\u001B[38;5;241m.\u001B[39mxlabel(\u001B[38;5;124m'\u001B[39m\u001B[38;5;124m簇的个数\u001B[39m\u001B[38;5;124m'\u001B[39m,fontproperties\u001B[38;5;241m=\u001B[39m\u001B[43mzhfont\u001B[49m)\n\u001B[0;32m     21\u001B[0m plt\u001B[38;5;241m.\u001B[39mylabel(\u001B[38;5;124m'\u001B[39m\u001B[38;5;124m轮廓系数\u001B[39m\u001B[38;5;124m'\u001B[39m,fontproperties\u001B[38;5;241m=\u001B[39mzhfont)\n\u001B[0;32m     22\u001B[0m \u001B[38;5;66;03m# 显示图形\u001B[39;00m\n",
      "\u001B[1;31mNameError\u001B[0m: name 'zhfont' is not defined"
     ]
    },
    {
     "data": {
      "image/png": "[encoded data removed]",
      "text/plain": [
       "<Figure size 640x480 with 1 Axes>"
      ]
     },
     "metadata": {},
     "output_type": "display_data"
    }
   ],
   "source": [
    "# 构造自定义函数，用于绘制不同k值和对应轮廓系数的折线图\n",
    "def k_silhouette(X, clusters):\n",
    "    K = range(2,clusters+1)\n",
    "    # 构建空列表，用于存储个中簇数下的轮廓系数\n",
    "    S = []\n",
    "    for k in K:\n",
    "        kmeans = KMeans(n_clusters=k)\n",
    "        kmeans.fit(X)\n",
    "        labels = kmeans.labels_\n",
    "        # 调用字模块metrics中的silhouette_score函数，计算轮廓系数\n",
    "        S.append(metrics.silhouette_score(X, labels, metric='euclidean'))\n",
    "\n",
    "    # 中文和负号的正常显示\n",
    "    plt.rcParams['font.sans-serif'] = ['Microsoft YaHei']\n",
    "    plt.rcParams['axes.unicode_minus'] = False\n",
    "    # 设置绘图风格\n",
    "    plt.style.use('ggplot')    \n",
    "    # 绘制K的个数与轮廓系数的关系\n",
    "    plt.plot(K, S, 'b*-')\n",
    "    plt.xlabel('簇的个数',fontproperties=zhfont)\n",
    "    plt.ylabel('轮廓系数',fontproperties=zhfont)\n",
    "    # 显示图形\n",
    "    plt.show()\n",
    "    \n",
    "# 自定义函数的调用\n",
    "k_silhouette(X, 15)\n"
   ]
  },
  {
   "cell_type": "markdown",
   "metadata": {
    "id": "OAN7usBdeFdO"
   },
   "source": [
    "当k等于2时，轮廓系数最大，且比较接近于1，说明应该把数据聚为2类比较合理"
   ]
  },
  {
   "cell_type": "markdown",
   "metadata": {
    "id": "lSwzFUCKeRBS"
   },
   "source": [
    "### 间隔统计量法"
   ]
  },
  {
   "cell_type": "code",
   "execution_count": 8,
   "metadata": {
    "colab": {
     "base_uri": "https://localhost:8080/",
     "height": 281
    },
    "id": "HqdOijDzeHq5",
    "outputId": "d5d6a11f-93b4-452e-bdd7-f96067328b1f"
   },
   "outputs": [
    {
     "ename": "NameError",
     "evalue": "name 'zhfont' is not defined",
     "output_type": "error",
     "traceback": [
      "\u001B[1;31m---------------------------------------------------------------------------\u001B[0m",
      "\u001B[1;31mNameError\u001B[0m                                 Traceback (most recent call last)",
      "Cell \u001B[1;32mIn [8], line 67\u001B[0m\n\u001B[0;32m     64\u001B[0m     plt\u001B[38;5;241m.\u001B[39mshow()\n\u001B[0;32m     66\u001B[0m \u001B[38;5;66;03m# 自定义函数的调用\u001B[39;00m\n\u001B[1;32m---> 67\u001B[0m \u001B[43mgap_statistic\u001B[49m\u001B[43m(\u001B[49m\u001B[43mX\u001B[49m\u001B[43m)\u001B[49m\n",
      "Cell \u001B[1;32mIn [8], line 62\u001B[0m, in \u001B[0;36mgap_statistic\u001B[1;34m(X, B, K, N_init)\u001B[0m\n\u001B[0;32m     60\u001B[0m \u001B[38;5;66;03m# 绘制gapDiff的条形图\u001B[39;00m\n\u001B[0;32m     61\u001B[0m plt\u001B[38;5;241m.\u001B[39mbar(np\u001B[38;5;241m.\u001B[39marange(\u001B[38;5;28mlen\u001B[39m(gapDiff))\u001B[38;5;241m+\u001B[39m\u001B[38;5;241m1\u001B[39m, gapDiff, color \u001B[38;5;241m=\u001B[39m \u001B[38;5;124m'\u001B[39m\u001B[38;5;124msteelblue\u001B[39m\u001B[38;5;124m'\u001B[39m)\n\u001B[1;32m---> 62\u001B[0m plt\u001B[38;5;241m.\u001B[39mxlabel(\u001B[38;5;124m'\u001B[39m\u001B[38;5;124m簇的个数\u001B[39m\u001B[38;5;124m'\u001B[39m,fontproperties\u001B[38;5;241m=\u001B[39m\u001B[43mzhfont\u001B[49m)\n\u001B[0;32m     63\u001B[0m plt\u001B[38;5;241m.\u001B[39mylabel(\u001B[38;5;124m'\u001B[39m\u001B[38;5;124mk的选择标准\u001B[39m\u001B[38;5;124m'\u001B[39m,fontproperties\u001B[38;5;241m=\u001B[39mzhfont)\n\u001B[0;32m     64\u001B[0m plt\u001B[38;5;241m.\u001B[39mshow()\n",
      "\u001B[1;31mNameError\u001B[0m: name 'zhfont' is not defined"
     ]
    },
    {
     "data": {
      "image/png": "[encoded data removed]",
      "text/plain": [
       "<Figure size 640x480 with 1 Axes>"
      ]
     },
     "metadata": {},
     "output_type": "display_data"
    }
   ],
   "source": [
    "# 自定义函数，计算簇内任意两样本之间的欧氏距离\n",
    "def short_pair_wise_D(each_cluster):\n",
    "    mu = each_cluster.mean(axis = 0)\n",
    "    Dk = sum(sum((each_cluster - mu)**2)) * 2.0 * each_cluster.shape[0]\n",
    "    return Dk\n",
    "\n",
    "# 计算簇内的Wk值\n",
    "def compute_Wk(data, classfication_result):\n",
    "    Wk = 0\n",
    "    label_set = set(classfication_result)\n",
    "    for label in label_set:\n",
    "        each_cluster = data[classfication_result == label, :]\n",
    "        Wk = Wk + short_pair_wise_D(each_cluster)/(2.0*each_cluster.shape[0])\n",
    "    return Wk\n",
    "\n",
    "# 计算GAP统计量 \n",
    "def gap_statistic(X, B=10, K=range(1,11), N_init = 10):\n",
    "    # 将输入数据集转换为数组\n",
    "    X = np.array(X)\n",
    "    # 生成B组参照数据\n",
    "    shape = X.shape\n",
    "    tops = X.max(axis=0)\n",
    "    bots = X.min(axis=0)\n",
    "    dists = np.matrix(np.diag(tops-bots))\n",
    "    rands = np.random.random_sample(size=(B,shape[0],shape[1]))\n",
    "    for i in range(B):\n",
    "        rands[i,:,:] = rands[i,:,:]*dists+bots\n",
    "    \n",
    "    # 自定义0元素的数组，用于存储gaps、Wks和Wkbs\n",
    "    gaps = np.zeros(len(K))\n",
    "    Wks = np.zeros(len(K))\n",
    "    Wkbs = np.zeros((len(K),B))\n",
    "    # 循环不同的k值，\n",
    "    for idxk, k in enumerate(K):\n",
    "        k_means =  KMeans(n_clusters=k)\n",
    "        k_means.fit(X)\n",
    "        classfication_result = k_means.labels_\n",
    "        # 将所有簇内的Wk存储起来\n",
    "        Wks[idxk] = compute_Wk(X,classfication_result)\n",
    "        \n",
    "        # 通过循环，计算每一个参照数据集下的各簇Wk值\n",
    "        for i in range(B):\n",
    "            Xb = rands[i,:,:]\n",
    "            k_means.fit(Xb)\n",
    "            classfication_result_b = k_means.labels_\n",
    "            Wkbs[idxk,i] = compute_Wk(Xb,classfication_result_b)\n",
    "\n",
    "    # 计算gaps、sd_ks、sk和gapDiff\n",
    "    gaps = (np.log(Wkbs)).mean(axis = 1) - np.log(Wks)        \n",
    "    sd_ks = np.std(np.log(Wkbs), axis=1)\n",
    "    sk = sd_ks*np.sqrt(1+1.0/B)\n",
    "    # 用于判别最佳k的标准，当gapDiff首次为正时，对应的k即为目标值\n",
    "    gapDiff = gaps[:-1] - gaps[1:] + sk[1:]\n",
    "    \n",
    "    # 中文和负号的正常显示\n",
    "    plt.rcParams['font.sans-serif'] = ['Microsoft YaHei']\n",
    "    plt.rcParams['axes.unicode_minus'] = False\n",
    "    # 设置绘图风格\n",
    "    plt.style.use('ggplot')\n",
    "    # 绘制gapDiff的条形图\n",
    "    plt.bar(np.arange(len(gapDiff))+1, gapDiff, color = 'steelblue')\n",
    "    plt.xlabel('簇的个数',fontproperties=zhfont)\n",
    "    plt.ylabel('k的选择标准',fontproperties=zhfont)\n",
    "    plt.show()\n",
    "    \n",
    "# 自定义函数的调用\n",
    "gap_statistic(X)    \n"
   ]
  },
  {
   "cell_type": "markdown",
   "metadata": {
    "id": "DmXuX0nvelgi"
   },
   "source": [
    "x轴代表了不同的簇数k，y轴代表k值选择的判断指标gapDiff，gapDiff首次\n",
    "出现正值时对应的k为2。所以，对于数据集来说，将其划分为2个簇是比较合理的，同样与预设的簇数一致。代码中自定义了3个函数，分别用于计算公式中的Dk、Wk和Gapk，虽然计算逻辑比较简单，但是涉及的循环比较多，所以对大数据集而言，其k值的确定会比较慢。\n"
   ]
  },
  {
   "cell_type": "markdown",
   "metadata": {
    "id": "Id30Wfeee9Hr"
   },
   "source": []
  },
  {
   "cell_type": "code",
   "execution_count": 9,
   "metadata": {
    "colab": {
     "base_uri": "https://localhost:8080/"
    },
    "id": "hBoWK3fue8oL",
    "outputId": "2f4f06fa-c43a-4ce9-9770-cb8c9a1fe805"
   },
   "outputs": [
    {
     "name": "stderr",
     "output_type": "stream",
     "text": [
      "C:\\Users\\xyt556\\AppData\\Local\\Temp\\2\\ipykernel_23568\\2068146673.py:6: SettingWithCopyWarning: \n",
      "A value is trying to be set on a copy of a slice from a DataFrame.\n",
      "Try using .loc[row_indexer,col_indexer] = value instead\n",
      "\n",
      "See the caveats in the documentation: https://pandas.pydata.org/pandas-docs/stable/user_guide/indexing.html#returning-a-view-versus-a-copy\n",
      "  X['cluster'] = kmeans.labels_\n"
     ]
    },
    {
     "data": {
      "text/plain": [
       "0    9\n",
       "2    8\n",
       "1    7\n",
       "Name: cluster, dtype: int64"
      ]
     },
     "execution_count": 9,
     "metadata": {},
     "output_type": "execute_result"
    }
   ],
   "source": [
    "# 构建Kmeans模型\n",
    "Y = df\n",
    "kmeans = KMeans(n_clusters = 3)\n",
    "kmeans.fit(X)\n",
    "# 聚类结果标签\n",
    "X['cluster'] = kmeans.labels_\n",
    "# 各类频数统计\n",
    "X.cluster.value_counts()"
   ]
  },
  {
   "cell_type": "code",
   "execution_count": 10,
   "metadata": {
    "colab": {
     "base_uri": "https://localhost:8080/",
     "height": 766
    },
    "id": "UHW-sV9Sf-gq",
    "outputId": "f8085521-c89e-4102-db5b-1fdf2bb86beb"
   },
   "outputs": [
    {
     "name": "stdout",
     "output_type": "stream",
     "text": [
      "[[88.21777778  8.82777778]\n",
      " [72.78428571 24.04      ]\n",
      " [96.0625      2.275     ]]\n"
     ]
    },
    {
     "name": "stderr",
     "output_type": "stream",
     "text": [
      "d:\\big_data_test\\envi\\lib\\site-packages\\seaborn\\regression.py:582: UserWarning: legend_out is deprecated from the `lmplot` function signature. Please update your code to pass it using `facet_kws`.\n",
      "  warnings.warn(msg, UserWarning)\n"
     ]
    },
    {
     "ename": "NameError",
     "evalue": "name 'zhfont' is not defined",
     "output_type": "error",
     "traceback": [
      "\u001B[1;31m---------------------------------------------------------------------------\u001B[0m",
      "\u001B[1;31mNameError\u001B[0m                                 Traceback (most recent call last)",
      "Cell \u001B[1;32mIn [10], line 10\u001B[0m\n\u001B[0;32m      8\u001B[0m sns\u001B[38;5;241m.\u001B[39mlmplot(x \u001B[38;5;241m=\u001B[39m \u001B[38;5;124m'\u001B[39m\u001B[38;5;124m有机含量\u001B[39m\u001B[38;5;124m'\u001B[39m, y \u001B[38;5;241m=\u001B[39m \u001B[38;5;124m'\u001B[39m\u001B[38;5;124m黏土矿物\u001B[39m\u001B[38;5;124m'\u001B[39m, data \u001B[38;5;241m=\u001B[39m X, fit_reg \u001B[38;5;241m=\u001B[39m \u001B[38;5;28;01mFalse\u001B[39;00m, scatter_kws \u001B[38;5;241m=\u001B[39m {\u001B[38;5;124m'\u001B[39m\u001B[38;5;124malpha\u001B[39m\u001B[38;5;124m'\u001B[39m:\u001B[38;5;241m0.8\u001B[39m}, legend_out \u001B[38;5;241m=\u001B[39m \u001B[38;5;28;01mFalse\u001B[39;00m)\n\u001B[0;32m      9\u001B[0m plt\u001B[38;5;241m.\u001B[39mscatter(centers[:,\u001B[38;5;241m0\u001B[39m], centers[:,\u001B[38;5;241m1\u001B[39m], marker \u001B[38;5;241m=\u001B[39m \u001B[38;5;124m'\u001B[39m\u001B[38;5;124m*\u001B[39m\u001B[38;5;124m'\u001B[39m, color \u001B[38;5;241m=\u001B[39m \u001B[38;5;124m'\u001B[39m\u001B[38;5;124mblack\u001B[39m\u001B[38;5;124m'\u001B[39m, s \u001B[38;5;241m=\u001B[39m \u001B[38;5;241m130\u001B[39m)\n\u001B[1;32m---> 10\u001B[0m plt\u001B[38;5;241m.\u001B[39mxlabel(\u001B[38;5;124m'\u001B[39m\u001B[38;5;124m有机含量\u001B[39m\u001B[38;5;124m'\u001B[39m,fontproperties\u001B[38;5;241m=\u001B[39m\u001B[43mzhfont\u001B[49m)\n\u001B[0;32m     11\u001B[0m plt\u001B[38;5;241m.\u001B[39mylabel(\u001B[38;5;124m'\u001B[39m\u001B[38;5;124m黏土矿物\u001B[39m\u001B[38;5;124m'\u001B[39m,fontproperties\u001B[38;5;241m=\u001B[39mzhfont)\n\u001B[0;32m     12\u001B[0m \u001B[38;5;66;03m# 图形显示\u001B[39;00m\n",
      "\u001B[1;31mNameError\u001B[0m: name 'zhfont' is not defined"
     ]
    },
    {
     "data": {
      "image/png": "[encoded data removed]",
      "text/plain": [
       "<Figure size 500x500 with 1 Axes>"
      ]
     },
     "metadata": {},
     "output_type": "display_data"
    }
   ],
   "source": [
    "# 导入第三方模块\n",
    "import seaborn as sns\n",
    "\n",
    "# 三个簇的簇中心\n",
    "centers = kmeans.cluster_centers_\n",
    "print(centers)\n",
    "# 绘制聚类效果的散点图\n",
    "sns.lmplot(x = '有机含量', y = '黏土矿物', data = X, fit_reg = False, scatter_kws = {'alpha':0.8}, legend_out = False)\n",
    "plt.scatter(centers[:,0], centers[:,1], marker = '*', color = 'black', s = 130)\n",
    "plt.xlabel('有机含量',fontproperties=zhfont)\n",
    "plt.ylabel('黏土矿物',fontproperties=zhfont)\n",
    "# 图形显示\n",
    "plt.show()\n"
   ]
  },
  {
   "cell_type": "markdown",
   "metadata": {
    "id": "vPgXfwDMiM9R"
   },
   "source": [
    "# 聚类层次树-dendrogram"
   ]
  },
  {
   "cell_type": "code",
   "execution_count": 11,
   "metadata": {
    "id": "f_xfhmjeiMT3"
   },
   "outputs": [],
   "source": [
    "import numpy as np\n",
    "import pandas as pd\n",
    "import scipy.stats as st\n",
    "import statsmodels.api as sm\n",
    "import scipy.cluster as sc\n",
    "from scipy.cluster import hierarchy\n",
    "import matplotlib.pyplot as plt\n",
    "import scipy.spatial.distance as dist\n"
   ]
  },
  {
   "cell_type": "markdown",
   "metadata": {
    "id": "upDPTRDopnW0"
   },
   "source": [
    "#### 对变量进行聚类"
   ]
  },
  {
   "cell_type": "code",
   "execution_count": 12,
   "metadata": {
    "colab": {
     "base_uri": "https://localhost:8080/"
    },
    "id": "B9NqmsfhjLCx",
    "outputId": "e90a04e9-4b22-4e93-effa-0f6b7c7ab8f0"
   },
   "outputs": [
    {
     "name": "stdout",
     "output_type": "stream",
     "text": [
      "[0, 1, 2, 3, 4, 5, 6, 7, 8, 9, 10, 11, 12, 13, 14, 15, 16, 17, 18, 19, 20, 21, 22, 23]\n"
     ]
    }
   ],
   "source": [
    "df_list = df.values\n",
    "X =np.matrix(df_list)\n",
    "# print(X)\n",
    "X_std = (X - np.mean(X,axis=0))/st.tstd(X,axis=0)#注意这里要使用标准差的无偏估计\n",
    "names = df.index.tolist()\n",
    "print(names)"
   ]
  },
  {
   "cell_type": "code",
   "execution_count": 13,
   "metadata": {
    "id": "9wKd1iHHlC4Z"
   },
   "outputs": [],
   "source": [
    "# 计算距离\n",
    "dist = dist.pdist(X_std,'euclidean')"
   ]
  },
  {
   "cell_type": "code",
   "execution_count": 14,
   "metadata": {
    "id": "1qvTNoHMnzzn"
   },
   "outputs": [],
   "source": [
    "Z = hierarchy.linkage(dist, 'average')"
   ]
  },
  {
   "cell_type": "code",
   "execution_count": 15,
   "metadata": {
    "colab": {
     "base_uri": "https://localhost:8080/",
     "height": 283
    },
    "id": "hWMBfAUtlNYT",
    "outputId": "533f87d4-742c-426c-e026-d00db00f4d3b"
   },
   "outputs": [
    {
     "data": {
      "image/png": "[encoded data removed]",
      "text/plain": [
       "<Figure size 640x480 with 1 Axes>"
      ]
     },
     "metadata": {},
     "output_type": "display_data"
    }
   ],
   "source": [
    "#dendrogram：系统树图\n",
    "d1 = hierarchy.dendrogram(Z, labels = names, count_sort=False)\n",
    "plt.xticks(size=16)\n",
    "plt.show()"
   ]
  },
  {
   "cell_type": "markdown",
   "metadata": {
    "id": "aQR6-BMVpq61"
   },
   "source": [
    "#### 对属性进行聚类"
   ]
  },
  {
   "cell_type": "code",
   "execution_count": 16,
   "metadata": {
    "id": "JQkgTwZS9c14"
   },
   "outputs": [],
   "source": [
    "import numpy as np\n",
    "import pandas as pd\n",
    "import scipy.stats as st\n",
    "import statsmodels.api as sm\n",
    "import scipy.cluster as sc\n",
    "from scipy.cluster import hierarchy\n",
    "import matplotlib.pyplot as plt\n",
    "import scipy.spatial.distance as dist\n"
   ]
  },
  {
   "cell_type": "code",
   "execution_count": 17,
   "metadata": {
    "colab": {
     "base_uri": "https://localhost:8080/"
    },
    "id": "KbXg3S529cqP",
    "outputId": "cbec7e1a-75fc-4598-8e65-0524062d5e20"
   },
   "outputs": [
    {
     "name": "stdout",
     "output_type": "stream",
     "text": [
      "[0, 1, 2, 3, 4, 5, 6, 7, 8, 9, 10, 11, 12, 13, 14, 15, 16, 17, 18, 19, 20, 21, 22, 23]\n"
     ]
    }
   ],
   "source": [
    "df_list = df.values\n",
    "X =np.matrix(df_list).T\n",
    "# print(X)\n",
    "X_std = (X - np.mean(X,axis=0))/st.tstd(X,axis=0)#注意这里要使用标准差的无偏估计\n",
    "names = df.index.tolist()\n",
    "print(names)"
   ]
  },
  {
   "cell_type": "code",
   "execution_count": 18,
   "metadata": {
    "id": "-3ICuQ_dpBoZ"
   },
   "outputs": [],
   "source": [
    "# 计算距离\n",
    "dist1 = dist.pdist(X_std,'euclidean')"
   ]
  },
  {
   "cell_type": "code",
   "execution_count": 19,
   "metadata": {
    "id": "H4vLJH19pCl5"
   },
   "outputs": [],
   "source": [
    "Z = hierarchy.linkage(dist1, 'average')"
   ]
  },
  {
   "cell_type": "code",
   "execution_count": 20,
   "metadata": {
    "colab": {
     "base_uri": "https://localhost:8080/",
     "height": 268
    },
    "id": "J5gH6rFHpE2I",
    "outputId": "f32f5371-ab9b-4da5-d075-577f5eb01365"
   },
   "outputs": [
    {
     "ename": "NameError",
     "evalue": "name 'zhfont' is not defined",
     "output_type": "error",
     "traceback": [
      "\u001B[1;31m---------------------------------------------------------------------------\u001B[0m",
      "\u001B[1;31mNameError\u001B[0m                                 Traceback (most recent call last)",
      "Cell \u001B[1;32mIn [20], line 3\u001B[0m\n\u001B[0;32m      1\u001B[0m \u001B[38;5;66;03m#dendrogram：系统树图\u001B[39;00m\n\u001B[0;32m      2\u001B[0m d1 \u001B[38;5;241m=\u001B[39m hierarchy\u001B[38;5;241m.\u001B[39mdendrogram(Z, labels \u001B[38;5;241m=\u001B[39m df\u001B[38;5;241m.\u001B[39mcolumns, count_sort\u001B[38;5;241m=\u001B[39m\u001B[38;5;28;01mFalse\u001B[39;00m)\n\u001B[1;32m----> 3\u001B[0m plt\u001B[38;5;241m.\u001B[39mxticks(size\u001B[38;5;241m=\u001B[39m\u001B[38;5;241m16\u001B[39m,fontproperties\u001B[38;5;241m=\u001B[39m\u001B[43mzhfont\u001B[49m)\n\u001B[0;32m      4\u001B[0m plt\u001B[38;5;241m.\u001B[39mshow()\n",
      "\u001B[1;31mNameError\u001B[0m: name 'zhfont' is not defined"
     ]
    },
    {
     "data": {
      "image/png": "[encoded data removed]",
      "text/plain": [
       "<Figure size 640x480 with 1 Axes>"
      ]
     },
     "metadata": {},
     "output_type": "display_data"
    }
   ],
   "source": [
    "#dendrogram：系统树图\n",
    "d1 = hierarchy.dendrogram(Z, labels = df.columns, count_sort=False)\n",
    "plt.xticks(size=16,fontproperties=zhfont)\n",
    "plt.show()"
   ]
  },
  {
   "cell_type": "code",
   "execution_count": null,
   "metadata": {},
   "outputs": [],
   "source": []
  }
 ],
 "metadata": {
  "colab": {
   "provenance": []
  },
  "kernelspec": {
   "display_name": "Python 3 (ipykernel)",
   "language": "python",
   "name": "python3"
  },
  "language_info": {
   "codemirror_mode": {
    "name": "ipython",
    "version": 3
   },
   "file_extension": ".py",
   "mimetype": "text/x-python",
   "name": "python",
   "nbconvert_exporter": "python",
   "pygments_lexer": "ipython3",
   "version": "3.10.7"
  }
 },
 "nbformat": 4,
 "nbformat_minor": 1
}
