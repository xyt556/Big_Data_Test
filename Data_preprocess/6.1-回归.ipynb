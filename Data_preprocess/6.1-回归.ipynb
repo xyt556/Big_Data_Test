{
 "cells": [
  {
   "cell_type": "markdown",
   "id": "c4400a54",
   "metadata": {},
   "source": [
    "# 6.回归分析"
   ]
  },
  {
   "cell_type": "markdown",
   "id": "0a69997e",
   "metadata": {},
   "source": [
    "## 6.1 一元线性回归"
   ]
  },
  {
   "cell_type": "code",
   "execution_count": 1,
   "id": "2f226bb8",
   "metadata": {
    "scrolled": false
   },
   "outputs": [
    {
     "data": {
      "text/plain": "    容重  灰分\n0  1.5  25\n1  1.2   4\n2  1.7  30\n3  1.4  20\n4  1.8  36",
      "text/html": "<div>\n<style scoped>\n    .dataframe tbody tr th:only-of-type {\n        vertical-align: middle;\n    }\n\n    .dataframe tbody tr th {\n        vertical-align: top;\n    }\n\n    .dataframe thead th {\n        text-align: right;\n    }\n</style>\n<table border=\"1\" class=\"dataframe\">\n  <thead>\n    <tr style=\"text-align: right;\">\n      <th></th>\n      <th>容重</th>\n      <th>灰分</th>\n    </tr>\n  </thead>\n  <tbody>\n    <tr>\n      <th>0</th>\n      <td>1.5</td>\n      <td>25</td>\n    </tr>\n    <tr>\n      <th>1</th>\n      <td>1.2</td>\n      <td>4</td>\n    </tr>\n    <tr>\n      <th>2</th>\n      <td>1.7</td>\n      <td>30</td>\n    </tr>\n    <tr>\n      <th>3</th>\n      <td>1.4</td>\n      <td>20</td>\n    </tr>\n    <tr>\n      <th>4</th>\n      <td>1.8</td>\n      <td>36</td>\n    </tr>\n  </tbody>\n</table>\n</div>"
     },
     "execution_count": 1,
     "metadata": {},
     "output_type": "execute_result"
    }
   ],
   "source": [
    "import matplotlib.pyplot as plt\n",
    "import pandas as pd\n",
    "import numpy as np\n",
    "\n",
    "# 设置显示中文\n",
    "plt.rcParams['font.sans-serif'] = ['KaiTi']\n",
    "plt.rcParams['axes.unicode_minus'] = False\n",
    "\n",
    "#读取数据\n",
    "df = pd.read_excel(r'./re1.xlsx')\n",
    "df.head(5)"
   ]
  },
  {
   "cell_type": "code",
   "execution_count": 2,
   "id": "d50a0903",
   "metadata": {
    "scrolled": true
   },
   "outputs": [
    {
     "data": {
      "text/plain": "<Figure size 640x480 with 1 Axes>",
      "image/png": "[encoded data removed]"
     },
     "metadata": {},
     "output_type": "display_data"
    }
   ],
   "source": [
    "# dataframe中按列提取的结果是series，这里将使用的是series的值\n",
    "X = df['容重'].values  #自变量\n",
    "Y = df['灰分'].values #因变量\n",
    "\n",
    "plt.scatter(X,Y,marker='o',c='b')\n",
    "plt.xlabel('容重',fontsize=12)\n",
    "plt.ylabel('灰分',fontsize=12)\n",
    "plt.show()"
   ]
  },
  {
   "cell_type": "markdown",
   "id": "c2ed7781",
   "metadata": {},
   "source": [
    "### 6.1.1 使用OLS直接计算"
   ]
  },
  {
   "cell_type": "code",
   "execution_count": 3,
   "id": "70d90469",
   "metadata": {
    "scrolled": false
   },
   "outputs": [
    {
     "name": "stdout",
     "output_type": "stream",
     "text": [
      "应用普通最小二乘法估计的回归系数：a=-68.9503,b=59.2549\n",
      "回归方程：y=-68.9503 + 59.2549 x\n"
     ]
    }
   ],
   "source": [
    "#一元线性回归的参数估计，OLS算法\n",
    "# 请结合课堂PPT中的OLS计算方法理解下列2行代码\n",
    "b=np.sum((X-np.mean(X))*(Y-np.mean(Y)))/np.sum((X-np.mean(X))**2)\n",
    "a=np.mean(Y)-b*np.mean(X)\n",
    "\n",
    "print('应用普通最小二乘法估计的回归系数：a=%0.4f,b=%0.4f'%(a,b))\n",
    "print('回归方程：y=%0.4f + %0.4f x'%(a,b))"
   ]
  },
  {
   "cell_type": "markdown",
   "id": "f4be9019",
   "metadata": {},
   "source": [
    "### 6.1.2 使用sklearn"
   ]
  },
  {
   "cell_type": "code",
   "execution_count": 4,
   "id": "b63095a7",
   "metadata": {
    "scrolled": false
   },
   "outputs": [
    {
     "ename": "ValueError",
     "evalue": "Expected 2D array, got 1D array instead:\narray=[1.5 1.2 1.7 1.4 1.8 1.3 1.3 1.5 1.7 1.3 1.5 1.5 1.6 1.4 1.6 1.5 1.4 1.5].\nReshape your data either using array.reshape(-1, 1) if your data has a single feature or array.reshape(1, -1) if it contains a single sample.",
     "output_type": "error",
     "traceback": [
      "\u001B[1;31m---------------------------------------------------------------------------\u001B[0m",
      "\u001B[1;31mValueError\u001B[0m                                Traceback (most recent call last)",
      "Cell \u001B[1;32mIn [4], line 5\u001B[0m\n\u001B[0;32m      3\u001B[0m \u001B[38;5;66;03m# 模型搭建\u001B[39;00m\n\u001B[0;32m      4\u001B[0m model \u001B[38;5;241m=\u001B[39m LinearRegression()\n\u001B[1;32m----> 5\u001B[0m \u001B[43mmodel\u001B[49m\u001B[38;5;241;43m.\u001B[39;49m\u001B[43mfit\u001B[49m\u001B[43m(\u001B[49m\u001B[43mX\u001B[49m\u001B[43m,\u001B[49m\u001B[43mY\u001B[49m\u001B[43m)\u001B[49m\n\u001B[0;32m      7\u001B[0m \u001B[38;5;66;03m# 模型可视化\u001B[39;00m\n\u001B[0;32m      8\u001B[0m plt\u001B[38;5;241m.\u001B[39mscatter(X,Y)\n",
      "File \u001B[1;32md:\\big_data_test\\envi\\lib\\site-packages\\sklearn\\linear_model\\_base.py:684\u001B[0m, in \u001B[0;36mLinearRegression.fit\u001B[1;34m(self, X, y, sample_weight)\u001B[0m\n\u001B[0;32m    680\u001B[0m n_jobs_ \u001B[38;5;241m=\u001B[39m \u001B[38;5;28mself\u001B[39m\u001B[38;5;241m.\u001B[39mn_jobs\n\u001B[0;32m    682\u001B[0m accept_sparse \u001B[38;5;241m=\u001B[39m \u001B[38;5;28;01mFalse\u001B[39;00m \u001B[38;5;28;01mif\u001B[39;00m \u001B[38;5;28mself\u001B[39m\u001B[38;5;241m.\u001B[39mpositive \u001B[38;5;28;01melse\u001B[39;00m [\u001B[38;5;124m\"\u001B[39m\u001B[38;5;124mcsr\u001B[39m\u001B[38;5;124m\"\u001B[39m, \u001B[38;5;124m\"\u001B[39m\u001B[38;5;124mcsc\u001B[39m\u001B[38;5;124m\"\u001B[39m, \u001B[38;5;124m\"\u001B[39m\u001B[38;5;124mcoo\u001B[39m\u001B[38;5;124m\"\u001B[39m]\n\u001B[1;32m--> 684\u001B[0m X, y \u001B[38;5;241m=\u001B[39m \u001B[38;5;28;43mself\u001B[39;49m\u001B[38;5;241;43m.\u001B[39;49m\u001B[43m_validate_data\u001B[49m\u001B[43m(\u001B[49m\n\u001B[0;32m    685\u001B[0m \u001B[43m    \u001B[49m\u001B[43mX\u001B[49m\u001B[43m,\u001B[49m\u001B[43m \u001B[49m\u001B[43my\u001B[49m\u001B[43m,\u001B[49m\u001B[43m \u001B[49m\u001B[43maccept_sparse\u001B[49m\u001B[38;5;241;43m=\u001B[39;49m\u001B[43maccept_sparse\u001B[49m\u001B[43m,\u001B[49m\u001B[43m \u001B[49m\u001B[43my_numeric\u001B[49m\u001B[38;5;241;43m=\u001B[39;49m\u001B[38;5;28;43;01mTrue\u001B[39;49;00m\u001B[43m,\u001B[49m\u001B[43m \u001B[49m\u001B[43mmulti_output\u001B[49m\u001B[38;5;241;43m=\u001B[39;49m\u001B[38;5;28;43;01mTrue\u001B[39;49;00m\n\u001B[0;32m    686\u001B[0m \u001B[43m\u001B[49m\u001B[43m)\u001B[49m\n\u001B[0;32m    688\u001B[0m sample_weight \u001B[38;5;241m=\u001B[39m _check_sample_weight(\n\u001B[0;32m    689\u001B[0m     sample_weight, X, dtype\u001B[38;5;241m=\u001B[39mX\u001B[38;5;241m.\u001B[39mdtype, only_non_negative\u001B[38;5;241m=\u001B[39m\u001B[38;5;28;01mTrue\u001B[39;00m\n\u001B[0;32m    690\u001B[0m )\n\u001B[0;32m    692\u001B[0m X, y, X_offset, y_offset, X_scale \u001B[38;5;241m=\u001B[39m _preprocess_data(\n\u001B[0;32m    693\u001B[0m     X,\n\u001B[0;32m    694\u001B[0m     y,\n\u001B[1;32m   (...)\u001B[0m\n\u001B[0;32m    698\u001B[0m     sample_weight\u001B[38;5;241m=\u001B[39msample_weight,\n\u001B[0;32m    699\u001B[0m )\n",
      "File \u001B[1;32md:\\big_data_test\\envi\\lib\\site-packages\\sklearn\\base.py:596\u001B[0m, in \u001B[0;36mBaseEstimator._validate_data\u001B[1;34m(self, X, y, reset, validate_separately, **check_params)\u001B[0m\n\u001B[0;32m    594\u001B[0m         y \u001B[38;5;241m=\u001B[39m check_array(y, input_name\u001B[38;5;241m=\u001B[39m\u001B[38;5;124m\"\u001B[39m\u001B[38;5;124my\u001B[39m\u001B[38;5;124m\"\u001B[39m, \u001B[38;5;241m*\u001B[39m\u001B[38;5;241m*\u001B[39mcheck_y_params)\n\u001B[0;32m    595\u001B[0m     \u001B[38;5;28;01melse\u001B[39;00m:\n\u001B[1;32m--> 596\u001B[0m         X, y \u001B[38;5;241m=\u001B[39m check_X_y(X, y, \u001B[38;5;241m*\u001B[39m\u001B[38;5;241m*\u001B[39mcheck_params)\n\u001B[0;32m    597\u001B[0m     out \u001B[38;5;241m=\u001B[39m X, y\n\u001B[0;32m    599\u001B[0m \u001B[38;5;28;01mif\u001B[39;00m \u001B[38;5;129;01mnot\u001B[39;00m no_val_X \u001B[38;5;129;01mand\u001B[39;00m check_params\u001B[38;5;241m.\u001B[39mget(\u001B[38;5;124m\"\u001B[39m\u001B[38;5;124mensure_2d\u001B[39m\u001B[38;5;124m\"\u001B[39m, \u001B[38;5;28;01mTrue\u001B[39;00m):\n",
      "File \u001B[1;32md:\\big_data_test\\envi\\lib\\site-packages\\sklearn\\utils\\validation.py:1074\u001B[0m, in \u001B[0;36mcheck_X_y\u001B[1;34m(X, y, accept_sparse, accept_large_sparse, dtype, order, copy, force_all_finite, ensure_2d, allow_nd, multi_output, ensure_min_samples, ensure_min_features, y_numeric, estimator)\u001B[0m\n\u001B[0;32m   1069\u001B[0m         estimator_name \u001B[38;5;241m=\u001B[39m _check_estimator_name(estimator)\n\u001B[0;32m   1070\u001B[0m     \u001B[38;5;28;01mraise\u001B[39;00m \u001B[38;5;167;01mValueError\u001B[39;00m(\n\u001B[0;32m   1071\u001B[0m         \u001B[38;5;124mf\u001B[39m\u001B[38;5;124m\"\u001B[39m\u001B[38;5;132;01m{\u001B[39;00mestimator_name\u001B[38;5;132;01m}\u001B[39;00m\u001B[38;5;124m requires y to be passed, but the target y is None\u001B[39m\u001B[38;5;124m\"\u001B[39m\n\u001B[0;32m   1072\u001B[0m     )\n\u001B[1;32m-> 1074\u001B[0m X \u001B[38;5;241m=\u001B[39m \u001B[43mcheck_array\u001B[49m\u001B[43m(\u001B[49m\n\u001B[0;32m   1075\u001B[0m \u001B[43m    \u001B[49m\u001B[43mX\u001B[49m\u001B[43m,\u001B[49m\n\u001B[0;32m   1076\u001B[0m \u001B[43m    \u001B[49m\u001B[43maccept_sparse\u001B[49m\u001B[38;5;241;43m=\u001B[39;49m\u001B[43maccept_sparse\u001B[49m\u001B[43m,\u001B[49m\n\u001B[0;32m   1077\u001B[0m \u001B[43m    \u001B[49m\u001B[43maccept_large_sparse\u001B[49m\u001B[38;5;241;43m=\u001B[39;49m\u001B[43maccept_large_sparse\u001B[49m\u001B[43m,\u001B[49m\n\u001B[0;32m   1078\u001B[0m \u001B[43m    \u001B[49m\u001B[43mdtype\u001B[49m\u001B[38;5;241;43m=\u001B[39;49m\u001B[43mdtype\u001B[49m\u001B[43m,\u001B[49m\n\u001B[0;32m   1079\u001B[0m \u001B[43m    \u001B[49m\u001B[43morder\u001B[49m\u001B[38;5;241;43m=\u001B[39;49m\u001B[43morder\u001B[49m\u001B[43m,\u001B[49m\n\u001B[0;32m   1080\u001B[0m \u001B[43m    \u001B[49m\u001B[43mcopy\u001B[49m\u001B[38;5;241;43m=\u001B[39;49m\u001B[43mcopy\u001B[49m\u001B[43m,\u001B[49m\n\u001B[0;32m   1081\u001B[0m \u001B[43m    \u001B[49m\u001B[43mforce_all_finite\u001B[49m\u001B[38;5;241;43m=\u001B[39;49m\u001B[43mforce_all_finite\u001B[49m\u001B[43m,\u001B[49m\n\u001B[0;32m   1082\u001B[0m \u001B[43m    \u001B[49m\u001B[43mensure_2d\u001B[49m\u001B[38;5;241;43m=\u001B[39;49m\u001B[43mensure_2d\u001B[49m\u001B[43m,\u001B[49m\n\u001B[0;32m   1083\u001B[0m \u001B[43m    \u001B[49m\u001B[43mallow_nd\u001B[49m\u001B[38;5;241;43m=\u001B[39;49m\u001B[43mallow_nd\u001B[49m\u001B[43m,\u001B[49m\n\u001B[0;32m   1084\u001B[0m \u001B[43m    \u001B[49m\u001B[43mensure_min_samples\u001B[49m\u001B[38;5;241;43m=\u001B[39;49m\u001B[43mensure_min_samples\u001B[49m\u001B[43m,\u001B[49m\n\u001B[0;32m   1085\u001B[0m \u001B[43m    \u001B[49m\u001B[43mensure_min_features\u001B[49m\u001B[38;5;241;43m=\u001B[39;49m\u001B[43mensure_min_features\u001B[49m\u001B[43m,\u001B[49m\n\u001B[0;32m   1086\u001B[0m \u001B[43m    \u001B[49m\u001B[43mestimator\u001B[49m\u001B[38;5;241;43m=\u001B[39;49m\u001B[43mestimator\u001B[49m\u001B[43m,\u001B[49m\n\u001B[0;32m   1087\u001B[0m \u001B[43m    \u001B[49m\u001B[43minput_name\u001B[49m\u001B[38;5;241;43m=\u001B[39;49m\u001B[38;5;124;43m\"\u001B[39;49m\u001B[38;5;124;43mX\u001B[39;49m\u001B[38;5;124;43m\"\u001B[39;49m\u001B[43m,\u001B[49m\n\u001B[0;32m   1088\u001B[0m \u001B[43m\u001B[49m\u001B[43m)\u001B[49m\n\u001B[0;32m   1090\u001B[0m y \u001B[38;5;241m=\u001B[39m _check_y(y, multi_output\u001B[38;5;241m=\u001B[39mmulti_output, y_numeric\u001B[38;5;241m=\u001B[39my_numeric, estimator\u001B[38;5;241m=\u001B[39mestimator)\n\u001B[0;32m   1092\u001B[0m check_consistent_length(X, y)\n",
      "File \u001B[1;32md:\\big_data_test\\envi\\lib\\site-packages\\sklearn\\utils\\validation.py:879\u001B[0m, in \u001B[0;36mcheck_array\u001B[1;34m(array, accept_sparse, accept_large_sparse, dtype, order, copy, force_all_finite, ensure_2d, allow_nd, ensure_min_samples, ensure_min_features, estimator, input_name)\u001B[0m\n\u001B[0;32m    877\u001B[0m     \u001B[38;5;66;03m# If input is 1D raise error\u001B[39;00m\n\u001B[0;32m    878\u001B[0m     \u001B[38;5;28;01mif\u001B[39;00m array\u001B[38;5;241m.\u001B[39mndim \u001B[38;5;241m==\u001B[39m \u001B[38;5;241m1\u001B[39m:\n\u001B[1;32m--> 879\u001B[0m         \u001B[38;5;28;01mraise\u001B[39;00m \u001B[38;5;167;01mValueError\u001B[39;00m(\n\u001B[0;32m    880\u001B[0m             \u001B[38;5;124m\"\u001B[39m\u001B[38;5;124mExpected 2D array, got 1D array instead:\u001B[39m\u001B[38;5;130;01m\\n\u001B[39;00m\u001B[38;5;124marray=\u001B[39m\u001B[38;5;132;01m{}\u001B[39;00m\u001B[38;5;124m.\u001B[39m\u001B[38;5;130;01m\\n\u001B[39;00m\u001B[38;5;124m\"\u001B[39m\n\u001B[0;32m    881\u001B[0m             \u001B[38;5;124m\"\u001B[39m\u001B[38;5;124mReshape your data either using array.reshape(-1, 1) if \u001B[39m\u001B[38;5;124m\"\u001B[39m\n\u001B[0;32m    882\u001B[0m             \u001B[38;5;124m\"\u001B[39m\u001B[38;5;124myour data has a single feature or array.reshape(1, -1) \u001B[39m\u001B[38;5;124m\"\u001B[39m\n\u001B[0;32m    883\u001B[0m             \u001B[38;5;124m\"\u001B[39m\u001B[38;5;124mif it contains a single sample.\u001B[39m\u001B[38;5;124m\"\u001B[39m\u001B[38;5;241m.\u001B[39mformat(array)\n\u001B[0;32m    884\u001B[0m         )\n\u001B[0;32m    886\u001B[0m \u001B[38;5;28;01mif\u001B[39;00m dtype_numeric \u001B[38;5;129;01mand\u001B[39;00m array\u001B[38;5;241m.\u001B[39mdtype\u001B[38;5;241m.\u001B[39mkind \u001B[38;5;129;01min\u001B[39;00m \u001B[38;5;124m\"\u001B[39m\u001B[38;5;124mUSV\u001B[39m\u001B[38;5;124m\"\u001B[39m:\n\u001B[0;32m    887\u001B[0m     \u001B[38;5;28;01mraise\u001B[39;00m \u001B[38;5;167;01mValueError\u001B[39;00m(\n\u001B[0;32m    888\u001B[0m         \u001B[38;5;124m\"\u001B[39m\u001B[38;5;124mdtype=\u001B[39m\u001B[38;5;124m'\u001B[39m\u001B[38;5;124mnumeric\u001B[39m\u001B[38;5;124m'\u001B[39m\u001B[38;5;124m is not compatible with arrays of bytes/strings.\u001B[39m\u001B[38;5;124m\"\u001B[39m\n\u001B[0;32m    889\u001B[0m         \u001B[38;5;124m\"\u001B[39m\u001B[38;5;124mConvert your data to numeric values explicitly instead.\u001B[39m\u001B[38;5;124m\"\u001B[39m\n\u001B[0;32m    890\u001B[0m     )\n",
      "\u001B[1;31mValueError\u001B[0m: Expected 2D array, got 1D array instead:\narray=[1.5 1.2 1.7 1.4 1.8 1.3 1.3 1.5 1.7 1.3 1.5 1.5 1.6 1.4 1.6 1.5 1.4 1.5].\nReshape your data either using array.reshape(-1, 1) if your data has a single feature or array.reshape(1, -1) if it contains a single sample."
     ]
    }
   ],
   "source": [
    "from sklearn.linear_model import LinearRegression\n",
    "\n",
    "# 模型搭建\n",
    "model = LinearRegression()\n",
    "model.fit(X,Y)\n",
    "\n",
    "# 模型可视化\n",
    "plt.scatter(X,Y)\n",
    "plt.plot(X,model.predict(X),color='red')\n",
    "plt.xlabel('容重')\n",
    "plt.ylabel('灰分')\n",
    "plt.show()\n",
    "\n",
    "#查看系数,截距：线性回归方程构造\n",
    "print('回归系数b=%0.4f，截距a=%.4f'%(model.coef_,model.intercept_))"
   ]
  },
  {
   "cell_type": "markdown",
   "id": "c526854b",
   "metadata": {},
   "source": [
    "### 6.1.3 使用stasmodels进行一元线性回归"
   ]
  },
  {
   "cell_type": "code",
   "execution_count": null,
   "id": "134f0c90",
   "metadata": {
    "scrolled": false
   },
   "outputs": [],
   "source": [
    "import statsmodels.api as sm\n",
    "import statsmodels.formula.api as smf\n",
    "\n",
    "import numpy as np\n",
    "import matplotlib.pyplot as plt\n",
    "import pandas as pd\n",
    "\n",
    "df = pd.read_excel(r'./re1.xlsx')\n",
    "df.head(4)"
   ]
  },
  {
   "cell_type": "code",
   "execution_count": null,
   "id": "6ef8d1c9",
   "metadata": {
    "scrolled": true
   },
   "outputs": [],
   "source": [
    "fields = df.columns.values\n",
    "fields"
   ]
  },
  {
   "cell_type": "code",
   "execution_count": null,
   "id": "dca09380",
   "metadata": {},
   "outputs": [],
   "source": [
    "df_list = df.values\n",
    "df_list"
   ]
  },
  {
   "cell_type": "code",
   "execution_count": null,
   "id": "0469a945",
   "metadata": {
    "scrolled": false
   },
   "outputs": [],
   "source": [
    "data =np.matrix(df_list)\n",
    "#自变量\n",
    "X = np.array(df['容重'])\n",
    "#因变量\n",
    "Y=np.array(df['灰分'])\n",
    "\n",
    "weight_model=sm.add_constant(X)\n",
    "###使用Statsmodels的OLS函数进行线性回归。\n",
    "result=sm.OLS(Y,weight_model).fit()\n",
    "result.summary()"
   ]
  },
  {
   "cell_type": "markdown",
   "id": "9ea6ab8f",
   "metadata": {},
   "source": [
    "### 显著性检验"
   ]
  },
  {
   "cell_type": "code",
   "execution_count": null,
   "id": "ccac62cb",
   "metadata": {},
   "outputs": [],
   "source": [
    "'''\n",
    "常量和回归系数的的标准误计算过程：上图中的sd(beta0),sd(beta1)计算公式。\n",
    "\n",
    "'''\n",
    "####残差，从回归结果对象中获取\n",
    "res=result.resid \n",
    "###残差方差与标准差,注意方差的计算方式\n",
    "res_var=np.sum((res-np.mean(res))**2)/(len(res)-2)\n",
    "res_std=res_var**0.5 \n",
    "### 求自变量weight的校正平方和\n",
    "sxx=np.sum((X-np.mean(X))**2)\n",
    "###截距项beta0的标准误\n",
    "stderr0=res_std*np.sqrt(1/len(X)+np.mean(X)**2/sxx)\n",
    "print('常数项（截距项）beta0的标准误（std err）：%0.3f'%stderr0)\n",
    "### 回归系数beta1的标准误\n",
    "stderr1=res_std/np.sqrt(sxx)\n",
    "print('\\n回归系数beta1的标准误（std err）：%0.3f'%stderr1)"
   ]
  },
  {
   "cell_type": "code",
   "execution_count": null,
   "id": "7e9a73fb",
   "metadata": {},
   "outputs": [],
   "source": [
    "'''\n",
    "回归参数检验：回归常量beta0和回归系数beta1的t值以及t检验\n",
    "'''\n",
    "###回归参数beta0,beta1的标准误\n",
    "t0=a/stderr0\n",
    "t1=b/stderr1\n",
    "print('回归参数beta0、beta1的t值分别为：%0.3f,%0.3f'%(t0,t1))\n",
    "'''\n",
    "t检验的拒绝域|T|>t'(n-2),分解为P(T<-t')+P(T>t')，即双侧检验的两个概率之和\n",
    "'''\n",
    "n=len(X)\n",
    "##分别计算beta0和beta1的t检验p值\n",
    "p0=2*st.t.sf(t0,n-2)\n",
    "p1=2*st.t.sf(t1,n-2)\n",
    "print('\\n回归参数beta0、beta1的t检验P值分别为：{},{}'.format(p0,p1))"
   ]
  },
  {
   "cell_type": "code",
   "execution_count": null,
   "id": "051641b6",
   "metadata": {},
   "outputs": [],
   "source": [
    "'''\n",
    "F检验。\n",
    "'''\n",
    "###F值只计算回归系数，无回归常数beta0\n",
    "F1=beta1**2*sxx/res_var\n",
    "print('回归系数的F值为：%0.2f'%F1)\n",
    "\n",
    "###F检验的P值计算，使用生存函数sf计算\n",
    "p_F1=st.f.sf(F1,1,n-2)\n",
    "print('\\n回归系数的F检验P值为：%0.8f'%p_F1)"
   ]
  },
  {
   "cell_type": "code",
   "execution_count": null,
   "id": "8a4d803a",
   "metadata": {},
   "outputs": [],
   "source": [
    "'''\n",
    "R方以及调整后R方\n",
    "'''\n",
    "###残差平方和，总平方和与回归平方和\n",
    "sse=np.sum(res**2) #残差平方和\n",
    "#总平方和：sum(y-mean(y)^2)，即因变量减去其均值之后平方和\n",
    "sst=np.sum((bp-np.mean(bp))**2) \n",
    "#回归平方和：sum((y_hat-mean(y))^2)，即因变量回归值减去因变量的平均值的平方和\n",
    "y_hat=result.predict()#调用predict函数获得y_hat\n",
    "ssr=np.sum((y_hat-np.mean(bp))**2)\n",
    "###两种方法计算R方\n",
    "R2=1-sse/sst #或者\n",
    "R2=ssr/sst #结果一致，精度稍微有差别\n",
    "###调整后R方,sse/(n-2)=残差平方和/残差自由度,sst/(n-1)=总平方和/模型自由度\n",
    "adjR2=1- (sse/(n-2))/(sst/(n-1))\n",
    "print('R方和调整后R方的值分别为：%0.3f, %0.3f'%(R2,adjR2))"
   ]
  },
  {
   "cell_type": "markdown",
   "id": "fecf1282",
   "metadata": {},
   "source": [
    "## 6.2 多元线性回归"
   ]
  },
  {
   "cell_type": "code",
   "execution_count": null,
   "id": "5c0233ff",
   "metadata": {},
   "outputs": [],
   "source": [
    "import matplotlib.pyplot as plt\n",
    "import pandas as pd\n",
    "import numpy as np\n",
    "from sklearn.linear_model import LinearRegression\n",
    "# 设置显示中文\n",
    "plt.rcParams['font.sans-serif'] = ['KaiTi']\n",
    "plt.rcParams['axes.unicode_minus'] = False\n",
    "#读取数据\n",
    "df = pd.read_excel('./re2.xlsx')\n",
    "df.head(10)"
   ]
  },
  {
   "cell_type": "code",
   "execution_count": null,
   "id": "1135c4bc",
   "metadata": {},
   "outputs": [],
   "source": [
    "X = df[['x1','sqg','sio','feo','alo','cao','mgo','so']]  #这里的自变量必须写成二维形式，一个因变量可能对应多个自变量\n",
    "Y = df['tb']\n",
    "#Z=df['ww']\n",
    "# 模型搭建\n",
    "model = LinearRegression()\n",
    "model.fit(X,Y)\n",
    "#查看系数,截距：线性回归方程构造\n",
    "print(\"自变量：\",df.columns.values)\n",
    "print(\"回归系数：\",model.coef_)\n",
    "print(\"截距：\",model.intercept_)"
   ]
  },
  {
   "cell_type": "markdown",
   "id": "edac50ec",
   "metadata": {},
   "source": [
    "## 6.3 线性回归示例\n",
    "### 请参考上述多元线性回归示例，完成本例中的多元线性回归分析。"
   ]
  },
  {
   "cell_type": "code",
   "execution_count": null,
   "id": "af9ff0e3",
   "metadata": {
    "scrolled": false
   },
   "outputs": [],
   "source": [
    "'''\n",
    "使用Statsmodels进行线性回归，分析体重与血压之间的关系\n",
    "自变量为体重，因变量为血压\n",
    "使用OLS模型进行线性回归，OLS为“普通最小二乘(ordinary least squares)”的英文缩写\n",
    "'''\n",
    "import statsmodels.api as sm\n",
    "import numpy as np\n",
    "import matplotlib.pyplot as plt\n",
    "import pandas as pd\n",
    "\n",
    "###自变量与因变量数据\n",
    "# weight=np.array([165,167,180,155,212,175,190,210,200,149,158,169,170,\n",
    "#             172,159,168,174,183,215,195,180,143,240,235,192,187])\n",
    "# bp=np.array([130,133,150,128,151,146,150,140,148,125,133,135,150,\n",
    "#              153,128,132,149,158,150,163,156,124,170,165,160,159])\n",
    "df = pd.read_excel(r'./data.xlsx',sheet_name= 'Sheet2', header= 0)\n",
    "# print(df)\n",
    "fields = df.columns.values\n",
    "print(fields)\n",
    "df_list = df.values\n",
    "data =np.matrix(df_list)\n",
    "# print(data)\n",
    "weight = np.array(df['SiO2'])\n",
    "bp = np.array(df['CaO'])\n",
    "###add_constant函数为估计截距项增加一个值为1的常量，公式为：Y~1+X\n",
    "weight_model=sm.add_constant(weight)\n",
    "\n",
    "###使用Statsmodels的OLS函数进行线性回归。\n",
    "result=sm.OLS(bp,weight_model).fit()\n",
    "result.summary()"
   ]
  },
  {
   "cell_type": "code",
   "execution_count": null,
   "id": "27fd1e52",
   "metadata": {},
   "outputs": [],
   "source": [
    "df.head(10)"
   ]
  },
  {
   "cell_type": "code",
   "execution_count": null,
   "id": "f1642fbf",
   "metadata": {
    "scrolled": false
   },
   "outputs": [],
   "source": [
    "import  seaborn as sns\n",
    "# 下面两行代码是设置图形的中文显示\n",
    "plt.rcParams['font.sans-serif'] = ['SimHei']  # 用来正常显示中文标签\n",
    "plt.rcParams['axes.unicode_minus'] = False  # 用来正常显示负号\n",
    "plt.figure(figsize=(10,5))\n",
    "sns.regplot(weight,bp)\n",
    "plt.xlabel('SiO2')\n",
    "plt.ylabel('CaO')\n",
    "plt.title('SiO2-CaO回归直线')\n",
    "plt.show()\n",
    "print('截距：\\n',result.params[0])\n",
    "print('系数：\\n',result.params[1])"
   ]
  },
  {
   "cell_type": "markdown",
   "id": "4104ab1e",
   "metadata": {},
   "source": [
    "## 请参考上述多元线性回归示例，完成本例中的多元线性回归分析。"
   ]
  },
  {
   "cell_type": "code",
   "execution_count": null,
   "id": "f87c165b",
   "metadata": {},
   "outputs": [],
   "source": []
  }
 ],
 "metadata": {
  "kernelspec": {
   "display_name": "Python 3",
   "language": "python",
   "name": "python3"
  },
  "language_info": {
   "codemirror_mode": {
    "name": "ipython",
    "version": 3
   },
   "file_extension": ".py",
   "mimetype": "text/x-python",
   "name": "python",
   "nbconvert_exporter": "python",
   "pygments_lexer": "ipython3",
   "version": "3.8.8"
  }
 },
 "nbformat": 4,
 "nbformat_minor": 5
}
