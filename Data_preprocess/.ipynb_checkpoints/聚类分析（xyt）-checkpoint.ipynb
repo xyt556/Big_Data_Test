{
 "cells": [
  {
   "cell_type": "code",
   "execution_count": 33,
   "metadata": {
    "colab": {
     "base_uri": "https://localhost:8080/",
     "height": 206
    },
    "id": "2f226bb8",
    "outputId": "638ccbd6-f33e-4663-f5cc-3787fd59eb9f",
    "scrolled": false
   },
   "outputs": [
    {
     "data": {
      "text/html": [
       "<div>\n",
       "<style scoped>\n",
       "    .dataframe tbody tr th:only-of-type {\n",
       "        vertical-align: middle;\n",
       "    }\n",
       "\n",
       "    .dataframe tbody tr th {\n",
       "        vertical-align: top;\n",
       "    }\n",
       "\n",
       "    .dataframe thead th {\n",
       "        text-align: right;\n",
       "    }\n",
       "</style>\n",
       "<table border=\"1\" class=\"dataframe\">\n",
       "  <thead>\n",
       "    <tr style=\"text-align: right;\">\n",
       "      <th></th>\n",
       "      <th>有机含量</th>\n",
       "      <th>黏土矿物</th>\n",
       "      <th>FeS2</th>\n",
       "      <th>碳酸盐</th>\n",
       "      <th>SiO2</th>\n",
       "      <th>Fe2O3</th>\n",
       "      <th>Al2O3</th>\n",
       "      <th>CaO</th>\n",
       "      <th>MgO</th>\n",
       "    </tr>\n",
       "  </thead>\n",
       "  <tbody>\n",
       "    <tr>\n",
       "      <th>0</th>\n",
       "      <td>86.76</td>\n",
       "      <td>12.25</td>\n",
       "      <td>0.00</td>\n",
       "      <td>0.40</td>\n",
       "      <td>46.20</td>\n",
       "      <td>5.26</td>\n",
       "      <td>34.55</td>\n",
       "      <td>3.58</td>\n",
       "      <td>1.30</td>\n",
       "    </tr>\n",
       "    <tr>\n",
       "      <th>1</th>\n",
       "      <td>92.52</td>\n",
       "      <td>7.32</td>\n",
       "      <td>0.00</td>\n",
       "      <td>0.16</td>\n",
       "      <td>47.52</td>\n",
       "      <td>3.68</td>\n",
       "      <td>37.70</td>\n",
       "      <td>1.95</td>\n",
       "      <td>0.59</td>\n",
       "    </tr>\n",
       "    <tr>\n",
       "      <th>2</th>\n",
       "      <td>96.79</td>\n",
       "      <td>3.07</td>\n",
       "      <td>0.17</td>\n",
       "      <td>0.00</td>\n",
       "      <td>47.86</td>\n",
       "      <td>7.82</td>\n",
       "      <td>36.77</td>\n",
       "      <td>1.38</td>\n",
       "      <td>0.63</td>\n",
       "    </tr>\n",
       "    <tr>\n",
       "      <th>3</th>\n",
       "      <td>85.56</td>\n",
       "      <td>13.03</td>\n",
       "      <td>0.94</td>\n",
       "      <td>0.47</td>\n",
       "      <td>45.04</td>\n",
       "      <td>7.44</td>\n",
       "      <td>36.06</td>\n",
       "      <td>3.43</td>\n",
       "      <td>0.65</td>\n",
       "    </tr>\n",
       "    <tr>\n",
       "      <th>4</th>\n",
       "      <td>87.75</td>\n",
       "      <td>10.26</td>\n",
       "      <td>1.23</td>\n",
       "      <td>0.76</td>\n",
       "      <td>36.22</td>\n",
       "      <td>24.29</td>\n",
       "      <td>29.25</td>\n",
       "      <td>3.23</td>\n",
       "      <td>1.15</td>\n",
       "    </tr>\n",
       "  </tbody>\n",
       "</table>\n",
       "</div>"
      ],
      "text/plain": [
       "    有机含量   黏土矿物  FeS2   碳酸盐   SiO2  Fe2O3  Al2O3   CaO   MgO\n",
       "0  86.76  12.25  0.00  0.40  46.20   5.26  34.55  3.58  1.30\n",
       "1  92.52   7.32  0.00  0.16  47.52   3.68  37.70  1.95  0.59\n",
       "2  96.79   3.07  0.17  0.00  47.86   7.82  36.77  1.38  0.63\n",
       "3  85.56  13.03  0.94  0.47  45.04   7.44  36.06  3.43  0.65\n",
       "4  87.75  10.26  1.23  0.76  36.22  24.29  29.25  3.23  1.15"
      ]
     },
     "execution_count": 33,
     "metadata": {},
     "output_type": "execute_result"
    }
   ],
   "source": [
    "import matplotlib.pyplot as plt\n",
    "import pandas as pd\n",
    "import numpy as np\n",
    "import seaborn as sns\n",
    "\n",
    "# filename = \"/content/drive/MyDrive/Colab Notebooks/大数据基础/data.xlsx\"\n",
    "filename = 'data.xlsx'\n",
    "df = pd.read_excel(filename,header=0,sheet_name='因子分析2',index_col='编号')\n",
    "df.head(5)\n",
    "# index如果有重复值，需要重新index一下，不然后面可能会出错\n",
    "df.index = range(df.shape[0])\n",
    "df.head()"
   ]
  },
  {
   "cell_type": "code",
   "execution_count": 34,
   "metadata": {
    "id": "-DlNTXhTuEA_"
   },
   "outputs": [],
   "source": [
    "## 设置显示中文（Colab）\n",
    "# import matplotlib as mpl\n",
    "# zhfont = mpl.font_manager.FontProperties(fname='/content/drive/MyDrive/Colab Notebooks/大数据基础/SimHei.ttf')\n",
    "# plt.rcParams['axes.unicode_minus'] = False\n",
    "# # ,fontproperties=zhfont\n",
    "# ## for Seaborn\n",
    "# sns.set(font=zhfont.get_name())"
   ]
  },
  {
   "cell_type": "code",
   "execution_count": 35,
   "metadata": {
    "id": "jZqZ70iuubkQ"
   },
   "outputs": [],
   "source": [
    "# 设置显示中文（正常情况下）\n",
    "plt.rcParams['font.sans-serif'] = ['SimHei']\n",
    "plt.rcParams['axes.unicode_minus'] = False\n",
    "sns.set(font='SimHei')"
   ]
  },
  {
   "cell_type": "markdown",
   "metadata": {
    "id": "y9JuSrmlWofs"
   },
   "source": [
    "# KMeans"
   ]
  },
  {
   "cell_type": "code",
   "execution_count": 53,
   "metadata": {
    "colab": {
     "base_uri": "https://localhost:8080/"
    },
    "id": "4DCpeYZ8W1Mu",
    "outputId": "0c50e736-9fb6-4668-c0c6-2da471632106"
   },
   "outputs": [
    {
     "name": "stdout",
     "output_type": "stream",
     "text": [
      "     有机含量   黏土矿物\n",
      "0   86.76  12.25\n",
      "1   92.52   7.32\n",
      "2   96.79   3.07\n",
      "3   85.56  13.03\n",
      "4   87.75  10.26\n",
      "5   75.69  24.06\n",
      "6   99.21   0.63\n",
      "7   84.50  14.46\n",
      "8   94.14   5.86\n",
      "9   90.50   6.72\n",
      "10  72.05  26.49\n",
      "11  98.10   1.71\n",
      "12  96.35   3.13\n",
      "13  98.48   0.00\n",
      "14  88.51   2.54\n",
      "15  79.75  19.63\n",
      "16  94.54   0.76\n",
      "17  91.51   7.88\n",
      "18  90.89   3.04\n",
      "19  69.79  24.13\n",
      "20  78.47  20.60\n",
      "21  60.71  29.28\n",
      "22  73.03  24.09\n",
      "23  86.35   4.99\n"
     ]
    },
    {
     "data": {
      "text/plain": [
       "array([0, 0, 0, 0, 0, 1, 0, 0, 0, 0, 1, 0, 0, 0, 0, 1, 0, 0, 0, 1, 1, 1,\n",
       "       1, 0])"
      ]
     },
     "execution_count": 53,
     "metadata": {},
     "output_type": "execute_result"
    }
   ],
   "source": [
    "from sklearn.cluster import KMeans\n",
    "from sklearn import metrics\n",
    "# x = np.array([[1,2],[1,4],[1,0],[10,2],[10,4],[10,0]])\n",
    "X=df.iloc[:,0:2]\n",
    "print(X)\n",
    "Kmeans = KMeans(n_clusters=2,random_state=0).fit(X)\n",
    "Kmeans.labels_"
   ]
  },
  {
   "cell_type": "code",
   "execution_count": 54,
   "metadata": {
    "colab": {
     "base_uri": "https://localhost:8080/"
    },
    "id": "bdllFcWSXCER",
    "outputId": "49992ef0-2b3e-4e6a-b97f-13001609a4a0"
   },
   "outputs": [
    {
     "data": {
      "text/plain": [
       "array([[91.90941176,  5.74411765],\n",
       "       [72.78428571, 24.04      ]])"
      ]
     },
     "execution_count": 54,
     "metadata": {},
     "output_type": "execute_result"
    }
   ],
   "source": [
    "Kmeans.cluster_centers_"
   ]
  },
  {
   "cell_type": "code",
   "execution_count": 59,
   "metadata": {
    "colab": {
     "base_uri": "https://localhost:8080/"
    },
    "id": "OchwpJdAW89a",
    "outputId": "771849e0-1ee8-4239-a667-1f93f412f5a7"
   },
   "outputs": [
    {
     "name": "stderr",
     "output_type": "stream",
     "text": [
      "d:\\big_data_test\\envi\\lib\\site-packages\\sklearn\\base.py:450: UserWarning: X does not have valid feature names, but KMeans was fitted with feature names\n",
      "  warnings.warn(\n"
     ]
    },
    {
     "data": {
      "text/plain": [
       "array([0, 1, 0])"
      ]
     },
     "execution_count": 59,
     "metadata": {},
     "output_type": "execute_result"
    }
   ],
   "source": [
    "Kmeans.predict([[86,12],[45,3.1],[100,2]])"
   ]
  },
  {
   "cell_type": "markdown",
   "metadata": {
    "id": "zfNRXLRmdIqV"
   },
   "source": [
    "## 最佳k值的确定\n",
    "### 拐点法\n",
    "\n",
    "就是在不同的k值下计算簇内离差平方和，然后通过可视化的方法找到“拐点”所对应的k值。正如前文所介绍的Kmeans聚类算法的目标函数J，随着簇数量的增加，簇中的样本量会越来越少，进而导致目标函数J的值也会越来越小。通过可视化方法，重点关注的是斜率的变化，当斜率由大突然变小时，并且之后的斜率变化缓慢，则认为突然变化的点就是寻找的目标点，因为继续随着簇数k的增加，聚类效果不再有大的变化。\n",
    "为了验证这个方法的直观性，这里随机生成三组二元正态分布数据，首先基于该数据绘制散点图\n"
   ]
  },
  {
   "cell_type": "code",
   "execution_count": 56,
   "metadata": {
    "colab": {
     "base_uri": "https://localhost:8080/",
     "height": 299
    },
    "id": "l4BD-Lisbwsr",
    "outputId": "535f68b3-067a-4fe7-a9ee-e26a4aacbc1d"
   },
   "outputs": [
    {
     "data": {
      "image/png": "[encoded data removed]",
      "text/plain": [
       "<Figure size 640x480 with 1 Axes>"
      ]
     },
     "metadata": {},
     "output_type": "display_data"
    }
   ],
   "source": [
    "# 构造自定义函数，用于绘制不同k值和对应总的簇内离差平方和的折线图\n",
    "def k_SSE(X, clusters):\n",
    "    # 选择连续的K种不同的值\n",
    "    K = range(1,clusters+1)\n",
    "    # 构建空列表用于存储总的簇内离差平方和\n",
    "    TSSE = []\n",
    "    for k in K:\n",
    "        # 用于存储各个簇内离差平方和\n",
    "        SSE = []\n",
    "        kmeans = KMeans(n_clusters=k)\n",
    "        kmeans.fit(X)\n",
    "        # 返回簇标签\n",
    "        labels = kmeans.labels_\n",
    "        # 返回簇中心\n",
    "        centers = kmeans.cluster_centers_\n",
    "        # 计算各簇样本的离差平方和，并保存到列表中\n",
    "        for label in set(labels):\n",
    "            SSE.append(np.sum((X.loc[labels == label,]-centers[label,:])**2))\n",
    "        # 计算总的簇内离差平方和 \n",
    "        TSSE.append(np.sum(SSE))\n",
    "\n",
    "    # 中文和负号的正常显示\n",
    "    plt.rcParams['font.sans-serif'] = ['Microsoft YaHei']\n",
    "    plt.rcParams['axes.unicode_minus'] = False\n",
    "    # 设置绘图风格\n",
    "    plt.style.use('ggplot')\n",
    "    # 绘制K的个数与GSSE的关系\n",
    "    plt.plot(K, TSSE, 'b*-')\n",
    "    plt.xlabel('簇的个数')\n",
    "    plt.ylabel('簇内离差平方和之和')\n",
    "    # 显示图形\n",
    "    plt.show()\n",
    "\n",
    "# 将三组数据集汇总到数据框中\n",
    "\n",
    "# 自定义函数的调用\n",
    "k_SSE(X, 15)\n"
   ]
  },
  {
   "cell_type": "markdown",
   "metadata": {
    "id": "m4uY13iNdTyy"
   },
   "source": [
    "### 轮廓系数法\n",
    "\n",
    "有关轮廓系数的计算，可以直接调用sklearn子模块metrics中的函数，即\n",
    "silhouette_score。需要注意的是，该函数接受的聚类簇数必须大于等于2。下面基于该函数重新自定义一个函数，用于绘制不同k值下对应轮廓系数的折线图"
   ]
  },
  {
   "cell_type": "code",
   "execution_count": 57,
   "metadata": {
    "colab": {
     "base_uri": "https://localhost:8080/",
     "height": 281
    },
    "id": "J1AEopj6dY2k",
    "outputId": "ff837b3b-65e3-4a02-ddad-4966130a56d1"
   },
   "outputs": [
    {
     "data": {
      "image/png": "[encoded data removed]",
      "text/plain": [
       "<Figure size 640x480 with 1 Axes>"
      ]
     },
     "metadata": {},
     "output_type": "display_data"
    }
   ],
   "source": [
    "# 构造自定义函数，用于绘制不同k值和对应轮廓系数的折线图\n",
    "def k_silhouette(X, clusters):\n",
    "    K = range(2,clusters+1)\n",
    "    # 构建空列表，用于存储个中簇数下的轮廓系数\n",
    "    S = []\n",
    "    for k in K:\n",
    "        kmeans = KMeans(n_clusters=k)\n",
    "        kmeans.fit(X)\n",
    "        labels = kmeans.labels_\n",
    "        # 调用字模块metrics中的silhouette_score函数，计算轮廓系数\n",
    "        S.append(metrics.silhouette_score(X, labels, metric='euclidean'))\n",
    "\n",
    "    # 中文和负号的正常显示\n",
    "    plt.rcParams['font.sans-serif'] = ['Microsoft YaHei']\n",
    "    plt.rcParams['axes.unicode_minus'] = False\n",
    "    # 设置绘图风格\n",
    "    plt.style.use('ggplot')    \n",
    "    # 绘制K的个数与轮廓系数的关系\n",
    "    plt.plot(K, S, 'b*-')\n",
    "    plt.xlabel('簇的个数')\n",
    "    plt.ylabel('轮廓系数')\n",
    "    # 显示图形\n",
    "    plt.show()\n",
    "    \n",
    "# 自定义函数的调用\n",
    "k_silhouette(X, 15)\n"
   ]
  },
  {
   "cell_type": "markdown",
   "metadata": {
    "id": "OAN7usBdeFdO"
   },
   "source": [
    "当k等于2时，轮廓系数最大，且比较接近于1，说明应该把数据聚为2类比较合理"
   ]
  },
  {
   "cell_type": "markdown",
   "metadata": {
    "id": "lSwzFUCKeRBS"
   },
   "source": [
    "### 间隔统计量法"
   ]
  },
  {
   "cell_type": "code",
   "execution_count": 58,
   "metadata": {
    "colab": {
     "base_uri": "https://localhost:8080/",
     "height": 281
    },
    "id": "HqdOijDzeHq5",
    "outputId": "d5d6a11f-93b4-452e-bdd7-f96067328b1f"
   },
   "outputs": [
    {
     "data": {
      "image/png": "[encoded data removed]",
      "text/plain": [
       "<Figure size 640x480 with 1 Axes>"
      ]
     },
     "metadata": {},
     "output_type": "display_data"
    }
   ],
   "source": [
    "# 自定义函数，计算簇内任意两样本之间的欧氏距离\n",
    "def short_pair_wise_D(each_cluster):\n",
    "    mu = each_cluster.mean(axis = 0)\n",
    "    Dk = sum(sum((each_cluster - mu)**2)) * 2.0 * each_cluster.shape[0]\n",
    "    return Dk\n",
    "\n",
    "# 计算簇内的Wk值\n",
    "def compute_Wk(data, classfication_result):\n",
    "    Wk = 0\n",
    "    label_set = set(classfication_result)\n",
    "    for label in label_set:\n",
    "        each_cluster = data[classfication_result == label, :]\n",
    "        Wk = Wk + short_pair_wise_D(each_cluster)/(2.0*each_cluster.shape[0])\n",
    "    return Wk\n",
    "\n",
    "# 计算GAP统计量 \n",
    "def gap_statistic(X, B=10, K=range(1,11), N_init = 10):\n",
    "    # 将输入数据集转换为数组\n",
    "    X = np.array(X)\n",
    "    # 生成B组参照数据\n",
    "    shape = X.shape\n",
    "    tops = X.max(axis=0)\n",
    "    bots = X.min(axis=0)\n",
    "    dists = np.matrix(np.diag(tops-bots))\n",
    "    rands = np.random.random_sample(size=(B,shape[0],shape[1]))\n",
    "    for i in range(B):\n",
    "        rands[i,:,:] = rands[i,:,:]*dists+bots\n",
    "    \n",
    "    # 自定义0元素的数组，用于存储gaps、Wks和Wkbs\n",
    "    gaps = np.zeros(len(K))\n",
    "    Wks = np.zeros(len(K))\n",
    "    Wkbs = np.zeros((len(K),B))\n",
    "    # 循环不同的k值，\n",
    "    for idxk, k in enumerate(K):\n",
    "        k_means =  KMeans(n_clusters=k)\n",
    "        k_means.fit(X)\n",
    "        classfication_result = k_means.labels_\n",
    "        # 将所有簇内的Wk存储起来\n",
    "        Wks[idxk] = compute_Wk(X,classfication_result)\n",
    "        \n",
    "        # 通过循环，计算每一个参照数据集下的各簇Wk值\n",
    "        for i in range(B):\n",
    "            Xb = rands[i,:,:]\n",
    "            k_means.fit(Xb)\n",
    "            classfication_result_b = k_means.labels_\n",
    "            Wkbs[idxk,i] = compute_Wk(Xb,classfication_result_b)\n",
    "\n",
    "    # 计算gaps、sd_ks、sk和gapDiff\n",
    "    gaps = (np.log(Wkbs)).mean(axis = 1) - np.log(Wks)        \n",
    "    sd_ks = np.std(np.log(Wkbs), axis=1)\n",
    "    sk = sd_ks*np.sqrt(1+1.0/B)\n",
    "    # 用于判别最佳k的标准，当gapDiff首次为正时，对应的k即为目标值\n",
    "    gapDiff = gaps[:-1] - gaps[1:] + sk[1:]\n",
    "    \n",
    "    # 中文和负号的正常显示\n",
    "    plt.rcParams['font.sans-serif'] = ['Microsoft YaHei']\n",
    "    plt.rcParams['axes.unicode_minus'] = False\n",
    "    # 设置绘图风格\n",
    "    plt.style.use('ggplot')\n",
    "    # 绘制gapDiff的条形图\n",
    "    plt.bar(np.arange(len(gapDiff))+1, gapDiff, color = 'steelblue')\n",
    "    plt.xlabel('簇的个数')\n",
    "    plt.ylabel('k的选择标准')\n",
    "    plt.show()\n",
    "    \n",
    "# 自定义函数的调用\n",
    "gap_statistic(X)    \n"
   ]
  },
  {
   "cell_type": "markdown",
   "metadata": {
    "id": "DmXuX0nvelgi"
   },
   "source": [
    "x轴代表了不同的簇数k，y轴代表k值选择的判断指标gapDiff，gapDiff首次\n",
    "出现正值时对应的k为2。所以，对于数据集来说，将其划分为2个簇是比较合理的，同样与预设的簇数一致。代码中自定义了3个函数，分别用于计算公式中的Dk、Wk和Gapk，虽然计算逻辑比较简单，但是涉及的循环比较多，所以对大数据集而言，其k值的确定会比较慢。\n"
   ]
  },
  {
   "cell_type": "markdown",
   "metadata": {
    "id": "Id30Wfeee9Hr"
   },
   "source": []
  },
  {
   "cell_type": "code",
   "execution_count": 63,
   "metadata": {
    "colab": {
     "base_uri": "https://localhost:8080/"
    },
    "id": "hBoWK3fue8oL",
    "outputId": "2f4f06fa-c43a-4ce9-9770-cb8c9a1fe805"
   },
   "outputs": [
    {
     "name": "stdout",
     "output_type": "stream",
     "text": [
      "0     2\n",
      "1     2\n",
      "2     2\n",
      "3     2\n",
      "4     1\n",
      "5     0\n",
      "6     2\n",
      "7     2\n",
      "8     2\n",
      "9     2\n",
      "10    0\n",
      "11    2\n",
      "12    1\n",
      "13    1\n",
      "14    1\n",
      "15    0\n",
      "16    1\n",
      "17    2\n",
      "18    2\n",
      "19    0\n",
      "20    0\n",
      "21    0\n",
      "22    0\n",
      "23    1\n",
      "Name: cluster, dtype: int32\n"
     ]
    },
    {
     "data": {
      "text/plain": [
       "2    11\n",
       "0     7\n",
       "1     6\n",
       "Name: cluster, dtype: int64"
      ]
     },
     "execution_count": 63,
     "metadata": {},
     "output_type": "execute_result"
    }
   ],
   "source": [
    "# 构建Kmeans模型\n",
    "Y = df\n",
    "kmeans = KMeans(n_clusters = 3)\n",
    "kmeans.fit(Y)\n",
    "# 聚类结果标签\n",
    "Y['cluster'] = kmeans.labels_\n",
    "print(Y['cluster'])\n",
    "# 各类频数统计\n",
    "Y.cluster.value_counts()"
   ]
  },
  {
   "cell_type": "code",
   "execution_count": 11,
   "metadata": {
    "colab": {
     "base_uri": "https://localhost:8080/",
     "height": 766
    },
    "id": "UHW-sV9Sf-gq",
    "outputId": "f8085521-c89e-4102-db5b-1fdf2bb86beb"
   },
   "outputs": [
    {
     "name": "stderr",
     "output_type": "stream",
     "text": [
      "d:\\big_data_test\\envi\\lib\\site-packages\\seaborn\\regression.py:582: UserWarning: legend_out is deprecated from the `lmplot` function signature. Please update your code to pass it using `facet_kws`.\n",
      "  warnings.warn(msg, UserWarning)\n"
     ]
    },
    {
     "name": "stdout",
     "output_type": "stream",
     "text": [
      "[[88.21777778  8.82777778]\n",
      " [72.78428571 24.04      ]\n",
      " [96.0625      2.275     ]]\n"
     ]
    },
    {
     "data": {
      "image/png": "[encoded data removed]",
      "text/plain": [
       "<Figure size 500x500 with 1 Axes>"
      ]
     },
     "metadata": {},
     "output_type": "display_data"
    }
   ],
   "source": [
    "# 导入第三方模块\n",
    "import seaborn as sns\n",
    "\n",
    "# 三个簇的簇中心\n",
    "centers = kmeans.cluster_centers_\n",
    "print(centers)\n",
    "# 绘制聚类效果的散点图\n",
    "sns.lmplot(x = '有机含量', y = '黏土矿物', data = X, fit_reg = False, scatter_kws = {'alpha':0.8}, legend_out = False)\n",
    "plt.scatter(centers[:,0], centers[:,1], marker = '*', color = 'black', s = 130)\n",
    "plt.xlabel('有机含量')\n",
    "plt.ylabel('黏土矿物')\n",
    "# 图形显示\n",
    "plt.show()\n"
   ]
  },
  {
   "cell_type": "markdown",
   "metadata": {
    "id": "vPgXfwDMiM9R"
   },
   "source": [
    "# 聚类层次树-dendrogram"
   ]
  },
  {
   "cell_type": "code",
   "execution_count": 75,
   "metadata": {
    "id": "f_xfhmjeiMT3"
   },
   "outputs": [],
   "source": [
    "import numpy as np\n",
    "import pandas as pd\n",
    "import scipy.stats as st\n",
    "import statsmodels.api as sm\n",
    "import scipy.cluster as sc\n",
    "from scipy.cluster import hierarchy\n",
    "import matplotlib.pyplot as plt\n",
    "import scipy.spatial.distance as dist\n"
   ]
  },
  {
   "cell_type": "markdown",
   "metadata": {
    "id": "upDPTRDopnW0"
   },
   "source": [
    "#### 对变量进行聚类"
   ]
  },
  {
   "cell_type": "code",
   "execution_count": 76,
   "metadata": {
    "colab": {
     "base_uri": "https://localhost:8080/"
    },
    "id": "B9NqmsfhjLCx",
    "outputId": "e90a04e9-4b22-4e93-effa-0f6b7c7ab8f0"
   },
   "outputs": [
    {
     "name": "stdout",
     "output_type": "stream",
     "text": [
      "[[8.676e+01 1.225e+01 0.000e+00 4.000e-01 4.620e+01 5.260e+00 3.455e+01\n",
      "  3.580e+00 1.300e+00 2.000e+00]\n",
      " [9.252e+01 7.320e+00 0.000e+00 1.600e-01 4.752e+01 3.680e+00 3.770e+01\n",
      "  1.950e+00 5.900e-01 2.000e+00]\n",
      " [9.679e+01 3.070e+00 1.700e-01 0.000e+00 4.786e+01 7.820e+00 3.677e+01\n",
      "  1.380e+00 6.300e-01 2.000e+00]\n",
      " [8.556e+01 1.303e+01 9.400e-01 4.700e-01 4.504e+01 7.440e+00 3.606e+01\n",
      "  3.430e+00 6.500e-01 2.000e+00]\n",
      " [8.775e+01 1.026e+01 1.230e+00 7.600e-01 3.622e+01 2.429e+01 2.925e+01\n",
      "  3.230e+00 1.150e+00 1.000e+00]\n",
      " [7.569e+01 2.406e+01 0.000e+00 2.500e+00 4.740e+01 3.760e+00 4.000e+01\n",
      "  9.700e-01 1.150e+00 0.000e+00]\n",
      " [9.921e+01 6.300e-01 1.600e-01 0.000e+00 8.662e+01 8.870e+00 3.175e+01\n",
      "  2.820e+00 9.600e-01 2.000e+00]\n",
      " [8.450e+01 1.446e+01 1.040e+00 0.000e+00 4.694e+01 1.459e+01 3.735e+01\n",
      "  2.200e+00 8.900e-01 2.000e+00]\n",
      " [9.414e+01 5.860e+00 0.000e+00 0.000e+00 4.866e+01 8.410e+00 3.842e+01\n",
      "  5.100e-01 6.700e-01 2.000e+00]\n",
      " [9.050e+01 6.720e+00 2.780e+00 0.000e+00 3.518e+01 1.580e+00 3.011e+01\n",
      "  5.100e-01 5.900e-01 2.000e+00]\n",
      " [7.205e+01 2.649e+01 1.460e+00 0.000e+00 4.904e+01 5.190e+00 3.928e+01\n",
      "  5.000e-02 7.400e-01 0.000e+00]\n",
      " [9.810e+01 1.710e+00 0.000e+00 0.000e+00 5.422e+01 5.790e+00 3.204e+01\n",
      "  1.330e+00 6.300e-01 2.000e+00]\n",
      " [9.635e+01 3.130e+00 2.600e-01 0.000e+00 4.476e+01 3.654e+01 3.620e+01\n",
      "  6.700e-01 7.000e-01 1.000e+00]\n",
      " [9.848e+01 0.000e+00 1.080e+00 4.400e-01 2.860e+01 1.767e+01 2.437e+01\n",
      "  3.370e+00 5.560e+00 1.000e+00]\n",
      " [8.851e+01 2.540e+00 4.330e+00 2.900e-01 4.912e+01 2.526e+01 1.849e+01\n",
      "  2.460e+00 1.070e+00 1.000e+00]\n",
      " [7.975e+01 1.963e+01 0.000e+00 0.000e+00 5.398e+01 8.270e+00 2.466e+01\n",
      "  4.250e+00 2.370e+00 0.000e+00]\n",
      " [9.454e+01 7.600e-01 2.050e+00 3.100e-01 3.564e+01 3.481e+01 1.118e+01\n",
      "  6.500e+00 7.800e-01 1.000e+00]\n",
      " [9.151e+01 7.880e+00 6.100e-01 0.000e+00 4.606e+01 8.420e+00 3.871e+01\n",
      "  8.200e-01 7.400e-01 2.000e+00]\n",
      " [9.089e+01 3.040e+00 2.300e-01 1.170e+00 6.248e+01 5.110e+00 2.573e+01\n",
      "  7.200e-01 7.000e-01 2.000e+00]\n",
      " [6.979e+01 2.413e+01 5.040e+00 0.000e+00 4.756e+01 1.056e+01 3.799e+01\n",
      "  1.000e-01 1.040e+00 0.000e+00]\n",
      " [7.847e+01 2.060e+01 7.500e-01 0.000e+00 4.696e+01 4.360e+00 3.842e+01\n",
      "  1.280e+00 1.190e+00 0.000e+00]\n",
      " [6.071e+01 2.928e+01 3.580e+00 0.000e+00 6.184e+01 5.190e+00 2.753e+01\n",
      "  1.000e-02 8.500e-01 0.000e+00]\n",
      " [7.303e+01 2.409e+01 2.880e+00 0.000e+00 4.702e+01 8.720e+00 3.942e+01\n",
      "  1.000e-01 7.800e-01 0.000e+00]\n",
      " [8.635e+01 4.990e+00 8.120e+00 0.000e+00 3.348e+01 4.015e+01 1.398e+01\n",
      "  4.300e+00 6.300e-01 1.000e+00]]\n",
      "[0, 1, 2, 3, 4, 5, 6, 7, 8, 9, 10, 11, 12, 13, 14, 15, 16, 17, 18, 19, 20, 21, 22, 23]\n"
     ]
    }
   ],
   "source": [
    "df_list = df.values\n",
    "X =np.matrix(df_list)\n",
    "print(X)\n",
    "X_std = (X - np.mean(X,axis=0))/st.tstd(X,axis=0)#注意这里要使用标准差的无偏估计\n",
    "names = df.index.tolist()\n",
    "print(names)"
   ]
  },
  {
   "cell_type": "code",
   "execution_count": 77,
   "metadata": {
    "id": "9wKd1iHHlC4Z"
   },
   "outputs": [
    {
     "name": "stdout",
     "output_type": "stream",
     "text": [
      "[1.53439002 2.16116262 0.8621548  2.50136006 4.9937318  4.04600343\n",
      " 1.58358115 2.34253937 2.81718322 3.95927417 2.3960935  3.84171968\n",
      " 5.19977093 3.80406645 3.17735637 4.83345855 2.07665094 3.05656382\n",
      " 4.57930077 3.07683063 5.07769315 4.01270005 6.00451414 0.8526314\n",
      " 1.51900012 3.0651386  5.41129755 3.70014388 1.60547625 1.02645776\n",
      " 2.17828095 3.91501461 1.30541685 3.31538291 5.82838636 3.96562254\n",
      " 4.05665653 5.40083785 0.9276167  2.79746684 4.62103455 3.14292656\n",
      " 5.28228898 3.95081547 6.32155848 2.16389707 3.19989638 5.91361286\n",
      " 3.5609522  1.93272905 0.68769044 2.14693688 4.29125127 0.84189548\n",
      " 2.85073902 5.72002556 3.7840951  4.39444019 5.30908297 0.87870523\n",
      " 2.88043345 4.8704785  3.527322   5.62029045 4.25105115 6.17251697\n",
      " 2.34799496 4.86420441 4.23190069 1.33378205 2.31256298 2.58797025\n",
      " 3.75885047 2.50367004 3.70263835 5.72154726 3.62786296 3.54928359\n",
      " 4.80285936 1.96488179 3.0862586  4.24318579 3.03483465 4.88234717\n",
      " 3.72331739 5.6665001  4.7534045  5.19555471 2.54505801 3.3656903\n",
      " 3.30863099 4.21172668 3.48661979 2.87360783 4.72669675 2.62087086\n",
      " 3.41070787 3.42664618 3.11019063 3.6714074  4.3463403  3.43568583\n",
      " 5.20175171 3.98346126 4.44764767 7.11711031 5.37395913 5.71515716\n",
      " 5.95823261 4.59650532 6.09676086 6.26112367 7.40876556 6.27463156\n",
      " 5.42040376 7.6565659  5.56681846 4.79534918 5.20660084 4.50986906\n",
      " 5.45119405 4.75327161 8.26503894 4.1385882  3.74649882 5.02480052\n",
      " 5.87329556 2.98668205 4.7701594  7.02560418 4.723205   4.932757\n",
      " 6.21227643 3.9723308  3.42477292 6.33593403 5.24335085 6.25325003\n",
      " 5.92057558 7.28212325 1.83055221 2.44447356 3.29454691 2.36251801\n",
      " 2.99360291 5.7043439  3.48274834 3.56042126 5.05561069 1.41883702\n",
      " 3.41568975 3.73813536 2.70565686 4.486851   3.20824566 5.53291607\n",
      " 2.18213336 3.92025159 1.20709536 2.81809611 5.92523405 4.00926139\n",
      " 4.47139146 5.75002252 0.54011236 2.90762384 4.58707478 3.28811122\n",
      " 5.32452973 3.91826844 6.42820824 4.02401157 2.42307    3.77838491\n",
      " 5.75242778 3.4401113  4.63694665 5.36844832 1.88768881 3.482958\n",
      " 4.11620024 3.5348614  5.02658676 3.79301991 5.38924187 4.54489565\n",
      " 4.64348513 7.07969556 4.91714006 3.69621484 6.94277392 3.64639384\n",
      " 4.87206582 1.89059181 1.29211177 2.37737368 0.83348126 6.80602263\n",
      " 3.15828706 5.8222341  3.67711988 4.33479561 5.26637185 1.49471696\n",
      " 2.47387137 5.13628009 3.79266704 5.61423479 4.54547121 6.25847278\n",
      " 5.7359611  3.43993939 4.80017366 4.77376352 2.86567321 4.2156774\n",
      " 4.91381664 4.06151428 5.90886029 4.41449262 5.36741219 5.23081666\n",
      " 5.04252581 5.5625246  5.79801677 6.23256271 7.00892711 6.09230824\n",
      " 7.83693746 6.8862515  6.60393109 3.98574276 3.20665177 3.82935637\n",
      " 3.80046363 4.41004122 4.36802387 4.97744384 4.49009563 3.02148191\n",
      " 4.86356855 4.27049978 4.64609468 4.23736051 2.79590633 4.08799762\n",
      " 3.82336586 5.9926479  5.60388578 5.64242302 6.79931206 6.13658477\n",
      " 7.2683297  6.6717785  3.48671031 3.04060355 4.21962774 3.02231916\n",
      " 5.055467   3.59450364 6.13635558 5.36769087 4.37608297 5.38029651\n",
      " 4.91128796 6.60227915 2.47598425 2.23432907 1.16358036 5.78370612\n",
      " 3.13736158 1.5255092  6.44250634 2.38293416 6.63585583 6.20833789]\n"
     ]
    }
   ],
   "source": [
    "# 计算距离\n",
    "dist = dist.pdist(X_std,'euclidean')\n",
    "print(dist)"
   ]
  },
  {
   "cell_type": "code",
   "execution_count": 15,
   "metadata": {
    "id": "1qvTNoHMnzzn"
   },
   "outputs": [],
   "source": [
    "Z = hierarchy.linkage(dist, 'average')"
   ]
  },
  {
   "cell_type": "code",
   "execution_count": 16,
   "metadata": {
    "colab": {
     "base_uri": "https://localhost:8080/",
     "height": 283
    },
    "id": "hWMBfAUtlNYT",
    "outputId": "533f87d4-742c-426c-e026-d00db00f4d3b"
   },
   "outputs": [
    {
     "data": {
      "image/png": "[encoded data removed]",
      "text/plain": [
       "<Figure size 640x480 with 1 Axes>"
      ]
     },
     "metadata": {},
     "output_type": "display_data"
    }
   ],
   "source": [
    "#dendrogram：系统树图\n",
    "d1 = hierarchy.dendrogram(Z, labels = names, count_sort=False)\n",
    "plt.xticks(size=10)\n",
    "plt.show()"
   ]
  },
  {
   "cell_type": "markdown",
   "metadata": {
    "id": "aQR6-BMVpq61"
   },
   "source": [
    "#### 对属性进行聚类"
   ]
  },
  {
   "cell_type": "code",
   "execution_count": 17,
   "metadata": {
    "id": "JQkgTwZS9c14"
   },
   "outputs": [],
   "source": [
    "import numpy as np\n",
    "import pandas as pd\n",
    "import scipy.stats as st\n",
    "import statsmodels.api as sm\n",
    "import scipy.cluster as sc\n",
    "from scipy.cluster import hierarchy\n",
    "import matplotlib.pyplot as plt\n",
    "import scipy.spatial.distance as dist\n"
   ]
  },
  {
   "cell_type": "code",
   "execution_count": 18,
   "metadata": {
    "colab": {
     "base_uri": "https://localhost:8080/"
    },
    "id": "KbXg3S529cqP",
    "outputId": "cbec7e1a-75fc-4598-8e65-0524062d5e20"
   },
   "outputs": [
    {
     "name": "stdout",
     "output_type": "stream",
     "text": [
      "[0, 1, 2, 3, 4, 5, 6, 7, 8, 9, 10, 11, 12, 13, 14, 15, 16, 17, 18, 19, 20, 21, 22, 23]\n"
     ]
    }
   ],
   "source": [
    "df_list = df.values\n",
    "X =np.matrix(df_list).T\n",
    "# print(X)\n",
    "X_std = (X - np.mean(X,axis=0))/st.tstd(X,axis=0)#注意这里要使用标准差的无偏估计\n",
    "names = df.index.tolist()\n",
    "print(names)"
   ]
  },
  {
   "cell_type": "code",
   "execution_count": 19,
   "metadata": {
    "id": "-3ICuQ_dpBoZ"
   },
   "outputs": [],
   "source": [
    "# 计算距离\n",
    "dist1 = dist.pdist(X_std,'euclidean')"
   ]
  },
  {
   "cell_type": "code",
   "execution_count": 20,
   "metadata": {
    "id": "H4vLJH19pCl5"
   },
   "outputs": [],
   "source": [
    "Z = hierarchy.linkage(dist1, 'average')"
   ]
  },
  {
   "cell_type": "code",
   "execution_count": 21,
   "metadata": {
    "colab": {
     "base_uri": "https://localhost:8080/",
     "height": 268
    },
    "id": "J5gH6rFHpE2I",
    "outputId": "f32f5371-ab9b-4da5-d075-577f5eb01365"
   },
   "outputs": [
    {
     "data": {
      "image/png": "[encoded data removed]",
      "text/plain": [
       "<Figure size 640x480 with 1 Axes>"
      ]
     },
     "metadata": {},
     "output_type": "display_data"
    }
   ],
   "source": [
    "#dendrogram：系统树图\n",
    "d1 = hierarchy.dendrogram(Z, labels = df.columns, count_sort=False)\n",
    "plt.xticks(size=10)\n",
    "plt.show()"
   ]
  },
  {
   "cell_type": "code",
   "execution_count": null,
   "metadata": {},
   "outputs": [],
   "source": []
  }
 ],
 "metadata": {
  "colab": {
   "provenance": []
  },
  "kernelspec": {
   "display_name": "Python 3 (ipykernel)",
   "language": "python",
   "name": "python3"
  },
  "language_info": {
   "codemirror_mode": {
    "name": "ipython",
    "version": 3
   },
   "file_extension": ".py",
   "mimetype": "text/x-python",
   "name": "python",
   "nbconvert_exporter": "python",
   "pygments_lexer": "ipython3",
   "version": "3.10.7"
  }
 },
 "nbformat": 4,
 "nbformat_minor": 1
}
