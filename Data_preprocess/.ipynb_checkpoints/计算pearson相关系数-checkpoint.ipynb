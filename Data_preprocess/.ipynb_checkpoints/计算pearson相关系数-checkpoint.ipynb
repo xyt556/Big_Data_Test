{
 "cells": [
  {
   "cell_type": "markdown",
   "metadata": {},
   "source": [
    "pearson相关系数：用于判断数据是否线性相关的方法。\n",
    "\n",
    "注意：不线性相关并不代表不相关，因为可能是非线性相关。\n",
    "\n",
    "Python计算pearson相关系数：\n",
    "\n",
    "1. 使用numpy计算（corrcoef），以下是先标准化再求相关系数"
   ]
  },
  {
   "cell_type": "markdown",
   "metadata": {},
   "source": [
    "import numpy as np\n",
    "import pandas as pd\n",
    "\n",
    "aa = np.array([2,3,9,6,8])\n",
    "bb = np.array([5,6,3,7,9])\n",
    "cc = np.array([aa, bb])\n",
    "print(cc)\n",
    "\n",
    "cc_mean = np.mean(cc, axis=0)  #axis=0,表示按列求均值 ——— 即第一维\n",
    "cc_std = np.std(cc, axis=0)\n",
    "cc_zscore = (cc-cc_mean)/cc_std   #标准化\n",
    "\n",
    "cc_zscore_corr = np.corrcoef(cc_zscore)  #相关系数矩阵\n",
    "print(cc_zscore_corr)"
   ]
  },
  {
   "cell_type": "markdown",
   "metadata": {},
   "source": [
    "2. 使用pandas计算相关系数"
   ]
  },
  {
   "cell_type": "code",
   "execution_count": 3,
   "metadata": {},
   "outputs": [],
   "source": [
    "cc_pd = pd.DataFrame(cc_zscore.T, columns=['c1', 'c2'])\n",
    "cc_corr = cc_pd.corr(method='spearman')   #相关系数矩阵"
   ]
  },
  {
   "cell_type": "code",
   "execution_count": 4,
   "metadata": {},
   "outputs": [
    {
     "name": "stdout",
     "output_type": "stream",
     "text": [
      "c1    1.0\n",
      "c2   -1.0\n",
      "Name: c1, dtype: float64\n"
     ]
    }
   ],
   "source": [
    "print(cc_corr['c1'])  #某个因子与其他因子的相关系数"
   ]
  },
  {
   "attachments": {
    "1468269-20200331205354493-488091413.png": {
     "image/png": "[encoded data removed]"
    }
   },
   "cell_type": "markdown",
   "metadata": {},
   "source": [
    "pearson相关系数的计算公式为：\n",
    "cov(X,Y)表示的是协方差\n",
    "\n",
    "var(x)和var(y)表示的是方差\n",
    "![1468269-20200331205354493-488091413.png](attachment:1468269-20200331205354493-488091413.png)"
   ]
  },
  {
   "cell_type": "code",
   "execution_count": 5,
   "metadata": {},
   "outputs": [
    {
     "name": "stdout",
     "output_type": "stream",
     "text": [
      "-0.8000000000000002\n",
      "-1.0\n"
     ]
    }
   ],
   "source": [
    "# pandas计算协方差\n",
    "\n",
    "print(cc_pd.c1.cov(cc_pd.c2))   #协方差\n",
    "print(cc_pd.c1.corr(cc_pd.c2))  #两个因子的相关系数\n",
    "y_cov = cc_pd.cov()     #协方差矩阵\n",
    "\n"
   ]
  }
 ],
 "metadata": {
  "kernelspec": {
   "display_name": "Python 3 (ipykernel)",
   "language": "python",
   "name": "python3"
  },
  "language_info": {
   "codemirror_mode": {
    "name": "ipython",
    "version": 3
   },
   "file_extension": ".py",
   "mimetype": "text/x-python",
   "name": "python",
   "nbconvert_exporter": "python",
   "pygments_lexer": "ipython3",
   "version": "3.10.7"
  }
 },
 "nbformat": 4,
 "nbformat_minor": 1
}
