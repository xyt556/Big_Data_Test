{
 "cells": [
  {
   "cell_type": "markdown",
   "metadata": {
    "collapsed": true
   },
   "source": [
    "+ 代码2 -1 用interpolate模块进行Lagrange 插值"
   ]
  },
  {
   "cell_type": "code",
   "execution_count": null,
   "metadata": {
    "pycharm": {
     "is_executing": true
    }
   },
   "outputs": [],
   "source": [
    "import numpy as np \n",
    "import scipy\n",
    "x = np. array([ 1, 2, 3, 4, 5, 8, 9, 10]) #创建自变批x \n",
    "y1 =np. array([2, 8, 18, 32, 50, 128, 162, 200]) #创建因变量yl \n",
    "y2=np.array([3, 5, 7, 9, 11, 17, 19, 21]) #创建因变量y2 \n",
    "Lag_Valuel = scipy.interpolate.lagrange (x, y1) # Lagrange 插值拟合 x, yl \n",
    "Lag_Value2 = scipy.interpolate.lagrange (x, y2) # Lagrange 插值拟合 x, y2 \n",
    "print('当x为6, 7时，使用Lagrange 插值 yl为：' , Lag_Valuel([6, 7]))\n",
    "print('当x为6, 7时，使用Lagrange 插值 y2为： ' ,Lag_Value2 ([ 6, 7 ]))"
   ]
  },
  {
   "cell_type": "markdown",
   "metadata": {},
   "source": [
    "+ 代码2-2 自定义 Newton 插值"
   ]
  },
  {
   "cell_type": "code",
   "execution_count": null,
   "metadata": {
    "pycharm": {
     "is_executing": true
    },
    "scrolled": true
   },
   "outputs": [],
   "source": [
    "# 自定义阶跳跃差分函数\n",
    "def diff_self(xi, k):\n",
    "    '''\n",
    "    xi:接收array。表示自变量 x。无默认， 不可省略\n",
    "    k:接收int。表示差分的次数。 无默认， 不可省略\n",
    "    '''\n",
    "    diffValue = [] \n",
    "    for i in range(len(xi) - k) : \n",
    "        diffValue.append(xi[i + k] -xi[i]) \n",
    "    return diffValue \n",
    "#自定义求取差商函数\n",
    "def diff_quot(xi, yi):\n",
    "    '''\n",
    "    xi:接收array。表示自变械 x。尤默认， 不可省略\n",
    "    yi:接收array。表示因变晕 y。无默认， 不可省略\n",
    "    '''\n",
    "    length = len (xi) \n",
    "    quot=[] \n",
    "    temp =yi\n",
    "    for i in range (1, length):\n",
    "        tern = np.diff(temp, 1) / diff_self(xi, i)# 此处需要numpy广播特性支持\n",
    "        quot.append (tern [0]) \n",
    "        temp= tern\n",
    "    return (quot)\n",
    "# 自定义求取(x-xO) * (x -xl)…．．＊(x -xO) \n",
    "def get_Wi(k = 0, xi = []) : \n",
    "    ''' \n",
    "    xi: 接收 array。表示自变趾x。无默认，不可省略\n",
    "    yi: 接收 array。表示因变趾y。无默认，不可省略\n",
    "    '''\n",
    "    def Wi(x):\n",
    "        \n",
    "        '''\n",
    "        X: 接收 int, float, ndarray。 表示插值节点。 无默认\n",
    "        '''\n",
    "        result= 1.0 \n",
    "        for each in range (k) : \n",
    "            result *= (x - xi[each]) \n",
    "        return result \n",
    "    return Wi\n",
    "# 自定义牛顿插值公式\n",
    "def get_Newton_inter (xi, yi):\n",
    "    '''\n",
    "    i: 接收 array。表示自变趾x。无默认，不可省略\n",
    "    yi: 接收 array。表示因变趾y。无默认，不可省略\n",
    "    '''\n",
    "    diffQuot = diff_quot(xi, yi) \n",
    "    def Newton_inter(x):\n",
    "        '''\n",
    "        x ：接收 int, float, ndarray。 表示插值节点。 无默认\n",
    "        '''\n",
    "        result= yi[0] \n",
    "        for i in range(0, len(xi) -1): \n",
    "            result +=get_Wi(i+1, xi)(x) *diffQuot[i] \n",
    "        return result \n",
    "    return Newton_inter \n",
    "Newt_Valuel = get_Newton_inter(x, y1) # Newton插值拟合x, yl \n",
    "Newt_Value2 = get_Newton_inter(x, y2) # Newton插值拟合x, y2 \n",
    "print('当x为6, 7时，使用Newton插值yl为：', Newt_Valuel([6,7]))\n",
    "print('当x为6, 7时，使用Newton插值y2为：', Newt_Value2([6,7]))"
   ]
  },
  {
   "cell_type": "markdown",
   "metadata": {},
   "source": [
    "+ 代码2-3 小数定标标准化示例"
   ]
  },
  {
   "cell_type": "code",
   "execution_count": null,
   "metadata": {
    "pycharm": {
     "is_executing": true
    }
   },
   "outputs": [],
   "source": [
    "##自定义小数定标差标准化函数\n",
    "def DecimalScaler(data):\n",
    "    data= data/10 ** np.ceil(np.log10(data.max()))\n",
    "    return data \n",
    "x = np.array([ 1, 2, 3, 4, 5, 8, 9, 10])\n",
    "DecimalScaler(x)"
   ]
  },
  {
   "cell_type": "markdown",
   "metadata": {},
   "source": [
    "+ 代码2-4 等频法离散化示例"
   ]
  },
  {
   "cell_type": "code",
   "execution_count": null,
   "metadata": {
    "pycharm": {
     "is_executing": true
    }
   },
   "outputs": [],
   "source": [
    "def SameRateCut(data, k):\n",
    "    w = data.quantile(np.arange (0, 1 + 1.0/k, 1.0/k))\n",
    "    data = pd.cut (data, w) \n",
    "    return data "
   ]
  },
  {
   "cell_type": "markdown",
   "metadata": {},
   "source": [
    "+ 代码2 -5 基于聚类分析的离散化\n"
   ]
  },
  {
   "cell_type": "code",
   "execution_count": null,
   "metadata": {
    "pycharm": {
     "is_executing": true
    }
   },
   "outputs": [],
   "source": [
    "##自定义数据 K-Means 聚类离散化函数\n",
    "import pandas as pd\n",
    "def KmeanCut(data, k): \n",
    "    from sklearn.cluster import KMeans #引入KMeans\n",
    "    kmodel = KMeans(n_clusters = k) #建立模型，n_]．obs是并行数 \n",
    "    kmodel.fit(data.reshape((len(data), 1))) ##训练模型\n",
    "    c = pd.DataFrame(kmodel.cluster_centers_).sort_values(0) # 输出聚类中心并排序\n",
    "    w = pd.rolling_mean(c, 2).iloc[1:]\n",
    "   \n",
    "    w=[O] + list(w[O]) +[data.max()]\n",
    "    data= pd.cut(data, w) \n",
    "    return data "
   ]
  },
  {
   "cell_type": "code",
   "execution_count": null,
   "metadata": {
    "pycharm": {
     "is_executing": true
    }
   },
   "outputs": [],
   "source": [
    "import pandas as pd\n",
    "sheet_name = '因子分析2'\n",
    "df = pd.read_excel(r'./data.xlsx',sheet_name= sheet_name, header= 0, index_col= '编号' )# \n",
    "y = np.array(df['SiO2'])\n",
    "data = KmeanCut(df,4)"
   ]
  },
  {
   "cell_type": "markdown",
   "metadata": {},
   "source": [
    "+ 剔除奇异值"
   ]
  },
  {
   "cell_type": "code",
   "execution_count": null,
   "metadata": {
    "pycharm": {
     "is_executing": true
    }
   },
   "outputs": [],
   "source": [
    "#剔除奇异值\n",
    "def remove_singular(arr,n):\n",
    "    #创建新数组用于存储原数据\n",
    "    tem_1 = []\n",
    "    tem_2 = []\n",
    "    #取出第一列和第二列数据\n",
    "    for i in range(len(arr)):\n",
    "        tem_1.append(arr[i][0])\n",
    "        tem_2.append(arr[i][1])\n",
    "    tem_1_std = np.std(tem_1, ddof=1)  # 求第一列数据标准差\n",
    "    tem_2_std = np.std(tem_2, ddof=1)\n",
    "    tem_1_mean = np.mean(tem_1)  # 求第一列数据平均值\n",
    "    tem_2_mean = np.mean(tem_2)\n",
    "    #创建新数组用于存储剔除奇异值后的数据\n",
    "    arr1 = []\n",
    "    arr2 = []\n",
    "    #提供一个阈值(此处取数组中数据的平均值+-2倍的标准差为阈值)削去奇异值\n",
    "    for i in range(len(tem_1)):\n",
    "        if tem_1[i] <= tem_1_mean + 2 * tem_1_std and tem_1[i] >= tem_1_mean - 2 * tem_1_std:\n",
    "            arr1.append(tem_1[i])\n",
    "    #展示原数据曲线图\n",
    "    plt.figure('tem_1')\n",
    "    plt.plot(np.linspace(-20,20,len(tem_1)),tem_1)#生成一个数量为len(tem_1)的等间距样本，在区间[-20,20]内\n",
    "    #展示剔除奇异值后的曲线图像\n",
    "    plt.figure('arr1')\n",
    "    plt.plot(np.linspace(-20,20,len(arr1)),arr1)\n",
    "    for j in range(len(tem_2)):\n",
    "        if tem_2[j] <= tem_2_mean + 2 * tem_2_std and tem_2[j] >= tem_2_mean - 2 * tem_2_std:\n",
    "            arr2.append(tem_2[j])\n",
    "    plt.figure('tem_2')\n",
    "    plt.plot(tem_2)\n",
    "    plt.figure('arr2')\n",
    "    plt.plot(arr2)\n",
    "    #滑动平均去高斯噪声\n",
    "    window = np.ones(n)/n\n",
    "    c = np.convolve(arr1,window,'valid')#numpy中的卷积库函数，’valid‘返回的是完全重叠的点，边缘的点无效\n",
    "    d = np.convolve(arr2,window,'valid')\n",
    "    #展示去噪后的图线\n",
    "    plt.figure('c')\n",
    "    plt.plot(c)\n",
    "    plt.figure('d')\n",
    "    plt.plot(d)\n",
    "    plt.show()\n",
    "    return arr1,arr2,c,d"
   ]
  },
  {
   "cell_type": "code",
   "execution_count": null,
   "metadata": {
    "pycharm": {
     "is_executing": true
    }
   },
   "outputs": [],
   "source": [
    "import pandas as pd\n",
    "sheet_name = '因子分析2'\n",
    "df = pd.read_excel(r'./data.xlsx',sheet_name= sheet_name, header= 0, index_col= '编号' )# \n",
    "y = np.array(df.iloc[:,4:6])\n",
    "arr1,arr2,c,d = remove_singular(y,n=2)"
   ]
  },
  {
   "cell_type": "markdown",
   "metadata": {},
   "source": [
    "+ 数据规范化"
   ]
  },
  {
   "cell_type": "code",
   "execution_count": null,
   "metadata": {
    "pycharm": {
     "is_executing": true
    }
   },
   "outputs": [],
   "source": [
    "#最大最小值规范化以及零均值规范化函数\n",
    "import numpy as np\n",
    "import scipy.io\n",
    "import copy\n",
    "import matplotlib.pyplot as plt\n",
    "def standard(y):\n",
    "    #创建空数组存取第一、二列数\n",
    "    tem_1 = []\n",
    "    tem_2 = []\n",
    "    #取出第一列和第二列数据\n",
    "    for i in range(len(y)):    #此处也可用for i,item in enumerate(y):\n",
    "        tem_1.append(y[i][0])\n",
    "        tem_2.append(y[i][1])\n",
    "    tem_1.sort()#对第一列数据进行排序\n",
    "    tem_2.sort()\n",
    "    max_1 = tem_1[-1]#取出第一列数据最大值\n",
    "    min_1 = tem_1[0]#取出第一列数据最小值\n",
    "    max_2 = tem_2[-1]\n",
    "    min_2 = tem_2[0]\n",
    "    xx = copy.deepcopy(y)#深拷贝以便后序进行零均值规范化\n",
    "    # 最小-最大规范化：\n",
    "    for j in range(len(y)):\n",
    "        y[j][0] = (y[j][0] - min_1)/(max_1 - min_1)#公式为x' = (x - min)/(max - min)映射到[0,1]\n",
    "        y[j][1] = (y[j][1] - min_2)/(max_2 - min_2)\n",
    "    #零均值规范化\n",
    "    tem_1_std = np.std(tem_1, ddof=1)  # 求第一列数据标准差\n",
    "    tem_2_std = np.std(tem_2, ddof=1)\n",
    "    tem_1_mean = np.mean(tem_1)  # 求第一列数据平均值\n",
    "    tem_2_mean = np.mean(tem_2)\n",
    "    for k in range(len(xx)):\n",
    "        xx[k][0] = (xx[k][0] - tem_1_mean)/tem_1_std#公式为x' = (x - mean)/std\n",
    "        xx[k][1] = (xx[k][1] - tem_2_mean)/tem_2_std\n",
    "    print(\"最大最小规范化\",y)\n",
    "    plt.figure('第一列规范化分布')\n",
    "    plt.plot(y[:, 0])\n",
    "    plt.figure('第二列规范化分布')\n",
    "    plt.plot(y[:, 1])\n",
    "    print(\"零均值规范化\",xx)\n",
    "    #画出图像分布用于对比\n",
    "    plt.figure('第一列零均值分布')\n",
    "    plt.plot(xx[:, 0])\n",
    "    plt.figure('第二列零均值分布')\n",
    "    plt.plot(xx[:, 1])\n",
    "    plt.show()\n",
    "\n"
   ]
  },
  {
   "cell_type": "code",
   "execution_count": null,
   "metadata": {
    "pycharm": {
     "is_executing": true
    },
    "scrolled": false
   },
   "outputs": [],
   "source": [
    "import pandas as pd\n",
    "sheet_name = '因子分析2'\n",
    "df = pd.read_excel(r'./data.xlsx',sheet_name= sheet_name, header= 0, index_col= '编号' )# \n",
    "y = np.array(df.iloc[:,1:3])\n",
    "standard(y)"
   ]
  },
  {
   "cell_type": "markdown",
   "metadata": {},
   "source": [
    "+ 实现最小最大、零均值、小数定标规范化、pca降维"
   ]
  },
  {
   "cell_type": "code",
   "execution_count": null,
   "metadata": {
    "collapsed": true,
    "pycharm": {
     "is_executing": true
    }
   },
   "outputs": [],
   "source": [
    "\n",
    "import pandas as pd\n",
    "import numpy as np\n",
    "import matplotlib.pyplot as plt\n",
    "from sklearn import decomposition\n",
    "\n",
    "#--------------------------------------------最小-最大规范化--------------------------------------------\n",
    "def MinMax_Normalize(data):\n",
    "    text=(data - data.min())/(data.max() - data.min())          #最小-最大规范化\n",
    "    text.to_excel ('./最小-最大规范化.xlsx',index=None)   #另存为excel（删除索引\n",
    "    return text\n",
    "\n",
    "#--------------------------------------------零-均值规范化--------------------------------------------\n",
    "def ZeroAvg_Normalize(data):\n",
    "    text=(data - data.mean())/data.std() \n",
    "    text.to_excel ('./零-均值规范化.xlsx',index=None)\n",
    "    return text\n",
    "\n",
    "#--------------------------------------------小数定标规范化--------------------------------------------\n",
    "def Float_Normalize(data):\n",
    "    text=data/10**np.ceil(np.log10(data.abs().max())) \n",
    "    text.to_excel ('.小数定标规范化.xlsx',index=None)\n",
    "    return (text)\n",
    "\n",
    "#--------------------------------------------pca降维代码--------------------------------------------\n",
    "\n",
    "def PCA(data):\n",
    "#调用sklearn库实现PCA:\n",
    "    pca = decomposition.PCA()\n",
    "    pca.fit(data)                                         #X_arr是原始数据集，一行表示一个样本，一列表示一个feature\n",
    "    pca.n_components = 2                        #降为1维\n",
    "    X_reduced = pca.fit_transform(data) #X_reduced是降维后的数据集\n",
    "    plt.plot(X_reduced)\n",
    "    plt.show()\n",
    "    return(X_reduced)\n",
    "\n",
    "if __name__ == '__main__':\n",
    "    #读取excel文件：\n",
    "    sheet_name = '因子分析2'\n",
    "    data = pd.read_excel(r'./data.xlsx',sheet_name= sheet_name, header= 0, index_col= '编号' )#\n",
    "#     print(data)\n",
    "    #规范化：\n",
    "    M=MinMax_Normalize(data) \n",
    "    F=Float_Normalize(data)\n",
    "    Z=ZeroAvg_Normalize(data)\n",
    "    print('最小小-最大规范化:\\n', M)\n",
    "    print('小数定标规范化:\\n', F)\n",
    "    print('零-均值规范化:\\n', Z)\n",
    "    #PCA降维：\n",
    "    print('PCA降维：\\n', PCA(data))\n",
    "\n"
   ]
  },
  {
   "cell_type": "code",
   "execution_count": null,
   "metadata": {
    "pycharm": {
     "is_executing": true
    }
   },
   "outputs": [],
   "source": []
  },
  {
   "cell_type": "code",
   "execution_count": 17,
   "metadata": {
    "pycharm": {
     "is_executing": true
    },
    "scrolled": false
   },
   "outputs": [
    {
     "name": "stdout",
     "output_type": "stream",
     "text": [
      "    编号   有机含量   黏土矿物  FeS2   碳酸盐   SiO2  Fe2O3  Al2O3   CaO   MgO\n",
      "0    1  86.76  12.25  0.00  0.40  46.20   5.26  34.55  3.58  1.30\n",
      "1    2  92.52   7.32  0.00  0.16  47.52   3.68  37.70  1.95  0.59\n",
      "2    3  96.79   3.07  0.17  0.00  47.86   7.82  36.77  1.38  0.63\n",
      "3    4  85.56  13.03  0.94  0.47  45.04   7.44  36.06  3.43  0.65\n",
      "4    5  87.75  10.26  1.23  0.76  36.22  24.29  29.25  3.23  1.15\n",
      "5    6  75.69  24.06  0.00  2.50  47.40   3.76  40.00  0.97  1.15\n",
      "6    7  99.21   0.63  0.16  0.00    NaN   8.87  31.75  2.82  0.96\n",
      "7    8  84.50  14.46  1.04  0.00  46.94  14.59  37.35  2.20  0.89\n",
      "8    9  94.14   5.86  0.00  0.00  48.66   8.41  38.42  0.51  0.67\n",
      "9   10  90.50   6.72  2.78  0.00  35.18   1.58  30.11  0.51  0.59\n",
      "10  11  72.05  26.49  1.46  0.00  49.04   5.19  39.28  0.05  0.74\n",
      "11  12  98.10   1.71  0.00  0.00  54.22   5.79  32.04  1.33  0.63\n",
      "12  13  96.35   3.13  0.26  0.00  44.76  36.54  36.20  0.67  0.70\n",
      "13  14  98.48   0.00  1.08  0.44    NaN  17.67  24.37  3.37  5.56\n",
      "14  15  88.51   2.54  4.33  0.29  49.12  25.26  18.49  2.46  1.07\n",
      "15  16  79.75  19.63  0.00  0.00  53.98   8.27  24.66  4.25  2.37\n",
      "16  17  94.54   0.76  2.05  0.31  35.64  34.81  11.18  6.50  0.78\n",
      "17  18  91.51   7.88  0.61  0.00  46.06   8.42  38.71  0.82  0.74\n",
      "18  19  90.89   3.04  0.23  1.17  62.48   5.11  25.73  0.72  0.70\n",
      "19  20  69.79  24.13  5.04  0.00  47.56  10.56  37.99  0.10  1.04\n",
      "20  21  78.47  20.60  0.75  0.00  46.96   4.36  38.42  1.28  1.19\n",
      "21  22  60.71  29.28  3.58  0.00  61.84   5.19  27.53  0.01  0.85\n",
      "22  23  73.03  24.09  2.88  0.00  47.02   8.72  39.42  0.10  0.78\n",
      "23  24  86.35   4.99  8.12  0.00  33.48  40.15  13.98  4.30  0.63\n",
      "0     46.20\n",
      "1     47.52\n",
      "2     47.86\n",
      "3     45.04\n",
      "4     36.22\n",
      "5     47.40\n",
      "6       NaN\n",
      "7     46.94\n",
      "8     48.66\n",
      "9     35.18\n",
      "10    49.04\n",
      "11    54.22\n",
      "12    44.76\n",
      "13      NaN\n",
      "14    49.12\n",
      "15    53.98\n",
      "16    35.64\n",
      "17    46.06\n",
      "18    62.48\n",
      "19    47.56\n",
      "20    46.96\n",
      "21    61.84\n",
      "22    47.02\n",
      "23    33.48\n",
      "Name: SiO2, dtype: float64\n",
      "49.30371428559556\n",
      "0     46.200000\n",
      "1     47.520000\n",
      "2     47.860000\n",
      "3     45.040000\n",
      "4     36.220000\n",
      "5     47.400000\n",
      "6     49.303714\n",
      "7     46.940000\n",
      "8     48.660000\n",
      "9     35.180000\n",
      "10    49.040000\n",
      "11    54.220000\n",
      "12    44.760000\n",
      "13          NaN\n",
      "14    49.120000\n",
      "15    53.980000\n",
      "16    35.640000\n",
      "17    46.060000\n",
      "18    62.480000\n",
      "19    47.560000\n",
      "20    46.960000\n",
      "21    61.840000\n",
      "22    47.020000\n",
      "23    33.480000\n",
      "Name: SiO2, dtype: float64\n",
      "40.34114285532269\n"
     ]
    },
    {
     "name": "stderr",
     "output_type": "stream",
     "text": [
      "C:\\Users\\xyt556\\AppData\\Local\\Temp\\ipykernel_28384\\1316709119.py:9: SettingWithCopyWarning: \n",
      "A value is trying to be set on a copy of a slice from a DataFrame\n",
      "\n",
      "See the caveats in the documentation: https://pandas.pydata.org/pandas-docs/stable/user_guide/indexing.html#returning-a-view-versus-a-copy\n",
      "  data['SiO2'][(data['SiO2'] < 30) | (data['SiO2'] > 80)] = np.NAN\n",
      "C:\\Users\\xyt556\\AppData\\Local\\Temp\\ipykernel_28384\\1316709119.py:30: SettingWithCopyWarning: \n",
      "A value is trying to be set on a copy of a slice from a DataFrame\n",
      "\n",
      "See the caveats in the documentation: https://pandas.pydata.org/pandas-docs/stable/user_guide/indexing.html#returning-a-view-versus-a-copy\n",
      "  data[i][j] = ployinterp_columns(data[i], j)\n",
      "C:\\Users\\xyt556\\AppData\\Local\\Temp\\ipykernel_28384\\1316709119.py:30: SettingWithCopyWarning: \n",
      "A value is trying to be set on a copy of a slice from a DataFrame\n",
      "\n",
      "See the caveats in the documentation: https://pandas.pydata.org/pandas-docs/stable/user_guide/indexing.html#returning-a-view-versus-a-copy\n",
      "  data[i][j] = ployinterp_columns(data[i], j)\n"
     ]
    }
   ],
   "source": [
    "#coding:utf-8\n",
    "import pandas as pd\n",
    "import numpy as np\n",
    "from scipy.interpolate import lagrange#拉格朗日函数\n",
    "sheet_name = '因子分析2'\n",
    "data = pd.read_excel(r'./data.xlsx',sheet_name= sheet_name, header= 0 )#\n",
    "#自定义列向量插值函数\n",
    "# 过滤异常值，并置为空值\n",
    "data['SiO2'][(data['SiO2'] < 30) | (data['SiO2'] > 80)] = np.NAN\n",
    "print(data)\n",
    "\n",
    "# 自定义列向量插值函数\n",
    "def ployinterp_columns(s, n, k=4):\n",
    "    if n < k:\n",
    "        y = s[list(range(0, n)) + list(range(n + 1, n + k + 1))]\n",
    "    elif n > len(s) - k - 1:\n",
    "        y = s[list(range(n - k, n)) + list(range(n + 1, len(s)))]\n",
    "    else:\n",
    "        y = s[list(range(n - k, n)) + list(range(n + 1, n + k + 1))]  # 取空值处的前后3个数\n",
    "    y = y[y.notnull()]  # 剔除空值\n",
    "    return lagrange(y.index, list(y))(n)  # 插值并返回插值结果\n",
    "\n",
    "\n",
    "# 逐个判断元素是否需要插值\n",
    "for i in data.columns:\n",
    "    for j in range(len(data)):\n",
    "        if (data[i].isnull())[j]:  # 如果为空则插值\n",
    "            print(data[i])\n",
    "            print(ployinterp_columns(data[i], j))\n",
    "            data[i][j] = ployinterp_columns(data[i], j)\n",
    "\n",
    "data.to_excel('lagrange.xlsx')  # 输出结果，写入文件\n"
   ]
  },
  {
   "cell_type": "code",
   "execution_count": null,
   "metadata": {},
   "outputs": [],
   "source": []
  },
  {
   "cell_type": "code",
   "execution_count": 12,
   "metadata": {
    "pycharm": {
     "is_executing": true
    }
   },
   "outputs": [
    {
     "name": "stdout",
     "output_type": "stream",
     "text": [
      "    编号   有机含量   黏土矿物  FeS2   碳酸盐   SiO2  Fe2O3  Al2O3   CaO   MgO\n",
      "0    1  86.76  12.25  0.00  0.40  46.20   5.26  34.55  3.58  1.30\n",
      "1    2  92.52   7.32  0.00  0.16  47.52   3.68  37.70  1.95  0.59\n",
      "2    3  96.79   3.07  0.17  0.00  47.86   7.82  36.77  1.38  0.63\n",
      "3    4  85.56  13.03  0.94  0.47  45.04   7.44  36.06  3.43  0.65\n",
      "4    5  87.75  10.26  1.23  0.76  36.22  24.29  29.25  3.23  1.15\n",
      "5    6  75.69  24.06  0.00  2.50  47.40   3.76  40.00  0.97  1.15\n",
      "6    7  99.21   0.63  0.16  0.00    NaN   8.87  31.75  2.82  0.96\n",
      "7    8  84.50  14.46  1.04  0.00  46.94  14.59  37.35  2.20  0.89\n",
      "8    9  94.14   5.86  0.00  0.00  48.66   8.41  38.42  0.51  0.67\n",
      "9   10  90.50   6.72  2.78  0.00  35.18   1.58  30.11  0.51  0.59\n",
      "10  11  72.05  26.49  1.46  0.00  49.04   5.19  39.28  0.05  0.74\n",
      "11  12  98.10   1.71  0.00  0.00  54.22   5.79  32.04  1.33  0.63\n",
      "12  13  96.35   3.13  0.26  0.00  44.76  36.54  36.20  0.67  0.70\n",
      "13  14  98.48   0.00  1.08  0.44    NaN  17.67  24.37  3.37  5.56\n",
      "14  15  88.51   2.54  4.33  0.29  49.12  25.26  18.49  2.46  1.07\n",
      "15  16  79.75  19.63  0.00  0.00  53.98   8.27  24.66  4.25  2.37\n",
      "16  17  94.54   0.76  2.05  0.31  35.64  34.81  11.18  6.50  0.78\n",
      "17  18  91.51   7.88  0.61  0.00  46.06   8.42  38.71  0.82  0.74\n",
      "18  19  90.89   3.04  0.23  1.17  62.48   5.11  25.73  0.72  0.70\n",
      "19  20  69.79  24.13  5.04  0.00  47.56  10.56  37.99  0.10  1.04\n",
      "20  21  78.47  20.60  0.75  0.00  46.96   4.36  38.42  1.28  1.19\n",
      "21  22  60.71  29.28  3.58  0.00  61.84   5.19  27.53  0.01  0.85\n",
      "22  23  73.03  24.09  2.88  0.00  47.02   8.72  39.42  0.10  0.78\n",
      "23  24  86.35   4.99  8.12  0.00  33.48  40.15  13.98  4.30  0.63\n",
      "差商表 \n",
      " [[ 45.04     0.       0.       0.       0.       0.    ]\n",
      " [ 36.22    -8.82     0.       0.       0.       0.    ]\n",
      " [ 47.4     11.18    20.       0.       0.       0.    ]\n",
      " [ 46.94    -0.23    -5.705  -12.8525   0.       0.    ]\n",
      " [ 48.66     1.72     1.95     7.655   20.5075   0.    ]\n",
      " [ 35.18   -13.48   -15.2    -17.15   -24.805  -45.3125]]\n",
      "-605.3299999999999\n",
      "差商表 \n",
      " [[ 45.04     0.       0.       0.       0.       0.    ]\n",
      " [ 36.22    -8.82     0.       0.       0.       0.    ]\n",
      " [ 47.4     11.18    20.       0.       0.       0.    ]\n",
      " [ 46.94    -0.23    -5.705  -12.8525   0.       0.    ]\n",
      " [ 48.66     1.72     1.95     7.655   20.5075   0.    ]\n",
      " [ 35.18   -13.48   -15.2    -17.15   -24.805  -45.3125]]\n",
      "差商表 \n",
      " [[ 49.04   0.     0.     0.     0.     0.  ]\n",
      " [ 54.22   5.18   0.     0.     0.     0.  ]\n",
      " [ 44.76  -9.46 -14.64   0.     0.     0.  ]\n",
      " [ 49.12   2.18   5.82  10.23   0.     0.  ]\n",
      " [ 53.98   4.86   2.68  -3.14 -13.37   0.  ]\n",
      " [ 35.64 -18.34 -23.2  -25.88 -22.74  -9.37]]\n",
      "5.900000000000077\n",
      "差商表 \n",
      " [[ 49.04   0.     0.     0.     0.     0.  ]\n",
      " [ 54.22   5.18   0.     0.     0.     0.  ]\n",
      " [ 44.76  -9.46 -14.64   0.     0.     0.  ]\n",
      " [ 49.12   2.18   5.82  10.23   0.     0.  ]\n",
      " [ 53.98   4.86   2.68  -3.14 -13.37   0.  ]\n",
      " [ 35.64 -18.34 -23.2  -25.88 -22.74  -9.37]]\n"
     ]
    },
    {
     "name": "stderr",
     "output_type": "stream",
     "text": [
      "C:\\Users\\xyt556\\AppData\\Local\\Temp\\ipykernel_28384\\3087660970.py:9: SettingWithCopyWarning: \n",
      "A value is trying to be set on a copy of a slice from a DataFrame\n",
      "\n",
      "See the caveats in the documentation: https://pandas.pydata.org/pandas-docs/stable/user_guide/indexing.html#returning-a-view-versus-a-copy\n",
      "  data['SiO2'][(data['SiO2'] < 30) | (data['SiO2'] > 80)] = np.NAN\n",
      "C:\\Users\\xyt556\\AppData\\Local\\Temp\\ipykernel_28384\\3087660970.py:62: SettingWithCopyWarning: \n",
      "A value is trying to be set on a copy of a slice from a DataFrame\n",
      "\n",
      "See the caveats in the documentation: https://pandas.pydata.org/pandas-docs/stable/user_guide/indexing.html#returning-a-view-versus-a-copy\n",
      "  data[i][j] = ployinterp_columns(data[i], j, x_j)\n",
      "C:\\Users\\xyt556\\AppData\\Local\\Temp\\ipykernel_28384\\3087660970.py:62: SettingWithCopyWarning: \n",
      "A value is trying to be set on a copy of a slice from a DataFrame\n",
      "\n",
      "See the caveats in the documentation: https://pandas.pydata.org/pandas-docs/stable/user_guide/indexing.html#returning-a-view-versus-a-copy\n",
      "  data[i][j] = ployinterp_columns(data[i], j, x_j)\n"
     ]
    }
   ],
   "source": [
    "#coding:utf-8\n",
    "import pandas as pd\n",
    "import numpy as np\n",
    "from scipy.interpolate import lagrange#拉格朗日函数\n",
    "sheet_name = '因子分析2'\n",
    "data = pd.read_excel(r'./data.xlsx',sheet_name= sheet_name, header= 0 )#\n",
    "#自定义列向量插值函数\n",
    "# 过滤异常值，并置为空值\n",
    "data['SiO2'][(data['SiO2'] < 30) | (data['SiO2'] > 80)] = np.NAN\n",
    "print(data)\n",
    "# 分别定义求插商与求w的函数\n",
    "def cal_f(x, y):\n",
    "    \"\"\"\n",
    "    计算插商\n",
    "    \"\"\"\n",
    "    f0 = np.zeros((len(x), len(y)))  # 定义一个存储插商的数组\n",
    "    for k in range(len(y) + 1):  # 遍历列\n",
    "        for i in range(k, len(x)):  # 遍历行\n",
    "            if k == 0:\n",
    "                f0[i, k] = y[i]\n",
    "            else:\n",
    "                f0[i, k] = (f0[i, k - 1] - f0[i - 1, k - 1]) / (x[i] - x[i - 1])\n",
    "    print('差商表', '\\n', f0)\n",
    "    return f0\n",
    "\n",
    "\n",
    "def newton(x, y, x_j):\n",
    "    \"\"\"\n",
    "    牛顿差值多项式\n",
    "    \"\"\"\n",
    "    f0 = cal_f(x, y)  # 计算插商\n",
    "    f0 = f0.diagonal()\n",
    "    # 与w相乘\n",
    "    f1 = 0\n",
    "    for i in range(len(f0)):\n",
    "        s = 1\n",
    "        k = 0\n",
    "        while k < i:\n",
    "            s = s * (x_j - x[k])\n",
    "            k += 1\n",
    "        f1 = f1 + f0[i] * s\n",
    "    return f1\n",
    "\n",
    "\n",
    "# 自定义列向量插值函数\n",
    "def ployinterp_columns(s, n, x_j, k=3):\n",
    "    if n < k:\n",
    "        y = s[list(range(0, n)) + list(range(n + 1, n + k + 1))]\n",
    "    elif n > len(s) - k - 1:\n",
    "        y = s[list(range(n - k, n)) + list(range(n + 1, len(s)))]\n",
    "    else:\n",
    "        y = s[list(range(n - k, n)) + list(range(n + 1, n + k + 1))]  # 取空值处的前后5个数\n",
    "    y = y[y.notnull()]  # 剔除空值\n",
    "    return newton(y.index, list(y), x_j)  # 插值并返回插值结果\n",
    "\n",
    "\n",
    "for i in data.columns:\n",
    "    for j in range(len(data)):\n",
    "        if (data[i].isnull())[j]:\n",
    "            x_j = data.index[j]\n",
    "            print(ployinterp_columns(data[i], j, x_j))\n",
    "            data[i][j] = ployinterp_columns(data[i], j, x_j)\n",
    "\n",
    "data.to_excel('newton.xlsx')\n"
   ]
  },
  {
   "cell_type": "code",
   "execution_count": null,
   "metadata": {},
   "outputs": [],
   "source": []
  }
 ],
 "metadata": {
  "kernelspec": {
   "display_name": "Python 3 (ipykernel)",
   "language": "python",
   "name": "python3"
  },
  "language_info": {
   "codemirror_mode": {
    "name": "ipython",
    "version": 3
   },
   "file_extension": ".py",
   "mimetype": "text/x-python",
   "name": "python",
   "nbconvert_exporter": "python",
   "pygments_lexer": "ipython3",
   "version": "3.9.13"
  }
 },
 "nbformat": 4,
 "nbformat_minor": 1
}
