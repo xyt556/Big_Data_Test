{
 "cells": [
  {
   "cell_type": "markdown",
   "metadata": {
    "collapsed": true
   },
   "source": [
    "# 数据预处理¶\n",
    "---\n",
    "现实的数据往往是充满噪声的，⽽没有⾼质量的数据，就没有⾼质量的数据挖掘结果。所以，我们需要对数据进⾏预处理，以提⾼数据的质量。\n",
    "数据的质量涉及许多因素，包括：\n",
    "+ 准确性\n",
    "+ 完整性\n",
    "+ ⼀致性\n",
    "+ 时效性\n",
    "+ 可信性\n",
    "+ 可解释性\n",
    "\n",
    "数据预处理的主要步骤为：\n",
    "+ 数据清理：通过填写缺失值、光滑噪声数据、识别或删除离群点。并解决不⼀致性来“清理”数据\n",
    "+ 数据集成：将多个数据源、数据库集成在⼀个\n",
    "+ 数据规约：将得到的数据进⾏简化，去除冗余数据\n",
    "+ 数据变换：讲数据进⾏规范化、数据离散化和数据分层，可以使得数据挖掘在多个抽象层次上进⾏。\n"
   ]
  },
  {
   "cell_type": "markdown",
   "metadata": {},
   "source": [
    "## 1.数据清洗\n",
    "现实中的数据⼀般是不完整的、有噪声的和不⼀致的。数据清洗试图填充缺失值、光滑噪声并识别离\n",
    "群点和纠正数据中的不⼀致。"
   ]
  },
  {
   "cell_type": "markdown",
   "metadata": {},
   "source": [
    "### 1.1 缺失值\n",
    "有时候我们获取的数据存在缺失值，这个往往⽤NaN来表示。"
   ]
  },
  {
   "cell_type": "code",
   "execution_count": 65,
   "metadata": {
    "pycharm": {
     "is_executing": true
    },
    "scrolled": true
   },
   "outputs": [
    {
     "name": "stdout",
     "output_type": "stream",
     "text": [
      "     a    b    c  d\n",
      "0  1.0  2.0  3.0  4\n",
      "1  2.0  3.0  NaN  7\n",
      "2  NaN  4.0  5.0  8\n",
      "3  4.0  NaN  6.0  9\n",
      "[[False False False False]\n",
      " [False False  True False]\n",
      " [ True False False False]\n",
      " [False  True False False]]\n"
     ]
    }
   ],
   "source": [
    "import numpy as np\n",
    "import pandas as pd\n",
    "import matplotlib.pyplot as plt\n",
    "import scipy.interpolate as interpolate\n",
    "\n",
    "df = pd.DataFrame({'a':[1,2,np.nan,4],          #写的是a这一列的值\n",
    "                   'b':[2,3,4,np.nan],\n",
    "                   'c':[3,np.nan,5,6],\n",
    "                   'd':[4,7,8,9]})\n",
    "\n",
    "a = [1,2,3,4,5,6,9,10,11,12]\n",
    "b = [10,16,21,32,35,43,58,62,67,70]\n",
    "\n",
    "# print('原数据')\n",
    "# print(df)\n",
    "# print(df.isnull())\n",
    "# df.isnull()函数返回df数据帧中的数据是否为NaN值的boolean型数据矩阵，如果数据为NaN，矩阵对应\n",
    "# 位置为True，否则为False\n",
    "print(df)\n",
    "ar = np.array(df)\n",
    "print(np.isnan(ar))"
   ]
  },
  {
   "cell_type": "code",
   "execution_count": 83,
   "metadata": {
    "pycharm": {
     "is_executing": true
    }
   },
   "outputs": [],
   "source": [
    "class process:\n",
    "    def __init__(self,data,x,y):\n",
    "        self.data = data\n",
    "#         self.a = x\n",
    "#         self.b = y\n",
    "\n",
    "    def delete_data(self,flag):\n",
    "        if flag==True:\n",
    "            data = pd.DataFrame(self.data).dropna()  #删除空值所在的行\n",
    "        if flag == False:\n",
    "            data = pd.DataFrame(self.data).dropna(axis = 1)   #删除空值所在的列\n",
    "        return data\n",
    "\n",
    "    def replace_data(self):\n",
    "        data = pd.DataFrame(self.data).replace(np.nan,100)  # 用固定值代替\n",
    "        return data\n",
    "\n",
    "    def fill_data(self,tag):\n",
    "        if tag == True:\n",
    "            data = pd.DataFrame(self.data).fillna(df.mean())  #用平均值填充\n",
    "        if tag == False:\n",
    "            data = pd.DataFrame(self.data).fillna(method='bfill')  #向后填充  ffill向前填充\n",
    "        return data\n",
    "\n",
    "    def Interpolation(self):\n",
    "        linear = interpolate.interp1d(self.a,self.b,kind='linear')  #线性插值法根据已知数值构建线性方程组，通过求解线性方程组\n",
    "        plt.plot(linear([1,2,3,4,5,6,7,8,9,10,11,12]),'-.')         #获取缺失值\n",
    "        print('线性插值法求出的ss[7:9]=',linear([7,8]))\n",
    "        lagrange = interpolate.lagrange(self.x,self.y)            #多项式插值是通过拟合多项式，通过多项式求解缺失值，多项式插值中\n",
    "        plt.plot(lagrange([1,2,3,4,5,6,7,8,9,10,11,12]),'--')     #最常用的是拉格朗日插值法和牛顿插值法\n",
    "        print('拉格朗日插值法求出的ss[7:9]=',lagrange([7,8]))\n",
    "        plt.show()\n",
    "\n",
    "    def spline(self):\n",
    "        x = np.linspace(-np.pi,np.pi,10)\n",
    "        y = np.sin(x)\n",
    "        plt.plot(x,y)\n",
    "        tck = interpolate.splrep(x,y)\n",
    "        x_new = np.linspace(-np.pi,np.pi,100)\n",
    "        y_spine = interpolate.splev(x_new,tck)\n",
    "        plt.figure()    #同时生成两张图\n",
    "        plt.plot(x_new,y_spine)\n",
    "        plt.show()\n",
    "\n"
   ]
  },
  {
   "cell_type": "code",
   "execution_count": 84,
   "metadata": {
    "pycharm": {
     "is_executing": true
    }
   },
   "outputs": [
    {
     "name": "stdout",
     "output_type": "stream",
     "text": [
      "输出元数据\n",
      "<__main__.process object at 0x00000263FEF3B280>\n"
     ]
    }
   ],
   "source": [
    "df1 = process(df,a,b)\n",
    "print('输出元数据')\n",
    "print(df1)\n"
   ]
  },
  {
   "cell_type": "code",
   "execution_count": 85,
   "metadata": {
    "pycharm": {
     "is_executing": true
    }
   },
   "outputs": [
    {
     "name": "stdout",
     "output_type": "stream",
     "text": [
      "删除法处理缺失值\n",
      "     a    b    c  d\n",
      "0  1.0  2.0  3.0  4\n"
     ]
    }
   ],
   "source": [
    "print('删除法处理缺失值')\n",
    "df2 = df1.delete_data(flag=True)\n",
    "print(df2)\n"
   ]
  },
  {
   "cell_type": "code",
   "execution_count": 86,
   "metadata": {
    "pycharm": {
     "is_executing": true
    }
   },
   "outputs": [
    {
     "name": "stdout",
     "output_type": "stream",
     "text": [
      "固定值替换法处理缺失值\n",
      "       a      b      c  d\n",
      "0    1.0    2.0    3.0  4\n",
      "1    2.0    3.0  100.0  7\n",
      "2  100.0    4.0    5.0  8\n",
      "3    4.0  100.0    6.0  9\n"
     ]
    }
   ],
   "source": [
    "print('固定值替换法处理缺失值')\n",
    "df3 = df1.replace_data()\n",
    "print(df3)\n"
   ]
  },
  {
   "cell_type": "code",
   "execution_count": 87,
   "metadata": {
    "pycharm": {
     "is_executing": true
    }
   },
   "outputs": [
    {
     "name": "stdout",
     "output_type": "stream",
     "text": [
      "填充法处理缺失值\n",
      "     a    b    c  d\n",
      "0  1.0  2.0  3.0  4\n",
      "1  2.0  3.0  5.0  7\n",
      "2  4.0  4.0  5.0  8\n",
      "3  4.0  NaN  6.0  9\n"
     ]
    }
   ],
   "source": [
    "print('填充法处理缺失值')\n",
    "df4 = df1.fill_data(tag=False)\n",
    "print(df4)\n"
   ]
  },
  {
   "cell_type": "code",
   "execution_count": 82,
   "metadata": {
    "pycharm": {
     "is_executing": true
    }
   },
   "outputs": [
    {
     "name": "stdout",
     "output_type": "stream",
     "text": [
      "插值法处理缺失值\n",
      "线性插值法求出的ss[7:9]= [48. 53.]\n",
      "拉格朗日插值法求出的ss[7:9]= [56.48051948 61.55757576]\n"
     ]
    },
    {
     "data": {
      "image/png": "[encoded data removed]",
      "text/plain": [
       "<Figure size 432x288 with 1 Axes>"
      ]
     },
     "metadata": {
      "needs_background": "light"
     },
     "output_type": "display_data"
    },
    {
     "name": "stdout",
     "output_type": "stream",
     "text": [
      "None\n",
      "样条插值法处理缺失值\n"
     ]
    },
    {
     "data": {
      "image/png": "[encoded data removed]",
      "text/plain": [
       "<Figure size 432x288 with 1 Axes>"
      ]
     },
     "metadata": {
      "needs_background": "light"
     },
     "output_type": "display_data"
    },
    {
     "data": {
      "image/png": "[encoded data removed]",
      "text/plain": [
       "<Figure size 432x288 with 1 Axes>"
      ]
     },
     "metadata": {
      "needs_background": "light"
     },
     "output_type": "display_data"
    }
   ],
   "source": [
    "print('插值法处理缺失值')\n",
    "df5 = df1.Interpolation()\n",
    "print(df5)\n",
    "print('样条插值法处理缺失值')\n",
    "df1.spline()"
   ]
  },
  {
   "cell_type": "code",
   "execution_count": null,
   "metadata": {
    "pycharm": {
     "is_executing": true
    }
   },
   "outputs": [],
   "source": [
    "import numpy as np\n",
    "import pandas as pd\n",
    "raw_data = {'first_name': ['Jason', np.nan, 'Tina', 'Jake', 'Amy'],\n",
    "'last_name': ['Miller', np.nan, 'Ali', 'Milner', 'Cooze'],\n",
    "'age': [42, np.nan, 36, 24, 73],\n",
    "'sex': ['m', np.nan, 'f', 'm', 'f'],\n",
    "'preTestScore': [4, np.nan, np.nan, 2, 3],\n",
    "'postTestScore': [25, np.nan, np.nan, 62, 70]}\n",
    "df = pd.DataFrame(raw_data)\n",
    "df"
   ]
  },
  {
   "cell_type": "markdown",
   "metadata": {
    "pycharm": {
     "is_executing": true
    }
   },
   "source": [
    "+ scipy.interpolate.lagrange"
   ]
  },
  {
   "cell_type": "code",
   "execution_count": 56,
   "metadata": {
    "pycharm": {
     "is_executing": true
    }
   },
   "outputs": [],
   "source": [
    "from scipy.interpolate import lagrange\n",
    "import numpy as np\n",
    "x = np.array([0, 1, 2])\n",
    "y = x**3\n",
    "poly = lagrange(x, y)"
   ]
  },
  {
   "cell_type": "code",
   "execution_count": 57,
   "metadata": {},
   "outputs": [
    {
     "data": {
      "text/plain": [
       "array([ 0., -2.,  3.])"
      ]
     },
     "execution_count": 57,
     "metadata": {},
     "output_type": "execute_result"
    }
   ],
   "source": [
    "from numpy.polynomial.polynomial import Polynomial\n",
    "Polynomial(poly.coef[::-1]).coef"
   ]
  },
  {
   "cell_type": "code",
   "execution_count": 46,
   "metadata": {},
   "outputs": [
    {
     "data": {
      "image/png": "[encoded data removed]",
      "text/plain": [
       "<Figure size 432x288 with 1 Axes>"
      ]
     },
     "metadata": {
      "needs_background": "light"
     },
     "output_type": "display_data"
    }
   ],
   "source": [
    "import matplotlib.pyplot as plt\n",
    "x_new = np.arange(0, 2.1, 0.1)\n",
    "plt.scatter(x, y, label='data')\n",
    "plt.plot(x_new, Polynomial(poly.coef[::-1])(x_new), label='Polynomial')\n",
    "plt.plot(x_new, 3*x_new**2 - 2*x_new + 0*x_new,\n",
    "         label=r\"$3 x^2 - 2 x$\", linestyle='-.')\n",
    "plt.legend()\n",
    "plt.show()"
   ]
  },
  {
   "cell_type": "markdown",
   "metadata": {},
   "source": [
    "**忽略缺失值**\n",
    "\n",
    "当缺失值较少的时候，我们可以丢弃缺失的元组，⽽缺失值较多的时候，我们需要采取别的⽅法"
   ]
  },
  {
   "cell_type": "code",
   "execution_count": null,
   "metadata": {
    "pycharm": {
     "is_executing": true
    }
   },
   "outputs": [],
   "source": [
    "## 判断缺失值\n",
    "df.isnull()"
   ]
  },
  {
   "cell_type": "code",
   "execution_count": null,
   "metadata": {
    "pycharm": {
     "is_executing": true
    }
   },
   "outputs": [],
   "source": [
    "## 删除缺失值所在的元组（⾏）\n",
    "df.dropna(axis=0)"
   ]
  },
  {
   "cell_type": "markdown",
   "metadata": {},
   "source": [
    "**⼈⼯填写缺失值**\n",
    "\n",
    "该⽅法对少数缺失值有效，但费时，且当数据⾮常⼤时难以实现"
   ]
  },
  {
   "cell_type": "code",
   "execution_count": null,
   "metadata": {
    "pycharm": {
     "is_executing": true
    }
   },
   "outputs": [],
   "source": [
    "## 将序号 1 的年龄填写为30\n",
    "df_manual = df.copy()\n",
    "df_manual.loc[1,'age'] = 30\n",
    "df_manual"
   ]
  },
  {
   "cell_type": "markdown",
   "metadata": {},
   "source": [
    "**使⽤⼀个全局常量填充缺失值**"
   ]
  },
  {
   "cell_type": "code",
   "execution_count": null,
   "metadata": {
    "pycharm": {
     "is_executing": true
    }
   },
   "outputs": [],
   "source": [
    "## ⽤999填充缺失值\n",
    "df.fillna(value=999)"
   ]
  },
  {
   "cell_type": "markdown",
   "metadata": {},
   "source": [
    "**使⽤属性中⼼度填充缺失值**"
   ]
  },
  {
   "cell_type": "code",
   "execution_count": null,
   "metadata": {
    "pycharm": {
     "is_executing": true
    }
   },
   "outputs": [],
   "source": [
    "## 给定元组均值\n",
    "df.fillna(value=df.mean())"
   ]
  },
  {
   "cell_type": "markdown",
   "metadata": {},
   "source": [
    "**使⽤最可能的值填充缺失值**\n",
    "\n",
    "可使⽤是回归、⻉叶斯等⽅法确定最可能的值。也可以使⽤插值法填充。"
   ]
  },
  {
   "cell_type": "code",
   "execution_count": null,
   "metadata": {
    "pycharm": {
     "is_executing": true
    }
   },
   "outputs": [],
   "source": [
    "## 使⽤上⼀个值替代\n",
    "df.fillna(method='ffill')"
   ]
  },
  {
   "cell_type": "code",
   "execution_count": null,
   "metadata": {
    "pycharm": {
     "is_executing": true
    }
   },
   "outputs": [],
   "source": [
    "##使⽤线性插值法填充\n",
    "df.interpolate()"
   ]
  },
  {
   "cell_type": "markdown",
   "metadata": {},
   "source": [
    "## 1.2 噪声数据\n",
    "噪声（noise）是被测量的变量的随机误差或⽅差。\n",
    "\n",
    "分箱（binning）\n",
    "\n",
    "分箱通过查考数据的“临近”即周围值来光滑有序数据值。由于分箱⽅法考察邻近值，因此它进⾏的是局部光滑。\n",
    "\n",
    "将数据分为个等频的箱中，可以⽤箱均值、箱中位数或箱边界光滑数据"
   ]
  },
  {
   "attachments": {
    "e671c47453f093c3672b07e943f05c85_webp.webp": {
     "image/webp": "[encoded data removed]"
    }
   },
   "cell_type": "markdown",
   "metadata": {},
   "source": [
    "+ 异常值判别\n",
    "![e671c47453f093c3672b07e943f05c85_webp.webp](attachment:e671c47453f093c3672b07e943f05c85_webp.webp)"
   ]
  },
  {
   "cell_type": "code",
   "execution_count": 145,
   "metadata": {},
   "outputs": [
    {
     "data": {
      "image/png": "[encoded data removed]",
      "text/plain": [
       "<Figure size 144x144 with 1 Axes>"
      ]
     },
     "metadata": {
      "needs_background": "light"
     },
     "output_type": "display_data"
    },
    {
     "data": {
      "image/png": "[encoded data removed]",
      "text/plain": [
       "<Figure size 144x144 with 1 Axes>"
      ]
     },
     "metadata": {
      "needs_background": "light"
     },
     "output_type": "display_data"
    },
    {
     "data": {
      "image/png": "[encoded data removed]",
      "text/plain": [
       "<Figure size 144x144 with 1 Axes>"
      ]
     },
     "metadata": {
      "needs_background": "light"
     },
     "output_type": "display_data"
    },
    {
     "data": {
      "image/png": "[encoded data removed]",
      "text/plain": [
       "<Figure size 144x144 with 1 Axes>"
      ]
     },
     "metadata": {
      "needs_background": "light"
     },
     "output_type": "display_data"
    },
    {
     "data": {
      "text/plain": [
       "<AxesSubplot:ylabel='SiO2'>"
      ]
     },
     "execution_count": 145,
     "metadata": {},
     "output_type": "execute_result"
    },
    {
     "data": {
      "image/png": "[encoded data removed]",
      "text/plain": [
       "<Figure size 144x144 with 1 Axes>"
      ]
     },
     "metadata": {
      "needs_background": "light"
     },
     "output_type": "display_data"
    }
   ],
   "source": [
    "import pandas as pd\n",
    "import numpy as np\n",
    "import matplotlib.pyplot as plt\n",
    "plt.rcParams['font.sans-serif'] = ['SimHei']     # 用来显示中文标签\n",
    "plt.rcParams['axes.unicode_minus'] = False       # 用来正常显示负号\n",
    "plt.style.use('_mpl-gallery')\n",
    "# 生成异常数据\n",
    "# df = pd.DataFrame({'coll' : [1, 58, 3, 5, 2, 12, 13], 'col2' : [12, 17, 31, 53, 22, 32, 43]})\n",
    "# print(df)\n",
    "\n",
    "sheet_name = '因子分析2'\n",
    "df = pd.read_excel(r'./data.xlsx',sheet_name= sheet_name, header= 0) # , index_col= '编号'\n",
    "x = df['编号']\n",
    "y = df['SiO2']\n",
    "# plot\n",
    "fig, ax1 = plt.subplots()\n",
    "ax1.plot(x, y, linewidth=2.0)\n",
    "ax1.set(xlim=(x.min(), x.max()), xticks=np.arange(x.min(), x.max(), step= 2),\n",
    "       ylim=(y.min(), y.max()), yticks=np.arange(y.min(), y.max(),step= 10))\n",
    "\n",
    "fig, ax2 = plt.subplots()\n",
    "ax2.bar(x, y, linewidth=2.0)\n",
    "ax2.set(xlim=(x.min(), x.max()), xticks=np.arange(x.min(), x.max(), step= 2),\n",
    "       ylim=(y.min(), y.max()), yticks=np.arange(y.min(), y.max(),step= 10))\n",
    "\n",
    "fig, ax3= plt.subplots()\n",
    "ax3.boxplot(y)\n",
    "# ax3.set(xlim=(x.min(), x.max()), xticks=np.arange(x.min(), x.max(), step= 1),\n",
    "#        ylim=(y.min(), y.max()), yticks=np.arange(y.min(), y.max(),step= 10))\n",
    "\n",
    "fig, ax4= plt.subplots()\n",
    "ax4.violinplot(y)\n",
    "\n",
    "plt.show()\n",
    "import seaborn as sns\n",
    "sns.violinplot(y=y)\n",
    "# sns.violinplot(data = df.iloc[0:,1:2])\n"
   ]
  },
  {
   "cell_type": "markdown",
   "metadata": {},
   "source": [
    "- 3σ准则"
   ]
  },
  {
   "cell_type": "code",
   "execution_count": 47,
   "metadata": {},
   "outputs": [
    {
     "name": "stdout",
     "output_type": "stream",
     "text": [
      "平均值 86.33125000000001\n",
      "3倍标准差 30.858618528702806\n",
      "平均值 11.080416666666666\n",
      "3倍标准差 28.368781879490122\n",
      "平均值 1.5295833333333333\n",
      "3倍标准差 6.092588735504801\n",
      "平均值 0.2708333333333333\n",
      "3倍标准差 1.680417261846903\n",
      "平均值 47.85\n",
      "3倍标准差 34.505464217563656\n",
      "平均值 12.5725\n",
      "3倍标准差 33.69575089326352\n",
      "平均值 31.665000000000003\n",
      "3倍标准差 24.868690110781614\n",
      "平均值 1.9391666666666663\n",
      "3倍标准差 5.082183072519987\n",
      "平均值 1.0983333333333334\n",
      "3倍标准差 3.0672378170084813\n",
      "     有机含量   黏土矿物   FeS2    碳酸盐   SiO2  Fe2O3  Al2O3    CaO    MgO\n",
      "编号                                                               \n",
      "1   False  False  False  False  False  False  False  False  False\n",
      "2   False  False  False  False  False  False  False  False  False\n",
      "3   False  False  False  False  False  False  False  False  False\n",
      "4   False  False  False  False  False  False  False  False  False\n",
      "5   False  False  False  False  False  False  False  False  False\n",
      "6   False  False  False   True  False  False  False  False  False\n",
      "7   False  False  False  False   True  False  False  False  False\n",
      "8   False  False  False  False  False  False  False  False  False\n",
      "9   False  False  False  False  False  False  False  False  False\n",
      "10  False  False  False  False  False  False  False  False  False\n",
      "11  False  False  False  False  False  False  False  False  False\n",
      "12  False  False  False  False  False  False  False  False  False\n",
      "13  False  False  False  False  False  False  False  False  False\n",
      "14  False  False  False  False  False  False  False  False   True\n",
      "15  False  False  False  False  False  False  False  False  False\n",
      "16  False  False  False  False  False  False  False  False  False\n",
      "17  False  False  False  False  False  False  False  False  False\n",
      "18  False  False  False  False  False  False  False  False  False\n",
      "19  False  False  False  False  False  False  False  False  False\n",
      "20  False  False  False  False  False  False  False  False  False\n",
      "21  False  False  False  False  False  False  False  False  False\n",
      "22  False  False  False  False  False  False  False  False  False\n",
      "23  False  False  False  False  False  False  False  False  False\n",
      "24  False  False   True  False  False  False  False  False  False\n"
     ]
    }
   ],
   "source": [
    "import pandas as pd\n",
    "\n",
    "# 生成异常数据\n",
    "# df = pd.DataFrame({'coll' : [1, 58, 3, 5, 2, 12, 13], 'col2' : [12, 17, 31, 53, 22, 32, 43]})\n",
    "# print(df)\n",
    "\n",
    "sheet_name = '因子分析2'\n",
    "df = pd.read_excel(r'./data.xlsx',sheet_name= sheet_name, header= 0, index_col= '编号')\n",
    "\n",
    "# 通过Z-Score方法判断异常值\n",
    "# pandas中，如果b = a，则b is a。所以想要复制它的值，但不关联，就必须深度复制，b = a.copy()。\n",
    "df_zscore = df.copy()       # 通过df.copy()复制一个原始数据框的副本用来存储Z-Score标准化后的得分      \n",
    "cols = df.columns           # 获得数据框的列名\n",
    "for col in cols:\n",
    "    df_col = df[col]        # 得到每列的值\n",
    "#     print(df_col)\n",
    "    mean = df_col.mean()\n",
    "    std = df_col.std()\n",
    "    print('平均值',mean)\n",
    "    print('3倍标准差',3* std)\n",
    "#     z_score = (df_col - df_col.mean())/df_col.std()     # 计算每列的Z-score得分\n",
    "#     print(abs((df_col- mean)))\n",
    "    df_zscore[col] = abs((df_col- mean)) > 3 * std             # 判断Z-score得分是否大于2.2，如果是则是True,否则为False\n",
    "\n",
    "print(df_zscore)    \n"
   ]
  },
  {
   "cell_type": "code",
   "execution_count": 103,
   "metadata": {},
   "outputs": [
    {
     "name": "stdout",
     "output_type": "stream",
     "text": [
      "处理第0列\n",
      "均值和标准差分别为：86.33125000000001 10.286206176234268\n",
      "__________________________\n",
      "处理第1列\n",
      "均值和标准差分别为：11.080416666666666 9.456260626496707\n",
      "__________________________\n",
      "处理第2列\n",
      "均值和标准差分别为：1.5295833333333333 2.0308629118349337\n",
      ">3sigma 23 2\n",
      "__________________________\n",
      "处理第3列\n",
      "均值和标准差分别为：0.2708333333333333 0.560139087282301\n",
      ">3sigma 5 3\n",
      "__________________________\n",
      "处理第4列\n",
      "均值和标准差分别为：47.85 11.501821405854551\n",
      ">3sigma 6 4\n",
      "__________________________\n",
      "处理第5列\n",
      "均值和标准差分别为：12.5725 11.231916964421174\n",
      "__________________________\n",
      "处理第6列\n",
      "均值和标准差分别为：31.665000000000003 8.289563370260538\n",
      "__________________________\n",
      "处理第7列\n",
      "均值和标准差分别为：1.9391666666666663 1.694061024173329\n",
      "__________________________\n",
      "处理第8列\n",
      "均值和标准差分别为：1.0983333333333334 1.0224126056694938\n",
      ">3sigma 13 8\n",
      "__________________________\n"
     ]
    }
   ],
   "source": [
    "import numpy as np\n",
    "import pandas as pd\n",
    "#设置需读取文件的路径\n",
    "sheet_name = '因子分析2'\n",
    "data = pd.read_excel(r'./data.xlsx',sheet_name= sheet_name, header= 0, index_col= '编号')\n",
    "# print(data)\n",
    "# 记录方差大于3倍的值\n",
    "#shape[0]记录行数，shape[1]记录列数\n",
    "sigmayb = [0]*data.shape[0]\n",
    "\n",
    "for i in range(0,data.shape[1]):\n",
    "    print(\"处理第\"+str(i)+\"列\")\n",
    "    # 循环 每一列\n",
    "    lie = data.iloc[:, i].to_numpy()\n",
    "    #        print(lie)\n",
    "    mea = np.mean(lie)\n",
    "    s = np.std(lie, ddof=1)\n",
    "    # 计算每一列 均值 mea 标准差 s\n",
    "    print(\"均值和标准差分别为：\"+str(mea)+\" \"+str(s))\n",
    "    #统计大于三倍方差的行\n",
    "    for t in range(0,data.shape[0]):\n",
    "        if (abs(lie[t]-mea) > 3*s):\n",
    "            print(\">3sigma\"+\" \"+str(t)+\" \"+str(i))\n",
    "        #将异常值置空\n",
    "        #            data.iloc[t,i]=' '\n",
    "        #平均值代替异常值\n",
    "            data.iloc[t,i]=mea\n",
    "    print('__________________________')\n",
    "#将处理后的数据存储到原文件中\n",
    "data.to_excel(r'./data11.xlsx',sheet_name= sheet_name + '异常值为空', header= True, columns=data.columns)\n"
   ]
  },
  {
   "cell_type": "code",
   "execution_count": 71,
   "metadata": {},
   "outputs": [
    {
     "name": "stdout",
     "output_type": "stream",
     "text": [
      "Series([], Name: 有机含量, dtype: float64)\n",
      "Series([], Name: 黏土矿物, dtype: float64)\n",
      "编号\n",
      "24    8.12\n",
      "Name: FeS2, dtype: float64\n",
      "编号\n",
      "6    2.5\n",
      "Name: 碳酸盐, dtype: float64\n",
      "编号\n",
      "7    86.62\n",
      "Name: SiO2, dtype: float64\n",
      "Series([], Name: Fe2O3, dtype: float64)\n",
      "Series([], Name: Al2O3, dtype: float64)\n",
      "Series([], Name: CaO, dtype: float64)\n",
      "编号\n",
      "14    5.56\n",
      "Name: MgO, dtype: float64\n"
     ]
    }
   ],
   "source": [
    "import numpy as np   #载入numpy库\n",
    "import pandas as pd   #载入pandas库\n",
    "sheet_name = '因子分析2'\n",
    "data = pd.read_excel(r'./data.xlsx',sheet_name= sheet_name, header= 0, index_col= '编号')\n",
    "# print(data.columns)\n",
    "# data.head(5)   #显示数据集的前5行\n",
    "# print(data.shape[0])   #显示数据集的行数\n",
    "# print(data.shape[1])   #显示数据集的列数\n",
    "def three_sigma(x):   #传入某变量  \n",
    "    mean_value = x.mean()   #计算该变量的均值  \n",
    "    std_value = x.std()   #计算该变量的标准差  \n",
    "    rule = (mean_value - 3 * std_value > x) | (x.mean() + 3 * x.std() < x)   #处于(mean-3std,mean+3std)区间外的数据为异常值\n",
    "    index = np.arange(x.shape[0])[rule]   #获取异常值的行位置索引  \n",
    "    outlier = x.iloc[index]   #获取异常值的数据  \n",
    "    print(outlier)\n",
    "    return outlier   #返回异常值的数据\n",
    "\n",
    "# print(three_sigma(data[\"SiO2\"]))   #显示变量\"fixed acidity\"的异常值\n",
    "for col in data.columns:\n",
    "    three_sigma(data[col])\n",
    "    "
   ]
  },
  {
   "cell_type": "markdown",
   "metadata": {},
   "source": [
    "- 箱型图判断"
   ]
  },
  {
   "cell_type": "code",
   "execution_count": 110,
   "metadata": {},
   "outputs": [
    {
     "name": "stdout",
     "output_type": "stream",
     "text": [
      "[]\n",
      "[]\n"
     ]
    },
    {
     "data": {
      "image/png": "[encoded data removed]",
      "text/plain": [
       "<Figure size 432x288 with 1 Axes>"
      ]
     },
     "metadata": {
      "needs_background": "light"
     },
     "output_type": "display_data"
    }
   ],
   "source": [
    "import pandas as pd\n",
    "sheet_name = '因子分析2'\n",
    "data = pd.read_excel(r'./data.xlsx',sheet_name= sheet_name, header= 0, index_col= '编号')\n",
    "data.head()\n",
    "\n",
    "import matplotlib.pyplot as plt\n",
    "plt.rcParams['font.sans-serif'] = ['SimHei']     # 用来显示中文标签\n",
    "plt.rcParams['axes.unicode_minus'] = False       # 用来正常显示负号\n",
    "\n",
    "# data = data['SiO2']\n",
    "\n",
    "plt.figure()\n",
    "p = data.boxplot(return_type='dict')                   # 画箱线图，直接使用DataFrame方法\n",
    "x = p['fliers'][0].get_xdata()       # 'flies'为异常值的标签\n",
    "y = p['fliers'][0].get_ydata()\n",
    "y.sort()\n",
    "print(x)\n",
    "print(y)\n",
    "# 用annotate添加注释\n",
    "# 其中有些相近的点，注释会出现重叠，难以看清，需要一些技巧来控制\n",
    "# 以下参数都是经过调试的，需要具体问题具体调试\n",
    "for i in range(len(x)):\n",
    "    if i>0:\n",
    "        plt.annotate(y[i], xy = (x[i], y[i]), xytext=(x[i]+0.05 - 0.8/(y[i]-y[i-1]),y[i]))\n",
    "    else:\n",
    "        plt.annotate(y[i], xy = (x[i], y[i]), xytext=(x[i]+0.08,y[i]))\n",
    "plt.show()"
   ]
  },
  {
   "cell_type": "markdown",
   "metadata": {},
   "source": [
    "Z-Score判断"
   ]
  },
  {
   "cell_type": "code",
   "execution_count": 2,
   "metadata": {},
   "outputs": [
    {
     "name": "stdout",
     "output_type": "stream",
     "text": [
      "   col1  col2\n",
      "0     1    12\n",
      "1   120    17\n",
      "2     3    31\n",
      "3     5    53\n",
      "4     2    22\n",
      "5    12    32\n",
      "6    13    43\n",
      "    col1   col2\n",
      "0  False  False\n",
      "1   True  False\n",
      "2  False  False\n",
      "3  False  False\n",
      "4  False  False\n",
      "5  False  False\n",
      "6  False  False\n"
     ]
    }
   ],
   "source": [
    "import pandas as pd\n",
    "\n",
    "df = pd.DataFrame({'col1': [1, 120, 3, 5, 2, 12, 13],\n",
    "                   'col2' : [12, 17, 31, 53, 22, 32, 43]})\n",
    "print(df)\n",
    "\n",
    "# 通过Z-Score方法判断异常值\n",
    "df_zscore = df.copy()   # 通过df.copy()复制一个原始数据框的副本用来存储Z-Score标准化后的得分\n",
    "for col in df.columns:\n",
    "    z_score = (df[col] - df[col].mean()) / df[col].std()\n",
    "    df_zscore[col] = z_score.abs() > 2.2    # 判断Z-score得分是否大于2.2，如果是则是True,否则为False\n",
    "print(df_zscore)"
   ]
  },
  {
   "cell_type": "code",
   "execution_count": null,
   "metadata": {
    "pycharm": {
     "is_executing": true
    }
   },
   "outputs": [],
   "source": [
    "# 噪声数据检测\n",
    "import pandas as pd\n",
    "import numpy as np\n",
    "import matplotlib.pyplot as plt\n",
    "\n",
    "df = pd.DataFrame({'a':[1,2,33,4],\n",
    "                   'b':[5,6,7,8],\n",
    "                   'c':[9,10,11,122],\n",
    "                   'd':[13,14,15,16]})\n",
    "\n",
    "df['e'] = [1,2,3,4]   # 添加一列e\n",
    "print(df)\n",
    "df.boxplot()        # 画箱型图\n",
    "df.plot(kind='scatter',x='e',y='e')   # 画散点图\n",
    "plt.show()"
   ]
  },
  {
   "cell_type": "code",
   "execution_count": null,
   "metadata": {
    "pycharm": {
     "is_executing": true
    }
   },
   "outputs": [],
   "source": [
    "data_price = np.array([15,4,8,21,28,21,24,25,34])\n",
    "data_price"
   ]
  },
  {
   "cell_type": "code",
   "execution_count": null,
   "metadata": {
    "pycharm": {
     "is_executing": true
    }
   },
   "outputs": [],
   "source": [
    "## 对数据进⾏排序\n",
    "data_price.sort()\n",
    "data_price"
   ]
  },
  {
   "cell_type": "code",
   "execution_count": null,
   "metadata": {
    "pycharm": {
     "is_executing": true
    }
   },
   "outputs": [],
   "source": [
    "## 将数据进⾏分箱， 分3个箱\n",
    "data_box = data_price.reshape([3,-1])\n",
    "data_box"
   ]
  },
  {
   "cell_type": "code",
   "execution_count": null,
   "metadata": {
    "pycharm": {
     "is_executing": true
    }
   },
   "outputs": [],
   "source": [
    "## ⽤箱均值光滑\n",
    "np.repeat(data_box.mean(axis=1), 3)"
   ]
  },
  {
   "cell_type": "code",
   "execution_count": null,
   "metadata": {
    "pycharm": {
     "is_executing": true
    }
   },
   "outputs": [],
   "source": [
    "## ⽤箱中位数光滑\n",
    "np.repeat(np.median(data_box, axis=1), 3)"
   ]
  },
  {
   "cell_type": "code",
   "execution_count": null,
   "metadata": {
    "pycharm": {
     "is_executing": true
    }
   },
   "outputs": [],
   "source": [
    "from scipy import stats\n",
    "values = [1.0, 1.0, 2.0, 1.5, 3.0]\n",
    "stats.binned_statistic([1, 1, 2, 5, 7], values, 'mean', bins=3)"
   ]
  },
  {
   "cell_type": "code",
   "execution_count": null,
   "metadata": {
    "pycharm": {
     "is_executing": true
    }
   },
   "outputs": [],
   "source": [
    "## ⽤箱边界光滑\n",
    "np.repeat(data_box.max(axis=1), 3)"
   ]
  },
  {
   "cell_type": "markdown",
   "metadata": {},
   "source": [
    "### 重复数据处理"
   ]
  },
  {
   "cell_type": "code",
   "execution_count": null,
   "metadata": {
    "pycharm": {
     "is_executing": true
    }
   },
   "outputs": [],
   "source": [
    "import pandas as pd\n",
    "import numpy as np\n",
    "\n",
    "df = pd.DataFrame({'a':np.random.randint(1,3,1000),'b':np.random.randint(3,5,1000),\n",
    "                   'c':np.random.randint(5,7,1000)})\n",
    "print('原数据\\n',df)\n",
    "print('原数据shape',df.shape)\n",
    "# print(df.duplicated()[1])\n",
    "num_false = 0\n",
    "num_true = 0\n",
    "for i in range(df.shape[0]):\n",
    "    if (df.duplicated()[i] == True):\n",
    "        num_true = num_true+1\n",
    "    else:\n",
    "        num_false = num_false+1\n",
    "print('不重复的行（第一次出现）',num_false)\n",
    "print('重复行',num_true)\n",
    "print(df.duplicated())\n",
    "df1 = df.drop_duplicates()\n",
    "print('去重后的数据shape',df1.shape)\n",
    "print('去重后原数据shape不变',df.shape)\n",
    "'''\n",
    "drop_duplicates()函数可以删除重复记录。\n",
    "参数subset用于识别重复的列标签或列标签序列，默认None表示所有列标签\n",
    "参数keep是特定字符串，表示重复时保留哪个记录数据。first表示第一条，last表示保留最后一条\n",
    "false表示重复的都不保留，默认为first\n",
    "参数inplace是一个布尔值，表示是否在原数据上进行操作，默认为False，当inplace为True时，drop_duplicates()函数\n",
    "没有返回值，原DataFrame数据发生修改。\n",
    "'''\n",
    "df.drop_duplicates(subset=('a','b'),keep='last',inplace=True)\n",
    "print(df)\n",
    "print(df.shape)"
   ]
  },
  {
   "attachments": {
    "1665192926312.png": {
     "image/png": "[encoded data removed]"
    }
   },
   "cell_type": "markdown",
   "metadata": {},
   "source": [
    "## 2. 数据规范化\n",
    "### 2.1 最⼤最⼩规范化(min-max scaled)\n",
    "![1665192926312.png](attachment:1665192926312.png)"
   ]
  },
  {
   "cell_type": "code",
   "execution_count": null,
   "metadata": {
    "pycharm": {
     "is_executing": true
    }
   },
   "outputs": [],
   "source": [
    "## min-max scale\n",
    "from sklearn import preprocessing\n",
    "X_train = np.array([[ 1., -1., 2.],\n",
    "                    [ 2., 0., 0.],\n",
    "                    [ 0., 1., -1.]])\n",
    "min_max_scaler = preprocessing.MinMaxScaler() # 默认各列数按照均值归一化到【0，1】区间\n",
    "X_train_minmax = min_max_scaler.fit_transform(X_train)\n",
    "X_train_minmax"
   ]
  },
  {
   "cell_type": "code",
   "execution_count": null,
   "metadata": {
    "pycharm": {
     "is_executing": true
    }
   },
   "outputs": [],
   "source": [
    "## min-max scale\n",
    "from sklearn import preprocessing\n",
    "X_train = np.array([[ 1., -1., 2.],\n",
    "                    [ 2., 0., 0.],\n",
    "                    [ 0., 1., -1.]])\n",
    "min_max_scaler = preprocessing.MaxAbsScaler() # 默认各列数按照均值归一化到【-1，1】区间\n",
    "X_train_minmax = min_max_scaler.fit_transform(X_train)\n",
    "X_train_minmax"
   ]
  },
  {
   "cell_type": "code",
   "execution_count": null,
   "metadata": {
    "pycharm": {
     "is_executing": true
    }
   },
   "outputs": [],
   "source": [
    "import pandas as pd\n",
    "from sklearn.preprocessing import MinMaxScaler\n",
    "data = pd.DataFrame(\n",
    "    {\n",
    "        'a':[1,2,3],\n",
    "        'b':[5,6,6],\n",
    "        'c':[9,100,2]\n",
    "    }\n",
    ")\n",
    "print(data.values)\n",
    "#归一化(MinMaxScaler)\n",
    "min_max_scaler = MinMaxScaler(feature_range=[0,10])\n",
    "min_max_scaler_data=min_max_scaler.fit_transform(data)\n",
    "print(min_max_scaler_data)"
   ]
  },
  {
   "attachments": {
    "1665193397995.png": {
     "image/png": "[encoded data removed]"
    }
   },
   "cell_type": "markdown",
   "metadata": {},
   "source": [
    "### 2.2 Z-score 规范化（零均值规范化）\n",
    "![1665193397995.png](attachment:1665193397995.png)"
   ]
  },
  {
   "cell_type": "code",
   "execution_count": null,
   "metadata": {
    "pycharm": {
     "is_executing": true
    }
   },
   "outputs": [],
   "source": [
    "X_scaled = preprocessing.scale(X_train)\n",
    "X_scaled\n"
   ]
  },
  {
   "cell_type": "code",
   "execution_count": null,
   "metadata": {
    "pycharm": {
     "is_executing": true
    }
   },
   "outputs": [],
   "source": [
    "X_scaled.mean()"
   ]
  },
  {
   "cell_type": "code",
   "execution_count": null,
   "metadata": {
    "pycharm": {
     "is_executing": true
    }
   },
   "outputs": [],
   "source": [
    "X_scaled.var()"
   ]
  },
  {
   "attachments": {
    "1665193686582.png": {
     "image/png": "[encoded data removed]"
    }
   },
   "cell_type": "markdown",
   "metadata": {},
   "source": [
    "### 2.3⼩数定标\n",
    "![1665193686582.png](attachment:1665193686582.png)"
   ]
  },
  {
   "cell_type": "code",
   "execution_count": null,
   "metadata": {
    "pycharm": {
     "is_executing": true
    }
   },
   "outputs": [],
   "source": [
    "X_train / 10"
   ]
  },
  {
   "cell_type": "markdown",
   "metadata": {},
   "source": [
    "### 2.4 连续数据离散化\n"
   ]
  },
  {
   "cell_type": "markdown",
   "metadata": {},
   "source": [
    "+ 等宽法"
   ]
  },
  {
   "cell_type": "code",
   "execution_count": 112,
   "metadata": {},
   "outputs": [
    {
     "name": "stdout",
     "output_type": "stream",
     "text": [
      "[(18, 25], (18, 25], (18, 25], (25, 35], (18, 25], ..., (25, 35], (60, 100], (35, 60], (35, 60], (25, 35]]\n",
      "Length: 12\n",
      "Categories (4, interval[int64, right]): [(18, 25] < (25, 35] < (35, 60] < (60, 100]]\n",
      "<class 'pandas.core.arrays.categorical.Categorical'>\n",
      "-------\n"
     ]
    }
   ],
   "source": [
    "import pandas as pd\n",
    "ages=[20,22,25,27,21,23,37,31,61,45,41,32]\n",
    "# 返回的是一个特殊的Categorical对象 → 一组表示面元名称的字符串\n",
    "bins = [18,25,35,60,100]\n",
    "cats = pd.cut(ages,bins)\n",
    "print(cats)\n",
    "print(type(cats))\n",
    "print('-------')"
   ]
  },
  {
   "cell_type": "code",
   "execution_count": 113,
   "metadata": {},
   "outputs": [
    {
     "name": "stdout",
     "output_type": "stream",
     "text": [
      "[0 0 0 1 0 0 2 1 3 2 2 1] <class 'numpy.ndarray'>\n",
      "IntervalIndex([(18, 25], (25, 35], (35, 60], (60, 100]], dtype='interval[int64, right]') <class 'pandas.core.indexes.interval.IntervalIndex'>\n",
      "(18, 25]     5\n",
      "(25, 35]     3\n",
      "(35, 60]     3\n",
      "(60, 100]    1\n",
      "dtype: int64\n",
      "-------\n"
     ]
    }
   ],
   "source": [
    "# cut结果含有一个表示不同分类名称的层级数组以及一个年龄数据进行标号的代号属性\n",
    "print(cats.codes, type(cats.codes))  # 0-3对应分组后的四个区间，用代号来注释数据对应区间，结果为ndarray\n",
    "print(cats.categories, type(cats.categories))  # 四个区间，结果为index\n",
    "print(pd.value_counts(cats))  # 按照区间计数\n",
    "print('-------')\n"
   ]
  },
  {
   "cell_type": "code",
   "execution_count": 114,
   "metadata": {},
   "outputs": [
    {
     "name": "stdout",
     "output_type": "stream",
     "text": [
      "[[18, 26), [18, 26), [18, 26), [26, 36), [18, 26), ..., [26, 36), [61, 100), [36, 61), [36, 61), [26, 36)]\n",
      "Length: 12\n",
      "Categories (4, interval[int64, left]): [[18, 26) < [26, 36) < [36, 61) < [61, 100)]\n",
      "-------\n"
     ]
    }
   ],
   "source": [
    "# 通过right函数修改闭端，默认为True\n",
    "print(pd.cut(ages,[18,26,36,61,100],right=False))\n",
    "print('-------')"
   ]
  },
  {
   "cell_type": "code",
   "execution_count": 115,
   "metadata": {},
   "outputs": [
    {
     "name": "stdout",
     "output_type": "stream",
     "text": [
      "['Youth', 'Youth', 'Youth', 'YoungAdult', 'Youth', ..., 'YoungAdult', 'Senior', 'MiddleAged', 'MiddleAged', 'YoungAdult']\n",
      "Length: 12\n",
      "Categories (4, object): ['Youth' < 'YoungAdult' < 'MiddleAged' < 'Senior']\n",
      "-------\n"
     ]
    }
   ],
   "source": [
    "# 可以设置自己的区间名称，用labels参数\n",
    "group_names=['Youth','YoungAdult','MiddleAged','Senior']\n",
    "print(pd.cut(ages,bins,labels=group_names))\n",
    "print('-------')"
   ]
  },
  {
   "cell_type": "code",
   "execution_count": 116,
   "metadata": {},
   "outputs": [
    {
     "name": "stdout",
     "output_type": "stream",
     "text": [
      "    ages      label\n",
      "0     20   (18, 25]\n",
      "1     22   (18, 25]\n",
      "2     25   (18, 25]\n",
      "3     27   (25, 35]\n",
      "4     21   (18, 25]\n",
      "5     23   (18, 25]\n",
      "6     37   (35, 60]\n",
      "7     31   (25, 35]\n",
      "8     61  (60, 100]\n",
      "9     45   (35, 60]\n",
      "10    41   (35, 60]\n",
      "11    32   (25, 35]\n",
      "(18, 25]     5\n",
      "(25, 35]     3\n",
      "(35, 60]     3\n",
      "(60, 100]    1\n",
      "Name: ages, dtype: int64\n"
     ]
    }
   ],
   "source": [
    "# 对一个Dataframe数据进行离散化，并计算各个区间的数据计数\n",
    "df = pd.DataFrame({'ages':ages})\n",
    "group_names=['Youth','YoungAdult','MiddleAged','Senior']\n",
    "s = pd.cut(df['ages'],bins)  # 也可以 pd.cut(df['ages'],5),将数据等分为5份\n",
    "df['label'] = s\n",
    "cut_counts = s.value_counts(sort=False) \n",
    "print(df)\n",
    "print(cut_counts)\n"
   ]
  },
  {
   "cell_type": "code",
   "execution_count": 117,
   "metadata": {},
   "outputs": [
    {
     "data": {
      "image/png": "[encoded data removed]",
      "text/plain": [
       "<Figure size 432x288 with 1 Axes>"
      ]
     },
     "metadata": {
      "needs_background": "light"
     },
     "output_type": "display_data"
    }
   ],
   "source": [
    "# 用散点图表示，其中颜色按照codes分类\n",
    "# 注意codes是来自于Categorical对象\n",
    "plt.scatter(df.index,df['ages'],cmap = 'Reds',c = cats.codes)\n",
    "plt.grid()"
   ]
  },
  {
   "cell_type": "code",
   "execution_count": 133,
   "metadata": {},
   "outputs": [
    {
     "data": {
      "image/png": "[encoded data removed]",
      "text/plain": [
       "<Figure size 864x288 with 1 Axes>"
      ]
     },
     "metadata": {
      "needs_background": "light"
     },
     "output_type": "display_data"
    }
   ],
   "source": [
    "#-*- coding:utf-8 -*- #数据离散化-等宽离散\n",
    "import pandas as pd\n",
    "sheet_name = '因子分析2'\n",
    "data = pd.read_excel(r'./data.xlsx',sheet_name= sheet_name, header= 0, index_col= '编号')\n",
    "\n",
    "data = data[u'有机含量'].copy()\n",
    "k = 5 #设置离散之后的数据段为5 #等宽离散 \n",
    "d1 = pd.cut(data,k,labels =range(k))#将回款金额等宽分成k类，命名为0,1,2,3,4,5，data经过cut之后生成了第一列为索引，第二列为当前行的回款金额被划分为0-5的哪一类，属于3这一类的第二列就显示为3\n",
    "\n",
    "def cluster_plot(d,k):\n",
    "    import matplotlib.pyplot as plt\n",
    "    plt.rcParams['font.sans-serif'] = ['SimHei']\n",
    "    plt.rcParams['axes.unicode_minus']= False \n",
    "    plt.figure(figsize = (12,4)) \n",
    "    for j in range(0,k):\n",
    "        plt.plot(data[d==j],[j for i in d[d==j]],'o')\n",
    "        plt.ylim(-0.5, k-0.5) \n",
    "    return plt \n",
    "cluster_plot(d1,k).show()"
   ]
  },
  {
   "cell_type": "markdown",
   "metadata": {},
   "source": [
    "+ 等频法\n",
    "→ 以相同数量的记录放进每个区间\n",
    "\n",
    "qcut → 根据样本分位数对数据进行面元划分，得到大小基本相等的面元，但并不能保证每个面元含有相同数据个数\n",
    "\n",
    "可以设置自定义的分位数（0到1之间的数值，包含端点） → pd.qcut(data1,[0,0.1,0.5,0.9,1])\n"
   ]
  },
  {
   "cell_type": "code",
   "execution_count": 130,
   "metadata": {},
   "outputs": [
    {
     "name": "stdout",
     "output_type": "stream",
     "text": [
      "0    (-0.631, 0.0582]\n",
      "1      (0.661, 2.762]\n",
      "2    (-0.631, 0.0582]\n",
      "3    (-0.631, 0.0582]\n",
      "4    (-2.924, -0.631]\n",
      "dtype: category\n",
      "Categories (4, interval[float64, right]): [(-2.924, -0.631] < (-0.631, 0.0582] < (0.0582, 0.661] < (0.661, 2.762]]\n",
      "(-2.924, -0.631]    250\n",
      "(-0.631, 0.0582]    250\n",
      "(0.0582, 0.661]     250\n",
      "(0.661, 2.762]      250\n",
      "dtype: int64\n",
      "------\n"
     ]
    }
   ],
   "source": [
    "data = np.random.randn(1000)\n",
    "s = pd.Series(data)\n",
    "cats = pd.qcut(s,4)  # 按四分位数进行切割，可以试试 pd.qcut(data,10)\n",
    "print(cats.head())\n",
    "print(pd.value_counts(cats))\n",
    "print('------')\n"
   ]
  },
  {
   "cell_type": "code",
   "execution_count": 128,
   "metadata": {},
   "outputs": [
    {
     "data": {
      "image/png": "[encoded data removed]",
      "text/plain": [
       "<Figure size 432x288 with 1 Axes>"
      ]
     },
     "metadata": {
      "needs_background": "light"
     },
     "output_type": "display_data"
    }
   ],
   "source": [
    "# 用散点图表示，其中颜色按照codes分类\n",
    "# 注意codes是来自于Categorical对象\n",
    "plt.scatter(s.index,s,cmap = 'Greens',c = pd.qcut(data,4).codes)\n",
    "plt.xlim([0,1000])\n",
    "plt.grid()"
   ]
  },
  {
   "cell_type": "code",
   "execution_count": 138,
   "metadata": {},
   "outputs": [
    {
     "data": {
      "image/png": "[encoded data removed]",
      "text/plain": [
       "<Figure size 864x288 with 1 Axes>"
      ]
     },
     "metadata": {
      "needs_background": "light"
     },
     "output_type": "display_data"
    }
   ],
   "source": [
    "#-*- coding:utf-8 -*- #数据离散化-等频离散\n",
    "import pandas as pd\n",
    "sheet_name = '因子分析2'\n",
    "data = pd.read_excel(r'./data.xlsx',sheet_name= sheet_name, header= 0, index_col= '编号')\n",
    "\n",
    "data = data[u'有机含量'].copy()\n",
    "k = 5 #设置离散之后的数据段为5 #等宽离散 \n",
    "w = [1.0*i/k for i in range(k+1)]\n",
    "w = data.describe(percentiles = w)[4:4+k+1] \n",
    "w[0] = w[0]*(1-1e-10)\n",
    "\n",
    "d2 = pd.cut(data, w, labels = range(k))\n",
    "def cluster_plot(d,k): \n",
    "    import matplotlib.pyplot as plt\n",
    "    plt.rcParams['font.sans-serif'] = ['SimHei']\n",
    "    plt.rcParams['axes.unicode_minus'] = False \n",
    "    plt.figure(figsize = (12,4)) \n",
    "    for j in range(0,k): \n",
    "        plt.plot(data[d==j], [j for i in d[d==j]],'o')\n",
    "        plt.ylim(-0.5,k-0.5) \n",
    "        return plt \n",
    "cluster_plot(d2, k).show()"
   ]
  },
  {
   "cell_type": "markdown",
   "metadata": {},
   "source": [
    "+ 聚类离散"
   ]
  },
  {
   "cell_type": "code",
   "execution_count": 15,
   "metadata": {},
   "outputs": [
    {
     "name": "stdout",
     "output_type": "stream",
     "text": [
      "     有机含量   黏土矿物  FeS2   碳酸盐   SiO2  Fe2O3  Al2O3   CaO   MgO\n",
      "编号                                                           \n",
      "1   86.76  12.25  0.00  0.40  46.20   5.26  34.55  3.58  1.30\n",
      "2   92.52   7.32  0.00  0.16  47.52   3.68  37.70  1.95  0.59\n",
      "3   96.79   3.07  0.17  0.00  47.86   7.82  36.77  1.38  0.63\n",
      "4   85.56  13.03  0.94  0.47  45.04   7.44  36.06  3.43  0.65\n",
      "5   87.75  10.26  1.23  0.76  36.22  24.29  29.25  3.23  1.15\n",
      "6   75.69  24.06  0.00  2.50  47.40   3.76  40.00  0.97  1.15\n",
      "7   99.21   0.63  0.16  0.00  86.62   8.87  31.75  2.82  0.96\n",
      "8   84.50  14.46  1.04  0.00  46.94  14.59  37.35  2.20  0.89\n",
      "9   94.14   5.86  0.00  0.00  48.66   8.41  38.42  0.51  0.67\n",
      "10  90.50   6.72  2.78  0.00  35.18   1.58  30.11  0.51  0.59\n",
      "11  72.05  26.49  1.46  0.00  49.04   5.19  39.28  0.05  0.74\n",
      "12  98.10   1.71  0.00  0.00  54.22   5.79  32.04  1.33  0.63\n",
      "13  96.35   3.13  0.26  0.00  44.76  36.54  36.20  0.67  0.70\n",
      "14  98.48   0.00  1.08  0.44  28.60  17.67  24.37  3.37  5.56\n",
      "15  88.51   2.54  4.33  0.29  49.12  25.26  18.49  2.46  1.07\n",
      "16  79.75  19.63  0.00  0.00  53.98   8.27  24.66  4.25  2.37\n",
      "17  94.54   0.76  2.05  0.31  35.64  34.81  11.18  6.50  0.78\n",
      "18  91.51   7.88  0.61  0.00  46.06   8.42  38.71  0.82  0.74\n",
      "19  90.89   3.04  0.23  1.17  62.48   5.11  25.73  0.72  0.70\n",
      "20  69.79  24.13  5.04  0.00  47.56  10.56  37.99  0.10  1.04\n",
      "21  78.47  20.60  0.75  0.00  46.96   4.36  38.42  1.28  1.19\n",
      "22  60.71  29.28  3.58  0.00  61.84   5.19  27.53  0.01  0.85\n",
      "23  73.03  24.09  2.88  0.00  47.02   8.72  39.42  0.10  0.78\n",
      "24  86.35   4.99  8.12  0.00  33.48  40.15  13.98  4.30  0.63\n",
      "['有机含量', '黏土矿物', 'FeS2', '碳酸盐', 'SiO2', 'Fe2O3', 'Al2O3', 'CaO', 'MgO']\n",
      "['a', 'b', 'c', 'd', 'e', 'f', 'g', 'h']\n",
      "{'有机含量': 'a', '黏土矿物': 'b', 'FeS2': 'c', '碳酸盐': 'd', 'SiO2': 'e', 'Fe2O3': 'f', 'Al2O3': 'g', 'CaO': 'h'}\n",
      "dict_keys(['有机含量', '黏土矿物', 'FeS2', '碳酸盐', 'SiO2', 'Fe2O3', 'Al2O3', 'CaO'])\n",
      "['有机含量', '黏土矿物', 'FeS2', '碳酸盐', 'SiO2', 'Fe2O3', 'Al2O3', 'CaO']\n",
      "正在进行“有机含量”的聚类...\n",
      "编号\n",
      "1     86.76\n",
      "2     92.52\n",
      "3     96.79\n",
      "4     85.56\n",
      "5     87.75\n",
      "6     75.69\n",
      "7     99.21\n",
      "8     84.50\n",
      "9     94.14\n",
      "10    90.50\n",
      "11    72.05\n",
      "12    98.10\n",
      "13    96.35\n",
      "14    98.48\n",
      "15    88.51\n",
      "16    79.75\n",
      "17    94.54\n",
      "18    91.51\n",
      "19    90.89\n",
      "20    69.79\n",
      "21    78.47\n",
      "22    60.71\n",
      "23    73.03\n",
      "24    86.35\n",
      "Name: 有机含量, dtype: float64\n"
     ]
    },
    {
     "ename": "TypeError",
     "evalue": "'<' not supported between instances of 'int' and 'str'",
     "output_type": "error",
     "traceback": [
      "\u001b[1;31m---------------------------------------------------------------------------\u001b[0m",
      "\u001b[1;31mTypeError\u001b[0m                                 Traceback (most recent call last)",
      "Input \u001b[1;32mIn [15]\u001b[0m, in \u001b[0;36m<cell line: 21>\u001b[1;34m()\u001b[0m\n\u001b[0;32m     25\u001b[0m kmodel \u001b[38;5;241m=\u001b[39m KMeans(n_clusters \u001b[38;5;241m=\u001b[39m k) \u001b[38;5;66;03m#n_jobs是并行数，一般等于CPU数较好\u001b[39;00m\n\u001b[0;32m     26\u001b[0m \u001b[38;5;28mprint\u001b[39m(data[keys[i]])\n\u001b[1;32m---> 27\u001b[0m \u001b[43mkmodel\u001b[49m\u001b[38;5;241;43m.\u001b[39;49m\u001b[43mfit\u001b[49m\u001b[43m(\u001b[49m\u001b[43mdata\u001b[49m\u001b[43m[\u001b[49m\u001b[43m[\u001b[49m\u001b[43mkeys\u001b[49m\u001b[43m[\u001b[49m\u001b[43mi\u001b[49m\u001b[43m]\u001b[49m\u001b[43m]\u001b[49m\u001b[43m]\u001b[49m\u001b[43m)\u001b[49m \u001b[38;5;66;03m#训练模型\u001b[39;00m\n\u001b[0;32m     28\u001b[0m \u001b[38;5;28mprint\u001b[39m(kmodel\u001b[38;5;241m.\u001b[39mcluster_centers_)\n\u001b[0;32m     29\u001b[0m r1 \u001b[38;5;241m=\u001b[39m pd\u001b[38;5;241m.\u001b[39mDataFrame(kmodel\u001b[38;5;241m.\u001b[39mcluster_centers_, columns \u001b[38;5;241m=\u001b[39m [typelabel[keys[i]]]) \u001b[38;5;66;03m#聚类中心\u001b[39;00m\n",
      "File \u001b[1;32m~\\PycharmProjects\\big_data\\envi\\lib\\site-packages\\sklearn\\cluster\\_kmeans.py:1374\u001b[0m, in \u001b[0;36mKMeans.fit\u001b[1;34m(self, X, y, sample_weight)\u001b[0m\n\u001b[0;32m   1340\u001b[0m \u001b[38;5;124;03m\"\"\"Compute k-means clustering.\u001b[39;00m\n\u001b[0;32m   1341\u001b[0m \n\u001b[0;32m   1342\u001b[0m \u001b[38;5;124;03mParameters\u001b[39;00m\n\u001b[1;32m   (...)\u001b[0m\n\u001b[0;32m   1363\u001b[0m \u001b[38;5;124;03m    Fitted estimator.\u001b[39;00m\n\u001b[0;32m   1364\u001b[0m \u001b[38;5;124;03m\"\"\"\u001b[39;00m\n\u001b[0;32m   1365\u001b[0m X \u001b[38;5;241m=\u001b[39m \u001b[38;5;28mself\u001b[39m\u001b[38;5;241m.\u001b[39m_validate_data(\n\u001b[0;32m   1366\u001b[0m     X,\n\u001b[0;32m   1367\u001b[0m     accept_sparse\u001b[38;5;241m=\u001b[39m\u001b[38;5;124m\"\u001b[39m\u001b[38;5;124mcsr\u001b[39m\u001b[38;5;124m\"\u001b[39m,\n\u001b[1;32m   (...)\u001b[0m\n\u001b[0;32m   1371\u001b[0m     accept_large_sparse\u001b[38;5;241m=\u001b[39m\u001b[38;5;28;01mFalse\u001b[39;00m,\n\u001b[0;32m   1372\u001b[0m )\n\u001b[1;32m-> 1374\u001b[0m \u001b[38;5;28;43mself\u001b[39;49m\u001b[38;5;241;43m.\u001b[39;49m\u001b[43m_check_params\u001b[49m\u001b[43m(\u001b[49m\u001b[43mX\u001b[49m\u001b[43m)\u001b[49m\n\u001b[0;32m   1375\u001b[0m random_state \u001b[38;5;241m=\u001b[39m check_random_state(\u001b[38;5;28mself\u001b[39m\u001b[38;5;241m.\u001b[39mrandom_state)\n\u001b[0;32m   1376\u001b[0m sample_weight \u001b[38;5;241m=\u001b[39m _check_sample_weight(sample_weight, X, dtype\u001b[38;5;241m=\u001b[39mX\u001b[38;5;241m.\u001b[39mdtype)\n",
      "File \u001b[1;32m~\\PycharmProjects\\big_data\\envi\\lib\\site-packages\\sklearn\\cluster\\_kmeans.py:1305\u001b[0m, in \u001b[0;36mKMeans._check_params\u001b[1;34m(self, X)\u001b[0m\n\u001b[0;32m   1304\u001b[0m \u001b[38;5;28;01mdef\u001b[39;00m \u001b[38;5;21m_check_params\u001b[39m(\u001b[38;5;28mself\u001b[39m, X):\n\u001b[1;32m-> 1305\u001b[0m     \u001b[38;5;28;43msuper\u001b[39;49m\u001b[43m(\u001b[49m\u001b[43m)\u001b[49m\u001b[38;5;241;43m.\u001b[39;49m\u001b[43m_check_params\u001b[49m\u001b[43m(\u001b[49m\u001b[43mX\u001b[49m\u001b[43m)\u001b[49m\n\u001b[0;32m   1307\u001b[0m     \u001b[38;5;66;03m# algorithm\u001b[39;00m\n\u001b[0;32m   1308\u001b[0m     \u001b[38;5;28;01mif\u001b[39;00m \u001b[38;5;28mself\u001b[39m\u001b[38;5;241m.\u001b[39malgorithm \u001b[38;5;129;01mnot\u001b[39;00m \u001b[38;5;129;01min\u001b[39;00m (\u001b[38;5;124m\"\u001b[39m\u001b[38;5;124mlloyd\u001b[39m\u001b[38;5;124m\"\u001b[39m, \u001b[38;5;124m\"\u001b[39m\u001b[38;5;124melkan\u001b[39m\u001b[38;5;124m\"\u001b[39m, \u001b[38;5;124m\"\u001b[39m\u001b[38;5;124mauto\u001b[39m\u001b[38;5;124m\"\u001b[39m, \u001b[38;5;124m\"\u001b[39m\u001b[38;5;124mfull\u001b[39m\u001b[38;5;124m\"\u001b[39m):\n",
      "File \u001b[1;32m~\\PycharmProjects\\big_data\\envi\\lib\\site-packages\\sklearn\\cluster\\_kmeans.py:827\u001b[0m, in \u001b[0;36m_BaseKMeans._check_params\u001b[1;34m(self, X)\u001b[0m\n\u001b[0;32m    824\u001b[0m     \u001b[38;5;28;01mraise\u001b[39;00m \u001b[38;5;167;01mValueError\u001b[39;00m(\u001b[38;5;124mf\u001b[39m\u001b[38;5;124m\"\u001b[39m\u001b[38;5;124mmax_iter should be > 0, got \u001b[39m\u001b[38;5;132;01m{\u001b[39;00m\u001b[38;5;28mself\u001b[39m\u001b[38;5;241m.\u001b[39mmax_iter\u001b[38;5;132;01m}\u001b[39;00m\u001b[38;5;124m instead.\u001b[39m\u001b[38;5;124m\"\u001b[39m)\n\u001b[0;32m    826\u001b[0m \u001b[38;5;66;03m# n_clusters\u001b[39;00m\n\u001b[1;32m--> 827\u001b[0m \u001b[38;5;28;01mif\u001b[39;00m \u001b[43mX\u001b[49m\u001b[38;5;241;43m.\u001b[39;49m\u001b[43mshape\u001b[49m\u001b[43m[\u001b[49m\u001b[38;5;241;43m0\u001b[39;49m\u001b[43m]\u001b[49m\u001b[43m \u001b[49m\u001b[38;5;241;43m<\u001b[39;49m\u001b[43m \u001b[49m\u001b[38;5;28;43mself\u001b[39;49m\u001b[38;5;241;43m.\u001b[39;49m\u001b[43mn_clusters\u001b[49m:\n\u001b[0;32m    828\u001b[0m     \u001b[38;5;28;01mraise\u001b[39;00m \u001b[38;5;167;01mValueError\u001b[39;00m(\n\u001b[0;32m    829\u001b[0m         \u001b[38;5;124mf\u001b[39m\u001b[38;5;124m\"\u001b[39m\u001b[38;5;124mn_samples=\u001b[39m\u001b[38;5;132;01m{\u001b[39;00mX\u001b[38;5;241m.\u001b[39mshape[\u001b[38;5;241m0\u001b[39m]\u001b[38;5;132;01m}\u001b[39;00m\u001b[38;5;124m should be >= n_clusters=\u001b[39m\u001b[38;5;132;01m{\u001b[39;00m\u001b[38;5;28mself\u001b[39m\u001b[38;5;241m.\u001b[39mn_clusters\u001b[38;5;132;01m}\u001b[39;00m\u001b[38;5;124m.\u001b[39m\u001b[38;5;124m\"\u001b[39m\n\u001b[0;32m    830\u001b[0m     )\n\u001b[0;32m    832\u001b[0m \u001b[38;5;66;03m# tol\u001b[39;00m\n",
      "\u001b[1;31mTypeError\u001b[0m: '<' not supported between instances of 'int' and 'str'"
     ]
    }
   ],
   "source": [
    "#-*- coding:utf-8 -*- #数据离散化-聚类离散\n",
    "import pandas as pd\n",
    "from sklearn.cluster import KMeans #导入K均值聚类算法\n",
    "sheet_name = '因子分析2'\n",
    "result = pd.DataFrame()\n",
    "processedfile = './data_processed.xls' #数据处理后文件\n",
    "data = pd.read_excel(r'./data.xlsx',sheet_name= sheet_name, header= 0, index_col= '编号')\n",
    "print(data)\n",
    "col = list(data.columns)\n",
    "\n",
    "print(col)\n",
    "val = [chr(i) for i in range(ord('a'),ord('h')+1)]\n",
    "print(val)\n",
    "typelabel = {}\n",
    "# list = list(zip(col,val))\n",
    "for (k,v) in zip(col,val): \n",
    "    typelabel[k] = v\n",
    "print(typelabel)\n",
    "print(typelabel.keys())\n",
    "keys = list(typelabel.keys())\n",
    "print(keys)\n",
    "if __name__ == '__main__': #判断是否主窗口运行，这句代码的作用比较神奇，有兴趣了解的读取请自行搜索相关材料。\n",
    "  for i in range(len(keys)):\n",
    "    #调用k-means算法，进行聚类离散化\n",
    "    print(u'正在进行“%s”的聚类...' % keys[i])\n",
    "    kmodel = KMeans(n_clusters = k) #n_jobs是并行数，一般等于CPU数较好\n",
    "    print(data[keys[i]])\n",
    "    kmodel.fit(data[[keys[i]]]) #训练模型\n",
    "    print(kmodel.cluster_centers_)\n",
    "    r1 = pd.DataFrame(kmodel.cluster_centers_, columns = [typelabel[keys[i]]]) #聚类中心\n",
    "    #print('r1',r1,kmodel.labels_)\n",
    "    r2 = pd.Series(kmodel.labels_).value_counts() #分类统计\n",
    "    r2 = pd.DataFrame(r2, columns = [typelabel[keys[i]]+'n']) #转为DataFrame，记录各个类别的数目\n",
    "\n",
    "    r = pd.concat([r1, r2], axis = 1).sort_values(typelabel[keys[i]]) #匹配聚类中心和类别数目\n",
    "    r.index = [1, 2, 3, 4]\n",
    "    print('r-1',r)\n",
    "    r[typelabel[keys[i]]] = r[typelabel[keys[i]]].rolling(2).mean() #rolling_mean()用来计算相邻2列的均值，以此作为边界点。\n",
    "    print('r-2', r)\n",
    "    r.iloc[0,0] = 0.0 #这两句代码将原来的聚类中心改为边界点。\n",
    "    print('r-3', r)\n",
    "    result = result.append(r.T)\n",
    "\n",
    "  result = result.sort_index() #以Index排序，即以A,B,C,D,E,F顺序排\n",
    "  result.to_excel(processedfile)"
   ]
  },
  {
   "cell_type": "code",
   "execution_count": 17,
   "metadata": {},
   "outputs": [
    {
     "data": {
      "image/png": "[encoded data removed]",
      "text/plain": [
       "<Figure size 576x216 with 1 Axes>"
      ]
     },
     "metadata": {
      "needs_background": "light"
     },
     "output_type": "display_data"
    },
    {
     "data": {
      "image/png": "[encoded data removed]",
      "text/plain": [
       "<Figure size 576x216 with 1 Axes>"
      ]
     },
     "metadata": {
      "needs_background": "light"
     },
     "output_type": "display_data"
    },
    {
     "data": {
      "image/png": "[encoded data removed]",
      "text/plain": [
       "<Figure size 576x216 with 1 Axes>"
      ]
     },
     "metadata": {
      "needs_background": "light"
     },
     "output_type": "display_data"
    }
   ],
   "source": [
    "#-*- coding:utf-8 -*- #数据离散化-等宽离散\n",
    "import pandas as pd\n",
    "sheet_name = '因子分析2'\n",
    "data = pd.read_excel(r'./data.xlsx',sheet_name= sheet_name, header= 0, index_col= '编号')\n",
    "\n",
    "data = data[u'有机含量'].copy()\n",
    "\n",
    "k = 4 #分类数\n",
    " \n",
    "d1 = pd.cut(data, k, labels = range(k)) #等宽离散化,各个类别依次命名为,1,2,3 保存的是index 的分类\n",
    " \n",
    "#等频离散化\n",
    "w = [1.0*i/k for i in range(k+1)]  #创建一个列表，确定分位数0%，25%，50%，75%，100%\n",
    "w=data.describe(percentiles=w)[4:4+k+1] #利用describe函数计算分位数，取出分位数\n",
    "w[0]=w[0]*(1-1e-10)  #保证小于最小值\n",
    "d2=pd.cut(data,w,labels=range(k)) \n",
    " \n",
    "from sklearn.cluster import KMeans #引入KMeanms\n",
    " \n",
    "kmodel = KMeans(n_clusters = k) #建立模型，簇数为k，n_jobs一般为CPU数\n",
    "kmodel.fit(data.values.reshape((len(data),1))) #训练模型\n",
    "c = pd.DataFrame(kmodel.cluster_centers_).sort_values(0) #输出聚类中心，并且排序\n",
    "w = c.rolling(2).mean().iloc[1:] #用滑动窗口求均值的方法求相邻两项求中点，作为边界点\n",
    "w = [0] + list(w[0]) + [data.max()] #把首末边界点加上\n",
    "d3 = pd.cut(data, w, labels = range(k))\n",
    " \n",
    "def cluster_plot(d, k): #自定义作图函数来显示聚类结果\n",
    "\timport matplotlib.pyplot as plt\n",
    "\tplt.rcParams['font.sans-serif'] = ['SimHei'] #用来显示中文标签\n",
    "\tplt.rcParams['axes.unicode_minus'] = False #用来正常显示负号\n",
    " \n",
    "\tplt.figure(figsize = (8, 3)) #图的大小\n",
    "\tfor j in range(0,  k):\n",
    "\t\tplt.plot(data[d==j], [j for i in d[d==j]], 'o')\n",
    " \n",
    "\tplt.ylim(-0.5, k-0.5)\n",
    "\treturn plt\n",
    " \n",
    "cluster_plot(d1, k).show()\n",
    "cluster_plot(d2, k).show()\n",
    "cluster_plot(d3, k).show()"
   ]
  },
  {
   "cell_type": "markdown",
   "metadata": {},
   "source": [
    "## 4. 主成分分析\n",
    "主成分分析（principal components anaylysis）主要是利⽤降维的思想，在损失很少信息的前提下减\n",
    "少数据的维度，通常将转化⽣成的综合指标称为主成分。每个主成分都是原始变量的线性组合，且各\n",
    "个主成分之间互不相关。"
   ]
  },
  {
   "cell_type": "code",
   "execution_count": 118,
   "metadata": {
    "pycharm": {
     "is_executing": true
    }
   },
   "outputs": [],
   "source": [
    "import pandas as pd\n",
    "import numpy as np\n",
    "import matplotlib.pyplot as plt\n",
    "%matplotlib inline\n",
    "from matplotlib.font_manager import FontProperties\n",
    "plt.rcParams['font.sans-serif'] = ['simhei']"
   ]
  },
  {
   "cell_type": "code",
   "execution_count": 119,
   "metadata": {
    "pycharm": {
     "is_executing": true
    }
   },
   "outputs": [
    {
     "data": {
      "text/html": [
       "<div>\n",
       "<style scoped>\n",
       "    .dataframe tbody tr th:only-of-type {\n",
       "        vertical-align: middle;\n",
       "    }\n",
       "\n",
       "    .dataframe tbody tr th {\n",
       "        vertical-align: top;\n",
       "    }\n",
       "\n",
       "    .dataframe thead th {\n",
       "        text-align: right;\n",
       "    }\n",
       "</style>\n",
       "<table border=\"1\" class=\"dataframe\">\n",
       "  <thead>\n",
       "    <tr style=\"text-align: right;\">\n",
       "      <th></th>\n",
       "      <th>有机含量</th>\n",
       "      <th>黏土矿物</th>\n",
       "      <th>FeS2</th>\n",
       "      <th>碳酸盐</th>\n",
       "      <th>SiO2</th>\n",
       "      <th>Fe2O3</th>\n",
       "      <th>Al2O3</th>\n",
       "      <th>CaO</th>\n",
       "      <th>MgO</th>\n",
       "    </tr>\n",
       "    <tr>\n",
       "      <th>编号</th>\n",
       "      <th></th>\n",
       "      <th></th>\n",
       "      <th></th>\n",
       "      <th></th>\n",
       "      <th></th>\n",
       "      <th></th>\n",
       "      <th></th>\n",
       "      <th></th>\n",
       "      <th></th>\n",
       "    </tr>\n",
       "  </thead>\n",
       "  <tbody>\n",
       "    <tr>\n",
       "      <th>1</th>\n",
       "      <td>86.76</td>\n",
       "      <td>12.25</td>\n",
       "      <td>0.00</td>\n",
       "      <td>0.40</td>\n",
       "      <td>46.20</td>\n",
       "      <td>5.26</td>\n",
       "      <td>34.55</td>\n",
       "      <td>3.58</td>\n",
       "      <td>1.30</td>\n",
       "    </tr>\n",
       "    <tr>\n",
       "      <th>2</th>\n",
       "      <td>92.52</td>\n",
       "      <td>7.32</td>\n",
       "      <td>0.00</td>\n",
       "      <td>0.16</td>\n",
       "      <td>47.52</td>\n",
       "      <td>3.68</td>\n",
       "      <td>37.70</td>\n",
       "      <td>1.95</td>\n",
       "      <td>0.59</td>\n",
       "    </tr>\n",
       "    <tr>\n",
       "      <th>3</th>\n",
       "      <td>96.79</td>\n",
       "      <td>3.07</td>\n",
       "      <td>0.17</td>\n",
       "      <td>0.00</td>\n",
       "      <td>47.86</td>\n",
       "      <td>7.82</td>\n",
       "      <td>36.77</td>\n",
       "      <td>1.38</td>\n",
       "      <td>0.63</td>\n",
       "    </tr>\n",
       "    <tr>\n",
       "      <th>4</th>\n",
       "      <td>85.56</td>\n",
       "      <td>13.03</td>\n",
       "      <td>0.94</td>\n",
       "      <td>0.47</td>\n",
       "      <td>45.04</td>\n",
       "      <td>7.44</td>\n",
       "      <td>36.06</td>\n",
       "      <td>3.43</td>\n",
       "      <td>0.65</td>\n",
       "    </tr>\n",
       "    <tr>\n",
       "      <th>5</th>\n",
       "      <td>87.75</td>\n",
       "      <td>10.26</td>\n",
       "      <td>1.23</td>\n",
       "      <td>0.76</td>\n",
       "      <td>36.22</td>\n",
       "      <td>24.29</td>\n",
       "      <td>29.25</td>\n",
       "      <td>3.23</td>\n",
       "      <td>1.15</td>\n",
       "    </tr>\n",
       "  </tbody>\n",
       "</table>\n",
       "</div>"
      ],
      "text/plain": [
       "     有机含量   黏土矿物  FeS2   碳酸盐   SiO2  Fe2O3  Al2O3   CaO   MgO\n",
       "编号                                                           \n",
       "1   86.76  12.25  0.00  0.40  46.20   5.26  34.55  3.58  1.30\n",
       "2   92.52   7.32  0.00  0.16  47.52   3.68  37.70  1.95  0.59\n",
       "3   96.79   3.07  0.17  0.00  47.86   7.82  36.77  1.38  0.63\n",
       "4   85.56  13.03  0.94  0.47  45.04   7.44  36.06  3.43  0.65\n",
       "5   87.75  10.26  1.23  0.76  36.22  24.29  29.25  3.23  1.15"
      ]
     },
     "execution_count": 119,
     "metadata": {},
     "output_type": "execute_result"
    }
   ],
   "source": [
    "sheet_name = '因子分析2'\n",
    "data = pd.read_excel(r'.\\data.xlsx',sheet_name= sheet_name, header= 0, index_col= '编号')\n",
    "data.head()"
   ]
  },
  {
   "cell_type": "code",
   "execution_count": 120,
   "metadata": {
    "pycharm": {
     "is_executing": true
    }
   },
   "outputs": [
    {
     "data": {
      "text/html": [
       "<style>#sk-container-id-1 {color: black;background-color: white;}#sk-container-id-1 pre{padding: 0;}#sk-container-id-1 div.sk-toggleable {background-color: white;}#sk-container-id-1 label.sk-toggleable__label {cursor: pointer;display: block;width: 100%;margin-bottom: 0;padding: 0.3em;box-sizing: border-box;text-align: center;}#sk-container-id-1 label.sk-toggleable__label-arrow:before {content: \"▸\";float: left;margin-right: 0.25em;color: #696969;}#sk-container-id-1 label.sk-toggleable__label-arrow:hover:before {color: black;}#sk-container-id-1 div.sk-estimator:hover label.sk-toggleable__label-arrow:before {color: black;}#sk-container-id-1 div.sk-toggleable__content {max-height: 0;max-width: 0;overflow: hidden;text-align: left;background-color: #f0f8ff;}#sk-container-id-1 div.sk-toggleable__content pre {margin: 0.2em;color: black;border-radius: 0.25em;background-color: #f0f8ff;}#sk-container-id-1 input.sk-toggleable__control:checked~div.sk-toggleable__content {max-height: 200px;max-width: 100%;overflow: auto;}#sk-container-id-1 input.sk-toggleable__control:checked~label.sk-toggleable__label-arrow:before {content: \"▾\";}#sk-container-id-1 div.sk-estimator input.sk-toggleable__control:checked~label.sk-toggleable__label {background-color: #d4ebff;}#sk-container-id-1 div.sk-label input.sk-toggleable__control:checked~label.sk-toggleable__label {background-color: #d4ebff;}#sk-container-id-1 input.sk-hidden--visually {border: 0;clip: rect(1px 1px 1px 1px);clip: rect(1px, 1px, 1px, 1px);height: 1px;margin: -1px;overflow: hidden;padding: 0;position: absolute;width: 1px;}#sk-container-id-1 div.sk-estimator {font-family: monospace;background-color: #f0f8ff;border: 1px dotted black;border-radius: 0.25em;box-sizing: border-box;margin-bottom: 0.5em;}#sk-container-id-1 div.sk-estimator:hover {background-color: #d4ebff;}#sk-container-id-1 div.sk-parallel-item::after {content: \"\";width: 100%;border-bottom: 1px solid gray;flex-grow: 1;}#sk-container-id-1 div.sk-label:hover label.sk-toggleable__label {background-color: #d4ebff;}#sk-container-id-1 div.sk-serial::before {content: \"\";position: absolute;border-left: 1px solid gray;box-sizing: border-box;top: 0;bottom: 0;left: 50%;z-index: 0;}#sk-container-id-1 div.sk-serial {display: flex;flex-direction: column;align-items: center;background-color: white;padding-right: 0.2em;padding-left: 0.2em;position: relative;}#sk-container-id-1 div.sk-item {position: relative;z-index: 1;}#sk-container-id-1 div.sk-parallel {display: flex;align-items: stretch;justify-content: center;background-color: white;position: relative;}#sk-container-id-1 div.sk-item::before, #sk-container-id-1 div.sk-parallel-item::before {content: \"\";position: absolute;border-left: 1px solid gray;box-sizing: border-box;top: 0;bottom: 0;left: 50%;z-index: -1;}#sk-container-id-1 div.sk-parallel-item {display: flex;flex-direction: column;z-index: 1;position: relative;background-color: white;}#sk-container-id-1 div.sk-parallel-item:first-child::after {align-self: flex-end;width: 50%;}#sk-container-id-1 div.sk-parallel-item:last-child::after {align-self: flex-start;width: 50%;}#sk-container-id-1 div.sk-parallel-item:only-child::after {width: 0;}#sk-container-id-1 div.sk-dashed-wrapped {border: 1px dashed gray;margin: 0 0.4em 0.5em 0.4em;box-sizing: border-box;padding-bottom: 0.4em;background-color: white;}#sk-container-id-1 div.sk-label label {font-family: monospace;font-weight: bold;display: inline-block;line-height: 1.2em;}#sk-container-id-1 div.sk-label-container {text-align: center;}#sk-container-id-1 div.sk-container {/* jupyter's `normalize.less` sets `[hidden] { display: none; }` but bootstrap.min.css set `[hidden] { display: none !important; }` so we also need the `!important` here to be able to override the default hidden behavior on the sphinx rendered scikit-learn.org. See: https://github.com/scikit-learn/scikit-learn/issues/21755 */display: inline-block !important;position: relative;}#sk-container-id-1 div.sk-text-repr-fallback {display: none;}</style><div id=\"sk-container-id-1\" class=\"sk-top-container\"><div class=\"sk-text-repr-fallback\"><pre>PCA(n_components=9)</pre><b>In a Jupyter environment, please rerun this cell to show the HTML representation or trust the notebook. <br />On GitHub, the HTML representation is unable to render, please try loading this page with nbviewer.org.</b></div><div class=\"sk-container\" hidden><div class=\"sk-item\"><div class=\"sk-estimator sk-toggleable\"><input class=\"sk-toggleable__control sk-hidden--visually\" id=\"sk-estimator-id-1\" type=\"checkbox\" checked><label for=\"sk-estimator-id-1\" class=\"sk-toggleable__label sk-toggleable__label-arrow\">PCA</label><div class=\"sk-toggleable__content\"><pre>PCA(n_components=9)</pre></div></div></div></div></div>"
      ],
      "text/plain": [
       "PCA(n_components=9)"
      ]
     },
     "execution_count": 120,
     "metadata": {},
     "output_type": "execute_result"
    }
   ],
   "source": [
    "### 标准化\n",
    "X = (data - data.mean()) / data.std()\n",
    "## 导⼊主成分库，并先选择所有主成分\n",
    "from sklearn.decomposition import PCA\n",
    "pca = PCA(n_components = X.shape[1])\n",
    "## 训练数据\n",
    "pca.fit(X)"
   ]
  },
  {
   "cell_type": "code",
   "execution_count": 121,
   "metadata": {
    "pycharm": {
     "is_executing": true
    }
   },
   "outputs": [
    {
     "data": {
      "text/html": [
       "<div>\n",
       "<style scoped>\n",
       "    .dataframe tbody tr th:only-of-type {\n",
       "        vertical-align: middle;\n",
       "    }\n",
       "\n",
       "    .dataframe tbody tr th {\n",
       "        vertical-align: top;\n",
       "    }\n",
       "\n",
       "    .dataframe thead th {\n",
       "        text-align: right;\n",
       "    }\n",
       "</style>\n",
       "<table border=\"1\" class=\"dataframe\">\n",
       "  <thead>\n",
       "    <tr style=\"text-align: right;\">\n",
       "      <th></th>\n",
       "      <th>⽅差</th>\n",
       "      <th>贡献度</th>\n",
       "      <th>累计贡献度</th>\n",
       "    </tr>\n",
       "  </thead>\n",
       "  <tbody>\n",
       "    <tr>\n",
       "      <th>0</th>\n",
       "      <td>3.187244</td>\n",
       "      <td>0.354138</td>\n",
       "      <td>0.354138</td>\n",
       "    </tr>\n",
       "    <tr>\n",
       "      <th>1</th>\n",
       "      <td>1.924249</td>\n",
       "      <td>0.213805</td>\n",
       "      <td>0.567944</td>\n",
       "    </tr>\n",
       "    <tr>\n",
       "      <th>2</th>\n",
       "      <td>1.297889</td>\n",
       "      <td>0.144210</td>\n",
       "      <td>0.712154</td>\n",
       "    </tr>\n",
       "    <tr>\n",
       "      <th>3</th>\n",
       "      <td>0.894855</td>\n",
       "      <td>0.099428</td>\n",
       "      <td>0.811582</td>\n",
       "    </tr>\n",
       "    <tr>\n",
       "      <th>4</th>\n",
       "      <td>0.782248</td>\n",
       "      <td>0.086916</td>\n",
       "      <td>0.898498</td>\n",
       "    </tr>\n",
       "    <tr>\n",
       "      <th>5</th>\n",
       "      <td>0.471633</td>\n",
       "      <td>0.052404</td>\n",
       "      <td>0.950902</td>\n",
       "    </tr>\n",
       "    <tr>\n",
       "      <th>6</th>\n",
       "      <td>0.304423</td>\n",
       "      <td>0.033825</td>\n",
       "      <td>0.984727</td>\n",
       "    </tr>\n",
       "    <tr>\n",
       "      <th>7</th>\n",
       "      <td>0.132402</td>\n",
       "      <td>0.014711</td>\n",
       "      <td>0.999438</td>\n",
       "    </tr>\n",
       "    <tr>\n",
       "      <th>8</th>\n",
       "      <td>0.005058</td>\n",
       "      <td>0.000562</td>\n",
       "      <td>1.000000</td>\n",
       "    </tr>\n",
       "  </tbody>\n",
       "</table>\n",
       "</div>"
      ],
      "text/plain": [
       "         ⽅差       贡献度     累计贡献度\n",
       "0  3.187244  0.354138  0.354138\n",
       "1  1.924249  0.213805  0.567944\n",
       "2  1.297889  0.144210  0.712154\n",
       "3  0.894855  0.099428  0.811582\n",
       "4  0.782248  0.086916  0.898498\n",
       "5  0.471633  0.052404  0.950902\n",
       "6  0.304423  0.033825  0.984727\n",
       "7  0.132402  0.014711  0.999438\n",
       "8  0.005058  0.000562  1.000000"
      ]
     },
     "execution_count": 121,
     "metadata": {},
     "output_type": "execute_result"
    }
   ],
   "source": [
    "## 展示⽅差解释⼒度\n",
    "pd.DataFrame({'⽅差': pca.explained_variance_,\n",
    "'贡献度':pca.explained_variance_ratio_,\n",
    "'累计贡献度':pca.explained_variance_ratio_.cumsum()})"
   ]
  },
  {
   "cell_type": "code",
   "execution_count": 122,
   "metadata": {
    "pycharm": {
     "is_executing": true
    }
   },
   "outputs": [
    {
     "data": {
      "text/plain": [
       "Text(0.5, 1.0, '贡献度')"
      ]
     },
     "execution_count": 122,
     "metadata": {},
     "output_type": "execute_result"
    },
    {
     "data": {
      "image/png": "[encoded data removed]",
      "text/plain": [
       "<Figure size 432x288 with 1 Axes>"
      ]
     },
     "metadata": {
      "needs_background": "light"
     },
     "output_type": "display_data"
    }
   ],
   "source": [
    "plt.bar(range(9), pca.explained_variance_ratio_)\n",
    "plt.title('贡献度')"
   ]
  },
  {
   "cell_type": "code",
   "execution_count": 123,
   "metadata": {
    "pycharm": {
     "is_executing": true
    }
   },
   "outputs": [
    {
     "data": {
      "text/html": [
       "<style>#sk-container-id-2 {color: black;background-color: white;}#sk-container-id-2 pre{padding: 0;}#sk-container-id-2 div.sk-toggleable {background-color: white;}#sk-container-id-2 label.sk-toggleable__label {cursor: pointer;display: block;width: 100%;margin-bottom: 0;padding: 0.3em;box-sizing: border-box;text-align: center;}#sk-container-id-2 label.sk-toggleable__label-arrow:before {content: \"▸\";float: left;margin-right: 0.25em;color: #696969;}#sk-container-id-2 label.sk-toggleable__label-arrow:hover:before {color: black;}#sk-container-id-2 div.sk-estimator:hover label.sk-toggleable__label-arrow:before {color: black;}#sk-container-id-2 div.sk-toggleable__content {max-height: 0;max-width: 0;overflow: hidden;text-align: left;background-color: #f0f8ff;}#sk-container-id-2 div.sk-toggleable__content pre {margin: 0.2em;color: black;border-radius: 0.25em;background-color: #f0f8ff;}#sk-container-id-2 input.sk-toggleable__control:checked~div.sk-toggleable__content {max-height: 200px;max-width: 100%;overflow: auto;}#sk-container-id-2 input.sk-toggleable__control:checked~label.sk-toggleable__label-arrow:before {content: \"▾\";}#sk-container-id-2 div.sk-estimator input.sk-toggleable__control:checked~label.sk-toggleable__label {background-color: #d4ebff;}#sk-container-id-2 div.sk-label input.sk-toggleable__control:checked~label.sk-toggleable__label {background-color: #d4ebff;}#sk-container-id-2 input.sk-hidden--visually {border: 0;clip: rect(1px 1px 1px 1px);clip: rect(1px, 1px, 1px, 1px);height: 1px;margin: -1px;overflow: hidden;padding: 0;position: absolute;width: 1px;}#sk-container-id-2 div.sk-estimator {font-family: monospace;background-color: #f0f8ff;border: 1px dotted black;border-radius: 0.25em;box-sizing: border-box;margin-bottom: 0.5em;}#sk-container-id-2 div.sk-estimator:hover {background-color: #d4ebff;}#sk-container-id-2 div.sk-parallel-item::after {content: \"\";width: 100%;border-bottom: 1px solid gray;flex-grow: 1;}#sk-container-id-2 div.sk-label:hover label.sk-toggleable__label {background-color: #d4ebff;}#sk-container-id-2 div.sk-serial::before {content: \"\";position: absolute;border-left: 1px solid gray;box-sizing: border-box;top: 0;bottom: 0;left: 50%;z-index: 0;}#sk-container-id-2 div.sk-serial {display: flex;flex-direction: column;align-items: center;background-color: white;padding-right: 0.2em;padding-left: 0.2em;position: relative;}#sk-container-id-2 div.sk-item {position: relative;z-index: 1;}#sk-container-id-2 div.sk-parallel {display: flex;align-items: stretch;justify-content: center;background-color: white;position: relative;}#sk-container-id-2 div.sk-item::before, #sk-container-id-2 div.sk-parallel-item::before {content: \"\";position: absolute;border-left: 1px solid gray;box-sizing: border-box;top: 0;bottom: 0;left: 50%;z-index: -1;}#sk-container-id-2 div.sk-parallel-item {display: flex;flex-direction: column;z-index: 1;position: relative;background-color: white;}#sk-container-id-2 div.sk-parallel-item:first-child::after {align-self: flex-end;width: 50%;}#sk-container-id-2 div.sk-parallel-item:last-child::after {align-self: flex-start;width: 50%;}#sk-container-id-2 div.sk-parallel-item:only-child::after {width: 0;}#sk-container-id-2 div.sk-dashed-wrapped {border: 1px dashed gray;margin: 0 0.4em 0.5em 0.4em;box-sizing: border-box;padding-bottom: 0.4em;background-color: white;}#sk-container-id-2 div.sk-label label {font-family: monospace;font-weight: bold;display: inline-block;line-height: 1.2em;}#sk-container-id-2 div.sk-label-container {text-align: center;}#sk-container-id-2 div.sk-container {/* jupyter's `normalize.less` sets `[hidden] { display: none; }` but bootstrap.min.css set `[hidden] { display: none !important; }` so we also need the `!important` here to be able to override the default hidden behavior on the sphinx rendered scikit-learn.org. See: https://github.com/scikit-learn/scikit-learn/issues/21755 */display: inline-block !important;position: relative;}#sk-container-id-2 div.sk-text-repr-fallback {display: none;}</style><div id=\"sk-container-id-2\" class=\"sk-top-container\"><div class=\"sk-text-repr-fallback\"><pre>PCA(n_components=2)</pre><b>In a Jupyter environment, please rerun this cell to show the HTML representation or trust the notebook. <br />On GitHub, the HTML representation is unable to render, please try loading this page with nbviewer.org.</b></div><div class=\"sk-container\" hidden><div class=\"sk-item\"><div class=\"sk-estimator sk-toggleable\"><input class=\"sk-toggleable__control sk-hidden--visually\" id=\"sk-estimator-id-2\" type=\"checkbox\" checked><label for=\"sk-estimator-id-2\" class=\"sk-toggleable__label sk-toggleable__label-arrow\">PCA</label><div class=\"sk-toggleable__content\"><pre>PCA(n_components=2)</pre></div></div></div></div></div>"
      ],
      "text/plain": [
       "PCA(n_components=2)"
      ]
     },
     "execution_count": 123,
     "metadata": {},
     "output_type": "execute_result"
    }
   ],
   "source": [
    "## 选择前两个作为主成分\n",
    "pca.n_components = 2\n",
    "pca.fit(X)"
   ]
  },
  {
   "cell_type": "code",
   "execution_count": 124,
   "metadata": {
    "pycharm": {
     "is_executing": true
    }
   },
   "outputs": [
    {
     "data": {
      "text/html": [
       "<div>\n",
       "<style scoped>\n",
       "    .dataframe tbody tr th:only-of-type {\n",
       "        vertical-align: middle;\n",
       "    }\n",
       "\n",
       "    .dataframe tbody tr th {\n",
       "        vertical-align: top;\n",
       "    }\n",
       "\n",
       "    .dataframe thead th {\n",
       "        text-align: right;\n",
       "    }\n",
       "</style>\n",
       "<table border=\"1\" class=\"dataframe\">\n",
       "  <thead>\n",
       "    <tr style=\"text-align: right;\">\n",
       "      <th></th>\n",
       "      <th>有机含量</th>\n",
       "      <th>黏土矿物</th>\n",
       "      <th>FeS2</th>\n",
       "      <th>碳酸盐</th>\n",
       "      <th>SiO2</th>\n",
       "      <th>Fe2O3</th>\n",
       "      <th>Al2O3</th>\n",
       "      <th>CaO</th>\n",
       "      <th>MgO</th>\n",
       "    </tr>\n",
       "  </thead>\n",
       "  <tbody>\n",
       "    <tr>\n",
       "      <th>0</th>\n",
       "      <td>0.346099</td>\n",
       "      <td>-0.415827</td>\n",
       "      <td>0.153554</td>\n",
       "      <td>-0.056662</td>\n",
       "      <td>-0.243399</td>\n",
       "      <td>0.441479</td>\n",
       "      <td>-0.452371</td>\n",
       "      <td>0.437000</td>\n",
       "      <td>0.175379</td>\n",
       "    </tr>\n",
       "    <tr>\n",
       "      <th>1</th>\n",
       "      <td>-0.530933</td>\n",
       "      <td>0.407308</td>\n",
       "      <td>0.614471</td>\n",
       "      <td>-0.085898</td>\n",
       "      <td>-0.247225</td>\n",
       "      <td>0.237070</td>\n",
       "      <td>-0.216633</td>\n",
       "      <td>0.001552</td>\n",
       "      <td>-0.054789</td>\n",
       "    </tr>\n",
       "  </tbody>\n",
       "</table>\n",
       "</div>"
      ],
      "text/plain": [
       "       有机含量      黏土矿物      FeS2       碳酸盐      SiO2     Fe2O3     Al2O3  \\\n",
       "0  0.346099 -0.415827  0.153554 -0.056662 -0.243399  0.441479 -0.452371   \n",
       "1 -0.530933  0.407308  0.614471 -0.085898 -0.247225  0.237070 -0.216633   \n",
       "\n",
       "        CaO       MgO  \n",
       "0  0.437000  0.175379  \n",
       "1  0.001552 -0.054789  "
      ]
     },
     "execution_count": 124,
     "metadata": {},
     "output_type": "execute_result"
    }
   ],
   "source": [
    "## 主成分系数：\n",
    "pd.DataFrame(pca.components_, columns=data.columns)"
   ]
  },
  {
   "cell_type": "code",
   "execution_count": 125,
   "metadata": {
    "pycharm": {
     "is_executing": true
    }
   },
   "outputs": [
    {
     "data": {
      "text/html": [
       "<div>\n",
       "<style scoped>\n",
       "    .dataframe tbody tr th:only-of-type {\n",
       "        vertical-align: middle;\n",
       "    }\n",
       "\n",
       "    .dataframe tbody tr th {\n",
       "        vertical-align: top;\n",
       "    }\n",
       "\n",
       "    .dataframe thead th {\n",
       "        text-align: right;\n",
       "    }\n",
       "</style>\n",
       "<table border=\"1\" class=\"dataframe\">\n",
       "  <thead>\n",
       "    <tr style=\"text-align: right;\">\n",
       "      <th></th>\n",
       "      <th>0</th>\n",
       "      <th>1</th>\n",
       "    </tr>\n",
       "    <tr>\n",
       "      <th>编号</th>\n",
       "      <th></th>\n",
       "      <th></th>\n",
       "    </tr>\n",
       "  </thead>\n",
       "  <tbody>\n",
       "    <tr>\n",
       "      <th>1</th>\n",
       "      <td>-0.117806</td>\n",
       "      <td>-0.657938</td>\n",
       "    </tr>\n",
       "    <tr>\n",
       "      <th>2</th>\n",
       "      <td>-0.487131</td>\n",
       "      <td>-1.238278</td>\n",
       "    </tr>\n",
       "    <tr>\n",
       "      <th>3</th>\n",
       "      <td>-0.061425</td>\n",
       "      <td>-1.464053</td>\n",
       "    </tr>\n",
       "    <tr>\n",
       "      <th>4</th>\n",
       "      <td>-0.250849</td>\n",
       "      <td>-0.222544</td>\n",
       "    </tr>\n",
       "    <tr>\n",
       "      <th>5</th>\n",
       "      <td>1.191992</td>\n",
       "      <td>0.284599</td>\n",
       "    </tr>\n",
       "    <tr>\n",
       "      <th>6</th>\n",
       "      <td>-2.302809</td>\n",
       "      <td>-0.094129</td>\n",
       "    </tr>\n",
       "    <tr>\n",
       "      <th>7</th>\n",
       "      <td>0.049596</td>\n",
       "      <td>-2.393226</td>\n",
       "    </tr>\n",
       "    <tr>\n",
       "      <th>8</th>\n",
       "      <td>-0.399982</td>\n",
       "      <td>0.058470</td>\n",
       "    </tr>\n",
       "    <tr>\n",
       "      <th>9</th>\n",
       "      <td>-0.587475</td>\n",
       "      <td>-1.309336</td>\n",
       "    </tr>\n",
       "    <tr>\n",
       "      <th>10</th>\n",
       "      <td>-0.081004</td>\n",
       "      <td>0.123764</td>\n",
       "    </tr>\n",
       "    <tr>\n",
       "      <th>11</th>\n",
       "      <td>-2.415715</td>\n",
       "      <td>1.058423</td>\n",
       "    </tr>\n",
       "    <tr>\n",
       "      <th>12</th>\n",
       "      <td>0.060447</td>\n",
       "      <td>-1.697672</td>\n",
       "    </tr>\n",
       "    <tr>\n",
       "      <th>13</th>\n",
       "      <td>0.982362</td>\n",
       "      <td>-0.728211</td>\n",
       "    </tr>\n",
       "    <tr>\n",
       "      <th>14</th>\n",
       "      <td>2.985161</td>\n",
       "      <td>-0.792086</td>\n",
       "    </tr>\n",
       "    <tr>\n",
       "      <th>15</th>\n",
       "      <td>1.978949</td>\n",
       "      <td>0.950851</td>\n",
       "    </tr>\n",
       "    <tr>\n",
       "      <th>16</th>\n",
       "      <td>0.212022</td>\n",
       "      <td>0.181146</td>\n",
       "    </tr>\n",
       "    <tr>\n",
       "      <th>17</th>\n",
       "      <td>4.137659</td>\n",
       "      <td>0.571608</td>\n",
       "    </tr>\n",
       "    <tr>\n",
       "      <th>18</th>\n",
       "      <td>-0.587108</td>\n",
       "      <td>-0.856963</td>\n",
       "    </tr>\n",
       "    <tr>\n",
       "      <th>19</th>\n",
       "      <td>-0.344124</td>\n",
       "      <td>-1.409370</td>\n",
       "    </tr>\n",
       "    <tr>\n",
       "      <th>20</th>\n",
       "      <td>-1.740148</td>\n",
       "      <td>2.319448</td>\n",
       "    </tr>\n",
       "    <tr>\n",
       "      <th>21</th>\n",
       "      <td>-1.541574</td>\n",
       "      <td>0.285203</td>\n",
       "    </tr>\n",
       "    <tr>\n",
       "      <th>22</th>\n",
       "      <td>-2.380774</td>\n",
       "      <td>2.431369</td>\n",
       "    </tr>\n",
       "    <tr>\n",
       "      <th>23</th>\n",
       "      <td>-1.976222</td>\n",
       "      <td>1.446278</td>\n",
       "    </tr>\n",
       "    <tr>\n",
       "      <th>24</th>\n",
       "      <td>3.675955</td>\n",
       "      <td>3.152648</td>\n",
       "    </tr>\n",
       "  </tbody>\n",
       "</table>\n",
       "</div>"
      ],
      "text/plain": [
       "           0         1\n",
       "编号                    \n",
       "1  -0.117806 -0.657938\n",
       "2  -0.487131 -1.238278\n",
       "3  -0.061425 -1.464053\n",
       "4  -0.250849 -0.222544\n",
       "5   1.191992  0.284599\n",
       "6  -2.302809 -0.094129\n",
       "7   0.049596 -2.393226\n",
       "8  -0.399982  0.058470\n",
       "9  -0.587475 -1.309336\n",
       "10 -0.081004  0.123764\n",
       "11 -2.415715  1.058423\n",
       "12  0.060447 -1.697672\n",
       "13  0.982362 -0.728211\n",
       "14  2.985161 -0.792086\n",
       "15  1.978949  0.950851\n",
       "16  0.212022  0.181146\n",
       "17  4.137659  0.571608\n",
       "18 -0.587108 -0.856963\n",
       "19 -0.344124 -1.409370\n",
       "20 -1.740148  2.319448\n",
       "21 -1.541574  0.285203\n",
       "22 -2.380774  2.431369\n",
       "23 -1.976222  1.446278\n",
       "24  3.675955  3.152648"
      ]
     },
     "execution_count": 125,
     "metadata": {},
     "output_type": "execute_result"
    }
   ],
   "source": [
    "## 主成分\n",
    "y = pd.DataFrame(pca.transform(X), index=data.index)\n",
    "y"
   ]
  },
  {
   "cell_type": "code",
   "execution_count": 126,
   "metadata": {
    "pycharm": {
     "is_executing": true
    }
   },
   "outputs": [
    {
     "data": {
      "image/png": "[encoded data removed]",
      "text/plain": [
       "<Figure size 1100x500 with 1 Axes>"
      ]
     },
     "metadata": {
      "needs_background": "light"
     },
     "output_type": "display_data"
    }
   ],
   "source": [
    "plt.figure(dpi=100, figsize=(11,5))\n",
    "ax = plt.subplot(111)\n",
    "y.plot.scatter(0,1, ax=ax, alpha=1)\n",
    "for i in range(y.shape[0]):\n",
    "    ax.annotate(data.index[i], (y.iloc[i,0], y.iloc[i,1]),alpha=0.7)"
   ]
  },
  {
   "cell_type": "code",
   "execution_count": null,
   "metadata": {
    "pycharm": {
     "is_executing": true
    }
   },
   "outputs": [],
   "source": []
  }
 ],
 "metadata": {
  "kernelspec": {
   "display_name": "Python 3 (ipykernel)",
   "language": "python",
   "name": "python3"
  },
  "language_info": {
   "codemirror_mode": {
    "name": "ipython",
    "version": 3
   },
   "file_extension": ".py",
   "mimetype": "text/x-python",
   "name": "python",
   "nbconvert_exporter": "python",
   "pygments_lexer": "ipython3",
   "version": "3.9.13"
  }
 },
 "nbformat": 4,
 "nbformat_minor": 1
}
