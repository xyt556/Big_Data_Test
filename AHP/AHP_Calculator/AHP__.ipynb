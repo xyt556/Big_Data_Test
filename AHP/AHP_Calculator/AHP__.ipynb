{
 "cells": [
  {
   "cell_type": "code",
   "execution_count": 6,
   "id": "159070a7",
   "metadata": {},
   "outputs": [],
   "source": [
    "from ahp_calculator import ahp_calculator "
   ]
  },
  {
   "cell_type": "code",
   "execution_count": 7,
   "id": "aedf412b",
   "metadata": {},
   "outputs": [
    {
     "data": {
      "text/plain": "<IPython.core.display.HTML object>",
      "text/html": "<style>\n        .params_label { background: rgba(0,0,0,0.1); text-align:center;}\n        .calculate_button { color: green; margin-top:20px;}\n        </style>"
     },
     "metadata": {},
     "output_type": "display_data"
    },
    {
     "data": {
      "text/plain": "VBox(children=(Label(value='Enter all params in comma seperated form. eg: River,Road,Settlement'), HBox(childr…",
      "application/vnd.jupyter.widget-view+json": {
       "version_major": 2,
       "version_minor": 0,
       "model_id": "6e34828f8ed54877a9165fcf2e53c9d3"
      }
     },
     "execution_count": 7,
     "metadata": {},
     "output_type": "execute_result"
    }
   ],
   "source": [
    "from ahp_calculator import ahp_calculator \n",
    "\n",
    "AC=ahp_calculator()\n",
    "AC.open_calculator()"
   ]
  },
  {
   "cell_type": "code",
   "execution_count": 7,
   "id": "df320923",
   "metadata": {},
   "outputs": [],
   "source": []
  }
 ],
 "metadata": {
  "kernelspec": {
   "display_name": "Python 3 (ipykernel)",
   "language": "python",
   "name": "python3"
  },
  "language_info": {
   "codemirror_mode": {
    "name": "ipython",
    "version": 3
   },
   "file_extension": ".py",
   "mimetype": "text/x-python",
   "name": "python",
   "nbconvert_exporter": "python",
   "pygments_lexer": "ipython3",
   "version": "3.9.13"
  }
 },
 "nbformat": 4,
 "nbformat_minor": 5
}