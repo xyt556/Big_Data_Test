{
 "cells": [
  {
   "cell_type": "code",
   "execution_count": 1,
   "metadata": {
    "collapsed": true
   },
   "outputs": [],
   "source": [
    "import numpy as np\n",
    "import pymannkendall as mk"
   ]
  },
  {
   "cell_type": "code",
   "execution_count": 4,
   "outputs": [],
   "source": [
    "pre=np.array([12,24,43,53,130,102,140,159,133,84,42,26,29,46,37,66,71,103,150,143,129,75,33,12])"
   ],
   "metadata": {
    "collapsed": false
   }
  },
  {
   "cell_type": "markdown",
   "source": [
    "例一：计算sens斜率并进行原始Mann-Kendall检验"
   ],
   "metadata": {
    "collapsed": false
   }
  },
  {
   "cell_type": "code",
   "execution_count": 5,
   "outputs": [
    {
     "data": {
      "text/plain": "\"\\nMann_Kendall_Test(\\n     trend='no trend',\\n\\xa0\\xa0\\xa0\\xa0\\xa0h=False,\\n\\xa0\\xa0\\xa0\\xa0\\xa0p=0.5851588651847224,\\xa0\\n     z=0.5458648159491473,\\n     Tau=0.08333333333333333,\\n     s=23.0, var_s=1624.3333333333333,\\n     slope=0.8500000000000001,\\n\\xa0\\xa0\\xa0\\xa0\\xa0intercept=58.725)\""
     },
     "execution_count": 5,
     "metadata": {},
     "output_type": "execute_result"
    }
   ],
   "source": [
    "result = mk.original_test(pre,alpha=0.05)\n",
    "\n",
    "#pre是降水数据，alpha是置信区间\n",
    "#OUT变量对应上述\n",
    "'''\n",
    "Mann_Kendall_Test(\n",
    "     trend='no trend',\n",
    "     h=False,\n",
    "     p=0.5851588651847224, \n",
    "     z=0.5458648159491473,\n",
    "     Tau=0.08333333333333333,\n",
    "     s=23.0, var_s=1624.3333333333333,\n",
    "     slope=0.8500000000000001,\n",
    "     intercept=58.725)'''"
   ],
   "metadata": {
    "collapsed": false
   }
  },
  {
   "cell_type": "markdown",
   "source": [
    "当只进行Sen's斜率计算时："
   ],
   "metadata": {
    "collapsed": false
   }
  },
  {
   "cell_type": "code",
   "execution_count": 9,
   "outputs": [
    {
     "name": "stdout",
     "output_type": "stream",
     "text": [
      "Sens_Slope_Test(slope=0.8500000000000001, intercept=58.725)\n"
     ]
    }
   ],
   "source": [
    "result = mk.sens_slope(pre)\n",
    "print(result)"
   ],
   "metadata": {
    "collapsed": false
   }
  },
  {
   "cell_type": "markdown",
   "source": [
    "例二：计算季节Sen's斜率并进行季节MK检验"
   ],
   "metadata": {
    "collapsed": false
   }
  },
  {
   "cell_type": "code",
   "execution_count": 10,
   "outputs": [
    {
     "name": "stdout",
     "output_type": "stream",
     "text": [
      "Seasonal_Mann_Kendall_Test(trend='no trend', h=False, p=0.7728299926844475, z=-0.2886751345948129, Tau=-0.16666666666666666, s=-2.0, var_s=12.0, slope=-5.0, intercept=73.29166666666667)\n"
     ]
    }
   ],
   "source": [
    "result = mk.seasonal_test(pre,alpha=0.05,period=12)\n",
    "print(result)"
   ],
   "metadata": {
    "collapsed": false
   }
  },
  {
   "cell_type": "markdown",
   "source": [
    "当只进行季节Sen's斜率计算时："
   ],
   "metadata": {
    "collapsed": false
   }
  },
  {
   "cell_type": "code",
   "execution_count": 12,
   "outputs": [
    {
     "name": "stdout",
     "output_type": "stream",
     "text": [
      "Seasonal_Sens_Slope_Test(slope=-5.0, intercept=73.29166666666667)\n"
     ]
    }
   ],
   "source": [
    "result = mk.seasonal_sens_slope(pre,period=12)\n",
    "print(result)"
   ],
   "metadata": {
    "collapsed": false
   }
  },
  {
   "cell_type": "markdown",
   "source": [],
   "metadata": {
    "collapsed": false
   }
  }
 ],
 "metadata": {
  "kernelspec": {
   "display_name": "Python 3",
   "language": "python",
   "name": "python3"
  },
  "language_info": {
   "codemirror_mode": {
    "name": "ipython",
    "version": 2
   },
   "file_extension": ".py",
   "mimetype": "text/x-python",
   "name": "python",
   "nbconvert_exporter": "python",
   "pygments_lexer": "ipython2",
   "version": "2.7.6"
  }
 },
 "nbformat": 4,
 "nbformat_minor": 0
}
