{
 "cells": [
  {
   "cell_type": "code",
   "execution_count": 1,
   "metadata": {
    "collapsed": true
   },
   "outputs": [],
   "source": [
    "import numpy as np\n",
    "import pymannkendall as mk"
   ]
  },
  {
   "cell_type": "code",
   "execution_count": 4,
   "outputs": [],
   "source": [
    "pre=np.array([12,24,43,53,130,102,140,159,133,84,42,26,29,46,37,66,71,103,150,143,129,75,33,12])"
   ],
   "metadata": {
    "collapsed": false
   }
  },
  {
   "cell_type": "markdown",
   "source": [
    "例一：计算sens斜率并进行原始Mann-Kendall检验"
   ],
   "metadata": {
    "collapsed": false
   }
  },
  {
   "cell_type": "code",
   "execution_count": 5,
   "outputs": [
    {
     "data": {
      "text/plain": "\"\\nMann_Kendall_Test(\\n     trend='no trend',\\n\\xa0\\xa0\\xa0\\xa0\\xa0h=False,\\n\\xa0\\xa0\\xa0\\xa0\\xa0p=0.5851588651847224,\\xa0\\n     z=0.5458648159491473,\\n     Tau=0.08333333333333333,\\n     s=23.0, var_s=1624.3333333333333,\\n     slope=0.8500000000000001,\\n\\xa0\\xa0\\xa0\\xa0\\xa0intercept=58.725)\""
     },
     "execution_count": 5,
     "metadata": {},
     "output_type": "execute_result"
    }
   ],
   "source": [
    "result = mk.original_test(pre,alpha=0.05)\n",
    "\n",
    "#pre是降水数据，alpha是置信区间\n",
    "#OUT变量对应上述\n",
    "'''\n",
    "Mann_Kendall_Test(\n",
    "     trend='no trend',\n",
    "     h=False,\n",
    "     p=0.5851588651847224, \n",
    "     z=0.5458648159491473,\n",
    "     Tau=0.08333333333333333,\n",
    "     s=23.0, var_s=1624.3333333333333,\n",
    "     slope=0.8500000000000001,\n",
    "     intercept=58.725)'''"
   ],
   "metadata": {
    "collapsed": false
   }
  },
  {
   "cell_type": "markdown",
   "source": [
    "当只进行Sen's斜率计算时："
   ],
   "metadata": {
    "collapsed": false
   }
  },
  {
   "cell_type": "code",
   "execution_count": 9,
   "outputs": [
    {
     "name": "stdout",
     "output_type": "stream",
     "text": [
      "Sens_Slope_Test(slope=0.8500000000000001, intercept=58.725)\n"
     ]
    }
   ],
   "source": [
    "result = mk.sens_slope(pre)\n",
    "print(result)"
   ],
   "metadata": {
    "collapsed": false
   }
  },
  {
   "cell_type": "markdown",
   "source": [
    "例二：计算季节Sen's斜率并进行季节MK检验"
   ],
   "metadata": {
    "collapsed": false
   }
  },
  {
   "cell_type": "code",
   "execution_count": 10,
   "outputs": [
    {
     "name": "stdout",
     "output_type": "stream",
     "text": [
      "Seasonal_Mann_Kendall_Test(trend='no trend', h=False, p=0.7728299926844475, z=-0.2886751345948129, Tau=-0.16666666666666666, s=-2.0, var_s=12.0, slope=-5.0, intercept=73.29166666666667)\n"
     ]
    }
   ],
   "source": [
    "result = mk.seasonal_test(pre,alpha=0.05,period=12)\n",
    "print(result)"
   ],
   "metadata": {
    "collapsed": false
   }
  },
  {
   "cell_type": "markdown",
   "source": [
    "当只进行季节Sen's斜率计算时："
   ],
   "metadata": {
    "collapsed": false
   }
  },
  {
   "cell_type": "code",
   "execution_count": 12,
   "outputs": [
    {
     "name": "stdout",
     "output_type": "stream",
     "text": [
      "Seasonal_Sens_Slope_Test(slope=-5.0, intercept=73.29166666666667)\n"
     ]
    }
   ],
   "source": [
    "result = mk.seasonal_sens_slope(pre,period=12)\n",
    "print(result)"
   ],
   "metadata": {
    "collapsed": false
   }
  },
  {
   "cell_type": "markdown",
   "source": [
    "另一个例子"
   ],
   "metadata": {
    "collapsed": false
   }
  },
  {
   "cell_type": "code",
   "execution_count": 20,
   "outputs": [
    {
     "name": "stdout",
     "output_type": "stream",
     "text": [
      "Mann_Kendall_Test(trend='no trend', h=False, p=0.614752145318523, z=0.5033017371129681, Tau=0.03434343434343434, s=170.0, var_s=112750.0, slope=0.0004604380232121828, intercept=0.4830796630609341)\n",
      "trend:no trend,p_value:0.61,slope:0.00\n",
      "Mann_Kendall_Test(trend='increasing', h=True, p=0.0, z=14.73869998208331, Tau=1.0, s=4950.0, var_s=112750.0, slope=1.0, intercept=0.0)\n",
      "trend:increasing,p_value:0.00,slope:1.00\n",
      "Mann_Kendall_Test(trend='decreasing', h=True, p=0.0, z=-14.73869998208331, Tau=-1.0, s=-4950.0, var_s=112750.0, slope=-1.0, intercept=100.0)\n",
      "trend:decreasing,p_value:0.00,slope:-1.00\n"
     ]
    }
   ],
   "source": [
    "# -*- encoding: utf-8 -*-\n",
    "\n",
    "import pymannkendall as mk\n",
    "import numpy as np\n",
    "\n",
    "# 生成3组数据\n",
    "data1 = np.random.random(100)\n",
    "data2 = np.arange(100)\n",
    "data3 = np.arange(100,0,-1)\n",
    "# print(data1)\n",
    "# print(data2)\n",
    "# print(data2)\n",
    "for x in [data1,data2,data3]:\n",
    "    result = mk.original_test(x,alpha=0.05)#alpha默认为0.05\n",
    "    print(result)\n",
    "    print(f'trend:{result.trend}','p_value:{:.2f}'.format(result.p),'slope:{:.2f}'.format(result.slope),sep = ',')\n",
    "\n"
   ],
   "metadata": {
    "collapsed": false
   }
  },
  {
   "cell_type": "markdown",
   "source": [
    "自定义的mk趋势检验函数"
   ],
   "metadata": {
    "collapsed": false
   }
  },
  {
   "cell_type": "code",
   "execution_count": 21,
   "outputs": [
    {
     "name": "stdout",
     "output_type": "stream",
     "text": [
      "trend:0,p_value:0.68,slope:-0.00\n",
      "trend:1,p_value:0.00,slope:1.00\n",
      "trend:-1,p_value:0.00,slope:-1.00\n"
     ]
    }
   ],
   "source": [
    "# -*- encoding: utf-8 -*-\n",
    "\n",
    "\n",
    "# here put the import lib\n",
    "from scipy.stats import norm\n",
    "import numpy as np\n",
    "from sklearn.linear_model import LinearRegression\n",
    "\n",
    "\n",
    "def mk(x, alpha=0.1):\n",
    "    n = len(x)\n",
    "\n",
    "    # 计算趋势slope\n",
    "    model = LinearRegression()\n",
    "    model.fit(np.arange(1,n+1).reshape(-1,1),x)\n",
    "    slope = model.coef_[0]\n",
    "\n",
    "    # 计算S的值\n",
    "    s = 0\n",
    "    for j in range(n - 1):\n",
    "        for i in range(j + 1, n):\n",
    "            s += np.sign(x[i] - x[j])\n",
    "\n",
    "    # 判断x里面是否存在重复的数，输出唯一数队列unique_x,重复数数量队列tp\n",
    "    unique_x, tp = np.unique(x, return_counts=True)\n",
    "    g = len(unique_x)\n",
    "\n",
    "    # 计算方差VAR(S)\n",
    "    if n == g:  # 如果不存在重复点\n",
    "        var_s = (n * (n - 1) * (2 * n + 5)) / 18\n",
    "    else:\n",
    "        var_s = (n * (n - 1) * (2 * n + 5) - np.sum(tp * (tp - 1) * (2 * tp + 5))) / 18\n",
    "\n",
    "    # 计算z_value\n",
    "    if n <= 10:  # n<=10属于特例\n",
    "        z = s / (n * (n - 1) / 2)\n",
    "    else:\n",
    "        if s > 0:\n",
    "            z = (s - 1) / np.sqrt(var_s)\n",
    "        elif s < 0:\n",
    "            z = (s + 1) / np.sqrt(var_s)\n",
    "        else:\n",
    "            z = 0\n",
    "\n",
    "    # 计算p_value，可以选择性先对p_value进行验证\n",
    "    p = 2 * (1 - norm.cdf(abs(z)))\n",
    "\n",
    "    # 计算Z(1-alpha/2)\n",
    "    h = abs(z) > norm.ppf(1 - alpha / 2)\n",
    "\n",
    "    # 趋势判断\n",
    "    if (z < 0) and h:\n",
    "        trend = -1#'decreasing'\n",
    "    elif (z > 0) and h:\n",
    "        trend = 1#'increasing'\n",
    "    else:\n",
    "        trend = 0#'no trend'\n",
    "\n",
    "    return trend,p,slope\n",
    "\n",
    "\n",
    "if __name__ == '__main__':\n",
    "    data = np.random.random(100)\n",
    "    data2 = np.arange(100)\n",
    "    data3 = np.arange(100,0,-1)\n",
    "    for x in [data,data2,data3]:\n",
    "        trend,p,slope = mk(x,alpha = 0.05)\n",
    "        print(f'trend:{trend}','p_value:{:.2f}'.format(p),'slope:{:.2f}'.format(slope),sep = ',')\n",
    "\n"
   ],
   "metadata": {
    "collapsed": false
   }
  },
  {
   "cell_type": "code",
   "execution_count": null,
   "outputs": [],
   "source": [],
   "metadata": {
    "collapsed": false
   }
  }
 ],
 "metadata": {
  "kernelspec": {
   "display_name": "Python 3",
   "language": "python",
   "name": "python3"
  },
  "language_info": {
   "codemirror_mode": {
    "name": "ipython",
    "version": 2
   },
   "file_extension": ".py",
   "mimetype": "text/x-python",
   "name": "python",
   "nbconvert_exporter": "python",
   "pygments_lexer": "ipython2",
   "version": "2.7.6"
  }
 },
 "nbformat": 4,
 "nbformat_minor": 0
}
