{
 "cells": [
  {
   "cell_type": "markdown",
   "metadata": {},
   "source": [
    "# 条形图细节 "
   ]
  },
  {
   "cell_type": "code",
   "execution_count": 44,
   "metadata": {},
   "outputs": [],
   "source": [
    "import numpy as np\n",
    "import pandas as pd\n",
    "import matplotlib.pyplot as plt\n",
    "%matplotlib inline\n",
    "import math\n",
    "\n",
    "from pylab import mpl\n",
    "mpl.rcParams['font.sans-serif'] = ['SimHei']\n",
    "mpl.rcParams['axes.unicode_minus'] = False"
   ]
  },
  {
   "cell_type": "code",
   "execution_count": 50,
   "metadata": {},
   "outputs": [
    {
     "data": {
      "text/plain": [
       "([<matplotlib.axis.XTick at 0x1ce3a33eef0>,\n",
       "  <matplotlib.axis.XTick at 0x1ce3a33e048>,\n",
       "  <matplotlib.axis.XTick at 0x1ce3a33e400>],\n",
       " <a list of 3 Text xticklabel objects>)"
      ]
     },
     "execution_count": 50,
     "metadata": {},
     "output_type": "execute_result"
    },
    {
     "data": {
      "image/png": "[encoded data removed]",
      "text/plain": [
       "<Figure size 432x288 with 1 Axes>"
      ]
     },
     "metadata": {
      "needs_background": "light"
     },
     "output_type": "display_data"
    }
   ],
   "source": [
    "# 平均值\n",
    "mean_values = [1,2,3]\n",
    "# 误差范围\n",
    "variance = [0.2,0.4,0.5]\n",
    "# 柱的名字\n",
    "bar_labels = ['bar1','bar2','bar3']\n",
    "\n",
    "\n",
    "# 画图时，指定一下底下的间隔，位置\n",
    "x_pos = list(range(len(bar_labels)))\n",
    "\n",
    "# 用 variance 表示误差棒: yerr, yerr = variance\n",
    "#画柱的函数 ：plt.bar()横着画；    竖着画：plt.barh()\n",
    "# 画一下柱属性：x轴的间隔：x_pos,均值，误差范围，设置透明度:alpha,以及柱的宽度，颜色\n",
    "plt.bar(x_pos,mean_values,yerr = variance,alpha = 0.4,width = 0.4,color = 'g')\n",
    "\n",
    "\n",
    "# 之后设置图的细节\n",
    "# 设置高度，zip() 函数，将值相加，返回一个元组，再利用max() 函数，求出最大值y\n",
    "max_y = max(zip(mean_values,variance))\n",
    "# 指定y 轴的值的限制，plt.ylim([最小值，最大值])，\n",
    " # 最大值 = 值+ 误差范围*大于1 的值，为了不使它顶满\n",
    "plt.ylim([0,(max_y[0]+max_y[1]*1.5)])\n",
    "# 指定Y轴的标签\n",
    "plt.ylabel('variance y',fontsize = 20)\n",
    "plt.xlabel('x ',fontsize = 20)\n",
    "plt.title('源氏集团',fontsize = 20)\n",
    "\n",
    "# 指定x轴的值，并写上bar1,bar2,bar3\n",
    "plt.xticks(x_pos,bar_labels)"
   ]
  },
  {
   "cell_type": "code",
   "execution_count": 51,
   "metadata": {},
   "outputs": [],
   "source": [
    "#help(zip)"
   ]
  },
  {
   "cell_type": "markdown",
   "metadata": {},
   "source": [
    "笔记：\n",
    "\n",
    "- 第一点：# 定义fig ,画布用函数 plt.figure()\n",
    "\n",
    "- 第二点：# 横着画，函数：plt.barh(),此时，barh() 函数中没有，width 这个属性，只有height这个属性。而竖着画，函数：plt.bar() 函数，没有height这个属性，只有width这个属性"
   ]
  },
  {
   "cell_type": "code",
   "execution_count": 139,
   "metadata": {},
   "outputs": [
    {
     "name": "stderr",
     "output_type": "stream",
     "text": [
      "d:\\python37\\lib\\site-packages\\ipykernel_launcher.py:18: MatplotlibDeprecationWarning: Adding an axes using the same arguments as a previous axes currently reuses the earlier instance.  In a future version, a new instance will always be created and returned.  Meanwhile, this warning can be suppressed, and the future behavior ensured, by passing a unique label to each axes instance.\n"
     ]
    },
    {
     "data": {
      "text/plain": [
       "<BarContainer object of 3 artists>"
      ]
     },
     "execution_count": 139,
     "metadata": {},
     "output_type": "execute_result"
    },
    {
     "data": {
      "image/png": "[encoded data removed]",
      "text/plain": [
       "<Figure size 432x288 with 2 Axes>"
      ]
     },
     "metadata": {
      "needs_background": "light"
     },
     "output_type": "display_data"
    }
   ],
   "source": [
    "import numpy as np\n",
    "\n",
    "x1 = np.array([1,2,3])\n",
    "x2 = np.array([2,3,4])\n",
    "bar_label = ['bar1','bar2','bar3']\n",
    "\n",
    "# # 定义fig ,画布用函数 plt.figure(),并指定画布的大小:figsize = (8,6)\n",
    "fig = plt.figure(figsize = (6,4))\n",
    "\n",
    "y_pos = np.arange(len(x1))\n",
    "y_pos = [x for x in y_pos]\n",
    "\n",
    "# 将画布切成两片，占据第一片画布\n",
    "plt.subplot(211)\n",
    "# 横着画，函数：plt.barh(),\n",
    "plt.barh(y_pos,x1,color = 'b',alpha = 0.3,height = 0.5)\n",
    "# 横着画，函数：plt.barh(),\n",
    "plt.subplot(211)\n",
    "plt.barh(y_pos,-x1,color = 'g',alpha = 0.3,height = 0.5)\n",
    "plt.subplot(212)\n",
    "# 竖着画，plt.bar() 函数\n",
    "plt.bar(y_pos,x2,color = 'g',alpha = 0.3,width = 0.3)\n",
    "\n",
    "# 设置 x,y 轴不让其顶格\n",
    "# plt.xlim(-max(x2)-1,max(x1)+1)\n",
    "# plt.ylim(-1,len(x1))"
   ]
  },
  {
   "cell_type": "markdown",
   "metadata": {},
   "source": [
    "笔记： \n",
    "\n",
    "- 第一点：采用递推式构造列表： 表达式：[expression for expression in sequence],返回一个列表对象\n",
    "      [p+width for p in color_pos]\n",
    "\n",
    "- 第二点：定义画布的大小可以用plt.subplot（）函数，也可以用plt.figure()，和轴\n",
    "      fig,axes = plt.subplots(figsize =(8,6))"
   ]
  },
  {
   "cell_type": "code",
   "execution_count": 116,
   "metadata": {},
   "outputs": [
    {
     "data": {
      "text/plain": [
       "(0, 3.2)"
      ]
     },
     "execution_count": 116,
     "metadata": {},
     "output_type": "execute_result"
    },
    {
     "data": {
      "image/png": "[encoded data removed]",
      "text/plain": [
       "<Figure size 576x432 with 1 Axes>"
      ]
     },
     "metadata": {
      "needs_background": "light"
     },
     "output_type": "display_data"
    }
   ],
   "source": [
    "green_data = [1,2,3]\n",
    "blue_data = [2,3,4]\n",
    "red_data = [1,4,2]\n",
    "color_labels = ['color1','color2','color3']\n",
    "\n",
    "color_pos = list(range(len(green_data)))\n",
    "width =0.2\n",
    "\n",
    "# 定义画布的大小可以用plt.subplot（）函数，也可以用plt.figure()，和轴\n",
    "# fig,axes = plt.subplots(figsize =(8,6))\n",
    "\n",
    "fig = plt.figure(figsize = (8,6))\n",
    "                        \n",
    "plt.bar(color_pos,green_data,width,alpha = 0.3,color = 'g',label =color_labels[0])\n",
    "\n",
    "#  采用递推式构造列表： 表达式：[expression for expression in sequence],返回一个列表对象\n",
    "   #    [p+width for p in color_pos]\n",
    "\n",
    "plt.bar([p+width for p in color_pos],blue_data,width,alpha = 0.3,color = 'b',\n",
    "        label =color_labels[1])\n",
    "plt.bar([p+width*2 for p in color_pos],red_data,width,alpha = 0.3,color = 'r',\n",
    "        label =color_labels[2])\n",
    "\n",
    "\n",
    "# 设置x,y轴的限制,设置Y轴的限制：从所有的数组的值中找出最大的值：\n",
    "           # max(max(blue_data),max(green_data),max(red_data))，\n",
    "plt.ylim(0,max(max(blue_data),max(green_data),max(red_data))+1)\n",
    "\n",
    "# 设置x 轴的限制：找到所有的数组的长度，求最大值，在最大值的基础上+ 0.2，设置限制\n",
    "plt.xlim(0,max(len(green_data),len(blue_data),len(red_data))+0.2)"
   ]
  },
  {
   "cell_type": "markdown",
   "metadata": {},
   "source": [
    "# 条形图外观"
   ]
  },
  {
   "cell_type": "code",
   "execution_count": 187,
   "metadata": {},
   "outputs": [
    {
     "data": {
      "image/png": "[encoded data removed]",
      "text/plain": [
       "<Figure size 720x576 with 1 Axes>"
      ]
     },
     "metadata": {
      "needs_background": "light"
     },
     "output_type": "display_data"
    }
   ],
   "source": [
    "data = range(200,225,5)\n",
    "bar_labels = ['a','b','c','d','e']\n",
    "\n",
    "fig,ax = plt.subplots(figsize = (10,8))\n",
    "height = 0.5\n",
    "\n",
    "y_pos = list(range(len(data)))\n",
    "# 横着画\n",
    "bars = plt.barh(y_pos,data,height,alpha = 0.3,color = 'r')\n",
    "\n",
    "# plt.yticks() ：指定y 的刻度，plt.yticks(y_pos,bar_labels,fontsize = 18)\n",
    "plt.yticks(y_pos,bar_labels,fontsize = 18)\n",
    "plt.xticks(fontsize = 18)\n",
    "\n",
    "# 在最小值处，画一条竖线：plt.vlines(),设置所画的线的格式：属性：linestyle = 'dashed'虚线\n",
    "plt.vlines(min(data),-1,len(data)+0.2,linestyle = 'dashed')\n",
    "\n",
    "for b,d in zip(bars,data):\n",
    "    \n",
    "    # 表示一下： 每一个值占最小值的比例\n",
    "    # 并且表示在坐标轴上，注意此处为{}： '{0:.2%}'.format(d/min(data)\n",
    "    plt.text(b.get_width()+b.get_width()*0.005,b.get_y()+b.get_height()/2,\n",
    "             '{0:.2%}'.format(d/min(data)))\n",
    "    \n",
    "    # 将每一个数据都表示在坐标轴上\n",
    "    plt.text(b.get_width()+b.get_width()*0.005,b.get_y()+b.get_height()/10,\n",
    "             '{0:.2f}'.format(d))\n",
    "\n",
    "# 出现错误：SyntaxError: unexpected EOF while parsing ，代表着print() 函数最后少（），或者这是写了for循环，没有循环体 "
   ]
  },
  {
   "cell_type": "code",
   "execution_count": 143,
   "metadata": {},
   "outputs": [
    {
     "name": "stdout",
     "output_type": "stream",
     "text": [
      "Help on built-in function format in module builtins:\n",
      "\n",
      "format(value, format_spec='', /)\n",
      "    Return value.__format__(format_spec)\n",
      "    \n",
      "    format_spec defaults to the empty string.\n",
      "    See the Format Specification Mini-Language section of help('FORMATTING') for\n",
      "    details.\n",
      "\n"
     ]
    }
   ],
   "source": [
    "help(format)"
   ]
  },
  {
   "cell_type": "markdown",
   "metadata": {},
   "source": [
    "笔记:\n",
    "- 第一点：\n",
    "\n",
    " format () 函数的用法：\n",
    "1. {}中可以填写后面的元组中的下标\n",
    "a = 'Hello'\n",
    "b = 'python'\n",
    "print('{},{}'.format(a,b))\n",
    "print('{1},{1}'.format(a,b))\n",
    "\n",
    "2.{} 中也可以填写后面的字段名\n",
    " %知道替换字符的类型，format（） 则不同\n",
    "\n",
    "from pylab import mpl\n",
    "mpl.rcParams['font.sans-serif']=['SimHei']\n",
    "mpl.rcParams['axes.unicode_minus']=False\n",
    "\n",
    "print('{name},{sex},{age}'.format(name='张',sex='男',age=19))\n",
    "print('{name},{sex},{age}'.format(name='zhang',sex='male',age=19))\n",
    "\n",
    "3 用 ， 可以做金额的千分位分隔符\n",
    "print('{:,}'.format(123456789))\n",
    "\n",
    "4. 控制数据的精度常跟类型f一起使用\n",
    "print('{:.2f}'.format(31.12345))\n",
    "\n",
    "5. 格式限定符\n",
    "*  填充与对齐，常一起使用\n",
    "* ‘：’后面带填充的字符，只能是一个字符，不指定的话，就用空格填充\n",
    "print('{:>8}'.format('zhang'))  \n",
    "*  ^,<,> 分别是居中，左对齐，右对齐，后面带有宽度\n",
    "print('{:0>8}'.format('zhang'))\n",
    "print('{:a<8}'.format('zhang'))\n",
    "print('{:p^10}'.format('zhang'))\n"
   ]
  },
  {
   "cell_type": "markdown",
   "metadata": {},
   "source": [
    "ColorBar 模式"
   ]
  },
  {
   "cell_type": "code",
   "execution_count": 200,
   "metadata": {},
   "outputs": [
    {
     "data": {
      "image/png": "[encoded data removed]",
      "text/plain": [
       "<Figure size 432x288 with 2 Axes>"
      ]
     },
     "metadata": {
      "needs_background": "light"
     },
     "output_type": "display_data"
    }
   ],
   "source": [
    "mean_values = range(10,18)\n",
    "x_pos = range(len(mean_values))\n",
    "\n",
    "# 导入两个与颜色有关的包\n",
    "import matplotlib.colors as col\n",
    "import matplotlib.cm as cm\n",
    "\n",
    "cmap1 = cm.ScalarMappable(col.Normalize(min(mean_values),max(mean_values),cm.hot))\n",
    "cmap2 = cm.ScalarMappable(col.Normalize(0,15,cm.hot))\n",
    "\n",
    "# to_rgba(mean_values): 转换成rgb格式\n",
    "plt.subplot(121)\n",
    "plt.bar(x_pos,mean_values,color = cmap1.to_rgba(mean_values))\n",
    "\n",
    "plt.subplot(122)\n",
    "plt.bar(x_pos,mean_values,color = cmap2.to_rgba(mean_values))\n",
    "\n",
    "plt.show()"
   ]
  },
  {
   "cell_type": "code",
   "execution_count": 201,
   "metadata": {},
   "outputs": [
    {
     "data": {
      "image/png": "[encoded data removed]",
      "text/plain": [
       "<Figure size 432x288 with 1 Axes>"
      ]
     },
     "metadata": {
      "needs_background": "light"
     },
     "output_type": "display_data"
    }
   ],
   "source": [
    "patterns = ('-','+','\\\\','*','0','o','.')\n",
    "\n",
    "fig = plt.gca()\n",
    "mean_values = range(1,len(patterns)+1)\n",
    "x_pos = list(range(len(mean_values)))\n",
    "\n",
    "bars = plt.bar(x_pos,mean_values,color = 'g',alpha = 0.3)\n",
    "for bar,pattern in zip(bars,patterns):\n",
    "    bar.set_hatch(pattern)\n"
   ]
  },
  {
   "cell_type": "code",
   "execution_count": null,
   "metadata": {},
   "outputs": [],
   "source": []
  }
 ],
 "metadata": {
  "kernelspec": {
   "display_name": "Python 3",
   "language": "python",
   "name": "python3"
  },
  "language_info": {
   "codemirror_mode": {
    "name": "ipython",
    "version": 3
   },
   "file_extension": ".py",
   "mimetype": "text/x-python",
   "name": "python",
   "nbconvert_exporter": "python",
   "pygments_lexer": "ipython3",
   "version": "3.7.3"
  }
 },
 "nbformat": 4,
 "nbformat_minor": 2
}
