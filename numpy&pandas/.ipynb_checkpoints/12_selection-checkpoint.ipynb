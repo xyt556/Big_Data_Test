{
 "cells": [
  {
   "cell_type": "code",
   "execution_count": 9,
   "metadata": {},
   "outputs": [
    {
     "name": "stdout",
     "output_type": "stream",
     "text": [
      "2013-01-01    0.110559\n",
      "2013-01-02    1.193853\n",
      "2013-01-03    0.004547\n",
      "2013-01-04   -0.231587\n",
      "2013-01-05   -0.548690\n",
      "2013-01-06    0.625337\n",
      "Freq: D, Name: A, dtype: float64 2013-01-01    0.110559\n",
      "2013-01-02    1.193853\n",
      "2013-01-03    0.004547\n",
      "2013-01-04   -0.231587\n",
      "2013-01-05   -0.548690\n",
      "2013-01-06    0.625337\n",
      "Freq: D, Name: A, dtype: float64\n"
     ]
    }
   ],
   "source": [
    "# %load 12_selection.py\n",
    "# View more python tutorials on my Youtube and Youku channel!!!\n",
    "\n",
    "# Youtube video tutorial: https://www.youtube.com/channel/UCdyjiB5H8Pu7aDTNVXTTpcg\n",
    "# Youku video tutorial: http://i.youku.com/pythontutorial\n",
    "\"\"\"\n",
    "Please note, this code is only for python 3+. If you are using python 2+, please modify the code accordingly.\n",
    "\"\"\"\n",
    "from __future__ import print_function\n",
    "import pandas as pd\n",
    "import numpy as np\n",
    "\n",
    "dates = pd.date_range('20130101', periods=6)\n",
    "df = pd.DataFrame(np.random.randn(6,4), index=dates, columns=['A', 'B', 'C', 'D'])\n",
    "print(df['A'], df.A)\n"
   ]
  },
  {
   "cell_type": "code",
   "execution_count": 10,
   "metadata": {},
   "outputs": [
    {
     "name": "stdout",
     "output_type": "stream",
     "text": [
      "                   A         B         C         D\n",
      "2013-01-01  0.110559  0.031654 -0.676431  0.197118\n",
      "2013-01-02  1.193853 -0.778756 -0.806262 -0.982802\n",
      "2013-01-03  0.004547  0.117954  0.254407 -1.372390                    A         B         C         D\n",
      "2013-01-02  1.193853 -0.778756 -0.806262 -0.982802\n",
      "2013-01-03  0.004547  0.117954  0.254407 -1.372390\n",
      "2013-01-04 -0.231587  0.065867  0.923882 -0.237397\n",
      "A    1.193853\n",
      "B   -0.778756\n",
      "C   -0.806262\n",
      "D   -0.982802\n",
      "Name: 2013-01-02 00:00:00, dtype: float64\n",
      "                   A         B\n",
      "2013-01-01  0.110559  0.031654\n",
      "2013-01-02  1.193853 -0.778756\n",
      "2013-01-03  0.004547  0.117954\n",
      "2013-01-04 -0.231587  0.065867\n",
      "2013-01-05 -0.548690  0.195450\n",
      "2013-01-06  0.625337  0.259269\n",
      "A    1.193853\n",
      "B   -0.778756\n",
      "Name: 2013-01-02 00:00:00, dtype: float64\n"
     ]
    }
   ],
   "source": [
    "print(df[0:3], df['20130102':'20130104'])\n",
    "\n",
    "# select by label: loc\n",
    "print(df.loc['20130102'])\n",
    "print(df.loc[:,['A','B']])\n",
    "print(df.loc['20130102', ['A','B']])\n"
   ]
  },
  {
   "cell_type": "code",
   "execution_count": 11,
   "metadata": {},
   "outputs": [
    {
     "name": "stdout",
     "output_type": "stream",
     "text": [
      "A   -0.231587\n",
      "B    0.065867\n",
      "C    0.923882\n",
      "D   -0.237397\n",
      "Name: 2013-01-04 00:00:00, dtype: float64\n",
      "0.06586672236322857\n",
      "                   A         B\n",
      "2013-01-04 -0.231587  0.065867\n",
      "2013-01-05 -0.548690  0.195450\n",
      "                   A         C\n",
      "2013-01-02  1.193853 -0.806262\n",
      "2013-01-03  0.004547  0.254407\n",
      "2013-01-05 -0.548690  1.911370\n"
     ]
    }
   ],
   "source": [
    "\n",
    "# select by position: iloc\n",
    "print(df.iloc[3])\n",
    "print(df.iloc[3, 1])\n",
    "print(df.iloc[3:5,0:2])\n",
    "print(df.iloc[[1,2,4],[0,2]])\n",
    "\n"
   ]
  },
  {
   "cell_type": "code",
   "execution_count": 12,
   "metadata": {},
   "outputs": [
    {
     "ename": "AttributeError",
     "evalue": "'DataFrame' object has no attribute 'ix'",
     "output_type": "error",
     "traceback": [
      "\u001b[1;31m---------------------------------------------------------------------------\u001b[0m",
      "\u001b[1;31mAttributeError\u001b[0m                            Traceback (most recent call last)",
      "Cell \u001b[1;32mIn [12], line 2\u001b[0m\n\u001b[0;32m      1\u001b[0m \u001b[38;5;66;03m# mixed selection: ix\u001b[39;00m\n\u001b[1;32m----> 2\u001b[0m \u001b[38;5;28mprint\u001b[39m(\u001b[43mdf\u001b[49m\u001b[38;5;241;43m.\u001b[39;49m\u001b[43mix\u001b[49m[:\u001b[38;5;241m3\u001b[39m, [\u001b[38;5;124m'\u001b[39m\u001b[38;5;124mA\u001b[39m\u001b[38;5;124m'\u001b[39m, \u001b[38;5;124m'\u001b[39m\u001b[38;5;124mC\u001b[39m\u001b[38;5;124m'\u001b[39m]])\n\u001b[0;32m      3\u001b[0m \u001b[38;5;66;03m# Boolean indexing\u001b[39;00m\n\u001b[0;32m      4\u001b[0m \u001b[38;5;28mprint\u001b[39m(df[df\u001b[38;5;241m.\u001b[39mA \u001b[38;5;241m>\u001b[39m \u001b[38;5;241m0\u001b[39m])\n",
      "File \u001b[1;32mF:\\Big_Data_Test\\venv\\lib\\site-packages\\pandas\\core\\generic.py:5907\u001b[0m, in \u001b[0;36mNDFrame.__getattr__\u001b[1;34m(self, name)\u001b[0m\n\u001b[0;32m   5900\u001b[0m \u001b[38;5;28;01mif\u001b[39;00m (\n\u001b[0;32m   5901\u001b[0m     name \u001b[38;5;129;01mnot\u001b[39;00m \u001b[38;5;129;01min\u001b[39;00m \u001b[38;5;28mself\u001b[39m\u001b[38;5;241m.\u001b[39m_internal_names_set\n\u001b[0;32m   5902\u001b[0m     \u001b[38;5;129;01mand\u001b[39;00m name \u001b[38;5;129;01mnot\u001b[39;00m \u001b[38;5;129;01min\u001b[39;00m \u001b[38;5;28mself\u001b[39m\u001b[38;5;241m.\u001b[39m_metadata\n\u001b[0;32m   5903\u001b[0m     \u001b[38;5;129;01mand\u001b[39;00m name \u001b[38;5;129;01mnot\u001b[39;00m \u001b[38;5;129;01min\u001b[39;00m \u001b[38;5;28mself\u001b[39m\u001b[38;5;241m.\u001b[39m_accessors\n\u001b[0;32m   5904\u001b[0m     \u001b[38;5;129;01mand\u001b[39;00m \u001b[38;5;28mself\u001b[39m\u001b[38;5;241m.\u001b[39m_info_axis\u001b[38;5;241m.\u001b[39m_can_hold_identifiers_and_holds_name(name)\n\u001b[0;32m   5905\u001b[0m ):\n\u001b[0;32m   5906\u001b[0m     \u001b[38;5;28;01mreturn\u001b[39;00m \u001b[38;5;28mself\u001b[39m[name]\n\u001b[1;32m-> 5907\u001b[0m \u001b[38;5;28;01mreturn\u001b[39;00m \u001b[38;5;28;43mobject\u001b[39;49m\u001b[38;5;241;43m.\u001b[39;49m\u001b[38;5;21;43m__getattribute__\u001b[39;49m\u001b[43m(\u001b[49m\u001b[38;5;28;43mself\u001b[39;49m\u001b[43m,\u001b[49m\u001b[43m \u001b[49m\u001b[43mname\u001b[49m\u001b[43m)\u001b[49m\n",
      "\u001b[1;31mAttributeError\u001b[0m: 'DataFrame' object has no attribute 'ix'"
     ]
    }
   ],
   "source": [
    "# mixed selection: ix\n",
    "print(df.ix[:3, ['A', 'C']])\n",
    "# Boolean indexing\n",
    "print(df[df.A > 0])"
   ]
  },
  {
   "cell_type": "code",
   "execution_count": null,
   "metadata": {},
   "outputs": [],
   "source": []
  },
  {
   "cell_type": "code",
   "execution_count": null,
   "metadata": {},
   "outputs": [],
   "source": []
  },
  {
   "cell_type": "code",
   "execution_count": null,
   "metadata": {},
   "outputs": [],
   "source": []
  }
 ],
 "metadata": {
  "kernelspec": {
   "display_name": "Python 3 (ipykernel)",
   "language": "python",
   "name": "python3"
  },
  "language_info": {
   "codemirror_mode": {
    "name": "ipython",
    "version": 3
   },
   "file_extension": ".py",
   "mimetype": "text/x-python",
   "name": "python",
   "nbconvert_exporter": "python",
   "pygments_lexer": "ipython3",
   "version": "3.10.7"
  }
 },
 "nbformat": 4,
 "nbformat_minor": 1
}
