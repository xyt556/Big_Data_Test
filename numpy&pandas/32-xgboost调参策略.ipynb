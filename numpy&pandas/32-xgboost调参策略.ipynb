{
 "cells": [
  {
   "cell_type": "markdown",
   "metadata": {},
   "source": [
    "# https://xgboost.readthedocs.io/en/latest/\n",
    "# XGBoost 文档"
   ]
  },
  {
   "cell_type": "markdown",
   "metadata": {},
   "source": [
    "# XGBoost 参数\n",
    "\n",
    "1.eta [default=0.3, alias: learning_rate]\n",
    "学习率，可以缩减每一步的权重值，使得模型更加健壮： 典型值一般设置为：0.01-0.2\n",
    "\n",
    "2. min_child_weight [default=1]\n",
    "一个子集的所有观察值的最小权重和。如果新分裂的节点的样本权重和小于min_child_weight则停止分裂 。这个可以用来减少过拟合，但是也不能太高，会导致欠拟合。\n",
    "\n",
    "3. max_depth [default=6]\n",
    "树的最大深度，值越大，树越大，模型越复杂 可以用来防止过拟合，典型值是3-10。\n",
    "\n",
    "4. gamma [default=0, alias: min_split_loss]\n",
    "分裂节点时，损失函数减小值只有大于等于gamma节点才分裂，gamma值越大，算法越保守，越不容易过拟合，但性能就不一定能保证，需要平衡。\n",
    "\n",
    "5. subsample [default=1]\n",
    "构建每棵树对样本的采样率，如果设置成0.5，XGBoost会随机选择一半的样本作为训练集。\n",
    "\n",
    "6. colsample_bytree [default=1]\n",
    "列采样率，也就是特征采样率。\n",
    "\n",
    "7. colsample_bylevel [default=1]\n",
    "构建每一层时，列采样率。\n",
    "\n",
    "8. lambda [default=1, alias: reg_lambda]\n",
    "L2正则化，这个参数是用来控制XGBoost的正则化部分的。虽然大部分数据科学家很少用到这个参数，但是这个参数在减少过拟合上还是可以挖掘出更多用处的。\n",
    "\n",
    "9. alpha [default=0, alias: reg_alpha]\n",
    "L1正则化，增加该值会让模型更加收敛\n",
    "\n",
    "10. scale_pos_weight, [default=1]\n",
    "在类别高度不平衡的情况下，将参数设置大于0，可以加快收敛。\n",
    "\n",
    "\n",
    "- booster:gbtree\n",
    "- objective: \n",
    "    - (默认)reg:linear：线性回归\n",
    "    - reg:logistic：逻辑回归\n",
    "    - binary:logistic 二分类的逻辑回归，返回预测的概率\n",
    "    - binary:logitraw：二分类逻辑回归，输出是逻辑为0/1的前一步的分数\n",
    "    - multi:softmax：用于Xgboost 做多分类问题，需要设置num_class（分类的个数） \n",
    "    - multi:softprob：和softmax一样，但是返回的是每个数据属于各个类别的概率。\n",
    "    - rank:pairwise：让Xgboost 做排名任务，通过最小化(Learn to rank的一种方法)\n",
    "- slient:0设置为1，代表没有运行信息输出，最好为0\n",
    "- min_child_weight:3,孩子节点中最小的样本权重和。如果一个叶子节点样本权重和小于min_child_weight则拆分过程结束\n",
    "-  eta:学习率，上面有介绍\n",
    "- subsample:0.7,随机采样训练样本\n",
    "- colsample:0.7生成树时进行的列采样\n",
    "- seed:1000\n",
    "- nthread:7,cpu线程数\n",
    "    \n",
    " 2、eval_metric（ 默认值取决于objective参数的取值）\n",
    "\n",
    "- 对于有效数据的度量方法。\n",
    "\n",
    "- 对于回归问题，默认值是rmse，对于分类问题，默认值是error。\n",
    "\n",
    "# 典型值有：\n",
    "\n",
    "- rmse 均方根误差\n",
    "\n",
    "- mae 平均绝对误差\n",
    "\n",
    "- logloss 负对数似然函数值\n",
    "\n",
    "- error 二分类错误率(阈值为0.5)\n",
    "\n",
    "- merror 多分类错误率\n",
    "\n",
    "- mlogloss 多分类logloss损失函数\n",
    "\n",
    "- auc 曲线下面积\n",
    "\n",
    "# 参数调优的一般步骤\n",
    "\n",
    "1. 确定学习速率和提升参数调优的初始值\n",
    "\n",
    "2. max_depth 和 min_child_weight 参数调优\n",
    "\n",
    "3. gamma参数调优\n",
    "\n",
    "4. subsample 和 colsample_bytree 参数优\n",
    "\n",
    "5. 正则化参数alpha调优\n",
    "\n",
    "6. 降低学习速率和使用更多的决策树"
   ]
  },
  {
   "cell_type": "markdown",
   "metadata": {},
   "source": [
    "# 因调用cv函数有指针的错误，改用GridSearchCV（）函数\n",
    "# 以下例子来自这个网址\n",
    "# https://www.cnblogs.com/Allen-rg/p/9266605.html"
   ]
  },
  {
   "cell_type": "markdown",
   "metadata": {},
   "source": [
    "# XgBoost调整策略"
   ]
  },
  {
   "cell_type": "code",
   "execution_count": 1,
   "metadata": {},
   "outputs": [],
   "source": [
    "import pandas as pd\n",
    "import numpy as np\n",
    "import xgboost as xgb\n",
    "import sys\n",
    "import pickle\n",
    "import matplotlib.pylab as plt\n",
    "from sklearn.metrics import mean_absolute_error,make_scorer\n",
    "from sklearn.preprocessing import StandardScaler\n",
    "#Perforing grid search\n",
    " \n",
    "from sklearn.model_selection import GridSearchCV,train_test_split\n",
    "from scipy.sparse import csr_matrix,hstack\n",
    "from xgboost.sklearn import XGBClassifier\n",
    "# #Additional scklearn functions\n",
    "# from sklearn import model_selection,metrics   \n",
    "\n",
    "\n",
    "# from sklearn.metrics import confusion_matrix\n",
    "# 导入混淆矩阵\n",
    " \n",
    "from matplotlib.pylab import rcParams\n",
    "import warnings\n",
    "warnings.filterwarnings('ignore')\n",
    "%matplotlib inline\n",
    "\n",
    "# This may raise an exception in earlier version of Jupyter\n",
    "%config InlineBackend.figure_format = 'retina'"
   ]
  },
  {
   "cell_type": "code",
   "execution_count": 2,
   "metadata": {},
   "outputs": [
    {
     "data": {
      "text/html": [
       "<div>\n",
       "<style scoped>\n",
       "    .dataframe tbody tr th:only-of-type {\n",
       "        vertical-align: middle;\n",
       "    }\n",
       "\n",
       "    .dataframe tbody tr th {\n",
       "        vertical-align: top;\n",
       "    }\n",
       "\n",
       "    .dataframe thead th {\n",
       "        text-align: right;\n",
       "    }\n",
       "</style>\n",
       "<table border=\"1\" class=\"dataframe\">\n",
       "  <thead>\n",
       "    <tr style=\"text-align: right;\">\n",
       "      <th></th>\n",
       "      <th>QuoteNumber</th>\n",
       "      <th>QuoteConversion_Flag</th>\n",
       "      <th>Field7</th>\n",
       "      <th>Field8</th>\n",
       "      <th>Field9</th>\n",
       "      <th>Field11</th>\n",
       "      <th>CoverageField1A</th>\n",
       "      <th>CoverageField1B</th>\n",
       "      <th>CoverageField2A</th>\n",
       "      <th>CoverageField2B</th>\n",
       "      <th>...</th>\n",
       "      <th>GeographicField59A</th>\n",
       "      <th>GeographicField59B</th>\n",
       "      <th>GeographicField60A</th>\n",
       "      <th>GeographicField60B</th>\n",
       "      <th>GeographicField61A</th>\n",
       "      <th>GeographicField61B</th>\n",
       "      <th>GeographicField62A</th>\n",
       "      <th>GeographicField62B</th>\n",
       "      <th>Col_mean</th>\n",
       "      <th>log_loss</th>\n",
       "    </tr>\n",
       "  </thead>\n",
       "  <tbody>\n",
       "    <tr>\n",
       "      <th>0</th>\n",
       "      <td>2</td>\n",
       "      <td>-0.480401</td>\n",
       "      <td>-1.529685</td>\n",
       "      <td>1.678661</td>\n",
       "      <td>1.715917</td>\n",
       "      <td>0.689719</td>\n",
       "      <td>-0.540219</td>\n",
       "      <td>-0.692648</td>\n",
       "      <td>-0.549231</td>\n",
       "      <td>-0.695431</td>\n",
       "      <td>...</td>\n",
       "      <td>-0.301258</td>\n",
       "      <td>-0.422795</td>\n",
       "      <td>-0.160067</td>\n",
       "      <td>-0.276230</td>\n",
       "      <td>-0.160935</td>\n",
       "      <td>0.553833</td>\n",
       "      <td>-0.16126</td>\n",
       "      <td>1.008230</td>\n",
       "      <td>0.025247</td>\n",
       "      <td>-3.679044</td>\n",
       "    </tr>\n",
       "    <tr>\n",
       "      <th>1</th>\n",
       "      <td>4</td>\n",
       "      <td>-0.480401</td>\n",
       "      <td>-1.529685</td>\n",
       "      <td>1.678661</td>\n",
       "      <td>1.715917</td>\n",
       "      <td>0.689719</td>\n",
       "      <td>-0.360895</td>\n",
       "      <td>-0.138574</td>\n",
       "      <td>-0.369391</td>\n",
       "      <td>-0.140777</td>\n",
       "      <td>...</td>\n",
       "      <td>0.587460</td>\n",
       "      <td>0.686218</td>\n",
       "      <td>-0.160067</td>\n",
       "      <td>1.108825</td>\n",
       "      <td>-0.160935</td>\n",
       "      <td>-0.285888</td>\n",
       "      <td>-0.16126</td>\n",
       "      <td>-1.050414</td>\n",
       "      <td>0.121371</td>\n",
       "      <td>-2.108905</td>\n",
       "    </tr>\n",
       "    <tr>\n",
       "      <th>2</th>\n",
       "      <td>8</td>\n",
       "      <td>-0.480401</td>\n",
       "      <td>0.637518</td>\n",
       "      <td>0.238752</td>\n",
       "      <td>-0.572467</td>\n",
       "      <td>1.213544</td>\n",
       "      <td>-0.181571</td>\n",
       "      <td>-0.000056</td>\n",
       "      <td>-0.189552</td>\n",
       "      <td>-0.002113</td>\n",
       "      <td>...</td>\n",
       "      <td>1.120691</td>\n",
       "      <td>1.240725</td>\n",
       "      <td>-0.160067</td>\n",
       "      <td>-0.414736</td>\n",
       "      <td>-0.160935</td>\n",
       "      <td>-0.285888</td>\n",
       "      <td>-0.16126</td>\n",
       "      <td>-0.364199</td>\n",
       "      <td>0.117368</td>\n",
       "      <td>-2.142442</td>\n",
       "    </tr>\n",
       "    <tr>\n",
       "      <th>3</th>\n",
       "      <td>12</td>\n",
       "      <td>-0.480401</td>\n",
       "      <td>-0.581534</td>\n",
       "      <td>0.238752</td>\n",
       "      <td>-0.572467</td>\n",
       "      <td>1.213544</td>\n",
       "      <td>0.715049</td>\n",
       "      <td>0.969574</td>\n",
       "      <td>0.709646</td>\n",
       "      <td>0.968531</td>\n",
       "      <td>...</td>\n",
       "      <td>-0.301258</td>\n",
       "      <td>-0.284168</td>\n",
       "      <td>-0.160067</td>\n",
       "      <td>1.385836</td>\n",
       "      <td>-0.160935</td>\n",
       "      <td>1.673460</td>\n",
       "      <td>-0.16126</td>\n",
       "      <td>-0.021092</td>\n",
       "      <td>0.594030</td>\n",
       "      <td>-0.520826</td>\n",
       "    </tr>\n",
       "    <tr>\n",
       "      <th>4</th>\n",
       "      <td>13</td>\n",
       "      <td>-0.480401</td>\n",
       "      <td>0.637518</td>\n",
       "      <td>-0.338290</td>\n",
       "      <td>-0.707077</td>\n",
       "      <td>0.888293</td>\n",
       "      <td>1.253021</td>\n",
       "      <td>1.385130</td>\n",
       "      <td>1.429005</td>\n",
       "      <td>1.384522</td>\n",
       "      <td>...</td>\n",
       "      <td>1.120691</td>\n",
       "      <td>1.240725</td>\n",
       "      <td>-0.160067</td>\n",
       "      <td>0.831814</td>\n",
       "      <td>-0.160935</td>\n",
       "      <td>-0.005981</td>\n",
       "      <td>-0.16126</td>\n",
       "      <td>-1.050414</td>\n",
       "      <td>0.248216</td>\n",
       "      <td>-1.393454</td>\n",
       "    </tr>\n",
       "  </tbody>\n",
       "</table>\n",
       "<p>5 rows × 271 columns</p>\n",
       "</div>"
      ],
      "text/plain": [
       "   QuoteNumber  QuoteConversion_Flag    Field7    Field8    Field9   Field11  \\\n",
       "0            2             -0.480401 -1.529685  1.678661  1.715917  0.689719   \n",
       "1            4             -0.480401 -1.529685  1.678661  1.715917  0.689719   \n",
       "2            8             -0.480401  0.637518  0.238752 -0.572467  1.213544   \n",
       "3           12             -0.480401 -0.581534  0.238752 -0.572467  1.213544   \n",
       "4           13             -0.480401  0.637518 -0.338290 -0.707077  0.888293   \n",
       "\n",
       "   CoverageField1A  CoverageField1B  CoverageField2A  CoverageField2B  ...  \\\n",
       "0        -0.540219        -0.692648        -0.549231        -0.695431  ...   \n",
       "1        -0.360895        -0.138574        -0.369391        -0.140777  ...   \n",
       "2        -0.181571        -0.000056        -0.189552        -0.002113  ...   \n",
       "3         0.715049         0.969574         0.709646         0.968531  ...   \n",
       "4         1.253021         1.385130         1.429005         1.384522  ...   \n",
       "\n",
       "   GeographicField59A  GeographicField59B  GeographicField60A  \\\n",
       "0           -0.301258           -0.422795           -0.160067   \n",
       "1            0.587460            0.686218           -0.160067   \n",
       "2            1.120691            1.240725           -0.160067   \n",
       "3           -0.301258           -0.284168           -0.160067   \n",
       "4            1.120691            1.240725           -0.160067   \n",
       "\n",
       "   GeographicField60B  GeographicField61A  GeographicField61B  \\\n",
       "0           -0.276230           -0.160935            0.553833   \n",
       "1            1.108825           -0.160935           -0.285888   \n",
       "2           -0.414736           -0.160935           -0.285888   \n",
       "3            1.385836           -0.160935            1.673460   \n",
       "4            0.831814           -0.160935           -0.005981   \n",
       "\n",
       "   GeographicField62A  GeographicField62B  Col_mean  log_loss  \n",
       "0            -0.16126            1.008230  0.025247 -3.679044  \n",
       "1            -0.16126           -1.050414  0.121371 -2.108905  \n",
       "2            -0.16126           -0.364199  0.117368 -2.142442  \n",
       "3            -0.16126           -0.021092  0.594030 -0.520826  \n",
       "4            -0.16126           -1.050414  0.248216 -1.393454  \n",
       "\n",
       "[5 rows x 271 columns]"
      ]
     },
     "execution_count": 2,
     "metadata": {},
     "output_type": "execute_result"
    }
   ],
   "source": [
    "# 因为数据中含有string,不能转换为float,所以不用删除string\n",
    "train = pd.read_csv('./data/csv/Homesite_Quote_Conversion/last_train/loss_train.csv')\n",
    "train.head()"
   ]
  },
  {
   "cell_type": "markdown",
   "metadata": {},
   "source": [
    "# 发现是否有重复索引，可以通过DataFrame.index.is_unique进行判断"
   ]
  },
  {
   "cell_type": "code",
   "execution_count": 39,
   "metadata": {},
   "outputs": [
    {
     "data": {
      "text/plain": [
       "True"
      ]
     },
     "execution_count": 39,
     "metadata": {},
     "output_type": "execute_result"
    }
   ],
   "source": [
    "\n",
    "train_x.index.is_unique"
   ]
  },
  {
   "cell_type": "markdown",
   "metadata": {},
   "source": [
    "# 去除重复索引值来纠正错误"
   ]
  },
  {
   "cell_type": "code",
   "execution_count": 36,
   "metadata": {},
   "outputs": [],
   "source": [
    "\n",
    "train= train.groupby(train.index).first()"
   ]
  },
  {
   "cell_type": "code",
   "execution_count": 40,
   "metadata": {},
   "outputs": [
    {
     "name": "stdout",
     "output_type": "stream",
     "text": [
      "Categorical features: 0\n",
      "Numberical features: 268\n"
     ]
    }
   ],
   "source": [
    "features = [x for x in train.columns if x not in ['QuoteNumber','Col_mean','log_loss']]\n",
    "\n",
    "cat_features = [x for x in train.select_dtypes(\n",
    "include=['object']).columns if x not in ['QuoteNumber','Col_mean','log_loss']]\n",
    "\n",
    "num_features = [x for x in train.select_dtypes(\n",
    "include=['float']).columns if x not in ['QuoteNumber','Col_mean','log_loss']]\n",
    "\n",
    "print('Categorical features:',len(cat_features))\n",
    "print('Numberical features:',len(num_features))"
   ]
  },
  {
   "cell_type": "code",
   "execution_count": 41,
   "metadata": {},
   "outputs": [
    {
     "name": "stdout",
     "output_type": "stream",
     "text": [
      "Xtrain: (115299, 268)\n",
      "ytrain: (115299,)\n"
     ]
    }
   ],
   "source": [
    "ntrain = train.shape[0]\n",
    "\n",
    "train_x = train[features]\n",
    "train_y = train['Col_mean']\n",
    "\n",
    "for c in range(len(cat_features)):\n",
    "    train_x[cat_features[c]] = train_x[cat_features[c]].astype('category').cat.codes\n",
    "    \n",
    "print('Xtrain:',train_x.shape)\n",
    "print('ytrain:',train_y.shape)"
   ]
  },
  {
   "cell_type": "code",
   "execution_count": 42,
   "metadata": {},
   "outputs": [
    {
     "data": {
      "text/html": [
       "<div>\n",
       "<style scoped>\n",
       "    .dataframe tbody tr th:only-of-type {\n",
       "        vertical-align: middle;\n",
       "    }\n",
       "\n",
       "    .dataframe tbody tr th {\n",
       "        vertical-align: top;\n",
       "    }\n",
       "\n",
       "    .dataframe thead th {\n",
       "        text-align: right;\n",
       "    }\n",
       "</style>\n",
       "<table border=\"1\" class=\"dataframe\">\n",
       "  <thead>\n",
       "    <tr style=\"text-align: right;\">\n",
       "      <th></th>\n",
       "      <th>QuoteConversion_Flag</th>\n",
       "      <th>Field7</th>\n",
       "      <th>Field8</th>\n",
       "      <th>Field9</th>\n",
       "      <th>Field11</th>\n",
       "      <th>CoverageField1A</th>\n",
       "      <th>CoverageField1B</th>\n",
       "      <th>CoverageField2A</th>\n",
       "      <th>CoverageField2B</th>\n",
       "      <th>CoverageField3A</th>\n",
       "      <th>...</th>\n",
       "      <th>GeographicField58A</th>\n",
       "      <th>GeographicField58B</th>\n",
       "      <th>GeographicField59A</th>\n",
       "      <th>GeographicField59B</th>\n",
       "      <th>GeographicField60A</th>\n",
       "      <th>GeographicField60B</th>\n",
       "      <th>GeographicField61A</th>\n",
       "      <th>GeographicField61B</th>\n",
       "      <th>GeographicField62A</th>\n",
       "      <th>GeographicField62B</th>\n",
       "    </tr>\n",
       "  </thead>\n",
       "  <tbody>\n",
       "    <tr>\n",
       "      <th>0</th>\n",
       "      <td>-0.480401</td>\n",
       "      <td>-1.529685</td>\n",
       "      <td>1.678661</td>\n",
       "      <td>1.715917</td>\n",
       "      <td>0.689719</td>\n",
       "      <td>-0.540219</td>\n",
       "      <td>-0.692648</td>\n",
       "      <td>-0.549231</td>\n",
       "      <td>-0.695431</td>\n",
       "      <td>-0.726413</td>\n",
       "      <td>...</td>\n",
       "      <td>-0.654825</td>\n",
       "      <td>-0.829494</td>\n",
       "      <td>-0.301258</td>\n",
       "      <td>-0.422795</td>\n",
       "      <td>-0.160067</td>\n",
       "      <td>-0.276230</td>\n",
       "      <td>-0.160935</td>\n",
       "      <td>0.553833</td>\n",
       "      <td>-0.16126</td>\n",
       "      <td>1.008230</td>\n",
       "    </tr>\n",
       "    <tr>\n",
       "      <th>1</th>\n",
       "      <td>-0.480401</td>\n",
       "      <td>-1.529685</td>\n",
       "      <td>1.678661</td>\n",
       "      <td>1.715917</td>\n",
       "      <td>0.689719</td>\n",
       "      <td>-0.360895</td>\n",
       "      <td>-0.138574</td>\n",
       "      <td>-0.369391</td>\n",
       "      <td>-0.140777</td>\n",
       "      <td>-0.547191</td>\n",
       "      <td>...</td>\n",
       "      <td>0.079334</td>\n",
       "      <td>0.279141</td>\n",
       "      <td>0.587460</td>\n",
       "      <td>0.686218</td>\n",
       "      <td>-0.160067</td>\n",
       "      <td>1.108825</td>\n",
       "      <td>-0.160935</td>\n",
       "      <td>-0.285888</td>\n",
       "      <td>-0.16126</td>\n",
       "      <td>-1.050414</td>\n",
       "    </tr>\n",
       "    <tr>\n",
       "      <th>2</th>\n",
       "      <td>-0.480401</td>\n",
       "      <td>0.637518</td>\n",
       "      <td>0.238752</td>\n",
       "      <td>-0.572467</td>\n",
       "      <td>1.213544</td>\n",
       "      <td>-0.181571</td>\n",
       "      <td>-0.000056</td>\n",
       "      <td>-0.189552</td>\n",
       "      <td>-0.002113</td>\n",
       "      <td>-0.367969</td>\n",
       "      <td>...</td>\n",
       "      <td>-0.287745</td>\n",
       "      <td>-0.413756</td>\n",
       "      <td>1.120691</td>\n",
       "      <td>1.240725</td>\n",
       "      <td>-0.160067</td>\n",
       "      <td>-0.414736</td>\n",
       "      <td>-0.160935</td>\n",
       "      <td>-0.285888</td>\n",
       "      <td>-0.16126</td>\n",
       "      <td>-0.364199</td>\n",
       "    </tr>\n",
       "    <tr>\n",
       "      <th>3</th>\n",
       "      <td>-0.480401</td>\n",
       "      <td>-0.581534</td>\n",
       "      <td>0.238752</td>\n",
       "      <td>-0.572467</td>\n",
       "      <td>1.213544</td>\n",
       "      <td>0.715049</td>\n",
       "      <td>0.969574</td>\n",
       "      <td>0.709646</td>\n",
       "      <td>0.968531</td>\n",
       "      <td>1.424249</td>\n",
       "      <td>...</td>\n",
       "      <td>-0.104206</td>\n",
       "      <td>-0.136597</td>\n",
       "      <td>-0.301258</td>\n",
       "      <td>-0.284168</td>\n",
       "      <td>-0.160067</td>\n",
       "      <td>1.385836</td>\n",
       "      <td>-0.160935</td>\n",
       "      <td>1.673460</td>\n",
       "      <td>-0.16126</td>\n",
       "      <td>-0.021092</td>\n",
       "    </tr>\n",
       "    <tr>\n",
       "      <th>4</th>\n",
       "      <td>-0.480401</td>\n",
       "      <td>0.637518</td>\n",
       "      <td>-0.338290</td>\n",
       "      <td>-0.707077</td>\n",
       "      <td>0.888293</td>\n",
       "      <td>1.253021</td>\n",
       "      <td>1.385130</td>\n",
       "      <td>1.429005</td>\n",
       "      <td>1.384522</td>\n",
       "      <td>1.065806</td>\n",
       "      <td>...</td>\n",
       "      <td>-1.572523</td>\n",
       "      <td>-1.522392</td>\n",
       "      <td>1.120691</td>\n",
       "      <td>1.240725</td>\n",
       "      <td>-0.160067</td>\n",
       "      <td>0.831814</td>\n",
       "      <td>-0.160935</td>\n",
       "      <td>-0.005981</td>\n",
       "      <td>-0.16126</td>\n",
       "      <td>-1.050414</td>\n",
       "    </tr>\n",
       "  </tbody>\n",
       "</table>\n",
       "<p>5 rows × 268 columns</p>\n",
       "</div>"
      ],
      "text/plain": [
       "   QuoteConversion_Flag    Field7    Field8    Field9   Field11  \\\n",
       "0             -0.480401 -1.529685  1.678661  1.715917  0.689719   \n",
       "1             -0.480401 -1.529685  1.678661  1.715917  0.689719   \n",
       "2             -0.480401  0.637518  0.238752 -0.572467  1.213544   \n",
       "3             -0.480401 -0.581534  0.238752 -0.572467  1.213544   \n",
       "4             -0.480401  0.637518 -0.338290 -0.707077  0.888293   \n",
       "\n",
       "   CoverageField1A  CoverageField1B  CoverageField2A  CoverageField2B  \\\n",
       "0        -0.540219        -0.692648        -0.549231        -0.695431   \n",
       "1        -0.360895        -0.138574        -0.369391        -0.140777   \n",
       "2        -0.181571        -0.000056        -0.189552        -0.002113   \n",
       "3         0.715049         0.969574         0.709646         0.968531   \n",
       "4         1.253021         1.385130         1.429005         1.384522   \n",
       "\n",
       "   CoverageField3A  ...  GeographicField58A  GeographicField58B  \\\n",
       "0        -0.726413  ...           -0.654825           -0.829494   \n",
       "1        -0.547191  ...            0.079334            0.279141   \n",
       "2        -0.367969  ...           -0.287745           -0.413756   \n",
       "3         1.424249  ...           -0.104206           -0.136597   \n",
       "4         1.065806  ...           -1.572523           -1.522392   \n",
       "\n",
       "   GeographicField59A  GeographicField59B  GeographicField60A  \\\n",
       "0           -0.301258           -0.422795           -0.160067   \n",
       "1            0.587460            0.686218           -0.160067   \n",
       "2            1.120691            1.240725           -0.160067   \n",
       "3           -0.301258           -0.284168           -0.160067   \n",
       "4            1.120691            1.240725           -0.160067   \n",
       "\n",
       "   GeographicField60B  GeographicField61A  GeographicField61B  \\\n",
       "0           -0.276230           -0.160935            0.553833   \n",
       "1            1.108825           -0.160935           -0.285888   \n",
       "2           -0.414736           -0.160935           -0.285888   \n",
       "3            1.385836           -0.160935            1.673460   \n",
       "4            0.831814           -0.160935           -0.005981   \n",
       "\n",
       "   GeographicField62A  GeographicField62B  \n",
       "0            -0.16126            1.008230  \n",
       "1            -0.16126           -1.050414  \n",
       "2            -0.16126           -0.364199  \n",
       "3            -0.16126           -0.021092  \n",
       "4            -0.16126           -1.050414  \n",
       "\n",
       "[5 rows x 268 columns]"
      ]
     },
     "execution_count": 42,
     "metadata": {},
     "output_type": "execute_result"
    }
   ],
   "source": [
    "train_x.head()"
   ]
  },
  {
   "cell_type": "code",
   "execution_count": 43,
   "metadata": {},
   "outputs": [
    {
     "data": {
      "text/plain": [
       "0    0.025247\n",
       "1    0.121371\n",
       "2    0.117368\n",
       "3    0.594030\n",
       "4    0.248216\n",
       "Name: Col_mean, dtype: float64"
      ]
     },
     "execution_count": 43,
     "metadata": {},
     "output_type": "execute_result"
    }
   ],
   "source": [
    "train_y.head()"
   ]
  },
  {
   "cell_type": "code",
   "execution_count": 44,
   "metadata": {},
   "outputs": [],
   "source": [
    "# 评估方法,评估策略\n",
    "def xg_eval_mae(yhat,dtrain):\n",
    "    y = dtrain.get_label()\n",
    "    return 'mae',mean_absolute_error(np.exp(y),np.exp(yhat))"
   ]
  },
  {
   "cell_type": "markdown",
   "metadata": {},
   "source": [
    "# Model"
   ]
  },
  {
   "cell_type": "code",
   "execution_count": 45,
   "metadata": {},
   "outputs": [],
   "source": [
    "# 转换数据格式，转换成xgboost 底层所支持的格式\n",
    "dtrain = xgb.DMatrix(train_x,train['Col_mean'])\n",
    "### load data in do training"
   ]
  },
  {
   "cell_type": "code",
   "execution_count": 46,
   "metadata": {},
   "outputs": [],
   "source": [
    "xgb_param = {'seed':0,\n",
    "             'max_depth':5, \n",
    "             'eta':0.1, \n",
    "             'objective':'reg:linear',\n",
    "             'min_child_weight':3,\n",
    "             'subsample':0.5,\n",
    "             'colsample_bytree':0.5}"
   ]
  },
  {
   "cell_type": "markdown",
   "metadata": {},
   "source": [
    "# 使用交叉验证"
   ]
  },
  {
   "cell_type": "code",
   "execution_count": 10,
   "metadata": {},
   "outputs": [
    {
     "name": "stdout",
     "output_type": "stream",
     "text": [
      "[12:22:50] WARNING: C:/Jenkins/workspace/xgboost-win64_release_0.90/src/objective/regression_obj.cu:152: reg:linear is now deprecated in favor of reg:squarederror.\n",
      "[12:22:52] WARNING: C:/Jenkins/workspace/xgboost-win64_release_0.90/src/objective/regression_obj.cu:152: reg:linear is now deprecated in favor of reg:squarederror.\n",
      "[12:22:53] WARNING: C:/Jenkins/workspace/xgboost-win64_release_0.90/src/objective/regression_obj.cu:152: reg:linear is now deprecated in favor of reg:squarederror.\n",
      "Wall time: 25.9 s\n"
     ]
    }
   ],
   "source": [
    "%%time\n",
    "\n",
    "bst_cv1 = xgb.cv(xgb_param,dtrain,num_boost_round=50,nfold=3,seed=0,feval=xg_eval_mae,\n",
    "                maximize=False,early_stopping_rounds=10)"
   ]
  },
  {
   "cell_type": "code",
   "execution_count": 11,
   "metadata": {},
   "outputs": [
    {
     "name": "stdout",
     "output_type": "stream",
     "text": [
      "CV score: 0.04904666666666666\n"
     ]
    }
   ],
   "source": [
    "print('CV score:',bst_cv1.iloc[-1,:]['test-mae-mean'])"
   ]
  },
  {
   "cell_type": "markdown",
   "metadata": {},
   "source": [
    "# 因为出现这样的警告，所以采用平方误差（squarederror）重新做一遍：reg:linear is now deprecated in favor of reg:squarederror.\n",
    "\n",
    "# 其他都不变，再看一下结果"
   ]
  },
  {
   "cell_type": "code",
   "execution_count": 12,
   "metadata": {},
   "outputs": [],
   "source": [
    "xgb_param1 = {'seed':0,\n",
    "             'max_depth':5, \n",
    "             'eta':0.1, \n",
    "             'objective':'reg:squarederror',\n",
    "             'min_child_weight':3,\n",
    "             'subsample':0.5,\n",
    "             'colsample_bytree':0.5}"
   ]
  },
  {
   "cell_type": "code",
   "execution_count": 13,
   "metadata": {},
   "outputs": [
    {
     "name": "stdout",
     "output_type": "stream",
     "text": [
      "Wall time: 23.2 s\n"
     ]
    }
   ],
   "source": [
    "%%time\n",
    "\n",
    "bst_cv1 = xgb.cv(xgb_param1,dtrain,num_boost_round=50,nfold=3,seed=0,feval=xg_eval_mae,\n",
    "                maximize=False,early_stopping_rounds=10)"
   ]
  },
  {
   "cell_type": "code",
   "execution_count": 14,
   "metadata": {},
   "outputs": [
    {
     "name": "stdout",
     "output_type": "stream",
     "text": [
      "CV score: 0.04904666666666666\n"
     ]
    }
   ],
   "source": [
    "print('CV score:',bst_cv1.iloc[-1,:]['test-mae-mean'])"
   ]
  },
  {
   "cell_type": "markdown",
   "metadata": {},
   "source": [
    "# 我们得到了第一个基准结果：MAE=0.049"
   ]
  },
  {
   "cell_type": "markdown",
   "metadata": {},
   "source": [
    "# 可见结果是一样的，但是没有出现任何警告，因此就可以用leg:squarederror代替用来表示reg:linear"
   ]
  },
  {
   "cell_type": "code",
   "execution_count": 15,
   "metadata": {},
   "outputs": [
    {
     "data": {
      "text/plain": [
       "<matplotlib.axes._subplots.AxesSubplot at 0x23c3fd33ef0>"
      ]
     },
     "execution_count": 15,
     "metadata": {},
     "output_type": "execute_result"
    },
    {
     "data": {
      "text/plain": [
       "<Figure size 432x288 with 0 Axes>"
      ]
     },
     "metadata": {},
     "output_type": "display_data"
    },
    {
     "data": {
      "image/png": "[encoded data removed]",
      "text/plain": [
       "<Figure size 432x288 with 1 Axes>"
      ]
     },
     "metadata": {
      "image/png": {
       "height": 248,
       "width": 372
      },
      "needs_background": "light"
     },
     "output_type": "display_data"
    }
   ],
   "source": [
    "# 画图展示结果\n",
    "plt.figure()\n",
    "bst_cv1[['train-mae-mean','test-mae-mean']].plot()"
   ]
  },
  {
   "cell_type": "markdown",
   "metadata": {},
   "source": [
    "# 在以上我们的第一个基础的模型中：没有发生过拟合，只是建立了50个树模型"
   ]
  },
  {
   "cell_type": "markdown",
   "metadata": {},
   "source": [
    "# 1.首先调节数的个数，观察结果的变化"
   ]
  },
  {
   "cell_type": "code",
   "execution_count": 27,
   "metadata": {},
   "outputs": [
    {
     "name": "stdout",
     "output_type": "stream",
     "text": [
      "CV score: 0.038032666666666666\n",
      "Wall time: 47.3 s\n"
     ]
    }
   ],
   "source": [
    "%%time\n",
    "# 建立100个树模型\n",
    "bst_cv2 = xgb.cv(xgb_param1,dtrain,num_boost_round=100,nfold=3,seed=0,\n",
    "                 feval=xg_eval_mae,maximize=False,early_stopping_rounds=10)\n",
    "\n",
    "print('CV score:',bst_cv2.iloc[-1,:]['test-mae-mean'])"
   ]
  },
  {
   "cell_type": "markdown",
   "metadata": {},
   "source": [
    "# 可见树模型的个数对结果还是有影响的\n",
    "# 但是树的模型过多的话，迭代的速度慢，而且过拟合的风险也会更大"
   ]
  },
  {
   "cell_type": "code",
   "execution_count": 28,
   "metadata": {},
   "outputs": [
    {
     "data": {
      "text/plain": [
       "<matplotlib.legend.Legend at 0x2e7180fc208>"
      ]
     },
     "execution_count": 28,
     "metadata": {},
     "output_type": "execute_result"
    },
    {
     "data": {
      "image/png": "[encoded data removed]",
      "text/plain": [
       "<Figure size 1152x288 with 2 Axes>"
      ]
     },
     "metadata": {
      "image/png": {
       "height": 277,
       "width": 943
      },
      "needs_background": "light"
     },
     "output_type": "display_data"
    }
   ],
   "source": [
    "fig,(ax1,ax2) = plt.subplots(1,2)\n",
    "fig.set_size_inches(16,4)\n",
    "\n",
    "ax1.set_title('100 rounds of training')\n",
    "ax1.set_xlabel('Rounds')\n",
    "ax1.set_ylabel('Loss Rate')\n",
    "ax1.grid(True)\n",
    "ax1.plot(bst_cv2[['train-mae-mean','test-mae-mean']])\n",
    "ax1.legend(['Training Loss','Test Loss'])\n",
    "\n",
    "ax2.set_title('60 last rounds of training')\n",
    "ax2.set_xlabel('Rounds')\n",
    "ax2.set_ylabel('Loss Rate')\n",
    "ax2.grid(True)\n",
    "ax2.plot(bst_cv2.iloc[40:][['train-mae-mean','test-mae-mean']])\n",
    "ax2.legend(['Training Loss','Test Loss'])"
   ]
  },
  {
   "cell_type": "markdown",
   "metadata": {},
   "source": [
    "# 接下里改变其他参数\n",
    "# XGBoost参数调节\n",
    "- Step 1:选择一组初始参数\n",
    "- Step 2:改变max_depth和min_child_weight\n",
    "- Step 3:调节gamma降低模型过拟合的风险\n",
    "- Step 4:调节sybsample和colsample_bytree改变数据采样策略\n",
    "- Step 5:调节学习率eta"
   ]
  },
  {
   "cell_type": "code",
   "execution_count": 61,
   "metadata": {},
   "outputs": [],
   "source": [
    "#首先先指定了一个xgboost的类\n",
    "class XGBoostRegressor(object):\n",
    "    def __init__(self,**kwargs):\n",
    "        self.params = kwargs\n",
    "        if 'num_boost_round' in self.params:\n",
    "            self.num_boost_round = self.params['num_boost_round']\n",
    "        self.params.update({'slient':1,'objective':'reg:linear','seed':0})\n",
    "    \n",
    "    def fit(self,x_train,y_train):\n",
    "        dtrain = xgb.DMatrix(x_train,y_train)\n",
    "        self.bst = xgb.train(params=self.params,dtrain=dtrain,\n",
    "                             num_boost_round=self.num_boost_round,\n",
    "                            feval=xg_eval_mae,maximize=False)\n",
    "        \n",
    "    def predict(self,x_pred):\n",
    "        dpred = xgb.DMatrix(x_pred)\n",
    "        return self.bst.predict(dpred)\n",
    "    \n",
    "    def kfold(self,x_train,y_train,nfold=5):\n",
    "        dtrain=xgb.DMatrix(x_train,y_train)\n",
    "        cv_rounds = xgb.cv(params = self.params,dtrain=dtrain,\n",
    "                           num_boost_round=self.num_boost_round,\n",
    "                           nfold=nfold,\n",
    "                           feval=xg_eval_mae,\n",
    "                           maximize=False,\n",
    "                           early_stopping_rounds=10)\n",
    "        return cv_rounds.iloc[-1,:]\n",
    "    \n",
    "    def plot_feature_importances(self):\n",
    "        feat_imp = pd.Series(self.bst.get_fscore()).sort_values(ascending=False)\n",
    "        feat_imp.plot(title='Feature Importances')\n",
    "        plt.ylabbel('Feature Importance Score')\n",
    "        \n",
    "    def get_params(self,deep=True):\n",
    "        return self.params\n",
    "    \n",
    "    def set_params(self,**params):\n",
    "        self.params.update(params)\n",
    "        return self"
   ]
  },
  {
   "cell_type": "code",
   "execution_count": 75,
   "metadata": {},
   "outputs": [],
   "source": [
    "# 指定了一个衡量标准\n",
    "def mae_score(y_true,y_pred):\n",
    "    return mean_absolute_error(np.exp(y_true),np.exp(y_pred))\n",
    "\n",
    "mae_scorer = make_scorer(mae_score,greater_is_better=False)"
   ]
  },
  {
   "cell_type": "code",
   "execution_count": 76,
   "metadata": {},
   "outputs": [],
   "source": [
    "bst = XGBoostRegressor(eta=0.1,\n",
    "                       colsample_bytree=0.5,\n",
    "                       subsample=0.5,\n",
    "                       max_depth=5,\n",
    "                       min_child_weight=3,\n",
    "                       num_boost_round=50)"
   ]
  },
  {
   "cell_type": "code",
   "execution_count": 77,
   "metadata": {},
   "outputs": [
    {
     "data": {
      "text/plain": [
       "train-mae-mean     0.046655\n",
       "train-mae-std      0.000495\n",
       "train-rmse-mean    0.050054\n",
       "train-rmse-std     0.000454\n",
       "test-mae-mean      0.049054\n",
       "test-mae-std       0.002351\n",
       "test-rmse-mean     0.054209\n",
       "test-rmse-std      0.002512\n",
       "Name: 49, dtype: float64"
      ]
     },
     "execution_count": 77,
     "metadata": {},
     "output_type": "execute_result"
    }
   ],
   "source": [
    "bst.kfold(train_x,train_y,nfold=5)"
   ]
  },
  {
   "cell_type": "markdown",
   "metadata": {},
   "source": [
    "# Step 1: 基准模型\n",
    "# Step 2: 数的深度与节点权重\n",
    "这些参数对xgboost的性能的影响最大，因此，他们应该调整第一\n",
    "- max_depth:数的最大深度，增加这个值会使模型更加复杂，也容易出现过拟合，深度为3-10也是更合理的\n",
    "- min_child_weight正则化参数，如果树分区中的治理权重小于定义的总和，则停止树的构建过程"
   ]
  },
  {
   "cell_type": "markdown",
   "metadata": {},
   "source": [
    "# 视频中设置的参数max_depth:list(range(4,10));\n",
    "# min_child_weight:list((1,3,6))\n",
    "- 还有交叉验证的次数cv设置为5,整整花费了老师30分钟来运行，所以在训练的时候就没有设置\n",
    "那么大"
   ]
  },
  {
   "cell_type": "code",
   "execution_count": 78,
   "metadata": {},
   "outputs": [
    {
     "data": {
      "text/plain": [
       "[4, 5, 6, 7]"
      ]
     },
     "execution_count": 78,
     "metadata": {},
     "output_type": "execute_result"
    }
   ],
   "source": [
    "xgb_param_grid = {'max_depth':list(range(4,8)),'min_child_weight':list((3,6))}\n",
    "xgb_param_grid['max_depth']"
   ]
  },
  {
   "cell_type": "code",
   "execution_count": 79,
   "metadata": {},
   "outputs": [
    {
     "name": "stdout",
     "output_type": "stream",
     "text": [
      "Wall time: 3min 13s\n"
     ]
    }
   ],
   "source": [
    "%%time\n",
    "\n",
    "# GridSearchCV() 函数中的scoring=评估标准\n",
    "grid = GridSearchCV(XGBoostRegressor(eta=0.1,num_boost_round=50,colsample_bytree=0.5,subsample=0.5),\n",
    "                    param_grid=xgb_param_grid,cv=3,scoring=mae_scorer)\n",
    "grid.fit(train_x,train_y.values)"
   ]
  },
  {
   "cell_type": "code",
   "execution_count": 81,
   "metadata": {},
   "outputs": [
    {
     "data": {
      "text/plain": [
       "({'mean_fit_time': array([5.66179895, 5.5580411 , 6.67538166, 6.7707986 , 7.43955406,\n",
       "         7.61204147, 8.8910315 , 8.43779286]),\n",
       "  'std_fit_time': array([0.09085135, 0.03073262, 0.15828579, 0.21354848, 0.33398969,\n",
       "         0.20378046, 0.48546974, 0.16139448]),\n",
       "  'mean_score_time': array([0.30619081, 0.32543214, 0.33565394, 0.32986164, 0.33133451,\n",
       "         0.35625291, 0.36782583, 0.35336328]),\n",
       "  'std_score_time': array([0.00664431, 0.01509197, 0.02763951, 0.01423152, 0.03081379,\n",
       "         0.01301744, 0.04464266, 0.00707856]),\n",
       "  'param_max_depth': masked_array(data=[4, 4, 5, 5, 6, 6, 7, 7],\n",
       "               mask=[False, False, False, False, False, False, False, False],\n",
       "         fill_value='?',\n",
       "              dtype=object),\n",
       "  'param_min_child_weight': masked_array(data=[3, 6, 3, 6, 3, 6, 3, 6],\n",
       "               mask=[False, False, False, False, False, False, False, False],\n",
       "         fill_value='?',\n",
       "              dtype=object),\n",
       "  'params': [{'max_depth': 4, 'min_child_weight': 3},\n",
       "   {'max_depth': 4, 'min_child_weight': 6},\n",
       "   {'max_depth': 5, 'min_child_weight': 3},\n",
       "   {'max_depth': 5, 'min_child_weight': 6},\n",
       "   {'max_depth': 6, 'min_child_weight': 3},\n",
       "   {'max_depth': 6, 'min_child_weight': 6},\n",
       "   {'max_depth': 7, 'min_child_weight': 3},\n",
       "   {'max_depth': 7, 'min_child_weight': 6}],\n",
       "  'split0_test_score': array([-0.05412944, -0.05448058, -0.04929027, -0.04913328, -0.04565691,\n",
       "         -0.04534207, -0.04272267, -0.04241862]),\n",
       "  'split1_test_score': array([-0.05350452, -0.05427495, -0.04911676, -0.04874461, -0.04483041,\n",
       "         -0.04480954, -0.04153543, -0.04201077]),\n",
       "  'split2_test_score': array([-0.05419643, -0.05424829, -0.04895627, -0.04911025, -0.0452904 ,\n",
       "         -0.04513107, -0.04214277, -0.04210612]),\n",
       "  'mean_test_score': array([-0.05394346, -0.05433461, -0.0491211 , -0.04899605, -0.04525924,\n",
       "         -0.04509422, -0.04213362, -0.0421785 ]),\n",
       "  'std_test_score': array([0.00031158, 0.00010379, 0.00013639, 0.00017804, 0.00033814,\n",
       "         0.00021896, 0.00048473, 0.00017419]),\n",
       "  'rank_test_score': array([7, 8, 6, 5, 4, 3, 1, 2])},\n",
       " {'max_depth': 7, 'min_child_weight': 3},\n",
       " -0.04213362112585423)"
      ]
     },
     "execution_count": 81,
     "metadata": {},
     "output_type": "execute_result"
    }
   ],
   "source": [
    "# AttributeError: 'GridSearchCV' object has no attribute 'grid_scores_'\n",
    "# grid.grid_scores_,grid.best_params_,grid.best_score_\n",
    "grid.cv_results_,grid.best_params_,grid.best_score_"
   ]
  },
  {
   "cell_type": "markdown",
   "metadata": {},
   "source": [
    "# 网格搜索发现的最好的一组值为 {'max_depth': 7, 'min_child_weight': 3},\n",
    " -0.04213362112585423)"
   ]
  },
  {
   "cell_type": "code",
   "execution_count": 110,
   "metadata": {},
   "outputs": [],
   "source": [
    "def convert_grid_scores(scores):\n",
    "    _params = []\n",
    "    _params_mae = []\n",
    "    for i in scores:\n",
    "        _params.append(i[0].values())\n",
    "        _params_mae.append(i[1])\n",
    "    params = np.array(_params)\n",
    "    grid_res = np.column_stack((_params,_params_mae))\n",
    "    return [grid_res[:,i] for i in range(grid_res.shape[1])]"
   ]
  },
  {
   "cell_type": "code",
   "execution_count": 112,
   "metadata": {},
   "outputs": [
    {
     "ename": "AttributeError",
     "evalue": "'GridSearchCV' object has no attribute 'grid_scores'",
     "output_type": "error",
     "traceback": [
      "\u001b[1;31m---------------------------------------------------------------------------\u001b[0m",
      "\u001b[1;31mAttributeError\u001b[0m                            Traceback (most recent call last)",
      "\u001b[1;32m<ipython-input-112-8dc6d837d302>\u001b[0m in \u001b[0;36m<module>\u001b[1;34m\u001b[0m\n\u001b[1;32m----> 1\u001b[1;33m \u001b[0m_\u001b[0m\u001b[1;33m,\u001b[0m\u001b[0mscores\u001b[0m \u001b[1;33m=\u001b[0m \u001b[0mconvert_grid_scores\u001b[0m\u001b[1;33m(\u001b[0m\u001b[0mgrid\u001b[0m\u001b[1;33m.\u001b[0m\u001b[0mgrid_scores\u001b[0m \u001b[1;33m)\u001b[0m\u001b[1;33m\u001b[0m\u001b[1;33m\u001b[0m\u001b[0m\n\u001b[0m\u001b[0;32m      2\u001b[0m \u001b[0mscores\u001b[0m \u001b[1;33m=\u001b[0m \u001b[0mscores\u001b[0m\u001b[1;33m.\u001b[0m\u001b[0mreshape\u001b[0m\u001b[1;33m(\u001b[0m\u001b[1;36m5\u001b[0m\u001b[1;33m,\u001b[0m\u001b[1;36m3\u001b[0m\u001b[1;33m)\u001b[0m\u001b[1;33m\u001b[0m\u001b[1;33m\u001b[0m\u001b[0m\n",
      "\u001b[1;31mAttributeError\u001b[0m: 'GridSearchCV' object has no attribute 'grid_scores'"
     ]
    }
   ],
   "source": [
    "_,scores = convert_grid_scores(grid.grid_scores )\n",
    "scores = scores.reshape(5,3)"
   ]
  },
  {
   "cell_type": "markdown",
   "metadata": {},
   "source": [
    "# 因为grid_scores_ 已经被删除了，可以用cv_results_ 来代替"
   ]
  },
  {
   "cell_type": "code",
   "execution_count": 104,
   "metadata": {},
   "outputs": [],
   "source": [
    "from sklearn.model_selection import GridSearchCV"
   ]
  },
  {
   "cell_type": "code",
   "execution_count": 116,
   "metadata": {},
   "outputs": [],
   "source": [
    "scores = []\n",
    "\n",
    "for grid_pair in grid.cv_results_['mean_test_score']:\n",
    "    scores.append(grid_pair)\n",
    "scores = np.array(scores)\n",
    "scores = scores.reshape(4,2)\n",
    "# 将 np。array() 形式的数组进行reshape() 要满足np.array的size的总数等于shape(m,n)的m*n\n",
    "\n",
    "# ---------------------------------------------------------------------------\n",
    "# ValueError                                Traceback (most recent call last)\n",
    "# <ipython-input-115-cdd0ef4a036b> in <module>\n",
    "#       6 # 将 np。array() 形式的数组进行reshape() 要满足np.array\n",
    "#       7 # http://www.voidcn.com/article/p-axlbcdof-oz.html\n",
    "# ----> 8 scores = scores.reshape(5,2)\n",
    "\n",
    "# ValueError: cannot reshape array of size 8 into shape (5,2)\n",
    "\n",
    "\n",
    "# reshape() 函数有关网址：http://www.voidcn.com/article/p-axlbcdof-oz.html"
   ]
  },
  {
   "cell_type": "markdown",
   "metadata": {},
   "source": [
    "# 将当前的结果画出来，画成热度图的形式\n",
    "\n",
    "# https://www.cnblogs.com/czz0508/p/10451735.html\n",
    "python可视化---annotate()函数\n",
    "函数功能：添加图形内容细节的指向型注释文本。\n",
    "\n",
    "调用签名：plt.annotate(string, xy=(np.pi/2, 1.0), xytext=((np.pi/2)+0.15, 1,5), weight=\"bold\", color=\"b\", arrowprops=dict(arrowstyle=\"->\", connectionstyle=\"arc3\", color=\"b\"))\n",
    "\n",
    "string：图形内容的注释文本\n",
    "\n",
    "xy：被注释图形内容的位置坐标\n",
    "\n",
    "xytext：注释文本的位置坐标\n",
    "\n",
    "weight：注释文本的字体粗细风格\n",
    "\n",
    "color：注释文本的字体颜色\n",
    "\n",
    "arrowprops：指示被注释内容的箭头的属性字典"
   ]
  },
  {
   "cell_type": "code",
   "execution_count": 126,
   "metadata": {},
   "outputs": [
    {
     "data": {
      "image/png": "[encoded data removed]",
      "text/plain": [
       "<Figure size 720x360 with 2 Axes>"
      ]
     },
     "metadata": {
      "image/png": {
       "height": 332,
       "width": 583
      },
      "needs_background": "light"
     },
     "output_type": "display_data"
    }
   ],
   "source": [
    "plt.figure(figsize=(10,5))\n",
    "cp = plt.contourf(xgb_param_grid['min_child_weight'],xgb_param_grid['max_depth'],scores,\n",
    "                  cmap='BrBG')\n",
    "plt.colorbar(cp)\n",
    "plt.title('Depth / min_child_weight optimization')\n",
    "plt.annotate('We use this',xy=(5.95,7.0),xytext=(4,6.8),\n",
    "             arrowprops=dict(facecolor='white'),color='white')\n",
    "plt.annotate('Good for depth=7',xy=(5.8,6.08),xytext=(4,6.2),\n",
    "             arrowprops=dict(facecolor='white'),color='white')\n",
    "plt.xlabel('min_child_weight')\n",
    "plt.ylabel('max_depth')\n",
    "plt.grid(True)\n",
    "plt.show()            "
   ]
  },
  {
   "cell_type": "markdown",
   "metadata": {},
   "source": [
    "# 我们可以看到，从网格搜索的结果，分数的提高只要是基于max_depth和min_child_weight\n",
    "稍有影响的，但是min_child_weight = 6会更好一些"
   ]
  },
  {
   "cell_type": "markdown",
   "metadata": {},
   "source": [
    "# Step 3: 调节amma去降低过拟合的风险"
   ]
  },
  {
   "cell_type": "code",
   "execution_count": 131,
   "metadata": {},
   "outputs": [
    {
     "name": "stdout",
     "output_type": "stream",
     "text": [
      "Wall time: 1min 44s\n"
     ]
    }
   ],
   "source": [
    "%%time\n",
    "\n",
    "xgb_param_grid = {'gamma':[0.1 * i for i in range(0,3)]}\n",
    "\n",
    "grid = GridSearchCV(XGBoostRegressor(eta=0.1,\n",
    "                                     num_boost_round=50,\n",
    "                                     max_depth=7,\n",
    "                                     min_child_weight=3,\n",
    "                                     colsample_bytree=0.2,\n",
    "                                     subsample=0.2),\n",
    "                   param_grid=xgb_param_grid,cv=5,scoring=mae_scorer)\n",
    "\n",
    "grid.fit(train_x,train_y.values)"
   ]
  },
  {
   "cell_type": "code",
   "execution_count": 132,
   "metadata": {},
   "outputs": [
    {
     "data": {
      "text/plain": [
       "({'mean_fit_time': array([6.24912925, 6.01706071, 6.00454192]),\n",
       "  'std_fit_time': array([0.5552469 , 0.18644234, 0.09038789]),\n",
       "  'mean_score_time': array([0.21660056, 0.21749134, 0.22102995]),\n",
       "  'std_score_time': array([0.01063277, 0.00822479, 0.0130815 ]),\n",
       "  'param_gamma': masked_array(data=[0.0, 0.1, 0.2],\n",
       "               mask=[False, False, False],\n",
       "         fill_value='?',\n",
       "              dtype=object),\n",
       "  'params': [{'gamma': 0.0}, {'gamma': 0.1}, {'gamma': 0.2}],\n",
       "  'split0_test_score': array([-0.04427614, -0.04487616, -0.04591411]),\n",
       "  'split1_test_score': array([-0.04530256, -0.04593422, -0.04708266]),\n",
       "  'split2_test_score': array([-0.04468924, -0.04512318, -0.04640311]),\n",
       "  'split3_test_score': array([-0.04385235, -0.04463152, -0.04633564]),\n",
       "  'split4_test_score': array([-0.04472672, -0.04518176, -0.04712316]),\n",
       "  'mean_test_score': array([-0.0445694 , -0.04514937, -0.04657173]),\n",
       "  'std_test_score': array([0.00048514, 0.0004383 , 0.00046514]),\n",
       "  'rank_test_score': array([1, 2, 3])},\n",
       " {'gamma': 0.0},\n",
       " -0.04456940188091241)"
      ]
     },
     "execution_count": 132,
     "metadata": {},
     "output_type": "execute_result"
    }
   ],
   "source": [
    "grid.cv_results_,grid.best_params_,grid.best_score_"
   ]
  },
  {
   "cell_type": "markdown",
   "metadata": {},
   "source": [
    "# 选择使用偏小一些的gamma"
   ]
  },
  {
   "cell_type": "markdown",
   "metadata": {},
   "source": [
    "# Step 4: 调节样本采样的方式：subsample和colsample_bytree"
   ]
  },
  {
   "cell_type": "code",
   "execution_count": 137,
   "metadata": {},
   "outputs": [
    {
     "name": "stdout",
     "output_type": "stream",
     "text": [
      "Wall time: 2min 28s\n"
     ]
    }
   ],
   "source": [
    "%%time\n",
    "\n",
    "xgb_param_grid = {'subsample':[0.1 * i for i in range(2,5)],\n",
    "                 'colsample_bytree':[0.1 * i for i in range(2,5)]}\n",
    "\n",
    "# 其他的已经跳过的参数，选择最好的一组参数，利用，这里为了简单点改变了\n",
    "# max_depth,min_child_weight没有改变\n",
    "\n",
    "grid = GridSearchCV(XGBoostRegressor(eta=0.1,\n",
    "                                     num_boost_round=50,\n",
    "                                     max_depth=4,\n",
    "                                     min_child_weight=6,\n",
    "                                     gamma=0.2),\n",
    "                   param_grid=xgb_param_grid,cv=3,scoring=mae_scorer)\n",
    "\n",
    "grid.fit(train_x,train_y.values)"
   ]
  },
  {
   "cell_type": "code",
   "execution_count": 138,
   "metadata": {},
   "outputs": [
    {
     "data": {
      "text/plain": [
       "({'mean_fit_time': array([3.80113236, 4.11230485, 4.63221041, 4.55821435, 4.94105403,\n",
       "         5.45109042, 4.79093377, 5.27027702, 5.53384113]),\n",
       "  'std_fit_time': array([0.06663313, 0.09865294, 0.30722787, 0.04263466, 0.39800207,\n",
       "         0.18209156, 0.07830259, 0.11703553, 0.08034855]),\n",
       "  'mean_score_time': array([0.30586735, 0.30537923, 0.33575233, 0.33435305, 0.33829459,\n",
       "         0.34009107, 0.34573372, 0.35512201, 0.33281501]),\n",
       "  'std_score_time': array([0.0119035 , 0.00731826, 0.01523204, 0.00815682, 0.03092238,\n",
       "         0.02171353, 0.02416147, 0.00706144, 0.00993912]),\n",
       "  'param_colsample_bytree': masked_array(data=[0.2, 0.2, 0.2, 0.30000000000000004,\n",
       "                     0.30000000000000004, 0.30000000000000004, 0.4, 0.4,\n",
       "                     0.4],\n",
       "               mask=[False, False, False, False, False, False, False, False,\n",
       "                     False],\n",
       "         fill_value='?',\n",
       "              dtype=object),\n",
       "  'param_subsample': masked_array(data=[0.2, 0.30000000000000004, 0.4, 0.2,\n",
       "                     0.30000000000000004, 0.4, 0.2, 0.30000000000000004,\n",
       "                     0.4],\n",
       "               mask=[False, False, False, False, False, False, False, False,\n",
       "                     False],\n",
       "         fill_value='?',\n",
       "              dtype=object),\n",
       "  'params': [{'colsample_bytree': 0.2, 'subsample': 0.2},\n",
       "   {'colsample_bytree': 0.2, 'subsample': 0.30000000000000004},\n",
       "   {'colsample_bytree': 0.2, 'subsample': 0.4},\n",
       "   {'colsample_bytree': 0.30000000000000004, 'subsample': 0.2},\n",
       "   {'colsample_bytree': 0.30000000000000004, 'subsample': 0.30000000000000004},\n",
       "   {'colsample_bytree': 0.30000000000000004, 'subsample': 0.4},\n",
       "   {'colsample_bytree': 0.4, 'subsample': 0.2},\n",
       "   {'colsample_bytree': 0.4, 'subsample': 0.30000000000000004},\n",
       "   {'colsample_bytree': 0.4, 'subsample': 0.4}],\n",
       "  'split0_test_score': array([-0.05657094, -0.0564445 , -0.05565197, -0.05644639, -0.0552074 ,\n",
       "         -0.05522493, -0.05591434, -0.05547293, -0.05504339]),\n",
       "  'split1_test_score': array([-0.05612657, -0.05462055, -0.05443652, -0.05458814, -0.05439731,\n",
       "         -0.05458774, -0.05470961, -0.05409497, -0.05390199]),\n",
       "  'split2_test_score': array([-0.05576257, -0.05522654, -0.05479931, -0.05592143, -0.05476376,\n",
       "         -0.05460254, -0.0562668 , -0.05467507, -0.05481838]),\n",
       "  'mean_test_score': array([-0.05615336, -0.05543053, -0.0549626 , -0.05565199, -0.05478949,\n",
       "         -0.05480507, -0.05563025, -0.05474766, -0.05458792]),\n",
       "  'std_test_score': array([0.00033056, 0.00075846, 0.00050946, 0.00078219, 0.00033122,\n",
       "         0.00029695, 0.00066671, 0.00056488, 0.00049365]),\n",
       "  'rank_test_score': array([9, 6, 5, 8, 3, 4, 7, 2, 1])},\n",
       " {'colsample_bytree': 0.4, 'subsample': 0.4},\n",
       " -0.05458792142518324)"
      ]
     },
     "execution_count": 138,
     "metadata": {},
     "output_type": "execute_result"
    }
   ],
   "source": [
    "# \n",
    "grid.cv_results_,grid.best_params_,grid.best_score_"
   ]
  },
  {
   "cell_type": "code",
   "execution_count": 140,
   "metadata": {},
   "outputs": [],
   "source": [
    "scores = []\n",
    "\n",
    "for grid_pair in grid.cv_results_['mean_test_score']:\n",
    "    scores.append(grid_pair)\n",
    "scores = np.array(scores)\n",
    "scores = scores.reshape(3,3)"
   ]
  },
  {
   "cell_type": "code",
   "execution_count": 152,
   "metadata": {},
   "outputs": [
    {
     "data": {
      "image/png": "[encoded data removed]",
      "text/plain": [
       "<Figure size 432x432 with 2 Axes>"
      ]
     },
     "metadata": {
      "image/png": {
       "height": 386,
       "width": 415
      },
      "needs_background": "light"
     },
     "output_type": "display_data"
    }
   ],
   "source": [
    "plt.figure(figsize=(6,6))\n",
    "cp = plt.contourf(xgb_param_grid['subsample'],\n",
    "                  xgb_param_grid['colsample_bytree'],\n",
    "                 scores,cmp='BrBG')\n",
    "plt.colorbar(cp)\n",
    "plt.title('Subsampling params tuning')\n",
    "plt.annotate('Optimum',xy=(0.40,0.40),xytext=(0.35,0.37),\n",
    "             arrowprops=dict(facecolor='white'),color='white')\n",
    "plt.xlabel('subsample')\n",
    "plt.ylabel('colsample')\n",
    "plt.grid(True)\n",
    "plt.show()"
   ]
  },
  {
   "cell_type": "markdown",
   "metadata": {},
   "source": [
    "# 在当前的预测训练模式下，得到的结果：\n",
    "{'colsample_bytree':0.4,'subsample':0.4},"
   ]
  },
  {
   "cell_type": "markdown",
   "metadata": {},
   "source": [
    "# Step 5: 减小学习率并增大树的个数\n",
    "参数优化的最后一步是降低学习率，同时增加更多大的估计量\n",
    "First,we plot different learning rates for a simpler model (50models):"
   ]
  },
  {
   "cell_type": "code",
   "execution_count": null,
   "metadata": {},
   "outputs": [],
   "source": [
    "%%time\n",
    "\n",
    "xgb_param_grid = {'eta':[0.5,0.4,0.3,0.2,0.1,0.075,0.05]}\n",
    "grid = GridSearchCV(XGBoostRegressor(num_boost_round=50,gamma=0.2,\n",
    "                                     max_deth=7,min_child_weight=6,\n",
    "                                    colsample_bytree=0.4,subsample=0.4),\n",
    "                    param_grid=xgb_param_grid,cv=5,scoring=mae_scorer)\n",
    "                    \n",
    "grid.fit(train_x,train_y.values)"
   ]
  },
  {
   "cell_type": "code",
   "execution_count": null,
   "metadata": {},
   "outputs": [],
   "source": [
    "# 这个运行的时间太长了\n",
    "#\n",
    "grid.cv_results_,grid.best_params_,grid.best_score_"
   ]
  },
  {
   "cell_type": "code",
   "execution_count": null,
   "metadata": {},
   "outputs": [],
   "source": [
    "# 将结果画出来\n",
    "eta,y = convert_grid_scores(grid.grid_scores_)\n",
    "plt.figure(figsize=(10,4))\n",
    "plt.xlabel('MAE and ETA, 50 trees')\n",
    "plt.ylabel('eta')\n",
    "plt.plot(eta,-y)\n",
    "plt.grid(True)\n",
    "plt.show()"
   ]
  },
  {
   "cell_type": "code",
   "execution_count": null,
   "metadata": {},
   "outputs": [],
   "source": [
    "def convert_grid_scores(scores):\n",
    "    _params = []\n",
    "    _params_mae = []\n",
    "    for i in scores:\n",
    "        _params.append(i[0].values())\n",
    "        _params_mae.append(i[1])\n",
    "    params = np.array(_params)\n",
    "    grid_res = np.column_stack((_params,_params_mae))\n",
    "    return [grid_res[:,i] for i in range(grid_res.shape[1])]"
   ]
  },
  {
   "cell_type": "code",
   "execution_count": null,
   "metadata": {},
   "outputs": [],
   "source": [
    "_,scores = convert_grid_scores(grid.grid_scores )\n",
    "scores = scores.reshape(5,3)"
   ]
  },
  {
   "cell_type": "code",
   "execution_count": null,
   "metadata": {},
   "outputs": [],
   "source": [
    "scores = []\n",
    "\n",
    "for grid_pair in grid.cv_results_['mean_test_score']:\n",
    "    scores.append(grid_pair)\n",
    "scores = np.array(scores)\n",
    "scores = scores.reshape(4,2)"
   ]
  },
  {
   "cell_type": "markdown",
   "metadata": {},
   "source": [
    "# 此时可以找到较好的学习率\n",
    "\n",
    "# 接下来调整树的个数，此时又可以得到一个较好的学习率"
   ]
  },
  {
   "cell_type": "code",
   "execution_count": null,
   "metadata": {},
   "outputs": [],
   "source": [
    "%%time\n",
    "\n",
    "xgb_param_grid = {'eta':[0.5,0.4,0.3,0.2,0.1,0.075,0.05]}\n",
    "grid = GridSearchCV(XGBoostRegressor(num_boost_round=100,gamma=0.2,\n",
    "                                     max_deth=7,min_child_weight=6,\n",
    "                                    colsample_bytree=0.4,subsample=0.4),\n",
    "                    param_grid=xgb_param_grid,cv=5,scoring=mae_scorer)\n",
    "                    \n",
    "grid.fit(train_x,train_y.values)"
   ]
  },
  {
   "cell_type": "code",
   "execution_count": null,
   "metadata": {},
   "outputs": [],
   "source": [
    "#\n",
    "grid.cv_results_,grid.best_params_,grid.best_score_"
   ]
  },
  {
   "cell_type": "code",
   "execution_count": null,
   "metadata": {},
   "outputs": [],
   "source": [
    "# 将结果画出来\n",
    "eta,y = convert_grid_scores(grid.grid_scores_)\n",
    "plt.figure(figsize=(10,4))\n",
    "plt.xlabel('MAE and ETA, 100 trees')\n",
    "plt.ylabel('eta')\n",
    "plt.plot(eta,-y)\n",
    "plt.grid(True)\n",
    "plt.show()"
   ]
  },
  {
   "cell_type": "markdown",
   "metadata": {},
   "source": [
    "# 再增加树的个数，一般会减小学习率，此时又可以得到一个 较小的学习率"
   ]
  },
  {
   "cell_type": "code",
   "execution_count": null,
   "metadata": {},
   "outputs": [],
   "source": [
    "%%time\n",
    "\n",
    "xgb_param_grid = {'eta':[0.5,0.4,0.3,0.2,0.1,0.075,0.05]}\n",
    "grid = GridSearchCV(XGBoostRegressor(num_boost_round=100,gamma=0.2,\n",
    "                                     max_deth=7,min_child_weight=6,\n",
    "                                    colsample_bytree=0.4,subsample=0.4),\n",
    "                    param_grid=xgb_param_grid,cv=5,scoring=mae_scorer)\n",
    "                    \n",
    "grid.fit(train_x,train_y.values)"
   ]
  },
  {
   "cell_type": "code",
   "execution_count": null,
   "metadata": {},
   "outputs": [],
   "source": [
    "#\n",
    "grid.cv_results_,grid.best_params_,grid.best_score_"
   ]
  },
  {
   "cell_type": "code",
   "execution_count": null,
   "metadata": {},
   "outputs": [],
   "source": [
    "# 将结果画出来\n",
    "eta,y = convert_grid_scores(grid.grid_scores_)\n",
    "plt.figure(figsize=(10,4))\n",
    "plt.xlabel('MAE and ETA, 100 trees')\n",
    "plt.ylabel('eta')\n",
    "plt.plot(eta,-y)\n",
    "plt.grid(True)\n",
    "plt.show()"
   ]
  },
  {
   "cell_type": "markdown",
   "metadata": {},
   "source": [
    "# 此时就可以得到一组较好的参数了\n",
    "- XGBoost(num_boost_round=200,gamma=0.2,max_depth=7,min_child_weight=6,\n",
    "- colsample=0.6,subsample=0.8,eta=0.07)"
   ]
  },
  {
   "cell_type": "code",
   "execution_count": 14,
   "metadata": {},
   "outputs": [
    {
     "name": "stdout",
     "output_type": "stream",
     "text": [
      "running cross validation\n",
      "[22:49:28] WARNING: C:/Jenkins/workspace/xgboost-win64_release_0.90/src/objective/regression_obj.cu:152: reg:linear is now deprecated in favor of reg:squarederror.\n",
      "[22:49:28] WARNING: C:/Jenkins/workspace/xgboost-win64_release_0.90/src/objective/regression_obj.cu:152: reg:linear is now deprecated in favor of reg:squarederror.\n",
      "[22:49:29] WARNING: C:/Jenkins/workspace/xgboost-win64_release_0.90/src/objective/regression_obj.cu:152: reg:linear is now deprecated in favor of reg:squarederror.\n",
      "[22:49:30] WARNING: C:/Jenkins/workspace/xgboost-win64_release_0.90/src/objective/regression_obj.cu:152: reg:linear is now deprecated in favor of reg:squarederror.\n",
      "[22:49:30] WARNING: C:/Jenkins/workspace/xgboost-win64_release_0.90/src/objective/regression_obj.cu:152: reg:linear is now deprecated in favor of reg:squarederror.\n",
      "[0]\ttrain-error:-2.66397+0.000939772\ttest-error:-2.66391+0.00362273\n",
      "[1]\ttrain-error:-2.66397+0.00093155\ttest-error:-2.66397+0.00367766\n",
      "   train-error-mean  train-error-std  test-error-mean  test-error-std\n",
      "0         -2.663969         0.000940        -2.663914        0.003623\n",
      "1         -2.663973         0.000932        -2.663974        0.003678\n"
     ]
    }
   ],
   "source": [
    "\n",
    "param = {'max_depth':5, 'eta':0.1, 'objective':'reg:linear','min_child_weight':3,\n",
    "         'subsample':0.5,'colsample_bytree':0.5}\n",
    "num_round = 2\n",
    "\n",
    "print('running cross validation')\n",
    "# do cross validation, this will print result out as\n",
    "# [iteration]  metric_name:mean_value+std_value\n",
    "# std_value is standard deviation of the metric\n",
    "xgb1 = xgb.cv(param, dtrain, num_round, nfold=5,metrics={'error'}, seed=0,\n",
    "       callbacks=[xgb.callback.print_evaluation(show_stdv=True)])\n",
    "print(xgb1)"
   ]
  },
  {
   "cell_type": "code",
   "execution_count": 21,
   "metadata": {},
   "outputs": [
    {
     "name": "stdout",
     "output_type": "stream",
     "text": [
      "running cross validation, disable standard deviation display\n",
      "[23:01:49] WARNING: C:/Jenkins/workspace/xgboost-win64_release_0.90/src/objective/regression_obj.cu:152: reg:linear is now deprecated in favor of reg:squarederror.\n",
      "[23:01:50] WARNING: C:/Jenkins/workspace/xgboost-win64_release_0.90/src/objective/regression_obj.cu:152: reg:linear is now deprecated in favor of reg:squarederror.\n",
      "[23:01:51] WARNING: C:/Jenkins/workspace/xgboost-win64_release_0.90/src/objective/regression_obj.cu:152: reg:linear is now deprecated in favor of reg:squarederror.\n",
      "[23:01:52] WARNING: C:/Jenkins/workspace/xgboost-win64_release_0.90/src/objective/regression_obj.cu:152: reg:linear is now deprecated in favor of reg:squarederror.\n",
      "[23:01:52] WARNING: C:/Jenkins/workspace/xgboost-win64_release_0.90/src/objective/regression_obj.cu:152: reg:linear is now deprecated in favor of reg:squarederror.\n",
      "[0]\ttrain-error:-2.66397\ttest-error:-2.66391\n",
      "Multiple eval metrics have been passed: 'test-error' will be used for early stopping.\n",
      "\n",
      "Will train until test-error hasn't improved in 3 rounds.\n",
      "[1]\ttrain-error:-2.66397\ttest-error:-2.66397\n",
      "[2]\ttrain-error:-2.66398\ttest-error:-2.66397\n",
      "[3]\ttrain-error:-2.664\ttest-error:-2.664\n",
      "[4]\ttrain-error:-2.66401\ttest-error:-2.66397\n",
      "[5]\ttrain-error:-2.664\ttest-error:-2.66396\n",
      "[6]\ttrain-error:-2.66399\ttest-error:-2.66397\n",
      "Stopping. Best iteration:\n",
      "[3]\ttrain-error:-2.664+0.000912697\ttest-error:-2.664+0.00368585\n",
      "\n",
      "   train-error-mean  train-error-std  test-error-mean  test-error-std\n",
      "0         -2.663969         0.000940        -2.663914        0.003623\n",
      "1         -2.663973         0.000932        -2.663974        0.003678\n",
      "2         -2.663984         0.000907        -2.663971        0.003670\n",
      "3         -2.663996         0.000913        -2.663997        0.003686\n"
     ]
    }
   ],
   "source": [
    "print('running cross validation, disable standard deviation display')\n",
    "# do cross validation, this will print result out as\n",
    "# [iteration]  metric_name:mean_value\n",
    "xgb2 = xgb.cv(param, dtrain, num_boost_round=50, nfold=5,metrics={'error'}, seed=0,\n",
    "             callbacks=[xgb.callback.print_evaluation(show_stdv=False),\n",
    "                        xgb.callback.early_stop(3)])\n",
    "print(xgb2)"
   ]
  },
  {
   "cell_type": "code",
   "execution_count": 24,
   "metadata": {},
   "outputs": [],
   "source": [
    "# param2 = {'max_depth':5, 'eta':0.1, 'objective':'reg:linear','min_child_weight':3,\n",
    "#          'subsample':0.5,'colsample_bytree':0.5}\n",
    "\n",
    "# print('running cross validation, with preprocessing function')\n",
    "# # define the preprocessing function\n",
    "# # used to return the preprocessed training, test data, and parameter\n",
    "# # we can use this to do weight rescale, etc.\n",
    "# # as a example, we try to set scale_pos_weight\n",
    "# def fpreproc(dtrain, dtest, param):\n",
    "#     label = dtrain.get_label()\n",
    "#     ratio = float(np.sum(label == 0)) / np.sum(label == 1)\n",
    "#     param['scale_pos_weight'] = ratio\n",
    "#     return (dtrain, dtest, param)\n",
    "\n",
    "# # do cross validation, for each fold\n",
    "# # the dtrain, dtest, param will be passed into fpreproc\n",
    "# # then the return value of fpreproc will be used to generate\n",
    "# # results of that fold\n",
    "# xgb3 = xgb.cv(param2, dtrain, num_round, nfold=5,metrics={'auc'}, seed=0, fpreproc=fpreproc)\n",
    "# print(xgb3)"
   ]
  },
  {
   "cell_type": "code",
   "execution_count": 25,
   "metadata": {},
   "outputs": [
    {
     "name": "stdout",
     "output_type": "stream",
     "text": [
      "running cross validation, with cutomsized loss function\n"
     ]
    },
    {
     "data": {
      "text/html": [
       "<div>\n",
       "<style scoped>\n",
       "    .dataframe tbody tr th:only-of-type {\n",
       "        vertical-align: middle;\n",
       "    }\n",
       "\n",
       "    .dataframe tbody tr th {\n",
       "        vertical-align: top;\n",
       "    }\n",
       "\n",
       "    .dataframe thead th {\n",
       "        text-align: right;\n",
       "    }\n",
       "</style>\n",
       "<table border=\"1\" class=\"dataframe\">\n",
       "  <thead>\n",
       "    <tr style=\"text-align: right;\">\n",
       "      <th></th>\n",
       "      <th>train-error-mean</th>\n",
       "      <th>train-error-std</th>\n",
       "      <th>train-rmse-mean</th>\n",
       "      <th>train-rmse-std</th>\n",
       "      <th>test-error-mean</th>\n",
       "      <th>test-error-std</th>\n",
       "      <th>test-rmse-mean</th>\n",
       "      <th>test-rmse-std</th>\n",
       "    </tr>\n",
       "  </thead>\n",
       "  <tbody>\n",
       "    <tr>\n",
       "      <th>0</th>\n",
       "      <td>1.0</td>\n",
       "      <td>0.0</td>\n",
       "      <td>2.105019</td>\n",
       "      <td>0.001102</td>\n",
       "      <td>1.0</td>\n",
       "      <td>0.0</td>\n",
       "      <td>2.104867</td>\n",
       "      <td>0.005109</td>\n",
       "    </tr>\n",
       "    <tr>\n",
       "      <th>1</th>\n",
       "      <td>1.0</td>\n",
       "      <td>0.0</td>\n",
       "      <td>1.152015</td>\n",
       "      <td>0.001467</td>\n",
       "      <td>1.0</td>\n",
       "      <td>0.0</td>\n",
       "      <td>1.152485</td>\n",
       "      <td>0.006667</td>\n",
       "    </tr>\n",
       "  </tbody>\n",
       "</table>\n",
       "</div>"
      ],
      "text/plain": [
       "   train-error-mean  train-error-std  train-rmse-mean  train-rmse-std  \\\n",
       "0               1.0              0.0         2.105019        0.001102   \n",
       "1               1.0              0.0         1.152015        0.001467   \n",
       "\n",
       "   test-error-mean  test-error-std  test-rmse-mean  test-rmse-std  \n",
       "0              1.0             0.0        2.104867       0.005109  \n",
       "1              1.0             0.0        1.152485       0.006667  "
      ]
     },
     "execution_count": 25,
     "metadata": {},
     "output_type": "execute_result"
    }
   ],
   "source": [
    "###\n",
    "# you can also do cross validation with customized loss function\n",
    "# See custom_objective.py\n",
    "##\n",
    "print('running cross validation, with cutomsized loss function')\n",
    "def logregobj(preds, dtrain):\n",
    "    labels = dtrain.get_label()\n",
    "    preds = 1.0 / (1.0 + np.exp(-preds))\n",
    "    grad = preds - labels\n",
    "    hess = preds * (1.0 - preds)\n",
    "    return grad, hess\n",
    "def evalerror(preds, dtrain):\n",
    "    labels = dtrain.get_label()\n",
    "    return 'error', float(sum(labels != (preds > 0.0))) / len(labels)\n",
    "\n",
    "param = {'max_depth':2, 'eta':0.1}\n",
    "# train with customized objective\n",
    "xgb.cv(param, dtrain, num_round, nfold=5, seed=0,\n",
    "       obj=logregobj, feval=evalerror)"
   ]
  },
  {
   "cell_type": "code",
   "execution_count": null,
   "metadata": {},
   "outputs": [],
   "source": []
  },
  {
   "cell_type": "code",
   "execution_count": null,
   "metadata": {},
   "outputs": [],
   "source": []
  },
  {
   "cell_type": "code",
   "execution_count": null,
   "metadata": {},
   "outputs": [],
   "source": []
  },
  {
   "cell_type": "code",
   "execution_count": null,
   "metadata": {},
   "outputs": [],
   "source": []
  },
  {
   "cell_type": "code",
   "execution_count": null,
   "metadata": {},
   "outputs": [],
   "source": []
  },
  {
   "cell_type": "code",
   "execution_count": null,
   "metadata": {},
   "outputs": [],
   "source": []
  }
 ],
 "metadata": {
  "kernelspec": {
   "display_name": "Python 3",
   "language": "python",
   "name": "python3"
  },
  "language_info": {
   "codemirror_mode": {
    "name": "ipython",
    "version": 3
   },
   "file_extension": ".py",
   "mimetype": "text/x-python",
   "name": "python",
   "nbconvert_exporter": "python",
   "pygments_lexer": "ipython3",
   "version": "3.7.3"
  }
 },
 "nbformat": 4,
 "nbformat_minor": 2
}
