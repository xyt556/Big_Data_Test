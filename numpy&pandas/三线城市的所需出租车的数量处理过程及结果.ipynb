{
 "cells": [
  {
   "cell_type": "code",
   "execution_count": 1,
   "metadata": {},
   "outputs": [],
   "source": [
    "import pandas as pd\n",
    "import numpy as np\n",
    "import matplotlib.pyplot as plt\n",
    "%matplotlib inline"
   ]
  },
  {
   "cell_type": "code",
   "execution_count": 2,
   "metadata": {},
   "outputs": [],
   "source": [
    "from pylab import mpl\n",
    "mpl.rcParams['font.sans-serif'] = ['SimHei']\n",
    "mpl.rcParams['axes.unicode_minus'] = True"
   ]
  },
  {
   "cell_type": "code",
   "execution_count": 3,
   "metadata": {},
   "outputs": [
    {
     "data": {
      "text/plain": [
       "array([4.53999298e-05, 4.53999298e-04, 2.26999649e-03, 7.56665496e-03,\n",
       "       1.89166374e-02, 3.78332748e-02, 6.30554580e-02, 9.00792257e-02,\n",
       "       1.12599032e-01, 1.25110036e-01, 1.25110036e-01, 1.13736396e-01,\n",
       "       9.47803301e-02, 7.29079462e-02, 5.20771044e-02, 3.47180696e-02,\n",
       "       2.16987935e-02, 1.27639962e-02, 7.09110899e-03, 3.73216263e-03,\n",
       "       1.86608131e-03])"
      ]
     },
     "execution_count": 3,
     "metadata": {},
     "output_type": "execute_result"
    }
   ],
   "source": [
    "from scipy import stats\n",
    "\n",
    "rate = 10\n",
    "k = 20\n",
    "n = np.arange(0,k+1,1)\n",
    "y = stats.poisson.pmf(n,rate)\n",
    "y"
   ]
  },
  {
   "cell_type": "code",
   "execution_count": 14,
   "metadata": {},
   "outputs": [
    {
     "data": {
      "image/png": "[encoded data removed]",
      "text/plain": [
       "<Figure size 432x288 with 1 Axes>"
      ]
     },
     "metadata": {
      "needs_background": "light"
     },
     "output_type": "display_data"
    }
   ],
   "source": [
    "plt.plot(n,y,'o-')\n",
    "plt.title('A/B车站点出现人数泊松分布')\n",
    "plt.xlabel('A/B车站点人数')\n",
    "plt.ylabel('出现的概率')\n",
    "plt.show()"
   ]
  },
  {
   "cell_type": "code",
   "execution_count": 32,
   "metadata": {},
   "outputs": [
    {
     "data": {
      "text/plain": [
       "array([3, 2, 3, 2, 1])"
      ]
     },
     "execution_count": 32,
     "metadata": {},
     "output_type": "execute_result"
    }
   ],
   "source": [
    "A1 = np.random.randint(1,5,5)\n",
    "A1\n",
    "\n",
    "for i in A1[]\n",
    "\n",
    "sum = A1[0]+A1[1]+A1[2]+ A1[3]+A1[4]\n",
    "sum"
   ]
  },
  {
   "cell_type": "code",
   "execution_count": 37,
   "metadata": {},
   "outputs": [
    {
     "data": {
      "text/html": [
       "<div>\n",
       "<style scoped>\n",
       "    .dataframe tbody tr th:only-of-type {\n",
       "        vertical-align: middle;\n",
       "    }\n",
       "\n",
       "    .dataframe tbody tr th {\n",
       "        vertical-align: top;\n",
       "    }\n",
       "\n",
       "    .dataframe thead th {\n",
       "        text-align: right;\n",
       "    }\n",
       "</style>\n",
       "<table border=\"1\" class=\"dataframe\">\n",
       "  <thead>\n",
       "    <tr style=\"text-align: right;\">\n",
       "      <th></th>\n",
       "      <th>起飞</th>\n",
       "      <th>到达</th>\n",
       "      <th>航班号</th>\n",
       "      <th>机型</th>\n",
       "      <th>班期</th>\n",
       "      <th>日期</th>\n",
       "      <th>备注</th>\n",
       "      <th>persons</th>\n",
       "    </tr>\n",
       "  </thead>\n",
       "  <tbody>\n",
       "    <tr>\n",
       "      <th>0</th>\n",
       "      <td>12</td>\n",
       "      <td>13</td>\n",
       "      <td>ca1142</td>\n",
       "      <td>733</td>\n",
       "      <td>1234567</td>\n",
       "      <td>03月26日 - 10月28日</td>\n",
       "      <td>中国国际航空公司</td>\n",
       "      <td>122.0</td>\n",
       "    </tr>\n",
       "    <tr>\n",
       "      <th>1</th>\n",
       "      <td>18</td>\n",
       "      <td>19</td>\n",
       "      <td>ua4409</td>\n",
       "      <td>737</td>\n",
       "      <td>1234567</td>\n",
       "      <td>03月25日 -</td>\n",
       "      <td>联合航空公司（美联航）</td>\n",
       "      <td>146.0</td>\n",
       "    </tr>\n",
       "    <tr>\n",
       "      <th>2</th>\n",
       "      <td>19</td>\n",
       "      <td>20</td>\n",
       "      <td>ca1132</td>\n",
       "      <td>733</td>\n",
       "      <td>1234567</td>\n",
       "      <td>04月01日 - 04月30日</td>\n",
       "      <td>中国国际航空公司</td>\n",
       "      <td>122.0</td>\n",
       "    </tr>\n",
       "    <tr>\n",
       "      <th>3</th>\n",
       "      <td>21</td>\n",
       "      <td>22</td>\n",
       "      <td>ca1108</td>\n",
       "      <td>733</td>\n",
       "      <td>1234567</td>\n",
       "      <td>03月26日 - 10月28日</td>\n",
       "      <td>中国国际航空公司</td>\n",
       "      <td>122.0</td>\n",
       "    </tr>\n",
       "    <tr>\n",
       "      <th>4</th>\n",
       "      <td>19</td>\n",
       "      <td>23</td>\n",
       "      <td>cz3148</td>\n",
       "      <td>320</td>\n",
       "      <td>1.3.5.7</td>\n",
       "      <td>03月31日 - 04月14日</td>\n",
       "      <td>中国南方航空公司</td>\n",
       "      <td>156.0</td>\n",
       "    </tr>\n",
       "  </tbody>\n",
       "</table>\n",
       "</div>"
      ],
      "text/plain": [
       "   起飞  到达     航班号   机型       班期               日期           备注  persons\n",
       "0  12  13  ca1142  733  1234567  03月26日 - 10月28日     中国国际航空公司    122.0\n",
       "1  18  19  ua4409  737  1234567         03月25日 -  联合航空公司（美联航）    146.0\n",
       "2  19  20  ca1132  733  1234567  04月01日 - 04月30日     中国国际航空公司    122.0\n",
       "3  21  22  ca1108  733  1234567  03月26日 - 10月28日     中国国际航空公司    122.0\n",
       "4  19  23  cz3148  320  1.3.5.7  03月31日 - 04月14日     中国南方航空公司    156.0"
      ]
     },
     "execution_count": 37,
     "metadata": {},
     "output_type": "execute_result"
    }
   ],
   "source": [
    "data1 = pd.read_csv('./data/csv/beijing/model_shuju/model_persons.csv',encoding='gbk')\n",
    "data1.head()"
   ]
  },
  {
   "cell_type": "code",
   "execution_count": 44,
   "metadata": {},
   "outputs": [
    {
     "name": "stdout",
     "output_type": "stream",
     "text": [
      "北京航班出现有17种，分别是：\n",
      "[12 18 19 21  7  8 10 11 13 14 15 16 17 20 22  9 23]\n"
     ]
    }
   ],
   "source": [
    "print(\"北京航班出现有{0}种，分别是：\".format(len((data1['起飞']).unique())))\n",
    "print((data1['起飞']).unique())"
   ]
  },
  {
   "cell_type": "code",
   "execution_count": 46,
   "metadata": {},
   "outputs": [
    {
     "data": {
      "text/plain": [
       "15.0"
      ]
     },
     "execution_count": 46,
     "metadata": {},
     "output_type": "execute_result"
    }
   ],
   "source": [
    "air_mean1 =  (data1['起飞']).unique().sum()/17\n",
    "air_mean1"
   ]
  },
  {
   "cell_type": "code",
   "execution_count": 53,
   "metadata": {},
   "outputs": [
    {
     "data": {
      "image/png": "[encoded data removed]",
      "text/plain": [
       "<Figure size 432x288 with 1 Axes>"
      ]
     },
     "metadata": {
      "needs_background": "light"
     },
     "output_type": "display_data"
    }
   ],
   "source": [
    "#  设定平均值\n",
    "air_mean1 = 15\n",
    "air_number = [70, 59, 58, 48, 46, 43, 43, 42, 39, 39, 38, 34, 34, 32, 28, 22, 2]\n",
    "y = stats.poisson.pmf(air_number,air_mean1)\n",
    "\n",
    "#  画图\n",
    "plt.plot(air_number,y,'o-')\n",
    "plt.title('北京航班数泊松分布统计表')\n",
    "plt.xlabel('北京航班数')\n",
    "plt.ylabel('出现的概率')\n",
    "plt.show()\n"
   ]
  },
  {
   "cell_type": "code",
   "execution_count": 54,
   "metadata": {},
   "outputs": [
    {
     "data": {
      "text/html": [
       "<div>\n",
       "<style scoped>\n",
       "    .dataframe tbody tr th:only-of-type {\n",
       "        vertical-align: middle;\n",
       "    }\n",
       "\n",
       "    .dataframe tbody tr th {\n",
       "        vertical-align: top;\n",
       "    }\n",
       "\n",
       "    .dataframe thead th {\n",
       "        text-align: right;\n",
       "    }\n",
       "</style>\n",
       "<table border=\"1\" class=\"dataframe\">\n",
       "  <thead>\n",
       "    <tr style=\"text-align: right;\">\n",
       "      <th></th>\n",
       "      <th>起飞</th>\n",
       "      <th>到达</th>\n",
       "      <th>航班号</th>\n",
       "      <th>机型</th>\n",
       "      <th>班期</th>\n",
       "      <th>日期</th>\n",
       "      <th>备注</th>\n",
       "      <th>persons</th>\n",
       "    </tr>\n",
       "  </thead>\n",
       "  <tbody>\n",
       "    <tr>\n",
       "      <th>0</th>\n",
       "      <td>8</td>\n",
       "      <td>13</td>\n",
       "      <td>cz6341</td>\n",
       "      <td>321</td>\n",
       "      <td>1234567</td>\n",
       "      <td>03月26日 -</td>\n",
       "      <td>中国南方航空公司</td>\n",
       "      <td>197</td>\n",
       "    </tr>\n",
       "    <tr>\n",
       "      <th>1</th>\n",
       "      <td>13</td>\n",
       "      <td>17</td>\n",
       "      <td>hu7132</td>\n",
       "      <td>737</td>\n",
       "      <td>1234567</td>\n",
       "      <td>03月26日 - 10月28日</td>\n",
       "      <td>海南航空公司</td>\n",
       "      <td>146</td>\n",
       "    </tr>\n",
       "    <tr>\n",
       "      <th>2</th>\n",
       "      <td>9</td>\n",
       "      <td>12</td>\n",
       "      <td>cz6459</td>\n",
       "      <td>319</td>\n",
       "      <td>..3..6.</td>\n",
       "      <td>03月29日 - 10月28日</td>\n",
       "      <td>中国南方航空公司</td>\n",
       "      <td>123</td>\n",
       "    </tr>\n",
       "    <tr>\n",
       "      <th>3</th>\n",
       "      <td>8</td>\n",
       "      <td>11</td>\n",
       "      <td>cz633</td>\n",
       "      <td>jet</td>\n",
       "      <td>.2...6.</td>\n",
       "      <td>03月25日 - 10月28日</td>\n",
       "      <td>中国南方航空公司</td>\n",
       "      <td>127</td>\n",
       "    </tr>\n",
       "    <tr>\n",
       "      <th>4</th>\n",
       "      <td>8</td>\n",
       "      <td>13</td>\n",
       "      <td>cz6441</td>\n",
       "      <td>319</td>\n",
       "      <td>...4..7</td>\n",
       "      <td>03月26日 - 10月26日</td>\n",
       "      <td>中国南方航空公司</td>\n",
       "      <td>123</td>\n",
       "    </tr>\n",
       "  </tbody>\n",
       "</table>\n",
       "</div>"
      ],
      "text/plain": [
       "   起飞  到达     航班号   机型       班期               日期        备注  persons\n",
       "0   8  13  cz6341  321  1234567         03月26日 -  中国南方航空公司      197\n",
       "1  13  17  hu7132  737  1234567  03月26日 - 10月28日    海南航空公司      146\n",
       "2   9  12  cz6459  319  ..3..6.  03月29日 - 10月28日  中国南方航空公司      123\n",
       "3   8  11   cz633  jet  .2...6.  03月25日 - 10月28日  中国南方航空公司      127\n",
       "4   8  13  cz6441  319  ...4..7  03月26日 - 10月26日  中国南方航空公司      123"
      ]
     },
     "execution_count": 54,
     "metadata": {},
     "output_type": "execute_result"
    }
   ],
   "source": [
    "data2 = pd.read_csv('./data/csv/beijing/model_shuju/2_model_persons.csv',encoding='gbk')\n",
    "data2.head()"
   ]
  },
  {
   "cell_type": "code",
   "execution_count": 55,
   "metadata": {},
   "outputs": [
    {
     "name": "stdout",
     "output_type": "stream",
     "text": [
      "2线航班出现有17种，分别是：\n",
      "[ 8 13  9 10 19 18 14 15  7 12 16 17 11 20 21 23 22]\n"
     ]
    }
   ],
   "source": [
    "print(\"2线航班出现有{0}种，分别是：\".format(len((data2['起飞']).unique())))\n",
    "print((data2['起飞']).unique())"
   ]
  },
  {
   "cell_type": "code",
   "execution_count": 56,
   "metadata": {},
   "outputs": [
    {
     "data": {
      "text/plain": [
       "15.0"
      ]
     },
     "execution_count": 56,
     "metadata": {},
     "output_type": "execute_result"
    }
   ],
   "source": [
    "air_mean2 =  (data2['起飞']).unique().sum()/17\n",
    "air_mean2"
   ]
  },
  {
   "cell_type": "code",
   "execution_count": 57,
   "metadata": {},
   "outputs": [
    {
     "data": {
      "image/png": "[encoded data removed]",
      "text/plain": [
       "<Figure size 432x288 with 1 Axes>"
      ]
     },
     "metadata": {
      "needs_background": "light"
     },
     "output_type": "display_data"
    }
   ],
   "source": [
    "#  设定平均值\n",
    "air_mean2 = 15\n",
    "air_number = [28, 27, 22, 22, 22, 21, 19, 19, 17, 15, 15, 14, 13, 10, 9, 4, 2]\n",
    "y = stats.poisson.pmf(air_number,air_mean2)\n",
    "\n",
    "#  画图\n",
    "plt.plot(air_number,y,'o-')\n",
    "plt.title('2线城市航班数泊松分布统计表')\n",
    "plt.xlabel('2线城市航班数')\n",
    "plt.ylabel('出现的概率')\n",
    "plt.show()"
   ]
  },
  {
   "cell_type": "code",
   "execution_count": 58,
   "metadata": {},
   "outputs": [
    {
     "data": {
      "text/html": [
       "<div>\n",
       "<style scoped>\n",
       "    .dataframe tbody tr th:only-of-type {\n",
       "        vertical-align: middle;\n",
       "    }\n",
       "\n",
       "    .dataframe tbody tr th {\n",
       "        vertical-align: top;\n",
       "    }\n",
       "\n",
       "    .dataframe thead th {\n",
       "        text-align: right;\n",
       "    }\n",
       "</style>\n",
       "<table border=\"1\" class=\"dataframe\">\n",
       "  <thead>\n",
       "    <tr style=\"text-align: right;\">\n",
       "      <th></th>\n",
       "      <th>起飞</th>\n",
       "      <th>到达</th>\n",
       "      <th>航班号</th>\n",
       "      <th>机型</th>\n",
       "      <th>班期</th>\n",
       "      <th>日期</th>\n",
       "      <th>备注</th>\n",
       "      <th>persons</th>\n",
       "    </tr>\n",
       "  </thead>\n",
       "  <tbody>\n",
       "    <tr>\n",
       "      <th>0</th>\n",
       "      <td>7</td>\n",
       "      <td>8</td>\n",
       "      <td>cz3891</td>\n",
       "      <td>733</td>\n",
       "      <td>1234567</td>\n",
       "      <td>03月27日 - 10月28日</td>\n",
       "      <td>中国南方航空公司</td>\n",
       "      <td>122</td>\n",
       "    </tr>\n",
       "    <tr>\n",
       "      <th>1</th>\n",
       "      <td>12</td>\n",
       "      <td>12</td>\n",
       "      <td>cz3893</td>\n",
       "      <td>733</td>\n",
       "      <td>1234567</td>\n",
       "      <td>03月26日 - 10月28日</td>\n",
       "      <td>中国南方航空公司</td>\n",
       "      <td>122</td>\n",
       "    </tr>\n",
       "    <tr>\n",
       "      <th>2</th>\n",
       "      <td>15</td>\n",
       "      <td>16</td>\n",
       "      <td>cz3895</td>\n",
       "      <td>733</td>\n",
       "      <td>1234567</td>\n",
       "      <td>03月27日 - 10月28日</td>\n",
       "      <td>中国南方航空公司</td>\n",
       "      <td>122</td>\n",
       "    </tr>\n",
       "    <tr>\n",
       "      <th>3</th>\n",
       "      <td>20</td>\n",
       "      <td>21</td>\n",
       "      <td>cz3897</td>\n",
       "      <td>733</td>\n",
       "      <td>1.345.7</td>\n",
       "      <td>03月26日 - 03月31日</td>\n",
       "      <td>中国南方航空公司</td>\n",
       "      <td>122</td>\n",
       "    </tr>\n",
       "    <tr>\n",
       "      <th>4</th>\n",
       "      <td>20</td>\n",
       "      <td>21</td>\n",
       "      <td>cz3897</td>\n",
       "      <td>733</td>\n",
       "      <td>1234567</td>\n",
       "      <td>04月02日 - 10月28日</td>\n",
       "      <td>中国南方航空公司</td>\n",
       "      <td>122</td>\n",
       "    </tr>\n",
       "  </tbody>\n",
       "</table>\n",
       "</div>"
      ],
      "text/plain": [
       "   起飞  到达     航班号   机型       班期               日期        备注  persons\n",
       "0   7   8  cz3891  733  1234567  03月27日 - 10月28日  中国南方航空公司      122\n",
       "1  12  12  cz3893  733  1234567  03月26日 - 10月28日  中国南方航空公司      122\n",
       "2  15  16  cz3895  733  1234567  03月27日 - 10月28日  中国南方航空公司      122\n",
       "3  20  21  cz3897  733  1.345.7  03月26日 - 03月31日  中国南方航空公司      122\n",
       "4  20  21  cz3897  733  1234567  04月02日 - 10月28日  中国南方航空公司      122"
      ]
     },
     "execution_count": 58,
     "metadata": {},
     "output_type": "execute_result"
    }
   ],
   "source": [
    "data3 = pd.read_csv('./data/csv/beijing/model_shuju/3_model_persons.csv',encoding='gbk')\n",
    "data3.head()"
   ]
  },
  {
   "cell_type": "code",
   "execution_count": 59,
   "metadata": {},
   "outputs": [
    {
     "name": "stdout",
     "output_type": "stream",
     "text": [
      "3线航班出现有16种，分别是：\n",
      "[ 7 12 15 20 16 22 17  8 13 10  9 14 18 19 11 21]\n"
     ]
    }
   ],
   "source": [
    "print(\"3线航班出现有{0}种，分别是：\".format(len((data3['起飞']).unique())))\n",
    "print((data3['起飞']).unique())"
   ]
  },
  {
   "cell_type": "code",
   "execution_count": 60,
   "metadata": {},
   "outputs": [
    {
     "data": {
      "text/plain": [
       "14.5"
      ]
     },
     "execution_count": 60,
     "metadata": {},
     "output_type": "execute_result"
    }
   ],
   "source": [
    "air_mean3 =  (data3['起飞']).unique().sum()/16\n",
    "air_mean3"
   ]
  },
  {
   "cell_type": "code",
   "execution_count": 62,
   "metadata": {},
   "outputs": [
    {
     "data": {
      "image/png": "[encoded data removed]",
      "text/plain": [
       "<Figure size 432x288 with 1 Axes>"
      ]
     },
     "metadata": {
      "needs_background": "light"
     },
     "output_type": "display_data"
    }
   ],
   "source": [
    "#  设定平均值\n",
    "air_mean3 = 14.5\n",
    "air_number = [33, 31, 12, 10, 7, 6, 5, 5, 5, 5, 4, 3, 2, 1, 1, 1]\n",
    "y = stats.poisson.pmf(air_number,air_mean3)\n",
    "\n",
    "#  画图\n",
    "plt.plot(air_number,y,'o-')\n",
    "plt.title('3线城市航班数泊松分布统计表')\n",
    "plt.xlabel('3线城市航班数')\n",
    "plt.ylabel('出现的概率')\n",
    "plt.show()"
   ]
  },
  {
   "cell_type": "markdown",
   "metadata": {},
   "source": [
    "# 北京所需的出租车数"
   ]
  },
  {
   "cell_type": "code",
   "execution_count": 64,
   "metadata": {},
   "outputs": [
    {
     "data": {
      "text/plain": [
       "起飞\n",
       "7     2969.75\n",
       "17    2764.25\n",
       "18    2463.50\n",
       "19    2288.50\n",
       "12    2024.00\n",
       "8     2014.25\n",
       "20    1813.75\n",
       "13    1801.25\n",
       "14    1781.50\n",
       "16    1671.50\n",
       "15    1577.25\n",
       "21    1558.50\n",
       "9     1312.25\n",
       "11    1288.75\n",
       "10    1129.75\n",
       "22     762.75\n",
       "23      88.25\n",
       "Name: persons, dtype: float64"
      ]
     },
     "execution_count": 64,
     "metadata": {},
     "output_type": "execute_result"
    }
   ],
   "source": [
    "# 按起飞时间对机场在此起飞时间所需的最少的出租车数进行排序，每辆出租车载客4人\n",
    "car_least1 = data1.groupby('起飞')['persons'].sum().sort_values(ascending = False)/4\n",
    "car_least1"
   ]
  },
  {
   "cell_type": "code",
   "execution_count": 66,
   "metadata": {},
   "outputs": [
    {
     "data": {
      "text/plain": [
       "起飞\n",
       "7     11879.0\n",
       "17    11057.0\n",
       "18     9854.0\n",
       "19     9154.0\n",
       "12     8096.0\n",
       "8      8057.0\n",
       "20     7255.0\n",
       "13     7205.0\n",
       "14     7126.0\n",
       "16     6686.0\n",
       "15     6309.0\n",
       "21     6234.0\n",
       "9      5249.0\n",
       "11     5155.0\n",
       "10     4519.0\n",
       "22     3051.0\n",
       "23      353.0\n",
       "Name: persons, dtype: float64"
      ]
     },
     "execution_count": 66,
     "metadata": {},
     "output_type": "execute_result"
    }
   ],
   "source": [
    "# 按起飞时间对机场在此起飞时间所需的最多的出租车数进行排序，每辆出租车载客一人\n",
    "car_more1 = data1.groupby('起飞')['persons'].sum().sort_values(ascending = False)\n",
    "car_more1"
   ]
  },
  {
   "cell_type": "code",
   "execution_count": 82,
   "metadata": {},
   "outputs": [],
   "source": [
    "# 定义一个 字典，存储北京航班每个时段最多所需的出租车数，键：时段，值所需的出租车数\n",
    "car_more1 = {\n",
    "    7: 11879,17:11057,18: 9854,\n",
    "    19: 9154,12:8096,8:8057,\n",
    "    20:7255,13:7205,14:7126,\n",
    "    16:6686,15:6309,21:6234,  \n",
    "    9:5249,11:5155,10:4519,\n",
    "    22:3051,23:353\n",
    "}"
   ]
  },
  {
   "cell_type": "code",
   "execution_count": 105,
   "metadata": {},
   "outputs": [],
   "source": [
    "#  因此时所求的是每辆车都载客4人的情况下，概率非常小，所以对于非整数值，采取向上取整\n",
    "# 定义一个 字典，存储北京航班每个时段最少所需的出租车数，键：时段，值：所需的出租车数\n",
    "car_least1 ={\n",
    "    7: 2970,17: 2765,18: 2464,19: 2289,\n",
    "    12: 2025,8: 2015,20: 1814,13: 1802,\n",
    "    14: 1782,16:1672,15: 1578,21: 1559,\n",
    "    9: 1313,11: 1289,10: 1130,22: 763,\n",
    "    23: 89\n",
    "}"
   ]
  },
  {
   "cell_type": "code",
   "execution_count": 106,
   "metadata": {},
   "outputs": [
    {
     "data": {
      "text/html": [
       "<div>\n",
       "<style scoped>\n",
       "    .dataframe tbody tr th:only-of-type {\n",
       "        vertical-align: middle;\n",
       "    }\n",
       "\n",
       "    .dataframe tbody tr th {\n",
       "        vertical-align: top;\n",
       "    }\n",
       "\n",
       "    .dataframe thead th {\n",
       "        text-align: right;\n",
       "    }\n",
       "</style>\n",
       "<table border=\"1\" class=\"dataframe\">\n",
       "  <thead>\n",
       "    <tr style=\"text-align: right;\">\n",
       "      <th></th>\n",
       "      <th>起飞</th>\n",
       "      <th>到达</th>\n",
       "      <th>航班号</th>\n",
       "      <th>机型</th>\n",
       "      <th>班期</th>\n",
       "      <th>日期</th>\n",
       "      <th>备注</th>\n",
       "      <th>persons</th>\n",
       "      <th>car_least1</th>\n",
       "      <th>car_more1</th>\n",
       "    </tr>\n",
       "  </thead>\n",
       "  <tbody>\n",
       "    <tr>\n",
       "      <th>0</th>\n",
       "      <td>12</td>\n",
       "      <td>13</td>\n",
       "      <td>ca1142</td>\n",
       "      <td>733</td>\n",
       "      <td>1234567</td>\n",
       "      <td>03月26日 - 10月28日</td>\n",
       "      <td>中国国际航空公司</td>\n",
       "      <td>122.0</td>\n",
       "      <td>2025</td>\n",
       "      <td>8096</td>\n",
       "    </tr>\n",
       "    <tr>\n",
       "      <th>1</th>\n",
       "      <td>18</td>\n",
       "      <td>19</td>\n",
       "      <td>ua4409</td>\n",
       "      <td>737</td>\n",
       "      <td>1234567</td>\n",
       "      <td>03月25日 -</td>\n",
       "      <td>联合航空公司（美联航）</td>\n",
       "      <td>146.0</td>\n",
       "      <td>2464</td>\n",
       "      <td>9854</td>\n",
       "    </tr>\n",
       "    <tr>\n",
       "      <th>2</th>\n",
       "      <td>19</td>\n",
       "      <td>20</td>\n",
       "      <td>ca1132</td>\n",
       "      <td>733</td>\n",
       "      <td>1234567</td>\n",
       "      <td>04月01日 - 04月30日</td>\n",
       "      <td>中国国际航空公司</td>\n",
       "      <td>122.0</td>\n",
       "      <td>2289</td>\n",
       "      <td>9154</td>\n",
       "    </tr>\n",
       "    <tr>\n",
       "      <th>3</th>\n",
       "      <td>21</td>\n",
       "      <td>22</td>\n",
       "      <td>ca1108</td>\n",
       "      <td>733</td>\n",
       "      <td>1234567</td>\n",
       "      <td>03月26日 - 10月28日</td>\n",
       "      <td>中国国际航空公司</td>\n",
       "      <td>122.0</td>\n",
       "      <td>1559</td>\n",
       "      <td>6234</td>\n",
       "    </tr>\n",
       "    <tr>\n",
       "      <th>4</th>\n",
       "      <td>19</td>\n",
       "      <td>23</td>\n",
       "      <td>cz3148</td>\n",
       "      <td>320</td>\n",
       "      <td>1.3.5.7</td>\n",
       "      <td>03月31日 - 04月14日</td>\n",
       "      <td>中国南方航空公司</td>\n",
       "      <td>156.0</td>\n",
       "      <td>2289</td>\n",
       "      <td>9154</td>\n",
       "    </tr>\n",
       "  </tbody>\n",
       "</table>\n",
       "</div>"
      ],
      "text/plain": [
       "   起飞  到达     航班号   机型       班期               日期           备注  persons  \\\n",
       "0  12  13  ca1142  733  1234567  03月26日 - 10月28日     中国国际航空公司    122.0   \n",
       "1  18  19  ua4409  737  1234567         03月25日 -  联合航空公司（美联航）    146.0   \n",
       "2  19  20  ca1132  733  1234567  04月01日 - 04月30日     中国国际航空公司    122.0   \n",
       "3  21  22  ca1108  733  1234567  03月26日 - 10月28日     中国国际航空公司    122.0   \n",
       "4  19  23  cz3148  320  1.3.5.7  03月31日 - 04月14日     中国南方航空公司    156.0   \n",
       "\n",
       "   car_least1  car_more1  \n",
       "0        2025       8096  \n",
       "1        2464       9854  \n",
       "2        2289       9154  \n",
       "3        1559       6234  \n",
       "4        2289       9154  "
      ]
     },
     "execution_count": 106,
     "metadata": {},
     "output_type": "execute_result"
    }
   ],
   "source": [
    "#  利用map() 函数将北京航班每个时段所需的最少的出租车数映射到数据表中\n",
    "data1['car_least1'] = data1['起飞'].map(car_least1)\n",
    "data1.head()"
   ]
  },
  {
   "cell_type": "code",
   "execution_count": 107,
   "metadata": {},
   "outputs": [
    {
     "data": {
      "text/html": [
       "<div>\n",
       "<style scoped>\n",
       "    .dataframe tbody tr th:only-of-type {\n",
       "        vertical-align: middle;\n",
       "    }\n",
       "\n",
       "    .dataframe tbody tr th {\n",
       "        vertical-align: top;\n",
       "    }\n",
       "\n",
       "    .dataframe thead th {\n",
       "        text-align: right;\n",
       "    }\n",
       "</style>\n",
       "<table border=\"1\" class=\"dataframe\">\n",
       "  <thead>\n",
       "    <tr style=\"text-align: right;\">\n",
       "      <th></th>\n",
       "      <th>起飞</th>\n",
       "      <th>到达</th>\n",
       "      <th>航班号</th>\n",
       "      <th>机型</th>\n",
       "      <th>班期</th>\n",
       "      <th>日期</th>\n",
       "      <th>备注</th>\n",
       "      <th>persons</th>\n",
       "      <th>car_least1</th>\n",
       "      <th>car_more1</th>\n",
       "    </tr>\n",
       "  </thead>\n",
       "  <tbody>\n",
       "    <tr>\n",
       "      <th>0</th>\n",
       "      <td>12</td>\n",
       "      <td>13</td>\n",
       "      <td>ca1142</td>\n",
       "      <td>733</td>\n",
       "      <td>1234567</td>\n",
       "      <td>03月26日 - 10月28日</td>\n",
       "      <td>中国国际航空公司</td>\n",
       "      <td>122.0</td>\n",
       "      <td>2025</td>\n",
       "      <td>8096</td>\n",
       "    </tr>\n",
       "    <tr>\n",
       "      <th>1</th>\n",
       "      <td>18</td>\n",
       "      <td>19</td>\n",
       "      <td>ua4409</td>\n",
       "      <td>737</td>\n",
       "      <td>1234567</td>\n",
       "      <td>03月25日 -</td>\n",
       "      <td>联合航空公司（美联航）</td>\n",
       "      <td>146.0</td>\n",
       "      <td>2464</td>\n",
       "      <td>9854</td>\n",
       "    </tr>\n",
       "    <tr>\n",
       "      <th>2</th>\n",
       "      <td>19</td>\n",
       "      <td>20</td>\n",
       "      <td>ca1132</td>\n",
       "      <td>733</td>\n",
       "      <td>1234567</td>\n",
       "      <td>04月01日 - 04月30日</td>\n",
       "      <td>中国国际航空公司</td>\n",
       "      <td>122.0</td>\n",
       "      <td>2289</td>\n",
       "      <td>9154</td>\n",
       "    </tr>\n",
       "    <tr>\n",
       "      <th>3</th>\n",
       "      <td>21</td>\n",
       "      <td>22</td>\n",
       "      <td>ca1108</td>\n",
       "      <td>733</td>\n",
       "      <td>1234567</td>\n",
       "      <td>03月26日 - 10月28日</td>\n",
       "      <td>中国国际航空公司</td>\n",
       "      <td>122.0</td>\n",
       "      <td>1559</td>\n",
       "      <td>6234</td>\n",
       "    </tr>\n",
       "    <tr>\n",
       "      <th>4</th>\n",
       "      <td>19</td>\n",
       "      <td>23</td>\n",
       "      <td>cz3148</td>\n",
       "      <td>320</td>\n",
       "      <td>1.3.5.7</td>\n",
       "      <td>03月31日 - 04月14日</td>\n",
       "      <td>中国南方航空公司</td>\n",
       "      <td>156.0</td>\n",
       "      <td>2289</td>\n",
       "      <td>9154</td>\n",
       "    </tr>\n",
       "  </tbody>\n",
       "</table>\n",
       "</div>"
      ],
      "text/plain": [
       "   起飞  到达     航班号   机型       班期               日期           备注  persons  \\\n",
       "0  12  13  ca1142  733  1234567  03月26日 - 10月28日     中国国际航空公司    122.0   \n",
       "1  18  19  ua4409  737  1234567         03月25日 -  联合航空公司（美联航）    146.0   \n",
       "2  19  20  ca1132  733  1234567  04月01日 - 04月30日     中国国际航空公司    122.0   \n",
       "3  21  22  ca1108  733  1234567  03月26日 - 10月28日     中国国际航空公司    122.0   \n",
       "4  19  23  cz3148  320  1.3.5.7  03月31日 - 04月14日     中国南方航空公司    156.0   \n",
       "\n",
       "   car_least1  car_more1  \n",
       "0        2025       8096  \n",
       "1        2464       9854  \n",
       "2        2289       9154  \n",
       "3        1559       6234  \n",
       "4        2289       9154  "
      ]
     },
     "execution_count": 107,
     "metadata": {},
     "output_type": "execute_result"
    }
   ],
   "source": [
    "#  利用map() 函数将北京航班每个时段所需的最少的出租车数映射到数据表中\n",
    "data1['car_more1'] = data1['起飞'].map(car_more1)\n",
    "data1.head()"
   ]
  },
  {
   "cell_type": "code",
   "execution_count": 108,
   "metadata": {},
   "outputs": [],
   "source": [
    "#  将文件保存到本地\n",
    "data1.to_csv('./data/csv/beijing/model_shuju/model_car_1.csv',index=False)"
   ]
  },
  {
   "cell_type": "markdown",
   "metadata": {},
   "source": [
    "# 2线城市所需的出租车的数量"
   ]
  },
  {
   "cell_type": "code",
   "execution_count": 67,
   "metadata": {},
   "outputs": [
    {
     "data": {
      "text/plain": [
       "起飞\n",
       "16    3611\n",
       "15    3204\n",
       "8     3180\n",
       "7     2828\n",
       "14    2615\n",
       "12    2517\n",
       "10    2474\n",
       "13    2367\n",
       "17    2098\n",
       "19    1852\n",
       "11    1781\n",
       "21    1779\n",
       "18    1748\n",
       "9     1408\n",
       "20    1160\n",
       "22     382\n",
       "23     218\n",
       "Name: persons, dtype: int64"
      ]
     },
     "execution_count": 67,
     "metadata": {},
     "output_type": "execute_result"
    }
   ],
   "source": [
    "# 按起飞时间对机场在此起飞时间所需的最多的出租车数进行排序，每辆出租车载客一人\n",
    "car_more2 = data2.groupby('起飞')['persons'].sum().sort_values(ascending = False)\n",
    "car_more2"
   ]
  },
  {
   "cell_type": "code",
   "execution_count": 95,
   "metadata": {},
   "outputs": [],
   "source": [
    "# 定义一个 字典，存储2线城市航班每个时段最多所需的出租车数，键：时段，值所需的出租车数\n",
    "car_more2 = {\n",
    "    16: 3611, 15: 3204, 8: 3180, 7: 2828,\n",
    "    14: 2615, 12: 2517, 10: 2474, 13: 2367,\n",
    "    17: 2098, 19: 1852, 11: 1781, 21: 1779,\n",
    "    18: 1748, 9: 1408, 20: 1160,22: 382,\n",
    "    23: 218\n",
    "}"
   ]
  },
  {
   "cell_type": "code",
   "execution_count": 65,
   "metadata": {},
   "outputs": [
    {
     "data": {
      "text/plain": [
       "起飞\n",
       "16    902.75\n",
       "15    801.00\n",
       "8     795.00\n",
       "7     707.00\n",
       "14    653.75\n",
       "12    629.25\n",
       "10    618.50\n",
       "13    591.75\n",
       "17    524.50\n",
       "19    463.00\n",
       "11    445.25\n",
       "21    444.75\n",
       "18    437.00\n",
       "9     352.00\n",
       "20    290.00\n",
       "22     95.50\n",
       "23     54.50\n",
       "Name: persons, dtype: float64"
      ]
     },
     "execution_count": 65,
     "metadata": {},
     "output_type": "execute_result"
    }
   ],
   "source": [
    "# 按起飞时间对机场在此起飞时间所需的出租车数进行排序，每辆出租车载客4人\n",
    "car_least2 = data2.groupby('起飞')['persons'].sum().sort_values(ascending = False)/4\n",
    "car_least2"
   ]
  },
  {
   "cell_type": "code",
   "execution_count": 109,
   "metadata": {},
   "outputs": [],
   "source": [
    "#  因此时所求的是每辆车都载客4人的情况下，概率非常小，所以对于非整数值，采取向上取整\n",
    "# 定义一个 字典，存储北京航班每个时段最少所需的出租车数，键：时段，值：所需的出租车数\n",
    "car_least2 ={\n",
    "    16: 903, 15: 801, 8: 795, 7: 707,\n",
    "    14: 654, 12: 630, 10: 619, 13: 592,\n",
    "    17: 525, 19: 463, 11: 446, 21: 445,\n",
    "    18: 437, 9: 352, 20: 290, 22: 96,\n",
    "    23: 55\n",
    "}"
   ]
  },
  {
   "cell_type": "code",
   "execution_count": 113,
   "metadata": {},
   "outputs": [],
   "source": [
    "#  利用drop（）函数，删除刚才新增的属性列persons列\n",
    "# data2 = data2.drop('car_more2',axis = 1)"
   ]
  },
  {
   "cell_type": "code",
   "execution_count": 114,
   "metadata": {},
   "outputs": [
    {
     "data": {
      "text/html": [
       "<div>\n",
       "<style scoped>\n",
       "    .dataframe tbody tr th:only-of-type {\n",
       "        vertical-align: middle;\n",
       "    }\n",
       "\n",
       "    .dataframe tbody tr th {\n",
       "        vertical-align: top;\n",
       "    }\n",
       "\n",
       "    .dataframe thead th {\n",
       "        text-align: right;\n",
       "    }\n",
       "</style>\n",
       "<table border=\"1\" class=\"dataframe\">\n",
       "  <thead>\n",
       "    <tr style=\"text-align: right;\">\n",
       "      <th></th>\n",
       "      <th>起飞</th>\n",
       "      <th>到达</th>\n",
       "      <th>航班号</th>\n",
       "      <th>机型</th>\n",
       "      <th>班期</th>\n",
       "      <th>日期</th>\n",
       "      <th>备注</th>\n",
       "      <th>persons</th>\n",
       "      <th>car_least2</th>\n",
       "    </tr>\n",
       "  </thead>\n",
       "  <tbody>\n",
       "    <tr>\n",
       "      <th>0</th>\n",
       "      <td>8</td>\n",
       "      <td>13</td>\n",
       "      <td>cz6341</td>\n",
       "      <td>321</td>\n",
       "      <td>1234567</td>\n",
       "      <td>03月26日 -</td>\n",
       "      <td>中国南方航空公司</td>\n",
       "      <td>197</td>\n",
       "      <td>795</td>\n",
       "    </tr>\n",
       "    <tr>\n",
       "      <th>1</th>\n",
       "      <td>13</td>\n",
       "      <td>17</td>\n",
       "      <td>hu7132</td>\n",
       "      <td>737</td>\n",
       "      <td>1234567</td>\n",
       "      <td>03月26日 - 10月28日</td>\n",
       "      <td>海南航空公司</td>\n",
       "      <td>146</td>\n",
       "      <td>592</td>\n",
       "    </tr>\n",
       "    <tr>\n",
       "      <th>2</th>\n",
       "      <td>9</td>\n",
       "      <td>12</td>\n",
       "      <td>cz6459</td>\n",
       "      <td>319</td>\n",
       "      <td>..3..6.</td>\n",
       "      <td>03月29日 - 10月28日</td>\n",
       "      <td>中国南方航空公司</td>\n",
       "      <td>123</td>\n",
       "      <td>352</td>\n",
       "    </tr>\n",
       "    <tr>\n",
       "      <th>3</th>\n",
       "      <td>8</td>\n",
       "      <td>11</td>\n",
       "      <td>cz633</td>\n",
       "      <td>jet</td>\n",
       "      <td>.2...6.</td>\n",
       "      <td>03月25日 - 10月28日</td>\n",
       "      <td>中国南方航空公司</td>\n",
       "      <td>127</td>\n",
       "      <td>795</td>\n",
       "    </tr>\n",
       "    <tr>\n",
       "      <th>4</th>\n",
       "      <td>8</td>\n",
       "      <td>13</td>\n",
       "      <td>cz6441</td>\n",
       "      <td>319</td>\n",
       "      <td>...4..7</td>\n",
       "      <td>03月26日 - 10月26日</td>\n",
       "      <td>中国南方航空公司</td>\n",
       "      <td>123</td>\n",
       "      <td>795</td>\n",
       "    </tr>\n",
       "  </tbody>\n",
       "</table>\n",
       "</div>"
      ],
      "text/plain": [
       "   起飞  到达     航班号   机型       班期               日期        备注  persons  \\\n",
       "0   8  13  cz6341  321  1234567         03月26日 -  中国南方航空公司      197   \n",
       "1  13  17  hu7132  737  1234567  03月26日 - 10月28日    海南航空公司      146   \n",
       "2   9  12  cz6459  319  ..3..6.  03月29日 - 10月28日  中国南方航空公司      123   \n",
       "3   8  11   cz633  jet  .2...6.  03月25日 - 10月28日  中国南方航空公司      127   \n",
       "4   8  13  cz6441  319  ...4..7  03月26日 - 10月26日  中国南方航空公司      123   \n",
       "\n",
       "   car_least2  \n",
       "0         795  \n",
       "1         592  \n",
       "2         352  \n",
       "3         795  \n",
       "4         795  "
      ]
     },
     "execution_count": 114,
     "metadata": {},
     "output_type": "execute_result"
    }
   ],
   "source": [
    "#  利用map() 函数将北京航班每个时段所需的最少的出租车数映射到数据表中\n",
    "data2['car_least2'] = data2['起飞'].map(car_least2)\n",
    "data2.head()"
   ]
  },
  {
   "cell_type": "code",
   "execution_count": 115,
   "metadata": {},
   "outputs": [
    {
     "data": {
      "text/html": [
       "<div>\n",
       "<style scoped>\n",
       "    .dataframe tbody tr th:only-of-type {\n",
       "        vertical-align: middle;\n",
       "    }\n",
       "\n",
       "    .dataframe tbody tr th {\n",
       "        vertical-align: top;\n",
       "    }\n",
       "\n",
       "    .dataframe thead th {\n",
       "        text-align: right;\n",
       "    }\n",
       "</style>\n",
       "<table border=\"1\" class=\"dataframe\">\n",
       "  <thead>\n",
       "    <tr style=\"text-align: right;\">\n",
       "      <th></th>\n",
       "      <th>起飞</th>\n",
       "      <th>到达</th>\n",
       "      <th>航班号</th>\n",
       "      <th>机型</th>\n",
       "      <th>班期</th>\n",
       "      <th>日期</th>\n",
       "      <th>备注</th>\n",
       "      <th>persons</th>\n",
       "      <th>car_least2</th>\n",
       "      <th>car_more2</th>\n",
       "    </tr>\n",
       "  </thead>\n",
       "  <tbody>\n",
       "    <tr>\n",
       "      <th>0</th>\n",
       "      <td>8</td>\n",
       "      <td>13</td>\n",
       "      <td>cz6341</td>\n",
       "      <td>321</td>\n",
       "      <td>1234567</td>\n",
       "      <td>03月26日 -</td>\n",
       "      <td>中国南方航空公司</td>\n",
       "      <td>197</td>\n",
       "      <td>795</td>\n",
       "      <td>3180</td>\n",
       "    </tr>\n",
       "    <tr>\n",
       "      <th>1</th>\n",
       "      <td>13</td>\n",
       "      <td>17</td>\n",
       "      <td>hu7132</td>\n",
       "      <td>737</td>\n",
       "      <td>1234567</td>\n",
       "      <td>03月26日 - 10月28日</td>\n",
       "      <td>海南航空公司</td>\n",
       "      <td>146</td>\n",
       "      <td>592</td>\n",
       "      <td>2367</td>\n",
       "    </tr>\n",
       "    <tr>\n",
       "      <th>2</th>\n",
       "      <td>9</td>\n",
       "      <td>12</td>\n",
       "      <td>cz6459</td>\n",
       "      <td>319</td>\n",
       "      <td>..3..6.</td>\n",
       "      <td>03月29日 - 10月28日</td>\n",
       "      <td>中国南方航空公司</td>\n",
       "      <td>123</td>\n",
       "      <td>352</td>\n",
       "      <td>1408</td>\n",
       "    </tr>\n",
       "    <tr>\n",
       "      <th>3</th>\n",
       "      <td>8</td>\n",
       "      <td>11</td>\n",
       "      <td>cz633</td>\n",
       "      <td>jet</td>\n",
       "      <td>.2...6.</td>\n",
       "      <td>03月25日 - 10月28日</td>\n",
       "      <td>中国南方航空公司</td>\n",
       "      <td>127</td>\n",
       "      <td>795</td>\n",
       "      <td>3180</td>\n",
       "    </tr>\n",
       "    <tr>\n",
       "      <th>4</th>\n",
       "      <td>8</td>\n",
       "      <td>13</td>\n",
       "      <td>cz6441</td>\n",
       "      <td>319</td>\n",
       "      <td>...4..7</td>\n",
       "      <td>03月26日 - 10月26日</td>\n",
       "      <td>中国南方航空公司</td>\n",
       "      <td>123</td>\n",
       "      <td>795</td>\n",
       "      <td>3180</td>\n",
       "    </tr>\n",
       "  </tbody>\n",
       "</table>\n",
       "</div>"
      ],
      "text/plain": [
       "   起飞  到达     航班号   机型       班期               日期        备注  persons  \\\n",
       "0   8  13  cz6341  321  1234567         03月26日 -  中国南方航空公司      197   \n",
       "1  13  17  hu7132  737  1234567  03月26日 - 10月28日    海南航空公司      146   \n",
       "2   9  12  cz6459  319  ..3..6.  03月29日 - 10月28日  中国南方航空公司      123   \n",
       "3   8  11   cz633  jet  .2...6.  03月25日 - 10月28日  中国南方航空公司      127   \n",
       "4   8  13  cz6441  319  ...4..7  03月26日 - 10月26日  中国南方航空公司      123   \n",
       "\n",
       "   car_least2  car_more2  \n",
       "0         795       3180  \n",
       "1         592       2367  \n",
       "2         352       1408  \n",
       "3         795       3180  \n",
       "4         795       3180  "
      ]
     },
     "execution_count": 115,
     "metadata": {},
     "output_type": "execute_result"
    }
   ],
   "source": [
    "#  利用map() 函数将北京航班每个时段所需的最多的出租车数映射到数据表中\n",
    "data2['car_more2'] = data2['起飞'].map(car_more2)\n",
    "data2.head()"
   ]
  },
  {
   "cell_type": "code",
   "execution_count": 116,
   "metadata": {},
   "outputs": [],
   "source": [
    "#  将文件保存到本地\n",
    "data2.to_csv('./data/csv/beijing/model_shuju/model_car_2.csv',index=False)"
   ]
  },
  {
   "cell_type": "markdown",
   "metadata": {},
   "source": [
    "# 3线城市的所需的出租车数"
   ]
  },
  {
   "cell_type": "code",
   "execution_count": 68,
   "metadata": {},
   "outputs": [
    {
     "data": {
      "text/plain": [
       "起飞\n",
       "16    4642\n",
       "9     4503\n",
       "15    1578\n",
       "11    1460\n",
       "20     942\n",
       "18     897\n",
       "7      757\n",
       "21     730\n",
       "8      690\n",
       "13     680\n",
       "17     557\n",
       "12     324\n",
       "14     202\n",
       "10     199\n",
       "22     146\n",
       "19      32\n",
       "Name: persons, dtype: int64"
      ]
     },
     "execution_count": 68,
     "metadata": {},
     "output_type": "execute_result"
    }
   ],
   "source": [
    "# 按起飞时间对机场在此起飞时间所需的最多的出租车数进行排序，每辆出租车载客一人\n",
    "car_more3 = data3.groupby('起飞')['persons'].sum().sort_values(ascending = False)\n",
    "car_more3"
   ]
  },
  {
   "cell_type": "code",
   "execution_count": 63,
   "metadata": {},
   "outputs": [
    {
     "data": {
      "text/plain": [
       "起飞\n",
       "16    1160.50\n",
       "9     1125.75\n",
       "15     394.50\n",
       "11     365.00\n",
       "20     235.50\n",
       "18     224.25\n",
       "7      189.25\n",
       "21     182.50\n",
       "8      172.50\n",
       "13     170.00\n",
       "17     139.25\n",
       "12      81.00\n",
       "14      50.50\n",
       "10      49.75\n",
       "22      36.50\n",
       "19       8.00\n",
       "Name: persons, dtype: float64"
      ]
     },
     "execution_count": 63,
     "metadata": {},
     "output_type": "execute_result"
    }
   ],
   "source": [
    "# 按起飞时间对机场在此起飞时间所需的出租车数进行排序，每辆出租车载客4人\n",
    "car_least3 = data3.groupby('起飞')['persons'].sum().sort_values(ascending = False)/4\n",
    "car_least3"
   ]
  },
  {
   "cell_type": "code",
   "execution_count": 117,
   "metadata": {},
   "outputs": [],
   "source": [
    "#  因此时所求的是每辆车都载客4人的情况下，概率非常小，所以对于非整数值，采取向上取整\n",
    "# 定义一个 字典，存储北京航班每个时段最少所需的出租车数，键：时段，值：所需的出租车数\n",
    "car_least3 ={\n",
    "    16: 1161,9: 1126,15: 395,11: 365,\n",
    "    20: 235,18: 225,7: 190,21: 183,\n",
    "    8: 173,13: 170,17: 140,12: 81,\n",
    "    14: 51,10: 50,22: 37,19: 8\n",
    "}"
   ]
  },
  {
   "cell_type": "code",
   "execution_count": 118,
   "metadata": {},
   "outputs": [],
   "source": [
    "# 定义一个 字典，存储2线城市航班每个时段最多所需的出租车数，键：时段，值所需的出租车数\n",
    "car_more3 = {\n",
    "    16: 4642, 9: 4503, 15: 1578,\n",
    "    11: 1460, 20: 942, 18: 897, \n",
    "    7: 757, 21: 730, 8: 690,\n",
    "    13: 680, 17: 557, 12: 324,\n",
    "    14: 202, 10: 199, 22: 146,19: 32\n",
    "}"
   ]
  },
  {
   "cell_type": "code",
   "execution_count": 119,
   "metadata": {},
   "outputs": [
    {
     "data": {
      "text/html": [
       "<div>\n",
       "<style scoped>\n",
       "    .dataframe tbody tr th:only-of-type {\n",
       "        vertical-align: middle;\n",
       "    }\n",
       "\n",
       "    .dataframe tbody tr th {\n",
       "        vertical-align: top;\n",
       "    }\n",
       "\n",
       "    .dataframe thead th {\n",
       "        text-align: right;\n",
       "    }\n",
       "</style>\n",
       "<table border=\"1\" class=\"dataframe\">\n",
       "  <thead>\n",
       "    <tr style=\"text-align: right;\">\n",
       "      <th></th>\n",
       "      <th>起飞</th>\n",
       "      <th>到达</th>\n",
       "      <th>航班号</th>\n",
       "      <th>机型</th>\n",
       "      <th>班期</th>\n",
       "      <th>日期</th>\n",
       "      <th>备注</th>\n",
       "      <th>persons</th>\n",
       "      <th>car_least3</th>\n",
       "    </tr>\n",
       "  </thead>\n",
       "  <tbody>\n",
       "    <tr>\n",
       "      <th>0</th>\n",
       "      <td>7</td>\n",
       "      <td>8</td>\n",
       "      <td>cz3891</td>\n",
       "      <td>733</td>\n",
       "      <td>1234567</td>\n",
       "      <td>03月27日 - 10月28日</td>\n",
       "      <td>中国南方航空公司</td>\n",
       "      <td>122</td>\n",
       "      <td>190</td>\n",
       "    </tr>\n",
       "    <tr>\n",
       "      <th>1</th>\n",
       "      <td>12</td>\n",
       "      <td>12</td>\n",
       "      <td>cz3893</td>\n",
       "      <td>733</td>\n",
       "      <td>1234567</td>\n",
       "      <td>03月26日 - 10月28日</td>\n",
       "      <td>中国南方航空公司</td>\n",
       "      <td>122</td>\n",
       "      <td>81</td>\n",
       "    </tr>\n",
       "    <tr>\n",
       "      <th>2</th>\n",
       "      <td>15</td>\n",
       "      <td>16</td>\n",
       "      <td>cz3895</td>\n",
       "      <td>733</td>\n",
       "      <td>1234567</td>\n",
       "      <td>03月27日 - 10月28日</td>\n",
       "      <td>中国南方航空公司</td>\n",
       "      <td>122</td>\n",
       "      <td>395</td>\n",
       "    </tr>\n",
       "    <tr>\n",
       "      <th>3</th>\n",
       "      <td>20</td>\n",
       "      <td>21</td>\n",
       "      <td>cz3897</td>\n",
       "      <td>733</td>\n",
       "      <td>1.345.7</td>\n",
       "      <td>03月26日 - 03月31日</td>\n",
       "      <td>中国南方航空公司</td>\n",
       "      <td>122</td>\n",
       "      <td>235</td>\n",
       "    </tr>\n",
       "    <tr>\n",
       "      <th>4</th>\n",
       "      <td>20</td>\n",
       "      <td>21</td>\n",
       "      <td>cz3897</td>\n",
       "      <td>733</td>\n",
       "      <td>1234567</td>\n",
       "      <td>04月02日 - 10月28日</td>\n",
       "      <td>中国南方航空公司</td>\n",
       "      <td>122</td>\n",
       "      <td>235</td>\n",
       "    </tr>\n",
       "  </tbody>\n",
       "</table>\n",
       "</div>"
      ],
      "text/plain": [
       "   起飞  到达     航班号   机型       班期               日期        备注  persons  \\\n",
       "0   7   8  cz3891  733  1234567  03月27日 - 10月28日  中国南方航空公司      122   \n",
       "1  12  12  cz3893  733  1234567  03月26日 - 10月28日  中国南方航空公司      122   \n",
       "2  15  16  cz3895  733  1234567  03月27日 - 10月28日  中国南方航空公司      122   \n",
       "3  20  21  cz3897  733  1.345.7  03月26日 - 03月31日  中国南方航空公司      122   \n",
       "4  20  21  cz3897  733  1234567  04月02日 - 10月28日  中国南方航空公司      122   \n",
       "\n",
       "   car_least3  \n",
       "0         190  \n",
       "1          81  \n",
       "2         395  \n",
       "3         235  \n",
       "4         235  "
      ]
     },
     "execution_count": 119,
     "metadata": {},
     "output_type": "execute_result"
    }
   ],
   "source": [
    "#  利用map() 函数将北京航班每个时段所需的最少的出租车数映射到数据表中\n",
    "data3['car_least3'] = data3['起飞'].map(car_least3)\n",
    "data3.head()"
   ]
  },
  {
   "cell_type": "code",
   "execution_count": 120,
   "metadata": {},
   "outputs": [
    {
     "data": {
      "text/html": [
       "<div>\n",
       "<style scoped>\n",
       "    .dataframe tbody tr th:only-of-type {\n",
       "        vertical-align: middle;\n",
       "    }\n",
       "\n",
       "    .dataframe tbody tr th {\n",
       "        vertical-align: top;\n",
       "    }\n",
       "\n",
       "    .dataframe thead th {\n",
       "        text-align: right;\n",
       "    }\n",
       "</style>\n",
       "<table border=\"1\" class=\"dataframe\">\n",
       "  <thead>\n",
       "    <tr style=\"text-align: right;\">\n",
       "      <th></th>\n",
       "      <th>起飞</th>\n",
       "      <th>到达</th>\n",
       "      <th>航班号</th>\n",
       "      <th>机型</th>\n",
       "      <th>班期</th>\n",
       "      <th>日期</th>\n",
       "      <th>备注</th>\n",
       "      <th>persons</th>\n",
       "      <th>car_least3</th>\n",
       "      <th>car_more3</th>\n",
       "    </tr>\n",
       "  </thead>\n",
       "  <tbody>\n",
       "    <tr>\n",
       "      <th>0</th>\n",
       "      <td>7</td>\n",
       "      <td>8</td>\n",
       "      <td>cz3891</td>\n",
       "      <td>733</td>\n",
       "      <td>1234567</td>\n",
       "      <td>03月27日 - 10月28日</td>\n",
       "      <td>中国南方航空公司</td>\n",
       "      <td>122</td>\n",
       "      <td>190</td>\n",
       "      <td>757</td>\n",
       "    </tr>\n",
       "    <tr>\n",
       "      <th>1</th>\n",
       "      <td>12</td>\n",
       "      <td>12</td>\n",
       "      <td>cz3893</td>\n",
       "      <td>733</td>\n",
       "      <td>1234567</td>\n",
       "      <td>03月26日 - 10月28日</td>\n",
       "      <td>中国南方航空公司</td>\n",
       "      <td>122</td>\n",
       "      <td>81</td>\n",
       "      <td>324</td>\n",
       "    </tr>\n",
       "    <tr>\n",
       "      <th>2</th>\n",
       "      <td>15</td>\n",
       "      <td>16</td>\n",
       "      <td>cz3895</td>\n",
       "      <td>733</td>\n",
       "      <td>1234567</td>\n",
       "      <td>03月27日 - 10月28日</td>\n",
       "      <td>中国南方航空公司</td>\n",
       "      <td>122</td>\n",
       "      <td>395</td>\n",
       "      <td>1578</td>\n",
       "    </tr>\n",
       "    <tr>\n",
       "      <th>3</th>\n",
       "      <td>20</td>\n",
       "      <td>21</td>\n",
       "      <td>cz3897</td>\n",
       "      <td>733</td>\n",
       "      <td>1.345.7</td>\n",
       "      <td>03月26日 - 03月31日</td>\n",
       "      <td>中国南方航空公司</td>\n",
       "      <td>122</td>\n",
       "      <td>235</td>\n",
       "      <td>942</td>\n",
       "    </tr>\n",
       "    <tr>\n",
       "      <th>4</th>\n",
       "      <td>20</td>\n",
       "      <td>21</td>\n",
       "      <td>cz3897</td>\n",
       "      <td>733</td>\n",
       "      <td>1234567</td>\n",
       "      <td>04月02日 - 10月28日</td>\n",
       "      <td>中国南方航空公司</td>\n",
       "      <td>122</td>\n",
       "      <td>235</td>\n",
       "      <td>942</td>\n",
       "    </tr>\n",
       "  </tbody>\n",
       "</table>\n",
       "</div>"
      ],
      "text/plain": [
       "   起飞  到达     航班号   机型       班期               日期        备注  persons  \\\n",
       "0   7   8  cz3891  733  1234567  03月27日 - 10月28日  中国南方航空公司      122   \n",
       "1  12  12  cz3893  733  1234567  03月26日 - 10月28日  中国南方航空公司      122   \n",
       "2  15  16  cz3895  733  1234567  03月27日 - 10月28日  中国南方航空公司      122   \n",
       "3  20  21  cz3897  733  1.345.7  03月26日 - 03月31日  中国南方航空公司      122   \n",
       "4  20  21  cz3897  733  1234567  04月02日 - 10月28日  中国南方航空公司      122   \n",
       "\n",
       "   car_least3  car_more3  \n",
       "0         190        757  \n",
       "1          81        324  \n",
       "2         395       1578  \n",
       "3         235        942  \n",
       "4         235        942  "
      ]
     },
     "execution_count": 120,
     "metadata": {},
     "output_type": "execute_result"
    }
   ],
   "source": [
    "#  利用map() 函数将北京航班每个时段所需的最多的出租车数映射到数据表中\n",
    "data3['car_more3'] = data3['起飞'].map(car_more3)\n",
    "data3.head()"
   ]
  },
  {
   "cell_type": "code",
   "execution_count": 121,
   "metadata": {},
   "outputs": [],
   "source": [
    "#  将文件保存到本地\n",
    "data3.to_csv('./data/csv/beijing/model_shuju/model_car_3.csv',index=False)"
   ]
  },
  {
   "cell_type": "markdown",
   "metadata": {},
   "source": [
    "# 删除三线城市中的属性列为‘备注’，‘日期’，‘班期’"
   ]
  },
  {
   "cell_type": "markdown",
   "metadata": {},
   "source": [
    "# 删除北京一线城市中的属性列，"
   ]
  },
  {
   "cell_type": "code",
   "execution_count": 126,
   "metadata": {},
   "outputs": [],
   "source": [
    "# 因为数据集中的属性列“备注”\n",
    "data1 = data1.drop('备注',axis = 1)\n",
    "data1 = data1.drop('日期',axis = 1)\n",
    "data1 = data1.drop('班期',axis = 1)"
   ]
  },
  {
   "cell_type": "code",
   "execution_count": 127,
   "metadata": {},
   "outputs": [],
   "source": [
    "data1.to_csv('./data/csv/beijing/model_shuju/model_last_1',index = False)"
   ]
  },
  {
   "cell_type": "code",
   "execution_count": 134,
   "metadata": {},
   "outputs": [
    {
     "data": {
      "text/html": [
       "<div>\n",
       "<style scoped>\n",
       "    .dataframe tbody tr th:only-of-type {\n",
       "        vertical-align: middle;\n",
       "    }\n",
       "\n",
       "    .dataframe tbody tr th {\n",
       "        vertical-align: top;\n",
       "    }\n",
       "\n",
       "    .dataframe thead th {\n",
       "        text-align: right;\n",
       "    }\n",
       "</style>\n",
       "<table border=\"1\" class=\"dataframe\">\n",
       "  <thead>\n",
       "    <tr style=\"text-align: right;\">\n",
       "      <th></th>\n",
       "      <th>起飞</th>\n",
       "      <th>到达</th>\n",
       "      <th>航班号</th>\n",
       "      <th>机型</th>\n",
       "      <th>persons</th>\n",
       "      <th>car_least1</th>\n",
       "      <th>car_more1</th>\n",
       "    </tr>\n",
       "  </thead>\n",
       "  <tbody>\n",
       "    <tr>\n",
       "      <th>0</th>\n",
       "      <td>12</td>\n",
       "      <td>13</td>\n",
       "      <td>ca1142</td>\n",
       "      <td>733</td>\n",
       "      <td>122.0</td>\n",
       "      <td>2025</td>\n",
       "      <td>8096</td>\n",
       "    </tr>\n",
       "    <tr>\n",
       "      <th>1</th>\n",
       "      <td>18</td>\n",
       "      <td>19</td>\n",
       "      <td>ua4409</td>\n",
       "      <td>737</td>\n",
       "      <td>146.0</td>\n",
       "      <td>2464</td>\n",
       "      <td>9854</td>\n",
       "    </tr>\n",
       "    <tr>\n",
       "      <th>2</th>\n",
       "      <td>19</td>\n",
       "      <td>20</td>\n",
       "      <td>ca1132</td>\n",
       "      <td>733</td>\n",
       "      <td>122.0</td>\n",
       "      <td>2289</td>\n",
       "      <td>9154</td>\n",
       "    </tr>\n",
       "    <tr>\n",
       "      <th>3</th>\n",
       "      <td>21</td>\n",
       "      <td>22</td>\n",
       "      <td>ca1108</td>\n",
       "      <td>733</td>\n",
       "      <td>122.0</td>\n",
       "      <td>1559</td>\n",
       "      <td>6234</td>\n",
       "    </tr>\n",
       "    <tr>\n",
       "      <th>4</th>\n",
       "      <td>19</td>\n",
       "      <td>23</td>\n",
       "      <td>cz3148</td>\n",
       "      <td>320</td>\n",
       "      <td>156.0</td>\n",
       "      <td>2289</td>\n",
       "      <td>9154</td>\n",
       "    </tr>\n",
       "  </tbody>\n",
       "</table>\n",
       "</div>"
      ],
      "text/plain": [
       "   起飞  到达     航班号   机型  persons  car_least1  car_more1\n",
       "0  12  13  ca1142  733    122.0        2025       8096\n",
       "1  18  19  ua4409  737    146.0        2464       9854\n",
       "2  19  20  ca1132  733    122.0        2289       9154\n",
       "3  21  22  ca1108  733    122.0        1559       6234\n",
       "4  19  23  cz3148  320    156.0        2289       9154"
      ]
     },
     "execution_count": 134,
     "metadata": {},
     "output_type": "execute_result"
    }
   ],
   "source": [
    "data1.head()"
   ]
  },
  {
   "cell_type": "markdown",
   "metadata": {},
   "source": [
    "# 删除2线城市中的属性列"
   ]
  },
  {
   "cell_type": "code",
   "execution_count": 128,
   "metadata": {},
   "outputs": [],
   "source": [
    "data2 = data2.drop('备注',axis = 1)\n",
    "data2 = data2.drop('日期',axis = 1)\n",
    "data2 = data2.drop('班期',axis = 1)"
   ]
  },
  {
   "cell_type": "code",
   "execution_count": 129,
   "metadata": {},
   "outputs": [],
   "source": [
    "data2.to_csv('./data/csv/beijing/model_shuju/model_last_2',index = False)"
   ]
  },
  {
   "cell_type": "code",
   "execution_count": 133,
   "metadata": {},
   "outputs": [
    {
     "data": {
      "text/html": [
       "<div>\n",
       "<style scoped>\n",
       "    .dataframe tbody tr th:only-of-type {\n",
       "        vertical-align: middle;\n",
       "    }\n",
       "\n",
       "    .dataframe tbody tr th {\n",
       "        vertical-align: top;\n",
       "    }\n",
       "\n",
       "    .dataframe thead th {\n",
       "        text-align: right;\n",
       "    }\n",
       "</style>\n",
       "<table border=\"1\" class=\"dataframe\">\n",
       "  <thead>\n",
       "    <tr style=\"text-align: right;\">\n",
       "      <th></th>\n",
       "      <th>起飞</th>\n",
       "      <th>到达</th>\n",
       "      <th>航班号</th>\n",
       "      <th>机型</th>\n",
       "      <th>persons</th>\n",
       "      <th>car_least2</th>\n",
       "      <th>car_more2</th>\n",
       "    </tr>\n",
       "  </thead>\n",
       "  <tbody>\n",
       "    <tr>\n",
       "      <th>0</th>\n",
       "      <td>8</td>\n",
       "      <td>13</td>\n",
       "      <td>cz6341</td>\n",
       "      <td>321</td>\n",
       "      <td>197</td>\n",
       "      <td>795</td>\n",
       "      <td>3180</td>\n",
       "    </tr>\n",
       "    <tr>\n",
       "      <th>1</th>\n",
       "      <td>13</td>\n",
       "      <td>17</td>\n",
       "      <td>hu7132</td>\n",
       "      <td>737</td>\n",
       "      <td>146</td>\n",
       "      <td>592</td>\n",
       "      <td>2367</td>\n",
       "    </tr>\n",
       "    <tr>\n",
       "      <th>2</th>\n",
       "      <td>9</td>\n",
       "      <td>12</td>\n",
       "      <td>cz6459</td>\n",
       "      <td>319</td>\n",
       "      <td>123</td>\n",
       "      <td>352</td>\n",
       "      <td>1408</td>\n",
       "    </tr>\n",
       "    <tr>\n",
       "      <th>3</th>\n",
       "      <td>8</td>\n",
       "      <td>11</td>\n",
       "      <td>cz633</td>\n",
       "      <td>jet</td>\n",
       "      <td>127</td>\n",
       "      <td>795</td>\n",
       "      <td>3180</td>\n",
       "    </tr>\n",
       "    <tr>\n",
       "      <th>4</th>\n",
       "      <td>8</td>\n",
       "      <td>13</td>\n",
       "      <td>cz6441</td>\n",
       "      <td>319</td>\n",
       "      <td>123</td>\n",
       "      <td>795</td>\n",
       "      <td>3180</td>\n",
       "    </tr>\n",
       "  </tbody>\n",
       "</table>\n",
       "</div>"
      ],
      "text/plain": [
       "   起飞  到达     航班号   机型  persons  car_least2  car_more2\n",
       "0   8  13  cz6341  321      197         795       3180\n",
       "1  13  17  hu7132  737      146         592       2367\n",
       "2   9  12  cz6459  319      123         352       1408\n",
       "3   8  11   cz633  jet      127         795       3180\n",
       "4   8  13  cz6441  319      123         795       3180"
      ]
     },
     "execution_count": 133,
     "metadata": {},
     "output_type": "execute_result"
    }
   ],
   "source": [
    "data2.head()"
   ]
  },
  {
   "cell_type": "markdown",
   "metadata": {},
   "source": [
    "# 删除3线城市中的属性列"
   ]
  },
  {
   "cell_type": "code",
   "execution_count": 130,
   "metadata": {},
   "outputs": [],
   "source": [
    "data3 = data3.drop('备注',axis = 1)\n",
    "data3 = data3.drop('日期',axis = 1)\n",
    "data3 = data3.drop('班期',axis = 1)"
   ]
  },
  {
   "cell_type": "code",
   "execution_count": 131,
   "metadata": {},
   "outputs": [],
   "source": [
    "data3.to_csv('./data/csv/beijing/model_shuju/model_last_3',index = False)"
   ]
  },
  {
   "cell_type": "code",
   "execution_count": 132,
   "metadata": {},
   "outputs": [
    {
     "data": {
      "text/html": [
       "<div>\n",
       "<style scoped>\n",
       "    .dataframe tbody tr th:only-of-type {\n",
       "        vertical-align: middle;\n",
       "    }\n",
       "\n",
       "    .dataframe tbody tr th {\n",
       "        vertical-align: top;\n",
       "    }\n",
       "\n",
       "    .dataframe thead th {\n",
       "        text-align: right;\n",
       "    }\n",
       "</style>\n",
       "<table border=\"1\" class=\"dataframe\">\n",
       "  <thead>\n",
       "    <tr style=\"text-align: right;\">\n",
       "      <th></th>\n",
       "      <th>起飞</th>\n",
       "      <th>到达</th>\n",
       "      <th>航班号</th>\n",
       "      <th>机型</th>\n",
       "      <th>persons</th>\n",
       "      <th>car_least3</th>\n",
       "      <th>car_more3</th>\n",
       "    </tr>\n",
       "  </thead>\n",
       "  <tbody>\n",
       "    <tr>\n",
       "      <th>0</th>\n",
       "      <td>7</td>\n",
       "      <td>8</td>\n",
       "      <td>cz3891</td>\n",
       "      <td>733</td>\n",
       "      <td>122</td>\n",
       "      <td>190</td>\n",
       "      <td>757</td>\n",
       "    </tr>\n",
       "    <tr>\n",
       "      <th>1</th>\n",
       "      <td>12</td>\n",
       "      <td>12</td>\n",
       "      <td>cz3893</td>\n",
       "      <td>733</td>\n",
       "      <td>122</td>\n",
       "      <td>81</td>\n",
       "      <td>324</td>\n",
       "    </tr>\n",
       "    <tr>\n",
       "      <th>2</th>\n",
       "      <td>15</td>\n",
       "      <td>16</td>\n",
       "      <td>cz3895</td>\n",
       "      <td>733</td>\n",
       "      <td>122</td>\n",
       "      <td>395</td>\n",
       "      <td>1578</td>\n",
       "    </tr>\n",
       "    <tr>\n",
       "      <th>3</th>\n",
       "      <td>20</td>\n",
       "      <td>21</td>\n",
       "      <td>cz3897</td>\n",
       "      <td>733</td>\n",
       "      <td>122</td>\n",
       "      <td>235</td>\n",
       "      <td>942</td>\n",
       "    </tr>\n",
       "    <tr>\n",
       "      <th>4</th>\n",
       "      <td>20</td>\n",
       "      <td>21</td>\n",
       "      <td>cz3897</td>\n",
       "      <td>733</td>\n",
       "      <td>122</td>\n",
       "      <td>235</td>\n",
       "      <td>942</td>\n",
       "    </tr>\n",
       "  </tbody>\n",
       "</table>\n",
       "</div>"
      ],
      "text/plain": [
       "   起飞  到达     航班号   机型  persons  car_least3  car_more3\n",
       "0   7   8  cz3891  733      122         190        757\n",
       "1  12  12  cz3893  733      122          81        324\n",
       "2  15  16  cz3895  733      122         395       1578\n",
       "3  20  21  cz3897  733      122         235        942\n",
       "4  20  21  cz3897  733      122         235        942"
      ]
     },
     "execution_count": 132,
     "metadata": {},
     "output_type": "execute_result"
    }
   ],
   "source": [
    "data3.head()"
   ]
  },
  {
   "cell_type": "markdown",
   "metadata": {},
   "source": [
    "# 之后统计平均每天每个时段的出租车的数量"
   ]
  },
  {
   "cell_type": "code",
   "execution_count": 135,
   "metadata": {},
   "outputs": [
    {
     "data": {
      "text/plain": [
       "7     70\n",
       "17    59\n",
       "18    58\n",
       "19    48\n",
       "12    46\n",
       "8     43\n",
       "14    43\n",
       "20    42\n",
       "16    39\n",
       "13    39\n",
       "21    38\n",
       "11    34\n",
       "15    34\n",
       "9     32\n",
       "10    28\n",
       "22    22\n",
       "23     2\n",
       "Name: 起飞, dtype: int64"
      ]
     },
     "execution_count": 135,
     "metadata": {},
     "output_type": "execute_result"
    }
   ],
   "source": [
    "data1['起飞'].value_counts()"
   ]
  },
  {
   "cell_type": "code",
   "execution_count": 143,
   "metadata": {},
   "outputs": [
    {
     "data": {
      "text/plain": [
       "7      [42.42857142857143]\n",
       "8      [46.86046511627907]\n",
       "9               [41.03125]\n",
       "10    [40.357142857142854]\n",
       "11    [37.911764705882355]\n",
       "12     [44.02173913043478]\n",
       "13    [46.205128205128204]\n",
       "14     [41.44186046511628]\n",
       "15    [46.411764705882355]\n",
       "16     [42.87179487179487]\n",
       "17     [46.86440677966102]\n",
       "18     [42.48275862068966]\n",
       "19               [47.6875]\n",
       "20     [43.19047619047619]\n",
       "21    [41.026315789473685]\n",
       "22     [34.68181818181818]\n",
       "23                  [44.5]\n",
       "dtype: object"
      ]
     },
     "execution_count": 143,
     "metadata": {},
     "output_type": "execute_result"
    }
   ],
   "source": [
    "# 按起飞时段对每天机场所需的出租车的最少需求量进行排序\n",
    "data1.groupby('起飞')['car_least1'].unique().sort_values(ascending = False)/(data1['起飞'].value_counts())"
   ]
  },
  {
   "cell_type": "code",
   "execution_count": 144,
   "metadata": {},
   "outputs": [],
   "source": [
    "#  对于非整数数据，采取向上取整法\n",
    "car_day_least1 = {\n",
    "    7: 43, 8: 47, 9: 42, 10: 41,\n",
    "    11: 38, 12: 45, 13: 47, 14: 42,\n",
    "    15: 47, 16: 43, 17: 47, 18: 43,\n",
    "    19: 48, 20: 43, 21: 42, 22: 35,\n",
    "    23: 45  \n",
    "}"
   ]
  },
  {
   "cell_type": "code",
   "execution_count": 145,
   "metadata": {},
   "outputs": [
    {
     "data": {
      "text/html": [
       "<div>\n",
       "<style scoped>\n",
       "    .dataframe tbody tr th:only-of-type {\n",
       "        vertical-align: middle;\n",
       "    }\n",
       "\n",
       "    .dataframe tbody tr th {\n",
       "        vertical-align: top;\n",
       "    }\n",
       "\n",
       "    .dataframe thead th {\n",
       "        text-align: right;\n",
       "    }\n",
       "</style>\n",
       "<table border=\"1\" class=\"dataframe\">\n",
       "  <thead>\n",
       "    <tr style=\"text-align: right;\">\n",
       "      <th></th>\n",
       "      <th>起飞</th>\n",
       "      <th>到达</th>\n",
       "      <th>航班号</th>\n",
       "      <th>机型</th>\n",
       "      <th>persons</th>\n",
       "      <th>car_least1</th>\n",
       "      <th>car_more1</th>\n",
       "      <th>car_day_least1</th>\n",
       "    </tr>\n",
       "  </thead>\n",
       "  <tbody>\n",
       "    <tr>\n",
       "      <th>0</th>\n",
       "      <td>12</td>\n",
       "      <td>13</td>\n",
       "      <td>ca1142</td>\n",
       "      <td>733</td>\n",
       "      <td>122.0</td>\n",
       "      <td>2025</td>\n",
       "      <td>8096</td>\n",
       "      <td>45</td>\n",
       "    </tr>\n",
       "    <tr>\n",
       "      <th>1</th>\n",
       "      <td>18</td>\n",
       "      <td>19</td>\n",
       "      <td>ua4409</td>\n",
       "      <td>737</td>\n",
       "      <td>146.0</td>\n",
       "      <td>2464</td>\n",
       "      <td>9854</td>\n",
       "      <td>43</td>\n",
       "    </tr>\n",
       "    <tr>\n",
       "      <th>2</th>\n",
       "      <td>19</td>\n",
       "      <td>20</td>\n",
       "      <td>ca1132</td>\n",
       "      <td>733</td>\n",
       "      <td>122.0</td>\n",
       "      <td>2289</td>\n",
       "      <td>9154</td>\n",
       "      <td>48</td>\n",
       "    </tr>\n",
       "    <tr>\n",
       "      <th>3</th>\n",
       "      <td>21</td>\n",
       "      <td>22</td>\n",
       "      <td>ca1108</td>\n",
       "      <td>733</td>\n",
       "      <td>122.0</td>\n",
       "      <td>1559</td>\n",
       "      <td>6234</td>\n",
       "      <td>42</td>\n",
       "    </tr>\n",
       "    <tr>\n",
       "      <th>4</th>\n",
       "      <td>19</td>\n",
       "      <td>23</td>\n",
       "      <td>cz3148</td>\n",
       "      <td>320</td>\n",
       "      <td>156.0</td>\n",
       "      <td>2289</td>\n",
       "      <td>9154</td>\n",
       "      <td>48</td>\n",
       "    </tr>\n",
       "  </tbody>\n",
       "</table>\n",
       "</div>"
      ],
      "text/plain": [
       "   起飞  到达     航班号   机型  persons  car_least1  car_more1  car_day_least1\n",
       "0  12  13  ca1142  733    122.0        2025       8096              45\n",
       "1  18  19  ua4409  737    146.0        2464       9854              43\n",
       "2  19  20  ca1132  733    122.0        2289       9154              48\n",
       "3  21  22  ca1108  733    122.0        1559       6234              42\n",
       "4  19  23  cz3148  320    156.0        2289       9154              48"
      ]
     },
     "execution_count": 145,
     "metadata": {},
     "output_type": "execute_result"
    }
   ],
   "source": [
    "#  利用map() 函数将北京航班每个时段所需的最少的出租车数映射到数据表中\n",
    "data1['car_day_least1'] = data1['起飞'].map(car_day_least1)\n",
    "data1.head()"
   ]
  },
  {
   "cell_type": "code",
   "execution_count": 146,
   "metadata": {},
   "outputs": [
    {
     "data": {
      "text/plain": [
       "7                  [169.7]\n",
       "8     [187.37209302325581]\n",
       "9              [164.03125]\n",
       "10    [161.39285714285714]\n",
       "11    [151.61764705882354]\n",
       "12                 [176.0]\n",
       "13    [184.74358974358975]\n",
       "14    [165.72093023255815]\n",
       "15    [185.55882352941177]\n",
       "16    [171.43589743589743]\n",
       "17    [187.40677966101694]\n",
       "18    [169.89655172413794]\n",
       "19    [190.70833333333334]\n",
       "20    [172.73809523809524]\n",
       "21    [164.05263157894737]\n",
       "22     [138.6818181818182]\n",
       "23                 [176.5]\n",
       "dtype: object"
      ]
     },
     "execution_count": 146,
     "metadata": {},
     "output_type": "execute_result"
    }
   ],
   "source": [
    "# 按起飞时段对每天机场所需的出租车的最多需求量进行排序\n",
    "data1.groupby('起飞')['car_more1'].unique().sort_values(ascending = False)/(data1['起飞'].value_counts())"
   ]
  },
  {
   "cell_type": "code",
   "execution_count": 147,
   "metadata": {},
   "outputs": [],
   "source": [
    "#  对于非整数数据，采取向上取整法\n",
    "car_day_more1 = {\n",
    "    7: 170, 8: 188, 9: 165,10: 162,\n",
    "    11: 152, 12: 176, 13: 185, 14: 166,\n",
    "    15: 186, 16: 172, 17: 188, 18: 170,\n",
    "    19: 191, 20: 173, 21: 165, 22: 139,\n",
    "    23: 177\n",
    "}"
   ]
  },
  {
   "cell_type": "code",
   "execution_count": 148,
   "metadata": {},
   "outputs": [
    {
     "data": {
      "text/html": [
       "<div>\n",
       "<style scoped>\n",
       "    .dataframe tbody tr th:only-of-type {\n",
       "        vertical-align: middle;\n",
       "    }\n",
       "\n",
       "    .dataframe tbody tr th {\n",
       "        vertical-align: top;\n",
       "    }\n",
       "\n",
       "    .dataframe thead th {\n",
       "        text-align: right;\n",
       "    }\n",
       "</style>\n",
       "<table border=\"1\" class=\"dataframe\">\n",
       "  <thead>\n",
       "    <tr style=\"text-align: right;\">\n",
       "      <th></th>\n",
       "      <th>起飞</th>\n",
       "      <th>到达</th>\n",
       "      <th>航班号</th>\n",
       "      <th>机型</th>\n",
       "      <th>persons</th>\n",
       "      <th>car_least1</th>\n",
       "      <th>car_more1</th>\n",
       "      <th>car_day_least1</th>\n",
       "      <th>car_day_more1</th>\n",
       "    </tr>\n",
       "  </thead>\n",
       "  <tbody>\n",
       "    <tr>\n",
       "      <th>0</th>\n",
       "      <td>12</td>\n",
       "      <td>13</td>\n",
       "      <td>ca1142</td>\n",
       "      <td>733</td>\n",
       "      <td>122.0</td>\n",
       "      <td>2025</td>\n",
       "      <td>8096</td>\n",
       "      <td>45</td>\n",
       "      <td>176</td>\n",
       "    </tr>\n",
       "    <tr>\n",
       "      <th>1</th>\n",
       "      <td>18</td>\n",
       "      <td>19</td>\n",
       "      <td>ua4409</td>\n",
       "      <td>737</td>\n",
       "      <td>146.0</td>\n",
       "      <td>2464</td>\n",
       "      <td>9854</td>\n",
       "      <td>43</td>\n",
       "      <td>170</td>\n",
       "    </tr>\n",
       "    <tr>\n",
       "      <th>2</th>\n",
       "      <td>19</td>\n",
       "      <td>20</td>\n",
       "      <td>ca1132</td>\n",
       "      <td>733</td>\n",
       "      <td>122.0</td>\n",
       "      <td>2289</td>\n",
       "      <td>9154</td>\n",
       "      <td>48</td>\n",
       "      <td>191</td>\n",
       "    </tr>\n",
       "    <tr>\n",
       "      <th>3</th>\n",
       "      <td>21</td>\n",
       "      <td>22</td>\n",
       "      <td>ca1108</td>\n",
       "      <td>733</td>\n",
       "      <td>122.0</td>\n",
       "      <td>1559</td>\n",
       "      <td>6234</td>\n",
       "      <td>42</td>\n",
       "      <td>165</td>\n",
       "    </tr>\n",
       "    <tr>\n",
       "      <th>4</th>\n",
       "      <td>19</td>\n",
       "      <td>23</td>\n",
       "      <td>cz3148</td>\n",
       "      <td>320</td>\n",
       "      <td>156.0</td>\n",
       "      <td>2289</td>\n",
       "      <td>9154</td>\n",
       "      <td>48</td>\n",
       "      <td>191</td>\n",
       "    </tr>\n",
       "  </tbody>\n",
       "</table>\n",
       "</div>"
      ],
      "text/plain": [
       "   起飞  到达     航班号   机型  persons  car_least1  car_more1  car_day_least1  \\\n",
       "0  12  13  ca1142  733    122.0        2025       8096              45   \n",
       "1  18  19  ua4409  737    146.0        2464       9854              43   \n",
       "2  19  20  ca1132  733    122.0        2289       9154              48   \n",
       "3  21  22  ca1108  733    122.0        1559       6234              42   \n",
       "4  19  23  cz3148  320    156.0        2289       9154              48   \n",
       "\n",
       "   car_day_more1  \n",
       "0            176  \n",
       "1            170  \n",
       "2            191  \n",
       "3            165  \n",
       "4            191  "
      ]
     },
     "execution_count": 148,
     "metadata": {},
     "output_type": "execute_result"
    }
   ],
   "source": [
    "#  利用map() 函数将北京航班每个时段所需的最多的出租车数映射到数据表中\n",
    "data1['car_day_more1'] = data1['起飞'].map(car_day_more1)\n",
    "data1.head()"
   ]
  },
  {
   "cell_type": "code",
   "execution_count": 149,
   "metadata": {},
   "outputs": [],
   "source": [
    "# 将数据保存到本地\n",
    "data1.to_csv('./data/csv/beijing/model_shuju/model_day_1.csv',index = False)"
   ]
  },
  {
   "cell_type": "markdown",
   "metadata": {},
   "source": [
    "# 2线城市 平均每天所需的出租车数量"
   ]
  },
  {
   "cell_type": "code",
   "execution_count": 136,
   "metadata": {},
   "outputs": [
    {
     "data": {
      "text/plain": [
       "16    28\n",
       "15    27\n",
       "10    22\n",
       "12    22\n",
       "13    22\n",
       "8     21\n",
       "14    19\n",
       "7     19\n",
       "17    17\n",
       "9     15\n",
       "21    15\n",
       "19    14\n",
       "18    13\n",
       "11    10\n",
       "20     9\n",
       "22     4\n",
       "23     2\n",
       "Name: 起飞, dtype: int64"
      ]
     },
     "execution_count": 136,
     "metadata": {},
     "output_type": "execute_result"
    }
   ],
   "source": [
    "data2['起飞'].value_counts()"
   ]
  },
  {
   "cell_type": "code",
   "execution_count": 137,
   "metadata": {},
   "outputs": [
    {
     "data": {
      "text/plain": [
       "16    33\n",
       "9     31\n",
       "15    12\n",
       "11    10\n",
       "20     7\n",
       "18     6\n",
       "21     5\n",
       "13     5\n",
       "8      5\n",
       "7      5\n",
       "17     4\n",
       "10     3\n",
       "12     2\n",
       "22     1\n",
       "19     1\n",
       "14     1\n",
       "Name: 起飞, dtype: int64"
      ]
     },
     "execution_count": 137,
     "metadata": {},
     "output_type": "execute_result"
    }
   ],
   "source": [
    "data3['起飞'].value_counts()"
   ]
  },
  {
   "cell_type": "code",
   "execution_count": 150,
   "metadata": {},
   "outputs": [
    {
     "data": {
      "text/plain": [
       "7      [37.21052631578947]\n",
       "8     [37.857142857142854]\n",
       "9     [23.466666666666665]\n",
       "10    [28.136363636363637]\n",
       "11                  [44.6]\n",
       "12    [28.636363636363637]\n",
       "13     [26.90909090909091]\n",
       "14    [34.421052631578945]\n",
       "15    [29.666666666666668]\n",
       "16                 [32.25]\n",
       "17     [30.88235294117647]\n",
       "18     [33.61538461538461]\n",
       "19     [33.07142857142857]\n",
       "20     [32.22222222222222]\n",
       "21    [29.666666666666668]\n",
       "22                  [24.0]\n",
       "23                  [27.5]\n",
       "dtype: object"
      ]
     },
     "execution_count": 150,
     "metadata": {},
     "output_type": "execute_result"
    }
   ],
   "source": [
    "# 按起飞时段对每天机场所需的出租车的最少需求量进行排序\n",
    "data2.groupby('起飞')['car_least2'].unique().sort_values(ascending = False)/(data2['起飞'].value_counts())"
   ]
  },
  {
   "cell_type": "code",
   "execution_count": 153,
   "metadata": {},
   "outputs": [],
   "source": [
    "#  对于非整数数据，采取向上取整法\n",
    "car_day_least2 = {\n",
    "    7: 38, 8: 38, 9: 24, 10: 29, 11: 45,\n",
    "    12: 29, 13: 27, 14: 35, 15: 30, 16: 33,\n",
    "    17: 31, 18: 34, 19: 34, 20: 33, 21: 30,\n",
    "    22:24, 23:28\n",
    "}"
   ]
  },
  {
   "cell_type": "code",
   "execution_count": 154,
   "metadata": {},
   "outputs": [
    {
     "data": {
      "text/html": [
       "<div>\n",
       "<style scoped>\n",
       "    .dataframe tbody tr th:only-of-type {\n",
       "        vertical-align: middle;\n",
       "    }\n",
       "\n",
       "    .dataframe tbody tr th {\n",
       "        vertical-align: top;\n",
       "    }\n",
       "\n",
       "    .dataframe thead th {\n",
       "        text-align: right;\n",
       "    }\n",
       "</style>\n",
       "<table border=\"1\" class=\"dataframe\">\n",
       "  <thead>\n",
       "    <tr style=\"text-align: right;\">\n",
       "      <th></th>\n",
       "      <th>起飞</th>\n",
       "      <th>到达</th>\n",
       "      <th>航班号</th>\n",
       "      <th>机型</th>\n",
       "      <th>persons</th>\n",
       "      <th>car_least2</th>\n",
       "      <th>car_more2</th>\n",
       "      <th>car_day_least2</th>\n",
       "    </tr>\n",
       "  </thead>\n",
       "  <tbody>\n",
       "    <tr>\n",
       "      <th>0</th>\n",
       "      <td>8</td>\n",
       "      <td>13</td>\n",
       "      <td>cz6341</td>\n",
       "      <td>321</td>\n",
       "      <td>197</td>\n",
       "      <td>795</td>\n",
       "      <td>3180</td>\n",
       "      <td>38</td>\n",
       "    </tr>\n",
       "    <tr>\n",
       "      <th>1</th>\n",
       "      <td>13</td>\n",
       "      <td>17</td>\n",
       "      <td>hu7132</td>\n",
       "      <td>737</td>\n",
       "      <td>146</td>\n",
       "      <td>592</td>\n",
       "      <td>2367</td>\n",
       "      <td>27</td>\n",
       "    </tr>\n",
       "    <tr>\n",
       "      <th>2</th>\n",
       "      <td>9</td>\n",
       "      <td>12</td>\n",
       "      <td>cz6459</td>\n",
       "      <td>319</td>\n",
       "      <td>123</td>\n",
       "      <td>352</td>\n",
       "      <td>1408</td>\n",
       "      <td>24</td>\n",
       "    </tr>\n",
       "    <tr>\n",
       "      <th>3</th>\n",
       "      <td>8</td>\n",
       "      <td>11</td>\n",
       "      <td>cz633</td>\n",
       "      <td>jet</td>\n",
       "      <td>127</td>\n",
       "      <td>795</td>\n",
       "      <td>3180</td>\n",
       "      <td>38</td>\n",
       "    </tr>\n",
       "    <tr>\n",
       "      <th>4</th>\n",
       "      <td>8</td>\n",
       "      <td>13</td>\n",
       "      <td>cz6441</td>\n",
       "      <td>319</td>\n",
       "      <td>123</td>\n",
       "      <td>795</td>\n",
       "      <td>3180</td>\n",
       "      <td>38</td>\n",
       "    </tr>\n",
       "  </tbody>\n",
       "</table>\n",
       "</div>"
      ],
      "text/plain": [
       "   起飞  到达     航班号   机型  persons  car_least2  car_more2  car_day_least2\n",
       "0   8  13  cz6341  321      197         795       3180              38\n",
       "1  13  17  hu7132  737      146         592       2367              27\n",
       "2   9  12  cz6459  319      123         352       1408              24\n",
       "3   8  11   cz633  jet      127         795       3180              38\n",
       "4   8  13  cz6441  319      123         795       3180              38"
      ]
     },
     "execution_count": 154,
     "metadata": {},
     "output_type": "execute_result"
    }
   ],
   "source": [
    "#  利用map() 函数将2线城市航班每个时段所需的最少的出租车数映射到数据表中\n",
    "data2['car_day_least2'] = data2['起飞'].map(car_day_least2)\n",
    "data2.head()"
   ]
  },
  {
   "cell_type": "code",
   "execution_count": 151,
   "metadata": {},
   "outputs": [
    {
     "data": {
      "text/plain": [
       "7      [148.8421052631579]\n",
       "8     [151.42857142857142]\n",
       "9      [93.86666666666666]\n",
       "10    [112.45454545454545]\n",
       "11                 [178.1]\n",
       "12     [114.4090909090909]\n",
       "13     [107.5909090909091]\n",
       "14     [137.6315789473684]\n",
       "15    [118.66666666666667]\n",
       "16    [128.96428571428572]\n",
       "17    [123.41176470588235]\n",
       "18    [134.46153846153845]\n",
       "19    [132.28571428571428]\n",
       "20    [128.88888888888889]\n",
       "21                 [118.6]\n",
       "22                  [95.5]\n",
       "23                 [109.0]\n",
       "dtype: object"
      ]
     },
     "execution_count": 151,
     "metadata": {},
     "output_type": "execute_result"
    }
   ],
   "source": [
    "# 按起飞时段对每天机场所需的出租车的最多需求量进行排序\n",
    "data2.groupby('起飞')['car_more2'].unique().sort_values(ascending = False)/(data2['起飞'].value_counts())"
   ]
  },
  {
   "cell_type": "code",
   "execution_count": 155,
   "metadata": {},
   "outputs": [],
   "source": [
    "#  对于非整数数据，采取向上取整法\n",
    "car_day_more2 = {\n",
    "    7:149,8:152,9:94,10:113,11:179,\n",
    "    12:115,13:108,14:138,15:119,16:129,\n",
    "    17:124,18:135,19:133,20:129,21:119,\n",
    "    22:96,23:109\n",
    "}"
   ]
  },
  {
   "cell_type": "code",
   "execution_count": 156,
   "metadata": {},
   "outputs": [
    {
     "data": {
      "text/html": [
       "<div>\n",
       "<style scoped>\n",
       "    .dataframe tbody tr th:only-of-type {\n",
       "        vertical-align: middle;\n",
       "    }\n",
       "\n",
       "    .dataframe tbody tr th {\n",
       "        vertical-align: top;\n",
       "    }\n",
       "\n",
       "    .dataframe thead th {\n",
       "        text-align: right;\n",
       "    }\n",
       "</style>\n",
       "<table border=\"1\" class=\"dataframe\">\n",
       "  <thead>\n",
       "    <tr style=\"text-align: right;\">\n",
       "      <th></th>\n",
       "      <th>起飞</th>\n",
       "      <th>到达</th>\n",
       "      <th>航班号</th>\n",
       "      <th>机型</th>\n",
       "      <th>persons</th>\n",
       "      <th>car_least2</th>\n",
       "      <th>car_more2</th>\n",
       "      <th>car_day_least2</th>\n",
       "      <th>car_day_more2</th>\n",
       "    </tr>\n",
       "  </thead>\n",
       "  <tbody>\n",
       "    <tr>\n",
       "      <th>0</th>\n",
       "      <td>8</td>\n",
       "      <td>13</td>\n",
       "      <td>cz6341</td>\n",
       "      <td>321</td>\n",
       "      <td>197</td>\n",
       "      <td>795</td>\n",
       "      <td>3180</td>\n",
       "      <td>38</td>\n",
       "      <td>152</td>\n",
       "    </tr>\n",
       "    <tr>\n",
       "      <th>1</th>\n",
       "      <td>13</td>\n",
       "      <td>17</td>\n",
       "      <td>hu7132</td>\n",
       "      <td>737</td>\n",
       "      <td>146</td>\n",
       "      <td>592</td>\n",
       "      <td>2367</td>\n",
       "      <td>27</td>\n",
       "      <td>108</td>\n",
       "    </tr>\n",
       "    <tr>\n",
       "      <th>2</th>\n",
       "      <td>9</td>\n",
       "      <td>12</td>\n",
       "      <td>cz6459</td>\n",
       "      <td>319</td>\n",
       "      <td>123</td>\n",
       "      <td>352</td>\n",
       "      <td>1408</td>\n",
       "      <td>24</td>\n",
       "      <td>94</td>\n",
       "    </tr>\n",
       "    <tr>\n",
       "      <th>3</th>\n",
       "      <td>8</td>\n",
       "      <td>11</td>\n",
       "      <td>cz633</td>\n",
       "      <td>jet</td>\n",
       "      <td>127</td>\n",
       "      <td>795</td>\n",
       "      <td>3180</td>\n",
       "      <td>38</td>\n",
       "      <td>152</td>\n",
       "    </tr>\n",
       "    <tr>\n",
       "      <th>4</th>\n",
       "      <td>8</td>\n",
       "      <td>13</td>\n",
       "      <td>cz6441</td>\n",
       "      <td>319</td>\n",
       "      <td>123</td>\n",
       "      <td>795</td>\n",
       "      <td>3180</td>\n",
       "      <td>38</td>\n",
       "      <td>152</td>\n",
       "    </tr>\n",
       "  </tbody>\n",
       "</table>\n",
       "</div>"
      ],
      "text/plain": [
       "   起飞  到达     航班号   机型  persons  car_least2  car_more2  car_day_least2  \\\n",
       "0   8  13  cz6341  321      197         795       3180              38   \n",
       "1  13  17  hu7132  737      146         592       2367              27   \n",
       "2   9  12  cz6459  319      123         352       1408              24   \n",
       "3   8  11   cz633  jet      127         795       3180              38   \n",
       "4   8  13  cz6441  319      123         795       3180              38   \n",
       "\n",
       "   car_day_more2  \n",
       "0            152  \n",
       "1            108  \n",
       "2             94  \n",
       "3            152  \n",
       "4            152  "
      ]
     },
     "execution_count": 156,
     "metadata": {},
     "output_type": "execute_result"
    }
   ],
   "source": [
    "#  利用map() 函数将2线城市航班每个时段所需的最多的出租车数映射到数据表中\n",
    "data2['car_day_more2'] = data2['起飞'].map(car_day_more2)\n",
    "data2.head()"
   ]
  },
  {
   "cell_type": "code",
   "execution_count": 157,
   "metadata": {},
   "outputs": [],
   "source": [
    "# 将数据保存到本地\n",
    "data2.to_csv('./data/csv/beijing/model_shuju/model_day_2.csv',index = False)"
   ]
  },
  {
   "cell_type": "markdown",
   "metadata": {},
   "source": [
    "# 3线城市平均每天所需的出租车的数量"
   ]
  },
  {
   "cell_type": "code",
   "execution_count": 158,
   "metadata": {},
   "outputs": [
    {
     "data": {
      "text/plain": [
       "7                   [38.0]\n",
       "8                   [34.6]\n",
       "9      [36.32258064516129]\n",
       "10    [16.666666666666668]\n",
       "11                  [36.5]\n",
       "12                  [40.5]\n",
       "13                  [34.0]\n",
       "14                  [51.0]\n",
       "15    [32.916666666666664]\n",
       "16     [35.18181818181818]\n",
       "17                  [35.0]\n",
       "18                  [37.5]\n",
       "19                   [8.0]\n",
       "20     [33.57142857142857]\n",
       "21                  [36.6]\n",
       "22                  [37.0]\n",
       "dtype: object"
      ]
     },
     "execution_count": 158,
     "metadata": {},
     "output_type": "execute_result"
    }
   ],
   "source": [
    "# 按起飞时段对每天机场所需的出租车的最少需求量进行排序\n",
    "data3.groupby('起飞')['car_least3'].unique().sort_values(ascending = False)/(data3['起飞'].value_counts())"
   ]
  },
  {
   "cell_type": "code",
   "execution_count": 160,
   "metadata": {},
   "outputs": [],
   "source": [
    "#  对于非整数数据，采取向上取整法\n",
    "car_day_least3 = {\n",
    "    7:38, 8:35, 9:37, 10:17, 11: 37,\n",
    "    12:41, 13:34, 14:51, 15:33, 16: 36,\n",
    "    17:35, 18:38, 19:8, 20:34, 21:37,\n",
    "    22:37\n",
    "}"
   ]
  },
  {
   "cell_type": "code",
   "execution_count": 161,
   "metadata": {},
   "outputs": [
    {
     "data": {
      "text/html": [
       "<div>\n",
       "<style scoped>\n",
       "    .dataframe tbody tr th:only-of-type {\n",
       "        vertical-align: middle;\n",
       "    }\n",
       "\n",
       "    .dataframe tbody tr th {\n",
       "        vertical-align: top;\n",
       "    }\n",
       "\n",
       "    .dataframe thead th {\n",
       "        text-align: right;\n",
       "    }\n",
       "</style>\n",
       "<table border=\"1\" class=\"dataframe\">\n",
       "  <thead>\n",
       "    <tr style=\"text-align: right;\">\n",
       "      <th></th>\n",
       "      <th>起飞</th>\n",
       "      <th>到达</th>\n",
       "      <th>航班号</th>\n",
       "      <th>机型</th>\n",
       "      <th>persons</th>\n",
       "      <th>car_least3</th>\n",
       "      <th>car_more3</th>\n",
       "      <th>car_day_least3</th>\n",
       "    </tr>\n",
       "  </thead>\n",
       "  <tbody>\n",
       "    <tr>\n",
       "      <th>0</th>\n",
       "      <td>7</td>\n",
       "      <td>8</td>\n",
       "      <td>cz3891</td>\n",
       "      <td>733</td>\n",
       "      <td>122</td>\n",
       "      <td>190</td>\n",
       "      <td>757</td>\n",
       "      <td>38</td>\n",
       "    </tr>\n",
       "    <tr>\n",
       "      <th>1</th>\n",
       "      <td>12</td>\n",
       "      <td>12</td>\n",
       "      <td>cz3893</td>\n",
       "      <td>733</td>\n",
       "      <td>122</td>\n",
       "      <td>81</td>\n",
       "      <td>324</td>\n",
       "      <td>41</td>\n",
       "    </tr>\n",
       "    <tr>\n",
       "      <th>2</th>\n",
       "      <td>15</td>\n",
       "      <td>16</td>\n",
       "      <td>cz3895</td>\n",
       "      <td>733</td>\n",
       "      <td>122</td>\n",
       "      <td>395</td>\n",
       "      <td>1578</td>\n",
       "      <td>33</td>\n",
       "    </tr>\n",
       "    <tr>\n",
       "      <th>3</th>\n",
       "      <td>20</td>\n",
       "      <td>21</td>\n",
       "      <td>cz3897</td>\n",
       "      <td>733</td>\n",
       "      <td>122</td>\n",
       "      <td>235</td>\n",
       "      <td>942</td>\n",
       "      <td>34</td>\n",
       "    </tr>\n",
       "    <tr>\n",
       "      <th>4</th>\n",
       "      <td>20</td>\n",
       "      <td>21</td>\n",
       "      <td>cz3897</td>\n",
       "      <td>733</td>\n",
       "      <td>122</td>\n",
       "      <td>235</td>\n",
       "      <td>942</td>\n",
       "      <td>34</td>\n",
       "    </tr>\n",
       "  </tbody>\n",
       "</table>\n",
       "</div>"
      ],
      "text/plain": [
       "   起飞  到达     航班号   机型  persons  car_least3  car_more3  car_day_least3\n",
       "0   7   8  cz3891  733      122         190        757              38\n",
       "1  12  12  cz3893  733      122          81        324              41\n",
       "2  15  16  cz3895  733      122         395       1578              33\n",
       "3  20  21  cz3897  733      122         235        942              34\n",
       "4  20  21  cz3897  733      122         235        942              34"
      ]
     },
     "execution_count": 161,
     "metadata": {},
     "output_type": "execute_result"
    }
   ],
   "source": [
    "#  利用map() 函数将3线城市航班每个时段所需的最多的出租车数映射到数据表中\n",
    "data3['car_day_least3'] = data3['起飞'].map(car_day_least3)\n",
    "data3.head()"
   ]
  },
  {
   "cell_type": "code",
   "execution_count": 159,
   "metadata": {},
   "outputs": [
    {
     "data": {
      "text/plain": [
       "7                  [151.4]\n",
       "8                  [138.0]\n",
       "9     [145.25806451612902]\n",
       "10     [66.33333333333333]\n",
       "11                 [146.0]\n",
       "12                 [162.0]\n",
       "13                 [136.0]\n",
       "14                 [202.0]\n",
       "15                 [131.5]\n",
       "16    [140.66666666666666]\n",
       "17                [139.25]\n",
       "18                 [149.5]\n",
       "19                  [32.0]\n",
       "20    [134.57142857142858]\n",
       "21                 [146.0]\n",
       "22                 [146.0]\n",
       "dtype: object"
      ]
     },
     "execution_count": 159,
     "metadata": {},
     "output_type": "execute_result"
    }
   ],
   "source": [
    "# 按起飞时段对每天机场所需的出租车的最少需求量进行排序\n",
    "data3.groupby('起飞')['car_more3'].unique().sort_values(ascending = False)/(data3['起飞'].value_counts())"
   ]
  },
  {
   "cell_type": "code",
   "execution_count": 162,
   "metadata": {},
   "outputs": [],
   "source": [
    "#  对于非整数数据，采取向上取整法\n",
    "car_day_more3 = {\n",
    "    7: 152, 8: 138, 9:146, 10:67,11:146,\n",
    "    12: 162, 13: 136, 14: 202, 15: 132,\n",
    "    16: 141, 17: 140, 18: 150, 19: 32,\n",
    "    20: 135, 21: 146, 22:146\n",
    "}"
   ]
  },
  {
   "cell_type": "code",
   "execution_count": 163,
   "metadata": {},
   "outputs": [
    {
     "data": {
      "text/html": [
       "<div>\n",
       "<style scoped>\n",
       "    .dataframe tbody tr th:only-of-type {\n",
       "        vertical-align: middle;\n",
       "    }\n",
       "\n",
       "    .dataframe tbody tr th {\n",
       "        vertical-align: top;\n",
       "    }\n",
       "\n",
       "    .dataframe thead th {\n",
       "        text-align: right;\n",
       "    }\n",
       "</style>\n",
       "<table border=\"1\" class=\"dataframe\">\n",
       "  <thead>\n",
       "    <tr style=\"text-align: right;\">\n",
       "      <th></th>\n",
       "      <th>起飞</th>\n",
       "      <th>到达</th>\n",
       "      <th>航班号</th>\n",
       "      <th>机型</th>\n",
       "      <th>persons</th>\n",
       "      <th>car_least3</th>\n",
       "      <th>car_more3</th>\n",
       "      <th>car_day_least3</th>\n",
       "      <th>car_day_more3</th>\n",
       "    </tr>\n",
       "  </thead>\n",
       "  <tbody>\n",
       "    <tr>\n",
       "      <th>0</th>\n",
       "      <td>7</td>\n",
       "      <td>8</td>\n",
       "      <td>cz3891</td>\n",
       "      <td>733</td>\n",
       "      <td>122</td>\n",
       "      <td>190</td>\n",
       "      <td>757</td>\n",
       "      <td>38</td>\n",
       "      <td>152</td>\n",
       "    </tr>\n",
       "    <tr>\n",
       "      <th>1</th>\n",
       "      <td>12</td>\n",
       "      <td>12</td>\n",
       "      <td>cz3893</td>\n",
       "      <td>733</td>\n",
       "      <td>122</td>\n",
       "      <td>81</td>\n",
       "      <td>324</td>\n",
       "      <td>41</td>\n",
       "      <td>162</td>\n",
       "    </tr>\n",
       "    <tr>\n",
       "      <th>2</th>\n",
       "      <td>15</td>\n",
       "      <td>16</td>\n",
       "      <td>cz3895</td>\n",
       "      <td>733</td>\n",
       "      <td>122</td>\n",
       "      <td>395</td>\n",
       "      <td>1578</td>\n",
       "      <td>33</td>\n",
       "      <td>132</td>\n",
       "    </tr>\n",
       "    <tr>\n",
       "      <th>3</th>\n",
       "      <td>20</td>\n",
       "      <td>21</td>\n",
       "      <td>cz3897</td>\n",
       "      <td>733</td>\n",
       "      <td>122</td>\n",
       "      <td>235</td>\n",
       "      <td>942</td>\n",
       "      <td>34</td>\n",
       "      <td>135</td>\n",
       "    </tr>\n",
       "    <tr>\n",
       "      <th>4</th>\n",
       "      <td>20</td>\n",
       "      <td>21</td>\n",
       "      <td>cz3897</td>\n",
       "      <td>733</td>\n",
       "      <td>122</td>\n",
       "      <td>235</td>\n",
       "      <td>942</td>\n",
       "      <td>34</td>\n",
       "      <td>135</td>\n",
       "    </tr>\n",
       "  </tbody>\n",
       "</table>\n",
       "</div>"
      ],
      "text/plain": [
       "   起飞  到达     航班号   机型  persons  car_least3  car_more3  car_day_least3  \\\n",
       "0   7   8  cz3891  733      122         190        757              38   \n",
       "1  12  12  cz3893  733      122          81        324              41   \n",
       "2  15  16  cz3895  733      122         395       1578              33   \n",
       "3  20  21  cz3897  733      122         235        942              34   \n",
       "4  20  21  cz3897  733      122         235        942              34   \n",
       "\n",
       "   car_day_more3  \n",
       "0            152  \n",
       "1            162  \n",
       "2            132  \n",
       "3            135  \n",
       "4            135  "
      ]
     },
     "execution_count": 163,
     "metadata": {},
     "output_type": "execute_result"
    }
   ],
   "source": [
    "#  利用map() 函数将3线城市航班每个时段所需的最多的出租车数映射到数据表中\n",
    "data3['car_day_more3'] = data3['起飞'].map(car_day_more3)\n",
    "data3.head()"
   ]
  },
  {
   "cell_type": "code",
   "execution_count": 164,
   "metadata": {},
   "outputs": [],
   "source": [
    "# 将数据保存到本地\n",
    "data3.to_csv('./data/csv/beijing/model_shuju/model_day_3.csv',index = False)"
   ]
  },
  {
   "cell_type": "markdown",
   "metadata": {},
   "source": [
    "# 随机生成0,1,0 该属性列取得假，1,代表该属性列取得真"
   ]
  },
  {
   "cell_type": "code",
   "execution_count": 168,
   "metadata": {},
   "outputs": [
    {
     "data": {
      "text/plain": [
       "(677, 9)"
      ]
     },
     "execution_count": 168,
     "metadata": {},
     "output_type": "execute_result"
    }
   ],
   "source": [
    "# 查看数据的维度,由此可知，数据含有677行，因此我们生成677个0和1，\n",
    "data1.shape"
   ]
  },
  {
   "cell_type": "markdown",
   "metadata": {},
   "source": [
    "# day_short_1 ：新增属性列，\n",
    "# 代表该时段的蓄车池出租车的数量是否大于该时段最少的出租车的需求量\n",
    "#  如果小于或等于的话，则为1，代表该出租车司机应该留下\n",
    " # 大于的话，就为0，代表出租车司机应该走"
   ]
  },
  {
   "cell_type": "code",
   "execution_count": 169,
   "metadata": {},
   "outputs": [
    {
     "data": {
      "text/plain": [
       "array([0, 1, 0, 1, 1, 1, 1, 0, 0, 0, 0, 1, 0, 0, 0, 0, 1, 1, 0, 0])"
      ]
     },
     "execution_count": 169,
     "metadata": {},
     "output_type": "execute_result"
    }
   ],
   "source": [
    "\n",
    "day_short_1 = np.random.randint(0,2,677)\n",
    "day_short_1[:20]"
   ]
  },
  {
   "cell_type": "code",
   "execution_count": 171,
   "metadata": {},
   "outputs": [
    {
     "data": {
      "text/html": [
       "<div>\n",
       "<style scoped>\n",
       "    .dataframe tbody tr th:only-of-type {\n",
       "        vertical-align: middle;\n",
       "    }\n",
       "\n",
       "    .dataframe tbody tr th {\n",
       "        vertical-align: top;\n",
       "    }\n",
       "\n",
       "    .dataframe thead th {\n",
       "        text-align: right;\n",
       "    }\n",
       "</style>\n",
       "<table border=\"1\" class=\"dataframe\">\n",
       "  <thead>\n",
       "    <tr style=\"text-align: right;\">\n",
       "      <th></th>\n",
       "      <th>起飞</th>\n",
       "      <th>到达</th>\n",
       "      <th>航班号</th>\n",
       "      <th>机型</th>\n",
       "      <th>persons</th>\n",
       "      <th>car_least1</th>\n",
       "      <th>car_more1</th>\n",
       "      <th>car_day_least1</th>\n",
       "      <th>car_day_more1</th>\n",
       "      <th>day_short_1</th>\n",
       "    </tr>\n",
       "  </thead>\n",
       "  <tbody>\n",
       "    <tr>\n",
       "      <th>0</th>\n",
       "      <td>12</td>\n",
       "      <td>13</td>\n",
       "      <td>ca1142</td>\n",
       "      <td>733</td>\n",
       "      <td>122.0</td>\n",
       "      <td>2025</td>\n",
       "      <td>8096</td>\n",
       "      <td>45</td>\n",
       "      <td>176</td>\n",
       "      <td>0</td>\n",
       "    </tr>\n",
       "    <tr>\n",
       "      <th>1</th>\n",
       "      <td>18</td>\n",
       "      <td>19</td>\n",
       "      <td>ua4409</td>\n",
       "      <td>737</td>\n",
       "      <td>146.0</td>\n",
       "      <td>2464</td>\n",
       "      <td>9854</td>\n",
       "      <td>43</td>\n",
       "      <td>170</td>\n",
       "      <td>1</td>\n",
       "    </tr>\n",
       "    <tr>\n",
       "      <th>2</th>\n",
       "      <td>19</td>\n",
       "      <td>20</td>\n",
       "      <td>ca1132</td>\n",
       "      <td>733</td>\n",
       "      <td>122.0</td>\n",
       "      <td>2289</td>\n",
       "      <td>9154</td>\n",
       "      <td>48</td>\n",
       "      <td>191</td>\n",
       "      <td>0</td>\n",
       "    </tr>\n",
       "    <tr>\n",
       "      <th>3</th>\n",
       "      <td>21</td>\n",
       "      <td>22</td>\n",
       "      <td>ca1108</td>\n",
       "      <td>733</td>\n",
       "      <td>122.0</td>\n",
       "      <td>1559</td>\n",
       "      <td>6234</td>\n",
       "      <td>42</td>\n",
       "      <td>165</td>\n",
       "      <td>1</td>\n",
       "    </tr>\n",
       "    <tr>\n",
       "      <th>4</th>\n",
       "      <td>19</td>\n",
       "      <td>23</td>\n",
       "      <td>cz3148</td>\n",
       "      <td>320</td>\n",
       "      <td>156.0</td>\n",
       "      <td>2289</td>\n",
       "      <td>9154</td>\n",
       "      <td>48</td>\n",
       "      <td>191</td>\n",
       "      <td>1</td>\n",
       "    </tr>\n",
       "  </tbody>\n",
       "</table>\n",
       "</div>"
      ],
      "text/plain": [
       "   起飞  到达     航班号   机型  persons  car_least1  car_more1  car_day_least1  \\\n",
       "0  12  13  ca1142  733    122.0        2025       8096              45   \n",
       "1  18  19  ua4409  737    146.0        2464       9854              43   \n",
       "2  19  20  ca1132  733    122.0        2289       9154              48   \n",
       "3  21  22  ca1108  733    122.0        1559       6234              42   \n",
       "4  19  23  cz3148  320    156.0        2289       9154              48   \n",
       "\n",
       "   car_day_more1  day_short_1  \n",
       "0            176            0  \n",
       "1            170            1  \n",
       "2            191            0  \n",
       "3            165            1  \n",
       "4            191            1  "
      ]
     },
     "execution_count": 171,
     "metadata": {},
     "output_type": "execute_result"
    }
   ],
   "source": [
    "data1['day_short_1'] = day_short_1\n",
    "data1.to_csv('./data/csv/beijing/model_shuju/model_day_1.csv',index=None)\n",
    "data1.head()"
   ]
  },
  {
   "cell_type": "markdown",
   "metadata": {},
   "source": [
    "# 利用北京的数据 采用支持向量机算法建模，模型的建立"
   ]
  },
  {
   "cell_type": "code",
   "execution_count": 4,
   "metadata": {},
   "outputs": [
    {
     "data": {
      "text/html": [
       "<div>\n",
       "<style scoped>\n",
       "    .dataframe tbody tr th:only-of-type {\n",
       "        vertical-align: middle;\n",
       "    }\n",
       "\n",
       "    .dataframe tbody tr th {\n",
       "        vertical-align: top;\n",
       "    }\n",
       "\n",
       "    .dataframe thead th {\n",
       "        text-align: right;\n",
       "    }\n",
       "</style>\n",
       "<table border=\"1\" class=\"dataframe\">\n",
       "  <thead>\n",
       "    <tr style=\"text-align: right;\">\n",
       "      <th></th>\n",
       "      <th>起飞</th>\n",
       "      <th>到达</th>\n",
       "      <th>航班号</th>\n",
       "      <th>机型</th>\n",
       "      <th>persons</th>\n",
       "      <th>car_least1</th>\n",
       "      <th>car_more1</th>\n",
       "      <th>car_day_least1</th>\n",
       "      <th>car_day_more1</th>\n",
       "      <th>day_short_1</th>\n",
       "    </tr>\n",
       "  </thead>\n",
       "  <tbody>\n",
       "    <tr>\n",
       "      <th>0</th>\n",
       "      <td>12</td>\n",
       "      <td>13</td>\n",
       "      <td>ca1142</td>\n",
       "      <td>733</td>\n",
       "      <td>122.0</td>\n",
       "      <td>2025</td>\n",
       "      <td>8096</td>\n",
       "      <td>45</td>\n",
       "      <td>176</td>\n",
       "      <td>0</td>\n",
       "    </tr>\n",
       "    <tr>\n",
       "      <th>1</th>\n",
       "      <td>18</td>\n",
       "      <td>19</td>\n",
       "      <td>ua4409</td>\n",
       "      <td>737</td>\n",
       "      <td>146.0</td>\n",
       "      <td>2464</td>\n",
       "      <td>9854</td>\n",
       "      <td>43</td>\n",
       "      <td>170</td>\n",
       "      <td>1</td>\n",
       "    </tr>\n",
       "    <tr>\n",
       "      <th>2</th>\n",
       "      <td>19</td>\n",
       "      <td>20</td>\n",
       "      <td>ca1132</td>\n",
       "      <td>733</td>\n",
       "      <td>122.0</td>\n",
       "      <td>2289</td>\n",
       "      <td>9154</td>\n",
       "      <td>48</td>\n",
       "      <td>191</td>\n",
       "      <td>0</td>\n",
       "    </tr>\n",
       "    <tr>\n",
       "      <th>3</th>\n",
       "      <td>21</td>\n",
       "      <td>22</td>\n",
       "      <td>ca1108</td>\n",
       "      <td>733</td>\n",
       "      <td>122.0</td>\n",
       "      <td>1559</td>\n",
       "      <td>6234</td>\n",
       "      <td>42</td>\n",
       "      <td>165</td>\n",
       "      <td>1</td>\n",
       "    </tr>\n",
       "    <tr>\n",
       "      <th>4</th>\n",
       "      <td>19</td>\n",
       "      <td>23</td>\n",
       "      <td>cz3148</td>\n",
       "      <td>320</td>\n",
       "      <td>156.0</td>\n",
       "      <td>2289</td>\n",
       "      <td>9154</td>\n",
       "      <td>48</td>\n",
       "      <td>191</td>\n",
       "      <td>1</td>\n",
       "    </tr>\n",
       "  </tbody>\n",
       "</table>\n",
       "</div>"
      ],
      "text/plain": [
       "   起飞  到达     航班号   机型  persons  car_least1  car_more1  car_day_least1  \\\n",
       "0  12  13  ca1142  733    122.0        2025       8096              45   \n",
       "1  18  19  ua4409  737    146.0        2464       9854              43   \n",
       "2  19  20  ca1132  733    122.0        2289       9154              48   \n",
       "3  21  22  ca1108  733    122.0        1559       6234              42   \n",
       "4  19  23  cz3148  320    156.0        2289       9154              48   \n",
       "\n",
       "   car_day_more1  day_short_1  \n",
       "0            176            0  \n",
       "1            170            1  \n",
       "2            191            0  \n",
       "3            165            1  \n",
       "4            191            1  "
      ]
     },
     "execution_count": 4,
     "metadata": {},
     "output_type": "execute_result"
    }
   ],
   "source": [
    "# 导入svm模块下的SVC的分类器\n",
    "from sklearn.svm import SVC\n",
    "\n",
    "\n",
    "# load 数据集\n",
    "data1 = pd.read_csv('./data/csv/beijing/model_shuju/model_day_1.csv')\n",
    "data1.head()"
   ]
  },
  {
   "cell_type": "code",
   "execution_count": 5,
   "metadata": {},
   "outputs": [],
   "source": [
    "# 为了建模将属性列为“机型”，“航班号”，删除\n",
    "data1 = data1.drop('机型',axis = 1)\n",
    "data1 = data1.drop('航班号',axis = 1)"
   ]
  },
  {
   "cell_type": "markdown",
   "metadata": {},
   "source": [
    "# 查看数据中是否含有空值，并将空值数据删除"
   ]
  },
  {
   "cell_type": "code",
   "execution_count": 6,
   "metadata": {},
   "outputs": [
    {
     "data": {
      "text/plain": [
       "True"
      ]
     },
     "execution_count": 6,
     "metadata": {},
     "output_type": "execute_result"
    }
   ],
   "source": [
    "pd.isnull(data1).values.any()"
   ]
  },
  {
   "cell_type": "code",
   "execution_count": 7,
   "metadata": {},
   "outputs": [],
   "source": [
    "\n",
    "# 利用dropna() 函数删除掉缺失值\n",
    "data1 = data1.dropna()"
   ]
  },
  {
   "cell_type": "code",
   "execution_count": 8,
   "metadata": {},
   "outputs": [
    {
     "data": {
      "text/plain": [
       "False"
      ]
     },
     "execution_count": 8,
     "metadata": {},
     "output_type": "execute_result"
    }
   ],
   "source": [
    "pd.isnull(data1).values.any()"
   ]
  },
  {
   "cell_type": "code",
   "execution_count": 9,
   "metadata": {},
   "outputs": [
    {
     "data": {
      "text/html": [
       "<div>\n",
       "<style scoped>\n",
       "    .dataframe tbody tr th:only-of-type {\n",
       "        vertical-align: middle;\n",
       "    }\n",
       "\n",
       "    .dataframe tbody tr th {\n",
       "        vertical-align: top;\n",
       "    }\n",
       "\n",
       "    .dataframe thead th {\n",
       "        text-align: right;\n",
       "    }\n",
       "</style>\n",
       "<table border=\"1\" class=\"dataframe\">\n",
       "  <thead>\n",
       "    <tr style=\"text-align: right;\">\n",
       "      <th></th>\n",
       "      <th>起飞</th>\n",
       "      <th>到达</th>\n",
       "      <th>persons</th>\n",
       "      <th>car_least1</th>\n",
       "      <th>car_more1</th>\n",
       "      <th>car_day_least1</th>\n",
       "      <th>car_day_more1</th>\n",
       "      <th>day_short_1</th>\n",
       "    </tr>\n",
       "  </thead>\n",
       "  <tbody>\n",
       "    <tr>\n",
       "      <th>0</th>\n",
       "      <td>12</td>\n",
       "      <td>13</td>\n",
       "      <td>122.0</td>\n",
       "      <td>2025</td>\n",
       "      <td>8096</td>\n",
       "      <td>45</td>\n",
       "      <td>176</td>\n",
       "      <td>0</td>\n",
       "    </tr>\n",
       "    <tr>\n",
       "      <th>1</th>\n",
       "      <td>18</td>\n",
       "      <td>19</td>\n",
       "      <td>146.0</td>\n",
       "      <td>2464</td>\n",
       "      <td>9854</td>\n",
       "      <td>43</td>\n",
       "      <td>170</td>\n",
       "      <td>1</td>\n",
       "    </tr>\n",
       "    <tr>\n",
       "      <th>2</th>\n",
       "      <td>19</td>\n",
       "      <td>20</td>\n",
       "      <td>122.0</td>\n",
       "      <td>2289</td>\n",
       "      <td>9154</td>\n",
       "      <td>48</td>\n",
       "      <td>191</td>\n",
       "      <td>0</td>\n",
       "    </tr>\n",
       "    <tr>\n",
       "      <th>3</th>\n",
       "      <td>21</td>\n",
       "      <td>22</td>\n",
       "      <td>122.0</td>\n",
       "      <td>1559</td>\n",
       "      <td>6234</td>\n",
       "      <td>42</td>\n",
       "      <td>165</td>\n",
       "      <td>1</td>\n",
       "    </tr>\n",
       "    <tr>\n",
       "      <th>4</th>\n",
       "      <td>19</td>\n",
       "      <td>23</td>\n",
       "      <td>156.0</td>\n",
       "      <td>2289</td>\n",
       "      <td>9154</td>\n",
       "      <td>48</td>\n",
       "      <td>191</td>\n",
       "      <td>1</td>\n",
       "    </tr>\n",
       "  </tbody>\n",
       "</table>\n",
       "</div>"
      ],
      "text/plain": [
       "   起飞  到达  persons  car_least1  car_more1  car_day_least1  car_day_more1  \\\n",
       "0  12  13    122.0        2025       8096              45            176   \n",
       "1  18  19    146.0        2464       9854              43            170   \n",
       "2  19  20    122.0        2289       9154              48            191   \n",
       "3  21  22    122.0        1559       6234              42            165   \n",
       "4  19  23    156.0        2289       9154              48            191   \n",
       "\n",
       "   day_short_1  \n",
       "0            0  \n",
       "1            1  \n",
       "2            0  \n",
       "3            1  \n",
       "4            1  "
      ]
     },
     "execution_count": 9,
     "metadata": {},
     "output_type": "execute_result"
    }
   ],
   "source": [
    "data1.head()"
   ]
  },
  {
   "cell_type": "code",
   "execution_count": 12,
   "metadata": {},
   "outputs": [],
   "source": [
    "# 将数据保存到本地\n",
    "data1.to_csv('./data/csv/beijing/model_shuju/model_1.csv',index = False)"
   ]
  },
  {
   "cell_type": "code",
   "execution_count": 32,
   "metadata": {},
   "outputs": [],
   "source": [
    "# 对数据集进行划分，x：指除了标签之外的特征，y: 目标特征\n",
    "x = data1.iloc[:,data1.columns != 'day_short_1']\n",
    "y = data1.iloc[:,data1.columns == 'day_short_1']\n"
   ]
  },
  {
   "cell_type": "code",
   "execution_count": 33,
   "metadata": {},
   "outputs": [
    {
     "name": "stderr",
     "output_type": "stream",
     "text": [
      "d:\\python37\\lib\\site-packages\\sklearn\\utils\\validation.py:724: DataConversionWarning: A column-vector y was passed when a 1d array was expected. Please change the shape of y to (n_samples, ), for example using ravel().\n",
      "  y = column_or_1d(y, warn=True)\n"
     ]
    },
    {
     "data": {
      "text/plain": [
       "SVC(C=inf, cache_size=200, class_weight=None, coef0=0.0,\n",
       "    decision_function_shape='ovr', degree=3, gamma='auto_deprecated',\n",
       "    kernel='linear', max_iter=-1, probability=False, random_state=None,\n",
       "    shrinking=True, tol=0.001, verbose=False)"
      ]
     },
     "execution_count": 33,
     "metadata": {},
     "output_type": "execute_result"
    }
   ],
   "source": [
    "# 构造svc的分类器: kernel='linear': 构造线性分类器；C=float('inf'): 控制过拟合，先不考虑\n",
    "# svm_clf = SVC(kernel='linear',C=float('inf'))\n",
    "# # 训练模型\n",
    "# svm_clf.fit(x,y)"
   ]
  },
  {
   "cell_type": "code",
   "execution_count": 54,
   "metadata": {},
   "outputs": [
    {
     "name": "stderr",
     "output_type": "stream",
     "text": [
      "d:\\python37\\lib\\site-packages\\sklearn\\utils\\validation.py:724: DataConversionWarning: A column-vector y was passed when a 1d array was expected. Please change the shape of y to (n_samples, ), for example using ravel().\n",
      "  y = column_or_1d(y, warn=True)\n"
     ]
    },
    {
     "data": {
      "text/plain": [
       "Pipeline(memory=None,\n",
       "         steps=[('std',\n",
       "                 StandardScaler(copy=True, with_mean=True, with_std=True)),\n",
       "                ('linear_svc',\n",
       "                 LinearSVC(C=1, class_weight=None, dual=True,\n",
       "                           fit_intercept=True, intercept_scaling=1,\n",
       "                           loss='squared_hinge', max_iter=1000,\n",
       "                           multi_class='ovr', penalty='l2', random_state=None,\n",
       "                           tol=0.0001, verbose=0))],\n",
       "         verbose=False)"
      ]
     },
     "execution_count": 54,
     "metadata": {},
     "output_type": "execute_result"
    }
   ],
   "source": [
    "from sklearn.pipeline import Pipeline\n",
    "from sklearn.svm import LinearSVC\n",
    "\n",
    "# 用流水线训练一个基本的svc模型\n",
    "svm_clf = Pipeline([\n",
    "    ('std',StandardScaler()),   # 数据标准化\n",
    "    ('linear_svc',LinearSVC(C=1))    # 设置初始化的C值，建立线性模型\n",
    "])\n",
    "\n",
    "svm_clf.fit(x,y)"
   ]
  },
  {
   "cell_type": "markdown",
   "metadata": {},
   "source": [
    "# 用2线城市的数据进行预测"
   ]
  },
  {
   "cell_type": "code",
   "execution_count": 55,
   "metadata": {
    "scrolled": true
   },
   "outputs": [
    {
     "data": {
      "text/html": [
       "<div>\n",
       "<style scoped>\n",
       "    .dataframe tbody tr th:only-of-type {\n",
       "        vertical-align: middle;\n",
       "    }\n",
       "\n",
       "    .dataframe tbody tr th {\n",
       "        vertical-align: top;\n",
       "    }\n",
       "\n",
       "    .dataframe thead th {\n",
       "        text-align: right;\n",
       "    }\n",
       "</style>\n",
       "<table border=\"1\" class=\"dataframe\">\n",
       "  <thead>\n",
       "    <tr style=\"text-align: right;\">\n",
       "      <th></th>\n",
       "      <th>起飞</th>\n",
       "      <th>到达</th>\n",
       "      <th>航班号</th>\n",
       "      <th>机型</th>\n",
       "      <th>persons</th>\n",
       "      <th>car_least2</th>\n",
       "      <th>car_more2</th>\n",
       "      <th>car_day_least2</th>\n",
       "      <th>car_day_more2</th>\n",
       "    </tr>\n",
       "  </thead>\n",
       "  <tbody>\n",
       "    <tr>\n",
       "      <th>0</th>\n",
       "      <td>8</td>\n",
       "      <td>13</td>\n",
       "      <td>cz6341</td>\n",
       "      <td>321</td>\n",
       "      <td>197</td>\n",
       "      <td>795</td>\n",
       "      <td>3180</td>\n",
       "      <td>38</td>\n",
       "      <td>152</td>\n",
       "    </tr>\n",
       "    <tr>\n",
       "      <th>1</th>\n",
       "      <td>13</td>\n",
       "      <td>17</td>\n",
       "      <td>hu7132</td>\n",
       "      <td>737</td>\n",
       "      <td>146</td>\n",
       "      <td>592</td>\n",
       "      <td>2367</td>\n",
       "      <td>27</td>\n",
       "      <td>108</td>\n",
       "    </tr>\n",
       "    <tr>\n",
       "      <th>2</th>\n",
       "      <td>9</td>\n",
       "      <td>12</td>\n",
       "      <td>cz6459</td>\n",
       "      <td>319</td>\n",
       "      <td>123</td>\n",
       "      <td>352</td>\n",
       "      <td>1408</td>\n",
       "      <td>24</td>\n",
       "      <td>94</td>\n",
       "    </tr>\n",
       "    <tr>\n",
       "      <th>3</th>\n",
       "      <td>8</td>\n",
       "      <td>11</td>\n",
       "      <td>cz633</td>\n",
       "      <td>jet</td>\n",
       "      <td>127</td>\n",
       "      <td>795</td>\n",
       "      <td>3180</td>\n",
       "      <td>38</td>\n",
       "      <td>152</td>\n",
       "    </tr>\n",
       "    <tr>\n",
       "      <th>4</th>\n",
       "      <td>8</td>\n",
       "      <td>13</td>\n",
       "      <td>cz6441</td>\n",
       "      <td>319</td>\n",
       "      <td>123</td>\n",
       "      <td>795</td>\n",
       "      <td>3180</td>\n",
       "      <td>38</td>\n",
       "      <td>152</td>\n",
       "    </tr>\n",
       "  </tbody>\n",
       "</table>\n",
       "</div>"
      ],
      "text/plain": [
       "   起飞  到达     航班号   机型  persons  car_least2  car_more2  car_day_least2  \\\n",
       "0   8  13  cz6341  321      197         795       3180              38   \n",
       "1  13  17  hu7132  737      146         592       2367              27   \n",
       "2   9  12  cz6459  319      123         352       1408              24   \n",
       "3   8  11   cz633  jet      127         795       3180              38   \n",
       "4   8  13  cz6441  319      123         795       3180              38   \n",
       "\n",
       "   car_day_more2  \n",
       "0            152  \n",
       "1            108  \n",
       "2             94  \n",
       "3            152  \n",
       "4            152  "
      ]
     },
     "execution_count": 55,
     "metadata": {},
     "output_type": "execute_result"
    }
   ],
   "source": [
    "data2 = pd.read_csv('./data/csv/beijing/model_shuju/model_day_2.csv')\n",
    "data2.head()"
   ]
  },
  {
   "cell_type": "code",
   "execution_count": 57,
   "metadata": {},
   "outputs": [],
   "source": [
    "# 为了建模将属性列为“机型”，“航班号”，删除\n",
    "data2 = data2.drop('机型',axis = 1)\n",
    "data2 = data2.drop('航班号',axis = 1)"
   ]
  },
  {
   "cell_type": "code",
   "execution_count": 58,
   "metadata": {},
   "outputs": [],
   "source": [
    "pd.isnull(data2).values.any()\n",
    "# 利用dropna() 函数删除掉缺失值\n",
    "data2 = data2.dropna()"
   ]
  },
  {
   "cell_type": "code",
   "execution_count": 59,
   "metadata": {},
   "outputs": [
    {
     "data": {
      "text/plain": [
       "False"
      ]
     },
     "execution_count": 59,
     "metadata": {},
     "output_type": "execute_result"
    }
   ],
   "source": [
    "pd.isnull(data2).values.any()"
   ]
  },
  {
   "cell_type": "code",
   "execution_count": 60,
   "metadata": {},
   "outputs": [],
   "source": [
    "# 将数据保存到本地\n",
    "data2.to_csv('./data/csv/beijing/model_shuju/model_2.csv',index = False)"
   ]
  },
  {
   "cell_type": "code",
   "execution_count": 61,
   "metadata": {},
   "outputs": [],
   "source": [
    "# 对数据集进行划分，x：指除了标签之外的特征，y: 目标特征\n",
    "x = data2[:]\n"
   ]
  },
  {
   "cell_type": "code",
   "execution_count": 62,
   "metadata": {},
   "outputs": [
    {
     "data": {
      "text/plain": [
       "array([1, 1, 1, 0, 0, 0, 1, 1, 1, 1, 1, 0, 1, 1, 1, 1, 1, 1, 1, 0, 0, 1,\n",
       "       1, 1, 1, 1, 1, 1, 1, 1, 1, 1, 1, 0, 1, 0, 1, 1, 1, 1, 1, 0, 1, 1,\n",
       "       1, 1, 0, 1, 1, 1, 1, 1, 0, 1, 1, 1, 1, 1, 1, 1, 1, 1, 1, 1, 0, 1,\n",
       "       1, 1, 1, 1, 1, 1, 1, 0, 1, 1, 1, 1, 1, 1, 0, 1, 1, 1, 1, 0, 1, 1,\n",
       "       1, 1, 1, 1, 1, 1, 1, 1, 0, 1, 1, 1, 1, 1, 1, 1, 1, 1, 1, 1, 1, 0,\n",
       "       0, 0, 0, 1, 1, 1, 1, 0, 1, 1, 1, 1, 1, 1, 1, 1, 1, 1, 1, 1, 1, 1,\n",
       "       1, 1, 1, 1, 1, 1, 1, 1, 0, 1, 1, 1, 1, 1, 1, 1, 1, 1, 1, 1, 1, 1,\n",
       "       1, 1, 1, 1, 1, 1, 1, 0, 1, 1, 1, 1, 1, 1, 1, 1, 1, 1, 1, 0, 1, 0,\n",
       "       1, 1, 1, 1, 1, 1, 0, 0, 0, 1, 0, 1, 1, 1, 1, 1, 1, 1, 1, 1, 1, 1,\n",
       "       1, 1, 0, 0, 1, 1, 1, 0, 0, 0, 0, 0, 1, 1, 1, 1, 1, 1, 1, 1, 1, 1,\n",
       "       1, 1, 1, 1, 1, 1, 1, 1, 0, 1, 1, 1, 1, 1, 1, 1, 1, 1, 1, 1, 1, 1,\n",
       "       1, 1, 1, 1, 1, 1, 1, 1, 1, 1, 1, 1, 1, 1, 1, 1, 1, 1, 1, 1, 1, 1,\n",
       "       0, 1, 1, 1, 1, 1, 1, 1, 1, 1, 1, 1, 1, 1, 1], dtype=int64)"
      ]
     },
     "execution_count": 62,
     "metadata": {},
     "output_type": "execute_result"
    }
   ],
   "source": [
    "#用训练好的分类器进行预测2线城市,的司机应该是1：留下还:0：直接走\n",
    "svm_clf.predict(x)"
   ]
  },
  {
   "cell_type": "markdown",
   "metadata": {},
   "source": [
    "# 对3线城市的数据进行预测"
   ]
  },
  {
   "cell_type": "code",
   "execution_count": 63,
   "metadata": {},
   "outputs": [
    {
     "data": {
      "text/html": [
       "<div>\n",
       "<style scoped>\n",
       "    .dataframe tbody tr th:only-of-type {\n",
       "        vertical-align: middle;\n",
       "    }\n",
       "\n",
       "    .dataframe tbody tr th {\n",
       "        vertical-align: top;\n",
       "    }\n",
       "\n",
       "    .dataframe thead th {\n",
       "        text-align: right;\n",
       "    }\n",
       "</style>\n",
       "<table border=\"1\" class=\"dataframe\">\n",
       "  <thead>\n",
       "    <tr style=\"text-align: right;\">\n",
       "      <th></th>\n",
       "      <th>起飞</th>\n",
       "      <th>到达</th>\n",
       "      <th>航班号</th>\n",
       "      <th>机型</th>\n",
       "      <th>persons</th>\n",
       "      <th>car_least3</th>\n",
       "      <th>car_more3</th>\n",
       "      <th>car_day_least3</th>\n",
       "      <th>car_day_more3</th>\n",
       "    </tr>\n",
       "  </thead>\n",
       "  <tbody>\n",
       "    <tr>\n",
       "      <th>0</th>\n",
       "      <td>7</td>\n",
       "      <td>8</td>\n",
       "      <td>cz3891</td>\n",
       "      <td>733</td>\n",
       "      <td>122</td>\n",
       "      <td>190</td>\n",
       "      <td>757</td>\n",
       "      <td>38</td>\n",
       "      <td>152</td>\n",
       "    </tr>\n",
       "    <tr>\n",
       "      <th>1</th>\n",
       "      <td>12</td>\n",
       "      <td>12</td>\n",
       "      <td>cz3893</td>\n",
       "      <td>733</td>\n",
       "      <td>122</td>\n",
       "      <td>81</td>\n",
       "      <td>324</td>\n",
       "      <td>41</td>\n",
       "      <td>162</td>\n",
       "    </tr>\n",
       "    <tr>\n",
       "      <th>2</th>\n",
       "      <td>15</td>\n",
       "      <td>16</td>\n",
       "      <td>cz3895</td>\n",
       "      <td>733</td>\n",
       "      <td>122</td>\n",
       "      <td>395</td>\n",
       "      <td>1578</td>\n",
       "      <td>33</td>\n",
       "      <td>132</td>\n",
       "    </tr>\n",
       "    <tr>\n",
       "      <th>3</th>\n",
       "      <td>20</td>\n",
       "      <td>21</td>\n",
       "      <td>cz3897</td>\n",
       "      <td>733</td>\n",
       "      <td>122</td>\n",
       "      <td>235</td>\n",
       "      <td>942</td>\n",
       "      <td>34</td>\n",
       "      <td>135</td>\n",
       "    </tr>\n",
       "    <tr>\n",
       "      <th>4</th>\n",
       "      <td>20</td>\n",
       "      <td>21</td>\n",
       "      <td>cz3897</td>\n",
       "      <td>733</td>\n",
       "      <td>122</td>\n",
       "      <td>235</td>\n",
       "      <td>942</td>\n",
       "      <td>34</td>\n",
       "      <td>135</td>\n",
       "    </tr>\n",
       "  </tbody>\n",
       "</table>\n",
       "</div>"
      ],
      "text/plain": [
       "   起飞  到达     航班号   机型  persons  car_least3  car_more3  car_day_least3  \\\n",
       "0   7   8  cz3891  733      122         190        757              38   \n",
       "1  12  12  cz3893  733      122          81        324              41   \n",
       "2  15  16  cz3895  733      122         395       1578              33   \n",
       "3  20  21  cz3897  733      122         235        942              34   \n",
       "4  20  21  cz3897  733      122         235        942              34   \n",
       "\n",
       "   car_day_more3  \n",
       "0            152  \n",
       "1            162  \n",
       "2            132  \n",
       "3            135  \n",
       "4            135  "
      ]
     },
     "execution_count": 63,
     "metadata": {},
     "output_type": "execute_result"
    }
   ],
   "source": [
    "data3 = pd.read_csv('./data/csv/beijing/model_shuju/model_day_3.csv')\n",
    "data3.head()"
   ]
  },
  {
   "cell_type": "code",
   "execution_count": 65,
   "metadata": {},
   "outputs": [],
   "source": [
    "# 为了建模将属性列为“机型”，“航班号”，删除\n",
    "data3 = data3.drop('机型',axis = 1)\n",
    "data3 = data3.drop('航班号',axis = 1)"
   ]
  },
  {
   "cell_type": "code",
   "execution_count": 66,
   "metadata": {},
   "outputs": [],
   "source": [
    "pd.isnull(data3).values.any()\n",
    "# 利用dropna() 函数删除掉缺失值\n",
    "data3 = data3.dropna()"
   ]
  },
  {
   "cell_type": "code",
   "execution_count": 67,
   "metadata": {},
   "outputs": [
    {
     "data": {
      "text/plain": [
       "False"
      ]
     },
     "execution_count": 67,
     "metadata": {},
     "output_type": "execute_result"
    }
   ],
   "source": [
    "pd.isnull(data3).values.any()"
   ]
  },
  {
   "cell_type": "code",
   "execution_count": 68,
   "metadata": {},
   "outputs": [],
   "source": [
    "# 将数据保存到本地\n",
    "data3.to_csv('./data/csv/beijing/model_shuju/model_3.csv',index = False)"
   ]
  },
  {
   "cell_type": "code",
   "execution_count": 69,
   "metadata": {},
   "outputs": [],
   "source": [
    "# 对数据集进行划分，x：指除了标签之外的特征，预测y,\n",
    "x3 = data3[:]"
   ]
  },
  {
   "cell_type": "code",
   "execution_count": 70,
   "metadata": {},
   "outputs": [
    {
     "data": {
      "text/plain": [
       "array([0, 0, 1, 1, 1, 1, 1, 1, 1, 0, 0, 0, 1, 0, 1, 1, 1, 0, 1, 1, 0, 0,\n",
       "       1, 1, 0, 0, 1, 0, 1, 0, 0, 0, 1, 1, 1, 0, 0, 1, 1, 1, 1, 0, 0, 0,\n",
       "       1, 1, 0, 0, 0, 1, 1, 1, 1, 0, 1, 1, 0, 1, 1, 1, 1, 1, 1, 1, 0, 1,\n",
       "       0, 1, 1, 0, 1, 1, 0, 1, 1, 1, 1, 1, 1, 1, 0, 1, 0, 1, 1, 0, 1, 1,\n",
       "       0, 1, 1, 1, 1, 1, 1, 1, 0, 1, 0, 1, 1, 0, 1, 1, 0, 1, 1, 1, 1, 1,\n",
       "       1, 1, 0, 1, 0, 1, 1, 0, 1, 1, 0, 1, 1, 1, 1, 1, 1, 1, 0, 1, 0],\n",
       "      dtype=int64)"
      ]
     },
     "execution_count": 70,
     "metadata": {},
     "output_type": "execute_result"
    }
   ],
   "source": [
    "#用训练好的分类器进行预测3线城市,的司机应该是1：留下还:0：直接走\n",
    "svm_clf.predict(x3)"
   ]
  },
  {
   "cell_type": "code",
   "execution_count": null,
   "metadata": {},
   "outputs": [],
   "source": []
  },
  {
   "cell_type": "code",
   "execution_count": null,
   "metadata": {},
   "outputs": [],
   "source": []
  },
  {
   "cell_type": "code",
   "execution_count": null,
   "metadata": {},
   "outputs": [],
   "source": []
  },
  {
   "cell_type": "code",
   "execution_count": null,
   "metadata": {},
   "outputs": [],
   "source": []
  },
  {
   "cell_type": "code",
   "execution_count": null,
   "metadata": {},
   "outputs": [],
   "source": []
  },
  {
   "cell_type": "code",
   "execution_count": null,
   "metadata": {},
   "outputs": [],
   "source": []
  },
  {
   "cell_type": "code",
   "execution_count": null,
   "metadata": {},
   "outputs": [],
   "source": []
  },
  {
   "cell_type": "code",
   "execution_count": null,
   "metadata": {},
   "outputs": [],
   "source": []
  },
  {
   "cell_type": "code",
   "execution_count": null,
   "metadata": {},
   "outputs": [],
   "source": []
  }
 ],
 "metadata": {
  "kernelspec": {
   "display_name": "Python 3 (ipykernel)",
   "language": "python",
   "name": "python3"
  },
  "language_info": {
   "codemirror_mode": {
    "name": "ipython",
    "version": 3
   },
   "file_extension": ".py",
   "mimetype": "text/x-python",
   "name": "python",
   "nbconvert_exporter": "python",
   "pygments_lexer": "ipython3",
   "version": "3.9.13"
  }
 },
 "nbformat": 4,
 "nbformat_minor": 2
}
