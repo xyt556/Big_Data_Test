{
 "cells": [
  {
   "cell_type": "markdown",
   "metadata": {},
   "source": [
    "# Xgboost实战\n",
    "　　Xgboost有两大类接口：Xgboost原生接口 和sklearn接口，并且Xgboost能够实现分类回归两种任务。下面对这四种情况做以解析。\n",
    "# https://www.cnblogs.com/wj-1314/p/9402324.html"
   ]
  },
  {
   "cell_type": "markdown",
   "metadata": {},
   "source": [
    "# 1，基于Xgboost原生接口的分类"
   ]
  },
  {
   "cell_type": "code",
   "execution_count": 1,
   "metadata": {},
   "outputs": [
    {
     "name": "stdout",
     "output_type": "stream",
     "text": [
      "accuarcy:93.33%\n"
     ]
    },
    {
     "data": {
      "text/plain": [
       "<Figure size 640x480 with 1 Axes>"
      ]
     },
     "metadata": {},
     "output_type": "display_data"
    }
   ],
   "source": [
    "from sklearn.datasets import load_iris\n",
    "import xgboost as xgb\n",
    "from xgboost import plot_importance\n",
    "import matplotlib.pyplot  as plt\n",
    "from sklearn.model_selection import train_test_split\n",
    "from sklearn.metrics import accuracy_score  # 准确率\n",
    " \n",
    "# 记载样本数据集\n",
    "iris = load_iris()\n",
    "X,y = iris.data,iris.target\n",
    "# 数据集分割\n",
    "X_train,X_test,y_train,y_test = train_test_split(X,y,test_size=0.2,random_state=123457)\n",
    " \n",
    "# 算法参数\n",
    "params = {\n",
    "    'booster':'gbtree',\n",
    "    'objective':'multi:softmax',\n",
    "    'num_class':3,\n",
    "    'gamma':0.1,\n",
    "    'max_depth':6,\n",
    "    'lambda':2,\n",
    "    'subsample':0.7,\n",
    "    'colsample_bytree':0.7,\n",
    "    'min_child_weight':3,\n",
    "    'slient':1,\n",
    "    'eta':0.1,\n",
    "    'seed':1000,\n",
    "    'nthread':4,\n",
    "}\n",
    " \n",
    "plst = params.items()\n",
    " \n",
    "# 生成数据集格式\n",
    "dtrain = xgb.DMatrix(X_train,y_train)\n",
    "num_rounds = 500\n",
    "# xgboost模型训练\n",
    "model = xgb.train(plst,dtrain,num_rounds)\n",
    " \n",
    "# 对测试集进行预测\n",
    "dtest = xgb.DMatrix(X_test)\n",
    "y_pred = model.predict(dtest)\n",
    " \n",
    "# 计算准确率\n",
    "accuracy = accuracy_score(y_test,y_pred)\n",
    "print('accuarcy:%.2f%%'%(accuracy*100))\n",
    " \n",
    "# 显示重要特征\n",
    "plot_importance(model)\n",
    "plt.show()"
   ]
  },
  {
   "cell_type": "markdown",
   "metadata": {},
   "source": [
    "# 2，基于Xgboost原生接口的回归"
   ]
  },
  {
   "cell_type": "code",
   "execution_count": 2,
   "metadata": {},
   "outputs": [
    {
     "data": {
      "image/png": "[encoded data removed]",
      "text/plain": [
       "<Figure size 432x288 with 1 Axes>"
      ]
     },
     "metadata": {
      "needs_background": "light"
     },
     "output_type": "display_data"
    }
   ],
   "source": [
    "import xgboost as xgb\n",
    "from xgboost import plot_importance\n",
    "from matplotlib import pyplot as plt\n",
    "from sklearn.model_selection import train_test_split\n",
    "from sklearn.datasets import load_boston\n",
    "from sklearn.metrics import mean_squared_error\n",
    " \n",
    "# 加载数据集,此数据集时做回归的\n",
    "boston = load_boston()\n",
    "X,y = boston.data,boston.target\n",
    " \n",
    "# Xgboost训练过程\n",
    "X_train,X_test,y_train,y_test = train_test_split(X,y,test_size=0.2,random_state=0)\n",
    " \n",
    "# 算法参数\n",
    "params = {\n",
    "    'booster':'gbtree',\n",
    "    'objective':'reg:gamma',\n",
    "    'gamma':0.1,\n",
    "    'max_depth':5,\n",
    "    'lambda':3,\n",
    "    'subsample':0.7,\n",
    "    'colsample_bytree':0.7,\n",
    "    'min_child_weight':3,\n",
    "    'slient':1,\n",
    "    'eta':0.1,\n",
    "    'seed':1000,\n",
    "    'nthread':4,\n",
    "}\n",
    " \n",
    "dtrain = xgb.DMatrix(X_train,y_train)\n",
    "num_rounds = 300\n",
    "plst = params.items()\n",
    "model = xgb.train(plst,dtrain,num_rounds)\n",
    " \n",
    "# 对测试集进行预测\n",
    "dtest = xgb.DMatrix(X_test)\n",
    "ans = model.predict(dtest)\n",
    " \n",
    "# 显示重要特征\n",
    "plot_importance(model)\n",
    "plt.show()"
   ]
  },
  {
   "cell_type": "markdown",
   "metadata": {},
   "source": [
    "# 3，Xgboost使用sklearn接口的分类（推荐）"
   ]
  },
  {
   "cell_type": "code",
   "execution_count": 4,
   "metadata": {},
   "outputs": [],
   "source": [
    "from xgboost.sklearn import XGBClassifier\n",
    " \n",
    "clf = XGBClassifier(\n",
    "    silent=0,  # 设置成1则没有运行信息输出，最好是设置为0，是否在运行升级时打印消息\n",
    "    # nthread = 4  # CPU 线程数 默认最大\n",
    "    learning_rate=0.3 , # 如同学习率\n",
    "    min_child_weight = 1,\n",
    "    # 这个参数默认为1，是每个叶子里面h的和至少是多少，对正负样本不均衡时的0-1分类而言\n",
    "    # 假设h在0.01附近，min_child_weight为1 意味着叶子节点中最少需要包含100个样本\n",
    "    # 这个参数非常影响结果，控制叶子节点中二阶导的和的最小值，该参数值越小，越容易过拟合\n",
    "    max_depth=6, # 构建树的深度，越大越容易过拟合\n",
    "    gamma = 0,# 树的叶子节点上做进一步分区所需的最小损失减少，越大越保守，一般0.1 0.2这样子\n",
    "    subsample=1, # 随机采样训练样本，训练实例的子采样比\n",
    "    max_delta_step=0,  # 最大增量步长，我们允许每个树的权重估计\n",
    "    colsample_bytree=1, # 生成树时进行的列采样\n",
    "    reg_lambda=1, #控制模型复杂度的权重值的L2正则化项参数，参数越大，模型越不容易过拟合\n",
    "    # reg_alpha=0, # L1正则项参数\n",
    "    # scale_pos_weight =1 # 如果取值大于0的话，在类别样本不平衡的情况下有助于快速收敛，平衡正负权重\n",
    "    # objective = 'multi:softmax', # 多分类问题，指定学习任务和响应的学习目标\n",
    "    # num_class = 10,  # 类别数，多分类与multisoftmax并用\n",
    "    n_estimators=100,  # 树的个数\n",
    "    seed = 1000,  # 随机种子\n",
    "    # eval_metric ='auc'\n",
    ")"
   ]
  },
  {
   "cell_type": "markdown",
   "metadata": {},
   "source": [
    "# 基于Sckit-learn接口的分类"
   ]
  },
  {
   "cell_type": "code",
   "execution_count": 6,
   "metadata": {},
   "outputs": [
    {
     "name": "stdout",
     "output_type": "stream",
     "text": [
      "accuracy:93.33%\n"
     ]
    },
    {
     "data": {
      "image/png": "[encoded data removed]",
      "text/plain": [
       "<Figure size 432x288 with 1 Axes>"
      ]
     },
     "metadata": {
      "needs_background": "light"
     },
     "output_type": "display_data"
    }
   ],
   "source": [
    "from sklearn.datasets import load_iris\n",
    "import xgboost as xgb\n",
    "from xgboost import plot_importance\n",
    "from matplotlib import pyplot as plt\n",
    "from sklearn.model_selection import train_test_split\n",
    "from sklearn.metrics import accuracy_score\n",
    " \n",
    "# 加载样本数据集\n",
    "iris = load_iris()\n",
    "X,y = iris.data,iris.target\n",
    "X_train,X_test,y_train,y_test = train_test_split(X,y,test_size=0.2,random_state=12343)\n",
    " \n",
    "# 训练模型\n",
    "model = xgb.XGBClassifier(max_depth=5,learning_rate=0.1,n_estimators=160,silent=True,objective='multi:softmax')\n",
    "model.fit(X_train,y_train)\n",
    " \n",
    "# 对测试集进行预测\n",
    "y_pred = model.predict(X_test)\n",
    " \n",
    "#计算准确率\n",
    "accuracy = accuracy_score(y_test,y_pred)\n",
    "print('accuracy:%2.2f%%'%(accuracy*100))\n",
    " \n",
    "# 显示重要特征\n",
    "plot_importance(model)\n",
    "plt.show()\n"
   ]
  },
  {
   "cell_type": "markdown",
   "metadata": {},
   "source": [
    "# 4，基于Scikit-learn接口的回归"
   ]
  },
  {
   "cell_type": "code",
   "execution_count": 7,
   "metadata": {},
   "outputs": [
    {
     "data": {
      "image/png": "[encoded data removed]",
      "text/plain": [
       "<Figure size 432x288 with 1 Axes>"
      ]
     },
     "metadata": {
      "needs_background": "light"
     },
     "output_type": "display_data"
    }
   ],
   "source": [
    "import xgboost as xgb\n",
    "from xgboost import plot_importance\n",
    "from matplotlib import pyplot as plt\n",
    "from sklearn.model_selection import train_test_split\n",
    "from sklearn.datasets import load_boston\n",
    " \n",
    "# 导入数据集\n",
    "boston = load_boston()\n",
    "X ,y = boston.data,boston.target\n",
    " \n",
    "# Xgboost训练过程\n",
    "X_train,X_test,y_train,y_test = train_test_split(X,y,test_size=0.2,random_state=0)\n",
    " \n",
    "model = xgb.XGBRegressor(max_depth=5,learning_rate=0.1,n_estimators=160,silent=True,objective='reg:gamma')\n",
    "model.fit(X_train,y_train)\n",
    " \n",
    "# 对测试集进行预测\n",
    "ans = model.predict(X_test)\n",
    " \n",
    "# 显示重要特征\n",
    "plot_importance(model)\n",
    "plt.show()"
   ]
  },
  {
   "cell_type": "markdown",
   "metadata": {},
   "source": [
    "# 5，整理代码1（原生XGB）"
   ]
  },
  {
   "cell_type": "code",
   "execution_count": 9,
   "metadata": {},
   "outputs": [
    {
     "name": "stdout",
     "output_type": "stream",
     "text": [
      "[0]\ttrain-rmse:1.12759\tval-rmse:1.11303\n",
      "Multiple eval metrics have been passed: 'val-rmse' will be used for early stopping.\n",
      "\n",
      "Will train until val-rmse hasn't improved in 100 rounds.\n",
      "[1]\ttrain-rmse:1.12472\tval-rmse:1.11038\n",
      "[2]\ttrain-rmse:1.1218\tval-rmse:1.10781\n",
      "[3]\ttrain-rmse:1.11901\tval-rmse:1.10531\n",
      "[4]\ttrain-rmse:1.11617\tval-rmse:1.10276\n",
      "[5]\ttrain-rmse:1.11327\tval-rmse:1.10024\n",
      "[6]\ttrain-rmse:1.11047\tval-rmse:1.09775\n",
      "[7]\ttrain-rmse:1.10764\tval-rmse:1.09517\n",
      "[8]\ttrain-rmse:1.10491\tval-rmse:1.09276\n",
      "[9]\ttrain-rmse:1.10211\tval-rmse:1.09033\n",
      "[10]\ttrain-rmse:1.09945\tval-rmse:1.08795\n",
      "[11]\ttrain-rmse:1.09673\tval-rmse:1.08549\n",
      "[12]\ttrain-rmse:1.0941\tval-rmse:1.0832\n",
      "[13]\ttrain-rmse:1.09147\tval-rmse:1.0809\n",
      "[14]\ttrain-rmse:1.08883\tval-rmse:1.07857\n",
      "[15]\ttrain-rmse:1.08626\tval-rmse:1.0763\n",
      "[16]\ttrain-rmse:1.08368\tval-rmse:1.07402\n",
      "[17]\ttrain-rmse:1.08102\tval-rmse:1.07165\n",
      "[18]\ttrain-rmse:1.07842\tval-rmse:1.06935\n",
      "[19]\ttrain-rmse:1.07591\tval-rmse:1.0671\n",
      "[20]\ttrain-rmse:1.07349\tval-rmse:1.06495\n",
      "[21]\ttrain-rmse:1.07101\tval-rmse:1.06269\n",
      "[22]\ttrain-rmse:1.06856\tval-rmse:1.06051\n",
      "[23]\ttrain-rmse:1.06605\tval-rmse:1.05832\n",
      "[24]\ttrain-rmse:1.06361\tval-rmse:1.05613\n",
      "[25]\ttrain-rmse:1.06115\tval-rmse:1.05397\n",
      "[26]\ttrain-rmse:1.05868\tval-rmse:1.05181\n",
      "[27]\ttrain-rmse:1.05627\tval-rmse:1.04972\n",
      "[28]\ttrain-rmse:1.05386\tval-rmse:1.04759\n",
      "[29]\ttrain-rmse:1.05144\tval-rmse:1.04548\n",
      "[30]\ttrain-rmse:1.04906\tval-rmse:1.0434\n",
      "[31]\ttrain-rmse:1.04682\tval-rmse:1.0414\n",
      "[32]\ttrain-rmse:1.04448\tval-rmse:1.03937\n",
      "[33]\ttrain-rmse:1.04226\tval-rmse:1.0374\n",
      "[34]\ttrain-rmse:1.04004\tval-rmse:1.03541\n",
      "[35]\ttrain-rmse:1.0377\tval-rmse:1.0334\n",
      "[36]\ttrain-rmse:1.03538\tval-rmse:1.03139\n",
      "[37]\ttrain-rmse:1.03314\tval-rmse:1.02944\n",
      "[38]\ttrain-rmse:1.0309\tval-rmse:1.02747\n",
      "[39]\ttrain-rmse:1.0287\tval-rmse:1.02561\n",
      "[40]\ttrain-rmse:1.02649\tval-rmse:1.02365\n",
      "[41]\ttrain-rmse:1.02419\tval-rmse:1.02172\n",
      "[42]\ttrain-rmse:1.02208\tval-rmse:1.01984\n",
      "[43]\ttrain-rmse:1.01992\tval-rmse:1.01793\n",
      "[44]\ttrain-rmse:1.01773\tval-rmse:1.01603\n",
      "[45]\ttrain-rmse:1.01565\tval-rmse:1.01414\n",
      "[46]\ttrain-rmse:1.01363\tval-rmse:1.01237\n",
      "[47]\ttrain-rmse:1.01154\tval-rmse:1.01051\n",
      "[48]\ttrain-rmse:1.00948\tval-rmse:1.00875\n",
      "[49]\ttrain-rmse:1.00734\tval-rmse:1.00689\n",
      "[50]\ttrain-rmse:1.00529\tval-rmse:1.00521\n",
      "[51]\ttrain-rmse:1.00328\tval-rmse:1.00353\n",
      "[52]\ttrain-rmse:1.00122\tval-rmse:1.00175\n",
      "[53]\ttrain-rmse:0.999283\tval-rmse:1.00003\n",
      "[54]\ttrain-rmse:0.997269\tval-rmse:0.998343\n",
      "[55]\ttrain-rmse:0.995291\tval-rmse:0.99671\n",
      "[56]\ttrain-rmse:0.993307\tval-rmse:0.995017\n",
      "[57]\ttrain-rmse:0.991246\tval-rmse:0.993253\n",
      "[58]\ttrain-rmse:0.989308\tval-rmse:0.991586\n",
      "[59]\ttrain-rmse:0.98735\tval-rmse:0.989977\n",
      "[60]\ttrain-rmse:0.985433\tval-rmse:0.988334\n",
      "[61]\ttrain-rmse:0.983581\tval-rmse:0.986747\n",
      "[62]\ttrain-rmse:0.981684\tval-rmse:0.985125\n",
      "[63]\ttrain-rmse:0.979828\tval-rmse:0.983516\n",
      "[64]\ttrain-rmse:0.977958\tval-rmse:0.981942\n",
      "[65]\ttrain-rmse:0.976048\tval-rmse:0.980309\n",
      "[66]\ttrain-rmse:0.97422\tval-rmse:0.97878\n",
      "[67]\ttrain-rmse:0.972413\tval-rmse:0.977232\n",
      "[68]\ttrain-rmse:0.97062\tval-rmse:0.975692\n",
      "[69]\ttrain-rmse:0.968846\tval-rmse:0.974183\n",
      "[70]\ttrain-rmse:0.967019\tval-rmse:0.972576\n",
      "[71]\ttrain-rmse:0.965234\tval-rmse:0.971035\n",
      "[72]\ttrain-rmse:0.963425\tval-rmse:0.969563\n",
      "[73]\ttrain-rmse:0.961641\tval-rmse:0.968107\n",
      "[74]\ttrain-rmse:0.959826\tval-rmse:0.966599\n",
      "[75]\ttrain-rmse:0.958183\tval-rmse:0.965125\n",
      "[76]\ttrain-rmse:0.956503\tval-rmse:0.963735\n",
      "[77]\ttrain-rmse:0.954812\tval-rmse:0.962375\n",
      "[78]\ttrain-rmse:0.953047\tval-rmse:0.960849\n",
      "[79]\ttrain-rmse:0.951342\tval-rmse:0.959349\n",
      "[80]\ttrain-rmse:0.949646\tval-rmse:0.957911\n",
      "[81]\ttrain-rmse:0.947975\tval-rmse:0.956443\n",
      "[82]\ttrain-rmse:0.946366\tval-rmse:0.955062\n",
      "[83]\ttrain-rmse:0.944724\tval-rmse:0.953711\n",
      "[84]\ttrain-rmse:0.943113\tval-rmse:0.952371\n",
      "[85]\ttrain-rmse:0.941479\tval-rmse:0.951022\n",
      "[86]\ttrain-rmse:0.939824\tval-rmse:0.949604\n",
      "[87]\ttrain-rmse:0.938124\tval-rmse:0.948197\n",
      "[88]\ttrain-rmse:0.936532\tval-rmse:0.94682\n",
      "[89]\ttrain-rmse:0.93486\tval-rmse:0.945443\n",
      "[90]\ttrain-rmse:0.933193\tval-rmse:0.94403\n",
      "[91]\ttrain-rmse:0.931649\tval-rmse:0.942732\n",
      "[92]\ttrain-rmse:0.930025\tval-rmse:0.941333\n",
      "[93]\ttrain-rmse:0.92841\tval-rmse:0.940017\n",
      "[94]\ttrain-rmse:0.926834\tval-rmse:0.938684\n",
      "[95]\ttrain-rmse:0.925321\tval-rmse:0.937461\n",
      "[96]\ttrain-rmse:0.923906\tval-rmse:0.936347\n",
      "[97]\ttrain-rmse:0.922448\tval-rmse:0.935091\n",
      "[98]\ttrain-rmse:0.920914\tval-rmse:0.933812\n",
      "[99]\ttrain-rmse:0.919434\tval-rmse:0.932579\n",
      "best best_ntree_limit 100\n",
      "error=0.962333\n",
      "xgboost success! \n",
      " cost time: 2.0555419921875 (s)......\n"
     ]
    }
   ],
   "source": [
    "from sklearn.model_selection import train_test_split\n",
    "from sklearn import metrics\n",
    "from  sklearn.datasets  import  make_hastie_10_2\n",
    "import xgboost as xgb\n",
    "#记录程序运行时间\n",
    "import time\n",
    "start_time = time.time()\n",
    "X, y = make_hastie_10_2(random_state=0)\n",
    "X_train, X_test, y_train, y_test = train_test_split(X, y, test_size=0.5, random_state=0)##test_size测试集合所占比例\n",
    "#xgb矩阵赋值\n",
    "xgb_train = xgb.DMatrix(X_train, label=y_train)\n",
    "xgb_test = xgb.DMatrix(X_test,label=y_test)\n",
    "##参数\n",
    "params={\n",
    "'booster':'gbtree',\n",
    "'silent':1 ,#设置成1则没有运行信息输出，最好是设置为0.\n",
    "#'nthread':7,# cpu 线程数 默认最大\n",
    "'eta': 0.007, # 如同学习率\n",
    "'min_child_weight':3,\n",
    "# 这个参数默认是 1，是每个叶子里面 h 的和至少是多少，对正负样本不均衡时的 0-1 分类而言\n",
    "#，假设 h 在 0.01 附近，min_child_weight 为 1 意味着叶子节点中最少需要包含 100 个样本。\n",
    "#这个参数非常影响结果，控制叶子节点中二阶导的和的最小值，该参数值越小，越容易 overfitting。\n",
    "'max_depth':6, # 构建树的深度，越大越容易过拟合\n",
    "'gamma':0.1,  # 树的叶子节点上作进一步分区所需的最小损失减少,越大越保守，一般0.1、0.2这样子。\n",
    "'subsample':0.7, # 随机采样训练样本\n",
    "'colsample_bytree':0.7, # 生成树时进行的列采样\n",
    "'lambda':2,  # 控制模型复杂度的权重值的L2正则化项参数，参数越大，模型越不容易过拟合。\n",
    "#'alpha':0, # L1 正则项参数\n",
    "#'scale_pos_weight':1, #如果取值大于0的话，在类别样本不平衡的情况下有助于快速收敛。\n",
    "#'objective': 'multi:softmax', #多分类的问题\n",
    "#'num_class':10, # 类别数，多分类与 multisoftmax 并用\n",
    "'seed':1000, #随机种子\n",
    "#'eval_metric': 'auc'\n",
    "}\n",
    "plst = list(params.items())\n",
    "num_rounds = 100 # 迭代次数\n",
    "watchlist = [(xgb_train, 'train'),(xgb_test, 'val')]\n",
    "  \n",
    "#训练模型并保存\n",
    "# early_stopping_rounds 当设置的迭代次数较大时，early_stopping_rounds 可在一定的迭代次数内准确率没有提升就停止训练\n",
    "model = xgb.train(plst, xgb_train, num_rounds, watchlist,early_stopping_rounds=100)\n",
    "#model.save_model('./model/xgb.model') # 用于存储训练出的模型\n",
    "print (\"best best_ntree_limit\",model.best_ntree_limit)\n",
    "y_pred = model.predict(xgb_test,ntree_limit=model.best_ntree_limit)\n",
    "print ('error=%f' % (  sum(1 for i in range(len(y_pred)) if int(y_pred[i]>0.5)!=y_test[i]) /float(len(y_pred)))) \n",
    "#输出运行时长\n",
    "cost_time = time.time()-start_time\n",
    "print (\"xgboost success!\",'\\n',\"cost time:\",cost_time,\"(s)......\")"
   ]
  },
  {
   "cell_type": "markdown",
   "metadata": {},
   "source": [
    "# 6，整理代码2（XGB使用sklearn"
   ]
  },
  {
   "cell_type": "code",
   "execution_count": 16,
   "metadata": {},
   "outputs": [
    {
     "name": "stdout",
     "output_type": "stream",
     "text": [
      "Accuracy : 0.9177\n"
     ]
    }
   ],
   "source": [
    "from sklearn.model_selection import train_test_split\n",
    "from sklearn import metrics\n",
    "from  sklearn.datasets  import  make_hastie_10_2\n",
    "from xgboost.sklearn import XGBClassifier\n",
    "X, y = make_hastie_10_2(random_state=0)\n",
    "X_train, X_test, y_train, y_test = train_test_split(X, y, test_size=0.5, random_state=0)##test_size测试集合所占比例\n",
    "clf = XGBClassifier(\n",
    "silent=0 ,#设置成1则没有运行信息输出，最好是设置为0.是否在运行升级时打印消息。\n",
    "#nthread=4,# cpu 线程数 默认最大\n",
    "learning_rate= 0.3, # 如同学习率\n",
    "min_child_weight=1,\n",
    "# 这个参数默认是 1，是每个叶子里面 h 的和至少是多少，对正负样本不均衡时的 0-1 分类而言\n",
    "#，假设 h 在 0.01 附近，min_child_weight 为 1 意味着叶子节点中最少需要包含 100 个样本。\n",
    "#这个参数非常影响结果，控制叶子节点中二阶导的和的最小值，该参数值越小，越容易 overfitting。\n",
    "max_depth=6, # 构建树的深度，越大越容易过拟合\n",
    "gamma=0,  # 树的叶子节点上作进一步分区所需的最小损失减少,越大越保守，一般0.1、0.2这样子。\n",
    "subsample=1, # 随机采样训练样本 训练实例的子采样比\n",
    "max_delta_step=0,#最大增量步长，我们允许每个树的权重估计。\n",
    "colsample_bytree=1, # 生成树时进行的列采样\n",
    "reg_lambda=1,  # 控制模型复杂度的权重值的L2正则化项参数，参数越大，模型越不容易过拟合。\n",
    "#reg_alpha=0, # L1 正则项参数\n",
    "#scale_pos_weight=1, #如果取值大于0的话，在类别样本不平衡的情况下有助于快速收敛。平衡正负权重\n",
    "#objective= 'multi:softmax', #多分类的问题 指定学习任务和相应的学习目标\n",
    "#num_class=10, # 类别数，多分类与 multisoftmax 并用\n",
    "n_estimators=100, #树的个数\n",
    "seed=1000 #随机种子\n",
    "#eval_metric= 'auc'\n",
    ")\n",
    "clf.fit(X_train,y_train,eval_metric='auc')\n",
    "#设置验证集合 verbose=False不打印过程\n",
    "clf.fit(X_train, y_train,eval_set=[(X_train, y_train)],eval_metric='auc',verbose=False)\n",
    "#获取验证集合结果\n",
    "evals_result = clf.evals_result()\n",
    "y_true, y_pred = y_test, clf.predict(X_test)\n",
    "print(\"Accuracy : %.4g\" % metrics.accuracy_score(y_true, y_pred))\n",
    "#回归\n",
    "#m_regress = xgb.XGBRegressor(n_estimators=1000,seed=0)"
   ]
  },
  {
   "cell_type": "code",
   "execution_count": 17,
   "metadata": {},
   "outputs": [],
   "source": [
    "from xgboost import XGBClassifier\n",
    "xgb1 = XGBClassifier(\n",
    " learning_rate =0.1,\n",
    " n_estimators=1000,\n",
    " max_depth=5,\n",
    " min_child_weight=1,\n",
    " gamma=0,\n",
    " subsample=0.8,\n",
    " colsample_bytree=0.8,\n",
    " objective= 'binary:logistic',\n",
    " nthread=4,\n",
    " scale_pos_weight=1,\n",
    " seed=27)"
   ]
  },
  {
   "cell_type": "code",
   "execution_count": 18,
   "metadata": {},
   "outputs": [],
   "source": [
    "param_test1 = {\n",
    " 'max_depth':range(3,10,2),\n",
    " 'min_child_weight':range(1,6,2)\n",
    "}"
   ]
  },
  {
   "cell_type": "code",
   "execution_count": 22,
   "metadata": {},
   "outputs": [
    {
     "ename": "NameError",
     "evalue": "name 'train' is not defined",
     "output_type": "error",
     "traceback": [
      "\u001b[1;31m---------------------------------------------------------------------------\u001b[0m",
      "\u001b[1;31mNameError\u001b[0m                                 Traceback (most recent call last)",
      "\u001b[1;32m<ipython-input-22-8ef26db6c098>\u001b[0m in \u001b[0;36m<module>\u001b[1;34m\u001b[0m\n\u001b[0;32m      5\u001b[0m subsample=0.8,colsample_bytree=0.8,objective= 'binary:logistic',nthread=4,scale_pos_weight=1,seed=27),\n\u001b[0;32m      6\u001b[0m param_grid = param_test1,scoring='roc_auc',n_jobs=4,iid=False,cv=5)\n\u001b[1;32m----> 7\u001b[1;33m \u001b[0mgsearch1\u001b[0m\u001b[1;33m.\u001b[0m\u001b[0mfit\u001b[0m\u001b[1;33m(\u001b[0m\u001b[0mtrain\u001b[0m\u001b[1;33m[\u001b[0m\u001b[0mpredictors\u001b[0m\u001b[1;33m]\u001b[0m\u001b[1;33m,\u001b[0m\u001b[0mtrain\u001b[0m\u001b[1;33m[\u001b[0m\u001b[0mtarget\u001b[0m\u001b[1;33m]\u001b[0m\u001b[1;33m)\u001b[0m\u001b[1;33m\u001b[0m\u001b[1;33m\u001b[0m\u001b[0m\n\u001b[0m\u001b[0;32m      8\u001b[0m \u001b[0mgsearch1\u001b[0m\u001b[1;33m.\u001b[0m\u001b[0mgrid_scores_\u001b[0m\u001b[1;33m,\u001b[0m\u001b[0mgsearch1\u001b[0m\u001b[1;33m.\u001b[0m\u001b[0mbest_params_\u001b[0m\u001b[1;33m,\u001b[0m\u001b[0mgsearch1\u001b[0m\u001b[1;33m.\u001b[0m\u001b[0mbest_score_\u001b[0m\u001b[1;33m\u001b[0m\u001b[1;33m\u001b[0m\u001b[0m\n",
      "\u001b[1;31mNameError\u001b[0m: name 'train' is not defined"
     ]
    }
   ],
   "source": [
    "from sklearn import svm,datasets\n",
    "from sklearn.model_selection import train_test_split, GridSearchCV\n",
    "gsearch1 = GridSearchCV(\n",
    "estimator = XGBClassifier(learning_rate =0.1,n_estimators=140, max_depth=5,min_child_weight=1,gamma=0,\n",
    "subsample=0.8,colsample_bytree=0.8,objective= 'binary:logistic',nthread=4,scale_pos_weight=1,seed=27),\n",
    "param_grid = param_test1,scoring='roc_auc',n_jobs=4,iid=False,cv=5)\n",
    "gsearch1.fit(train[predictors],train[target])\n",
    "gsearch1.grid_scores_,gsearch1.best_params_,gsearch1.best_score_"
   ]
  },
  {
   "cell_type": "code",
   "execution_count": null,
   "metadata": {},
   "outputs": [],
   "source": []
  }
 ],
 "metadata": {
  "kernelspec": {
   "display_name": "Python 3",
   "language": "python",
   "name": "python3"
  },
  "language_info": {
   "codemirror_mode": {
    "name": "ipython",
    "version": 3
   },
   "file_extension": ".py",
   "mimetype": "text/x-python",
   "name": "python",
   "nbconvert_exporter": "python",
   "pygments_lexer": "ipython3",
   "version": "3.7.3"
  }
 },
 "nbformat": 4,
 "nbformat_minor": 2
}
