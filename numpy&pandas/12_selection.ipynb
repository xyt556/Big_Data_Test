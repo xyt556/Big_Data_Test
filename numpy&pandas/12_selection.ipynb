{
 "cells": [
  {
   "cell_type": "code",
   "execution_count": 21,
   "metadata": {},
   "outputs": [
    {
     "name": "stdout",
     "output_type": "stream",
     "text": [
      "2013-01-01   -0.735000\n",
      "2013-01-02    1.055564\n",
      "2013-01-03   -0.975856\n",
      "2013-01-04   -0.348287\n",
      "2013-01-05   -0.885000\n",
      "2013-01-06    1.328065\n",
      "Freq: D, Name: A, dtype: float64 2013-01-01   -0.735000\n",
      "2013-01-02    1.055564\n",
      "2013-01-03   -0.975856\n",
      "2013-01-04   -0.348287\n",
      "2013-01-05   -0.885000\n",
      "2013-01-06    1.328065\n",
      "Freq: D, Name: A, dtype: float64\n",
      "-------------------\n",
      "                   A         B         C         D\n",
      "2013-01-01 -0.735000 -0.351676 -0.934082  2.272631\n",
      "2013-01-02  1.055564  1.204281  0.241171 -1.045149\n",
      "2013-01-03 -0.975856 -0.609236  0.714121  1.131472                    A         B         C         D\n",
      "2013-01-02  1.055564  1.204281  0.241171 -1.045149\n",
      "2013-01-03 -0.975856 -0.609236  0.714121  1.131472\n",
      "2013-01-04 -0.348287  2.089803 -1.908865  1.498761\n"
     ]
    }
   ],
   "source": [
    "# %load 12_selection.py\n",
    "# View more python tutorials on my Youtube and Youku channel!!!\n",
    "\n",
    "# Youtube video tutorial: https://www.youtube.com/channel/UCdyjiB5H8Pu7aDTNVXTTpcg\n",
    "# Youku video tutorial: http://i.youku.com/pythontutorial\n",
    "\"\"\"\n",
    "Please note, this code is only for python 3+. If you are using python 2+, please modify the code accordingly.\n",
    "\"\"\"\n",
    "from __future__ import print_function\n",
    "import pandas as pd\n",
    "import numpy as np\n",
    "\n",
    "dates = pd.date_range('20130101', periods=6)\n",
    "df = pd.DataFrame(np.random.randn(6,4), index=dates, columns=['A', 'B', 'C', 'D'])\n",
    "print(df['A'], df.A)\n",
    "print('-------------------')\n",
    "print(df[0:3], df['20130102':'20130104'])"
   ]
  },
  {
   "cell_type": "code",
   "execution_count": 22,
   "metadata": {},
   "outputs": [
    {
     "name": "stdout",
     "output_type": "stream",
     "text": [
      "A    1.055564\n",
      "B    1.204281\n",
      "C    0.241171\n",
      "D   -1.045149\n",
      "Name: 2013-01-02 00:00:00, dtype: float64\n",
      "-------------------\n",
      "                   A         B\n",
      "2013-01-01 -0.735000 -0.351676\n",
      "2013-01-02  1.055564  1.204281\n",
      "2013-01-03 -0.975856 -0.609236\n",
      "2013-01-04 -0.348287  2.089803\n",
      "2013-01-05 -0.885000  0.840111\n",
      "2013-01-06  1.328065  0.511539\n",
      "-------------------\n",
      "A    1.055564\n",
      "B    1.204281\n",
      "Name: 2013-01-02 00:00:00, dtype: float64\n"
     ]
    }
   ],
   "source": [
    "# select by label: loc\n",
    "print(df.loc['20130102'])\n",
    "print('-------------------')\n",
    "print(df.loc[:,['A','B']])\n",
    "print('-------------------')\n",
    "print(df.loc['20130102', ['A','B']])"
   ]
  },
  {
   "cell_type": "code",
   "execution_count": 23,
   "metadata": {},
   "outputs": [
    {
     "name": "stdout",
     "output_type": "stream",
     "text": [
      "A   -0.348287\n",
      "B    2.089803\n",
      "C   -1.908865\n",
      "D    1.498761\n",
      "Name: 2013-01-04 00:00:00, dtype: float64\n",
      "2.0898027581224645\n",
      "                   A         B\n",
      "2013-01-04 -0.348287  2.089803\n",
      "2013-01-05 -0.885000  0.840111\n",
      "                   A         C\n",
      "2013-01-02  1.055564  0.241171\n",
      "2013-01-03 -0.975856  0.714121\n",
      "2013-01-05 -0.885000 -0.456570\n"
     ]
    }
   ],
   "source": [
    "# select by position: iloc\n",
    "print(df.iloc[3])\n",
    "print(df.iloc[3, 1])\n",
    "print(df.iloc[3:5,0:2])\n",
    "print(df.iloc[[1,2,4],[0,2]])\n",
    "\n"
   ]
  },
  {
   "cell_type": "code",
   "execution_count": 24,
   "metadata": {},
   "outputs": [
    {
     "ename": "TypeError",
     "evalue": "cannot do slice indexing on DatetimeIndex with these indexers [3] of type int",
     "output_type": "error",
     "traceback": [
      "\u001B[1;31m---------------------------------------------------------------------------\u001B[0m",
      "\u001B[1;31mTypeError\u001B[0m                                 Traceback (most recent call last)",
      "Cell \u001B[1;32mIn [24], line 2\u001B[0m\n\u001B[0;32m      1\u001B[0m \u001B[38;5;66;03m# mixed selection: ix,在pandas版本0.20.0及其以后版本中，ix已经不被推荐使用，改为loc\u001B[39;00m\n\u001B[1;32m----> 2\u001B[0m \u001B[38;5;28mprint\u001B[39m(\u001B[43mdf\u001B[49m\u001B[38;5;241;43m.\u001B[39;49m\u001B[43mloc\u001B[49m\u001B[43m[\u001B[49m\u001B[43m:\u001B[49m\u001B[38;5;241;43m3\u001B[39;49m\u001B[43m,\u001B[49m\u001B[43m \u001B[49m\u001B[43m[\u001B[49m\u001B[38;5;124;43m'\u001B[39;49m\u001B[38;5;124;43mA\u001B[39;49m\u001B[38;5;124;43m'\u001B[39;49m\u001B[43m,\u001B[49m\u001B[43m \u001B[49m\u001B[38;5;124;43m'\u001B[39;49m\u001B[38;5;124;43mC\u001B[39;49m\u001B[38;5;124;43m'\u001B[39;49m\u001B[43m]\u001B[49m\u001B[43m]\u001B[49m)\n\u001B[0;32m      3\u001B[0m \u001B[38;5;66;03m# Boolean indexing\u001B[39;00m\n\u001B[0;32m      4\u001B[0m \u001B[38;5;28mprint\u001B[39m(df[df\u001B[38;5;241m.\u001B[39mA \u001B[38;5;241m>\u001B[39m \u001B[38;5;241m0\u001B[39m])\n",
      "File \u001B[1;32mF:\\Big_Data_Test\\venv\\lib\\site-packages\\pandas\\core\\indexing.py:1068\u001B[0m, in \u001B[0;36m_LocationIndexer.__getitem__\u001B[1;34m(self, key)\u001B[0m\n\u001B[0;32m   1066\u001B[0m     \u001B[38;5;28;01mif\u001B[39;00m \u001B[38;5;28mself\u001B[39m\u001B[38;5;241m.\u001B[39m_is_scalar_access(key):\n\u001B[0;32m   1067\u001B[0m         \u001B[38;5;28;01mreturn\u001B[39;00m \u001B[38;5;28mself\u001B[39m\u001B[38;5;241m.\u001B[39mobj\u001B[38;5;241m.\u001B[39m_get_value(\u001B[38;5;241m*\u001B[39mkey, takeable\u001B[38;5;241m=\u001B[39m\u001B[38;5;28mself\u001B[39m\u001B[38;5;241m.\u001B[39m_takeable)\n\u001B[1;32m-> 1068\u001B[0m     \u001B[38;5;28;01mreturn\u001B[39;00m \u001B[38;5;28;43mself\u001B[39;49m\u001B[38;5;241;43m.\u001B[39;49m\u001B[43m_getitem_tuple\u001B[49m\u001B[43m(\u001B[49m\u001B[43mkey\u001B[49m\u001B[43m)\u001B[49m\n\u001B[0;32m   1069\u001B[0m \u001B[38;5;28;01melse\u001B[39;00m:\n\u001B[0;32m   1070\u001B[0m     \u001B[38;5;66;03m# we by definition only have the 0th axis\u001B[39;00m\n\u001B[0;32m   1071\u001B[0m     axis \u001B[38;5;241m=\u001B[39m \u001B[38;5;28mself\u001B[39m\u001B[38;5;241m.\u001B[39maxis \u001B[38;5;129;01mor\u001B[39;00m \u001B[38;5;241m0\u001B[39m\n",
      "File \u001B[1;32mF:\\Big_Data_Test\\venv\\lib\\site-packages\\pandas\\core\\indexing.py:1257\u001B[0m, in \u001B[0;36m_LocIndexer._getitem_tuple\u001B[1;34m(self, tup)\u001B[0m\n\u001B[0;32m   1254\u001B[0m \u001B[38;5;28;01mif\u001B[39;00m \u001B[38;5;28mself\u001B[39m\u001B[38;5;241m.\u001B[39m_multi_take_opportunity(tup):\n\u001B[0;32m   1255\u001B[0m     \u001B[38;5;28;01mreturn\u001B[39;00m \u001B[38;5;28mself\u001B[39m\u001B[38;5;241m.\u001B[39m_multi_take(tup)\n\u001B[1;32m-> 1257\u001B[0m \u001B[38;5;28;01mreturn\u001B[39;00m \u001B[38;5;28;43mself\u001B[39;49m\u001B[38;5;241;43m.\u001B[39;49m\u001B[43m_getitem_tuple_same_dim\u001B[49m\u001B[43m(\u001B[49m\u001B[43mtup\u001B[49m\u001B[43m)\u001B[49m\n",
      "File \u001B[1;32mF:\\Big_Data_Test\\venv\\lib\\site-packages\\pandas\\core\\indexing.py:925\u001B[0m, in \u001B[0;36m_LocationIndexer._getitem_tuple_same_dim\u001B[1;34m(self, tup)\u001B[0m\n\u001B[0;32m    922\u001B[0m \u001B[38;5;28;01mif\u001B[39;00m com\u001B[38;5;241m.\u001B[39mis_null_slice(key):\n\u001B[0;32m    923\u001B[0m     \u001B[38;5;28;01mcontinue\u001B[39;00m\n\u001B[1;32m--> 925\u001B[0m retval \u001B[38;5;241m=\u001B[39m \u001B[38;5;28;43mgetattr\u001B[39;49m\u001B[43m(\u001B[49m\u001B[43mretval\u001B[49m\u001B[43m,\u001B[49m\u001B[43m \u001B[49m\u001B[38;5;28;43mself\u001B[39;49m\u001B[38;5;241;43m.\u001B[39;49m\u001B[43mname\u001B[49m\u001B[43m)\u001B[49m\u001B[38;5;241;43m.\u001B[39;49m\u001B[43m_getitem_axis\u001B[49m\u001B[43m(\u001B[49m\u001B[43mkey\u001B[49m\u001B[43m,\u001B[49m\u001B[43m \u001B[49m\u001B[43maxis\u001B[49m\u001B[38;5;241;43m=\u001B[39;49m\u001B[43mi\u001B[49m\u001B[43m)\u001B[49m\n\u001B[0;32m    926\u001B[0m \u001B[38;5;66;03m# We should never have retval.ndim < self.ndim, as that should\u001B[39;00m\n\u001B[0;32m    927\u001B[0m \u001B[38;5;66;03m#  be handled by the _getitem_lowerdim call above.\u001B[39;00m\n\u001B[0;32m    928\u001B[0m \u001B[38;5;28;01massert\u001B[39;00m retval\u001B[38;5;241m.\u001B[39mndim \u001B[38;5;241m==\u001B[39m \u001B[38;5;28mself\u001B[39m\u001B[38;5;241m.\u001B[39mndim\n",
      "File \u001B[1;32mF:\\Big_Data_Test\\venv\\lib\\site-packages\\pandas\\core\\indexing.py:1291\u001B[0m, in \u001B[0;36m_LocIndexer._getitem_axis\u001B[1;34m(self, key, axis)\u001B[0m\n\u001B[0;32m   1289\u001B[0m \u001B[38;5;28;01mif\u001B[39;00m \u001B[38;5;28misinstance\u001B[39m(key, \u001B[38;5;28mslice\u001B[39m):\n\u001B[0;32m   1290\u001B[0m     \u001B[38;5;28mself\u001B[39m\u001B[38;5;241m.\u001B[39m_validate_key(key, axis)\n\u001B[1;32m-> 1291\u001B[0m     \u001B[38;5;28;01mreturn\u001B[39;00m \u001B[38;5;28;43mself\u001B[39;49m\u001B[38;5;241;43m.\u001B[39;49m\u001B[43m_get_slice_axis\u001B[49m\u001B[43m(\u001B[49m\u001B[43mkey\u001B[49m\u001B[43m,\u001B[49m\u001B[43m \u001B[49m\u001B[43maxis\u001B[49m\u001B[38;5;241;43m=\u001B[39;49m\u001B[43maxis\u001B[49m\u001B[43m)\u001B[49m\n\u001B[0;32m   1292\u001B[0m \u001B[38;5;28;01melif\u001B[39;00m com\u001B[38;5;241m.\u001B[39mis_bool_indexer(key):\n\u001B[0;32m   1293\u001B[0m     \u001B[38;5;28;01mreturn\u001B[39;00m \u001B[38;5;28mself\u001B[39m\u001B[38;5;241m.\u001B[39m_getbool_axis(key, axis\u001B[38;5;241m=\u001B[39maxis)\n",
      "File \u001B[1;32mF:\\Big_Data_Test\\venv\\lib\\site-packages\\pandas\\core\\indexing.py:1325\u001B[0m, in \u001B[0;36m_LocIndexer._get_slice_axis\u001B[1;34m(self, slice_obj, axis)\u001B[0m\n\u001B[0;32m   1322\u001B[0m     \u001B[38;5;28;01mreturn\u001B[39;00m obj\u001B[38;5;241m.\u001B[39mcopy(deep\u001B[38;5;241m=\u001B[39m\u001B[38;5;28;01mFalse\u001B[39;00m)\n\u001B[0;32m   1324\u001B[0m labels \u001B[38;5;241m=\u001B[39m obj\u001B[38;5;241m.\u001B[39m_get_axis(axis)\n\u001B[1;32m-> 1325\u001B[0m indexer \u001B[38;5;241m=\u001B[39m \u001B[43mlabels\u001B[49m\u001B[38;5;241;43m.\u001B[39;49m\u001B[43mslice_indexer\u001B[49m\u001B[43m(\u001B[49m\u001B[43mslice_obj\u001B[49m\u001B[38;5;241;43m.\u001B[39;49m\u001B[43mstart\u001B[49m\u001B[43m,\u001B[49m\u001B[43m \u001B[49m\u001B[43mslice_obj\u001B[49m\u001B[38;5;241;43m.\u001B[39;49m\u001B[43mstop\u001B[49m\u001B[43m,\u001B[49m\u001B[43m \u001B[49m\u001B[43mslice_obj\u001B[49m\u001B[38;5;241;43m.\u001B[39;49m\u001B[43mstep\u001B[49m\u001B[43m)\u001B[49m\n\u001B[0;32m   1327\u001B[0m \u001B[38;5;28;01mif\u001B[39;00m \u001B[38;5;28misinstance\u001B[39m(indexer, \u001B[38;5;28mslice\u001B[39m):\n\u001B[0;32m   1328\u001B[0m     \u001B[38;5;28;01mreturn\u001B[39;00m \u001B[38;5;28mself\u001B[39m\u001B[38;5;241m.\u001B[39mobj\u001B[38;5;241m.\u001B[39m_slice(indexer, axis\u001B[38;5;241m=\u001B[39maxis)\n",
      "File \u001B[1;32mF:\\Big_Data_Test\\venv\\lib\\site-packages\\pandas\\core\\indexes\\datetimes.py:812\u001B[0m, in \u001B[0;36mDatetimeIndex.slice_indexer\u001B[1;34m(self, start, end, step, kind)\u001B[0m\n\u001B[0;32m    804\u001B[0m \u001B[38;5;66;03m# GH#33146 if start and end are combinations of str and None and Index is not\u001B[39;00m\n\u001B[0;32m    805\u001B[0m \u001B[38;5;66;03m# monotonic, we can not use Index.slice_indexer because it does not honor the\u001B[39;00m\n\u001B[0;32m    806\u001B[0m \u001B[38;5;66;03m# actual elements, is only searching for start and end\u001B[39;00m\n\u001B[0;32m    807\u001B[0m \u001B[38;5;28;01mif\u001B[39;00m (\n\u001B[0;32m    808\u001B[0m     check_str_or_none(start)\n\u001B[0;32m    809\u001B[0m     \u001B[38;5;129;01mor\u001B[39;00m check_str_or_none(end)\n\u001B[0;32m    810\u001B[0m     \u001B[38;5;129;01mor\u001B[39;00m \u001B[38;5;28mself\u001B[39m\u001B[38;5;241m.\u001B[39mis_monotonic_increasing\n\u001B[0;32m    811\u001B[0m ):\n\u001B[1;32m--> 812\u001B[0m     \u001B[38;5;28;01mreturn\u001B[39;00m \u001B[43mIndex\u001B[49m\u001B[38;5;241;43m.\u001B[39;49m\u001B[43mslice_indexer\u001B[49m\u001B[43m(\u001B[49m\u001B[38;5;28;43mself\u001B[39;49m\u001B[43m,\u001B[49m\u001B[43m \u001B[49m\u001B[43mstart\u001B[49m\u001B[43m,\u001B[49m\u001B[43m \u001B[49m\u001B[43mend\u001B[49m\u001B[43m,\u001B[49m\u001B[43m \u001B[49m\u001B[43mstep\u001B[49m\u001B[43m,\u001B[49m\u001B[43m \u001B[49m\u001B[43mkind\u001B[49m\u001B[38;5;241;43m=\u001B[39;49m\u001B[43mkind\u001B[49m\u001B[43m)\u001B[49m\n\u001B[0;32m    814\u001B[0m mask \u001B[38;5;241m=\u001B[39m np\u001B[38;5;241m.\u001B[39marray(\u001B[38;5;28;01mTrue\u001B[39;00m)\n\u001B[0;32m    815\u001B[0m deprecation_mask \u001B[38;5;241m=\u001B[39m np\u001B[38;5;241m.\u001B[39marray(\u001B[38;5;28;01mTrue\u001B[39;00m)\n",
      "File \u001B[1;32mF:\\Big_Data_Test\\venv\\lib\\site-packages\\pandas\\core\\indexes\\base.py:6597\u001B[0m, in \u001B[0;36mIndex.slice_indexer\u001B[1;34m(self, start, end, step, kind)\u001B[0m\n\u001B[0;32m   6554\u001B[0m \u001B[38;5;124;03m\"\"\"\u001B[39;00m\n\u001B[0;32m   6555\u001B[0m \u001B[38;5;124;03mCompute the slice indexer for input labels and step.\u001B[39;00m\n\u001B[0;32m   6556\u001B[0m \n\u001B[1;32m   (...)\u001B[0m\n\u001B[0;32m   6593\u001B[0m \u001B[38;5;124;03mslice(1, 3, None)\u001B[39;00m\n\u001B[0;32m   6594\u001B[0m \u001B[38;5;124;03m\"\"\"\u001B[39;00m\n\u001B[0;32m   6595\u001B[0m \u001B[38;5;28mself\u001B[39m\u001B[38;5;241m.\u001B[39m_deprecated_arg(kind, \u001B[38;5;124m\"\u001B[39m\u001B[38;5;124mkind\u001B[39m\u001B[38;5;124m\"\u001B[39m, \u001B[38;5;124m\"\u001B[39m\u001B[38;5;124mslice_indexer\u001B[39m\u001B[38;5;124m\"\u001B[39m)\n\u001B[1;32m-> 6597\u001B[0m start_slice, end_slice \u001B[38;5;241m=\u001B[39m \u001B[38;5;28;43mself\u001B[39;49m\u001B[38;5;241;43m.\u001B[39;49m\u001B[43mslice_locs\u001B[49m\u001B[43m(\u001B[49m\u001B[43mstart\u001B[49m\u001B[43m,\u001B[49m\u001B[43m \u001B[49m\u001B[43mend\u001B[49m\u001B[43m,\u001B[49m\u001B[43m \u001B[49m\u001B[43mstep\u001B[49m\u001B[38;5;241;43m=\u001B[39;49m\u001B[43mstep\u001B[49m\u001B[43m)\u001B[49m\n\u001B[0;32m   6599\u001B[0m \u001B[38;5;66;03m# return a slice\u001B[39;00m\n\u001B[0;32m   6600\u001B[0m \u001B[38;5;28;01mif\u001B[39;00m \u001B[38;5;129;01mnot\u001B[39;00m is_scalar(start_slice):\n",
      "File \u001B[1;32mF:\\Big_Data_Test\\venv\\lib\\site-packages\\pandas\\core\\indexes\\base.py:6811\u001B[0m, in \u001B[0;36mIndex.slice_locs\u001B[1;34m(self, start, end, step, kind)\u001B[0m\n\u001B[0;32m   6809\u001B[0m end_slice \u001B[38;5;241m=\u001B[39m \u001B[38;5;28;01mNone\u001B[39;00m\n\u001B[0;32m   6810\u001B[0m \u001B[38;5;28;01mif\u001B[39;00m end \u001B[38;5;129;01mis\u001B[39;00m \u001B[38;5;129;01mnot\u001B[39;00m \u001B[38;5;28;01mNone\u001B[39;00m:\n\u001B[1;32m-> 6811\u001B[0m     end_slice \u001B[38;5;241m=\u001B[39m \u001B[38;5;28;43mself\u001B[39;49m\u001B[38;5;241;43m.\u001B[39;49m\u001B[43mget_slice_bound\u001B[49m\u001B[43m(\u001B[49m\u001B[43mend\u001B[49m\u001B[43m,\u001B[49m\u001B[43m \u001B[49m\u001B[38;5;124;43m\"\u001B[39;49m\u001B[38;5;124;43mright\u001B[39;49m\u001B[38;5;124;43m\"\u001B[39;49m\u001B[43m)\u001B[49m\n\u001B[0;32m   6812\u001B[0m \u001B[38;5;28;01mif\u001B[39;00m end_slice \u001B[38;5;129;01mis\u001B[39;00m \u001B[38;5;28;01mNone\u001B[39;00m:\n\u001B[0;32m   6813\u001B[0m     end_slice \u001B[38;5;241m=\u001B[39m \u001B[38;5;28mlen\u001B[39m(\u001B[38;5;28mself\u001B[39m)\n",
      "File \u001B[1;32mF:\\Big_Data_Test\\venv\\lib\\site-packages\\pandas\\core\\indexes\\base.py:6714\u001B[0m, in \u001B[0;36mIndex.get_slice_bound\u001B[1;34m(self, label, side, kind)\u001B[0m\n\u001B[0;32m   6710\u001B[0m original_label \u001B[38;5;241m=\u001B[39m label\n\u001B[0;32m   6712\u001B[0m \u001B[38;5;66;03m# For datetime indices label may be a string that has to be converted\u001B[39;00m\n\u001B[0;32m   6713\u001B[0m \u001B[38;5;66;03m# to datetime boundary according to its resolution.\u001B[39;00m\n\u001B[1;32m-> 6714\u001B[0m label \u001B[38;5;241m=\u001B[39m \u001B[38;5;28;43mself\u001B[39;49m\u001B[38;5;241;43m.\u001B[39;49m\u001B[43m_maybe_cast_slice_bound\u001B[49m\u001B[43m(\u001B[49m\u001B[43mlabel\u001B[49m\u001B[43m,\u001B[49m\u001B[43m \u001B[49m\u001B[43mside\u001B[49m\u001B[43m)\u001B[49m\n\u001B[0;32m   6716\u001B[0m \u001B[38;5;66;03m# we need to look up the label\u001B[39;00m\n\u001B[0;32m   6717\u001B[0m \u001B[38;5;28;01mtry\u001B[39;00m:\n",
      "File \u001B[1;32mF:\\Big_Data_Test\\venv\\lib\\site-packages\\pandas\\core\\indexes\\datetimes.py:770\u001B[0m, in \u001B[0;36mDatetimeIndex._maybe_cast_slice_bound\u001B[1;34m(self, label, side, kind)\u001B[0m\n\u001B[0;32m    765\u001B[0m \u001B[38;5;28;01mif\u001B[39;00m \u001B[38;5;28misinstance\u001B[39m(label, date) \u001B[38;5;129;01mand\u001B[39;00m \u001B[38;5;129;01mnot\u001B[39;00m \u001B[38;5;28misinstance\u001B[39m(label, datetime):\n\u001B[0;32m    766\u001B[0m     \u001B[38;5;66;03m# Pandas supports slicing with dates, treated as datetimes at midnight.\u001B[39;00m\n\u001B[0;32m    767\u001B[0m     \u001B[38;5;66;03m# https://github.com/pandas-dev/pandas/issues/31501\u001B[39;00m\n\u001B[0;32m    768\u001B[0m     label \u001B[38;5;241m=\u001B[39m Timestamp(label)\u001B[38;5;241m.\u001B[39mto_pydatetime()\n\u001B[1;32m--> 770\u001B[0m label \u001B[38;5;241m=\u001B[39m \u001B[38;5;28;43msuper\u001B[39;49m\u001B[43m(\u001B[49m\u001B[43m)\u001B[49m\u001B[38;5;241;43m.\u001B[39;49m\u001B[43m_maybe_cast_slice_bound\u001B[49m\u001B[43m(\u001B[49m\u001B[43mlabel\u001B[49m\u001B[43m,\u001B[49m\u001B[43m \u001B[49m\u001B[43mside\u001B[49m\u001B[43m,\u001B[49m\u001B[43m \u001B[49m\u001B[43mkind\u001B[49m\u001B[38;5;241;43m=\u001B[39;49m\u001B[43mkind\u001B[49m\u001B[43m)\u001B[49m\n\u001B[0;32m    771\u001B[0m \u001B[38;5;28mself\u001B[39m\u001B[38;5;241m.\u001B[39m_deprecate_mismatched_indexing(label)\n\u001B[0;32m    772\u001B[0m \u001B[38;5;28;01mreturn\u001B[39;00m \u001B[38;5;28mself\u001B[39m\u001B[38;5;241m.\u001B[39m_maybe_cast_for_get_loc(label)\n",
      "File \u001B[1;32mF:\\Big_Data_Test\\venv\\lib\\site-packages\\pandas\\core\\indexes\\datetimelike.py:321\u001B[0m, in \u001B[0;36mDatetimeIndexOpsMixin._maybe_cast_slice_bound\u001B[1;34m(self, label, side, kind)\u001B[0m\n\u001B[0;32m    319\u001B[0m     \u001B[38;5;28;01mreturn\u001B[39;00m lower \u001B[38;5;28;01mif\u001B[39;00m side \u001B[38;5;241m==\u001B[39m \u001B[38;5;124m\"\u001B[39m\u001B[38;5;124mleft\u001B[39m\u001B[38;5;124m\"\u001B[39m \u001B[38;5;28;01melse\u001B[39;00m upper\n\u001B[0;32m    320\u001B[0m \u001B[38;5;28;01melif\u001B[39;00m \u001B[38;5;129;01mnot\u001B[39;00m \u001B[38;5;28misinstance\u001B[39m(label, \u001B[38;5;28mself\u001B[39m\u001B[38;5;241m.\u001B[39m_data\u001B[38;5;241m.\u001B[39m_recognized_scalars):\n\u001B[1;32m--> 321\u001B[0m     \u001B[38;5;28;01mraise\u001B[39;00m \u001B[38;5;28mself\u001B[39m\u001B[38;5;241m.\u001B[39m_invalid_indexer(\u001B[38;5;124m\"\u001B[39m\u001B[38;5;124mslice\u001B[39m\u001B[38;5;124m\"\u001B[39m, label)\n\u001B[0;32m    323\u001B[0m \u001B[38;5;28;01mreturn\u001B[39;00m label\n",
      "\u001B[1;31mTypeError\u001B[0m: cannot do slice indexing on DatetimeIndex with these indexers [3] of type int"
     ]
    }
   ],
   "source": [
    "# mixed selection: ix,在pandas版本0.20.0及其以后版本中，ix已经不被推荐使用，改为loc\n",
    "print(df.loc[:3, ['A', 'C']])\n",
    "# Boolean indexing\n",
    "print(df[df.A > 0])"
   ]
  },
  {
   "cell_type": "code",
   "execution_count": null,
   "metadata": {},
   "outputs": [],
   "source": []
  }
 ],
 "metadata": {
  "kernelspec": {
   "display_name": "Python 3 (ipykernel)",
   "language": "python",
   "name": "python3"
  },
  "language_info": {
   "codemirror_mode": {
    "name": "ipython",
    "version": 3
   },
   "file_extension": ".py",
   "mimetype": "text/x-python",
   "name": "python",
   "nbconvert_exporter": "python",
   "pygments_lexer": "ipython3",
   "version": "3.10.7"
  }
 },
 "nbformat": 4,
 "nbformat_minor": 1
}
