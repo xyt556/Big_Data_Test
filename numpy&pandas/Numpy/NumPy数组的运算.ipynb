{
 "cells": [
  {
   "cell_type": "code",
   "execution_count": 1,
   "metadata": {},
   "outputs": [
    {
     "name": "stdout",
     "output_type": "stream",
     "text": [
      "[0 1 2 3 4 5]\n",
      "[[0 1 2]\n",
      " [3 4 5]]\n",
      "[ 0 10 20 30 40 50]\n",
      "[[  0 100 200]\n",
      " [300 400 500]]\n",
      "[ 0  1  4  9 16 25]\n"
     ]
    }
   ],
   "source": [
    "# %load 数组的运算.py\n",
    "#数组的运算支持向量化运算，并且比python具有更快的运算速度\n",
    "\n",
    "#数组和标量间的运算\n",
    "'''\n",
    "数组和标量的算术运算，以及相同维度的数组的算术运算都是直接应用到元素中，也就是元素级运算\n",
    "'''\n",
    "import numpy as np\n",
    "\n",
    "a=np.arange(6)\n",
    "print(a)\n",
    "b=a.reshape(2,3)\n",
    "c=a*10\n",
    "d=b*100\n",
    "print(b)\n",
    "print(c)\n",
    "print(d)\n",
    "e=a.__pow__(2)\n",
    "print(e)"
   ]
  },
  {
   "cell_type": "code",
   "execution_count": 2,
   "metadata": {},
   "outputs": [
    {
     "name": "stdout",
     "output_type": "stream",
     "text": [
      "x+y= [12 14]\n",
      "x+z= [[12 14]\n",
      " [14 16]]\n"
     ]
    }
   ],
   "source": [
    "\n",
    "#广播\n",
    "\n",
    "'''\n",
    "广播是指NumPy在算术运算期间处理不同形状的数组的能力\n",
    "如果两个阵列具有完全相同的形状，则这些操作可被无缝执行\n",
    "如果两个数组的维数不相同，则元素到元素的操作是不可能的，然而在NumPy中仍然可以对形状不相似\n",
    "的数组进行操作，因为他拥有广播功能。较小的数组会被广播到较大数组的大小，以便使它们的形状可兼容\n",
    "\n",
    "（1）数组拥有相同形状\n",
    "（2）数组拥有相同的维数，每个维度拥有相同的长度，或者长度为1\n",
    "（3）数组拥有极少的维度，可以在其前面追加长度为1的维度，使上述条件成立\n",
    "数组必须至少满足上述条件中的一条，才可以被称为可广播的\n",
    "'''\n",
    "\n",
    "x=np.array([1,2])\n",
    "y=np.array([11,12])\n",
    "z=np.array([[11,12],[13,14]])\n",
    "print('x+y=',x+y)\n",
    "print('x+z=',x+z)\n"
   ]
  },
  {
   "cell_type": "code",
   "execution_count": 3,
   "metadata": {},
   "outputs": [
    {
     "name": "stdout",
     "output_type": "stream",
     "text": [
      "aa= [1 2 3 4 5 6 2 2 3 4 5 6 7 9]\n",
      "去重之后的数组： [1 2 3 4 5 6 7 9]\n",
      "去重数组的索引数组： [ 0  1  2  3  4  5 12 13]\n",
      "下标为： [0 1 2 3 4 5 1 1 2 3 4 5 6 7]\n",
      "使用下标重构原数组(还原原数组)： [1 2 3 4 5 6 2 2 3 4 5 6 7 9]\n",
      "返回去重元素的重复数量\n",
      "[1 2 3 4 5 6 7 9]\n",
      "[1 3 2 2 2 2 1 1]\n",
      "[ True  True  True False]\n",
      "[ True  True  True  True]\n"
     ]
    }
   ],
   "source": [
    "\n",
    "#集合运算\n",
    "'''\n",
    "NumPy库提供了针对一维数组的基本集合运算\n",
    "\n",
    "numpy.unique(arr,return_index,return_inverse,return_counts)\n",
    "arr：输入数组，如果不是一维数组则会展开\n",
    "return_index：如果为true，返回新列表元素在旧列表中的位置（下标），并以列表形式存储\n",
    "return_inverse:如果为true，返回旧列表元素在新列表中的位置（下标），并以列表形式存储\n",
    "return_counts:如果为true，返回去重数组中的元素在原数组中出现的次数\n",
    "'''\n",
    "aa=np.array([1,2,3,4,5,6,2,2,3,4,5,6,7,9])\n",
    "print('aa=',aa)\n",
    "print('去重之后的数组：',np.unique(aa))\n",
    "u,indices=np.unique(aa,return_index=True)\n",
    "print('去重数组的索引数组：',indices)\n",
    "u,indices=np.unique(aa,return_inverse=True)\n",
    "print('下标为：',indices)\n",
    "print('使用下标重构原数组(还原原数组)：',u[indices])\n",
    "print('返回去重元素的重复数量')\n",
    "u,indices=np.unique(aa,return_counts=True)\n",
    "print(u)\n",
    "print(indices)\n",
    "\n",
    "xx=np.array([1,2,3,4])\n",
    "yy=np.array([1,2,3,6])\n",
    "zz=np.array([1,3,2,4])\n",
    "print(np.in1d(xx,yy))   #  xx的元素是否在yy中\n",
    "print(np.in1d(xx,zz))"
   ]
  },
  {
   "cell_type": "code",
   "execution_count": 4,
   "metadata": {},
   "outputs": [
    {
     "name": "stdout",
     "output_type": "stream",
     "text": [
      "m= [[2 5 6]\n",
      " [8 6 4]\n",
      " [6 4 9]]\n",
      "m排序后（默认最后1轴）: [[2 5 6]\n",
      " [4 6 8]\n",
      " [4 6 9]]\n",
      "m按照0轴排序 [[2 4 4]\n",
      " [6 5 6]\n",
      " [8 6 9]]\n",
      "[(b'1908', 56) (b'1902', 98) (b'1903', 72) (b'1909', 88) (b'1906', 65)]\n",
      "[(b'1902', 98) (b'1903', 72) (b'1906', 65) (b'1908', 56) (b'1909', 88)]\n"
     ]
    }
   ],
   "source": [
    "\n",
    "'''\n",
    "排序\n",
    "NumPy中提供了各种排序相关功能。这些排序函数实现不同的排序算法，排序算法的不同在于\n",
    "执行速度，最坏情况性能，所需工作空间和算法的稳定性\n",
    "\n",
    "numpy.sort(a,axis,kind,order)\n",
    "a：要排序的数组\n",
    "axis：沿着他排序数组的轴，如果没有数组会被展开，沿着最后的轴排序\n",
    "kind：排序算法，有quicksort(快速排序)【默认】，mergesort(归并排序)，heapsort(堆排序)\n",
    "order：如果数组包含字段，则是要排序的字段\n",
    "'''\n",
    "\n",
    "m=np.array([[2,5,6],[8,6,4],[6,4,9]])\n",
    "print('m=',m)\n",
    "print('m排序后（默认最后1轴）:',np.sort(m))\n",
    "print('m按照0轴排序',np.sort(m,0))\n",
    "dt=np.dtype([('sno','S10'),('score','int8')])\n",
    "n=np.array([('1908',56),('1902',98),('1903',72),('1909',88),('1906',65)],dtype=dt)\n",
    "print(n)\n",
    "print(np.sort(n,order='sno'))\n",
    "\n",
    "#  argsort()不懂"
   ]
  },
  {
   "cell_type": "code",
   "execution_count": 5,
   "metadata": {},
   "outputs": [
    {
     "name": "stdout",
     "output_type": "stream",
     "text": [
      "[[0. 1. 2.]\n",
      " [3. 4. 5.]\n",
      " [6. 7. 8.]]\n",
      "大于3的索引是： (array([1, 1, 2, 2, 2], dtype=int64), array([1, 2, 0, 1, 2], dtype=int64))\n",
      "大于3的元素是： [4. 5. 6. 7. 8.]\n",
      "[['小' '小' '小']\n",
      " ['大' '大' '大']\n",
      " ['大' '大' '大']]\n",
      "extract()函数，整除2的数: [0. 2. 4. 6. 8.]\n",
      "nonzero: (array([0, 0, 1, 1, 1, 2, 2, 2], dtype=int64), array([1, 2, 0, 1, 2, 0, 1, 2], dtype=int64))\n",
      "aa中非零数： [1. 2. 3. 4. 5. 6. 7. 8.]\n"
     ]
    }
   ],
   "source": [
    "\n",
    "'''\n",
    "搜索\n",
    "'''\n",
    "aa=np.arange(9.).reshape(3,3)\n",
    "print(aa)\n",
    "print('大于3的索引是：',np.where(aa>3))\n",
    "print('大于3的元素是：',aa[np.where(aa>3)])  # where的第一种写法\n",
    "print(np.where(aa<3,'小','大'))            #where的第二种写法\n",
    "print('extract()函数，整除2的数:',np.extract(np.mod(aa,2)==0,aa))#extract()函数返回满足任何条件的元素\n",
    "print('nonzero:',np.nonzero(aa))    #nonzero()函数返回输入数组中非0元素的索引\n",
    "print('aa中非零数：',aa[np.nonzero(aa)])"
   ]
  }
 ],
 "metadata": {
  "kernelspec": {
   "display_name": "Python 3 (ipykernel)",
   "language": "python",
   "name": "python3"
  },
  "language_info": {
   "codemirror_mode": {
    "name": "ipython",
    "version": 3
   },
   "file_extension": ".py",
   "mimetype": "text/x-python",
   "name": "python",
   "nbconvert_exporter": "python",
   "pygments_lexer": "ipython3",
   "version": "3.10.7"
  }
 },
 "nbformat": 4,
 "nbformat_minor": 1
}
