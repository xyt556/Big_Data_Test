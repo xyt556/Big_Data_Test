{
 "cells": [
  {
   "cell_type": "code",
   "execution_count": 4,
   "metadata": {},
   "outputs": [],
   "source": [
    "import numpy as np\n"
   ]
  },
  {
   "cell_type": "code",
   "execution_count": 9,
   "metadata": {},
   "outputs": [
    {
     "data": {
      "text/plain": [
       "array([729, 513, 347, 225, 141])"
      ]
     },
     "execution_count": 9,
     "metadata": {},
     "output_type": "execute_result"
    }
   ],
   "source": [
    "a=np.array([0,1,2,3,4])\n",
    "b=np.array([9,8,7,6,5])\n",
    "# c=a**2+b**3\n",
    "c =  a**2 + b**3\n",
    "c"
   ]
  },
  {
   "cell_type": "code",
   "execution_count": 10,
   "metadata": {},
   "outputs": [
    {
     "data": {
      "text/plain": [
       "array([ 0,  8, 14, 18, 20])"
      ]
     },
     "execution_count": 10,
     "metadata": {},
     "output_type": "execute_result"
    }
   ],
   "source": [
    "d=a*b\n",
    "d\n"
   ]
  },
  {
   "cell_type": "code",
   "execution_count": 14,
   "metadata": {},
   "outputs": [
    {
     "data": {
      "text/plain": [
       "array([[9],\n",
       "       [8],\n",
       "       [7],\n",
       "       [6],\n",
       "       [5]])"
      ]
     },
     "execution_count": 14,
     "metadata": {},
     "output_type": "execute_result"
    }
   ],
   "source": [
    "b1 = np.array([[9],[8],[7],[6],[5]])\n",
    "b1"
   ]
  },
  {
   "cell_type": "code",
   "execution_count": 15,
   "metadata": {},
   "outputs": [
    {
     "data": {
      "text/plain": [
       "array([ 0,  8, 14, 18, 20])"
      ]
     },
     "execution_count": 15,
     "metadata": {},
     "output_type": "execute_result"
    }
   ],
   "source": [
    "d1=a*b\n",
    "d1"
   ]
  },
  {
   "cell_type": "markdown",
   "metadata": {},
   "source": [
    "数组相乘：n1分别与n2的每一行相乘，得到的数组与n2的结构相同\n",
    "\n",
    "数组点乘：n1的每一行乘以n2的每一列，类似于矩阵相乘"
   ]
  },
  {
   "cell_type": "code",
   "execution_count": 17,
   "metadata": {},
   "outputs": [
    {
     "name": "stdout",
     "output_type": "stream",
     "text": [
      "[1 2 3]\n",
      "[[3 5 2]\n",
      " [1 8 4]\n",
      " [9 0 3]]\n",
      "数组相乘结果为： \n",
      " [[ 3 10  6]\n",
      " [ 1 16 12]\n",
      " [ 9  0  9]]\n",
      "数组点乘结果为： \n",
      " [32 21 19]\n"
     ]
    }
   ],
   "source": [
    "import numpy as np\n",
    "#创建数组\n",
    "n1 = np.array([1, 2, 3])\n",
    "n2= np.array([[3, 5, 2], [1, 8, 4], [9, 0, 3]])\n",
    "print(n1)\n",
    "print(n2)\n",
    "print('数组相乘结果为：','\\n', n1*n2) #数组相乘\n",
    "print('数组点乘结果为：','\\n', np.dot(n1, n2)) #数组点乘"
   ]
  },
  {
   "cell_type": "code",
   "execution_count": 19,
   "metadata": {},
   "outputs": [
    {
     "name": "stdout",
     "output_type": "stream",
     "text": [
      "[[ 1  3  3]\n",
      " [ 4  5  6]\n",
      " [ 7 12  9]]\n",
      "[[ 2  6  6]\n",
      " [ 8 10 12]\n",
      " [14 24 18]]\n",
      "矩阵相乘结果为：\n",
      " [[ 68 108  96]\n",
      " [132 218 192]\n",
      " [236 378 348]]\n",
      "矩阵对应元素相乘结果为：\n",
      " [[  2  18  18]\n",
      " [ 32  50  72]\n",
      " [ 98 288 162]]\n"
     ]
    }
   ],
   "source": [
    "import numpy as np\n",
    "n1 = np.mat('1 3 3;4 5 6;7 12 9') # #创建矩阵，使用分号隔开数据\n",
    "n2 = np.mat('2 6 6;8 10 12;14 24 18')\n",
    "print(n1)\n",
    "print(n2)\n",
    "print('矩阵相乘结果为：\\n',n1*n2)  #矩阵相乘\n",
    "print('矩阵对应元素相乘结果为：\\n',np.multiply(n1,n2))"
   ]
  }
 ],
 "metadata": {
  "kernelspec": {
   "display_name": "Python 3 (ipykernel)",
   "language": "python",
   "name": "python3"
  },
  "language_info": {
   "codemirror_mode": {
    "name": "ipython",
    "version": 3
   },
   "file_extension": ".py",
   "mimetype": "text/x-python",
   "name": "python",
   "nbconvert_exporter": "python",
   "pygments_lexer": "ipython3",
   "version": "3.10.7"
  }
 },
 "nbformat": 4,
 "nbformat_minor": 1
}
