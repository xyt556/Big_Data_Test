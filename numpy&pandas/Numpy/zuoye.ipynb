{
 "cells": [
  {
   "cell_type": "code",
   "execution_count": 20,
   "metadata": {},
   "outputs": [],
   "source": [
    "import numpy as np\n"
   ]
  },
  {
   "cell_type": "code",
   "execution_count": 9,
   "metadata": {},
   "outputs": [
    {
     "data": {
      "text/plain": [
       "array([729, 513, 347, 225, 141])"
      ]
     },
     "execution_count": 9,
     "metadata": {},
     "output_type": "execute_result"
    }
   ],
   "source": [
    "a=np.array([0,1,2,3,4])\n",
    "b=np.array([9,8,7,6,5])\n",
    "# c=a**2+b**3\n",
    "c =  a**2 + b**3\n",
    "c"
   ]
  },
  {
   "cell_type": "code",
   "execution_count": 10,
   "metadata": {},
   "outputs": [
    {
     "data": {
      "text/plain": [
       "array([ 0,  8, 14, 18, 20])"
      ]
     },
     "execution_count": 10,
     "metadata": {},
     "output_type": "execute_result"
    }
   ],
   "source": [
    "d=a*b\n",
    "d\n"
   ]
  },
  {
   "cell_type": "code",
   "execution_count": 14,
   "metadata": {},
   "outputs": [
    {
     "data": {
      "text/plain": [
       "array([[9],\n",
       "       [8],\n",
       "       [7],\n",
       "       [6],\n",
       "       [5]])"
      ]
     },
     "execution_count": 14,
     "metadata": {},
     "output_type": "execute_result"
    }
   ],
   "source": [
    "b1 = np.array([[9],[8],[7],[6],[5]])\n",
    "b1"
   ]
  },
  {
   "cell_type": "code",
   "execution_count": 15,
   "metadata": {},
   "outputs": [
    {
     "data": {
      "text/plain": [
       "array([ 0,  8, 14, 18, 20])"
      ]
     },
     "execution_count": 15,
     "metadata": {},
     "output_type": "execute_result"
    }
   ],
   "source": [
    "d1=a*b\n",
    "d1"
   ]
  },
  {
   "cell_type": "markdown",
   "metadata": {},
   "source": [
    "数组相乘：n1分别与n2的每一行相乘，得到的数组与n2的结构相同\n",
    "\n",
    "数组点乘：n1的每一行乘以n2的每一列，类似于矩阵相乘"
   ]
  },
  {
   "cell_type": "code",
   "execution_count": 17,
   "metadata": {},
   "outputs": [
    {
     "name": "stdout",
     "output_type": "stream",
     "text": [
      "[1 2 3]\n",
      "[[3 5 2]\n",
      " [1 8 4]\n",
      " [9 0 3]]\n",
      "数组相乘结果为： \n",
      " [[ 3 10  6]\n",
      " [ 1 16 12]\n",
      " [ 9  0  9]]\n",
      "数组点乘结果为： \n",
      " [32 21 19]\n"
     ]
    }
   ],
   "source": [
    "import numpy as np\n",
    "#创建数组\n",
    "n1 = np.array([1, 2, 3])\n",
    "n2= np.array([[3, 5, 2], [1, 8, 4], [9, 0, 3]])\n",
    "print(n1)\n",
    "print(n2)\n",
    "print('数组相乘结果为：','\\n', n1*n2) #数组相乘\n",
    "print('数组点乘结果为：','\\n', np.dot(n1, n2)) #数组点乘"
   ]
  },
  {
   "cell_type": "code",
   "execution_count": 19,
   "metadata": {},
   "outputs": [
    {
     "name": "stdout",
     "output_type": "stream",
     "text": [
      "[[ 1  3  3]\n",
      " [ 4  5  6]\n",
      " [ 7 12  9]]\n",
      "[[ 2  6  6]\n",
      " [ 8 10 12]\n",
      " [14 24 18]]\n",
      "矩阵相乘结果为：\n",
      " [[ 68 108  96]\n",
      " [132 218 192]\n",
      " [236 378 348]]\n",
      "矩阵对应元素相乘结果为：\n",
      " [[  2  18  18]\n",
      " [ 32  50  72]\n",
      " [ 98 288 162]]\n"
     ]
    }
   ],
   "source": [
    "import numpy as np\n",
    "n1 = np.mat('1 3 3;4 5 6;7 12 9') # #创建矩阵，使用分号隔开数据\n",
    "n2 = np.mat('2 6 6;8 10 12;14 24 18')\n",
    "print(n1)\n",
    "print(n2)\n",
    "print('矩阵相乘结果为：\\n',n1*n2)  #矩阵相乘\n",
    "print('矩阵对应元素相乘结果为：\\n',np.multiply(n1,n2))"
   ]
  },
  {
   "cell_type": "code",
   "execution_count": 21,
   "metadata": {},
   "outputs": [
    {
     "name": "stdout",
     "output_type": "stream",
     "text": [
      "[1 2 3]\n",
      "[1 4 9]\n",
      "14\n"
     ]
    }
   ],
   "source": [
    "from numpy import *\n",
    "\n",
    "A = array([1, 2, 3])  # 数组\n",
    "B = array([1, 2, 3])  # 数组\n",
    "print(A)\n",
    "print(A*B)  # 结果 [1 4 9] 数组相乘\n",
    "print(dot(A, B))  # 结果 14 结果是数值\n"
   ]
  },
  {
   "cell_type": "code",
   "execution_count": 22,
   "metadata": {},
   "outputs": [
    {
     "name": "stdout",
     "output_type": "stream",
     "text": [
      "[[14]]\n",
      "[[14]]\n"
     ]
    }
   ],
   "source": [
    "A = mat([1, 2, 3])  # 矩阵\n",
    "B = mat([1, 2, 3])  # 矩阵\n",
    "print(A*B.T)  # 结果 [[14]] 结果是矩阵\n",
    "print(dot(A,B.T))# 结果 [[14]] 结果是矩阵\n"
   ]
  },
  {
   "cell_type": "markdown",
   "source": [],
   "metadata": {
    "collapsed": false
   }
  },
  {
   "attachments": {
    "2bad9efc9388afad0d4ea3aef716a2b0_026318cca8d61d0fffc1a119d9d9b69c.png": {
     "image/png": "[encoded data removed]"
    }
   },
   "cell_type": "markdown",
   "metadata": {},
   "source": [
    "# python 矩阵相乘----点乘和矩阵乘\n",
    "## 点乘和矩阵乘的区别：\n",
    "1）点乘（即“ * ”） ---- 各个矩阵对应元素做乘法\n",
    "若 w 为 m*1 的矩阵，x 为 m*n 的矩阵，那么通过点乘结果就会得到一个 m*n的矩阵。\n",
    "![2bad9efc9388afad0d4ea3aef716a2b0_026318cca8d61d0fffc1a119d9d9b69c.png](attachment:2bad9efc9388afad0d4ea3aef716a2b0_026318cca8d61d0fffc1a119d9d9b69c.png)\n",
    "\n"
   ]
  },
  {
   "attachments": {
    "b8c14213a7abb0aaac5dcb2fa9490e9a_5d06a4df55e4c3ff038d3a2e93d686b6.png": {
     "image/png": "[encoded data removed]"
    }
   },
   "cell_type": "markdown",
   "metadata": {},
   "source": [
    "若 w 为 m*n 的矩阵，x 为 m*n 的矩阵，那么通过点乘结果就会得到一个 m*n的矩阵。\n",
    "![b8c14213a7abb0aaac5dcb2fa9490e9a_5d06a4df55e4c3ff038d3a2e93d686b6.png](attachment:b8c14213a7abb0aaac5dcb2fa9490e9a_5d06a4df55e4c3ff038d3a2e93d686b6.png)\n",
    "w的列数只能为 1 或 与x的列数相等（即n），w的行数与x的行数相等 才能进行乘法运算。"
   ]
  },
  {
   "attachments": {
    "faf56118859982e6ff62bc54ee4c041c_0bb6e325e52d72a57443891e11621587.png": {
     "image/png": "[encoded data removed]"
    }
   },
   "cell_type": "markdown",
   "metadata": {},
   "source": [
    "2）矩阵乘 ---- 按照矩阵乘法规则做运算\n",
    "\n",
    "若 w 为 m*p 的矩阵，x 为 p*n 的矩阵，那么通过矩阵相乘结果就会得到一个m*n 的矩阵。\n",
    "\n",
    "只有 w 的列数 == x的行数 时，才能进行乘法运算\n",
    "![faf56118859982e6ff62bc54ee4c041c_0bb6e325e52d72a57443891e11621587.png](attachment:faf56118859982e6ff62bc54ee4c041c_0bb6e325e52d72a57443891e11621587.png)\n",
    "\n"
   ]
  },
  {
   "cell_type": "code",
   "execution_count": 25,
   "metadata": {},
   "outputs": [
    {
     "name": "stdout",
     "output_type": "stream",
     "text": [
      "[[ 0.4  0.8  1.2  1.6  2. ]\n",
      " [ 6.   7.2  8.4  9.6 10.8]]\n",
      "--------------\n",
      "[30 36 42]\n"
     ]
    }
   ],
   "source": [
    "w = np.array([[0.4], [1.2]])\n",
    "x = np.array([range(1,6), range(5,10)])\n",
    "print(w*x) #点乘\n",
    "print('--------------')\n",
    "a=[1,2,3]\n",
    "b=[[1,2,3],[4,5,6],[7,8,9]]\n",
    "print(np.dot(a,b))#矩阵乘\n"
   ]
  },
  {
   "cell_type": "markdown",
   "metadata": {},
   "source": [
    "np.multiply\n",
    "对 array 和 matrix 对象的操作相同\n",
    "(1) a 和 b 维度相同\n",
    "都是每行对应元素相乘（即对应内积的第一步，不求和）"
   ]
  },
  {
   "cell_type": "code",
   "execution_count": 26,
   "metadata": {},
   "outputs": [
    {
     "data": {
      "text/plain": [
       "array([[1, 4],\n",
       "       [1, 4]])"
      ]
     },
     "execution_count": 26,
     "metadata": {},
     "output_type": "execute_result"
    }
   ],
   "source": [
    "a = np.array([[1,2],[1,2]])\n",
    "a*a"
   ]
  },
  {
   "cell_type": "markdown",
   "metadata": {},
   "source": [
    "（2）对于两个矩阵元素 a 和 b 维度不一的情况（array 和 matrix 对象都适用），则需将相应的行和列进行扩充，需要扩充的行或列的维度必须为 1。\n",
    "对列扩充则补 1， 对行扩充则将第一行复制到每一行。比如，a：3 * 1， b: 1 * 2，则 a 扩充为 3 * 2，b 扩充为 3 * 2。\n",
    "如下所示：\n"
   ]
  },
  {
   "cell_type": "code",
   "execution_count": 27,
   "metadata": {},
   "outputs": [
    {
     "data": {
      "text/plain": [
       "array([[1, 2],\n",
       "       [1, 2],\n",
       "       [1, 2]])"
      ]
     },
     "execution_count": 27,
     "metadata": {},
     "output_type": "execute_result"
    }
   ],
   "source": [
    "a = np.array([[1],[1],[1]])\n",
    "b = np.array([1,2])\n",
    "np.multiply(a, b)"
   ]
  },
  {
   "cell_type": "markdown",
   "metadata": {},
   "source": [
    "注意：\n",
    "1.dot函数用于矩阵乘法，对于二维数组，它计算的是矩阵乘积，对于一维数组，它计算的是内积。注意交换矩阵的前后位置会导致不同的结果。\n",
    "2.使用shape可以获得矩阵的大小\n",
    "\n",
    "3. 行列式相乘须满足左边的列等于右边的行"
   ]
  },
  {
   "cell_type": "code",
   "execution_count": 28,
   "metadata": {},
   "outputs": [
    {
     "name": "stdout",
     "output_type": "stream",
     "text": [
      "[[ 2  4  6]\n",
      " [ 8 10 12]]\n",
      "[[14 32]\n",
      " [32 77]]\n",
      "[[17 22 27]\n",
      " [22 29 36]\n",
      " [27 36 45]]\n",
      "(2, 3)\n"
     ]
    }
   ],
   "source": [
    "import numpy as np;\n",
    "A =np.array([[1,2,3],\n",
    "            [4,5,6]])\n",
    "B = np.array([[1,4],\n",
    "              [2,5],\n",
    "              [3,6]])\n",
    "C = A * 2\n",
    "D = np.dot(A,B)\n",
    "E = np.dot(B,A)\n",
    "J = A.shape\n",
    "print(C)\n",
    "print(D)\n",
    "print(E)\n",
    "print(J)\n"
   ]
  },
  {
   "cell_type": "code",
   "execution_count": 29,
   "metadata": {},
   "outputs": [
    {
     "name": "stdout",
     "output_type": "stream",
     "text": [
      "[[1. 0. 0.]\n",
      " [0. 1. 0.]\n",
      " [0. 0. 1.]]\n",
      "[[1. 2. 3.]\n",
      " [4. 5. 6.]]\n"
     ]
    }
   ],
   "source": [
    "# 创建一个单位矩阵\n",
    "import numpy as np;\n",
    "A =np.array([[1,2,3],\n",
    "            [4,5,6]])\n",
    "F = np.eye(3)\n",
    "G = np.dot(A,F)\n",
    "print(F)\n",
    "print(G)\n"
   ]
  },
  {
   "cell_type": "code",
   "execution_count": 30,
   "metadata": {},
   "outputs": [
    {
     "name": "stdout",
     "output_type": "stream",
     "text": [
      "[[1 2 3]\n",
      " [4 5 6]\n",
      " [7 8 9]]\n",
      "0.0\n"
     ]
    }
   ],
   "source": [
    "# 计算行列式的值\n",
    "# python中行列式的计算方法和线性代数中的原理是一样的。\n",
    "import numpy as np;\n",
    "A =np.array([[1,2,3],\n",
    "            [4,5,6],\n",
    "            [7,8,9]])\n",
    "B = np.linalg.det(A)\n",
    "\n",
    "print(A)\n",
    "print(B)\n"
   ]
  }
 ],
 "metadata": {
  "kernelspec": {
   "display_name": "Python 3 (ipykernel)",
   "language": "python",
   "name": "python3"
  },
  "language_info": {
   "codemirror_mode": {
    "name": "ipython",
    "version": 3
   },
   "file_extension": ".py",
   "mimetype": "text/x-python",
   "name": "python",
   "nbconvert_exporter": "python",
   "pygments_lexer": "ipython3",
   "version": "3.10.7"
  }
 },
 "nbformat": 4,
 "nbformat_minor": 1
}
