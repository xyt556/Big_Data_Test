{
 "cells": [
  {
   "cell_type": "markdown",
   "source": [
    "创建一个边界值为1而内部都是0的数组，图例如下：\n",
    "[提示：]解此题可以先把所有值都设置为1，这是大正方形；其次，把边界除外小正方形全部设置为0。\n",
    "本题用到numpy的切片原理。多维数组同样遵循x[start:stop:step]的原理。"
   ],
   "metadata": {
    "collapsed": false
   }
  },
  {
   "cell_type": "code",
   "execution_count": 1,
   "outputs": [
    {
     "name": "stdout",
     "output_type": "stream",
     "text": [
      "[[1. 1. 1. 1. 1. 1. 1. 1. 1. 1.]\n",
      " [1. 0. 0. 0. 0. 0. 0. 0. 0. 1.]\n",
      " [1. 0. 0. 0. 0. 0. 0. 0. 0. 1.]\n",
      " [1. 0. 0. 0. 0. 0. 0. 0. 0. 1.]\n",
      " [1. 0. 0. 0. 0. 0. 0. 0. 0. 1.]\n",
      " [1. 0. 0. 0. 0. 0. 0. 0. 0. 1.]\n",
      " [1. 0. 0. 0. 0. 0. 0. 0. 0. 1.]\n",
      " [1. 0. 0. 0. 0. 0. 0. 0. 0. 1.]\n",
      " [1. 0. 0. 0. 0. 0. 0. 0. 0. 1.]\n",
      " [1. 1. 1. 1. 1. 1. 1. 1. 1. 1.]]\n"
     ]
    }
   ],
   "source": [
    "import numpy as np\n",
    "S = np.ones((10, 10))\n",
    "S[1:9, 1:9] = 0\n",
    "print(S)"
   ],
   "metadata": {
    "collapsed": false
   }
  },
  {
   "cell_type": "markdown",
   "source": [
    "在数组主对角线上创建一个值为1,2,3,4的5x5矩阵，图例如下：\n",
    "\n",
    "[1 0 0 0]\n",
    "[0 2 0 0]\n",
    "[0 0 3 0]\n",
    "[0 0 0 4]"
   ],
   "metadata": {
    "collapsed": false
   }
  },
  {
   "cell_type": "code",
   "execution_count": 3,
   "outputs": [
    {
     "name": "stdout",
     "output_type": "stream",
     "text": [
      "[[1 0 0 0]\n",
      " [0 2 0 0]\n",
      " [0 0 3 0]\n",
      " [0 0 0 4]]\n"
     ]
    }
   ],
   "source": [
    "import numpy as np\n",
    "S = np.diag((1,2,3,4))\n",
    "print(S)\n"
   ],
   "metadata": {
    "collapsed": false
   }
  },
  {
   "cell_type": "markdown",
   "source": [
    "数组归一化操作\n",
    "生成一个随机的5*5矩阵，找出最大值和最小值，然后把最大值和最小值分别用1和0表示，其他值则介于在0和1中间。"
   ],
   "metadata": {
    "collapsed": false
   }
  },
  {
   "cell_type": "code",
   "execution_count": 4,
   "outputs": [
    {
     "name": "stdout",
     "output_type": "stream",
     "text": [
      "[[0.72722343 0.19413673 0.79058919 1.         0.94523128]\n",
      " [0.78044759 0.3087531  0.72562593 0.55215145 0.        ]\n",
      " [0.08885615 0.68254631 0.28785959 0.47219576 0.02238411]\n",
      " [0.08318769 0.41299086 0.74332256 0.50133798 0.55064104]\n",
      " [0.32763527 0.14453692 0.05696847 0.56693027 0.79934709]]\n"
     ]
    }
   ],
   "source": [
    "import numpy as np\n",
    "S = np.random.random((5, 5))\n",
    "Smax, Smin = S.max(),S.min()\n",
    "S = (S - Smin)/(Smax - Smin)\n",
    "print(S)"
   ],
   "metadata": {
    "collapsed": false
   }
  },
  {
   "cell_type": "code",
   "execution_count": 3,
   "outputs": [],
   "source": [],
   "metadata": {
    "collapsed": false
   }
  }
 ],
 "metadata": {
  "kernelspec": {
   "display_name": "Python 3",
   "language": "python",
   "name": "python3"
  },
  "language_info": {
   "codemirror_mode": {
    "name": "ipython",
    "version": 2
   },
   "file_extension": ".py",
   "mimetype": "text/x-python",
   "name": "python",
   "nbconvert_exporter": "python",
   "pygments_lexer": "ipython2",
   "version": "2.7.6"
  }
 },
 "nbformat": 4,
 "nbformat_minor": 0
}
