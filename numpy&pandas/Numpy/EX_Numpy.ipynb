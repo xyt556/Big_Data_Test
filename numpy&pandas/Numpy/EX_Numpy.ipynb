{
 "cells": [
  {
   "cell_type": "markdown",
   "source": [
    "创建一个边界值为1而内部都是0的数组，图例如下：\n",
    "[提示：]解此题可以先把所有值都设置为1，这是大正方形；其次，把边界除外小正方形全部设置为0。\n",
    "本题用到numpy的切片原理。多维数组同样遵循x[start:stop:step]的原理。"
   ],
   "metadata": {
    "collapsed": false
   }
  },
  {
   "cell_type": "code",
   "execution_count": 9,
   "outputs": [
    {
     "name": "stdout",
     "output_type": "stream",
     "text": [
      "[[ 0.  0.  0.  0.  0.  0.  0.  0.  0.  0.]\n",
      " [ 0. 10. 10.  0.  0.  0.  0.  0.  0.  0.]\n",
      " [ 0.  0.  0.  0.  0.  0.  0.  0.  0.  0.]\n",
      " [ 0.  0.  0.  0.  0.  0.  0.  0.  0.  0.]\n",
      " [ 0.  0.  0.  0.  0.  0.  0.  0.  0.  0.]\n",
      " [ 0.  0.  0.  0.  0.  0.  0.  0.  0.  0.]\n",
      " [ 0.  0.  0.  0.  0.  0.  0.  0.  0.  0.]\n",
      " [ 0.  0.  0.  0.  0.  0.  0.  0.  0.  0.]\n",
      " [ 0.  0.  0.  0.  0.  0.  0.  0.  0.  0.]\n",
      " [ 0.  0.  0.  0.  0.  0.  0.  0.  0.  0.]]\n"
     ]
    }
   ],
   "source": [
    "import numpy as np\n",
    "S = np.zeros((10, 10))\n",
    "S[1:2, 1:3] = 10\n",
    "print(S)\n",
    "np.concatenate()"
   ],
   "metadata": {
    "collapsed": false
   }
  },
  {
   "cell_type": "markdown",
   "source": [
    "在数组主对角线上创建一个值为1,2,3,4的5x5矩阵，图例如下：\n",
    "\n",
    "[1 0 0 0]\n",
    "[0 2 0 0]\n",
    "[0 0 3 0]\n",
    "[0 0 0 4]"
   ],
   "metadata": {
    "collapsed": false
   }
  },
  {
   "cell_type": "code",
   "execution_count": 3,
   "outputs": [
    {
     "name": "stdout",
     "output_type": "stream",
     "text": [
      "[[1 0 0 0]\n",
      " [0 2 0 0]\n",
      " [0 0 3 0]\n",
      " [0 0 0 4]]\n"
     ]
    }
   ],
   "source": [
    "import numpy as np\n",
    "S = np.diag((1,2,3,4))\n",
    "print(S)\n"
   ],
   "metadata": {
    "collapsed": false
   }
  },
  {
   "cell_type": "markdown",
   "source": [
    "数组归一化操作\n",
    "生成一个随机的5*5矩阵，找出最大值和最小值，然后把最大值和最小值分别用1和0表示，其他值则介于在0和1中间。"
   ],
   "metadata": {
    "collapsed": false
   }
  },
  {
   "cell_type": "code",
   "execution_count": 12,
   "outputs": [
    {
     "name": "stdout",
     "output_type": "stream",
     "text": [
      "0.879942108239877 0.07997399792726512\n",
      "[[0.16363832 0.77332538 0.68935672 0.86095561 0.51471162]\n",
      " [0.63808429 0.34227039 0.68609114 0.52165813 0.26447568]\n",
      " [0.75749969 0.         0.08232841 0.99794847 0.06804807]\n",
      " [0.94709302 0.33257775 0.62453006 0.09020606 0.10212197]\n",
      " [0.79575081 0.00439006 0.05821886 0.6920039  1.        ]]\n"
     ]
    }
   ],
   "source": [
    "import numpy as np\n",
    "S = np.random.random((5, 5))\n",
    "Smax, Smin = S.max(),S.min()\n",
    "print(Smax,Smin)\n",
    "S = (S - Smin)/(Smax - Smin)\n",
    "print(S)"
   ],
   "metadata": {
    "collapsed": false
   }
  },
  {
   "cell_type": "code",
   "execution_count": 13,
   "outputs": [
    {
     "name": "stdout",
     "output_type": "stream",
     "text": [
      "[[ 0.30477125 -0.4211269  -0.09259288 -1.64245385 -1.08570187]\n",
      " [-0.66314137 -0.7357838   1.25231318 -0.25952665  0.69044076]\n",
      " [ 1.17490935 -0.06561305 -0.1325724   1.50249813 -1.0410199 ]\n",
      " [ 0.67169024 -0.43980145  0.33015797  0.95632442 -1.66609061]\n",
      " [ 1.77140736  0.99776932 -0.82880617  1.04820272 -1.62625379]]\n"
     ]
    }
   ],
   "source": [
    "import numpy as np\n",
    "Z = np.random.random((5,5))\n",
    "Z = (Z - np.mean (Z)) / (np.std (Z))\n",
    "print(Z)"
   ],
   "metadata": {
    "collapsed": false
   }
  },
  {
   "cell_type": "code",
   "execution_count": 17,
   "outputs": [
    {
     "name": "stderr",
     "output_type": "stream",
     "text": [
      "C:\\Users\\xyt55\\AppData\\Local\\Temp\\ipykernel_22380\\2943881188.py:1: DeprecationWarning: `np.int` is a deprecated alias for the builtin `int`. To silence this warning, use `int` by itself. Doing this will not modify any behavior and is safe. When replacing `np.int`, you may wish to use e.g. `np.int64` or `np.int32` to specify the precision. If you wish to review your current use, check the release note link for additional information.\n",
      "Deprecated in NumPy 1.20; for more details and guidance: https://numpy.org/devdocs/release/1.20.0-notes.html#deprecations\n",
      "  a = np.ones((2,3,4),dtype=np.int)\n"
     ]
    },
    {
     "data": {
      "text/plain": "array([[1, 1, 1, 1, 1, 1, 1, 1],\n       [1, 1, 1, 1, 1, 1, 1, 1],\n       [1, 1, 1, 1, 1, 1, 1, 1]])"
     },
     "execution_count": 17,
     "metadata": {},
     "output_type": "execute_result"
    }
   ],
   "source": [
    "a = np.ones((2,3,4),dtype=np.int)\n",
    "b = a.reshape(3,8)\n",
    "b\n"
   ],
   "metadata": {
    "collapsed": false
   }
  }
 ],
 "metadata": {
  "kernelspec": {
   "display_name": "Python 3",
   "language": "python",
   "name": "python3"
  },
  "language_info": {
   "codemirror_mode": {
    "name": "ipython",
    "version": 2
   },
   "file_extension": ".py",
   "mimetype": "text/x-python",
   "name": "python",
   "nbconvert_exporter": "python",
   "pygments_lexer": "ipython2",
   "version": "2.7.6"
  }
 },
 "nbformat": 4,
 "nbformat_minor": 0
}
