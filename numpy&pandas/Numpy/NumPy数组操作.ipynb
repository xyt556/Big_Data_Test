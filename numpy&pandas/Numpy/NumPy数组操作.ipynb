{
 "cells": [
  {
   "cell_type": "code",
   "execution_count": 1,
   "metadata": {},
   "outputs": [
    {
     "data": {
      "text/plain": [
       "'NumPy中包含了一些函数用于操作数组，大致分为六类：\\n   修改数组形状\\n   翻转数组\\n   修改数组维度\\n   连接数组\\n   分割数组\\n   数组元素的添加和删除\\n'"
      ]
     },
     "execution_count": 1,
     "metadata": {},
     "output_type": "execute_result"
    }
   ],
   "source": [
    "# %load 数组操作.py\n",
    "import numpy as np\n",
    "'''NumPy中包含了一些函数用于操作数组，大致分为六类：\n",
    "   修改数组形状\n",
    "   翻转数组\n",
    "   修改数组维度\n",
    "   连接数组\n",
    "   分割数组\n",
    "   数组元素的添加和删除\n",
    "'''"
   ]
  },
  {
   "cell_type": "code",
   "execution_count": 2,
   "metadata": {},
   "outputs": [],
   "source": [
    "\n",
    "#修改数组形状\n",
    "\n",
    "a=np.arange(12).reshape(2,6)\n",
    "b=a.reshape(3,4)   #3行4列"
   ]
  },
  {
   "cell_type": "code",
   "execution_count": 3,
   "metadata": {},
   "outputs": [
    {
     "name": "stdout",
     "output_type": "stream",
     "text": [
      "reshape输出\n",
      "[[ 0  1  2  3  4  5]\n",
      " [ 6  7  8  9 10 11]]\n",
      "[[ 0  1  2  3]\n",
      " [ 4  5  6  7]\n",
      " [ 8  9 10 11]]\n"
     ]
    }
   ],
   "source": [
    "print('reshape输出')  #reshape()函数在不改变数据的条件下修改形状\n",
    "print(a)\n",
    "print(b)"
   ]
  },
  {
   "cell_type": "code",
   "execution_count": 4,
   "metadata": {},
   "outputs": [
    {
     "name": "stdout",
     "output_type": "stream",
     "text": [
      "flatten输出\n",
      "[1000    6    1    7    2    8    3    9    4   10    5   11]\n",
      "[[ 0  1  2  3  4  5]\n",
      " [ 6  7  8  9 10 11]]\n"
     ]
    }
   ],
   "source": [
    "print('flatten输出')  #faltten()函数返回一份数组复制，对复制所做的修改不会影响原始数组\n",
    "c=a.flatten('F')    #C按行，F按列，A原顺序，k元素在内存中出现的顺序\n",
    "c[0]=1000\n",
    "print(c)\n",
    "print(a)"
   ]
  },
  {
   "cell_type": "code",
   "execution_count": 5,
   "metadata": {},
   "outputs": [
    {
     "name": "stdout",
     "output_type": "stream",
     "text": [
      "ravel输出\n",
      "[100   1   2   3   4   5   6   7   8   9  10  11]\n",
      "[[100   1   2   3   4   5]\n",
      " [  6   7   8   9  10  11]]\n"
     ]
    }
   ],
   "source": [
    "print('ravel输出')  #ravel（）函数展平数组元素，顺序通常是’C风格‘，返回的是数组视图\n",
    "d=a.ravel()\n",
    "d[0]=100\n",
    "print(d)\n",
    "print(a)\n",
    "\n",
    "\n",
    "#翻转数组 transpose()  swapaxes()\n",
    "#连接数组 concatenate()  stack()  hstack() vstack()\n",
    "#数组切割 split()  hsplit()  vsplit()"
   ]
  },
  {
   "cell_type": "code",
   "execution_count": 6,
   "metadata": {},
   "outputs": [
    {
     "name": "stdout",
     "output_type": "stream",
     "text": [
      "a1= [[0 1]\n",
      " [2 3]]\n",
      "一行四列a1= [[0 1 2 3]]\n",
      "四行一列a1 [[0]\n",
      " [1]\n",
      " [2]\n",
      " [3]]\n"
     ]
    },
    {
     "data": {
      "text/plain": [
       "'\\n当新数组大小大于原始数组大小时\\n则包含原始数组中元素的副本'"
      ]
     },
     "execution_count": 6,
     "metadata": {},
     "output_type": "execute_result"
    }
   ],
   "source": [
    "\n",
    "#数组元素的添加和删除\n",
    "a1=np.arange(4).reshape(2,2)\n",
    "print(\"a1=\",a1)\n",
    "#resize()函数\n",
    "a1.resize((1,4))\n",
    "print('一行四列a1=',a1)\n",
    "a1.resize((4,1))\n",
    "print('四行一列a1',a1)\n",
    "'''\n",
    "当新数组大小大于原始数组大小时\n",
    "则包含原始数组中元素的副本'''"
   ]
  },
  {
   "cell_type": "code",
   "execution_count": 7,
   "metadata": {},
   "outputs": [
    {
     "name": "stdout",
     "output_type": "stream",
     "text": [
      "数组b1= [[0 1]\n",
      " [2 3]\n",
      " [4 5]]\n",
      "append的b2是 [0 1 2 3 4 5 6 7]\n",
      "append后的b3= [[ 0  1]\n",
      " [ 2  3]\n",
      " [ 4  5]\n",
      " [11 12]]\n",
      "append后的b4= [[ 0  1 12 12]\n",
      " [ 2  3 11 11]\n",
      " [ 4  5 13 13]]\n"
     ]
    }
   ],
   "source": [
    "\n",
    "#append()函数\n",
    "b1=np.arange(6).reshape(3,2)\n",
    "print(\"数组b1=\",b1)\n",
    "b2=np.append(b1,[6,7])\n",
    "print('append的b2是',b2)\n",
    "b3=np.append(b1,[[11,12]],axis=0)   #当未指明axis时，会将数组展开输出，0代表横轴，1代表竖轴\n",
    "print(\"append后的b3=\",b3)\n",
    "b4=np.append(b1,[[12,12],[11,11],[13,13]],axis=1)\n",
    "print('append后的b4=',b4)"
   ]
  },
  {
   "cell_type": "code",
   "execution_count": 8,
   "metadata": {},
   "outputs": [
    {
     "name": "stdout",
     "output_type": "stream",
     "text": [
      "f= [ 0  1 11  2  3  4  5]\n",
      "h= [[ 0  1]\n",
      " [ 2  3]\n",
      " [10 10]\n",
      " [ 4  5]]\n",
      "i= [[ 0 10  1]\n",
      " [ 2 10  3]\n",
      " [ 4 10  5]]\n"
     ]
    }
   ],
   "source": [
    "\n",
    "#insert函数\n",
    "f=np.insert(b1,2,11)  #在b1数组中数值为2的元素前面加上一个数值为11的元素\n",
    "print('f=',f)\n",
    "h=np.insert(b1,2,10,axis=0) #在b1数组中第2行（从0开始）前加上一行10\n",
    "print('h=',h)\n",
    "i=np.insert(b1,1,10,axis=1)#在b1数组中第一列（从0开始）前加上一列10\n",
    "print('i=',i)"
   ]
  },
  {
   "cell_type": "code",
   "execution_count": 9,
   "metadata": {},
   "outputs": [
    {
     "name": "stdout",
     "output_type": "stream",
     "text": [
      "j= [[0]\n",
      " [2]\n",
      " [4]]\n",
      "k= [[0 1]\n",
      " [2 3]\n",
      " [4 5]]\n",
      "l= [ 0  1 11  3  4  5]\n"
     ]
    }
   ],
   "source": [
    "\n",
    "#delete函数\n",
    "j=np.delete(i,[1,2],axis=1)  #删除i数组的第一列和第二列（从0开始，注意是和，不是到）\n",
    "print('j=',j)\n",
    "k=np.delete(h,2,axis=0)   #删除h数组的第二行（从0开始）\n",
    "print('k=',k)\n",
    "l=np.delete(f,3)   #删除3位置前的数\n",
    "print('l=',l)"
   ]
  }
 ],
 "metadata": {
  "kernelspec": {
   "display_name": "Python 3 (ipykernel)",
   "language": "python",
   "name": "python3"
  },
  "language_info": {
   "codemirror_mode": {
    "name": "ipython",
    "version": 3
   },
   "file_extension": ".py",
   "mimetype": "text/x-python",
   "name": "python",
   "nbconvert_exporter": "python",
   "pygments_lexer": "ipython3",
   "version": "3.10.7"
  }
 },
 "nbformat": 4,
 "nbformat_minor": 1
}
