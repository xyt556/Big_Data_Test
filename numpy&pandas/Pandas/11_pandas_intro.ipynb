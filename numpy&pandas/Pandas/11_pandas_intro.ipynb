{
 "cells": [
  {
   "cell_type": "code",
   "execution_count": 1,
   "metadata": {},
   "outputs": [
    {
     "name": "stdout",
     "output_type": "stream",
     "text": [
      "0    1.0\n",
      "1    3.0\n",
      "2    6.0\n",
      "3    NaN\n",
      "4    4.0\n",
      "5    1.0\n",
      "dtype: float64\n"
     ]
    }
   ],
   "source": [
    "# %load 11_pandas_intro.py\n",
    "# View more python tutorials on my Youtube and Youku channel!!!\n",
    "\n",
    "# Youtube video tutorial: https://www.youtube.com/channel/UCdyjiB5H8Pu7aDTNVXTTpcg\n",
    "# Youku video tutorial: http://i.youku.com/pythontutorial\n",
    "\n",
    "\"\"\"\n",
    "Please note, this code is only for python 3+. If you are using python 2+, please modify the code accordingly.\n",
    "\"\"\"\n",
    "from __future__ import print_function\n",
    "import pandas as pd\n",
    "import numpy as np\n",
    "\n",
    "s = pd.Series([1,3,6,np.nan,4,1]) # similar with 1D numpy\n",
    "print(s)\n"
   ]
  },
  {
   "cell_type": "code",
   "execution_count": 3,
   "metadata": {},
   "outputs": [
    {
     "name": "stdout",
     "output_type": "stream",
     "text": [
      "DatetimeIndex(['2016-01-01', '2016-01-02', '2016-01-03', '2016-01-04',\n",
      "               '2016-01-05', '2016-01-06'],\n",
      "              dtype='datetime64[ns]', freq='D')\n"
     ]
    }
   ],
   "source": [
    "dates = pd.date_range('20160101', periods=6)\n",
    "print(dates)\n"
   ]
  },
  {
   "cell_type": "code",
   "execution_count": 4,
   "metadata": {},
   "outputs": [
    {
     "name": "stdout",
     "output_type": "stream",
     "text": [
      "2016-01-01   -0.530248\n",
      "2016-01-02    0.079806\n",
      "2016-01-03   -0.837939\n",
      "2016-01-04   -0.810422\n",
      "2016-01-05   -0.523229\n",
      "2016-01-06   -2.087428\n",
      "Freq: D, Name: B, dtype: float64\n"
     ]
    }
   ],
   "source": [
    "df = pd.DataFrame(np.random.randn(6,4), index=dates, columns=['A','B','C','D'])\n",
    "print(df['B'])\n"
   ]
  },
  {
   "cell_type": "code",
   "execution_count": 6,
   "metadata": {},
   "outputs": [
    {
     "name": "stdout",
     "output_type": "stream",
     "text": [
      "     A          B    C  D      E    F\n",
      "0  1.0 2013-01-02  1.0  3   test  foo\n",
      "1  1.0 2013-01-02  1.0  3  train  foo\n",
      "2  1.0 2013-01-02  1.0  3   test  foo\n",
      "3  1.0 2013-01-02  1.0  3  train  foo\n"
     ]
    }
   ],
   "source": [
    "df2 = pd.DataFrame({'A' : 1.,\n",
    "                       'B' : pd.Timestamp('20130102'),\n",
    "                        'C' : pd.Series(1,index=list(range(4)),dtype='float32'),\n",
    "                        'D' : np.array([3] * 4,dtype='int32'),\n",
    "                        'E' : pd.Categorical([\"test\",\"train\",\"test\",\"train\"]),\n",
    "                        'F' : 'foo'})\n",
    "print(df2)\n"
   ]
  },
  {
   "cell_type": "code",
   "execution_count": 7,
   "metadata": {},
   "outputs": [
    {
     "name": "stdout",
     "output_type": "stream",
     "text": [
      "A           float64\n",
      "B    datetime64[ns]\n",
      "C           float32\n",
      "D             int32\n",
      "E          category\n",
      "F            object\n",
      "dtype: object\n"
     ]
    }
   ],
   "source": [
    "print(df2.dtypes)\n"
   ]
  },
  {
   "cell_type": "code",
   "execution_count": 8,
   "metadata": {},
   "outputs": [
    {
     "name": "stdout",
     "output_type": "stream",
     "text": [
      "DatetimeIndex(['2016-01-01', '2016-01-02', '2016-01-03', '2016-01-04',\n",
      "               '2016-01-05', '2016-01-06'],\n",
      "              dtype='datetime64[ns]', freq='D')\n"
     ]
    }
   ],
   "source": [
    "print(df.index)\n"
   ]
  },
  {
   "cell_type": "code",
   "execution_count": 9,
   "metadata": {},
   "outputs": [
    {
     "name": "stdout",
     "output_type": "stream",
     "text": [
      "Index(['A', 'B', 'C', 'D'], dtype='object')\n"
     ]
    }
   ],
   "source": [
    "print(df.columns)\n"
   ]
  },
  {
   "cell_type": "code",
   "execution_count": 10,
   "metadata": {},
   "outputs": [
    {
     "name": "stdout",
     "output_type": "stream",
     "text": [
      "[[ 0.71174565 -0.53024754 -1.09930151 -0.76098414]\n",
      " [ 0.76854034  0.07980578 -0.46297308  0.77134299]\n",
      " [ 0.16293817 -0.83793897  2.60874061 -0.58018907]\n",
      " [ 0.66516158 -0.81042242  0.31629897 -1.06404342]\n",
      " [ 0.15150743 -0.52322858  0.58126868  0.0358434 ]\n",
      " [-1.54585523 -2.08742808  1.21236119  1.60061   ]]\n"
     ]
    }
   ],
   "source": [
    "print(df.values)\n"
   ]
  },
  {
   "cell_type": "code",
   "execution_count": 11,
   "metadata": {},
   "outputs": [
    {
     "name": "stdout",
     "output_type": "stream",
     "text": [
      "              A         B         C         D\n",
      "count  6.000000  6.000000  6.000000  6.000000\n",
      "mean   0.152340 -0.784910  0.526066  0.000430\n",
      "std    0.876311  0.718482  1.301968  1.020403\n",
      "min   -1.545855 -2.087428 -1.099302 -1.064043\n",
      "25%    0.154365 -0.831060 -0.268155 -0.715785\n",
      "50%    0.414050 -0.670335  0.448784 -0.272173\n",
      "75%    0.700100 -0.524983  1.054588  0.587468\n",
      "max    0.768540  0.079806  2.608741  1.600610\n"
     ]
    }
   ],
   "source": [
    "print(df.describe())\n"
   ]
  },
  {
   "cell_type": "code",
   "execution_count": 12,
   "metadata": {},
   "outputs": [
    {
     "name": "stdout",
     "output_type": "stream",
     "text": [
      "   2016-01-01  2016-01-02  2016-01-03  2016-01-04  2016-01-05  2016-01-06\n",
      "A    0.711746    0.768540    0.162938    0.665162    0.151507   -1.545855\n",
      "B   -0.530248    0.079806   -0.837939   -0.810422   -0.523229   -2.087428\n",
      "C   -1.099302   -0.462973    2.608741    0.316299    0.581269    1.212361\n",
      "D   -0.760984    0.771343   -0.580189   -1.064043    0.035843    1.600610\n"
     ]
    }
   ],
   "source": [
    "print(df.T)\n"
   ]
  },
  {
   "cell_type": "code",
   "execution_count": 13,
   "metadata": {},
   "outputs": [
    {
     "name": "stdout",
     "output_type": "stream",
     "text": [
      "                   D         C         B         A\n",
      "2016-01-01 -0.760984 -1.099302 -0.530248  0.711746\n",
      "2016-01-02  0.771343 -0.462973  0.079806  0.768540\n",
      "2016-01-03 -0.580189  2.608741 -0.837939  0.162938\n",
      "2016-01-04 -1.064043  0.316299 -0.810422  0.665162\n",
      "2016-01-05  0.035843  0.581269 -0.523229  0.151507\n",
      "2016-01-06  1.600610  1.212361 -2.087428 -1.545855\n"
     ]
    }
   ],
   "source": [
    "print(df.sort_index(axis=1, ascending=False))\n"
   ]
  },
  {
   "cell_type": "code",
   "execution_count": 14,
   "metadata": {},
   "outputs": [
    {
     "name": "stdout",
     "output_type": "stream",
     "text": [
      "                   A         B         C         D\n",
      "2016-01-06 -1.545855 -2.087428  1.212361  1.600610\n",
      "2016-01-03  0.162938 -0.837939  2.608741 -0.580189\n",
      "2016-01-04  0.665162 -0.810422  0.316299 -1.064043\n",
      "2016-01-01  0.711746 -0.530248 -1.099302 -0.760984\n",
      "2016-01-05  0.151507 -0.523229  0.581269  0.035843\n",
      "2016-01-02  0.768540  0.079806 -0.462973  0.771343\n"
     ]
    }
   ],
   "source": [
    "print(df.sort_values(by='B'))"
   ]
  },
  {
   "cell_type": "code",
   "execution_count": null,
   "metadata": {},
   "outputs": [],
   "source": []
  }
 ],
 "metadata": {
  "kernelspec": {
   "display_name": "Python 3 (ipykernel)",
   "language": "python",
   "name": "python3"
  },
  "language_info": {
   "codemirror_mode": {
    "name": "ipython",
    "version": 3
   },
   "file_extension": ".py",
   "mimetype": "text/x-python",
   "name": "python",
   "nbconvert_exporter": "python",
   "pygments_lexer": "ipython3",
   "version": "3.10.7"
  }
 },
 "nbformat": 4,
 "nbformat_minor": 1
}
