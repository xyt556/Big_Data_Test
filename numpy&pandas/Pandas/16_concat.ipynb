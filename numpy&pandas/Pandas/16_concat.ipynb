{
 "cells": [
  {
   "cell_type": "markdown",
   "metadata": {},
   "source": [
    "## pd.concat() 函数可以沿着指定的轴将多个 DataFrame 或者 series 拼接到一起；\n",
    "## pd.merge() 函数只能实现两个表的拼接。\n",
    "\n",
    "    轴向连接(concatenation): pd.concat() 可以沿一个轴将多个DataFrame对象连接在一起, 形成一个新的Dataframe对象\n",
    "    融合（merging）：pd.merge()方法可以根据一个或多个键将不同DataFrame中的行连接起来。\n",
    "    concat() 轴向连接\n",
    "\n",
    "    concat() 函数可以将数据根据不同的轴作进行合并\n",
    "\n",
    "    pd.concat(objs, axis=0, join='outer')\n",
    "        objs: series、dataframe或者是panel构成的序列list\n",
    "        axis： 需要合并链接的轴，0是行，1是列，默认是0\n",
    "        join：连接的方式 inner，或者outer，默认是outer\n",
    "### concat()合并\n",
    "\n",
    "join的值 inner ，得到的是两表的交集，如果是outer，得到的是两表的并集\n",
    "(1) join='outer'，axis=0\n",
    "\n",
    "    当join=‘outer’，axis参数为0时，列进行并集处理，纵向表拼接，缺失值由NaN填充，并且会保留原有数据的行索引\n",
    "(2) join='outer'，axis=1\n",
    "\n",
    "    当join=‘outer’，axis参数为1时，行进行并集处理，横向表拼接，缺失值由NaN填充\n",
    "(3) join=inner, axis=0\n",
    "\n",
    "### merge() 融合\n",
    "merge(left, right, how='inner', on=None)\n",
    "参数介绍\n",
    "\n",
    "    left和right, 两个要合并的DataFrame(对应的左连接和右连接)\n",
    "    how: 连接的方式, 有inner(内连接)、left(左连接)、right(右连接)、outer(外连接), 默认为 inner\n",
    "    on: 指的是用于连接的列索引名称, 必须存在于左右两个DataFrame中, 如果没有指定且其他参数也没有指定,则两个DataFrame列名交集作为连接键\n",
    "    left_on\n",
    "    right_on\n",
    "inner(内连接)\n",
    "\n",
    "    merge()默认做inner连接，并且使用两个DataFrame的列名交集（key）作为连接键，同样，最终连接的数据也是两个DataFramekey列数据的交集\n",
    "outer (外连接)\n",
    "\n",
    "    当merge()做outer连接时最终连接的数据是两个DataFramekey列数据的并集，缺失的内容由NaN填充  \n",
    "left(左连接)\n",
    "\n",
    "    当merge()做left连接时，最终连接的数据将以left数据的链接建为准合并两个数据的列数据，缺失的内容由NaN填充\n",
    "right (右连接)\n",
    "\n",
    "    当merge()做right连接时，最终连接的数据将以right数据的链接建为准合并两个数据的列数据，缺失的内容由NaN填充\n"
   ]
  },
  {
   "cell_type": "markdown",
   "metadata": {},
   "source": [
    "pd.concat()函数可以沿着指定的轴将多个dataframe或者series拼接到一起。\n",
    "\n",
    "基本语法：\n",
    "\n",
    "    pd.concat( objs, axis=0, join=‘outer’, join_axes=None,ignore_index=False, keys=None, levels=None, names=None, verify_integrity=False, sort=None, copy=True,)\n",
    "    objs 表示需要连接的对象，比如：[df1, df2]，需要将合并的数据用综括号包围；\n",
    "    axis=0 表拼接方式是上下堆叠，当axis=1表示左右拼接；\n",
    "    join 参数控制的是外连接还是内连接，join='outer’表示外连接，保留两个表中的所有信息；join=\"inner\"表示内连接，拼接结果只保留两个表共有的信息；\n",
    "    join_axes参数是在内连接时选择要完整保留哪个表的索引，但是这个参数在官方文档中提醒即将被弃用，所以不做详细讲解，只看一下join参数的表现吧；"
   ]
  },
  {
   "cell_type": "code",
   "execution_count": 3,
   "metadata": {},
   "outputs": [
    {
     "name": "stdout",
     "output_type": "stream",
     "text": [
      "     a    b    c    d\n",
      "0  0.0  0.0  0.0  0.0\n",
      "1  0.0  0.0  0.0  0.0\n",
      "2  0.0  0.0  0.0  0.0\n",
      "     a    b    c    d\n",
      "0  1.0  1.0  1.0  1.0\n",
      "1  1.0  1.0  1.0  1.0\n",
      "2  1.0  1.0  1.0  1.0\n",
      "     a    b    c    d\n",
      "0  2.0  2.0  2.0  2.0\n",
      "1  2.0  2.0  2.0  2.0\n",
      "2  2.0  2.0  2.0  2.0\n",
      "     a    b    c    d\n",
      "0  0.0  0.0  0.0  0.0\n",
      "1  0.0  0.0  0.0  0.0\n",
      "2  0.0  0.0  0.0  0.0\n",
      "3  1.0  1.0  1.0  1.0\n",
      "4  1.0  1.0  1.0  1.0\n",
      "5  1.0  1.0  1.0  1.0\n",
      "6  2.0  2.0  2.0  2.0\n",
      "7  2.0  2.0  2.0  2.0\n",
      "8  2.0  2.0  2.0  2.0\n"
     ]
    }
   ],
   "source": [
    "# %load 16_concat.py\n",
    "# View more python tutorials on my Youtube and Youku channel!!!\n",
    "\n",
    "# Youtube video tutorial: https://www.youtube.com/channel/UCdyjiB5H8Pu7aDTNVXTTpcg\n",
    "# Youku video tutorial: http://i.youku.com/pythontutorial\n",
    "\n",
    "\"\"\"\n",
    "Please note, this code is only for python 3+. If you are using python 2+, please modify the code accordingly.\n",
    "\"\"\"\n",
    "from __future__ import print_function\n",
    "import pandas as pd\n",
    "import numpy as np\n",
    "\n",
    "# concatenating\n",
    "# ignore index\n",
    "df1 = pd.DataFrame(np.ones((3, 4)) * 0, columns=['a', 'b', 'c', 'd'])\n",
    "df2 = pd.DataFrame(np.ones((3, 4)) * 1, columns=['a', 'b', 'c', 'd'])\n",
    "df3 = pd.DataFrame(np.ones((3, 4)) * 2, columns=['a', 'b', 'c', 'd'])\n",
    "res = pd.concat([df1, df2, df3], axis=0, ignore_index=True)\n",
    "print(df1)\n",
    "print(df2)\n",
    "print(df3)\n",
    "print(res)"
   ]
  },
  {
   "cell_type": "code",
   "execution_count": 12,
   "metadata": {},
   "outputs": [
    {
     "name": "stdout",
     "output_type": "stream",
     "text": [
      "     a    b    c    d\n",
      "1  0.0  0.0  0.0  0.0\n",
      "2  0.0  0.0  0.0  0.0\n",
      "3  0.0  0.0  0.0  0.0\n",
      "     b    c    d    e\n",
      "2  1.0  1.0  1.0  1.0\n",
      "3  1.0  1.0  1.0  1.0\n",
      "4  1.0  1.0  1.0  1.0\n",
      "     a    b    c    d    b    c    d    e\n",
      "1  0.0  0.0  0.0  0.0  NaN  NaN  NaN  NaN\n",
      "2  0.0  0.0  0.0  0.0  1.0  1.0  1.0  1.0\n",
      "3  0.0  0.0  0.0  0.0  1.0  1.0  1.0  1.0\n",
      "4  NaN  NaN  NaN  NaN  1.0  1.0  1.0  1.0\n",
      "     a    b    c    d    b    c    d    e\n",
      "2  0.0  0.0  0.0  0.0  1.0  1.0  1.0  1.0\n",
      "3  0.0  0.0  0.0  0.0  1.0  1.0  1.0  1.0\n"
     ]
    }
   ],
   "source": [
    "\n",
    "# join, ('inner', 'outer')\n",
    "df1 = pd.DataFrame(np.ones((3, 4)) * 0, columns=['a', 'b', 'c', 'd'], index=[1, 2, 3])\n",
    "df2 = pd.DataFrame(np.ones((3, 4)) * 1, columns=['b', 'c', 'd', 'e'], index=[2, 3, 4])\n",
    "print(df1)\n",
    "print(df2)\n",
    "res = pd.concat([df1, df2], axis=1, join='outer')\n",
    "print(res)\n",
    "res = pd.concat([df1, df2], axis=1, join='inner')\n",
    "print(res)"
   ]
  },
  {
   "cell_type": "markdown",
   "metadata": {},
   "source": [
    "通过pd.merge()方法可以自由灵活地操作各种逻辑的数据连接、合并等操作\n",
    "\n",
    "可以将两个DataFrame或Series合并，最终返回一个合并后的DataFrame\n",
    "pd.merge(left, right, how = ‘inner', on = None, left_on = None, right_on = None,\n",
    "         left_index = False, right_index = False, sort = True, suffixes = (‘_x','_y'),\n",
    "         copy = True, indicator = False, validate = None)\n",
    "## 参数 \n",
    "\n",
    "left、right:需要连接的两个DataFrame或Series，一左一右\n",
    "\n",
    "how:两个数据连接方式，默认为inner，可设置inner、outer、left或right\n",
    "\n",
    "on:作为连接键的字段，左右数据中都必须存在，否则需要用left_on和right_on来指定\n",
    "\n",
    "left_on:左表的连接键字段\n",
    "\n",
    "right_on:右表的连接键字段\n",
    "\n",
    "left_index:为True时将左表的索引作为连接键，默认为False\n",
    "\n",
    "right_index:为True时将右表的索引作为连接键，默认为False\n",
    "\n",
    "suffixes:如果左右数据出现重复列，新数据表头会用此后缀进行区分，默认为_x和_y "
   ]
  },
  {
   "cell_type": "code",
   "execution_count": 23,
   "metadata": {},
   "outputs": [
    {
     "name": "stdout",
     "output_type": "stream",
     "text": [
      "   a  b\n",
      "0  1  5\n",
      "1  2  6\n",
      "   a  y\n",
      "0  2  6\n",
      "1  1  7\n",
      "2  0  8\n",
      "   a  b  y\n",
      "0  1  5  7\n",
      "1  2  6  6\n"
     ]
    }
   ],
   "source": [
    "# join_axes\n",
    "# 得到原因：\"join_axes\" was deprecated in version 0.25 for some reason. You can achieve the same effect by reindexing.\n",
    "# 可知\"join_axes\"在0.25版中已弃用，故可采用merge函数代替concat函数，join_axes参数可采用on参数替代！\n",
    "# pd.merge(left, right, how = ‘inner’, on = None, left_on = None, right_on = None,\n",
    "#          left_index = False, right_index = False, sort = True, suffixes = (‘_x’,’_y’),\n",
    "#          copy = True, indicator = False, validate = None)\n",
    "# https://floweryu.blog.csdn.net/article/details/95649578?spm=1001.2101.3001.6650.2&utm_medium=distribute.pc_relevant.none-task-blog-2%7Edefault%7ECTRLIST%7ERate-2-95649578-blog-123010001.pc_relevant_default&depth_1-utm_source=distribute.pc_relevant.none-task-blog-2%7Edefault%7ECTRLIST%7ERate-2-95649578-blog-123010001.pc_relevant_default&utm_relevant_index=5\n",
    "import pandas as pd\n",
    "df1 = pd.DataFrame({'a':[1,2],'b':[5,6]})\n",
    "df2 = pd.DataFrame({'a':[2,1,0],'y':[6,7,8]})\n",
    "# 按a列进行连接，数据顺序取df1的顺序\n",
    "res = pd.merge(df1, df2, on='a')\n",
    "print(df1)\n",
    "print(df2)\n",
    "res = pd.merge(df1, df2, how='inner',on='a')\n",
    "print(res)"
   ]
  },
  {
   "cell_type": "code",
   "execution_count": 25,
   "metadata": {},
   "outputs": [
    {
     "name": "stdout",
     "output_type": "stream",
     "text": [
      "   a  b\n",
      "0  1  5\n",
      "1  2  6\n",
      "   a  y\n",
      "0  2  6\n",
      "1  1  7\n",
      "2  0  8\n",
      "   a_1  b  a_2  y\n",
      "0    1  5    2  6\n",
      "1    2  6    1  7\n"
     ]
    }
   ],
   "source": [
    "# 索引连接\n",
    "# 可以直接按索引进行连接，将left_index和right_index设置为True,会以两个表的索引作为连接键\n",
    "import pandas as pd\n",
    "df1 = pd.DataFrame({'a':[1,2],'b':[5,6]})\n",
    "df2 = pd.DataFrame({'a':[2,1,0],'y':[6,7,8]})\n",
    "# 两个表都有同名的a列，用suffixes参数设置后缀来区分\n",
    "res = pd.merge(df1, df2, left_index=True, right_index=True, suffixes=('_1','_2'))\n",
    "print(df1)\n",
    "print(df2)\n",
    "print(res)"
   ]
  },
  {
   "cell_type": "code",
   "execution_count": 26,
   "metadata": {},
   "outputs": [
    {
     "name": "stdout",
     "output_type": "stream",
     "text": [
      "   a  b  x\n",
      "0  1  3  5\n",
      "1  2  4  6\n",
      "   a  b  y\n",
      "0  1  3  6\n",
      "1  2  4  7\n",
      "2  3  5  8\n",
      "   a  b  x  y\n",
      "0  1  3  5  6\n",
      "1  2  4  6  7\n"
     ]
    }
   ],
   "source": [
    "# 多连接键\n",
    "# 如果在合并数据时需要用多个连接键，可以以列表的形式将这些连接键传入on中\n",
    "import pandas as pd\n",
    "df1 = pd.DataFrame({'a':[1,2],'b':[3,4],'x':[5,6]})\n",
    "df2 = pd.DataFrame({'a':[1,2,3],'b':[3,4,5],'y':[6,7,8]})\n",
    "# a和b列中的(1,3)和(2,4)作为连接键将两个数据进行了连接\n",
    "res = pd.merge(df1, df2, on=['a','b'])\n",
    "print(df1)\n",
    "print(df2)\n",
    "print(res)"
   ]
  },
  {
   "cell_type": "code",
   "execution_count": 27,
   "metadata": {},
   "outputs": [
    {
     "name": "stdout",
     "output_type": "stream",
     "text": [
      "   a  b  x\n",
      "0  1  3  5\n",
      "1  2  4  6\n",
      "   a  b  y\n",
      "0  1  3  6\n",
      "1  2  4  7\n",
      "2  3  5  8\n",
      "   a  b  x  y\n",
      "0  1  3  5  6\n",
      "1  2  4  6  7\n",
      "   a  b    x  y\n",
      "0  1  3  5.0  6\n",
      "1  2  4  6.0  7\n",
      "2  3  5  NaN  8\n"
     ]
    }
   ],
   "source": [
    "# 连接方法\n",
    "# how参数可以指定数据用哪种方法进行合并，可以设置inner、outer、left或right\n",
    "# 默认的方式是inner join，取交集，也就是保留左右表的共同内容;如果是left join，左边表中所有的内容都会保留;如果是right join，右表全部保留;如果是outer join，则左右表全部保留。关联不上的内容为NaN\n",
    "import pandas as pd\n",
    "df3 = pd.DataFrame({'a':[1,2],'b':[3,4],'x':[5,6]})\n",
    "df4 = pd.DataFrame({'a':[1,2,3],'b':[3,4,5],'y':[6,7,8]})\n",
    "print(df3)\n",
    "print(df4)\n",
    "# 以左表为基表\n",
    "res1 = pd.merge(df3, df4, how='left', on=['a','b'])\n",
    "print(res1)\n",
    "# 以右表为基表\n",
    "res2 = pd.merge(df3, df4, how='right', on=['a','b'])\n",
    "print(res2)"
   ]
  },
  {
   "cell_type": "code",
   "execution_count": 29,
   "metadata": {},
   "outputs": [
    {
     "name": "stdout",
     "output_type": "stream",
     "text": [
      "   a  b    x  y\n",
      "0  1  3  5.0  6\n",
      "1  2  4  6.0  7\n",
      "2  3  5  NaN  8\n",
      "   a  b  x  y\n",
      "0  1  3  5  6\n",
      "1  2  4  6  7\n"
     ]
    }
   ],
   "source": [
    "import pandas as pd\n",
    "df3 = pd.DataFrame({'a':[1,2],'b':[3,4],'x':[5,6]})\n",
    "df4 = pd.DataFrame({'a':[1,2,3],'b':[3,4,5],'y':[6,7,8]})\n",
    "# 取两个表的并集\n",
    "# pd.merge(left, right, how='outer', on=['key1','key2'])\n",
    "res3 = pd.merge(df3, df4, how='outer', on=['a','b'])\n",
    "print(res3)\n",
    "# 取两个表的交集\n",
    "# pd.merge(left, right, how='inner', on=['key1','key2'])\n",
    "res4 = pd.merge(df3, df4, how='inner', on=['a','b'])\n",
    "print(res4)"
   ]
  },
  {
   "cell_type": "code",
   "execution_count": 30,
   "metadata": {},
   "outputs": [
    {
     "name": "stdout",
     "output_type": "stream",
     "text": [
      "   A  B\n",
      "0  1  2\n",
      "1  2  2\n",
      "   A  B\n",
      "0  4  2\n",
      "1  5  2\n",
      "2  6  2\n",
      "   A_x  B  A_y\n",
      "0    1  2    4\n",
      "1    1  2    5\n",
      "2    1  2    6\n",
      "3    2  2    4\n",
      "4    2  2    5\n",
      "5    2  2    6\n",
      "   A_x  B  A_y\n",
      "0    1  2    4\n",
      "1    1  2    5\n",
      "2    1  2    6\n",
      "3    2  2    4\n",
      "4    2  2    5\n",
      "5    2  2    6\n",
      "   A  B\n",
      "0  1  2\n",
      "1  2  2\n",
      "2  4  2\n",
      "3  5  2\n",
      "4  6  2\n"
     ]
    }
   ],
   "source": [
    "# 一个有重复连接键的例子\n",
    "import pandas as pd\n",
    "left = pd.DataFrame({'A':[1,2],'B':[2,2]})\n",
    "print(left)\n",
    "right = pd.DataFrame({'A':[4,5,6],'B':[2,2,2]})\n",
    "print(right)\n",
    "res = pd.merge(left, right, on='B', how='outer')\n",
    "\n",
    "print(res)\n",
    "res1 = pd.merge(left, right, on='B')\n",
    "print(res1)\n",
    "res2 = pd.merge(left, right, how='outer')\n",
    "print(res2)"
   ]
  },
  {
   "cell_type": "code",
   "execution_count": 32,
   "metadata": {},
   "outputs": [
    {
     "name": "stdout",
     "output_type": "stream",
     "text": [
      "   a  b\n",
      "0  1  5\n",
      "1  2  6\n",
      "   a  y\n",
      "0  2  6\n",
      "1  1  7\n",
      "2  0  8\n",
      "   a    b  y      _merge\n",
      "0  1  5.0  7        both\n",
      "1  2  6.0  6        both\n",
      "2  0  NaN  8  right_only\n"
     ]
    }
   ],
   "source": [
    "# 连接指示\n",
    "#\n",
    "# 如果想知道数据连接后是左表内容还是右表内容，可以使用indicator参数显示连接方式\n",
    "#\n",
    "# 如果将indicator设置为True,则会增加名为_merge的列，显示这列是从何而来\n",
    "#\n",
    "# _merge有以下三个值:\n",
    "#\n",
    "# left_only:只在左表中\n",
    "# right_only:只在右表中\n",
    "# both:两个表都有\n",
    "import pandas as pd\n",
    "df1 = pd.DataFrame({'a':[1,2],'b':[5,6]})\n",
    "df2 = pd.DataFrame({'a':[2,1,0],'y':[6,7,8]})\n",
    "print(df1)\n",
    "print(df2)\n",
    "# 显示连接指示列\n",
    "res = pd.merge(df1, df2, on='a', how='outer', indicator=True)\n",
    "print(res)"
   ]
  },
  {
   "cell_type": "code",
   "execution_count": null,
   "metadata": {},
   "outputs": [],
   "source": [
    "# append\n",
    "df1 = pd.DataFrame(np.ones((3, 4)) * 0, columns=['a', 'b', 'c', 'd'])\n",
    "df2 = pd.DataFrame(np.ones((3, 4)) * 1, columns=['a', 'b', 'c', 'd'])\n",
    "df2 = pd.DataFrame(np.ones((3, 4)) * 1, columns=['b', 'c', 'd', 'e'], index=[2, 3, 4])\n",
    "res = df1.append(df2, ignore_index=True)\n",
    "res = df1.append([df2, df3])\n",
    "\n",
    "s1 = pd.Series([1, 2, 3, 4], index=['a', 'b', 'c', 'd'])\n",
    "res = df1.append(s1, ignore_index=True)\n",
    "\n",
    "print(res)"
   ]
  }
 ],
 "metadata": {
  "kernelspec": {
   "display_name": "Python 3 (ipykernel)",
   "language": "python",
   "name": "python3"
  },
  "language_info": {
   "codemirror_mode": {
    "name": "ipython",
    "version": 3
   },
   "file_extension": ".py",
   "mimetype": "text/x-python",
   "name": "python",
   "nbconvert_exporter": "python",
   "pygments_lexer": "ipython3",
   "version": "3.10.7"
  }
 },
 "nbformat": 4,
 "nbformat_minor": 1
}
