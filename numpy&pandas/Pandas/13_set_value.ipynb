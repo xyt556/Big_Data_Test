{
 "cells": [
  {
   "cell_type": "code",
   "execution_count": 8,
   "metadata": {},
   "outputs": [
    {
     "name": "stdout",
     "output_type": "stream",
     "text": [
      "                   A         B            C            D   F  G\n",
      "2013-01-01 -0.836146  0.292977    -1.743656     1.200139 NaN  1\n",
      "2013-01-02 -0.680489 -1.935828     1.065906     0.319652 NaN  2\n",
      "2013-01-03  0.000000  0.332129  1111.000000  2222.000000 NaN  3\n",
      "2013-01-04 -0.804516 -0.303612     1.249733     0.118155 NaN  4\n",
      "2013-01-05  0.000000  0.038957     0.073890     0.103183 NaN  5\n",
      "2013-01-06 -0.931305 -0.191944     0.569369     1.130058 NaN  6\n"
     ]
    }
   ],
   "source": [
    "# %load 13_set_value.py\n",
    "# View more python tutorials on my Youtube and Youku channel!!!\n",
    "\n",
    "# Youtube video tutorial: https://www.youtube.com/channel/UCdyjiB5H8Pu7aDTNVXTTpcg\n",
    "# Youku video tutorial: http://i.youku.com/pythontutorial\n",
    "\n",
    "\"\"\"\n",
    "Please note, this code is only for python 3+. If you are using python 2+, please modify the code accordingly.\n",
    "\"\"\"\n",
    "from __future__ import print_function\n",
    "import pandas as pd\n",
    "import numpy as np\n",
    "\n",
    "dates = pd.date_range('20130101', periods=6)\n",
    "df = pd.DataFrame(np.random.randn(6,4), index=dates, columns=['A', 'B', 'C', 'D'])\n",
    "\n",
    "df.iloc[2,2] = 1111\n",
    "df.loc['2013-01-03', 'D'] = 2222\n",
    "df.A[df.A>0] = 0\n",
    "df['F'] = np.nan\n",
    "# df['G']  = pd.Series([1,2,3,4,5,6], index=pd.date_range('20130101', periods=6))\n",
    "df['G']  = pd.Series([1,2,3,4,5,6], index=dates)\n",
    "print(df)"
   ]
  },
  {
   "cell_type": "code",
   "execution_count": null,
   "metadata": {
    "collapsed": true
   },
   "outputs": [],
   "source": []
  }
 ],
 "metadata": {
  "kernelspec": {
   "display_name": "Python 3 (ipykernel)",
   "language": "python",
   "name": "python3"
  },
  "language_info": {
   "codemirror_mode": {
    "name": "ipython",
    "version": 3
   },
   "file_extension": ".py",
   "mimetype": "text/x-python",
   "name": "python",
   "nbconvert_exporter": "python",
   "pygments_lexer": "ipython3",
   "version": "3.10.7"
  }
 },
 "nbformat": 4,
 "nbformat_minor": 1
}
