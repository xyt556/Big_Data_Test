{
 "cells": [
  {
   "cell_type": "code",
   "execution_count": 1,
   "metadata": {},
   "outputs": [
    {
     "name": "stdout",
     "output_type": "stream",
     "text": [
      "                   A         B         C         D\n",
      "2013-01-01 -0.605547  0.769612 -0.381744  0.290438\n",
      "2013-01-02  0.321672  0.261867  0.121969 -0.164090\n",
      "2013-01-03  1.811093 -1.006420 -1.280430 -0.433765\n",
      "2013-01-04 -0.100918 -0.944671  2.500459 -0.400230\n",
      "2013-01-05 -0.501122  0.139117 -1.724382 -0.877443\n",
      "2013-01-06 -1.043180 -0.748694  0.122061  0.326495\n",
      "2013-01-07 -0.362766  1.388029 -0.082386  0.265545\n",
      "2013-01-08  1.857551  0.148711  3.035157 -1.127531\n",
      "2013-01-09 -0.914513 -1.164031 -2.142263 -0.353117\n",
      "2013-01-10 -0.226360 -2.266750 -0.225119 -1.312744\n",
      "-------------------\n",
      "2013-01-01   -0.605547\n",
      "2013-01-02    0.321672\n",
      "2013-01-03    1.811093\n",
      "2013-01-04   -0.100918\n",
      "2013-01-05   -0.501122\n",
      "2013-01-06   -1.043180\n",
      "2013-01-07   -0.362766\n",
      "2013-01-08    1.857551\n",
      "2013-01-09   -0.914513\n",
      "2013-01-10   -0.226360\n",
      "Freq: D, Name: A, dtype: float64 2013-01-01   -0.605547\n",
      "2013-01-02    0.321672\n",
      "2013-01-03    1.811093\n",
      "2013-01-04   -0.100918\n",
      "2013-01-05   -0.501122\n",
      "2013-01-06   -1.043180\n",
      "2013-01-07   -0.362766\n",
      "2013-01-08    1.857551\n",
      "2013-01-09   -0.914513\n",
      "2013-01-10   -0.226360\n",
      "Freq: D, Name: A, dtype: float64\n",
      "-------------------\n",
      "                   A         B         C         D\n",
      "2013-01-01 -0.605547  0.769612 -0.381744  0.290438\n",
      "2013-01-02  0.321672  0.261867  0.121969 -0.164090\n",
      "2013-01-03  1.811093 -1.006420 -1.280430 -0.433765\n",
      "-------------------\n",
      "                   A         B         C         D\n",
      "2013-01-02  0.321672  0.261867  0.121969 -0.164090\n",
      "2013-01-03  1.811093 -1.006420 -1.280430 -0.433765\n",
      "2013-01-04 -0.100918 -0.944671  2.500459 -0.400230\n"
     ]
    }
   ],
   "source": [
    "# %load 12_selection.py\n",
    "# View more python tutorials on my Youtube and Youku channel!!!\n",
    "\n",
    "# Youtube video tutorial: https://www.youtube.com/channel/UCdyjiB5H8Pu7aDTNVXTTpcg\n",
    "# Youku video tutorial: http://i.youku.com/pythontutorial\n",
    "\"\"\"\n",
    "Please note, this code is only for python 3+. If you are using python 2+, please modify the code accordingly.\n",
    "\"\"\"\n",
    "from __future__ import print_function\n",
    "import pandas as pd\n",
    "import numpy as np\n",
    "\n",
    "dates = pd.date_range('20130101', periods=10)\n",
    "df = pd.DataFrame(np.random.randn(10,4), index=dates, columns=['A', 'B', 'C', 'D'])\n",
    "print(df)\n",
    "print('-------------------')\n",
    "print(df['A'], df.A)\n",
    "print('-------------------')\n",
    "print(df[0:3])\n",
    "print('-------------------')\n",
    "print(df['20130102':'20130104'])"
   ]
  },
  {
   "cell_type": "code",
   "execution_count": 2,
   "metadata": {},
   "outputs": [
    {
     "name": "stdout",
     "output_type": "stream",
     "text": [
      "A    0.321672\n",
      "B    0.261867\n",
      "C    0.121969\n",
      "D   -0.164090\n",
      "Name: 2013-01-02 00:00:00, dtype: float64\n",
      "-------------------\n",
      "                   A         B\n",
      "2013-01-01 -0.605547  0.769612\n",
      "2013-01-02  0.321672  0.261867\n",
      "2013-01-03  1.811093 -1.006420\n",
      "2013-01-04 -0.100918 -0.944671\n",
      "2013-01-05 -0.501122  0.139117\n",
      "2013-01-06 -1.043180 -0.748694\n",
      "2013-01-07 -0.362766  1.388029\n",
      "2013-01-08  1.857551  0.148711\n",
      "2013-01-09 -0.914513 -1.164031\n",
      "2013-01-10 -0.226360 -2.266750\n",
      "-------------------\n",
      "A    0.321672\n",
      "B    0.261867\n",
      "Name: 2013-01-02 00:00:00, dtype: float64\n"
     ]
    }
   ],
   "source": [
    "# select by label: loc\n",
    "print(df.loc['20130102'])\n",
    "print('-------------------')\n",
    "print(df.loc[:,['A','B']])\n",
    "print('-------------------')\n",
    "print(df.loc['20130102', ['A','B']])"
   ]
  },
  {
   "cell_type": "code",
   "execution_count": 3,
   "metadata": {},
   "outputs": [
    {
     "name": "stdout",
     "output_type": "stream",
     "text": [
      "A   -0.100918\n",
      "B   -0.944671\n",
      "C    2.500459\n",
      "D   -0.400230\n",
      "Name: 2013-01-04 00:00:00, dtype: float64\n",
      "-0.944671105514426\n",
      "                   A         B\n",
      "2013-01-04 -0.100918 -0.944671\n",
      "2013-01-05 -0.501122  0.139117\n",
      "                   A         C\n",
      "2013-01-02  0.321672  0.121969\n",
      "2013-01-03  1.811093 -1.280430\n",
      "2013-01-05 -0.501122 -1.724382\n"
     ]
    }
   ],
   "source": [
    "# select by position: iloc\n",
    "print(df.iloc[3])\n",
    "print(df.iloc[3, 1])\n",
    "print(df.iloc[3:5,0:2])\n",
    "print(df.iloc[[1,2,4],[0,2]])\n",
    "\n"
   ]
  },
  {
   "cell_type": "code",
   "execution_count": 8,
   "metadata": {},
   "outputs": [
    {
     "name": "stdout",
     "output_type": "stream",
     "text": [
      "                   A         C\n",
      "2013-01-01 -0.605547 -0.381744\n",
      "2013-01-02  0.321672  0.121969\n",
      "2013-01-03  1.811093 -1.280430\n",
      "2013-01-04 -0.100918  2.500459\n",
      "                   A         B         C         D\n",
      "2013-01-02  0.321672  0.261867  0.121969 -0.164090\n",
      "2013-01-03  1.811093 -1.006420 -1.280430 -0.433765\n",
      "2013-01-08  1.857551  0.148711  3.035157 -1.127531\n"
     ]
    }
   ],
   "source": [
    "# mixed selection: ix,在pandas版本0.20.0及其以后版本中，ix已经不被推荐使用，改为loc\n",
    "print(df.loc[:'2013-01-04', ['A', 'C']])\n",
    "# Boolean indexing\n",
    "print(df[df.A > 0])"
   ]
  },
  {
   "cell_type": "code",
   "execution_count": null,
   "metadata": {},
   "outputs": [],
   "source": []
  }
 ],
 "metadata": {
  "kernelspec": {
   "display_name": "Python 3 (ipykernel)",
   "language": "python",
   "name": "python3"
  },
  "language_info": {
   "codemirror_mode": {
    "name": "ipython",
    "version": 3
   },
   "file_extension": ".py",
   "mimetype": "text/x-python",
   "name": "python",
   "nbconvert_exporter": "python",
   "pygments_lexer": "ipython3",
   "version": "3.10.7"
  }
 },
 "nbformat": 4,
 "nbformat_minor": 1
}
