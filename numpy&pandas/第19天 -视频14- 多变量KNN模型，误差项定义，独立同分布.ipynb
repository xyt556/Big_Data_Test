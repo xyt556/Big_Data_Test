{
 "cells": [
  {
   "cell_type": "markdown",
   "metadata": {},
   "source": [
    "# 多变量KNN模型：预测一个年龄为30，烟龄为12，没有Cancer的人，是否有DHPV"
   ]
  },
  {
   "cell_type": "code",
   "execution_count": 21,
   "metadata": {},
   "outputs": [
    {
     "name": "stdout",
     "output_type": "stream",
     "text": [
      "(858, 5)\n"
     ]
    },
    {
     "data": {
      "text/html": [
       "<div>\n",
       "<style scoped>\n",
       "    .dataframe tbody tr th:only-of-type {\n",
       "        vertical-align: middle;\n",
       "    }\n",
       "\n",
       "    .dataframe tbody tr th {\n",
       "        vertical-align: top;\n",
       "    }\n",
       "\n",
       "    .dataframe thead th {\n",
       "        text-align: right;\n",
       "    }\n",
       "</style>\n",
       "<table border=\"1\" class=\"dataframe\">\n",
       "  <thead>\n",
       "    <tr style=\"text-align: right;\">\n",
       "      <th></th>\n",
       "      <th>Age</th>\n",
       "      <th>Smoke</th>\n",
       "      <th>Smokeyear</th>\n",
       "      <th>DC</th>\n",
       "      <th>DHPV</th>\n",
       "    </tr>\n",
       "  </thead>\n",
       "  <tbody>\n",
       "    <tr>\n",
       "      <th>0</th>\n",
       "      <td>-1.038563</td>\n",
       "      <td>-0.409081</td>\n",
       "      <td>-0.295999</td>\n",
       "      <td>-0.146385</td>\n",
       "      <td>-0.146385</td>\n",
       "    </tr>\n",
       "    <tr>\n",
       "      <th>1</th>\n",
       "      <td>-1.391796</td>\n",
       "      <td>-0.409081</td>\n",
       "      <td>-0.295999</td>\n",
       "      <td>-0.146385</td>\n",
       "      <td>-0.146385</td>\n",
       "    </tr>\n",
       "    <tr>\n",
       "      <th>2</th>\n",
       "      <td>0.845342</td>\n",
       "      <td>-0.409081</td>\n",
       "      <td>-0.295999</td>\n",
       "      <td>-0.146385</td>\n",
       "      <td>-0.146385</td>\n",
       "    </tr>\n",
       "    <tr>\n",
       "      <th>3</th>\n",
       "      <td>2.964736</td>\n",
       "      <td>2.444506</td>\n",
       "      <td>8.821219</td>\n",
       "      <td>6.831301</td>\n",
       "      <td>6.831301</td>\n",
       "    </tr>\n",
       "    <tr>\n",
       "      <th>4</th>\n",
       "      <td>2.258271</td>\n",
       "      <td>-0.409081</td>\n",
       "      <td>-0.295999</td>\n",
       "      <td>-0.146385</td>\n",
       "      <td>-0.146385</td>\n",
       "    </tr>\n",
       "  </tbody>\n",
       "</table>\n",
       "</div>"
      ],
      "text/plain": [
       "        Age     Smoke  Smokeyear        DC      DHPV\n",
       "0 -1.038563 -0.409081  -0.295999 -0.146385 -0.146385\n",
       "1 -1.391796 -0.409081  -0.295999 -0.146385 -0.146385\n",
       "2  0.845342 -0.409081  -0.295999 -0.146385 -0.146385\n",
       "3  2.964736  2.444506   8.821219  6.831301  6.831301\n",
       "4  2.258271 -0.409081  -0.295999 -0.146385 -0.146385"
      ]
     },
     "execution_count": 21,
     "metadata": {},
     "output_type": "execute_result"
    }
   ],
   "source": [
    "# 导入所用的读取数据的包，用于对数据进行预处理： 标准化的函数StandardScaler\n",
    "import pandas as pd\n",
    "from sklearn.preprocessing import StandardScaler\n",
    "\n",
    "# 读取所需要的文件\n",
    "data = pd.read_csv('./data/risk.csv')\n",
    "\n",
    "\n",
    "\n",
    "# 对属性列，进行转换类型\n",
    "# 找出所有的属性名，并转换成列表\n",
    "cols = list(data.columns)\n",
    "# 将所有的列都转换成数值型，将转换过程中出错的，填入Nan,然后填入0\n",
    "data = data[cols].apply(pd.to_numeric,errors = 'coerce').fillna('0.0')\n",
    "# 最后将所有的列转换为float型\n",
    "data = pd.DataFrame(data,dtype = 'float')\n",
    "# 查看属性列的类型: 全为float型\n",
    "data.dtypes\n",
    "\n",
    "\n",
    "\n",
    "\n",
    "# 将数据中的属性列重新命名: columns = {'Smokes':'Smoke','Smokes (years)':'Smokeyear'}\n",
    "#    ,inplace = True: 一定要指定为True，否则就相当于没有任何作用               \n",
    "data.rename(columns = {'Smokes':'Smoke','Smokes (years)':'Smokeyear',\n",
    "                              'Dx:Cancer':'DC','Dx:HPV':'DHPV'},inplace = True)\n",
    "\n",
    "# 选取特征值的属性名\n",
    "feature = ['Age','Smoke','Smokeyear','DC','DHPV']\n",
    "# 从数据集中选出特征值的属性列，并且赋值给新的变量\n",
    "data = data[feature]\n",
    "\n",
    "\n",
    "\n",
    "data['Smokeyear'] = data.Smokeyear.astype(float)\n",
    "\n",
    "\n",
    "# 将该数据转换成标准化数据\n",
    "data[feature] = StandardScaler().fit_transform(data[feature])\n",
    "print(data.shape)\n",
    "data.head()\n"
   ]
  },
  {
   "cell_type": "markdown",
   "metadata": {},
   "source": [
    "# 此时就可以得到一个经过标准化与处理的数据了"
   ]
  },
  {
   "cell_type": "code",
   "execution_count": 22,
   "metadata": {},
   "outputs": [],
   "source": [
    "# 查看属性列的类型\n",
    "# data.dtypes"
   ]
  },
  {
   "cell_type": "code",
   "execution_count": 23,
   "metadata": {},
   "outputs": [],
   "source": [
    "# 划分训练集和测试集\n",
    "norm_train_df = data.copy().iloc[:636]\n",
    "norm_test_df = data.copy().iloc[636:]"
   ]
  },
  {
   "cell_type": "markdown",
   "metadata": {},
   "source": [
    "多变量的距离的计算"
   ]
  },
  {
   "cell_type": "code",
   "execution_count": 24,
   "metadata": {},
   "outputs": [
    {
     "data": {
      "text/plain": [
       "2.94360254018141"
      ]
     },
     "execution_count": 24,
     "metadata": {},
     "output_type": "execute_result"
    }
   ],
   "source": [
    "# scipy 中关于统计的包，导入欧氏距离\n",
    "from scipy.spatial import distance\n",
    "\n",
    "# 拿到三个样本\n",
    "first_data = data.iloc[0][['Age','Smokeyear','DC']]\n",
    "fifth_data = data.iloc[20][['Age','Smokeyear','DC']]\n",
    "\n",
    "# 直接调入distance 中的欧氏距离，将两个样本传进去，distance.euclidean()\n",
    "first_fifth_distance = distance.euclidean(first_data,fifth_data)\n",
    "first_fifth_distance"
   ]
  },
  {
   "cell_type": "markdown",
   "metadata": {},
   "source": [
    "# 多变量KNN模型"
   ]
  },
  {
   "cell_type": "code",
   "execution_count": 25,
   "metadata": {},
   "outputs": [
    {
     "name": "stdout",
     "output_type": "stream",
     "text": [
      "0.4956144001475678\n"
     ]
    }
   ],
   "source": [
    "# 评估：  多变量预测dhpv模型\n",
    "def predict_dhpv_multivariate(new_data_value,feature_columns):\n",
    "    temp_df = norm_train_df\n",
    "    temp_df['distance'] = distance.cdist(temp_df[feature_columns],[new_data_value[feature_columns]])\n",
    "    temp_df = temp_df.sort_values('distance')\n",
    "    knn8 = temp_df.DHPV.iloc[:5]\n",
    "    predict_dhpv = knn8.mean()\n",
    "    return(predict_dhpv)\n",
    "\n",
    "cols = ['Age','Smokeyear','DC']\n",
    "norm_test_df['predict_dhpv'] = norm_test_df[cols].apply(predict_dhpv_multivariate,feature_columns = cols,axis = 1)\n",
    "norm_test_df['squared_error'] = (norm_test_df['predict_dhpv'] - norm_test_df['DHPV'])**(2)\n",
    "mse = norm_test_df['squared_error'].mean()\n",
    "rmse = mse ** (1/2)\n",
    "print(rmse)"
   ]
  },
  {
   "cell_type": "markdown",
   "metadata": {},
   "source": [
    "# 使用Sklearn 来完成KNN "
   ]
  },
  {
   "cell_type": "code",
   "execution_count": 33,
   "metadata": {},
   "outputs": [],
   "source": [
    "from sklearn.neighbors import KNeighborsRegressor\n",
    "\n",
    "cols = ['Age','Smokeyear','DC']\n",
    "# 实例化一个可能knn 的对象\n",
    "# 默认值为n_neighbors = 5,可以通过调节值的大小,来找到误差值的最小值\n",
    "knn = KNeighborsRegressor(n_neighbors = 5)\n",
    "\n",
    "# 利用Fit() 函数，进行模型的训练，（） 函数中传进来训练集的x(norm_train_df[cols],\n",
    "                          #  y (norm_train_df['DHPV'])\n",
    "knn.fit(norm_train_df[cols],norm_train_df['DHPV'])\n",
    "\n",
    "# 用测试集预测测试集的结果\n",
    "three_feature_predictions = knn.predict(norm_test_df[cols])"
   ]
  },
  {
   "cell_type": "code",
   "execution_count": 34,
   "metadata": {},
   "outputs": [
    {
     "name": "stdout",
     "output_type": "stream",
     "text": [
      "0.4956144001475678\n"
     ]
    }
   ],
   "source": [
    "from sklearn.metrics import mean_squared_error\n",
    "\n",
    "three_feature_mse = mean_squared_error(norm_test_df['DHPV'],three_feature_predictions)\n",
    "three_feature_rmse = three_feature_mse ** (1/2)\n",
    "print(three_feature_rmse)"
   ]
  },
  {
   "cell_type": "markdown",
   "metadata": {},
   "source": [
    "加入更多的特征值"
   ]
  },
  {
   "cell_type": "code",
   "execution_count": 37,
   "metadata": {},
   "outputs": [
    {
     "name": "stdout",
     "output_type": "stream",
     "text": [
      "0.4956144001475678\n"
     ]
    }
   ],
   "source": [
    "knn = KNeighborsRegressor()\n",
    "\n",
    "cols = ['Age','Smoke','Smokeyear','DC']\n",
    "knn.fit(norm_train_df[cols],norm_train_df['DHPV'])\n",
    "\n",
    "# 用测试集预测测试集的结果\n",
    "four_feature_predictions = knn.predict(norm_test_df[cols])\n",
    "four_feature_mse = mean_squared_error(norm_test_df['DHPV'],four_feature_predictions)\n",
    "four_feature_rmse = four_feature_mse ** (1/2)\n",
    "print(four_feature_rmse)"
   ]
  },
  {
   "cell_type": "markdown",
   "metadata": {},
   "source": [
    "# 参数更多的话，应该会使模型进行调优，选择更多的特征，\n",
    "K近邻可以做分类做回归；"
   ]
  },
  {
   "cell_type": "markdown",
   "metadata": {},
   "source": [
    "# 回归问题\n",
    "一个例子：\n",
    "- 数据：工资和年龄（2 个特征）\n",
    "- 目标：预测银行会贷给我多少钱（标签）\n",
    "- 考虑：工资和年龄都会影响最终银行贷款的结果那么各自有多大的影响呢？（参数）\n",
    "- 找到最合适的一条线，（想像一个高维）来最好的拟合我们的数据点"
   ]
  },
  {
   "cell_type": "markdown",
   "metadata": {},
   "source": [
    "# 误差项定义\n",
    "- 第一点： 假设a1是年龄的参数，a2 是工资的参数\n",
    "- 第二点：拟合的平面：Ha(x) = a0 + a1*x1 + a2*x2(a0 是偏置项： 上下的微调)\n",
    "- 第三点：整合：Ha(x) = a1*x1(所有的相加)\n",
    "- 第四点：真实值和预测值之间存在着误差，用（b）表示"
   ]
  },
  {
   "cell_type": "markdown",
   "metadata": {},
   "source": [
    "# 独立同分布 \n",
    "- 误差：独立同分布，并且服从均值为0，方差为b2的高斯分布，（正态分布）\n",
    "- 独立：张三和李四一起来贷款，他两没关系，（贷款的多少）\n",
    "- 同分布： 他两都来我们这件银行\n",
    "- 高斯分布：银行可能会多给，也可能会少给，绝大多数情况下，浮动不大，符合正常情况"
   ]
  },
  {
   "cell_type": "code",
   "execution_count": null,
   "metadata": {},
   "outputs": [],
   "source": []
  }
 ],
 "metadata": {
  "kernelspec": {
   "display_name": "Python 3",
   "language": "python",
   "name": "python3"
  },
  "language_info": {
   "codemirror_mode": {
    "name": "ipython",
    "version": 3
   },
   "file_extension": ".py",
   "mimetype": "text/x-python",
   "name": "python",
   "nbconvert_exporter": "python",
   "pygments_lexer": "ipython3",
   "version": "3.7.3"
  }
 },
 "nbformat": 4,
 "nbformat_minor": 2
}
