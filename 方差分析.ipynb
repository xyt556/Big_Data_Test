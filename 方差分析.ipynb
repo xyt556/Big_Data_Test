{
  "cells": [
    {
      "cell_type": "markdown",
      "metadata": {
        "id": "view-in-github",
        "colab_type": "text"
      },
      "source": [
        "<a href=\"https://colab.research.google.com/github/xyt556/Big_Data_Test/blob/master/%E6%96%B9%E5%B7%AE%E5%88%86%E6%9E%90.ipynb\" target=\"_parent\"><img src=\"https://colab.research.google.com/assets/colab-badge.svg\" alt=\"Open In Colab\"/></a>"
      ]
    },
    {
      "cell_type": "markdown",
      "metadata": {
        "id": "qoOWPA-sVW_R"
      },
      "source": [
        "# <div align='center'>第5章 方差分析</div>\n",
        "### 内容<br>\n",
        " <div align='left'>                  \n",
        "     <font color='steelblue' size=4>\n",
        "       5.1 单因素方差分析<br><br>     \n",
        "       5.2 双因素方差分析<br><br>          \n",
        "      </font>\n",
        "</div>"
      ]
    },
    {
      "cell_type": "markdown",
      "metadata": {
        "id": "OUGgCKQAVW_U"
      },
      "source": [
        "------------------"
      ]
    },
    {
      "cell_type": "markdown",
      "metadata": {
        "id": "E2BI1rEKVW_W"
      },
      "source": [
        "## 5.1 单因素方差分析"
      ]
    },
    {
      "cell_type": "markdown",
      "metadata": {
        "id": "xYC1IXYkVW_X"
      },
      "source": [
        "#### 例1：\n",
        "![5.%E5%9B%9E%E5%BD%92%E5%88%86%E6%9E%901_7.jpg](attachment:5.%E5%9B%9E%E5%BD%92%E5%88%86%E6%9E%901_7.jpg)"
      ]
    },
    {
      "cell_type": "markdown",
      "metadata": {
        "id": "9Z2bu1rnVW_Y"
      },
      "source": [
        "### 5.1.1 单因素方差分析示例"
      ]
    },
    {
      "cell_type": "code",
      "execution_count": 1,
      "metadata": {
        "id": "p3RZT6B9VW_Y"
      },
      "outputs": [],
      "source": [
        "'''\n",
        "导入所有必需的包\n",
        "'''\n",
        "%reset -f\n",
        "import statsmodels.api as sm\n",
        "from  statsmodels.stats.anova import anova_lm\n",
        "import statsmodels.formula.api as smf\n",
        "import statsmodels.stats.anova as sma\n",
        "\n",
        "import numpy as np\n",
        "import pandas as pd\n",
        "import scipy.stats as st\n",
        "import patsy\n",
        "import seaborn as sns\n",
        "import matplotlib.pyplot as plt"
      ]
    },
    {
      "cell_type": "code",
      "execution_count": 2,
      "metadata": {
        "colab": {
          "base_uri": "https://localhost:8080/"
        },
        "id": "d4ELuIuRVW_Z",
        "outputId": "3993f073-e731-4307-e8e5-66278ada3af8"
      },
      "outputs": [
        {
          "output_type": "stream",
          "name": "stdout",
          "text": [
            "                         单因素方差分析表\n",
            "方差来源    自由度    平方和           均方            F         P值\n",
            "因素A       3       49212.353480    16404.117827    2.165921   0.120838\n",
            "误差        22      166622.261905   7573.739177    \n",
            "总和        25      215834.615385\n"
          ]
        }
      ],
      "source": [
        "'''\n",
        "手工计算单因素方差分析表的各变量。\n",
        "计算过程相对简单。\n",
        "'''\n",
        "A1  = np.array([1600., 1610., 1650., 1680., 1700., 1700., 1780.],dtype='float')\n",
        "A2 = np.array([1500., 1640., 1400.,1700., 1750.],dtype='float')\n",
        "A3 = np.array([1640., 1550., 1600., 1620., 1640., 1600., 1740., 1800.],dtype='float')\n",
        "A4  = np.array([1510.,1520., 1530., 1570., 1640., 1600.],dtype='float')\n",
        "#数据总量\n",
        "n=len(A1)+len(A2)+len(A3)+len(A4)\n",
        "#水平数或组数\n",
        "r=4\n",
        "###各水平均值\n",
        "mu1=np.mean(A1)\n",
        "mu2=np.mean(A2)\n",
        "mu3=np.mean(A3)\n",
        "mu4=np.mean(A4)\n",
        "#总均值\n",
        "mu=(np.sum(A1)+np.sum(A2)+np.sum(A3)+np.sum(A4))/n\n",
        "###组内平方和或误差平方和\n",
        "se=np.sum((A1-mu1)**2)+np.sum((A2-mu2)**2)+np.sum((A3-mu3)**2)+np.sum((A4-mu4)**2)\n",
        "###组间平方和或效应平方和\n",
        "sa=len(A1)*(mu1-mu)**2+len(A2)*(mu2-mu)**2+len(A3)*(mu3-mu)**2+len(A4)*(mu4-mu)**2\n",
        "###组内和组间均方，二者皆是实验数据方差的无偏估计。\n",
        "mse=se/(n-r)\n",
        "msa=sa/(r-1)\n",
        "###F值\n",
        "F=msa/mse\n",
        "###F检验p值\n",
        "pvalue=st.f.sf(F,r-1,n-r)\n",
        "\n",
        "###打印各项统计量\n",
        "print('                         单因素方差分析表')\n",
        "print('方差来源    自由度    平方和           均方            F         P值')\n",
        "print('因素A       %d       %0.6f    %0.6f    %0.6f   %0.6f'%(r-1,sa,msa,F,pvalue))\n",
        "print('误差        %d      %0.6f   %0.6f    '%(n-r,se,mse))\n",
        "print('总和        %d      %0.6f'%(n-1,se+sa))"
      ]
    },
    {
      "cell_type": "code",
      "execution_count": 3,
      "metadata": {
        "colab": {
          "base_uri": "https://localhost:8080/",
          "height": 586
        },
        "id": "d3wRVDcxVW_b",
        "outputId": "db10ccd5-007a-495e-ad91-a7f4628a4b5c"
      },
      "outputs": [
        {
          "output_type": "stream",
          "name": "stdout",
          "text": [
            "\n",
            "                ---------单因素方差表---------\n",
            "                   df         sum_sq       mean_sq         F    PR(>F)\n",
            "C(levels, Sum)   3.0   49212.353480  16404.117827  2.165921  0.120838\n",
            "Residual        22.0  166622.261905   7573.739177       NaN       NaN\n"
          ]
        },
        {
          "output_type": "execute_result",
          "data": {
            "text/plain": [
              "<class 'statsmodels.iolib.summary.Summary'>\n",
              "\"\"\"\n",
              "                            OLS Regression Results                            \n",
              "==============================================================================\n",
              "Dep. Variable:                   Data   R-squared:                       0.228\n",
              "Model:                            OLS   Adj. R-squared:                  0.123\n",
              "Method:                 Least Squares   F-statistic:                     2.166\n",
              "Date:                Sun, 23 Oct 2022   Prob (F-statistic):              0.121\n",
              "Time:                        10:14:12   Log-Likelihood:                -150.84\n",
              "No. Observations:                  26   AIC:                             309.7\n",
              "Df Residuals:                      22   BIC:                             314.7\n",
              "Df Model:                           3                                         \n",
              "Covariance Type:            nonrobust                                         \n",
              "========================================================================================\n",
              "                           coef    std err          t      P>|t|      [0.025      0.975]\n",
              "----------------------------------------------------------------------------------------\n",
              "Intercept             1620.6756     17.331     93.514      0.000    1584.734    1656.618\n",
              "C(levels, Sum)[S.A1]    53.6101     29.006      1.848      0.078      -6.544     113.765\n",
              "C(levels, Sum)[S.A2]   -22.6756     32.523     -0.697      0.493     -90.124      44.773\n",
              "C(levels, Sum)[S.A3]    28.0744     27.816      1.009      0.324     -29.612      85.761\n",
              "==============================================================================\n",
              "Omnibus:                        0.292   Durbin-Watson:                   1.993\n",
              "Prob(Omnibus):                  0.864   Jarque-Bera (JB):                0.001\n",
              "Skew:                          -0.018   Prob(JB):                        0.999\n",
              "Kurtosis:                       2.996   Cond. No.                         2.20\n",
              "==============================================================================\n",
              "\n",
              "Notes:\n",
              "[1] Standard Errors assume that the covariance matrix of the errors is correctly specified.\n",
              "\"\"\""
            ],
            "text/html": [
              "<table class=\"simpletable\">\n",
              "<caption>OLS Regression Results</caption>\n",
              "<tr>\n",
              "  <th>Dep. Variable:</th>          <td>Data</td>       <th>  R-squared:         </th> <td>   0.228</td>\n",
              "</tr>\n",
              "<tr>\n",
              "  <th>Model:</th>                   <td>OLS</td>       <th>  Adj. R-squared:    </th> <td>   0.123</td>\n",
              "</tr>\n",
              "<tr>\n",
              "  <th>Method:</th>             <td>Least Squares</td>  <th>  F-statistic:       </th> <td>   2.166</td>\n",
              "</tr>\n",
              "<tr>\n",
              "  <th>Date:</th>             <td>Sun, 23 Oct 2022</td> <th>  Prob (F-statistic):</th>  <td> 0.121</td> \n",
              "</tr>\n",
              "<tr>\n",
              "  <th>Time:</th>                 <td>10:14:12</td>     <th>  Log-Likelihood:    </th> <td> -150.84</td>\n",
              "</tr>\n",
              "<tr>\n",
              "  <th>No. Observations:</th>      <td>    26</td>      <th>  AIC:               </th> <td>   309.7</td>\n",
              "</tr>\n",
              "<tr>\n",
              "  <th>Df Residuals:</th>          <td>    22</td>      <th>  BIC:               </th> <td>   314.7</td>\n",
              "</tr>\n",
              "<tr>\n",
              "  <th>Df Model:</th>              <td>     3</td>      <th>                     </th>     <td> </td>   \n",
              "</tr>\n",
              "<tr>\n",
              "  <th>Covariance Type:</th>      <td>nonrobust</td>    <th>                     </th>     <td> </td>   \n",
              "</tr>\n",
              "</table>\n",
              "<table class=\"simpletable\">\n",
              "<tr>\n",
              "            <td></td>              <th>coef</th>     <th>std err</th>      <th>t</th>      <th>P>|t|</th>  <th>[0.025</th>    <th>0.975]</th>  \n",
              "</tr>\n",
              "<tr>\n",
              "  <th>Intercept</th>            <td> 1620.6756</td> <td>   17.331</td> <td>   93.514</td> <td> 0.000</td> <td> 1584.734</td> <td> 1656.618</td>\n",
              "</tr>\n",
              "<tr>\n",
              "  <th>C(levels, Sum)[S.A1]</th> <td>   53.6101</td> <td>   29.006</td> <td>    1.848</td> <td> 0.078</td> <td>   -6.544</td> <td>  113.765</td>\n",
              "</tr>\n",
              "<tr>\n",
              "  <th>C(levels, Sum)[S.A2]</th> <td>  -22.6756</td> <td>   32.523</td> <td>   -0.697</td> <td> 0.493</td> <td>  -90.124</td> <td>   44.773</td>\n",
              "</tr>\n",
              "<tr>\n",
              "  <th>C(levels, Sum)[S.A3]</th> <td>   28.0744</td> <td>   27.816</td> <td>    1.009</td> <td> 0.324</td> <td>  -29.612</td> <td>   85.761</td>\n",
              "</tr>\n",
              "</table>\n",
              "<table class=\"simpletable\">\n",
              "<tr>\n",
              "  <th>Omnibus:</th>       <td> 0.292</td> <th>  Durbin-Watson:     </th> <td>   1.993</td>\n",
              "</tr>\n",
              "<tr>\n",
              "  <th>Prob(Omnibus):</th> <td> 0.864</td> <th>  Jarque-Bera (JB):  </th> <td>   0.001</td>\n",
              "</tr>\n",
              "<tr>\n",
              "  <th>Skew:</th>          <td>-0.018</td> <th>  Prob(JB):          </th> <td>   0.999</td>\n",
              "</tr>\n",
              "<tr>\n",
              "  <th>Kurtosis:</th>      <td> 2.996</td> <th>  Cond. No.          </th> <td>    2.20</td>\n",
              "</tr>\n",
              "</table><br/><br/>Notes:<br/>[1] Standard Errors assume that the covariance matrix of the errors is correctly specified."
            ]
          },
          "metadata": {},
          "execution_count": 3
        }
      ],
      "source": [
        "'''\n",
        "调用Statsmodels实现方差分析\n",
        "'''\n",
        "###将水平与每个数据一一对应，然后生成DataFrame\n",
        "levels = np.repeat(['A1','A2','A3','A4'],[7,5,8,6])\n",
        "A = np.concatenate((A1,A2,A3,A4),axis=0)\n",
        "Mat_lifetime = pd.DataFrame({'levels':levels,'Data':A})\n",
        "\n",
        "###通过patsy的C函数对因素(水平)进行编码后，与数据进行线性回归拟合\n",
        "data_lm = smf.ols('Data ~ C(levels,Sum)',data=Mat_lifetime).fit()\n",
        "\n",
        "###通过Statsmodels的anova_lm函数对回归结果进行方差分析\n",
        "table = sma.anova_lm(data_lm)\n",
        "print('\\n                ---------单因素方差表---------\\n',table)\n",
        "\n",
        "###显示回归结果\n",
        "data_lm.summary()"
      ]
    },
    {
      "cell_type": "code",
      "execution_count": 4,
      "metadata": {
        "colab": {
          "base_uri": "https://localhost:8080/"
        },
        "id": "tqezMFXJVW_b",
        "outputId": "783730e7-30d3-4288-e2f9-697872feb09f"
      },
      "outputs": [
        {
          "output_type": "execute_result",
          "data": {
            "text/plain": [
              "array([[ 1.,  1.,  0.,  0.],\n",
              "       [ 1.,  1.,  0.,  0.],\n",
              "       [ 1.,  1.,  0.,  0.],\n",
              "       [ 1.,  1.,  0.,  0.],\n",
              "       [ 1.,  1.,  0.,  0.],\n",
              "       [ 1.,  1.,  0.,  0.],\n",
              "       [ 1.,  1.,  0.,  0.],\n",
              "       [ 1.,  0.,  1.,  0.],\n",
              "       [ 1.,  0.,  1.,  0.],\n",
              "       [ 1.,  0.,  1.,  0.],\n",
              "       [ 1.,  0.,  1.,  0.],\n",
              "       [ 1.,  0.,  1.,  0.],\n",
              "       [ 1.,  0.,  0.,  1.],\n",
              "       [ 1.,  0.,  0.,  1.],\n",
              "       [ 1.,  0.,  0.,  1.],\n",
              "       [ 1.,  0.,  0.,  1.],\n",
              "       [ 1.,  0.,  0.,  1.],\n",
              "       [ 1.,  0.,  0.,  1.],\n",
              "       [ 1.,  0.,  0.,  1.],\n",
              "       [ 1.,  0.,  0.,  1.],\n",
              "       [ 1., -1., -1., -1.],\n",
              "       [ 1., -1., -1., -1.],\n",
              "       [ 1., -1., -1., -1.],\n",
              "       [ 1., -1., -1., -1.],\n",
              "       [ 1., -1., -1., -1.],\n",
              "       [ 1., -1., -1., -1.]])"
            ]
          },
          "metadata": {},
          "execution_count": 4
        }
      ],
      "source": [
        "###使用patsy的dmatrix函数进行因素编码\n",
        "np.array(patsy.dmatrix('C(levels, Sum)'))"
      ]
    },
    {
      "cell_type": "markdown",
      "metadata": {
        "id": "931orhSOVW_c"
      },
      "source": [
        "### 5.1.2 均值多重比较\n",
        "多重t检验，将多个水平的数据两两检验他们之间的均值是否相等![5.%E5%9B%9E%E5%BD%92%E5%88%86%E6%9E%901_9.jpg](attachment:5.%E5%9B%9E%E5%BD%92%E5%88%86%E6%9E%901_9.jpg)\n"
      ]
    },
    {
      "cell_type": "code",
      "execution_count": 5,
      "metadata": {
        "colab": {
          "base_uri": "https://localhost:8080/"
        },
        "id": "iIbm_hdzVW_d",
        "outputId": "678cc484-ea45-4209-c135-d7f3e191626c"
      },
      "outputs": [
        {
          "output_type": "stream",
          "name": "stdout",
          "text": [
            "A1与A2的均值进行逐一比较的t检验，t值：-1.497033,p值:0.148595\n"
          ]
        }
      ],
      "source": [
        "'''\n",
        "手工计算均值多重比较t检验的t值及其p值。\n",
        "以A1和A2为例。\n",
        "'''\n",
        "t21=(mu2-mu1)/(mse*(1/len(A1)+1/len(A2)))**0.5\n",
        "tpvalue=2*st.t.cdf(t21,n-r)\n",
        "print('A1与A2的均值进行逐一比较的t检验，t值：%0.6f,p值:%0.6f'%(t21,tpvalue))"
      ]
    },
    {
      "cell_type": "code",
      "execution_count": 6,
      "metadata": {
        "colab": {
          "base_uri": "https://localhost:8080/",
          "height": 238
        },
        "id": "TpL-mNhYVW_e",
        "outputId": "78c555bd-66ac-4ff6-de84-3ad7eb324755"
      },
      "outputs": [
        {
          "output_type": "execute_result",
          "data": {
            "text/plain": [
              "             coef    std err         t     P>|t|  Conf. Int. Low  \\\n",
              "A2-A1  -76.285714  50.957929 -1.497033  0.148595     -181.965992   \n",
              "A3-A1  -25.535714  45.040872 -0.566945  0.576491     -118.944765   \n",
              "A4-A1 -112.619048  48.417482 -2.326000  0.029630     -213.030760   \n",
              "A3-A2   50.750000  49.613156  1.022914  0.317466      -52.141388   \n",
              "A4-A2  -36.333333  52.697606 -0.689468  0.497737     -145.621480   \n",
              "A4-A3  -87.083333  47.000077 -1.852834  0.077369     -184.555528   \n",
              "\n",
              "       Conf. Int. Upp.  pvalue-hs  reject-hs  \n",
              "A2-A1        29.394563   0.474534      False  \n",
              "A3-A1        67.873337   0.747732      False  \n",
              "A4-A1       -12.207335   0.165122      False  \n",
              "A3-A2       153.641388   0.682039      False  \n",
              "A4-A2        72.954813   0.747732      False  \n",
              "A4-A3        10.388861   0.331440      False  "
            ],
            "text/html": [
              "\n",
              "  <div id=\"df-e7411dc5-2b64-4a2f-acc9-8d7d4b75c51c\">\n",
              "    <div class=\"colab-df-container\">\n",
              "      <div>\n",
              "<style scoped>\n",
              "    .dataframe tbody tr th:only-of-type {\n",
              "        vertical-align: middle;\n",
              "    }\n",
              "\n",
              "    .dataframe tbody tr th {\n",
              "        vertical-align: top;\n",
              "    }\n",
              "\n",
              "    .dataframe thead th {\n",
              "        text-align: right;\n",
              "    }\n",
              "</style>\n",
              "<table border=\"1\" class=\"dataframe\">\n",
              "  <thead>\n",
              "    <tr style=\"text-align: right;\">\n",
              "      <th></th>\n",
              "      <th>coef</th>\n",
              "      <th>std err</th>\n",
              "      <th>t</th>\n",
              "      <th>P&gt;|t|</th>\n",
              "      <th>Conf. Int. Low</th>\n",
              "      <th>Conf. Int. Upp.</th>\n",
              "      <th>pvalue-hs</th>\n",
              "      <th>reject-hs</th>\n",
              "    </tr>\n",
              "  </thead>\n",
              "  <tbody>\n",
              "    <tr>\n",
              "      <th>A2-A1</th>\n",
              "      <td>-76.285714</td>\n",
              "      <td>50.957929</td>\n",
              "      <td>-1.497033</td>\n",
              "      <td>0.148595</td>\n",
              "      <td>-181.965992</td>\n",
              "      <td>29.394563</td>\n",
              "      <td>0.474534</td>\n",
              "      <td>False</td>\n",
              "    </tr>\n",
              "    <tr>\n",
              "      <th>A3-A1</th>\n",
              "      <td>-25.535714</td>\n",
              "      <td>45.040872</td>\n",
              "      <td>-0.566945</td>\n",
              "      <td>0.576491</td>\n",
              "      <td>-118.944765</td>\n",
              "      <td>67.873337</td>\n",
              "      <td>0.747732</td>\n",
              "      <td>False</td>\n",
              "    </tr>\n",
              "    <tr>\n",
              "      <th>A4-A1</th>\n",
              "      <td>-112.619048</td>\n",
              "      <td>48.417482</td>\n",
              "      <td>-2.326000</td>\n",
              "      <td>0.029630</td>\n",
              "      <td>-213.030760</td>\n",
              "      <td>-12.207335</td>\n",
              "      <td>0.165122</td>\n",
              "      <td>False</td>\n",
              "    </tr>\n",
              "    <tr>\n",
              "      <th>A3-A2</th>\n",
              "      <td>50.750000</td>\n",
              "      <td>49.613156</td>\n",
              "      <td>1.022914</td>\n",
              "      <td>0.317466</td>\n",
              "      <td>-52.141388</td>\n",
              "      <td>153.641388</td>\n",
              "      <td>0.682039</td>\n",
              "      <td>False</td>\n",
              "    </tr>\n",
              "    <tr>\n",
              "      <th>A4-A2</th>\n",
              "      <td>-36.333333</td>\n",
              "      <td>52.697606</td>\n",
              "      <td>-0.689468</td>\n",
              "      <td>0.497737</td>\n",
              "      <td>-145.621480</td>\n",
              "      <td>72.954813</td>\n",
              "      <td>0.747732</td>\n",
              "      <td>False</td>\n",
              "    </tr>\n",
              "    <tr>\n",
              "      <th>A4-A3</th>\n",
              "      <td>-87.083333</td>\n",
              "      <td>47.000077</td>\n",
              "      <td>-1.852834</td>\n",
              "      <td>0.077369</td>\n",
              "      <td>-184.555528</td>\n",
              "      <td>10.388861</td>\n",
              "      <td>0.331440</td>\n",
              "      <td>False</td>\n",
              "    </tr>\n",
              "  </tbody>\n",
              "</table>\n",
              "</div>\n",
              "      <button class=\"colab-df-convert\" onclick=\"convertToInteractive('df-e7411dc5-2b64-4a2f-acc9-8d7d4b75c51c')\"\n",
              "              title=\"Convert this dataframe to an interactive table.\"\n",
              "              style=\"display:none;\">\n",
              "        \n",
              "  <svg xmlns=\"http://www.w3.org/2000/svg\" height=\"24px\"viewBox=\"0 0 24 24\"\n",
              "       width=\"24px\">\n",
              "    <path d=\"M0 0h24v24H0V0z\" fill=\"none\"/>\n",
              "    <path d=\"M18.56 5.44l.94 2.06.94-2.06 2.06-.94-2.06-.94-.94-2.06-.94 2.06-2.06.94zm-11 1L8.5 8.5l.94-2.06 2.06-.94-2.06-.94L8.5 2.5l-.94 2.06-2.06.94zm10 10l.94 2.06.94-2.06 2.06-.94-2.06-.94-.94-2.06-.94 2.06-2.06.94z\"/><path d=\"M17.41 7.96l-1.37-1.37c-.4-.4-.92-.59-1.43-.59-.52 0-1.04.2-1.43.59L10.3 9.45l-7.72 7.72c-.78.78-.78 2.05 0 2.83L4 21.41c.39.39.9.59 1.41.59.51 0 1.02-.2 1.41-.59l7.78-7.78 2.81-2.81c.8-.78.8-2.07 0-2.86zM5.41 20L4 18.59l7.72-7.72 1.47 1.35L5.41 20z\"/>\n",
              "  </svg>\n",
              "      </button>\n",
              "      \n",
              "  <style>\n",
              "    .colab-df-container {\n",
              "      display:flex;\n",
              "      flex-wrap:wrap;\n",
              "      gap: 12px;\n",
              "    }\n",
              "\n",
              "    .colab-df-convert {\n",
              "      background-color: #E8F0FE;\n",
              "      border: none;\n",
              "      border-radius: 50%;\n",
              "      cursor: pointer;\n",
              "      display: none;\n",
              "      fill: #1967D2;\n",
              "      height: 32px;\n",
              "      padding: 0 0 0 0;\n",
              "      width: 32px;\n",
              "    }\n",
              "\n",
              "    .colab-df-convert:hover {\n",
              "      background-color: #E2EBFA;\n",
              "      box-shadow: 0px 1px 2px rgba(60, 64, 67, 0.3), 0px 1px 3px 1px rgba(60, 64, 67, 0.15);\n",
              "      fill: #174EA6;\n",
              "    }\n",
              "\n",
              "    [theme=dark] .colab-df-convert {\n",
              "      background-color: #3B4455;\n",
              "      fill: #D2E3FC;\n",
              "    }\n",
              "\n",
              "    [theme=dark] .colab-df-convert:hover {\n",
              "      background-color: #434B5C;\n",
              "      box-shadow: 0px 1px 3px 1px rgba(0, 0, 0, 0.15);\n",
              "      filter: drop-shadow(0px 1px 2px rgba(0, 0, 0, 0.3));\n",
              "      fill: #FFFFFF;\n",
              "    }\n",
              "  </style>\n",
              "\n",
              "      <script>\n",
              "        const buttonEl =\n",
              "          document.querySelector('#df-e7411dc5-2b64-4a2f-acc9-8d7d4b75c51c button.colab-df-convert');\n",
              "        buttonEl.style.display =\n",
              "          google.colab.kernel.accessAllowed ? 'block' : 'none';\n",
              "\n",
              "        async function convertToInteractive(key) {\n",
              "          const element = document.querySelector('#df-e7411dc5-2b64-4a2f-acc9-8d7d4b75c51c');\n",
              "          const dataTable =\n",
              "            await google.colab.kernel.invokeFunction('convertToInteractive',\n",
              "                                                     [key], {});\n",
              "          if (!dataTable) return;\n",
              "\n",
              "          const docLinkHtml = 'Like what you see? Visit the ' +\n",
              "            '<a target=\"_blank\" href=https://colab.research.google.com/notebooks/data_table.ipynb>data table notebook</a>'\n",
              "            + ' to learn more about interactive tables.';\n",
              "          element.innerHTML = '';\n",
              "          dataTable['output_type'] = 'display_data';\n",
              "          await google.colab.output.renderOutput(dataTable, element);\n",
              "          const docLink = document.createElement('div');\n",
              "          docLink.innerHTML = docLinkHtml;\n",
              "          element.appendChild(docLink);\n",
              "        }\n",
              "      </script>\n",
              "    </div>\n",
              "  </div>\n",
              "  "
            ]
          },
          "metadata": {},
          "execution_count": 6
        }
      ],
      "source": [
        "'''\n",
        "首先可以调用回归结果对象的t_test_pairwise函数，以回归自变量项作为参数.\n",
        "StatsModels原文如此：\n",
        "The name of the term for which pairwise comparisons are computed.\n",
        "Term names for categorical effects are created by patsy and\n",
        "correspond to the main part of the exog names.\n",
        "翻译过来是：成对比较的被计算条目名。分类效应的条目名是通过patsy创建的，\n",
        "对应于自变量名字的主体部分。\n",
        "按照本人理解：回归结果中的C(levels, Sum)[S.A1]是自变量名，其中C(levels, Sum)是主体部分。\n",
        "\n",
        "另外：千万要注意t_test_pairwise函数里的字符串一定要和前面回归分析的变量名的主体部分一致，\n",
        "甚至空格也要一致！！！否则将会报错：找不到该项。\n",
        "'''\n",
        "pm_results = data_lm.t_test_pairwise('C(levels, Sum)')#字符串参数一定要保持一致\n",
        "pm_results.result_frame"
      ]
    },
    {
      "cell_type": "code",
      "execution_count": 7,
      "metadata": {
        "colab": {
          "base_uri": "https://localhost:8080/",
          "height": 336
        },
        "id": "w14pX3sIVW_g",
        "outputId": "bb7e6653-8cba-42fc-ccf7-163621b5f857"
      },
      "outputs": [
        {
          "output_type": "stream",
          "name": "stderr",
          "text": [
            "/usr/local/lib/python3.7/dist-packages/seaborn/_decorators.py:43: FutureWarning: Pass the following variables as keyword args: x, y. From version 0.12, the only valid positional argument will be `data`, and passing other arguments without an explicit keyword will result in an error or misinterpretation.\n",
            "  FutureWarning\n"
          ]
        },
        {
          "output_type": "display_data",
          "data": {
            "text/plain": [
              "<Figure size 432x288 with 1 Axes>"
            ],
            "image/png": "[encoded data removed]"
          },
          "metadata": {
            "needs_background": "light"
          }
        }
      ],
      "source": [
        "###通过水平箱线图也显示，每个水平的零件平均寿命无显著差异\n",
        "sns.boxplot(Mat_lifetime.levels,Mat_lifetime.Data)\n",
        "plt.show()"
      ]
    },
    {
      "cell_type": "markdown",
      "metadata": {
        "id": "0XyY6kciVW_h"
      },
      "source": [
        "#### 例2：\n",
        "![5.%E5%9B%9E%E5%BD%92%E5%88%86%E6%9E%901_8.jpg](attachment:5.%E5%9B%9E%E5%BD%92%E5%88%86%E6%9E%901_8.jpg)"
      ]
    },
    {
      "cell_type": "code",
      "execution_count": 8,
      "metadata": {
        "colab": {
          "base_uri": "https://localhost:8080/",
          "height": 290
        },
        "id": "ym3hmEPLVW_i",
        "outputId": "b46071dd-98a5-4254-bd8d-5ae33c24105b"
      },
      "outputs": [
        {
          "output_type": "stream",
          "name": "stdout",
          "text": [
            "\n",
            "                ---------单因素方差表---------\n",
            "                   df      sum_sq    mean_sq        F    PR(>F)\n",
            "C(levels, Sum)   2.0   94.256061  47.128030  8.48374  0.001202\n",
            "Residual        30.0  166.653030   5.555101      NaN       NaN\n",
            "\n",
            "\n",
            "                ---------均值多重比较---------\n"
          ]
        },
        {
          "output_type": "execute_result",
          "data": {
            "text/plain": [
              "           coef   std err         t     P>|t|  Conf. Int. Low  \\\n",
              "M2-M1  3.881818  1.029815  3.769432  0.000717        1.778655   \n",
              "M3-M1  3.265152  0.983837  3.318795  0.002380        1.255889   \n",
              "M3-M2 -0.616667  1.009175 -0.611060  0.545762       -2.677678   \n",
              "\n",
              "       Conf. Int. Upp.  pvalue-hs  reject-hs  \n",
              "M2-M1         5.984981   0.002148       True  \n",
              "M3-M1         5.274414   0.004754       True  \n",
              "M3-M2         1.444345   0.545762      False  "
            ],
            "text/html": [
              "\n",
              "  <div id=\"df-8e210f07-829d-421a-9bf2-6cefc9b3f961\">\n",
              "    <div class=\"colab-df-container\">\n",
              "      <div>\n",
              "<style scoped>\n",
              "    .dataframe tbody tr th:only-of-type {\n",
              "        vertical-align: middle;\n",
              "    }\n",
              "\n",
              "    .dataframe tbody tr th {\n",
              "        vertical-align: top;\n",
              "    }\n",
              "\n",
              "    .dataframe thead th {\n",
              "        text-align: right;\n",
              "    }\n",
              "</style>\n",
              "<table border=\"1\" class=\"dataframe\">\n",
              "  <thead>\n",
              "    <tr style=\"text-align: right;\">\n",
              "      <th></th>\n",
              "      <th>coef</th>\n",
              "      <th>std err</th>\n",
              "      <th>t</th>\n",
              "      <th>P&gt;|t|</th>\n",
              "      <th>Conf. Int. Low</th>\n",
              "      <th>Conf. Int. Upp.</th>\n",
              "      <th>pvalue-hs</th>\n",
              "      <th>reject-hs</th>\n",
              "    </tr>\n",
              "  </thead>\n",
              "  <tbody>\n",
              "    <tr>\n",
              "      <th>M2-M1</th>\n",
              "      <td>3.881818</td>\n",
              "      <td>1.029815</td>\n",
              "      <td>3.769432</td>\n",
              "      <td>0.000717</td>\n",
              "      <td>1.778655</td>\n",
              "      <td>5.984981</td>\n",
              "      <td>0.002148</td>\n",
              "      <td>True</td>\n",
              "    </tr>\n",
              "    <tr>\n",
              "      <th>M3-M1</th>\n",
              "      <td>3.265152</td>\n",
              "      <td>0.983837</td>\n",
              "      <td>3.318795</td>\n",
              "      <td>0.002380</td>\n",
              "      <td>1.255889</td>\n",
              "      <td>5.274414</td>\n",
              "      <td>0.004754</td>\n",
              "      <td>True</td>\n",
              "    </tr>\n",
              "    <tr>\n",
              "      <th>M3-M2</th>\n",
              "      <td>-0.616667</td>\n",
              "      <td>1.009175</td>\n",
              "      <td>-0.611060</td>\n",
              "      <td>0.545762</td>\n",
              "      <td>-2.677678</td>\n",
              "      <td>1.444345</td>\n",
              "      <td>0.545762</td>\n",
              "      <td>False</td>\n",
              "    </tr>\n",
              "  </tbody>\n",
              "</table>\n",
              "</div>\n",
              "      <button class=\"colab-df-convert\" onclick=\"convertToInteractive('df-8e210f07-829d-421a-9bf2-6cefc9b3f961')\"\n",
              "              title=\"Convert this dataframe to an interactive table.\"\n",
              "              style=\"display:none;\">\n",
              "        \n",
              "  <svg xmlns=\"http://www.w3.org/2000/svg\" height=\"24px\"viewBox=\"0 0 24 24\"\n",
              "       width=\"24px\">\n",
              "    <path d=\"M0 0h24v24H0V0z\" fill=\"none\"/>\n",
              "    <path d=\"M18.56 5.44l.94 2.06.94-2.06 2.06-.94-2.06-.94-.94-2.06-.94 2.06-2.06.94zm-11 1L8.5 8.5l.94-2.06 2.06-.94-2.06-.94L8.5 2.5l-.94 2.06-2.06.94zm10 10l.94 2.06.94-2.06 2.06-.94-2.06-.94-.94-2.06-.94 2.06-2.06.94z\"/><path d=\"M17.41 7.96l-1.37-1.37c-.4-.4-.92-.59-1.43-.59-.52 0-1.04.2-1.43.59L10.3 9.45l-7.72 7.72c-.78.78-.78 2.05 0 2.83L4 21.41c.39.39.9.59 1.41.59.51 0 1.02-.2 1.41-.59l7.78-7.78 2.81-2.81c.8-.78.8-2.07 0-2.86zM5.41 20L4 18.59l7.72-7.72 1.47 1.35L5.41 20z\"/>\n",
              "  </svg>\n",
              "      </button>\n",
              "      \n",
              "  <style>\n",
              "    .colab-df-container {\n",
              "      display:flex;\n",
              "      flex-wrap:wrap;\n",
              "      gap: 12px;\n",
              "    }\n",
              "\n",
              "    .colab-df-convert {\n",
              "      background-color: #E8F0FE;\n",
              "      border: none;\n",
              "      border-radius: 50%;\n",
              "      cursor: pointer;\n",
              "      display: none;\n",
              "      fill: #1967D2;\n",
              "      height: 32px;\n",
              "      padding: 0 0 0 0;\n",
              "      width: 32px;\n",
              "    }\n",
              "\n",
              "    .colab-df-convert:hover {\n",
              "      background-color: #E2EBFA;\n",
              "      box-shadow: 0px 1px 2px rgba(60, 64, 67, 0.3), 0px 1px 3px 1px rgba(60, 64, 67, 0.15);\n",
              "      fill: #174EA6;\n",
              "    }\n",
              "\n",
              "    [theme=dark] .colab-df-convert {\n",
              "      background-color: #3B4455;\n",
              "      fill: #D2E3FC;\n",
              "    }\n",
              "\n",
              "    [theme=dark] .colab-df-convert:hover {\n",
              "      background-color: #434B5C;\n",
              "      box-shadow: 0px 1px 3px 1px rgba(0, 0, 0, 0.15);\n",
              "      filter: drop-shadow(0px 1px 2px rgba(0, 0, 0, 0.3));\n",
              "      fill: #FFFFFF;\n",
              "    }\n",
              "  </style>\n",
              "\n",
              "      <script>\n",
              "        const buttonEl =\n",
              "          document.querySelector('#df-8e210f07-829d-421a-9bf2-6cefc9b3f961 button.colab-df-convert');\n",
              "        buttonEl.style.display =\n",
              "          google.colab.kernel.accessAllowed ? 'block' : 'none';\n",
              "\n",
              "        async function convertToInteractive(key) {\n",
              "          const element = document.querySelector('#df-8e210f07-829d-421a-9bf2-6cefc9b3f961');\n",
              "          const dataTable =\n",
              "            await google.colab.kernel.invokeFunction('convertToInteractive',\n",
              "                                                     [key], {});\n",
              "          if (!dataTable) return;\n",
              "\n",
              "          const docLinkHtml = 'Like what you see? Visit the ' +\n",
              "            '<a target=\"_blank\" href=https://colab.research.google.com/notebooks/data_table.ipynb>data table notebook</a>'\n",
              "            + ' to learn more about interactive tables.';\n",
              "          element.innerHTML = '';\n",
              "          dataTable['output_type'] = 'display_data';\n",
              "          await google.colab.output.renderOutput(dataTable, element);\n",
              "          const docLink = document.createElement('div');\n",
              "          docLink.innerHTML = docLinkHtml;\n",
              "          element.appendChild(docLink);\n",
              "        }\n",
              "      </script>\n",
              "    </div>\n",
              "  </div>\n",
              "  "
            ]
          },
          "metadata": {},
          "execution_count": 8
        }
      ],
      "source": [
        "'''\n",
        "均值不等的例子。\n",
        "'''\n",
        "M1  = np.array([2,4,3,2,4,7,7,2,2,5,4],dtype='float')\n",
        "M2  = np.array([5,6,8,5,10,7,12,12,6,6],dtype='float')\n",
        "M3  = np.array([7,11,6,6,7,9,5,5,10,6,3,10],dtype='float')\n",
        "Mice_levels = np.repeat(['M1','M2','M3'],[11,10,12])\n",
        "M = np.concatenate((M1,M2,M3),axis=0)\n",
        "Mice_lifetime = pd.DataFrame({'levels':Mice_levels,'Data':M})\n",
        "\n",
        "###通过patsy的C函数对因素(水平)进行编码后，与数据进行线性回归拟合\n",
        "mice_lm = smf.ols('Data ~ C(levels,Sum)',data=Mice_lifetime).fit()\n",
        "\n",
        "###通过Statsmodels的anova_lm函数对回归结果进行方差分析\n",
        "table = sma.anova_lm(mice_lm, type=2)\n",
        "print('\\n                ---------单因素方差表---------\\n',table)\n",
        "pm_results1 = mice_lm.t_test_pairwise('C(levels, Sum)')#一定要保持一致\n",
        "print('\\n\\n                ---------均值多重比较---------')\n",
        "pm_results1.result_frame"
      ]
    },
    {
      "cell_type": "code",
      "execution_count": 9,
      "metadata": {
        "colab": {
          "base_uri": "https://localhost:8080/",
          "height": 336
        },
        "id": "oB0SF27YVW_i",
        "outputId": "582e108b-300f-4909-98c8-87ae81353e3e"
      },
      "outputs": [
        {
          "output_type": "stream",
          "name": "stderr",
          "text": [
            "/usr/local/lib/python3.7/dist-packages/seaborn/_decorators.py:43: FutureWarning: Pass the following variables as keyword args: x, y. From version 0.12, the only valid positional argument will be `data`, and passing other arguments without an explicit keyword will result in an error or misinterpretation.\n",
            "  FutureWarning\n"
          ]
        },
        {
          "output_type": "display_data",
          "data": {
            "text/plain": [
              "<Figure size 432x288 with 1 Axes>"
            ],
            "image/png": "[encoded data removed]"
          },
          "metadata": {
            "needs_background": "light"
          }
        }
      ],
      "source": [
        "###通过水平的箱线图也显示，每个水平的白鼠生存天数还是存在差异的\n",
        "sns.boxplot(Mice_lifetime.levels,Mice_lifetime.Data)\n",
        "plt.show()"
      ]
    },
    {
      "cell_type": "markdown",
      "metadata": {
        "id": "t6q-StAWVW_j"
      },
      "source": [
        "### 5.1.3 方差齐性检验\n"
      ]
    },
    {
      "cell_type": "code",
      "execution_count": 10,
      "metadata": {
        "colab": {
          "base_uri": "https://localhost:8080/"
        },
        "id": "sSXgAG17VW_k",
        "outputId": "23b7a2c9-ebc1-4d1f-cdaf-0731b95367b2"
      },
      "outputs": [
        {
          "output_type": "execute_result",
          "data": {
            "text/plain": [
              "(ShapiroResult(statistic=0.9423453211784363, pvalue=0.6599273681640625),\n",
              " ShapiroResult(statistic=0.9384207129478455, pvalue=0.6547954082489014),\n",
              " ShapiroResult(statistic=0.8885940313339233, pvalue=0.22707131505012512),\n",
              " ShapiroResult(statistic=0.9176803827285767, pvalue=0.48881328105926514))"
            ]
          },
          "metadata": {},
          "execution_count": 10
        }
      ],
      "source": [
        "'''\n",
        "方差齐性检验之前，一般需要对数据进行正态性检验\n",
        "'''\n",
        "###检验4种水平的零件寿命数据正态性\n",
        "#根据p值可以看出，四种水平的数据都是正态分布的\n",
        "st.shapiro(A1),st.shapiro(A2),st.shapiro(A3),st.shapiro(A4)"
      ]
    },
    {
      "cell_type": "code",
      "execution_count": null,
      "metadata": {
        "id": "qHT42KVPVW_l",
        "outputId": "c6de2471-b8c6-4449-c7f0-fca1bdd3c16d"
      },
      "outputs": [
        {
          "name": "stdout",
          "output_type": "stream",
          "text": [
            "BartlettResult(statistic=5.805635751908388, pvalue=0.12145903158349065)\n",
            "LeveneResult(statistic=1.7201147014597697, pvalue=0.19207528643451552)\n",
            "FlignerResult(statistic=3.7143823041399804, pvalue=0.2940031998141424)\n"
          ]
        }
      ],
      "source": [
        "'''\n",
        "有多种方法检验不同水平数据的方差齐性。\n",
        "'''\n",
        "print(st.bartlett(A1,A2,A3,A4))\n",
        "print(st.levene(A1,A2,A3,A4))\n",
        "print(st.fligner(A1,A2,A3,A4))"
      ]
    },
    {
      "cell_type": "markdown",
      "metadata": {
        "id": "YASyIawEVW_m"
      },
      "source": [
        "#### Bartlett检验\n"
      ]
    },
    {
      "cell_type": "code",
      "execution_count": null,
      "metadata": {
        "id": "gEXb0C4UVW_m",
        "outputId": "1e6c35c8-8f07-4d72-8a1c-64a143d618fa"
      },
      "outputs": [
        {
          "data": {
            "text/plain": [
              "(5.805635751908388, 0.12145903158349065)"
            ]
          },
          "execution_count": 17,
          "metadata": {},
          "output_type": "execute_result"
        }
      ],
      "source": [
        "'''\n",
        "以元件的使用寿命数据为例,编码实现Bartlett方差齐性检验函数。\n",
        "'''\n",
        "\n",
        "def bart_test(*data):    \n",
        "    r=len(data)\n",
        "    if r <=1:\n",
        "        raise ValueError('数据应该大于1个水平',r)\n",
        "    ni=[]\n",
        "    ssi=[]###组内平方和（误差平方和）\n",
        "    ssa=0###组间平方和（效应平方和）\n",
        "    \n",
        "    ###计算组内平方和\n",
        "    for i in range(r):\n",
        "        ni.append(len(data[i]))\n",
        "        ssi.append(st.tvar(data[i]))\n",
        "    n=np.sum(ni)\n",
        "    \n",
        "    ###转换成numpy的array类型，便于向量计算\n",
        "    #注意Python的list类型不便于向量计算\n",
        "    ni=np.array(ni)\n",
        "    ssi=np.array(ssi)\n",
        "    \n",
        "    ###计算组间平方和\n",
        "    for i in range(r):\n",
        "        ssa+=(ni[i]-1)*ssi[i]\n",
        "    ssa=ssa/(n-r) ###组间平方和的最终结果\n",
        "    \n",
        "    ###c值的计算\n",
        "    c=1+(1/(3*(r-1)))*(np.sum(1/(ni-1))-1/(n-r))\n",
        "    \n",
        "    ###k平方的计算，即Bartlett统计量\n",
        "    #注意《统计建模与R语言》p347的k平方公式有误\n",
        "    k2=(1/c)*((n-r)*np.log(ssa)-np.sum((ni-1)*np.log(ssi)))\n",
        "    \n",
        "    ###p值计算，使用生存函数\n",
        "    pvalue=st.chi2.sf(k2,r-1)\n",
        "    return k2,pvalue\n",
        "\n",
        "###使用元件使用寿命数据测试，结果与Scipy的bartlett函数一致\n",
        "bart_test(A1,A2,A3,A4)"
      ]
    },
    {
      "cell_type": "markdown",
      "metadata": {
        "id": "4aV2Am_8VW_m"
      },
      "source": [
        "### 5.1.4 Kruskal-Wallis秩和检验\n",
        "\n"
      ]
    },
    {
      "cell_type": "markdown",
      "metadata": {
        "id": "pKprA0odVW_n"
      },
      "source": [
        "#### 例3：\n",
        "![5.%E5%9B%9E%E5%BD%92%E5%88%86%E6%9E%902_4.jpg](attachment:5.%E5%9B%9E%E5%BD%92%E5%88%86%E6%9E%902_4.jpg)"
      ]
    },
    {
      "cell_type": "code",
      "execution_count": null,
      "metadata": {
        "id": "5QUavqUMVW_n",
        "outputId": "b1e599ba-e933-4d1d-c1e0-4983766a0f99"
      },
      "outputs": [
        {
          "data": {
            "text/plain": [
              "KruskalResult(statistic=4.212967032967043, pvalue=0.23936684175023165)"
            ]
          },
          "execution_count": 18,
          "metadata": {},
          "output_type": "execute_result"
        }
      ],
      "source": [
        "M1=np.array([164, 190, 203, 205, 206, 214, 228, 257])\n",
        "M2=np.array([185, 197, 201,231])\n",
        "M3=np.array([187, 212, 215, 220, 248, 265, 281])\n",
        "M4=np.array([202, 204, 207, 227, 230, 276])\n",
        "###scipy的kruskal函数调用和bartlett调用一样容易\n",
        "#结果显示p值远大于0.05，所以不能拒绝各水平数据无显著差异的原假设\n",
        "st.kruskal(M1,M2,M3,M4)"
      ]
    },
    {
      "cell_type": "markdown",
      "metadata": {
        "id": "6O9KNC2QVW_o"
      },
      "source": [
        "#### Kruskal-Wallis秩和检验"
      ]
    },
    {
      "cell_type": "code",
      "execution_count": null,
      "metadata": {
        "id": "VJ8bxNbUVW_o",
        "outputId": "4078ca7c-788b-45f0-8d4a-0c44ad750c88"
      },
      "outputs": [
        {
          "data": {
            "text/plain": [
              "(4.212967032967034, 0.2393668417502328)"
            ]
          },
          "execution_count": 19,
          "metadata": {},
          "output_type": "execute_result"
        }
      ],
      "source": [
        "'''\n",
        "按照上述数学公式计算K-W检验的统计量和p值。\n",
        "此方法没有假设数据的分布和方差齐性前提，\n",
        "因此功能很强大，使用也很广泛。\n",
        "'''\n",
        "###首先将4个水平的数据合并一起计算秩\n",
        "#这点很重要，不是分别计算各水平的秩\n",
        "r=st.rankdata(np.hstack((M1,M2,M3,M4)))\n",
        "###4水平数据各自的长度\n",
        "ni=np.array([len(M1),len(M2),len(M3),len(M4)])\n",
        "n=np.sum(ni)###总长度\n",
        "num_levels=len(ni)###水平数\n",
        "\n",
        "###生成每个水平所对应的数据索引的起始点和结束点的，然后进行切片操作\n",
        "#但是要加一个0，也就是第1个水平的秩起始点\n",
        "ind=np.cumsum(ni) #[ 8, 12, 19, 25]\n",
        "ind=np.insert(ind,0,0) #[ 0,  8, 12, 19, 25]\n",
        "\n",
        "###初始化秩和/长度的\n",
        "ri=np.zeros(num_levels)\n",
        "\n",
        "###将r中的秩对应每个水平进行切片取出\n",
        "#然后对每个水平的数据的秩求和，最后除以该水平数据的长度\n",
        "for i in range(len(ni)):\n",
        "    ri[i]=np.sum(r[ind[i]:ind[i+1]])/ni[i]\n",
        "\n",
        "###计算K统计量\n",
        "K=(12/(n*(n+1)))*np.sum((ni*(ri-(n+1)/2)**2))\n",
        "###计算p值，使用卡方分布，自由度：水平数-1\n",
        "pvalue=st.chi2.sf(K,num_levels-1)\n",
        "K,pvalue"
      ]
    },
    {
      "cell_type": "markdown",
      "metadata": {
        "id": "JHgHL3CsVW_o"
      },
      "source": [
        "### 5.1.5 Friedman秩和检验\n",
        "\n",
        "\n",
        "#### 例4：\n",
        "![5.%E5%9B%9E%E5%BD%92%E5%88%86%E6%9E%902_5.jpg](attachment:5.%E5%9B%9E%E5%BD%92%E5%88%86%E6%9E%902_5.jpg)"
      ]
    },
    {
      "cell_type": "code",
      "execution_count": null,
      "metadata": {
        "id": "xlWAf7CjVW_o",
        "outputId": "4d716680-793d-42d4-b431-4752636a372e"
      },
      "outputs": [
        {
          "data": {
            "text/plain": [
              "FriedmanchisquareResult(statistic=14.25, pvalue=0.000804733010124613)"
            ]
          },
          "execution_count": 20,
          "metadata": {},
          "output_type": "execute_result"
        }
      ],
      "source": [
        "'''\n",
        "Friedman秩和检验\n",
        "'''\n",
        "Mice = np.array([1.00, 1.01, 1.13, 1.14, 1.70, 2.01, 2.23, 2.63,\n",
        "                  0.96, 1.23, 1.54, 1.96, 2.94, 3.68, 5.59, 6.96,\n",
        "                  2.07, 3.72, 4.50, 4.90, 6.00, 6.84, 8.23, 10.33])\n",
        "M2_1 = Mice[0:8]\n",
        "M2_2 = Mice[8:16]\n",
        "M2_3 = Mice[16:]\n",
        "st.friedmanchisquare(M2_1,M2_2,M2_3)"
      ]
    },
    {
      "cell_type": "markdown",
      "metadata": {
        "id": "EApt8sfHVW_p"
      },
      "source": [
        "-----"
      ]
    },
    {
      "cell_type": "markdown",
      "metadata": {
        "id": "nUFhGgtmVW_p"
      },
      "source": [
        "## 5.2 双因素方差分析\n",
        "![5.%E6%96%B9%E5%B7%AE%E5%88%86%E6%9E%903_1.jpg](attachment:5.%E6%96%B9%E5%B7%AE%E5%88%86%E6%9E%903_1.jpg)"
      ]
    },
    {
      "cell_type": "markdown",
      "metadata": {
        "id": "XkNCFv_pVW_p"
      },
      "source": [
        "### 5.2.1 不考虑交互作用的双因素方差分析\n"
      ]
    },
    {
      "cell_type": "markdown",
      "metadata": {
        "id": "wtESrtwXVW_q"
      },
      "source": [
        "#### 例5：\n",
        "![5.%E6%96%B9%E5%B7%AE%E5%88%86%E6%9E%903_5.jpg](attachment:5.%E6%96%B9%E5%B7%AE%E5%88%86%E6%9E%903_5.jpg)"
      ]
    },
    {
      "cell_type": "code",
      "execution_count": null,
      "metadata": {
        "id": "eJoNuxitVW_q",
        "outputId": "3ec0cd67-713d-44ec-aefa-db0e8a89b2ef"
      },
      "outputs": [
        {
          "name": "stdout",
          "output_type": "stream",
          "text": [
            "            df   sum_sq      mean_sq         F    PR(>F)\n",
            "C(A, Sum)  3.0  3824.25  1274.750000  5.226170  0.041262\n",
            "C(B, Sum)  2.0   162.50    81.250000  0.333106  0.729149\n",
            "Residual   6.0  1463.50   243.916667       NaN       NaN\n"
          ]
        }
      ],
      "source": [
        "'''\n",
        "双因素方差分析在某种程度上将就是单因素方差分析的扩展。\n",
        "'''\n",
        "y = np.array([325, 292, 316, 317, 310, 318,  310, 320, 318, 330, 370, 365])\n",
        "\n",
        "###注意水平的对应顺序，和表格里的数据要对应上\n",
        "A = np.array([1, 1, 1, 2, 2, 2, 3, 3, 3, 4, 4, 4])\n",
        "B = np.array([1, 2, 3, 1, 2, 3, 1, 2, 3, 1, 2, 3])\n",
        "agri = pd.DataFrame({'y':y,'A':A,'B':B})\n",
        "\n",
        "###仍是使用线性回归，需要对A和B的因子水平进行编码\n",
        "agri_lm = smf.ols('y ~ C(A, Sum)+C(B, Sum)', data=agri).fit()\n",
        "table = anova_lm(agri_lm)\n",
        "print(table)"
      ]
    },
    {
      "cell_type": "markdown",
      "metadata": {
        "id": "nb6-Rci3VW_q"
      },
      "source": [
        "#### 结果解读\n",
        "- 在方差分析表中有2个因素即品种和施肥方法，分别对应回归分析中的2个自变量。自变量是Category编码的设计矩阵。\n",
        "\n",
        "- 根据p值可以看出，A因素即品种的显著性水平很高，即种子品种对产量有显著影响。B因素，即施肥方法对产量没有显著影响。\n",
        "\n",
        "- 可以尝试使用上面列出来的数学公式，计算双因素的F统计量及其检验的p值。"
      ]
    },
    {
      "cell_type": "code",
      "execution_count": null,
      "metadata": {
        "id": "pApdtkP2VW_r",
        "outputId": "ed7c53b7-b21e-4339-ba80-7902c0fd3c01"
      },
      "outputs": [
        {
          "data": {
            "text/html": [
              "<div>\n",
              "<style scoped>\n",
              "    .dataframe tbody tr th:only-of-type {\n",
              "        vertical-align: middle;\n",
              "    }\n",
              "\n",
              "    .dataframe tbody tr th {\n",
              "        vertical-align: top;\n",
              "    }\n",
              "\n",
              "    .dataframe thead th {\n",
              "        text-align: right;\n",
              "    }\n",
              "</style>\n",
              "<table border=\"1\" class=\"dataframe\">\n",
              "  <thead>\n",
              "    <tr style=\"text-align: right;\">\n",
              "      <th></th>\n",
              "      <th>y</th>\n",
              "      <th>A</th>\n",
              "      <th>B</th>\n",
              "    </tr>\n",
              "  </thead>\n",
              "  <tbody>\n",
              "    <tr>\n",
              "      <th>0</th>\n",
              "      <td>325</td>\n",
              "      <td>1</td>\n",
              "      <td>1</td>\n",
              "    </tr>\n",
              "    <tr>\n",
              "      <th>1</th>\n",
              "      <td>292</td>\n",
              "      <td>1</td>\n",
              "      <td>2</td>\n",
              "    </tr>\n",
              "    <tr>\n",
              "      <th>2</th>\n",
              "      <td>316</td>\n",
              "      <td>1</td>\n",
              "      <td>3</td>\n",
              "    </tr>\n",
              "    <tr>\n",
              "      <th>3</th>\n",
              "      <td>317</td>\n",
              "      <td>2</td>\n",
              "      <td>1</td>\n",
              "    </tr>\n",
              "    <tr>\n",
              "      <th>4</th>\n",
              "      <td>310</td>\n",
              "      <td>2</td>\n",
              "      <td>2</td>\n",
              "    </tr>\n",
              "    <tr>\n",
              "      <th>5</th>\n",
              "      <td>318</td>\n",
              "      <td>2</td>\n",
              "      <td>3</td>\n",
              "    </tr>\n",
              "    <tr>\n",
              "      <th>6</th>\n",
              "      <td>310</td>\n",
              "      <td>3</td>\n",
              "      <td>1</td>\n",
              "    </tr>\n",
              "    <tr>\n",
              "      <th>7</th>\n",
              "      <td>320</td>\n",
              "      <td>3</td>\n",
              "      <td>2</td>\n",
              "    </tr>\n",
              "    <tr>\n",
              "      <th>8</th>\n",
              "      <td>318</td>\n",
              "      <td>3</td>\n",
              "      <td>3</td>\n",
              "    </tr>\n",
              "    <tr>\n",
              "      <th>9</th>\n",
              "      <td>330</td>\n",
              "      <td>4</td>\n",
              "      <td>1</td>\n",
              "    </tr>\n",
              "    <tr>\n",
              "      <th>10</th>\n",
              "      <td>370</td>\n",
              "      <td>4</td>\n",
              "      <td>2</td>\n",
              "    </tr>\n",
              "    <tr>\n",
              "      <th>11</th>\n",
              "      <td>365</td>\n",
              "      <td>4</td>\n",
              "      <td>3</td>\n",
              "    </tr>\n",
              "  </tbody>\n",
              "</table>\n",
              "</div>"
            ],
            "text/plain": [
              "      y  A  B\n",
              "0   325  1  1\n",
              "1   292  1  2\n",
              "2   316  1  3\n",
              "3   317  2  1\n",
              "4   310  2  2\n",
              "5   318  2  3\n",
              "6   310  3  1\n",
              "7   320  3  2\n",
              "8   318  3  3\n",
              "9   330  4  1\n",
              "10  370  4  2\n",
              "11  365  4  3"
            ]
          },
          "execution_count": 22,
          "metadata": {},
          "output_type": "execute_result"
        }
      ],
      "source": [
        "###因子化后的数据形式\n",
        "agri"
      ]
    },
    {
      "cell_type": "markdown",
      "metadata": {
        "id": "jM-QBkTnVW_r"
      },
      "source": [
        "### 5.2.2 考虑交互作用的双因素方差分析"
      ]
    },
    {
      "cell_type": "markdown",
      "metadata": {
        "id": "anVjN2r8VW_s"
      },
      "source": [
        "\n",
        "\n",
        "#### 例6：\n",
        "\n",
        "![5.%E6%96%B9%E5%B7%AE%E5%88%86%E6%9E%904_4.jpg](attachment:5.%E6%96%B9%E5%B7%AE%E5%88%86%E6%9E%904_4.jpg)\n",
        "\n",
        "![5.%E6%96%B9%E5%B7%AE%E5%88%86%E6%9E%904_5.jpg](attachment:5.%E6%96%B9%E5%B7%AE%E5%88%86%E6%9E%904_5.jpg)"
      ]
    },
    {
      "cell_type": "code",
      "execution_count": null,
      "metadata": {
        "id": "T8jT4jzoVW_s",
        "outputId": "ba2776f8-59bc-4606-cbad-7d921a041efe"
      },
      "outputs": [
        {
          "name": "stdout",
          "output_type": "stream",
          "text": [
            "                         sum_sq    df         F    PR(>F)\n",
            "C(A, Sum)            352.533333   2.0  8.958916  0.000494\n",
            "C(B, Sum)             87.516667   3.0  1.482705  0.231077\n",
            "C(A, Sum):C(B, Sum)   71.733333   6.0  0.607652  0.722890\n",
            "Residual             944.400000  48.0       NaN       NaN\n"
          ]
        }
      ],
      "source": [
        "'''\n",
        "双因素方差分析（重复实验数据），还要考虑到2个因素之间的交互关系\n",
        "'''\n",
        "y = np.array([23, 25, 21, 14, 15, 20, 17, 11, 26, 21, \n",
        "              16, 19, 13, 16, 24, 20, 21, 18, 27, 24,\n",
        "              28, 30, 19, 17, 22, 26, 24, 21, 25, 26,\n",
        "              19, 18, 19, 20, 25, 26, 26, 28, 29, 23,\n",
        "              18, 15, 23, 18, 10, 21, 25, 12, 12, 22, \n",
        "              19, 23, 22, 14, 13, 22, 13, 12, 22, 19])\n",
        "A = np.repeat([1,2,3],[20,20,20])\n",
        "B_1 =np.repeat([1,2,3,4],[5,5,5,5])\n",
        "###因素B的水平对照稍微有点麻烦，因为要考虑每个重复试验的次数\n",
        "B= np.concatenate((B_1,B_1,B_1))\n",
        "trees = pd.DataFrame({'y':y,'A':A,'B':B})\n",
        "###注意交互关系表示形式\n",
        "tree_lm = smf.ols('y ~ C(A, Sum)*C(B, Sum)', data=trees).fit()\n",
        "table = anova_lm(tree_lm, typ=2)\n",
        "print(table)"
      ]
    },
    {
      "cell_type": "code",
      "execution_count": null,
      "metadata": {
        "id": "NmEJo1ZGVW_s",
        "outputId": "957ebbb1-d2e6-41db-a842-364c81717767"
      },
      "outputs": [
        {
          "data": {
            "text/html": [
              "<table class=\"simpletable\">\n",
              "<caption>OLS Regression Results</caption>\n",
              "<tr>\n",
              "  <th>Dep. Variable:</th>            <td>y</td>        <th>  R-squared:         </th> <td>   0.351</td>\n",
              "</tr>\n",
              "<tr>\n",
              "  <th>Model:</th>                   <td>OLS</td>       <th>  Adj. R-squared:    </th> <td>   0.203</td>\n",
              "</tr>\n",
              "<tr>\n",
              "  <th>Method:</th>             <td>Least Squares</td>  <th>  F-statistic:       </th> <td>   2.365</td>\n",
              "</tr>\n",
              "<tr>\n",
              "  <th>Date:</th>             <td>Mon, 16 Aug 2021</td> <th>  Prob (F-statistic):</th>  <td>0.0200</td> \n",
              "</tr>\n",
              "<tr>\n",
              "  <th>Time:</th>                 <td>12:35:19</td>     <th>  Log-Likelihood:    </th> <td> -167.82</td>\n",
              "</tr>\n",
              "<tr>\n",
              "  <th>No. Observations:</th>      <td>    60</td>      <th>  AIC:               </th> <td>   359.6</td>\n",
              "</tr>\n",
              "<tr>\n",
              "  <th>Df Residuals:</th>          <td>    48</td>      <th>  BIC:               </th> <td>   384.8</td>\n",
              "</tr>\n",
              "<tr>\n",
              "  <th>Df Model:</th>              <td>    11</td>      <th>                     </th>     <td> </td>   \n",
              "</tr>\n",
              "<tr>\n",
              "  <th>Covariance Type:</th>      <td>nonrobust</td>    <th>                     </th>     <td> </td>   \n",
              "</tr>\n",
              "</table>\n",
              "<table class=\"simpletable\">\n",
              "<tr>\n",
              "                <td></td>                   <th>coef</th>     <th>std err</th>      <th>t</th>      <th>P>|t|</th>  <th>[0.025</th>    <th>0.975]</th>  \n",
              "</tr>\n",
              "<tr>\n",
              "  <th>Intercept</th>                     <td>   20.2833</td> <td>    0.573</td> <td>   35.421</td> <td> 0.000</td> <td>   19.132</td> <td>   21.435</td>\n",
              "</tr>\n",
              "<tr>\n",
              "  <th>C(A, Sum)[S.1]</th>                <td>   -0.7333</td> <td>    0.810</td> <td>   -0.906</td> <td> 0.370</td> <td>   -2.362</td> <td>    0.895</td>\n",
              "</tr>\n",
              "<tr>\n",
              "  <th>C(A, Sum)[S.2]</th>                <td>    3.2667</td> <td>    0.810</td> <td>    4.034</td> <td> 0.000</td> <td>    1.638</td> <td>    4.895</td>\n",
              "</tr>\n",
              "<tr>\n",
              "  <th>C(B, Sum)[S.1]</th>                <td>   -0.4167</td> <td>    0.992</td> <td>   -0.420</td> <td> 0.676</td> <td>   -2.411</td> <td>    1.578</td>\n",
              "</tr>\n",
              "<tr>\n",
              "  <th>C(B, Sum)[S.2]</th>                <td>    0.3167</td> <td>    0.992</td> <td>    0.319</td> <td> 0.751</td> <td>   -1.678</td> <td>    2.311</td>\n",
              "</tr>\n",
              "<tr>\n",
              "  <th>C(B, Sum)[S.3]</th>                <td>   -1.6167</td> <td>    0.992</td> <td>   -1.630</td> <td> 0.110</td> <td>   -3.611</td> <td>    0.378</td>\n",
              "</tr>\n",
              "<tr>\n",
              "  <th>C(A, Sum)[S.1]:C(B, Sum)[S.1]</th> <td>    0.4667</td> <td>    1.403</td> <td>    0.333</td> <td> 0.741</td> <td>   -2.354</td> <td>    3.287</td>\n",
              "</tr>\n",
              "<tr>\n",
              "  <th>C(A, Sum)[S.2]:C(B, Sum)[S.1]</th> <td>    0.0667</td> <td>    1.403</td> <td>    0.048</td> <td> 0.962</td> <td>   -2.754</td> <td>    2.887</td>\n",
              "</tr>\n",
              "<tr>\n",
              "  <th>C(A, Sum)[S.1]:C(B, Sum)[S.2]</th> <td>   -0.8667</td> <td>    1.403</td> <td>   -0.618</td> <td> 0.540</td> <td>   -3.687</td> <td>    1.954</td>\n",
              "</tr>\n",
              "<tr>\n",
              "  <th>C(A, Sum)[S.2]:C(B, Sum)[S.2]</th> <td>    0.5333</td> <td>    1.403</td> <td>    0.380</td> <td> 0.705</td> <td>   -2.287</td> <td>    3.354</td>\n",
              "</tr>\n",
              "<tr>\n",
              "  <th>C(A, Sum)[S.1]:C(B, Sum)[S.3]</th> <td>   -0.3333</td> <td>    1.403</td> <td>   -0.238</td> <td> 0.813</td> <td>   -3.154</td> <td>    2.487</td>\n",
              "</tr>\n",
              "<tr>\n",
              "  <th>C(A, Sum)[S.2]:C(B, Sum)[S.3]</th> <td>   -1.7333</td> <td>    1.403</td> <td>   -1.236</td> <td> 0.223</td> <td>   -4.554</td> <td>    1.087</td>\n",
              "</tr>\n",
              "</table>\n",
              "<table class=\"simpletable\">\n",
              "<tr>\n",
              "  <th>Omnibus:</th>       <td> 5.746</td> <th>  Durbin-Watson:     </th> <td>   2.045</td>\n",
              "</tr>\n",
              "<tr>\n",
              "  <th>Prob(Omnibus):</th> <td> 0.057</td> <th>  Jarque-Bera (JB):  </th> <td>   2.322</td>\n",
              "</tr>\n",
              "<tr>\n",
              "  <th>Skew:</th>          <td>-0.070</td> <th>  Prob(JB):          </th> <td>   0.313</td>\n",
              "</tr>\n",
              "<tr>\n",
              "  <th>Kurtosis:</th>      <td> 2.046</td> <th>  Cond. No.          </th> <td>    3.46</td>\n",
              "</tr>\n",
              "</table><br/><br/>Notes:<br/>[1] Standard Errors assume that the covariance matrix of the errors is correctly specified."
            ],
            "text/plain": [
              "<class 'statsmodels.iolib.summary.Summary'>\n",
              "\"\"\"\n",
              "                            OLS Regression Results                            \n",
              "==============================================================================\n",
              "Dep. Variable:                      y   R-squared:                       0.351\n",
              "Model:                            OLS   Adj. R-squared:                  0.203\n",
              "Method:                 Least Squares   F-statistic:                     2.365\n",
              "Date:                Mon, 16 Aug 2021   Prob (F-statistic):             0.0200\n",
              "Time:                        12:35:19   Log-Likelihood:                -167.82\n",
              "No. Observations:                  60   AIC:                             359.6\n",
              "Df Residuals:                      48   BIC:                             384.8\n",
              "Df Model:                          11                                         \n",
              "Covariance Type:            nonrobust                                         \n",
              "=================================================================================================\n",
              "                                    coef    std err          t      P>|t|      [0.025      0.975]\n",
              "-------------------------------------------------------------------------------------------------\n",
              "Intercept                        20.2833      0.573     35.421      0.000      19.132      21.435\n",
              "C(A, Sum)[S.1]                   -0.7333      0.810     -0.906      0.370      -2.362       0.895\n",
              "C(A, Sum)[S.2]                    3.2667      0.810      4.034      0.000       1.638       4.895\n",
              "C(B, Sum)[S.1]                   -0.4167      0.992     -0.420      0.676      -2.411       1.578\n",
              "C(B, Sum)[S.2]                    0.3167      0.992      0.319      0.751      -1.678       2.311\n",
              "C(B, Sum)[S.3]                   -1.6167      0.992     -1.630      0.110      -3.611       0.378\n",
              "C(A, Sum)[S.1]:C(B, Sum)[S.1]     0.4667      1.403      0.333      0.741      -2.354       3.287\n",
              "C(A, Sum)[S.2]:C(B, Sum)[S.1]     0.0667      1.403      0.048      0.962      -2.754       2.887\n",
              "C(A, Sum)[S.1]:C(B, Sum)[S.2]    -0.8667      1.403     -0.618      0.540      -3.687       1.954\n",
              "C(A, Sum)[S.2]:C(B, Sum)[S.2]     0.5333      1.403      0.380      0.705      -2.287       3.354\n",
              "C(A, Sum)[S.1]:C(B, Sum)[S.3]    -0.3333      1.403     -0.238      0.813      -3.154       2.487\n",
              "C(A, Sum)[S.2]:C(B, Sum)[S.3]    -1.7333      1.403     -1.236      0.223      -4.554       1.087\n",
              "==============================================================================\n",
              "Omnibus:                        5.746   Durbin-Watson:                   2.045\n",
              "Prob(Omnibus):                  0.057   Jarque-Bera (JB):                2.322\n",
              "Skew:                          -0.070   Prob(JB):                        0.313\n",
              "Kurtosis:                       2.046   Cond. No.                         3.46\n",
              "==============================================================================\n",
              "\n",
              "Notes:\n",
              "[1] Standard Errors assume that the covariance matrix of the errors is correctly specified.\n",
              "\"\"\""
            ]
          },
          "execution_count": 24,
          "metadata": {},
          "output_type": "execute_result"
        }
      ],
      "source": [
        "###回归分析的结果\n",
        "tree_lm.summary()"
      ]
    },
    {
      "cell_type": "code",
      "execution_count": null,
      "metadata": {
        "id": "qO31CDA-VW_t",
        "outputId": "2ecbe011-9516-4c5e-ff75-858cb313c26b"
      },
      "outputs": [
        {
          "name": "stdout",
          "output_type": "stream",
          "text": [
            "因素A水平1的正态性检验： ShapiroResult(statistic=0.9758586287498474, pvalue=0.8702935576438904)\n",
            "因素A水平2的正态性检验： ShapiroResult(statistic=0.9438899755477905, pvalue=0.28368762135505676)\n",
            "因素A水平3的正态性检验： ShapiroResult(statistic=0.9106301665306091, pvalue=0.06552256643772125)\n",
            "因素B水平1的正态性检验： ShapiroResult(statistic=0.9835260510444641, pvalue=0.9880000948905945)\n",
            "因素B水平2的正态性检验： ShapiroResult(statistic=0.8537424802780151, pvalue=0.019627654924988747)\n",
            "因素B水平3的正态性检验： ShapiroResult(statistic=0.948333740234375, pvalue=0.4986009895801544)\n",
            "因素B水平4的正态性检验： ShapiroResult(statistic=0.9451896548271179, pvalue=0.45210620760917664)\n"
          ]
        }
      ],
      "source": [
        "#各因素各水平数据的正态性检验\n",
        "print('因素A水平1的正态性检验：',st.shapiro(y[A==1]))\n",
        "print('因素A水平2的正态性检验：',st.shapiro(y[A==2]))\n",
        "print('因素A水平3的正态性检验：',st.shapiro(y[A==3]))\n",
        "print('因素B水平1的正态性检验：',st.shapiro(y[B==1]))\n",
        "print('因素B水平2的正态性检验：',st.shapiro(y[B==2]))\n",
        "print('因素B水平3的正态性检验：',st.shapiro(y[B==3]))\n",
        "print('因素B水平4的正态性检验：',st.shapiro(y[B==4]))"
      ]
    },
    {
      "cell_type": "code",
      "execution_count": null,
      "metadata": {
        "id": "gPN0kkzkVW_t",
        "outputId": "33dd0a30-36ac-4e01-f08d-7d258fcdf8f9"
      },
      "outputs": [
        {
          "name": "stdout",
          "output_type": "stream",
          "text": [
            "因素A的方差齐性检验（Bartlett方法）： BartlettResult(statistic=0.5900002171357336, pvalue=0.7445315066337076)\n",
            "因素B的方差齐性检验（Bartlett方法）： BartlettResult(statistic=2.043625626141553, pvalue=0.5634015923679045)\n"
          ]
        }
      ],
      "source": [
        "#各因素数据的方差齐性检验\n",
        "print(\"因素A的方差齐性检验（Bartlett方法）：\",st.bartlett(y[A==1],y[A==2],y[A==3]))\n",
        "print(\"因素B的方差齐性检验（Bartlett方法）：\",st.bartlett(y[B==1],y[B==2],y[B==3],y[B==4]))"
      ]
    },
    {
      "cell_type": "markdown",
      "metadata": {
        "id": "Dipmps8uVW_u"
      },
      "source": [
        "-------------"
      ]
    }
  ],
  "metadata": {
    "kernelspec": {
      "display_name": "Python 3 (ipykernel)",
      "language": "python",
      "name": "python3"
    },
    "language_info": {
      "codemirror_mode": {
        "name": "ipython",
        "version": 3
      },
      "file_extension": ".py",
      "mimetype": "text/x-python",
      "name": "python",
      "nbconvert_exporter": "python",
      "pygments_lexer": "ipython3",
      "version": "3.9.13"
    },
    "colab": {
      "provenance": [],
      "include_colab_link": true
    }
  },
  "nbformat": 4,
  "nbformat_minor": 0
}