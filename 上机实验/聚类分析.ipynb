{
 "cells": [
  {
   "cell_type": "markdown",
   "id": "dcc671b4",
   "metadata": {},
   "source": [
    "# 3.2 聚类分析\n",
    "### 3.2.1 系统聚类法\n",
    "包括最短距离法、最长距离法、中间距离法（又称Mcquity相似法）、类平均法、重心法、离差平方和法（Ward方法）等各种方法"
   ]
  },
  {
   "cell_type": "code",
   "execution_count": 61,
   "id": "63850f13",
   "metadata": {},
   "outputs": [
    {
     "data": {
      "text/html": [
       "<div>\n",
       "<style scoped>\n",
       "    .dataframe tbody tr th:only-of-type {\n",
       "        vertical-align: middle;\n",
       "    }\n",
       "\n",
       "    .dataframe tbody tr th {\n",
       "        vertical-align: top;\n",
       "    }\n",
       "\n",
       "    .dataframe thead th {\n",
       "        text-align: right;\n",
       "    }\n",
       "</style>\n",
       "<table border=\"1\" class=\"dataframe\">\n",
       "  <thead>\n",
       "    <tr style=\"text-align: right;\">\n",
       "      <th></th>\n",
       "      <th>FID</th>\n",
       "      <th>Well</th>\n",
       "      <th>Depth</th>\n",
       "      <th>Romax</th>\n",
       "      <th>Thick</th>\n",
       "      <th>Mad</th>\n",
       "      <th>Aad</th>\n",
       "      <th>Vad</th>\n",
       "      <th>Gas</th>\n",
       "      <th>CH4</th>\n",
       "      <th>CO2</th>\n",
       "      <th>N2</th>\n",
       "    </tr>\n",
       "  </thead>\n",
       "  <tbody>\n",
       "    <tr>\n",
       "      <th>0</th>\n",
       "      <td>0</td>\n",
       "      <td>M-15</td>\n",
       "      <td>693.2</td>\n",
       "      <td>1.37</td>\n",
       "      <td>2.75</td>\n",
       "      <td>0.86</td>\n",
       "      <td>7.53</td>\n",
       "      <td>22.37</td>\n",
       "      <td>8.23</td>\n",
       "      <td>95.15</td>\n",
       "      <td>0.66</td>\n",
       "      <td>4.19</td>\n",
       "    </tr>\n",
       "    <tr>\n",
       "      <th>1</th>\n",
       "      <td>1</td>\n",
       "      <td>M-32</td>\n",
       "      <td>764.8</td>\n",
       "      <td>1.43</td>\n",
       "      <td>2.94</td>\n",
       "      <td>0.71</td>\n",
       "      <td>6.79</td>\n",
       "      <td>21.37</td>\n",
       "      <td>11.84</td>\n",
       "      <td>96.54</td>\n",
       "      <td>1.06</td>\n",
       "      <td>2.40</td>\n",
       "    </tr>\n",
       "    <tr>\n",
       "      <th>2</th>\n",
       "      <td>2</td>\n",
       "      <td>M-37</td>\n",
       "      <td>681.2</td>\n",
       "      <td>1.29</td>\n",
       "      <td>4.16</td>\n",
       "      <td>0.64</td>\n",
       "      <td>7.41</td>\n",
       "      <td>24.09</td>\n",
       "      <td>9.18</td>\n",
       "      <td>96.20</td>\n",
       "      <td>0.57</td>\n",
       "      <td>1.00</td>\n",
       "    </tr>\n",
       "    <tr>\n",
       "      <th>3</th>\n",
       "      <td>3</td>\n",
       "      <td>M-47</td>\n",
       "      <td>680.6</td>\n",
       "      <td>1.21</td>\n",
       "      <td>2.40</td>\n",
       "      <td>0.68</td>\n",
       "      <td>7.95</td>\n",
       "      <td>25.79</td>\n",
       "      <td>6.07</td>\n",
       "      <td>92.24</td>\n",
       "      <td>1.30</td>\n",
       "      <td>5.56</td>\n",
       "    </tr>\n",
       "    <tr>\n",
       "      <th>4</th>\n",
       "      <td>4</td>\n",
       "      <td>M-55</td>\n",
       "      <td>648.5</td>\n",
       "      <td>1.29</td>\n",
       "      <td>2.54</td>\n",
       "      <td>0.70</td>\n",
       "      <td>7.94</td>\n",
       "      <td>24.14</td>\n",
       "      <td>5.96</td>\n",
       "      <td>87.51</td>\n",
       "      <td>1.44</td>\n",
       "      <td>7.87</td>\n",
       "    </tr>\n",
       "  </tbody>\n",
       "</table>\n",
       "</div>"
      ],
      "text/plain": [
       "   FID  Well  Depth  Romax  Thick   Mad   Aad    Vad    Gas    CH4   CO2    N2\n",
       "0    0  M-15  693.2   1.37   2.75  0.86  7.53  22.37   8.23  95.15  0.66  4.19\n",
       "1    1  M-32  764.8   1.43   2.94  0.71  6.79  21.37  11.84  96.54  1.06  2.40\n",
       "2    2  M-37  681.2   1.29   4.16  0.64  7.41  24.09   9.18  96.20  0.57  1.00\n",
       "3    3  M-47  680.6   1.21   2.40  0.68  7.95  25.79   6.07  92.24  1.30  5.56\n",
       "4    4  M-55  648.5   1.29   2.54  0.70  7.94  24.14   5.96  87.51  1.44  7.87"
      ]
     },
     "execution_count": 61,
     "metadata": {},
     "output_type": "execute_result"
    }
   ],
   "source": [
    "import numpy as np\n",
    "import pandas as pd\n",
    "import scipy.cluster as sc\n",
    "import matplotlib.pyplot as plt\n",
    "import scipy.spatial.distance as dist\n",
    "    \n",
    "df = pd.read_csv(r'./CBM.csv',header=0)\n",
    "df.head()"
   ]
  },
  {
   "cell_type": "code",
   "execution_count": 64,
   "id": "2c66dbe6",
   "metadata": {},
   "outputs": [
    {
     "data": {
      "text/html": [
       "<div>\n",
       "<style scoped>\n",
       "    .dataframe tbody tr th:only-of-type {\n",
       "        vertical-align: middle;\n",
       "    }\n",
       "\n",
       "    .dataframe tbody tr th {\n",
       "        vertical-align: top;\n",
       "    }\n",
       "\n",
       "    .dataframe thead th {\n",
       "        text-align: right;\n",
       "    }\n",
       "</style>\n",
       "<table border=\"1\" class=\"dataframe\">\n",
       "  <thead>\n",
       "    <tr style=\"text-align: right;\">\n",
       "      <th></th>\n",
       "      <th>Romax</th>\n",
       "      <th>Thick</th>\n",
       "      <th>Mad</th>\n",
       "      <th>Aad</th>\n",
       "      <th>Vad</th>\n",
       "      <th>Gas</th>\n",
       "    </tr>\n",
       "    <tr>\n",
       "      <th>Well</th>\n",
       "      <th></th>\n",
       "      <th></th>\n",
       "      <th></th>\n",
       "      <th></th>\n",
       "      <th></th>\n",
       "      <th></th>\n",
       "    </tr>\n",
       "  </thead>\n",
       "  <tbody>\n",
       "    <tr>\n",
       "      <th>M-15</th>\n",
       "      <td>1.37</td>\n",
       "      <td>2.75</td>\n",
       "      <td>0.86</td>\n",
       "      <td>7.53</td>\n",
       "      <td>22.37</td>\n",
       "      <td>8.23</td>\n",
       "    </tr>\n",
       "    <tr>\n",
       "      <th>M-32</th>\n",
       "      <td>1.43</td>\n",
       "      <td>2.94</td>\n",
       "      <td>0.71</td>\n",
       "      <td>6.79</td>\n",
       "      <td>21.37</td>\n",
       "      <td>11.84</td>\n",
       "    </tr>\n",
       "  </tbody>\n",
       "</table>\n",
       "</div>"
      ],
      "text/plain": [
       "      Romax  Thick   Mad   Aad    Vad    Gas\n",
       "Well                                        \n",
       "M-15   1.37   2.75  0.86  7.53  22.37   8.23\n",
       "M-32   1.43   2.94  0.71  6.79  21.37  11.84"
      ]
     },
     "execution_count": 64,
     "metadata": {},
     "output_type": "execute_result"
    }
   ],
   "source": [
    "# 丢弃无用列，使用井名称重建索引\n",
    "X = df.drop(['FID','Well','CH4','CO2','N2','Depth'],axis=1)\n",
    "X.index = df['Well']\n",
    "X.head(2)"
   ]
  },
  {
   "cell_type": "code",
   "execution_count": 74,
   "id": "149e2858",
   "metadata": {
    "scrolled": false
   },
   "outputs": [
    {
     "name": "stdout",
     "output_type": "stream",
     "text": [
      "          Romax     Thick       Mad       Aad       Vad       Gas\n",
      "Well                                                             \n",
      "M-15  -0.860959  0.738178  0.889789 -0.953789  0.796565  0.273206\n",
      "M-32  -0.446317  0.946346  0.074715 -1.018354  0.416419  1.817272\n",
      "M-37  -1.413816  2.283009 -0.305653 -0.964259  1.450417  0.679539\n",
      "M-47  -1.966672  0.354709 -0.088300 -0.917143  2.096667 -0.650668\n",
      "M-55  -1.413816  0.508096  0.020377 -0.918016  1.469425 -0.697717\n",
      "M-149  1.212253 -0.412229  1.650524 -0.966004 -1.180197 -0.646391\n",
      "M-169 -0.860959 -1.069604  0.781112  0.939538  0.861190 -0.359819\n",
      "M-193 -1.137387 -0.960042 -0.088300  1.516261  1.157705 -1.292247\n",
      "M-215  0.590290  0.245146  0.509421  0.908128 -0.613778  0.132058\n",
      "M-227  1.419575 -0.631354  1.759201  1.624451 -1.374071 -0.599342\n",
      "T-7   -0.100781 -0.039716 -0.957712 -0.347401  0.047677  0.157721\n",
      "T-15  -0.031674 -1.069604 -0.523006 -0.750496  0.009662  0.307423\n",
      "T-17  -0.791852 -0.631354  1.161480  0.263350  0.758551 -0.791815\n",
      "T-19   0.866718  1.340771 -0.088300 -0.747006 -0.876079  1.706065\n",
      "T-46   1.212253  0.135584  0.672436 -1.045401 -1.157388  2.458851\n",
      "T-80   0.866718  0.738178 -1.175065 -0.799356 -0.841866  0.688093\n",
      "T-119 -0.584531  0.464271  0.835451  1.900161  0.519058 -1.429117\n",
      "T-123  0.866718 -0.412229 -0.740359 -0.342166 -0.857072 -0.607896\n",
      "T-126  0.521183  0.026021 -2.153153  0.022540 -0.545352 -0.406868\n",
      "T-155 -0.169888  1.888584  0.781112  0.808663  0.127507  0.076455\n",
      "D-6    0.659397 -1.617417  0.346406  0.685640 -0.678403 -1.608759\n",
      "D-26   0.728504 -0.850479 -1.501094 -0.062965 -0.754433  0.149167\n",
      "D-51   1.419575 -0.740917 -1.392418 -0.487001 -1.339858  0.521283\n",
      "D-78  -0.584531 -1.233948 -0.468667  1.650626  0.507654  0.123504\n"
     ]
    }
   ],
   "source": [
    "# 数据标准化\n",
    "X_std = (X - np.mean(X,axis=0))/st.tstd(X,axis=0)#注意这里要使用标准差的无偏估计\n",
    "print(X_std)\n",
    "\n",
    "# 计算距离\n",
    "dis =dist.pdist(X_std,'euclidean')"
   ]
  },
  {
   "cell_type": "code",
   "execution_count": 73,
   "id": "0cf81d98",
   "metadata": {},
   "outputs": [
    {
     "data": {
      "image/png": "[encoded data removed]",
      "text/plain": [
       "<Figure size 432x288 with 1 Axes>"
      ]
     },
     "metadata": {
      "needs_background": "light"
     },
     "output_type": "display_data"
    }
   ],
   "source": [
    "# 使用最远距离法进行聚类\n",
    "Z =sc.hierarchy.linkage(dis,'complete')\n",
    "row_dendr=sc.hierarchy.dendrogram(Z,labels=X.index)"
   ]
  },
  {
   "cell_type": "code",
   "execution_count": 72,
   "id": "08e48ed6",
   "metadata": {},
   "outputs": [
    {
     "data": {
      "image/png": "[encoded data removed]",
      "text/plain": [
       "<Figure size 432x288 with 1 Axes>"
      ]
     },
     "metadata": {
      "needs_background": "light"
     },
     "output_type": "display_data"
    }
   ],
   "source": [
    "# 使用欧式距离的最短距离法（最近邻法）聚类\n",
    "row_clusters = sc.hierarchy.linkage(dist.pdist(X_std,metric='euclidean'),method='single')\n",
    "row_dendr = sc.hierarchy.dendrogram(row_clusters,labels=X.index)"
   ]
  },
  {
   "cell_type": "code",
   "execution_count": 70,
   "id": "d97bf7e4",
   "metadata": {
    "scrolled": true
   },
   "outputs": [
    {
     "data": {
      "image/png": "[encoded data removed]",
      "text/plain": [
       "<Figure size 432x288 with 1 Axes>"
      ]
     },
     "metadata": {
      "needs_background": "light"
     },
     "output_type": "display_data"
    }
   ],
   "source": [
    "# 使用欧式距离的质心法聚类\n",
    "row_clusters = sc.hierarchy.linkage(dist.pdist(X_std,metric='euclidean'),method='centroid')\n",
    "row_dendr = sc.hierarchy.dendrogram(row_clusters,labels=X.index)"
   ]
  },
  {
   "cell_type": "code",
   "execution_count": 71,
   "id": "c6c8c647",
   "metadata": {},
   "outputs": [
    {
     "data": {
      "image/png": "[encoded data removed]",
      "text/plain": [
       "<Figure size 432x288 with 1 Axes>"
      ]
     },
     "metadata": {
      "needs_background": "light"
     },
     "output_type": "display_data"
    }
   ],
   "source": [
    "# 使用离差平方和增量法聚类\n",
    "row_clusters = sc.hierarchy.linkage(dist.pdist(X_std,metric='euclidean'),method='ward')\n",
    "row_dendr = sc.hierarchy.dendrogram(row_clusters,labels=X.index)"
   ]
  }
 ],
 "metadata": {
  "kernelspec": {
   "display_name": "Python 3",
   "language": "python",
   "name": "python3"
  },
  "language_info": {
   "codemirror_mode": {
    "name": "ipython",
    "version": 3
   },
   "file_extension": ".py",
   "mimetype": "text/x-python",
   "name": "python",
   "nbconvert_exporter": "python",
   "pygments_lexer": "ipython3",
   "version": "3.8.8"
  }
 },
 "nbformat": 4,
 "nbformat_minor": 5
}
