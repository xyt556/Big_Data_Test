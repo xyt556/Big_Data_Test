{
 "cells": [
  {
   "cell_type": "code",
   "execution_count": 51,
   "id": "9f25bf06-ba67-49d8-acb7-3c2022582428",
   "metadata": {},
   "outputs": [
    {
     "name": "stdout",
     "output_type": "stream",
     "text": [
      "[[73.74 0.33]\n",
      " [72.73 0.58]\n",
      " [72.44 1.62]\n",
      " [71.28 1.37]\n",
      " [77.42 0.52]]\n",
      "--------\n",
      "[[73.74  0.33]\n",
      " [72.73  0.58]\n",
      " [72.44  1.62]\n",
      " [71.28  1.37]\n",
      " [77.42  0.52]]\n",
      "--------\n",
      "[[73.74 0.33]\n",
      " [72.73 0.58]\n",
      " [72.44 1.62]\n",
      " [71.28 1.37]\n",
      " [77.42 0.52]]\n"
     ]
    }
   ],
   "source": [
    "import pandas as pd\n",
    "import numpy as np\n",
    "\n",
    "# 利用pandas读取Excel    \n",
    "df = pd.read_excel(r'.\\data.xlsx',sheet_name= 'Sheet2', header= 0)\n",
    "# print(df)\n",
    "fields = df.columns.values #获取列索引向量（对有表头的方式，是表头标签向量），返回类型为ndarray（一维）。\n",
    "df.index.values #获取行索引向量，返回类型为ndarray（一维）\n",
    "# print(fields)\n",
    "df_list = df.values # 获取全部数据，返回类型为ndarray（二维）\n",
    "# print(df_list)\n",
    "data =np.matrix(df_list)\n",
    "# print(data)\n",
    "# df['类别'].astype('string')\n",
    "df1 = df.loc[df['类别'] == 1] #筛选出列值等于标量的行，用==\n",
    "df2 = df.loc[df['类别'] == 2]\n",
    "df3 = df.loc[df['类别'] == 3]\n",
    "print(df1.values[0:5,2:4])\n",
    "print('--------')\n",
    "print(df1.values[0:5,2:4].astype(float))\n",
    "print('--------')\n",
    "print(np.array(df1.values[0:5,2:4]))\n",
    "# print(df2.values)\n",
    "# print(df3.values)\n",
    "# print(data)\n",
    "# print(data.shape)\n",
    "# k = data.shape[1]-2"
   ]
  },
  {
   "cell_type": "code",
   "execution_count": null,
   "id": "3262d569-2455-4ec2-b795-16221f3062f4",
   "metadata": {},
   "outputs": [],
   "source": []
  }
 ],
 "metadata": {
  "kernelspec": {
   "display_name": "Python 3 (ipykernel)",
   "language": "python",
   "name": "python3"
  },
  "language_info": {
   "codemirror_mode": {
    "name": "ipython",
    "version": 3
   },
   "file_extension": ".py",
   "mimetype": "text/x-python",
   "name": "python",
   "nbconvert_exporter": "python",
   "pygments_lexer": "ipython3",
   "version": "3.9.13"
  }
 },
 "nbformat": 4,
 "nbformat_minor": 5
}
