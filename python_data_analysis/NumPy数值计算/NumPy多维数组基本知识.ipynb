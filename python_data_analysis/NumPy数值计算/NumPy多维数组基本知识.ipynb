{
 "cells": [
  {
   "cell_type": "code",
   "execution_count": 9,
   "metadata": {},
   "outputs": [
    {
     "name": "stdout",
     "output_type": "stream",
     "text": [
      "[1 2 3 4 5]\n"
     ]
    }
   ],
   "source": [
    "# %load NumPy多维数组基本知识.py\n",
    "'''\n",
    "通过array（）函数创建narray数组\n",
    "'''\n",
    "\n",
    "import numpy as np\n",
    "#一维列表当作array参数\n",
    "a1=np.array([1,2,3,4,5])\n",
    "print(a1)"
   ]
  },
  {
   "cell_type": "code",
   "execution_count": 10,
   "outputs": [
    {
     "name": "stdout",
     "output_type": "stream",
     "text": [
      "[[1 2 3]\n",
      " [4 5 6]]\n"
     ]
    }
   ],
   "source": [
    "\n",
    "#二位列表作为array参数\n",
    "a2=np.array([[1,2,3],[4,5,6]])    #有两个[]\n",
    "print(a2)"
   ],
   "metadata": {
    "collapsed": false
   }
  },
  {
   "cell_type": "code",
   "execution_count": 11,
   "outputs": [
    {
     "name": "stdout",
     "output_type": "stream",
     "text": [
      "abcdefg\n"
     ]
    }
   ],
   "source": [
    "\n",
    "#字符串作为array参数\n",
    "a3=np.array('abcdefg')\n",
    "print(a3)"
   ],
   "metadata": {
    "collapsed": false
   }
  },
  {
   "cell_type": "code",
   "execution_count": 12,
   "outputs": [
    {
     "name": "stdout",
     "output_type": "stream",
     "text": [
      "[1 2 3]\n"
     ]
    }
   ],
   "source": [
    "\n",
    "#元组作为array参数\n",
    "a4=np.array((1,2,3))\n",
    "print(a4)"
   ],
   "metadata": {
    "collapsed": false
   }
  },
  {
   "cell_type": "code",
   "execution_count": 13,
   "outputs": [
    {
     "name": "stdout",
     "output_type": "stream",
     "text": [
      "{'zahngsan': 12, 'lisi': '13'}\n"
     ]
    }
   ],
   "source": [
    "\n",
    "#字典作为array参数\n",
    "a5=np.array({'zahngsan':12,'lisi':'13'})\n",
    "print(a5)"
   ],
   "metadata": {
    "collapsed": false
   }
  },
  {
   "cell_type": "code",
   "execution_count": 14,
   "outputs": [
    {
     "name": "stdout",
     "output_type": "stream",
     "text": [
      "[[0. 1. 2.]\n",
      " [3. 4. 5.]]\n",
      "[[0. 0. 0. 0. 0.]\n",
      " [0. 0. 0. 0. 0.]\n",
      " [0. 0. 0. 0. 0.]]\n",
      "[[1. 1.]\n",
      " [1. 1.]\n",
      " [1. 1.]\n",
      " [1. 1.]]\n",
      "[[1. 0. 0.]\n",
      " [0. 1. 0.]\n",
      " [0. 0. 1.]]\n",
      "[[1. 1. 1.]\n",
      " [1. 1. 1.]]\n"
     ]
    },
    {
     "data": {
      "text/plain": "'zeros_like()、empty_like()和ones_like相似'"
     },
     "execution_count": 14,
     "metadata": {},
     "output_type": "execute_result"
    }
   ],
   "source": [
    "\n",
    "'''\n",
    "NumPy提供了创建特殊数组的函数\n",
    "'''\n",
    "b1=np.empty((2,3))  #创建2行3列的二维数组，创建的是没有具体值的数\n",
    "print(b1)\n",
    "\n",
    "b2=np.zeros((3,5))  #创建3行5列的二维数组，其元素都为0\n",
    "print(b2)\n",
    "\n",
    "b3=np.ones((4,2))  #创建4行2列的二维数组，其元素都为1\n",
    "print(b3)\n",
    "\n",
    "b4=np.eye(3)      #eye,identity均为创建N*N单位矩阵\n",
    "print(b4)\n",
    "\n",
    "b5=np.ones_like(b1)  #以另一个数组为参考，根据其形状和dtype创建全1的数组，创建与b1结构相同的数组，其元素的值均为1\n",
    "print(b5)\n",
    "'''zeros_like()、empty_like()和ones_like相似'''\n"
   ],
   "metadata": {
    "collapsed": false
   }
  },
  {
   "cell_type": "code",
   "execution_count": 15,
   "outputs": [
    {
     "name": "stdout",
     "output_type": "stream",
     "text": [
      "[0 1 2 3 4 5 6 7 8 9]\n",
      "[ 1.  2.  3.  4.  5.  6.  7.  8.  9. 10.]\n",
      "c3= [1.e+010 1.e+020 1.e+030 1.e+040 1.e+050 1.e+060 1.e+070 1.e+080 1.e+090\n",
      " 1.e+100]\n"
     ]
    },
    {
     "data": {
      "text/plain": "'asarray（）把python的列表、元组等转换成Numpy数组\\n其格式如下：numpy.asarray（a,dtype=None,order=None）\\na是任意形式的输入参数，可以是列表、列表的元组、元组、元组的元组、元组的列表、多维数组\\nnumpy数组中没有逗号，是以空格分隔的，不同于python列表，numpy数组通过tolist（）转换成python（）列表\\n'"
     },
     "execution_count": 15,
     "metadata": {},
     "output_type": "execute_result"
    }
   ],
   "source": [
    "\n",
    "#从数值范围创建数组的Numpy函数有3个：arange()   linspace()   logspace()\n",
    "c1=np.arange(10)\n",
    "print(c1)     #该函数根据start和stop指定的范围以及step设置步长，生成一个ndarray对象\n",
    "              #numpy.arange（start，stop，step，dtype）\n",
    "\n",
    "c2=np.linspace(1,10,10)\n",
    "print(c2)    #该函数用于创建一个一维数组，数组是由一个等差数列构成的\n",
    "             #numpy.linspace（start，stop，num=50，endpoint=True，retstep=False，dtype=None）\n",
    "\n",
    "c3=np.logspace(10,100,10)\n",
    "print('c3=',c3)   #用于创建一个对数运算的等比数列\n",
    "                  #numpy.logspace（start，stop，num=50，endpoint=True，base=10.0，dtype=None）\n",
    "                  #base指的是对数log的底数\n",
    "                  #endpoint=true时，数组中包含stop\n",
    "\n",
    "'''asarray（）把python的列表、元组等转换成Numpy数组\n",
    "其格式如下：numpy.asarray（a,dtype=None,order=None）\n",
    "a是任意形式的输入参数，可以是列表、列表的元组、元组、元组的元组、元组的列表、多维数组\n",
    "numpy数组中没有逗号，是以空格分隔的，不同于python列表，numpy数组通过tolist（）转换成python（）列表\n",
    "'''"
   ],
   "metadata": {
    "collapsed": false
   }
  },
  {
   "cell_type": "code",
   "execution_count": 16,
   "outputs": [
    {
     "name": "stdout",
     "output_type": "stream",
     "text": [
      "d2= [1 2 3 4 5]\n",
      "d3= [1, 2, 3, 4, 5]\n"
     ]
    }
   ],
   "source": [
    "d1=[1,2,3,4,5]\n",
    "d2=np.asarray(d1)\n",
    "d3=d2.tolist()\n",
    "print('d2=',d2)\n",
    "print('d3=',d3)"
   ],
   "metadata": {
    "collapsed": false
   }
  },
  {
   "cell_type": "code",
   "execution_count": 17,
   "outputs": [
    {
     "name": "stdout",
     "output_type": "stream",
     "text": [
      "[[0.47810622 0.64245151 0.65466192 0.38582822]\n",
      " [0.15736829 0.07031324 0.55897595 0.66698405]]\n",
      "[[3.77736899 3.91613428 3.35485341 3.14370972]\n",
      " [4.47184845 4.82008097 4.54344931 3.67007265]]\n",
      "[[0.66431263 0.92885761 0.51287416 0.27541905]\n",
      " [0.57863682 0.3405901  0.26059893 0.60755145]]\n"
     ]
    },
    {
     "data": {
      "text/plain": "\"randn()函数返回一个指定形状的数组，数组中的值服从标准正态分布\\n（均值为0，方差为1），numpy.random.randn(d0,...,dn)\\n如果没有参数，则返回一个标准正态分布的float型随机数\\n   normal()函数生成一个由size指定形状的数组，数组中的值服从，μ=loc,σ=scale的正态分布\\n   numpy.random.normal(loc=0.0,scale=1.0,size=None)\\n   randint()函数生成了一个在区间[low,high)中离散均匀抽样的数组\\n   numpy.random.randint(low,high=None,size=None,dtype='1')   dtype:可选参数，指定数据类型\\n   numpy.random.random(),random()函数生成【0，1）之间均匀抽样的数组\\n\""
     },
     "execution_count": 17,
     "metadata": {},
     "output_type": "execute_result"
    }
   ],
   "source": [
    "\n",
    "#创建随机数数组\n",
    "a=np.random.rand(2,4)#如果没参数就产生一个[0,1)之间的一个float随机数，2行4列\n",
    "print(a)\n",
    "\n",
    "b=np.random.uniform(3,5,(2,4))  #返回一个【low,high）中均匀分布的数组\n",
    "print(b)\n",
    "\n",
    "c=np.random.uniform(size=(2,4))\n",
    "print(c)\n",
    "\n",
    "'''randn()函数返回一个指定形状的数组，数组中的值服从标准正态分布\n",
    "（均值为0，方差为1），numpy.random.randn(d0,...,dn)\n",
    "如果没有参数，则返回一个标准正态分布的float型随机数\n",
    "   normal()函数生成一个由size指定形状的数组，数组中的值服从，μ=loc,σ=scale的正态分布\n",
    "   numpy.random.normal(loc=0.0,scale=1.0,size=None)\n",
    "   randint()函数生成了一个在区间[low,high)中离散均匀抽样的数组\n",
    "   numpy.random.randint(low,high=None,size=None,dtype='1')   dtype:可选参数，指定数据类型\n",
    "   numpy.random.random(),random()函数生成【0，1）之间均匀抽样的数组\n",
    "'''"
   ],
   "metadata": {
    "collapsed": false
   }
  },
  {
   "cell_type": "code",
   "execution_count": 18,
   "outputs": [
    {
     "name": "stdout",
     "output_type": "stream",
     "text": [
      "[[0. 3.]\n",
      " [1. 4.]\n",
      " [2. 5.]]\n",
      "x=\n",
      "[[0. 1. 2.]\n",
      " [3. 4. 5.]]\n",
      "x数组中的各个属性是：\n",
      "2 (2, 3) float64 8 48\n",
      "0.01.02.03.04.05.0"
     ]
    }
   ],
   "source": [
    "\n",
    "#ndarray对象属性\n",
    "'''\n",
    "ndim 秩，即数据轴的个数\n",
    "shape 数组的维度\n",
    "size 元素的总个数\n",
    "dtype 数据类型\n",
    "itemsize 数组中每个元素的字节大小\n",
    "nbytes 存储整个数组所需的字节数量，是itemsize属性值和size属性值之积\n",
    "T 数组的转置\n",
    "flat 返回一个numpy.flatiter对象，可以使用flat的迭代器来遍历数组\n",
    "'''\n",
    "x=np.array([np.arange(3),np.linspace(3,5,3)])\n",
    "print(x.T)\n",
    "print('x=')\n",
    "print(x)\n",
    "print('x数组中的各个属性是：')\n",
    "print(x.ndim,x.shape,x.dtype,x.itemsize,x.nbytes)\n",
    "for i in x.flat:\n",
    "    print(i,end='')\n"
   ],
   "metadata": {
    "collapsed": false
   }
  },
  {
   "cell_type": "code",
   "execution_count": 19,
   "outputs": [
    {
     "name": "stdout",
     "output_type": "stream",
     "text": [
      "e= [[1.1 2.2]\n",
      " [3.3 4.4]]\n",
      "f= [[1 2]\n",
      " [3 4]]\n",
      "c.dtype= int8\n",
      "数据类型转换后的dtype= float64\n",
      "c的数据类型没有改变，c.dtype= int8\n"
     ]
    },
    {
     "name": "stderr",
     "output_type": "stream",
     "text": [
      "C:\\Users\\xyt55\\AppData\\Local\\Temp\\ipykernel_8812\\4083456197.py:11: DeprecationWarning: `np.int` is a deprecated alias for the builtin `int`. To silence this warning, use `int` by itself. Doing this will not modify any behavior and is safe. When replacing `np.int`, you may wish to use e.g. `np.int64` or `np.int32` to specify the precision. If you wish to review your current use, check the release note link for additional information.\n",
      "Deprecated in NumPy 1.20; for more details and guidance: https://numpy.org/devdocs/release/1.20.0-notes.html#deprecations\n",
      "  f=e.astype(np.int)\n",
      "C:\\Users\\xyt55\\AppData\\Local\\Temp\\ipykernel_8812\\4083456197.py:16: DeprecationWarning: `np.float` is a deprecated alias for the builtin `float`. To silence this warning, use `float` by itself. Doing this will not modify any behavior and is safe. If you specifically wanted the numpy scalar type, use `np.float64` here.\n",
      "Deprecated in NumPy 1.20; for more details and guidance: https://numpy.org/devdocs/release/1.20.0-notes.html#deprecations\n",
      "  print('数据类型转换后的dtype=',c.astype(np.float).dtype)\n"
     ]
    }
   ],
   "source": [
    "\n",
    "'''\n",
    "dtype指定数据类型\n",
    "astype转换数据类型，astype()函数可以把数组元素转换成指定类型，注意：\n",
    "  1、指定类型类型有两种写法，以float64为例，np.float64和“float64”，这两种方式效果相同\n",
    "  2、将浮点数据转换成整数时元素的小数部分被截断，而不是四舍五入\n",
    "  3、数值型的字符串可以通过astype方法将其转化为数值类型，但如果字符串中有非数值型字符进行转化就会报错\n",
    "  4、astype方法会创建一个新的数组，并不会改变原有数组的数据类型\n",
    "'''\n",
    "\n",
    "e=np.array([[1.1,2.2],[3.3,4.4]],dtype=float)\n",
    "f=e.astype(np.int)\n",
    "print('e=',e)\n",
    "print('f=',f)\n",
    "c=np.arange(5,dtype=np.int8)\n",
    "print('c.dtype=',c.dtype)\n",
    "print('数据类型转换后的dtype=',c.astype(np.float).dtype)\n",
    "print('c的数据类型没有改变，c.dtype=',c.dtype)\n"
   ],
   "metadata": {
    "collapsed": false
   }
  },
  {
   "cell_type": "code",
   "execution_count": 19,
   "outputs": [],
   "source": [],
   "metadata": {
    "collapsed": false
   }
  }
 ],
 "metadata": {
  "kernelspec": {
   "display_name": "Python 3 (ipykernel)",
   "language": "python",
   "name": "python3"
  },
  "language_info": {
   "codemirror_mode": {
    "name": "ipython",
    "version": 3
   },
   "file_extension": ".py",
   "mimetype": "text/x-python",
   "name": "python",
   "nbconvert_exporter": "python",
   "pygments_lexer": "ipython3",
   "version": "3.10.7"
  }
 },
 "nbformat": 4,
 "nbformat_minor": 1
}
