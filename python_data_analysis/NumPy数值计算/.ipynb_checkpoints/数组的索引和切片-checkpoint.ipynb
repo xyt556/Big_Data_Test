{
 "cells": [
  {
   "cell_type": "code",
   "execution_count": null,
   "metadata": {},
   "outputs": [],
   "source": [
    "# %load 数组的索引和切片.py\n",
    "'''\n",
    "一维NumPy数组的索引与python列表的索引相同\n",
    "二维数组的索引在单个或者多个轴向上完成，在某一轴上与一维数组索引相同\n",
    "'''\n",
    "import numpy as np\n",
    "\n",
    "a=np.arange(12).reshape(3,4)\n",
    "print('数组a为')\n",
    "print(a)\n",
    "print('a[0]=',a[0])    #第0行\n",
    "print('a[1]=',a[1])\n",
    "print('a[0][0]=',a[0][0])\n",
    "print('a[1][2]=',a[1][2])\n",
    "a[1]=666\n",
    "print(\"数组a已经被修改,修改后为\")\n",
    "print(a)\n",
    "a[0][0]=111\n",
    "print(a)\n",
    "\n",
    "#一维数组切片\n",
    "b=np.arange(12)\n",
    "print('b=',b)\n",
    "print('b[1:3]=',b[1:3])\n",
    "print('b[1:7:2]=',b[1:7:2])\n",
    "print('b[9:]=',b[9:])\n",
    "print('b[:]=',b[:])\n",
    "\n",
    "#二维数组切片\n",
    "c=np.arange(12).reshape(3,4)\n",
    "print('c=',c)\n",
    "'''\n",
    "二维数组切片取得是两个区间的的交集\n",
    "'''\n",
    "print('c[0:2][1:3]=',c[0:2][1:3])\n",
    "print('c[2:][:2]=',c[2:][1:2])  #####\n",
    "print('c[:]=',c[:])\n",
    "\n",
    "'''\n",
    "布尔型索引是指使用布尔数组来索引目标数组，以此来找出与布尔数组中值为\n",
    "true的对应的目标数组中的数据\n",
    "'''\n",
    "#布尔数组的长度必须与目标数组对应的轴的长度一致\n",
    "names=np.array(['赵','王','李','上官','公孙','顿山'])\n",
    "data=np.random.randn(6,3)\n",
    "print(data)\n",
    "print('上官对应的行：',data[names=='上官'])\n",
    "\n",
    "d=np.arange(12).reshape(3,4)\n",
    "print(d)\n",
    "print('d>5',d>5)\n",
    "print('d[d>5]',d[d>5])\n",
    "\n",
    "\n",
    "#花式索引\n"
   ]
  }
 ],
 "metadata": {
  "kernelspec": {
   "display_name": "Python 3 (ipykernel)",
   "language": "python",
   "name": "python3"
  },
  "language_info": {
   "codemirror_mode": {
    "name": "ipython",
    "version": 3
   },
   "file_extension": ".py",
   "mimetype": "text/x-python",
   "name": "python",
   "nbconvert_exporter": "python",
   "pygments_lexer": "ipython3",
   "version": "3.10.7"
  }
 },
 "nbformat": 4,
 "nbformat_minor": 1
}
