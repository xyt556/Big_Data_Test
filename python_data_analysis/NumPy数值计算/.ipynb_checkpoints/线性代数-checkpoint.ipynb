{
 "cells": [
  {
   "cell_type": "code",
   "execution_count": null,
   "metadata": {},
   "outputs": [],
   "source": [
    "# %load 线性代数.py\n",
    "'''\n",
    "x+y+z=6\n",
    "2y+5z=-4\n",
    "2x+5y-z=27\n",
    "'''\n",
    "\n",
    "#用solve（）函数来求解线性方程组\n",
    "\n",
    "import numpy as np\n",
    "\n",
    "A=np.mat(\"1 1 1;0 2 5;2 5 -1\");   #创建一个矩阵\n",
    "b=np.array([6,-4,27])\n",
    "x=np.linalg.solve(A,b)\n",
    "print('方程的解为：',x)\n",
    "print(x.ndim)  #解的维数\n",
    "print(np.dot(A,x))\n",
    "\n"
   ]
  },
  {
   "cell_type": "code",
   "execution_count": null,
   "metadata": {},
   "outputs": [],
   "source": []
  }
 ],
 "metadata": {
  "kernelspec": {
   "display_name": "Python 3 (ipykernel)",
   "language": "python",
   "name": "python3"
  },
  "language_info": {
   "codemirror_mode": {
    "name": "ipython",
    "version": 3
   },
   "file_extension": ".py",
   "mimetype": "text/x-python",
   "name": "python",
   "nbconvert_exporter": "python",
   "pygments_lexer": "ipython3",
   "version": "3.10.7"
  }
 },
 "nbformat": 4,
 "nbformat_minor": 1
}
