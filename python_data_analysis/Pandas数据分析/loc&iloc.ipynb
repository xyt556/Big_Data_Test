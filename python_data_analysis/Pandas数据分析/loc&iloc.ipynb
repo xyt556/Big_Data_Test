{
 "cells": [
  {
   "cell_type": "markdown",
   "source": [
    "最基本的概念loc通常用于行标签和列标签，iloc通常直接用于行序号和列序号\n",
    "loc是location的意思，和iloc中i的意思是指integer，所以它只接受整数作为参数\n",
    "loc为Selection by Label函数，即为按标签取数据\n",
    "创建一个以abcd为索引，四行三列的Dataframe。"
   ],
   "metadata": {
    "collapsed": false
   }
  },
  {
   "cell_type": "code",
   "execution_count": 1,
   "outputs": [],
   "source": [
    "import pandas as pd\n"
   ],
   "metadata": {
    "collapsed": false
   }
  },
  {
   "cell_type": "code",
   "execution_count": 2,
   "outputs": [
    {
     "name": "stdout",
     "output_type": "stream",
     "text": [
      "   number  科目  名称\n",
      "a      10  语文  小米\n",
      "b      20  数学  华为\n",
      "c      30  英语  苹果\n",
      "d      20  化学  联想\n"
     ]
    }
   ],
   "source": [
    "df = pd.DataFrame({'number':[10,20,30,20],\n",
    "     '科目':['语文','数学','英语','化学'],\n",
    "     '名称':['小米','华为','苹果','联想']},index=['a','b','c','d'])\n",
    "print(df)"
   ],
   "metadata": {
    "collapsed": false
   }
  },
  {
   "cell_type": "code",
   "execution_count": 3,
   "outputs": [
    {
     "name": "stdout",
     "output_type": "stream",
     "text": [
      "   number  科目  名称\n",
      "a      10  语文  小米\n",
      "b      20  数学  华为\n",
      "c      30  英语  苹果\n",
      "   number  科目  名称\n",
      "a      10  语文  小米\n",
      "c      30  英语  苹果\n",
      "   number  科目  名称\n",
      "a      10  语文  小米\n",
      "b      20  数学  华为\n",
      "c      30  英语  苹果\n"
     ]
    }
   ],
   "source": [
    "print(df.loc['a':'c'])\n",
    "print(df.loc[['a','c']])\n",
    "print(df.loc[:'c'])"
   ],
   "metadata": {
    "collapsed": false
   }
  },
  {
   "cell_type": "code",
   "execution_count": 5,
   "outputs": [
    {
     "name": "stdout",
     "output_type": "stream",
     "text": [
      "   number  科目\n",
      "b      20  数学\n",
      "c      30  英语\n"
     ]
    }
   ],
   "source": [
    "print(df.loc['b':'c',['number','科目']])"
   ],
   "metadata": {
    "collapsed": false
   }
  },
  {
   "cell_type": "markdown",
   "source": [
    "但iloc不是直接取已有索引。而是默认索引就是1，2，3，4~~~\n",
    "iloc函数为Selection by Position，即按位置选择数据，即第n行，第n列数据，只接受整型参数"
   ],
   "metadata": {
    "collapsed": false
   }
  },
  {
   "cell_type": "code",
   "execution_count": 6,
   "outputs": [
    {
     "name": "stdout",
     "output_type": "stream",
     "text": [
      "   number  科目  名称\n",
      "a      10  语文  小米\n",
      "b      20  数学  华为\n",
      "c      30  英语  苹果\n",
      "   number  科目  名称\n",
      "a      10  语文  小米\n",
      "c      30  英语  苹果\n",
      "   number  科目  名称\n",
      "a      10  语文  小米\n",
      "b      20  数学  华为\n",
      "c      30  英语  苹果\n"
     ]
    }
   ],
   "source": [
    "print(df.iloc[0:3])\n",
    "print(df.iloc[[0,2]])\n",
    "print(df.iloc[:3])"
   ],
   "metadata": {
    "collapsed": false
   }
  },
  {
   "cell_type": "code",
   "execution_count": 12,
   "outputs": [
    {
     "name": "stdout",
     "output_type": "stream",
     "text": [
      "   number  科目\n",
      "b      20  数学\n",
      "c      30  英语\n"
     ]
    }
   ],
   "source": [
    "\n",
    "print(df.iloc[1:3,0:2])"
   ],
   "metadata": {
    "collapsed": false
   }
  },
  {
   "cell_type": "code",
   "execution_count": null,
   "outputs": [],
   "source": [],
   "metadata": {
    "collapsed": false
   }
  }
 ],
 "metadata": {
  "kernelspec": {
   "display_name": "Python 3",
   "language": "python",
   "name": "python3"
  },
  "language_info": {
   "codemirror_mode": {
    "name": "ipython",
    "version": 2
   },
   "file_extension": ".py",
   "mimetype": "text/x-python",
   "name": "python",
   "nbconvert_exporter": "python",
   "pygments_lexer": "ipython2",
   "version": "2.7.6"
  }
 },
 "nbformat": 4,
 "nbformat_minor": 0
}
