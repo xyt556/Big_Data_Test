{
 "cells": [
  {
   "cell_type": "code",
   "execution_count": 3,
   "metadata": {},
   "outputs": [
    {
     "name": "stdout",
     "output_type": "stream",
     "text": [
      "元数据帧：\n",
      "  name  age gender class\n",
      "0   小明   11      男    1班\n",
      "1   小红   12      女    2班\n",
      "2   小李   13      男    1班\n",
      "3   小花   14      女    2班\n",
      "转置\n",
      "         0   1   2   3\n",
      "name    小明  小红  小李  小花\n",
      "age     11  12  13  14\n",
      "gender   男   女   男   女\n",
      "class   1班  2班  1班  2班\n",
      "轴序列： [RangeIndex(start=0, stop=4, step=1), Index(['name', 'age', 'gender', 'class'], dtype='object')]\n",
      "数据类型\n",
      "name      object\n",
      "age        int64\n",
      "gender    object\n",
      "class     object\n",
      "dtype: object\n",
      "是否为空 False\n",
      "维度 2\n",
      "形状 (4, 4)\n",
      "元素数量 16\n",
      "实际的NumPy表示\n",
      "[['小明' 11 '男' '1班']\n",
      " ['小红' 12 '女' '2班']\n",
      " ['小李' 13 '男' '1班']\n",
      " ['小花' 14 '女' '2班']]\n",
      "前三行数据\n",
      "  name  age gender class\n",
      "0   小明   11      男    1班\n",
      "1   小红   12      女    2班\n",
      "2   小李   13      男    1班\n",
      "后三行数据\n",
      "  name  age gender class\n",
      "1   小红   12      女    2班\n",
      "2   小李   13      男    1班\n",
      "3   小花   14      女    2班\n"
     ]
    }
   ],
   "source": [
    "# %load DataFrame基本功能.py\n",
    "import pandas as pd\n",
    "data={'name':pd.Series(['小明','小红','小李','小花']),\n",
    "      'age':pd.Series([11,12,13,14]),\n",
    "      'gender':pd.Series(['男','女','男','女']),\n",
    "      'class': pd.Series(['1班','2班','1班','2班'])\n",
    "      }\n",
    "df=pd.DataFrame(data,columns=['name','age','gender','class'])\n",
    "print('元数据帧：')\n",
    "print(df)\n",
    "print('转置')\n",
    "print(df.T)\n",
    "print('轴序列：',df.axes)   # 行轴标签和列轴标签作为成员\n",
    "print('数据类型')\n",
    "print(df.dtypes)\n",
    "print('是否为空',df.empty)\n",
    "print('维度',df.ndim)\n",
    "print('形状',df.shape)\n",
    "print('元素数量',df.size)\n",
    "print('实际的NumPy表示')\n",
    "print(df.values)\n",
    "print('前三行数据')\n",
    "print(df.head(3))\n",
    "print('后三行数据')\n",
    "print(df.tail(3))\n"
   ]
  },
  {
   "cell_type": "code",
   "execution_count": null,
   "metadata": {},
   "outputs": [],
   "source": []
  }
 ],
 "metadata": {
  "kernelspec": {
   "display_name": "Python 3 (ipykernel)",
   "language": "python",
   "name": "python3"
  },
  "language_info": {
   "codemirror_mode": {
    "name": "ipython",
    "version": 3
   },
   "file_extension": ".py",
   "mimetype": "text/x-python",
   "name": "python",
   "nbconvert_exporter": "python",
   "pygments_lexer": "ipython3",
   "version": "3.10.7"
  }
 },
 "nbformat": 4,
 "nbformat_minor": 1
}
