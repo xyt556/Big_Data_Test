{
 "cells": [
  {
   "cell_type": "code",
   "execution_count": 1,
   "metadata": {},
   "outputs": [],
   "source": [
    "import numpy as np\n",
    "import pandas as pd\n",
    "import matplotlib.pyplot as plt\n",
    "%matplotlib inline"
   ]
  },
  {
   "cell_type": "code",
   "execution_count": 59,
   "metadata": {},
   "outputs": [
    {
     "data": {
      "text/html": [
       "<div>\n",
       "<style scoped>\n",
       "    .dataframe tbody tr th:only-of-type {\n",
       "        vertical-align: middle;\n",
       "    }\n",
       "\n",
       "    .dataframe tbody tr th {\n",
       "        vertical-align: top;\n",
       "    }\n",
       "\n",
       "    .dataframe thead th {\n",
       "        text-align: right;\n",
       "    }\n",
       "</style>\n",
       "<table border=\"1\" class=\"dataframe\">\n",
       "  <thead>\n",
       "    <tr style=\"text-align: right;\">\n",
       "      <th></th>\n",
       "      <th>PassengerId</th>\n",
       "      <th>Survived</th>\n",
       "      <th>Pclass</th>\n",
       "      <th>Name</th>\n",
       "      <th>Sex</th>\n",
       "      <th>Age</th>\n",
       "      <th>SibSp</th>\n",
       "      <th>Parch</th>\n",
       "      <th>Ticket</th>\n",
       "      <th>Fare</th>\n",
       "      <th>Cabin</th>\n",
       "      <th>Embarked</th>\n",
       "    </tr>\n",
       "  </thead>\n",
       "  <tbody>\n",
       "    <tr>\n",
       "      <th>0</th>\n",
       "      <td>1</td>\n",
       "      <td>0</td>\n",
       "      <td>3</td>\n",
       "      <td>Braund, Mr. Owen Harris</td>\n",
       "      <td>male</td>\n",
       "      <td>22.0</td>\n",
       "      <td>1</td>\n",
       "      <td>0</td>\n",
       "      <td>A/5 21171</td>\n",
       "      <td>7.2500</td>\n",
       "      <td>NaN</td>\n",
       "      <td>S</td>\n",
       "    </tr>\n",
       "    <tr>\n",
       "      <th>1</th>\n",
       "      <td>2</td>\n",
       "      <td>1</td>\n",
       "      <td>1</td>\n",
       "      <td>Cumings, Mrs. John Bradley (Florence Briggs Th...</td>\n",
       "      <td>female</td>\n",
       "      <td>38.0</td>\n",
       "      <td>1</td>\n",
       "      <td>0</td>\n",
       "      <td>PC 17599</td>\n",
       "      <td>71.2833</td>\n",
       "      <td>C85</td>\n",
       "      <td>C</td>\n",
       "    </tr>\n",
       "    <tr>\n",
       "      <th>2</th>\n",
       "      <td>3</td>\n",
       "      <td>1</td>\n",
       "      <td>3</td>\n",
       "      <td>Heikkinen, Miss. Laina</td>\n",
       "      <td>female</td>\n",
       "      <td>26.0</td>\n",
       "      <td>0</td>\n",
       "      <td>0</td>\n",
       "      <td>STON/O2. 3101282</td>\n",
       "      <td>7.9250</td>\n",
       "      <td>NaN</td>\n",
       "      <td>S</td>\n",
       "    </tr>\n",
       "    <tr>\n",
       "      <th>3</th>\n",
       "      <td>4</td>\n",
       "      <td>1</td>\n",
       "      <td>1</td>\n",
       "      <td>Futrelle, Mrs. Jacques Heath (Lily May Peel)</td>\n",
       "      <td>female</td>\n",
       "      <td>35.0</td>\n",
       "      <td>1</td>\n",
       "      <td>0</td>\n",
       "      <td>113803</td>\n",
       "      <td>53.1000</td>\n",
       "      <td>C123</td>\n",
       "      <td>S</td>\n",
       "    </tr>\n",
       "    <tr>\n",
       "      <th>4</th>\n",
       "      <td>5</td>\n",
       "      <td>0</td>\n",
       "      <td>3</td>\n",
       "      <td>Allen, Mr. William Henry</td>\n",
       "      <td>male</td>\n",
       "      <td>35.0</td>\n",
       "      <td>0</td>\n",
       "      <td>0</td>\n",
       "      <td>373450</td>\n",
       "      <td>8.0500</td>\n",
       "      <td>NaN</td>\n",
       "      <td>S</td>\n",
       "    </tr>\n",
       "  </tbody>\n",
       "</table>\n",
       "</div>"
      ],
      "text/plain": [
       "   PassengerId  Survived  Pclass  \\\n",
       "0            1         0       3   \n",
       "1            2         1       1   \n",
       "2            3         1       3   \n",
       "3            4         1       1   \n",
       "4            5         0       3   \n",
       "\n",
       "                                                Name     Sex   Age  SibSp  \\\n",
       "0                            Braund, Mr. Owen Harris    male  22.0      1   \n",
       "1  Cumings, Mrs. John Bradley (Florence Briggs Th...  female  38.0      1   \n",
       "2                             Heikkinen, Miss. Laina  female  26.0      0   \n",
       "3       Futrelle, Mrs. Jacques Heath (Lily May Peel)  female  35.0      1   \n",
       "4                           Allen, Mr. William Henry    male  35.0      0   \n",
       "\n",
       "   Parch            Ticket     Fare Cabin Embarked  \n",
       "0      0         A/5 21171   7.2500   NaN        S  \n",
       "1      0          PC 17599  71.2833   C85        C  \n",
       "2      0  STON/O2. 3101282   7.9250   NaN        S  \n",
       "3      0            113803  53.1000  C123        S  \n",
       "4      0            373450   8.0500   NaN        S  "
      ]
     },
     "execution_count": 59,
     "metadata": {},
     "output_type": "execute_result"
    }
   ],
   "source": [
    "seed = 222\n",
    "np.random.seed(seed)\n",
    "\n",
    "df = pd.read_csv('./data/csv/titanic.csv')\n",
    "df.head()\n"
   ]
  },
  {
   "cell_type": "code",
   "execution_count": 60,
   "metadata": {},
   "outputs": [
    {
     "name": "stdout",
     "output_type": "stream",
     "text": [
      "\n",
      " Example data:\n"
     ]
    },
    {
     "data": {
      "text/html": [
       "<div>\n",
       "<style scoped>\n",
       "    .dataframe tbody tr th:only-of-type {\n",
       "        vertical-align: middle;\n",
       "    }\n",
       "\n",
       "    .dataframe tbody tr th {\n",
       "        vertical-align: top;\n",
       "    }\n",
       "\n",
       "    .dataframe thead th {\n",
       "        text-align: right;\n",
       "    }\n",
       "</style>\n",
       "<table border=\"1\" class=\"dataframe\">\n",
       "  <thead>\n",
       "    <tr style=\"text-align: right;\">\n",
       "      <th></th>\n",
       "      <th>PassengerId</th>\n",
       "      <th>Survived</th>\n",
       "      <th>Pclass</th>\n",
       "      <th>Name</th>\n",
       "      <th>Sex</th>\n",
       "      <th>Age</th>\n",
       "      <th>SibSp</th>\n",
       "      <th>Parch</th>\n",
       "      <th>Ticket</th>\n",
       "      <th>Fare</th>\n",
       "      <th>Cabin</th>\n",
       "      <th>Embarked</th>\n",
       "    </tr>\n",
       "  </thead>\n",
       "  <tbody>\n",
       "    <tr>\n",
       "      <th>0</th>\n",
       "      <td>1</td>\n",
       "      <td>0</td>\n",
       "      <td>3</td>\n",
       "      <td>Braund, Mr. Owen Harris</td>\n",
       "      <td>male</td>\n",
       "      <td>22.0</td>\n",
       "      <td>1</td>\n",
       "      <td>0</td>\n",
       "      <td>A/5 21171</td>\n",
       "      <td>7.2500</td>\n",
       "      <td>NaN</td>\n",
       "      <td>S</td>\n",
       "    </tr>\n",
       "    <tr>\n",
       "      <th>1</th>\n",
       "      <td>2</td>\n",
       "      <td>1</td>\n",
       "      <td>1</td>\n",
       "      <td>Cumings, Mrs. John Bradley (Florence Briggs Th...</td>\n",
       "      <td>female</td>\n",
       "      <td>38.0</td>\n",
       "      <td>1</td>\n",
       "      <td>0</td>\n",
       "      <td>PC 17599</td>\n",
       "      <td>71.2833</td>\n",
       "      <td>C85</td>\n",
       "      <td>C</td>\n",
       "    </tr>\n",
       "    <tr>\n",
       "      <th>2</th>\n",
       "      <td>3</td>\n",
       "      <td>1</td>\n",
       "      <td>3</td>\n",
       "      <td>Heikkinen, Miss. Laina</td>\n",
       "      <td>female</td>\n",
       "      <td>26.0</td>\n",
       "      <td>0</td>\n",
       "      <td>0</td>\n",
       "      <td>STON/O2. 3101282</td>\n",
       "      <td>7.9250</td>\n",
       "      <td>NaN</td>\n",
       "      <td>S</td>\n",
       "    </tr>\n",
       "    <tr>\n",
       "      <th>3</th>\n",
       "      <td>4</td>\n",
       "      <td>1</td>\n",
       "      <td>1</td>\n",
       "      <td>Futrelle, Mrs. Jacques Heath (Lily May Peel)</td>\n",
       "      <td>female</td>\n",
       "      <td>35.0</td>\n",
       "      <td>1</td>\n",
       "      <td>0</td>\n",
       "      <td>113803</td>\n",
       "      <td>53.1000</td>\n",
       "      <td>C123</td>\n",
       "      <td>S</td>\n",
       "    </tr>\n",
       "    <tr>\n",
       "      <th>4</th>\n",
       "      <td>5</td>\n",
       "      <td>0</td>\n",
       "      <td>3</td>\n",
       "      <td>Allen, Mr. William Henry</td>\n",
       "      <td>male</td>\n",
       "      <td>35.0</td>\n",
       "      <td>0</td>\n",
       "      <td>0</td>\n",
       "      <td>373450</td>\n",
       "      <td>8.0500</td>\n",
       "      <td>NaN</td>\n",
       "      <td>S</td>\n",
       "    </tr>\n",
       "  </tbody>\n",
       "</table>\n",
       "</div>"
      ],
      "text/plain": [
       "   PassengerId  Survived  Pclass  \\\n",
       "0            1         0       3   \n",
       "1            2         1       1   \n",
       "2            3         1       3   \n",
       "3            4         1       1   \n",
       "4            5         0       3   \n",
       "\n",
       "                                                Name     Sex   Age  SibSp  \\\n",
       "0                            Braund, Mr. Owen Harris    male  22.0      1   \n",
       "1  Cumings, Mrs. John Bradley (Florence Briggs Th...  female  38.0      1   \n",
       "2                             Heikkinen, Miss. Laina  female  26.0      0   \n",
       "3       Futrelle, Mrs. Jacques Heath (Lily May Peel)  female  35.0      1   \n",
       "4                           Allen, Mr. William Henry    male  35.0      0   \n",
       "\n",
       "   Parch            Ticket     Fare Cabin Embarked  \n",
       "0      0         A/5 21171   7.2500   NaN        S  \n",
       "1      0          PC 17599  71.2833   C85        C  \n",
       "2      0  STON/O2. 3101282   7.9250   NaN        S  \n",
       "3      0            113803  53.1000  C123        S  \n",
       "4      0            373450   8.0500   NaN        S  "
      ]
     },
     "execution_count": 60,
     "metadata": {},
     "output_type": "execute_result"
    }
   ],
   "source": [
    "from sklearn.model_selection import train_test_split\n",
    "from sklearn.metrics import  roc_auc_score\n",
    "\n",
    "def get_train_test(test_size = 0.9):\n",
    "    y = 1 * (df.Sex == \"male\")\n",
    "    X = df.drop([\"Sex\"],axis = 1)\n",
    "    X = pd.get_dummies(X,sparse = True)\n",
    "    X.drop(X.columns[X.std() == 0],axis = 1,inplace = True) \n",
    "    return train_test_split(X,y,test_size = test_size,random_state = seed)\n",
    "\n",
    "xtrain,xtest,ytrain,ytest = get_train_test()\n",
    "\n",
    "print(\"\\n Example data:\")\n",
    "df.head()"
   ]
  },
  {
   "cell_type": "code",
   "execution_count": 65,
   "metadata": {},
   "outputs": [
    {
     "name": "stdout",
     "output_type": "stream",
     "text": [
      "     PassengerId  Survived  Pclass    Age  SibSp  Parch      Fare  \\\n",
      "879          880         1       1  56.00      0      1   83.1583   \n",
      "97            98         1       1  23.00      0      1   63.3583   \n",
      "205          206         0       3   2.00      0      1   10.4625   \n",
      "860          861         0       3  41.00      2      0   14.1083   \n",
      "6              7         0       1  54.00      0      0   51.8625   \n",
      "579          580         1       3  32.00      0      0    7.9250   \n",
      "494          495         0       3  21.00      0      0    8.0500   \n",
      "46            47         0       3    NaN      1      0   15.5000   \n",
      "704          705         0       3  26.00      1      0    7.8542   \n",
      "114          115         0       3  17.00      0      0   14.4583   \n",
      "840          841         0       3  20.00      0      0    7.9250   \n",
      "51            52         0       3  21.00      0      0    7.8000   \n",
      "858          859         1       3  24.00      0      3   19.2583   \n",
      "188          189         0       3  40.00      1      1   15.5000   \n",
      "226          227         1       2  19.00      0      0   10.5000   \n",
      "550          551         1       1  17.00      0      2  110.8833   \n",
      "439          440         0       2  31.00      0      0   10.5000   \n",
      "828          829         1       3    NaN      0      0    7.7500   \n",
      "732          733         0       2    NaN      0      0    0.0000   \n",
      "546          547         1       2  19.00      1      0   26.0000   \n",
      "740          741         1       1    NaN      0      0   30.0000   \n",
      "826          827         0       3    NaN      0      0   56.4958   \n",
      "324          325         0       3    NaN      8      2   69.5500   \n",
      "350          351         0       3  23.00      0      0    9.2250   \n",
      "354          355         0       3    NaN      0      0    7.2250   \n",
      "362          363         0       3  45.00      0      1   14.4542   \n",
      "661          662         0       3  40.00      0      0    7.2250   \n",
      "7              8         0       3   2.00      3      1   21.0750   \n",
      "203          204         0       3  45.50      0      0    7.2250   \n",
      "305          306         1       1   0.92      1      2  151.5500   \n",
      "..           ...       ...     ...    ...    ...    ...       ...   \n",
      "392          393         0       3  28.00      2      0    7.9250   \n",
      "649          650         1       3  23.00      0      0    7.5500   \n",
      "825          826         0       3    NaN      0      0    6.9500   \n",
      "273          274         0       1  37.00      0      1   29.7000   \n",
      "427          428         1       2  19.00      0      0   26.0000   \n",
      "434          435         0       1  50.00      1      0   55.9000   \n",
      "35            36         0       1  42.00      1      0   52.0000   \n",
      "83            84         0       1  28.00      0      0   47.1000   \n",
      "495          496         0       3    NaN      0      0   14.4583   \n",
      "589          590         0       3    NaN      0      0    8.0500   \n",
      "276          277         0       3  45.00      0      0    7.7500   \n",
      "656          657         0       3    NaN      0      0    7.8958   \n",
      "120          121         0       2  21.00      2      0   73.5000   \n",
      "344          345         0       2  36.00      0      0   13.0000   \n",
      "410          411         0       3    NaN      0      0    7.8958   \n",
      "455          456         1       3  29.00      0      0    7.8958   \n",
      "504          505         1       1  16.00      0      0   86.5000   \n",
      "776          777         0       3    NaN      0      0    7.7500   \n",
      "252          253         0       1  62.00      0      0   26.5500   \n",
      "363          364         0       3  35.00      0      0    7.0500   \n",
      "765          766         1       1  51.00      1      0   77.9583   \n",
      "639          640         0       3    NaN      1      0   16.1000   \n",
      "109          110         1       3    NaN      1      0   24.1500   \n",
      "342          343         0       2  28.00      0      0   13.0000   \n",
      "236          237         0       2  44.00      1      0   26.0000   \n",
      "578          579         0       3    NaN      1      0   14.4583   \n",
      "526          527         1       2  50.00      0      0   10.5000   \n",
      "627          628         1       1  21.00      0      0   77.9583   \n",
      "45            46         0       3    NaN      0      0    8.0500   \n",
      "134          135         0       2  25.00      0      0   13.0000   \n",
      "\n",
      "     Name_Abbing, Mr. Anthony  Name_Abbott, Mr. Rossmore Edward  \\\n",
      "879                         0                                 0   \n",
      "97                          0                                 0   \n",
      "205                         0                                 0   \n",
      "860                         0                                 0   \n",
      "6                           0                                 0   \n",
      "579                         0                                 0   \n",
      "494                         0                                 0   \n",
      "46                          0                                 0   \n",
      "704                         0                                 0   \n",
      "114                         0                                 0   \n",
      "840                         0                                 0   \n",
      "51                          0                                 0   \n",
      "858                         0                                 0   \n",
      "188                         0                                 0   \n",
      "226                         0                                 0   \n",
      "550                         0                                 0   \n",
      "439                         0                                 0   \n",
      "828                         0                                 0   \n",
      "732                         0                                 0   \n",
      "546                         0                                 0   \n",
      "740                         0                                 0   \n",
      "826                         0                                 0   \n",
      "324                         0                                 0   \n",
      "350                         0                                 0   \n",
      "354                         0                                 0   \n",
      "362                         0                                 0   \n",
      "661                         0                                 0   \n",
      "7                           0                                 0   \n",
      "203                         0                                 0   \n",
      "305                         0                                 0   \n",
      "..                        ...                               ...   \n",
      "392                         0                                 0   \n",
      "649                         0                                 0   \n",
      "825                         0                                 0   \n",
      "273                         0                                 0   \n",
      "427                         0                                 0   \n",
      "434                         0                                 0   \n",
      "35                          0                                 0   \n",
      "83                          0                                 0   \n",
      "495                         0                                 0   \n",
      "589                         0                                 0   \n",
      "276                         0                                 0   \n",
      "656                         0                                 0   \n",
      "120                         0                                 0   \n",
      "344                         0                                 0   \n",
      "410                         0                                 0   \n",
      "455                         0                                 0   \n",
      "504                         0                                 0   \n",
      "776                         0                                 0   \n",
      "252                         0                                 0   \n",
      "363                         0                                 0   \n",
      "765                         0                                 0   \n",
      "639                         0                                 0   \n",
      "109                         0                                 0   \n",
      "342                         0                                 0   \n",
      "236                         0                                 0   \n",
      "578                         0                                 0   \n",
      "526                         0                                 0   \n",
      "627                         0                                 0   \n",
      "45                          0                                 0   \n",
      "134                         0                                 0   \n",
      "\n",
      "     Name_Abbott, Mrs. Stanton (Rosa Hunt)  ...  Cabin_F G73  Cabin_F2  \\\n",
      "879                                      0  ...            0         0   \n",
      "97                                       0  ...            0         0   \n",
      "205                                      0  ...            0         0   \n",
      "860                                      0  ...            0         0   \n",
      "6                                        0  ...            0         0   \n",
      "579                                      0  ...            0         0   \n",
      "494                                      0  ...            0         0   \n",
      "46                                       0  ...            0         0   \n",
      "704                                      0  ...            0         0   \n",
      "114                                      0  ...            0         0   \n",
      "840                                      0  ...            0         0   \n",
      "51                                       0  ...            0         0   \n",
      "858                                      0  ...            0         0   \n",
      "188                                      0  ...            0         0   \n",
      "226                                      0  ...            0         0   \n",
      "550                                      0  ...            0         0   \n",
      "439                                      0  ...            0         0   \n",
      "828                                      0  ...            0         0   \n",
      "732                                      0  ...            0         0   \n",
      "546                                      0  ...            0         0   \n",
      "740                                      0  ...            0         0   \n",
      "826                                      0  ...            0         0   \n",
      "324                                      0  ...            0         0   \n",
      "350                                      0  ...            0         0   \n",
      "354                                      0  ...            0         0   \n",
      "362                                      0  ...            0         0   \n",
      "661                                      0  ...            0         0   \n",
      "7                                        0  ...            0         0   \n",
      "203                                      0  ...            0         0   \n",
      "305                                      0  ...            0         0   \n",
      "..                                     ...  ...          ...       ...   \n",
      "392                                      0  ...            0         0   \n",
      "649                                      0  ...            0         0   \n",
      "825                                      0  ...            0         0   \n",
      "273                                      0  ...            0         0   \n",
      "427                                      0  ...            0         0   \n",
      "434                                      0  ...            0         0   \n",
      "35                                       0  ...            0         0   \n",
      "83                                       0  ...            0         0   \n",
      "495                                      0  ...            0         0   \n",
      "589                                      0  ...            0         0   \n",
      "276                                      0  ...            0         0   \n",
      "656                                      0  ...            0         0   \n",
      "120                                      0  ...            0         0   \n",
      "344                                      0  ...            0         0   \n",
      "410                                      0  ...            0         0   \n",
      "455                                      0  ...            0         0   \n",
      "504                                      0  ...            0         0   \n",
      "776                                      0  ...            0         0   \n",
      "252                                      0  ...            0         0   \n",
      "363                                      0  ...            0         0   \n",
      "765                                      0  ...            0         0   \n",
      "639                                      0  ...            0         0   \n",
      "109                                      0  ...            0         0   \n",
      "342                                      0  ...            0         0   \n",
      "236                                      0  ...            0         0   \n",
      "578                                      0  ...            0         0   \n",
      "526                                      0  ...            0         0   \n",
      "627                                      0  ...            0         0   \n",
      "45                                       0  ...            0         0   \n",
      "134                                      0  ...            0         0   \n",
      "\n",
      "     Cabin_F33  Cabin_F38  Cabin_F4  Cabin_G6  Cabin_T  Embarked_C  \\\n",
      "879          0          0         0         0        0           1   \n",
      "97           0          0         0         0        0           1   \n",
      "205          0          0         0         1        0           0   \n",
      "860          0          0         0         0        0           0   \n",
      "6            0          0         0         0        0           0   \n",
      "579          0          0         0         0        0           0   \n",
      "494          0          0         0         0        0           0   \n",
      "46           0          0         0         0        0           0   \n",
      "704          0          0         0         0        0           0   \n",
      "114          0          0         0         0        0           1   \n",
      "840          0          0         0         0        0           0   \n",
      "51           0          0         0         0        0           0   \n",
      "858          0          0         0         0        0           1   \n",
      "188          0          0         0         0        0           0   \n",
      "226          0          0         0         0        0           0   \n",
      "550          0          0         0         0        0           1   \n",
      "439          0          0         0         0        0           0   \n",
      "828          0          0         0         0        0           0   \n",
      "732          0          0         0         0        0           0   \n",
      "546          0          0         0         0        0           0   \n",
      "740          0          0         0         0        0           0   \n",
      "826          0          0         0         0        0           0   \n",
      "324          0          0         0         0        0           0   \n",
      "350          0          0         0         0        0           0   \n",
      "354          0          0         0         0        0           1   \n",
      "362          0          0         0         0        0           1   \n",
      "661          0          0         0         0        0           1   \n",
      "7            0          0         0         0        0           0   \n",
      "203          0          0         0         0        0           1   \n",
      "305          0          0         0         0        0           0   \n",
      "..         ...        ...       ...       ...      ...         ...   \n",
      "392          0          0         0         0        0           0   \n",
      "649          0          0         0         0        0           0   \n",
      "825          0          0         0         0        0           0   \n",
      "273          0          0         0         0        0           1   \n",
      "427          0          0         0         0        0           0   \n",
      "434          0          0         0         0        0           0   \n",
      "35           0          0         0         0        0           0   \n",
      "83           0          0         0         0        0           0   \n",
      "495          0          0         0         0        0           1   \n",
      "589          0          0         0         0        0           0   \n",
      "276          0          0         0         0        0           0   \n",
      "656          0          0         0         0        0           0   \n",
      "120          0          0         0         0        0           0   \n",
      "344          0          0         0         0        0           0   \n",
      "410          0          0         0         0        0           0   \n",
      "455          0          0         0         0        0           1   \n",
      "504          0          0         0         0        0           0   \n",
      "776          0          1         0         0        0           0   \n",
      "252          0          0         0         0        0           0   \n",
      "363          0          0         0         0        0           0   \n",
      "765          0          0         0         0        0           0   \n",
      "639          0          0         0         0        0           0   \n",
      "109          0          0         0         0        0           0   \n",
      "342          0          0         0         0        0           0   \n",
      "236          0          0         0         0        0           0   \n",
      "578          0          0         0         0        0           1   \n",
      "526          0          0         0         0        0           0   \n",
      "627          0          0         0         0        0           0   \n",
      "45           0          0         0         0        0           0   \n",
      "134          0          0         0         0        0           0   \n",
      "\n",
      "     Embarked_Q  Embarked_S  \n",
      "879           0           0  \n",
      "97            0           0  \n",
      "205           0           1  \n",
      "860           0           1  \n",
      "6             0           1  \n",
      "579           0           1  \n",
      "494           0           1  \n",
      "46            1           0  \n",
      "704           0           1  \n",
      "114           0           0  \n",
      "840           0           1  \n",
      "51            0           1  \n",
      "858           0           0  \n",
      "188           1           0  \n",
      "226           0           1  \n",
      "550           0           0  \n",
      "439           0           1  \n",
      "828           1           0  \n",
      "732           0           1  \n",
      "546           0           1  \n",
      "740           0           1  \n",
      "826           0           1  \n",
      "324           0           1  \n",
      "350           0           1  \n",
      "354           0           0  \n",
      "362           0           0  \n",
      "661           0           0  \n",
      "7             0           1  \n",
      "203           0           0  \n",
      "305           0           1  \n",
      "..          ...         ...  \n",
      "392           0           1  \n",
      "649           0           1  \n",
      "825           1           0  \n",
      "273           0           0  \n",
      "427           0           1  \n",
      "434           0           1  \n",
      "35            0           1  \n",
      "83            0           1  \n",
      "495           0           0  \n",
      "589           0           1  \n",
      "276           0           1  \n",
      "656           0           1  \n",
      "120           0           1  \n",
      "344           0           1  \n",
      "410           0           1  \n",
      "455           0           0  \n",
      "504           0           1  \n",
      "776           1           0  \n",
      "252           0           1  \n",
      "363           0           1  \n",
      "765           0           1  \n",
      "639           0           1  \n",
      "109           1           0  \n",
      "342           0           1  \n",
      "236           0           1  \n",
      "578           0           0  \n",
      "526           0           1  \n",
      "627           0           1  \n",
      "45            0           1  \n",
      "134           0           1  \n",
      "\n",
      "[89 rows x 1729 columns]\n"
     ]
    }
   ],
   "source": [
    "print(xtrain)"
   ]
  },
  {
   "cell_type": "code",
   "execution_count": 66,
   "metadata": {},
   "outputs": [
    {
     "data": {
      "text/plain": [
       "<matplotlib.axes._subplots.AxesSubplot at 0x25c23391278>"
      ]
     },
     "execution_count": 66,
     "metadata": {},
     "output_type": "execute_result"
    },
    {
     "data": {
      "image/png": "[encoded data removed]",
      "text/plain": [
       "<Figure size 432x288 with 1 Axes>"
      ]
     },
     "metadata": {
      "needs_background": "light"
     },
     "output_type": "display_data"
    }
   ],
   "source": [
    "df.Sex.value_counts(normalize = True).plot(kind = 'bar',title = 'Nums of person')"
   ]
  },
  {
   "cell_type": "code",
   "execution_count": 67,
   "metadata": {},
   "outputs": [
    {
     "name": "stdout",
     "output_type": "stream",
     "text": [
      "<class 'pandas.core.frame.DataFrame'>\n",
      "RangeIndex: 891 entries, 0 to 890\n",
      "Data columns (total 12 columns):\n",
      "PassengerId    891 non-null int64\n",
      "Survived       891 non-null int64\n",
      "Pclass         891 non-null int64\n",
      "Name           891 non-null object\n",
      "Sex            891 non-null object\n",
      "Age            891 non-null object\n",
      "SibSp          891 non-null int64\n",
      "Parch          891 non-null int64\n",
      "Ticket         891 non-null object\n",
      "Fare           891 non-null float64\n",
      "Cabin          891 non-null object\n",
      "Embarked       891 non-null object\n",
      "dtypes: float64(1), int64(5), object(6)\n",
      "memory usage: 83.6+ KB\n"
     ]
    }
   ],
   "source": [
    "df.info()"
   ]
  },
  {
   "cell_type": "code",
   "execution_count": 68,
   "metadata": {},
   "outputs": [
    {
     "data": {
      "text/plain": [
       "0"
      ]
     },
     "execution_count": 68,
     "metadata": {},
     "output_type": "execute_result"
    }
   ],
   "source": [
    "nan_list = df.isnull().sum().tolist()\n",
    "sum(nan_list)"
   ]
  },
  {
   "cell_type": "code",
   "execution_count": 69,
   "metadata": {},
   "outputs": [
    {
     "name": "stdout",
     "output_type": "stream",
     "text": [
      "<class 'pandas.core.frame.DataFrame'>\n",
      "RangeIndex: 891 entries, 0 to 890\n",
      "Data columns (total 12 columns):\n",
      "PassengerId    891 non-null int64\n",
      "Survived       891 non-null int64\n",
      "Pclass         891 non-null int64\n",
      "Name           891 non-null object\n",
      "Sex            891 non-null object\n",
      "Age            891 non-null object\n",
      "SibSp          891 non-null int64\n",
      "Parch          891 non-null int64\n",
      "Ticket         891 non-null object\n",
      "Fare           891 non-null float64\n",
      "Cabin          891 non-null object\n",
      "Embarked       891 non-null object\n",
      "dtypes: float64(1), int64(5), object(6)\n",
      "memory usage: 83.6+ KB\n"
     ]
    }
   ],
   "source": [
    "df['Age'].fillna('0.0',inplace = True)\n",
    "df['Cabin'].fillna('0.0',inplace = True)\n",
    "df['Embarked'].fillna('0.0',inplace = True)\n",
    "\n",
    "df.info()"
   ]
  },
  {
   "cell_type": "code",
   "execution_count": 18,
   "metadata": {},
   "outputs": [
    {
     "data": {
      "text/plain": [
       "pandas.core.frame.DataFrame"
      ]
     },
     "execution_count": 18,
     "metadata": {},
     "output_type": "execute_result"
    }
   ],
   "source": [
    "type(df)"
   ]
  },
  {
   "cell_type": "code",
   "execution_count": 34,
   "metadata": {},
   "outputs": [
    {
     "data": {
      "text/plain": [
       "0"
      ]
     },
     "execution_count": 34,
     "metadata": {},
     "output_type": "execute_result"
    }
   ],
   "source": [
    "nan_list = df.isnull().sum().tolist()\n",
    "sum(nan_list)"
   ]
  },
  {
   "cell_type": "markdown",
   "metadata": {},
   "source": [
    "# 构造决策树"
   ]
  },
  {
   "cell_type": "code",
   "execution_count": 70,
   "metadata": {},
   "outputs": [],
   "source": [
    "import pydotplus\n",
    "from IPython.display import Image\n",
    "from sklearn.metrics import roc_auc_score\n",
    "from sklearn.tree import DecisionTreeClassifier,export_graphviz"
   ]
  },
  {
   "cell_type": "code",
   "execution_count": 71,
   "metadata": {},
   "outputs": [],
   "source": [
    "def print_graph(clf,feature_names):\n",
    "    \"\"\" print decision tree\"\"\"\n",
    "    graph = export_graphviz(clf,\n",
    "                            label = \"root\",\n",
    "                            proportion = True,\n",
    "                            impurity = False,\n",
    "                            out_file = None,\n",
    "                           feature_names = feature_names,\n",
    "                           class_names = {0:'f',1:'m'},\n",
    "                           filled = True,\n",
    "                           rounded = True\n",
    "                           )\n",
    "    graph = pydotplus.graph_from_dot_data(graph)\n",
    "    return Image(graph.create_png())"
   ]
  },
  {
   "cell_type": "code",
   "execution_count": 21,
   "metadata": {},
   "outputs": [
    {
     "name": "stdout",
     "output_type": "stream",
     "text": [
      "<class 'pandas.core.frame.DataFrame'>\n",
      "RangeIndex: 891 entries, 0 to 890\n",
      "Data columns (total 12 columns):\n",
      "PassengerId    891 non-null int64\n",
      "Survived       891 non-null int64\n",
      "Pclass         891 non-null int64\n",
      "Name           891 non-null object\n",
      "Sex            891 non-null object\n",
      "Age            891 non-null object\n",
      "SibSp          891 non-null int64\n",
      "Parch          891 non-null int64\n",
      "Ticket         891 non-null object\n",
      "Fare           891 non-null float64\n",
      "Cabin          891 non-null object\n",
      "Embarked       891 non-null object\n",
      "dtypes: float64(1), int64(5), object(6)\n",
      "memory usage: 83.6+ KB\n"
     ]
    }
   ],
   "source": [
    "df.info()"
   ]
  },
  {
   "cell_type": "code",
   "execution_count": 72,
   "metadata": {},
   "outputs": [
    {
     "data": {
      "text/html": [
       "<div>\n",
       "<style scoped>\n",
       "    .dataframe tbody tr th:only-of-type {\n",
       "        vertical-align: middle;\n",
       "    }\n",
       "\n",
       "    .dataframe tbody tr th {\n",
       "        vertical-align: top;\n",
       "    }\n",
       "\n",
       "    .dataframe thead th {\n",
       "        text-align: right;\n",
       "    }\n",
       "</style>\n",
       "<table border=\"1\" class=\"dataframe\">\n",
       "  <thead>\n",
       "    <tr style=\"text-align: right;\">\n",
       "      <th></th>\n",
       "      <th>PassengerId</th>\n",
       "      <th>Survived</th>\n",
       "      <th>Pclass</th>\n",
       "      <th>Name</th>\n",
       "      <th>Sex</th>\n",
       "      <th>Age</th>\n",
       "      <th>SibSp</th>\n",
       "      <th>Parch</th>\n",
       "      <th>Ticket</th>\n",
       "      <th>Fare</th>\n",
       "      <th>Cabin</th>\n",
       "      <th>Embarked</th>\n",
       "    </tr>\n",
       "  </thead>\n",
       "  <tbody>\n",
       "    <tr>\n",
       "      <th>0</th>\n",
       "      <td>1</td>\n",
       "      <td>0</td>\n",
       "      <td>3</td>\n",
       "      <td>Braund, Mr. Owen Harris</td>\n",
       "      <td>male</td>\n",
       "      <td>22</td>\n",
       "      <td>1</td>\n",
       "      <td>0</td>\n",
       "      <td>A/5 21171</td>\n",
       "      <td>7.2500</td>\n",
       "      <td>0.0</td>\n",
       "      <td>S</td>\n",
       "    </tr>\n",
       "    <tr>\n",
       "      <th>1</th>\n",
       "      <td>2</td>\n",
       "      <td>1</td>\n",
       "      <td>1</td>\n",
       "      <td>Cumings, Mrs. John Bradley (Florence Briggs Th...</td>\n",
       "      <td>female</td>\n",
       "      <td>38</td>\n",
       "      <td>1</td>\n",
       "      <td>0</td>\n",
       "      <td>PC 17599</td>\n",
       "      <td>71.2833</td>\n",
       "      <td>C85</td>\n",
       "      <td>C</td>\n",
       "    </tr>\n",
       "    <tr>\n",
       "      <th>2</th>\n",
       "      <td>3</td>\n",
       "      <td>1</td>\n",
       "      <td>3</td>\n",
       "      <td>Heikkinen, Miss. Laina</td>\n",
       "      <td>female</td>\n",
       "      <td>26</td>\n",
       "      <td>0</td>\n",
       "      <td>0</td>\n",
       "      <td>STON/O2. 3101282</td>\n",
       "      <td>7.9250</td>\n",
       "      <td>0.0</td>\n",
       "      <td>S</td>\n",
       "    </tr>\n",
       "    <tr>\n",
       "      <th>3</th>\n",
       "      <td>4</td>\n",
       "      <td>1</td>\n",
       "      <td>1</td>\n",
       "      <td>Futrelle, Mrs. Jacques Heath (Lily May Peel)</td>\n",
       "      <td>female</td>\n",
       "      <td>35</td>\n",
       "      <td>1</td>\n",
       "      <td>0</td>\n",
       "      <td>113803</td>\n",
       "      <td>53.1000</td>\n",
       "      <td>C123</td>\n",
       "      <td>S</td>\n",
       "    </tr>\n",
       "    <tr>\n",
       "      <th>4</th>\n",
       "      <td>5</td>\n",
       "      <td>0</td>\n",
       "      <td>3</td>\n",
       "      <td>Allen, Mr. William Henry</td>\n",
       "      <td>male</td>\n",
       "      <td>35</td>\n",
       "      <td>0</td>\n",
       "      <td>0</td>\n",
       "      <td>373450</td>\n",
       "      <td>8.0500</td>\n",
       "      <td>0.0</td>\n",
       "      <td>S</td>\n",
       "    </tr>\n",
       "  </tbody>\n",
       "</table>\n",
       "</div>"
      ],
      "text/plain": [
       "   PassengerId  Survived  Pclass  \\\n",
       "0            1         0       3   \n",
       "1            2         1       1   \n",
       "2            3         1       3   \n",
       "3            4         1       1   \n",
       "4            5         0       3   \n",
       "\n",
       "                                                Name     Sex Age  SibSp  \\\n",
       "0                            Braund, Mr. Owen Harris    male  22      1   \n",
       "1  Cumings, Mrs. John Bradley (Florence Briggs Th...  female  38      1   \n",
       "2                             Heikkinen, Miss. Laina  female  26      0   \n",
       "3       Futrelle, Mrs. Jacques Heath (Lily May Peel)  female  35      1   \n",
       "4                           Allen, Mr. William Henry    male  35      0   \n",
       "\n",
       "   Parch            Ticket     Fare Cabin Embarked  \n",
       "0      0         A/5 21171   7.2500   0.0        S  \n",
       "1      0          PC 17599  71.2833   C85        C  \n",
       "2      0  STON/O2. 3101282   7.9250   0.0        S  \n",
       "3      0            113803  53.1000  C123        S  \n",
       "4      0            373450   8.0500   0.0        S  "
      ]
     },
     "execution_count": 72,
     "metadata": {},
     "output_type": "execute_result"
    }
   ],
   "source": [
    "df.head()"
   ]
  },
  {
   "cell_type": "code",
   "execution_count": 79,
   "metadata": {},
   "outputs": [
    {
     "data": {
      "text/plain": [
       "23.0"
      ]
     },
     "execution_count": 79,
     "metadata": {},
     "output_type": "execute_result"
    }
   ],
   "source": [
    "xtrain = pd.DataFrame(xtrain)\n",
    "nan_list = xtrain.isnull().sum().tolist()\n",
    "sum(nan_list)"
   ]
  },
  {
   "cell_type": "code",
   "execution_count": 80,
   "metadata": {},
   "outputs": [
    {
     "data": {
      "text/html": [
       "<div>\n",
       "<style scoped>\n",
       "    .dataframe tbody tr th:only-of-type {\n",
       "        vertical-align: middle;\n",
       "    }\n",
       "\n",
       "    .dataframe tbody tr th {\n",
       "        vertical-align: top;\n",
       "    }\n",
       "\n",
       "    .dataframe thead th {\n",
       "        text-align: right;\n",
       "    }\n",
       "</style>\n",
       "<table border=\"1\" class=\"dataframe\">\n",
       "  <thead>\n",
       "    <tr style=\"text-align: right;\">\n",
       "      <th></th>\n",
       "      <th>PassengerId</th>\n",
       "      <th>Survived</th>\n",
       "      <th>Pclass</th>\n",
       "      <th>Age</th>\n",
       "      <th>SibSp</th>\n",
       "      <th>Parch</th>\n",
       "      <th>Fare</th>\n",
       "      <th>Name_Abbing, Mr. Anthony</th>\n",
       "      <th>Name_Abbott, Mr. Rossmore Edward</th>\n",
       "      <th>Name_Abbott, Mrs. Stanton (Rosa Hunt)</th>\n",
       "      <th>...</th>\n",
       "      <th>Cabin_F G73</th>\n",
       "      <th>Cabin_F2</th>\n",
       "      <th>Cabin_F33</th>\n",
       "      <th>Cabin_F38</th>\n",
       "      <th>Cabin_F4</th>\n",
       "      <th>Cabin_G6</th>\n",
       "      <th>Cabin_T</th>\n",
       "      <th>Embarked_C</th>\n",
       "      <th>Embarked_Q</th>\n",
       "      <th>Embarked_S</th>\n",
       "    </tr>\n",
       "  </thead>\n",
       "  <tbody>\n",
       "    <tr>\n",
       "      <th>879</th>\n",
       "      <td>880</td>\n",
       "      <td>1</td>\n",
       "      <td>1</td>\n",
       "      <td>56.0</td>\n",
       "      <td>0</td>\n",
       "      <td>1</td>\n",
       "      <td>83.1583</td>\n",
       "      <td>0</td>\n",
       "      <td>0</td>\n",
       "      <td>0</td>\n",
       "      <td>...</td>\n",
       "      <td>0</td>\n",
       "      <td>0</td>\n",
       "      <td>0</td>\n",
       "      <td>0</td>\n",
       "      <td>0</td>\n",
       "      <td>0</td>\n",
       "      <td>0</td>\n",
       "      <td>1</td>\n",
       "      <td>0</td>\n",
       "      <td>0</td>\n",
       "    </tr>\n",
       "    <tr>\n",
       "      <th>97</th>\n",
       "      <td>98</td>\n",
       "      <td>1</td>\n",
       "      <td>1</td>\n",
       "      <td>23.0</td>\n",
       "      <td>0</td>\n",
       "      <td>1</td>\n",
       "      <td>63.3583</td>\n",
       "      <td>0</td>\n",
       "      <td>0</td>\n",
       "      <td>0</td>\n",
       "      <td>...</td>\n",
       "      <td>0</td>\n",
       "      <td>0</td>\n",
       "      <td>0</td>\n",
       "      <td>0</td>\n",
       "      <td>0</td>\n",
       "      <td>0</td>\n",
       "      <td>0</td>\n",
       "      <td>1</td>\n",
       "      <td>0</td>\n",
       "      <td>0</td>\n",
       "    </tr>\n",
       "    <tr>\n",
       "      <th>205</th>\n",
       "      <td>206</td>\n",
       "      <td>0</td>\n",
       "      <td>3</td>\n",
       "      <td>2.0</td>\n",
       "      <td>0</td>\n",
       "      <td>1</td>\n",
       "      <td>10.4625</td>\n",
       "      <td>0</td>\n",
       "      <td>0</td>\n",
       "      <td>0</td>\n",
       "      <td>...</td>\n",
       "      <td>0</td>\n",
       "      <td>0</td>\n",
       "      <td>0</td>\n",
       "      <td>0</td>\n",
       "      <td>0</td>\n",
       "      <td>1</td>\n",
       "      <td>0</td>\n",
       "      <td>0</td>\n",
       "      <td>0</td>\n",
       "      <td>1</td>\n",
       "    </tr>\n",
       "    <tr>\n",
       "      <th>860</th>\n",
       "      <td>861</td>\n",
       "      <td>0</td>\n",
       "      <td>3</td>\n",
       "      <td>41.0</td>\n",
       "      <td>2</td>\n",
       "      <td>0</td>\n",
       "      <td>14.1083</td>\n",
       "      <td>0</td>\n",
       "      <td>0</td>\n",
       "      <td>0</td>\n",
       "      <td>...</td>\n",
       "      <td>0</td>\n",
       "      <td>0</td>\n",
       "      <td>0</td>\n",
       "      <td>0</td>\n",
       "      <td>0</td>\n",
       "      <td>0</td>\n",
       "      <td>0</td>\n",
       "      <td>0</td>\n",
       "      <td>0</td>\n",
       "      <td>1</td>\n",
       "    </tr>\n",
       "    <tr>\n",
       "      <th>6</th>\n",
       "      <td>7</td>\n",
       "      <td>0</td>\n",
       "      <td>1</td>\n",
       "      <td>54.0</td>\n",
       "      <td>0</td>\n",
       "      <td>0</td>\n",
       "      <td>51.8625</td>\n",
       "      <td>0</td>\n",
       "      <td>0</td>\n",
       "      <td>0</td>\n",
       "      <td>...</td>\n",
       "      <td>0</td>\n",
       "      <td>0</td>\n",
       "      <td>0</td>\n",
       "      <td>0</td>\n",
       "      <td>0</td>\n",
       "      <td>0</td>\n",
       "      <td>0</td>\n",
       "      <td>0</td>\n",
       "      <td>0</td>\n",
       "      <td>1</td>\n",
       "    </tr>\n",
       "  </tbody>\n",
       "</table>\n",
       "<p>5 rows × 1729 columns</p>\n",
       "</div>"
      ],
      "text/plain": [
       "     PassengerId  Survived  Pclass   Age  SibSp  Parch     Fare  \\\n",
       "879          880         1       1  56.0      0      1  83.1583   \n",
       "97            98         1       1  23.0      0      1  63.3583   \n",
       "205          206         0       3   2.0      0      1  10.4625   \n",
       "860          861         0       3  41.0      2      0  14.1083   \n",
       "6              7         0       1  54.0      0      0  51.8625   \n",
       "\n",
       "     Name_Abbing, Mr. Anthony  Name_Abbott, Mr. Rossmore Edward  \\\n",
       "879                         0                                 0   \n",
       "97                          0                                 0   \n",
       "205                         0                                 0   \n",
       "860                         0                                 0   \n",
       "6                           0                                 0   \n",
       "\n",
       "     Name_Abbott, Mrs. Stanton (Rosa Hunt)  ...  Cabin_F G73  Cabin_F2  \\\n",
       "879                                      0  ...            0         0   \n",
       "97                                       0  ...            0         0   \n",
       "205                                      0  ...            0         0   \n",
       "860                                      0  ...            0         0   \n",
       "6                                        0  ...            0         0   \n",
       "\n",
       "     Cabin_F33  Cabin_F38  Cabin_F4  Cabin_G6  Cabin_T  Embarked_C  \\\n",
       "879          0          0         0         0        0           1   \n",
       "97           0          0         0         0        0           1   \n",
       "205          0          0         0         1        0           0   \n",
       "860          0          0         0         0        0           0   \n",
       "6            0          0         0         0        0           0   \n",
       "\n",
       "     Embarked_Q  Embarked_S  \n",
       "879           0           0  \n",
       "97            0           0  \n",
       "205           0           1  \n",
       "860           0           1  \n",
       "6             0           1  \n",
       "\n",
       "[5 rows x 1729 columns]"
      ]
     },
     "execution_count": 80,
     "metadata": {},
     "output_type": "execute_result"
    }
   ],
   "source": [
    "xtrain.head()"
   ]
  },
  {
   "cell_type": "code",
   "execution_count": 81,
   "metadata": {},
   "outputs": [],
   "source": [
    "xtrain['Age'].fillna('0.0',inplace = True)\n",
    "xtrain['Fare'].fillna('0.0',inplace = True)\n",
    "xtrain['SibSp'].fillna('0.0',inplace = True)"
   ]
  },
  {
   "cell_type": "code",
   "execution_count": 82,
   "metadata": {},
   "outputs": [
    {
     "data": {
      "text/plain": [
       "0.0"
      ]
     },
     "execution_count": 82,
     "metadata": {},
     "output_type": "execute_result"
    }
   ],
   "source": [
    "xtrain = pd.DataFrame(xtrain)\n",
    "nan_list = xtrain.isnull().sum().tolist()\n",
    "sum(nan_list)"
   ]
  },
  {
   "cell_type": "code",
   "execution_count": 83,
   "metadata": {},
   "outputs": [
    {
     "data": {
      "text/plain": [
       "0"
      ]
     },
     "execution_count": 83,
     "metadata": {},
     "output_type": "execute_result"
    }
   ],
   "source": [
    "ytrain = pd.DataFrame(ytrain)\n",
    "nan_list = ytrain.isnull().sum().tolist()\n",
    "sum(nan_list)"
   ]
  },
  {
   "cell_type": "code",
   "execution_count": 44,
   "metadata": {},
   "outputs": [
    {
     "data": {
      "text/plain": [
       "154.0"
      ]
     },
     "execution_count": 44,
     "metadata": {},
     "output_type": "execute_result"
    }
   ],
   "source": [
    "# xtest = pd.DataFrame(xtest)\n",
    "# nan_list = xtest.isnull().sum().tolist()\n",
    "# sum(nan_list)"
   ]
  },
  {
   "cell_type": "code",
   "execution_count": 73,
   "metadata": {},
   "outputs": [
    {
     "data": {
      "text/html": [
       "<div>\n",
       "<style scoped>\n",
       "    .dataframe tbody tr th:only-of-type {\n",
       "        vertical-align: middle;\n",
       "    }\n",
       "\n",
       "    .dataframe tbody tr th {\n",
       "        vertical-align: top;\n",
       "    }\n",
       "\n",
       "    .dataframe thead th {\n",
       "        text-align: right;\n",
       "    }\n",
       "</style>\n",
       "<table border=\"1\" class=\"dataframe\">\n",
       "  <thead>\n",
       "    <tr style=\"text-align: right;\">\n",
       "      <th></th>\n",
       "      <th>PassengerId</th>\n",
       "      <th>Survived</th>\n",
       "      <th>Pclass</th>\n",
       "      <th>Age</th>\n",
       "      <th>SibSp</th>\n",
       "      <th>Parch</th>\n",
       "      <th>Fare</th>\n",
       "      <th>Name_Abbing, Mr. Anthony</th>\n",
       "      <th>Name_Abbott, Mr. Rossmore Edward</th>\n",
       "      <th>Name_Abbott, Mrs. Stanton (Rosa Hunt)</th>\n",
       "      <th>...</th>\n",
       "      <th>Cabin_F G73</th>\n",
       "      <th>Cabin_F2</th>\n",
       "      <th>Cabin_F33</th>\n",
       "      <th>Cabin_F38</th>\n",
       "      <th>Cabin_F4</th>\n",
       "      <th>Cabin_G6</th>\n",
       "      <th>Cabin_T</th>\n",
       "      <th>Embarked_C</th>\n",
       "      <th>Embarked_Q</th>\n",
       "      <th>Embarked_S</th>\n",
       "    </tr>\n",
       "  </thead>\n",
       "  <tbody>\n",
       "    <tr>\n",
       "      <th>879</th>\n",
       "      <td>880</td>\n",
       "      <td>1</td>\n",
       "      <td>1</td>\n",
       "      <td>56.0</td>\n",
       "      <td>0</td>\n",
       "      <td>1</td>\n",
       "      <td>83.1583</td>\n",
       "      <td>0</td>\n",
       "      <td>0</td>\n",
       "      <td>0</td>\n",
       "      <td>...</td>\n",
       "      <td>0</td>\n",
       "      <td>0</td>\n",
       "      <td>0</td>\n",
       "      <td>0</td>\n",
       "      <td>0</td>\n",
       "      <td>0</td>\n",
       "      <td>0</td>\n",
       "      <td>1</td>\n",
       "      <td>0</td>\n",
       "      <td>0</td>\n",
       "    </tr>\n",
       "    <tr>\n",
       "      <th>97</th>\n",
       "      <td>98</td>\n",
       "      <td>1</td>\n",
       "      <td>1</td>\n",
       "      <td>23.0</td>\n",
       "      <td>0</td>\n",
       "      <td>1</td>\n",
       "      <td>63.3583</td>\n",
       "      <td>0</td>\n",
       "      <td>0</td>\n",
       "      <td>0</td>\n",
       "      <td>...</td>\n",
       "      <td>0</td>\n",
       "      <td>0</td>\n",
       "      <td>0</td>\n",
       "      <td>0</td>\n",
       "      <td>0</td>\n",
       "      <td>0</td>\n",
       "      <td>0</td>\n",
       "      <td>1</td>\n",
       "      <td>0</td>\n",
       "      <td>0</td>\n",
       "    </tr>\n",
       "    <tr>\n",
       "      <th>205</th>\n",
       "      <td>206</td>\n",
       "      <td>0</td>\n",
       "      <td>3</td>\n",
       "      <td>2.0</td>\n",
       "      <td>0</td>\n",
       "      <td>1</td>\n",
       "      <td>10.4625</td>\n",
       "      <td>0</td>\n",
       "      <td>0</td>\n",
       "      <td>0</td>\n",
       "      <td>...</td>\n",
       "      <td>0</td>\n",
       "      <td>0</td>\n",
       "      <td>0</td>\n",
       "      <td>0</td>\n",
       "      <td>0</td>\n",
       "      <td>1</td>\n",
       "      <td>0</td>\n",
       "      <td>0</td>\n",
       "      <td>0</td>\n",
       "      <td>1</td>\n",
       "    </tr>\n",
       "    <tr>\n",
       "      <th>860</th>\n",
       "      <td>861</td>\n",
       "      <td>0</td>\n",
       "      <td>3</td>\n",
       "      <td>41.0</td>\n",
       "      <td>2</td>\n",
       "      <td>0</td>\n",
       "      <td>14.1083</td>\n",
       "      <td>0</td>\n",
       "      <td>0</td>\n",
       "      <td>0</td>\n",
       "      <td>...</td>\n",
       "      <td>0</td>\n",
       "      <td>0</td>\n",
       "      <td>0</td>\n",
       "      <td>0</td>\n",
       "      <td>0</td>\n",
       "      <td>0</td>\n",
       "      <td>0</td>\n",
       "      <td>0</td>\n",
       "      <td>0</td>\n",
       "      <td>1</td>\n",
       "    </tr>\n",
       "    <tr>\n",
       "      <th>6</th>\n",
       "      <td>7</td>\n",
       "      <td>0</td>\n",
       "      <td>1</td>\n",
       "      <td>54.0</td>\n",
       "      <td>0</td>\n",
       "      <td>0</td>\n",
       "      <td>51.8625</td>\n",
       "      <td>0</td>\n",
       "      <td>0</td>\n",
       "      <td>0</td>\n",
       "      <td>...</td>\n",
       "      <td>0</td>\n",
       "      <td>0</td>\n",
       "      <td>0</td>\n",
       "      <td>0</td>\n",
       "      <td>0</td>\n",
       "      <td>0</td>\n",
       "      <td>0</td>\n",
       "      <td>0</td>\n",
       "      <td>0</td>\n",
       "      <td>1</td>\n",
       "    </tr>\n",
       "  </tbody>\n",
       "</table>\n",
       "<p>5 rows × 1729 columns</p>\n",
       "</div>"
      ],
      "text/plain": [
       "     PassengerId  Survived  Pclass   Age  SibSp  Parch     Fare  \\\n",
       "879          880         1       1  56.0      0      1  83.1583   \n",
       "97            98         1       1  23.0      0      1  63.3583   \n",
       "205          206         0       3   2.0      0      1  10.4625   \n",
       "860          861         0       3  41.0      2      0  14.1083   \n",
       "6              7         0       1  54.0      0      0  51.8625   \n",
       "\n",
       "     Name_Abbing, Mr. Anthony  Name_Abbott, Mr. Rossmore Edward  \\\n",
       "879                         0                                 0   \n",
       "97                          0                                 0   \n",
       "205                         0                                 0   \n",
       "860                         0                                 0   \n",
       "6                           0                                 0   \n",
       "\n",
       "     Name_Abbott, Mrs. Stanton (Rosa Hunt)  ...  Cabin_F G73  Cabin_F2  \\\n",
       "879                                      0  ...            0         0   \n",
       "97                                       0  ...            0         0   \n",
       "205                                      0  ...            0         0   \n",
       "860                                      0  ...            0         0   \n",
       "6                                        0  ...            0         0   \n",
       "\n",
       "     Cabin_F33  Cabin_F38  Cabin_F4  Cabin_G6  Cabin_T  Embarked_C  \\\n",
       "879          0          0         0         0        0           1   \n",
       "97           0          0         0         0        0           1   \n",
       "205          0          0         0         1        0           0   \n",
       "860          0          0         0         0        0           0   \n",
       "6            0          0         0         0        0           0   \n",
       "\n",
       "     Embarked_Q  Embarked_S  \n",
       "879           0           0  \n",
       "97            0           0  \n",
       "205           0           1  \n",
       "860           0           1  \n",
       "6             0           1  \n",
       "\n",
       "[5 rows x 1729 columns]"
      ]
     },
     "execution_count": 73,
     "metadata": {},
     "output_type": "execute_result"
    }
   ],
   "source": [
    "xtrain.head()"
   ]
  },
  {
   "cell_type": "code",
   "execution_count": 74,
   "metadata": {},
   "outputs": [
    {
     "name": "stdout",
     "output_type": "stream",
     "text": [
      "<class 'pandas.core.frame.DataFrame'>\n",
      "Int64Index: 802 entries, 389 to 81\n",
      "Columns: 1729 entries, PassengerId to Embarked_S\n",
      "dtypes: Sparse[int32, 0](1722), float64(2), int64(5)\n",
      "memory usage: 70.4 KB\n"
     ]
    }
   ],
   "source": [
    "xtest.info()\n"
   ]
  },
  {
   "cell_type": "code",
   "execution_count": 75,
   "metadata": {},
   "outputs": [
    {
     "data": {
      "text/html": [
       "<div>\n",
       "<style scoped>\n",
       "    .dataframe tbody tr th:only-of-type {\n",
       "        vertical-align: middle;\n",
       "    }\n",
       "\n",
       "    .dataframe tbody tr th {\n",
       "        vertical-align: top;\n",
       "    }\n",
       "\n",
       "    .dataframe thead th {\n",
       "        text-align: right;\n",
       "    }\n",
       "</style>\n",
       "<table border=\"1\" class=\"dataframe\">\n",
       "  <thead>\n",
       "    <tr style=\"text-align: right;\">\n",
       "      <th></th>\n",
       "      <th>PassengerId</th>\n",
       "      <th>Survived</th>\n",
       "      <th>Pclass</th>\n",
       "      <th>Age</th>\n",
       "      <th>SibSp</th>\n",
       "      <th>Parch</th>\n",
       "      <th>Fare</th>\n",
       "      <th>Name_Abbing, Mr. Anthony</th>\n",
       "      <th>Name_Abbott, Mr. Rossmore Edward</th>\n",
       "      <th>Name_Abbott, Mrs. Stanton (Rosa Hunt)</th>\n",
       "      <th>...</th>\n",
       "      <th>Cabin_F G73</th>\n",
       "      <th>Cabin_F2</th>\n",
       "      <th>Cabin_F33</th>\n",
       "      <th>Cabin_F38</th>\n",
       "      <th>Cabin_F4</th>\n",
       "      <th>Cabin_G6</th>\n",
       "      <th>Cabin_T</th>\n",
       "      <th>Embarked_C</th>\n",
       "      <th>Embarked_Q</th>\n",
       "      <th>Embarked_S</th>\n",
       "    </tr>\n",
       "  </thead>\n",
       "  <tbody>\n",
       "    <tr>\n",
       "      <th>389</th>\n",
       "      <td>390</td>\n",
       "      <td>1</td>\n",
       "      <td>2</td>\n",
       "      <td>17.0</td>\n",
       "      <td>0</td>\n",
       "      <td>0</td>\n",
       "      <td>12.0000</td>\n",
       "      <td>0</td>\n",
       "      <td>0</td>\n",
       "      <td>0</td>\n",
       "      <td>...</td>\n",
       "      <td>0</td>\n",
       "      <td>0</td>\n",
       "      <td>0</td>\n",
       "      <td>0</td>\n",
       "      <td>0</td>\n",
       "      <td>0</td>\n",
       "      <td>0</td>\n",
       "      <td>1</td>\n",
       "      <td>0</td>\n",
       "      <td>0</td>\n",
       "    </tr>\n",
       "    <tr>\n",
       "      <th>666</th>\n",
       "      <td>667</td>\n",
       "      <td>0</td>\n",
       "      <td>2</td>\n",
       "      <td>25.0</td>\n",
       "      <td>0</td>\n",
       "      <td>0</td>\n",
       "      <td>13.0000</td>\n",
       "      <td>0</td>\n",
       "      <td>0</td>\n",
       "      <td>0</td>\n",
       "      <td>...</td>\n",
       "      <td>0</td>\n",
       "      <td>0</td>\n",
       "      <td>0</td>\n",
       "      <td>0</td>\n",
       "      <td>0</td>\n",
       "      <td>0</td>\n",
       "      <td>0</td>\n",
       "      <td>0</td>\n",
       "      <td>0</td>\n",
       "      <td>1</td>\n",
       "    </tr>\n",
       "    <tr>\n",
       "      <th>878</th>\n",
       "      <td>879</td>\n",
       "      <td>0</td>\n",
       "      <td>3</td>\n",
       "      <td>NaN</td>\n",
       "      <td>0</td>\n",
       "      <td>0</td>\n",
       "      <td>7.8958</td>\n",
       "      <td>0</td>\n",
       "      <td>0</td>\n",
       "      <td>0</td>\n",
       "      <td>...</td>\n",
       "      <td>0</td>\n",
       "      <td>0</td>\n",
       "      <td>0</td>\n",
       "      <td>0</td>\n",
       "      <td>0</td>\n",
       "      <td>0</td>\n",
       "      <td>0</td>\n",
       "      <td>0</td>\n",
       "      <td>0</td>\n",
       "      <td>1</td>\n",
       "    </tr>\n",
       "    <tr>\n",
       "      <th>85</th>\n",
       "      <td>86</td>\n",
       "      <td>1</td>\n",
       "      <td>3</td>\n",
       "      <td>33.0</td>\n",
       "      <td>3</td>\n",
       "      <td>0</td>\n",
       "      <td>15.8500</td>\n",
       "      <td>0</td>\n",
       "      <td>0</td>\n",
       "      <td>0</td>\n",
       "      <td>...</td>\n",
       "      <td>0</td>\n",
       "      <td>0</td>\n",
       "      <td>0</td>\n",
       "      <td>0</td>\n",
       "      <td>0</td>\n",
       "      <td>0</td>\n",
       "      <td>0</td>\n",
       "      <td>0</td>\n",
       "      <td>0</td>\n",
       "      <td>1</td>\n",
       "    </tr>\n",
       "    <tr>\n",
       "      <th>748</th>\n",
       "      <td>749</td>\n",
       "      <td>0</td>\n",
       "      <td>1</td>\n",
       "      <td>19.0</td>\n",
       "      <td>1</td>\n",
       "      <td>0</td>\n",
       "      <td>53.1000</td>\n",
       "      <td>0</td>\n",
       "      <td>0</td>\n",
       "      <td>0</td>\n",
       "      <td>...</td>\n",
       "      <td>0</td>\n",
       "      <td>0</td>\n",
       "      <td>0</td>\n",
       "      <td>0</td>\n",
       "      <td>0</td>\n",
       "      <td>0</td>\n",
       "      <td>0</td>\n",
       "      <td>0</td>\n",
       "      <td>0</td>\n",
       "      <td>1</td>\n",
       "    </tr>\n",
       "  </tbody>\n",
       "</table>\n",
       "<p>5 rows × 1729 columns</p>\n",
       "</div>"
      ],
      "text/plain": [
       "     PassengerId  Survived  Pclass   Age  SibSp  Parch     Fare  \\\n",
       "389          390         1       2  17.0      0      0  12.0000   \n",
       "666          667         0       2  25.0      0      0  13.0000   \n",
       "878          879         0       3   NaN      0      0   7.8958   \n",
       "85            86         1       3  33.0      3      0  15.8500   \n",
       "748          749         0       1  19.0      1      0  53.1000   \n",
       "\n",
       "     Name_Abbing, Mr. Anthony  Name_Abbott, Mr. Rossmore Edward  \\\n",
       "389                         0                                 0   \n",
       "666                         0                                 0   \n",
       "878                         0                                 0   \n",
       "85                          0                                 0   \n",
       "748                         0                                 0   \n",
       "\n",
       "     Name_Abbott, Mrs. Stanton (Rosa Hunt)  ...  Cabin_F G73  Cabin_F2  \\\n",
       "389                                      0  ...            0         0   \n",
       "666                                      0  ...            0         0   \n",
       "878                                      0  ...            0         0   \n",
       "85                                       0  ...            0         0   \n",
       "748                                      0  ...            0         0   \n",
       "\n",
       "     Cabin_F33  Cabin_F38  Cabin_F4  Cabin_G6  Cabin_T  Embarked_C  \\\n",
       "389          0          0         0         0        0           1   \n",
       "666          0          0         0         0        0           0   \n",
       "878          0          0         0         0        0           0   \n",
       "85           0          0         0         0        0           0   \n",
       "748          0          0         0         0        0           0   \n",
       "\n",
       "     Embarked_Q  Embarked_S  \n",
       "389           0           0  \n",
       "666           0           1  \n",
       "878           0           1  \n",
       "85            0           1  \n",
       "748           0           1  \n",
       "\n",
       "[5 rows x 1729 columns]"
      ]
     },
     "execution_count": 75,
     "metadata": {},
     "output_type": "execute_result"
    }
   ],
   "source": [
    "xtest.head()"
   ]
  },
  {
   "cell_type": "code",
   "execution_count": 76,
   "metadata": {},
   "outputs": [],
   "source": [
    "xtest['Age'].fillna('0.0',inplace = True)\n",
    "xtest['Fare'].fillna('0.0',inplace = True)\n",
    "xtest['SibSp'].fillna('0.0',inplace = True)"
   ]
  },
  {
   "cell_type": "code",
   "execution_count": 77,
   "metadata": {},
   "outputs": [
    {
     "data": {
      "text/plain": [
       "0.0"
      ]
     },
     "execution_count": 77,
     "metadata": {},
     "output_type": "execute_result"
    }
   ],
   "source": [
    "xtest = pd.DataFrame(xtest)\n",
    "nan_list = xtest.isnull().sum().tolist()\n",
    "sum(nan_list)"
   ]
  },
  {
   "cell_type": "code",
   "execution_count": 56,
   "metadata": {},
   "outputs": [
    {
     "name": "stdout",
     "output_type": "stream",
     "text": [
      "Decision tree ROC-AUC score ： 0.772\n"
     ]
    },
    {
     "data": {
      "image/png": "[encoded data removed]",
      "text/plain": [
       "<IPython.core.display.Image object>"
      ]
     },
     "execution_count": 56,
     "metadata": {},
     "output_type": "execute_result"
    }
   ],
   "source": [
    "t1 = DecisionTreeClassifier(max_depth = 1,random_state = seed)\n",
    "t1.fit(xtrain,ytrain)\n",
    "p = t1.predict_proba(xtest)[:,1]\n",
    "\n",
    "print(\"Decision tree ROC-AUC score ： %.3f\" % roc_auc_score(ytest,p))\n",
    "print_graph(t1,xtrain.columns)"
   ]
  },
  {
   "cell_type": "code",
   "execution_count": 84,
   "metadata": {},
   "outputs": [
    {
     "name": "stdout",
     "output_type": "stream",
     "text": [
      "Decision tree ROC-AUC score ： 0.771\n"
     ]
    },
    {
     "data": {
      "image/png": "[encoded data removed]",
      "text/plain": [
       "<IPython.core.display.Image object>"
      ]
     },
     "execution_count": 84,
     "metadata": {},
     "output_type": "execute_result"
    }
   ],
   "source": [
    "t2 = DecisionTreeClassifier(max_depth = 3,random_state = seed)\n",
    "t2.fit(xtrain,ytrain)\n",
    "p = t2.predict_proba(xtest)[:,1]\n",
    "\n",
    "print(\"Decision tree ROC-AUC score ： %.3f\" % roc_auc_score(ytest,p))\n",
    "print_graph(t2,xtrain.columns)"
   ]
  },
  {
   "cell_type": "markdown",
   "metadata": {},
   "source": [
    "调整策略，去掉对结果有最大影响的因素"
   ]
  },
  {
   "cell_type": "code",
   "execution_count": 85,
   "metadata": {},
   "outputs": [
    {
     "name": "stdout",
     "output_type": "stream",
     "text": [
      "Decision tree ROC_AUC score ： 0.641\n"
     ]
    },
    {
     "data": {
      "image/png": "[encoded data removed]",
      "text/plain": [
       "<IPython.core.display.Image object>"
      ]
     },
     "execution_count": 85,
     "metadata": {},
     "output_type": "execute_result"
    }
   ],
   "source": [
    "drop = ['Survived']\n",
    "\n",
    "xtrain_slim = xtrain.drop(drop,1)\n",
    "xtest_slim = xtest.drop(drop,1)\n",
    "\n",
    "t3 = DecisionTreeClassifier(max_depth = 3,random_state = seed)\n",
    "t3.fit(xtrain_slim,ytrain)\n",
    "p = t3.predict_proba(xtest_slim)[:,1]\n",
    "\n",
    "print(\"Decision tree ROC_AUC score ： %.3f\" % roc_auc_score(ytest,p))\n",
    "print_graph(t3,xtrain_slim.columns)"
   ]
  },
  {
   "cell_type": "code",
   "execution_count": 86,
   "metadata": {},
   "outputs": [
    {
     "name": "stdout",
     "output_type": "stream",
     "text": [
      "Average decision tree ROC-AUC score: 0.794\n"
     ]
    }
   ],
   "source": [
    "# 有两个三层的决策树，就可以集成了\n",
    "p1 = t2.predict_proba(xtest)[:,1]    #  0.771\n",
    "p2 = t3.predict_proba(xtest_slim)[:,1]   # 0.648\n",
    "p = np.mean([p1,p2],axis = 0)\n",
    "print(\"Average decision tree ROC-AUC score: %.3f\" % roc_auc_score(ytest,p))"
   ]
  },
  {
   "cell_type": "markdown",
   "metadata": {},
   "source": [
    "# 应该选择不同的特征会生成不同的结果，然后用不同的结果进行组合得到一个升华，再多选几组就是随机森林了"
   ]
  },
  {
   "cell_type": "code",
   "execution_count": 87,
   "metadata": {},
   "outputs": [],
   "source": [
    "from sklearn.ensemble import RandomForestClassifier"
   ]
  },
  {
   "cell_type": "code",
   "execution_count": 88,
   "metadata": {},
   "outputs": [
    {
     "name": "stdout",
     "output_type": "stream",
     "text": [
      "Average of decision tree ROC-AUC score : 0.636\n"
     ]
    },
    {
     "name": "stderr",
     "output_type": "stream",
     "text": [
      "d:\\python37\\lib\\site-packages\\ipykernel_launcher.py:8: DataConversionWarning: A column-vector y was passed when a 1d array was expected. Please change the shape of y to (n_samples,), for example using ravel().\n",
      "  \n"
     ]
    }
   ],
   "source": [
    "rf = RandomForestClassifier(\n",
    "    # 指定生成的决策树的个数\n",
    "    n_estimators = 10,\n",
    "    max_features = 3,\n",
    "    random_state = seed\n",
    ")\n",
    "\n",
    "rf.fit(xtrain,ytrain)\n",
    "p= rf.predict_proba(xtest)[:,1]\n",
    "print(\"Average of decision tree ROC-AUC score : %.3f\" % roc_auc_score(ytest,p))"
   ]
  },
  {
   "cell_type": "code",
   "execution_count": 89,
   "metadata": {},
   "outputs": [],
   "source": [
    "# 构造多个模型： 分类器\n",
    "from sklearn.svm import SVC,LinearSVC\n",
    "from sklearn.naive_bayes import GaussianNB\n",
    "from sklearn.ensemble import RandomForestClassifier,GradientBoostingClassifier\n",
    "from sklearn.linear_model import LogisticRegression\n",
    "from sklearn.neighbors import KNeighborsClassifier\n",
    "from sklearn.neural_network import MLPClassifier\n",
    "from sklearn.kernel_approximation import Nystroem\n",
    "from sklearn.kernel_approximation import RBFSampler\n",
    "from sklearn.pipeline import make_pipeline"
   ]
  },
  {
   "cell_type": "code",
   "execution_count": 90,
   "metadata": {},
   "outputs": [],
   "source": [
    "def get_models():\n",
    "    # 产生基础的学习器\n",
    "    nb = GaussianNB()\n",
    "    svc = SVC(C = 100,probability = True)\n",
    "    knn = KNeighborsClassifier(n_neighbors = 3)\n",
    "    lr = LogisticRegression(C = 100,random_state = seed)\n",
    "    nn = MLPClassifier((80,10),early_stopping = False,random_state = seed)\n",
    "    gb = GradientBoostingClassifier(n_estimators = 100,max_features = 3,\n",
    "                                    random_state = seed)\n",
    "    rf = RandomForestClassifier(n_estimators = 10,max_features = 3,\n",
    "                                random_state = seed)\n",
    "    \n",
    "    # 构造一个字典，一个名字对应一个分类器\n",
    "    models = {'svm':svc,\n",
    "             'knn':knn,\n",
    "             'naive bayes':nb,\n",
    "             'random forest':rf,\n",
    "             'mpl-nn':nn,\n",
    "             'gbm':gb,\n",
    "             'logistic':lr,\n",
    "             }\n",
    "    return models\n",
    "\n",
    "\n",
    "def train_predict(model_list):\n",
    "    # 对预测值p 进行初始化\n",
    "    P = np.zeros((ytest.shape[0],len(model_list)))\n",
    "    # 转换为DataFrame格式\n",
    "    P = pd.DataFrame(P)\n",
    "    \n",
    "    print(\"Fitting models.\")\n",
    "    cols = list()\n",
    "    for i,(name,m) in enumerate(models.items()):\n",
    "        print(\"%s...\" % name,end = \" \",flush = False)\n",
    "        m.fit(xtrain,ytrain)\n",
    "        P.iloc[:,i] = m.predict_proba(xtest)[:,1]\n",
    "        cols.append(name)\n",
    "        print(\"done\")\n",
    "        \n",
    "    P.columns = cols\n",
    "    print('Done\\n')\n",
    "    return P\n",
    "\n",
    "def score_models(P,y):\n",
    "    print(\"Scoring models.\")\n",
    "    for m in P.columns:\n",
    "        score = roc_auc_score(y,P.loc[:,m])\n",
    "        print(\"%-26s:%.3f\" % (m,score))\n",
    "        \n",
    "    print(\"Done\\n\")"
   ]
  },
  {
   "cell_type": "code",
   "execution_count": 91,
   "metadata": {},
   "outputs": [
    {
     "name": "stdout",
     "output_type": "stream",
     "text": [
      "Fitting models.\n",
      "svm... "
     ]
    },
    {
     "name": "stderr",
     "output_type": "stream",
     "text": [
      "d:\\python37\\lib\\site-packages\\sklearn\\utils\\validation.py:724: DataConversionWarning: A column-vector y was passed when a 1d array was expected. Please change the shape of y to (n_samples, ), for example using ravel().\n",
      "  y = column_or_1d(y, warn=True)\n",
      "d:\\python37\\lib\\site-packages\\sklearn\\svm\\base.py:193: FutureWarning: The default value of gamma will change from 'auto' to 'scale' in version 0.22 to account better for unscaled features. Set gamma explicitly to 'auto' or 'scale' to avoid this warning.\n",
      "  \"avoid this warning.\", FutureWarning)\n"
     ]
    },
    {
     "name": "stdout",
     "output_type": "stream",
     "text": [
      "done\n",
      "knn... "
     ]
    },
    {
     "name": "stderr",
     "output_type": "stream",
     "text": [
      "d:\\python37\\lib\\site-packages\\ipykernel_launcher.py:35: DataConversionWarning: A column-vector y was passed when a 1d array was expected. Please change the shape of y to (n_samples, ), for example using ravel().\n"
     ]
    },
    {
     "name": "stdout",
     "output_type": "stream",
     "text": [
      "done\n",
      "naive bayes... done"
     ]
    },
    {
     "name": "stderr",
     "output_type": "stream",
     "text": [
      "d:\\python37\\lib\\site-packages\\sklearn\\utils\\validation.py:724: DataConversionWarning: A column-vector y was passed when a 1d array was expected. Please change the shape of y to (n_samples, ), for example using ravel().\n",
      "  y = column_or_1d(y, warn=True)\n"
     ]
    },
    {
     "name": "stdout",
     "output_type": "stream",
     "text": [
      "\n",
      "random forest... done\n",
      "mpl-nn... "
     ]
    },
    {
     "name": "stderr",
     "output_type": "stream",
     "text": [
      "d:\\python37\\lib\\site-packages\\ipykernel_launcher.py:35: DataConversionWarning: A column-vector y was passed when a 1d array was expected. Please change the shape of y to (n_samples,), for example using ravel().\n",
      "d:\\python37\\lib\\site-packages\\sklearn\\neural_network\\multilayer_perceptron.py:921: DataConversionWarning: A column-vector y was passed when a 1d array was expected. Please change the shape of y to (n_samples, ), for example using ravel().\n",
      "  y = column_or_1d(y, warn=True)\n",
      "d:\\python37\\lib\\site-packages\\sklearn\\neural_network\\multilayer_perceptron.py:566: ConvergenceWarning: Stochastic Optimizer: Maximum iterations (200) reached and the optimization hasn't converged yet.\n",
      "  % self.max_iter, ConvergenceWarning)\n"
     ]
    },
    {
     "name": "stdout",
     "output_type": "stream",
     "text": [
      "done\n",
      "gbm... "
     ]
    },
    {
     "name": "stderr",
     "output_type": "stream",
     "text": [
      "d:\\python37\\lib\\site-packages\\sklearn\\ensemble\\gradient_boosting.py:1450: DataConversionWarning: A column-vector y was passed when a 1d array was expected. Please change the shape of y to (n_samples, ), for example using ravel().\n",
      "  y = column_or_1d(y, warn=True)\n",
      "d:\\python37\\lib\\site-packages\\sklearn\\linear_model\\logistic.py:432: FutureWarning: Default solver will be changed to 'lbfgs' in 0.22. Specify a solver to silence this warning.\n",
      "  FutureWarning)\n"
     ]
    },
    {
     "name": "stdout",
     "output_type": "stream",
     "text": [
      "done\n",
      "logistic... done\n",
      "Done\n",
      "\n",
      "Scoring models.\n",
      "svm                       :0.562\n",
      "knn                       :0.515\n",
      "naive bayes               :0.747\n",
      "random forest             :0.636\n",
      "mpl-nn                    :0.657\n",
      "gbm                       :0.784\n",
      "logistic                  :0.777\n",
      "Done\n",
      "\n"
     ]
    },
    {
     "name": "stderr",
     "output_type": "stream",
     "text": [
      "d:\\python37\\lib\\site-packages\\sklearn\\utils\\validation.py:724: DataConversionWarning: A column-vector y was passed when a 1d array was expected. Please change the shape of y to (n_samples, ), for example using ravel().\n",
      "  y = column_or_1d(y, warn=True)\n"
     ]
    }
   ],
   "source": [
    "models = get_models()\n",
    "P = train_predict(models)\n",
    "score_models(P,ytest)"
   ]
  },
  {
   "cell_type": "code",
   "execution_count": 92,
   "metadata": {},
   "outputs": [
    {
     "name": "stderr",
     "output_type": "stream",
     "text": [
      "[MLENS] backend: threading\n"
     ]
    },
    {
     "data": {
      "image/png": "[encoded data removed]",
      "text/plain": [
       "<Figure size 792x648 with 2 Axes>"
      ]
     },
     "metadata": {
      "needs_background": "light"
     },
     "output_type": "display_data"
    }
   ],
   "source": [
    "from mlens.visualization import corrmat\n",
    "\n",
    "corrmat(P.corr(),inflate = False)\n",
    "plt.show()"
   ]
  },
  {
   "cell_type": "code",
   "execution_count": 93,
   "metadata": {},
   "outputs": [
    {
     "name": "stdout",
     "output_type": "stream",
     "text": [
      "Ensemble ROC_AUC score : 0.767\n"
     ]
    }
   ],
   "source": [
    "# 再进行集成\n",
    "print(\"Ensemble ROC_AUC score : %.3f\" % roc_auc_score(ytest,P.mean(axis = 1)))"
   ]
  },
  {
   "cell_type": "markdown",
   "metadata": {},
   "source": [
    "集成使得模型过拟合的风险更小"
   ]
  },
  {
   "cell_type": "code",
   "execution_count": 94,
   "metadata": {},
   "outputs": [
    {
     "data": {
      "image/png": "[encoded data removed]",
      "text/plain": [
       "<Figure size 720x576 with 1 Axes>"
      ]
     },
     "metadata": {
      "needs_background": "light"
     },
     "output_type": "display_data"
    }
   ],
   "source": [
    "from sklearn.metrics import roc_curve\n",
    "\n",
    "def plot_roc_curve(ytest,P_base_learners,P_ensemble,labels,ens_label):\n",
    "    plt.figure(figsize = (10,8))\n",
    "    # 先画出基本的线5:5\n",
    "    plt.plot([0,1],[0,1],'k--')\n",
    "    \n",
    "    # 指定colormap\n",
    "    cm = [plt.cm.rainbow(i)\n",
    "         for i in np.linspace(0,1.0,P_base_learners.shape[1] + 1)]\n",
    "    \n",
    "    # 画基础线\n",
    "    for i in  range(P_base_learners.shape[1]):\n",
    "        p = P_base_learners[:,i]\n",
    "        # false positive ;true positive ;\n",
    "        fpr,tpr,_ = roc_curve(ytest,p)\n",
    "        plt.plot(fpr,tpr,label = labels[i],c = cm[i + 1])\n",
    "        \n",
    "        \n",
    "    # 画集成的线\n",
    "    fpr,tpr,_ = roc_curve(ytest,P_ensemble)\n",
    "    plt.plot(fpr,tpr,label = ens_label,c = cm[0])\n",
    "    \n",
    "    \n",
    "    plt.title('ROC curve')\n",
    "    plt.xlabel('False positive rate')\n",
    "    plt.ylabel('True positive rate')\n",
    "    plt.legend(frameon = False)\n",
    "    \n",
    "plot_roc_curve(ytest,P.values,P.mean(axis = 1),list(P.columns),\"ensemble\")"
   ]
  },
  {
   "cell_type": "markdown",
   "metadata": {},
   "source": [
    "# 划分训练集和测试集，会使我们丧失一部分数据，也能满足我们的需求\n",
    "# 可以用交叉验证来解决"
   ]
  },
  {
   "cell_type": "code",
   "execution_count": 95,
   "metadata": {},
   "outputs": [],
   "source": [
    "from sklearn.base import clone\n",
    "\n",
    "def stacking(base_learners,meta_learner,X,y,generator):\n",
    "    \n",
    "    print(\"Fitting final base learners ... \",end = \"\")\n",
    "    train_base_learners(base_learners,X,y,verbose = False)\n",
    "    print(\"done\")\n",
    "    \n",
    "    print(\"Generate cross-validated predictions ...\")\n",
    "    # 交叉验证\n",
    "    cv_preds,cv_y = [],[]\n",
    "    # 指定交叉验证的方法\n",
    "    # 先把数据集进行分割\n",
    "    for i,(train_idx,test_idx) in enumerate(generator.split(X)):\n",
    "       \n",
    "        fold_xtrain,fold_ytrain = X[train_idx,:],y[train_idx]\n",
    "        fold_xtest,fold_ytest = X[test_idx,:],y[test_idx]\n",
    "        \n",
    "        \n",
    "        fold_base_learners = {name:clone(model)\n",
    "                             for name,model in base_learners.items()}\n",
    "        train_base_learners(fold_base_learners,fold_xtrain,verbose = False)\n",
    "        \n",
    "        fold_P_base = predict_base_learners(fold_base_learners,\n",
    "                                           fold_xtest,verbose = False)\n",
    "        \n",
    "        cv_preds.append(fold_P_base)\n",
    "        cv_y.append(fold_ytest)\n",
    "        print(\"Fold %i done\" % (i+1))\n",
    "        \n",
    "    print(\"CV-predictions done.\")\n",
    "    \n",
    "    cv_preds = np.vstack(cv_preds)\n",
    "    cv_y = np.hstack(cv_y)\n",
    "    \n",
    "    # train meta learner\n",
    "    print(\"Fitting meta learner...\",end = \"\")\n",
    "    meta_learner.fit(cv_preds,cv_y)\n",
    "    print(\"done.\")\n",
    "    \n",
    "    \n",
    "    return base_learners,meta_learner"
   ]
  },
  {
   "cell_type": "code",
   "execution_count": 97,
   "metadata": {},
   "outputs": [
    {
     "ename": "NameError",
     "evalue": "name 'meta_learner' is not defined",
     "output_type": "error",
     "traceback": [
      "\u001b[1;31m---------------------------------------------------------------------------\u001b[0m",
      "\u001b[1;31mNameError\u001b[0m                                 Traceback (most recent call last)",
      "\u001b[1;32m<ipython-input-97-557ea4aeabc3>\u001b[0m in \u001b[0;36m<module>\u001b[1;34m\u001b[0m\n\u001b[0;32m      3\u001b[0m \u001b[1;31m# Train with stacking\u001b[0m\u001b[1;33m\u001b[0m\u001b[1;33m\u001b[0m\u001b[1;33m\u001b[0m\u001b[0m\n\u001b[0;32m      4\u001b[0m cv_base_learners,cv_meta_learner = stacking(\n\u001b[1;32m----> 5\u001b[1;33m get_models(),clone(meta_learner),xtrain.values,ytrain.values,KFold(2))\n\u001b[0m\u001b[0;32m      6\u001b[0m \u001b[1;33m\u001b[0m\u001b[0m\n\u001b[0;32m      7\u001b[0m \u001b[0mP_pred\u001b[0m\u001b[1;33m,\u001b[0m\u001b[0mp\u001b[0m \u001b[1;33m=\u001b[0m \u001b[0mensemble_predict\u001b[0m\u001b[1;33m(\u001b[0m\u001b[0mcv_base_learners\u001b[0m\u001b[1;33m,\u001b[0m\u001b[0mcv_meta_learner\u001b[0m\u001b[1;33m,\u001b[0m\u001b[0mxtest\u001b[0m\u001b[1;33m,\u001b[0m\u001b[0mverbose\u001b[0m \u001b[1;33m=\u001b[0m \u001b[1;32mFalse\u001b[0m\u001b[1;33m)\u001b[0m\u001b[1;33m\u001b[0m\u001b[1;33m\u001b[0m\u001b[0m\n",
      "\u001b[1;31mNameError\u001b[0m: name 'meta_learner' is not defined"
     ]
    }
   ],
   "source": [
    "from sklearn.model_selection import KFold\n",
    "\n",
    "# Train with stacking\n",
    "cv_base_learners,cv_meta_learner = stacking(\n",
    "get_models(),clone(meta_learner),xtrain.values,ytrain.values,KFold(2))\n",
    "\n",
    "P_pred,p = ensemble_predict(cv_base_learners,cv_meta_learner,xtest,verbose = False)\n",
    "print(\"\\nEnsemble ROC_AUC score :%.3f\" % roc_auc_score(ytest,p))"
   ]
  },
  {
   "cell_type": "code",
   "execution_count": null,
   "metadata": {},
   "outputs": [],
   "source": []
  }
 ],
 "metadata": {
  "kernelspec": {
   "display_name": "Python 3",
   "language": "python",
   "name": "python3"
  },
  "language_info": {
   "codemirror_mode": {
    "name": "ipython",
    "version": 3
   },
   "file_extension": ".py",
   "mimetype": "text/x-python",
   "name": "python",
   "nbconvert_exporter": "python",
   "pygments_lexer": "ipython3",
   "version": "3.7.3"
  }
 },
 "nbformat": 4,
 "nbformat_minor": 2
}
