{
 "cells": [
  {
   "cell_type": "code",
   "execution_count": 1,
   "metadata": {},
   "outputs": [
    {
     "name": "stdout",
     "output_type": "stream",
     "text": [
      "This is a book\n"
     ]
    }
   ],
   "source": [
    "print(\"This is a book\")"
   ]
  },
  {
   "cell_type": "code",
   "execution_count": 2,
   "metadata": {},
   "outputs": [
    {
     "name": "stdout",
     "output_type": "stream",
     "text": [
      "This is a book\n"
     ]
    }
   ],
   "source": [
    "print(\"This is a book\")"
   ]
  },
  {
   "cell_type": "code",
   "execution_count": 1,
   "metadata": {},
   "outputs": [
    {
     "name": "stdout",
     "output_type": "stream",
     "text": [
      "[[3 3]\n",
      " [4 3]\n",
      " [1 1]]\n"
     ]
    }
   ],
   "source": [
    "import numpy as np   #导入包numpy,包含很多矩阵运算的功能\n",
    "from matplotlib import pyplot as plt   #从matplot 包中导入一个函数pyplot并改名*/\n",
    "%matplotlib inline\n",
    "\n",
    "x = np.array([[3,3],[4,3],[1,1]])\n",
    "y = np.array([1,1,-1])\n",
    "\n",
    "\n",
    "print(x)"
   ]
  },
  {
   "cell_type": "code",
   "execution_count": 2,
   "metadata": {},
   "outputs": [
    {
     "name": "stdout",
     "output_type": "stream",
     "text": [
      "[[3 3]\n",
      " [4 3]\n",
      " [1 1]]\n"
     ]
    }
   ],
   "source": [
    "import numpy as np   #导入包numpy,包含很多矩阵运算的功能\n",
    "from matplotlib import pyplot as plt   #从matplot 包中导入一个函数pyplot并改名*/\n",
    "%matplotlib inline\n",
    "\n",
    "x = np.array([[3,3],[4,3],[1,1]])\n",
    "y = np.array([1,1,-1])\n",
    "\n",
    "\n",
    "print(x)"
   ]
  },
  {
   "cell_type": "code",
   "execution_count": null,
   "metadata": {},
   "outputs": [],
   "source": [
    "print(\"This is a book\")"
   ]
  },
  {
   "cell_type": "code",
   "execution_count": null,
   "metadata": {},
   "outputs": [],
   "source": []
  }
 ],
 "metadata": {
  "kernelspec": {
   "display_name": "Python 3 (ipykernel)",
   "language": "python",
   "name": "python3"
  },
  "language_info": {
   "codemirror_mode": {
    "name": "ipython",
    "version": 3
   },
   "file_extension": ".py",
   "mimetype": "text/x-python",
   "name": "python",
   "nbconvert_exporter": "python",
   "pygments_lexer": "ipython3",
   "version": "3.9.13"
  }
 },
 "nbformat": 4,
 "nbformat_minor": 2
}
