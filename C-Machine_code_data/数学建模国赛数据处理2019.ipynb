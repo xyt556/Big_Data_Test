{
 "cells": [
  {
   "cell_type": "code",
   "execution_count": 1,
   "metadata": {},
   "outputs": [],
   "source": [
    "import numpy as np\n",
    "import pandas as pd"
   ]
  },
  {
   "cell_type": "code",
   "execution_count": 3,
   "metadata": {},
   "outputs": [
    {
     "data": {
      "text/html": [
       "<div>\n",
       "<style scoped>\n",
       "    .dataframe tbody tr th:only-of-type {\n",
       "        vertical-align: middle;\n",
       "    }\n",
       "\n",
       "    .dataframe tbody tr th {\n",
       "        vertical-align: top;\n",
       "    }\n",
       "\n",
       "    .dataframe thead th {\n",
       "        text-align: right;\n",
       "    }\n",
       "</style>\n",
       "<table border=\"1\" class=\"dataframe\">\n",
       "  <thead>\n",
       "    <tr style=\"text-align: right;\">\n",
       "      <th></th>\n",
       "      <th>起飞</th>\n",
       "      <th>到达</th>\n",
       "      <th>航班号</th>\n",
       "      <th>机型</th>\n",
       "      <th>班期</th>\n",
       "      <th>日期</th>\n",
       "      <th>备注</th>\n",
       "    </tr>\n",
       "  </thead>\n",
       "  <tbody>\n",
       "    <tr>\n",
       "      <th>0</th>\n",
       "      <td>北京(12:00)</td>\n",
       "      <td>包头(13:10)</td>\n",
       "      <td>ca1142</td>\n",
       "      <td>733</td>\n",
       "      <td>1234567</td>\n",
       "      <td>03月26日 - 10月28日</td>\n",
       "      <td>中国国际航空公司</td>\n",
       "    </tr>\n",
       "    <tr>\n",
       "      <th>1</th>\n",
       "      <td>北京(18:00)</td>\n",
       "      <td>包头(19:00)</td>\n",
       "      <td>ua4409</td>\n",
       "      <td>737</td>\n",
       "      <td>1234567</td>\n",
       "      <td>03月25日 -</td>\n",
       "      <td>联合航空公司（美联航）</td>\n",
       "    </tr>\n",
       "    <tr>\n",
       "      <th>2</th>\n",
       "      <td>北京(19:45)</td>\n",
       "      <td>包头(20:45)</td>\n",
       "      <td>ca1132</td>\n",
       "      <td>733</td>\n",
       "      <td>1234567</td>\n",
       "      <td>04月01日 - 04月30日</td>\n",
       "      <td>中国国际航空公司</td>\n",
       "    </tr>\n",
       "    <tr>\n",
       "      <th>3</th>\n",
       "      <td>北京(21:20)</td>\n",
       "      <td>包头(22:30)</td>\n",
       "      <td>ca1108</td>\n",
       "      <td>733</td>\n",
       "      <td>1234567</td>\n",
       "      <td>03月26日 - 10月28日</td>\n",
       "      <td>中国国际航空公司</td>\n",
       "    </tr>\n",
       "    <tr>\n",
       "      <th>4</th>\n",
       "      <td>北京(19:40)</td>\n",
       "      <td>北海(23:40)</td>\n",
       "      <td>cz3148</td>\n",
       "      <td>320</td>\n",
       "      <td>1.3.5.7</td>\n",
       "      <td>03月31日 - 04月14日</td>\n",
       "      <td>中国南方航空公司</td>\n",
       "    </tr>\n",
       "  </tbody>\n",
       "</table>\n",
       "</div>"
      ],
      "text/plain": [
       "          起飞         到达     航班号   机型       班期               日期           备注\n",
       "0  北京(12:00)  包头(13:10)  ca1142  733  1234567  03月26日 - 10月28日     中国国际航空公司\n",
       "1  北京(18:00)  包头(19:00)  ua4409  737  1234567         03月25日 -  联合航空公司（美联航）\n",
       "2  北京(19:45)  包头(20:45)  ca1132  733  1234567  04月01日 - 04月30日     中国国际航空公司\n",
       "3  北京(21:20)  包头(22:30)  ca1108  733  1234567  03月26日 - 10月28日     中国国际航空公司\n",
       "4  北京(19:40)  北海(23:40)  cz3148  320  1.3.5.7  03月31日 - 04月14日     中国南方航空公司"
      ]
     },
     "execution_count": 3,
     "metadata": {},
     "output_type": "execute_result"
    }
   ],
   "source": [
    "data1 = pd.read_csv('./data/csv/beijing/北京航班时刻表1.csv')\n",
    "data1.head()"
   ]
  },
  {
   "cell_type": "code",
   "execution_count": 4,
   "metadata": {},
   "outputs": [
    {
     "data": {
      "text/html": [
       "<div>\n",
       "<style scoped>\n",
       "    .dataframe tbody tr th:only-of-type {\n",
       "        vertical-align: middle;\n",
       "    }\n",
       "\n",
       "    .dataframe tbody tr th {\n",
       "        vertical-align: top;\n",
       "    }\n",
       "\n",
       "    .dataframe thead th {\n",
       "        text-align: right;\n",
       "    }\n",
       "</style>\n",
       "<table border=\"1\" class=\"dataframe\">\n",
       "  <thead>\n",
       "    <tr style=\"text-align: right;\">\n",
       "      <th></th>\n",
       "      <th>起飞</th>\n",
       "      <th>到达</th>\n",
       "      <th>航班号</th>\n",
       "      <th>机型</th>\n",
       "      <th>班期</th>\n",
       "      <th>日期</th>\n",
       "      <th>备注</th>\n",
       "    </tr>\n",
       "  </thead>\n",
       "  <tbody>\n",
       "    <tr>\n",
       "      <th>0</th>\n",
       "      <td>12</td>\n",
       "      <td>13</td>\n",
       "      <td>ca1142</td>\n",
       "      <td>733</td>\n",
       "      <td>1234567</td>\n",
       "      <td>03月26日 - 10月28日</td>\n",
       "      <td>中国国际航空公司</td>\n",
       "    </tr>\n",
       "    <tr>\n",
       "      <th>1</th>\n",
       "      <td>18</td>\n",
       "      <td>19</td>\n",
       "      <td>ua4409</td>\n",
       "      <td>737</td>\n",
       "      <td>1234567</td>\n",
       "      <td>03月25日 -</td>\n",
       "      <td>联合航空公司（美联航）</td>\n",
       "    </tr>\n",
       "    <tr>\n",
       "      <th>2</th>\n",
       "      <td>19</td>\n",
       "      <td>20</td>\n",
       "      <td>ca1132</td>\n",
       "      <td>733</td>\n",
       "      <td>1234567</td>\n",
       "      <td>04月01日 - 04月30日</td>\n",
       "      <td>中国国际航空公司</td>\n",
       "    </tr>\n",
       "    <tr>\n",
       "      <th>3</th>\n",
       "      <td>21</td>\n",
       "      <td>22</td>\n",
       "      <td>ca1108</td>\n",
       "      <td>733</td>\n",
       "      <td>1234567</td>\n",
       "      <td>03月26日 - 10月28日</td>\n",
       "      <td>中国国际航空公司</td>\n",
       "    </tr>\n",
       "    <tr>\n",
       "      <th>4</th>\n",
       "      <td>19</td>\n",
       "      <td>23</td>\n",
       "      <td>cz3148</td>\n",
       "      <td>320</td>\n",
       "      <td>1.3.5.7</td>\n",
       "      <td>03月31日 - 04月14日</td>\n",
       "      <td>中国南方航空公司</td>\n",
       "    </tr>\n",
       "  </tbody>\n",
       "</table>\n",
       "</div>"
      ],
      "text/plain": [
       "   起飞  到达     航班号   机型       班期               日期           备注\n",
       "0  12  13  ca1142  733  1234567  03月26日 - 10月28日     中国国际航空公司\n",
       "1  18  19  ua4409  737  1234567         03月25日 -  联合航空公司（美联航）\n",
       "2  19  20  ca1132  733  1234567  04月01日 - 04月30日     中国国际航空公司\n",
       "3  21  22  ca1108  733  1234567  03月26日 - 10月28日     中国国际航空公司\n",
       "4  19  23  cz3148  320  1.3.5.7  03月31日 - 04月14日     中国南方航空公司"
      ]
     },
     "execution_count": 4,
     "metadata": {},
     "output_type": "execute_result"
    }
   ],
   "source": [
    "data2 = pd.read_csv('./data/csv/beijing/北京航班时刻表2.csv')\n",
    "data2.head()"
   ]
  },
  {
   "cell_type": "code",
   "execution_count": 5,
   "metadata": {},
   "outputs": [
    {
     "name": "stdout",
     "output_type": "stream",
     "text": [
      "总的出现的起飞时间有17个时间点，分别是：\n",
      "[12 18 19 21  7  8 10 11 13 14 15 16 17 20 22  9 23]\n"
     ]
    }
   ],
   "source": [
    "# 统计出现次数最多的起飞时间\n",
    "print(\"总的出现的起飞时间有{0}个时间点，分别是：\".format(len((data2['起飞']).unique())))\n",
    "print((data2['起飞']).unique())"
   ]
  },
  {
   "cell_type": "code",
   "execution_count": 6,
   "metadata": {},
   "outputs": [
    {
     "data": {
      "text/plain": [
       "7     70\n",
       "17    59\n",
       "18    58\n",
       "19    48\n",
       "12    46\n",
       "8     43\n",
       "14    43\n",
       "20    42\n",
       "16    39\n",
       "13    39\n",
       "21    38\n",
       "11    34\n",
       "15    34\n",
       "9     32\n",
       "10    28\n",
       "22    22\n",
       "23     2\n",
       "Name: 起飞, dtype: int64"
      ]
     },
     "execution_count": 6,
     "metadata": {},
     "output_type": "execute_result"
    }
   ],
   "source": [
    "data2['起飞'].value_counts()"
   ]
  },
  {
   "cell_type": "code",
   "execution_count": 7,
   "metadata": {},
   "outputs": [
    {
     "name": "stdout",
     "output_type": "stream",
     "text": [
      "北京航班出现的机型有35种，分别是：\n",
      "['733' '737' '320' 'jet' '762' '300' '767' '321' '777' '77b' '330' '738'\n",
      " '763' '772' '319' '757' '734' 'd38' '736' '73g' '73c' 'eqv' 'm90' 'm82'\n",
      " '343' '735' 'crj' 'erj' '74e' '340' 'ab6' '747' '332' '739' '31k']\n"
     ]
    }
   ],
   "source": [
    "# 统计出现各种不同的机型\n",
    "print(\"北京航班出现的机型有{0}种，分别是：\".format(len((data2['机型']).unique())))\n",
    "print((data2['机型']).unique())"
   ]
  },
  {
   "cell_type": "code",
   "execution_count": 8,
   "metadata": {},
   "outputs": [],
   "source": [
    "# 'eqv'，'jet'这两种表示机型不确定，所以暂时不给予字典的赋值\n",
    "# '31k'： 没有找到相关线索\n",
    "# 建立相关航班乘客人数的字典，键：机型，值：载客量，\n",
    "persons = {\n",
    "    '733':122,'737':146,'320':156,\n",
    "    '767':225,'321':197,'777':341,\n",
    "    '738':167,'763':247,'735':118,\n",
    "    '772':341,'319':123,'757':202,\n",
    "    '736':120,'747':406,'734':157,\n",
    "    'm90':150,'343':337,'crj':68,\n",
    "    '74e':353,'340':324,'ab6':262,\n",
    "    'erj':44,'762':224,'300':280,\n",
    "    '77b':350,'330':300,'d38':32,\n",
    "    '73c':128,'332':293,'739':219,\n",
    "    '73g':137   \n",
    "}"
   ]
  },
  {
   "cell_type": "code",
   "execution_count": 9,
   "metadata": {},
   "outputs": [
    {
     "data": {
      "text/html": [
       "<div>\n",
       "<style scoped>\n",
       "    .dataframe tbody tr th:only-of-type {\n",
       "        vertical-align: middle;\n",
       "    }\n",
       "\n",
       "    .dataframe tbody tr th {\n",
       "        vertical-align: top;\n",
       "    }\n",
       "\n",
       "    .dataframe thead th {\n",
       "        text-align: right;\n",
       "    }\n",
       "</style>\n",
       "<table border=\"1\" class=\"dataframe\">\n",
       "  <thead>\n",
       "    <tr style=\"text-align: right;\">\n",
       "      <th></th>\n",
       "      <th>起飞</th>\n",
       "      <th>到达</th>\n",
       "      <th>航班号</th>\n",
       "      <th>机型</th>\n",
       "      <th>班期</th>\n",
       "      <th>日期</th>\n",
       "      <th>备注</th>\n",
       "      <th>persons</th>\n",
       "    </tr>\n",
       "  </thead>\n",
       "  <tbody>\n",
       "    <tr>\n",
       "      <th>0</th>\n",
       "      <td>12</td>\n",
       "      <td>13</td>\n",
       "      <td>ca1142</td>\n",
       "      <td>733</td>\n",
       "      <td>1234567</td>\n",
       "      <td>03月26日 - 10月28日</td>\n",
       "      <td>中国国际航空公司</td>\n",
       "      <td>122.0</td>\n",
       "    </tr>\n",
       "    <tr>\n",
       "      <th>1</th>\n",
       "      <td>18</td>\n",
       "      <td>19</td>\n",
       "      <td>ua4409</td>\n",
       "      <td>737</td>\n",
       "      <td>1234567</td>\n",
       "      <td>03月25日 -</td>\n",
       "      <td>联合航空公司（美联航）</td>\n",
       "      <td>146.0</td>\n",
       "    </tr>\n",
       "    <tr>\n",
       "      <th>2</th>\n",
       "      <td>19</td>\n",
       "      <td>20</td>\n",
       "      <td>ca1132</td>\n",
       "      <td>733</td>\n",
       "      <td>1234567</td>\n",
       "      <td>04月01日 - 04月30日</td>\n",
       "      <td>中国国际航空公司</td>\n",
       "      <td>122.0</td>\n",
       "    </tr>\n",
       "    <tr>\n",
       "      <th>3</th>\n",
       "      <td>21</td>\n",
       "      <td>22</td>\n",
       "      <td>ca1108</td>\n",
       "      <td>733</td>\n",
       "      <td>1234567</td>\n",
       "      <td>03月26日 - 10月28日</td>\n",
       "      <td>中国国际航空公司</td>\n",
       "      <td>122.0</td>\n",
       "    </tr>\n",
       "    <tr>\n",
       "      <th>4</th>\n",
       "      <td>19</td>\n",
       "      <td>23</td>\n",
       "      <td>cz3148</td>\n",
       "      <td>320</td>\n",
       "      <td>1.3.5.7</td>\n",
       "      <td>03月31日 - 04月14日</td>\n",
       "      <td>中国南方航空公司</td>\n",
       "      <td>156.0</td>\n",
       "    </tr>\n",
       "  </tbody>\n",
       "</table>\n",
       "</div>"
      ],
      "text/plain": [
       "   起飞  到达     航班号   机型       班期               日期           备注  persons\n",
       "0  12  13  ca1142  733  1234567  03月26日 - 10月28日     中国国际航空公司    122.0\n",
       "1  18  19  ua4409  737  1234567         03月25日 -  联合航空公司（美联航）    146.0\n",
       "2  19  20  ca1132  733  1234567  04月01日 - 04月30日     中国国际航空公司    122.0\n",
       "3  21  22  ca1108  733  1234567  03月26日 - 10月28日     中国国际航空公司    122.0\n",
       "4  19  23  cz3148  320  1.3.5.7  03月31日 - 04月14日     中国南方航空公司    156.0"
      ]
     },
     "execution_count": 9,
     "metadata": {},
     "output_type": "execute_result"
    }
   ],
   "source": [
    "#  利用map() 函数，向数据中增加一列persons\n",
    "data2['persons'] = data2['机型'].map(persons)\n",
    "data2.head()"
   ]
  },
  {
   "cell_type": "code",
   "execution_count": 10,
   "metadata": {},
   "outputs": [
    {
     "name": "stdout",
     "output_type": "stream",
     "text": [
      "<class 'pandas.core.frame.DataFrame'>\n",
      "RangeIndex: 677 entries, 0 to 676\n",
      "Data columns (total 8 columns):\n",
      "起飞         677 non-null int64\n",
      "到达         677 non-null int64\n",
      "航班号        677 non-null object\n",
      "机型         677 non-null object\n",
      "班期         677 non-null object\n",
      "日期         677 non-null object\n",
      "备注         677 non-null object\n",
      "persons    534 non-null float64\n",
      "dtypes: float64(1), int64(2), object(5)\n",
      "memory usage: 42.4+ KB\n"
     ]
    }
   ],
   "source": [
    "#  查看数据集的个数 ,由此可见，有677个数据\n",
    "data2.info()"
   ]
  },
  {
   "cell_type": "code",
   "execution_count": 11,
   "metadata": {},
   "outputs": [],
   "source": [
    "#  并且由此可知，persons新增的属性列有534条数据，因此 ，可知机型为\n",
    "# eqv,jet,31k的数据有677-534条，即为243条，\n",
    "#  采用\n",
    "m = (data2['persons'].sum())/534"
   ]
  },
  {
   "cell_type": "code",
   "execution_count": 12,
   "metadata": {},
   "outputs": [
    {
     "data": {
      "text/plain": [
       "173.9307116104869"
      ]
     },
     "execution_count": 12,
     "metadata": {},
     "output_type": "execute_result"
    }
   ],
   "source": [
    "m"
   ]
  },
  {
   "cell_type": "code",
   "execution_count": 13,
   "metadata": {},
   "outputs": [],
   "source": [
    "#  利用drop（）函数，删除刚才新增的属性列persons列\n",
    "data2 = data2.drop('persons',axis = 1)"
   ]
  },
  {
   "cell_type": "code",
   "execution_count": 14,
   "metadata": {},
   "outputs": [],
   "source": [
    "#  因此可赋值给eqv,jet,31k，显示这三种机型的人数平均值\n",
    "persons = {\n",
    "    'eqv':174,'jet':174,'31k':174,\n",
    "    '733':122,'737':146,'320':156,\n",
    "    '767':225,'321':197,'777':341,\n",
    "    '738':167,'763':247,'735':118,\n",
    "    '772':341,'319':123,'757':202,\n",
    "    '736':120,'747':406,'734':157,\n",
    "    'm90':150,'343':337,'crj':68,\n",
    "    '74e':353,'340':324,'ab6':262,\n",
    "    'erj':44,'762':224,'300':280,\n",
    "    '77b':350,'330':300,'d38':32,\n",
    "    '73c':128,'332':293,'739':219,\n",
    "    '73g':137   \n",
    "}"
   ]
  },
  {
   "cell_type": "code",
   "execution_count": 15,
   "metadata": {},
   "outputs": [
    {
     "data": {
      "text/html": [
       "<div>\n",
       "<style scoped>\n",
       "    .dataframe tbody tr th:only-of-type {\n",
       "        vertical-align: middle;\n",
       "    }\n",
       "\n",
       "    .dataframe tbody tr th {\n",
       "        vertical-align: top;\n",
       "    }\n",
       "\n",
       "    .dataframe thead th {\n",
       "        text-align: right;\n",
       "    }\n",
       "</style>\n",
       "<table border=\"1\" class=\"dataframe\">\n",
       "  <thead>\n",
       "    <tr style=\"text-align: right;\">\n",
       "      <th></th>\n",
       "      <th>起飞</th>\n",
       "      <th>到达</th>\n",
       "      <th>航班号</th>\n",
       "      <th>机型</th>\n",
       "      <th>班期</th>\n",
       "      <th>日期</th>\n",
       "      <th>备注</th>\n",
       "      <th>persons</th>\n",
       "    </tr>\n",
       "  </thead>\n",
       "  <tbody>\n",
       "    <tr>\n",
       "      <th>0</th>\n",
       "      <td>12</td>\n",
       "      <td>13</td>\n",
       "      <td>ca1142</td>\n",
       "      <td>733</td>\n",
       "      <td>1234567</td>\n",
       "      <td>03月26日 - 10月28日</td>\n",
       "      <td>中国国际航空公司</td>\n",
       "      <td>122.0</td>\n",
       "    </tr>\n",
       "    <tr>\n",
       "      <th>1</th>\n",
       "      <td>18</td>\n",
       "      <td>19</td>\n",
       "      <td>ua4409</td>\n",
       "      <td>737</td>\n",
       "      <td>1234567</td>\n",
       "      <td>03月25日 -</td>\n",
       "      <td>联合航空公司（美联航）</td>\n",
       "      <td>146.0</td>\n",
       "    </tr>\n",
       "    <tr>\n",
       "      <th>2</th>\n",
       "      <td>19</td>\n",
       "      <td>20</td>\n",
       "      <td>ca1132</td>\n",
       "      <td>733</td>\n",
       "      <td>1234567</td>\n",
       "      <td>04月01日 - 04月30日</td>\n",
       "      <td>中国国际航空公司</td>\n",
       "      <td>122.0</td>\n",
       "    </tr>\n",
       "    <tr>\n",
       "      <th>3</th>\n",
       "      <td>21</td>\n",
       "      <td>22</td>\n",
       "      <td>ca1108</td>\n",
       "      <td>733</td>\n",
       "      <td>1234567</td>\n",
       "      <td>03月26日 - 10月28日</td>\n",
       "      <td>中国国际航空公司</td>\n",
       "      <td>122.0</td>\n",
       "    </tr>\n",
       "    <tr>\n",
       "      <th>4</th>\n",
       "      <td>19</td>\n",
       "      <td>23</td>\n",
       "      <td>cz3148</td>\n",
       "      <td>320</td>\n",
       "      <td>1.3.5.7</td>\n",
       "      <td>03月31日 - 04月14日</td>\n",
       "      <td>中国南方航空公司</td>\n",
       "      <td>156.0</td>\n",
       "    </tr>\n",
       "  </tbody>\n",
       "</table>\n",
       "</div>"
      ],
      "text/plain": [
       "   起飞  到达     航班号   机型       班期               日期           备注  persons\n",
       "0  12  13  ca1142  733  1234567  03月26日 - 10月28日     中国国际航空公司    122.0\n",
       "1  18  19  ua4409  737  1234567         03月25日 -  联合航空公司（美联航）    146.0\n",
       "2  19  20  ca1132  733  1234567  04月01日 - 04月30日     中国国际航空公司    122.0\n",
       "3  21  22  ca1108  733  1234567  03月26日 - 10月28日     中国国际航空公司    122.0\n",
       "4  19  23  cz3148  320  1.3.5.7  03月31日 - 04月14日     中国南方航空公司    156.0"
      ]
     },
     "execution_count": 15,
     "metadata": {},
     "output_type": "execute_result"
    }
   ],
   "source": [
    "#  利用map() 函数重新进行映射\n",
    "data2['persons'] = data2['机型'].map(persons)\n",
    "data2.head()"
   ]
  },
  {
   "cell_type": "code",
   "execution_count": 16,
   "metadata": {},
   "outputs": [],
   "source": [
    "#  将数据保存到本地\n",
    "data2.to_csv('./data/csv/beijing/model_persons.csv')"
   ]
  },
  {
   "cell_type": "code",
   "execution_count": 18,
   "metadata": {},
   "outputs": [
    {
     "data": {
      "text/html": [
       "<div>\n",
       "<style scoped>\n",
       "    .dataframe tbody tr th:only-of-type {\n",
       "        vertical-align: middle;\n",
       "    }\n",
       "\n",
       "    .dataframe tbody tr th {\n",
       "        vertical-align: top;\n",
       "    }\n",
       "\n",
       "    .dataframe thead th {\n",
       "        text-align: right;\n",
       "    }\n",
       "</style>\n",
       "<table border=\"1\" class=\"dataframe\">\n",
       "  <thead>\n",
       "    <tr style=\"text-align: right;\">\n",
       "      <th></th>\n",
       "      <th>起飞</th>\n",
       "      <th>到达</th>\n",
       "      <th>航班号</th>\n",
       "      <th>机型</th>\n",
       "      <th>班期</th>\n",
       "      <th>日期</th>\n",
       "      <th>备注</th>\n",
       "      <th>persons</th>\n",
       "    </tr>\n",
       "  </thead>\n",
       "  <tbody>\n",
       "    <tr>\n",
       "      <th>0</th>\n",
       "      <td>12</td>\n",
       "      <td>13</td>\n",
       "      <td>ca1142</td>\n",
       "      <td>733</td>\n",
       "      <td>1234567</td>\n",
       "      <td>03月26日 - 10月28日</td>\n",
       "      <td>中国国际航空公司</td>\n",
       "      <td>122.0</td>\n",
       "    </tr>\n",
       "    <tr>\n",
       "      <th>1</th>\n",
       "      <td>18</td>\n",
       "      <td>19</td>\n",
       "      <td>ua4409</td>\n",
       "      <td>737</td>\n",
       "      <td>1234567</td>\n",
       "      <td>03月25日 -</td>\n",
       "      <td>联合航空公司（美联航）</td>\n",
       "      <td>146.0</td>\n",
       "    </tr>\n",
       "    <tr>\n",
       "      <th>2</th>\n",
       "      <td>19</td>\n",
       "      <td>20</td>\n",
       "      <td>ca1132</td>\n",
       "      <td>733</td>\n",
       "      <td>1234567</td>\n",
       "      <td>04月01日 - 04月30日</td>\n",
       "      <td>中国国际航空公司</td>\n",
       "      <td>122.0</td>\n",
       "    </tr>\n",
       "    <tr>\n",
       "      <th>3</th>\n",
       "      <td>21</td>\n",
       "      <td>22</td>\n",
       "      <td>ca1108</td>\n",
       "      <td>733</td>\n",
       "      <td>1234567</td>\n",
       "      <td>03月26日 - 10月28日</td>\n",
       "      <td>中国国际航空公司</td>\n",
       "      <td>122.0</td>\n",
       "    </tr>\n",
       "    <tr>\n",
       "      <th>4</th>\n",
       "      <td>19</td>\n",
       "      <td>23</td>\n",
       "      <td>cz3148</td>\n",
       "      <td>320</td>\n",
       "      <td>1.3.5.7</td>\n",
       "      <td>03月31日 - 04月14日</td>\n",
       "      <td>中国南方航空公司</td>\n",
       "      <td>156.0</td>\n",
       "    </tr>\n",
       "  </tbody>\n",
       "</table>\n",
       "</div>"
      ],
      "text/plain": [
       "   起飞  到达     航班号   机型       班期               日期           备注  persons\n",
       "0  12  13  ca1142  733  1234567  03月26日 - 10月28日     中国国际航空公司    122.0\n",
       "1  18  19  ua4409  737  1234567         03月25日 -  联合航空公司（美联航）    146.0\n",
       "2  19  20  ca1132  733  1234567  04月01日 - 04月30日     中国国际航空公司    122.0\n",
       "3  21  22  ca1108  733  1234567  03月26日 - 10月28日     中国国际航空公司    122.0\n",
       "4  19  23  cz3148  320  1.3.5.7  03月31日 - 04月14日     中国南方航空公司    156.0"
      ]
     },
     "execution_count": 18,
     "metadata": {},
     "output_type": "execute_result"
    }
   ],
   "source": [
    "#  利用map() 函数重新进行映射\n",
    "data2['persons'] = data2['机型'].map(persons)\n",
    "data2.head()"
   ]
  },
  {
   "cell_type": "code",
   "execution_count": 19,
   "metadata": {},
   "outputs": [],
   "source": [
    "cars = {\n",
    "    '新桑塔纳':4,'捷达':4,'伊兰特家族':4,\n",
    "    '爱丽舍':4,'天语SX4':4\n",
    "}"
   ]
  },
  {
   "cell_type": "code",
   "execution_count": 20,
   "metadata": {},
   "outputs": [
    {
     "data": {
      "text/plain": [
       "7     70\n",
       "17    59\n",
       "18    58\n",
       "19    48\n",
       "12    46\n",
       "8     43\n",
       "14    43\n",
       "20    42\n",
       "16    39\n",
       "13    39\n",
       "21    38\n",
       "11    34\n",
       "15    34\n",
       "9     32\n",
       "10    28\n",
       "22    22\n",
       "23     2\n",
       "Name: 起飞, dtype: int64"
      ]
     },
     "execution_count": 20,
     "metadata": {},
     "output_type": "execute_result"
    }
   ],
   "source": [
    "data2['起飞'].value_counts()"
   ]
  },
  {
   "cell_type": "code",
   "execution_count": 21,
   "metadata": {},
   "outputs": [],
   "source": [
    "import matplotlib.pyplot as plt\n",
    "%matplotlib inline"
   ]
  },
  {
   "cell_type": "code",
   "execution_count": 22,
   "metadata": {},
   "outputs": [],
   "source": [
    "# 指定画图风格\n",
    "plt.style.use('fivethirtyeight')"
   ]
  },
  {
   "cell_type": "code",
   "execution_count": 25,
   "metadata": {},
   "outputs": [
    {
     "data": {
      "text/plain": [
       "[70, 59, 58, 48, 46, 43, 43, 42, 39, 39, 38, 34, 34, 32, 28, 22, 2]"
      ]
     },
     "execution_count": 25,
     "metadata": {},
     "output_type": "execute_result"
    }
   ],
   "source": [
    "time = list(data2['起飞'].value_counts())\n",
    "time"
   ]
  },
  {
   "cell_type": "code",
   "execution_count": 26,
   "metadata": {},
   "outputs": [
    {
     "data": {
      "text/plain": [
       "[12, 18, 19, 21, 7, 8, 10, 11, 13, 14, 15, 16, 17, 20, 22, 9, 23]"
      ]
     },
     "execution_count": 26,
     "metadata": {},
     "output_type": "execute_result"
    }
   ],
   "source": [
    "airplane =  list((data2['起飞']).unique())\n",
    "airplane"
   ]
  },
  {
   "cell_type": "code",
   "execution_count": 30,
   "metadata": {},
   "outputs": [
    {
     "data": {
      "text/html": [
       "<div>\n",
       "<style scoped>\n",
       "    .dataframe tbody tr th:only-of-type {\n",
       "        vertical-align: middle;\n",
       "    }\n",
       "\n",
       "    .dataframe tbody tr th {\n",
       "        vertical-align: top;\n",
       "    }\n",
       "\n",
       "    .dataframe thead th {\n",
       "        text-align: right;\n",
       "    }\n",
       "</style>\n",
       "<table border=\"1\" class=\"dataframe\">\n",
       "  <thead>\n",
       "    <tr style=\"text-align: right;\">\n",
       "      <th></th>\n",
       "      <th>起飞</th>\n",
       "      <th>到达</th>\n",
       "      <th>航班号</th>\n",
       "      <th>机型</th>\n",
       "      <th>班期</th>\n",
       "      <th>日期</th>\n",
       "      <th>备注</th>\n",
       "      <th>persons</th>\n",
       "    </tr>\n",
       "  </thead>\n",
       "  <tbody>\n",
       "    <tr>\n",
       "      <th>0</th>\n",
       "      <td>12</td>\n",
       "      <td>13</td>\n",
       "      <td>ca1142</td>\n",
       "      <td>733</td>\n",
       "      <td>1234567</td>\n",
       "      <td>03月26日 - 10月28日</td>\n",
       "      <td>中国国际航空公司</td>\n",
       "      <td>122.0</td>\n",
       "    </tr>\n",
       "    <tr>\n",
       "      <th>1</th>\n",
       "      <td>18</td>\n",
       "      <td>19</td>\n",
       "      <td>ua4409</td>\n",
       "      <td>737</td>\n",
       "      <td>1234567</td>\n",
       "      <td>03月25日 -</td>\n",
       "      <td>联合航空公司（美联航）</td>\n",
       "      <td>146.0</td>\n",
       "    </tr>\n",
       "    <tr>\n",
       "      <th>2</th>\n",
       "      <td>19</td>\n",
       "      <td>20</td>\n",
       "      <td>ca1132</td>\n",
       "      <td>733</td>\n",
       "      <td>1234567</td>\n",
       "      <td>04月01日 - 04月30日</td>\n",
       "      <td>中国国际航空公司</td>\n",
       "      <td>122.0</td>\n",
       "    </tr>\n",
       "    <tr>\n",
       "      <th>3</th>\n",
       "      <td>21</td>\n",
       "      <td>22</td>\n",
       "      <td>ca1108</td>\n",
       "      <td>733</td>\n",
       "      <td>1234567</td>\n",
       "      <td>03月26日 - 10月28日</td>\n",
       "      <td>中国国际航空公司</td>\n",
       "      <td>122.0</td>\n",
       "    </tr>\n",
       "    <tr>\n",
       "      <th>4</th>\n",
       "      <td>19</td>\n",
       "      <td>23</td>\n",
       "      <td>cz3148</td>\n",
       "      <td>320</td>\n",
       "      <td>1.3.5.7</td>\n",
       "      <td>03月31日 - 04月14日</td>\n",
       "      <td>中国南方航空公司</td>\n",
       "      <td>156.0</td>\n",
       "    </tr>\n",
       "  </tbody>\n",
       "</table>\n",
       "</div>"
      ],
      "text/plain": [
       "   起飞  到达     航班号   机型       班期               日期           备注  persons\n",
       "0  12  13  ca1142  733  1234567  03月26日 - 10月28日     中国国际航空公司    122.0\n",
       "1  18  19  ua4409  737  1234567         03月25日 -  联合航空公司（美联航）    146.0\n",
       "2  19  20  ca1132  733  1234567  04月01日 - 04月30日     中国国际航空公司    122.0\n",
       "3  21  22  ca1108  733  1234567  03月26日 - 10月28日     中国国际航空公司    122.0\n",
       "4  19  23  cz3148  320  1.3.5.7  03月31日 - 04月14日     中国南方航空公司    156.0"
      ]
     },
     "execution_count": 30,
     "metadata": {},
     "output_type": "execute_result"
    }
   ],
   "source": [
    "data2.head()"
   ]
  },
  {
   "cell_type": "code",
   "execution_count": 36,
   "metadata": {},
   "outputs": [],
   "source": [
    "from pylab import mpl\n",
    "mpl.rcParams['font.sans-serif'] = ['SimHei']\n",
    "mpl.rcParams['axes.unicode_minus'] = True\n",
    "\n",
    "from mpl_toolkits import mplot3d\n",
    "from mpl_toolkits.mplot3d import Axes3D"
   ]
  },
  {
   "cell_type": "code",
   "execution_count": 32,
   "metadata": {},
   "outputs": [
    {
     "data": {
      "text/plain": [
       "起飞\n",
       "7     11879.0\n",
       "17    11057.0\n",
       "18     9854.0\n",
       "19     9154.0\n",
       "12     8096.0\n",
       "8      8057.0\n",
       "20     7255.0\n",
       "13     7205.0\n",
       "14     7126.0\n",
       "16     6686.0\n",
       "15     6309.0\n",
       "21     6234.0\n",
       "9      5249.0\n",
       "11     5155.0\n",
       "10     4519.0\n",
       "22     3051.0\n",
       "23      353.0\n",
       "Name: persons, dtype: float64"
      ]
     },
     "execution_count": 32,
     "metadata": {},
     "output_type": "execute_result"
    }
   ],
   "source": [
    "# 按起飞时间对旅客人数进行排序\n",
    "data2.groupby('起飞')['persons'].sum().sort_values(ascending = False)"
   ]
  },
  {
   "cell_type": "code",
   "execution_count": 44,
   "metadata": {},
   "outputs": [
    {
     "data": {
      "image/png": "[encoded data removed]",
      "text/plain": [
       "<Figure size 576x432 with 1 Axes>"
      ]
     },
     "metadata": {},
     "output_type": "display_data"
    }
   ],
   "source": [
    "x = np.array([7, 17, 18, 19, 12, 8, 14, 20, 16, 13, 21, 11, 15,9,10,22,23])\n",
    "y = np.array([70, 59, 58, 48, 46, 43, 43, 42, 39, 39, 38, 34, 34, 32, 28, 22, 2])\n",
    "\n",
    "plt.figure(figsize = (8,6))\n",
    "\n",
    "# 取坐标轴的二维坐标,传进来第一维数据，第二维数据，指定长什么样子，颜色，透明程度，标签\n",
    "plt.scatter(x,y,marker = '^',color = 'red',alpha = 0.6,label = '各时段航班出现次数')\n",
    "\n",
    "plt.legend(loc = 'best')\n",
    "plt.grid()"
   ]
  },
  {
   "cell_type": "code",
   "execution_count": 50,
   "metadata": {},
   "outputs": [
    {
     "name": "stderr",
     "output_type": "stream",
     "text": [
      "No handles with labels found to put in legend.\n"
     ]
    },
    {
     "data": {
      "image/png": "[encoded data removed]",
      "text/plain": [
       "<Figure size 576x432 with 1 Axes>"
      ]
     },
     "metadata": {},
     "output_type": "display_data"
    }
   ],
   "source": [
    "x = np.array([7, 17, 18, 19, 12, 8, 14, 20, 16, 13, 21, 11, 15,9,10,22,23])\n",
    "y = np.array([70, 59, 58, 48, 46, 43, 43, 42, 39, 39, 38, 34, 34, 32, 28, 22, 2])\n",
    "\n",
    "fig = plt.figure(figsize = (8,6))\n",
    "plt.scatter(x,y,marker = 'o',s = 30,color = 'r')\n",
    "plt.legend(loc = 'best')\n",
    "plt.xlabel('时段',fontsize = 20)\n",
    "plt.ylabel('航班次数',size = 20)\n",
    "plt.title('北京各时段航班出现次数统计表')\n",
    "\n",
    "for x,y in zip(x,y):\n",
    "# 标注坐标，用注释函数： plt.annotate(('(%s,%s)'%(x,y)： 获取坐标)，\n",
    "#    xytext = (0,-15)：注释坐标的位置，\n",
    "#   textcoords= 'offset points'：可以使坐标显示出来\n",
    "    # ha = 'center' 可以使注释坐标对齐点\n",
    "    plt.annotate('(%s,%s)'%(x,y),xy = (x,y),xytext = (0,-15),textcoords = 'offset points',\n",
    "                ha = 'center')"
   ]
  },
  {
   "cell_type": "code",
   "execution_count": 55,
   "metadata": {
    "scrolled": true
   },
   "outputs": [
    {
     "name": "stderr",
     "output_type": "stream",
     "text": [
      "No handles with labels found to put in legend.\n"
     ]
    },
    {
     "data": {
      "image/png": "[encoded data removed]",
      "text/plain": [
       "<Figure size 576x432 with 1 Axes>"
      ]
     },
     "metadata": {},
     "output_type": "display_data"
    }
   ],
   "source": [
    "x = np.array([7, 17, 18, 19, 12, 8, 14, 20, 16, 13, 21, 11, 15,9,10,22,23])\n",
    "z = np.array([11879,11057,9854,9154,8096,8057,7255,7205,7126,6686,6309,6234,5249,5155,4519,3051,353]\n",
    ")\n",
    "\n",
    "fig = plt.figure(figsize = (8,6))\n",
    "plt.scatter(x,z,marker = '*',s = 30,color = 'b')\n",
    "plt.legend(loc = 'best')\n",
    "plt.xlabel('时段',fontsize = 20)\n",
    "plt.ylabel('乘客人数',size = 20)\n",
    "plt.title('北京各时段航班出现人数统计表')\n",
    "\n",
    "for x,z in zip(x,z):\n",
    "    plt.annotate('(%s,%s)'%(x,z),xy = (x,z),xytext = (0,-15),textcoords = 'offset points',\n",
    "                ha = 'center')"
   ]
  },
  {
   "cell_type": "markdown",
   "metadata": {},
   "source": [
    "# 2线数据处理"
   ]
  },
  {
   "cell_type": "code",
   "execution_count": 58,
   "metadata": {},
   "outputs": [
    {
     "data": {
      "text/html": [
       "<div>\n",
       "<style scoped>\n",
       "    .dataframe tbody tr th:only-of-type {\n",
       "        vertical-align: middle;\n",
       "    }\n",
       "\n",
       "    .dataframe tbody tr th {\n",
       "        vertical-align: top;\n",
       "    }\n",
       "\n",
       "    .dataframe thead th {\n",
       "        text-align: right;\n",
       "    }\n",
       "</style>\n",
       "<table border=\"1\" class=\"dataframe\">\n",
       "  <thead>\n",
       "    <tr style=\"text-align: right;\">\n",
       "      <th></th>\n",
       "      <th>起飞</th>\n",
       "      <th>到达</th>\n",
       "      <th>航班号</th>\n",
       "      <th>机型</th>\n",
       "      <th>班期</th>\n",
       "      <th>日期</th>\n",
       "      <th>备注</th>\n",
       "    </tr>\n",
       "  </thead>\n",
       "  <tbody>\n",
       "    <tr>\n",
       "      <th>0</th>\n",
       "      <td>长春(08:20)</td>\n",
       "      <td>广州(13:55)</td>\n",
       "      <td>cz6341</td>\n",
       "      <td>321</td>\n",
       "      <td>1234567</td>\n",
       "      <td>03月26日 -</td>\n",
       "      <td>中国南方航空公司</td>\n",
       "    </tr>\n",
       "    <tr>\n",
       "      <th>1</th>\n",
       "      <td>长春(13:10)</td>\n",
       "      <td>广州(17:10)</td>\n",
       "      <td>hu7132</td>\n",
       "      <td>737</td>\n",
       "      <td>1234567</td>\n",
       "      <td>03月26日 - 10月28日</td>\n",
       "      <td>海南航空公司</td>\n",
       "    </tr>\n",
       "    <tr>\n",
       "      <th>2</th>\n",
       "      <td>长春(09:10)</td>\n",
       "      <td>重庆(12:50)</td>\n",
       "      <td>cz6459</td>\n",
       "      <td>319</td>\n",
       "      <td>..3..6.</td>\n",
       "      <td>03月29日 - 10月28日</td>\n",
       "      <td>中国南方航空公司</td>\n",
       "    </tr>\n",
       "    <tr>\n",
       "      <th>3</th>\n",
       "      <td>长春(08:20)</td>\n",
       "      <td>长沙(11:35)</td>\n",
       "      <td>cz633</td>\n",
       "      <td>jet</td>\n",
       "      <td>.2...6.</td>\n",
       "      <td>03月25日 - 10月28日</td>\n",
       "      <td>中国南方航空公司</td>\n",
       "    </tr>\n",
       "    <tr>\n",
       "      <th>4</th>\n",
       "      <td>长春(08:25)</td>\n",
       "      <td>成都(13:10)</td>\n",
       "      <td>cz6441</td>\n",
       "      <td>319</td>\n",
       "      <td>...4..7</td>\n",
       "      <td>03月26日 - 10月26日</td>\n",
       "      <td>中国南方航空公司</td>\n",
       "    </tr>\n",
       "  </tbody>\n",
       "</table>\n",
       "</div>"
      ],
      "text/plain": [
       "          起飞         到达     航班号   机型       班期               日期        备注\n",
       "0  长春(08:20)  广州(13:55)  cz6341  321  1234567         03月26日 -  中国南方航空公司\n",
       "1  长春(13:10)  广州(17:10)  hu7132  737  1234567  03月26日 - 10月28日    海南航空公司\n",
       "2  长春(09:10)  重庆(12:50)  cz6459  319  ..3..6.  03月29日 - 10月28日  中国南方航空公司\n",
       "3  长春(08:20)  长沙(11:35)   cz633  jet  .2...6.  03月25日 - 10月28日  中国南方航空公司\n",
       "4  长春(08:25)  成都(13:10)  cz6441  319  ...4..7  03月26日 - 10月26日  中国南方航空公司"
      ]
     },
     "execution_count": 58,
     "metadata": {},
     "output_type": "execute_result"
    }
   ],
   "source": [
    "da2_1 = pd.read_csv('./data/csv/beijing/2线总表.csv',encoding='gbk')\n",
    "da2_1.head()"
   ]
  },
  {
   "cell_type": "code",
   "execution_count": 60,
   "metadata": {},
   "outputs": [
    {
     "data": {
      "text/html": [
       "<div>\n",
       "<style scoped>\n",
       "    .dataframe tbody tr th:only-of-type {\n",
       "        vertical-align: middle;\n",
       "    }\n",
       "\n",
       "    .dataframe tbody tr th {\n",
       "        vertical-align: top;\n",
       "    }\n",
       "\n",
       "    .dataframe thead th {\n",
       "        text-align: right;\n",
       "    }\n",
       "</style>\n",
       "<table border=\"1\" class=\"dataframe\">\n",
       "  <thead>\n",
       "    <tr style=\"text-align: right;\">\n",
       "      <th></th>\n",
       "      <th>起飞</th>\n",
       "      <th>到达</th>\n",
       "      <th>航班号</th>\n",
       "      <th>机型</th>\n",
       "      <th>班期</th>\n",
       "      <th>日期</th>\n",
       "      <th>备注</th>\n",
       "    </tr>\n",
       "  </thead>\n",
       "  <tbody>\n",
       "    <tr>\n",
       "      <th>0</th>\n",
       "      <td>8</td>\n",
       "      <td>13</td>\n",
       "      <td>cz6341</td>\n",
       "      <td>321</td>\n",
       "      <td>1234567</td>\n",
       "      <td>03月26日 -</td>\n",
       "      <td>中国南方航空公司</td>\n",
       "    </tr>\n",
       "    <tr>\n",
       "      <th>1</th>\n",
       "      <td>13</td>\n",
       "      <td>17</td>\n",
       "      <td>hu7132</td>\n",
       "      <td>737</td>\n",
       "      <td>1234567</td>\n",
       "      <td>03月26日 - 10月28日</td>\n",
       "      <td>海南航空公司</td>\n",
       "    </tr>\n",
       "    <tr>\n",
       "      <th>2</th>\n",
       "      <td>9</td>\n",
       "      <td>12</td>\n",
       "      <td>cz6459</td>\n",
       "      <td>319</td>\n",
       "      <td>..3..6.</td>\n",
       "      <td>03月29日 - 10月28日</td>\n",
       "      <td>中国南方航空公司</td>\n",
       "    </tr>\n",
       "    <tr>\n",
       "      <th>3</th>\n",
       "      <td>8</td>\n",
       "      <td>11</td>\n",
       "      <td>cz633</td>\n",
       "      <td>jet</td>\n",
       "      <td>.2...6.</td>\n",
       "      <td>03月25日 - 10月28日</td>\n",
       "      <td>中国南方航空公司</td>\n",
       "    </tr>\n",
       "    <tr>\n",
       "      <th>4</th>\n",
       "      <td>8</td>\n",
       "      <td>13</td>\n",
       "      <td>cz6441</td>\n",
       "      <td>319</td>\n",
       "      <td>...4..7</td>\n",
       "      <td>03月26日 - 10月26日</td>\n",
       "      <td>中国南方航空公司</td>\n",
       "    </tr>\n",
       "  </tbody>\n",
       "</table>\n",
       "</div>"
      ],
      "text/plain": [
       "   起飞  到达     航班号   机型       班期               日期        备注\n",
       "0   8  13  cz6341  321  1234567         03月26日 -  中国南方航空公司\n",
       "1  13  17  hu7132  737  1234567  03月26日 - 10月28日    海南航空公司\n",
       "2   9  12  cz6459  319  ..3..6.  03月29日 - 10月28日  中国南方航空公司\n",
       "3   8  11   cz633  jet  .2...6.  03月25日 - 10月28日  中国南方航空公司\n",
       "4   8  13  cz6441  319  ...4..7  03月26日 - 10月26日  中国南方航空公司"
      ]
     },
     "execution_count": 60,
     "metadata": {},
     "output_type": "execute_result"
    }
   ],
   "source": [
    "da2_2 = pd.read_csv('./data/csv/beijing/2线总表-2.csv',encoding='gbk')\n",
    "da2_2.head()"
   ]
  },
  {
   "cell_type": "code",
   "execution_count": 65,
   "metadata": {},
   "outputs": [
    {
     "name": "stdout",
     "output_type": "stream",
     "text": [
      "北京航班出现的机型有20种，分别是：\n",
      "['321' '737' '319' 'jet' 'crj' '733' '739' '734' '320' 'd38' 'm90' '73g'\n",
      " '757' '738' '300' '762' '777' 'ab6' '340' 'cr7']\n"
     ]
    }
   ],
   "source": [
    "# 统计出现各种不同的机型\n",
    "print(\"北京航班出现的机型有{0}种，分别是：\".format(len((da2_2['机型']).unique())))\n",
    "print((da2_2['机型']).unique())"
   ]
  },
  {
   "cell_type": "code",
   "execution_count": 64,
   "metadata": {},
   "outputs": [],
   "source": [
    "# 'eqv'，'jet'这两种表示机型不确定，所以暂时不给予字典的赋值\n",
    "# '31k'： 没有找到相关线索\n",
    "# 建立相关航班乘客人数的字典，键：机型，值：载客量，\n",
    "persons = {\n",
    "    '733':122,'737':146,'320':156,\n",
    "    '767':225,'321':197,'777':341,\n",
    "    '738':167,'763':247,'735':118,\n",
    "    '772':341,'319':123,'757':202,\n",
    "    '736':120,'747':406,'734':157,\n",
    "    'm90':150,'343':337,'crj':68,\n",
    "    '74e':353,'340':324,'ab6':262,\n",
    "    'erj':44,'762':224,'300':280,\n",
    "    '77b':350,'330':300,'d38':32,\n",
    "    '73c':128,'332':293,'739':219,\n",
    "    '73g':137   \n",
    "}"
   ]
  },
  {
   "cell_type": "code",
   "execution_count": 66,
   "metadata": {},
   "outputs": [
    {
     "data": {
      "text/html": [
       "<div>\n",
       "<style scoped>\n",
       "    .dataframe tbody tr th:only-of-type {\n",
       "        vertical-align: middle;\n",
       "    }\n",
       "\n",
       "    .dataframe tbody tr th {\n",
       "        vertical-align: top;\n",
       "    }\n",
       "\n",
       "    .dataframe thead th {\n",
       "        text-align: right;\n",
       "    }\n",
       "</style>\n",
       "<table border=\"1\" class=\"dataframe\">\n",
       "  <thead>\n",
       "    <tr style=\"text-align: right;\">\n",
       "      <th></th>\n",
       "      <th>起飞</th>\n",
       "      <th>到达</th>\n",
       "      <th>航班号</th>\n",
       "      <th>机型</th>\n",
       "      <th>班期</th>\n",
       "      <th>日期</th>\n",
       "      <th>备注</th>\n",
       "      <th>persons</th>\n",
       "    </tr>\n",
       "  </thead>\n",
       "  <tbody>\n",
       "    <tr>\n",
       "      <th>0</th>\n",
       "      <td>8</td>\n",
       "      <td>13</td>\n",
       "      <td>cz6341</td>\n",
       "      <td>321</td>\n",
       "      <td>1234567</td>\n",
       "      <td>03月26日 -</td>\n",
       "      <td>中国南方航空公司</td>\n",
       "      <td>197.0</td>\n",
       "    </tr>\n",
       "    <tr>\n",
       "      <th>1</th>\n",
       "      <td>13</td>\n",
       "      <td>17</td>\n",
       "      <td>hu7132</td>\n",
       "      <td>737</td>\n",
       "      <td>1234567</td>\n",
       "      <td>03月26日 - 10月28日</td>\n",
       "      <td>海南航空公司</td>\n",
       "      <td>146.0</td>\n",
       "    </tr>\n",
       "    <tr>\n",
       "      <th>2</th>\n",
       "      <td>9</td>\n",
       "      <td>12</td>\n",
       "      <td>cz6459</td>\n",
       "      <td>319</td>\n",
       "      <td>..3..6.</td>\n",
       "      <td>03月29日 - 10月28日</td>\n",
       "      <td>中国南方航空公司</td>\n",
       "      <td>123.0</td>\n",
       "    </tr>\n",
       "    <tr>\n",
       "      <th>3</th>\n",
       "      <td>8</td>\n",
       "      <td>11</td>\n",
       "      <td>cz633</td>\n",
       "      <td>jet</td>\n",
       "      <td>.2...6.</td>\n",
       "      <td>03月25日 - 10月28日</td>\n",
       "      <td>中国南方航空公司</td>\n",
       "      <td>NaN</td>\n",
       "    </tr>\n",
       "    <tr>\n",
       "      <th>4</th>\n",
       "      <td>8</td>\n",
       "      <td>13</td>\n",
       "      <td>cz6441</td>\n",
       "      <td>319</td>\n",
       "      <td>...4..7</td>\n",
       "      <td>03月26日 - 10月26日</td>\n",
       "      <td>中国南方航空公司</td>\n",
       "      <td>123.0</td>\n",
       "    </tr>\n",
       "  </tbody>\n",
       "</table>\n",
       "</div>"
      ],
      "text/plain": [
       "   起飞  到达     航班号   机型       班期               日期        备注  persons\n",
       "0   8  13  cz6341  321  1234567         03月26日 -  中国南方航空公司    197.0\n",
       "1  13  17  hu7132  737  1234567  03月26日 - 10月28日    海南航空公司    146.0\n",
       "2   9  12  cz6459  319  ..3..6.  03月29日 - 10月28日  中国南方航空公司    123.0\n",
       "3   8  11   cz633  jet  .2...6.  03月25日 - 10月28日  中国南方航空公司      NaN\n",
       "4   8  13  cz6441  319  ...4..7  03月26日 - 10月26日  中国南方航空公司    123.0"
      ]
     },
     "execution_count": 66,
     "metadata": {},
     "output_type": "execute_result"
    }
   ],
   "source": [
    "#  利用map() 函数重新进行映射\n",
    "da2_2['persons'] = da2_2['机型'].map(persons)\n",
    "da2_2.head()"
   ]
  },
  {
   "cell_type": "code",
   "execution_count": 68,
   "metadata": {},
   "outputs": [
    {
     "name": "stdout",
     "output_type": "stream",
     "text": [
      "<class 'pandas.core.frame.DataFrame'>\n",
      "RangeIndex: 279 entries, 0 to 278\n",
      "Data columns (total 8 columns):\n",
      "起飞         279 non-null int64\n",
      "到达         279 non-null int64\n",
      "航班号        279 non-null object\n",
      "机型         279 non-null object\n",
      "班期         279 non-null object\n",
      "日期         279 non-null object\n",
      "备注         279 non-null object\n",
      "persons    243 non-null float64\n",
      "dtypes: float64(1), int64(2), object(5)\n",
      "memory usage: 17.5+ KB\n"
     ]
    }
   ],
   "source": [
    "#  查看数据集的个数 ,由此可见，有279个数据\n",
    "da2_2.info()"
   ]
  },
  {
   "cell_type": "code",
   "execution_count": 69,
   "metadata": {},
   "outputs": [
    {
     "data": {
      "text/plain": [
       "127.3045267489712"
      ]
     },
     "execution_count": 69,
     "metadata": {},
     "output_type": "execute_result"
    }
   ],
   "source": [
    "\n",
    "#  并且由此可知，persons新增的属性列有534条数据，因此 ，可知机型为\n",
    "# eqv,jet,31k即为243条，\n",
    "#  采用\n",
    "n = (da2_2['persons'].sum())/243\n",
    "n"
   ]
  },
  {
   "cell_type": "code",
   "execution_count": 74,
   "metadata": {},
   "outputs": [
    {
     "name": "stdout",
     "output_type": "stream",
     "text": [
      "北京航班出现的机型有20种，分别是：\n",
      "['321' '737' '319' 'jet' 'crj' '733' '739' '734' '320' 'd38' 'm90' '73g'\n",
      " '757' '738' '300' '762' '777' 'ab6' '340' 'cr7']\n"
     ]
    }
   ],
   "source": [
    "# 统计出现各种不同的机型\n",
    "print(\"北京航班出现的机型有{0}种，分别是：\".format(len((da2_2['机型']).unique())))\n",
    "print((da2_2['机型']).unique())"
   ]
  },
  {
   "cell_type": "code",
   "execution_count": 75,
   "metadata": {},
   "outputs": [],
   "source": [
    "#  利用drop（）函数，删除刚才新增的属性列persons列\n",
    "da2_2 = da2_2.drop('persons',axis = 1)"
   ]
  },
  {
   "cell_type": "code",
   "execution_count": 76,
   "metadata": {},
   "outputs": [],
   "source": [
    "#  因此可赋值给eqv,jet,31k，显示这三种机型的人数平均值\n",
    "persons = {\n",
    "    'eqv':127,'jet':127,'31k':127,\n",
    "    '733':122,'737':146,'320':156,\n",
    "    '767':225,'321':197,'777':341,\n",
    "    '738':167,'763':247,'735':118,\n",
    "    '772':341,'319':123,'757':202,\n",
    "    '736':120,'747':406,'734':157,\n",
    "    'm90':150,'343':337,'crj':68,\n",
    "    '74e':353,'340':324,'ab6':262,\n",
    "    'erj':44,'762':224,'300':280,\n",
    "    '77b':350,'330':300,'d38':32,\n",
    "    '73c':128,'332':293,'739':219,\n",
    "    '73g':137 ,'cr7':70 \n",
    "}"
   ]
  },
  {
   "cell_type": "code",
   "execution_count": 77,
   "metadata": {},
   "outputs": [
    {
     "data": {
      "text/html": [
       "<div>\n",
       "<style scoped>\n",
       "    .dataframe tbody tr th:only-of-type {\n",
       "        vertical-align: middle;\n",
       "    }\n",
       "\n",
       "    .dataframe tbody tr th {\n",
       "        vertical-align: top;\n",
       "    }\n",
       "\n",
       "    .dataframe thead th {\n",
       "        text-align: right;\n",
       "    }\n",
       "</style>\n",
       "<table border=\"1\" class=\"dataframe\">\n",
       "  <thead>\n",
       "    <tr style=\"text-align: right;\">\n",
       "      <th></th>\n",
       "      <th>起飞</th>\n",
       "      <th>到达</th>\n",
       "      <th>航班号</th>\n",
       "      <th>机型</th>\n",
       "      <th>班期</th>\n",
       "      <th>日期</th>\n",
       "      <th>备注</th>\n",
       "      <th>persons</th>\n",
       "    </tr>\n",
       "  </thead>\n",
       "  <tbody>\n",
       "    <tr>\n",
       "      <th>0</th>\n",
       "      <td>8</td>\n",
       "      <td>13</td>\n",
       "      <td>cz6341</td>\n",
       "      <td>321</td>\n",
       "      <td>1234567</td>\n",
       "      <td>03月26日 -</td>\n",
       "      <td>中国南方航空公司</td>\n",
       "      <td>197</td>\n",
       "    </tr>\n",
       "    <tr>\n",
       "      <th>1</th>\n",
       "      <td>13</td>\n",
       "      <td>17</td>\n",
       "      <td>hu7132</td>\n",
       "      <td>737</td>\n",
       "      <td>1234567</td>\n",
       "      <td>03月26日 - 10月28日</td>\n",
       "      <td>海南航空公司</td>\n",
       "      <td>146</td>\n",
       "    </tr>\n",
       "    <tr>\n",
       "      <th>2</th>\n",
       "      <td>9</td>\n",
       "      <td>12</td>\n",
       "      <td>cz6459</td>\n",
       "      <td>319</td>\n",
       "      <td>..3..6.</td>\n",
       "      <td>03月29日 - 10月28日</td>\n",
       "      <td>中国南方航空公司</td>\n",
       "      <td>123</td>\n",
       "    </tr>\n",
       "    <tr>\n",
       "      <th>3</th>\n",
       "      <td>8</td>\n",
       "      <td>11</td>\n",
       "      <td>cz633</td>\n",
       "      <td>jet</td>\n",
       "      <td>.2...6.</td>\n",
       "      <td>03月25日 - 10月28日</td>\n",
       "      <td>中国南方航空公司</td>\n",
       "      <td>127</td>\n",
       "    </tr>\n",
       "    <tr>\n",
       "      <th>4</th>\n",
       "      <td>8</td>\n",
       "      <td>13</td>\n",
       "      <td>cz6441</td>\n",
       "      <td>319</td>\n",
       "      <td>...4..7</td>\n",
       "      <td>03月26日 - 10月26日</td>\n",
       "      <td>中国南方航空公司</td>\n",
       "      <td>123</td>\n",
       "    </tr>\n",
       "  </tbody>\n",
       "</table>\n",
       "</div>"
      ],
      "text/plain": [
       "   起飞  到达     航班号   机型       班期               日期        备注  persons\n",
       "0   8  13  cz6341  321  1234567         03月26日 -  中国南方航空公司      197\n",
       "1  13  17  hu7132  737  1234567  03月26日 - 10月28日    海南航空公司      146\n",
       "2   9  12  cz6459  319  ..3..6.  03月29日 - 10月28日  中国南方航空公司      123\n",
       "3   8  11   cz633  jet  .2...6.  03月25日 - 10月28日  中国南方航空公司      127\n",
       "4   8  13  cz6441  319  ...4..7  03月26日 - 10月26日  中国南方航空公司      123"
      ]
     },
     "execution_count": 77,
     "metadata": {},
     "output_type": "execute_result"
    }
   ],
   "source": [
    "#  利用map() 函数重新进行映射\n",
    "da2_2['persons'] = da2_2['机型'].map(persons)\n",
    "da2_2.head()"
   ]
  },
  {
   "cell_type": "code",
   "execution_count": 78,
   "metadata": {},
   "outputs": [
    {
     "name": "stdout",
     "output_type": "stream",
     "text": [
      "<class 'pandas.core.frame.DataFrame'>\n",
      "RangeIndex: 279 entries, 0 to 278\n",
      "Data columns (total 8 columns):\n",
      "起飞         279 non-null int64\n",
      "到达         279 non-null int64\n",
      "航班号        279 non-null object\n",
      "机型         279 non-null object\n",
      "班期         279 non-null object\n",
      "日期         279 non-null object\n",
      "备注         279 non-null object\n",
      "persons    279 non-null int64\n",
      "dtypes: int64(3), object(5)\n",
      "memory usage: 17.5+ KB\n"
     ]
    }
   ],
   "source": [
    "#  查看数据集的个数 ,由此可见，有279个数据,由此可见已没有空值\n",
    "da2_2.info()"
   ]
  },
  {
   "cell_type": "code",
   "execution_count": 80,
   "metadata": {},
   "outputs": [],
   "source": [
    "# 将数据保存到本地\n",
    "da2_2.to_csv('./data/csv/beijing/2_model_persons.csv')"
   ]
  },
  {
   "cell_type": "code",
   "execution_count": 85,
   "metadata": {},
   "outputs": [
    {
     "data": {
      "text/plain": [
       "起飞\n",
       "16    3611\n",
       "15    3204\n",
       "8     3180\n",
       "7     2828\n",
       "14    2615\n",
       "12    2517\n",
       "10    2474\n",
       "13    2367\n",
       "17    2098\n",
       "19    1852\n",
       "11    1781\n",
       "21    1779\n",
       "18    1748\n",
       "9     1408\n",
       "20    1160\n",
       "22     382\n",
       "23     218\n",
       "Name: persons, dtype: int64"
      ]
     },
     "execution_count": 85,
     "metadata": {},
     "output_type": "execute_result"
    }
   ],
   "source": [
    "# 按起飞时段对乘客人数进行排序\n",
    "da2_2.groupby('起飞')['persons'].sum().sort_values(ascending = False)"
   ]
  },
  {
   "cell_type": "code",
   "execution_count": 88,
   "metadata": {},
   "outputs": [
    {
     "data": {
      "text/plain": [
       "16    28\n",
       "15    27\n",
       "10    22\n",
       "12    22\n",
       "13    22\n",
       "8     21\n",
       "14    19\n",
       "7     19\n",
       "17    17\n",
       "9     15\n",
       "21    15\n",
       "19    14\n",
       "18    13\n",
       "11    10\n",
       "20     9\n",
       "22     4\n",
       "23     2\n",
       "Name: 起飞, dtype: int64"
      ]
     },
     "execution_count": 88,
     "metadata": {},
     "output_type": "execute_result"
    }
   ],
   "source": [
    "#  统计各时段的航班出现次数\n",
    "da2_2['起飞'].value_counts()"
   ]
  },
  {
   "cell_type": "code",
   "execution_count": 86,
   "metadata": {},
   "outputs": [
    {
     "data": {
      "text/plain": [
       "[28, 27, 22, 22, 22, 21, 19, 19, 17, 15, 15, 14, 13, 10, 9, 4, 2]"
      ]
     },
     "execution_count": 86,
     "metadata": {},
     "output_type": "execute_result"
    }
   ],
   "source": [
    "number2 = list(da2_2['起飞'].value_counts())\n",
    "number2"
   ]
  },
  {
   "cell_type": "code",
   "execution_count": 96,
   "metadata": {},
   "outputs": [
    {
     "name": "stderr",
     "output_type": "stream",
     "text": [
      "No handles with labels found to put in legend.\n"
     ]
    },
    {
     "data": {
      "image/png": "[encoded data removed]",
      "text/plain": [
       "<Figure size 576x432 with 1 Axes>"
      ]
     },
     "metadata": {},
     "output_type": "display_data"
    }
   ],
   "source": [
    "x = np.array([16, 15, 10, 12, 13, 8, 14, 7, 17, 9, 21, 19, 18,11,20,22,23])\n",
    "y = np.array([28, 27, 22, 22, 22, 21, 19, 19, 17, 15, 15, 14, 13, 10, 9, 4, 2])\n",
    "\n",
    "\n",
    "fig = plt.figure(figsize = (8,6))\n",
    "plt.scatter(x,y,marker = 'o',s = 30,color = 'r')\n",
    "plt.legend(loc = 'best')\n",
    "plt.xlabel('时段',fontsize = 20)\n",
    "plt.ylabel('航班次数',size = 20)\n",
    "plt.title('2线城市各时段航班出现次数统计表')\n",
    "\n",
    "for x,y in zip(x,y):\n",
    "# 标注坐标，用注释函数： plt.annotate(('(%s,%s)'%(x,y)： 获取坐标)，\n",
    "#    xytext = (0,-15)：注释坐标的位置，\n",
    "#   textcoords= 'offset points'：可以使坐标显示出来\n",
    "    # ha = 'center' 可以使注释坐标对齐点\n",
    "    plt.annotate('(%s,%s)'%(x,y),xy = (x,y),xytext = (0,-15),textcoords = 'offset points',\n",
    "                ha = 'center')"
   ]
  },
  {
   "cell_type": "code",
   "execution_count": 97,
   "metadata": {},
   "outputs": [
    {
     "name": "stderr",
     "output_type": "stream",
     "text": [
      "No handles with labels found to put in legend.\n"
     ]
    },
    {
     "data": {
      "image/png": "[encoded data removed]",
      "text/plain": [
       "<Figure size 576x432 with 1 Axes>"
      ]
     },
     "metadata": {},
     "output_type": "display_data"
    }
   ],
   "source": [
    "x = np.array([7, 17, 18, 19, 12, 8, 14, 20, 16, 13, 21, 11, 15,9,10,22,23])\n",
    "z = np.array([3611,3204,3180,2828,2615,2517,2474,2367,2098,1852,1781,1779,1748,1408,1160,\n",
    "              382,218])\n",
    "\n",
    "\n",
    "fig = plt.figure(figsize = (8,6))\n",
    "plt.scatter(x,z,marker = '*',s = 30,color = 'b')\n",
    "plt.legend(loc = 'best')\n",
    "plt.xlabel('时段',fontsize = 20)\n",
    "plt.ylabel('乘客人数',size = 20)\n",
    "plt.title('2线城市各时段航班出现人数统计表')\n",
    "\n",
    "for x,z in zip(x,z):\n",
    "    plt.annotate('(%s,%s)'%(x,z),xy = (x,z),xytext = (0,-15),textcoords = 'offset points',\n",
    "                ha = 'center')"
   ]
  },
  {
   "cell_type": "markdown",
   "metadata": {},
   "source": [
    "# 3线数据处理 "
   ]
  },
  {
   "cell_type": "code",
   "execution_count": 61,
   "metadata": {},
   "outputs": [
    {
     "data": {
      "text/html": [
       "<div>\n",
       "<style scoped>\n",
       "    .dataframe tbody tr th:only-of-type {\n",
       "        vertical-align: middle;\n",
       "    }\n",
       "\n",
       "    .dataframe tbody tr th {\n",
       "        vertical-align: top;\n",
       "    }\n",
       "\n",
       "    .dataframe thead th {\n",
       "        text-align: right;\n",
       "    }\n",
       "</style>\n",
       "<table border=\"1\" class=\"dataframe\">\n",
       "  <thead>\n",
       "    <tr style=\"text-align: right;\">\n",
       "      <th></th>\n",
       "      <th>起飞</th>\n",
       "      <th>到达</th>\n",
       "      <th>航班号</th>\n",
       "      <th>机型</th>\n",
       "      <th>班期</th>\n",
       "      <th>日期</th>\n",
       "      <th>备注</th>\n",
       "    </tr>\n",
       "  </thead>\n",
       "  <tbody>\n",
       "    <tr>\n",
       "      <th>0</th>\n",
       "      <td>汕头(07:50)</td>\n",
       "      <td>广州(08:35)</td>\n",
       "      <td>cz3891</td>\n",
       "      <td>733</td>\n",
       "      <td>1234567</td>\n",
       "      <td>03月27日 - 10月28日</td>\n",
       "      <td>中国南方航空公司</td>\n",
       "    </tr>\n",
       "    <tr>\n",
       "      <th>1</th>\n",
       "      <td>汕头(12:00)</td>\n",
       "      <td>广州(12:45)</td>\n",
       "      <td>cz3893</td>\n",
       "      <td>733</td>\n",
       "      <td>1234567</td>\n",
       "      <td>03月26日 - 10月28日</td>\n",
       "      <td>中国南方航空公司</td>\n",
       "    </tr>\n",
       "    <tr>\n",
       "      <th>2</th>\n",
       "      <td>汕头(15:30)</td>\n",
       "      <td>广州(16:20)</td>\n",
       "      <td>cz3895</td>\n",
       "      <td>733</td>\n",
       "      <td>1234567</td>\n",
       "      <td>03月27日 - 10月28日</td>\n",
       "      <td>中国南方航空公司</td>\n",
       "    </tr>\n",
       "    <tr>\n",
       "      <th>3</th>\n",
       "      <td>汕头(20:30)</td>\n",
       "      <td>广州(21:15)</td>\n",
       "      <td>cz3897</td>\n",
       "      <td>733</td>\n",
       "      <td>1.345.7</td>\n",
       "      <td>03月26日 - 03月31日</td>\n",
       "      <td>中国南方航空公司</td>\n",
       "    </tr>\n",
       "    <tr>\n",
       "      <th>4</th>\n",
       "      <td>汕头(20:30)</td>\n",
       "      <td>广州(21:15)</td>\n",
       "      <td>cz3897</td>\n",
       "      <td>733</td>\n",
       "      <td>1234567</td>\n",
       "      <td>04月02日 - 10月28日</td>\n",
       "      <td>中国南方航空公司</td>\n",
       "    </tr>\n",
       "  </tbody>\n",
       "</table>\n",
       "</div>"
      ],
      "text/plain": [
       "          起飞         到达     航班号   机型       班期               日期        备注\n",
       "0  汕头(07:50)  广州(08:35)  cz3891  733  1234567  03月27日 - 10月28日  中国南方航空公司\n",
       "1  汕头(12:00)  广州(12:45)  cz3893  733  1234567  03月26日 - 10月28日  中国南方航空公司\n",
       "2  汕头(15:30)  广州(16:20)  cz3895  733  1234567  03月27日 - 10月28日  中国南方航空公司\n",
       "3  汕头(20:30)  广州(21:15)  cz3897  733  1.345.7  03月26日 - 03月31日  中国南方航空公司\n",
       "4  汕头(20:30)  广州(21:15)  cz3897  733  1234567  04月02日 - 10月28日  中国南方航空公司"
      ]
     },
     "execution_count": 61,
     "metadata": {},
     "output_type": "execute_result"
    }
   ],
   "source": [
    "da3_1 = pd.read_csv('./data/csv/beijing/3线总表.csv',encoding='gbk')\n",
    "da3_1.head()"
   ]
  },
  {
   "cell_type": "code",
   "execution_count": 62,
   "metadata": {},
   "outputs": [
    {
     "data": {
      "text/html": [
       "<div>\n",
       "<style scoped>\n",
       "    .dataframe tbody tr th:only-of-type {\n",
       "        vertical-align: middle;\n",
       "    }\n",
       "\n",
       "    .dataframe tbody tr th {\n",
       "        vertical-align: top;\n",
       "    }\n",
       "\n",
       "    .dataframe thead th {\n",
       "        text-align: right;\n",
       "    }\n",
       "</style>\n",
       "<table border=\"1\" class=\"dataframe\">\n",
       "  <thead>\n",
       "    <tr style=\"text-align: right;\">\n",
       "      <th></th>\n",
       "      <th>起飞</th>\n",
       "      <th>到达</th>\n",
       "      <th>航班号</th>\n",
       "      <th>机型</th>\n",
       "      <th>班期</th>\n",
       "      <th>日期</th>\n",
       "      <th>备注</th>\n",
       "    </tr>\n",
       "  </thead>\n",
       "  <tbody>\n",
       "    <tr>\n",
       "      <th>0</th>\n",
       "      <td>7</td>\n",
       "      <td>8</td>\n",
       "      <td>cz3891</td>\n",
       "      <td>733</td>\n",
       "      <td>1234567</td>\n",
       "      <td>03月27日 - 10月28日</td>\n",
       "      <td>中国南方航空公司</td>\n",
       "    </tr>\n",
       "    <tr>\n",
       "      <th>1</th>\n",
       "      <td>12</td>\n",
       "      <td>12</td>\n",
       "      <td>cz3893</td>\n",
       "      <td>733</td>\n",
       "      <td>1234567</td>\n",
       "      <td>03月26日 - 10月28日</td>\n",
       "      <td>中国南方航空公司</td>\n",
       "    </tr>\n",
       "    <tr>\n",
       "      <th>2</th>\n",
       "      <td>15</td>\n",
       "      <td>16</td>\n",
       "      <td>cz3895</td>\n",
       "      <td>733</td>\n",
       "      <td>1234567</td>\n",
       "      <td>03月27日 - 10月28日</td>\n",
       "      <td>中国南方航空公司</td>\n",
       "    </tr>\n",
       "    <tr>\n",
       "      <th>3</th>\n",
       "      <td>20</td>\n",
       "      <td>21</td>\n",
       "      <td>cz3897</td>\n",
       "      <td>733</td>\n",
       "      <td>1.345.7</td>\n",
       "      <td>03月26日 - 03月31日</td>\n",
       "      <td>中国南方航空公司</td>\n",
       "    </tr>\n",
       "    <tr>\n",
       "      <th>4</th>\n",
       "      <td>20</td>\n",
       "      <td>21</td>\n",
       "      <td>cz3897</td>\n",
       "      <td>733</td>\n",
       "      <td>1234567</td>\n",
       "      <td>04月02日 - 10月28日</td>\n",
       "      <td>中国南方航空公司</td>\n",
       "    </tr>\n",
       "  </tbody>\n",
       "</table>\n",
       "</div>"
      ],
      "text/plain": [
       "   起飞  到达     航班号   机型       班期               日期        备注\n",
       "0   7   8  cz3891  733  1234567  03月27日 - 10月28日  中国南方航空公司\n",
       "1  12  12  cz3893  733  1234567  03月26日 - 10月28日  中国南方航空公司\n",
       "2  15  16  cz3895  733  1234567  03月27日 - 10月28日  中国南方航空公司\n",
       "3  20  21  cz3897  733  1.345.7  03月26日 - 03月31日  中国南方航空公司\n",
       "4  20  21  cz3897  733  1234567  04月02日 - 10月28日  中国南方航空公司"
      ]
     },
     "execution_count": 62,
     "metadata": {},
     "output_type": "execute_result"
    }
   ],
   "source": [
    "da3_2 = pd.read_csv('./data/csv/beijing/3线总表-2.csv',encoding='gbk')\n",
    "da3_2.head()"
   ]
  },
  {
   "cell_type": "code",
   "execution_count": 98,
   "metadata": {},
   "outputs": [
    {
     "name": "stdout",
     "output_type": "stream",
     "text": [
      "北京航班出现的机型有11种，分别是：\n",
      "['321' '737' '319' 'jet' 'crj' '733' '739' '734' '320' 'd38' 'm90' '73g'\n",
      " '757' '738' '300' '762' '777' 'ab6' '340' 'cr7']\n"
     ]
    }
   ],
   "source": [
    "# 统计出现各种不同的机型\n",
    "print(\"北京航班出现的机型有{0}种，分别是：\".format(len((da3_2['机型']).unique())))\n",
    "print((da2_2['机型']).unique())"
   ]
  },
  {
   "cell_type": "code",
   "execution_count": 99,
   "metadata": {},
   "outputs": [],
   "source": [
    "# 'eqv'，'jet'这两种表示机型不确定，所以暂时不给予字典的赋值\n",
    "# '31k'： 没有找到相关线索\n",
    "# 建立相关航班乘客人数的字典，键：机型，值：载客量，\n",
    "persons = {\n",
    "    '733':122,'737':146,'320':156,\n",
    "    '767':225,'321':197,'777':341,\n",
    "    '738':167,'763':247,'735':118,\n",
    "    '772':341,'319':123,'757':202,\n",
    "    '736':120,'747':406,'734':157,\n",
    "    'm90':150,'343':337,'crj':68,\n",
    "    '74e':353,'340':324,'ab6':262,\n",
    "    'erj':44,'762':224,'300':280,\n",
    "    '77b':350,'330':300,'d38':32,\n",
    "    '73c':128,'332':293,'739':219,\n",
    "    '73g':137   \n",
    "}"
   ]
  },
  {
   "cell_type": "code",
   "execution_count": 100,
   "metadata": {},
   "outputs": [
    {
     "data": {
      "text/html": [
       "<div>\n",
       "<style scoped>\n",
       "    .dataframe tbody tr th:only-of-type {\n",
       "        vertical-align: middle;\n",
       "    }\n",
       "\n",
       "    .dataframe tbody tr th {\n",
       "        vertical-align: top;\n",
       "    }\n",
       "\n",
       "    .dataframe thead th {\n",
       "        text-align: right;\n",
       "    }\n",
       "</style>\n",
       "<table border=\"1\" class=\"dataframe\">\n",
       "  <thead>\n",
       "    <tr style=\"text-align: right;\">\n",
       "      <th></th>\n",
       "      <th>起飞</th>\n",
       "      <th>到达</th>\n",
       "      <th>航班号</th>\n",
       "      <th>机型</th>\n",
       "      <th>班期</th>\n",
       "      <th>日期</th>\n",
       "      <th>备注</th>\n",
       "      <th>persons</th>\n",
       "    </tr>\n",
       "  </thead>\n",
       "  <tbody>\n",
       "    <tr>\n",
       "      <th>0</th>\n",
       "      <td>7</td>\n",
       "      <td>8</td>\n",
       "      <td>cz3891</td>\n",
       "      <td>733</td>\n",
       "      <td>1234567</td>\n",
       "      <td>03月27日 - 10月28日</td>\n",
       "      <td>中国南方航空公司</td>\n",
       "      <td>122.0</td>\n",
       "    </tr>\n",
       "    <tr>\n",
       "      <th>1</th>\n",
       "      <td>12</td>\n",
       "      <td>12</td>\n",
       "      <td>cz3893</td>\n",
       "      <td>733</td>\n",
       "      <td>1234567</td>\n",
       "      <td>03月26日 - 10月28日</td>\n",
       "      <td>中国南方航空公司</td>\n",
       "      <td>122.0</td>\n",
       "    </tr>\n",
       "    <tr>\n",
       "      <th>2</th>\n",
       "      <td>15</td>\n",
       "      <td>16</td>\n",
       "      <td>cz3895</td>\n",
       "      <td>733</td>\n",
       "      <td>1234567</td>\n",
       "      <td>03月27日 - 10月28日</td>\n",
       "      <td>中国南方航空公司</td>\n",
       "      <td>122.0</td>\n",
       "    </tr>\n",
       "    <tr>\n",
       "      <th>3</th>\n",
       "      <td>20</td>\n",
       "      <td>21</td>\n",
       "      <td>cz3897</td>\n",
       "      <td>733</td>\n",
       "      <td>1.345.7</td>\n",
       "      <td>03月26日 - 03月31日</td>\n",
       "      <td>中国南方航空公司</td>\n",
       "      <td>122.0</td>\n",
       "    </tr>\n",
       "    <tr>\n",
       "      <th>4</th>\n",
       "      <td>20</td>\n",
       "      <td>21</td>\n",
       "      <td>cz3897</td>\n",
       "      <td>733</td>\n",
       "      <td>1234567</td>\n",
       "      <td>04月02日 - 10月28日</td>\n",
       "      <td>中国南方航空公司</td>\n",
       "      <td>122.0</td>\n",
       "    </tr>\n",
       "  </tbody>\n",
       "</table>\n",
       "</div>"
      ],
      "text/plain": [
       "   起飞  到达     航班号   机型       班期               日期        备注  persons\n",
       "0   7   8  cz3891  733  1234567  03月27日 - 10月28日  中国南方航空公司    122.0\n",
       "1  12  12  cz3893  733  1234567  03月26日 - 10月28日  中国南方航空公司    122.0\n",
       "2  15  16  cz3895  733  1234567  03月27日 - 10月28日  中国南方航空公司    122.0\n",
       "3  20  21  cz3897  733  1.345.7  03月26日 - 03月31日  中国南方航空公司    122.0\n",
       "4  20  21  cz3897  733  1234567  04月02日 - 10月28日  中国南方航空公司    122.0"
      ]
     },
     "execution_count": 100,
     "metadata": {},
     "output_type": "execute_result"
    }
   ],
   "source": [
    "#  利用map() 函数重新进行映射\n",
    "da3_2['persons'] = da3_2['机型'].map(persons)\n",
    "da3_2.head()"
   ]
  },
  {
   "cell_type": "code",
   "execution_count": 101,
   "metadata": {},
   "outputs": [
    {
     "name": "stdout",
     "output_type": "stream",
     "text": [
      "<class 'pandas.core.frame.DataFrame'>\n",
      "RangeIndex: 131 entries, 0 to 130\n",
      "Data columns (total 8 columns):\n",
      "起飞         131 non-null int64\n",
      "到达         131 non-null int64\n",
      "航班号        131 non-null object\n",
      "机型         131 non-null object\n",
      "班期         131 non-null object\n",
      "日期         131 non-null object\n",
      "备注         131 non-null object\n",
      "persons    130 non-null float64\n",
      "dtypes: float64(1), int64(2), object(5)\n",
      "memory usage: 8.3+ KB\n"
     ]
    }
   ],
   "source": [
    "da3_2.info()\n",
    "# 由此可见，persons属性列中有一个数据为空"
   ]
  },
  {
   "cell_type": "code",
   "execution_count": 102,
   "metadata": {},
   "outputs": [
    {
     "data": {
      "text/plain": [
       "139.9923076923077"
      ]
     },
     "execution_count": 102,
     "metadata": {},
     "output_type": "execute_result"
    }
   ],
   "source": [
    "# 按机型求出平均乘客数,将其赋值给未知机型的航班jet\n",
    "p = (da3_2['persons'].sum())/130\n",
    "p"
   ]
  },
  {
   "cell_type": "code",
   "execution_count": 103,
   "metadata": {},
   "outputs": [],
   "source": [
    "#  利用drop（）函数，删除刚才新增的属性列persons列\n",
    "da3_2 = da3_2.drop('persons',axis = 1)"
   ]
  },
  {
   "cell_type": "code",
   "execution_count": 104,
   "metadata": {},
   "outputs": [],
   "source": [
    "#  因此可赋值给eqv,jet,31k，显示这三种机型的人数平均值\n",
    "persons = {\n",
    "    'eqv':140,'jet':140,'31k':140,\n",
    "    '733':122,'737':146,'320':156,\n",
    "    '767':225,'321':197,'777':341,\n",
    "    '738':167,'763':247,'735':118,\n",
    "    '772':341,'319':123,'757':202,\n",
    "    '736':120,'747':406,'734':157,\n",
    "    'm90':150,'343':337,'crj':68,\n",
    "    '74e':353,'340':324,'ab6':262,\n",
    "    'erj':44,'762':224,'300':280,\n",
    "    '77b':350,'330':300,'d38':32,\n",
    "    '73c':128,'332':293,'739':219,\n",
    "    '73g':137 ,'cr7':70 \n",
    "}"
   ]
  },
  {
   "cell_type": "code",
   "execution_count": 105,
   "metadata": {},
   "outputs": [
    {
     "data": {
      "text/html": [
       "<div>\n",
       "<style scoped>\n",
       "    .dataframe tbody tr th:only-of-type {\n",
       "        vertical-align: middle;\n",
       "    }\n",
       "\n",
       "    .dataframe tbody tr th {\n",
       "        vertical-align: top;\n",
       "    }\n",
       "\n",
       "    .dataframe thead th {\n",
       "        text-align: right;\n",
       "    }\n",
       "</style>\n",
       "<table border=\"1\" class=\"dataframe\">\n",
       "  <thead>\n",
       "    <tr style=\"text-align: right;\">\n",
       "      <th></th>\n",
       "      <th>起飞</th>\n",
       "      <th>到达</th>\n",
       "      <th>航班号</th>\n",
       "      <th>机型</th>\n",
       "      <th>班期</th>\n",
       "      <th>日期</th>\n",
       "      <th>备注</th>\n",
       "      <th>persons</th>\n",
       "    </tr>\n",
       "  </thead>\n",
       "  <tbody>\n",
       "    <tr>\n",
       "      <th>0</th>\n",
       "      <td>7</td>\n",
       "      <td>8</td>\n",
       "      <td>cz3891</td>\n",
       "      <td>733</td>\n",
       "      <td>1234567</td>\n",
       "      <td>03月27日 - 10月28日</td>\n",
       "      <td>中国南方航空公司</td>\n",
       "      <td>122</td>\n",
       "    </tr>\n",
       "    <tr>\n",
       "      <th>1</th>\n",
       "      <td>12</td>\n",
       "      <td>12</td>\n",
       "      <td>cz3893</td>\n",
       "      <td>733</td>\n",
       "      <td>1234567</td>\n",
       "      <td>03月26日 - 10月28日</td>\n",
       "      <td>中国南方航空公司</td>\n",
       "      <td>122</td>\n",
       "    </tr>\n",
       "    <tr>\n",
       "      <th>2</th>\n",
       "      <td>15</td>\n",
       "      <td>16</td>\n",
       "      <td>cz3895</td>\n",
       "      <td>733</td>\n",
       "      <td>1234567</td>\n",
       "      <td>03月27日 - 10月28日</td>\n",
       "      <td>中国南方航空公司</td>\n",
       "      <td>122</td>\n",
       "    </tr>\n",
       "    <tr>\n",
       "      <th>3</th>\n",
       "      <td>20</td>\n",
       "      <td>21</td>\n",
       "      <td>cz3897</td>\n",
       "      <td>733</td>\n",
       "      <td>1.345.7</td>\n",
       "      <td>03月26日 - 03月31日</td>\n",
       "      <td>中国南方航空公司</td>\n",
       "      <td>122</td>\n",
       "    </tr>\n",
       "    <tr>\n",
       "      <th>4</th>\n",
       "      <td>20</td>\n",
       "      <td>21</td>\n",
       "      <td>cz3897</td>\n",
       "      <td>733</td>\n",
       "      <td>1234567</td>\n",
       "      <td>04月02日 - 10月28日</td>\n",
       "      <td>中国南方航空公司</td>\n",
       "      <td>122</td>\n",
       "    </tr>\n",
       "  </tbody>\n",
       "</table>\n",
       "</div>"
      ],
      "text/plain": [
       "   起飞  到达     航班号   机型       班期               日期        备注  persons\n",
       "0   7   8  cz3891  733  1234567  03月27日 - 10月28日  中国南方航空公司      122\n",
       "1  12  12  cz3893  733  1234567  03月26日 - 10月28日  中国南方航空公司      122\n",
       "2  15  16  cz3895  733  1234567  03月27日 - 10月28日  中国南方航空公司      122\n",
       "3  20  21  cz3897  733  1.345.7  03月26日 - 03月31日  中国南方航空公司      122\n",
       "4  20  21  cz3897  733  1234567  04月02日 - 10月28日  中国南方航空公司      122"
      ]
     },
     "execution_count": 105,
     "metadata": {},
     "output_type": "execute_result"
    }
   ],
   "source": [
    "#  利用map() 函数重新进行映射\n",
    "da3_2['persons'] = da3_2['机型'].map(persons)\n",
    "da3_2.head()"
   ]
  },
  {
   "cell_type": "code",
   "execution_count": 106,
   "metadata": {},
   "outputs": [
    {
     "name": "stdout",
     "output_type": "stream",
     "text": [
      "<class 'pandas.core.frame.DataFrame'>\n",
      "RangeIndex: 131 entries, 0 to 130\n",
      "Data columns (total 8 columns):\n",
      "起飞         131 non-null int64\n",
      "到达         131 non-null int64\n",
      "航班号        131 non-null object\n",
      "机型         131 non-null object\n",
      "班期         131 non-null object\n",
      "日期         131 non-null object\n",
      "备注         131 non-null object\n",
      "persons    131 non-null int64\n",
      "dtypes: int64(3), object(5)\n",
      "memory usage: 8.3+ KB\n"
     ]
    }
   ],
   "source": [
    "# 查看是否还有persons为空值的情况\n",
    "da3_2.info()"
   ]
  },
  {
   "cell_type": "code",
   "execution_count": 107,
   "metadata": {},
   "outputs": [],
   "source": [
    "#  将数据保存到本地\n",
    "da3_2.to_csv('./data/csv/beijing/3_model_persons.csv')"
   ]
  },
  {
   "cell_type": "code",
   "execution_count": 108,
   "metadata": {},
   "outputs": [
    {
     "data": {
      "text/plain": [
       "起飞\n",
       "16    4642\n",
       "9     4503\n",
       "15    1578\n",
       "11    1460\n",
       "20     942\n",
       "18     897\n",
       "7      757\n",
       "21     730\n",
       "8      690\n",
       "13     680\n",
       "17     557\n",
       "12     324\n",
       "14     202\n",
       "10     199\n",
       "22     146\n",
       "19      32\n",
       "Name: persons, dtype: int64"
      ]
     },
     "execution_count": 108,
     "metadata": {},
     "output_type": "execute_result"
    }
   ],
   "source": [
    "# 按起飞时段对乘客人数进行排序\n",
    "da3_2.groupby('起飞')['persons'].sum().sort_values(ascending = False)"
   ]
  },
  {
   "cell_type": "code",
   "execution_count": 111,
   "metadata": {},
   "outputs": [
    {
     "data": {
      "text/plain": [
       "16    33\n",
       "9     31\n",
       "15    12\n",
       "11    10\n",
       "20     7\n",
       "18     6\n",
       "21     5\n",
       "13     5\n",
       "8      5\n",
       "7      5\n",
       "17     4\n",
       "10     3\n",
       "12     2\n",
       "22     1\n",
       "19     1\n",
       "14     1\n",
       "Name: 起飞, dtype: int64"
      ]
     },
     "execution_count": 111,
     "metadata": {},
     "output_type": "execute_result"
    }
   ],
   "source": [
    "#  统计各时段的航班出现次数\n",
    "da3_2['起飞'].value_counts()"
   ]
  },
  {
   "cell_type": "code",
   "execution_count": 112,
   "metadata": {},
   "outputs": [
    {
     "data": {
      "text/plain": [
       "[33, 31, 12, 10, 7, 6, 5, 5, 5, 5, 4, 3, 2, 1, 1, 1]"
      ]
     },
     "execution_count": 112,
     "metadata": {},
     "output_type": "execute_result"
    }
   ],
   "source": [
    "\n",
    "number3 = list(da3_2['起飞'].value_counts())\n",
    "number3"
   ]
  },
  {
   "cell_type": "code",
   "execution_count": 113,
   "metadata": {},
   "outputs": [
    {
     "name": "stderr",
     "output_type": "stream",
     "text": [
      "No handles with labels found to put in legend.\n"
     ]
    },
    {
     "data": {
      "image/png": "[encoded data removed]",
      "text/plain": [
       "<Figure size 576x432 with 1 Axes>"
      ]
     },
     "metadata": {},
     "output_type": "display_data"
    }
   ],
   "source": [
    "x = np.array([16, 9, 15, 11, 20, 18, 21, 13, 8, 7, 17, 10, 12,22,19,14])\n",
    "y = np.array([33, 31, 12, 10, 7, 6, 5, 5, 5, 5, 4, 3, 2, 1, 1, 1])\n",
    "\n",
    "\n",
    "fig = plt.figure(figsize = (8,6))\n",
    "plt.scatter(x,y,marker = 'o',s = 30,color = 'r')\n",
    "plt.legend(loc = 'best')\n",
    "plt.xlabel('时段',fontsize = 20)\n",
    "plt.ylabel('航班次数',size = 20)\n",
    "plt.title('3线城市各时段航班出现次数统计表')\n",
    "\n",
    "for x,y in zip(x,y):\n",
    "# 标注坐标，用注释函数： plt.annotate(('(%s,%s)'%(x,y)： 获取坐标)，\n",
    "#    xytext = (0,-15)：注释坐标的位置，\n",
    "#   textcoords= 'offset points'：可以使坐标显示出来\n",
    "    # ha = 'center' 可以使注释坐标对齐点\n",
    "    plt.annotate('(%s,%s)'%(x,y),xy = (x,y),xytext = (0,-15),textcoords = 'offset points',\n",
    "                ha = 'center')"
   ]
  },
  {
   "cell_type": "code",
   "execution_count": 117,
   "metadata": {},
   "outputs": [
    {
     "name": "stderr",
     "output_type": "stream",
     "text": [
      "No handles with labels found to put in legend.\n"
     ]
    },
    {
     "data": {
      "image/png": "[encoded data removed]",
      "text/plain": [
       "<Figure size 576x432 with 1 Axes>"
      ]
     },
     "metadata": {},
     "output_type": "display_data"
    }
   ],
   "source": [
    "x = np.array([16, 9, 15, 11, 20, 18, 7, 21, 8, 13, 17, 12, 14,10,22,19])\n",
    "z = np.array([4642,4503,1578,1460,942,897,757,730,690,680,557,324,202,199,146,32])\n",
    "\n",
    "\n",
    "fig = plt.figure(figsize = (8,6))\n",
    "plt.scatter(x,z,marker = '*',s = 30,color = 'b')\n",
    "plt.legend(loc = 'best')\n",
    "plt.xlabel('时段',fontsize = 20)\n",
    "plt.ylabel('乘客人数',size = 20)\n",
    "plt.title('3线城市各时段航班出现人数统计表')\n",
    "\n",
    "for x,z in zip(x,z):\n",
    "    plt.annotate('(%s,%s)'%(x,z),xy = (x,z),xytext = (0,-15),textcoords = 'offset points',\n",
    "                ha = 'center')"
   ]
  },
  {
   "cell_type": "markdown",
   "metadata": {},
   "source": [
    "# 用直方图表示三种线各时段航班出现人数统计"
   ]
  },
  {
   "cell_type": "code",
   "execution_count": 121,
   "metadata": {},
   "outputs": [
    {
     "data": {
      "text/plain": [
       "<BarContainer object of 16 artists>"
      ]
     },
     "execution_count": 121,
     "metadata": {},
     "output_type": "execute_result"
    },
    {
     "data": {
      "image/png": "[encoded data removed]",
      "text/plain": [
       "<Figure size 432x288 with 1 Axes>"
      ]
     },
     "metadata": {},
     "output_type": "display_data"
    }
   ],
   "source": [
    "persons_3 = plt.bar([16, 9, 15, 11, 20, 18, 7, 21, 8, 13, 17, 12, 14,10,22,19],\n",
    "        [4642,4503,1578,1460,942,897,757,730,690,680,557,324,202,199,146,32])\n",
    "persons_3"
   ]
  },
  {
   "cell_type": "code",
   "execution_count": 136,
   "metadata": {},
   "outputs": [
    {
     "data": {
      "text/plain": [
       "<BarContainer object of 17 artists>"
      ]
     },
     "execution_count": 136,
     "metadata": {},
     "output_type": "execute_result"
    },
    {
     "data": {
      "image/png": "[encoded data removed]",
      "text/plain": [
       "<Figure size 432x288 with 1 Axes>"
      ]
     },
     "metadata": {},
     "output_type": "display_data"
    }
   ],
   "source": [
    "persons_1 = plt.bar([7, 17, 18, 19, 12, 8, 14, 20, 16, 13, 21, 11, 15,9,10,22,23],\n",
    "[11879,11057,9854,9154,8096,8057,7255,7205,7126,6686,6309,6234,5249,5155,4519,3051,353])\n",
    "persons_1"
   ]
  },
  {
   "cell_type": "code",
   "execution_count": 139,
   "metadata": {},
   "outputs": [
    {
     "data": {
      "text/plain": [
       "<BarContainer object of 17 artists>"
      ]
     },
     "execution_count": 139,
     "metadata": {},
     "output_type": "execute_result"
    },
    {
     "data": {
      "image/png": "[encoded data removed]",
      "text/plain": [
       "<Figure size 432x288 with 1 Axes>"
      ]
     },
     "metadata": {},
     "output_type": "display_data"
    }
   ],
   "source": [
    "persons_2 = plt.bar([7, 17, 18, 19, 12, 8, 14, 20, 16, 13, 21, 11, 15,9,10,22,23],\n",
    "        [3611,3204,3180,2828,2615,2517,2474,2367,2098,1852,1781,1779,1748,1408,1160,382,218])\n",
    "persons_2"
   ]
  },
  {
   "cell_type": "code",
   "execution_count": null,
   "metadata": {},
   "outputs": [],
   "source": [
    "#  因此可赋值给eqv,jet,31k，显示这三种机型的人数平均值\n",
    "persons = {\n",
    "    'eqv':140,'jet':140,'31k':140,\n",
    "    '733':122,'737':146,'320':156,\n",
    "    '767':225,'321':197,'777':341,\n",
    "    '738':167,'763':247,'735':118,\n",
    "    '772':341,'319':123,'757':202,\n",
    "    '736':120,'747':406,'734':157,\n",
    "    'm90':150,'343':337,'crj':68,\n",
    "    '74e':353,'340':324,'ab6':262,\n",
    "    'erj':44,'762':224,'300':280,\n",
    "    '77b':350,'330':300,'d38':32,\n",
    "    '73c':128,'332':293,'739':219,\n",
    "    '73g':137 ,'cr7':70 \n",
    "}"
   ]
  }
 ],
 "metadata": {
  "kernelspec": {
   "display_name": "Python 3",
   "language": "python",
   "name": "python3"
  },
  "language_info": {
   "codemirror_mode": {
    "name": "ipython",
    "version": 3
   },
   "file_extension": ".py",
   "mimetype": "text/x-python",
   "name": "python",
   "nbconvert_exporter": "python",
   "pygments_lexer": "ipython3",
   "version": "3.7.3"
  }
 },
 "nbformat": 4,
 "nbformat_minor": 2
}
