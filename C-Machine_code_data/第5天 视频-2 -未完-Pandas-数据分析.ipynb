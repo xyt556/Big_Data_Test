{
 "cells": [
  {
   "cell_type": "markdown",
   "metadata": {},
   "source": [
    "#  1 - Pandas 介绍"
   ]
  },
  {
   "cell_type": "code",
   "execution_count": 1,
   "metadata": {},
   "outputs": [],
   "source": [
    "import pandas as pd"
   ]
  },
  {
   "cell_type": "code",
   "execution_count": 3,
   "metadata": {},
   "outputs": [
    {
     "ename": "UnicodeDecodeError",
     "evalue": "'utf-8' codec can't decode byte 0xd0 in position 0: invalid continuation byte",
     "output_type": "error",
     "traceback": [
      "\u001b[1;31m---------------------------------------------------------------------------\u001b[0m",
      "\u001b[1;31mUnicodeDecodeError\u001b[0m                        Traceback (most recent call last)",
      "Input \u001b[1;32mIn [3]\u001b[0m, in \u001b[0;36m<cell line: 5>\u001b[1;34m()\u001b[0m\n\u001b[0;32m      1\u001b[0m \u001b[38;5;66;03m#  相对当前代码的当前路径,\u001b[39;00m\n\u001b[0;32m      2\u001b[0m \u001b[38;5;66;03m#dataFrame : 代表着一个矩阵，（这是pandas 默认读进来的进来就是dataFrame 矩阵）\u001b[39;00m\n\u001b[0;32m      3\u001b[0m \u001b[38;5;66;03m# 而numpy默认读进来的就是，ndarray 数组\u001b[39;00m\n\u001b[1;32m----> 5\u001b[0m df \u001b[38;5;241m=\u001b[39m \u001b[43mpd\u001b[49m\u001b[38;5;241;43m.\u001b[39;49m\u001b[43mread_csv\u001b[49m\u001b[43m(\u001b[49m\u001b[38;5;124;43m'\u001b[39;49m\u001b[38;5;124;43m./whether.csv\u001b[39;49m\u001b[38;5;124;43m'\u001b[39;49m\u001b[43m)\u001b[49m\n",
      "File \u001b[1;32m~\\PycharmProjects\\big_data\\envi\\lib\\site-packages\\pandas\\util\\_decorators.py:311\u001b[0m, in \u001b[0;36mdeprecate_nonkeyword_arguments.<locals>.decorate.<locals>.wrapper\u001b[1;34m(*args, **kwargs)\u001b[0m\n\u001b[0;32m    305\u001b[0m \u001b[38;5;28;01mif\u001b[39;00m \u001b[38;5;28mlen\u001b[39m(args) \u001b[38;5;241m>\u001b[39m num_allow_args:\n\u001b[0;32m    306\u001b[0m     warnings\u001b[38;5;241m.\u001b[39mwarn(\n\u001b[0;32m    307\u001b[0m         msg\u001b[38;5;241m.\u001b[39mformat(arguments\u001b[38;5;241m=\u001b[39marguments),\n\u001b[0;32m    308\u001b[0m         \u001b[38;5;167;01mFutureWarning\u001b[39;00m,\n\u001b[0;32m    309\u001b[0m         stacklevel\u001b[38;5;241m=\u001b[39mstacklevel,\n\u001b[0;32m    310\u001b[0m     )\n\u001b[1;32m--> 311\u001b[0m \u001b[38;5;28;01mreturn\u001b[39;00m func(\u001b[38;5;241m*\u001b[39margs, \u001b[38;5;241m*\u001b[39m\u001b[38;5;241m*\u001b[39mkwargs)\n",
      "File \u001b[1;32m~\\PycharmProjects\\big_data\\envi\\lib\\site-packages\\pandas\\io\\parsers\\readers.py:680\u001b[0m, in \u001b[0;36mread_csv\u001b[1;34m(filepath_or_buffer, sep, delimiter, header, names, index_col, usecols, squeeze, prefix, mangle_dupe_cols, dtype, engine, converters, true_values, false_values, skipinitialspace, skiprows, skipfooter, nrows, na_values, keep_default_na, na_filter, verbose, skip_blank_lines, parse_dates, infer_datetime_format, keep_date_col, date_parser, dayfirst, cache_dates, iterator, chunksize, compression, thousands, decimal, lineterminator, quotechar, quoting, doublequote, escapechar, comment, encoding, encoding_errors, dialect, error_bad_lines, warn_bad_lines, on_bad_lines, delim_whitespace, low_memory, memory_map, float_precision, storage_options)\u001b[0m\n\u001b[0;32m    665\u001b[0m kwds_defaults \u001b[38;5;241m=\u001b[39m _refine_defaults_read(\n\u001b[0;32m    666\u001b[0m     dialect,\n\u001b[0;32m    667\u001b[0m     delimiter,\n\u001b[1;32m   (...)\u001b[0m\n\u001b[0;32m    676\u001b[0m     defaults\u001b[38;5;241m=\u001b[39m{\u001b[38;5;124m\"\u001b[39m\u001b[38;5;124mdelimiter\u001b[39m\u001b[38;5;124m\"\u001b[39m: \u001b[38;5;124m\"\u001b[39m\u001b[38;5;124m,\u001b[39m\u001b[38;5;124m\"\u001b[39m},\n\u001b[0;32m    677\u001b[0m )\n\u001b[0;32m    678\u001b[0m kwds\u001b[38;5;241m.\u001b[39mupdate(kwds_defaults)\n\u001b[1;32m--> 680\u001b[0m \u001b[38;5;28;01mreturn\u001b[39;00m \u001b[43m_read\u001b[49m\u001b[43m(\u001b[49m\u001b[43mfilepath_or_buffer\u001b[49m\u001b[43m,\u001b[49m\u001b[43m \u001b[49m\u001b[43mkwds\u001b[49m\u001b[43m)\u001b[49m\n",
      "File \u001b[1;32m~\\PycharmProjects\\big_data\\envi\\lib\\site-packages\\pandas\\io\\parsers\\readers.py:575\u001b[0m, in \u001b[0;36m_read\u001b[1;34m(filepath_or_buffer, kwds)\u001b[0m\n\u001b[0;32m    572\u001b[0m _validate_names(kwds\u001b[38;5;241m.\u001b[39mget(\u001b[38;5;124m\"\u001b[39m\u001b[38;5;124mnames\u001b[39m\u001b[38;5;124m\"\u001b[39m, \u001b[38;5;28;01mNone\u001b[39;00m))\n\u001b[0;32m    574\u001b[0m \u001b[38;5;66;03m# Create the parser.\u001b[39;00m\n\u001b[1;32m--> 575\u001b[0m parser \u001b[38;5;241m=\u001b[39m TextFileReader(filepath_or_buffer, \u001b[38;5;241m*\u001b[39m\u001b[38;5;241m*\u001b[39mkwds)\n\u001b[0;32m    577\u001b[0m \u001b[38;5;28;01mif\u001b[39;00m chunksize \u001b[38;5;129;01mor\u001b[39;00m iterator:\n\u001b[0;32m    578\u001b[0m     \u001b[38;5;28;01mreturn\u001b[39;00m parser\n",
      "File \u001b[1;32m~\\PycharmProjects\\big_data\\envi\\lib\\site-packages\\pandas\\io\\parsers\\readers.py:933\u001b[0m, in \u001b[0;36mTextFileReader.__init__\u001b[1;34m(self, f, engine, **kwds)\u001b[0m\n\u001b[0;32m    930\u001b[0m     \u001b[38;5;28mself\u001b[39m\u001b[38;5;241m.\u001b[39moptions[\u001b[38;5;124m\"\u001b[39m\u001b[38;5;124mhas_index_names\u001b[39m\u001b[38;5;124m\"\u001b[39m] \u001b[38;5;241m=\u001b[39m kwds[\u001b[38;5;124m\"\u001b[39m\u001b[38;5;124mhas_index_names\u001b[39m\u001b[38;5;124m\"\u001b[39m]\n\u001b[0;32m    932\u001b[0m \u001b[38;5;28mself\u001b[39m\u001b[38;5;241m.\u001b[39mhandles: IOHandles \u001b[38;5;241m|\u001b[39m \u001b[38;5;28;01mNone\u001b[39;00m \u001b[38;5;241m=\u001b[39m \u001b[38;5;28;01mNone\u001b[39;00m\n\u001b[1;32m--> 933\u001b[0m \u001b[38;5;28mself\u001b[39m\u001b[38;5;241m.\u001b[39m_engine \u001b[38;5;241m=\u001b[39m \u001b[38;5;28;43mself\u001b[39;49m\u001b[38;5;241;43m.\u001b[39;49m\u001b[43m_make_engine\u001b[49m\u001b[43m(\u001b[49m\u001b[43mf\u001b[49m\u001b[43m,\u001b[49m\u001b[43m \u001b[49m\u001b[38;5;28;43mself\u001b[39;49m\u001b[38;5;241;43m.\u001b[39;49m\u001b[43mengine\u001b[49m\u001b[43m)\u001b[49m\n",
      "File \u001b[1;32m~\\PycharmProjects\\big_data\\envi\\lib\\site-packages\\pandas\\io\\parsers\\readers.py:1235\u001b[0m, in \u001b[0;36mTextFileReader._make_engine\u001b[1;34m(self, f, engine)\u001b[0m\n\u001b[0;32m   1232\u001b[0m     \u001b[38;5;28;01mraise\u001b[39;00m \u001b[38;5;167;01mValueError\u001b[39;00m(msg)\n\u001b[0;32m   1234\u001b[0m \u001b[38;5;28;01mtry\u001b[39;00m:\n\u001b[1;32m-> 1235\u001b[0m     \u001b[38;5;28;01mreturn\u001b[39;00m mapping[engine](f, \u001b[38;5;241m*\u001b[39m\u001b[38;5;241m*\u001b[39m\u001b[38;5;28mself\u001b[39m\u001b[38;5;241m.\u001b[39moptions)\n\u001b[0;32m   1236\u001b[0m \u001b[38;5;28;01mexcept\u001b[39;00m \u001b[38;5;167;01mException\u001b[39;00m:\n\u001b[0;32m   1237\u001b[0m     \u001b[38;5;28;01mif\u001b[39;00m \u001b[38;5;28mself\u001b[39m\u001b[38;5;241m.\u001b[39mhandles \u001b[38;5;129;01mis\u001b[39;00m \u001b[38;5;129;01mnot\u001b[39;00m \u001b[38;5;28;01mNone\u001b[39;00m:\n",
      "File \u001b[1;32m~\\PycharmProjects\\big_data\\envi\\lib\\site-packages\\pandas\\io\\parsers\\c_parser_wrapper.py:75\u001b[0m, in \u001b[0;36mCParserWrapper.__init__\u001b[1;34m(self, src, **kwds)\u001b[0m\n\u001b[0;32m     72\u001b[0m     kwds\u001b[38;5;241m.\u001b[39mpop(key, \u001b[38;5;28;01mNone\u001b[39;00m)\n\u001b[0;32m     74\u001b[0m kwds[\u001b[38;5;124m\"\u001b[39m\u001b[38;5;124mdtype\u001b[39m\u001b[38;5;124m\"\u001b[39m] \u001b[38;5;241m=\u001b[39m ensure_dtype_objs(kwds\u001b[38;5;241m.\u001b[39mget(\u001b[38;5;124m\"\u001b[39m\u001b[38;5;124mdtype\u001b[39m\u001b[38;5;124m\"\u001b[39m, \u001b[38;5;28;01mNone\u001b[39;00m))\n\u001b[1;32m---> 75\u001b[0m \u001b[38;5;28mself\u001b[39m\u001b[38;5;241m.\u001b[39m_reader \u001b[38;5;241m=\u001b[39m parsers\u001b[38;5;241m.\u001b[39mTextReader(src, \u001b[38;5;241m*\u001b[39m\u001b[38;5;241m*\u001b[39mkwds)\n\u001b[0;32m     77\u001b[0m \u001b[38;5;28mself\u001b[39m\u001b[38;5;241m.\u001b[39munnamed_cols \u001b[38;5;241m=\u001b[39m \u001b[38;5;28mself\u001b[39m\u001b[38;5;241m.\u001b[39m_reader\u001b[38;5;241m.\u001b[39munnamed_cols\n\u001b[0;32m     79\u001b[0m \u001b[38;5;66;03m# error: Cannot determine type of 'names'\u001b[39;00m\n",
      "File \u001b[1;32m~\\PycharmProjects\\big_data\\envi\\lib\\site-packages\\pandas\\_libs\\parsers.pyx:544\u001b[0m, in \u001b[0;36mpandas._libs.parsers.TextReader.__cinit__\u001b[1;34m()\u001b[0m\n",
      "File \u001b[1;32m~\\PycharmProjects\\big_data\\envi\\lib\\site-packages\\pandas\\_libs\\parsers.pyx:633\u001b[0m, in \u001b[0;36mpandas._libs.parsers.TextReader._get_header\u001b[1;34m()\u001b[0m\n",
      "File \u001b[1;32m~\\PycharmProjects\\big_data\\envi\\lib\\site-packages\\pandas\\_libs\\parsers.pyx:847\u001b[0m, in \u001b[0;36mpandas._libs.parsers.TextReader._tokenize_rows\u001b[1;34m()\u001b[0m\n",
      "File \u001b[1;32m~\\PycharmProjects\\big_data\\envi\\lib\\site-packages\\pandas\\_libs\\parsers.pyx:1952\u001b[0m, in \u001b[0;36mpandas._libs.parsers.raise_parser_error\u001b[1;34m()\u001b[0m\n",
      "\u001b[1;31mUnicodeDecodeError\u001b[0m: 'utf-8' codec can't decode byte 0xd0 in position 0: invalid continuation byte"
     ]
    }
   ],
   "source": [
    "#  相对当前代码的当前路径,\n",
    "#dataFrame : 代表着一个矩阵，（这是pandas 默认读进来的进来就是dataFrame 矩阵）\n",
    "# 而numpy默认读进来的就是，ndarray 数组\n",
    "\n",
    "df = pd.read_csv('./whether.csv')"
   ]
  },
  {
   "cell_type": "code",
   "execution_count": 9,
   "metadata": {
    "scrolled": true
   },
   "outputs": [
    {
     "name": "stdout",
     "output_type": "stream",
     "text": [
      "Help on function read_csv in module pandas.io.parsers:\n",
      "\n",
      "read_csv(filepath_or_buffer, sep=',', delimiter=None, header='infer', names=None, index_col=None, usecols=None, squeeze=False, prefix=None, mangle_dupe_cols=True, dtype=None, engine=None, converters=None, true_values=None, false_values=None, skipinitialspace=False, skiprows=None, skipfooter=0, nrows=None, na_values=None, keep_default_na=True, na_filter=True, verbose=False, skip_blank_lines=True, parse_dates=False, infer_datetime_format=False, keep_date_col=False, date_parser=None, dayfirst=False, iterator=False, chunksize=None, compression='infer', thousands=None, decimal=b'.', lineterminator=None, quotechar='\"', quoting=0, doublequote=True, escapechar=None, comment=None, encoding=None, dialect=None, tupleize_cols=None, error_bad_lines=True, warn_bad_lines=True, delim_whitespace=False, low_memory=True, memory_map=False, float_precision=None)\n",
      "    Read a comma-separated values (csv) file into DataFrame.\n",
      "    \n",
      "    Also supports optionally iterating or breaking of the file\n",
      "    into chunks.\n",
      "    \n",
      "    Additional help can be found in the online docs for\n",
      "    `IO Tools <http://pandas.pydata.org/pandas-docs/stable/io.html>`_.\n",
      "    \n",
      "    Parameters\n",
      "    ----------\n",
      "    filepath_or_buffer : str, path object, or file-like object\n",
      "        Any valid string path is acceptable. The string could be a URL. Valid\n",
      "        URL schemes include http, ftp, s3, and file. For file URLs, a host is\n",
      "        expected. A local file could be: file://localhost/path/to/table.csv.\n",
      "    \n",
      "        If you want to pass in a path object, pandas accepts either\n",
      "        ``pathlib.Path`` or ``py._path.local.LocalPath``.\n",
      "    \n",
      "        By file-like object, we refer to objects with a ``read()`` method, such as\n",
      "        a file handler (e.g. via builtin ``open`` function) or ``StringIO``.\n",
      "    sep : str, default ','\n",
      "        Delimiter to use. If sep is None, the C engine cannot automatically detect\n",
      "        the separator, but the Python parsing engine can, meaning the latter will\n",
      "        be used and automatically detect the separator by Python's builtin sniffer\n",
      "        tool, ``csv.Sniffer``. In addition, separators longer than 1 character and\n",
      "        different from ``'\\s+'`` will be interpreted as regular expressions and\n",
      "        will also force the use of the Python parsing engine. Note that regex\n",
      "        delimiters are prone to ignoring quoted data. Regex example: ``'\\r\\t'``.\n",
      "    delimiter : str, default ``None``\n",
      "        Alias for sep.\n",
      "    header : int, list of int, default 'infer'\n",
      "        Row number(s) to use as the column names, and the start of the\n",
      "        data.  Default behavior is to infer the column names: if no names\n",
      "        are passed the behavior is identical to ``header=0`` and column\n",
      "        names are inferred from the first line of the file, if column\n",
      "        names are passed explicitly then the behavior is identical to\n",
      "        ``header=None``. Explicitly pass ``header=0`` to be able to\n",
      "        replace existing names. The header can be a list of integers that\n",
      "        specify row locations for a multi-index on the columns\n",
      "        e.g. [0,1,3]. Intervening rows that are not specified will be\n",
      "        skipped (e.g. 2 in this example is skipped). Note that this\n",
      "        parameter ignores commented lines and empty lines if\n",
      "        ``skip_blank_lines=True``, so ``header=0`` denotes the first line of\n",
      "        data rather than the first line of the file.\n",
      "    names : array-like, optional\n",
      "        List of column names to use. If file contains no header row, then you\n",
      "        should explicitly pass ``header=None``. Duplicates in this list will cause\n",
      "        a ``UserWarning`` to be issued.\n",
      "    index_col : int, sequence or bool, optional\n",
      "        Column to use as the row labels of the DataFrame. If a sequence is given, a\n",
      "        MultiIndex is used. If you have a malformed file with delimiters at the end\n",
      "        of each line, you might consider ``index_col=False`` to force pandas to\n",
      "        not use the first column as the index (row names).\n",
      "    usecols : list-like or callable, optional\n",
      "        Return a subset of the columns. If list-like, all elements must either\n",
      "        be positional (i.e. integer indices into the document columns) or strings\n",
      "        that correspond to column names provided either by the user in `names` or\n",
      "        inferred from the document header row(s). For example, a valid list-like\n",
      "        `usecols` parameter would be ``[0, 1, 2]`` or ``['foo', 'bar', 'baz']``.\n",
      "        Element order is ignored, so ``usecols=[0, 1]`` is the same as ``[1, 0]``.\n",
      "        To instantiate a DataFrame from ``data`` with element order preserved use\n",
      "        ``pd.read_csv(data, usecols=['foo', 'bar'])[['foo', 'bar']]`` for columns\n",
      "        in ``['foo', 'bar']`` order or\n",
      "        ``pd.read_csv(data, usecols=['foo', 'bar'])[['bar', 'foo']]``\n",
      "        for ``['bar', 'foo']`` order.\n",
      "    \n",
      "        If callable, the callable function will be evaluated against the column\n",
      "        names, returning names where the callable function evaluates to True. An\n",
      "        example of a valid callable argument would be ``lambda x: x.upper() in\n",
      "        ['AAA', 'BBB', 'DDD']``. Using this parameter results in much faster\n",
      "        parsing time and lower memory usage.\n",
      "    squeeze : bool, default False\n",
      "        If the parsed data only contains one column then return a Series.\n",
      "    prefix : str, optional\n",
      "        Prefix to add to column numbers when no header, e.g. 'X' for X0, X1, ...\n",
      "    mangle_dupe_cols : bool, default True\n",
      "        Duplicate columns will be specified as 'X', 'X.1', ...'X.N', rather than\n",
      "        'X'...'X'. Passing in False will cause data to be overwritten if there\n",
      "        are duplicate names in the columns.\n",
      "    dtype : Type name or dict of column -> type, optional\n",
      "        Data type for data or columns. E.g. {'a': np.float64, 'b': np.int32,\n",
      "        'c': 'Int64'}\n",
      "        Use `str` or `object` together with suitable `na_values` settings\n",
      "        to preserve and not interpret dtype.\n",
      "        If converters are specified, they will be applied INSTEAD\n",
      "        of dtype conversion.\n",
      "    engine : {'c', 'python'}, optional\n",
      "        Parser engine to use. The C engine is faster while the python engine is\n",
      "        currently more feature-complete.\n",
      "    converters : dict, optional\n",
      "        Dict of functions for converting values in certain columns. Keys can either\n",
      "        be integers or column labels.\n",
      "    true_values : list, optional\n",
      "        Values to consider as True.\n",
      "    false_values : list, optional\n",
      "        Values to consider as False.\n",
      "    skipinitialspace : bool, default False\n",
      "        Skip spaces after delimiter.\n",
      "    skiprows : list-like, int or callable, optional\n",
      "        Line numbers to skip (0-indexed) or number of lines to skip (int)\n",
      "        at the start of the file.\n",
      "    \n",
      "        If callable, the callable function will be evaluated against the row\n",
      "        indices, returning True if the row should be skipped and False otherwise.\n",
      "        An example of a valid callable argument would be ``lambda x: x in [0, 2]``.\n",
      "    skipfooter : int, default 0\n",
      "        Number of lines at bottom of file to skip (Unsupported with engine='c').\n",
      "    nrows : int, optional\n",
      "        Number of rows of file to read. Useful for reading pieces of large files.\n",
      "    na_values : scalar, str, list-like, or dict, optional\n",
      "        Additional strings to recognize as NA/NaN. If dict passed, specific\n",
      "        per-column NA values.  By default the following values are interpreted as\n",
      "        NaN: '', '#N/A', '#N/A N/A', '#NA', '-1.#IND', '-1.#QNAN', '-NaN', '-nan',\n",
      "        '1.#IND', '1.#QNAN', 'N/A', 'NA', 'NULL', 'NaN', 'n/a', 'nan',\n",
      "        'null'.\n",
      "    keep_default_na : bool, default True\n",
      "        Whether or not to include the default NaN values when parsing the data.\n",
      "        Depending on whether `na_values` is passed in, the behavior is as follows:\n",
      "    \n",
      "        * If `keep_default_na` is True, and `na_values` are specified, `na_values`\n",
      "          is appended to the default NaN values used for parsing.\n",
      "        * If `keep_default_na` is True, and `na_values` are not specified, only\n",
      "          the default NaN values are used for parsing.\n",
      "        * If `keep_default_na` is False, and `na_values` are specified, only\n",
      "          the NaN values specified `na_values` are used for parsing.\n",
      "        * If `keep_default_na` is False, and `na_values` are not specified, no\n",
      "          strings will be parsed as NaN.\n",
      "    \n",
      "        Note that if `na_filter` is passed in as False, the `keep_default_na` and\n",
      "        `na_values` parameters will be ignored.\n",
      "    na_filter : bool, default True\n",
      "        Detect missing value markers (empty strings and the value of na_values). In\n",
      "        data without any NAs, passing na_filter=False can improve the performance\n",
      "        of reading a large file.\n",
      "    verbose : bool, default False\n",
      "        Indicate number of NA values placed in non-numeric columns.\n",
      "    skip_blank_lines : bool, default True\n",
      "        If True, skip over blank lines rather than interpreting as NaN values.\n",
      "    parse_dates : bool or list of int or names or list of lists or dict, default False\n",
      "        The behavior is as follows:\n",
      "    \n",
      "        * boolean. If True -> try parsing the index.\n",
      "        * list of int or names. e.g. If [1, 2, 3] -> try parsing columns 1, 2, 3\n",
      "          each as a separate date column.\n",
      "        * list of lists. e.g.  If [[1, 3]] -> combine columns 1 and 3 and parse as\n",
      "          a single date column.\n",
      "        * dict, e.g. {'foo' : [1, 3]} -> parse columns 1, 3 as date and call\n",
      "          result 'foo'\n",
      "    \n",
      "        If a column or index cannot be represented as an array of datetimes,\n",
      "        say because of an unparseable value or a mixture of timezones, the column\n",
      "        or index will be returned unaltered as an object data type. For\n",
      "        non-standard datetime parsing, use ``pd.to_datetime`` after\n",
      "        ``pd.read_csv``. To parse an index or column with a mixture of timezones,\n",
      "        specify ``date_parser`` to be a partially-applied\n",
      "        :func:`pandas.to_datetime` with ``utc=True``. See\n",
      "        :ref:`io.csv.mixed_timezones` for more.\n",
      "    \n",
      "        Note: A fast-path exists for iso8601-formatted dates.\n",
      "    infer_datetime_format : bool, default False\n",
      "        If True and `parse_dates` is enabled, pandas will attempt to infer the\n",
      "        format of the datetime strings in the columns, and if it can be inferred,\n",
      "        switch to a faster method of parsing them. In some cases this can increase\n",
      "        the parsing speed by 5-10x.\n",
      "    keep_date_col : bool, default False\n",
      "        If True and `parse_dates` specifies combining multiple columns then\n",
      "        keep the original columns.\n",
      "    date_parser : function, optional\n",
      "        Function to use for converting a sequence of string columns to an array of\n",
      "        datetime instances. The default uses ``dateutil.parser.parser`` to do the\n",
      "        conversion. Pandas will try to call `date_parser` in three different ways,\n",
      "        advancing to the next if an exception occurs: 1) Pass one or more arrays\n",
      "        (as defined by `parse_dates`) as arguments; 2) concatenate (row-wise) the\n",
      "        string values from the columns defined by `parse_dates` into a single array\n",
      "        and pass that; and 3) call `date_parser` once for each row using one or\n",
      "        more strings (corresponding to the columns defined by `parse_dates`) as\n",
      "        arguments.\n",
      "    dayfirst : bool, default False\n",
      "        DD/MM format dates, international and European format.\n",
      "    iterator : bool, default False\n",
      "        Return TextFileReader object for iteration or getting chunks with\n",
      "        ``get_chunk()``.\n",
      "    chunksize : int, optional\n",
      "        Return TextFileReader object for iteration.\n",
      "        See the `IO Tools docs\n",
      "        <http://pandas.pydata.org/pandas-docs/stable/io.html#io-chunking>`_\n",
      "        for more information on ``iterator`` and ``chunksize``.\n",
      "    compression : {'infer', 'gzip', 'bz2', 'zip', 'xz', None}, default 'infer'\n",
      "        For on-the-fly decompression of on-disk data. If 'infer' and\n",
      "        `filepath_or_buffer` is path-like, then detect compression from the\n",
      "        following extensions: '.gz', '.bz2', '.zip', or '.xz' (otherwise no\n",
      "        decompression). If using 'zip', the ZIP file must contain only one data\n",
      "        file to be read in. Set to None for no decompression.\n",
      "    \n",
      "        .. versionadded:: 0.18.1 support for 'zip' and 'xz' compression.\n",
      "    \n",
      "    thousands : str, optional\n",
      "        Thousands separator.\n",
      "    decimal : str, default '.'\n",
      "        Character to recognize as decimal point (e.g. use ',' for European data).\n",
      "    lineterminator : str (length 1), optional\n",
      "        Character to break file into lines. Only valid with C parser.\n",
      "    quotechar : str (length 1), optional\n",
      "        The character used to denote the start and end of a quoted item. Quoted\n",
      "        items can include the delimiter and it will be ignored.\n",
      "    quoting : int or csv.QUOTE_* instance, default 0\n",
      "        Control field quoting behavior per ``csv.QUOTE_*`` constants. Use one of\n",
      "        QUOTE_MINIMAL (0), QUOTE_ALL (1), QUOTE_NONNUMERIC (2) or QUOTE_NONE (3).\n",
      "    doublequote : bool, default ``True``\n",
      "       When quotechar is specified and quoting is not ``QUOTE_NONE``, indicate\n",
      "       whether or not to interpret two consecutive quotechar elements INSIDE a\n",
      "       field as a single ``quotechar`` element.\n",
      "    escapechar : str (length 1), optional\n",
      "        One-character string used to escape other characters.\n",
      "    comment : str, optional\n",
      "        Indicates remainder of line should not be parsed. If found at the beginning\n",
      "        of a line, the line will be ignored altogether. This parameter must be a\n",
      "        single character. Like empty lines (as long as ``skip_blank_lines=True``),\n",
      "        fully commented lines are ignored by the parameter `header` but not by\n",
      "        `skiprows`. For example, if ``comment='#'``, parsing\n",
      "        ``#empty\\na,b,c\\n1,2,3`` with ``header=0`` will result in 'a,b,c' being\n",
      "        treated as the header.\n",
      "    encoding : str, optional\n",
      "        Encoding to use for UTF when reading/writing (ex. 'utf-8'). `List of Python\n",
      "        standard encodings\n",
      "        <https://docs.python.org/3/library/codecs.html#standard-encodings>`_ .\n",
      "    dialect : str or csv.Dialect, optional\n",
      "        If provided, this parameter will override values (default or not) for the\n",
      "        following parameters: `delimiter`, `doublequote`, `escapechar`,\n",
      "        `skipinitialspace`, `quotechar`, and `quoting`. If it is necessary to\n",
      "        override values, a ParserWarning will be issued. See csv.Dialect\n",
      "        documentation for more details.\n",
      "    tupleize_cols : bool, default False\n",
      "        Leave a list of tuples on columns as is (default is to convert to\n",
      "        a MultiIndex on the columns).\n",
      "    \n",
      "        .. deprecated:: 0.21.0\n",
      "           This argument will be removed and will always convert to MultiIndex\n",
      "    \n",
      "    error_bad_lines : bool, default True\n",
      "        Lines with too many fields (e.g. a csv line with too many commas) will by\n",
      "        default cause an exception to be raised, and no DataFrame will be returned.\n",
      "        If False, then these \"bad lines\" will dropped from the DataFrame that is\n",
      "        returned.\n",
      "    warn_bad_lines : bool, default True\n",
      "        If error_bad_lines is False, and warn_bad_lines is True, a warning for each\n",
      "        \"bad line\" will be output.\n",
      "    delim_whitespace : bool, default False\n",
      "        Specifies whether or not whitespace (e.g. ``' '`` or ``'    '``) will be\n",
      "        used as the sep. Equivalent to setting ``sep='\\s+'``. If this option\n",
      "        is set to True, nothing should be passed in for the ``delimiter``\n",
      "        parameter.\n",
      "    \n",
      "        .. versionadded:: 0.18.1 support for the Python parser.\n",
      "    \n",
      "    low_memory : bool, default True\n",
      "        Internally process the file in chunks, resulting in lower memory use\n",
      "        while parsing, but possibly mixed type inference.  To ensure no mixed\n",
      "        types either set False, or specify the type with the `dtype` parameter.\n",
      "        Note that the entire file is read into a single DataFrame regardless,\n",
      "        use the `chunksize` or `iterator` parameter to return the data in chunks.\n",
      "        (Only valid with C parser).\n",
      "    memory_map : bool, default False\n",
      "        If a filepath is provided for `filepath_or_buffer`, map the file object\n",
      "        directly onto memory and access the data directly from there. Using this\n",
      "        option can improve performance because there is no longer any I/O overhead.\n",
      "    float_precision : str, optional\n",
      "        Specifies which converter the C engine should use for floating-point\n",
      "        values. The options are `None` for the ordinary converter,\n",
      "        `high` for the high-precision converter, and `round_trip` for the\n",
      "        round-trip converter.\n",
      "    \n",
      "    Returns\n",
      "    -------\n",
      "    DataFrame or TextParser\n",
      "        A comma-separated values (csv) file is returned as two-dimensional\n",
      "        data structure with labeled axes.\n",
      "    \n",
      "    See Also\n",
      "    --------\n",
      "    to_csv : Write DataFrame to a comma-separated values (csv) file.\n",
      "    read_csv : Read a comma-separated values (csv) file into DataFrame.\n",
      "    read_fwf : Read a table of fixed-width formatted lines into DataFrame.\n",
      "    \n",
      "    Examples\n",
      "    --------\n",
      "    >>> pd.read_csv('data.csv')  # doctest: +SKIP\n",
      "\n",
      "None\n"
     ]
    }
   ],
   "source": [
    "print(help(pd.read_csv))             # 查看一下函数"
   ]
  },
  {
   "cell_type": "code",
   "execution_count": 7,
   "metadata": {
    "collapsed": true
   },
   "outputs": [
    {
     "data": {
      "text/html": [
       "<div>\n",
       "<style scoped>\n",
       "    .dataframe tbody tr th:only-of-type {\n",
       "        vertical-align: middle;\n",
       "    }\n",
       "\n",
       "    .dataframe tbody tr th {\n",
       "        vertical-align: top;\n",
       "    }\n",
       "\n",
       "    .dataframe thead th {\n",
       "        text-align: right;\n",
       "    }\n",
       "</style>\n",
       "<table border=\"1\" class=\"dataframe\">\n",
       "  <thead>\n",
       "    <tr style=\"text-align: right;\">\n",
       "      <th></th>\n",
       "      <th>Entry</th>\n",
       "      <th>Entry name</th>\n",
       "      <th>Protein names</th>\n",
       "      <th>Gene names</th>\n",
       "      <th>Length</th>\n",
       "      <th>Mass</th>\n",
       "    </tr>\n",
       "  </thead>\n",
       "  <tbody>\n",
       "    <tr>\n",
       "      <th>0</th>\n",
       "      <td>A0A584</td>\n",
       "      <td>TVBK2_HUMAN</td>\n",
       "      <td>T cell receptor beta variable 11-2</td>\n",
       "      <td>TRBV11-2 TCRBV21S3A2N2T</td>\n",
       "      <td>115</td>\n",
       "      <td>12,743</td>\n",
       "    </tr>\n",
       "    <tr>\n",
       "      <th>1</th>\n",
       "      <td>Q9BXU3</td>\n",
       "      <td>TX13A_HUMAN</td>\n",
       "      <td>Testis-expressed protein 13A</td>\n",
       "      <td>TEX13A</td>\n",
       "      <td>409</td>\n",
       "      <td>45,583</td>\n",
       "    </tr>\n",
       "    <tr>\n",
       "      <th>2</th>\n",
       "      <td>Q15031</td>\n",
       "      <td>SYLM_HUMAN</td>\n",
       "      <td>Probable leucine--tRNA ligase, mitochondrial (...</td>\n",
       "      <td>LARS2 KIAA0028</td>\n",
       "      <td>903</td>\n",
       "      <td>101,976</td>\n",
       "    </tr>\n",
       "    <tr>\n",
       "      <th>3</th>\n",
       "      <td>Q6PKC3</td>\n",
       "      <td>TXD11_HUMAN</td>\n",
       "      <td>Thioredoxin domain-containing protein 11 (EF-h...</td>\n",
       "      <td>TXNDC11 EFP1</td>\n",
       "      <td>985</td>\n",
       "      <td>110,529</td>\n",
       "    </tr>\n",
       "    <tr>\n",
       "      <th>4</th>\n",
       "      <td>P42681</td>\n",
       "      <td>TXK_HUMAN</td>\n",
       "      <td>Tyrosine-protein kinase TXK (EC 2.7.10.2) (Pro...</td>\n",
       "      <td>TXK PTK4 RLK</td>\n",
       "      <td>527</td>\n",
       "      <td>61,258</td>\n",
       "    </tr>\n",
       "    <tr>\n",
       "      <th>5</th>\n",
       "      <td>P40222</td>\n",
       "      <td>TXLNA_HUMAN</td>\n",
       "      <td>Alpha-taxilin</td>\n",
       "      <td>TXLNA TXLN</td>\n",
       "      <td>546</td>\n",
       "      <td>61,891</td>\n",
       "    </tr>\n",
       "  </tbody>\n",
       "</table>\n",
       "</div>"
      ],
      "text/plain": [
       "    Entry   Entry name                                      Protein names  \\\n",
       "0  A0A584  TVBK2_HUMAN                 T cell receptor beta variable 11-2   \n",
       "1  Q9BXU3  TX13A_HUMAN                       Testis-expressed protein 13A   \n",
       "2  Q15031   SYLM_HUMAN  Probable leucine--tRNA ligase, mitochondrial (...   \n",
       "3  Q6PKC3  TXD11_HUMAN  Thioredoxin domain-containing protein 11 (EF-h...   \n",
       "4  P42681    TXK_HUMAN  Tyrosine-protein kinase TXK (EC 2.7.10.2) (Pro...   \n",
       "5  P40222  TXLNA_HUMAN                                      Alpha-taxilin   \n",
       "\n",
       "                Gene names  Length     Mass  \n",
       "0  TRBV11-2 TCRBV21S3A2N2T     115   12,743  \n",
       "1                   TEX13A     409   45,583  \n",
       "2           LARS2 KIAA0028     903  101,976  \n",
       "3             TXNDC11 EFP1     985  110,529  \n",
       "4             TXK PTK4 RLK     527   61,258  \n",
       "5               TXLNA TXLN     546   61,891  "
      ]
     },
     "execution_count": 7,
     "metadata": {},
     "output_type": "execute_result"
    }
   ],
   "source": [
    "# . head() 函数可以读取前几条数据，指定前几条都可以， 默认展示的是前五条数据\n",
    "df.head(6)"
   ]
  },
  {
   "cell_type": "code",
   "execution_count": 8,
   "metadata": {},
   "outputs": [
    {
     "data": {
      "text/html": [
       "<div>\n",
       "<style scoped>\n",
       "    .dataframe tbody tr th:only-of-type {\n",
       "        vertical-align: middle;\n",
       "    }\n",
       "\n",
       "    .dataframe tbody tr th {\n",
       "        vertical-align: top;\n",
       "    }\n",
       "\n",
       "    .dataframe thead th {\n",
       "        text-align: right;\n",
       "    }\n",
       "</style>\n",
       "<table border=\"1\" class=\"dataframe\">\n",
       "  <thead>\n",
       "    <tr style=\"text-align: right;\">\n",
       "      <th></th>\n",
       "      <th>Entry</th>\n",
       "      <th>Entry name</th>\n",
       "      <th>Protein names</th>\n",
       "      <th>Gene names</th>\n",
       "      <th>Length</th>\n",
       "      <th>Mass</th>\n",
       "    </tr>\n",
       "  </thead>\n",
       "  <tbody>\n",
       "    <tr>\n",
       "      <th>20416</th>\n",
       "      <td>Q9H816</td>\n",
       "      <td>DCR1B_HUMAN</td>\n",
       "      <td>5' exonuclease Apollo (EC 3.1.-.-) (DNA cross-...</td>\n",
       "      <td>DCLRE1B SNM1B</td>\n",
       "      <td>532</td>\n",
       "      <td>60,002</td>\n",
       "    </tr>\n",
       "    <tr>\n",
       "      <th>20417</th>\n",
       "      <td>O94760</td>\n",
       "      <td>DDAH1_HUMAN</td>\n",
       "      <td>N(G),N(G)-dimethylarginine dimethylaminohydrol...</td>\n",
       "      <td>DDAH1 DDAH</td>\n",
       "      <td>285</td>\n",
       "      <td>31,122</td>\n",
       "    </tr>\n",
       "    <tr>\n",
       "      <th>20418</th>\n",
       "      <td>O95865</td>\n",
       "      <td>DDAH2_HUMAN</td>\n",
       "      <td>N(G),N(G)-dimethylarginine dimethylaminohydrol...</td>\n",
       "      <td>DDAH2 DDAH G6A NG30</td>\n",
       "      <td>285</td>\n",
       "      <td>29,644</td>\n",
       "    </tr>\n",
       "    <tr>\n",
       "      <th>20419</th>\n",
       "      <td>Q96GG9</td>\n",
       "      <td>DCNL1_HUMAN</td>\n",
       "      <td>DCN1-like protein 1 (DCUN1 domain-containing p...</td>\n",
       "      <td>DCUN1D1 DCN1 DCUN1L1 RP42 SCCRO</td>\n",
       "      <td>259</td>\n",
       "      <td>30,124</td>\n",
       "    </tr>\n",
       "    <tr>\n",
       "      <th>20420</th>\n",
       "      <td>Q8IZD4</td>\n",
       "      <td>DCP1B_HUMAN</td>\n",
       "      <td>mRNA-decapping enzyme 1B (EC 3.-.-.-)</td>\n",
       "      <td>DCP1B</td>\n",
       "      <td>617</td>\n",
       "      <td>67,723</td>\n",
       "    </tr>\n",
       "  </tbody>\n",
       "</table>\n",
       "</div>"
      ],
      "text/plain": [
       "        Entry   Entry name                                      Protein names  \\\n",
       "20416  Q9H816  DCR1B_HUMAN  5' exonuclease Apollo (EC 3.1.-.-) (DNA cross-...   \n",
       "20417  O94760  DDAH1_HUMAN  N(G),N(G)-dimethylarginine dimethylaminohydrol...   \n",
       "20418  O95865  DDAH2_HUMAN  N(G),N(G)-dimethylarginine dimethylaminohydrol...   \n",
       "20419  Q96GG9  DCNL1_HUMAN  DCN1-like protein 1 (DCUN1 domain-containing p...   \n",
       "20420  Q8IZD4  DCP1B_HUMAN              mRNA-decapping enzyme 1B (EC 3.-.-.-)   \n",
       "\n",
       "                            Gene names  Length    Mass  \n",
       "20416                    DCLRE1B SNM1B     532  60,002  \n",
       "20417                       DDAH1 DDAH     285  31,122  \n",
       "20418              DDAH2 DDAH G6A NG30     285  29,644  \n",
       "20419  DCUN1D1 DCN1 DCUN1L1 RP42 SCCRO     259  30,124  \n",
       "20420                            DCP1B     617  67,723  "
      ]
     },
     "execution_count": 8,
     "metadata": {},
     "output_type": "execute_result"
    }
   ],
   "source": [
    "df.tail()              # 读取后面的几个数据"
   ]
  },
  {
   "cell_type": "markdown",
   "metadata": {},
   "source": [
    "# 数据信息读取与展示"
   ]
  },
  {
   "cell_type": "code",
   "execution_count": 10,
   "metadata": {},
   "outputs": [
    {
     "name": "stdout",
     "output_type": "stream",
     "text": [
      "<class 'pandas.core.frame.DataFrame'>\n",
      "RangeIndex: 20421 entries, 0 to 20420\n",
      "Data columns (total 6 columns):\n",
      "Entry            20421 non-null object\n",
      "Entry name       20421 non-null object\n",
      "Protein names    20421 non-null object\n",
      "Gene names       20271 non-null object\n",
      "Length           20421 non-null int64\n",
      "Mass             20421 non-null object\n",
      "dtypes: int64(1), object(5)\n",
      "memory usage: 957.3+ KB\n"
     ]
    }
   ],
   "source": [
    "# .info() 函数返回当前信息\n",
    "df.info()"
   ]
  },
  {
   "cell_type": "code",
   "execution_count": 11,
   "metadata": {},
   "outputs": [
    {
     "data": {
      "text/plain": [
       "RangeIndex(start=0, stop=20421, step=1)"
      ]
     },
     "execution_count": 11,
     "metadata": {},
     "output_type": "execute_result"
    }
   ],
   "source": [
    "# 查看索引\n",
    "df.index"
   ]
  },
  {
   "cell_type": "code",
   "execution_count": 12,
   "metadata": {},
   "outputs": [
    {
     "data": {
      "text/plain": [
       "Index(['Entry', 'Entry name', 'Protein names', 'Gene names', 'Length', 'Mass'], dtype='object')"
      ]
     },
     "execution_count": 12,
     "metadata": {},
     "output_type": "execute_result"
    }
   ],
   "source": [
    "# 查看列名\n",
    "df.columns"
   ]
  },
  {
   "cell_type": "code",
   "execution_count": 14,
   "metadata": {},
   "outputs": [
    {
     "data": {
      "text/plain": [
       "Entry            object\n",
       "Entry name       object\n",
       "Protein names    object\n",
       "Gene names       object\n",
       "Length            int64\n",
       "Mass             object\n",
       "dtype: object"
      ]
     },
     "execution_count": 14,
     "metadata": {},
     "output_type": "execute_result"
    }
   ],
   "source": [
    "# 查看列的数据类型\n",
    "df.dtypes"
   ]
  },
  {
   "cell_type": "code",
   "execution_count": 15,
   "metadata": {},
   "outputs": [
    {
     "data": {
      "text/plain": [
       "array([['A0A584', 'TVBK2_HUMAN', 'T cell receptor beta variable 11-2',\n",
       "        'TRBV11-2 TCRBV21S3A2N2T', 115, '12,743'],\n",
       "       ['Q9BXU3', 'TX13A_HUMAN', 'Testis-expressed protein 13A',\n",
       "        'TEX13A', 409, '45,583'],\n",
       "       ['Q15031', 'SYLM_HUMAN',\n",
       "        'Probable leucine--tRNA ligase, mitochondrial (EC 6.1.1.4) (Leucyl-tRNA synthetase) (LeuRS)',\n",
       "        'LARS2 KIAA0028', 903, '101,976'],\n",
       "       ...,\n",
       "       ['O95865', 'DDAH2_HUMAN',\n",
       "        'N(G),N(G)-dimethylarginine dimethylaminohydrolase 2 (DDAH-2) (Dimethylarginine dimethylaminohydrolase 2) (EC 3.5.3.18) (DDAHII) (Dimethylargininase-2) (Protein G6a) (S-phase protein)',\n",
       "        'DDAH2 DDAH G6A NG30', 285, '29,644'],\n",
       "       ['Q96GG9', 'DCNL1_HUMAN',\n",
       "        'DCN1-like protein 1 (DCUN1 domain-containing protein 1) (Defective in cullin neddylation protein 1-like protein 1) (Squamous cell carcinoma-related oncogene)',\n",
       "        'DCUN1D1 DCN1 DCUN1L1 RP42 SCCRO', 259, '30,124'],\n",
       "       ['Q8IZD4', 'DCP1B_HUMAN', 'mRNA-decapping enzyme 1B (EC 3.-.-.-)',\n",
       "        'DCP1B', 617, '67,723']], dtype=object)"
      ]
     },
     "execution_count": 15,
     "metadata": {},
     "output_type": "execute_result"
    }
   ],
   "source": [
    "# 有的API文档默认输入的数据格式为，array 格式，此时就要把数据从DataFrame 格式转换为array\n",
    "\n",
    "df.values                \n",
    "# 获得的数据类型为 数组类型，且默认取得前三个数据，后三个数据"
   ]
  },
  {
   "cell_type": "markdown",
   "metadata": {},
   "source": [
    "自己创建一个dataFrame 结构"
   ]
  },
  {
   "cell_type": "code",
   "execution_count": 23,
   "metadata": {},
   "outputs": [
    {
     "data": {
      "text/html": [
       "<div>\n",
       "<style scoped>\n",
       "    .dataframe tbody tr th:only-of-type {\n",
       "        vertical-align: middle;\n",
       "    }\n",
       "\n",
       "    .dataframe tbody tr th {\n",
       "        vertical-align: top;\n",
       "    }\n",
       "\n",
       "    .dataframe thead th {\n",
       "        text-align: right;\n",
       "    }\n",
       "</style>\n",
       "<table border=\"1\" class=\"dataframe\">\n",
       "  <thead>\n",
       "    <tr style=\"text-align: right;\">\n",
       "      <th></th>\n",
       "      <th>country</th>\n",
       "      <th>population</th>\n",
       "    </tr>\n",
       "  </thead>\n",
       "  <tbody>\n",
       "    <tr>\n",
       "      <th>0</th>\n",
       "      <td>aaa</td>\n",
       "      <td>10.0</td>\n",
       "    </tr>\n",
       "    <tr>\n",
       "      <th>1</th>\n",
       "      <td>bbb</td>\n",
       "      <td>20.0</td>\n",
       "    </tr>\n",
       "    <tr>\n",
       "      <th>2</th>\n",
       "      <td>ccc</td>\n",
       "      <td>30.0</td>\n",
       "    </tr>\n",
       "    <tr>\n",
       "      <th>3</th>\n",
       "      <td>ddd</td>\n",
       "      <td>NaN</td>\n",
       "    </tr>\n",
       "  </tbody>\n",
       "</table>\n",
       "</div>"
      ],
      "text/plain": [
       "  country  population\n",
       "0     aaa        10.0\n",
       "1     bbb        20.0\n",
       "2     ccc        30.0\n",
       "3     ddd         NaN"
      ]
     },
     "execution_count": 23,
     "metadata": {},
     "output_type": "execute_result"
    }
   ],
   "source": [
    "# 指定为字典结构: key,value,每一个属性列都是一个数组（一维）\n",
    "\n",
    "import numpy as np\n",
    "\n",
    "\n",
    "data = {'country':['aaa','bbb','ccc','ddd'],          \n",
    "        'population':[10,20,30,np.nan]}          # np.nan ：表示空值,not a num\n",
    "df_data = pd.DataFrame(data)\n",
    "df_data"
   ]
  },
  {
   "cell_type": "markdown",
   "metadata": {},
   "source": [
    "取指定数据"
   ]
  },
  {
   "cell_type": "code",
   "execution_count": 27,
   "metadata": {},
   "outputs": [
    {
     "data": {
      "text/plain": [
       "0    A0A584\n",
       "1    Q9BXU3\n",
       "2    Q15031\n",
       "3    Q6PKC3\n",
       "4    P42681\n",
       "Name: Entry, dtype: object"
      ]
     },
     "execution_count": 27,
     "metadata": {},
     "output_type": "execute_result"
    }
   ],
   "source": [
    "entry = df['Entry']    # 矩阵的属性名\n",
    "entry[:5]              # 取前五个数据"
   ]
  },
  {
   "cell_type": "markdown",
   "metadata": {},
   "source": [
    "series;dataFrame 中的一列、行"
   ]
  },
  {
   "cell_type": "code",
   "execution_count": 28,
   "metadata": {},
   "outputs": [
    {
     "data": {
      "text/plain": [
       "RangeIndex(start=0, stop=20421, step=1)"
      ]
     },
     "execution_count": 28,
     "metadata": {},
     "output_type": "execute_result"
    }
   ],
   "source": [
    "entry.index              # 查看属性的索引"
   ]
  },
  {
   "cell_type": "code",
   "execution_count": 29,
   "metadata": {},
   "outputs": [
    {
     "data": {
      "text/plain": [
       "array(['A0A584', 'Q9BXU3', 'Q15031', 'Q6PKC3', 'P42681'], dtype=object)"
      ]
     },
     "execution_count": 29,
     "metadata": {},
     "output_type": "execute_result"
    }
   ],
   "source": [
    "entry.values[:5]             # 属性的values可以取出来"
   ]
  },
  {
   "cell_type": "code",
   "execution_count": 30,
   "metadata": {},
   "outputs": [
    {
     "data": {
      "text/html": [
       "<div>\n",
       "<style scoped>\n",
       "    .dataframe tbody tr th:only-of-type {\n",
       "        vertical-align: middle;\n",
       "    }\n",
       "\n",
       "    .dataframe tbody tr th {\n",
       "        vertical-align: top;\n",
       "    }\n",
       "\n",
       "    .dataframe thead th {\n",
       "        text-align: right;\n",
       "    }\n",
       "</style>\n",
       "<table border=\"1\" class=\"dataframe\">\n",
       "  <thead>\n",
       "    <tr style=\"text-align: right;\">\n",
       "      <th></th>\n",
       "      <th>Entry</th>\n",
       "      <th>Entry name</th>\n",
       "      <th>Protein names</th>\n",
       "      <th>Gene names</th>\n",
       "      <th>Length</th>\n",
       "      <th>Mass</th>\n",
       "    </tr>\n",
       "  </thead>\n",
       "  <tbody>\n",
       "    <tr>\n",
       "      <th>0</th>\n",
       "      <td>A0A584</td>\n",
       "      <td>TVBK2_HUMAN</td>\n",
       "      <td>T cell receptor beta variable 11-2</td>\n",
       "      <td>TRBV11-2 TCRBV21S3A2N2T</td>\n",
       "      <td>115</td>\n",
       "      <td>12,743</td>\n",
       "    </tr>\n",
       "    <tr>\n",
       "      <th>1</th>\n",
       "      <td>Q9BXU3</td>\n",
       "      <td>TX13A_HUMAN</td>\n",
       "      <td>Testis-expressed protein 13A</td>\n",
       "      <td>TEX13A</td>\n",
       "      <td>409</td>\n",
       "      <td>45,583</td>\n",
       "    </tr>\n",
       "    <tr>\n",
       "      <th>2</th>\n",
       "      <td>Q15031</td>\n",
       "      <td>SYLM_HUMAN</td>\n",
       "      <td>Probable leucine--tRNA ligase, mitochondrial (...</td>\n",
       "      <td>LARS2 KIAA0028</td>\n",
       "      <td>903</td>\n",
       "      <td>101,976</td>\n",
       "    </tr>\n",
       "    <tr>\n",
       "      <th>3</th>\n",
       "      <td>Q6PKC3</td>\n",
       "      <td>TXD11_HUMAN</td>\n",
       "      <td>Thioredoxin domain-containing protein 11 (EF-h...</td>\n",
       "      <td>TXNDC11 EFP1</td>\n",
       "      <td>985</td>\n",
       "      <td>110,529</td>\n",
       "    </tr>\n",
       "    <tr>\n",
       "      <th>4</th>\n",
       "      <td>P42681</td>\n",
       "      <td>TXK_HUMAN</td>\n",
       "      <td>Tyrosine-protein kinase TXK (EC 2.7.10.2) (Pro...</td>\n",
       "      <td>TXK PTK4 RLK</td>\n",
       "      <td>527</td>\n",
       "      <td>61,258</td>\n",
       "    </tr>\n",
       "  </tbody>\n",
       "</table>\n",
       "</div>"
      ],
      "text/plain": [
       "    Entry   Entry name                                      Protein names  \\\n",
       "0  A0A584  TVBK2_HUMAN                 T cell receptor beta variable 11-2   \n",
       "1  Q9BXU3  TX13A_HUMAN                       Testis-expressed protein 13A   \n",
       "2  Q15031   SYLM_HUMAN  Probable leucine--tRNA ligase, mitochondrial (...   \n",
       "3  Q6PKC3  TXD11_HUMAN  Thioredoxin domain-containing protein 11 (EF-h...   \n",
       "4  P42681    TXK_HUMAN  Tyrosine-protein kinase TXK (EC 2.7.10.2) (Pro...   \n",
       "\n",
       "                Gene names  Length     Mass  \n",
       "0  TRBV11-2 TCRBV21S3A2N2T     115   12,743  \n",
       "1                   TEX13A     409   45,583  \n",
       "2           LARS2 KIAA0028     903  101,976  \n",
       "3             TXNDC11 EFP1     985  110,529  \n",
       "4             TXK PTK4 RLK     527   61,258  "
      ]
     },
     "execution_count": 30,
     "metadata": {},
     "output_type": "execute_result"
    }
   ],
   "source": [
    "df[:5]               # 同样可以取出前五个数据"
   ]
  },
  {
   "cell_type": "code",
   "execution_count": 31,
   "metadata": {},
   "outputs": [
    {
     "data": {
      "text/plain": [
       "0    A0A584\n",
       "1    Q9BXU3\n",
       "2    Q15031\n",
       "3    Q6PKC3\n",
       "4    P42681\n",
       "Name: Entry, dtype: object"
      ]
     },
     "execution_count": 31,
     "metadata": {},
     "output_type": "execute_result"
    }
   ],
   "source": [
    "df['Entry'][:5]            # 通风样可以取出前五个数据"
   ]
  },
  {
   "cell_type": "markdown",
   "metadata": {},
   "source": [
    "自己指定索引"
   ]
  },
  {
   "cell_type": "code",
   "execution_count": 32,
   "metadata": {},
   "outputs": [
    {
     "data": {
      "text/html": [
       "<div>\n",
       "<style scoped>\n",
       "    .dataframe tbody tr th:only-of-type {\n",
       "        vertical-align: middle;\n",
       "    }\n",
       "\n",
       "    .dataframe tbody tr th {\n",
       "        vertical-align: top;\n",
       "    }\n",
       "\n",
       "    .dataframe thead th {\n",
       "        text-align: right;\n",
       "    }\n",
       "</style>\n",
       "<table border=\"1\" class=\"dataframe\">\n",
       "  <thead>\n",
       "    <tr style=\"text-align: right;\">\n",
       "      <th></th>\n",
       "      <th>Entry</th>\n",
       "      <th>Protein names</th>\n",
       "      <th>Gene names</th>\n",
       "      <th>Length</th>\n",
       "      <th>Mass</th>\n",
       "    </tr>\n",
       "    <tr>\n",
       "      <th>Entry name</th>\n",
       "      <th></th>\n",
       "      <th></th>\n",
       "      <th></th>\n",
       "      <th></th>\n",
       "      <th></th>\n",
       "    </tr>\n",
       "  </thead>\n",
       "  <tbody>\n",
       "    <tr>\n",
       "      <th>TVBK2_HUMAN</th>\n",
       "      <td>A0A584</td>\n",
       "      <td>T cell receptor beta variable 11-2</td>\n",
       "      <td>TRBV11-2 TCRBV21S3A2N2T</td>\n",
       "      <td>115</td>\n",
       "      <td>12,743</td>\n",
       "    </tr>\n",
       "    <tr>\n",
       "      <th>TX13A_HUMAN</th>\n",
       "      <td>Q9BXU3</td>\n",
       "      <td>Testis-expressed protein 13A</td>\n",
       "      <td>TEX13A</td>\n",
       "      <td>409</td>\n",
       "      <td>45,583</td>\n",
       "    </tr>\n",
       "    <tr>\n",
       "      <th>SYLM_HUMAN</th>\n",
       "      <td>Q15031</td>\n",
       "      <td>Probable leucine--tRNA ligase, mitochondrial (...</td>\n",
       "      <td>LARS2 KIAA0028</td>\n",
       "      <td>903</td>\n",
       "      <td>101,976</td>\n",
       "    </tr>\n",
       "    <tr>\n",
       "      <th>TXD11_HUMAN</th>\n",
       "      <td>Q6PKC3</td>\n",
       "      <td>Thioredoxin domain-containing protein 11 (EF-h...</td>\n",
       "      <td>TXNDC11 EFP1</td>\n",
       "      <td>985</td>\n",
       "      <td>110,529</td>\n",
       "    </tr>\n",
       "    <tr>\n",
       "      <th>TXK_HUMAN</th>\n",
       "      <td>P42681</td>\n",
       "      <td>Tyrosine-protein kinase TXK (EC 2.7.10.2) (Pro...</td>\n",
       "      <td>TXK PTK4 RLK</td>\n",
       "      <td>527</td>\n",
       "      <td>61,258</td>\n",
       "    </tr>\n",
       "  </tbody>\n",
       "</table>\n",
       "</div>"
      ],
      "text/plain": [
       "              Entry                                      Protein names  \\\n",
       "Entry name                                                               \n",
       "TVBK2_HUMAN  A0A584                 T cell receptor beta variable 11-2   \n",
       "TX13A_HUMAN  Q9BXU3                       Testis-expressed protein 13A   \n",
       "SYLM_HUMAN   Q15031  Probable leucine--tRNA ligase, mitochondrial (...   \n",
       "TXD11_HUMAN  Q6PKC3  Thioredoxin domain-containing protein 11 (EF-h...   \n",
       "TXK_HUMAN    P42681  Tyrosine-protein kinase TXK (EC 2.7.10.2) (Pro...   \n",
       "\n",
       "                          Gene names  Length     Mass  \n",
       "Entry name                                             \n",
       "TVBK2_HUMAN  TRBV11-2 TCRBV21S3A2N2T     115   12,743  \n",
       "TX13A_HUMAN                   TEX13A     409   45,583  \n",
       "SYLM_HUMAN            LARS2 KIAA0028     903  101,976  \n",
       "TXD11_HUMAN             TXNDC11 EFP1     985  110,529  \n",
       "TXK_HUMAN               TXK PTK4 RLK     527   61,258  "
      ]
     },
     "execution_count": 32,
     "metadata": {},
     "output_type": "execute_result"
    }
   ],
   "source": [
    "df = df.set_index('Entry name')    #set_index() 函数，可以设置索引，'Entry name'：索引名\n",
    "df[:5]"
   ]
  },
  {
   "cell_type": "code",
   "execution_count": 45,
   "metadata": {},
   "outputs": [
    {
     "data": {
      "text/plain": [
       "'101,976'"
      ]
     },
     "execution_count": 45,
     "metadata": {},
     "output_type": "execute_result"
    }
   ],
   "source": [
    "gene = df['Gene names']\n",
    "gene['TXK_HUMAN']               # 根据新的索引，\n",
    "\n",
    "mass = df['Mass']\n",
    "mass['SYLM_HUMAN']"
   ]
  },
  {
   "cell_type": "code",
   "execution_count": 46,
   "metadata": {},
   "outputs": [
    {
     "data": {
      "text/plain": [
       "Entry            object\n",
       "Protein names    object\n",
       "Gene names       object\n",
       "Length            int64\n",
       "Mass             object\n",
       "dtype: object"
      ]
     },
     "execution_count": 46,
     "metadata": {},
     "output_type": "execute_result"
    }
   ],
   "source": [
    "df.dtypes"
   ]
  },
  {
   "cell_type": "code",
   "execution_count": 47,
   "metadata": {},
   "outputs": [
    {
     "data": {
      "text/plain": [
       "Entry name\n",
       "TVBK2_HUMAN     215\n",
       "TX13A_HUMAN     509\n",
       "SYLM_HUMAN     1003\n",
       "TXD11_HUMAN    1085\n",
       "TXK_HUMAN       627\n",
       "Name: Length, dtype: int64"
      ]
     },
     "execution_count": 47,
     "metadata": {},
     "output_type": "execute_result"
    }
   ],
   "source": [
    "length = df['Length']\n",
    "length = length + 100           \n",
    "\n",
    "# 只能对int float 类型的数据进行运算，而且是对该列中的所有元素都进行该操作\n",
    "\n",
    "length[:5]"
   ]
  },
  {
   "cell_type": "code",
   "execution_count": 48,
   "metadata": {},
   "outputs": [
    {
     "data": {
      "text/html": [
       "<div>\n",
       "<style scoped>\n",
       "    .dataframe tbody tr th:only-of-type {\n",
       "        vertical-align: middle;\n",
       "    }\n",
       "\n",
       "    .dataframe tbody tr th {\n",
       "        vertical-align: top;\n",
       "    }\n",
       "\n",
       "    .dataframe thead th {\n",
       "        text-align: right;\n",
       "    }\n",
       "</style>\n",
       "<table border=\"1\" class=\"dataframe\">\n",
       "  <thead>\n",
       "    <tr style=\"text-align: right;\">\n",
       "      <th></th>\n",
       "      <th>Entry</th>\n",
       "      <th>Protein names</th>\n",
       "      <th>Gene names</th>\n",
       "      <th>Length</th>\n",
       "      <th>Mass</th>\n",
       "    </tr>\n",
       "    <tr>\n",
       "      <th>Entry name</th>\n",
       "      <th></th>\n",
       "      <th></th>\n",
       "      <th></th>\n",
       "      <th></th>\n",
       "      <th></th>\n",
       "    </tr>\n",
       "  </thead>\n",
       "  <tbody>\n",
       "    <tr>\n",
       "      <th>TVBK2_HUMAN</th>\n",
       "      <td>A0A584</td>\n",
       "      <td>T cell receptor beta variable 11-2</td>\n",
       "      <td>TRBV11-2 TCRBV21S3A2N2T</td>\n",
       "      <td>115</td>\n",
       "      <td>12,743</td>\n",
       "    </tr>\n",
       "    <tr>\n",
       "      <th>TX13A_HUMAN</th>\n",
       "      <td>Q9BXU3</td>\n",
       "      <td>Testis-expressed protein 13A</td>\n",
       "      <td>TEX13A</td>\n",
       "      <td>409</td>\n",
       "      <td>45,583</td>\n",
       "    </tr>\n",
       "    <tr>\n",
       "      <th>SYLM_HUMAN</th>\n",
       "      <td>Q15031</td>\n",
       "      <td>Probable leucine--tRNA ligase, mitochondrial (...</td>\n",
       "      <td>LARS2 KIAA0028</td>\n",
       "      <td>903</td>\n",
       "      <td>101,976</td>\n",
       "    </tr>\n",
       "    <tr>\n",
       "      <th>TXD11_HUMAN</th>\n",
       "      <td>Q6PKC3</td>\n",
       "      <td>Thioredoxin domain-containing protein 11 (EF-h...</td>\n",
       "      <td>TXNDC11 EFP1</td>\n",
       "      <td>985</td>\n",
       "      <td>110,529</td>\n",
       "    </tr>\n",
       "    <tr>\n",
       "      <th>TXK_HUMAN</th>\n",
       "      <td>P42681</td>\n",
       "      <td>Tyrosine-protein kinase TXK (EC 2.7.10.2) (Pro...</td>\n",
       "      <td>TXK PTK4 RLK</td>\n",
       "      <td>527</td>\n",
       "      <td>61,258</td>\n",
       "    </tr>\n",
       "  </tbody>\n",
       "</table>\n",
       "</div>"
      ],
      "text/plain": [
       "              Entry                                      Protein names  \\\n",
       "Entry name                                                               \n",
       "TVBK2_HUMAN  A0A584                 T cell receptor beta variable 11-2   \n",
       "TX13A_HUMAN  Q9BXU3                       Testis-expressed protein 13A   \n",
       "SYLM_HUMAN   Q15031  Probable leucine--tRNA ligase, mitochondrial (...   \n",
       "TXD11_HUMAN  Q6PKC3  Thioredoxin domain-containing protein 11 (EF-h...   \n",
       "TXK_HUMAN    P42681  Tyrosine-protein kinase TXK (EC 2.7.10.2) (Pro...   \n",
       "\n",
       "                          Gene names  Length     Mass  \n",
       "Entry name                                             \n",
       "TVBK2_HUMAN  TRBV11-2 TCRBV21S3A2N2T     115   12,743  \n",
       "TX13A_HUMAN                   TEX13A     409   45,583  \n",
       "SYLM_HUMAN            LARS2 KIAA0028     903  101,976  \n",
       "TXD11_HUMAN             TXNDC11 EFP1     985  110,529  \n",
       "TXK_HUMAN               TXK PTK4 RLK     527   61,258  "
      ]
     },
     "execution_count": 48,
     "metadata": {},
     "output_type": "execute_result"
    }
   ],
   "source": [
    "df[:5]"
   ]
  },
  {
   "cell_type": "code",
   "execution_count": 53,
   "metadata": {},
   "outputs": [
    {
     "data": {
      "text/plain": [
       "657.2601733509622"
      ]
     },
     "execution_count": 53,
     "metadata": {},
     "output_type": "execute_result"
    }
   ],
   "source": [
    "length.mean()"
   ]
  },
  {
   "cell_type": "code",
   "execution_count": 54,
   "metadata": {},
   "outputs": [
    {
     "data": {
      "text/plain": [
       "34450"
      ]
     },
     "execution_count": 54,
     "metadata": {},
     "output_type": "execute_result"
    }
   ],
   "source": [
    "length.max()"
   ]
  },
  {
   "cell_type": "code",
   "execution_count": 55,
   "metadata": {},
   "outputs": [
    {
     "data": {
      "text/plain": [
       "102"
      ]
     },
     "execution_count": 55,
     "metadata": {},
     "output_type": "execute_result"
    }
   ],
   "source": [
    "length.min()"
   ]
  },
  {
   "cell_type": "code",
   "execution_count": 56,
   "metadata": {},
   "outputs": [
    {
     "data": {
      "text/html": [
       "<div>\n",
       "<style scoped>\n",
       "    .dataframe tbody tr th:only-of-type {\n",
       "        vertical-align: middle;\n",
       "    }\n",
       "\n",
       "    .dataframe tbody tr th {\n",
       "        vertical-align: top;\n",
       "    }\n",
       "\n",
       "    .dataframe thead th {\n",
       "        text-align: right;\n",
       "    }\n",
       "</style>\n",
       "<table border=\"1\" class=\"dataframe\">\n",
       "  <thead>\n",
       "    <tr style=\"text-align: right;\">\n",
       "      <th></th>\n",
       "      <th>Length</th>\n",
       "    </tr>\n",
       "  </thead>\n",
       "  <tbody>\n",
       "    <tr>\n",
       "      <th>count</th>\n",
       "      <td>20421.000000</td>\n",
       "    </tr>\n",
       "    <tr>\n",
       "      <th>mean</th>\n",
       "      <td>557.260173</td>\n",
       "    </tr>\n",
       "    <tr>\n",
       "      <th>std</th>\n",
       "      <td>595.835975</td>\n",
       "    </tr>\n",
       "    <tr>\n",
       "      <th>min</th>\n",
       "      <td>2.000000</td>\n",
       "    </tr>\n",
       "    <tr>\n",
       "      <th>25%</th>\n",
       "      <td>251.000000</td>\n",
       "    </tr>\n",
       "    <tr>\n",
       "      <th>50%</th>\n",
       "      <td>414.000000</td>\n",
       "    </tr>\n",
       "    <tr>\n",
       "      <th>75%</th>\n",
       "      <td>669.000000</td>\n",
       "    </tr>\n",
       "    <tr>\n",
       "      <th>max</th>\n",
       "      <td>34350.000000</td>\n",
       "    </tr>\n",
       "  </tbody>\n",
       "</table>\n",
       "</div>"
      ],
      "text/plain": [
       "             Length\n",
       "count  20421.000000\n",
       "mean     557.260173\n",
       "std      595.835975\n",
       "min        2.000000\n",
       "25%      251.000000\n",
       "50%      414.000000\n",
       "75%      669.000000\n",
       "max    34350.000000"
      ]
     },
     "execution_count": 56,
     "metadata": {},
     "output_type": "execute_result"
    }
   ],
   "source": [
    "df.describe()            # .describe() 函数可以得到数据的基本统计特性"
   ]
  },
  {
   "cell_type": "markdown",
   "metadata": {},
   "source": [
    "#  2 - Pandas 索引"
   ]
  },
  {
   "cell_type": "code",
   "execution_count": 57,
   "metadata": {},
   "outputs": [],
   "source": [
    "import pandas as pd\n",
    "\n",
    "df = pd.read_csv('./data/test.csv')"
   ]
  },
  {
   "cell_type": "code",
   "execution_count": 58,
   "metadata": {},
   "outputs": [
    {
     "data": {
      "text/plain": [
       "0    A0A584\n",
       "1    Q9BXU3\n",
       "2    Q15031\n",
       "3    Q6PKC3\n",
       "4    P42681\n",
       "Name: Entry, dtype: object"
      ]
     },
     "execution_count": 58,
     "metadata": {},
     "output_type": "execute_result"
    }
   ],
   "source": [
    "df['Entry'][:5]"
   ]
  },
  {
   "cell_type": "code",
   "execution_count": 62,
   "metadata": {},
   "outputs": [
    {
     "data": {
      "text/html": [
       "<div>\n",
       "<style scoped>\n",
       "    .dataframe tbody tr th:only-of-type {\n",
       "        vertical-align: middle;\n",
       "    }\n",
       "\n",
       "    .dataframe tbody tr th {\n",
       "        vertical-align: top;\n",
       "    }\n",
       "\n",
       "    .dataframe thead th {\n",
       "        text-align: right;\n",
       "    }\n",
       "</style>\n",
       "<table border=\"1\" class=\"dataframe\">\n",
       "  <thead>\n",
       "    <tr style=\"text-align: right;\">\n",
       "      <th></th>\n",
       "      <th>Entry</th>\n",
       "      <th>Entry name</th>\n",
       "      <th>Protein names</th>\n",
       "      <th>Gene names</th>\n",
       "      <th>Length</th>\n",
       "      <th>Mass</th>\n",
       "    </tr>\n",
       "  </thead>\n",
       "  <tbody>\n",
       "    <tr>\n",
       "      <th>0</th>\n",
       "      <td>A0A584</td>\n",
       "      <td>TVBK2_HUMAN</td>\n",
       "      <td>T cell receptor beta variable 11-2</td>\n",
       "      <td>TRBV11-2 TCRBV21S3A2N2T</td>\n",
       "      <td>115</td>\n",
       "      <td>12,743</td>\n",
       "    </tr>\n",
       "    <tr>\n",
       "      <th>1</th>\n",
       "      <td>Q9BXU3</td>\n",
       "      <td>TX13A_HUMAN</td>\n",
       "      <td>Testis-expressed protein 13A</td>\n",
       "      <td>TEX13A</td>\n",
       "      <td>409</td>\n",
       "      <td>45,583</td>\n",
       "    </tr>\n",
       "    <tr>\n",
       "      <th>2</th>\n",
       "      <td>Q15031</td>\n",
       "      <td>SYLM_HUMAN</td>\n",
       "      <td>Probable leucine--tRNA ligase, mitochondrial (...</td>\n",
       "      <td>LARS2 KIAA0028</td>\n",
       "      <td>903</td>\n",
       "      <td>101,976</td>\n",
       "    </tr>\n",
       "    <tr>\n",
       "      <th>3</th>\n",
       "      <td>Q6PKC3</td>\n",
       "      <td>TXD11_HUMAN</td>\n",
       "      <td>Thioredoxin domain-containing protein 11 (EF-h...</td>\n",
       "      <td>TXNDC11 EFP1</td>\n",
       "      <td>985</td>\n",
       "      <td>110,529</td>\n",
       "    </tr>\n",
       "    <tr>\n",
       "      <th>4</th>\n",
       "      <td>P42681</td>\n",
       "      <td>TXK_HUMAN</td>\n",
       "      <td>Tyrosine-protein kinase TXK (EC 2.7.10.2) (Pro...</td>\n",
       "      <td>TXK PTK4 RLK</td>\n",
       "      <td>527</td>\n",
       "      <td>61,258</td>\n",
       "    </tr>\n",
       "  </tbody>\n",
       "</table>\n",
       "</div>"
      ],
      "text/plain": [
       "    Entry   Entry name                                      Protein names  \\\n",
       "0  A0A584  TVBK2_HUMAN                 T cell receptor beta variable 11-2   \n",
       "1  Q9BXU3  TX13A_HUMAN                       Testis-expressed protein 13A   \n",
       "2  Q15031   SYLM_HUMAN  Probable leucine--tRNA ligase, mitochondrial (...   \n",
       "3  Q6PKC3  TXD11_HUMAN  Thioredoxin domain-containing protein 11 (EF-h...   \n",
       "4  P42681    TXK_HUMAN  Tyrosine-protein kinase TXK (EC 2.7.10.2) (Pro...   \n",
       "\n",
       "                Gene names  Length     Mass  \n",
       "0  TRBV11-2 TCRBV21S3A2N2T     115   12,743  \n",
       "1                   TEX13A     409   45,583  \n",
       "2           LARS2 KIAA0028     903  101,976  \n",
       "3             TXNDC11 EFP1     985  110,529  \n",
       "4             TXK PTK4 RLK     527   61,258  "
      ]
     },
     "execution_count": 62,
     "metadata": {},
     "output_type": "execute_result"
    }
   ],
   "source": [
    "df[:5]"
   ]
  },
  {
   "cell_type": "code",
   "execution_count": 65,
   "metadata": {},
   "outputs": [
    {
     "data": {
      "text/html": [
       "<div>\n",
       "<style scoped>\n",
       "    .dataframe tbody tr th:only-of-type {\n",
       "        vertical-align: middle;\n",
       "    }\n",
       "\n",
       "    .dataframe tbody tr th {\n",
       "        vertical-align: top;\n",
       "    }\n",
       "\n",
       "    .dataframe thead th {\n",
       "        text-align: right;\n",
       "    }\n",
       "</style>\n",
       "<table border=\"1\" class=\"dataframe\">\n",
       "  <thead>\n",
       "    <tr style=\"text-align: right;\">\n",
       "      <th></th>\n",
       "      <th>Entry</th>\n",
       "      <th>Entry name</th>\n",
       "    </tr>\n",
       "  </thead>\n",
       "  <tbody>\n",
       "    <tr>\n",
       "      <th>0</th>\n",
       "      <td>A0A584</td>\n",
       "      <td>TVBK2_HUMAN</td>\n",
       "    </tr>\n",
       "    <tr>\n",
       "      <th>1</th>\n",
       "      <td>Q9BXU3</td>\n",
       "      <td>TX13A_HUMAN</td>\n",
       "    </tr>\n",
       "    <tr>\n",
       "      <th>2</th>\n",
       "      <td>Q15031</td>\n",
       "      <td>SYLM_HUMAN</td>\n",
       "    </tr>\n",
       "    <tr>\n",
       "      <th>3</th>\n",
       "      <td>Q6PKC3</td>\n",
       "      <td>TXD11_HUMAN</td>\n",
       "    </tr>\n",
       "    <tr>\n",
       "      <th>4</th>\n",
       "      <td>P42681</td>\n",
       "      <td>TXK_HUMAN</td>\n",
       "    </tr>\n",
       "  </tbody>\n",
       "</table>\n",
       "</div>"
      ],
      "text/plain": [
       "    Entry   Entry name\n",
       "0  A0A584  TVBK2_HUMAN\n",
       "1  Q9BXU3  TX13A_HUMAN\n",
       "2  Q15031   SYLM_HUMAN\n",
       "3  Q6PKC3  TXD11_HUMAN\n",
       "4  P42681    TXK_HUMAN"
      ]
     },
     "execution_count": 65,
     "metadata": {},
     "output_type": "execute_result"
    }
   ],
   "source": [
    "df[['Entry','Entry name']][:5]             # 取得是前两个属性的值，就用两个【】"
   ]
  },
  {
   "cell_type": "markdown",
   "metadata": {},
   "source": [
    "笔记：\n",
    " - 第一点：loc 用label 来去定位； iloc用position 来去定位\n",
    " - 第二点："
   ]
  },
  {
   "cell_type": "code",
   "execution_count": 8,
   "metadata": {},
   "outputs": [
    {
     "data": {
      "text/plain": [
       "Entry                                        A0A584\n",
       "Entry name                              TVBK2_HUMAN\n",
       "Protein names    T cell receptor beta variable 11-2\n",
       "Gene names                  TRBV11-2 TCRBV21S3A2N2T\n",
       "Length                                          115\n",
       "Mass                                         12,743\n",
       "Name: 0, dtype: object"
      ]
     },
     "execution_count": 8,
     "metadata": {},
     "output_type": "execute_result"
    }
   ],
   "source": [
    "df.iloc[0]"
   ]
  },
  {
   "cell_type": "code",
   "execution_count": 9,
   "metadata": {},
   "outputs": [
    {
     "data": {
      "text/html": [
       "<div>\n",
       "<style scoped>\n",
       "    .dataframe tbody tr th:only-of-type {\n",
       "        vertical-align: middle;\n",
       "    }\n",
       "\n",
       "    .dataframe tbody tr th {\n",
       "        vertical-align: top;\n",
       "    }\n",
       "\n",
       "    .dataframe thead th {\n",
       "        text-align: right;\n",
       "    }\n",
       "</style>\n",
       "<table border=\"1\" class=\"dataframe\">\n",
       "  <thead>\n",
       "    <tr style=\"text-align: right;\">\n",
       "      <th></th>\n",
       "      <th>Entry</th>\n",
       "      <th>Entry name</th>\n",
       "      <th>Protein names</th>\n",
       "      <th>Gene names</th>\n",
       "      <th>Length</th>\n",
       "      <th>Mass</th>\n",
       "    </tr>\n",
       "  </thead>\n",
       "  <tbody>\n",
       "    <tr>\n",
       "      <th>0</th>\n",
       "      <td>A0A584</td>\n",
       "      <td>TVBK2_HUMAN</td>\n",
       "      <td>T cell receptor beta variable 11-2</td>\n",
       "      <td>TRBV11-2 TCRBV21S3A2N2T</td>\n",
       "      <td>115</td>\n",
       "      <td>12,743</td>\n",
       "    </tr>\n",
       "    <tr>\n",
       "      <th>1</th>\n",
       "      <td>Q9BXU3</td>\n",
       "      <td>TX13A_HUMAN</td>\n",
       "      <td>Testis-expressed protein 13A</td>\n",
       "      <td>TEX13A</td>\n",
       "      <td>409</td>\n",
       "      <td>45,583</td>\n",
       "    </tr>\n",
       "    <tr>\n",
       "      <th>2</th>\n",
       "      <td>Q15031</td>\n",
       "      <td>SYLM_HUMAN</td>\n",
       "      <td>Probable leucine--tRNA ligase, mitochondrial (...</td>\n",
       "      <td>LARS2 KIAA0028</td>\n",
       "      <td>903</td>\n",
       "      <td>101,976</td>\n",
       "    </tr>\n",
       "    <tr>\n",
       "      <th>3</th>\n",
       "      <td>Q6PKC3</td>\n",
       "      <td>TXD11_HUMAN</td>\n",
       "      <td>Thioredoxin domain-containing protein 11 (EF-h...</td>\n",
       "      <td>TXNDC11 EFP1</td>\n",
       "      <td>985</td>\n",
       "      <td>110,529</td>\n",
       "    </tr>\n",
       "    <tr>\n",
       "      <th>4</th>\n",
       "      <td>P42681</td>\n",
       "      <td>TXK_HUMAN</td>\n",
       "      <td>Tyrosine-protein kinase TXK (EC 2.7.10.2) (Pro...</td>\n",
       "      <td>TXK PTK4 RLK</td>\n",
       "      <td>527</td>\n",
       "      <td>61,258</td>\n",
       "    </tr>\n",
       "    <tr>\n",
       "      <th>5</th>\n",
       "      <td>P40222</td>\n",
       "      <td>TXLNA_HUMAN</td>\n",
       "      <td>Alpha-taxilin</td>\n",
       "      <td>TXLNA TXLN</td>\n",
       "      <td>546</td>\n",
       "      <td>61,891</td>\n",
       "    </tr>\n",
       "  </tbody>\n",
       "</table>\n",
       "</div>"
      ],
      "text/plain": [
       "    Entry   Entry name                                      Protein names  \\\n",
       "0  A0A584  TVBK2_HUMAN                 T cell receptor beta variable 11-2   \n",
       "1  Q9BXU3  TX13A_HUMAN                       Testis-expressed protein 13A   \n",
       "2  Q15031   SYLM_HUMAN  Probable leucine--tRNA ligase, mitochondrial (...   \n",
       "3  Q6PKC3  TXD11_HUMAN  Thioredoxin domain-containing protein 11 (EF-h...   \n",
       "4  P42681    TXK_HUMAN  Tyrosine-protein kinase TXK (EC 2.7.10.2) (Pro...   \n",
       "5  P40222  TXLNA_HUMAN                                      Alpha-taxilin   \n",
       "\n",
       "                Gene names  Length     Mass  \n",
       "0  TRBV11-2 TCRBV21S3A2N2T     115   12,743  \n",
       "1                   TEX13A     409   45,583  \n",
       "2           LARS2 KIAA0028     903  101,976  \n",
       "3             TXNDC11 EFP1     985  110,529  \n",
       "4             TXK PTK4 RLK     527   61,258  \n",
       "5               TXLNA TXLN     546   61,891  "
      ]
     },
     "execution_count": 9,
     "metadata": {},
     "output_type": "execute_result"
    }
   ],
   "source": [
    "df.loc[:5]"
   ]
  },
  {
   "cell_type": "code",
   "execution_count": 10,
   "metadata": {},
   "outputs": [
    {
     "data": {
      "text/html": [
       "<div>\n",
       "<style scoped>\n",
       "    .dataframe tbody tr th:only-of-type {\n",
       "        vertical-align: middle;\n",
       "    }\n",
       "\n",
       "    .dataframe tbody tr th {\n",
       "        vertical-align: top;\n",
       "    }\n",
       "\n",
       "    .dataframe thead th {\n",
       "        text-align: right;\n",
       "    }\n",
       "</style>\n",
       "<table border=\"1\" class=\"dataframe\">\n",
       "  <thead>\n",
       "    <tr style=\"text-align: right;\">\n",
       "      <th></th>\n",
       "      <th>Length</th>\n",
       "    </tr>\n",
       "  </thead>\n",
       "  <tbody>\n",
       "    <tr>\n",
       "      <th>0</th>\n",
       "      <td>115</td>\n",
       "    </tr>\n",
       "    <tr>\n",
       "      <th>1</th>\n",
       "      <td>409</td>\n",
       "    </tr>\n",
       "  </tbody>\n",
       "</table>\n",
       "</div>"
      ],
      "text/plain": [
       "   Length\n",
       "0     115\n",
       "1     409"
      ]
     },
     "execution_count": 10,
     "metadata": {},
     "output_type": "execute_result"
    }
   ],
   "source": [
    "df.iloc[:2,4:5]               # 可以指定一个切片"
   ]
  },
  {
   "cell_type": "code",
   "execution_count": 11,
   "metadata": {},
   "outputs": [
    {
     "data": {
      "text/html": [
       "<div>\n",
       "<style scoped>\n",
       "    .dataframe tbody tr th:only-of-type {\n",
       "        vertical-align: middle;\n",
       "    }\n",
       "\n",
       "    .dataframe tbody tr th {\n",
       "        vertical-align: top;\n",
       "    }\n",
       "\n",
       "    .dataframe thead th {\n",
       "        text-align: right;\n",
       "    }\n",
       "</style>\n",
       "<table border=\"1\" class=\"dataframe\">\n",
       "  <thead>\n",
       "    <tr style=\"text-align: right;\">\n",
       "      <th></th>\n",
       "      <th>Entry</th>\n",
       "      <th>Protein names</th>\n",
       "      <th>Gene names</th>\n",
       "      <th>Length</th>\n",
       "      <th>Mass</th>\n",
       "    </tr>\n",
       "    <tr>\n",
       "      <th>Entry name</th>\n",
       "      <th></th>\n",
       "      <th></th>\n",
       "      <th></th>\n",
       "      <th></th>\n",
       "      <th></th>\n",
       "    </tr>\n",
       "  </thead>\n",
       "  <tbody>\n",
       "    <tr>\n",
       "      <th>TVBK2_HUMAN</th>\n",
       "      <td>A0A584</td>\n",
       "      <td>T cell receptor beta variable 11-2</td>\n",
       "      <td>TRBV11-2 TCRBV21S3A2N2T</td>\n",
       "      <td>115</td>\n",
       "      <td>12,743</td>\n",
       "    </tr>\n",
       "    <tr>\n",
       "      <th>TX13A_HUMAN</th>\n",
       "      <td>Q9BXU3</td>\n",
       "      <td>Testis-expressed protein 13A</td>\n",
       "      <td>TEX13A</td>\n",
       "      <td>409</td>\n",
       "      <td>45,583</td>\n",
       "    </tr>\n",
       "    <tr>\n",
       "      <th>SYLM_HUMAN</th>\n",
       "      <td>Q15031</td>\n",
       "      <td>Probable leucine--tRNA ligase, mitochondrial (...</td>\n",
       "      <td>LARS2 KIAA0028</td>\n",
       "      <td>903</td>\n",
       "      <td>101,976</td>\n",
       "    </tr>\n",
       "    <tr>\n",
       "      <th>TXD11_HUMAN</th>\n",
       "      <td>Q6PKC3</td>\n",
       "      <td>Thioredoxin domain-containing protein 11 (EF-h...</td>\n",
       "      <td>TXNDC11 EFP1</td>\n",
       "      <td>985</td>\n",
       "      <td>110,529</td>\n",
       "    </tr>\n",
       "    <tr>\n",
       "      <th>TXK_HUMAN</th>\n",
       "      <td>P42681</td>\n",
       "      <td>Tyrosine-protein kinase TXK (EC 2.7.10.2) (Pro...</td>\n",
       "      <td>TXK PTK4 RLK</td>\n",
       "      <td>527</td>\n",
       "      <td>61,258</td>\n",
       "    </tr>\n",
       "  </tbody>\n",
       "</table>\n",
       "</div>"
      ],
      "text/plain": [
       "              Entry                                      Protein names  \\\n",
       "Entry name                                                               \n",
       "TVBK2_HUMAN  A0A584                 T cell receptor beta variable 11-2   \n",
       "TX13A_HUMAN  Q9BXU3                       Testis-expressed protein 13A   \n",
       "SYLM_HUMAN   Q15031  Probable leucine--tRNA ligase, mitochondrial (...   \n",
       "TXD11_HUMAN  Q6PKC3  Thioredoxin domain-containing protein 11 (EF-h...   \n",
       "TXK_HUMAN    P42681  Tyrosine-protein kinase TXK (EC 2.7.10.2) (Pro...   \n",
       "\n",
       "                          Gene names  Length     Mass  \n",
       "Entry name                                             \n",
       "TVBK2_HUMAN  TRBV11-2 TCRBV21S3A2N2T     115   12,743  \n",
       "TX13A_HUMAN                   TEX13A     409   45,583  \n",
       "SYLM_HUMAN            LARS2 KIAA0028     903  101,976  \n",
       "TXD11_HUMAN             TXNDC11 EFP1     985  110,529  \n",
       "TXK_HUMAN               TXK PTK4 RLK     527   61,258  "
      ]
     },
     "execution_count": 11,
     "metadata": {},
     "output_type": "execute_result"
    }
   ],
   "source": [
    "df = df.set_index('Entry name')\n",
    "df[:5]"
   ]
  },
  {
   "cell_type": "code",
   "execution_count": 12,
   "metadata": {},
   "outputs": [
    {
     "data": {
      "text/plain": [
       "Entry                                                       P42681\n",
       "Protein names    Tyrosine-protein kinase TXK (EC 2.7.10.2) (Pro...\n",
       "Gene names                                            TXK PTK4 RLK\n",
       "Length                                                         527\n",
       "Mass                                                        61,258\n",
       "Name: TXK_HUMAN, dtype: object"
      ]
     },
     "execution_count": 12,
     "metadata": {},
     "output_type": "execute_result"
    }
   ],
   "source": [
    "df.loc['TXK_HUMAN']              # 可以定义一些非位置的信息"
   ]
  },
  {
   "cell_type": "code",
   "execution_count": 22,
   "metadata": {},
   "outputs": [
    {
     "data": {
      "text/plain": [
       "'61,258'"
      ]
     },
     "execution_count": 22,
     "metadata": {},
     "output_type": "execute_result"
    }
   ],
   "source": [
    "df.loc['TXK_HUMAN','Mass']           # 统计指定的Entry name，的属性信息"
   ]
  },
  {
   "cell_type": "markdown",
   "metadata": {},
   "source": [
    "bool 类型的索引"
   ]
  },
  {
   "cell_type": "code",
   "execution_count": 14,
   "metadata": {},
   "outputs": [
    {
     "data": {
      "text/html": [
       "<div>\n",
       "<style scoped>\n",
       "    .dataframe tbody tr th:only-of-type {\n",
       "        vertical-align: middle;\n",
       "    }\n",
       "\n",
       "    .dataframe tbody tr th {\n",
       "        vertical-align: top;\n",
       "    }\n",
       "\n",
       "    .dataframe thead th {\n",
       "        text-align: right;\n",
       "    }\n",
       "</style>\n",
       "<table border=\"1\" class=\"dataframe\">\n",
       "  <thead>\n",
       "    <tr style=\"text-align: right;\">\n",
       "      <th></th>\n",
       "      <th>Entry</th>\n",
       "      <th>Protein names</th>\n",
       "      <th>Gene names</th>\n",
       "      <th>Length</th>\n",
       "      <th>Mass</th>\n",
       "    </tr>\n",
       "    <tr>\n",
       "      <th>Entry name</th>\n",
       "      <th></th>\n",
       "      <th></th>\n",
       "      <th></th>\n",
       "      <th></th>\n",
       "      <th></th>\n",
       "    </tr>\n",
       "  </thead>\n",
       "  <tbody>\n",
       "    <tr>\n",
       "      <th>SYNE1_HUMAN</th>\n",
       "      <td>Q8NF91</td>\n",
       "      <td>Nesprin-1 (Enaptin) (KASH domain-containing pr...</td>\n",
       "      <td>SYNE1 C6orf98 KIAA0796 KIAA1262 KIAA1756 MYNE1</td>\n",
       "      <td>8797</td>\n",
       "      <td>1,011,086</td>\n",
       "    </tr>\n",
       "    <tr>\n",
       "      <th>TTC3_HUMAN</th>\n",
       "      <td>P53804</td>\n",
       "      <td>E3 ubiquitin-protein ligase TTC3 (EC 2.3.2.27)...</td>\n",
       "      <td>TTC3 DCRR1 RNF105 TPRD</td>\n",
       "      <td>2025</td>\n",
       "      <td>229,869</td>\n",
       "    </tr>\n",
       "    <tr>\n",
       "      <th>TTC28_HUMAN</th>\n",
       "      <td>Q96AY4</td>\n",
       "      <td>Tetratricopeptide repeat protein 28 (TPR repea...</td>\n",
       "      <td>TTC28 KIAA1043 TPRBK</td>\n",
       "      <td>2481</td>\n",
       "      <td>270,884</td>\n",
       "    </tr>\n",
       "    <tr>\n",
       "      <th>U520_HUMAN</th>\n",
       "      <td>O75643</td>\n",
       "      <td>U5 small nuclear ribonucleoprotein 200 kDa hel...</td>\n",
       "      <td>SNRNP200 ASCC3L1 HELIC2 KIAA0788</td>\n",
       "      <td>2136</td>\n",
       "      <td>244,508</td>\n",
       "    </tr>\n",
       "    <tr>\n",
       "      <th>SYNE2_HUMAN</th>\n",
       "      <td>Q8WXH0</td>\n",
       "      <td>Nesprin-2 (KASH domain-containing protein 2) (...</td>\n",
       "      <td>SYNE2 KIAA1011 NUA</td>\n",
       "      <td>6885</td>\n",
       "      <td>796,442</td>\n",
       "    </tr>\n",
       "  </tbody>\n",
       "</table>\n",
       "</div>"
      ],
      "text/plain": [
       "              Entry                                      Protein names  \\\n",
       "Entry name                                                               \n",
       "SYNE1_HUMAN  Q8NF91  Nesprin-1 (Enaptin) (KASH domain-containing pr...   \n",
       "TTC3_HUMAN   P53804  E3 ubiquitin-protein ligase TTC3 (EC 2.3.2.27)...   \n",
       "TTC28_HUMAN  Q96AY4  Tetratricopeptide repeat protein 28 (TPR repea...   \n",
       "U520_HUMAN   O75643  U5 small nuclear ribonucleoprotein 200 kDa hel...   \n",
       "SYNE2_HUMAN  Q8WXH0  Nesprin-2 (KASH domain-containing protein 2) (...   \n",
       "\n",
       "                                                 Gene names  Length       Mass  \n",
       "Entry name                                                                      \n",
       "SYNE1_HUMAN  SYNE1 C6orf98 KIAA0796 KIAA1262 KIAA1756 MYNE1    8797  1,011,086  \n",
       "TTC3_HUMAN                           TTC3 DCRR1 RNF105 TPRD    2025    229,869  \n",
       "TTC28_HUMAN                            TTC28 KIAA1043 TPRBK    2481    270,884  \n",
       "U520_HUMAN                 SNRNP200 ASCC3L1 HELIC2 KIAA0788    2136    244,508  \n",
       "SYNE2_HUMAN                              SYNE2 KIAA1011 NUA    6885    796,442  "
      ]
     },
     "execution_count": 14,
     "metadata": {},
     "output_type": "execute_result"
    }
   ],
   "source": [
    "###  第一种取索引的方法\n",
    "# 挑选前五个出长度大于2000的数据\n",
    "\n",
    "df[df['Length'] > 2000][:5]           # 此时也只能判断int,float 类型的数据\n"
   ]
  },
  {
   "cell_type": "code",
   "execution_count": 27,
   "metadata": {},
   "outputs": [
    {
     "data": {
      "text/html": [
       "<div>\n",
       "<style scoped>\n",
       "    .dataframe tbody tr th:only-of-type {\n",
       "        vertical-align: middle;\n",
       "    }\n",
       "\n",
       "    .dataframe tbody tr th {\n",
       "        vertical-align: top;\n",
       "    }\n",
       "\n",
       "    .dataframe thead th {\n",
       "        text-align: right;\n",
       "    }\n",
       "</style>\n",
       "<table border=\"1\" class=\"dataframe\">\n",
       "  <thead>\n",
       "    <tr style=\"text-align: right;\">\n",
       "      <th></th>\n",
       "      <th>Entry</th>\n",
       "      <th>Protein names</th>\n",
       "      <th>Gene names</th>\n",
       "      <th>Length</th>\n",
       "      <th>Mass</th>\n",
       "    </tr>\n",
       "    <tr>\n",
       "      <th>Entry name</th>\n",
       "      <th></th>\n",
       "      <th></th>\n",
       "      <th></th>\n",
       "      <th></th>\n",
       "      <th></th>\n",
       "    </tr>\n",
       "  </thead>\n",
       "  <tbody>\n",
       "    <tr>\n",
       "      <th>U520_HUMAN</th>\n",
       "      <td>O75643</td>\n",
       "      <td>U5 small nuclear ribonucleoprotein 200 kDa hel...</td>\n",
       "      <td>SNRNP200 ASCC3L1 HELIC2 KIAA0788</td>\n",
       "      <td>2136</td>\n",
       "      <td>244,508</td>\n",
       "    </tr>\n",
       "  </tbody>\n",
       "</table>\n",
       "</div>"
      ],
      "text/plain": [
       "             Entry                                      Protein names  \\\n",
       "Entry name                                                              \n",
       "U520_HUMAN  O75643  U5 small nuclear ribonucleoprotein 200 kDa hel...   \n",
       "\n",
       "                                  Gene names  Length     Mass  \n",
       "Entry name                                                     \n",
       "U520_HUMAN  SNRNP200 ASCC3L1 HELIC2 KIAA0788    2136  244,508  "
      ]
     },
     "execution_count": 27,
     "metadata": {},
     "output_type": "execute_result"
    }
   ],
   "source": [
    "# 第二种BOLL 类型的判断\n",
    "\n",
    "df[df['Entry'] == 'O75643'][:5]"
   ]
  },
  {
   "cell_type": "code",
   "execution_count": 28,
   "metadata": {},
   "outputs": [
    {
     "data": {
      "text/plain": [
       "453"
      ]
     },
     "execution_count": 28,
     "metadata": {},
     "output_type": "execute_result"
    }
   ],
   "source": [
    "(df['Length'] > 2000).sum()                       # 查看长度大于2000 的数据有多少条 "
   ]
  },
  {
   "cell_type": "code",
   "execution_count": null,
   "metadata": {},
   "outputs": [],
   "source": [
    "mean() 函数 求平均值函数"
   ]
  },
  {
   "cell_type": "markdown",
   "metadata": {},
   "source": [
    "#  3 - group by 函数使用方法"
   ]
  },
  {
   "cell_type": "code",
   "execution_count": 33,
   "metadata": {},
   "outputs": [
    {
     "data": {
      "text/html": [
       "<div>\n",
       "<style scoped>\n",
       "    .dataframe tbody tr th:only-of-type {\n",
       "        vertical-align: middle;\n",
       "    }\n",
       "\n",
       "    .dataframe tbody tr th {\n",
       "        vertical-align: top;\n",
       "    }\n",
       "\n",
       "    .dataframe thead th {\n",
       "        text-align: right;\n",
       "    }\n",
       "</style>\n",
       "<table border=\"1\" class=\"dataframe\">\n",
       "  <thead>\n",
       "    <tr style=\"text-align: right;\">\n",
       "      <th></th>\n",
       "      <th>key</th>\n",
       "      <th>data</th>\n",
       "    </tr>\n",
       "  </thead>\n",
       "  <tbody>\n",
       "    <tr>\n",
       "      <th>0</th>\n",
       "      <td>A</td>\n",
       "      <td>0</td>\n",
       "    </tr>\n",
       "    <tr>\n",
       "      <th>1</th>\n",
       "      <td>B</td>\n",
       "      <td>5</td>\n",
       "    </tr>\n",
       "    <tr>\n",
       "      <th>2</th>\n",
       "      <td>C</td>\n",
       "      <td>10</td>\n",
       "    </tr>\n",
       "    <tr>\n",
       "      <th>3</th>\n",
       "      <td>A</td>\n",
       "      <td>5</td>\n",
       "    </tr>\n",
       "    <tr>\n",
       "      <th>4</th>\n",
       "      <td>B</td>\n",
       "      <td>10</td>\n",
       "    </tr>\n",
       "    <tr>\n",
       "      <th>5</th>\n",
       "      <td>C</td>\n",
       "      <td>15</td>\n",
       "    </tr>\n",
       "    <tr>\n",
       "      <th>6</th>\n",
       "      <td>A</td>\n",
       "      <td>10</td>\n",
       "    </tr>\n",
       "    <tr>\n",
       "      <th>7</th>\n",
       "      <td>B</td>\n",
       "      <td>15</td>\n",
       "    </tr>\n",
       "    <tr>\n",
       "      <th>8</th>\n",
       "      <td>C</td>\n",
       "      <td>20</td>\n",
       "    </tr>\n",
       "  </tbody>\n",
       "</table>\n",
       "</div>"
      ],
      "text/plain": [
       "  key  data\n",
       "0   A     0\n",
       "1   B     5\n",
       "2   C    10\n",
       "3   A     5\n",
       "4   B    10\n",
       "5   C    15\n",
       "6   A    10\n",
       "7   B    15\n",
       "8   C    20"
      ]
     },
     "execution_count": 33,
     "metadata": {},
     "output_type": "execute_result"
    }
   ],
   "source": [
    "import pandas as pd\n",
    "\n",
    "df = pd.DataFrame({'key':['A','B','C','A','B','C','A','B','C'],\n",
    "                    'data':[0,5,10,5,10,15,10,15,20]})\n",
    "df"
   ]
  },
  {
   "cell_type": "code",
   "execution_count": 39,
   "metadata": {},
   "outputs": [
    {
     "data": {
      "text/plain": [
       "key     AAA\n",
       "data     15\n",
       "dtype: object"
      ]
     },
     "execution_count": 39,
     "metadata": {},
     "output_type": "execute_result"
    }
   ],
   "source": [
    "df[df['key'] == 'A'].sum()             # 找出key =  'A' 的data，并求和"
   ]
  },
  {
   "cell_type": "code",
   "execution_count": 47,
   "metadata": {},
   "outputs": [
    {
     "name": "stdout",
     "output_type": "stream",
     "text": [
      "key key     AAA\n",
      "data     15\n",
      "dtype: object\n",
      "data key     AAA\n",
      "data     15\n",
      "dtype: object\n"
     ]
    }
   ],
   "source": [
    "# 用 python 来实现\n",
    "\n",
    "# for key in ['A','B','C']:                             #  for key in ['A','B','C']:\n",
    "#     print(key,df[df['key'] == key].sum())\n",
    "\n",
    "\n",
    "\n",
    "\n",
    "for key in df:\n",
    "    print(key,df[df['key'] == 'A'].sum())"
   ]
  },
  {
   "cell_type": "code",
   "execution_count": 48,
   "metadata": {},
   "outputs": [
    {
     "data": {
      "text/html": [
       "<div>\n",
       "<style scoped>\n",
       "    .dataframe tbody tr th:only-of-type {\n",
       "        vertical-align: middle;\n",
       "    }\n",
       "\n",
       "    .dataframe tbody tr th {\n",
       "        vertical-align: top;\n",
       "    }\n",
       "\n",
       "    .dataframe thead th {\n",
       "        text-align: right;\n",
       "    }\n",
       "</style>\n",
       "<table border=\"1\" class=\"dataframe\">\n",
       "  <thead>\n",
       "    <tr style=\"text-align: right;\">\n",
       "      <th></th>\n",
       "      <th>data</th>\n",
       "    </tr>\n",
       "    <tr>\n",
       "      <th>key</th>\n",
       "      <th></th>\n",
       "    </tr>\n",
       "  </thead>\n",
       "  <tbody>\n",
       "    <tr>\n",
       "      <th>A</th>\n",
       "      <td>15</td>\n",
       "    </tr>\n",
       "    <tr>\n",
       "      <th>B</th>\n",
       "      <td>30</td>\n",
       "    </tr>\n",
       "    <tr>\n",
       "      <th>C</th>\n",
       "      <td>45</td>\n",
       "    </tr>\n",
       "  </tbody>\n",
       "</table>\n",
       "</div>"
      ],
      "text/plain": [
       "     data\n",
       "key      \n",
       "A      15\n",
       "B      30\n",
       "C      45"
      ]
     },
     "execution_count": 48,
     "metadata": {},
     "output_type": "execute_result"
    }
   ],
   "source": [
    "# groupby 函数进行分组\n",
    "df.groupby('key').sum()"
   ]
  },
  {
   "cell_type": "code",
   "execution_count": 51,
   "metadata": {},
   "outputs": [
    {
     "data": {
      "text/html": [
       "<div>\n",
       "<style scoped>\n",
       "    .dataframe tbody tr th:only-of-type {\n",
       "        vertical-align: middle;\n",
       "    }\n",
       "\n",
       "    .dataframe tbody tr th {\n",
       "        vertical-align: top;\n",
       "    }\n",
       "\n",
       "    .dataframe thead th {\n",
       "        text-align: right;\n",
       "    }\n",
       "</style>\n",
       "<table border=\"1\" class=\"dataframe\">\n",
       "  <thead>\n",
       "    <tr style=\"text-align: right;\">\n",
       "      <th></th>\n",
       "      <th>data</th>\n",
       "    </tr>\n",
       "    <tr>\n",
       "      <th>key</th>\n",
       "      <th></th>\n",
       "    </tr>\n",
       "  </thead>\n",
       "  <tbody>\n",
       "    <tr>\n",
       "      <th>A</th>\n",
       "      <td>5</td>\n",
       "    </tr>\n",
       "    <tr>\n",
       "      <th>B</th>\n",
       "      <td>10</td>\n",
       "    </tr>\n",
       "    <tr>\n",
       "      <th>C</th>\n",
       "      <td>15</td>\n",
       "    </tr>\n",
       "  </tbody>\n",
       "</table>\n",
       "</div>"
      ],
      "text/plain": [
       "     data\n",
       "key      \n",
       "A       5\n",
       "B      10\n",
       "C      15"
      ]
     },
     "execution_count": 51,
     "metadata": {},
     "output_type": "execute_result"
    }
   ],
   "source": [
    "import numpy as np\n",
    "  \n",
    "    # 传进来一个变换的方法，aggregate（） ，求平均值mean\n",
    "df.groupby('key').aggregate(np.mean)"
   ]
  },
  {
   "cell_type": "code",
   "execution_count": 54,
   "metadata": {},
   "outputs": [],
   "source": [
    "# df.groupby('sex')['age'].mean()      先按照性别分类，再按照年龄求平均值"
   ]
  },
  {
   "cell_type": "code",
   "execution_count": null,
   "metadata": {},
   "outputs": [],
   "source": [
    "# df.groupby('sex')['surived'].mean()      按照性别统计获救的可能性"
   ]
  },
  {
   "cell_type": "markdown",
   "metadata": {},
   "source": [
    "# 5 -  数值运算"
   ]
  },
  {
   "cell_type": "code",
   "execution_count": 55,
   "metadata": {},
   "outputs": [
    {
     "data": {
      "text/html": [
       "<div>\n",
       "<style scoped>\n",
       "    .dataframe tbody tr th:only-of-type {\n",
       "        vertical-align: middle;\n",
       "    }\n",
       "\n",
       "    .dataframe tbody tr th {\n",
       "        vertical-align: top;\n",
       "    }\n",
       "\n",
       "    .dataframe thead th {\n",
       "        text-align: right;\n",
       "    }\n",
       "</style>\n",
       "<table border=\"1\" class=\"dataframe\">\n",
       "  <thead>\n",
       "    <tr style=\"text-align: right;\">\n",
       "      <th></th>\n",
       "      <th>A</th>\n",
       "      <th>B</th>\n",
       "      <th>C</th>\n",
       "    </tr>\n",
       "  </thead>\n",
       "  <tbody>\n",
       "    <tr>\n",
       "      <th>a</th>\n",
       "      <td>1</td>\n",
       "      <td>2</td>\n",
       "      <td>3</td>\n",
       "    </tr>\n",
       "    <tr>\n",
       "      <th>b</th>\n",
       "      <td>4</td>\n",
       "      <td>5</td>\n",
       "      <td>6</td>\n",
       "    </tr>\n",
       "  </tbody>\n",
       "</table>\n",
       "</div>"
      ],
      "text/plain": [
       "   A  B  C\n",
       "a  1  2  3\n",
       "b  4  5  6"
      ]
     },
     "execution_count": 55,
     "metadata": {},
     "output_type": "execute_result"
    }
   ],
   "source": [
    "import pandas as pd \n",
    "\n",
    "# 自己创建一个dataFrame结构，二维的数组含有两个样本，三个特征，索引和列名重新自己指定\n",
    "\n",
    "df = pd.DataFrame([[1,2,3],[4,5,6]],index = ['a','b'],columns = ['A','B','C'])\n",
    "df"
   ]
  },
  {
   "cell_type": "code",
   "execution_count": 56,
   "metadata": {},
   "outputs": [
    {
     "data": {
      "text/plain": [
       "A    5\n",
       "B    7\n",
       "C    9\n",
       "dtype: int64"
      ]
     },
     "execution_count": 56,
     "metadata": {},
     "output_type": "execute_result"
    }
   ],
   "source": [
    "df.sum()                 # 默认的求和方式是按照竖着求和，即按列进行求和"
   ]
  },
  {
   "cell_type": "code",
   "execution_count": 58,
   "metadata": {},
   "outputs": [
    {
     "data": {
      "text/plain": [
       "a     6\n",
       "b    15\n",
       "dtype: int64"
      ]
     },
     "execution_count": 58,
     "metadata": {},
     "output_type": "execute_result"
    }
   ],
   "source": [
    "df.sum(axis = 1)          # 指定好维度就可以横着求和了"
   ]
  },
  {
   "cell_type": "code",
   "execution_count": 59,
   "metadata": {},
   "outputs": [
    {
     "data": {
      "text/plain": [
       "a     6\n",
       "b    15\n",
       "dtype: int64"
      ]
     },
     "execution_count": 59,
     "metadata": {},
     "output_type": "execute_result"
    }
   ],
   "source": [
    "df.sum(axis = 'columns')            # 也可以直接指定列名"
   ]
  },
  {
   "cell_type": "markdown",
   "metadata": {},
   "source": [
    "#  二元统计"
   ]
  },
  {
   "cell_type": "code",
   "execution_count": 60,
   "metadata": {},
   "outputs": [],
   "source": [
    "df = pd.read_csv('./data/test.csv')"
   ]
  },
  {
   "cell_type": "code",
   "execution_count": 61,
   "metadata": {},
   "outputs": [
    {
     "data": {
      "text/html": [
       "<div>\n",
       "<style scoped>\n",
       "    .dataframe tbody tr th:only-of-type {\n",
       "        vertical-align: middle;\n",
       "    }\n",
       "\n",
       "    .dataframe tbody tr th {\n",
       "        vertical-align: top;\n",
       "    }\n",
       "\n",
       "    .dataframe thead th {\n",
       "        text-align: right;\n",
       "    }\n",
       "</style>\n",
       "<table border=\"1\" class=\"dataframe\">\n",
       "  <thead>\n",
       "    <tr style=\"text-align: right;\">\n",
       "      <th></th>\n",
       "      <th>Entry</th>\n",
       "      <th>Entry name</th>\n",
       "      <th>Protein names</th>\n",
       "      <th>Gene names</th>\n",
       "      <th>Length</th>\n",
       "      <th>Mass</th>\n",
       "    </tr>\n",
       "  </thead>\n",
       "  <tbody>\n",
       "    <tr>\n",
       "      <th>0</th>\n",
       "      <td>A0A584</td>\n",
       "      <td>TVBK2_HUMAN</td>\n",
       "      <td>T cell receptor beta variable 11-2</td>\n",
       "      <td>TRBV11-2 TCRBV21S3A2N2T</td>\n",
       "      <td>115</td>\n",
       "      <td>12,743</td>\n",
       "    </tr>\n",
       "    <tr>\n",
       "      <th>1</th>\n",
       "      <td>Q9BXU3</td>\n",
       "      <td>TX13A_HUMAN</td>\n",
       "      <td>Testis-expressed protein 13A</td>\n",
       "      <td>TEX13A</td>\n",
       "      <td>409</td>\n",
       "      <td>45,583</td>\n",
       "    </tr>\n",
       "    <tr>\n",
       "      <th>2</th>\n",
       "      <td>Q15031</td>\n",
       "      <td>SYLM_HUMAN</td>\n",
       "      <td>Probable leucine--tRNA ligase, mitochondrial (...</td>\n",
       "      <td>LARS2 KIAA0028</td>\n",
       "      <td>903</td>\n",
       "      <td>101,976</td>\n",
       "    </tr>\n",
       "    <tr>\n",
       "      <th>3</th>\n",
       "      <td>Q6PKC3</td>\n",
       "      <td>TXD11_HUMAN</td>\n",
       "      <td>Thioredoxin domain-containing protein 11 (EF-h...</td>\n",
       "      <td>TXNDC11 EFP1</td>\n",
       "      <td>985</td>\n",
       "      <td>110,529</td>\n",
       "    </tr>\n",
       "    <tr>\n",
       "      <th>4</th>\n",
       "      <td>P42681</td>\n",
       "      <td>TXK_HUMAN</td>\n",
       "      <td>Tyrosine-protein kinase TXK (EC 2.7.10.2) (Pro...</td>\n",
       "      <td>TXK PTK4 RLK</td>\n",
       "      <td>527</td>\n",
       "      <td>61,258</td>\n",
       "    </tr>\n",
       "  </tbody>\n",
       "</table>\n",
       "</div>"
      ],
      "text/plain": [
       "    Entry   Entry name                                      Protein names  \\\n",
       "0  A0A584  TVBK2_HUMAN                 T cell receptor beta variable 11-2   \n",
       "1  Q9BXU3  TX13A_HUMAN                       Testis-expressed protein 13A   \n",
       "2  Q15031   SYLM_HUMAN  Probable leucine--tRNA ligase, mitochondrial (...   \n",
       "3  Q6PKC3  TXD11_HUMAN  Thioredoxin domain-containing protein 11 (EF-h...   \n",
       "4  P42681    TXK_HUMAN  Tyrosine-protein kinase TXK (EC 2.7.10.2) (Pro...   \n",
       "\n",
       "                Gene names  Length     Mass  \n",
       "0  TRBV11-2 TCRBV21S3A2N2T     115   12,743  \n",
       "1                   TEX13A     409   45,583  \n",
       "2           LARS2 KIAA0028     903  101,976  \n",
       "3             TXNDC11 EFP1     985  110,529  \n",
       "4             TXK PTK4 RLK     527   61,258  "
      ]
     },
     "execution_count": 61,
     "metadata": {},
     "output_type": "execute_result"
    }
   ],
   "source": [
    "df.head()"
   ]
  },
  {
   "cell_type": "code",
   "execution_count": 62,
   "metadata": {},
   "outputs": [
    {
     "data": {
      "text/html": [
       "<div>\n",
       "<style scoped>\n",
       "    .dataframe tbody tr th:only-of-type {\n",
       "        vertical-align: middle;\n",
       "    }\n",
       "\n",
       "    .dataframe tbody tr th {\n",
       "        vertical-align: top;\n",
       "    }\n",
       "\n",
       "    .dataframe thead th {\n",
       "        text-align: right;\n",
       "    }\n",
       "</style>\n",
       "<table border=\"1\" class=\"dataframe\">\n",
       "  <thead>\n",
       "    <tr style=\"text-align: right;\">\n",
       "      <th></th>\n",
       "      <th>Length</th>\n",
       "    </tr>\n",
       "  </thead>\n",
       "  <tbody>\n",
       "    <tr>\n",
       "      <th>Length</th>\n",
       "      <td>355020.509143</td>\n",
       "    </tr>\n",
       "  </tbody>\n",
       "</table>\n",
       "</div>"
      ],
      "text/plain": [
       "               Length\n",
       "Length  355020.509143"
      ]
     },
     "execution_count": 62,
     "metadata": {},
     "output_type": "execute_result"
    }
   ],
   "source": [
    "df.cov()                         # 求协方差 函数cov(),相关系数"
   ]
  },
  {
   "cell_type": "code",
   "execution_count": 64,
   "metadata": {},
   "outputs": [
    {
     "data": {
      "text/html": [
       "<div>\n",
       "<style scoped>\n",
       "    .dataframe tbody tr th:only-of-type {\n",
       "        vertical-align: middle;\n",
       "    }\n",
       "\n",
       "    .dataframe tbody tr th {\n",
       "        vertical-align: top;\n",
       "    }\n",
       "\n",
       "    .dataframe thead th {\n",
       "        text-align: right;\n",
       "    }\n",
       "</style>\n",
       "<table border=\"1\" class=\"dataframe\">\n",
       "  <thead>\n",
       "    <tr style=\"text-align: right;\">\n",
       "      <th></th>\n",
       "      <th>Length</th>\n",
       "    </tr>\n",
       "  </thead>\n",
       "  <tbody>\n",
       "    <tr>\n",
       "      <th>Length</th>\n",
       "      <td>1.0</td>\n",
       "    </tr>\n",
       "  </tbody>\n",
       "</table>\n",
       "</div>"
      ],
      "text/plain": [
       "        Length\n",
       "Length     1.0"
      ]
     },
     "execution_count": 64,
     "metadata": {},
     "output_type": "execute_result"
    }
   ],
   "source": [
    "df.corr()                   # 求每一列的相关系数，在【-1,1】之间， 自己和自己的相关性为1"
   ]
  },
  {
   "cell_type": "code",
   "execution_count": 66,
   "metadata": {},
   "outputs": [
    {
     "data": {
      "text/plain": [
       "117     90\n",
       "312     84\n",
       "314     72\n",
       "309     62\n",
       "362     60\n",
       "115     59\n",
       "313     58\n",
       "311     56\n",
       "114     54\n",
       "315     52\n",
       "317     52\n",
       "365     51\n",
       "530     48\n",
       "310     47\n",
       "189     47\n",
       "323     46\n",
       "316     45\n",
       "318     45\n",
       "325     45\n",
       "118     44\n",
       "147     44\n",
       "350     44\n",
       "359     44\n",
       "346     44\n",
       "261     42\n",
       "205     42\n",
       "299     41\n",
       "201     41\n",
       "464     40\n",
       "351     40\n",
       "        ..\n",
       "4981     1\n",
       "3014     1\n",
       "3926     1\n",
       "2377     1\n",
       "2313     1\n",
       "2297     1\n",
       "2201     1\n",
       "2169     1\n",
       "2089     1\n",
       "40       1\n",
       "2057     1\n",
       "8        1\n",
       "2015     1\n",
       "1927     1\n",
       "1911     1\n",
       "1783     1\n",
       "3046     1\n",
       "1703     1\n",
       "1655     1\n",
       "1623     1\n",
       "1527     1\n",
       "1495     1\n",
       "3526     1\n",
       "1367     1\n",
       "1319     1\n",
       "1175     1\n",
       "3174     1\n",
       "1111     1\n",
       "3142     1\n",
       "4022     1\n",
       "Name: Length, Length: 2152, dtype: int64"
      ]
     },
     "execution_count": 66,
     "metadata": {},
     "output_type": "execute_result"
    }
   ],
   "source": [
    "#df['Age'].value_counts()         # 计算相同年龄的人有多少个,函数vulue.counts()\n",
    "df['Length'].value_counts()               # 此时排序很乱"
   ]
  },
  {
   "cell_type": "code",
   "execution_count": 75,
   "metadata": {},
   "outputs": [
    {
     "data": {
      "text/plain": [
       "(20610.8, 27480.4]        0\n",
       "(13741.2, 20610.8]        1\n",
       "(27480.4, 34350.0]        1\n",
       "(6871.6, 13741.2]         7\n",
       "(-32.349, 6871.6]     20412\n",
       "Name: Length, dtype: int64"
      ]
     },
     "execution_count": 75,
     "metadata": {},
     "output_type": "execute_result"
    }
   ],
   "source": [
    "# df['age'].value_counts(ascending = True)         可以指定按升序排列， 即 指定ascending  = True\n",
    "# df['Length'].value_counts(ascending = True) \n",
    "\n",
    "\n",
    "# df['Length'].value_counts(bins = 5)            \n",
    "\n",
    "# # (-32.349, 6871.6]     20412\n",
    "# # (6871.6, 13741.2]         7\n",
    "# # (27480.4, 34350.0]        1\n",
    "# # (13741.2, 20610.8]        1\n",
    "# # (20610.8, 27480.4]        0\n",
    "# # Name: Length, dtype: int64\n",
    "\n",
    "df['Length'].value_counts(ascending = True,bins = 5)     # bins = 5  进行分组的统计，\n"
   ]
  },
  {
   "cell_type": "markdown",
   "metadata": {},
   "source": [
    "# 6 - 对象操作"
   ]
  },
  {
   "cell_type": "markdown",
   "metadata": {},
   "source": [
    "Seies 结构的增删改查"
   ]
  },
  {
   "cell_type": "code",
   "execution_count": 78,
   "metadata": {},
   "outputs": [
    {
     "data": {
      "text/plain": [
       "a    10\n",
       "b    11\n",
       "c    12\n",
       "dtype: int64"
      ]
     },
     "execution_count": 78,
     "metadata": {},
     "output_type": "execute_result"
    }
   ],
   "source": [
    "import pandas as pd\n",
    "\n",
    "data = [10,11,12]\n",
    "index = ['a','b','c']\n",
    "\n",
    "s = pd.Series(data = data,index = index)\n",
    "s"
   ]
  },
  {
   "cell_type": "markdown",
   "metadata": {},
   "source": [
    "查操作     往里面传索引就可以了，或者是往里面传掩码"
   ]
  },
  {
   "cell_type": "code",
   "execution_count": 79,
   "metadata": {},
   "outputs": [
    {
     "data": {
      "text/plain": [
       "10"
      ]
     },
     "execution_count": 79,
     "metadata": {},
     "output_type": "execute_result"
    }
   ],
   "source": [
    "s[0]"
   ]
  },
  {
   "cell_type": "code",
   "execution_count": 80,
   "metadata": {},
   "outputs": [
    {
     "data": {
      "text/plain": [
       "a    10\n",
       "b    11\n",
       "dtype: int64"
      ]
     },
     "execution_count": 80,
     "metadata": {},
     "output_type": "execute_result"
    }
   ],
   "source": [
    "s[0:2]"
   ]
  },
  {
   "cell_type": "code",
   "execution_count": 81,
   "metadata": {},
   "outputs": [
    {
     "data": {
      "text/plain": [
       "a    10\n",
       "c    12\n",
       "dtype: int64"
      ]
     },
     "execution_count": 81,
     "metadata": {},
     "output_type": "execute_result"
    }
   ],
   "source": [
    "mask = [True,False,True]           #往里面传掩码\n",
    "s[mask]"
   ]
  },
  {
   "cell_type": "code",
   "execution_count": 82,
   "metadata": {},
   "outputs": [
    {
     "data": {
      "text/plain": [
       "11"
      ]
     },
     "execution_count": 82,
     "metadata": {},
     "output_type": "execute_result"
    }
   ],
   "source": [
    "s.loc['b']                   # loc[] 是往里面传非数值的索引"
   ]
  },
  {
   "cell_type": "code",
   "execution_count": 83,
   "metadata": {},
   "outputs": [
    {
     "data": {
      "text/plain": [
       "11"
      ]
     },
     "execution_count": 83,
     "metadata": {},
     "output_type": "execute_result"
    }
   ],
   "source": [
    "s.iloc[1]                  # 往里面传数值的索引"
   ]
  },
  {
   "cell_type": "markdown",
   "metadata": {},
   "source": [
    "改操作"
   ]
  },
  {
   "cell_type": "code",
   "execution_count": 115,
   "metadata": {},
   "outputs": [
    {
     "data": {
      "text/plain": [
       "a    100\n",
       "b     11\n",
       "c     12\n",
       "dtype: int64"
      ]
     },
     "execution_count": 115,
     "metadata": {},
     "output_type": "execute_result"
    }
   ],
   "source": [
    "s1 = s.copy()\n",
    "s1['a'] = 100                    # 避免改了原有的数据，要先进行复制，在对新的数据进行替换\n",
    "s1"
   ]
  },
  {
   "cell_type": "code",
   "execution_count": 116,
   "metadata": {},
   "outputs": [
    {
     "data": {
      "text/plain": [
       "a    10\n",
       "b    11\n",
       "c    12\n",
       "dtype: int64"
      ]
     },
     "execution_count": 116,
     "metadata": {},
     "output_type": "execute_result"
    }
   ],
   "source": [
    "s"
   ]
  },
  {
   "cell_type": "code",
   "execution_count": 117,
   "metadata": {},
   "outputs": [
    {
     "data": {
      "text/plain": [
       "a    101\n",
       "b     11\n",
       "c     12\n",
       "dtype: int64"
      ]
     },
     "execution_count": 117,
     "metadata": {},
     "output_type": "execute_result"
    }
   ],
   "source": [
    "s1.replace(to_replace = 100,value = 101,inplace = True)            # 当数据中有异常值时 可以进行替换\n",
    "s1"
   ]
  },
  {
   "cell_type": "code",
   "execution_count": 118,
   "metadata": {},
   "outputs": [
    {
     "data": {
      "text/plain": [
       "Index(['a', 'b', 'c'], dtype='object')"
      ]
     },
     "execution_count": 118,
     "metadata": {},
     "output_type": "execute_result"
    }
   ],
   "source": [
    "s1.index"
   ]
  },
  {
   "cell_type": "code",
   "execution_count": 119,
   "metadata": {},
   "outputs": [],
   "source": [
    "s1.rename(index = {'a':'A'},inplace = True)                          # 进行索引的重命名：s1.rename(index = {'a':'A'}),可以没有,inplace = True"
   ]
  },
  {
   "cell_type": "markdown",
   "metadata": {},
   "source": [
    "增操作"
   ]
  },
  {
   "cell_type": "code",
   "execution_count": 120,
   "metadata": {},
   "outputs": [
    {
     "data": {
      "text/plain": [
       "h    100\n",
       "k    110\n",
       "dtype: int64"
      ]
     },
     "execution_count": 120,
     "metadata": {},
     "output_type": "execute_result"
    }
   ],
   "source": [
    "data = [100,110]\n",
    "index = ['h','k']\n",
    "s2 = pd.Series(data = data,index = index)\n",
    "s2"
   ]
  },
  {
   "cell_type": "code",
   "execution_count": 121,
   "metadata": {},
   "outputs": [],
   "source": [
    "s3 = s1.append(s2)                        # append(s2)函数，默认在最后添加"
   ]
  },
  {
   "cell_type": "code",
   "execution_count": 122,
   "metadata": {},
   "outputs": [
    {
     "data": {
      "text/plain": [
       "A    101\n",
       "b     11\n",
       "c     12\n",
       "h    100\n",
       "k    110\n",
       "j    500\n",
       "dtype: int64"
      ]
     },
     "execution_count": 122,
     "metadata": {},
     "output_type": "execute_result"
    }
   ],
   "source": [
    "s3['j'] = 500                          # 也可以新加一个名字，指定一个值\n",
    "s3"
   ]
  },
  {
   "cell_type": "markdown",
   "metadata": {},
   "source": [
    "删操作"
   ]
  },
  {
   "cell_type": "code",
   "execution_count": 123,
   "metadata": {},
   "outputs": [
    {
     "data": {
      "text/plain": [
       "A    101\n",
       "b     11\n",
       "c     12\n",
       "dtype: int64"
      ]
     },
     "execution_count": 123,
     "metadata": {},
     "output_type": "execute_result"
    }
   ],
   "source": [
    "s1"
   ]
  },
  {
   "cell_type": "code",
   "execution_count": 124,
   "metadata": {},
   "outputs": [
    {
     "data": {
      "text/plain": [
       "b    11\n",
       "c    12\n",
       "dtype: int64"
      ]
     },
     "execution_count": 124,
     "metadata": {},
     "output_type": "execute_result"
    }
   ],
   "source": [
    "del s1['A']\n",
    "s1"
   ]
  },
  {
   "cell_type": "code",
   "execution_count": 131,
   "metadata": {},
   "outputs": [
    {
     "data": {
      "text/plain": [
       "c    12\n",
       "dtype: int64"
      ]
     },
     "execution_count": 131,
     "metadata": {},
     "output_type": "execute_result"
    }
   ],
   "source": [
    "# s1['b'] = 100\n",
    "\n",
    "s1.drop(['b'],inplace = True)        # 此时如果没有inplace = True 就不会进行删除\n",
    "s1"
   ]
  },
  {
   "cell_type": "code",
   "execution_count": null,
   "metadata": {},
   "outputs": [],
   "source": [
    "DataFrame 结构的增删改查与之很类似，未完待续"
   ]
  },
  {
   "cell_type": "code",
   "execution_count": null,
   "metadata": {},
   "outputs": [],
   "source": []
  }
 ],
 "metadata": {
  "kernelspec": {
   "display_name": "Python 3 (ipykernel)",
   "language": "python",
   "name": "python3"
  },
  "language_info": {
   "codemirror_mode": {
    "name": "ipython",
    "version": 3
   },
   "file_extension": ".py",
   "mimetype": "text/x-python",
   "name": "python",
   "nbconvert_exporter": "python",
   "pygments_lexer": "ipython3",
   "version": "3.9.13"
  },
  "pycharm": {
   "stem_cell": {
    "cell_type": "raw",
    "metadata": {
     "collapsed": false
    },
    "source": []
   }
  }
 },
 "nbformat": 4,
 "nbformat_minor": 2
}
