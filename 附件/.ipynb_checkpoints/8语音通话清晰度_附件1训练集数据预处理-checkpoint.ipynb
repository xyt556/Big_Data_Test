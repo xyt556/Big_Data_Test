{
 "cells": [
  {
   "cell_type": "code",
   "execution_count": 1,
   "id": "0edc1f24",
   "metadata": {
    "scrolled": true
   },
   "outputs": [
    {
     "name": "stdout",
     "output_type": "stream",
     "text": [
      "用户id                    0\n",
      "语音通话整体满意度               0\n",
      "网络覆盖与信号强度               0\n",
      "语音通话清晰度                 0\n",
      "语音通话稳定性                 0\n",
      "是否遇到过网络问题               0\n",
      "居民小区                    0\n",
      "办公室                     0\n",
      "高校                      0\n",
      "商业街                     0\n",
      "地铁                      0\n",
      "农村                      0\n",
      "高铁                      0\n",
      "其他，请注明                  0\n",
      "用户描述                 5158\n",
      "手机没有信号                  0\n",
      "有信号无法拨通                 0\n",
      "通话过程中突然中断               0\n",
      "通话中有杂音、听不清、断断续续         0\n",
      "串线                      0\n",
      "通话过程中一方听不见              0\n",
      "其他，请注明.1                0\n",
      "用户描述.1               5324\n",
      "脱网次数                    0\n",
      "mos质差次数                 0\n",
      "未接通掉话次数                 0\n",
      "重定向次数                4260\n",
      "重定向驻留时长              4260\n",
      "家宽投诉                    0\n",
      "资费投诉                    0\n",
      "4\\5G用户                  0\n",
      "语音方式                    0\n",
      "是否关怀用户               5233\n",
      "是否去过营业厅              2971\n",
      "ARPU（家庭宽带）              0\n",
      "套外流量（MB）                0\n",
      "是否4G网络客户（本地剔除物联网）       5\n",
      "套外流量费（元）                0\n",
      "外省语音占比                  0\n",
      "语音通话-时长（分钟）             0\n",
      "省际漫游-时长（分钟）             0\n",
      "终端品牌                    4\n",
      "终端品牌类型                  5\n",
      "当月ARPU                  0\n",
      "当月MOU                   0\n",
      "前3月ARPU                 0\n",
      "前3月MOU                  0\n",
      "外省流量占比                  2\n",
      "GPRS总流量（KB）             0\n",
      "GPRS-国内漫游-流量（KB）        0\n",
      "是否5G网络客户                5\n",
      "是否实名登记用户                5\n",
      "客户星级标识                  5\n",
      "当月欠费金额                  5\n",
      "前第3个月欠费金额               5\n",
      "dtype: int64\n",
      "0\n",
      "(5433, 55)\n",
      "['用户id', '语音通话整体满意度', '网络覆盖与信号强度', '语音通话清晰度', '语音通话稳定性', '是否遇到过网络问题', '居民小区', '办公室', '高校', '商业街', '地铁', '农村', '高铁', '其他，请注明', '用户描述', '手机没有信号', '有信号无法拨通', '通话过程中突然中断', '通话中有杂音、听不清、断断续续', '串线', '通话过程中一方听不见', '其他，请注明.1', '用户描述.1', '脱网次数', 'mos质差次数', '未接通掉话次数', '重定向次数', '重定向驻留时长', '家宽投诉', '资费投诉', '4\\\\5G用户', '语音方式', '是否关怀用户', '是否去过营业厅', 'ARPU（家庭宽带）', '套外流量（MB）', '是否4G网络客户（本地剔除物联网）', '套外流量费（元）', '外省语音占比', '语音通话-时长（分钟）', '省际漫游-时长（分钟）', '终端品牌', '终端品牌类型', '当月ARPU', '当月MOU', '前3月ARPU', '前3月MOU', '外省流量占比', 'GPRS总流量（KB）', 'GPRS-国内漫游-流量（KB）', '是否5G网络客户', '是否实名登记用户', '客户星级标识', '当月欠费金额', '前第3个月欠费金额']\n"
     ]
    }
   ],
   "source": [
    "import numpy as np\n",
    "import pandas as pd\n",
    "import matplotlib.pyplot as plt\n",
    "import scipy.interpolate as interpolate\n",
    "io = r'附件1语音业务用户满意度数据.xlsx'\n",
    "\n",
    "data = pd.read_excel(io,header = [0],sheet_name = 'Sheet1')\n",
    "data.head()\n",
    "print(data.isnull().sum())\n",
    "print(data.duplicated().sum())\n",
    "print(data.shape)\n",
    "print([column for column in data])"
   ]
  },
  {
   "cell_type": "code",
   "execution_count": 2,
   "id": "90385e55",
   "metadata": {},
   "outputs": [],
   "source": [
    "a=data.isnull().sum()\n",
    "a = pd.DataFrame(a)\n",
    "a.to_excel('附件一训练集集空值.xlsx', sheet_name='Sheet1',header=None)"
   ]
  },
  {
   "cell_type": "code",
   "execution_count": 3,
   "id": "366c2558",
   "metadata": {},
   "outputs": [],
   "source": [
    "data=data.dropna(axis=0,subset = ['终端品牌','终端品牌类型','是否4G网络客户（本地剔除物联网）','外省流量占比',\"是否5G网络客户\",\"是否实名登记用户\",'客户星级标识','当月欠费金额','前第3个月欠费金额']) \n"
   ]
  },
  {
   "cell_type": "markdown",
   "id": "28cdc888",
   "metadata": {},
   "source": [
    "# 将是否转化为10"
   ]
  },
  {
   "cell_type": "code",
   "execution_count": 4,
   "id": "c54c085a",
   "metadata": {},
   "outputs": [],
   "source": [
    "from sklearn.preprocessing import LabelEncoder\n",
    "y= data.iloc[:,-4]"
   ]
  },
  {
   "cell_type": "code",
   "execution_count": 5,
   "id": "6d3c07c4",
   "metadata": {},
   "outputs": [],
   "source": [
    "le=LabelEncoder()\n",
    "le=le.fit(y)\n",
    "label=le.transform(y)"
   ]
  },
  {
   "cell_type": "code",
   "execution_count": 6,
   "id": "58bffa11",
   "metadata": {},
   "outputs": [
    {
     "data": {
      "text/plain": [
       "array([0, 1, 0, ..., 0, 0, 0])"
      ]
     },
     "execution_count": 6,
     "metadata": {},
     "output_type": "execute_result"
    }
   ],
   "source": [
    "label"
   ]
  },
  {
   "cell_type": "code",
   "execution_count": 7,
   "id": "efa002db",
   "metadata": {},
   "outputs": [
    {
     "data": {
      "text/plain": [
       "array(['否', '是'], dtype=object)"
      ]
     },
     "execution_count": 7,
     "metadata": {},
     "output_type": "execute_result"
    }
   ],
   "source": [
    "le.classes_"
   ]
  },
  {
   "cell_type": "code",
   "execution_count": 8,
   "id": "f553bb03",
   "metadata": {
    "scrolled": true
   },
   "outputs": [
    {
     "name": "stderr",
     "output_type": "stream",
     "text": [
      "C:\\Users\\白小帅\\AppData\\Local\\Temp\\ipykernel_24876\\710823335.py:1: FutureWarning: In a future version, `df.iloc[:, i] = newvals` will attempt to set the values inplace instead of always setting a new array. To retain the old behavior, use either `df[df.columns[i]] = newvals` or, if columns are non-unique, `df.isetitem(i, newvals)`\n",
      "  data.iloc[:,-4]=label\n"
     ]
    }
   ],
   "source": [
    "data.iloc[:,-4]=label"
   ]
  },
  {
   "cell_type": "markdown",
   "id": "0b1b9d20",
   "metadata": {},
   "source": [
    "# 空值用零填充"
   ]
  },
  {
   "cell_type": "code",
   "execution_count": 9,
   "id": "181a04f2",
   "metadata": {
    "scrolled": true
   },
   "outputs": [],
   "source": [
    "data.loc[:,('重定向驻留时长','重定向次数','是否关怀用户','是否去过营业厅')]=data.loc[:,('重定向驻留时长','重定向次数','是否关怀用户','是否去过营业厅')].fillna(0)"
   ]
  },
  {
   "cell_type": "markdown",
   "id": "22c9d0ce",
   "metadata": {},
   "source": [
    "# 将是改为1"
   ]
  },
  {
   "cell_type": "code",
   "execution_count": 10,
   "id": "945480d3",
   "metadata": {},
   "outputs": [],
   "source": [
    "d=data.loc[:,\"是否去过营业厅\"]"
   ]
  },
  {
   "cell_type": "code",
   "execution_count": 11,
   "id": "9489db91",
   "metadata": {},
   "outputs": [
    {
     "name": "stderr",
     "output_type": "stream",
     "text": [
      "C:\\Users\\白小帅\\AppData\\Local\\Temp\\ipykernel_24876\\1323618043.py:3: SettingWithCopyWarning: \n",
      "A value is trying to be set on a copy of a slice from a DataFrame\n",
      "\n",
      "See the caveats in the documentation: https://pandas.pydata.org/pandas-docs/stable/user_guide/indexing.html#returning-a-view-versus-a-copy\n",
      "  d.iloc[i]=1\n"
     ]
    }
   ],
   "source": [
    "for i in range(5426):\n",
    "    if d.iloc[i]=='是':\n",
    "        d.iloc[i]=1"
   ]
  },
  {
   "cell_type": "code",
   "execution_count": 12,
   "id": "039ec229",
   "metadata": {},
   "outputs": [],
   "source": [
    "d=data.loc[:,\"是否关怀用户\"]"
   ]
  },
  {
   "cell_type": "code",
   "execution_count": 13,
   "id": "1bc0c4c4",
   "metadata": {},
   "outputs": [
    {
     "name": "stderr",
     "output_type": "stream",
     "text": [
      "C:\\Users\\白小帅\\AppData\\Local\\Temp\\ipykernel_24876\\1323618043.py:3: SettingWithCopyWarning: \n",
      "A value is trying to be set on a copy of a slice from a DataFrame\n",
      "\n",
      "See the caveats in the documentation: https://pandas.pydata.org/pandas-docs/stable/user_guide/indexing.html#returning-a-view-versus-a-copy\n",
      "  d.iloc[i]=1\n"
     ]
    }
   ],
   "source": [
    "for i in range(5426):\n",
    "    if d.iloc[i]=='是':\n",
    "        d.iloc[i]=1"
   ]
  },
  {
   "cell_type": "markdown",
   "id": "4c4c4b5b",
   "metadata": {},
   "source": [
    "# 删除大量缺失数据"
   ]
  },
  {
   "cell_type": "code",
   "execution_count": 14,
   "id": "e5bb2131",
   "metadata": {},
   "outputs": [],
   "source": [
    "data=data.drop(['其他，请注明.1', '其他，请注明','用户描述','用户描述.1'], axis=1)"
   ]
  },
  {
   "cell_type": "code",
   "execution_count": 15,
   "id": "83e07e56",
   "metadata": {},
   "outputs": [
    {
     "name": "stdout",
     "output_type": "stream",
     "text": [
      "用户id                 0\n",
      "语音通话整体满意度            0\n",
      "网络覆盖与信号强度            0\n",
      "语音通话清晰度              0\n",
      "语音通话稳定性              0\n",
      "是否遇到过网络问题            0\n",
      "居民小区                 0\n",
      "办公室                  0\n",
      "高校                   0\n",
      "商业街                  0\n",
      "地铁                   0\n",
      "农村                   0\n",
      "高铁                   0\n",
      "手机没有信号               0\n",
      "有信号无法拨通              0\n",
      "通话过程中突然中断            0\n",
      "通话中有杂音、听不清、断断续续      0\n",
      "串线                   0\n",
      "通话过程中一方听不见           0\n",
      "脱网次数                 0\n",
      "mos质差次数              0\n",
      "未接通掉话次数              0\n",
      "重定向次数                0\n",
      "重定向驻留时长              0\n",
      "家宽投诉                 0\n",
      "资费投诉                 0\n",
      "4\\5G用户               0\n",
      "语音方式                 0\n",
      "是否关怀用户               0\n",
      "是否去过营业厅              0\n",
      "ARPU（家庭宽带）           0\n",
      "套外流量（MB）             0\n",
      "是否4G网络客户（本地剔除物联网）    0\n",
      "套外流量费（元）             0\n",
      "外省语音占比               0\n",
      "语音通话-时长（分钟）          0\n",
      "省际漫游-时长（分钟）          0\n",
      "终端品牌                 0\n",
      "终端品牌类型               0\n",
      "当月ARPU               0\n",
      "当月MOU                0\n",
      "前3月ARPU              0\n",
      "前3月MOU               0\n",
      "外省流量占比               0\n",
      "GPRS总流量（KB）          0\n",
      "GPRS-国内漫游-流量（KB）     0\n",
      "是否5G网络客户             0\n",
      "是否实名登记用户             0\n",
      "客户星级标识               0\n",
      "当月欠费金额               0\n",
      "前第3个月欠费金额            0\n",
      "dtype: int64\n",
      "0\n",
      "(5426, 51)\n"
     ]
    }
   ],
   "source": [
    "print(data.isnull().sum())\n",
    "print(data.duplicated().sum())\n",
    "print(data.shape)"
   ]
  },
  {
   "cell_type": "markdown",
   "id": "08a05297",
   "metadata": {},
   "source": [
    "# 是否转化为10"
   ]
  },
  {
   "cell_type": "code",
   "execution_count": 16,
   "id": "070ec0fb",
   "metadata": {},
   "outputs": [],
   "source": [
    "y= data.iloc[:,-5]\n",
    "le=LabelEncoder()\n",
    "le=le.fit(y)\n",
    "label=le.transform(y)\n"
   ]
  },
  {
   "cell_type": "code",
   "execution_count": 17,
   "id": "e5e16666",
   "metadata": {},
   "outputs": [
    {
     "name": "stderr",
     "output_type": "stream",
     "text": [
      "C:\\Users\\白小帅\\AppData\\Local\\Temp\\ipykernel_24876\\1491447938.py:1: FutureWarning: In a future version, `df.iloc[:, i] = newvals` will attempt to set the values inplace instead of always setting a new array. To retain the old behavior, use either `df[df.columns[i]] = newvals` or, if columns are non-unique, `df.isetitem(i, newvals)`\n",
      "  data.iloc[:,-5]=label\n"
     ]
    }
   ],
   "source": [
    "data.iloc[:,-5]=label"
   ]
  },
  {
   "cell_type": "code",
   "execution_count": 18,
   "id": "ea1f80d8",
   "metadata": {},
   "outputs": [],
   "source": [
    "y= data.iloc[:,-19]\n",
    "le=LabelEncoder()\n",
    "le=le.fit(y)\n",
    "label=le.transform(y)\n"
   ]
  },
  {
   "cell_type": "code",
   "execution_count": 19,
   "id": "22d68034",
   "metadata": {},
   "outputs": [
    {
     "name": "stderr",
     "output_type": "stream",
     "text": [
      "C:\\Users\\白小帅\\AppData\\Local\\Temp\\ipykernel_24876\\1950809977.py:1: FutureWarning: In a future version, `df.iloc[:, i] = newvals` will attempt to set the values inplace instead of always setting a new array. To retain the old behavior, use either `df[df.columns[i]] = newvals` or, if columns are non-unique, `df.isetitem(i, newvals)`\n",
      "  data.iloc[:,-19]=label\n"
     ]
    }
   ],
   "source": [
    "data.iloc[:,-19]=label"
   ]
  },
  {
   "cell_type": "code",
   "execution_count": 20,
   "id": "d95f41de",
   "metadata": {},
   "outputs": [
    {
     "data": {
      "text/plain": [
       "numpy.int64"
      ]
     },
     "execution_count": 20,
     "metadata": {},
     "output_type": "execute_result"
    }
   ],
   "source": [
    "type(data.iloc[1,2])"
   ]
  },
  {
   "cell_type": "markdown",
   "id": "7d33fc1f",
   "metadata": {},
   "source": [
    "将终端品牌中的0转化为字符"
   ]
  },
  {
   "cell_type": "code",
   "execution_count": 21,
   "id": "16ae0308",
   "metadata": {},
   "outputs": [
    {
     "name": "stderr",
     "output_type": "stream",
     "text": [
      "C:\\Users\\白小帅\\AppData\\Local\\Temp\\ipykernel_24876\\3382044685.py:4: SettingWithCopyWarning: \n",
      "A value is trying to be set on a copy of a slice from a DataFrame\n",
      "\n",
      "See the caveats in the documentation: https://pandas.pydata.org/pandas-docs/stable/user_guide/indexing.html#returning-a-view-versus-a-copy\n",
      "  d.iloc[i]=str(d.iloc[i])\n"
     ]
    }
   ],
   "source": [
    "d=data.loc[:,'终端品牌']\n",
    "for i in range(5426):\n",
    "    if d.iloc[i]==0:\n",
    "        d.iloc[i]=str(d.iloc[i])"
   ]
  },
  {
   "cell_type": "code",
   "execution_count": 22,
   "id": "82b9f2e2",
   "metadata": {},
   "outputs": [
    {
     "name": "stderr",
     "output_type": "stream",
     "text": [
      "C:\\Users\\白小帅\\AppData\\Local\\Temp\\ipykernel_24876\\2897173046.py:3: SettingWithCopyWarning: \n",
      "A value is trying to be set on a copy of a slice from a DataFrame\n",
      "\n",
      "See the caveats in the documentation: https://pandas.pydata.org/pandas-docs/stable/user_guide/indexing.html#returning-a-view-versus-a-copy\n",
      "  d.iloc[i]=str(d.iloc[i])\n"
     ]
    }
   ],
   "source": [
    "d=data.loc[:,'终端品牌类型']\n",
    "for i in range(5426):\n",
    "    d.iloc[i]=str(d.iloc[i])"
   ]
  },
  {
   "cell_type": "code",
   "execution_count": 23,
   "id": "b63046e4",
   "metadata": {},
   "outputs": [
    {
     "name": "stderr",
     "output_type": "stream",
     "text": [
      "C:\\Users\\白小帅\\AppData\\Local\\Temp\\ipykernel_24876\\3313439004.py:2: FutureWarning: In a future version, `df.iloc[:, i] = newvals` will attempt to set the values inplace instead of always setting a new array. To retain the old behavior, use either `df[df.columns[i]] = newvals` or, if columns are non-unique, `df.isetitem(i, newvals)`\n",
      "  data.loc[:,['终端品牌']]=OrdinalEncoder().fit_transform(data.loc[:,['终端品牌']])\n"
     ]
    },
    {
     "data": {
      "text/html": [
       "<div>\n",
       "<style scoped>\n",
       "    .dataframe tbody tr th:only-of-type {\n",
       "        vertical-align: middle;\n",
       "    }\n",
       "\n",
       "    .dataframe tbody tr th {\n",
       "        vertical-align: top;\n",
       "    }\n",
       "\n",
       "    .dataframe thead th {\n",
       "        text-align: right;\n",
       "    }\n",
       "</style>\n",
       "<table border=\"1\" class=\"dataframe\">\n",
       "  <thead>\n",
       "    <tr style=\"text-align: right;\">\n",
       "      <th></th>\n",
       "      <th>终端品牌</th>\n",
       "    </tr>\n",
       "  </thead>\n",
       "  <tbody>\n",
       "    <tr>\n",
       "      <th>0</th>\n",
       "      <td>22.0</td>\n",
       "    </tr>\n",
       "    <tr>\n",
       "      <th>1</th>\n",
       "      <td>11.0</td>\n",
       "    </tr>\n",
       "    <tr>\n",
       "      <th>2</th>\n",
       "      <td>11.0</td>\n",
       "    </tr>\n",
       "    <tr>\n",
       "      <th>3</th>\n",
       "      <td>22.0</td>\n",
       "    </tr>\n",
       "    <tr>\n",
       "      <th>4</th>\n",
       "      <td>22.0</td>\n",
       "    </tr>\n",
       "    <tr>\n",
       "      <th>...</th>\n",
       "      <td>...</td>\n",
       "    </tr>\n",
       "    <tr>\n",
       "      <th>5428</th>\n",
       "      <td>22.0</td>\n",
       "    </tr>\n",
       "    <tr>\n",
       "      <th>5429</th>\n",
       "      <td>22.0</td>\n",
       "    </tr>\n",
       "    <tr>\n",
       "      <th>5430</th>\n",
       "      <td>11.0</td>\n",
       "    </tr>\n",
       "    <tr>\n",
       "      <th>5431</th>\n",
       "      <td>14.0</td>\n",
       "    </tr>\n",
       "    <tr>\n",
       "      <th>5432</th>\n",
       "      <td>22.0</td>\n",
       "    </tr>\n",
       "  </tbody>\n",
       "</table>\n",
       "<p>5426 rows × 1 columns</p>\n",
       "</div>"
      ],
      "text/plain": [
       "      终端品牌\n",
       "0     22.0\n",
       "1     11.0\n",
       "2     11.0\n",
       "3     22.0\n",
       "4     22.0\n",
       "...    ...\n",
       "5428  22.0\n",
       "5429  22.0\n",
       "5430  11.0\n",
       "5431  14.0\n",
       "5432  22.0\n",
       "\n",
       "[5426 rows x 1 columns]"
      ]
     },
     "execution_count": 23,
     "metadata": {},
     "output_type": "execute_result"
    }
   ],
   "source": [
    "from sklearn.preprocessing import OrdinalEncoder\n",
    "data.loc[:,['终端品牌']]=OrdinalEncoder().fit_transform(data.loc[:,['终端品牌']])\n",
    "data.loc[:,['终端品牌']]"
   ]
  },
  {
   "cell_type": "code",
   "execution_count": 24,
   "id": "16dfd82e",
   "metadata": {},
   "outputs": [
    {
     "name": "stderr",
     "output_type": "stream",
     "text": [
      "C:\\Users\\白小帅\\AppData\\Local\\Temp\\ipykernel_24876\\2790138607.py:1: FutureWarning: In a future version, `df.iloc[:, i] = newvals` will attempt to set the values inplace instead of always setting a new array. To retain the old behavior, use either `df[df.columns[i]] = newvals` or, if columns are non-unique, `df.isetitem(i, newvals)`\n",
      "  data.loc[:,['终端品牌类型']]=OrdinalEncoder().fit_transform(data.loc[:,['终端品牌类型']])\n"
     ]
    },
    {
     "data": {
      "text/html": [
       "<div>\n",
       "<style scoped>\n",
       "    .dataframe tbody tr th:only-of-type {\n",
       "        vertical-align: middle;\n",
       "    }\n",
       "\n",
       "    .dataframe tbody tr th {\n",
       "        vertical-align: top;\n",
       "    }\n",
       "\n",
       "    .dataframe thead th {\n",
       "        text-align: right;\n",
       "    }\n",
       "</style>\n",
       "<table border=\"1\" class=\"dataframe\">\n",
       "  <thead>\n",
       "    <tr style=\"text-align: right;\">\n",
       "      <th></th>\n",
       "      <th>终端品牌类型</th>\n",
       "    </tr>\n",
       "  </thead>\n",
       "  <tbody>\n",
       "    <tr>\n",
       "      <th>0</th>\n",
       "      <td>43.0</td>\n",
       "    </tr>\n",
       "    <tr>\n",
       "      <th>1</th>\n",
       "      <td>462.0</td>\n",
       "    </tr>\n",
       "    <tr>\n",
       "      <th>2</th>\n",
       "      <td>571.0</td>\n",
       "    </tr>\n",
       "    <tr>\n",
       "      <th>3</th>\n",
       "      <td>45.0</td>\n",
       "    </tr>\n",
       "    <tr>\n",
       "      <th>4</th>\n",
       "      <td>34.0</td>\n",
       "    </tr>\n",
       "    <tr>\n",
       "      <th>...</th>\n",
       "      <td>...</td>\n",
       "    </tr>\n",
       "    <tr>\n",
       "      <th>5428</th>\n",
       "      <td>34.0</td>\n",
       "    </tr>\n",
       "    <tr>\n",
       "      <th>5429</th>\n",
       "      <td>46.0</td>\n",
       "    </tr>\n",
       "    <tr>\n",
       "      <th>5430</th>\n",
       "      <td>456.0</td>\n",
       "    </tr>\n",
       "    <tr>\n",
       "      <th>5431</th>\n",
       "      <td>221.0</td>\n",
       "    </tr>\n",
       "    <tr>\n",
       "      <th>5432</th>\n",
       "      <td>45.0</td>\n",
       "    </tr>\n",
       "  </tbody>\n",
       "</table>\n",
       "<p>5426 rows × 1 columns</p>\n",
       "</div>"
      ],
      "text/plain": [
       "      终端品牌类型\n",
       "0       43.0\n",
       "1      462.0\n",
       "2      571.0\n",
       "3       45.0\n",
       "4       34.0\n",
       "...      ...\n",
       "5428    34.0\n",
       "5429    46.0\n",
       "5430   456.0\n",
       "5431   221.0\n",
       "5432    45.0\n",
       "\n",
       "[5426 rows x 1 columns]"
      ]
     },
     "execution_count": 24,
     "metadata": {},
     "output_type": "execute_result"
    }
   ],
   "source": [
    "data.loc[:,['终端品牌类型']]=OrdinalEncoder().fit_transform(data.loc[:,['终端品牌类型']])\n",
    "data.loc[:,['终端品牌类型']]"
   ]
  },
  {
   "cell_type": "code",
   "execution_count": 25,
   "id": "11667033",
   "metadata": {},
   "outputs": [
    {
     "name": "stderr",
     "output_type": "stream",
     "text": [
      "C:\\Users\\白小帅\\AppData\\Local\\Temp\\ipykernel_24876\\933268120.py:1: FutureWarning: In a future version, `df.iloc[:, i] = newvals` will attempt to set the values inplace instead of always setting a new array. To retain the old behavior, use either `df[df.columns[i]] = newvals` or, if columns are non-unique, `df.isetitem(i, newvals)`\n",
      "  data.loc[:,['客户星级标识']]=OrdinalEncoder().fit_transform(data.loc[:,['客户星级标识']])\n"
     ]
    },
    {
     "data": {
      "text/html": [
       "<div>\n",
       "<style scoped>\n",
       "    .dataframe tbody tr th:only-of-type {\n",
       "        vertical-align: middle;\n",
       "    }\n",
       "\n",
       "    .dataframe tbody tr th {\n",
       "        vertical-align: top;\n",
       "    }\n",
       "\n",
       "    .dataframe thead th {\n",
       "        text-align: right;\n",
       "    }\n",
       "</style>\n",
       "<table border=\"1\" class=\"dataframe\">\n",
       "  <thead>\n",
       "    <tr style=\"text-align: right;\">\n",
       "      <th></th>\n",
       "      <th>客户星级标识</th>\n",
       "    </tr>\n",
       "  </thead>\n",
       "  <tbody>\n",
       "    <tr>\n",
       "      <th>0</th>\n",
       "      <td>8.0</td>\n",
       "    </tr>\n",
       "    <tr>\n",
       "      <th>1</th>\n",
       "      <td>8.0</td>\n",
       "    </tr>\n",
       "    <tr>\n",
       "      <th>2</th>\n",
       "      <td>1.0</td>\n",
       "    </tr>\n",
       "    <tr>\n",
       "      <th>3</th>\n",
       "      <td>1.0</td>\n",
       "    </tr>\n",
       "    <tr>\n",
       "      <th>4</th>\n",
       "      <td>8.0</td>\n",
       "    </tr>\n",
       "    <tr>\n",
       "      <th>...</th>\n",
       "      <td>...</td>\n",
       "    </tr>\n",
       "    <tr>\n",
       "      <th>5428</th>\n",
       "      <td>2.0</td>\n",
       "    </tr>\n",
       "    <tr>\n",
       "      <th>5429</th>\n",
       "      <td>1.0</td>\n",
       "    </tr>\n",
       "    <tr>\n",
       "      <th>5430</th>\n",
       "      <td>8.0</td>\n",
       "    </tr>\n",
       "    <tr>\n",
       "      <th>5431</th>\n",
       "      <td>1.0</td>\n",
       "    </tr>\n",
       "    <tr>\n",
       "      <th>5432</th>\n",
       "      <td>1.0</td>\n",
       "    </tr>\n",
       "  </tbody>\n",
       "</table>\n",
       "<p>5426 rows × 1 columns</p>\n",
       "</div>"
      ],
      "text/plain": [
       "      客户星级标识\n",
       "0        8.0\n",
       "1        8.0\n",
       "2        1.0\n",
       "3        1.0\n",
       "4        8.0\n",
       "...      ...\n",
       "5428     2.0\n",
       "5429     1.0\n",
       "5430     8.0\n",
       "5431     1.0\n",
       "5432     1.0\n",
       "\n",
       "[5426 rows x 1 columns]"
      ]
     },
     "execution_count": 25,
     "metadata": {},
     "output_type": "execute_result"
    }
   ],
   "source": [
    "data.loc[:,['客户星级标识']]=OrdinalEncoder().fit_transform(data.loc[:,['客户星级标识']])\n",
    "data.loc[:,['客户星级标识']]"
   ]
  },
  {
   "cell_type": "code",
   "execution_count": 26,
   "id": "53b62778",
   "metadata": {},
   "outputs": [
    {
     "name": "stderr",
     "output_type": "stream",
     "text": [
      "C:\\Users\\白小帅\\AppData\\Local\\Temp\\ipykernel_24876\\4196254378.py:1: FutureWarning: In a future version, `df.iloc[:, i] = newvals` will attempt to set the values inplace instead of always setting a new array. To retain the old behavior, use either `df[df.columns[i]] = newvals` or, if columns are non-unique, `df.isetitem(i, newvals)`\n",
      "  data.iloc[:,6:19]=OrdinalEncoder().fit_transform(data.iloc[:,6:19])\n"
     ]
    }
   ],
   "source": [
    "data.iloc[:,6:19]=OrdinalEncoder().fit_transform(data.iloc[:,6:19])"
   ]
  },
  {
   "cell_type": "code",
   "execution_count": 27,
   "id": "6ffba553",
   "metadata": {},
   "outputs": [
    {
     "name": "stderr",
     "output_type": "stream",
     "text": [
      "C:\\Users\\白小帅\\AppData\\Local\\Temp\\ipykernel_24876\\23806209.py:1: FutureWarning: In a future version, `df.iloc[:, i] = newvals` will attempt to set the values inplace instead of always setting a new array. To retain the old behavior, use either `df[df.columns[i]] = newvals` or, if columns are non-unique, `df.isetitem(i, newvals)`\n",
      "  data.loc[:,['4\\\\5G用户','语音方式']]=OrdinalEncoder().fit_transform(data.loc[:,['4\\\\5G用户','语音方式']])\n"
     ]
    }
   ],
   "source": [
    "data.loc[:,['4\\\\5G用户','语音方式']]=OrdinalEncoder().fit_transform(data.loc[:,['4\\\\5G用户','语音方式']])"
   ]
  },
  {
   "cell_type": "markdown",
   "id": "0c1a8b70",
   "metadata": {},
   "source": [
    "# MAD异常值处理法¶"
   ]
  },
  {
   "cell_type": "code",
   "execution_count": 28,
   "id": "e9542cbe",
   "metadata": {},
   "outputs": [],
   "source": [
    "d='GPRS总流量（KB）'\n",
    "x=data[d].median()\n",
    "MA=data[d].median()\n",
    "Se=data[d]-MA\n",
    "Se=abs(Se)\n",
    "MC=Se.median()\n",
    "MAD=MC*1.4826\n",
    "Low=x-2.5*MAD\n",
    "Up=x+2.5*MAD\n",
    "data=data[(data[d]>=Low)&(data[d]<=Up)]"
   ]
  },
  {
   "cell_type": "code",
   "execution_count": 29,
   "id": "8e4a7062",
   "metadata": {},
   "outputs": [
    {
     "data": {
      "text/plain": [
       "<AxesSubplot: >"
      ]
     },
     "execution_count": 29,
     "metadata": {},
     "output_type": "execute_result"
    },
    {
     "data": {
      "image/png": "[encoded data removed]",
      "text/plain": [
       "<Figure size 400x400 with 1 Axes>"
      ]
     },
     "metadata": {},
     "output_type": "display_data"
    }
   ],
   "source": [
    "\n",
    "import matplotlib\n",
    "a=plt.figure(figsize=(4,4))\n",
    "matplotlib.rcParams['font.sans-serif'] = ['SimHei']\n",
    "matplotlib.rcParams['axes.unicode_minus'] = False\n",
    "df= data.loc[:,'GPRS总流量（KB）']\n",
    "df.plot.box()"
   ]
  },
  {
   "cell_type": "code",
   "execution_count": 30,
   "id": "0c1f80af",
   "metadata": {},
   "outputs": [],
   "source": [
    "a.savefig(fname='MAD异常值识别法-GPRS总流量（KB）箱型图.png',dpi='figure')"
   ]
  },
  {
   "cell_type": "code",
   "execution_count": 31,
   "id": "d98c1dc9",
   "metadata": {},
   "outputs": [
    {
     "data": {
      "text/plain": [
       "(4966, 51)"
      ]
     },
     "execution_count": 31,
     "metadata": {},
     "output_type": "execute_result"
    }
   ],
   "source": [
    "data.shape"
   ]
  },
  {
   "cell_type": "code",
   "execution_count": 32,
   "id": "0d798d2d",
   "metadata": {},
   "outputs": [],
   "source": [
    "\n",
    "d='前3月MOU'\n",
    "x=data[d].median()\n",
    "MA=data[d].median()\n",
    "Se=data[d]-MA\n",
    "Se=abs(Se)\n",
    "MC=Se.median()\n",
    "MAD=MC*1.4826\n",
    "Low=x-2.5*MAD\n",
    "Up=x+2.5*MAD\n",
    "data=data[(data[d]>=Low)&(data[d]<=Up)]"
   ]
  },
  {
   "cell_type": "code",
   "execution_count": 33,
   "id": "e17aa301",
   "metadata": {},
   "outputs": [
    {
     "data": {
      "text/plain": [
       "<AxesSubplot: >"
      ]
     },
     "execution_count": 33,
     "metadata": {},
     "output_type": "execute_result"
    },
    {
     "data": {
      "image/png": "[encoded data removed]",
      "text/plain": [
       "<Figure size 400x400 with 1 Axes>"
      ]
     },
     "metadata": {},
     "output_type": "display_data"
    }
   ],
   "source": [
    "p=plt.figure(figsize=(4,4))\n",
    "df= data.loc[:,'前3月MOU']\n",
    "df.plot.box()"
   ]
  },
  {
   "cell_type": "code",
   "execution_count": 34,
   "id": "c8fbe007",
   "metadata": {},
   "outputs": [],
   "source": [
    "p.savefig(fname='MAD异常值识别法-前3月MOU箱型图.png',dpi='figure')"
   ]
  },
  {
   "cell_type": "code",
   "execution_count": 35,
   "id": "b4b494a1",
   "metadata": {},
   "outputs": [
    {
     "data": {
      "text/plain": [
       "(4369, 51)"
      ]
     },
     "execution_count": 35,
     "metadata": {},
     "output_type": "execute_result"
    }
   ],
   "source": [
    "data.shape"
   ]
  },
  {
   "cell_type": "markdown",
   "id": "0be31abd",
   "metadata": {},
   "source": [
    "# 删除与预测集无关数据"
   ]
  },
  {
   "cell_type": "code",
   "execution_count": 36,
   "id": "a82b1c31",
   "metadata": {},
   "outputs": [],
   "source": [
    "data=data.drop(['重定向次数','重定向驻留时长','资费投诉','语音方式','是否去过营业厅','ARPU（家庭宽带）','是否实名登记用户','当月欠费金额','前第3个月欠费金额','家宽投诉'], axis=1)"
   ]
  },
  {
   "cell_type": "markdown",
   "id": "4327479c",
   "metadata": {},
   "source": [
    "# 嵌入法特征选择"
   ]
  },
  {
   "cell_type": "code",
   "execution_count": 37,
   "id": "3d25e864",
   "metadata": {},
   "outputs": [],
   "source": [
    "data1=data.copy()\n",
    "data1=data1.drop(['网络覆盖与信号强度', '语音通话整体满意度','语音通话稳定性','用户id'], axis=1)\n",
    "Ytrain=data1['语音通话清晰度'].values\n",
    "Xtrain=data1.drop('语音通话清晰度', axis = 1).values\n"
   ]
  },
  {
   "cell_type": "code",
   "execution_count": 38,
   "id": "446d0bbb",
   "metadata": {},
   "outputs": [],
   "source": [
    "from sklearn.feature_selection import SelectFromModel\n",
    "from sklearn.ensemble import RandomForestClassifier as RFC\n"
   ]
  },
  {
   "cell_type": "code",
   "execution_count": 39,
   "id": "a6561cc5",
   "metadata": {},
   "outputs": [],
   "source": [
    "RFC_ = RFC(n_estimators=100,random_state=0)#随机森林实例化\n"
   ]
  },
  {
   "cell_type": "code",
   "execution_count": 40,
   "id": "189ef5b9",
   "metadata": {},
   "outputs": [
    {
     "data": {
      "text/plain": [
       "0.08952479037952875"
      ]
     },
     "execution_count": 40,
     "metadata": {},
     "output_type": "execute_result"
    }
   ],
   "source": [
    "(RFC_.fit(Xtrain,Ytrain).feature_importances_).max()"
   ]
  },
  {
   "cell_type": "code",
   "execution_count": 41,
   "id": "4e364960",
   "metadata": {
    "scrolled": true
   },
   "outputs": [
    {
     "data": {
      "text/plain": [
       "array([0.        , 0.00090429, 0.00180858, 0.00271287, 0.00361716,\n",
       "       0.00452145, 0.00542574, 0.00633004, 0.00723433, 0.00813862,\n",
       "       0.00904291, 0.0099472 , 0.01085149, 0.01175578, 0.01266007,\n",
       "       0.01356436, 0.01446865, 0.01537294, 0.01627723, 0.01718153,\n",
       "       0.01808582, 0.01899011, 0.0198944 , 0.02079869, 0.02170298,\n",
       "       0.02260727, 0.02351156, 0.02441585, 0.02532014, 0.02622443,\n",
       "       0.02712872, 0.02803302, 0.02893731, 0.0298416 , 0.03074589,\n",
       "       0.03165018, 0.03255447, 0.03345876, 0.03436305, 0.03526734,\n",
       "       0.03617163, 0.03707592, 0.03798021, 0.0388845 , 0.0397888 ,\n",
       "       0.04069309, 0.04159738, 0.04250167, 0.04340596, 0.04431025,\n",
       "       0.04521454, 0.04611883, 0.04702312, 0.04792741, 0.0488317 ,\n",
       "       0.04973599, 0.05064029, 0.05154458, 0.05244887, 0.05335316,\n",
       "       0.05425745, 0.05516174, 0.05606603, 0.05697032, 0.05787461,\n",
       "       0.0587789 , 0.05968319, 0.06058748, 0.06149178, 0.06239607,\n",
       "       0.06330036, 0.06420465, 0.06510894, 0.06601323, 0.06691752,\n",
       "       0.06782181, 0.0687261 , 0.06963039, 0.07053468, 0.07143897,\n",
       "       0.07234326, 0.07324756, 0.07415185, 0.07505614, 0.07596043,\n",
       "       0.07686472, 0.07776901, 0.0786733 , 0.07957759, 0.08048188,\n",
       "       0.08138617, 0.08229046, 0.08319475, 0.08409905, 0.08500334,\n",
       "       0.08590763, 0.08681192, 0.08771621, 0.0886205 , 0.08952479])"
      ]
     },
     "execution_count": 41,
     "metadata": {},
     "output_type": "execute_result"
    }
   ],
   "source": [
    "threshold = np.linspace(0,(RFC_.fit(Xtrain,Ytrain).feature_importances_).max(),100)\n",
    "threshold"
   ]
  },
  {
   "cell_type": "code",
   "execution_count": 42,
   "id": "4f0a8363",
   "metadata": {},
   "outputs": [
    {
     "data": {
      "image/png": "[encoded data removed]",
      "text/plain": [
       "<Figure size 400x400 with 1 Axes>"
      ]
     },
     "metadata": {},
     "output_type": "display_data"
    },
    {
     "name": "stdout",
     "output_type": "stream",
     "text": [
      "16\n"
     ]
    }
   ],
   "source": [
    "from sklearn.model_selection import cross_val_score\n",
    "score=[]\n",
    "for i in threshold :\n",
    "    X_embedded = SelectFromModel(RFC_,threshold=i).fit_transform(Xtrain,Ytrain)\n",
    "    once= cross_val_score(RFC_,X_embedded,Ytrain,cv=5).mean()\n",
    "    score.append(once)\n",
    "p=plt.figure(figsize=(4,4))\n",
    "plt.plot(threshold,score,color='red',label='score')\n",
    "plt.legend()\n",
    "plt.show()\n",
    "print(score.index(max(score)))\n"
   ]
  },
  {
   "cell_type": "code",
   "execution_count": 43,
   "id": "3443f9f1",
   "metadata": {},
   "outputs": [],
   "source": [
    "p.savefig(fname='语音通话清晰度-嵌入法寻找最佳阈值的学习曲线.png',dpi='figure')"
   ]
  },
  {
   "cell_type": "code",
   "execution_count": 44,
   "id": "7a7afc87",
   "metadata": {},
   "outputs": [
    {
     "data": {
      "text/plain": [
       "(4369, 20)"
      ]
     },
     "execution_count": 44,
     "metadata": {},
     "output_type": "execute_result"
    }
   ],
   "source": [
    "X_embedded = SelectFromModel(RFC_,threshold=threshold[score.index(max(score))]).fit_transform(Xtrain,Ytrain)\n",
    "X_embedded.shape#筛选后特征数"
   ]
  },
  {
   "cell_type": "code",
   "execution_count": 45,
   "id": "8edeb2fb",
   "metadata": {},
   "outputs": [],
   "source": [
    "from sklearn.model_selection import cross_val_score\n",
    "once= cross_val_score(RFC_,X_embedded,Ytrain,cv=5).mean()"
   ]
  },
  {
   "cell_type": "code",
   "execution_count": 46,
   "id": "81dbffc4",
   "metadata": {},
   "outputs": [
    {
     "data": {
      "text/plain": [
       "0.5493246413508747"
      ]
     },
     "execution_count": 46,
     "metadata": {},
     "output_type": "execute_result"
    }
   ],
   "source": [
    "once"
   ]
  },
  {
   "cell_type": "code",
   "execution_count": 47,
   "id": "c32416fb",
   "metadata": {},
   "outputs": [],
   "source": [
    "importance=(RFC_.fit(Xtrain,Ytrain).feature_importances_)"
   ]
  },
  {
   "cell_type": "code",
   "execution_count": 48,
   "id": "8c4cccd4",
   "metadata": {},
   "outputs": [],
   "source": [
    "idx_features = (-importance).argsort()[:X_embedded.shape[1]]"
   ]
  },
  {
   "cell_type": "code",
   "execution_count": 49,
   "id": "b4455cc6",
   "metadata": {},
   "outputs": [],
   "source": [
    "idx_features.sort()"
   ]
  },
  {
   "cell_type": "code",
   "execution_count": 50,
   "id": "a423d00b",
   "metadata": {},
   "outputs": [],
   "source": [
    "X_train=pd.DataFrame(Xtrain).iloc[:,idx_features]"
   ]
  },
  {
   "cell_type": "markdown",
   "id": "48d73e02",
   "metadata": {},
   "source": [
    "# 构建预测集"
   ]
  },
  {
   "cell_type": "code",
   "execution_count": 51,
   "id": "6d0d035e",
   "metadata": {},
   "outputs": [
    {
     "data": {
      "text/html": [
       "<div>\n",
       "<style scoped>\n",
       "    .dataframe tbody tr th:only-of-type {\n",
       "        vertical-align: middle;\n",
       "    }\n",
       "\n",
       "    .dataframe tbody tr th {\n",
       "        vertical-align: top;\n",
       "    }\n",
       "\n",
       "    .dataframe thead th {\n",
       "        text-align: right;\n",
       "    }\n",
       "</style>\n",
       "<table border=\"1\" class=\"dataframe\">\n",
       "  <thead>\n",
       "    <tr style=\"text-align: right;\">\n",
       "      <th></th>\n",
       "      <th>是否遇到过网络问题</th>\n",
       "      <th>居民小区</th>\n",
       "      <th>办公室</th>\n",
       "      <th>高校</th>\n",
       "      <th>商业街</th>\n",
       "      <th>地铁</th>\n",
       "      <th>农村</th>\n",
       "      <th>高铁</th>\n",
       "      <th>手机没有信号</th>\n",
       "      <th>有信号无法拨通</th>\n",
       "      <th>...</th>\n",
       "      <th>终端品牌类型</th>\n",
       "      <th>当月ARPU</th>\n",
       "      <th>当月MOU</th>\n",
       "      <th>前3月ARPU</th>\n",
       "      <th>前3月MOU</th>\n",
       "      <th>外省流量占比</th>\n",
       "      <th>GPRS总流量（KB）</th>\n",
       "      <th>GPRS-国内漫游-流量（KB）</th>\n",
       "      <th>是否5G网络客户</th>\n",
       "      <th>客户星级标识</th>\n",
       "    </tr>\n",
       "  </thead>\n",
       "  <tbody>\n",
       "    <tr>\n",
       "      <th>0</th>\n",
       "      <td>2</td>\n",
       "      <td>0</td>\n",
       "      <td>0</td>\n",
       "      <td>0</td>\n",
       "      <td>0</td>\n",
       "      <td>0</td>\n",
       "      <td>0</td>\n",
       "      <td>0</td>\n",
       "      <td>0</td>\n",
       "      <td>0</td>\n",
       "      <td>...</td>\n",
       "      <td>62</td>\n",
       "      <td>45.37</td>\n",
       "      <td>161</td>\n",
       "      <td>23.6</td>\n",
       "      <td>139</td>\n",
       "      <td>0.0</td>\n",
       "      <td>1391</td>\n",
       "      <td>0</td>\n",
       "      <td>0</td>\n",
       "      <td>0</td>\n",
       "    </tr>\n",
       "    <tr>\n",
       "      <th>1</th>\n",
       "      <td>1</td>\n",
       "      <td>1</td>\n",
       "      <td>1</td>\n",
       "      <td>0</td>\n",
       "      <td>0</td>\n",
       "      <td>0</td>\n",
       "      <td>0</td>\n",
       "      <td>0</td>\n",
       "      <td>0</td>\n",
       "      <td>0</td>\n",
       "      <td>...</td>\n",
       "      <td>176</td>\n",
       "      <td>60.00</td>\n",
       "      <td>270</td>\n",
       "      <td>60.0</td>\n",
       "      <td>102</td>\n",
       "      <td>0.0</td>\n",
       "      <td>1030</td>\n",
       "      <td>0</td>\n",
       "      <td>0</td>\n",
       "      <td>1</td>\n",
       "    </tr>\n",
       "    <tr>\n",
       "      <th>2</th>\n",
       "      <td>2</td>\n",
       "      <td>0</td>\n",
       "      <td>0</td>\n",
       "      <td>0</td>\n",
       "      <td>0</td>\n",
       "      <td>0</td>\n",
       "      <td>0</td>\n",
       "      <td>0</td>\n",
       "      <td>0</td>\n",
       "      <td>0</td>\n",
       "      <td>...</td>\n",
       "      <td>31</td>\n",
       "      <td>89.00</td>\n",
       "      <td>662</td>\n",
       "      <td>89.0</td>\n",
       "      <td>80</td>\n",
       "      <td>0.0</td>\n",
       "      <td>767</td>\n",
       "      <td>0</td>\n",
       "      <td>0</td>\n",
       "      <td>1</td>\n",
       "    </tr>\n",
       "    <tr>\n",
       "      <th>3</th>\n",
       "      <td>1</td>\n",
       "      <td>1</td>\n",
       "      <td>0</td>\n",
       "      <td>0</td>\n",
       "      <td>0</td>\n",
       "      <td>0</td>\n",
       "      <td>0</td>\n",
       "      <td>0</td>\n",
       "      <td>0</td>\n",
       "      <td>0</td>\n",
       "      <td>...</td>\n",
       "      <td>17</td>\n",
       "      <td>70.00</td>\n",
       "      <td>645</td>\n",
       "      <td>69.1</td>\n",
       "      <td>333</td>\n",
       "      <td>0.0</td>\n",
       "      <td>912</td>\n",
       "      <td>0</td>\n",
       "      <td>0</td>\n",
       "      <td>1</td>\n",
       "    </tr>\n",
       "    <tr>\n",
       "      <th>4</th>\n",
       "      <td>1</td>\n",
       "      <td>1</td>\n",
       "      <td>0</td>\n",
       "      <td>0</td>\n",
       "      <td>0</td>\n",
       "      <td>0</td>\n",
       "      <td>0</td>\n",
       "      <td>0</td>\n",
       "      <td>0</td>\n",
       "      <td>1</td>\n",
       "      <td>...</td>\n",
       "      <td>246</td>\n",
       "      <td>56.00</td>\n",
       "      <td>496</td>\n",
       "      <td>56.0</td>\n",
       "      <td>258</td>\n",
       "      <td>0.0</td>\n",
       "      <td>1313</td>\n",
       "      <td>0</td>\n",
       "      <td>1</td>\n",
       "      <td>1</td>\n",
       "    </tr>\n",
       "  </tbody>\n",
       "</table>\n",
       "<p>5 rows × 36 columns</p>\n",
       "</div>"
      ],
      "text/plain": [
       "   是否遇到过网络问题  居民小区  办公室  高校  商业街  地铁  农村  高铁  手机没有信号  有信号无法拨通  ...  终端品牌类型  \\\n",
       "0          2     0    0   0    0   0   0   0       0        0  ...      62   \n",
       "1          1     1    1   0    0   0   0   0       0        0  ...     176   \n",
       "2          2     0    0   0    0   0   0   0       0        0  ...      31   \n",
       "3          1     1    0   0    0   0   0   0       0        0  ...      17   \n",
       "4          1     1    0   0    0   0   0   0       0        1  ...     246   \n",
       "\n",
       "   当月ARPU  当月MOU  前3月ARPU  前3月MOU  外省流量占比  GPRS总流量（KB）  GPRS-国内漫游-流量（KB）  \\\n",
       "0   45.37    161     23.6     139     0.0         1391                 0   \n",
       "1   60.00    270     60.0     102     0.0         1030                 0   \n",
       "2   89.00    662     89.0      80     0.0          767                 0   \n",
       "3   70.00    645     69.1     333     0.0          912                 0   \n",
       "4   56.00    496     56.0     258     0.0         1313                 0   \n",
       "\n",
       "   是否5G网络客户  客户星级标识  \n",
       "0         0       0  \n",
       "1         0       1  \n",
       "2         0       1  \n",
       "3         0       1  \n",
       "4         1       1  \n",
       "\n",
       "[5 rows x 36 columns]"
      ]
     },
     "execution_count": 51,
     "metadata": {},
     "output_type": "execute_result"
    }
   ],
   "source": [
    "ip = r'predict1.xlsx'\n",
    "predict = pd.read_excel(ip,header = [0],sheet_name = 'Sheet1')\n",
    "predict.head()"
   ]
  },
  {
   "cell_type": "code",
   "execution_count": 52,
   "id": "c063f5e7",
   "metadata": {},
   "outputs": [],
   "source": [
    "predict=pd.DataFrame(predict).iloc[:,idx_features]"
   ]
  },
  {
   "cell_type": "code",
   "execution_count": 53,
   "id": "f84b90c5",
   "metadata": {},
   "outputs": [
    {
     "data": {
      "text/html": [
       "<div>\n",
       "<style scoped>\n",
       "    .dataframe tbody tr th:only-of-type {\n",
       "        vertical-align: middle;\n",
       "    }\n",
       "\n",
       "    .dataframe tbody tr th {\n",
       "        vertical-align: top;\n",
       "    }\n",
       "\n",
       "    .dataframe thead th {\n",
       "        text-align: right;\n",
       "    }\n",
       "</style>\n",
       "<table border=\"1\" class=\"dataframe\">\n",
       "  <thead>\n",
       "    <tr style=\"text-align: right;\">\n",
       "      <th></th>\n",
       "      <th>0</th>\n",
       "      <th>1</th>\n",
       "      <th>2</th>\n",
       "      <th>8</th>\n",
       "      <th>9</th>\n",
       "      <th>10</th>\n",
       "      <th>11</th>\n",
       "      <th>13</th>\n",
       "      <th>14</th>\n",
       "      <th>15</th>\n",
       "      <th>16</th>\n",
       "      <th>23</th>\n",
       "      <th>25</th>\n",
       "      <th>26</th>\n",
       "      <th>27</th>\n",
       "      <th>28</th>\n",
       "      <th>30</th>\n",
       "      <th>32</th>\n",
       "      <th>33</th>\n",
       "      <th>35</th>\n",
       "    </tr>\n",
       "  </thead>\n",
       "  <tbody>\n",
       "    <tr>\n",
       "      <th>0</th>\n",
       "      <td>1</td>\n",
       "      <td>0.0</td>\n",
       "      <td>1.0</td>\n",
       "      <td>0.0</td>\n",
       "      <td>1.0</td>\n",
       "      <td>0.0</td>\n",
       "      <td>1.0</td>\n",
       "      <td>0.0</td>\n",
       "      <td>0</td>\n",
       "      <td>0</td>\n",
       "      <td>0</td>\n",
       "      <td>644</td>\n",
       "      <td>22.0</td>\n",
       "      <td>43.0</td>\n",
       "      <td>347.32</td>\n",
       "      <td>644</td>\n",
       "      <td>480</td>\n",
       "      <td>8450801</td>\n",
       "      <td>8450801</td>\n",
       "      <td>8.0</td>\n",
       "    </tr>\n",
       "    <tr>\n",
       "      <th>1</th>\n",
       "      <td>1</td>\n",
       "      <td>1.0</td>\n",
       "      <td>1.0</td>\n",
       "      <td>0.0</td>\n",
       "      <td>0.0</td>\n",
       "      <td>0.0</td>\n",
       "      <td>1.0</td>\n",
       "      <td>1.0</td>\n",
       "      <td>0</td>\n",
       "      <td>0</td>\n",
       "      <td>0</td>\n",
       "      <td>902</td>\n",
       "      <td>11.0</td>\n",
       "      <td>462.0</td>\n",
       "      <td>111.4</td>\n",
       "      <td>902</td>\n",
       "      <td>480</td>\n",
       "      <td>17425910</td>\n",
       "      <td>17425910</td>\n",
       "      <td>8.0</td>\n",
       "    </tr>\n",
       "    <tr>\n",
       "      <th>2</th>\n",
       "      <td>1</td>\n",
       "      <td>0.0</td>\n",
       "      <td>0.0</td>\n",
       "      <td>1.0</td>\n",
       "      <td>0.0</td>\n",
       "      <td>0.0</td>\n",
       "      <td>0.0</td>\n",
       "      <td>1.0</td>\n",
       "      <td>0</td>\n",
       "      <td>0</td>\n",
       "      <td>0</td>\n",
       "      <td>322</td>\n",
       "      <td>11.0</td>\n",
       "      <td>571.0</td>\n",
       "      <td>48.0</td>\n",
       "      <td>322</td>\n",
       "      <td>413</td>\n",
       "      <td>6215849</td>\n",
       "      <td>6215849</td>\n",
       "      <td>1.0</td>\n",
       "    </tr>\n",
       "    <tr>\n",
       "      <th>3</th>\n",
       "      <td>1</td>\n",
       "      <td>1.0</td>\n",
       "      <td>1.0</td>\n",
       "      <td>1.0</td>\n",
       "      <td>1.0</td>\n",
       "      <td>0.0</td>\n",
       "      <td>0.0</td>\n",
       "      <td>0.0</td>\n",
       "      <td>0</td>\n",
       "      <td>0</td>\n",
       "      <td>0</td>\n",
       "      <td>139</td>\n",
       "      <td>22.0</td>\n",
       "      <td>45.0</td>\n",
       "      <td>49.0</td>\n",
       "      <td>139</td>\n",
       "      <td>301</td>\n",
       "      <td>5370710</td>\n",
       "      <td>5370710</td>\n",
       "      <td>1.0</td>\n",
       "    </tr>\n",
       "    <tr>\n",
       "      <th>4</th>\n",
       "      <td>1</td>\n",
       "      <td>1.0</td>\n",
       "      <td>0.0</td>\n",
       "      <td>0.0</td>\n",
       "      <td>1.0</td>\n",
       "      <td>1.0</td>\n",
       "      <td>1.0</td>\n",
       "      <td>1.0</td>\n",
       "      <td>0</td>\n",
       "      <td>0</td>\n",
       "      <td>0</td>\n",
       "      <td>627</td>\n",
       "      <td>22.0</td>\n",
       "      <td>600.0</td>\n",
       "      <td>140.09</td>\n",
       "      <td>627</td>\n",
       "      <td>794</td>\n",
       "      <td>31131458</td>\n",
       "      <td>31131458</td>\n",
       "      <td>8.0</td>\n",
       "    </tr>\n",
       "    <tr>\n",
       "      <th>...</th>\n",
       "      <td>...</td>\n",
       "      <td>...</td>\n",
       "      <td>...</td>\n",
       "      <td>...</td>\n",
       "      <td>...</td>\n",
       "      <td>...</td>\n",
       "      <td>...</td>\n",
       "      <td>...</td>\n",
       "      <td>...</td>\n",
       "      <td>...</td>\n",
       "      <td>...</td>\n",
       "      <td>...</td>\n",
       "      <td>...</td>\n",
       "      <td>...</td>\n",
       "      <td>...</td>\n",
       "      <td>...</td>\n",
       "      <td>...</td>\n",
       "      <td>...</td>\n",
       "      <td>...</td>\n",
       "      <td>...</td>\n",
       "    </tr>\n",
       "    <tr>\n",
       "      <th>4364</th>\n",
       "      <td>1</td>\n",
       "      <td>0.0</td>\n",
       "      <td>1.0</td>\n",
       "      <td>0.0</td>\n",
       "      <td>0.0</td>\n",
       "      <td>1.0</td>\n",
       "      <td>0.0</td>\n",
       "      <td>1.0</td>\n",
       "      <td>0</td>\n",
       "      <td>5</td>\n",
       "      <td>0</td>\n",
       "      <td>293</td>\n",
       "      <td>22.0</td>\n",
       "      <td>34.0</td>\n",
       "      <td>57.0</td>\n",
       "      <td>293</td>\n",
       "      <td>320</td>\n",
       "      <td>16654303</td>\n",
       "      <td>0</td>\n",
       "      <td>2.0</td>\n",
       "    </tr>\n",
       "    <tr>\n",
       "      <th>4365</th>\n",
       "      <td>1</td>\n",
       "      <td>1.0</td>\n",
       "      <td>1.0</td>\n",
       "      <td>0.0</td>\n",
       "      <td>0.0</td>\n",
       "      <td>0.0</td>\n",
       "      <td>1.0</td>\n",
       "      <td>1.0</td>\n",
       "      <td>1</td>\n",
       "      <td>8</td>\n",
       "      <td>6</td>\n",
       "      <td>1277</td>\n",
       "      <td>22.0</td>\n",
       "      <td>46.0</td>\n",
       "      <td>179.89</td>\n",
       "      <td>1277</td>\n",
       "      <td>147</td>\n",
       "      <td>627901</td>\n",
       "      <td>0</td>\n",
       "      <td>1.0</td>\n",
       "    </tr>\n",
       "    <tr>\n",
       "      <th>4366</th>\n",
       "      <td>1</td>\n",
       "      <td>0.0</td>\n",
       "      <td>0.0</td>\n",
       "      <td>1.0</td>\n",
       "      <td>1.0</td>\n",
       "      <td>0.0</td>\n",
       "      <td>0.0</td>\n",
       "      <td>0.0</td>\n",
       "      <td>0</td>\n",
       "      <td>0</td>\n",
       "      <td>0</td>\n",
       "      <td>115</td>\n",
       "      <td>11.0</td>\n",
       "      <td>456.0</td>\n",
       "      <td>90.0</td>\n",
       "      <td>115</td>\n",
       "      <td>150</td>\n",
       "      <td>6816663</td>\n",
       "      <td>0</td>\n",
       "      <td>8.0</td>\n",
       "    </tr>\n",
       "    <tr>\n",
       "      <th>4367</th>\n",
       "      <td>1</td>\n",
       "      <td>0.0</td>\n",
       "      <td>0.0</td>\n",
       "      <td>0.0</td>\n",
       "      <td>0.0</td>\n",
       "      <td>1.0</td>\n",
       "      <td>1.0</td>\n",
       "      <td>0.0</td>\n",
       "      <td>0</td>\n",
       "      <td>8</td>\n",
       "      <td>0</td>\n",
       "      <td>179</td>\n",
       "      <td>14.0</td>\n",
       "      <td>221.0</td>\n",
       "      <td>19.0</td>\n",
       "      <td>179</td>\n",
       "      <td>82</td>\n",
       "      <td>1841891</td>\n",
       "      <td>0</td>\n",
       "      <td>1.0</td>\n",
       "    </tr>\n",
       "    <tr>\n",
       "      <th>4368</th>\n",
       "      <td>1</td>\n",
       "      <td>1.0</td>\n",
       "      <td>1.0</td>\n",
       "      <td>0.0</td>\n",
       "      <td>0.0</td>\n",
       "      <td>1.0</td>\n",
       "      <td>0.0</td>\n",
       "      <td>0.0</td>\n",
       "      <td>0</td>\n",
       "      <td>0</td>\n",
       "      <td>0</td>\n",
       "      <td>234</td>\n",
       "      <td>22.0</td>\n",
       "      <td>45.0</td>\n",
       "      <td>8.0</td>\n",
       "      <td>234</td>\n",
       "      <td>258</td>\n",
       "      <td>810</td>\n",
       "      <td>0</td>\n",
       "      <td>1.0</td>\n",
       "    </tr>\n",
       "  </tbody>\n",
       "</table>\n",
       "<p>4369 rows × 20 columns</p>\n",
       "</div>"
      ],
      "text/plain": [
       "     0    1    2    8    9    10   11   13 14 15 16    23    25     26  \\\n",
       "0     1  0.0  1.0  0.0  1.0  0.0  1.0  0.0  0  0  0   644  22.0   43.0   \n",
       "1     1  1.0  1.0  0.0  0.0  0.0  1.0  1.0  0  0  0   902  11.0  462.0   \n",
       "2     1  0.0  0.0  1.0  0.0  0.0  0.0  1.0  0  0  0   322  11.0  571.0   \n",
       "3     1  1.0  1.0  1.0  1.0  0.0  0.0  0.0  0  0  0   139  22.0   45.0   \n",
       "4     1  1.0  0.0  0.0  1.0  1.0  1.0  1.0  0  0  0   627  22.0  600.0   \n",
       "...  ..  ...  ...  ...  ...  ...  ...  ... .. .. ..   ...   ...    ...   \n",
       "4364  1  0.0  1.0  0.0  0.0  1.0  0.0  1.0  0  5  0   293  22.0   34.0   \n",
       "4365  1  1.0  1.0  0.0  0.0  0.0  1.0  1.0  1  8  6  1277  22.0   46.0   \n",
       "4366  1  0.0  0.0  1.0  1.0  0.0  0.0  0.0  0  0  0   115  11.0  456.0   \n",
       "4367  1  0.0  0.0  0.0  0.0  1.0  1.0  0.0  0  8  0   179  14.0  221.0   \n",
       "4368  1  1.0  1.0  0.0  0.0  1.0  0.0  0.0  0  0  0   234  22.0   45.0   \n",
       "\n",
       "          27    28   30        32        33   35  \n",
       "0     347.32   644  480   8450801   8450801  8.0  \n",
       "1      111.4   902  480  17425910  17425910  8.0  \n",
       "2       48.0   322  413   6215849   6215849  1.0  \n",
       "3       49.0   139  301   5370710   5370710  1.0  \n",
       "4     140.09   627  794  31131458  31131458  8.0  \n",
       "...      ...   ...  ...       ...       ...  ...  \n",
       "4364    57.0   293  320  16654303         0  2.0  \n",
       "4365  179.89  1277  147    627901         0  1.0  \n",
       "4366    90.0   115  150   6816663         0  8.0  \n",
       "4367    19.0   179   82   1841891         0  1.0  \n",
       "4368     8.0   234  258       810         0  1.0  \n",
       "\n",
       "[4369 rows x 20 columns]"
      ]
     },
     "execution_count": 53,
     "metadata": {},
     "output_type": "execute_result"
    }
   ],
   "source": [
    "X_train"
   ]
  },
  {
   "cell_type": "markdown",
   "id": "b67725e4",
   "metadata": {},
   "source": [
    "X_train.to_excel('X_train.xlsx', sheet_name='Sheet1', index=False)"
   ]
  },
  {
   "cell_type": "code",
   "execution_count": 54,
   "id": "bb003c83",
   "metadata": {},
   "outputs": [
    {
     "data": {
      "text/html": [
       "<div>\n",
       "<style scoped>\n",
       "    .dataframe tbody tr th:only-of-type {\n",
       "        vertical-align: middle;\n",
       "    }\n",
       "\n",
       "    .dataframe tbody tr th {\n",
       "        vertical-align: top;\n",
       "    }\n",
       "\n",
       "    .dataframe thead th {\n",
       "        text-align: right;\n",
       "    }\n",
       "</style>\n",
       "<table border=\"1\" class=\"dataframe\">\n",
       "  <thead>\n",
       "    <tr style=\"text-align: right;\">\n",
       "      <th></th>\n",
       "      <th>是否遇到过网络问题</th>\n",
       "      <th>居民小区</th>\n",
       "      <th>办公室</th>\n",
       "      <th>手机没有信号</th>\n",
       "      <th>有信号无法拨通</th>\n",
       "      <th>通话过程中突然中断</th>\n",
       "      <th>通话中有杂音、听不清、断断续续</th>\n",
       "      <th>通话过程中一方听不见</th>\n",
       "      <th>脱网次数</th>\n",
       "      <th>mos质差次数</th>\n",
       "      <th>未接通掉话次数</th>\n",
       "      <th>语音通话-时长（分钟）</th>\n",
       "      <th>终端品牌</th>\n",
       "      <th>终端品牌类型</th>\n",
       "      <th>当月ARPU</th>\n",
       "      <th>当月MOU</th>\n",
       "      <th>前3月MOU</th>\n",
       "      <th>GPRS总流量（KB）</th>\n",
       "      <th>GPRS-国内漫游-流量（KB）</th>\n",
       "      <th>客户星级标识</th>\n",
       "    </tr>\n",
       "  </thead>\n",
       "  <tbody>\n",
       "    <tr>\n",
       "      <th>0</th>\n",
       "      <td>2</td>\n",
       "      <td>0</td>\n",
       "      <td>0</td>\n",
       "      <td>0</td>\n",
       "      <td>0</td>\n",
       "      <td>0</td>\n",
       "      <td>0</td>\n",
       "      <td>0</td>\n",
       "      <td>1</td>\n",
       "      <td>0</td>\n",
       "      <td>0</td>\n",
       "      <td>161</td>\n",
       "      <td>9</td>\n",
       "      <td>62</td>\n",
       "      <td>45.37</td>\n",
       "      <td>161</td>\n",
       "      <td>139</td>\n",
       "      <td>1391</td>\n",
       "      <td>0</td>\n",
       "      <td>0</td>\n",
       "    </tr>\n",
       "    <tr>\n",
       "      <th>1</th>\n",
       "      <td>1</td>\n",
       "      <td>1</td>\n",
       "      <td>1</td>\n",
       "      <td>0</td>\n",
       "      <td>0</td>\n",
       "      <td>0</td>\n",
       "      <td>1</td>\n",
       "      <td>0</td>\n",
       "      <td>0</td>\n",
       "      <td>17</td>\n",
       "      <td>1</td>\n",
       "      <td>270</td>\n",
       "      <td>9</td>\n",
       "      <td>176</td>\n",
       "      <td>60.00</td>\n",
       "      <td>270</td>\n",
       "      <td>102</td>\n",
       "      <td>1030</td>\n",
       "      <td>0</td>\n",
       "      <td>1</td>\n",
       "    </tr>\n",
       "    <tr>\n",
       "      <th>2</th>\n",
       "      <td>2</td>\n",
       "      <td>0</td>\n",
       "      <td>0</td>\n",
       "      <td>0</td>\n",
       "      <td>0</td>\n",
       "      <td>0</td>\n",
       "      <td>0</td>\n",
       "      <td>0</td>\n",
       "      <td>13</td>\n",
       "      <td>39</td>\n",
       "      <td>4</td>\n",
       "      <td>662</td>\n",
       "      <td>18</td>\n",
       "      <td>31</td>\n",
       "      <td>89.00</td>\n",
       "      <td>662</td>\n",
       "      <td>80</td>\n",
       "      <td>767</td>\n",
       "      <td>0</td>\n",
       "      <td>1</td>\n",
       "    </tr>\n",
       "    <tr>\n",
       "      <th>3</th>\n",
       "      <td>1</td>\n",
       "      <td>1</td>\n",
       "      <td>0</td>\n",
       "      <td>0</td>\n",
       "      <td>0</td>\n",
       "      <td>1</td>\n",
       "      <td>0</td>\n",
       "      <td>0</td>\n",
       "      <td>8</td>\n",
       "      <td>13</td>\n",
       "      <td>2</td>\n",
       "      <td>645</td>\n",
       "      <td>18</td>\n",
       "      <td>17</td>\n",
       "      <td>70.00</td>\n",
       "      <td>645</td>\n",
       "      <td>333</td>\n",
       "      <td>912</td>\n",
       "      <td>0</td>\n",
       "      <td>1</td>\n",
       "    </tr>\n",
       "    <tr>\n",
       "      <th>4</th>\n",
       "      <td>1</td>\n",
       "      <td>1</td>\n",
       "      <td>0</td>\n",
       "      <td>0</td>\n",
       "      <td>1</td>\n",
       "      <td>0</td>\n",
       "      <td>0</td>\n",
       "      <td>1</td>\n",
       "      <td>22</td>\n",
       "      <td>1</td>\n",
       "      <td>2</td>\n",
       "      <td>496</td>\n",
       "      <td>9</td>\n",
       "      <td>246</td>\n",
       "      <td>56.00</td>\n",
       "      <td>496</td>\n",
       "      <td>258</td>\n",
       "      <td>1313</td>\n",
       "      <td>0</td>\n",
       "      <td>1</td>\n",
       "    </tr>\n",
       "    <tr>\n",
       "      <th>...</th>\n",
       "      <td>...</td>\n",
       "      <td>...</td>\n",
       "      <td>...</td>\n",
       "      <td>...</td>\n",
       "      <td>...</td>\n",
       "      <td>...</td>\n",
       "      <td>...</td>\n",
       "      <td>...</td>\n",
       "      <td>...</td>\n",
       "      <td>...</td>\n",
       "      <td>...</td>\n",
       "      <td>...</td>\n",
       "      <td>...</td>\n",
       "      <td>...</td>\n",
       "      <td>...</td>\n",
       "      <td>...</td>\n",
       "      <td>...</td>\n",
       "      <td>...</td>\n",
       "      <td>...</td>\n",
       "      <td>...</td>\n",
       "    </tr>\n",
       "    <tr>\n",
       "      <th>2594</th>\n",
       "      <td>1</td>\n",
       "      <td>0</td>\n",
       "      <td>0</td>\n",
       "      <td>1</td>\n",
       "      <td>0</td>\n",
       "      <td>0</td>\n",
       "      <td>0</td>\n",
       "      <td>0</td>\n",
       "      <td>102</td>\n",
       "      <td>1</td>\n",
       "      <td>0</td>\n",
       "      <td>110</td>\n",
       "      <td>9</td>\n",
       "      <td>103</td>\n",
       "      <td>47.00</td>\n",
       "      <td>110</td>\n",
       "      <td>42</td>\n",
       "      <td>2105</td>\n",
       "      <td>0</td>\n",
       "      <td>1</td>\n",
       "    </tr>\n",
       "    <tr>\n",
       "      <th>2595</th>\n",
       "      <td>2</td>\n",
       "      <td>0</td>\n",
       "      <td>0</td>\n",
       "      <td>0</td>\n",
       "      <td>0</td>\n",
       "      <td>0</td>\n",
       "      <td>0</td>\n",
       "      <td>0</td>\n",
       "      <td>16</td>\n",
       "      <td>9</td>\n",
       "      <td>2</td>\n",
       "      <td>238</td>\n",
       "      <td>18</td>\n",
       "      <td>450</td>\n",
       "      <td>57.00</td>\n",
       "      <td>238</td>\n",
       "      <td>157</td>\n",
       "      <td>562</td>\n",
       "      <td>0</td>\n",
       "      <td>1</td>\n",
       "    </tr>\n",
       "    <tr>\n",
       "      <th>2596</th>\n",
       "      <td>2</td>\n",
       "      <td>0</td>\n",
       "      <td>0</td>\n",
       "      <td>0</td>\n",
       "      <td>0</td>\n",
       "      <td>0</td>\n",
       "      <td>0</td>\n",
       "      <td>0</td>\n",
       "      <td>3</td>\n",
       "      <td>2</td>\n",
       "      <td>0</td>\n",
       "      <td>202</td>\n",
       "      <td>18</td>\n",
       "      <td>36</td>\n",
       "      <td>8.10</td>\n",
       "      <td>202</td>\n",
       "      <td>194</td>\n",
       "      <td>1948</td>\n",
       "      <td>0</td>\n",
       "      <td>1</td>\n",
       "    </tr>\n",
       "    <tr>\n",
       "      <th>2597</th>\n",
       "      <td>1</td>\n",
       "      <td>0</td>\n",
       "      <td>0</td>\n",
       "      <td>0</td>\n",
       "      <td>0</td>\n",
       "      <td>0</td>\n",
       "      <td>0</td>\n",
       "      <td>1</td>\n",
       "      <td>10</td>\n",
       "      <td>3</td>\n",
       "      <td>1</td>\n",
       "      <td>148</td>\n",
       "      <td>9</td>\n",
       "      <td>157</td>\n",
       "      <td>58.20</td>\n",
       "      <td>148</td>\n",
       "      <td>66</td>\n",
       "      <td>661</td>\n",
       "      <td>151</td>\n",
       "      <td>1</td>\n",
       "    </tr>\n",
       "    <tr>\n",
       "      <th>2598</th>\n",
       "      <td>2</td>\n",
       "      <td>0</td>\n",
       "      <td>0</td>\n",
       "      <td>0</td>\n",
       "      <td>0</td>\n",
       "      <td>0</td>\n",
       "      <td>0</td>\n",
       "      <td>0</td>\n",
       "      <td>0</td>\n",
       "      <td>17</td>\n",
       "      <td>0</td>\n",
       "      <td>623</td>\n",
       "      <td>18</td>\n",
       "      <td>29</td>\n",
       "      <td>134.80</td>\n",
       "      <td>623</td>\n",
       "      <td>1092</td>\n",
       "      <td>2184</td>\n",
       "      <td>176</td>\n",
       "      <td>6</td>\n",
       "    </tr>\n",
       "  </tbody>\n",
       "</table>\n",
       "<p>2599 rows × 20 columns</p>\n",
       "</div>"
      ],
      "text/plain": [
       "      是否遇到过网络问题  居民小区  办公室  手机没有信号  有信号无法拨通  通话过程中突然中断  通话中有杂音、听不清、断断续续  \\\n",
       "0             2     0    0       0        0          0                0   \n",
       "1             1     1    1       0        0          0                1   \n",
       "2             2     0    0       0        0          0                0   \n",
       "3             1     1    0       0        0          1                0   \n",
       "4             1     1    0       0        1          0                0   \n",
       "...         ...   ...  ...     ...      ...        ...              ...   \n",
       "2594          1     0    0       1        0          0                0   \n",
       "2595          2     0    0       0        0          0                0   \n",
       "2596          2     0    0       0        0          0                0   \n",
       "2597          1     0    0       0        0          0                0   \n",
       "2598          2     0    0       0        0          0                0   \n",
       "\n",
       "      通话过程中一方听不见  脱网次数  mos质差次数  未接通掉话次数  语音通话-时长（分钟）  终端品牌  终端品牌类型  当月ARPU  \\\n",
       "0              0     1        0        0          161     9      62   45.37   \n",
       "1              0     0       17        1          270     9     176   60.00   \n",
       "2              0    13       39        4          662    18      31   89.00   \n",
       "3              0     8       13        2          645    18      17   70.00   \n",
       "4              1    22        1        2          496     9     246   56.00   \n",
       "...          ...   ...      ...      ...          ...   ...     ...     ...   \n",
       "2594           0   102        1        0          110     9     103   47.00   \n",
       "2595           0    16        9        2          238    18     450   57.00   \n",
       "2596           0     3        2        0          202    18      36    8.10   \n",
       "2597           1    10        3        1          148     9     157   58.20   \n",
       "2598           0     0       17        0          623    18      29  134.80   \n",
       "\n",
       "      当月MOU  前3月MOU  GPRS总流量（KB）  GPRS-国内漫游-流量（KB）  客户星级标识  \n",
       "0       161     139         1391                 0       0  \n",
       "1       270     102         1030                 0       1  \n",
       "2       662      80          767                 0       1  \n",
       "3       645     333          912                 0       1  \n",
       "4       496     258         1313                 0       1  \n",
       "...     ...     ...          ...               ...     ...  \n",
       "2594    110      42         2105                 0       1  \n",
       "2595    238     157          562                 0       1  \n",
       "2596    202     194         1948                 0       1  \n",
       "2597    148      66          661               151       1  \n",
       "2598    623    1092         2184               176       6  \n",
       "\n",
       "[2599 rows x 20 columns]"
      ]
     },
     "execution_count": 54,
     "metadata": {},
     "output_type": "execute_result"
    }
   ],
   "source": [
    "predict"
   ]
  },
  {
   "cell_type": "markdown",
   "id": "b850d38d",
   "metadata": {},
   "source": [
    "# 构建随机森林模型"
   ]
  },
  {
   "cell_type": "code",
   "execution_count": 55,
   "id": "dd2496c8",
   "metadata": {},
   "outputs": [],
   "source": [
    "from sklearn import tree\n",
    "from sklearn.model_selection import train_test_split\n",
    "Xtrain,Xtest,Ytrain,Ytest = train_test_split(X_train,Ytrain,test_size=0.3)"
   ]
  },
  {
   "cell_type": "code",
   "execution_count": 56,
   "id": "14dc4b82",
   "metadata": {},
   "outputs": [],
   "source": [
    "from sklearn.ensemble import RandomForestClassifier\n",
    "forest = RandomForestClassifier(n_estimators=14,criterion=\"gini\",max_depth=30,min_samples_leaf=10)\n",
    "forest.fit(Xtrain,Ytrain)\n",
    "score = forest.score(Xtest,Ytest)#返回准确度"
   ]
  },
  {
   "cell_type": "code",
   "execution_count": 57,
   "id": "98eff6fd",
   "metadata": {},
   "outputs": [
    {
     "data": {
      "text/plain": [
       "0.559115179252479"
      ]
     },
     "execution_count": 57,
     "metadata": {},
     "output_type": "execute_result"
    }
   ],
   "source": [
    "score"
   ]
  },
  {
   "cell_type": "code",
   "execution_count": 58,
   "id": "c617f1da",
   "metadata": {},
   "outputs": [
    {
     "data": {
      "text/plain": [
       "0.6281883584041857"
      ]
     },
     "execution_count": 58,
     "metadata": {},
     "output_type": "execute_result"
    }
   ],
   "source": [
    "forest.score(Xtrain,Ytrain)"
   ]
  },
  {
   "cell_type": "code",
   "execution_count": 59,
   "id": "a0316395",
   "metadata": {},
   "outputs": [],
   "source": [
    "result_forest = forest.predict(predict.values)"
   ]
  },
  {
   "cell_type": "code",
   "execution_count": 60,
   "id": "e37eb41c",
   "metadata": {},
   "outputs": [],
   "source": [
    "pd.DataFrame(result_forest).to_excel('语音通话清晰度_随机森林_predictresult.xlsx', sheet_name='Sheet1', index=False)"
   ]
  },
  {
   "cell_type": "markdown",
   "id": "589c0df8",
   "metadata": {},
   "source": [
    "# 构建神经网络模型"
   ]
  },
  {
   "cell_type": "code",
   "execution_count": 61,
   "id": "dab79375",
   "metadata": {},
   "outputs": [],
   "source": [
    "from sklearn.preprocessing import StandardScaler\n",
    "sc=StandardScaler()\n",
    "sc.fit(X_train)\n",
    "standard_train=sc.transform(Xtrain)\n",
    "standard_test=sc.transform(Xtest)\n",
    "\n"
   ]
  },
  {
   "cell_type": "code",
   "execution_count": 62,
   "id": "952f2b9e",
   "metadata": {},
   "outputs": [
    {
     "name": "stdout",
     "output_type": "stream",
     "text": [
      "测试集预测的正确率为： 0.5621662852784134\n",
      "训练集的正确率为： 0.5572269457161544\n"
     ]
    }
   ],
   "source": [
    "from sklearn.neural_network import MLPClassifier\n",
    "# solver{‘lbfgs’, ‘sgd’, ‘adam’} ‘adam’在相对较大的数据集上效果比较好（几千个样本或者更多），对小数据集来说，lbfgs收敛更快效果也更好。\n",
    "mlp=MLPClassifier(solver='adam',alpha=1e-5,hidden_layer_sizes=(5,5),max_iter=4000)\n",
    "mlp.fit(standard_train,Ytrain)\n",
    "result_mlp=mlp.predict(predict.values)\n",
    "#print(\"测试集合的y值：\",list(Y_test))\n",
    "#print(\"神经网络预测的的y值：\",list(result))\n",
    "print(\"测试集预测的正确率为：\",mlp.score(standard_test,Ytest))\n",
    "print(\"训练集的正确率为：\",mlp.score(standard_train,Ytrain))"
   ]
  },
  {
   "cell_type": "code",
   "execution_count": 63,
   "id": "96aa5108",
   "metadata": {},
   "outputs": [
    {
     "data": {
      "text/plain": [
       "array([10, 10, 10, ..., 10, 10, 10], dtype=int64)"
      ]
     },
     "execution_count": 63,
     "metadata": {},
     "output_type": "execute_result"
    }
   ],
   "source": [
    "result_mlp"
   ]
  },
  {
   "cell_type": "code",
   "execution_count": 64,
   "id": "6b7995e0",
   "metadata": {},
   "outputs": [],
   "source": [
    "pd.DataFrame(result_mlp).to_excel('语音通话清晰度_神经网络_predictresult.xlsx', sheet_name='Sheet1', index=False)"
   ]
  },
  {
   "cell_type": "markdown",
   "id": "d7de8db5",
   "metadata": {},
   "source": [
    "# 构建XGBoost算法模型"
   ]
  },
  {
   "cell_type": "code",
   "execution_count": 65,
   "id": "0b678014",
   "metadata": {},
   "outputs": [],
   "source": [
    "from sklearn.preprocessing import LabelEncoder\n",
    "le = LabelEncoder()\n",
    "Ytrain = le.fit_transform(Ytrain)\n",
    "Ytest = le.fit_transform(Ytest)"
   ]
  },
  {
   "cell_type": "code",
   "execution_count": 66,
   "id": "64ba8383",
   "metadata": {},
   "outputs": [
    {
     "data": {
      "text/plain": [
       "0.5446224256292906"
      ]
     },
     "execution_count": 66,
     "metadata": {},
     "output_type": "execute_result"
    }
   ],
   "source": [
    "from xgboost.sklearn import XGBClassifier\n",
    "xgbc = XGBClassifier()\n",
    "xgbc.fit(Xtrain.values,Ytrain)\n",
    "xgbc.score(Xtest.values,Ytest)"
   ]
  },
  {
   "cell_type": "code",
   "execution_count": 67,
   "id": "26158b18",
   "metadata": {},
   "outputs": [
    {
     "data": {
      "text/plain": [
       "0.9941137998691956"
      ]
     },
     "execution_count": 67,
     "metadata": {},
     "output_type": "execute_result"
    }
   ],
   "source": [
    "xgbc.score(Xtrain.values,Ytrain)"
   ]
  },
  {
   "cell_type": "code",
   "execution_count": 68,
   "id": "2decc0db",
   "metadata": {},
   "outputs": [],
   "source": [
    "result_xgbc=xgbc.predict(predict.values)+1"
   ]
  },
  {
   "cell_type": "code",
   "execution_count": 69,
   "id": "83aaa187",
   "metadata": {},
   "outputs": [],
   "source": [
    "pd.DataFrame(result_xgbc).to_excel('语音通话清晰度_XGBoost_predictresult.xlsx', sheet_name='Sheet1', index=False)"
   ]
  },
  {
   "cell_type": "code",
   "execution_count": 70,
   "id": "99197bf0",
   "metadata": {},
   "outputs": [],
   "source": [
    "Ytrain=data1['语音通话清晰度'].values\n",
    "a=data1.drop('语音通话清晰度', axis = 1)\n",
    "a=pd.DataFrame(a)\n",
    "a=a.iloc[:,idx_features]\n",
    "Xtrain=a.values"
   ]
  },
  {
   "cell_type": "code",
   "execution_count": 71,
   "id": "fca5b941",
   "metadata": {},
   "outputs": [],
   "source": [
    "test_forest=forest.predict(Xtrain)"
   ]
  },
  {
   "cell_type": "code",
   "execution_count": 72,
   "id": "8c923b04",
   "metadata": {},
   "outputs": [],
   "source": [
    "test_mlp=mlp.predict(Xtrain)"
   ]
  },
  {
   "cell_type": "code",
   "execution_count": 73,
   "id": "9f1590f5",
   "metadata": {},
   "outputs": [],
   "source": [
    "test_xgbc=xgbc.predict(Xtrain)+1"
   ]
  },
  {
   "cell_type": "code",
   "execution_count": 74,
   "id": "6f34636d",
   "metadata": {},
   "outputs": [],
   "source": [
    "import pandas\n",
    "allreuslt= pd.concat([pd.DataFrame(result_forest),pd.DataFrame(result_mlp),pd.DataFrame(result_xgbc)],axis=1) \n",
    "alltrain= pd.concat([pd.DataFrame(test_forest),pd.DataFrame(test_mlp),pd.DataFrame(test_xgbc)],axis=1) "
   ]
  },
  {
   "cell_type": "code",
   "execution_count": 75,
   "id": "d4a8abb6",
   "metadata": {},
   "outputs": [],
   "source": [
    "Xtrain,Xtest,Ytrain,Ytest = train_test_split(alltrain,Ytrain,test_size=0.3)"
   ]
  },
  {
   "cell_type": "markdown",
   "id": "b93d21d4",
   "metadata": {},
   "source": [
    "# 构建融合模型"
   ]
  },
  {
   "cell_type": "code",
   "execution_count": 76,
   "id": "a445c175",
   "metadata": {},
   "outputs": [
    {
     "name": "stdout",
     "output_type": "stream",
     "text": [
      "0.6770252072552385\n",
      "0.7392380685252842\n"
     ]
    }
   ],
   "source": [
    "from sklearn.linear_model import LinearRegression\n",
    "#线性回归\n",
    "lr=LinearRegression().fit(Xtrain,Ytrain)\n",
    "print(lr.score(Xtrain,Ytrain))\n",
    "print(lr.score(Xtest,Ytest))"
   ]
  },
  {
   "cell_type": "code",
   "execution_count": 77,
   "id": "bafcb556",
   "metadata": {
    "scrolled": true
   },
   "outputs": [],
   "source": [
    "a=lr.predict(allreuslt)"
   ]
  },
  {
   "cell_type": "code",
   "execution_count": 78,
   "id": "25d4dbac",
   "metadata": {},
   "outputs": [
    {
     "data": {
      "text/plain": [
       "array([9.65998255, 8.76451841, 9.65998255, ..., 9.65998255, 9.65998255,\n",
       "       9.65998255])"
      ]
     },
     "execution_count": 78,
     "metadata": {},
     "output_type": "execute_result"
    }
   ],
   "source": [
    "a"
   ]
  },
  {
   "cell_type": "code",
   "execution_count": 79,
   "id": "2e584580",
   "metadata": {},
   "outputs": [],
   "source": [
    "a=a.round(0)"
   ]
  },
  {
   "cell_type": "code",
   "execution_count": 80,
   "id": "9b0de46f",
   "metadata": {},
   "outputs": [],
   "source": [
    "pd.DataFrame(a).to_excel('语音通话清晰度_predict_result.xlsx', sheet_name='Sheet1', index=False)"
   ]
  },
  {
   "cell_type": "code",
   "execution_count": null,
   "id": "b2a00b00",
   "metadata": {},
   "outputs": [],
   "source": []
  }
 ],
 "metadata": {
  "kernelspec": {
   "display_name": "Python 3 (ipykernel)",
   "language": "python",
   "name": "python3"
  },
  "language_info": {
   "codemirror_mode": {
    "name": "ipython",
    "version": 3
   },
   "file_extension": ".py",
   "mimetype": "text/x-python",
   "name": "python",
   "nbconvert_exporter": "python",
   "pygments_lexer": "ipython3",
   "version": "3.10.7"
  }
 },
 "nbformat": 4,
 "nbformat_minor": 5
}
