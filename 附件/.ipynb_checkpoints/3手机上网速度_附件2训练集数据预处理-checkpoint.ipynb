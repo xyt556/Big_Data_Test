{
 "cells": [
  {
   "cell_type": "code",
   "execution_count": 1,
   "id": "0edc1f24",
   "metadata": {
    "scrolled": true
   },
   "outputs": [
    {
     "name": "stdout",
     "output_type": "stream",
     "text": [
      "用户                0\n",
      "手机上网整体满意度         0\n",
      "网络覆盖与信号强度         0\n",
      "手机上网速度            0\n",
      "手机上网稳定性           0\n",
      "               ... \n",
      "近3个月平均消费（元）       0\n",
      "本年累计消费（元）         0\n",
      "码号资源-激活时间      4150\n",
      "码号资源-发卡时间      4004\n",
      "客户星级标识            0\n",
      "Length: 125, dtype: int64\n",
      "0\n",
      "(7020, 125)\n",
      "['用户', '手机上网整体满意度', '网络覆盖与信号强度', '手机上网速度', '手机上网稳定性', '居民小区', '办公室', '高校', '商业街', '地铁', '农村', '高铁', '其他，请注明', '场景备注数据', '网络信号差/没有信号', '显示有信号上不了网', '上网过程中网络时断时续或时快时慢', '手机上网速度慢', '其他，请注明.1', '现象备注数据', '看视频卡顿', '打游戏延时大', '打开网页或APP图片慢', '下载速度慢', '手机支付较慢', '其他，请注明.2', 'APP大类备注', '爱奇艺', '优酷', '腾讯视频', '芒果TV', '搜狐视频', '抖音', '快手', '火山', '咪咕视频', '其他，请注明.3', 'APP小类视频备注', '全部都卡顿', '和平精英', '王者荣耀', '穿越火线', '梦幻西游', '龙之谷', '梦幻诛仙', '欢乐斗地主', '部落冲突', '炉石传说', '阴阳师', '其他，请注明.4', 'APP小类游戏备注', '全部游戏都卡顿', '微信', '手机QQ', '淘宝', '京东', '百度', '今日头条', '新浪微博', '拼多多', '其他，请注明.5', 'APP小类上网备注', '全部网页或APP都慢', '上网质差次数', '脱网次数', '重定向次数', '2G驻留时长', '微信质差次数', '王者荣耀质差次数', '高单价超套客户（集团）', '高频高额超套客户（集团）', '套外流量（MB）', '套外流量费（元）', '是否全月漫游用户', '是否不限量套餐到达用户', '年龄', '性别', '王者荣耀使用次数', '游戏类APP使用天数', '游戏类APP使用次数', '王者荣耀使用天数', '游戏类APP使用流量', '抖音使用流量（MB）', '今日头条使用流量', '快手使用流量', '优酷视频使用流量', '腾讯视频使用流量', '小视频系APP流量', '阿里系APP流量', '网易系APP流量', '腾讯系APP流量', '王者荣耀APP使用流量', '蜻蜓FMAPP使用流量', '饿了么使用流量', '美团外卖使用流量', '天猫使用流量', '大众点评使用流量', '滴滴出行使用流量', '通信类应用流量', '游戏类应用流量', '网页类应用流量', '音乐类应用流量', '视频类应用流量', '邮箱类应用流量', '终端类型', '操作系统', '终端制式', '终端品牌', '终端品牌类型', '是否5G网络客户', '当月GPRS资源使用量（GB）', '是否校园套餐用户', '校园卡无校园合约用户', '校园卡校园合约捆绑用户', '当月高频通信分公司', '畅享套餐档位', '畅享套餐名称', '主套餐档位', '当月MOU', '近3个月平均消费（剔除通信账户支付）', '近3个月平均消费（元）', '本年累计消费（元）', '码号资源-激活时间', '码号资源-发卡时间', '客户星级标识']\n"
     ]
    }
   ],
   "source": [
    "import numpy as np\n",
    "import pandas as pd\n",
    "import matplotlib.pyplot as plt\n",
    "import scipy.interpolate as interpolate\n",
    "io = r'附件2上网业务用户满意度数据.xlsx'\n",
    "\n",
    "data = pd.read_excel(io,header = [0],sheet_name = 'Sheet1')\n",
    "data.head()\n",
    "print(data.isnull().sum())\n",
    "print(data.duplicated().sum())\n",
    "print(data.shape)\n",
    "print([column for column in data])"
   ]
  },
  {
   "cell_type": "markdown",
   "id": "51dd8f43",
   "metadata": {},
   "source": [
    "# 删除与预测集无关数据"
   ]
  },
  {
   "cell_type": "code",
   "execution_count": 2,
   "id": "049da089",
   "metadata": {},
   "outputs": [],
   "source": [
    "data=data.drop(list(data)[77:107],axis=1)"
   ]
  },
  {
   "cell_type": "code",
   "execution_count": 3,
   "id": "ceaa9c3d",
   "metadata": {},
   "outputs": [],
   "source": [
    "data=data.drop(['其他，请注明.5','王者荣耀质差次数','高单价超套客户（集团）','高频高额超套客户（集团）','是否全月漫游用户','年龄'], axis=1)"
   ]
  },
  {
   "cell_type": "code",
   "execution_count": 4,
   "id": "81eb01dc",
   "metadata": {},
   "outputs": [],
   "source": [
    "data=data.drop(list(data)[75:82],axis=1)"
   ]
  },
  {
   "cell_type": "code",
   "execution_count": 5,
   "id": "19851d3e",
   "metadata": {},
   "outputs": [],
   "source": [
    "data=data.drop(['码号资源-激活时间','码号资源-发卡时间','本年累计消费（元）','近3个月平均消费（剔除通信账户支付）'], axis=1)"
   ]
  },
  {
   "cell_type": "code",
   "execution_count": 6,
   "id": "19c4ef84",
   "metadata": {},
   "outputs": [
    {
     "data": {
      "text/plain": [
       "count    7020.000000\n",
       "mean       76.825705\n",
       "std        63.791559\n",
       "min         0.000000\n",
       "25%        34.000000\n",
       "50%        59.670000\n",
       "75%       102.050000\n",
       "max       724.030000\n",
       "Name: 近3个月平均消费（元）, dtype: float64"
      ]
     },
     "execution_count": 6,
     "metadata": {},
     "output_type": "execute_result"
    }
   ],
   "source": [
    "data.loc[:,'近3个月平均消费（元）'].describe()"
   ]
  },
  {
   "cell_type": "code",
   "execution_count": 7,
   "id": "69853f71",
   "metadata": {},
   "outputs": [
    {
     "data": {
      "text/plain": [
       "count    7020.000000\n",
       "mean       21.098467\n",
       "std        25.220009\n",
       "min         0.000000\n",
       "25%         5.210050\n",
       "50%        13.232450\n",
       "75%        27.725125\n",
       "max       344.777500\n",
       "Name: 当月GPRS资源使用量（GB）, dtype: float64"
      ]
     },
     "execution_count": 7,
     "metadata": {},
     "output_type": "execute_result"
    }
   ],
   "source": [
    "data.loc[:,'当月GPRS资源使用量（GB）'].describe()"
   ]
  },
  {
   "cell_type": "markdown",
   "id": "46300697",
   "metadata": {},
   "source": [
    "# 删除大量缺失值所在列"
   ]
  },
  {
   "cell_type": "code",
   "execution_count": 8,
   "id": "6ed004f2",
   "metadata": {},
   "outputs": [],
   "source": [
    "data=data.drop(['场景备注数据','现象备注数据','APP大类备注','APP小类视频备注','APP小类游戏备注','APP小类上网备注'], axis=1)\n"
   ]
  },
  {
   "cell_type": "markdown",
   "id": "1ab8add8",
   "metadata": {},
   "source": [
    "# 填充空值为零数据"
   ]
  },
  {
   "cell_type": "code",
   "execution_count": 9,
   "id": "5a0bda35",
   "metadata": {},
   "outputs": [],
   "source": [
    "data.loc[:,('上网质差次数','脱网次数','微信质差次数','重定向次数','2G驻留时长','终端品牌类型','终端品牌')]=data.loc[:,('上网质差次数','脱网次数','微信质差次数','重定向次数','2G驻留时长','终端品牌类型','终端品牌')].fillna(0)"
   ]
  },
  {
   "cell_type": "code",
   "execution_count": 10,
   "id": "f1cca9eb",
   "metadata": {},
   "outputs": [],
   "source": [
    "a=data.isnull().sum()\n",
    "a = pd.DataFrame(a)"
   ]
  },
  {
   "cell_type": "code",
   "execution_count": 11,
   "id": "00ad532a",
   "metadata": {},
   "outputs": [
    {
     "data": {
      "text/plain": [
       "(7020, 72)"
      ]
     },
     "execution_count": 11,
     "metadata": {},
     "output_type": "execute_result"
    }
   ],
   "source": [
    "data.shape"
   ]
  },
  {
   "cell_type": "markdown",
   "id": "64aaa4aa",
   "metadata": {},
   "source": [
    "# 编码转化"
   ]
  },
  {
   "cell_type": "code",
   "execution_count": 12,
   "id": "aa53f473",
   "metadata": {
    "scrolled": true
   },
   "outputs": [
    {
     "name": "stderr",
     "output_type": "stream",
     "text": [
      "C:\\Users\\白小帅\\AppData\\Local\\Temp\\ipykernel_33912\\531884588.py:2: FutureWarning: In a future version, `df.iloc[:, i] = newvals` will attempt to set the values inplace instead of always setting a new array. To retain the old behavior, use either `df[df.columns[i]] = newvals` or, if columns are non-unique, `df.isetitem(i, newvals)`\n",
      "  data.iloc[:,5:56]=OrdinalEncoder().fit_transform(data.iloc[:,5:56])\n"
     ]
    }
   ],
   "source": [
    "from sklearn.preprocessing import OrdinalEncoder\n",
    "data.iloc[:,5:56]=OrdinalEncoder().fit_transform(data.iloc[:,5:56])"
   ]
  },
  {
   "cell_type": "markdown",
   "id": "95011d07",
   "metadata": {},
   "source": [
    "data.to_excel('test3.xlsx', sheet_name='Sheet1', index=False)"
   ]
  },
  {
   "cell_type": "markdown",
   "id": "e18df908",
   "metadata": {},
   "source": [
    "# 将数字转化为字符"
   ]
  },
  {
   "cell_type": "code",
   "execution_count": 13,
   "id": "8bfed4b8",
   "metadata": {},
   "outputs": [
    {
     "name": "stderr",
     "output_type": "stream",
     "text": [
      "C:\\Users\\白小帅\\AppData\\Local\\Temp\\ipykernel_33912\\1099961786.py:3: SettingWithCopyWarning: \n",
      "A value is trying to be set on a copy of a slice from a DataFrame\n",
      "\n",
      "See the caveats in the documentation: https://pandas.pydata.org/pandas-docs/stable/user_guide/indexing.html#returning-a-view-versus-a-copy\n",
      "  d.iloc[i]=str(d.iloc[i])\n"
     ]
    }
   ],
   "source": [
    "d=data.loc[:,'终端品牌']\n",
    "for i in range(7020):\n",
    "    d.iloc[i]=str(d.iloc[i])\n",
    "    "
   ]
  },
  {
   "cell_type": "code",
   "execution_count": 14,
   "id": "b8ee4dab",
   "metadata": {},
   "outputs": [
    {
     "name": "stderr",
     "output_type": "stream",
     "text": [
      "C:\\Users\\白小帅\\AppData\\Local\\Temp\\ipykernel_33912\\2031632004.py:3: SettingWithCopyWarning: \n",
      "A value is trying to be set on a copy of a slice from a DataFrame\n",
      "\n",
      "See the caveats in the documentation: https://pandas.pydata.org/pandas-docs/stable/user_guide/indexing.html#returning-a-view-versus-a-copy\n",
      "  d.iloc[i]=str(d.iloc[i])\n"
     ]
    }
   ],
   "source": [
    "d=data.loc[:,'终端品牌类型']\n",
    "for i in range(7020):\n",
    "    d.iloc[i]=str(d.iloc[i])"
   ]
  },
  {
   "cell_type": "code",
   "execution_count": 15,
   "id": "2e550dc3",
   "metadata": {
    "scrolled": true
   },
   "outputs": [
    {
     "name": "stderr",
     "output_type": "stream",
     "text": [
      "C:\\Users\\白小帅\\AppData\\Local\\Temp\\ipykernel_33912\\1928236234.py:1: FutureWarning: In a future version, `df.iloc[:, i] = newvals` will attempt to set the values inplace instead of always setting a new array. To retain the old behavior, use either `df[df.columns[i]] = newvals` or, if columns are non-unique, `df.isetitem(i, newvals)`\n",
      "  data.loc[:,['是否不限量套餐到达用户','终端品牌','是否5G网络客户','客户星级标识','性别','终端品牌类型']]=OrdinalEncoder().fit_transform(data.loc[:,['是否不限量套餐到达用户','终端品牌','是否5G网络客户','客户星级标识','性别','终端品牌类型']])\n"
     ]
    }
   ],
   "source": [
    "data.loc[:,['是否不限量套餐到达用户','终端品牌','是否5G网络客户','客户星级标识','性别','终端品牌类型']]=OrdinalEncoder().fit_transform(data.loc[:,['是否不限量套餐到达用户','终端品牌','是否5G网络客户','客户星级标识','性别','终端品牌类型']])"
   ]
  },
  {
   "cell_type": "code",
   "execution_count": 16,
   "id": "877bf9d2",
   "metadata": {},
   "outputs": [
    {
     "data": {
      "text/plain": [
       "(7020, 72)"
      ]
     },
     "execution_count": 16,
     "metadata": {},
     "output_type": "execute_result"
    }
   ],
   "source": [
    "data.shape"
   ]
  },
  {
   "cell_type": "markdown",
   "id": "62adfa0d",
   "metadata": {},
   "source": [
    "# 特征替换，将附件二重定向次数与2G驻留时长替换为附件四中是否遇到网络问题（规则为，如附加二中用户存在重定向或2G驻留问题，即认定存在网络问题）"
   ]
  },
  {
   "cell_type": "code",
   "execution_count": 17,
   "id": "21b1378b",
   "metadata": {},
   "outputs": [],
   "source": [
    "a=data.loc[:,'重定向次数']\n",
    "b=data.loc[:,'2G驻留时长']\n",
    "d=a+b\n",
    "for i in range(7020):\n",
    "    if d.iloc[i] ==0:\n",
    "        d.iloc[i]=1\n",
    "    else:\n",
    "        d.iloc[i]=2"
   ]
  },
  {
   "cell_type": "code",
   "execution_count": 18,
   "id": "b4de57ef",
   "metadata": {},
   "outputs": [],
   "source": [
    "data=data.drop(['重定向次数','2G驻留时长'], axis=1)"
   ]
  },
  {
   "cell_type": "code",
   "execution_count": 19,
   "id": "96415ef0",
   "metadata": {},
   "outputs": [],
   "source": [
    "data = pd.concat([data, pd.DataFrame(columns=['是否遇到网络问题'])])"
   ]
  },
  {
   "cell_type": "code",
   "execution_count": 20,
   "id": "d5bef2d2",
   "metadata": {},
   "outputs": [
    {
     "name": "stderr",
     "output_type": "stream",
     "text": [
      "C:\\Users\\白小帅\\AppData\\Local\\Temp\\ipykernel_33912\\2666148713.py:1: FutureWarning: In a future version, `df.iloc[:, i] = newvals` will attempt to set the values inplace instead of always setting a new array. To retain the old behavior, use either `df[df.columns[i]] = newvals` or, if columns are non-unique, `df.isetitem(i, newvals)`\n",
      "  data.loc[:,'是否遇到网络问题']= d\n"
     ]
    }
   ],
   "source": [
    "data.loc[:,'是否遇到网络问题']= d"
   ]
  },
  {
   "cell_type": "markdown",
   "id": "589a4c0b",
   "metadata": {},
   "source": [
    "# 将训练集与预测集构建一致"
   ]
  },
  {
   "cell_type": "code",
   "execution_count": 21,
   "id": "7f4ac592",
   "metadata": {},
   "outputs": [],
   "source": [
    "data=data.rename(columns={\"近3个月平均消费（元）\": \"当月ARPU\"})"
   ]
  },
  {
   "cell_type": "code",
   "execution_count": 22,
   "id": "803b3eb7",
   "metadata": {},
   "outputs": [],
   "source": [
    "mid = data['是否遇到网络问题']  \n",
    "data.pop('是否遇到网络问题') \n",
    "data.insert(0, '是否遇到网络问题', mid) \n",
    "mid = data['脱网次数']  \n",
    "data.pop('脱网次数') \n",
    "data.insert(0, '脱网次数', mid) \n",
    "mid = data['是否不限量套餐到达用户']  \n",
    "data.pop('是否不限量套餐到达用户') \n",
    "data.insert(0, '是否不限量套餐到达用户', mid) \n",
    "mid = data['性别']  \n",
    "data.pop('性别') \n",
    "data.insert(0, '性别', mid) \n",
    "mid = data['是否5G网络客户']  \n",
    "data.pop('是否5G网络客户') \n",
    "data.insert(0, '是否5G网络客户', mid) \n",
    "mid = data['当月ARPU']  \n",
    "data.pop('当月ARPU') \n",
    "data.insert(0, '当月ARPU', mid) \n",
    "mid = data['当月GPRS资源使用量（GB）']  \n",
    "data.pop('当月GPRS资源使用量（GB）') \n",
    "data.insert(0, '当月GPRS资源使用量（GB）', mid) "
   ]
  },
  {
   "cell_type": "markdown",
   "id": "1888d9ef",
   "metadata": {},
   "source": [
    "# 嵌入法特征选择"
   ]
  },
  {
   "cell_type": "code",
   "execution_count": 23,
   "id": "b872e4be",
   "metadata": {},
   "outputs": [],
   "source": [
    "data1=data.copy()\n",
    "data1=data1.drop(['用户', '手机上网整体满意度','网络覆盖与信号强度','手机上网稳定性'], axis=1)\n",
    "Ytrain=data1['手机上网速度'].values\n",
    "Xtrain=data1.drop('手机上网速度', axis = 1).values\n"
   ]
  },
  {
   "cell_type": "code",
   "execution_count": 24,
   "id": "5e1e1397",
   "metadata": {},
   "outputs": [],
   "source": [
    "from sklearn.feature_selection import SelectFromModel\n",
    "from sklearn.ensemble import RandomForestClassifier as RFC\n"
   ]
  },
  {
   "cell_type": "code",
   "execution_count": 25,
   "id": "660f0437",
   "metadata": {},
   "outputs": [],
   "source": [
    "RFC_ = RFC(n_estimators=100,random_state=0)#随机森林实例化\n"
   ]
  },
  {
   "cell_type": "code",
   "execution_count": 26,
   "id": "8dd55e4a",
   "metadata": {},
   "outputs": [
    {
     "data": {
      "text/plain": [
       "0.1025102025013382"
      ]
     },
     "execution_count": 26,
     "metadata": {},
     "output_type": "execute_result"
    }
   ],
   "source": [
    "(RFC_.fit(Xtrain,Ytrain).feature_importances_).max()"
   ]
  },
  {
   "cell_type": "code",
   "execution_count": 27,
   "id": "b86de2ee",
   "metadata": {},
   "outputs": [
    {
     "data": {
      "text/plain": [
       "array([0.        , 0.00103546, 0.00207091, 0.00310637, 0.00414183,\n",
       "       0.00517728, 0.00621274, 0.0072482 , 0.00828365, 0.00931911,\n",
       "       0.01035457, 0.01139002, 0.01242548, 0.01346094, 0.01449639,\n",
       "       0.01553185, 0.01656731, 0.01760276, 0.01863822, 0.01967368,\n",
       "       0.02070913, 0.02174459, 0.02278005, 0.0238155 , 0.02485096,\n",
       "       0.02588641, 0.02692187, 0.02795733, 0.02899278, 0.03002824,\n",
       "       0.0310637 , 0.03209915, 0.03313461, 0.03417007, 0.03520552,\n",
       "       0.03624098, 0.03727644, 0.03831189, 0.03934735, 0.04038281,\n",
       "       0.04141826, 0.04245372, 0.04348918, 0.04452463, 0.04556009,\n",
       "       0.04659555, 0.047631  , 0.04866646, 0.04970192, 0.05073737,\n",
       "       0.05177283, 0.05280829, 0.05384374, 0.0548792 , 0.05591466,\n",
       "       0.05695011, 0.05798557, 0.05902103, 0.06005648, 0.06109194,\n",
       "       0.0621274 , 0.06316285, 0.06419831, 0.06523377, 0.06626922,\n",
       "       0.06730468, 0.06834014, 0.06937559, 0.07041105, 0.0714465 ,\n",
       "       0.07248196, 0.07351742, 0.07455287, 0.07558833, 0.07662379,\n",
       "       0.07765924, 0.0786947 , 0.07973016, 0.08076561, 0.08180107,\n",
       "       0.08283653, 0.08387198, 0.08490744, 0.0859429 , 0.08697835,\n",
       "       0.08801381, 0.08904927, 0.09008472, 0.09112018, 0.09215564,\n",
       "       0.09319109, 0.09422655, 0.09526201, 0.09629746, 0.09733292,\n",
       "       0.09836838, 0.09940383, 0.10043929, 0.10147475, 0.1025102 ])"
      ]
     },
     "execution_count": 27,
     "metadata": {},
     "output_type": "execute_result"
    }
   ],
   "source": [
    "threshold = np.linspace(0,(RFC_.fit(Xtrain,Ytrain).feature_importances_).max(),100)\n",
    "threshold"
   ]
  },
  {
   "cell_type": "code",
   "execution_count": 28,
   "id": "9ef9ef09",
   "metadata": {},
   "outputs": [
    {
     "data": {
      "image/png": "[encoded data removed]",
      "text/plain": [
       "<Figure size 400x400 with 1 Axes>"
      ]
     },
     "metadata": {},
     "output_type": "display_data"
    },
    {
     "name": "stdout",
     "output_type": "stream",
     "text": [
      "3\n"
     ]
    }
   ],
   "source": [
    "from sklearn.model_selection import cross_val_score\n",
    "score=[]\n",
    "for i in threshold :\n",
    "    X_embedded = SelectFromModel(RFC_,threshold=i).fit_transform(Xtrain,Ytrain)\n",
    "    once= cross_val_score(RFC_,X_embedded,Ytrain,cv=5).mean()\n",
    "    score.append(once)\n",
    "p=plt.figure(figsize=(4,4))\n",
    "plt.plot(threshold,score,color='red',label='score')\n",
    "plt.legend()\n",
    "plt.show()\n",
    "print(score.index(max(score)))"
   ]
  },
  {
   "cell_type": "code",
   "execution_count": 29,
   "id": "0e598dea",
   "metadata": {},
   "outputs": [],
   "source": [
    "p.savefig(fname='手机上网速度-嵌入法寻找最佳阈值的学习曲线.png',dpi='figure')"
   ]
  },
  {
   "cell_type": "code",
   "execution_count": 30,
   "id": "9f3173a2",
   "metadata": {},
   "outputs": [
    {
     "data": {
      "text/plain": [
       "(7020, 45)"
      ]
     },
     "execution_count": 30,
     "metadata": {},
     "output_type": "execute_result"
    }
   ],
   "source": [
    "X_embedded = SelectFromModel(RFC_,threshold=threshold[score.index(max(score))]).fit_transform(Xtrain,Ytrain)\n",
    "\n",
    "X_embedded.shape#筛选后特征数"
   ]
  },
  {
   "cell_type": "code",
   "execution_count": 31,
   "id": "2652b624",
   "metadata": {},
   "outputs": [],
   "source": [
    "from sklearn.model_selection import cross_val_score\n",
    "once= cross_val_score(RFC_,X_embedded,Ytrain,cv=5).mean()\n"
   ]
  },
  {
   "cell_type": "code",
   "execution_count": 32,
   "id": "42e47b3c",
   "metadata": {},
   "outputs": [
    {
     "data": {
      "text/plain": [
       "0.3927350427350428"
      ]
     },
     "execution_count": 32,
     "metadata": {},
     "output_type": "execute_result"
    }
   ],
   "source": [
    "once"
   ]
  },
  {
   "cell_type": "code",
   "execution_count": 33,
   "id": "c4f6d833",
   "metadata": {},
   "outputs": [],
   "source": [
    "x=pd.concat([pd.DataFrame(RFC_.fit(Xtrain,Ytrain).feature_importances_.reshape(1,66)),pd.DataFrame(Xtrain)],axis=0)"
   ]
  },
  {
   "cell_type": "code",
   "execution_count": 34,
   "id": "8fb1a7ae",
   "metadata": {},
   "outputs": [],
   "source": [
    "importance=(RFC_.fit(Xtrain,Ytrain).feature_importances_)\n",
    "idx_features = (-importance).argsort()[:X_embedded.shape[1]]\n",
    "idx_features.sort()\n",
    "X_train=pd.DataFrame(Xtrain).iloc[:,idx_features]"
   ]
  },
  {
   "cell_type": "markdown",
   "id": "cb0ca013",
   "metadata": {},
   "source": [
    "# 构建预测集"
   ]
  },
  {
   "cell_type": "code",
   "execution_count": 35,
   "id": "e8c6a0f2",
   "metadata": {},
   "outputs": [
    {
     "data": {
      "text/html": [
       "<div>\n",
       "<style scoped>\n",
       "    .dataframe tbody tr th:only-of-type {\n",
       "        vertical-align: middle;\n",
       "    }\n",
       "\n",
       "    .dataframe tbody tr th {\n",
       "        vertical-align: top;\n",
       "    }\n",
       "\n",
       "    .dataframe thead th {\n",
       "        text-align: right;\n",
       "    }\n",
       "</style>\n",
       "<table border=\"1\" class=\"dataframe\">\n",
       "  <thead>\n",
       "    <tr style=\"text-align: right;\">\n",
       "      <th></th>\n",
       "      <th>当月GPRS资源使用量（GB）</th>\n",
       "      <th>当月ARPU</th>\n",
       "      <th>是否5G网络客户</th>\n",
       "      <th>性别</th>\n",
       "      <th>是否不限量套餐到达用户</th>\n",
       "      <th>脱网次数</th>\n",
       "      <th>是否遇到网络问题</th>\n",
       "      <th>居民小区</th>\n",
       "      <th>办公室</th>\n",
       "      <th>高校</th>\n",
       "      <th>...</th>\n",
       "      <th>拼多多</th>\n",
       "      <th>全部网页或APP都慢</th>\n",
       "      <th>上网质差次数</th>\n",
       "      <th>微信质差次数</th>\n",
       "      <th>套外流量（MB）</th>\n",
       "      <th>套外流量费（元）</th>\n",
       "      <th>终端品牌</th>\n",
       "      <th>终端品牌类型</th>\n",
       "      <th>当月MOU</th>\n",
       "      <th>客户星级标识</th>\n",
       "    </tr>\n",
       "  </thead>\n",
       "  <tbody>\n",
       "    <tr>\n",
       "      <th>0</th>\n",
       "      <td>4.088200</td>\n",
       "      <td>0.0</td>\n",
       "      <td>1</td>\n",
       "      <td>2</td>\n",
       "      <td>0</td>\n",
       "      <td>8</td>\n",
       "      <td>2</td>\n",
       "      <td>0</td>\n",
       "      <td>0</td>\n",
       "      <td>0</td>\n",
       "      <td>...</td>\n",
       "      <td>0</td>\n",
       "      <td>0</td>\n",
       "      <td>0</td>\n",
       "      <td>0</td>\n",
       "      <td>0.0</td>\n",
       "      <td>0.0</td>\n",
       "      <td>11</td>\n",
       "      <td>166</td>\n",
       "      <td>2</td>\n",
       "      <td>2</td>\n",
       "    </tr>\n",
       "    <tr>\n",
       "      <th>1</th>\n",
       "      <td>4.643740</td>\n",
       "      <td>0.0</td>\n",
       "      <td>1</td>\n",
       "      <td>0</td>\n",
       "      <td>0</td>\n",
       "      <td>43</td>\n",
       "      <td>1</td>\n",
       "      <td>0</td>\n",
       "      <td>0</td>\n",
       "      <td>0</td>\n",
       "      <td>...</td>\n",
       "      <td>0</td>\n",
       "      <td>0</td>\n",
       "      <td>0</td>\n",
       "      <td>0</td>\n",
       "      <td>0.0</td>\n",
       "      <td>0.0</td>\n",
       "      <td>11</td>\n",
       "      <td>163</td>\n",
       "      <td>6</td>\n",
       "      <td>1</td>\n",
       "    </tr>\n",
       "    <tr>\n",
       "      <th>2</th>\n",
       "      <td>41.511201</td>\n",
       "      <td>0.0</td>\n",
       "      <td>1</td>\n",
       "      <td>1</td>\n",
       "      <td>0</td>\n",
       "      <td>1</td>\n",
       "      <td>1</td>\n",
       "      <td>0</td>\n",
       "      <td>1</td>\n",
       "      <td>0</td>\n",
       "      <td>...</td>\n",
       "      <td>0</td>\n",
       "      <td>0</td>\n",
       "      <td>0</td>\n",
       "      <td>0</td>\n",
       "      <td>0.0</td>\n",
       "      <td>0.0</td>\n",
       "      <td>9</td>\n",
       "      <td>77</td>\n",
       "      <td>232</td>\n",
       "      <td>2</td>\n",
       "    </tr>\n",
       "    <tr>\n",
       "      <th>3</th>\n",
       "      <td>10.175967</td>\n",
       "      <td>0.0</td>\n",
       "      <td>1</td>\n",
       "      <td>0</td>\n",
       "      <td>0</td>\n",
       "      <td>6</td>\n",
       "      <td>2</td>\n",
       "      <td>0</td>\n",
       "      <td>0</td>\n",
       "      <td>0</td>\n",
       "      <td>...</td>\n",
       "      <td>0</td>\n",
       "      <td>0</td>\n",
       "      <td>0</td>\n",
       "      <td>0</td>\n",
       "      <td>0.0</td>\n",
       "      <td>0.0</td>\n",
       "      <td>15</td>\n",
       "      <td>345</td>\n",
       "      <td>2</td>\n",
       "      <td>2</td>\n",
       "    </tr>\n",
       "    <tr>\n",
       "      <th>4</th>\n",
       "      <td>10.007606</td>\n",
       "      <td>0.0</td>\n",
       "      <td>1</td>\n",
       "      <td>0</td>\n",
       "      <td>0</td>\n",
       "      <td>27</td>\n",
       "      <td>1</td>\n",
       "      <td>1</td>\n",
       "      <td>0</td>\n",
       "      <td>0</td>\n",
       "      <td>...</td>\n",
       "      <td>0</td>\n",
       "      <td>0</td>\n",
       "      <td>0</td>\n",
       "      <td>0</td>\n",
       "      <td>0.0</td>\n",
       "      <td>0.0</td>\n",
       "      <td>19</td>\n",
       "      <td>34</td>\n",
       "      <td>195</td>\n",
       "      <td>2</td>\n",
       "    </tr>\n",
       "  </tbody>\n",
       "</table>\n",
       "<p>5 rows × 66 columns</p>\n",
       "</div>"
      ],
      "text/plain": [
       "   当月GPRS资源使用量（GB）  当月ARPU  是否5G网络客户  性别  是否不限量套餐到达用户  脱网次数  是否遇到网络问题  居民小区  \\\n",
       "0         4.088200     0.0         1   2            0     8         2     0   \n",
       "1         4.643740     0.0         1   0            0    43         1     0   \n",
       "2        41.511201     0.0         1   1            0     1         1     0   \n",
       "3        10.175967     0.0         1   0            0     6         2     0   \n",
       "4        10.007606     0.0         1   0            0    27         1     1   \n",
       "\n",
       "   办公室  高校  ...  拼多多  全部网页或APP都慢  上网质差次数  微信质差次数  套外流量（MB）  套外流量费（元）  终端品牌  \\\n",
       "0    0   0  ...    0           0       0       0       0.0       0.0    11   \n",
       "1    0   0  ...    0           0       0       0       0.0       0.0    11   \n",
       "2    1   0  ...    0           0       0       0       0.0       0.0     9   \n",
       "3    0   0  ...    0           0       0       0       0.0       0.0    15   \n",
       "4    0   0  ...    0           0       0       0       0.0       0.0    19   \n",
       "\n",
       "   终端品牌类型  当月MOU  客户星级标识  \n",
       "0     166      2       2  \n",
       "1     163      6       1  \n",
       "2      77    232       2  \n",
       "3     345      2       2  \n",
       "4      34    195       2  \n",
       "\n",
       "[5 rows x 66 columns]"
      ]
     },
     "execution_count": 35,
     "metadata": {},
     "output_type": "execute_result"
    }
   ],
   "source": [
    "ip = r'predict2.xlsx'\n",
    "predict = pd.read_excel(ip,header = [0],sheet_name = 'Sheet1')\n",
    "predict.head()"
   ]
  },
  {
   "cell_type": "code",
   "execution_count": 36,
   "id": "2e9c2626",
   "metadata": {},
   "outputs": [],
   "source": [
    "predict=pd.DataFrame(predict).iloc[:,idx_features]"
   ]
  },
  {
   "cell_type": "markdown",
   "id": "4386318c",
   "metadata": {},
   "source": [
    "构建随机森林模型"
   ]
  },
  {
   "cell_type": "code",
   "execution_count": 37,
   "id": "740e41b7",
   "metadata": {},
   "outputs": [],
   "source": [
    "from sklearn import tree\n",
    "from sklearn.model_selection import train_test_split\n",
    "Xtrain,Xtest,Ytrain,Ytest = train_test_split(X_train,Ytrain,test_size=0.3)"
   ]
  },
  {
   "cell_type": "code",
   "execution_count": 38,
   "id": "797b2a3a",
   "metadata": {},
   "outputs": [],
   "source": [
    "from sklearn.ensemble import RandomForestClassifier\n",
    "forest = RandomForestClassifier(n_estimators=14,criterion=\"gini\",max_depth=30,min_samples_leaf=10)\n",
    "forest.fit(Xtrain,Ytrain)\n",
    "score = forest.score(Xtest,Ytest)#返回准确度"
   ]
  },
  {
   "cell_type": "code",
   "execution_count": 39,
   "id": "3b34cd54",
   "metadata": {},
   "outputs": [
    {
     "data": {
      "text/plain": [
       "0.40645773979107314"
      ]
     },
     "execution_count": 39,
     "metadata": {},
     "output_type": "execute_result"
    }
   ],
   "source": [
    "score"
   ]
  },
  {
   "cell_type": "code",
   "execution_count": 40,
   "id": "c2a77212",
   "metadata": {},
   "outputs": [
    {
     "data": {
      "text/plain": [
       "0.5547415547415547"
      ]
     },
     "execution_count": 40,
     "metadata": {},
     "output_type": "execute_result"
    }
   ],
   "source": [
    "forest.score(Xtrain,Ytrain)"
   ]
  },
  {
   "cell_type": "code",
   "execution_count": 41,
   "id": "fe284c1d",
   "metadata": {},
   "outputs": [
    {
     "data": {
      "text/plain": [
       "array([10.,  8.,  8., ...,  8.,  8., 10.])"
      ]
     },
     "execution_count": 41,
     "metadata": {},
     "output_type": "execute_result"
    }
   ],
   "source": [
    "b=forest.predict(Xtest)\n",
    "result_forest = forest.predict(predict.values)\n",
    "result_forest"
   ]
  },
  {
   "cell_type": "code",
   "execution_count": 42,
   "id": "e9f9bfe9",
   "metadata": {},
   "outputs": [],
   "source": [
    "pd.DataFrame(result_forest).to_excel('手机上网速度_随机森林_predictresult.xlsx', sheet_name='Sheet1', index=False)"
   ]
  },
  {
   "cell_type": "markdown",
   "id": "a971d125",
   "metadata": {},
   "source": [
    "构建神经网络模型"
   ]
  },
  {
   "cell_type": "code",
   "execution_count": 43,
   "id": "f6938ba2",
   "metadata": {},
   "outputs": [],
   "source": [
    "from sklearn.preprocessing import StandardScaler\n",
    "sc=StandardScaler()\n",
    "sc.fit(X_train)\n",
    "standard_train=sc.transform(Xtrain)\n",
    "standard_test=sc.transform(Xtest)\n"
   ]
  },
  {
   "cell_type": "code",
   "execution_count": 44,
   "id": "7f7c7de8",
   "metadata": {},
   "outputs": [
    {
     "name": "stdout",
     "output_type": "stream",
     "text": [
      "测试集预测的正确率为： 0.41975308641975306\n",
      "训练集的正确率为： 0.41676841676841675\n"
     ]
    }
   ],
   "source": [
    "from sklearn.neural_network import MLPClassifier\n",
    "# solver{‘lbfgs’, ‘sgd’, ‘adam’} ‘adam’在相对较大的数据集上效果比较好（几千个样本或者更多），对小数据集来说，lbfgs收敛更快效果也更好。\n",
    "mlp=MLPClassifier(solver='adam',alpha=1e-5,hidden_layer_sizes=(5,5),max_iter=4000)\n",
    "mlp.fit(standard_train,Ytrain)\n",
    "result_mlp=mlp.predict(predict.values)\n",
    "#print(\"测试集合的y值：\",list(Y_test))\n",
    "#print(\"神经网络预测的的y值：\",list(result))\n",
    "print(\"测试集预测的正确率为：\",mlp.score(standard_test,Ytest))\n",
    "print(\"训练集的正确率为：\",mlp.score(standard_train,Ytrain))"
   ]
  },
  {
   "cell_type": "code",
   "execution_count": 45,
   "id": "fbb1e3c8",
   "metadata": {},
   "outputs": [
    {
     "data": {
      "text/plain": [
       "array([10., 10., 10., ..., 10., 10., 10.])"
      ]
     },
     "execution_count": 45,
     "metadata": {},
     "output_type": "execute_result"
    }
   ],
   "source": [
    "result_mlp"
   ]
  },
  {
   "cell_type": "code",
   "execution_count": 46,
   "id": "27b1f69e",
   "metadata": {},
   "outputs": [],
   "source": [
    "pd.DataFrame(result_mlp).to_excel('手机上网速度_神经网络_predictresult.xlsx', sheet_name='Sheet1', index=False)"
   ]
  },
  {
   "cell_type": "markdown",
   "id": "06584cea",
   "metadata": {},
   "source": [
    "# 构建XGBoost算法模型"
   ]
  },
  {
   "cell_type": "code",
   "execution_count": 47,
   "id": "05b81842",
   "metadata": {},
   "outputs": [],
   "source": [
    "from sklearn.preprocessing import LabelEncoder\n",
    "le = LabelEncoder()\n",
    "Ytrain = le.fit_transform(Ytrain)\n",
    "Ytest = le.fit_transform(Ytest)"
   ]
  },
  {
   "cell_type": "code",
   "execution_count": 48,
   "id": "aa9f8075",
   "metadata": {},
   "outputs": [
    {
     "data": {
      "text/plain": [
       "0.3936372269705603"
      ]
     },
     "execution_count": 48,
     "metadata": {},
     "output_type": "execute_result"
    }
   ],
   "source": [
    "from xgboost.sklearn import XGBClassifier\n",
    "xgbc = XGBClassifier()\n",
    "xgbc.fit(Xtrain.values,Ytrain)\n",
    "xgbc.score(Xtest.values,Ytest)"
   ]
  },
  {
   "cell_type": "code",
   "execution_count": 49,
   "id": "bc144056",
   "metadata": {},
   "outputs": [
    {
     "data": {
      "text/plain": [
       "0.9544159544159544"
      ]
     },
     "execution_count": 49,
     "metadata": {},
     "output_type": "execute_result"
    }
   ],
   "source": [
    "xgbc.score(Xtrain.values,Ytrain)"
   ]
  },
  {
   "cell_type": "code",
   "execution_count": 50,
   "id": "034ced5d",
   "metadata": {},
   "outputs": [],
   "source": [
    "result_xgbc=xgbc.predict(predict.values)+1"
   ]
  },
  {
   "cell_type": "code",
   "execution_count": 51,
   "id": "2789e592",
   "metadata": {},
   "outputs": [],
   "source": [
    "pd.DataFrame(result_xgbc).to_excel('手机上网速度_XGBoost_predictresult.xlsx', sheet_name='Sheet1', index=False)"
   ]
  },
  {
   "cell_type": "code",
   "execution_count": 52,
   "id": "bb7e20fd",
   "metadata": {},
   "outputs": [
    {
     "data": {
      "text/plain": [
       "array([10,  8,  8, ...,  9, 10,  4], dtype=int64)"
      ]
     },
     "execution_count": 52,
     "metadata": {},
     "output_type": "execute_result"
    }
   ],
   "source": [
    "result_xgbc"
   ]
  },
  {
   "cell_type": "code",
   "execution_count": 53,
   "id": "ff977cb9",
   "metadata": {},
   "outputs": [],
   "source": [
    "Ytrain=data1['手机上网速度'].values\n",
    "a=data1.drop('手机上网速度', axis = 1)\n",
    "a=pd.DataFrame(a)\n",
    "a=a.iloc[:,idx_features]\n",
    "Xtrain=a.values\n",
    "test_forest=forest.predict(Xtrain)\n",
    "test_mlp=mlp.predict(Xtrain)\n",
    "test_xgbc=xgbc.predict(Xtrain)+1\n"
   ]
  },
  {
   "cell_type": "code",
   "execution_count": 54,
   "id": "4ade5d09",
   "metadata": {},
   "outputs": [],
   "source": [
    "import pandas\n",
    "allreuslt= pd.concat([pd.DataFrame(result_forest),pd.DataFrame(result_mlp),pd.DataFrame(result_xgbc)],axis=1) \n",
    "alltrain= pd.concat([pd.DataFrame(test_forest),pd.DataFrame(test_mlp),pd.DataFrame(test_xgbc)],axis=1) "
   ]
  },
  {
   "cell_type": "code",
   "execution_count": 55,
   "id": "78aad46c",
   "metadata": {},
   "outputs": [],
   "source": [
    "Xtrain,Xtest,Ytrain,Ytest = train_test_split(alltrain,Ytrain,test_size=0.3)"
   ]
  },
  {
   "cell_type": "markdown",
   "id": "f87fc861",
   "metadata": {},
   "source": [
    "# 构建融合模型"
   ]
  },
  {
   "cell_type": "code",
   "execution_count": 56,
   "id": "d6f5f8c7",
   "metadata": {},
   "outputs": [
    {
     "name": "stdout",
     "output_type": "stream",
     "text": [
      "0.759538614038665\n",
      "0.7746152830947097\n"
     ]
    }
   ],
   "source": [
    "from sklearn.linear_model import LinearRegression\n",
    "#线性回归\n",
    "lr=LinearRegression().fit(Xtrain,Ytrain)\n",
    "print(lr.score(Xtrain,Ytrain))\n",
    "print(lr.score(Xtest,Ytest))"
   ]
  },
  {
   "cell_type": "code",
   "execution_count": 57,
   "id": "598e5677",
   "metadata": {},
   "outputs": [],
   "source": [
    "a=lr.predict(allreuslt)"
   ]
  },
  {
   "cell_type": "code",
   "execution_count": 58,
   "id": "70268162",
   "metadata": {},
   "outputs": [
    {
     "data": {
      "text/plain": [
       "array([9.54496623, 7.74522846, 7.74522846, ..., 8.57903454, 9.41284062,\n",
       "       4.54212976])"
      ]
     },
     "execution_count": 58,
     "metadata": {},
     "output_type": "execute_result"
    }
   ],
   "source": [
    "a"
   ]
  },
  {
   "cell_type": "code",
   "execution_count": 59,
   "id": "9a2f38ce",
   "metadata": {},
   "outputs": [],
   "source": [
    "a=a.round(0)"
   ]
  },
  {
   "cell_type": "code",
   "execution_count": 60,
   "id": "86790880",
   "metadata": {},
   "outputs": [],
   "source": [
    "pd.DataFrame(a).to_excel('手机上网速度_predict_result.xlsx', sheet_name='Sheet1', index=False)"
   ]
  },
  {
   "cell_type": "code",
   "execution_count": null,
   "id": "75332f19",
   "metadata": {},
   "outputs": [],
   "source": []
  }
 ],
 "metadata": {
  "kernelspec": {
   "display_name": "Python 3 (ipykernel)",
   "language": "python",
   "name": "python3"
  },
  "language_info": {
   "codemirror_mode": {
    "name": "ipython",
    "version": 3
   },
   "file_extension": ".py",
   "mimetype": "text/x-python",
   "name": "python",
   "nbconvert_exporter": "python",
   "pygments_lexer": "ipython3",
   "version": "3.10.7"
  }
 },
 "nbformat": 4,
 "nbformat_minor": 5
}
