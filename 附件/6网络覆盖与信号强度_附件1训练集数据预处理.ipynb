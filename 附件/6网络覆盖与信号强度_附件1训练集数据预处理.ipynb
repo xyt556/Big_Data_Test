{
 "cells": [
  {
   "cell_type": "code",
   "execution_count": 1,
   "id": "0edc1f24",
   "metadata": {
    "scrolled": true
   },
   "outputs": [
    {
     "name": "stdout",
     "output_type": "stream",
     "text": [
      "用户id                    0\n",
      "语音通话整体满意度               0\n",
      "网络覆盖与信号强度               0\n",
      "语音通话清晰度                 0\n",
      "语音通话稳定性                 0\n",
      "是否遇到过网络问题               0\n",
      "居民小区                    0\n",
      "办公室                     0\n",
      "高校                      0\n",
      "商业街                     0\n",
      "地铁                      0\n",
      "农村                      0\n",
      "高铁                      0\n",
      "其他，请注明                  0\n",
      "用户描述                 5158\n",
      "手机没有信号                  0\n",
      "有信号无法拨通                 0\n",
      "通话过程中突然中断               0\n",
      "通话中有杂音、听不清、断断续续         0\n",
      "串线                      0\n",
      "通话过程中一方听不见              0\n",
      "其他，请注明.1                0\n",
      "用户描述.1               5324\n",
      "脱网次数                    0\n",
      "mos质差次数                 0\n",
      "未接通掉话次数                 0\n",
      "重定向次数                4260\n",
      "重定向驻留时长              4260\n",
      "家宽投诉                    0\n",
      "资费投诉                    0\n",
      "4\\5G用户                  0\n",
      "语音方式                    0\n",
      "是否关怀用户               5233\n",
      "是否去过营业厅              2971\n",
      "ARPU（家庭宽带）              0\n",
      "套外流量（MB）                0\n",
      "是否4G网络客户（本地剔除物联网）       5\n",
      "套外流量费（元）                0\n",
      "外省语音占比                  0\n",
      "语音通话-时长（分钟）             0\n",
      "省际漫游-时长（分钟）             0\n",
      "终端品牌                    4\n",
      "终端品牌类型                  5\n",
      "当月ARPU                  0\n",
      "当月MOU                   0\n",
      "前3月ARPU                 0\n",
      "前3月MOU                  0\n",
      "外省流量占比                  2\n",
      "GPRS总流量（KB）             0\n",
      "GPRS-国内漫游-流量（KB）        0\n",
      "是否5G网络客户                5\n",
      "是否实名登记用户                5\n",
      "客户星级标识                  5\n",
      "当月欠费金额                  5\n",
      "前第3个月欠费金额               5\n",
      "dtype: int64\n",
      "0\n",
      "(5433, 55)\n",
      "['用户id', '语音通话整体满意度', '网络覆盖与信号强度', '语音通话清晰度', '语音通话稳定性', '是否遇到过网络问题', '居民小区', '办公室', '高校', '商业街', '地铁', '农村', '高铁', '其他，请注明', '用户描述', '手机没有信号', '有信号无法拨通', '通话过程中突然中断', '通话中有杂音、听不清、断断续续', '串线', '通话过程中一方听不见', '其他，请注明.1', '用户描述.1', '脱网次数', 'mos质差次数', '未接通掉话次数', '重定向次数', '重定向驻留时长', '家宽投诉', '资费投诉', '4\\\\5G用户', '语音方式', '是否关怀用户', '是否去过营业厅', 'ARPU（家庭宽带）', '套外流量（MB）', '是否4G网络客户（本地剔除物联网）', '套外流量费（元）', '外省语音占比', '语音通话-时长（分钟）', '省际漫游-时长（分钟）', '终端品牌', '终端品牌类型', '当月ARPU', '当月MOU', '前3月ARPU', '前3月MOU', '外省流量占比', 'GPRS总流量（KB）', 'GPRS-国内漫游-流量（KB）', '是否5G网络客户', '是否实名登记用户', '客户星级标识', '当月欠费金额', '前第3个月欠费金额']\n"
     ]
    }
   ],
   "source": [
    "import numpy as np\n",
    "import pandas as pd\n",
    "import matplotlib.pyplot as plt\n",
    "import scipy.interpolate as interpolate\n",
    "io = r'附件1语音业务用户满意度数据.xlsx'\n",
    "\n",
    "data = pd.read_excel(io,header = [0],sheet_name = 'Sheet1')\n",
    "data.head()\n",
    "print(data.isnull().sum())\n",
    "print(data.duplicated().sum())\n",
    "print(data.shape)\n",
    "print([column for column in data])"
   ]
  },
  {
   "cell_type": "code",
   "execution_count": 2,
   "id": "90385e55",
   "metadata": {},
   "outputs": [],
   "source": [
    "a=data.isnull().sum()\n",
    "a = pd.DataFrame(a)\n",
    "a.to_excel('附件一训练集集空值.xlsx', sheet_name='Sheet1',header=None)"
   ]
  },
  {
   "cell_type": "markdown",
   "id": "ae90f923",
   "metadata": {},
   "source": [
    "# 删除少量存在空值数据行"
   ]
  },
  {
   "cell_type": "code",
   "execution_count": 3,
   "id": "366c2558",
   "metadata": {},
   "outputs": [],
   "source": [
    "data=data.dropna(axis=0,subset = ['终端品牌','终端品牌类型','是否4G网络客户（本地剔除物联网）','外省流量占比',\"是否5G网络客户\",\"是否实名登记用户\",'客户星级标识','当月欠费金额','前第3个月欠费金额']) \n"
   ]
  },
  {
   "cell_type": "markdown",
   "id": "28cdc888",
   "metadata": {},
   "source": [
    "# 将是否转化为10"
   ]
  },
  {
   "cell_type": "code",
   "execution_count": 4,
   "id": "c54c085a",
   "metadata": {},
   "outputs": [],
   "source": [
    "from sklearn.preprocessing import LabelEncoder\n",
    "y= data.iloc[:,-4]"
   ]
  },
  {
   "cell_type": "code",
   "execution_count": 5,
   "id": "6d3c07c4",
   "metadata": {},
   "outputs": [],
   "source": [
    "le=LabelEncoder()\n",
    "le=le.fit(y)\n",
    "label=le.transform(y)"
   ]
  },
  {
   "cell_type": "code",
   "execution_count": 6,
   "id": "58bffa11",
   "metadata": {},
   "outputs": [
    {
     "data": {
      "text/plain": [
       "array([0, 1, 0, ..., 0, 0, 0])"
      ]
     },
     "execution_count": 6,
     "metadata": {},
     "output_type": "execute_result"
    }
   ],
   "source": [
    "label"
   ]
  },
  {
   "cell_type": "code",
   "execution_count": 7,
   "id": "efa002db",
   "metadata": {},
   "outputs": [
    {
     "data": {
      "text/plain": [
       "array(['否', '是'], dtype=object)"
      ]
     },
     "execution_count": 7,
     "metadata": {},
     "output_type": "execute_result"
    }
   ],
   "source": [
    "le.classes_"
   ]
  },
  {
   "cell_type": "code",
   "execution_count": 8,
   "id": "f553bb03",
   "metadata": {
    "scrolled": true
   },
   "outputs": [
    {
     "name": "stderr",
     "output_type": "stream",
     "text": [
      "C:\\Users\\白小帅\\AppData\\Local\\Temp\\ipykernel_10228\\710823335.py:1: FutureWarning: In a future version, `df.iloc[:, i] = newvals` will attempt to set the values inplace instead of always setting a new array. To retain the old behavior, use either `df[df.columns[i]] = newvals` or, if columns are non-unique, `df.isetitem(i, newvals)`\n",
      "  data.iloc[:,-4]=label\n"
     ]
    }
   ],
   "source": [
    "data.iloc[:,-4]=label"
   ]
  },
  {
   "cell_type": "markdown",
   "id": "0b1b9d20",
   "metadata": {},
   "source": [
    "# 空值用零填充"
   ]
  },
  {
   "cell_type": "code",
   "execution_count": 9,
   "id": "181a04f2",
   "metadata": {
    "scrolled": true
   },
   "outputs": [],
   "source": [
    "data.loc[:,('重定向驻留时长','重定向次数','是否关怀用户','是否去过营业厅')]=data.loc[:,('重定向驻留时长','重定向次数','是否关怀用户','是否去过营业厅')].fillna(0)"
   ]
  },
  {
   "cell_type": "markdown",
   "id": "22c9d0ce",
   "metadata": {},
   "source": [
    "# 将是改为1"
   ]
  },
  {
   "cell_type": "code",
   "execution_count": 10,
   "id": "945480d3",
   "metadata": {},
   "outputs": [],
   "source": [
    "d=data.loc[:,\"是否去过营业厅\"]"
   ]
  },
  {
   "cell_type": "code",
   "execution_count": 11,
   "id": "9489db91",
   "metadata": {},
   "outputs": [
    {
     "name": "stderr",
     "output_type": "stream",
     "text": [
      "C:\\Users\\白小帅\\AppData\\Local\\Temp\\ipykernel_10228\\1323618043.py:3: SettingWithCopyWarning: \n",
      "A value is trying to be set on a copy of a slice from a DataFrame\n",
      "\n",
      "See the caveats in the documentation: https://pandas.pydata.org/pandas-docs/stable/user_guide/indexing.html#returning-a-view-versus-a-copy\n",
      "  d.iloc[i]=1\n"
     ]
    }
   ],
   "source": [
    "for i in range(5426):\n",
    "    if d.iloc[i]=='是':\n",
    "        d.iloc[i]=1"
   ]
  },
  {
   "cell_type": "code",
   "execution_count": 12,
   "id": "039ec229",
   "metadata": {},
   "outputs": [],
   "source": [
    "d=data.loc[:,\"是否关怀用户\"]"
   ]
  },
  {
   "cell_type": "code",
   "execution_count": 13,
   "id": "1bc0c4c4",
   "metadata": {},
   "outputs": [
    {
     "name": "stderr",
     "output_type": "stream",
     "text": [
      "C:\\Users\\白小帅\\AppData\\Local\\Temp\\ipykernel_10228\\1323618043.py:3: SettingWithCopyWarning: \n",
      "A value is trying to be set on a copy of a slice from a DataFrame\n",
      "\n",
      "See the caveats in the documentation: https://pandas.pydata.org/pandas-docs/stable/user_guide/indexing.html#returning-a-view-versus-a-copy\n",
      "  d.iloc[i]=1\n"
     ]
    }
   ],
   "source": [
    "for i in range(5426):\n",
    "    if d.iloc[i]=='是':\n",
    "        d.iloc[i]=1"
   ]
  },
  {
   "cell_type": "markdown",
   "id": "4c4c4b5b",
   "metadata": {},
   "source": [
    "# 删除大量缺失数据"
   ]
  },
  {
   "cell_type": "code",
   "execution_count": 14,
   "id": "e5bb2131",
   "metadata": {},
   "outputs": [],
   "source": [
    "data=data.drop(['其他，请注明.1', '其他，请注明','用户描述','用户描述.1'], axis=1)"
   ]
  },
  {
   "cell_type": "code",
   "execution_count": 15,
   "id": "83e07e56",
   "metadata": {},
   "outputs": [
    {
     "name": "stdout",
     "output_type": "stream",
     "text": [
      "用户id                 0\n",
      "语音通话整体满意度            0\n",
      "网络覆盖与信号强度            0\n",
      "语音通话清晰度              0\n",
      "语音通话稳定性              0\n",
      "是否遇到过网络问题            0\n",
      "居民小区                 0\n",
      "办公室                  0\n",
      "高校                   0\n",
      "商业街                  0\n",
      "地铁                   0\n",
      "农村                   0\n",
      "高铁                   0\n",
      "手机没有信号               0\n",
      "有信号无法拨通              0\n",
      "通话过程中突然中断            0\n",
      "通话中有杂音、听不清、断断续续      0\n",
      "串线                   0\n",
      "通话过程中一方听不见           0\n",
      "脱网次数                 0\n",
      "mos质差次数              0\n",
      "未接通掉话次数              0\n",
      "重定向次数                0\n",
      "重定向驻留时长              0\n",
      "家宽投诉                 0\n",
      "资费投诉                 0\n",
      "4\\5G用户               0\n",
      "语音方式                 0\n",
      "是否关怀用户               0\n",
      "是否去过营业厅              0\n",
      "ARPU（家庭宽带）           0\n",
      "套外流量（MB）             0\n",
      "是否4G网络客户（本地剔除物联网）    0\n",
      "套外流量费（元）             0\n",
      "外省语音占比               0\n",
      "语音通话-时长（分钟）          0\n",
      "省际漫游-时长（分钟）          0\n",
      "终端品牌                 0\n",
      "终端品牌类型               0\n",
      "当月ARPU               0\n",
      "当月MOU                0\n",
      "前3月ARPU              0\n",
      "前3月MOU               0\n",
      "外省流量占比               0\n",
      "GPRS总流量（KB）          0\n",
      "GPRS-国内漫游-流量（KB）     0\n",
      "是否5G网络客户             0\n",
      "是否实名登记用户             0\n",
      "客户星级标识               0\n",
      "当月欠费金额               0\n",
      "前第3个月欠费金额            0\n",
      "dtype: int64\n",
      "0\n",
      "(5426, 51)\n"
     ]
    }
   ],
   "source": [
    "print(data.isnull().sum())\n",
    "print(data.duplicated().sum())\n",
    "print(data.shape)"
   ]
  },
  {
   "cell_type": "markdown",
   "id": "08a05297",
   "metadata": {},
   "source": [
    "# 是否转化为10"
   ]
  },
  {
   "cell_type": "code",
   "execution_count": 16,
   "id": "070ec0fb",
   "metadata": {},
   "outputs": [],
   "source": [
    "y= data.iloc[:,-5]\n",
    "le=LabelEncoder()\n",
    "le=le.fit(y)\n",
    "label=le.transform(y)\n"
   ]
  },
  {
   "cell_type": "code",
   "execution_count": 17,
   "id": "e5e16666",
   "metadata": {},
   "outputs": [
    {
     "name": "stderr",
     "output_type": "stream",
     "text": [
      "C:\\Users\\白小帅\\AppData\\Local\\Temp\\ipykernel_10228\\1491447938.py:1: FutureWarning: In a future version, `df.iloc[:, i] = newvals` will attempt to set the values inplace instead of always setting a new array. To retain the old behavior, use either `df[df.columns[i]] = newvals` or, if columns are non-unique, `df.isetitem(i, newvals)`\n",
      "  data.iloc[:,-5]=label\n"
     ]
    }
   ],
   "source": [
    "data.iloc[:,-5]=label"
   ]
  },
  {
   "cell_type": "code",
   "execution_count": 18,
   "id": "ea1f80d8",
   "metadata": {},
   "outputs": [
    {
     "name": "stderr",
     "output_type": "stream",
     "text": [
      "C:\\Users\\白小帅\\AppData\\Local\\Temp\\ipykernel_10228\\1535494718.py:5: FutureWarning: In a future version, `df.iloc[:, i] = newvals` will attempt to set the values inplace instead of always setting a new array. To retain the old behavior, use either `df[df.columns[i]] = newvals` or, if columns are non-unique, `df.isetitem(i, newvals)`\n",
      "  data.iloc[:,-19]=label\n"
     ]
    }
   ],
   "source": [
    "y= data.iloc[:,-19]\n",
    "le=LabelEncoder()\n",
    "le=le.fit(y)\n",
    "label=le.transform(y)\n",
    "data.iloc[:,-19]=label"
   ]
  },
  {
   "cell_type": "markdown",
   "id": "7d33fc1f",
   "metadata": {},
   "source": [
    "# 将终端品牌中的0转化为字符"
   ]
  },
  {
   "cell_type": "code",
   "execution_count": 19,
   "id": "16ae0308",
   "metadata": {},
   "outputs": [
    {
     "name": "stderr",
     "output_type": "stream",
     "text": [
      "C:\\Users\\白小帅\\AppData\\Local\\Temp\\ipykernel_10228\\3382044685.py:4: SettingWithCopyWarning: \n",
      "A value is trying to be set on a copy of a slice from a DataFrame\n",
      "\n",
      "See the caveats in the documentation: https://pandas.pydata.org/pandas-docs/stable/user_guide/indexing.html#returning-a-view-versus-a-copy\n",
      "  d.iloc[i]=str(d.iloc[i])\n"
     ]
    }
   ],
   "source": [
    "d=data.loc[:,'终端品牌']\n",
    "for i in range(5426):\n",
    "    if d.iloc[i]==0:\n",
    "        d.iloc[i]=str(d.iloc[i])"
   ]
  },
  {
   "cell_type": "code",
   "execution_count": 20,
   "id": "82b9f2e2",
   "metadata": {},
   "outputs": [
    {
     "name": "stderr",
     "output_type": "stream",
     "text": [
      "C:\\Users\\白小帅\\AppData\\Local\\Temp\\ipykernel_10228\\2897173046.py:3: SettingWithCopyWarning: \n",
      "A value is trying to be set on a copy of a slice from a DataFrame\n",
      "\n",
      "See the caveats in the documentation: https://pandas.pydata.org/pandas-docs/stable/user_guide/indexing.html#returning-a-view-versus-a-copy\n",
      "  d.iloc[i]=str(d.iloc[i])\n"
     ]
    }
   ],
   "source": [
    "d=data.loc[:,'终端品牌类型']\n",
    "for i in range(5426):\n",
    "    d.iloc[i]=str(d.iloc[i])"
   ]
  },
  {
   "cell_type": "code",
   "execution_count": 21,
   "id": "b63046e4",
   "metadata": {},
   "outputs": [
    {
     "name": "stderr",
     "output_type": "stream",
     "text": [
      "C:\\Users\\白小帅\\AppData\\Local\\Temp\\ipykernel_10228\\3313439004.py:2: FutureWarning: In a future version, `df.iloc[:, i] = newvals` will attempt to set the values inplace instead of always setting a new array. To retain the old behavior, use either `df[df.columns[i]] = newvals` or, if columns are non-unique, `df.isetitem(i, newvals)`\n",
      "  data.loc[:,['终端品牌']]=OrdinalEncoder().fit_transform(data.loc[:,['终端品牌']])\n"
     ]
    },
    {
     "data": {
      "text/html": [
       "<div>\n",
       "<style scoped>\n",
       "    .dataframe tbody tr th:only-of-type {\n",
       "        vertical-align: middle;\n",
       "    }\n",
       "\n",
       "    .dataframe tbody tr th {\n",
       "        vertical-align: top;\n",
       "    }\n",
       "\n",
       "    .dataframe thead th {\n",
       "        text-align: right;\n",
       "    }\n",
       "</style>\n",
       "<table border=\"1\" class=\"dataframe\">\n",
       "  <thead>\n",
       "    <tr style=\"text-align: right;\">\n",
       "      <th></th>\n",
       "      <th>终端品牌</th>\n",
       "    </tr>\n",
       "  </thead>\n",
       "  <tbody>\n",
       "    <tr>\n",
       "      <th>0</th>\n",
       "      <td>22.0</td>\n",
       "    </tr>\n",
       "    <tr>\n",
       "      <th>1</th>\n",
       "      <td>11.0</td>\n",
       "    </tr>\n",
       "    <tr>\n",
       "      <th>2</th>\n",
       "      <td>11.0</td>\n",
       "    </tr>\n",
       "    <tr>\n",
       "      <th>3</th>\n",
       "      <td>22.0</td>\n",
       "    </tr>\n",
       "    <tr>\n",
       "      <th>4</th>\n",
       "      <td>22.0</td>\n",
       "    </tr>\n",
       "    <tr>\n",
       "      <th>...</th>\n",
       "      <td>...</td>\n",
       "    </tr>\n",
       "    <tr>\n",
       "      <th>5428</th>\n",
       "      <td>22.0</td>\n",
       "    </tr>\n",
       "    <tr>\n",
       "      <th>5429</th>\n",
       "      <td>22.0</td>\n",
       "    </tr>\n",
       "    <tr>\n",
       "      <th>5430</th>\n",
       "      <td>11.0</td>\n",
       "    </tr>\n",
       "    <tr>\n",
       "      <th>5431</th>\n",
       "      <td>14.0</td>\n",
       "    </tr>\n",
       "    <tr>\n",
       "      <th>5432</th>\n",
       "      <td>22.0</td>\n",
       "    </tr>\n",
       "  </tbody>\n",
       "</table>\n",
       "<p>5426 rows × 1 columns</p>\n",
       "</div>"
      ],
      "text/plain": [
       "      终端品牌\n",
       "0     22.0\n",
       "1     11.0\n",
       "2     11.0\n",
       "3     22.0\n",
       "4     22.0\n",
       "...    ...\n",
       "5428  22.0\n",
       "5429  22.0\n",
       "5430  11.0\n",
       "5431  14.0\n",
       "5432  22.0\n",
       "\n",
       "[5426 rows x 1 columns]"
      ]
     },
     "execution_count": 21,
     "metadata": {},
     "output_type": "execute_result"
    }
   ],
   "source": [
    "from sklearn.preprocessing import OrdinalEncoder\n",
    "data.loc[:,['终端品牌']]=OrdinalEncoder().fit_transform(data.loc[:,['终端品牌']])\n",
    "data.loc[:,['终端品牌']]"
   ]
  },
  {
   "cell_type": "code",
   "execution_count": 22,
   "id": "16dfd82e",
   "metadata": {},
   "outputs": [
    {
     "name": "stderr",
     "output_type": "stream",
     "text": [
      "C:\\Users\\白小帅\\AppData\\Local\\Temp\\ipykernel_10228\\2790138607.py:1: FutureWarning: In a future version, `df.iloc[:, i] = newvals` will attempt to set the values inplace instead of always setting a new array. To retain the old behavior, use either `df[df.columns[i]] = newvals` or, if columns are non-unique, `df.isetitem(i, newvals)`\n",
      "  data.loc[:,['终端品牌类型']]=OrdinalEncoder().fit_transform(data.loc[:,['终端品牌类型']])\n"
     ]
    },
    {
     "data": {
      "text/html": [
       "<div>\n",
       "<style scoped>\n",
       "    .dataframe tbody tr th:only-of-type {\n",
       "        vertical-align: middle;\n",
       "    }\n",
       "\n",
       "    .dataframe tbody tr th {\n",
       "        vertical-align: top;\n",
       "    }\n",
       "\n",
       "    .dataframe thead th {\n",
       "        text-align: right;\n",
       "    }\n",
       "</style>\n",
       "<table border=\"1\" class=\"dataframe\">\n",
       "  <thead>\n",
       "    <tr style=\"text-align: right;\">\n",
       "      <th></th>\n",
       "      <th>终端品牌类型</th>\n",
       "    </tr>\n",
       "  </thead>\n",
       "  <tbody>\n",
       "    <tr>\n",
       "      <th>0</th>\n",
       "      <td>43.0</td>\n",
       "    </tr>\n",
       "    <tr>\n",
       "      <th>1</th>\n",
       "      <td>462.0</td>\n",
       "    </tr>\n",
       "    <tr>\n",
       "      <th>2</th>\n",
       "      <td>571.0</td>\n",
       "    </tr>\n",
       "    <tr>\n",
       "      <th>3</th>\n",
       "      <td>45.0</td>\n",
       "    </tr>\n",
       "    <tr>\n",
       "      <th>4</th>\n",
       "      <td>34.0</td>\n",
       "    </tr>\n",
       "    <tr>\n",
       "      <th>...</th>\n",
       "      <td>...</td>\n",
       "    </tr>\n",
       "    <tr>\n",
       "      <th>5428</th>\n",
       "      <td>34.0</td>\n",
       "    </tr>\n",
       "    <tr>\n",
       "      <th>5429</th>\n",
       "      <td>46.0</td>\n",
       "    </tr>\n",
       "    <tr>\n",
       "      <th>5430</th>\n",
       "      <td>456.0</td>\n",
       "    </tr>\n",
       "    <tr>\n",
       "      <th>5431</th>\n",
       "      <td>221.0</td>\n",
       "    </tr>\n",
       "    <tr>\n",
       "      <th>5432</th>\n",
       "      <td>45.0</td>\n",
       "    </tr>\n",
       "  </tbody>\n",
       "</table>\n",
       "<p>5426 rows × 1 columns</p>\n",
       "</div>"
      ],
      "text/plain": [
       "      终端品牌类型\n",
       "0       43.0\n",
       "1      462.0\n",
       "2      571.0\n",
       "3       45.0\n",
       "4       34.0\n",
       "...      ...\n",
       "5428    34.0\n",
       "5429    46.0\n",
       "5430   456.0\n",
       "5431   221.0\n",
       "5432    45.0\n",
       "\n",
       "[5426 rows x 1 columns]"
      ]
     },
     "execution_count": 22,
     "metadata": {},
     "output_type": "execute_result"
    }
   ],
   "source": [
    "data.loc[:,['终端品牌类型']]=OrdinalEncoder().fit_transform(data.loc[:,['终端品牌类型']])\n",
    "data.loc[:,['终端品牌类型']]"
   ]
  },
  {
   "cell_type": "code",
   "execution_count": 23,
   "id": "11667033",
   "metadata": {},
   "outputs": [
    {
     "name": "stderr",
     "output_type": "stream",
     "text": [
      "C:\\Users\\白小帅\\AppData\\Local\\Temp\\ipykernel_10228\\933268120.py:1: FutureWarning: In a future version, `df.iloc[:, i] = newvals` will attempt to set the values inplace instead of always setting a new array. To retain the old behavior, use either `df[df.columns[i]] = newvals` or, if columns are non-unique, `df.isetitem(i, newvals)`\n",
      "  data.loc[:,['客户星级标识']]=OrdinalEncoder().fit_transform(data.loc[:,['客户星级标识']])\n"
     ]
    },
    {
     "data": {
      "text/html": [
       "<div>\n",
       "<style scoped>\n",
       "    .dataframe tbody tr th:only-of-type {\n",
       "        vertical-align: middle;\n",
       "    }\n",
       "\n",
       "    .dataframe tbody tr th {\n",
       "        vertical-align: top;\n",
       "    }\n",
       "\n",
       "    .dataframe thead th {\n",
       "        text-align: right;\n",
       "    }\n",
       "</style>\n",
       "<table border=\"1\" class=\"dataframe\">\n",
       "  <thead>\n",
       "    <tr style=\"text-align: right;\">\n",
       "      <th></th>\n",
       "      <th>客户星级标识</th>\n",
       "    </tr>\n",
       "  </thead>\n",
       "  <tbody>\n",
       "    <tr>\n",
       "      <th>0</th>\n",
       "      <td>8.0</td>\n",
       "    </tr>\n",
       "    <tr>\n",
       "      <th>1</th>\n",
       "      <td>8.0</td>\n",
       "    </tr>\n",
       "    <tr>\n",
       "      <th>2</th>\n",
       "      <td>1.0</td>\n",
       "    </tr>\n",
       "    <tr>\n",
       "      <th>3</th>\n",
       "      <td>1.0</td>\n",
       "    </tr>\n",
       "    <tr>\n",
       "      <th>4</th>\n",
       "      <td>8.0</td>\n",
       "    </tr>\n",
       "    <tr>\n",
       "      <th>...</th>\n",
       "      <td>...</td>\n",
       "    </tr>\n",
       "    <tr>\n",
       "      <th>5428</th>\n",
       "      <td>2.0</td>\n",
       "    </tr>\n",
       "    <tr>\n",
       "      <th>5429</th>\n",
       "      <td>1.0</td>\n",
       "    </tr>\n",
       "    <tr>\n",
       "      <th>5430</th>\n",
       "      <td>8.0</td>\n",
       "    </tr>\n",
       "    <tr>\n",
       "      <th>5431</th>\n",
       "      <td>1.0</td>\n",
       "    </tr>\n",
       "    <tr>\n",
       "      <th>5432</th>\n",
       "      <td>1.0</td>\n",
       "    </tr>\n",
       "  </tbody>\n",
       "</table>\n",
       "<p>5426 rows × 1 columns</p>\n",
       "</div>"
      ],
      "text/plain": [
       "      客户星级标识\n",
       "0        8.0\n",
       "1        8.0\n",
       "2        1.0\n",
       "3        1.0\n",
       "4        8.0\n",
       "...      ...\n",
       "5428     2.0\n",
       "5429     1.0\n",
       "5430     8.0\n",
       "5431     1.0\n",
       "5432     1.0\n",
       "\n",
       "[5426 rows x 1 columns]"
      ]
     },
     "execution_count": 23,
     "metadata": {},
     "output_type": "execute_result"
    }
   ],
   "source": [
    "data.loc[:,['客户星级标识']]=OrdinalEncoder().fit_transform(data.loc[:,['客户星级标识']])\n",
    "data.loc[:,['客户星级标识']]"
   ]
  },
  {
   "cell_type": "code",
   "execution_count": 24,
   "id": "53b62778",
   "metadata": {},
   "outputs": [
    {
     "name": "stderr",
     "output_type": "stream",
     "text": [
      "C:\\Users\\白小帅\\AppData\\Local\\Temp\\ipykernel_10228\\4196254378.py:1: FutureWarning: In a future version, `df.iloc[:, i] = newvals` will attempt to set the values inplace instead of always setting a new array. To retain the old behavior, use either `df[df.columns[i]] = newvals` or, if columns are non-unique, `df.isetitem(i, newvals)`\n",
      "  data.iloc[:,6:19]=OrdinalEncoder().fit_transform(data.iloc[:,6:19])\n"
     ]
    }
   ],
   "source": [
    "data.iloc[:,6:19]=OrdinalEncoder().fit_transform(data.iloc[:,6:19])"
   ]
  },
  {
   "cell_type": "code",
   "execution_count": 25,
   "id": "6ffba553",
   "metadata": {},
   "outputs": [
    {
     "name": "stderr",
     "output_type": "stream",
     "text": [
      "C:\\Users\\白小帅\\AppData\\Local\\Temp\\ipykernel_10228\\23806209.py:1: FutureWarning: In a future version, `df.iloc[:, i] = newvals` will attempt to set the values inplace instead of always setting a new array. To retain the old behavior, use either `df[df.columns[i]] = newvals` or, if columns are non-unique, `df.isetitem(i, newvals)`\n",
      "  data.loc[:,['4\\\\5G用户','语音方式']]=OrdinalEncoder().fit_transform(data.loc[:,['4\\\\5G用户','语音方式']])\n"
     ]
    }
   ],
   "source": [
    "data.loc[:,['4\\\\5G用户','语音方式']]=OrdinalEncoder().fit_transform(data.loc[:,['4\\\\5G用户','语音方式']])"
   ]
  },
  {
   "cell_type": "markdown",
   "id": "04b4c456",
   "metadata": {},
   "source": [
    "# MAD异常值处理法"
   ]
  },
  {
   "cell_type": "code",
   "execution_count": 26,
   "id": "e9542cbe",
   "metadata": {},
   "outputs": [],
   "source": [
    "d='GPRS总流量（KB）'\n",
    "x=data[d].median()\n",
    "MA=data[d].median()\n",
    "Se=data[d]-MA\n",
    "Se=abs(Se)\n",
    "MC=Se.median()\n",
    "MAD=MC*1.4826\n",
    "Low=x-2.5*MAD\n",
    "Up=x+2.5*MAD\n",
    "data=data[(data[d]>=Low)&(data[d]<=Up)]"
   ]
  },
  {
   "cell_type": "code",
   "execution_count": 27,
   "id": "8e4a7062",
   "metadata": {},
   "outputs": [
    {
     "data": {
      "text/plain": [
       "<AxesSubplot: >"
      ]
     },
     "execution_count": 27,
     "metadata": {},
     "output_type": "execute_result"
    },
    {
     "data": {
      "image/png": "[encoded data removed]",
      "text/plain": [
       "<Figure size 400x400 with 1 Axes>"
      ]
     },
     "metadata": {},
     "output_type": "display_data"
    }
   ],
   "source": [
    "\n",
    "import matplotlib\n",
    "a=plt.figure(figsize=(4,4))\n",
    "matplotlib.rcParams['font.sans-serif'] = ['SimHei']\n",
    "matplotlib.rcParams['axes.unicode_minus'] = False\n",
    "df= data.loc[:,'GPRS总流量（KB）']\n",
    "df.plot.box()"
   ]
  },
  {
   "cell_type": "code",
   "execution_count": 28,
   "id": "0c1f80af",
   "metadata": {},
   "outputs": [],
   "source": [
    "a.savefig(fname='MAD异常值识别法-GPRS总流量（KB）箱型图.png',dpi='figure')"
   ]
  },
  {
   "cell_type": "code",
   "execution_count": 29,
   "id": "d98c1dc9",
   "metadata": {},
   "outputs": [
    {
     "data": {
      "text/plain": [
       "(4966, 51)"
      ]
     },
     "execution_count": 29,
     "metadata": {},
     "output_type": "execute_result"
    }
   ],
   "source": [
    "data.shape"
   ]
  },
  {
   "cell_type": "code",
   "execution_count": 30,
   "id": "0d798d2d",
   "metadata": {},
   "outputs": [],
   "source": [
    "\n",
    "d='前3月MOU'\n",
    "x=data[d].median()\n",
    "MA=data[d].median()\n",
    "Se=data[d]-MA\n",
    "Se=abs(Se)\n",
    "MC=Se.median()\n",
    "MAD=MC*1.4826\n",
    "Low=x-2.5*MAD\n",
    "Up=x+2.5*MAD\n",
    "data=data[(data[d]>=Low)&(data[d]<=Up)]"
   ]
  },
  {
   "cell_type": "code",
   "execution_count": 31,
   "id": "e17aa301",
   "metadata": {},
   "outputs": [
    {
     "data": {
      "text/plain": [
       "<AxesSubplot: >"
      ]
     },
     "execution_count": 31,
     "metadata": {},
     "output_type": "execute_result"
    },
    {
     "data": {
      "image/png": "[encoded data removed]",
      "text/plain": [
       "<Figure size 400x400 with 1 Axes>"
      ]
     },
     "metadata": {},
     "output_type": "display_data"
    }
   ],
   "source": [
    "p=plt.figure(figsize=(4,4))\n",
    "df= data.loc[:,'前3月MOU']\n",
    "df.plot.box()"
   ]
  },
  {
   "cell_type": "code",
   "execution_count": 32,
   "id": "c8fbe007",
   "metadata": {},
   "outputs": [],
   "source": [
    "p.savefig(fname='MAD异常值识别法-前3月MOU箱型图.png',dpi='figure')"
   ]
  },
  {
   "cell_type": "code",
   "execution_count": 33,
   "id": "b4b494a1",
   "metadata": {},
   "outputs": [
    {
     "data": {
      "text/plain": [
       "(4369, 51)"
      ]
     },
     "execution_count": 33,
     "metadata": {},
     "output_type": "execute_result"
    }
   ],
   "source": [
    "data.shape"
   ]
  },
  {
   "cell_type": "markdown",
   "id": "0be31abd",
   "metadata": {},
   "source": [
    "# 删除与预测集无关数据"
   ]
  },
  {
   "cell_type": "code",
   "execution_count": 34,
   "id": "a82b1c31",
   "metadata": {},
   "outputs": [],
   "source": [
    "data=data.drop(['重定向次数','重定向驻留时长','资费投诉','语音方式','是否去过营业厅','ARPU（家庭宽带）','是否实名登记用户','当月欠费金额','前第3个月欠费金额','家宽投诉'], axis=1)"
   ]
  },
  {
   "cell_type": "markdown",
   "id": "4327479c",
   "metadata": {},
   "source": [
    "# 嵌入法特征选择"
   ]
  },
  {
   "cell_type": "code",
   "execution_count": 35,
   "id": "3d25e864",
   "metadata": {},
   "outputs": [],
   "source": [
    "data1=data.copy()\n",
    "data1=data1.drop(['语音通话整体满意度', '语音通话稳定性','语音通话清晰度','用户id'], axis=1)\n",
    "Ytrain=data1['网络覆盖与信号强度'].values\n",
    "Xtrain=data1.drop('网络覆盖与信号强度', axis = 1).values\n"
   ]
  },
  {
   "cell_type": "code",
   "execution_count": 36,
   "id": "09a5de1c",
   "metadata": {},
   "outputs": [],
   "source": [
    "data1.drop('网络覆盖与信号强度', axis = 1).to_excel('附件一训练集处理后数据.xlsx', sheet_name='Sheet1', index=False)"
   ]
  },
  {
   "cell_type": "code",
   "execution_count": 37,
   "id": "446d0bbb",
   "metadata": {},
   "outputs": [],
   "source": [
    "from sklearn.feature_selection import SelectFromModel\n",
    "from sklearn.ensemble import RandomForestClassifier as RFC\n"
   ]
  },
  {
   "cell_type": "code",
   "execution_count": 38,
   "id": "a6561cc5",
   "metadata": {},
   "outputs": [],
   "source": [
    "RFC_ = RFC(n_estimators=100,random_state=0)#随机森林实例化\n"
   ]
  },
  {
   "cell_type": "code",
   "execution_count": 39,
   "id": "189ef5b9",
   "metadata": {},
   "outputs": [
    {
     "data": {
      "text/plain": [
       "0.08968086927357141"
      ]
     },
     "execution_count": 39,
     "metadata": {},
     "output_type": "execute_result"
    }
   ],
   "source": [
    "(RFC_.fit(Xtrain,Ytrain).feature_importances_).max()"
   ]
  },
  {
   "cell_type": "code",
   "execution_count": 40,
   "id": "4e364960",
   "metadata": {
    "scrolled": true
   },
   "outputs": [
    {
     "data": {
      "text/plain": [
       "array([0.        , 0.00090587, 0.00181173, 0.0027176 , 0.00362347,\n",
       "       0.00452934, 0.0054352 , 0.00634107, 0.00724694, 0.00815281,\n",
       "       0.00905867, 0.00996454, 0.01087041, 0.01177628, 0.01268214,\n",
       "       0.01358801, 0.01449388, 0.01539975, 0.01630561, 0.01721148,\n",
       "       0.01811735, 0.01902321, 0.01992908, 0.02083495, 0.02174082,\n",
       "       0.02264668, 0.02355255, 0.02445842, 0.02536429, 0.02627015,\n",
       "       0.02717602, 0.02808189, 0.02898776, 0.02989362, 0.03079949,\n",
       "       0.03170536, 0.03261123, 0.03351709, 0.03442296, 0.03532883,\n",
       "       0.03623469, 0.03714056, 0.03804643, 0.0389523 , 0.03985816,\n",
       "       0.04076403, 0.0416699 , 0.04257577, 0.04348163, 0.0443875 ,\n",
       "       0.04529337, 0.04619924, 0.0471051 , 0.04801097, 0.04891684,\n",
       "       0.04982271, 0.05072857, 0.05163444, 0.05254031, 0.05344617,\n",
       "       0.05435204, 0.05525791, 0.05616378, 0.05706964, 0.05797551,\n",
       "       0.05888138, 0.05978725, 0.06069311, 0.06159898, 0.06250485,\n",
       "       0.06341072, 0.06431658, 0.06522245, 0.06612832, 0.06703419,\n",
       "       0.06794005, 0.06884592, 0.06975179, 0.07065765, 0.07156352,\n",
       "       0.07246939, 0.07337526, 0.07428112, 0.07518699, 0.07609286,\n",
       "       0.07699873, 0.07790459, 0.07881046, 0.07971633, 0.0806222 ,\n",
       "       0.08152806, 0.08243393, 0.0833398 , 0.08424567, 0.08515153,\n",
       "       0.0860574 , 0.08696327, 0.08786913, 0.088775  , 0.08968087])"
      ]
     },
     "execution_count": 40,
     "metadata": {},
     "output_type": "execute_result"
    }
   ],
   "source": [
    "threshold = np.linspace(0,(RFC_.fit(Xtrain,Ytrain).feature_importances_).max(),100)\n",
    "threshold"
   ]
  },
  {
   "cell_type": "code",
   "execution_count": 41,
   "id": "700d6424",
   "metadata": {},
   "outputs": [
    {
     "data": {
      "image/png": "[encoded data removed]",
      "text/plain": [
       "<Figure size 400x400 with 1 Axes>"
      ]
     },
     "metadata": {},
     "output_type": "display_data"
    },
    {
     "name": "stdout",
     "output_type": "stream",
     "text": [
      "2\n"
     ]
    }
   ],
   "source": [
    "from sklearn.model_selection import cross_val_score\n",
    "score=[]\n",
    "for i in threshold :\n",
    "    X_embedded = SelectFromModel(RFC_,threshold=i).fit_transform(Xtrain,Ytrain)\n",
    "    once= cross_val_score(RFC_,X_embedded,Ytrain,cv=5).mean()\n",
    "    score.append(once)\n",
    "p=plt.figure(figsize=(4,4))\n",
    "plt.plot(threshold,score,color='red',label='score')\n",
    "plt.legend()\n",
    "plt.show()\n",
    "print(score.index(max(score)))\n"
   ]
  },
  {
   "cell_type": "code",
   "execution_count": 42,
   "id": "86e94983",
   "metadata": {},
   "outputs": [],
   "source": [
    "p.savefig(fname='网络覆盖与信号强度-嵌入法寻找最佳阈值的学习曲线.png',dpi='figure')"
   ]
  },
  {
   "cell_type": "code",
   "execution_count": 43,
   "id": "7a7afc87",
   "metadata": {},
   "outputs": [
    {
     "data": {
      "text/plain": [
       "(4369, 35)"
      ]
     },
     "execution_count": 43,
     "metadata": {},
     "output_type": "execute_result"
    }
   ],
   "source": [
    "X_embedded = SelectFromModel(RFC_,threshold=threshold[score.index(max(score))]).fit_transform(Xtrain,Ytrain)\n",
    "X_embedded.shape#筛选后特征数"
   ]
  },
  {
   "cell_type": "code",
   "execution_count": 44,
   "id": "8edeb2fb",
   "metadata": {},
   "outputs": [],
   "source": [
    "from sklearn.model_selection import cross_val_score\n",
    "once= cross_val_score(RFC_,X_embedded,Ytrain,cv=5).mean()"
   ]
  },
  {
   "cell_type": "code",
   "execution_count": 45,
   "id": "81dbffc4",
   "metadata": {},
   "outputs": [
    {
     "data": {
      "text/plain": [
       "0.5035475660614258"
      ]
     },
     "execution_count": 45,
     "metadata": {},
     "output_type": "execute_result"
    }
   ],
   "source": [
    "once"
   ]
  },
  {
   "cell_type": "code",
   "execution_count": 46,
   "id": "c32416fb",
   "metadata": {},
   "outputs": [],
   "source": [
    "importance=(RFC_.fit(Xtrain,Ytrain).feature_importances_)"
   ]
  },
  {
   "cell_type": "code",
   "execution_count": 47,
   "id": "8c4cccd4",
   "metadata": {},
   "outputs": [],
   "source": [
    "idx_features = (-importance).argsort()[:X_embedded.shape[1]]"
   ]
  },
  {
   "cell_type": "code",
   "execution_count": 48,
   "id": "b4455cc6",
   "metadata": {},
   "outputs": [],
   "source": [
    "idx_features.sort()"
   ]
  },
  {
   "cell_type": "code",
   "execution_count": 49,
   "id": "a423d00b",
   "metadata": {},
   "outputs": [],
   "source": [
    "X_train=pd.DataFrame(Xtrain).iloc[:,idx_features]"
   ]
  },
  {
   "cell_type": "markdown",
   "id": "48d73e02",
   "metadata": {},
   "source": [
    "# 构建预测集"
   ]
  },
  {
   "cell_type": "code",
   "execution_count": 50,
   "id": "6d0d035e",
   "metadata": {},
   "outputs": [
    {
     "data": {
      "text/html": [
       "<div>\n",
       "<style scoped>\n",
       "    .dataframe tbody tr th:only-of-type {\n",
       "        vertical-align: middle;\n",
       "    }\n",
       "\n",
       "    .dataframe tbody tr th {\n",
       "        vertical-align: top;\n",
       "    }\n",
       "\n",
       "    .dataframe thead th {\n",
       "        text-align: right;\n",
       "    }\n",
       "</style>\n",
       "<table border=\"1\" class=\"dataframe\">\n",
       "  <thead>\n",
       "    <tr style=\"text-align: right;\">\n",
       "      <th></th>\n",
       "      <th>是否遇到过网络问题</th>\n",
       "      <th>居民小区</th>\n",
       "      <th>办公室</th>\n",
       "      <th>高校</th>\n",
       "      <th>商业街</th>\n",
       "      <th>地铁</th>\n",
       "      <th>农村</th>\n",
       "      <th>高铁</th>\n",
       "      <th>手机没有信号</th>\n",
       "      <th>有信号无法拨通</th>\n",
       "      <th>...</th>\n",
       "      <th>终端品牌类型</th>\n",
       "      <th>当月ARPU</th>\n",
       "      <th>当月MOU</th>\n",
       "      <th>前3月ARPU</th>\n",
       "      <th>前3月MOU</th>\n",
       "      <th>外省流量占比</th>\n",
       "      <th>GPRS总流量（KB）</th>\n",
       "      <th>GPRS-国内漫游-流量（KB）</th>\n",
       "      <th>是否5G网络客户</th>\n",
       "      <th>客户星级标识</th>\n",
       "    </tr>\n",
       "  </thead>\n",
       "  <tbody>\n",
       "    <tr>\n",
       "      <th>0</th>\n",
       "      <td>2</td>\n",
       "      <td>0</td>\n",
       "      <td>0</td>\n",
       "      <td>0</td>\n",
       "      <td>0</td>\n",
       "      <td>0</td>\n",
       "      <td>0</td>\n",
       "      <td>0</td>\n",
       "      <td>0</td>\n",
       "      <td>0</td>\n",
       "      <td>...</td>\n",
       "      <td>62</td>\n",
       "      <td>45.37</td>\n",
       "      <td>161</td>\n",
       "      <td>23.6</td>\n",
       "      <td>139</td>\n",
       "      <td>0.0</td>\n",
       "      <td>1391</td>\n",
       "      <td>0</td>\n",
       "      <td>0</td>\n",
       "      <td>0</td>\n",
       "    </tr>\n",
       "    <tr>\n",
       "      <th>1</th>\n",
       "      <td>1</td>\n",
       "      <td>1</td>\n",
       "      <td>1</td>\n",
       "      <td>0</td>\n",
       "      <td>0</td>\n",
       "      <td>0</td>\n",
       "      <td>0</td>\n",
       "      <td>0</td>\n",
       "      <td>0</td>\n",
       "      <td>0</td>\n",
       "      <td>...</td>\n",
       "      <td>176</td>\n",
       "      <td>60.00</td>\n",
       "      <td>270</td>\n",
       "      <td>60.0</td>\n",
       "      <td>102</td>\n",
       "      <td>0.0</td>\n",
       "      <td>1030</td>\n",
       "      <td>0</td>\n",
       "      <td>0</td>\n",
       "      <td>1</td>\n",
       "    </tr>\n",
       "    <tr>\n",
       "      <th>2</th>\n",
       "      <td>2</td>\n",
       "      <td>0</td>\n",
       "      <td>0</td>\n",
       "      <td>0</td>\n",
       "      <td>0</td>\n",
       "      <td>0</td>\n",
       "      <td>0</td>\n",
       "      <td>0</td>\n",
       "      <td>0</td>\n",
       "      <td>0</td>\n",
       "      <td>...</td>\n",
       "      <td>31</td>\n",
       "      <td>89.00</td>\n",
       "      <td>662</td>\n",
       "      <td>89.0</td>\n",
       "      <td>80</td>\n",
       "      <td>0.0</td>\n",
       "      <td>767</td>\n",
       "      <td>0</td>\n",
       "      <td>0</td>\n",
       "      <td>1</td>\n",
       "    </tr>\n",
       "    <tr>\n",
       "      <th>3</th>\n",
       "      <td>1</td>\n",
       "      <td>1</td>\n",
       "      <td>0</td>\n",
       "      <td>0</td>\n",
       "      <td>0</td>\n",
       "      <td>0</td>\n",
       "      <td>0</td>\n",
       "      <td>0</td>\n",
       "      <td>0</td>\n",
       "      <td>0</td>\n",
       "      <td>...</td>\n",
       "      <td>17</td>\n",
       "      <td>70.00</td>\n",
       "      <td>645</td>\n",
       "      <td>69.1</td>\n",
       "      <td>333</td>\n",
       "      <td>0.0</td>\n",
       "      <td>912</td>\n",
       "      <td>0</td>\n",
       "      <td>0</td>\n",
       "      <td>1</td>\n",
       "    </tr>\n",
       "    <tr>\n",
       "      <th>4</th>\n",
       "      <td>1</td>\n",
       "      <td>1</td>\n",
       "      <td>0</td>\n",
       "      <td>0</td>\n",
       "      <td>0</td>\n",
       "      <td>0</td>\n",
       "      <td>0</td>\n",
       "      <td>0</td>\n",
       "      <td>0</td>\n",
       "      <td>1</td>\n",
       "      <td>...</td>\n",
       "      <td>246</td>\n",
       "      <td>56.00</td>\n",
       "      <td>496</td>\n",
       "      <td>56.0</td>\n",
       "      <td>258</td>\n",
       "      <td>0.0</td>\n",
       "      <td>1313</td>\n",
       "      <td>0</td>\n",
       "      <td>1</td>\n",
       "      <td>1</td>\n",
       "    </tr>\n",
       "  </tbody>\n",
       "</table>\n",
       "<p>5 rows × 36 columns</p>\n",
       "</div>"
      ],
      "text/plain": [
       "   是否遇到过网络问题  居民小区  办公室  高校  商业街  地铁  农村  高铁  手机没有信号  有信号无法拨通  ...  终端品牌类型  \\\n",
       "0          2     0    0   0    0   0   0   0       0        0  ...      62   \n",
       "1          1     1    1   0    0   0   0   0       0        0  ...     176   \n",
       "2          2     0    0   0    0   0   0   0       0        0  ...      31   \n",
       "3          1     1    0   0    0   0   0   0       0        0  ...      17   \n",
       "4          1     1    0   0    0   0   0   0       0        1  ...     246   \n",
       "\n",
       "   当月ARPU  当月MOU  前3月ARPU  前3月MOU  外省流量占比  GPRS总流量（KB）  GPRS-国内漫游-流量（KB）  \\\n",
       "0   45.37    161     23.6     139     0.0         1391                 0   \n",
       "1   60.00    270     60.0     102     0.0         1030                 0   \n",
       "2   89.00    662     89.0      80     0.0          767                 0   \n",
       "3   70.00    645     69.1     333     0.0          912                 0   \n",
       "4   56.00    496     56.0     258     0.0         1313                 0   \n",
       "\n",
       "   是否5G网络客户  客户星级标识  \n",
       "0         0       0  \n",
       "1         0       1  \n",
       "2         0       1  \n",
       "3         0       1  \n",
       "4         1       1  \n",
       "\n",
       "[5 rows x 36 columns]"
      ]
     },
     "execution_count": 50,
     "metadata": {},
     "output_type": "execute_result"
    }
   ],
   "source": [
    "ip = r'predict1.xlsx'\n",
    "predict = pd.read_excel(ip,header = [0],sheet_name = 'Sheet1')\n",
    "predict.head()"
   ]
  },
  {
   "cell_type": "code",
   "execution_count": 51,
   "id": "c063f5e7",
   "metadata": {},
   "outputs": [],
   "source": [
    "predict=pd.DataFrame(predict).iloc[:,idx_features]"
   ]
  },
  {
   "cell_type": "code",
   "execution_count": 52,
   "id": "f84b90c5",
   "metadata": {},
   "outputs": [
    {
     "data": {
      "text/html": [
       "<div>\n",
       "<style scoped>\n",
       "    .dataframe tbody tr th:only-of-type {\n",
       "        vertical-align: middle;\n",
       "    }\n",
       "\n",
       "    .dataframe tbody tr th {\n",
       "        vertical-align: top;\n",
       "    }\n",
       "\n",
       "    .dataframe thead th {\n",
       "        text-align: right;\n",
       "    }\n",
       "</style>\n",
       "<table border=\"1\" class=\"dataframe\">\n",
       "  <thead>\n",
       "    <tr style=\"text-align: right;\">\n",
       "      <th></th>\n",
       "      <th>0</th>\n",
       "      <th>1</th>\n",
       "      <th>2</th>\n",
       "      <th>3</th>\n",
       "      <th>4</th>\n",
       "      <th>5</th>\n",
       "      <th>6</th>\n",
       "      <th>7</th>\n",
       "      <th>8</th>\n",
       "      <th>9</th>\n",
       "      <th>...</th>\n",
       "      <th>26</th>\n",
       "      <th>27</th>\n",
       "      <th>28</th>\n",
       "      <th>29</th>\n",
       "      <th>30</th>\n",
       "      <th>31</th>\n",
       "      <th>32</th>\n",
       "      <th>33</th>\n",
       "      <th>34</th>\n",
       "      <th>35</th>\n",
       "    </tr>\n",
       "  </thead>\n",
       "  <tbody>\n",
       "    <tr>\n",
       "      <th>0</th>\n",
       "      <td>1</td>\n",
       "      <td>0.0</td>\n",
       "      <td>1.0</td>\n",
       "      <td>0.0</td>\n",
       "      <td>0.0</td>\n",
       "      <td>0.0</td>\n",
       "      <td>0.0</td>\n",
       "      <td>0.0</td>\n",
       "      <td>0.0</td>\n",
       "      <td>1.0</td>\n",
       "      <td>...</td>\n",
       "      <td>43.0</td>\n",
       "      <td>347.32</td>\n",
       "      <td>644</td>\n",
       "      <td>0.0</td>\n",
       "      <td>480</td>\n",
       "      <td>1.0</td>\n",
       "      <td>8450801</td>\n",
       "      <td>8450801</td>\n",
       "      <td>1</td>\n",
       "      <td>8.0</td>\n",
       "    </tr>\n",
       "    <tr>\n",
       "      <th>1</th>\n",
       "      <td>1</td>\n",
       "      <td>1.0</td>\n",
       "      <td>1.0</td>\n",
       "      <td>0.0</td>\n",
       "      <td>1.0</td>\n",
       "      <td>0.0</td>\n",
       "      <td>0.0</td>\n",
       "      <td>0.0</td>\n",
       "      <td>0.0</td>\n",
       "      <td>0.0</td>\n",
       "      <td>...</td>\n",
       "      <td>462.0</td>\n",
       "      <td>111.4</td>\n",
       "      <td>902</td>\n",
       "      <td>0.0</td>\n",
       "      <td>480</td>\n",
       "      <td>1.0</td>\n",
       "      <td>17425910</td>\n",
       "      <td>17425910</td>\n",
       "      <td>1</td>\n",
       "      <td>8.0</td>\n",
       "    </tr>\n",
       "    <tr>\n",
       "      <th>2</th>\n",
       "      <td>1</td>\n",
       "      <td>0.0</td>\n",
       "      <td>0.0</td>\n",
       "      <td>0.0</td>\n",
       "      <td>0.0</td>\n",
       "      <td>0.0</td>\n",
       "      <td>1.0</td>\n",
       "      <td>0.0</td>\n",
       "      <td>1.0</td>\n",
       "      <td>0.0</td>\n",
       "      <td>...</td>\n",
       "      <td>571.0</td>\n",
       "      <td>48.0</td>\n",
       "      <td>322</td>\n",
       "      <td>0.0</td>\n",
       "      <td>413</td>\n",
       "      <td>1.0</td>\n",
       "      <td>6215849</td>\n",
       "      <td>6215849</td>\n",
       "      <td>0</td>\n",
       "      <td>1.0</td>\n",
       "    </tr>\n",
       "    <tr>\n",
       "      <th>3</th>\n",
       "      <td>1</td>\n",
       "      <td>1.0</td>\n",
       "      <td>1.0</td>\n",
       "      <td>0.0</td>\n",
       "      <td>0.0</td>\n",
       "      <td>0.0</td>\n",
       "      <td>0.0</td>\n",
       "      <td>0.0</td>\n",
       "      <td>1.0</td>\n",
       "      <td>1.0</td>\n",
       "      <td>...</td>\n",
       "      <td>45.0</td>\n",
       "      <td>49.0</td>\n",
       "      <td>139</td>\n",
       "      <td>0.0</td>\n",
       "      <td>301</td>\n",
       "      <td>1.0</td>\n",
       "      <td>5370710</td>\n",
       "      <td>5370710</td>\n",
       "      <td>1</td>\n",
       "      <td>1.0</td>\n",
       "    </tr>\n",
       "    <tr>\n",
       "      <th>4</th>\n",
       "      <td>1</td>\n",
       "      <td>1.0</td>\n",
       "      <td>0.0</td>\n",
       "      <td>0.0</td>\n",
       "      <td>0.0</td>\n",
       "      <td>1.0</td>\n",
       "      <td>1.0</td>\n",
       "      <td>0.0</td>\n",
       "      <td>0.0</td>\n",
       "      <td>1.0</td>\n",
       "      <td>...</td>\n",
       "      <td>600.0</td>\n",
       "      <td>140.09</td>\n",
       "      <td>627</td>\n",
       "      <td>0.0</td>\n",
       "      <td>794</td>\n",
       "      <td>1.0</td>\n",
       "      <td>31131458</td>\n",
       "      <td>31131458</td>\n",
       "      <td>0</td>\n",
       "      <td>8.0</td>\n",
       "    </tr>\n",
       "    <tr>\n",
       "      <th>...</th>\n",
       "      <td>...</td>\n",
       "      <td>...</td>\n",
       "      <td>...</td>\n",
       "      <td>...</td>\n",
       "      <td>...</td>\n",
       "      <td>...</td>\n",
       "      <td>...</td>\n",
       "      <td>...</td>\n",
       "      <td>...</td>\n",
       "      <td>...</td>\n",
       "      <td>...</td>\n",
       "      <td>...</td>\n",
       "      <td>...</td>\n",
       "      <td>...</td>\n",
       "      <td>...</td>\n",
       "      <td>...</td>\n",
       "      <td>...</td>\n",
       "      <td>...</td>\n",
       "      <td>...</td>\n",
       "      <td>...</td>\n",
       "      <td>...</td>\n",
       "    </tr>\n",
       "    <tr>\n",
       "      <th>4364</th>\n",
       "      <td>1</td>\n",
       "      <td>0.0</td>\n",
       "      <td>1.0</td>\n",
       "      <td>0.0</td>\n",
       "      <td>0.0</td>\n",
       "      <td>0.0</td>\n",
       "      <td>0.0</td>\n",
       "      <td>0.0</td>\n",
       "      <td>0.0</td>\n",
       "      <td>0.0</td>\n",
       "      <td>...</td>\n",
       "      <td>34.0</td>\n",
       "      <td>57.0</td>\n",
       "      <td>293</td>\n",
       "      <td>0.0</td>\n",
       "      <td>320</td>\n",
       "      <td>0.0</td>\n",
       "      <td>16654303</td>\n",
       "      <td>0</td>\n",
       "      <td>0</td>\n",
       "      <td>2.0</td>\n",
       "    </tr>\n",
       "    <tr>\n",
       "      <th>4365</th>\n",
       "      <td>1</td>\n",
       "      <td>1.0</td>\n",
       "      <td>1.0</td>\n",
       "      <td>0.0</td>\n",
       "      <td>0.0</td>\n",
       "      <td>0.0</td>\n",
       "      <td>0.0</td>\n",
       "      <td>1.0</td>\n",
       "      <td>0.0</td>\n",
       "      <td>0.0</td>\n",
       "      <td>...</td>\n",
       "      <td>46.0</td>\n",
       "      <td>179.89</td>\n",
       "      <td>1277</td>\n",
       "      <td>0.0</td>\n",
       "      <td>147</td>\n",
       "      <td>0.0</td>\n",
       "      <td>627901</td>\n",
       "      <td>0</td>\n",
       "      <td>1</td>\n",
       "      <td>1.0</td>\n",
       "    </tr>\n",
       "    <tr>\n",
       "      <th>4366</th>\n",
       "      <td>1</td>\n",
       "      <td>0.0</td>\n",
       "      <td>0.0</td>\n",
       "      <td>0.0</td>\n",
       "      <td>1.0</td>\n",
       "      <td>0.0</td>\n",
       "      <td>0.0</td>\n",
       "      <td>0.0</td>\n",
       "      <td>1.0</td>\n",
       "      <td>1.0</td>\n",
       "      <td>...</td>\n",
       "      <td>456.0</td>\n",
       "      <td>90.0</td>\n",
       "      <td>115</td>\n",
       "      <td>0.0</td>\n",
       "      <td>150</td>\n",
       "      <td>0.0</td>\n",
       "      <td>6816663</td>\n",
       "      <td>0</td>\n",
       "      <td>0</td>\n",
       "      <td>8.0</td>\n",
       "    </tr>\n",
       "    <tr>\n",
       "      <th>4367</th>\n",
       "      <td>1</td>\n",
       "      <td>0.0</td>\n",
       "      <td>0.0</td>\n",
       "      <td>0.0</td>\n",
       "      <td>0.0</td>\n",
       "      <td>1.0</td>\n",
       "      <td>1.0</td>\n",
       "      <td>0.0</td>\n",
       "      <td>0.0</td>\n",
       "      <td>0.0</td>\n",
       "      <td>...</td>\n",
       "      <td>221.0</td>\n",
       "      <td>19.0</td>\n",
       "      <td>179</td>\n",
       "      <td>0.0</td>\n",
       "      <td>82</td>\n",
       "      <td>0.0</td>\n",
       "      <td>1841891</td>\n",
       "      <td>0</td>\n",
       "      <td>0</td>\n",
       "      <td>1.0</td>\n",
       "    </tr>\n",
       "    <tr>\n",
       "      <th>4368</th>\n",
       "      <td>1</td>\n",
       "      <td>1.0</td>\n",
       "      <td>1.0</td>\n",
       "      <td>0.0</td>\n",
       "      <td>0.0</td>\n",
       "      <td>1.0</td>\n",
       "      <td>0.0</td>\n",
       "      <td>0.0</td>\n",
       "      <td>0.0</td>\n",
       "      <td>0.0</td>\n",
       "      <td>...</td>\n",
       "      <td>45.0</td>\n",
       "      <td>8.0</td>\n",
       "      <td>234</td>\n",
       "      <td>0.0</td>\n",
       "      <td>258</td>\n",
       "      <td>0.0</td>\n",
       "      <td>810</td>\n",
       "      <td>0</td>\n",
       "      <td>0</td>\n",
       "      <td>1.0</td>\n",
       "    </tr>\n",
       "  </tbody>\n",
       "</table>\n",
       "<p>4369 rows × 35 columns</p>\n",
       "</div>"
      ],
      "text/plain": [
       "     0    1    2    3    4    5    6    7    8    9   ...     26      27  \\\n",
       "0     1  0.0  1.0  0.0  0.0  0.0  0.0  0.0  0.0  1.0  ...   43.0  347.32   \n",
       "1     1  1.0  1.0  0.0  1.0  0.0  0.0  0.0  0.0  0.0  ...  462.0   111.4   \n",
       "2     1  0.0  0.0  0.0  0.0  0.0  1.0  0.0  1.0  0.0  ...  571.0    48.0   \n",
       "3     1  1.0  1.0  0.0  0.0  0.0  0.0  0.0  1.0  1.0  ...   45.0    49.0   \n",
       "4     1  1.0  0.0  0.0  0.0  1.0  1.0  0.0  0.0  1.0  ...  600.0  140.09   \n",
       "...  ..  ...  ...  ...  ...  ...  ...  ...  ...  ...  ...    ...     ...   \n",
       "4364  1  0.0  1.0  0.0  0.0  0.0  0.0  0.0  0.0  0.0  ...   34.0    57.0   \n",
       "4365  1  1.0  1.0  0.0  0.0  0.0  0.0  1.0  0.0  0.0  ...   46.0  179.89   \n",
       "4366  1  0.0  0.0  0.0  1.0  0.0  0.0  0.0  1.0  1.0  ...  456.0    90.0   \n",
       "4367  1  0.0  0.0  0.0  0.0  1.0  1.0  0.0  0.0  0.0  ...  221.0    19.0   \n",
       "4368  1  1.0  1.0  0.0  0.0  1.0  0.0  0.0  0.0  0.0  ...   45.0     8.0   \n",
       "\n",
       "        28   29   30   31        32        33 34   35  \n",
       "0      644  0.0  480  1.0   8450801   8450801  1  8.0  \n",
       "1      902  0.0  480  1.0  17425910  17425910  1  8.0  \n",
       "2      322  0.0  413  1.0   6215849   6215849  0  1.0  \n",
       "3      139  0.0  301  1.0   5370710   5370710  1  1.0  \n",
       "4      627  0.0  794  1.0  31131458  31131458  0  8.0  \n",
       "...    ...  ...  ...  ...       ...       ... ..  ...  \n",
       "4364   293  0.0  320  0.0  16654303         0  0  2.0  \n",
       "4365  1277  0.0  147  0.0    627901         0  1  1.0  \n",
       "4366   115  0.0  150  0.0   6816663         0  0  8.0  \n",
       "4367   179  0.0   82  0.0   1841891         0  0  1.0  \n",
       "4368   234  0.0  258  0.0       810         0  0  1.0  \n",
       "\n",
       "[4369 rows x 35 columns]"
      ]
     },
     "execution_count": 52,
     "metadata": {},
     "output_type": "execute_result"
    }
   ],
   "source": [
    "X_train"
   ]
  },
  {
   "cell_type": "code",
   "execution_count": 53,
   "id": "bb003c83",
   "metadata": {},
   "outputs": [
    {
     "data": {
      "text/html": [
       "<div>\n",
       "<style scoped>\n",
       "    .dataframe tbody tr th:only-of-type {\n",
       "        vertical-align: middle;\n",
       "    }\n",
       "\n",
       "    .dataframe tbody tr th {\n",
       "        vertical-align: top;\n",
       "    }\n",
       "\n",
       "    .dataframe thead th {\n",
       "        text-align: right;\n",
       "    }\n",
       "</style>\n",
       "<table border=\"1\" class=\"dataframe\">\n",
       "  <thead>\n",
       "    <tr style=\"text-align: right;\">\n",
       "      <th></th>\n",
       "      <th>是否遇到过网络问题</th>\n",
       "      <th>居民小区</th>\n",
       "      <th>办公室</th>\n",
       "      <th>高校</th>\n",
       "      <th>商业街</th>\n",
       "      <th>地铁</th>\n",
       "      <th>农村</th>\n",
       "      <th>高铁</th>\n",
       "      <th>手机没有信号</th>\n",
       "      <th>有信号无法拨通</th>\n",
       "      <th>...</th>\n",
       "      <th>终端品牌类型</th>\n",
       "      <th>当月ARPU</th>\n",
       "      <th>当月MOU</th>\n",
       "      <th>前3月ARPU</th>\n",
       "      <th>前3月MOU</th>\n",
       "      <th>外省流量占比</th>\n",
       "      <th>GPRS总流量（KB）</th>\n",
       "      <th>GPRS-国内漫游-流量（KB）</th>\n",
       "      <th>是否5G网络客户</th>\n",
       "      <th>客户星级标识</th>\n",
       "    </tr>\n",
       "  </thead>\n",
       "  <tbody>\n",
       "    <tr>\n",
       "      <th>0</th>\n",
       "      <td>2</td>\n",
       "      <td>0</td>\n",
       "      <td>0</td>\n",
       "      <td>0</td>\n",
       "      <td>0</td>\n",
       "      <td>0</td>\n",
       "      <td>0</td>\n",
       "      <td>0</td>\n",
       "      <td>0</td>\n",
       "      <td>0</td>\n",
       "      <td>...</td>\n",
       "      <td>62</td>\n",
       "      <td>45.37</td>\n",
       "      <td>161</td>\n",
       "      <td>23.6</td>\n",
       "      <td>139</td>\n",
       "      <td>0.000000</td>\n",
       "      <td>1391</td>\n",
       "      <td>0</td>\n",
       "      <td>0</td>\n",
       "      <td>0</td>\n",
       "    </tr>\n",
       "    <tr>\n",
       "      <th>1</th>\n",
       "      <td>1</td>\n",
       "      <td>1</td>\n",
       "      <td>1</td>\n",
       "      <td>0</td>\n",
       "      <td>0</td>\n",
       "      <td>0</td>\n",
       "      <td>0</td>\n",
       "      <td>0</td>\n",
       "      <td>0</td>\n",
       "      <td>0</td>\n",
       "      <td>...</td>\n",
       "      <td>176</td>\n",
       "      <td>60.00</td>\n",
       "      <td>270</td>\n",
       "      <td>60.0</td>\n",
       "      <td>102</td>\n",
       "      <td>0.000000</td>\n",
       "      <td>1030</td>\n",
       "      <td>0</td>\n",
       "      <td>0</td>\n",
       "      <td>1</td>\n",
       "    </tr>\n",
       "    <tr>\n",
       "      <th>2</th>\n",
       "      <td>2</td>\n",
       "      <td>0</td>\n",
       "      <td>0</td>\n",
       "      <td>0</td>\n",
       "      <td>0</td>\n",
       "      <td>0</td>\n",
       "      <td>0</td>\n",
       "      <td>0</td>\n",
       "      <td>0</td>\n",
       "      <td>0</td>\n",
       "      <td>...</td>\n",
       "      <td>31</td>\n",
       "      <td>89.00</td>\n",
       "      <td>662</td>\n",
       "      <td>89.0</td>\n",
       "      <td>80</td>\n",
       "      <td>0.000000</td>\n",
       "      <td>767</td>\n",
       "      <td>0</td>\n",
       "      <td>0</td>\n",
       "      <td>1</td>\n",
       "    </tr>\n",
       "    <tr>\n",
       "      <th>3</th>\n",
       "      <td>1</td>\n",
       "      <td>1</td>\n",
       "      <td>0</td>\n",
       "      <td>0</td>\n",
       "      <td>0</td>\n",
       "      <td>0</td>\n",
       "      <td>0</td>\n",
       "      <td>0</td>\n",
       "      <td>0</td>\n",
       "      <td>0</td>\n",
       "      <td>...</td>\n",
       "      <td>17</td>\n",
       "      <td>70.00</td>\n",
       "      <td>645</td>\n",
       "      <td>69.1</td>\n",
       "      <td>333</td>\n",
       "      <td>0.000000</td>\n",
       "      <td>912</td>\n",
       "      <td>0</td>\n",
       "      <td>0</td>\n",
       "      <td>1</td>\n",
       "    </tr>\n",
       "    <tr>\n",
       "      <th>4</th>\n",
       "      <td>1</td>\n",
       "      <td>1</td>\n",
       "      <td>0</td>\n",
       "      <td>0</td>\n",
       "      <td>0</td>\n",
       "      <td>0</td>\n",
       "      <td>0</td>\n",
       "      <td>0</td>\n",
       "      <td>0</td>\n",
       "      <td>1</td>\n",
       "      <td>...</td>\n",
       "      <td>246</td>\n",
       "      <td>56.00</td>\n",
       "      <td>496</td>\n",
       "      <td>56.0</td>\n",
       "      <td>258</td>\n",
       "      <td>0.000000</td>\n",
       "      <td>1313</td>\n",
       "      <td>0</td>\n",
       "      <td>1</td>\n",
       "      <td>1</td>\n",
       "    </tr>\n",
       "    <tr>\n",
       "      <th>...</th>\n",
       "      <td>...</td>\n",
       "      <td>...</td>\n",
       "      <td>...</td>\n",
       "      <td>...</td>\n",
       "      <td>...</td>\n",
       "      <td>...</td>\n",
       "      <td>...</td>\n",
       "      <td>...</td>\n",
       "      <td>...</td>\n",
       "      <td>...</td>\n",
       "      <td>...</td>\n",
       "      <td>...</td>\n",
       "      <td>...</td>\n",
       "      <td>...</td>\n",
       "      <td>...</td>\n",
       "      <td>...</td>\n",
       "      <td>...</td>\n",
       "      <td>...</td>\n",
       "      <td>...</td>\n",
       "      <td>...</td>\n",
       "      <td>...</td>\n",
       "    </tr>\n",
       "    <tr>\n",
       "      <th>2594</th>\n",
       "      <td>1</td>\n",
       "      <td>0</td>\n",
       "      <td>0</td>\n",
       "      <td>0</td>\n",
       "      <td>0</td>\n",
       "      <td>0</td>\n",
       "      <td>0</td>\n",
       "      <td>1</td>\n",
       "      <td>1</td>\n",
       "      <td>0</td>\n",
       "      <td>...</td>\n",
       "      <td>103</td>\n",
       "      <td>47.00</td>\n",
       "      <td>110</td>\n",
       "      <td>197.0</td>\n",
       "      <td>42</td>\n",
       "      <td>0.000000</td>\n",
       "      <td>2105</td>\n",
       "      <td>0</td>\n",
       "      <td>0</td>\n",
       "      <td>1</td>\n",
       "    </tr>\n",
       "    <tr>\n",
       "      <th>2595</th>\n",
       "      <td>2</td>\n",
       "      <td>0</td>\n",
       "      <td>0</td>\n",
       "      <td>0</td>\n",
       "      <td>0</td>\n",
       "      <td>0</td>\n",
       "      <td>0</td>\n",
       "      <td>0</td>\n",
       "      <td>0</td>\n",
       "      <td>0</td>\n",
       "      <td>...</td>\n",
       "      <td>450</td>\n",
       "      <td>57.00</td>\n",
       "      <td>238</td>\n",
       "      <td>77.0</td>\n",
       "      <td>157</td>\n",
       "      <td>0.000000</td>\n",
       "      <td>562</td>\n",
       "      <td>0</td>\n",
       "      <td>0</td>\n",
       "      <td>1</td>\n",
       "    </tr>\n",
       "    <tr>\n",
       "      <th>2596</th>\n",
       "      <td>2</td>\n",
       "      <td>0</td>\n",
       "      <td>0</td>\n",
       "      <td>0</td>\n",
       "      <td>0</td>\n",
       "      <td>0</td>\n",
       "      <td>0</td>\n",
       "      <td>0</td>\n",
       "      <td>0</td>\n",
       "      <td>0</td>\n",
       "      <td>...</td>\n",
       "      <td>36</td>\n",
       "      <td>8.10</td>\n",
       "      <td>202</td>\n",
       "      <td>8.0</td>\n",
       "      <td>194</td>\n",
       "      <td>0.000000</td>\n",
       "      <td>1948</td>\n",
       "      <td>0</td>\n",
       "      <td>1</td>\n",
       "      <td>1</td>\n",
       "    </tr>\n",
       "    <tr>\n",
       "      <th>2597</th>\n",
       "      <td>1</td>\n",
       "      <td>0</td>\n",
       "      <td>0</td>\n",
       "      <td>0</td>\n",
       "      <td>0</td>\n",
       "      <td>0</td>\n",
       "      <td>1</td>\n",
       "      <td>1</td>\n",
       "      <td>0</td>\n",
       "      <td>0</td>\n",
       "      <td>...</td>\n",
       "      <td>157</td>\n",
       "      <td>58.20</td>\n",
       "      <td>148</td>\n",
       "      <td>58.3</td>\n",
       "      <td>66</td>\n",
       "      <td>0.061913</td>\n",
       "      <td>661</td>\n",
       "      <td>151</td>\n",
       "      <td>0</td>\n",
       "      <td>1</td>\n",
       "    </tr>\n",
       "    <tr>\n",
       "      <th>2598</th>\n",
       "      <td>2</td>\n",
       "      <td>0</td>\n",
       "      <td>0</td>\n",
       "      <td>0</td>\n",
       "      <td>0</td>\n",
       "      <td>0</td>\n",
       "      <td>0</td>\n",
       "      <td>0</td>\n",
       "      <td>0</td>\n",
       "      <td>0</td>\n",
       "      <td>...</td>\n",
       "      <td>29</td>\n",
       "      <td>134.80</td>\n",
       "      <td>623</td>\n",
       "      <td>135.0</td>\n",
       "      <td>1092</td>\n",
       "      <td>0.027956</td>\n",
       "      <td>2184</td>\n",
       "      <td>176</td>\n",
       "      <td>1</td>\n",
       "      <td>6</td>\n",
       "    </tr>\n",
       "  </tbody>\n",
       "</table>\n",
       "<p>2599 rows × 35 columns</p>\n",
       "</div>"
      ],
      "text/plain": [
       "      是否遇到过网络问题  居民小区  办公室  高校  商业街  地铁  农村  高铁  手机没有信号  有信号无法拨通  ...  终端品牌类型  \\\n",
       "0             2     0    0   0    0   0   0   0       0        0  ...      62   \n",
       "1             1     1    1   0    0   0   0   0       0        0  ...     176   \n",
       "2             2     0    0   0    0   0   0   0       0        0  ...      31   \n",
       "3             1     1    0   0    0   0   0   0       0        0  ...      17   \n",
       "4             1     1    0   0    0   0   0   0       0        1  ...     246   \n",
       "...         ...   ...  ...  ..  ...  ..  ..  ..     ...      ...  ...     ...   \n",
       "2594          1     0    0   0    0   0   0   1       1        0  ...     103   \n",
       "2595          2     0    0   0    0   0   0   0       0        0  ...     450   \n",
       "2596          2     0    0   0    0   0   0   0       0        0  ...      36   \n",
       "2597          1     0    0   0    0   0   1   1       0        0  ...     157   \n",
       "2598          2     0    0   0    0   0   0   0       0        0  ...      29   \n",
       "\n",
       "      当月ARPU  当月MOU  前3月ARPU  前3月MOU    外省流量占比  GPRS总流量（KB）  GPRS-国内漫游-流量（KB）  \\\n",
       "0      45.37    161     23.6     139  0.000000         1391                 0   \n",
       "1      60.00    270     60.0     102  0.000000         1030                 0   \n",
       "2      89.00    662     89.0      80  0.000000          767                 0   \n",
       "3      70.00    645     69.1     333  0.000000          912                 0   \n",
       "4      56.00    496     56.0     258  0.000000         1313                 0   \n",
       "...      ...    ...      ...     ...       ...          ...               ...   \n",
       "2594   47.00    110    197.0      42  0.000000         2105                 0   \n",
       "2595   57.00    238     77.0     157  0.000000          562                 0   \n",
       "2596    8.10    202      8.0     194  0.000000         1948                 0   \n",
       "2597   58.20    148     58.3      66  0.061913          661               151   \n",
       "2598  134.80    623    135.0    1092  0.027956         2184               176   \n",
       "\n",
       "      是否5G网络客户  客户星级标识  \n",
       "0            0       0  \n",
       "1            0       1  \n",
       "2            0       1  \n",
       "3            0       1  \n",
       "4            1       1  \n",
       "...        ...     ...  \n",
       "2594         0       1  \n",
       "2595         0       1  \n",
       "2596         1       1  \n",
       "2597         0       1  \n",
       "2598         1       6  \n",
       "\n",
       "[2599 rows x 35 columns]"
      ]
     },
     "execution_count": 53,
     "metadata": {},
     "output_type": "execute_result"
    }
   ],
   "source": [
    "predict"
   ]
  },
  {
   "cell_type": "markdown",
   "id": "b850d38d",
   "metadata": {},
   "source": [
    "# 构建随机森林模型"
   ]
  },
  {
   "cell_type": "code",
   "execution_count": 54,
   "id": "dd2496c8",
   "metadata": {},
   "outputs": [],
   "source": [
    "from sklearn import tree\n",
    "from sklearn.model_selection import train_test_split\n",
    "Xtrain,Xtest,Ytrain,Ytest = train_test_split(X_train,Ytrain,test_size=0.3)"
   ]
  },
  {
   "cell_type": "code",
   "execution_count": 55,
   "id": "14dc4b82",
   "metadata": {},
   "outputs": [],
   "source": [
    "from sklearn.ensemble import RandomForestClassifier\n",
    "forest = RandomForestClassifier(n_estimators=14,criterion=\"gini\",max_depth=30,min_samples_leaf=10)\n",
    "forest.fit(Xtrain,Ytrain)\n",
    "score = forest.score(Xtest,Ytest)#返回准确度\n"
   ]
  },
  {
   "cell_type": "code",
   "execution_count": 56,
   "id": "98eff6fd",
   "metadata": {},
   "outputs": [
    {
     "data": {
      "text/plain": [
       "0.4858886346300534"
      ]
     },
     "execution_count": 56,
     "metadata": {},
     "output_type": "execute_result"
    }
   ],
   "source": [
    "score"
   ]
  },
  {
   "cell_type": "code",
   "execution_count": 57,
   "id": "08f9f3e2",
   "metadata": {},
   "outputs": [
    {
     "data": {
      "text/plain": [
       "0.6141268803139307"
      ]
     },
     "execution_count": 57,
     "metadata": {},
     "output_type": "execute_result"
    }
   ],
   "source": [
    "forest.score(Xtrain,Ytrain)"
   ]
  },
  {
   "cell_type": "code",
   "execution_count": 58,
   "id": "a0316395",
   "metadata": {},
   "outputs": [],
   "source": [
    "result_forest = forest.predict(predict.values)"
   ]
  },
  {
   "cell_type": "code",
   "execution_count": 59,
   "id": "e856cd32",
   "metadata": {},
   "outputs": [],
   "source": [
    "pd.DataFrame(result_forest).to_excel('网络覆盖与信号强度_随机森林_predictresult.xlsx', sheet_name='Sheet1', index=False)"
   ]
  },
  {
   "cell_type": "markdown",
   "id": "589c0df8",
   "metadata": {},
   "source": [
    "# 构建神经网络模型"
   ]
  },
  {
   "cell_type": "code",
   "execution_count": 60,
   "id": "dab79375",
   "metadata": {},
   "outputs": [],
   "source": [
    "from sklearn.preprocessing import StandardScaler\n",
    "sc=StandardScaler()\n",
    "sc.fit(X_train)\n",
    "standard_train=sc.transform(Xtrain)\n",
    "standard_test=sc.transform(Xtest)\n",
    "\n"
   ]
  },
  {
   "cell_type": "code",
   "execution_count": 61,
   "id": "952f2b9e",
   "metadata": {},
   "outputs": [
    {
     "name": "stdout",
     "output_type": "stream",
     "text": [
      "测试集预测的正确率为： 0.5049580472921434\n",
      "训练集的正确率为： 0.5287769784172662\n"
     ]
    }
   ],
   "source": [
    "from sklearn.neural_network import MLPClassifier\n",
    "# solver{‘lbfgs’, ‘sgd’, ‘adam’} ‘adam’在相对较大的数据集上效果比较好（几千个样本或者更多），对小数据集来说，lbfgs收敛更快效果也更好。\n",
    "mlp=MLPClassifier(solver='adam',alpha=1e-5,hidden_layer_sizes=(5,5),max_iter=4000)\n",
    "mlp.fit(standard_train,Ytrain)\n",
    "result_mlp=mlp.predict(predict.values)\n",
    "#print(\"测试集合的y值：\",list(Y_test))\n",
    "#print(\"神经网络预测的的y值：\",list(result))\n",
    "print(\"测试集预测的正确率为：\",mlp.score(standard_test,Ytest))\n",
    "print(\"训练集的正确率为：\",mlp.score(standard_train,Ytrain))"
   ]
  },
  {
   "cell_type": "code",
   "execution_count": 62,
   "id": "96aa5108",
   "metadata": {},
   "outputs": [
    {
     "data": {
      "text/plain": [
       "array([10, 10, 10, ..., 10, 10, 10], dtype=int64)"
      ]
     },
     "execution_count": 62,
     "metadata": {},
     "output_type": "execute_result"
    }
   ],
   "source": [
    "result_mlp"
   ]
  },
  {
   "cell_type": "code",
   "execution_count": 63,
   "id": "de86a532",
   "metadata": {},
   "outputs": [],
   "source": [
    "pd.DataFrame(result_mlp).to_excel('语音通话整体满意度_神经网络_predictresult.xlsx', sheet_name='Sheet1', index=False)"
   ]
  },
  {
   "cell_type": "markdown",
   "id": "d7de8db5",
   "metadata": {},
   "source": [
    "# 构建XGBoost算法模型"
   ]
  },
  {
   "cell_type": "code",
   "execution_count": 64,
   "id": "0b678014",
   "metadata": {},
   "outputs": [],
   "source": [
    "from sklearn.preprocessing import LabelEncoder\n",
    "le = LabelEncoder()\n",
    "Ytrain = le.fit_transform(Ytrain)\n",
    "Ytest = le.fit_transform(Ytest)"
   ]
  },
  {
   "cell_type": "code",
   "execution_count": 65,
   "id": "64ba8383",
   "metadata": {},
   "outputs": [
    {
     "data": {
      "text/plain": [
       "0.4698703279938978"
      ]
     },
     "execution_count": 65,
     "metadata": {},
     "output_type": "execute_result"
    }
   ],
   "source": [
    "from xgboost.sklearn import XGBClassifier\n",
    "xgbc = XGBClassifier()\n",
    "xgbc.fit(Xtrain.values,Ytrain)\n",
    "xgbc.score(Xtest.values,Ytest)"
   ]
  },
  {
   "cell_type": "code",
   "execution_count": 66,
   "id": "39074d2f",
   "metadata": {},
   "outputs": [
    {
     "data": {
      "text/plain": [
       "0.9931327665140615"
      ]
     },
     "execution_count": 66,
     "metadata": {},
     "output_type": "execute_result"
    }
   ],
   "source": [
    "xgbc.score(Xtrain.values,Ytrain)"
   ]
  },
  {
   "cell_type": "code",
   "execution_count": 67,
   "id": "2decc0db",
   "metadata": {},
   "outputs": [],
   "source": [
    "result_xgbc=xgbc.predict(predict.values)+1"
   ]
  },
  {
   "cell_type": "code",
   "execution_count": 68,
   "id": "7d88917f",
   "metadata": {},
   "outputs": [],
   "source": [
    "pd.DataFrame(result_xgbc).to_excel('网络覆盖与信号强度_XGBoost_predictresult.xlsx', sheet_name='Sheet1', index=False)"
   ]
  },
  {
   "cell_type": "code",
   "execution_count": 69,
   "id": "99197bf0",
   "metadata": {},
   "outputs": [],
   "source": [
    "Ytrain=data1['网络覆盖与信号强度'].values\n",
    "a=data1.drop('网络覆盖与信号强度', axis = 1)\n",
    "a=pd.DataFrame(a)\n",
    "a=a.iloc[:,idx_features]\n",
    "Xtrain=a.values"
   ]
  },
  {
   "cell_type": "code",
   "execution_count": 70,
   "id": "fca5b941",
   "metadata": {},
   "outputs": [],
   "source": [
    "test_forest=forest.predict(Xtrain)"
   ]
  },
  {
   "cell_type": "code",
   "execution_count": 71,
   "id": "8c923b04",
   "metadata": {},
   "outputs": [],
   "source": [
    "test_mlp=mlp.predict(Xtrain)"
   ]
  },
  {
   "cell_type": "code",
   "execution_count": 72,
   "id": "9f1590f5",
   "metadata": {},
   "outputs": [],
   "source": [
    "test_xgbc=xgbc.predict(Xtrain)+1"
   ]
  },
  {
   "cell_type": "code",
   "execution_count": 73,
   "id": "6f34636d",
   "metadata": {},
   "outputs": [],
   "source": [
    "import pandas\n",
    "allreuslt= pd.concat([pd.DataFrame(result_forest),pd.DataFrame(result_mlp),pd.DataFrame(result_xgbc)],axis=1) \n",
    "alltrain= pd.concat([pd.DataFrame(test_forest),pd.DataFrame(test_mlp),pd.DataFrame(test_xgbc)],axis=1) "
   ]
  },
  {
   "cell_type": "code",
   "execution_count": 74,
   "id": "d4a8abb6",
   "metadata": {},
   "outputs": [],
   "source": [
    "Xtrain,Xtest,Ytrain,Ytest = train_test_split(alltrain,Ytrain,test_size=0.3)"
   ]
  },
  {
   "cell_type": "markdown",
   "id": "b93d21d4",
   "metadata": {},
   "source": [
    "# 构建融合模型"
   ]
  },
  {
   "cell_type": "code",
   "execution_count": 75,
   "id": "a445c175",
   "metadata": {},
   "outputs": [
    {
     "name": "stdout",
     "output_type": "stream",
     "text": [
      "0.6725465974894402\n",
      "0.7163754028491158\n"
     ]
    }
   ],
   "source": [
    "from sklearn.linear_model import LinearRegression\n",
    "#线性回归\n",
    "lr=LinearRegression().fit(Xtrain,Ytrain)\n",
    "print(lr.score(Xtrain,Ytrain))\n",
    "print(lr.score(Xtest,Ytest))"
   ]
  },
  {
   "cell_type": "code",
   "execution_count": 76,
   "id": "bafcb556",
   "metadata": {
    "scrolled": true
   },
   "outputs": [],
   "source": [
    "a=lr.predict(allreuslt)"
   ]
  },
  {
   "cell_type": "code",
   "execution_count": 77,
   "id": "25d4dbac",
   "metadata": {},
   "outputs": [
    {
     "data": {
      "text/plain": [
       "array([9.32965143, 9.32965143, 9.32965143, ..., 9.32965143, 9.32965143,\n",
       "       9.32965143])"
      ]
     },
     "execution_count": 77,
     "metadata": {},
     "output_type": "execute_result"
    }
   ],
   "source": [
    "a"
   ]
  },
  {
   "cell_type": "code",
   "execution_count": 78,
   "id": "2e584580",
   "metadata": {},
   "outputs": [],
   "source": [
    "a=a.round(0)"
   ]
  },
  {
   "cell_type": "code",
   "execution_count": 79,
   "id": "1dd4a25b",
   "metadata": {},
   "outputs": [],
   "source": [
    "pd.DataFrame(a).to_excel('网络覆盖与信号强度_predict_result.xlsx', sheet_name='Sheet1', index=False)"
   ]
  }
 ],
 "metadata": {
  "kernelspec": {
   "display_name": "Python 3 (ipykernel)",
   "language": "python",
   "name": "python3"
  },
  "language_info": {
   "codemirror_mode": {
    "name": "ipython",
    "version": 3
   },
   "file_extension": ".py",
   "mimetype": "text/x-python",
   "name": "python",
   "nbconvert_exporter": "python",
   "pygments_lexer": "ipython3",
   "version": "3.10.7"
  }
 },
 "nbformat": 4,
 "nbformat_minor": 5
}
