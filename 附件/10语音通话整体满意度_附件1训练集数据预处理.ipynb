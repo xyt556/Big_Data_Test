{
 "cells": [
  {
   "cell_type": "code",
   "execution_count": 1,
   "id": "0edc1f24",
   "metadata": {
    "scrolled": true
   },
   "outputs": [
    {
     "name": "stdout",
     "output_type": "stream",
     "text": [
      "用户id                    0\n",
      "语音通话整体满意度               0\n",
      "网络覆盖与信号强度               0\n",
      "语音通话清晰度                 0\n",
      "语音通话稳定性                 0\n",
      "是否遇到过网络问题               0\n",
      "居民小区                    0\n",
      "办公室                     0\n",
      "高校                      0\n",
      "商业街                     0\n",
      "地铁                      0\n",
      "农村                      0\n",
      "高铁                      0\n",
      "其他，请注明                  0\n",
      "用户描述                 5158\n",
      "手机没有信号                  0\n",
      "有信号无法拨通                 0\n",
      "通话过程中突然中断               0\n",
      "通话中有杂音、听不清、断断续续         0\n",
      "串线                      0\n",
      "通话过程中一方听不见              0\n",
      "其他，请注明.1                0\n",
      "用户描述.1               5324\n",
      "脱网次数                    0\n",
      "mos质差次数                 0\n",
      "未接通掉话次数                 0\n",
      "重定向次数                4260\n",
      "重定向驻留时长              4260\n",
      "家宽投诉                    0\n",
      "资费投诉                    0\n",
      "4\\5G用户                  0\n",
      "语音方式                    0\n",
      "是否关怀用户               5233\n",
      "是否去过营业厅              2971\n",
      "ARPU（家庭宽带）              0\n",
      "套外流量（MB）                0\n",
      "是否4G网络客户（本地剔除物联网）       5\n",
      "套外流量费（元）                0\n",
      "外省语音占比                  0\n",
      "语音通话-时长（分钟）             0\n",
      "省际漫游-时长（分钟）             0\n",
      "终端品牌                    4\n",
      "终端品牌类型                  5\n",
      "当月ARPU                  0\n",
      "当月MOU                   0\n",
      "前3月ARPU                 0\n",
      "前3月MOU                  0\n",
      "外省流量占比                  2\n",
      "GPRS总流量（KB）             0\n",
      "GPRS-国内漫游-流量（KB）        0\n",
      "是否5G网络客户                5\n",
      "是否实名登记用户                5\n",
      "客户星级标识                  5\n",
      "当月欠费金额                  5\n",
      "前第3个月欠费金额               5\n",
      "dtype: int64\n",
      "0\n",
      "(5433, 55)\n",
      "['用户id', '语音通话整体满意度', '网络覆盖与信号强度', '语音通话清晰度', '语音通话稳定性', '是否遇到过网络问题', '居民小区', '办公室', '高校', '商业街', '地铁', '农村', '高铁', '其他，请注明', '用户描述', '手机没有信号', '有信号无法拨通', '通话过程中突然中断', '通话中有杂音、听不清、断断续续', '串线', '通话过程中一方听不见', '其他，请注明.1', '用户描述.1', '脱网次数', 'mos质差次数', '未接通掉话次数', '重定向次数', '重定向驻留时长', '家宽投诉', '资费投诉', '4\\\\5G用户', '语音方式', '是否关怀用户', '是否去过营业厅', 'ARPU（家庭宽带）', '套外流量（MB）', '是否4G网络客户（本地剔除物联网）', '套外流量费（元）', '外省语音占比', '语音通话-时长（分钟）', '省际漫游-时长（分钟）', '终端品牌', '终端品牌类型', '当月ARPU', '当月MOU', '前3月ARPU', '前3月MOU', '外省流量占比', 'GPRS总流量（KB）', 'GPRS-国内漫游-流量（KB）', '是否5G网络客户', '是否实名登记用户', '客户星级标识', '当月欠费金额', '前第3个月欠费金额']\n"
     ]
    }
   ],
   "source": [
    "import numpy as np\n",
    "import pandas as pd\n",
    "import matplotlib.pyplot as plt\n",
    "import scipy.interpolate as interpolate\n",
    "io = r'附件1语音业务用户满意度数据.xlsx'\n",
    "\n",
    "data = pd.read_excel(io,header = [0],sheet_name = 'Sheet1')\n",
    "data.head()\n",
    "print(data.isnull().sum())\n",
    "print(data.duplicated().sum())\n",
    "print(data.shape)\n",
    "print([column for column in data])"
   ]
  },
  {
   "cell_type": "code",
   "execution_count": 2,
   "id": "90385e55",
   "metadata": {},
   "outputs": [],
   "source": [
    "a=data.isnull().sum()\n",
    "a = pd.DataFrame(a)\n",
    "a.to_excel('附件一训练集集空值.xlsx', sheet_name='Sheet1',header=None)"
   ]
  },
  {
   "cell_type": "code",
   "execution_count": 3,
   "id": "366c2558",
   "metadata": {},
   "outputs": [],
   "source": [
    "data=data.dropna(axis=0,subset = ['终端品牌','终端品牌类型','是否4G网络客户（本地剔除物联网）','外省流量占比',\"是否5G网络客户\",\"是否实名登记用户\",'客户星级标识','当月欠费金额','前第3个月欠费金额']) \n",
    "\n"
   ]
  },
  {
   "cell_type": "markdown",
   "id": "28cdc888",
   "metadata": {},
   "source": [
    "# 将是否转化为10"
   ]
  },
  {
   "cell_type": "code",
   "execution_count": 4,
   "id": "c54c085a",
   "metadata": {},
   "outputs": [],
   "source": [
    "from sklearn.preprocessing import LabelEncoder\n",
    "y= data.iloc[:,-4]"
   ]
  },
  {
   "cell_type": "code",
   "execution_count": 5,
   "id": "6d3c07c4",
   "metadata": {},
   "outputs": [],
   "source": [
    "le=LabelEncoder()\n",
    "le=le.fit(y)\n",
    "label=le.transform(y)"
   ]
  },
  {
   "cell_type": "code",
   "execution_count": 6,
   "id": "58bffa11",
   "metadata": {},
   "outputs": [
    {
     "data": {
      "text/plain": [
       "array([0, 1, 0, ..., 0, 0, 0])"
      ]
     },
     "execution_count": 6,
     "metadata": {},
     "output_type": "execute_result"
    }
   ],
   "source": [
    "label"
   ]
  },
  {
   "cell_type": "code",
   "execution_count": 7,
   "id": "efa002db",
   "metadata": {},
   "outputs": [
    {
     "data": {
      "text/plain": [
       "array(['否', '是'], dtype=object)"
      ]
     },
     "execution_count": 7,
     "metadata": {},
     "output_type": "execute_result"
    }
   ],
   "source": [
    "le.classes_"
   ]
  },
  {
   "cell_type": "code",
   "execution_count": 8,
   "id": "f553bb03",
   "metadata": {
    "scrolled": true
   },
   "outputs": [
    {
     "name": "stderr",
     "output_type": "stream",
     "text": [
      "C:\\Users\\白小帅\\AppData\\Local\\Temp\\ipykernel_18528\\710823335.py:1: FutureWarning: In a future version, `df.iloc[:, i] = newvals` will attempt to set the values inplace instead of always setting a new array. To retain the old behavior, use either `df[df.columns[i]] = newvals` or, if columns are non-unique, `df.isetitem(i, newvals)`\n",
      "  data.iloc[:,-4]=label\n"
     ]
    }
   ],
   "source": [
    "data.iloc[:,-4]=label"
   ]
  },
  {
   "cell_type": "markdown",
   "id": "0b1b9d20",
   "metadata": {},
   "source": [
    "# 空值用零填充"
   ]
  },
  {
   "cell_type": "code",
   "execution_count": 9,
   "id": "181a04f2",
   "metadata": {
    "scrolled": true
   },
   "outputs": [],
   "source": [
    "data.loc[:,('重定向驻留时长','重定向次数','是否关怀用户','是否去过营业厅')]=data.loc[:,('重定向驻留时长','重定向次数','是否关怀用户','是否去过营业厅')].fillna(0)"
   ]
  },
  {
   "cell_type": "markdown",
   "id": "22c9d0ce",
   "metadata": {},
   "source": [
    "# 将是改为1"
   ]
  },
  {
   "cell_type": "code",
   "execution_count": 10,
   "id": "945480d3",
   "metadata": {},
   "outputs": [],
   "source": [
    "d=data.loc[:,\"是否去过营业厅\"]"
   ]
  },
  {
   "cell_type": "code",
   "execution_count": 11,
   "id": "9489db91",
   "metadata": {
    "scrolled": true
   },
   "outputs": [
    {
     "name": "stderr",
     "output_type": "stream",
     "text": [
      "C:\\Users\\白小帅\\AppData\\Local\\Temp\\ipykernel_18528\\1323618043.py:3: SettingWithCopyWarning: \n",
      "A value is trying to be set on a copy of a slice from a DataFrame\n",
      "\n",
      "See the caveats in the documentation: https://pandas.pydata.org/pandas-docs/stable/user_guide/indexing.html#returning-a-view-versus-a-copy\n",
      "  d.iloc[i]=1\n"
     ]
    }
   ],
   "source": [
    "for i in range(5426):\n",
    "    if d.iloc[i]=='是':\n",
    "        d.iloc[i]=1"
   ]
  },
  {
   "cell_type": "code",
   "execution_count": 12,
   "id": "039ec229",
   "metadata": {},
   "outputs": [],
   "source": [
    "d=data.loc[:,\"是否关怀用户\"]"
   ]
  },
  {
   "cell_type": "code",
   "execution_count": 13,
   "id": "1bc0c4c4",
   "metadata": {},
   "outputs": [
    {
     "name": "stderr",
     "output_type": "stream",
     "text": [
      "C:\\Users\\白小帅\\AppData\\Local\\Temp\\ipykernel_18528\\1323618043.py:3: SettingWithCopyWarning: \n",
      "A value is trying to be set on a copy of a slice from a DataFrame\n",
      "\n",
      "See the caveats in the documentation: https://pandas.pydata.org/pandas-docs/stable/user_guide/indexing.html#returning-a-view-versus-a-copy\n",
      "  d.iloc[i]=1\n"
     ]
    }
   ],
   "source": [
    "for i in range(5426):\n",
    "    if d.iloc[i]=='是':\n",
    "        d.iloc[i]=1"
   ]
  },
  {
   "cell_type": "markdown",
   "id": "4c4c4b5b",
   "metadata": {},
   "source": [
    "# 删除大量缺失数据"
   ]
  },
  {
   "cell_type": "code",
   "execution_count": 14,
   "id": "e5bb2131",
   "metadata": {},
   "outputs": [],
   "source": [
    "data=data.drop(['其他，请注明.1', '其他，请注明','用户描述','用户描述.1'], axis=1)"
   ]
  },
  {
   "cell_type": "code",
   "execution_count": 15,
   "id": "83e07e56",
   "metadata": {},
   "outputs": [
    {
     "name": "stdout",
     "output_type": "stream",
     "text": [
      "用户id                 0\n",
      "语音通话整体满意度            0\n",
      "网络覆盖与信号强度            0\n",
      "语音通话清晰度              0\n",
      "语音通话稳定性              0\n",
      "是否遇到过网络问题            0\n",
      "居民小区                 0\n",
      "办公室                  0\n",
      "高校                   0\n",
      "商业街                  0\n",
      "地铁                   0\n",
      "农村                   0\n",
      "高铁                   0\n",
      "手机没有信号               0\n",
      "有信号无法拨通              0\n",
      "通话过程中突然中断            0\n",
      "通话中有杂音、听不清、断断续续      0\n",
      "串线                   0\n",
      "通话过程中一方听不见           0\n",
      "脱网次数                 0\n",
      "mos质差次数              0\n",
      "未接通掉话次数              0\n",
      "重定向次数                0\n",
      "重定向驻留时长              0\n",
      "家宽投诉                 0\n",
      "资费投诉                 0\n",
      "4\\5G用户               0\n",
      "语音方式                 0\n",
      "是否关怀用户               0\n",
      "是否去过营业厅              0\n",
      "ARPU（家庭宽带）           0\n",
      "套外流量（MB）             0\n",
      "是否4G网络客户（本地剔除物联网）    0\n",
      "套外流量费（元）             0\n",
      "外省语音占比               0\n",
      "语音通话-时长（分钟）          0\n",
      "省际漫游-时长（分钟）          0\n",
      "终端品牌                 0\n",
      "终端品牌类型               0\n",
      "当月ARPU               0\n",
      "当月MOU                0\n",
      "前3月ARPU              0\n",
      "前3月MOU               0\n",
      "外省流量占比               0\n",
      "GPRS总流量（KB）          0\n",
      "GPRS-国内漫游-流量（KB）     0\n",
      "是否5G网络客户             0\n",
      "是否实名登记用户             0\n",
      "客户星级标识               0\n",
      "当月欠费金额               0\n",
      "前第3个月欠费金额            0\n",
      "dtype: int64\n",
      "0\n",
      "(5426, 51)\n"
     ]
    }
   ],
   "source": [
    "print(data.isnull().sum())\n",
    "print(data.duplicated().sum())\n",
    "print(data.shape)"
   ]
  },
  {
   "cell_type": "markdown",
   "id": "08a05297",
   "metadata": {},
   "source": [
    "# 是否转化为10"
   ]
  },
  {
   "cell_type": "code",
   "execution_count": 16,
   "id": "070ec0fb",
   "metadata": {},
   "outputs": [],
   "source": [
    "y= data.iloc[:,-5]\n",
    "le=LabelEncoder()\n",
    "le=le.fit(y)\n",
    "label=le.transform(y)\n"
   ]
  },
  {
   "cell_type": "code",
   "execution_count": 17,
   "id": "e5e16666",
   "metadata": {},
   "outputs": [
    {
     "name": "stderr",
     "output_type": "stream",
     "text": [
      "C:\\Users\\白小帅\\AppData\\Local\\Temp\\ipykernel_18528\\1491447938.py:1: FutureWarning: In a future version, `df.iloc[:, i] = newvals` will attempt to set the values inplace instead of always setting a new array. To retain the old behavior, use either `df[df.columns[i]] = newvals` or, if columns are non-unique, `df.isetitem(i, newvals)`\n",
      "  data.iloc[:,-5]=label\n"
     ]
    }
   ],
   "source": [
    "data.iloc[:,-5]=label"
   ]
  },
  {
   "cell_type": "code",
   "execution_count": 18,
   "id": "ea1f80d8",
   "metadata": {},
   "outputs": [
    {
     "name": "stderr",
     "output_type": "stream",
     "text": [
      "C:\\Users\\白小帅\\AppData\\Local\\Temp\\ipykernel_18528\\1535494718.py:5: FutureWarning: In a future version, `df.iloc[:, i] = newvals` will attempt to set the values inplace instead of always setting a new array. To retain the old behavior, use either `df[df.columns[i]] = newvals` or, if columns are non-unique, `df.isetitem(i, newvals)`\n",
      "  data.iloc[:,-19]=label\n"
     ]
    }
   ],
   "source": [
    "y= data.iloc[:,-19]\n",
    "le=LabelEncoder()\n",
    "le=le.fit(y)\n",
    "label=le.transform(y)\n",
    "data.iloc[:,-19]=label"
   ]
  },
  {
   "cell_type": "markdown",
   "id": "7d33fc1f",
   "metadata": {},
   "source": [
    "将终端品牌中的0转化为字符"
   ]
  },
  {
   "cell_type": "code",
   "execution_count": 19,
   "id": "16ae0308",
   "metadata": {},
   "outputs": [
    {
     "name": "stderr",
     "output_type": "stream",
     "text": [
      "C:\\Users\\白小帅\\AppData\\Local\\Temp\\ipykernel_18528\\3382044685.py:4: SettingWithCopyWarning: \n",
      "A value is trying to be set on a copy of a slice from a DataFrame\n",
      "\n",
      "See the caveats in the documentation: https://pandas.pydata.org/pandas-docs/stable/user_guide/indexing.html#returning-a-view-versus-a-copy\n",
      "  d.iloc[i]=str(d.iloc[i])\n"
     ]
    }
   ],
   "source": [
    "d=data.loc[:,'终端品牌']\n",
    "for i in range(5426):\n",
    "    if d.iloc[i]==0:\n",
    "        d.iloc[i]=str(d.iloc[i])"
   ]
  },
  {
   "cell_type": "code",
   "execution_count": 20,
   "id": "82b9f2e2",
   "metadata": {},
   "outputs": [
    {
     "name": "stderr",
     "output_type": "stream",
     "text": [
      "C:\\Users\\白小帅\\AppData\\Local\\Temp\\ipykernel_18528\\2897173046.py:3: SettingWithCopyWarning: \n",
      "A value is trying to be set on a copy of a slice from a DataFrame\n",
      "\n",
      "See the caveats in the documentation: https://pandas.pydata.org/pandas-docs/stable/user_guide/indexing.html#returning-a-view-versus-a-copy\n",
      "  d.iloc[i]=str(d.iloc[i])\n"
     ]
    }
   ],
   "source": [
    "d=data.loc[:,'终端品牌类型']\n",
    "for i in range(5426):\n",
    "    d.iloc[i]=str(d.iloc[i])"
   ]
  },
  {
   "cell_type": "code",
   "execution_count": 21,
   "id": "b63046e4",
   "metadata": {},
   "outputs": [
    {
     "name": "stderr",
     "output_type": "stream",
     "text": [
      "C:\\Users\\白小帅\\AppData\\Local\\Temp\\ipykernel_18528\\3313439004.py:2: FutureWarning: In a future version, `df.iloc[:, i] = newvals` will attempt to set the values inplace instead of always setting a new array. To retain the old behavior, use either `df[df.columns[i]] = newvals` or, if columns are non-unique, `df.isetitem(i, newvals)`\n",
      "  data.loc[:,['终端品牌']]=OrdinalEncoder().fit_transform(data.loc[:,['终端品牌']])\n"
     ]
    },
    {
     "data": {
      "text/html": [
       "<div>\n",
       "<style scoped>\n",
       "    .dataframe tbody tr th:only-of-type {\n",
       "        vertical-align: middle;\n",
       "    }\n",
       "\n",
       "    .dataframe tbody tr th {\n",
       "        vertical-align: top;\n",
       "    }\n",
       "\n",
       "    .dataframe thead th {\n",
       "        text-align: right;\n",
       "    }\n",
       "</style>\n",
       "<table border=\"1\" class=\"dataframe\">\n",
       "  <thead>\n",
       "    <tr style=\"text-align: right;\">\n",
       "      <th></th>\n",
       "      <th>终端品牌</th>\n",
       "    </tr>\n",
       "  </thead>\n",
       "  <tbody>\n",
       "    <tr>\n",
       "      <th>0</th>\n",
       "      <td>22.0</td>\n",
       "    </tr>\n",
       "    <tr>\n",
       "      <th>1</th>\n",
       "      <td>11.0</td>\n",
       "    </tr>\n",
       "    <tr>\n",
       "      <th>2</th>\n",
       "      <td>11.0</td>\n",
       "    </tr>\n",
       "    <tr>\n",
       "      <th>3</th>\n",
       "      <td>22.0</td>\n",
       "    </tr>\n",
       "    <tr>\n",
       "      <th>4</th>\n",
       "      <td>22.0</td>\n",
       "    </tr>\n",
       "    <tr>\n",
       "      <th>...</th>\n",
       "      <td>...</td>\n",
       "    </tr>\n",
       "    <tr>\n",
       "      <th>5428</th>\n",
       "      <td>22.0</td>\n",
       "    </tr>\n",
       "    <tr>\n",
       "      <th>5429</th>\n",
       "      <td>22.0</td>\n",
       "    </tr>\n",
       "    <tr>\n",
       "      <th>5430</th>\n",
       "      <td>11.0</td>\n",
       "    </tr>\n",
       "    <tr>\n",
       "      <th>5431</th>\n",
       "      <td>14.0</td>\n",
       "    </tr>\n",
       "    <tr>\n",
       "      <th>5432</th>\n",
       "      <td>22.0</td>\n",
       "    </tr>\n",
       "  </tbody>\n",
       "</table>\n",
       "<p>5426 rows × 1 columns</p>\n",
       "</div>"
      ],
      "text/plain": [
       "      终端品牌\n",
       "0     22.0\n",
       "1     11.0\n",
       "2     11.0\n",
       "3     22.0\n",
       "4     22.0\n",
       "...    ...\n",
       "5428  22.0\n",
       "5429  22.0\n",
       "5430  11.0\n",
       "5431  14.0\n",
       "5432  22.0\n",
       "\n",
       "[5426 rows x 1 columns]"
      ]
     },
     "execution_count": 21,
     "metadata": {},
     "output_type": "execute_result"
    }
   ],
   "source": [
    "from sklearn.preprocessing import OrdinalEncoder\n",
    "data.loc[:,['终端品牌']]=OrdinalEncoder().fit_transform(data.loc[:,['终端品牌']])\n",
    "data.loc[:,['终端品牌']]"
   ]
  },
  {
   "cell_type": "code",
   "execution_count": 22,
   "id": "16dfd82e",
   "metadata": {},
   "outputs": [
    {
     "name": "stderr",
     "output_type": "stream",
     "text": [
      "C:\\Users\\白小帅\\AppData\\Local\\Temp\\ipykernel_18528\\2790138607.py:1: FutureWarning: In a future version, `df.iloc[:, i] = newvals` will attempt to set the values inplace instead of always setting a new array. To retain the old behavior, use either `df[df.columns[i]] = newvals` or, if columns are non-unique, `df.isetitem(i, newvals)`\n",
      "  data.loc[:,['终端品牌类型']]=OrdinalEncoder().fit_transform(data.loc[:,['终端品牌类型']])\n"
     ]
    },
    {
     "data": {
      "text/html": [
       "<div>\n",
       "<style scoped>\n",
       "    .dataframe tbody tr th:only-of-type {\n",
       "        vertical-align: middle;\n",
       "    }\n",
       "\n",
       "    .dataframe tbody tr th {\n",
       "        vertical-align: top;\n",
       "    }\n",
       "\n",
       "    .dataframe thead th {\n",
       "        text-align: right;\n",
       "    }\n",
       "</style>\n",
       "<table border=\"1\" class=\"dataframe\">\n",
       "  <thead>\n",
       "    <tr style=\"text-align: right;\">\n",
       "      <th></th>\n",
       "      <th>终端品牌类型</th>\n",
       "    </tr>\n",
       "  </thead>\n",
       "  <tbody>\n",
       "    <tr>\n",
       "      <th>0</th>\n",
       "      <td>43.0</td>\n",
       "    </tr>\n",
       "    <tr>\n",
       "      <th>1</th>\n",
       "      <td>462.0</td>\n",
       "    </tr>\n",
       "    <tr>\n",
       "      <th>2</th>\n",
       "      <td>571.0</td>\n",
       "    </tr>\n",
       "    <tr>\n",
       "      <th>3</th>\n",
       "      <td>45.0</td>\n",
       "    </tr>\n",
       "    <tr>\n",
       "      <th>4</th>\n",
       "      <td>34.0</td>\n",
       "    </tr>\n",
       "    <tr>\n",
       "      <th>...</th>\n",
       "      <td>...</td>\n",
       "    </tr>\n",
       "    <tr>\n",
       "      <th>5428</th>\n",
       "      <td>34.0</td>\n",
       "    </tr>\n",
       "    <tr>\n",
       "      <th>5429</th>\n",
       "      <td>46.0</td>\n",
       "    </tr>\n",
       "    <tr>\n",
       "      <th>5430</th>\n",
       "      <td>456.0</td>\n",
       "    </tr>\n",
       "    <tr>\n",
       "      <th>5431</th>\n",
       "      <td>221.0</td>\n",
       "    </tr>\n",
       "    <tr>\n",
       "      <th>5432</th>\n",
       "      <td>45.0</td>\n",
       "    </tr>\n",
       "  </tbody>\n",
       "</table>\n",
       "<p>5426 rows × 1 columns</p>\n",
       "</div>"
      ],
      "text/plain": [
       "      终端品牌类型\n",
       "0       43.0\n",
       "1      462.0\n",
       "2      571.0\n",
       "3       45.0\n",
       "4       34.0\n",
       "...      ...\n",
       "5428    34.0\n",
       "5429    46.0\n",
       "5430   456.0\n",
       "5431   221.0\n",
       "5432    45.0\n",
       "\n",
       "[5426 rows x 1 columns]"
      ]
     },
     "execution_count": 22,
     "metadata": {},
     "output_type": "execute_result"
    }
   ],
   "source": [
    "data.loc[:,['终端品牌类型']]=OrdinalEncoder().fit_transform(data.loc[:,['终端品牌类型']])\n",
    "data.loc[:,['终端品牌类型']]"
   ]
  },
  {
   "cell_type": "code",
   "execution_count": 23,
   "id": "11667033",
   "metadata": {},
   "outputs": [
    {
     "name": "stderr",
     "output_type": "stream",
     "text": [
      "C:\\Users\\白小帅\\AppData\\Local\\Temp\\ipykernel_18528\\933268120.py:1: FutureWarning: In a future version, `df.iloc[:, i] = newvals` will attempt to set the values inplace instead of always setting a new array. To retain the old behavior, use either `df[df.columns[i]] = newvals` or, if columns are non-unique, `df.isetitem(i, newvals)`\n",
      "  data.loc[:,['客户星级标识']]=OrdinalEncoder().fit_transform(data.loc[:,['客户星级标识']])\n"
     ]
    },
    {
     "data": {
      "text/html": [
       "<div>\n",
       "<style scoped>\n",
       "    .dataframe tbody tr th:only-of-type {\n",
       "        vertical-align: middle;\n",
       "    }\n",
       "\n",
       "    .dataframe tbody tr th {\n",
       "        vertical-align: top;\n",
       "    }\n",
       "\n",
       "    .dataframe thead th {\n",
       "        text-align: right;\n",
       "    }\n",
       "</style>\n",
       "<table border=\"1\" class=\"dataframe\">\n",
       "  <thead>\n",
       "    <tr style=\"text-align: right;\">\n",
       "      <th></th>\n",
       "      <th>客户星级标识</th>\n",
       "    </tr>\n",
       "  </thead>\n",
       "  <tbody>\n",
       "    <tr>\n",
       "      <th>0</th>\n",
       "      <td>8.0</td>\n",
       "    </tr>\n",
       "    <tr>\n",
       "      <th>1</th>\n",
       "      <td>8.0</td>\n",
       "    </tr>\n",
       "    <tr>\n",
       "      <th>2</th>\n",
       "      <td>1.0</td>\n",
       "    </tr>\n",
       "    <tr>\n",
       "      <th>3</th>\n",
       "      <td>1.0</td>\n",
       "    </tr>\n",
       "    <tr>\n",
       "      <th>4</th>\n",
       "      <td>8.0</td>\n",
       "    </tr>\n",
       "    <tr>\n",
       "      <th>...</th>\n",
       "      <td>...</td>\n",
       "    </tr>\n",
       "    <tr>\n",
       "      <th>5428</th>\n",
       "      <td>2.0</td>\n",
       "    </tr>\n",
       "    <tr>\n",
       "      <th>5429</th>\n",
       "      <td>1.0</td>\n",
       "    </tr>\n",
       "    <tr>\n",
       "      <th>5430</th>\n",
       "      <td>8.0</td>\n",
       "    </tr>\n",
       "    <tr>\n",
       "      <th>5431</th>\n",
       "      <td>1.0</td>\n",
       "    </tr>\n",
       "    <tr>\n",
       "      <th>5432</th>\n",
       "      <td>1.0</td>\n",
       "    </tr>\n",
       "  </tbody>\n",
       "</table>\n",
       "<p>5426 rows × 1 columns</p>\n",
       "</div>"
      ],
      "text/plain": [
       "      客户星级标识\n",
       "0        8.0\n",
       "1        8.0\n",
       "2        1.0\n",
       "3        1.0\n",
       "4        8.0\n",
       "...      ...\n",
       "5428     2.0\n",
       "5429     1.0\n",
       "5430     8.0\n",
       "5431     1.0\n",
       "5432     1.0\n",
       "\n",
       "[5426 rows x 1 columns]"
      ]
     },
     "execution_count": 23,
     "metadata": {},
     "output_type": "execute_result"
    }
   ],
   "source": [
    "data.loc[:,['客户星级标识']]=OrdinalEncoder().fit_transform(data.loc[:,['客户星级标识']])\n",
    "data.loc[:,['客户星级标识']]"
   ]
  },
  {
   "cell_type": "code",
   "execution_count": 24,
   "id": "53b62778",
   "metadata": {},
   "outputs": [
    {
     "name": "stderr",
     "output_type": "stream",
     "text": [
      "C:\\Users\\白小帅\\AppData\\Local\\Temp\\ipykernel_18528\\4196254378.py:1: FutureWarning: In a future version, `df.iloc[:, i] = newvals` will attempt to set the values inplace instead of always setting a new array. To retain the old behavior, use either `df[df.columns[i]] = newvals` or, if columns are non-unique, `df.isetitem(i, newvals)`\n",
      "  data.iloc[:,6:19]=OrdinalEncoder().fit_transform(data.iloc[:,6:19])\n"
     ]
    }
   ],
   "source": [
    "data.iloc[:,6:19]=OrdinalEncoder().fit_transform(data.iloc[:,6:19])"
   ]
  },
  {
   "cell_type": "code",
   "execution_count": 25,
   "id": "6ffba553",
   "metadata": {},
   "outputs": [
    {
     "name": "stderr",
     "output_type": "stream",
     "text": [
      "C:\\Users\\白小帅\\AppData\\Local\\Temp\\ipykernel_18528\\23806209.py:1: FutureWarning: In a future version, `df.iloc[:, i] = newvals` will attempt to set the values inplace instead of always setting a new array. To retain the old behavior, use either `df[df.columns[i]] = newvals` or, if columns are non-unique, `df.isetitem(i, newvals)`\n",
      "  data.loc[:,['4\\\\5G用户','语音方式']]=OrdinalEncoder().fit_transform(data.loc[:,['4\\\\5G用户','语音方式']])\n"
     ]
    }
   ],
   "source": [
    "data.loc[:,['4\\\\5G用户','语音方式']]=OrdinalEncoder().fit_transform(data.loc[:,['4\\\\5G用户','语音方式']])"
   ]
  },
  {
   "cell_type": "markdown",
   "id": "f8f1697b",
   "metadata": {},
   "source": [
    "# MAD异常值处理法"
   ]
  },
  {
   "cell_type": "code",
   "execution_count": 26,
   "id": "e9542cbe",
   "metadata": {},
   "outputs": [],
   "source": [
    "d='GPRS总流量（KB）'\n",
    "x=data[d].median()\n",
    "MA=data[d].median()\n",
    "Se=data[d]-MA\n",
    "Se=abs(Se)\n",
    "MC=Se.median()\n",
    "MAD=MC*1.4826\n",
    "Low=x-2.5*MAD\n",
    "Up=x+2.5*MAD\n",
    "data=data[(data[d]>=Low)&(data[d]<=Up)]"
   ]
  },
  {
   "cell_type": "code",
   "execution_count": 27,
   "id": "8e4a7062",
   "metadata": {},
   "outputs": [
    {
     "data": {
      "text/plain": [
       "<AxesSubplot: >"
      ]
     },
     "execution_count": 27,
     "metadata": {},
     "output_type": "execute_result"
    },
    {
     "data": {
      "image/png": "[encoded data removed]",
      "text/plain": [
       "<Figure size 400x400 with 1 Axes>"
      ]
     },
     "metadata": {},
     "output_type": "display_data"
    }
   ],
   "source": [
    "\n",
    "import matplotlib\n",
    "a=plt.figure(figsize=(4,4))\n",
    "matplotlib.rcParams['font.sans-serif'] = ['SimHei']\n",
    "matplotlib.rcParams['axes.unicode_minus'] = False\n",
    "df= data.loc[:,'GPRS总流量（KB）']\n",
    "df.plot.box()"
   ]
  },
  {
   "cell_type": "code",
   "execution_count": 28,
   "id": "0c1f80af",
   "metadata": {},
   "outputs": [],
   "source": [
    "a.savefig(fname='MAD异常值识别法-GPRS总流量（KB）箱型图.png',dpi='figure')"
   ]
  },
  {
   "cell_type": "code",
   "execution_count": 29,
   "id": "d98c1dc9",
   "metadata": {},
   "outputs": [
    {
     "data": {
      "text/plain": [
       "(4966, 51)"
      ]
     },
     "execution_count": 29,
     "metadata": {},
     "output_type": "execute_result"
    }
   ],
   "source": [
    "data.shape"
   ]
  },
  {
   "cell_type": "code",
   "execution_count": 30,
   "id": "0d798d2d",
   "metadata": {},
   "outputs": [],
   "source": [
    "\n",
    "d='前3月MOU'\n",
    "x=data[d].median()\n",
    "MA=data[d].median()\n",
    "Se=data[d]-MA\n",
    "Se=abs(Se)\n",
    "MC=Se.median()\n",
    "MAD=MC*1.4826\n",
    "Low=x-2.5*MAD\n",
    "Up=x+2.5*MAD\n",
    "data=data[(data[d]>=Low)&(data[d]<=Up)]"
   ]
  },
  {
   "cell_type": "code",
   "execution_count": 31,
   "id": "e17aa301",
   "metadata": {},
   "outputs": [
    {
     "data": {
      "text/plain": [
       "<AxesSubplot: >"
      ]
     },
     "execution_count": 31,
     "metadata": {},
     "output_type": "execute_result"
    },
    {
     "data": {
      "image/png": "[encoded data removed]",
      "text/plain": [
       "<Figure size 400x400 with 1 Axes>"
      ]
     },
     "metadata": {},
     "output_type": "display_data"
    }
   ],
   "source": [
    "p=plt.figure(figsize=(4,4))\n",
    "df= data.loc[:,'前3月MOU']\n",
    "df.plot.box()"
   ]
  },
  {
   "cell_type": "code",
   "execution_count": 32,
   "id": "c8fbe007",
   "metadata": {},
   "outputs": [],
   "source": [
    "p.savefig(fname='MAD异常值识别法-前3月MOU箱型图.png',dpi='figure')"
   ]
  },
  {
   "cell_type": "code",
   "execution_count": 33,
   "id": "b4b494a1",
   "metadata": {},
   "outputs": [
    {
     "data": {
      "text/plain": [
       "(4369, 51)"
      ]
     },
     "execution_count": 33,
     "metadata": {},
     "output_type": "execute_result"
    }
   ],
   "source": [
    "data.shape"
   ]
  },
  {
   "cell_type": "markdown",
   "id": "13a0bc0e",
   "metadata": {},
   "source": [
    "# 删除与预测集无关数据"
   ]
  },
  {
   "cell_type": "code",
   "execution_count": 34,
   "id": "a82b1c31",
   "metadata": {},
   "outputs": [],
   "source": [
    "data=data.drop(['重定向次数','重定向驻留时长','资费投诉','语音方式','是否去过营业厅','ARPU（家庭宽带）','是否实名登记用户','当月欠费金额','前第3个月欠费金额','家宽投诉'], axis=1)"
   ]
  },
  {
   "cell_type": "code",
   "execution_count": 35,
   "id": "de664da9",
   "metadata": {},
   "outputs": [
    {
     "data": {
      "text/plain": [
       "(4369, 41)"
      ]
     },
     "execution_count": 35,
     "metadata": {},
     "output_type": "execute_result"
    }
   ],
   "source": [
    "data.shape"
   ]
  },
  {
   "cell_type": "markdown",
   "id": "4327479c",
   "metadata": {},
   "source": [
    "# 嵌入法特征选择"
   ]
  },
  {
   "cell_type": "code",
   "execution_count": 36,
   "id": "3d25e864",
   "metadata": {},
   "outputs": [],
   "source": [
    "data1=data.copy()\n",
    "data1=data1.drop(['网络覆盖与信号强度', '语音通话稳定性','语音通话清晰度','用户id'], axis=1)\n",
    "Ytrain=data1['语音通话整体满意度'].values\n",
    "Xtrain=data1.drop('语音通话整体满意度', axis = 1).values\n"
   ]
  },
  {
   "cell_type": "code",
   "execution_count": 37,
   "id": "446d0bbb",
   "metadata": {},
   "outputs": [],
   "source": [
    "from sklearn.feature_selection import SelectFromModel\n",
    "from sklearn.ensemble import RandomForestClassifier as RFC\n"
   ]
  },
  {
   "cell_type": "code",
   "execution_count": 38,
   "id": "a6561cc5",
   "metadata": {},
   "outputs": [],
   "source": [
    "RFC_ = RFC(n_estimators=100,random_state=0)#随机森林实例化\n"
   ]
  },
  {
   "cell_type": "code",
   "execution_count": 39,
   "id": "189ef5b9",
   "metadata": {},
   "outputs": [
    {
     "data": {
      "text/plain": [
       "0.0878515753806071"
      ]
     },
     "execution_count": 39,
     "metadata": {},
     "output_type": "execute_result"
    }
   ],
   "source": [
    "(RFC_.fit(Xtrain,Ytrain).feature_importances_).max()"
   ]
  },
  {
   "cell_type": "code",
   "execution_count": 40,
   "id": "4e364960",
   "metadata": {
    "scrolled": true
   },
   "outputs": [
    {
     "data": {
      "text/plain": [
       "array([0.        , 0.00088739, 0.00177478, 0.00266217, 0.00354956,\n",
       "       0.00443695, 0.00532434, 0.00621173, 0.00709912, 0.00798651,\n",
       "       0.0088739 , 0.00976129, 0.01064868, 0.01153607, 0.01242346,\n",
       "       0.01331084, 0.01419823, 0.01508562, 0.01597301, 0.0168604 ,\n",
       "       0.01774779, 0.01863518, 0.01952257, 0.02040996, 0.02129735,\n",
       "       0.02218474, 0.02307213, 0.02395952, 0.02484691, 0.0257343 ,\n",
       "       0.02662169, 0.02750908, 0.02839647, 0.02928386, 0.03017125,\n",
       "       0.03105864, 0.03194603, 0.03283342, 0.03372081, 0.0346082 ,\n",
       "       0.03549559, 0.03638298, 0.03727037, 0.03815775, 0.03904514,\n",
       "       0.03993253, 0.04081992, 0.04170731, 0.0425947 , 0.04348209,\n",
       "       0.04436948, 0.04525687, 0.04614426, 0.04703165, 0.04791904,\n",
       "       0.04880643, 0.04969382, 0.05058121, 0.0514686 , 0.05235599,\n",
       "       0.05324338, 0.05413077, 0.05501816, 0.05590555, 0.05679294,\n",
       "       0.05768033, 0.05856772, 0.05945511, 0.0603425 , 0.06122989,\n",
       "       0.06211728, 0.06300467, 0.06389205, 0.06477944, 0.06566683,\n",
       "       0.06655422, 0.06744161, 0.068329  , 0.06921639, 0.07010378,\n",
       "       0.07099117, 0.07187856, 0.07276595, 0.07365334, 0.07454073,\n",
       "       0.07542812, 0.07631551, 0.0772029 , 0.07809029, 0.07897768,\n",
       "       0.07986507, 0.08075246, 0.08163985, 0.08252724, 0.08341463,\n",
       "       0.08430202, 0.08518941, 0.0860768 , 0.08696419, 0.08785158])"
      ]
     },
     "execution_count": 40,
     "metadata": {},
     "output_type": "execute_result"
    }
   ],
   "source": [
    "threshold = np.linspace(0,(RFC_.fit(Xtrain,Ytrain).feature_importances_).max(),100)\n",
    "threshold"
   ]
  },
  {
   "cell_type": "code",
   "execution_count": 41,
   "id": "18536aa5",
   "metadata": {},
   "outputs": [
    {
     "data": {
      "image/png": "[encoded data removed]",
      "text/plain": [
       "<Figure size 400x400 with 1 Axes>"
      ]
     },
     "metadata": {},
     "output_type": "display_data"
    },
    {
     "name": "stdout",
     "output_type": "stream",
     "text": [
      "9\n"
     ]
    }
   ],
   "source": [
    "from sklearn.model_selection import cross_val_score\n",
    "score=[]\n",
    "for i in threshold :\n",
    "    X_embedded = SelectFromModel(RFC_,threshold=i).fit_transform(Xtrain,Ytrain)\n",
    "    once= cross_val_score(RFC_,X_embedded,Ytrain,cv=5).mean()\n",
    "    score.append(once)\n",
    "p=plt.figure(figsize=(4,4))\n",
    "plt.plot(threshold,score,color='red',label='score')\n",
    "plt.legend()\n",
    "plt.show()\n",
    "print(score.index(max(score)))\n"
   ]
  },
  {
   "cell_type": "code",
   "execution_count": 42,
   "id": "95cba293",
   "metadata": {},
   "outputs": [],
   "source": [
    "p.savefig(fname='语音通话整体满意度-嵌入法寻找最佳阈值的学习曲线.png',dpi='figure')"
   ]
  },
  {
   "cell_type": "code",
   "execution_count": 43,
   "id": "7a7afc87",
   "metadata": {},
   "outputs": [
    {
     "data": {
      "text/plain": [
       "(4369, 29)"
      ]
     },
     "execution_count": 43,
     "metadata": {},
     "output_type": "execute_result"
    }
   ],
   "source": [
    "X_embedded = SelectFromModel(RFC_,threshold=threshold[score.index(max(score))]).fit_transform(Xtrain,Ytrain)\n",
    "X_embedded.shape#筛选后特征数"
   ]
  },
  {
   "cell_type": "code",
   "execution_count": 44,
   "id": "8edeb2fb",
   "metadata": {},
   "outputs": [],
   "source": [
    "from sklearn.model_selection import cross_val_score\n",
    "once= cross_val_score(RFC_,X_embedded,Ytrain,cv=5).mean()"
   ]
  },
  {
   "cell_type": "code",
   "execution_count": 45,
   "id": "81dbffc4",
   "metadata": {},
   "outputs": [
    {
     "data": {
      "text/plain": [
       "0.5843428981837532"
      ]
     },
     "execution_count": 45,
     "metadata": {},
     "output_type": "execute_result"
    }
   ],
   "source": [
    "once"
   ]
  },
  {
   "cell_type": "code",
   "execution_count": 46,
   "id": "c4e8cb12",
   "metadata": {},
   "outputs": [],
   "source": [
    "importance=(RFC_.fit(Xtrain,Ytrain).feature_importances_)"
   ]
  },
  {
   "cell_type": "code",
   "execution_count": 47,
   "id": "fccedbcc",
   "metadata": {},
   "outputs": [],
   "source": [
    "idx_features = (-importance).argsort()[:X_embedded.shape[1]]"
   ]
  },
  {
   "cell_type": "code",
   "execution_count": 48,
   "id": "7efd3a37",
   "metadata": {},
   "outputs": [],
   "source": [
    "idx_features.sort()"
   ]
  },
  {
   "cell_type": "code",
   "execution_count": 49,
   "id": "c796b68f",
   "metadata": {},
   "outputs": [],
   "source": [
    "X_train=pd.DataFrame(Xtrain).iloc[:,idx_features]"
   ]
  },
  {
   "cell_type": "markdown",
   "id": "9bcce5e0",
   "metadata": {},
   "source": [
    "# 构建预测集"
   ]
  },
  {
   "cell_type": "code",
   "execution_count": 50,
   "id": "f8fed08c",
   "metadata": {},
   "outputs": [
    {
     "data": {
      "text/html": [
       "<div>\n",
       "<style scoped>\n",
       "    .dataframe tbody tr th:only-of-type {\n",
       "        vertical-align: middle;\n",
       "    }\n",
       "\n",
       "    .dataframe tbody tr th {\n",
       "        vertical-align: top;\n",
       "    }\n",
       "\n",
       "    .dataframe thead th {\n",
       "        text-align: right;\n",
       "    }\n",
       "</style>\n",
       "<table border=\"1\" class=\"dataframe\">\n",
       "  <thead>\n",
       "    <tr style=\"text-align: right;\">\n",
       "      <th></th>\n",
       "      <th>是否遇到过网络问题</th>\n",
       "      <th>居民小区</th>\n",
       "      <th>办公室</th>\n",
       "      <th>高校</th>\n",
       "      <th>商业街</th>\n",
       "      <th>地铁</th>\n",
       "      <th>农村</th>\n",
       "      <th>高铁</th>\n",
       "      <th>手机没有信号</th>\n",
       "      <th>有信号无法拨通</th>\n",
       "      <th>...</th>\n",
       "      <th>终端品牌类型</th>\n",
       "      <th>当月ARPU</th>\n",
       "      <th>当月MOU</th>\n",
       "      <th>前3月ARPU</th>\n",
       "      <th>前3月MOU</th>\n",
       "      <th>外省流量占比</th>\n",
       "      <th>GPRS总流量（KB）</th>\n",
       "      <th>GPRS-国内漫游-流量（KB）</th>\n",
       "      <th>是否5G网络客户</th>\n",
       "      <th>客户星级标识</th>\n",
       "    </tr>\n",
       "  </thead>\n",
       "  <tbody>\n",
       "    <tr>\n",
       "      <th>0</th>\n",
       "      <td>2</td>\n",
       "      <td>0</td>\n",
       "      <td>0</td>\n",
       "      <td>0</td>\n",
       "      <td>0</td>\n",
       "      <td>0</td>\n",
       "      <td>0</td>\n",
       "      <td>0</td>\n",
       "      <td>0</td>\n",
       "      <td>0</td>\n",
       "      <td>...</td>\n",
       "      <td>62</td>\n",
       "      <td>45.37</td>\n",
       "      <td>161</td>\n",
       "      <td>23.6</td>\n",
       "      <td>139</td>\n",
       "      <td>0.0</td>\n",
       "      <td>1391</td>\n",
       "      <td>0</td>\n",
       "      <td>0</td>\n",
       "      <td>0</td>\n",
       "    </tr>\n",
       "    <tr>\n",
       "      <th>1</th>\n",
       "      <td>1</td>\n",
       "      <td>1</td>\n",
       "      <td>1</td>\n",
       "      <td>0</td>\n",
       "      <td>0</td>\n",
       "      <td>0</td>\n",
       "      <td>0</td>\n",
       "      <td>0</td>\n",
       "      <td>0</td>\n",
       "      <td>0</td>\n",
       "      <td>...</td>\n",
       "      <td>176</td>\n",
       "      <td>60.00</td>\n",
       "      <td>270</td>\n",
       "      <td>60.0</td>\n",
       "      <td>102</td>\n",
       "      <td>0.0</td>\n",
       "      <td>1030</td>\n",
       "      <td>0</td>\n",
       "      <td>0</td>\n",
       "      <td>1</td>\n",
       "    </tr>\n",
       "    <tr>\n",
       "      <th>2</th>\n",
       "      <td>2</td>\n",
       "      <td>0</td>\n",
       "      <td>0</td>\n",
       "      <td>0</td>\n",
       "      <td>0</td>\n",
       "      <td>0</td>\n",
       "      <td>0</td>\n",
       "      <td>0</td>\n",
       "      <td>0</td>\n",
       "      <td>0</td>\n",
       "      <td>...</td>\n",
       "      <td>31</td>\n",
       "      <td>89.00</td>\n",
       "      <td>662</td>\n",
       "      <td>89.0</td>\n",
       "      <td>80</td>\n",
       "      <td>0.0</td>\n",
       "      <td>767</td>\n",
       "      <td>0</td>\n",
       "      <td>0</td>\n",
       "      <td>1</td>\n",
       "    </tr>\n",
       "    <tr>\n",
       "      <th>3</th>\n",
       "      <td>1</td>\n",
       "      <td>1</td>\n",
       "      <td>0</td>\n",
       "      <td>0</td>\n",
       "      <td>0</td>\n",
       "      <td>0</td>\n",
       "      <td>0</td>\n",
       "      <td>0</td>\n",
       "      <td>0</td>\n",
       "      <td>0</td>\n",
       "      <td>...</td>\n",
       "      <td>17</td>\n",
       "      <td>70.00</td>\n",
       "      <td>645</td>\n",
       "      <td>69.1</td>\n",
       "      <td>333</td>\n",
       "      <td>0.0</td>\n",
       "      <td>912</td>\n",
       "      <td>0</td>\n",
       "      <td>0</td>\n",
       "      <td>1</td>\n",
       "    </tr>\n",
       "    <tr>\n",
       "      <th>4</th>\n",
       "      <td>1</td>\n",
       "      <td>1</td>\n",
       "      <td>0</td>\n",
       "      <td>0</td>\n",
       "      <td>0</td>\n",
       "      <td>0</td>\n",
       "      <td>0</td>\n",
       "      <td>0</td>\n",
       "      <td>0</td>\n",
       "      <td>1</td>\n",
       "      <td>...</td>\n",
       "      <td>246</td>\n",
       "      <td>56.00</td>\n",
       "      <td>496</td>\n",
       "      <td>56.0</td>\n",
       "      <td>258</td>\n",
       "      <td>0.0</td>\n",
       "      <td>1313</td>\n",
       "      <td>0</td>\n",
       "      <td>1</td>\n",
       "      <td>1</td>\n",
       "    </tr>\n",
       "  </tbody>\n",
       "</table>\n",
       "<p>5 rows × 36 columns</p>\n",
       "</div>"
      ],
      "text/plain": [
       "   是否遇到过网络问题  居民小区  办公室  高校  商业街  地铁  农村  高铁  手机没有信号  有信号无法拨通  ...  终端品牌类型  \\\n",
       "0          2     0    0   0    0   0   0   0       0        0  ...      62   \n",
       "1          1     1    1   0    0   0   0   0       0        0  ...     176   \n",
       "2          2     0    0   0    0   0   0   0       0        0  ...      31   \n",
       "3          1     1    0   0    0   0   0   0       0        0  ...      17   \n",
       "4          1     1    0   0    0   0   0   0       0        1  ...     246   \n",
       "\n",
       "   当月ARPU  当月MOU  前3月ARPU  前3月MOU  外省流量占比  GPRS总流量（KB）  GPRS-国内漫游-流量（KB）  \\\n",
       "0   45.37    161     23.6     139     0.0         1391                 0   \n",
       "1   60.00    270     60.0     102     0.0         1030                 0   \n",
       "2   89.00    662     89.0      80     0.0          767                 0   \n",
       "3   70.00    645     69.1     333     0.0          912                 0   \n",
       "4   56.00    496     56.0     258     0.0         1313                 0   \n",
       "\n",
       "   是否5G网络客户  客户星级标识  \n",
       "0         0       0  \n",
       "1         0       1  \n",
       "2         0       1  \n",
       "3         0       1  \n",
       "4         1       1  \n",
       "\n",
       "[5 rows x 36 columns]"
      ]
     },
     "execution_count": 50,
     "metadata": {},
     "output_type": "execute_result"
    }
   ],
   "source": [
    "ip = r'predict1.xlsx'\n",
    "predict = pd.read_excel(ip,header = [0],sheet_name = 'Sheet1')\n",
    "predict.head()"
   ]
  },
  {
   "cell_type": "code",
   "execution_count": 51,
   "id": "60b36fc0",
   "metadata": {},
   "outputs": [],
   "source": [
    "predict=pd.DataFrame(predict).iloc[:,idx_features]"
   ]
  },
  {
   "cell_type": "code",
   "execution_count": 52,
   "id": "b4bab7be",
   "metadata": {},
   "outputs": [
    {
     "data": {
      "text/html": [
       "<div>\n",
       "<style scoped>\n",
       "    .dataframe tbody tr th:only-of-type {\n",
       "        vertical-align: middle;\n",
       "    }\n",
       "\n",
       "    .dataframe tbody tr th {\n",
       "        vertical-align: top;\n",
       "    }\n",
       "\n",
       "    .dataframe thead th {\n",
       "        text-align: right;\n",
       "    }\n",
       "</style>\n",
       "<table border=\"1\" class=\"dataframe\">\n",
       "  <thead>\n",
       "    <tr style=\"text-align: right;\">\n",
       "      <th></th>\n",
       "      <th>0</th>\n",
       "      <th>1</th>\n",
       "      <th>2</th>\n",
       "      <th>4</th>\n",
       "      <th>5</th>\n",
       "      <th>6</th>\n",
       "      <th>7</th>\n",
       "      <th>8</th>\n",
       "      <th>9</th>\n",
       "      <th>10</th>\n",
       "      <th>...</th>\n",
       "      <th>25</th>\n",
       "      <th>26</th>\n",
       "      <th>27</th>\n",
       "      <th>28</th>\n",
       "      <th>30</th>\n",
       "      <th>31</th>\n",
       "      <th>32</th>\n",
       "      <th>33</th>\n",
       "      <th>34</th>\n",
       "      <th>35</th>\n",
       "    </tr>\n",
       "  </thead>\n",
       "  <tbody>\n",
       "    <tr>\n",
       "      <th>0</th>\n",
       "      <td>1</td>\n",
       "      <td>0.0</td>\n",
       "      <td>1.0</td>\n",
       "      <td>0.0</td>\n",
       "      <td>0.0</td>\n",
       "      <td>0.0</td>\n",
       "      <td>0.0</td>\n",
       "      <td>0.0</td>\n",
       "      <td>1.0</td>\n",
       "      <td>0.0</td>\n",
       "      <td>...</td>\n",
       "      <td>22.0</td>\n",
       "      <td>43.0</td>\n",
       "      <td>347.32</td>\n",
       "      <td>644</td>\n",
       "      <td>480</td>\n",
       "      <td>1.0</td>\n",
       "      <td>8450801</td>\n",
       "      <td>8450801</td>\n",
       "      <td>1</td>\n",
       "      <td>8.0</td>\n",
       "    </tr>\n",
       "    <tr>\n",
       "      <th>1</th>\n",
       "      <td>1</td>\n",
       "      <td>1.0</td>\n",
       "      <td>1.0</td>\n",
       "      <td>1.0</td>\n",
       "      <td>0.0</td>\n",
       "      <td>0.0</td>\n",
       "      <td>0.0</td>\n",
       "      <td>0.0</td>\n",
       "      <td>0.0</td>\n",
       "      <td>0.0</td>\n",
       "      <td>...</td>\n",
       "      <td>11.0</td>\n",
       "      <td>462.0</td>\n",
       "      <td>111.4</td>\n",
       "      <td>902</td>\n",
       "      <td>480</td>\n",
       "      <td>1.0</td>\n",
       "      <td>17425910</td>\n",
       "      <td>17425910</td>\n",
       "      <td>1</td>\n",
       "      <td>8.0</td>\n",
       "    </tr>\n",
       "    <tr>\n",
       "      <th>2</th>\n",
       "      <td>1</td>\n",
       "      <td>0.0</td>\n",
       "      <td>0.0</td>\n",
       "      <td>0.0</td>\n",
       "      <td>0.0</td>\n",
       "      <td>1.0</td>\n",
       "      <td>0.0</td>\n",
       "      <td>1.0</td>\n",
       "      <td>0.0</td>\n",
       "      <td>0.0</td>\n",
       "      <td>...</td>\n",
       "      <td>11.0</td>\n",
       "      <td>571.0</td>\n",
       "      <td>48.0</td>\n",
       "      <td>322</td>\n",
       "      <td>413</td>\n",
       "      <td>1.0</td>\n",
       "      <td>6215849</td>\n",
       "      <td>6215849</td>\n",
       "      <td>0</td>\n",
       "      <td>1.0</td>\n",
       "    </tr>\n",
       "    <tr>\n",
       "      <th>3</th>\n",
       "      <td>1</td>\n",
       "      <td>1.0</td>\n",
       "      <td>1.0</td>\n",
       "      <td>0.0</td>\n",
       "      <td>0.0</td>\n",
       "      <td>0.0</td>\n",
       "      <td>0.0</td>\n",
       "      <td>1.0</td>\n",
       "      <td>1.0</td>\n",
       "      <td>0.0</td>\n",
       "      <td>...</td>\n",
       "      <td>22.0</td>\n",
       "      <td>45.0</td>\n",
       "      <td>49.0</td>\n",
       "      <td>139</td>\n",
       "      <td>301</td>\n",
       "      <td>1.0</td>\n",
       "      <td>5370710</td>\n",
       "      <td>5370710</td>\n",
       "      <td>1</td>\n",
       "      <td>1.0</td>\n",
       "    </tr>\n",
       "    <tr>\n",
       "      <th>4</th>\n",
       "      <td>1</td>\n",
       "      <td>1.0</td>\n",
       "      <td>0.0</td>\n",
       "      <td>0.0</td>\n",
       "      <td>1.0</td>\n",
       "      <td>1.0</td>\n",
       "      <td>0.0</td>\n",
       "      <td>0.0</td>\n",
       "      <td>1.0</td>\n",
       "      <td>1.0</td>\n",
       "      <td>...</td>\n",
       "      <td>22.0</td>\n",
       "      <td>600.0</td>\n",
       "      <td>140.09</td>\n",
       "      <td>627</td>\n",
       "      <td>794</td>\n",
       "      <td>1.0</td>\n",
       "      <td>31131458</td>\n",
       "      <td>31131458</td>\n",
       "      <td>0</td>\n",
       "      <td>8.0</td>\n",
       "    </tr>\n",
       "    <tr>\n",
       "      <th>...</th>\n",
       "      <td>...</td>\n",
       "      <td>...</td>\n",
       "      <td>...</td>\n",
       "      <td>...</td>\n",
       "      <td>...</td>\n",
       "      <td>...</td>\n",
       "      <td>...</td>\n",
       "      <td>...</td>\n",
       "      <td>...</td>\n",
       "      <td>...</td>\n",
       "      <td>...</td>\n",
       "      <td>...</td>\n",
       "      <td>...</td>\n",
       "      <td>...</td>\n",
       "      <td>...</td>\n",
       "      <td>...</td>\n",
       "      <td>...</td>\n",
       "      <td>...</td>\n",
       "      <td>...</td>\n",
       "      <td>...</td>\n",
       "      <td>...</td>\n",
       "    </tr>\n",
       "    <tr>\n",
       "      <th>4364</th>\n",
       "      <td>1</td>\n",
       "      <td>0.0</td>\n",
       "      <td>1.0</td>\n",
       "      <td>0.0</td>\n",
       "      <td>0.0</td>\n",
       "      <td>0.0</td>\n",
       "      <td>0.0</td>\n",
       "      <td>0.0</td>\n",
       "      <td>0.0</td>\n",
       "      <td>1.0</td>\n",
       "      <td>...</td>\n",
       "      <td>22.0</td>\n",
       "      <td>34.0</td>\n",
       "      <td>57.0</td>\n",
       "      <td>293</td>\n",
       "      <td>320</td>\n",
       "      <td>0.0</td>\n",
       "      <td>16654303</td>\n",
       "      <td>0</td>\n",
       "      <td>0</td>\n",
       "      <td>2.0</td>\n",
       "    </tr>\n",
       "    <tr>\n",
       "      <th>4365</th>\n",
       "      <td>1</td>\n",
       "      <td>1.0</td>\n",
       "      <td>1.0</td>\n",
       "      <td>0.0</td>\n",
       "      <td>0.0</td>\n",
       "      <td>0.0</td>\n",
       "      <td>1.0</td>\n",
       "      <td>0.0</td>\n",
       "      <td>0.0</td>\n",
       "      <td>0.0</td>\n",
       "      <td>...</td>\n",
       "      <td>22.0</td>\n",
       "      <td>46.0</td>\n",
       "      <td>179.89</td>\n",
       "      <td>1277</td>\n",
       "      <td>147</td>\n",
       "      <td>0.0</td>\n",
       "      <td>627901</td>\n",
       "      <td>0</td>\n",
       "      <td>1</td>\n",
       "      <td>1.0</td>\n",
       "    </tr>\n",
       "    <tr>\n",
       "      <th>4366</th>\n",
       "      <td>1</td>\n",
       "      <td>0.0</td>\n",
       "      <td>0.0</td>\n",
       "      <td>1.0</td>\n",
       "      <td>0.0</td>\n",
       "      <td>0.0</td>\n",
       "      <td>0.0</td>\n",
       "      <td>1.0</td>\n",
       "      <td>1.0</td>\n",
       "      <td>0.0</td>\n",
       "      <td>...</td>\n",
       "      <td>11.0</td>\n",
       "      <td>456.0</td>\n",
       "      <td>90.0</td>\n",
       "      <td>115</td>\n",
       "      <td>150</td>\n",
       "      <td>0.0</td>\n",
       "      <td>6816663</td>\n",
       "      <td>0</td>\n",
       "      <td>0</td>\n",
       "      <td>8.0</td>\n",
       "    </tr>\n",
       "    <tr>\n",
       "      <th>4367</th>\n",
       "      <td>1</td>\n",
       "      <td>0.0</td>\n",
       "      <td>0.0</td>\n",
       "      <td>0.0</td>\n",
       "      <td>1.0</td>\n",
       "      <td>1.0</td>\n",
       "      <td>0.0</td>\n",
       "      <td>0.0</td>\n",
       "      <td>0.0</td>\n",
       "      <td>1.0</td>\n",
       "      <td>...</td>\n",
       "      <td>14.0</td>\n",
       "      <td>221.0</td>\n",
       "      <td>19.0</td>\n",
       "      <td>179</td>\n",
       "      <td>82</td>\n",
       "      <td>0.0</td>\n",
       "      <td>1841891</td>\n",
       "      <td>0</td>\n",
       "      <td>0</td>\n",
       "      <td>1.0</td>\n",
       "    </tr>\n",
       "    <tr>\n",
       "      <th>4368</th>\n",
       "      <td>1</td>\n",
       "      <td>1.0</td>\n",
       "      <td>1.0</td>\n",
       "      <td>0.0</td>\n",
       "      <td>1.0</td>\n",
       "      <td>0.0</td>\n",
       "      <td>0.0</td>\n",
       "      <td>0.0</td>\n",
       "      <td>0.0</td>\n",
       "      <td>1.0</td>\n",
       "      <td>...</td>\n",
       "      <td>22.0</td>\n",
       "      <td>45.0</td>\n",
       "      <td>8.0</td>\n",
       "      <td>234</td>\n",
       "      <td>258</td>\n",
       "      <td>0.0</td>\n",
       "      <td>810</td>\n",
       "      <td>0</td>\n",
       "      <td>0</td>\n",
       "      <td>1.0</td>\n",
       "    </tr>\n",
       "  </tbody>\n",
       "</table>\n",
       "<p>4369 rows × 29 columns</p>\n",
       "</div>"
      ],
      "text/plain": [
       "     0    1    2    4    5    6    7    8    9    10  ...    25     26  \\\n",
       "0     1  0.0  1.0  0.0  0.0  0.0  0.0  0.0  1.0  0.0  ...  22.0   43.0   \n",
       "1     1  1.0  1.0  1.0  0.0  0.0  0.0  0.0  0.0  0.0  ...  11.0  462.0   \n",
       "2     1  0.0  0.0  0.0  0.0  1.0  0.0  1.0  0.0  0.0  ...  11.0  571.0   \n",
       "3     1  1.0  1.0  0.0  0.0  0.0  0.0  1.0  1.0  0.0  ...  22.0   45.0   \n",
       "4     1  1.0  0.0  0.0  1.0  1.0  0.0  0.0  1.0  1.0  ...  22.0  600.0   \n",
       "...  ..  ...  ...  ...  ...  ...  ...  ...  ...  ...  ...   ...    ...   \n",
       "4364  1  0.0  1.0  0.0  0.0  0.0  0.0  0.0  0.0  1.0  ...  22.0   34.0   \n",
       "4365  1  1.0  1.0  0.0  0.0  0.0  1.0  0.0  0.0  0.0  ...  22.0   46.0   \n",
       "4366  1  0.0  0.0  1.0  0.0  0.0  0.0  1.0  1.0  0.0  ...  11.0  456.0   \n",
       "4367  1  0.0  0.0  0.0  1.0  1.0  0.0  0.0  0.0  1.0  ...  14.0  221.0   \n",
       "4368  1  1.0  1.0  0.0  1.0  0.0  0.0  0.0  0.0  1.0  ...  22.0   45.0   \n",
       "\n",
       "          27    28   30   31        32        33 34   35  \n",
       "0     347.32   644  480  1.0   8450801   8450801  1  8.0  \n",
       "1      111.4   902  480  1.0  17425910  17425910  1  8.0  \n",
       "2       48.0   322  413  1.0   6215849   6215849  0  1.0  \n",
       "3       49.0   139  301  1.0   5370710   5370710  1  1.0  \n",
       "4     140.09   627  794  1.0  31131458  31131458  0  8.0  \n",
       "...      ...   ...  ...  ...       ...       ... ..  ...  \n",
       "4364    57.0   293  320  0.0  16654303         0  0  2.0  \n",
       "4365  179.89  1277  147  0.0    627901         0  1  1.0  \n",
       "4366    90.0   115  150  0.0   6816663         0  0  8.0  \n",
       "4367    19.0   179   82  0.0   1841891         0  0  1.0  \n",
       "4368     8.0   234  258  0.0       810         0  0  1.0  \n",
       "\n",
       "[4369 rows x 29 columns]"
      ]
     },
     "execution_count": 52,
     "metadata": {},
     "output_type": "execute_result"
    }
   ],
   "source": [
    "X_train"
   ]
  },
  {
   "cell_type": "code",
   "execution_count": 53,
   "id": "3311b6a9",
   "metadata": {},
   "outputs": [
    {
     "data": {
      "text/html": [
       "<div>\n",
       "<style scoped>\n",
       "    .dataframe tbody tr th:only-of-type {\n",
       "        vertical-align: middle;\n",
       "    }\n",
       "\n",
       "    .dataframe tbody tr th {\n",
       "        vertical-align: top;\n",
       "    }\n",
       "\n",
       "    .dataframe thead th {\n",
       "        text-align: right;\n",
       "    }\n",
       "</style>\n",
       "<table border=\"1\" class=\"dataframe\">\n",
       "  <thead>\n",
       "    <tr style=\"text-align: right;\">\n",
       "      <th></th>\n",
       "      <th>是否遇到过网络问题</th>\n",
       "      <th>居民小区</th>\n",
       "      <th>办公室</th>\n",
       "      <th>商业街</th>\n",
       "      <th>地铁</th>\n",
       "      <th>农村</th>\n",
       "      <th>高铁</th>\n",
       "      <th>手机没有信号</th>\n",
       "      <th>有信号无法拨通</th>\n",
       "      <th>通话过程中突然中断</th>\n",
       "      <th>...</th>\n",
       "      <th>终端品牌</th>\n",
       "      <th>终端品牌类型</th>\n",
       "      <th>当月ARPU</th>\n",
       "      <th>当月MOU</th>\n",
       "      <th>前3月MOU</th>\n",
       "      <th>外省流量占比</th>\n",
       "      <th>GPRS总流量（KB）</th>\n",
       "      <th>GPRS-国内漫游-流量（KB）</th>\n",
       "      <th>是否5G网络客户</th>\n",
       "      <th>客户星级标识</th>\n",
       "    </tr>\n",
       "  </thead>\n",
       "  <tbody>\n",
       "    <tr>\n",
       "      <th>0</th>\n",
       "      <td>2</td>\n",
       "      <td>0</td>\n",
       "      <td>0</td>\n",
       "      <td>0</td>\n",
       "      <td>0</td>\n",
       "      <td>0</td>\n",
       "      <td>0</td>\n",
       "      <td>0</td>\n",
       "      <td>0</td>\n",
       "      <td>0</td>\n",
       "      <td>...</td>\n",
       "      <td>9</td>\n",
       "      <td>62</td>\n",
       "      <td>45.37</td>\n",
       "      <td>161</td>\n",
       "      <td>139</td>\n",
       "      <td>0.000000</td>\n",
       "      <td>1391</td>\n",
       "      <td>0</td>\n",
       "      <td>0</td>\n",
       "      <td>0</td>\n",
       "    </tr>\n",
       "    <tr>\n",
       "      <th>1</th>\n",
       "      <td>1</td>\n",
       "      <td>1</td>\n",
       "      <td>1</td>\n",
       "      <td>0</td>\n",
       "      <td>0</td>\n",
       "      <td>0</td>\n",
       "      <td>0</td>\n",
       "      <td>0</td>\n",
       "      <td>0</td>\n",
       "      <td>0</td>\n",
       "      <td>...</td>\n",
       "      <td>9</td>\n",
       "      <td>176</td>\n",
       "      <td>60.00</td>\n",
       "      <td>270</td>\n",
       "      <td>102</td>\n",
       "      <td>0.000000</td>\n",
       "      <td>1030</td>\n",
       "      <td>0</td>\n",
       "      <td>0</td>\n",
       "      <td>1</td>\n",
       "    </tr>\n",
       "    <tr>\n",
       "      <th>2</th>\n",
       "      <td>2</td>\n",
       "      <td>0</td>\n",
       "      <td>0</td>\n",
       "      <td>0</td>\n",
       "      <td>0</td>\n",
       "      <td>0</td>\n",
       "      <td>0</td>\n",
       "      <td>0</td>\n",
       "      <td>0</td>\n",
       "      <td>0</td>\n",
       "      <td>...</td>\n",
       "      <td>18</td>\n",
       "      <td>31</td>\n",
       "      <td>89.00</td>\n",
       "      <td>662</td>\n",
       "      <td>80</td>\n",
       "      <td>0.000000</td>\n",
       "      <td>767</td>\n",
       "      <td>0</td>\n",
       "      <td>0</td>\n",
       "      <td>1</td>\n",
       "    </tr>\n",
       "    <tr>\n",
       "      <th>3</th>\n",
       "      <td>1</td>\n",
       "      <td>1</td>\n",
       "      <td>0</td>\n",
       "      <td>0</td>\n",
       "      <td>0</td>\n",
       "      <td>0</td>\n",
       "      <td>0</td>\n",
       "      <td>0</td>\n",
       "      <td>0</td>\n",
       "      <td>1</td>\n",
       "      <td>...</td>\n",
       "      <td>18</td>\n",
       "      <td>17</td>\n",
       "      <td>70.00</td>\n",
       "      <td>645</td>\n",
       "      <td>333</td>\n",
       "      <td>0.000000</td>\n",
       "      <td>912</td>\n",
       "      <td>0</td>\n",
       "      <td>0</td>\n",
       "      <td>1</td>\n",
       "    </tr>\n",
       "    <tr>\n",
       "      <th>4</th>\n",
       "      <td>1</td>\n",
       "      <td>1</td>\n",
       "      <td>0</td>\n",
       "      <td>0</td>\n",
       "      <td>0</td>\n",
       "      <td>0</td>\n",
       "      <td>0</td>\n",
       "      <td>0</td>\n",
       "      <td>1</td>\n",
       "      <td>0</td>\n",
       "      <td>...</td>\n",
       "      <td>9</td>\n",
       "      <td>246</td>\n",
       "      <td>56.00</td>\n",
       "      <td>496</td>\n",
       "      <td>258</td>\n",
       "      <td>0.000000</td>\n",
       "      <td>1313</td>\n",
       "      <td>0</td>\n",
       "      <td>1</td>\n",
       "      <td>1</td>\n",
       "    </tr>\n",
       "    <tr>\n",
       "      <th>...</th>\n",
       "      <td>...</td>\n",
       "      <td>...</td>\n",
       "      <td>...</td>\n",
       "      <td>...</td>\n",
       "      <td>...</td>\n",
       "      <td>...</td>\n",
       "      <td>...</td>\n",
       "      <td>...</td>\n",
       "      <td>...</td>\n",
       "      <td>...</td>\n",
       "      <td>...</td>\n",
       "      <td>...</td>\n",
       "      <td>...</td>\n",
       "      <td>...</td>\n",
       "      <td>...</td>\n",
       "      <td>...</td>\n",
       "      <td>...</td>\n",
       "      <td>...</td>\n",
       "      <td>...</td>\n",
       "      <td>...</td>\n",
       "      <td>...</td>\n",
       "    </tr>\n",
       "    <tr>\n",
       "      <th>2594</th>\n",
       "      <td>1</td>\n",
       "      <td>0</td>\n",
       "      <td>0</td>\n",
       "      <td>0</td>\n",
       "      <td>0</td>\n",
       "      <td>0</td>\n",
       "      <td>1</td>\n",
       "      <td>1</td>\n",
       "      <td>0</td>\n",
       "      <td>0</td>\n",
       "      <td>...</td>\n",
       "      <td>9</td>\n",
       "      <td>103</td>\n",
       "      <td>47.00</td>\n",
       "      <td>110</td>\n",
       "      <td>42</td>\n",
       "      <td>0.000000</td>\n",
       "      <td>2105</td>\n",
       "      <td>0</td>\n",
       "      <td>0</td>\n",
       "      <td>1</td>\n",
       "    </tr>\n",
       "    <tr>\n",
       "      <th>2595</th>\n",
       "      <td>2</td>\n",
       "      <td>0</td>\n",
       "      <td>0</td>\n",
       "      <td>0</td>\n",
       "      <td>0</td>\n",
       "      <td>0</td>\n",
       "      <td>0</td>\n",
       "      <td>0</td>\n",
       "      <td>0</td>\n",
       "      <td>0</td>\n",
       "      <td>...</td>\n",
       "      <td>18</td>\n",
       "      <td>450</td>\n",
       "      <td>57.00</td>\n",
       "      <td>238</td>\n",
       "      <td>157</td>\n",
       "      <td>0.000000</td>\n",
       "      <td>562</td>\n",
       "      <td>0</td>\n",
       "      <td>0</td>\n",
       "      <td>1</td>\n",
       "    </tr>\n",
       "    <tr>\n",
       "      <th>2596</th>\n",
       "      <td>2</td>\n",
       "      <td>0</td>\n",
       "      <td>0</td>\n",
       "      <td>0</td>\n",
       "      <td>0</td>\n",
       "      <td>0</td>\n",
       "      <td>0</td>\n",
       "      <td>0</td>\n",
       "      <td>0</td>\n",
       "      <td>0</td>\n",
       "      <td>...</td>\n",
       "      <td>18</td>\n",
       "      <td>36</td>\n",
       "      <td>8.10</td>\n",
       "      <td>202</td>\n",
       "      <td>194</td>\n",
       "      <td>0.000000</td>\n",
       "      <td>1948</td>\n",
       "      <td>0</td>\n",
       "      <td>1</td>\n",
       "      <td>1</td>\n",
       "    </tr>\n",
       "    <tr>\n",
       "      <th>2597</th>\n",
       "      <td>1</td>\n",
       "      <td>0</td>\n",
       "      <td>0</td>\n",
       "      <td>0</td>\n",
       "      <td>0</td>\n",
       "      <td>1</td>\n",
       "      <td>1</td>\n",
       "      <td>0</td>\n",
       "      <td>0</td>\n",
       "      <td>0</td>\n",
       "      <td>...</td>\n",
       "      <td>9</td>\n",
       "      <td>157</td>\n",
       "      <td>58.20</td>\n",
       "      <td>148</td>\n",
       "      <td>66</td>\n",
       "      <td>0.061913</td>\n",
       "      <td>661</td>\n",
       "      <td>151</td>\n",
       "      <td>0</td>\n",
       "      <td>1</td>\n",
       "    </tr>\n",
       "    <tr>\n",
       "      <th>2598</th>\n",
       "      <td>2</td>\n",
       "      <td>0</td>\n",
       "      <td>0</td>\n",
       "      <td>0</td>\n",
       "      <td>0</td>\n",
       "      <td>0</td>\n",
       "      <td>0</td>\n",
       "      <td>0</td>\n",
       "      <td>0</td>\n",
       "      <td>0</td>\n",
       "      <td>...</td>\n",
       "      <td>18</td>\n",
       "      <td>29</td>\n",
       "      <td>134.80</td>\n",
       "      <td>623</td>\n",
       "      <td>1092</td>\n",
       "      <td>0.027956</td>\n",
       "      <td>2184</td>\n",
       "      <td>176</td>\n",
       "      <td>1</td>\n",
       "      <td>6</td>\n",
       "    </tr>\n",
       "  </tbody>\n",
       "</table>\n",
       "<p>2599 rows × 29 columns</p>\n",
       "</div>"
      ],
      "text/plain": [
       "      是否遇到过网络问题  居民小区  办公室  商业街  地铁  农村  高铁  手机没有信号  有信号无法拨通  通话过程中突然中断  ...  \\\n",
       "0             2     0    0    0   0   0   0       0        0          0  ...   \n",
       "1             1     1    1    0   0   0   0       0        0          0  ...   \n",
       "2             2     0    0    0   0   0   0       0        0          0  ...   \n",
       "3             1     1    0    0   0   0   0       0        0          1  ...   \n",
       "4             1     1    0    0   0   0   0       0        1          0  ...   \n",
       "...         ...   ...  ...  ...  ..  ..  ..     ...      ...        ...  ...   \n",
       "2594          1     0    0    0   0   0   1       1        0          0  ...   \n",
       "2595          2     0    0    0   0   0   0       0        0          0  ...   \n",
       "2596          2     0    0    0   0   0   0       0        0          0  ...   \n",
       "2597          1     0    0    0   0   1   1       0        0          0  ...   \n",
       "2598          2     0    0    0   0   0   0       0        0          0  ...   \n",
       "\n",
       "      终端品牌  终端品牌类型  当月ARPU  当月MOU  前3月MOU    外省流量占比  GPRS总流量（KB）  \\\n",
       "0        9      62   45.37    161     139  0.000000         1391   \n",
       "1        9     176   60.00    270     102  0.000000         1030   \n",
       "2       18      31   89.00    662      80  0.000000          767   \n",
       "3       18      17   70.00    645     333  0.000000          912   \n",
       "4        9     246   56.00    496     258  0.000000         1313   \n",
       "...    ...     ...     ...    ...     ...       ...          ...   \n",
       "2594     9     103   47.00    110      42  0.000000         2105   \n",
       "2595    18     450   57.00    238     157  0.000000          562   \n",
       "2596    18      36    8.10    202     194  0.000000         1948   \n",
       "2597     9     157   58.20    148      66  0.061913          661   \n",
       "2598    18      29  134.80    623    1092  0.027956         2184   \n",
       "\n",
       "      GPRS-国内漫游-流量（KB）  是否5G网络客户  客户星级标识  \n",
       "0                    0         0       0  \n",
       "1                    0         0       1  \n",
       "2                    0         0       1  \n",
       "3                    0         0       1  \n",
       "4                    0         1       1  \n",
       "...                ...       ...     ...  \n",
       "2594                 0         0       1  \n",
       "2595                 0         0       1  \n",
       "2596                 0         1       1  \n",
       "2597               151         0       1  \n",
       "2598               176         1       6  \n",
       "\n",
       "[2599 rows x 29 columns]"
      ]
     },
     "execution_count": 53,
     "metadata": {},
     "output_type": "execute_result"
    }
   ],
   "source": [
    "predict"
   ]
  },
  {
   "cell_type": "markdown",
   "id": "c36ad1db",
   "metadata": {},
   "source": [
    "predict.to_excel('语音通话整体满意度-预测集.xlsx', sheet_name='Sheet1', index=False)"
   ]
  },
  {
   "cell_type": "markdown",
   "id": "52fa0358",
   "metadata": {},
   "source": [
    "# 构建随机森林模型"
   ]
  },
  {
   "cell_type": "code",
   "execution_count": 54,
   "id": "7f5f5be7",
   "metadata": {},
   "outputs": [],
   "source": [
    "from sklearn import tree\n",
    "from sklearn.model_selection import train_test_split\n",
    "Xtrain,Xtest,Ytrain,Ytest = train_test_split(X_train,Ytrain,test_size=0.3)"
   ]
  },
  {
   "cell_type": "code",
   "execution_count": 55,
   "id": "f7cd14b1",
   "metadata": {},
   "outputs": [],
   "source": [
    "from sklearn.ensemble import RandomForestClassifier\n",
    "forest = RandomForestClassifier(n_estimators=14,criterion=\"gini\",max_depth=30,min_samples_leaf=10)\n",
    "forest.fit(Xtrain,Ytrain)\n",
    "score = forest.score(Xtest,Ytest)#返回准确度"
   ]
  },
  {
   "cell_type": "code",
   "execution_count": 56,
   "id": "f1333761",
   "metadata": {},
   "outputs": [
    {
     "data": {
      "text/plain": [
       "0.6071700991609459"
      ]
     },
     "execution_count": 56,
     "metadata": {},
     "output_type": "execute_result"
    }
   ],
   "source": [
    "score"
   ]
  },
  {
   "cell_type": "code",
   "execution_count": 57,
   "id": "24fbc366",
   "metadata": {},
   "outputs": [
    {
     "data": {
      "text/plain": [
       "0.6383257030739045"
      ]
     },
     "execution_count": 57,
     "metadata": {},
     "output_type": "execute_result"
    }
   ],
   "source": [
    "forest.score(Xtrain,Ytrain)"
   ]
  },
  {
   "cell_type": "code",
   "execution_count": 58,
   "id": "f26d0e29",
   "metadata": {},
   "outputs": [],
   "source": [
    "result_forest = forest.predict(predict.values)"
   ]
  },
  {
   "cell_type": "code",
   "execution_count": 59,
   "id": "0e3d9ef8",
   "metadata": {},
   "outputs": [],
   "source": [
    "pd.DataFrame(result_forest).to_excel('语音通话整体满意度_随机森林_predictresult.xlsx', sheet_name='Sheet1', index=False)"
   ]
  },
  {
   "cell_type": "markdown",
   "id": "b664700d",
   "metadata": {},
   "source": [
    "# 构建神经网络模型"
   ]
  },
  {
   "cell_type": "code",
   "execution_count": 60,
   "id": "8848fa6f",
   "metadata": {},
   "outputs": [],
   "source": [
    "from sklearn.preprocessing import StandardScaler\n",
    "sc=StandardScaler()\n",
    "sc.fit(X_train)\n",
    "standard_train=sc.transform(Xtrain)\n",
    "standard_test=sc.transform(Xtest)\n",
    "\n"
   ]
  },
  {
   "cell_type": "code",
   "execution_count": 61,
   "id": "b1cb6e67",
   "metadata": {},
   "outputs": [
    {
     "name": "stdout",
     "output_type": "stream",
     "text": [
      "测试集预测的正确率为： 0.6071700991609459\n",
      "训练集的正确率为： 0.5830608240680183\n"
     ]
    }
   ],
   "source": [
    "from sklearn.neural_network import MLPClassifier\n",
    "# solver{‘lbfgs’, ‘sgd’, ‘adam’} ‘adam’在相对较大的数据集上效果比较好（几千个样本或者更多），对小数据集来说，lbfgs收敛更快效果也更好。\n",
    "mlp=MLPClassifier(solver='adam',alpha=1e-5,hidden_layer_sizes=(5,5),max_iter=4000)\n",
    "mlp.fit(standard_train,Ytrain)\n",
    "result_mlp=mlp.predict(predict.values)\n",
    "#print(\"测试集合的y值：\",list(Y_test))\n",
    "#print(\"神经网络预测的的y值：\",list(result))\n",
    "print(\"测试集预测的正确率为：\",mlp.score(standard_test,Ytest))\n",
    "print(\"训练集的正确率为：\",mlp.score(standard_train,Ytrain))"
   ]
  },
  {
   "cell_type": "code",
   "execution_count": 62,
   "id": "37a27ed0",
   "metadata": {},
   "outputs": [
    {
     "data": {
      "text/plain": [
       "array([10, 10, 10, ..., 10, 10, 10], dtype=int64)"
      ]
     },
     "execution_count": 62,
     "metadata": {},
     "output_type": "execute_result"
    }
   ],
   "source": [
    "result_mlp"
   ]
  },
  {
   "cell_type": "code",
   "execution_count": 63,
   "id": "99f61dde",
   "metadata": {},
   "outputs": [],
   "source": [
    "pd.DataFrame(result_mlp).to_excel('语音通话整体满意度_神经网络_predictresult.xlsx', sheet_name='Sheet1', index=False)"
   ]
  },
  {
   "cell_type": "markdown",
   "id": "51c2729b",
   "metadata": {},
   "source": [
    "# 构建XGBoost算法模型"
   ]
  },
  {
   "cell_type": "code",
   "execution_count": 64,
   "id": "7b6ddcb6",
   "metadata": {},
   "outputs": [],
   "source": [
    "from sklearn.preprocessing import LabelEncoder\n",
    "le = LabelEncoder()\n",
    "Ytrain = le.fit_transform(Ytrain)\n",
    "Ytest = le.fit_transform(Ytest)"
   ]
  },
  {
   "cell_type": "code",
   "execution_count": 65,
   "id": "30e8b260",
   "metadata": {},
   "outputs": [
    {
     "data": {
      "text/plain": [
       "0.5766590389016019"
      ]
     },
     "execution_count": 65,
     "metadata": {},
     "output_type": "execute_result"
    }
   ],
   "source": [
    "from xgboost.sklearn import XGBClassifier\n",
    "xgbc = XGBClassifier()\n",
    "xgbc.fit(Xtrain.values,Ytrain)\n",
    "xgbc.score(Xtest.values,Ytest)"
   ]
  },
  {
   "cell_type": "code",
   "execution_count": 66,
   "id": "94c53f66",
   "metadata": {},
   "outputs": [
    {
     "data": {
      "text/plain": [
       "0.9941137998691956"
      ]
     },
     "execution_count": 66,
     "metadata": {},
     "output_type": "execute_result"
    }
   ],
   "source": [
    "xgbc.score(Xtrain.values,Ytrain)"
   ]
  },
  {
   "cell_type": "code",
   "execution_count": 67,
   "id": "32c2caff",
   "metadata": {},
   "outputs": [],
   "source": [
    "result_xgbc=xgbc.predict(predict.values)+1"
   ]
  },
  {
   "cell_type": "code",
   "execution_count": 68,
   "id": "0791aa8f",
   "metadata": {},
   "outputs": [],
   "source": [
    "pd.DataFrame(result_xgbc).to_excel('语音通话整体满意度_XGBoost_predictresult.xlsx', sheet_name='Sheet1', index=False)"
   ]
  },
  {
   "cell_type": "code",
   "execution_count": 69,
   "id": "9c663d69",
   "metadata": {},
   "outputs": [],
   "source": [
    "Ytrain=data1['语音通话整体满意度'].values\n",
    "a=data1.drop('语音通话整体满意度', axis = 1)\n",
    "a=pd.DataFrame(a)\n",
    "a=a.iloc[:,idx_features]\n",
    "Xtrain=a.values"
   ]
  },
  {
   "cell_type": "code",
   "execution_count": 70,
   "id": "e5ecb69d",
   "metadata": {},
   "outputs": [],
   "source": [
    "test_forest=forest.predict(Xtrain)"
   ]
  },
  {
   "cell_type": "code",
   "execution_count": 71,
   "id": "6d34b897",
   "metadata": {},
   "outputs": [],
   "source": [
    "test_mlp=mlp.predict(Xtrain)"
   ]
  },
  {
   "cell_type": "code",
   "execution_count": 72,
   "id": "2855d1df",
   "metadata": {},
   "outputs": [],
   "source": [
    "test_xgbc=xgbc.predict(Xtrain)+1"
   ]
  },
  {
   "cell_type": "code",
   "execution_count": 73,
   "id": "ee198c51",
   "metadata": {},
   "outputs": [],
   "source": [
    "import pandas\n",
    "allreuslt= pd.concat([pd.DataFrame(result_forest),pd.DataFrame(result_mlp),pd.DataFrame(result_xgbc)],axis=1) \n",
    "alltrain= pd.concat([pd.DataFrame(test_forest),pd.DataFrame(test_mlp),pd.DataFrame(test_xgbc)],axis=1) "
   ]
  },
  {
   "cell_type": "code",
   "execution_count": 74,
   "id": "2490ff27",
   "metadata": {},
   "outputs": [],
   "source": [
    "Xtrain,Xtest,Ytrain,Ytest = train_test_split(alltrain,Ytrain,test_size=0.3)"
   ]
  },
  {
   "cell_type": "markdown",
   "id": "752f2686",
   "metadata": {},
   "source": [
    "# 构建融合模型"
   ]
  },
  {
   "cell_type": "code",
   "execution_count": 75,
   "id": "872ed9b3",
   "metadata": {},
   "outputs": [
    {
     "name": "stdout",
     "output_type": "stream",
     "text": [
      "0.6961961138869273\n",
      "0.7924999535117173\n"
     ]
    }
   ],
   "source": [
    "from sklearn.linear_model import LinearRegression\n",
    "#线性回归\n",
    "lr=LinearRegression().fit(Xtrain,Ytrain)\n",
    "print(lr.score(Xtrain,Ytrain))\n",
    "print(lr.score(Xtest,Ytest))"
   ]
  },
  {
   "cell_type": "code",
   "execution_count": 76,
   "id": "ffee1a4c",
   "metadata": {
    "scrolled": true
   },
   "outputs": [],
   "source": [
    "a=lr.predict(allreuslt)"
   ]
  },
  {
   "cell_type": "code",
   "execution_count": 77,
   "id": "68ea42b8",
   "metadata": {},
   "outputs": [
    {
     "data": {
      "text/plain": [
       "array([9.65987431, 7.89790695, 9.65987431, ..., 9.65987431, 9.65987431,\n",
       "       9.65987431])"
      ]
     },
     "execution_count": 77,
     "metadata": {},
     "output_type": "execute_result"
    }
   ],
   "source": [
    "a"
   ]
  },
  {
   "cell_type": "code",
   "execution_count": 78,
   "id": "10f952e3",
   "metadata": {},
   "outputs": [],
   "source": [
    "a=a.round(0)"
   ]
  },
  {
   "cell_type": "code",
   "execution_count": 79,
   "id": "12988f4f",
   "metadata": {},
   "outputs": [],
   "source": [
    "pd.DataFrame(a).to_excel('语音通话整体满意度_predict_result.xlsx', sheet_name='Sheet1', index=False)"
   ]
  },
  {
   "cell_type": "code",
   "execution_count": null,
   "id": "4805b987",
   "metadata": {},
   "outputs": [],
   "source": []
  }
 ],
 "metadata": {
  "kernelspec": {
   "display_name": "Python 3 (ipykernel)",
   "language": "python",
   "name": "python3"
  },
  "language_info": {
   "codemirror_mode": {
    "name": "ipython",
    "version": 3
   },
   "file_extension": ".py",
   "mimetype": "text/x-python",
   "name": "python",
   "nbconvert_exporter": "python",
   "pygments_lexer": "ipython3",
   "version": "3.10.7"
  }
 },
 "nbformat": 4,
 "nbformat_minor": 5
}
