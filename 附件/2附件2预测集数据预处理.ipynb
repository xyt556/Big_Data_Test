{
 "cells": [
  {
   "cell_type": "code",
   "execution_count": 1,
   "id": "0edc1f24",
   "metadata": {
    "scrolled": true
   },
   "outputs": [
    {
     "name": "stdout",
     "output_type": "stream",
     "text": [
      "用户id                0\n",
      "是否遇到网络问题            0\n",
      "居民小区                0\n",
      "办公室                 0\n",
      "高校                  0\n",
      "                   ..\n",
      "GPRS总流量（KB）         0\n",
      "GPRS-国内漫游-流量（KB）    0\n",
      "是否5G网络客户            0\n",
      "客户星级标识              0\n",
      "是否不限量套餐到达用户         0\n",
      "Length: 87, dtype: int64\n",
      "0\n",
      "(1610, 87)\n",
      "['用户id', '是否遇到网络问题', '居民小区', '办公室', '高校', '商业街', '地铁', '农村', '高铁', '其他，请注明', '注明内容', '网络信号差/没有信号', '显示有信号上不了网', '上网过程中网络时断时续或时快时慢', '手机上网速度慢', '其他，请注明.1', '注明内容.1', '看视频卡顿', '打游戏延时大', '打开网页或APP图片慢', '下载速度慢', '手机支付较慢', '其他，请注明.2', nan, '爱奇艺', '优酷', '腾讯视频', '芒果TV', '搜狐视频', '抖音', '快手', '火山', '咪咕视频', '学习强国', '其他，请注明.3', '注明内容.2', '全部都卡顿', '和平精英', '王者荣耀', '穿越火线', '梦幻西游', '龙之谷', '梦幻诛仙', '欢乐斗地主', '部落冲突', '炉石传说', '阴阳师', '其他，请注明.4', '注明内容.3', '全部游戏都卡顿', '微信', '手机QQ', '淘宝', '京东', '百度', '今日头条', '新浪微博', '拼多多', '学习强国.1', '其他，请注明.5', '注明内容.4', '全部网页或APP都慢', '脱网次数', '上网质差次数', '微信质差次数', '是否投诉', '性别', '4\\\\5G用户', '是否关怀用户', '套外流量（MB）', '是否4G网络客户（本地剔除物联网）', '套外流量费（元）', '外省语音占比', '语音通话-时长（分钟）', '省际漫游-时长（分钟）', '终端品牌', '终端品牌类型', '当月ARPU', '当月MOU', '前3月ARPU', '前3月MOU', '外省流量占比', 'GPRS总流量（KB）', 'GPRS-国内漫游-流量（KB）', '是否5G网络客户', '客户星级标识', '是否不限量套餐到达用户']\n"
     ]
    }
   ],
   "source": [
    "import numpy as np\n",
    "import pandas as pd\n",
    "import matplotlib.pyplot as plt\n",
    "import scipy.interpolate as interpolate\n",
    "io = r'C:\\Users\\白小帅\\Desktop\\初赛赛题 2022年MathorCup大数据竞赛\\初赛赛题 2022年MathorCup大数据竞赛\\2022年MathorCup大数据竞赛-赛道B初赛\\附件4上网业务用户满意度预测数据.xlsx'\n",
    "\n",
    "data = pd.read_excel(io,header = [0],sheet_name = 'Sheet1')\n",
    "data.head()\n",
    "print(data.isnull().sum())\n",
    "print(data.duplicated().sum())\n",
    "print(data.shape)\n",
    "print([column for column in data])"
   ]
  },
  {
   "cell_type": "markdown",
   "id": "2fc09ef7",
   "metadata": {},
   "source": [
    "a=data.isnull().sum()\n",
    "a = pd.DataFrame(a)\n",
    "a.to_excel('附件二预测集集空值.xlsx', sheet_name='Sheet1',header=None)"
   ]
  },
  {
   "cell_type": "code",
   "execution_count": 2,
   "id": "23318125",
   "metadata": {},
   "outputs": [
    {
     "name": "stdout",
     "output_type": "stream",
     "text": [
      "<class 'pandas.core.frame.DataFrame'>\n",
      "RangeIndex: 1610 entries, 0 to 1609\n",
      "Data columns (total 87 columns):\n",
      " #   Column             Non-Null Count  Dtype  \n",
      "---  ------             --------------  -----  \n",
      " 0   用户id               1610 non-null   int64  \n",
      " 1   是否遇到网络问题           1610 non-null   int64  \n",
      " 2   居民小区               1610 non-null   int64  \n",
      " 3   办公室                1610 non-null   int64  \n",
      " 4   高校                 1610 non-null   int64  \n",
      " 5   商业街                1610 non-null   int64  \n",
      " 6   地铁                 1610 non-null   int64  \n",
      " 7   农村                 1610 non-null   int64  \n",
      " 8   高铁                 1610 non-null   int64  \n",
      " 9   其他，请注明             1610 non-null   int64  \n",
      " 10  注明内容               88 non-null     object \n",
      " 11  网络信号差/没有信号         1610 non-null   int64  \n",
      " 12  显示有信号上不了网          1610 non-null   int64  \n",
      " 13  上网过程中网络时断时续或时快时慢   1610 non-null   int64  \n",
      " 14  手机上网速度慢            1610 non-null   int64  \n",
      " 15  其他，请注明.1           1610 non-null   int64  \n",
      " 16  注明内容.1             28 non-null     object \n",
      " 17  看视频卡顿              1610 non-null   int64  \n",
      " 18  打游戏延时大             1610 non-null   int64  \n",
      " 19  打开网页或APP图片慢        1610 non-null   int64  \n",
      " 20  下载速度慢              1610 non-null   int64  \n",
      " 21  手机支付较慢             1610 non-null   int64  \n",
      " 22  其他，请注明.2           1610 non-null   int64  \n",
      " 23  nan                18 non-null     object \n",
      " 24  爱奇艺                1610 non-null   int64  \n",
      " 25  优酷                 1610 non-null   int64  \n",
      " 26  腾讯视频               1610 non-null   int64  \n",
      " 27  芒果TV               1610 non-null   int64  \n",
      " 28  搜狐视频               1610 non-null   int64  \n",
      " 29  抖音                 1610 non-null   int64  \n",
      " 30  快手                 1610 non-null   int64  \n",
      " 31  火山                 1610 non-null   int64  \n",
      " 32  咪咕视频               1610 non-null   int64  \n",
      " 33  学习强国               1610 non-null   int64  \n",
      " 34  其他，请注明.3           1610 non-null   int64  \n",
      " 35  注明内容.2             27 non-null     object \n",
      " 36  全部都卡顿              1610 non-null   int64  \n",
      " 37  和平精英               1610 non-null   int64  \n",
      " 38  王者荣耀               1610 non-null   int64  \n",
      " 39  穿越火线               1610 non-null   int64  \n",
      " 40  梦幻西游               1610 non-null   int64  \n",
      " 41  龙之谷                1610 non-null   int64  \n",
      " 42  梦幻诛仙               1610 non-null   int64  \n",
      " 43  欢乐斗地主              1610 non-null   int64  \n",
      " 44  部落冲突               1610 non-null   int64  \n",
      " 45  炉石传说               1610 non-null   int64  \n",
      " 46  阴阳师                1610 non-null   int64  \n",
      " 47  其他，请注明.4           1610 non-null   int64  \n",
      " 48  注明内容.3             17 non-null     object \n",
      " 49  全部游戏都卡顿            1610 non-null   int64  \n",
      " 50  微信                 1610 non-null   int64  \n",
      " 51  手机QQ               1610 non-null   int64  \n",
      " 52  淘宝                 1610 non-null   int64  \n",
      " 53  京东                 1610 non-null   int64  \n",
      " 54  百度                 1610 non-null   int64  \n",
      " 55  今日头条               1610 non-null   int64  \n",
      " 56  新浪微博               1610 non-null   int64  \n",
      " 57  拼多多                1610 non-null   int64  \n",
      " 58  学习强国.1             1610 non-null   int64  \n",
      " 59  其他，请注明.5           1610 non-null   int64  \n",
      " 60  注明内容.4             20 non-null     object \n",
      " 61  全部网页或APP都慢         1610 non-null   int64  \n",
      " 62  脱网次数               1610 non-null   int64  \n",
      " 63  上网质差次数             1610 non-null   int64  \n",
      " 64  微信质差次数             1610 non-null   int64  \n",
      " 65  是否投诉               1610 non-null   object \n",
      " 66  性别                 1610 non-null   object \n",
      " 67  4\\5G用户             1610 non-null   object \n",
      " 68  是否关怀用户             1610 non-null   object \n",
      " 69  套外流量（MB）           1610 non-null   float64\n",
      " 70  是否4G网络客户（本地剔除物联网）  1610 non-null   object \n",
      " 71  套外流量费（元）           1610 non-null   float64\n",
      " 72  外省语音占比             1610 non-null   float64\n",
      " 73  语音通话-时长（分钟）        1610 non-null   int64  \n",
      " 74  省际漫游-时长（分钟）        1610 non-null   int64  \n",
      " 75  终端品牌               1610 non-null   object \n",
      " 76  终端品牌类型             1610 non-null   object \n",
      " 77  当月ARPU             1610 non-null   float64\n",
      " 78  当月MOU              1610 non-null   int64  \n",
      " 79  前3月ARPU            1610 non-null   float64\n",
      " 80  前3月MOU             1610 non-null   int64  \n",
      " 81  外省流量占比             1610 non-null   float64\n",
      " 82  GPRS总流量（KB）        1610 non-null   int64  \n",
      " 83  GPRS-国内漫游-流量（KB）   1610 non-null   int64  \n",
      " 84  是否5G网络客户           1610 non-null   object \n",
      " 85  客户星级标识             1610 non-null   object \n",
      " 86  是否不限量套餐到达用户        1610 non-null   object \n",
      "dtypes: float64(6), int64(65), object(16)\n",
      "memory usage: 1.1+ MB\n"
     ]
    }
   ],
   "source": [
    "data.info()"
   ]
  },
  {
   "cell_type": "code",
   "execution_count": 3,
   "id": "8987fb36",
   "metadata": {},
   "outputs": [
    {
     "data": {
      "text/plain": [
       "count    1610.000000\n",
       "mean       75.922894\n",
       "std        62.056323\n",
       "min         0.000000\n",
       "25%        32.582500\n",
       "50%        59.450000\n",
       "75%       100.567500\n",
       "max       545.900000\n",
       "Name: 当月ARPU, dtype: float64"
      ]
     },
     "execution_count": 3,
     "metadata": {},
     "output_type": "execute_result"
    }
   ],
   "source": [
    "data.loc[:,'当月ARPU'].describe()"
   ]
  },
  {
   "cell_type": "code",
   "execution_count": 4,
   "id": "7a86698d",
   "metadata": {},
   "outputs": [],
   "source": [
    "data.loc[:,'GPRS总流量（KB）']=data.loc[:,'GPRS总流量（KB）']/1048576"
   ]
  },
  {
   "cell_type": "code",
   "execution_count": 5,
   "id": "f02888dd",
   "metadata": {},
   "outputs": [
    {
     "data": {
      "text/plain": [
       "count    1610.000000\n",
       "mean       22.098921\n",
       "std        22.684287\n",
       "min         1.031734\n",
       "25%         6.526663\n",
       "50%        15.122157\n",
       "75%        29.531213\n",
       "max       184.019026\n",
       "Name: GPRS总流量（KB）, dtype: float64"
      ]
     },
     "execution_count": 5,
     "metadata": {},
     "output_type": "execute_result"
    }
   ],
   "source": [
    "data.loc[:,'GPRS总流量（KB）'].describe()"
   ]
  },
  {
   "cell_type": "code",
   "execution_count": 6,
   "id": "27ebf97a",
   "metadata": {},
   "outputs": [
    {
     "data": {
      "text/plain": [
       "count    1610.000000\n",
       "mean        0.862733\n",
       "std         4.784912\n",
       "min         0.000000\n",
       "25%         0.000000\n",
       "50%         0.000000\n",
       "75%         0.000000\n",
       "max       113.000000\n",
       "Name: 上网质差次数, dtype: float64"
      ]
     },
     "execution_count": 6,
     "metadata": {},
     "output_type": "execute_result"
    }
   ],
   "source": [
    "data.loc[:,'上网质差次数'].describe()\n"
   ]
  },
  {
   "cell_type": "markdown",
   "id": "0f0e0d43",
   "metadata": {},
   "source": [
    "# 删除大量缺失值所在列"
   ]
  },
  {
   "cell_type": "code",
   "execution_count": 7,
   "id": "9aae645c",
   "metadata": {},
   "outputs": [],
   "source": [
    "data=data.drop(list(data)[23],axis=1)"
   ]
  },
  {
   "cell_type": "code",
   "execution_count": 8,
   "id": "017e193f",
   "metadata": {},
   "outputs": [],
   "source": [
    "data=data.drop(['注明内容','注明内容.1','注明内容.2','注明内容.3','注明内容.4','其他，请注明.5'], axis=1)"
   ]
  },
  {
   "cell_type": "markdown",
   "id": "425d15af",
   "metadata": {},
   "source": [
    "# 删除与测试机集无关数据"
   ]
  },
  {
   "cell_type": "code",
   "execution_count": 9,
   "id": "9757b9a5",
   "metadata": {},
   "outputs": [],
   "source": [
    "data=data.drop(['学习强国','学习强国.1','前3月ARPU','前3月MOU','外省流量占比','用户id','是否关怀用户','是否投诉', '4\\\\5G用户','是否4G网络客户（本地剔除物联网）','外省语音占比','语音通话-时长（分钟）','省际漫游-时长（分钟）','GPRS-国内漫游-流量（KB）'], axis=1)"
   ]
  },
  {
   "cell_type": "code",
   "execution_count": 10,
   "id": "366c2558",
   "metadata": {},
   "outputs": [
    {
     "name": "stdout",
     "output_type": "stream",
     "text": [
      "是否遇到网络问题       0\n",
      "居民小区           0\n",
      "办公室            0\n",
      "高校             0\n",
      "商业街            0\n",
      "              ..\n",
      "当月MOU          0\n",
      "GPRS总流量（KB）    0\n",
      "是否5G网络客户       0\n",
      "客户星级标识         0\n",
      "是否不限量套餐到达用户    0\n",
      "Length: 66, dtype: int64\n"
     ]
    }
   ],
   "source": [
    "\n",
    "print(data.isnull().sum())\n"
   ]
  },
  {
   "cell_type": "markdown",
   "id": "966dc995",
   "metadata": {},
   "source": [
    "data.to_excel('predict2.xlsx', sheet_name='Sheet1', index=False)"
   ]
  },
  {
   "cell_type": "markdown",
   "id": "c65ce0fc",
   "metadata": {},
   "source": [
    "# 编码转化"
   ]
  },
  {
   "cell_type": "code",
   "execution_count": 11,
   "id": "6a34315a",
   "metadata": {},
   "outputs": [
    {
     "name": "stderr",
     "output_type": "stream",
     "text": [
      "C:\\Users\\白小帅\\AppData\\Local\\Temp\\ipykernel_14788\\675639158.py:2: FutureWarning: In a future version, `df.iloc[:, i] = newvals` will attempt to set the values inplace instead of always setting a new array. To retain the old behavior, use either `df[df.columns[i]] = newvals` or, if columns are non-unique, `df.isetitem(i, newvals)`\n",
      "  data.iloc[:,1:52]=OrdinalEncoder().fit_transform(data.iloc[:,1:52])\n"
     ]
    }
   ],
   "source": [
    "from sklearn.preprocessing import OrdinalEncoder\n",
    "data.iloc[:,1:52]=OrdinalEncoder().fit_transform(data.iloc[:,1:52])"
   ]
  },
  {
   "cell_type": "code",
   "execution_count": 12,
   "id": "3b2d5f43",
   "metadata": {},
   "outputs": [
    {
     "name": "stderr",
     "output_type": "stream",
     "text": [
      "C:\\Users\\白小帅\\AppData\\Local\\Temp\\ipykernel_14788\\3293441503.py:1: FutureWarning: In a future version, `df.iloc[:, i] = newvals` will attempt to set the values inplace instead of always setting a new array. To retain the old behavior, use either `df[df.columns[i]] = newvals` or, if columns are non-unique, `df.isetitem(i, newvals)`\n",
      "  data.loc[:,['是否不限量套餐到达用户','是否5G网络客户','客户星级标识']]=OrdinalEncoder().fit_transform(data.loc[:,['是否不限量套餐到达用户','是否5G网络客户','客户星级标识']])\n"
     ]
    }
   ],
   "source": [
    "data.loc[:,['是否不限量套餐到达用户','是否5G网络客户','客户星级标识']]=OrdinalEncoder().fit_transform(data.loc[:,['是否不限量套餐到达用户','是否5G网络客户','客户星级标识']])"
   ]
  },
  {
   "cell_type": "code",
   "execution_count": 13,
   "id": "bc1acb86",
   "metadata": {},
   "outputs": [],
   "source": [
    "a=OrdinalEncoder()"
   ]
  },
  {
   "cell_type": "code",
   "execution_count": 14,
   "id": "22acb7fc",
   "metadata": {},
   "outputs": [
    {
     "name": "stderr",
     "output_type": "stream",
     "text": [
      "C:\\Users\\白小帅\\AppData\\Local\\Temp\\ipykernel_14788\\885474793.py:1: FutureWarning: In a future version, `df.iloc[:, i] = newvals` will attempt to set the values inplace instead of always setting a new array. To retain the old behavior, use either `df[df.columns[i]] = newvals` or, if columns are non-unique, `df.isetitem(i, newvals)`\n",
      "  data.loc[:,['性别']]=a.fit_transform(data.loc[:,['性别']])\n"
     ]
    }
   ],
   "source": [
    "data.loc[:,['性别']]=a.fit_transform(data.loc[:,['性别']])"
   ]
  },
  {
   "cell_type": "code",
   "execution_count": 15,
   "id": "1eaab13f",
   "metadata": {},
   "outputs": [
    {
     "data": {
      "text/html": [
       "<div>\n",
       "<style scoped>\n",
       "    .dataframe tbody tr th:only-of-type {\n",
       "        vertical-align: middle;\n",
       "    }\n",
       "\n",
       "    .dataframe tbody tr th {\n",
       "        vertical-align: top;\n",
       "    }\n",
       "\n",
       "    .dataframe thead th {\n",
       "        text-align: right;\n",
       "    }\n",
       "</style>\n",
       "<table border=\"1\" class=\"dataframe\">\n",
       "  <thead>\n",
       "    <tr style=\"text-align: right;\">\n",
       "      <th></th>\n",
       "      <th>性别</th>\n",
       "    </tr>\n",
       "  </thead>\n",
       "  <tbody>\n",
       "    <tr>\n",
       "      <th>0</th>\n",
       "      <td>2.0</td>\n",
       "    </tr>\n",
       "    <tr>\n",
       "      <th>1</th>\n",
       "      <td>0.0</td>\n",
       "    </tr>\n",
       "    <tr>\n",
       "      <th>2</th>\n",
       "      <td>1.0</td>\n",
       "    </tr>\n",
       "    <tr>\n",
       "      <th>3</th>\n",
       "      <td>0.0</td>\n",
       "    </tr>\n",
       "    <tr>\n",
       "      <th>4</th>\n",
       "      <td>0.0</td>\n",
       "    </tr>\n",
       "    <tr>\n",
       "      <th>...</th>\n",
       "      <td>...</td>\n",
       "    </tr>\n",
       "    <tr>\n",
       "      <th>1605</th>\n",
       "      <td>2.0</td>\n",
       "    </tr>\n",
       "    <tr>\n",
       "      <th>1606</th>\n",
       "      <td>0.0</td>\n",
       "    </tr>\n",
       "    <tr>\n",
       "      <th>1607</th>\n",
       "      <td>2.0</td>\n",
       "    </tr>\n",
       "    <tr>\n",
       "      <th>1608</th>\n",
       "      <td>2.0</td>\n",
       "    </tr>\n",
       "    <tr>\n",
       "      <th>1609</th>\n",
       "      <td>0.0</td>\n",
       "    </tr>\n",
       "  </tbody>\n",
       "</table>\n",
       "<p>1610 rows × 1 columns</p>\n",
       "</div>"
      ],
      "text/plain": [
       "       性别\n",
       "0     2.0\n",
       "1     0.0\n",
       "2     1.0\n",
       "3     0.0\n",
       "4     0.0\n",
       "...   ...\n",
       "1605  2.0\n",
       "1606  0.0\n",
       "1607  2.0\n",
       "1608  2.0\n",
       "1609  0.0\n",
       "\n",
       "[1610 rows x 1 columns]"
      ]
     },
     "execution_count": 15,
     "metadata": {},
     "output_type": "execute_result"
    }
   ],
   "source": [
    "data.loc[:,['性别']]"
   ]
  },
  {
   "cell_type": "code",
   "execution_count": 16,
   "id": "6bdc335b",
   "metadata": {},
   "outputs": [
    {
     "data": {
      "text/html": [
       "<div>\n",
       "<style scoped>\n",
       "    .dataframe tbody tr th:only-of-type {\n",
       "        vertical-align: middle;\n",
       "    }\n",
       "\n",
       "    .dataframe tbody tr th {\n",
       "        vertical-align: top;\n",
       "    }\n",
       "\n",
       "    .dataframe thead th {\n",
       "        text-align: right;\n",
       "    }\n",
       "</style>\n",
       "<table border=\"1\" class=\"dataframe\">\n",
       "  <thead>\n",
       "    <tr style=\"text-align: right;\">\n",
       "      <th></th>\n",
       "      <th>0</th>\n",
       "    </tr>\n",
       "  </thead>\n",
       "  <tbody>\n",
       "    <tr>\n",
       "      <th>0</th>\n",
       "      <td>男</td>\n",
       "    </tr>\n",
       "    <tr>\n",
       "      <th>1</th>\n",
       "      <td>女</td>\n",
       "    </tr>\n",
       "    <tr>\n",
       "      <th>2</th>\n",
       "      <td>性别不详</td>\n",
       "    </tr>\n",
       "    <tr>\n",
       "      <th>3</th>\n",
       "      <td>女</td>\n",
       "    </tr>\n",
       "    <tr>\n",
       "      <th>4</th>\n",
       "      <td>女</td>\n",
       "    </tr>\n",
       "    <tr>\n",
       "      <th>...</th>\n",
       "      <td>...</td>\n",
       "    </tr>\n",
       "    <tr>\n",
       "      <th>1605</th>\n",
       "      <td>男</td>\n",
       "    </tr>\n",
       "    <tr>\n",
       "      <th>1606</th>\n",
       "      <td>女</td>\n",
       "    </tr>\n",
       "    <tr>\n",
       "      <th>1607</th>\n",
       "      <td>男</td>\n",
       "    </tr>\n",
       "    <tr>\n",
       "      <th>1608</th>\n",
       "      <td>男</td>\n",
       "    </tr>\n",
       "    <tr>\n",
       "      <th>1609</th>\n",
       "      <td>女</td>\n",
       "    </tr>\n",
       "  </tbody>\n",
       "</table>\n",
       "<p>1610 rows × 1 columns</p>\n",
       "</div>"
      ],
      "text/plain": [
       "         0\n",
       "0        男\n",
       "1        女\n",
       "2     性别不详\n",
       "3        女\n",
       "4        女\n",
       "...    ...\n",
       "1605     男\n",
       "1606     女\n",
       "1607     男\n",
       "1608     男\n",
       "1609     女\n",
       "\n",
       "[1610 rows x 1 columns]"
      ]
     },
     "execution_count": 16,
     "metadata": {},
     "output_type": "execute_result"
    }
   ],
   "source": [
    "pd.DataFrame(a.inverse_transform(data.loc[:,['性别']]))"
   ]
  },
  {
   "cell_type": "code",
   "execution_count": 17,
   "id": "e5dcbc5a",
   "metadata": {},
   "outputs": [
    {
     "name": "stderr",
     "output_type": "stream",
     "text": [
      "C:\\Users\\白小帅\\AppData\\Local\\Temp\\ipykernel_14788\\656528477.py:3: SettingWithCopyWarning: \n",
      "A value is trying to be set on a copy of a slice from a DataFrame\n",
      "\n",
      "See the caveats in the documentation: https://pandas.pydata.org/pandas-docs/stable/user_guide/indexing.html#returning-a-view-versus-a-copy\n",
      "  d.iloc[i]=str(d.iloc[i])\n"
     ]
    }
   ],
   "source": [
    "d=data.loc[:,'终端品牌']\n",
    "for i in range(1610):\n",
    "    d.iloc[i]=str(d.iloc[i])"
   ]
  },
  {
   "cell_type": "code",
   "execution_count": 18,
   "id": "f33a6ebe",
   "metadata": {},
   "outputs": [
    {
     "name": "stderr",
     "output_type": "stream",
     "text": [
      "C:\\Users\\白小帅\\AppData\\Local\\Temp\\ipykernel_14788\\2184663995.py:1: FutureWarning: In a future version, `df.iloc[:, i] = newvals` will attempt to set the values inplace instead of always setting a new array. To retain the old behavior, use either `df[df.columns[i]] = newvals` or, if columns are non-unique, `df.isetitem(i, newvals)`\n",
      "  data.loc[:,['终端品牌']]=OrdinalEncoder().fit_transform(data.loc[:,['终端品牌']])\n"
     ]
    }
   ],
   "source": [
    "data.loc[:,['终端品牌']]=OrdinalEncoder().fit_transform(data.loc[:,['终端品牌']])"
   ]
  },
  {
   "cell_type": "code",
   "execution_count": 19,
   "id": "e44f17b2",
   "metadata": {},
   "outputs": [
    {
     "name": "stderr",
     "output_type": "stream",
     "text": [
      "C:\\Users\\白小帅\\AppData\\Local\\Temp\\ipykernel_14788\\4086590434.py:3: SettingWithCopyWarning: \n",
      "A value is trying to be set on a copy of a slice from a DataFrame\n",
      "\n",
      "See the caveats in the documentation: https://pandas.pydata.org/pandas-docs/stable/user_guide/indexing.html#returning-a-view-versus-a-copy\n",
      "  d.iloc[i]=str(d.iloc[i])\n"
     ]
    }
   ],
   "source": [
    "d=data.loc[:,'终端品牌类型']\n",
    "for i in range(1610):\n",
    "    d.iloc[i]=str(d.iloc[i])"
   ]
  },
  {
   "cell_type": "code",
   "execution_count": 20,
   "id": "0959251b",
   "metadata": {
    "scrolled": true
   },
   "outputs": [
    {
     "name": "stderr",
     "output_type": "stream",
     "text": [
      "C:\\Users\\白小帅\\AppData\\Local\\Temp\\ipykernel_14788\\4190278725.py:1: FutureWarning: In a future version, `df.iloc[:, i] = newvals` will attempt to set the values inplace instead of always setting a new array. To retain the old behavior, use either `df[df.columns[i]] = newvals` or, if columns are non-unique, `df.isetitem(i, newvals)`\n",
      "  data.loc[:,['终端品牌类型']]=OrdinalEncoder().fit_transform(data.loc[:,['终端品牌类型']])\n"
     ]
    }
   ],
   "source": [
    "data.loc[:,['终端品牌类型']]=OrdinalEncoder().fit_transform(data.loc[:,['终端品牌类型']])"
   ]
  },
  {
   "cell_type": "markdown",
   "id": "98ba248b",
   "metadata": {},
   "source": [
    "# 将列顺序调整与训练集一致"
   ]
  },
  {
   "cell_type": "code",
   "execution_count": 21,
   "id": "39c678e1",
   "metadata": {},
   "outputs": [
    {
     "data": {
      "text/plain": [
       "['是否遇到网络问题',\n",
       " '居民小区',\n",
       " '办公室',\n",
       " '高校',\n",
       " '商业街',\n",
       " '地铁',\n",
       " '农村',\n",
       " '高铁',\n",
       " '其他，请注明',\n",
       " '网络信号差/没有信号',\n",
       " '显示有信号上不了网',\n",
       " '上网过程中网络时断时续或时快时慢',\n",
       " '手机上网速度慢',\n",
       " '其他，请注明.1',\n",
       " '看视频卡顿',\n",
       " '打游戏延时大',\n",
       " '打开网页或APP图片慢',\n",
       " '下载速度慢',\n",
       " '手机支付较慢',\n",
       " '其他，请注明.2',\n",
       " '爱奇艺',\n",
       " '优酷',\n",
       " '腾讯视频',\n",
       " '芒果TV',\n",
       " '搜狐视频',\n",
       " '抖音',\n",
       " '快手',\n",
       " '火山',\n",
       " '咪咕视频',\n",
       " '其他，请注明.3',\n",
       " '全部都卡顿',\n",
       " '和平精英',\n",
       " '王者荣耀',\n",
       " '穿越火线',\n",
       " '梦幻西游',\n",
       " '龙之谷',\n",
       " '梦幻诛仙',\n",
       " '欢乐斗地主',\n",
       " '部落冲突',\n",
       " '炉石传说',\n",
       " '阴阳师',\n",
       " '其他，请注明.4',\n",
       " '全部游戏都卡顿',\n",
       " '微信',\n",
       " '手机QQ',\n",
       " '淘宝',\n",
       " '京东',\n",
       " '百度',\n",
       " '今日头条',\n",
       " '新浪微博',\n",
       " '拼多多',\n",
       " '全部网页或APP都慢',\n",
       " '脱网次数',\n",
       " '上网质差次数',\n",
       " '微信质差次数',\n",
       " '性别',\n",
       " '套外流量（MB）',\n",
       " '套外流量费（元）',\n",
       " '终端品牌',\n",
       " '终端品牌类型',\n",
       " '当月ARPU',\n",
       " '当月MOU',\n",
       " 'GPRS总流量（KB）',\n",
       " '是否5G网络客户',\n",
       " '客户星级标识',\n",
       " '是否不限量套餐到达用户']"
      ]
     },
     "execution_count": 21,
     "metadata": {},
     "output_type": "execute_result"
    }
   ],
   "source": [
    "data.columns.to_list()"
   ]
  },
  {
   "cell_type": "code",
   "execution_count": 22,
   "id": "a32e777a",
   "metadata": {},
   "outputs": [],
   "source": [
    "data=data.rename(columns={\"GPRS总流量（KB）\": \"当月GPRS资源使用量（GB）\"})"
   ]
  },
  {
   "cell_type": "code",
   "execution_count": 23,
   "id": "e80db2fa",
   "metadata": {},
   "outputs": [],
   "source": [
    "mid = data['是否遇到网络问题']  \n",
    "data.pop('是否遇到网络问题') \n",
    "data.insert(0, '是否遇到网络问题', mid) \n",
    "mid = data['脱网次数']  \n",
    "data.pop('脱网次数') \n",
    "data.insert(0, '脱网次数', mid) \n",
    "mid = data['是否不限量套餐到达用户']  \n",
    "data.pop('是否不限量套餐到达用户') \n",
    "data.insert(0, '是否不限量套餐到达用户', mid) \n",
    "mid = data['性别']  \n",
    "data.pop('性别') \n",
    "data.insert(0, '性别', mid) \n",
    "mid = data['是否5G网络客户']  \n",
    "data.pop('是否5G网络客户') \n",
    "data.insert(0, '是否5G网络客户', mid) \n",
    "mid = data['当月ARPU']  \n",
    "data.pop('当月ARPU') \n",
    "data.insert(0, '当月ARPU', mid) \n",
    "mid = data['当月GPRS资源使用量（GB）']  \n",
    "data.pop('当月GPRS资源使用量（GB）') \n",
    "data.insert(0, '当月GPRS资源使用量（GB）', mid) \n"
   ]
  },
  {
   "cell_type": "code",
   "execution_count": 24,
   "id": "b2bf5cbc",
   "metadata": {},
   "outputs": [
    {
     "data": {
      "text/html": [
       "<div>\n",
       "<style scoped>\n",
       "    .dataframe tbody tr th:only-of-type {\n",
       "        vertical-align: middle;\n",
       "    }\n",
       "\n",
       "    .dataframe tbody tr th {\n",
       "        vertical-align: top;\n",
       "    }\n",
       "\n",
       "    .dataframe thead th {\n",
       "        text-align: right;\n",
       "    }\n",
       "</style>\n",
       "<table border=\"1\" class=\"dataframe\">\n",
       "  <thead>\n",
       "    <tr style=\"text-align: right;\">\n",
       "      <th></th>\n",
       "      <th>当月GPRS资源使用量（GB）</th>\n",
       "      <th>当月ARPU</th>\n",
       "      <th>是否5G网络客户</th>\n",
       "      <th>性别</th>\n",
       "      <th>是否不限量套餐到达用户</th>\n",
       "      <th>脱网次数</th>\n",
       "      <th>是否遇到网络问题</th>\n",
       "      <th>居民小区</th>\n",
       "      <th>办公室</th>\n",
       "      <th>高校</th>\n",
       "      <th>...</th>\n",
       "      <th>拼多多</th>\n",
       "      <th>全部网页或APP都慢</th>\n",
       "      <th>上网质差次数</th>\n",
       "      <th>微信质差次数</th>\n",
       "      <th>套外流量（MB）</th>\n",
       "      <th>套外流量费（元）</th>\n",
       "      <th>终端品牌</th>\n",
       "      <th>终端品牌类型</th>\n",
       "      <th>当月MOU</th>\n",
       "      <th>客户星级标识</th>\n",
       "    </tr>\n",
       "  </thead>\n",
       "  <tbody>\n",
       "    <tr>\n",
       "      <th>0</th>\n",
       "      <td>4.088200</td>\n",
       "      <td>0.00</td>\n",
       "      <td>1.0</td>\n",
       "      <td>2.0</td>\n",
       "      <td>0.0</td>\n",
       "      <td>8</td>\n",
       "      <td>2</td>\n",
       "      <td>0.0</td>\n",
       "      <td>0.0</td>\n",
       "      <td>0.0</td>\n",
       "      <td>...</td>\n",
       "      <td>0.0</td>\n",
       "      <td>0.0</td>\n",
       "      <td>0</td>\n",
       "      <td>0</td>\n",
       "      <td>0.00</td>\n",
       "      <td>0.0</td>\n",
       "      <td>11.0</td>\n",
       "      <td>166.0</td>\n",
       "      <td>2</td>\n",
       "      <td>2.0</td>\n",
       "    </tr>\n",
       "    <tr>\n",
       "      <th>1</th>\n",
       "      <td>4.643740</td>\n",
       "      <td>0.00</td>\n",
       "      <td>1.0</td>\n",
       "      <td>0.0</td>\n",
       "      <td>0.0</td>\n",
       "      <td>43</td>\n",
       "      <td>1</td>\n",
       "      <td>0.0</td>\n",
       "      <td>0.0</td>\n",
       "      <td>0.0</td>\n",
       "      <td>...</td>\n",
       "      <td>0.0</td>\n",
       "      <td>0.0</td>\n",
       "      <td>0</td>\n",
       "      <td>0</td>\n",
       "      <td>0.00</td>\n",
       "      <td>0.0</td>\n",
       "      <td>11.0</td>\n",
       "      <td>163.0</td>\n",
       "      <td>6</td>\n",
       "      <td>1.0</td>\n",
       "    </tr>\n",
       "    <tr>\n",
       "      <th>2</th>\n",
       "      <td>41.511201</td>\n",
       "      <td>0.00</td>\n",
       "      <td>1.0</td>\n",
       "      <td>1.0</td>\n",
       "      <td>0.0</td>\n",
       "      <td>1</td>\n",
       "      <td>1</td>\n",
       "      <td>0.0</td>\n",
       "      <td>1.0</td>\n",
       "      <td>0.0</td>\n",
       "      <td>...</td>\n",
       "      <td>0.0</td>\n",
       "      <td>0.0</td>\n",
       "      <td>0</td>\n",
       "      <td>0</td>\n",
       "      <td>0.00</td>\n",
       "      <td>0.0</td>\n",
       "      <td>9.0</td>\n",
       "      <td>77.0</td>\n",
       "      <td>232</td>\n",
       "      <td>2.0</td>\n",
       "    </tr>\n",
       "    <tr>\n",
       "      <th>3</th>\n",
       "      <td>10.175967</td>\n",
       "      <td>0.00</td>\n",
       "      <td>1.0</td>\n",
       "      <td>0.0</td>\n",
       "      <td>0.0</td>\n",
       "      <td>6</td>\n",
       "      <td>2</td>\n",
       "      <td>0.0</td>\n",
       "      <td>0.0</td>\n",
       "      <td>0.0</td>\n",
       "      <td>...</td>\n",
       "      <td>0.0</td>\n",
       "      <td>0.0</td>\n",
       "      <td>0</td>\n",
       "      <td>0</td>\n",
       "      <td>0.00</td>\n",
       "      <td>0.0</td>\n",
       "      <td>15.0</td>\n",
       "      <td>345.0</td>\n",
       "      <td>2</td>\n",
       "      <td>2.0</td>\n",
       "    </tr>\n",
       "    <tr>\n",
       "      <th>4</th>\n",
       "      <td>10.007606</td>\n",
       "      <td>0.00</td>\n",
       "      <td>1.0</td>\n",
       "      <td>0.0</td>\n",
       "      <td>0.0</td>\n",
       "      <td>27</td>\n",
       "      <td>1</td>\n",
       "      <td>1.0</td>\n",
       "      <td>0.0</td>\n",
       "      <td>0.0</td>\n",
       "      <td>...</td>\n",
       "      <td>0.0</td>\n",
       "      <td>0.0</td>\n",
       "      <td>0</td>\n",
       "      <td>0</td>\n",
       "      <td>0.00</td>\n",
       "      <td>0.0</td>\n",
       "      <td>19.0</td>\n",
       "      <td>34.0</td>\n",
       "      <td>195</td>\n",
       "      <td>2.0</td>\n",
       "    </tr>\n",
       "    <tr>\n",
       "      <th>...</th>\n",
       "      <td>...</td>\n",
       "      <td>...</td>\n",
       "      <td>...</td>\n",
       "      <td>...</td>\n",
       "      <td>...</td>\n",
       "      <td>...</td>\n",
       "      <td>...</td>\n",
       "      <td>...</td>\n",
       "      <td>...</td>\n",
       "      <td>...</td>\n",
       "      <td>...</td>\n",
       "      <td>...</td>\n",
       "      <td>...</td>\n",
       "      <td>...</td>\n",
       "      <td>...</td>\n",
       "      <td>...</td>\n",
       "      <td>...</td>\n",
       "      <td>...</td>\n",
       "      <td>...</td>\n",
       "      <td>...</td>\n",
       "      <td>...</td>\n",
       "    </tr>\n",
       "    <tr>\n",
       "      <th>1605</th>\n",
       "      <td>18.622879</td>\n",
       "      <td>398.00</td>\n",
       "      <td>1.0</td>\n",
       "      <td>2.0</td>\n",
       "      <td>1.0</td>\n",
       "      <td>25</td>\n",
       "      <td>1</td>\n",
       "      <td>0.0</td>\n",
       "      <td>0.0</td>\n",
       "      <td>0.0</td>\n",
       "      <td>...</td>\n",
       "      <td>0.0</td>\n",
       "      <td>0.0</td>\n",
       "      <td>0</td>\n",
       "      <td>0</td>\n",
       "      <td>0.00</td>\n",
       "      <td>0.0</td>\n",
       "      <td>19.0</td>\n",
       "      <td>31.0</td>\n",
       "      <td>659</td>\n",
       "      <td>5.0</td>\n",
       "    </tr>\n",
       "    <tr>\n",
       "      <th>1606</th>\n",
       "      <td>75.953737</td>\n",
       "      <td>401.00</td>\n",
       "      <td>0.0</td>\n",
       "      <td>0.0</td>\n",
       "      <td>0.0</td>\n",
       "      <td>0</td>\n",
       "      <td>2</td>\n",
       "      <td>0.0</td>\n",
       "      <td>0.0</td>\n",
       "      <td>0.0</td>\n",
       "      <td>...</td>\n",
       "      <td>0.0</td>\n",
       "      <td>0.0</td>\n",
       "      <td>0</td>\n",
       "      <td>4</td>\n",
       "      <td>0.00</td>\n",
       "      <td>0.0</td>\n",
       "      <td>19.0</td>\n",
       "      <td>31.0</td>\n",
       "      <td>541</td>\n",
       "      <td>5.0</td>\n",
       "    </tr>\n",
       "    <tr>\n",
       "      <th>1607</th>\n",
       "      <td>21.469758</td>\n",
       "      <td>439.05</td>\n",
       "      <td>1.0</td>\n",
       "      <td>2.0</td>\n",
       "      <td>0.0</td>\n",
       "      <td>0</td>\n",
       "      <td>1</td>\n",
       "      <td>1.0</td>\n",
       "      <td>0.0</td>\n",
       "      <td>0.0</td>\n",
       "      <td>...</td>\n",
       "      <td>0.0</td>\n",
       "      <td>0.0</td>\n",
       "      <td>0</td>\n",
       "      <td>0</td>\n",
       "      <td>0.00</td>\n",
       "      <td>0.0</td>\n",
       "      <td>9.0</td>\n",
       "      <td>82.0</td>\n",
       "      <td>2795</td>\n",
       "      <td>7.0</td>\n",
       "    </tr>\n",
       "    <tr>\n",
       "      <th>1608</th>\n",
       "      <td>21.047168</td>\n",
       "      <td>492.00</td>\n",
       "      <td>1.0</td>\n",
       "      <td>2.0</td>\n",
       "      <td>0.0</td>\n",
       "      <td>0</td>\n",
       "      <td>1</td>\n",
       "      <td>0.0</td>\n",
       "      <td>0.0</td>\n",
       "      <td>0.0</td>\n",
       "      <td>...</td>\n",
       "      <td>0.0</td>\n",
       "      <td>0.0</td>\n",
       "      <td>0</td>\n",
       "      <td>0</td>\n",
       "      <td>0.00</td>\n",
       "      <td>0.0</td>\n",
       "      <td>19.0</td>\n",
       "      <td>34.0</td>\n",
       "      <td>2</td>\n",
       "      <td>4.0</td>\n",
       "    </tr>\n",
       "    <tr>\n",
       "      <th>1609</th>\n",
       "      <td>176.438033</td>\n",
       "      <td>545.90</td>\n",
       "      <td>1.0</td>\n",
       "      <td>0.0</td>\n",
       "      <td>0.0</td>\n",
       "      <td>1</td>\n",
       "      <td>1</td>\n",
       "      <td>1.0</td>\n",
       "      <td>1.0</td>\n",
       "      <td>0.0</td>\n",
       "      <td>...</td>\n",
       "      <td>0.0</td>\n",
       "      <td>0.0</td>\n",
       "      <td>0</td>\n",
       "      <td>0</td>\n",
       "      <td>46444.05</td>\n",
       "      <td>312.0</td>\n",
       "      <td>9.0</td>\n",
       "      <td>64.0</td>\n",
       "      <td>203</td>\n",
       "      <td>7.0</td>\n",
       "    </tr>\n",
       "  </tbody>\n",
       "</table>\n",
       "<p>1610 rows × 66 columns</p>\n",
       "</div>"
      ],
      "text/plain": [
       "      当月GPRS资源使用量（GB）  当月ARPU  是否5G网络客户   性别  是否不限量套餐到达用户  脱网次数  是否遇到网络问题  \\\n",
       "0            4.088200    0.00       1.0  2.0          0.0     8         2   \n",
       "1            4.643740    0.00       1.0  0.0          0.0    43         1   \n",
       "2           41.511201    0.00       1.0  1.0          0.0     1         1   \n",
       "3           10.175967    0.00       1.0  0.0          0.0     6         2   \n",
       "4           10.007606    0.00       1.0  0.0          0.0    27         1   \n",
       "...               ...     ...       ...  ...          ...   ...       ...   \n",
       "1605        18.622879  398.00       1.0  2.0          1.0    25         1   \n",
       "1606        75.953737  401.00       0.0  0.0          0.0     0         2   \n",
       "1607        21.469758  439.05       1.0  2.0          0.0     0         1   \n",
       "1608        21.047168  492.00       1.0  2.0          0.0     0         1   \n",
       "1609       176.438033  545.90       1.0  0.0          0.0     1         1   \n",
       "\n",
       "      居民小区  办公室   高校  ...  拼多多  全部网页或APP都慢  上网质差次数  微信质差次数  套外流量（MB）  \\\n",
       "0      0.0  0.0  0.0  ...  0.0         0.0       0       0      0.00   \n",
       "1      0.0  0.0  0.0  ...  0.0         0.0       0       0      0.00   \n",
       "2      0.0  1.0  0.0  ...  0.0         0.0       0       0      0.00   \n",
       "3      0.0  0.0  0.0  ...  0.0         0.0       0       0      0.00   \n",
       "4      1.0  0.0  0.0  ...  0.0         0.0       0       0      0.00   \n",
       "...    ...  ...  ...  ...  ...         ...     ...     ...       ...   \n",
       "1605   0.0  0.0  0.0  ...  0.0         0.0       0       0      0.00   \n",
       "1606   0.0  0.0  0.0  ...  0.0         0.0       0       4      0.00   \n",
       "1607   1.0  0.0  0.0  ...  0.0         0.0       0       0      0.00   \n",
       "1608   0.0  0.0  0.0  ...  0.0         0.0       0       0      0.00   \n",
       "1609   1.0  1.0  0.0  ...  0.0         0.0       0       0  46444.05   \n",
       "\n",
       "      套外流量费（元）  终端品牌  终端品牌类型  当月MOU  客户星级标识  \n",
       "0          0.0  11.0   166.0      2     2.0  \n",
       "1          0.0  11.0   163.0      6     1.0  \n",
       "2          0.0   9.0    77.0    232     2.0  \n",
       "3          0.0  15.0   345.0      2     2.0  \n",
       "4          0.0  19.0    34.0    195     2.0  \n",
       "...        ...   ...     ...    ...     ...  \n",
       "1605       0.0  19.0    31.0    659     5.0  \n",
       "1606       0.0  19.0    31.0    541     5.0  \n",
       "1607       0.0   9.0    82.0   2795     7.0  \n",
       "1608       0.0  19.0    34.0      2     4.0  \n",
       "1609     312.0   9.0    64.0    203     7.0  \n",
       "\n",
       "[1610 rows x 66 columns]"
      ]
     },
     "execution_count": 24,
     "metadata": {},
     "output_type": "execute_result"
    }
   ],
   "source": [
    "data"
   ]
  },
  {
   "cell_type": "code",
   "execution_count": 25,
   "id": "97c05073",
   "metadata": {},
   "outputs": [],
   "source": [
    "data.to_excel('predict2.xlsx', sheet_name='Sheet1', index=False)"
   ]
  },
  {
   "cell_type": "code",
   "execution_count": null,
   "id": "607aa937",
   "metadata": {},
   "outputs": [],
   "source": []
  }
 ],
 "metadata": {
  "kernelspec": {
   "display_name": "Python 3 (ipykernel)",
   "language": "python",
   "name": "python3"
  },
  "language_info": {
   "codemirror_mode": {
    "name": "ipython",
    "version": 3
   },
   "file_extension": ".py",
   "mimetype": "text/x-python",
   "name": "python",
   "nbconvert_exporter": "python",
   "pygments_lexer": "ipython3",
   "version": "3.10.7"
  }
 },
 "nbformat": 4,
 "nbformat_minor": 5
}
