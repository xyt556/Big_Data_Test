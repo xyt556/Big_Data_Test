{
 "cells": [
  {
   "cell_type": "code",
   "execution_count": 1,
   "id": "0edc1f24",
   "metadata": {
    "scrolled": true
   },
   "outputs": [
    {
     "name": "stdout",
     "output_type": "stream",
     "text": [
      "用户id                    0\n",
      "是否遇到过网络问题               0\n",
      "居民小区                    0\n",
      "办公室                     0\n",
      "高校                      0\n",
      "商业街                     0\n",
      "地铁                      0\n",
      "农村                      0\n",
      "高铁                      0\n",
      "其他，请注明                  0\n",
      "用户描述                 2490\n",
      "手机没有信号                  0\n",
      "有信号无法拨通                 0\n",
      "通话过程中突然中断               0\n",
      "通话中有杂音、听不清、断断续续         0\n",
      "串线                      0\n",
      "通话过程中一方听不见              0\n",
      "其他，请注明.1                0\n",
      "用户描述.1               2558\n",
      "脱网次数                    0\n",
      "mos质差次数                 0\n",
      "未接通掉话次数                 0\n",
      "是否投诉                    0\n",
      "性别                      0\n",
      "4\\5G用户                  0\n",
      "是否关怀用户                  0\n",
      "套外流量（MB）                0\n",
      "是否4G网络客户（本地剔除物联网）       0\n",
      "套外流量费（元）                0\n",
      "外省语音占比                  0\n",
      "语音通话-时长（分钟）             0\n",
      "省际漫游-时长（分钟）             0\n",
      "终端品牌                    0\n",
      "终端品牌类型                  0\n",
      "当月ARPU                  0\n",
      "当月MOU                   0\n",
      "前3月ARPU                 0\n",
      "前3月MOU                  0\n",
      "外省流量占比                  0\n",
      "GPRS总流量（KB）             0\n",
      "GPRS-国内漫游-流量（KB）        0\n",
      "是否5G网络客户                0\n",
      "客户星级标识                  0\n",
      "是否不限量套餐到达用户             0\n",
      "dtype: int64\n",
      "0\n",
      "(2599, 44)\n",
      "['用户id', '是否遇到过网络问题', '居民小区', '办公室', '高校', '商业街', '地铁', '农村', '高铁', '其他，请注明', '用户描述', '手机没有信号', '有信号无法拨通', '通话过程中突然中断', '通话中有杂音、听不清、断断续续', '串线', '通话过程中一方听不见', '其他，请注明.1', '用户描述.1', '脱网次数', 'mos质差次数', '未接通掉话次数', '是否投诉', '性别', '4\\\\5G用户', '是否关怀用户', '套外流量（MB）', '是否4G网络客户（本地剔除物联网）', '套外流量费（元）', '外省语音占比', '语音通话-时长（分钟）', '省际漫游-时长（分钟）', '终端品牌', '终端品牌类型', '当月ARPU', '当月MOU', '前3月ARPU', '前3月MOU', '外省流量占比', 'GPRS总流量（KB）', 'GPRS-国内漫游-流量（KB）', '是否5G网络客户', '客户星级标识', '是否不限量套餐到达用户']\n"
     ]
    }
   ],
   "source": [
    "import numpy as np\n",
    "import pandas as pd\n",
    "import matplotlib.pyplot as plt\n",
    "import scipy.interpolate as interpolate\n",
    "io = r'C:\\Users\\白小帅\\Desktop\\初赛赛题 2022年MathorCup大数据竞赛\\初赛赛题 2022年MathorCup大数据竞赛\\2022年MathorCup大数据竞赛-赛道B初赛\\附件3语音业务用户满意度预测数据.xlsx'\n",
    "\n",
    "data = pd.read_excel(io,header = [0],sheet_name = 'Sheet1')\n",
    "data.head()\n",
    "print(data.isnull().sum())\n",
    "print(data.duplicated().sum())\n",
    "print(data.shape)\n",
    "print([column for column in data])"
   ]
  },
  {
   "cell_type": "markdown",
   "id": "86d6e87e",
   "metadata": {},
   "source": [
    "a=data.isnull().sum()\n",
    "a = pd.DataFrame(a)\n",
    "a.to_excel('附件一预测集空值.xlsx', sheet_name='Sheet1',header=None)"
   ]
  },
  {
   "cell_type": "markdown",
   "id": "502bdf2d",
   "metadata": {},
   "source": [
    "data=data.dropna(axis=0,subset = ['终端品牌','终端品牌类型','是否4G网络客户（本地剔除物联网）','外省流量占比',\"是否5G网络客户\",\"是否实名登记用户\",'客户星级标识','当月欠费金额','前第3个月欠费金额']) \n",
    "data.shape\n",
    "\n"
   ]
  },
  {
   "cell_type": "markdown",
   "id": "28cdc888",
   "metadata": {},
   "source": [
    "# 将是否转化为10"
   ]
  },
  {
   "cell_type": "code",
   "execution_count": 2,
   "id": "c54c085a",
   "metadata": {},
   "outputs": [],
   "source": [
    "from sklearn.preprocessing import LabelEncoder\n",
    "y= data.iloc[:,-4]"
   ]
  },
  {
   "cell_type": "code",
   "execution_count": 3,
   "id": "6d3c07c4",
   "metadata": {},
   "outputs": [],
   "source": [
    "le=LabelEncoder()\n",
    "le=le.fit(y)\n",
    "label=le.transform(y)"
   ]
  },
  {
   "cell_type": "code",
   "execution_count": 4,
   "id": "58bffa11",
   "metadata": {},
   "outputs": [
    {
     "data": {
      "text/plain": [
       "array([  0,   0,   0, ...,   0, 151, 176], dtype=int64)"
      ]
     },
     "execution_count": 4,
     "metadata": {},
     "output_type": "execute_result"
    }
   ],
   "source": [
    "label"
   ]
  },
  {
   "cell_type": "markdown",
   "id": "ae7594ad",
   "metadata": {},
   "source": [
    "le.classes_"
   ]
  },
  {
   "cell_type": "code",
   "execution_count": 5,
   "id": "f553bb03",
   "metadata": {
    "scrolled": true
   },
   "outputs": [],
   "source": [
    "data.iloc[:,-4]=label"
   ]
  },
  {
   "cell_type": "code",
   "execution_count": 6,
   "id": "a40fab51",
   "metadata": {},
   "outputs": [
    {
     "name": "stdout",
     "output_type": "stream",
     "text": [
      "用户id                    0\n",
      "是否遇到过网络问题               0\n",
      "居民小区                    0\n",
      "办公室                     0\n",
      "高校                      0\n",
      "商业街                     0\n",
      "地铁                      0\n",
      "农村                      0\n",
      "高铁                      0\n",
      "其他，请注明                  0\n",
      "用户描述                 2490\n",
      "手机没有信号                  0\n",
      "有信号无法拨通                 0\n",
      "通话过程中突然中断               0\n",
      "通话中有杂音、听不清、断断续续         0\n",
      "串线                      0\n",
      "通话过程中一方听不见              0\n",
      "其他，请注明.1                0\n",
      "用户描述.1               2558\n",
      "脱网次数                    0\n",
      "mos质差次数                 0\n",
      "未接通掉话次数                 0\n",
      "是否投诉                    0\n",
      "性别                      0\n",
      "4\\5G用户                  0\n",
      "是否关怀用户                  0\n",
      "套外流量（MB）                0\n",
      "是否4G网络客户（本地剔除物联网）       0\n",
      "套外流量费（元）                0\n",
      "外省语音占比                  0\n",
      "语音通话-时长（分钟）             0\n",
      "省际漫游-时长（分钟）             0\n",
      "终端品牌                    0\n",
      "终端品牌类型                  0\n",
      "当月ARPU                  0\n",
      "当月MOU                   0\n",
      "前3月ARPU                 0\n",
      "前3月MOU                  0\n",
      "外省流量占比                  0\n",
      "GPRS总流量（KB）             0\n",
      "GPRS-国内漫游-流量（KB）        0\n",
      "是否5G网络客户                0\n",
      "客户星级标识                  0\n",
      "是否不限量套餐到达用户             0\n",
      "dtype: int64\n",
      "0\n"
     ]
    }
   ],
   "source": [
    "print(data.isnull().sum())\n",
    "print(data.duplicated().sum())"
   ]
  },
  {
   "cell_type": "code",
   "execution_count": 7,
   "id": "5c16b2e4",
   "metadata": {},
   "outputs": [
    {
     "data": {
      "text/plain": [
       "(2599, 44)"
      ]
     },
     "execution_count": 7,
     "metadata": {},
     "output_type": "execute_result"
    }
   ],
   "source": [
    "data.shape"
   ]
  },
  {
   "cell_type": "markdown",
   "id": "0b1b9d20",
   "metadata": {},
   "source": [
    "# 空值用零填充"
   ]
  },
  {
   "cell_type": "code",
   "execution_count": 8,
   "id": "181a04f2",
   "metadata": {
    "scrolled": true
   },
   "outputs": [],
   "source": [
    "data.loc[:,('是否关怀用户')]=data.loc[:,('是否关怀用户')].fillna(0)"
   ]
  },
  {
   "cell_type": "code",
   "execution_count": 9,
   "id": "b806cf46",
   "metadata": {},
   "outputs": [
    {
     "name": "stdout",
     "output_type": "stream",
     "text": [
      "用户id                    0\n",
      "是否遇到过网络问题               0\n",
      "居民小区                    0\n",
      "办公室                     0\n",
      "高校                      0\n",
      "商业街                     0\n",
      "地铁                      0\n",
      "农村                      0\n",
      "高铁                      0\n",
      "其他，请注明                  0\n",
      "用户描述                 2490\n",
      "手机没有信号                  0\n",
      "有信号无法拨通                 0\n",
      "通话过程中突然中断               0\n",
      "通话中有杂音、听不清、断断续续         0\n",
      "串线                      0\n",
      "通话过程中一方听不见              0\n",
      "其他，请注明.1                0\n",
      "用户描述.1               2558\n",
      "脱网次数                    0\n",
      "mos质差次数                 0\n",
      "未接通掉话次数                 0\n",
      "是否投诉                    0\n",
      "性别                      0\n",
      "4\\5G用户                  0\n",
      "是否关怀用户                  0\n",
      "套外流量（MB）                0\n",
      "是否4G网络客户（本地剔除物联网）       0\n",
      "套外流量费（元）                0\n",
      "外省语音占比                  0\n",
      "语音通话-时长（分钟）             0\n",
      "省际漫游-时长（分钟）             0\n",
      "终端品牌                    0\n",
      "终端品牌类型                  0\n",
      "当月ARPU                  0\n",
      "当月MOU                   0\n",
      "前3月ARPU                 0\n",
      "前3月MOU                  0\n",
      "外省流量占比                  0\n",
      "GPRS总流量（KB）             0\n",
      "GPRS-国内漫游-流量（KB）        0\n",
      "是否5G网络客户                0\n",
      "客户星级标识                  0\n",
      "是否不限量套餐到达用户             0\n",
      "dtype: int64\n",
      "0\n",
      "(2599, 44)\n"
     ]
    }
   ],
   "source": [
    "print(data.isnull().sum())\n",
    "print(data.duplicated().sum())\n",
    "print(data.shape)"
   ]
  },
  {
   "cell_type": "markdown",
   "id": "22c9d0ce",
   "metadata": {},
   "source": [
    "# 将是改为1"
   ]
  },
  {
   "cell_type": "markdown",
   "id": "e74e9a52",
   "metadata": {},
   "source": [
    "d=data.loc[:,\"是否去过营业厅\"]"
   ]
  },
  {
   "cell_type": "markdown",
   "id": "048549c8",
   "metadata": {},
   "source": [
    "for i in range(5426):\n",
    "    if d.iloc[i]=='是':\n",
    "        d.iloc[i]=1"
   ]
  },
  {
   "cell_type": "code",
   "execution_count": 10,
   "id": "f9614b23",
   "metadata": {},
   "outputs": [
    {
     "data": {
      "text/plain": [
       "(2599, 44)"
      ]
     },
     "execution_count": 10,
     "metadata": {},
     "output_type": "execute_result"
    }
   ],
   "source": [
    "data.shape"
   ]
  },
  {
   "cell_type": "code",
   "execution_count": 11,
   "id": "039ec229",
   "metadata": {},
   "outputs": [],
   "source": [
    "d=data.loc[:,\"是否关怀用户\"]"
   ]
  },
  {
   "cell_type": "code",
   "execution_count": 12,
   "id": "1bc0c4c4",
   "metadata": {},
   "outputs": [
    {
     "name": "stderr",
     "output_type": "stream",
     "text": [
      "C:\\Users\\白小帅\\AppData\\Local\\Temp\\ipykernel_1052\\1513610944.py:3: SettingWithCopyWarning: \n",
      "A value is trying to be set on a copy of a slice from a DataFrame\n",
      "\n",
      "See the caveats in the documentation: https://pandas.pydata.org/pandas-docs/stable/user_guide/indexing.html#returning-a-view-versus-a-copy\n",
      "  d.iloc[i]=1\n"
     ]
    }
   ],
   "source": [
    "for i in range(2599):\n",
    "    if d.iloc[i]=='是':\n",
    "        d.iloc[i]=1"
   ]
  },
  {
   "cell_type": "markdown",
   "id": "a384f9d9",
   "metadata": {},
   "source": [
    "d=data.loc[:,\"是否去过营业厅\"]\n",
    "la=LabelEncoder()\n",
    "la=le.fit(d)\n",
    "label=la.transform(d)\n",
    "d.classes_"
   ]
  },
  {
   "cell_type": "code",
   "execution_count": 13,
   "id": "3df83d65",
   "metadata": {},
   "outputs": [
    {
     "name": "stdout",
     "output_type": "stream",
     "text": [
      "用户id                    0\n",
      "是否遇到过网络问题               0\n",
      "居民小区                    0\n",
      "办公室                     0\n",
      "高校                      0\n",
      "商业街                     0\n",
      "地铁                      0\n",
      "农村                      0\n",
      "高铁                      0\n",
      "其他，请注明                  0\n",
      "用户描述                 2490\n",
      "手机没有信号                  0\n",
      "有信号无法拨通                 0\n",
      "通话过程中突然中断               0\n",
      "通话中有杂音、听不清、断断续续         0\n",
      "串线                      0\n",
      "通话过程中一方听不见              0\n",
      "其他，请注明.1                0\n",
      "用户描述.1               2558\n",
      "脱网次数                    0\n",
      "mos质差次数                 0\n",
      "未接通掉话次数                 0\n",
      "是否投诉                    0\n",
      "性别                      0\n",
      "4\\5G用户                  0\n",
      "是否关怀用户                  0\n",
      "套外流量（MB）                0\n",
      "是否4G网络客户（本地剔除物联网）       0\n",
      "套外流量费（元）                0\n",
      "外省语音占比                  0\n",
      "语音通话-时长（分钟）             0\n",
      "省际漫游-时长（分钟）             0\n",
      "终端品牌                    0\n",
      "终端品牌类型                  0\n",
      "当月ARPU                  0\n",
      "当月MOU                   0\n",
      "前3月ARPU                 0\n",
      "前3月MOU                  0\n",
      "外省流量占比                  0\n",
      "GPRS总流量（KB）             0\n",
      "GPRS-国内漫游-流量（KB）        0\n",
      "是否5G网络客户                0\n",
      "客户星级标识                  0\n",
      "是否不限量套餐到达用户             0\n",
      "dtype: int64\n",
      "0\n",
      "(2599, 44)\n"
     ]
    }
   ],
   "source": [
    "print(data.isnull().sum())\n",
    "print(data.duplicated().sum())\n",
    "print(data.shape)"
   ]
  },
  {
   "cell_type": "markdown",
   "id": "4c4c4b5b",
   "metadata": {},
   "source": [
    "# 删除大量缺失数据"
   ]
  },
  {
   "cell_type": "code",
   "execution_count": 14,
   "id": "e5bb2131",
   "metadata": {},
   "outputs": [],
   "source": [
    "data=data.drop(['其他，请注明.1', '其他，请注明','用户描述','用户描述.1'], axis=1)"
   ]
  },
  {
   "cell_type": "code",
   "execution_count": 15,
   "id": "83e07e56",
   "metadata": {},
   "outputs": [
    {
     "name": "stdout",
     "output_type": "stream",
     "text": [
      "用户id                 0\n",
      "是否遇到过网络问题            0\n",
      "居民小区                 0\n",
      "办公室                  0\n",
      "高校                   0\n",
      "商业街                  0\n",
      "地铁                   0\n",
      "农村                   0\n",
      "高铁                   0\n",
      "手机没有信号               0\n",
      "有信号无法拨通              0\n",
      "通话过程中突然中断            0\n",
      "通话中有杂音、听不清、断断续续      0\n",
      "串线                   0\n",
      "通话过程中一方听不见           0\n",
      "脱网次数                 0\n",
      "mos质差次数              0\n",
      "未接通掉话次数              0\n",
      "是否投诉                 0\n",
      "性别                   0\n",
      "4\\5G用户               0\n",
      "是否关怀用户               0\n",
      "套外流量（MB）             0\n",
      "是否4G网络客户（本地剔除物联网）    0\n",
      "套外流量费（元）             0\n",
      "外省语音占比               0\n",
      "语音通话-时长（分钟）          0\n",
      "省际漫游-时长（分钟）          0\n",
      "终端品牌                 0\n",
      "终端品牌类型               0\n",
      "当月ARPU               0\n",
      "当月MOU                0\n",
      "前3月ARPU              0\n",
      "前3月MOU               0\n",
      "外省流量占比               0\n",
      "GPRS总流量（KB）          0\n",
      "GPRS-国内漫游-流量（KB）     0\n",
      "是否5G网络客户             0\n",
      "客户星级标识               0\n",
      "是否不限量套餐到达用户          0\n",
      "dtype: int64\n",
      "0\n",
      "(2599, 40)\n"
     ]
    }
   ],
   "source": [
    "print(data.isnull().sum())\n",
    "print(data.duplicated().sum())\n",
    "print(data.shape)"
   ]
  },
  {
   "cell_type": "markdown",
   "id": "08a05297",
   "metadata": {},
   "source": [
    "# 是否转化为10"
   ]
  },
  {
   "cell_type": "code",
   "execution_count": 16,
   "id": "070ec0fb",
   "metadata": {},
   "outputs": [],
   "source": [
    "y= data.iloc[:,-5]\n",
    "le=LabelEncoder()\n",
    "le=le.fit(y)\n",
    "label=le.transform(y)\n"
   ]
  },
  {
   "cell_type": "code",
   "execution_count": 17,
   "id": "e5e16666",
   "metadata": {},
   "outputs": [],
   "source": [
    "data.iloc[:,-5]=label"
   ]
  },
  {
   "cell_type": "code",
   "execution_count": 18,
   "id": "1d42c009",
   "metadata": {},
   "outputs": [
    {
     "data": {
      "text/html": [
       "<div>\n",
       "<style scoped>\n",
       "    .dataframe tbody tr th:only-of-type {\n",
       "        vertical-align: middle;\n",
       "    }\n",
       "\n",
       "    .dataframe tbody tr th {\n",
       "        vertical-align: top;\n",
       "    }\n",
       "\n",
       "    .dataframe thead th {\n",
       "        text-align: right;\n",
       "    }\n",
       "</style>\n",
       "<table border=\"1\" class=\"dataframe\">\n",
       "  <thead>\n",
       "    <tr style=\"text-align: right;\">\n",
       "      <th></th>\n",
       "      <th>用户id</th>\n",
       "      <th>是否遇到过网络问题</th>\n",
       "      <th>居民小区</th>\n",
       "      <th>办公室</th>\n",
       "      <th>高校</th>\n",
       "      <th>商业街</th>\n",
       "      <th>地铁</th>\n",
       "      <th>农村</th>\n",
       "      <th>高铁</th>\n",
       "      <th>手机没有信号</th>\n",
       "      <th>...</th>\n",
       "      <th>当月ARPU</th>\n",
       "      <th>当月MOU</th>\n",
       "      <th>前3月ARPU</th>\n",
       "      <th>前3月MOU</th>\n",
       "      <th>外省流量占比</th>\n",
       "      <th>GPRS总流量（KB）</th>\n",
       "      <th>GPRS-国内漫游-流量（KB）</th>\n",
       "      <th>是否5G网络客户</th>\n",
       "      <th>客户星级标识</th>\n",
       "      <th>是否不限量套餐到达用户</th>\n",
       "    </tr>\n",
       "  </thead>\n",
       "  <tbody>\n",
       "    <tr>\n",
       "      <th>0</th>\n",
       "      <td>1</td>\n",
       "      <td>2</td>\n",
       "      <td>-1</td>\n",
       "      <td>-1</td>\n",
       "      <td>-1</td>\n",
       "      <td>-1</td>\n",
       "      <td>-1</td>\n",
       "      <td>-1</td>\n",
       "      <td>-1</td>\n",
       "      <td>-1</td>\n",
       "      <td>...</td>\n",
       "      <td>45.37</td>\n",
       "      <td>161</td>\n",
       "      <td>23.6</td>\n",
       "      <td>139</td>\n",
       "      <td>0.000000</td>\n",
       "      <td>1391</td>\n",
       "      <td>0</td>\n",
       "      <td>否</td>\n",
       "      <td>一星</td>\n",
       "      <td>否</td>\n",
       "    </tr>\n",
       "    <tr>\n",
       "      <th>1</th>\n",
       "      <td>2</td>\n",
       "      <td>1</td>\n",
       "      <td>1</td>\n",
       "      <td>2</td>\n",
       "      <td>-1</td>\n",
       "      <td>-1</td>\n",
       "      <td>-1</td>\n",
       "      <td>-1</td>\n",
       "      <td>-1</td>\n",
       "      <td>-1</td>\n",
       "      <td>...</td>\n",
       "      <td>60.00</td>\n",
       "      <td>270</td>\n",
       "      <td>60.0</td>\n",
       "      <td>102</td>\n",
       "      <td>0.000000</td>\n",
       "      <td>1030</td>\n",
       "      <td>0</td>\n",
       "      <td>否</td>\n",
       "      <td>三星</td>\n",
       "      <td>是</td>\n",
       "    </tr>\n",
       "    <tr>\n",
       "      <th>2</th>\n",
       "      <td>3</td>\n",
       "      <td>2</td>\n",
       "      <td>-1</td>\n",
       "      <td>-1</td>\n",
       "      <td>-1</td>\n",
       "      <td>-1</td>\n",
       "      <td>-1</td>\n",
       "      <td>-1</td>\n",
       "      <td>-1</td>\n",
       "      <td>-1</td>\n",
       "      <td>...</td>\n",
       "      <td>89.00</td>\n",
       "      <td>662</td>\n",
       "      <td>89.0</td>\n",
       "      <td>80</td>\n",
       "      <td>0.000000</td>\n",
       "      <td>767</td>\n",
       "      <td>0</td>\n",
       "      <td>否</td>\n",
       "      <td>三星</td>\n",
       "      <td>是</td>\n",
       "    </tr>\n",
       "    <tr>\n",
       "      <th>3</th>\n",
       "      <td>4</td>\n",
       "      <td>1</td>\n",
       "      <td>1</td>\n",
       "      <td>-1</td>\n",
       "      <td>-1</td>\n",
       "      <td>-1</td>\n",
       "      <td>-1</td>\n",
       "      <td>-1</td>\n",
       "      <td>-1</td>\n",
       "      <td>-1</td>\n",
       "      <td>...</td>\n",
       "      <td>70.00</td>\n",
       "      <td>645</td>\n",
       "      <td>69.1</td>\n",
       "      <td>333</td>\n",
       "      <td>0.000000</td>\n",
       "      <td>912</td>\n",
       "      <td>0</td>\n",
       "      <td>否</td>\n",
       "      <td>三星</td>\n",
       "      <td>否</td>\n",
       "    </tr>\n",
       "    <tr>\n",
       "      <th>4</th>\n",
       "      <td>5</td>\n",
       "      <td>1</td>\n",
       "      <td>1</td>\n",
       "      <td>-1</td>\n",
       "      <td>-1</td>\n",
       "      <td>-1</td>\n",
       "      <td>-1</td>\n",
       "      <td>-1</td>\n",
       "      <td>-1</td>\n",
       "      <td>-1</td>\n",
       "      <td>...</td>\n",
       "      <td>56.00</td>\n",
       "      <td>496</td>\n",
       "      <td>56.0</td>\n",
       "      <td>258</td>\n",
       "      <td>0.000000</td>\n",
       "      <td>1313</td>\n",
       "      <td>0</td>\n",
       "      <td>是</td>\n",
       "      <td>三星</td>\n",
       "      <td>是</td>\n",
       "    </tr>\n",
       "    <tr>\n",
       "      <th>...</th>\n",
       "      <td>...</td>\n",
       "      <td>...</td>\n",
       "      <td>...</td>\n",
       "      <td>...</td>\n",
       "      <td>...</td>\n",
       "      <td>...</td>\n",
       "      <td>...</td>\n",
       "      <td>...</td>\n",
       "      <td>...</td>\n",
       "      <td>...</td>\n",
       "      <td>...</td>\n",
       "      <td>...</td>\n",
       "      <td>...</td>\n",
       "      <td>...</td>\n",
       "      <td>...</td>\n",
       "      <td>...</td>\n",
       "      <td>...</td>\n",
       "      <td>...</td>\n",
       "      <td>...</td>\n",
       "      <td>...</td>\n",
       "      <td>...</td>\n",
       "    </tr>\n",
       "    <tr>\n",
       "      <th>2594</th>\n",
       "      <td>2595</td>\n",
       "      <td>1</td>\n",
       "      <td>-1</td>\n",
       "      <td>-1</td>\n",
       "      <td>-1</td>\n",
       "      <td>-1</td>\n",
       "      <td>-1</td>\n",
       "      <td>-1</td>\n",
       "      <td>7</td>\n",
       "      <td>1</td>\n",
       "      <td>...</td>\n",
       "      <td>47.00</td>\n",
       "      <td>110</td>\n",
       "      <td>197.0</td>\n",
       "      <td>42</td>\n",
       "      <td>0.000000</td>\n",
       "      <td>2105</td>\n",
       "      <td>0</td>\n",
       "      <td>否</td>\n",
       "      <td>三星</td>\n",
       "      <td>否</td>\n",
       "    </tr>\n",
       "    <tr>\n",
       "      <th>2595</th>\n",
       "      <td>2596</td>\n",
       "      <td>2</td>\n",
       "      <td>-1</td>\n",
       "      <td>-1</td>\n",
       "      <td>-1</td>\n",
       "      <td>-1</td>\n",
       "      <td>-1</td>\n",
       "      <td>-1</td>\n",
       "      <td>-1</td>\n",
       "      <td>-1</td>\n",
       "      <td>...</td>\n",
       "      <td>57.00</td>\n",
       "      <td>238</td>\n",
       "      <td>77.0</td>\n",
       "      <td>157</td>\n",
       "      <td>0.000000</td>\n",
       "      <td>562</td>\n",
       "      <td>0</td>\n",
       "      <td>否</td>\n",
       "      <td>三星</td>\n",
       "      <td>否</td>\n",
       "    </tr>\n",
       "    <tr>\n",
       "      <th>2596</th>\n",
       "      <td>2597</td>\n",
       "      <td>2</td>\n",
       "      <td>-1</td>\n",
       "      <td>-1</td>\n",
       "      <td>-1</td>\n",
       "      <td>-1</td>\n",
       "      <td>-1</td>\n",
       "      <td>-1</td>\n",
       "      <td>-1</td>\n",
       "      <td>-1</td>\n",
       "      <td>...</td>\n",
       "      <td>8.10</td>\n",
       "      <td>202</td>\n",
       "      <td>8.0</td>\n",
       "      <td>194</td>\n",
       "      <td>0.000000</td>\n",
       "      <td>1948</td>\n",
       "      <td>0</td>\n",
       "      <td>是</td>\n",
       "      <td>三星</td>\n",
       "      <td>否</td>\n",
       "    </tr>\n",
       "    <tr>\n",
       "      <th>2597</th>\n",
       "      <td>2598</td>\n",
       "      <td>1</td>\n",
       "      <td>-1</td>\n",
       "      <td>-1</td>\n",
       "      <td>-1</td>\n",
       "      <td>-1</td>\n",
       "      <td>-1</td>\n",
       "      <td>6</td>\n",
       "      <td>7</td>\n",
       "      <td>-1</td>\n",
       "      <td>...</td>\n",
       "      <td>58.20</td>\n",
       "      <td>148</td>\n",
       "      <td>58.3</td>\n",
       "      <td>66</td>\n",
       "      <td>0.061913</td>\n",
       "      <td>661</td>\n",
       "      <td>151</td>\n",
       "      <td>否</td>\n",
       "      <td>三星</td>\n",
       "      <td>否</td>\n",
       "    </tr>\n",
       "    <tr>\n",
       "      <th>2598</th>\n",
       "      <td>2599</td>\n",
       "      <td>2</td>\n",
       "      <td>-1</td>\n",
       "      <td>-1</td>\n",
       "      <td>-1</td>\n",
       "      <td>-1</td>\n",
       "      <td>-1</td>\n",
       "      <td>-1</td>\n",
       "      <td>-1</td>\n",
       "      <td>-1</td>\n",
       "      <td>...</td>\n",
       "      <td>134.80</td>\n",
       "      <td>623</td>\n",
       "      <td>135.0</td>\n",
       "      <td>1092</td>\n",
       "      <td>0.027956</td>\n",
       "      <td>2184</td>\n",
       "      <td>176</td>\n",
       "      <td>是</td>\n",
       "      <td>金卡</td>\n",
       "      <td>否</td>\n",
       "    </tr>\n",
       "  </tbody>\n",
       "</table>\n",
       "<p>2599 rows × 40 columns</p>\n",
       "</div>"
      ],
      "text/plain": [
       "      用户id  是否遇到过网络问题  居民小区  办公室  高校  商业街  地铁  农村  高铁  手机没有信号  ...  当月ARPU  \\\n",
       "0        1          2    -1   -1  -1   -1  -1  -1  -1      -1  ...   45.37   \n",
       "1        2          1     1    2  -1   -1  -1  -1  -1      -1  ...   60.00   \n",
       "2        3          2    -1   -1  -1   -1  -1  -1  -1      -1  ...   89.00   \n",
       "3        4          1     1   -1  -1   -1  -1  -1  -1      -1  ...   70.00   \n",
       "4        5          1     1   -1  -1   -1  -1  -1  -1      -1  ...   56.00   \n",
       "...    ...        ...   ...  ...  ..  ...  ..  ..  ..     ...  ...     ...   \n",
       "2594  2595          1    -1   -1  -1   -1  -1  -1   7       1  ...   47.00   \n",
       "2595  2596          2    -1   -1  -1   -1  -1  -1  -1      -1  ...   57.00   \n",
       "2596  2597          2    -1   -1  -1   -1  -1  -1  -1      -1  ...    8.10   \n",
       "2597  2598          1    -1   -1  -1   -1  -1   6   7      -1  ...   58.20   \n",
       "2598  2599          2    -1   -1  -1   -1  -1  -1  -1      -1  ...  134.80   \n",
       "\n",
       "      当月MOU  前3月ARPU  前3月MOU    外省流量占比  GPRS总流量（KB）  GPRS-国内漫游-流量（KB）  \\\n",
       "0       161     23.6     139  0.000000         1391                 0   \n",
       "1       270     60.0     102  0.000000         1030                 0   \n",
       "2       662     89.0      80  0.000000          767                 0   \n",
       "3       645     69.1     333  0.000000          912                 0   \n",
       "4       496     56.0     258  0.000000         1313                 0   \n",
       "...     ...      ...     ...       ...          ...               ...   \n",
       "2594    110    197.0      42  0.000000         2105                 0   \n",
       "2595    238     77.0     157  0.000000          562                 0   \n",
       "2596    202      8.0     194  0.000000         1948                 0   \n",
       "2597    148     58.3      66  0.061913          661               151   \n",
       "2598    623    135.0    1092  0.027956         2184               176   \n",
       "\n",
       "      是否5G网络客户 客户星级标识 是否不限量套餐到达用户  \n",
       "0            否     一星           否  \n",
       "1            否     三星           是  \n",
       "2            否     三星           是  \n",
       "3            否     三星           否  \n",
       "4            是     三星           是  \n",
       "...        ...    ...         ...  \n",
       "2594         否     三星           否  \n",
       "2595         否     三星           否  \n",
       "2596         是     三星           否  \n",
       "2597         否     三星           否  \n",
       "2598         是     金卡           否  \n",
       "\n",
       "[2599 rows x 40 columns]"
      ]
     },
     "execution_count": 18,
     "metadata": {},
     "output_type": "execute_result"
    }
   ],
   "source": [
    "data"
   ]
  },
  {
   "cell_type": "code",
   "execution_count": 19,
   "id": "22d68034",
   "metadata": {},
   "outputs": [
    {
     "name": "stderr",
     "output_type": "stream",
     "text": [
      "C:\\Users\\白小帅\\AppData\\Local\\Temp\\ipykernel_1052\\1950809977.py:1: FutureWarning: In a future version, `df.iloc[:, i] = newvals` will attempt to set the values inplace instead of always setting a new array. To retain the old behavior, use either `df[df.columns[i]] = newvals` or, if columns are non-unique, `df.isetitem(i, newvals)`\n",
      "  data.iloc[:,-19]=label\n"
     ]
    }
   ],
   "source": [
    "data.iloc[:,-19]=label"
   ]
  },
  {
   "cell_type": "markdown",
   "id": "7d33fc1f",
   "metadata": {},
   "source": [
    "将终端品牌中的0转化为字符"
   ]
  },
  {
   "cell_type": "code",
   "execution_count": 20,
   "id": "16ae0308",
   "metadata": {},
   "outputs": [
    {
     "name": "stderr",
     "output_type": "stream",
     "text": [
      "C:\\Users\\白小帅\\AppData\\Local\\Temp\\ipykernel_1052\\47724631.py:4: SettingWithCopyWarning: \n",
      "A value is trying to be set on a copy of a slice from a DataFrame\n",
      "\n",
      "See the caveats in the documentation: https://pandas.pydata.org/pandas-docs/stable/user_guide/indexing.html#returning-a-view-versus-a-copy\n",
      "  d.iloc[i]=str(d.iloc[i])\n"
     ]
    }
   ],
   "source": [
    "d=data.loc[:,'终端品牌']\n",
    "for i in range(2599):\n",
    "    if d.iloc[i]==0:\n",
    "        d.iloc[i]=str(d.iloc[i])"
   ]
  },
  {
   "cell_type": "code",
   "execution_count": 21,
   "id": "82b9f2e2",
   "metadata": {},
   "outputs": [
    {
     "name": "stderr",
     "output_type": "stream",
     "text": [
      "C:\\Users\\白小帅\\AppData\\Local\\Temp\\ipykernel_1052\\4031671284.py:3: SettingWithCopyWarning: \n",
      "A value is trying to be set on a copy of a slice from a DataFrame\n",
      "\n",
      "See the caveats in the documentation: https://pandas.pydata.org/pandas-docs/stable/user_guide/indexing.html#returning-a-view-versus-a-copy\n",
      "  d.iloc[i]=str(d.iloc[i])\n"
     ]
    }
   ],
   "source": [
    "d=data.loc[:,'终端品牌类型']\n",
    "for i in range(2599):\n",
    "    d.iloc[i]=str(d.iloc[i])"
   ]
  },
  {
   "cell_type": "markdown",
   "id": "2e36cfb9",
   "metadata": {},
   "source": [
    "独热变量处理"
   ]
  },
  {
   "cell_type": "markdown",
   "id": "8b33ced6",
   "metadata": {},
   "source": [
    "from sklearn.preprocessing import OneHotEncoder\n",
    "data1 = data.loc[:,['终端品牌','终端品牌类型','客户星级标识','4\\\\5G用户','语音方式']]\n",
    "                   "
   ]
  },
  {
   "cell_type": "markdown",
   "id": "e25c7d38",
   "metadata": {},
   "source": [
    "enc = OneHotEncoder(categories='auto').fit(data1)\n",
    "data1 = enc.transform(data1).toarray()\n",
    "data1.shape\n"
   ]
  },
  {
   "cell_type": "markdown",
   "id": "28641876",
   "metadata": {},
   "source": [
    "enc.inverse_transform(data1)"
   ]
  },
  {
   "cell_type": "markdown",
   "id": "05de457f",
   "metadata": {},
   "source": [
    "enc.get_feature_names()"
   ]
  },
  {
   "cell_type": "markdown",
   "id": "ef5d04b9",
   "metadata": {},
   "source": [
    "newdata= pd.concat([data,pd.DataFrame(data1)],axis=1)\n",
    "newdata.drop(['终端品牌','终端品牌类型','客户星级标识','4\\\\5G用户','语音方式'],axis=1,inplace=True)"
   ]
  },
  {
   "cell_type": "code",
   "execution_count": 22,
   "id": "b63046e4",
   "metadata": {},
   "outputs": [
    {
     "name": "stderr",
     "output_type": "stream",
     "text": [
      "C:\\Users\\白小帅\\AppData\\Local\\Temp\\ipykernel_1052\\3313439004.py:2: FutureWarning: In a future version, `df.iloc[:, i] = newvals` will attempt to set the values inplace instead of always setting a new array. To retain the old behavior, use either `df[df.columns[i]] = newvals` or, if columns are non-unique, `df.isetitem(i, newvals)`\n",
      "  data.loc[:,['终端品牌']]=OrdinalEncoder().fit_transform(data.loc[:,['终端品牌']])\n"
     ]
    },
    {
     "data": {
      "text/html": [
       "<div>\n",
       "<style scoped>\n",
       "    .dataframe tbody tr th:only-of-type {\n",
       "        vertical-align: middle;\n",
       "    }\n",
       "\n",
       "    .dataframe tbody tr th {\n",
       "        vertical-align: top;\n",
       "    }\n",
       "\n",
       "    .dataframe thead th {\n",
       "        text-align: right;\n",
       "    }\n",
       "</style>\n",
       "<table border=\"1\" class=\"dataframe\">\n",
       "  <thead>\n",
       "    <tr style=\"text-align: right;\">\n",
       "      <th></th>\n",
       "      <th>终端品牌</th>\n",
       "    </tr>\n",
       "  </thead>\n",
       "  <tbody>\n",
       "    <tr>\n",
       "      <th>0</th>\n",
       "      <td>9.0</td>\n",
       "    </tr>\n",
       "    <tr>\n",
       "      <th>1</th>\n",
       "      <td>9.0</td>\n",
       "    </tr>\n",
       "    <tr>\n",
       "      <th>2</th>\n",
       "      <td>18.0</td>\n",
       "    </tr>\n",
       "    <tr>\n",
       "      <th>3</th>\n",
       "      <td>18.0</td>\n",
       "    </tr>\n",
       "    <tr>\n",
       "      <th>4</th>\n",
       "      <td>9.0</td>\n",
       "    </tr>\n",
       "    <tr>\n",
       "      <th>...</th>\n",
       "      <td>...</td>\n",
       "    </tr>\n",
       "    <tr>\n",
       "      <th>2594</th>\n",
       "      <td>9.0</td>\n",
       "    </tr>\n",
       "    <tr>\n",
       "      <th>2595</th>\n",
       "      <td>18.0</td>\n",
       "    </tr>\n",
       "    <tr>\n",
       "      <th>2596</th>\n",
       "      <td>18.0</td>\n",
       "    </tr>\n",
       "    <tr>\n",
       "      <th>2597</th>\n",
       "      <td>9.0</td>\n",
       "    </tr>\n",
       "    <tr>\n",
       "      <th>2598</th>\n",
       "      <td>18.0</td>\n",
       "    </tr>\n",
       "  </tbody>\n",
       "</table>\n",
       "<p>2599 rows × 1 columns</p>\n",
       "</div>"
      ],
      "text/plain": [
       "      终端品牌\n",
       "0      9.0\n",
       "1      9.0\n",
       "2     18.0\n",
       "3     18.0\n",
       "4      9.0\n",
       "...    ...\n",
       "2594   9.0\n",
       "2595  18.0\n",
       "2596  18.0\n",
       "2597   9.0\n",
       "2598  18.0\n",
       "\n",
       "[2599 rows x 1 columns]"
      ]
     },
     "execution_count": 22,
     "metadata": {},
     "output_type": "execute_result"
    }
   ],
   "source": [
    "from sklearn.preprocessing import OrdinalEncoder\n",
    "data.loc[:,['终端品牌']]=OrdinalEncoder().fit_transform(data.loc[:,['终端品牌']])\n",
    "data.loc[:,['终端品牌']]"
   ]
  },
  {
   "cell_type": "code",
   "execution_count": 23,
   "id": "16dfd82e",
   "metadata": {},
   "outputs": [
    {
     "name": "stderr",
     "output_type": "stream",
     "text": [
      "C:\\Users\\白小帅\\AppData\\Local\\Temp\\ipykernel_1052\\2790138607.py:1: FutureWarning: In a future version, `df.iloc[:, i] = newvals` will attempt to set the values inplace instead of always setting a new array. To retain the old behavior, use either `df[df.columns[i]] = newvals` or, if columns are non-unique, `df.isetitem(i, newvals)`\n",
      "  data.loc[:,['终端品牌类型']]=OrdinalEncoder().fit_transform(data.loc[:,['终端品牌类型']])\n"
     ]
    },
    {
     "data": {
      "text/html": [
       "<div>\n",
       "<style scoped>\n",
       "    .dataframe tbody tr th:only-of-type {\n",
       "        vertical-align: middle;\n",
       "    }\n",
       "\n",
       "    .dataframe tbody tr th {\n",
       "        vertical-align: top;\n",
       "    }\n",
       "\n",
       "    .dataframe thead th {\n",
       "        text-align: right;\n",
       "    }\n",
       "</style>\n",
       "<table border=\"1\" class=\"dataframe\">\n",
       "  <thead>\n",
       "    <tr style=\"text-align: right;\">\n",
       "      <th></th>\n",
       "      <th>终端品牌类型</th>\n",
       "    </tr>\n",
       "  </thead>\n",
       "  <tbody>\n",
       "    <tr>\n",
       "      <th>0</th>\n",
       "      <td>62.0</td>\n",
       "    </tr>\n",
       "    <tr>\n",
       "      <th>1</th>\n",
       "      <td>176.0</td>\n",
       "    </tr>\n",
       "    <tr>\n",
       "      <th>2</th>\n",
       "      <td>31.0</td>\n",
       "    </tr>\n",
       "    <tr>\n",
       "      <th>3</th>\n",
       "      <td>17.0</td>\n",
       "    </tr>\n",
       "    <tr>\n",
       "      <th>4</th>\n",
       "      <td>246.0</td>\n",
       "    </tr>\n",
       "    <tr>\n",
       "      <th>...</th>\n",
       "      <td>...</td>\n",
       "    </tr>\n",
       "    <tr>\n",
       "      <th>2594</th>\n",
       "      <td>103.0</td>\n",
       "    </tr>\n",
       "    <tr>\n",
       "      <th>2595</th>\n",
       "      <td>450.0</td>\n",
       "    </tr>\n",
       "    <tr>\n",
       "      <th>2596</th>\n",
       "      <td>36.0</td>\n",
       "    </tr>\n",
       "    <tr>\n",
       "      <th>2597</th>\n",
       "      <td>157.0</td>\n",
       "    </tr>\n",
       "    <tr>\n",
       "      <th>2598</th>\n",
       "      <td>29.0</td>\n",
       "    </tr>\n",
       "  </tbody>\n",
       "</table>\n",
       "<p>2599 rows × 1 columns</p>\n",
       "</div>"
      ],
      "text/plain": [
       "      终端品牌类型\n",
       "0       62.0\n",
       "1      176.0\n",
       "2       31.0\n",
       "3       17.0\n",
       "4      246.0\n",
       "...      ...\n",
       "2594   103.0\n",
       "2595   450.0\n",
       "2596    36.0\n",
       "2597   157.0\n",
       "2598    29.0\n",
       "\n",
       "[2599 rows x 1 columns]"
      ]
     },
     "execution_count": 23,
     "metadata": {},
     "output_type": "execute_result"
    }
   ],
   "source": [
    "data.loc[:,['终端品牌类型']]=OrdinalEncoder().fit_transform(data.loc[:,['终端品牌类型']])\n",
    "data.loc[:,['终端品牌类型']]"
   ]
  },
  {
   "cell_type": "code",
   "execution_count": 24,
   "id": "11667033",
   "metadata": {},
   "outputs": [
    {
     "name": "stderr",
     "output_type": "stream",
     "text": [
      "C:\\Users\\白小帅\\AppData\\Local\\Temp\\ipykernel_1052\\933268120.py:1: FutureWarning: In a future version, `df.iloc[:, i] = newvals` will attempt to set the values inplace instead of always setting a new array. To retain the old behavior, use either `df[df.columns[i]] = newvals` or, if columns are non-unique, `df.isetitem(i, newvals)`\n",
      "  data.loc[:,['客户星级标识']]=OrdinalEncoder().fit_transform(data.loc[:,['客户星级标识']])\n"
     ]
    },
    {
     "data": {
      "text/html": [
       "<div>\n",
       "<style scoped>\n",
       "    .dataframe tbody tr th:only-of-type {\n",
       "        vertical-align: middle;\n",
       "    }\n",
       "\n",
       "    .dataframe tbody tr th {\n",
       "        vertical-align: top;\n",
       "    }\n",
       "\n",
       "    .dataframe thead th {\n",
       "        text-align: right;\n",
       "    }\n",
       "</style>\n",
       "<table border=\"1\" class=\"dataframe\">\n",
       "  <thead>\n",
       "    <tr style=\"text-align: right;\">\n",
       "      <th></th>\n",
       "      <th>客户星级标识</th>\n",
       "    </tr>\n",
       "  </thead>\n",
       "  <tbody>\n",
       "    <tr>\n",
       "      <th>0</th>\n",
       "      <td>0.0</td>\n",
       "    </tr>\n",
       "    <tr>\n",
       "      <th>1</th>\n",
       "      <td>1.0</td>\n",
       "    </tr>\n",
       "    <tr>\n",
       "      <th>2</th>\n",
       "      <td>1.0</td>\n",
       "    </tr>\n",
       "    <tr>\n",
       "      <th>3</th>\n",
       "      <td>1.0</td>\n",
       "    </tr>\n",
       "    <tr>\n",
       "      <th>4</th>\n",
       "      <td>1.0</td>\n",
       "    </tr>\n",
       "    <tr>\n",
       "      <th>...</th>\n",
       "      <td>...</td>\n",
       "    </tr>\n",
       "    <tr>\n",
       "      <th>2594</th>\n",
       "      <td>1.0</td>\n",
       "    </tr>\n",
       "    <tr>\n",
       "      <th>2595</th>\n",
       "      <td>1.0</td>\n",
       "    </tr>\n",
       "    <tr>\n",
       "      <th>2596</th>\n",
       "      <td>1.0</td>\n",
       "    </tr>\n",
       "    <tr>\n",
       "      <th>2597</th>\n",
       "      <td>1.0</td>\n",
       "    </tr>\n",
       "    <tr>\n",
       "      <th>2598</th>\n",
       "      <td>6.0</td>\n",
       "    </tr>\n",
       "  </tbody>\n",
       "</table>\n",
       "<p>2599 rows × 1 columns</p>\n",
       "</div>"
      ],
      "text/plain": [
       "      客户星级标识\n",
       "0        0.0\n",
       "1        1.0\n",
       "2        1.0\n",
       "3        1.0\n",
       "4        1.0\n",
       "...      ...\n",
       "2594     1.0\n",
       "2595     1.0\n",
       "2596     1.0\n",
       "2597     1.0\n",
       "2598     6.0\n",
       "\n",
       "[2599 rows x 1 columns]"
      ]
     },
     "execution_count": 24,
     "metadata": {},
     "output_type": "execute_result"
    }
   ],
   "source": [
    "data.loc[:,['客户星级标识']]=OrdinalEncoder().fit_transform(data.loc[:,['客户星级标识']])\n",
    "data.loc[:,['客户星级标识']]"
   ]
  },
  {
   "cell_type": "code",
   "execution_count": 25,
   "id": "53b62778",
   "metadata": {},
   "outputs": [
    {
     "name": "stderr",
     "output_type": "stream",
     "text": [
      "C:\\Users\\白小帅\\AppData\\Local\\Temp\\ipykernel_1052\\4196254378.py:1: FutureWarning: In a future version, `df.iloc[:, i] = newvals` will attempt to set the values inplace instead of always setting a new array. To retain the old behavior, use either `df[df.columns[i]] = newvals` or, if columns are non-unique, `df.isetitem(i, newvals)`\n",
      "  data.iloc[:,6:19]=OrdinalEncoder().fit_transform(data.iloc[:,6:19])\n"
     ]
    }
   ],
   "source": [
    "data.iloc[:,6:19]=OrdinalEncoder().fit_transform(data.iloc[:,6:19])"
   ]
  },
  {
   "cell_type": "code",
   "execution_count": 26,
   "id": "32e1536d",
   "metadata": {},
   "outputs": [
    {
     "name": "stderr",
     "output_type": "stream",
     "text": [
      "C:\\Users\\白小帅\\AppData\\Local\\Temp\\ipykernel_1052\\3615741761.py:1: FutureWarning: In a future version, `df.iloc[:, i] = newvals` will attempt to set the values inplace instead of always setting a new array. To retain the old behavior, use either `df[df.columns[i]] = newvals` or, if columns are non-unique, `df.isetitem(i, newvals)`\n",
      "  data.iloc[:,2:6]=OrdinalEncoder().fit_transform(data.iloc[:,2:6])\n"
     ]
    }
   ],
   "source": [
    "data.iloc[:,2:6]=OrdinalEncoder().fit_transform(data.iloc[:,2:6])"
   ]
  },
  {
   "cell_type": "code",
   "execution_count": 27,
   "id": "581ac12f",
   "metadata": {},
   "outputs": [
    {
     "name": "stderr",
     "output_type": "stream",
     "text": [
      "C:\\Users\\白小帅\\AppData\\Local\\Temp\\ipykernel_1052\\2938600511.py:1: FutureWarning: In a future version, `df.iloc[:, i] = newvals` will attempt to set the values inplace instead of always setting a new array. To retain the old behavior, use either `df[df.columns[i]] = newvals` or, if columns are non-unique, `df.isetitem(i, newvals)`\n",
      "  data.loc[:,['性别','4\\\\5G用户','是否4G网络客户（本地剔除物联网）','是否5G网络客户','是否不限量套餐到达用户']]=OrdinalEncoder().fit_transform(data.loc[:,['性别','4\\\\5G用户','是否4G网络客户（本地剔除物联网）','是否5G网络客户','是否不限量套餐到达用户']])\n"
     ]
    }
   ],
   "source": [
    "data.loc[:,['性别','4\\\\5G用户','是否4G网络客户（本地剔除物联网）','是否5G网络客户','是否不限量套餐到达用户']]=OrdinalEncoder().fit_transform(data.loc[:,['性别','4\\\\5G用户','是否4G网络客户（本地剔除物联网）','是否5G网络客户','是否不限量套餐到达用户']])"
   ]
  },
  {
   "cell_type": "markdown",
   "id": "6db2a2ed",
   "metadata": {},
   "source": [
    "# 删除与训练集无关数据"
   ]
  },
  {
   "cell_type": "code",
   "execution_count": 28,
   "id": "094c83b6",
   "metadata": {},
   "outputs": [],
   "source": [
    "data=data.drop(['是否投诉','性别','是否不限量套餐到达用户','用户id'], axis=1)"
   ]
  },
  {
   "cell_type": "code",
   "execution_count": 29,
   "id": "4e7a2eee",
   "metadata": {},
   "outputs": [],
   "source": [
    "data.to_excel('predict1.xlsx', sheet_name='Sheet1', index=False)"
   ]
  },
  {
   "cell_type": "code",
   "execution_count": 30,
   "id": "89627dba",
   "metadata": {},
   "outputs": [
    {
     "data": {
      "text/plain": [
       "(2599, 36)"
      ]
     },
     "execution_count": 30,
     "metadata": {},
     "output_type": "execute_result"
    }
   ],
   "source": [
    "data.shape"
   ]
  }
 ],
 "metadata": {
  "kernelspec": {
   "display_name": "Python 3 (ipykernel)",
   "language": "python",
   "name": "python3"
  },
  "language_info": {
   "codemirror_mode": {
    "name": "ipython",
    "version": 3
   },
   "file_extension": ".py",
   "mimetype": "text/x-python",
   "name": "python",
   "nbconvert_exporter": "python",
   "pygments_lexer": "ipython3",
   "version": "3.10.7"
  }
 },
 "nbformat": 4,
 "nbformat_minor": 5
}
