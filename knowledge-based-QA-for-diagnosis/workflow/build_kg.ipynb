{
 "cells": [
  {
   "cell_type": "code",
   "execution_count": null,
   "metadata": {
    "colab": {
     "base_uri": "https://localhost:8080/"
    },
    "id": "TDVPlqAg1HoA",
    "outputId": "27b43a8c-d5b0-46e4-f6a9-e78da5f87b89",
    "scrolled": true
   },
   "outputs": [
    {
     "name": "stdout",
     "output_type": "stream",
     "text": [
      "Looking in indexes: https://pypi.org/simple, https://us-python.pkg.dev/colab-wheels/public/simple/\n",
      "Requirement already satisfied: py2neo in /usr/local/lib/python3.7/dist-packages (2021.2.3)\n",
      "Requirement already satisfied: pansi>=2020.7.3 in /usr/local/lib/python3.7/dist-packages (from py2neo) (2020.7.3)\n",
      "Requirement already satisfied: packaging in /usr/local/lib/python3.7/dist-packages (from py2neo) (21.3)\n",
      "Requirement already satisfied: certifi in /usr/local/lib/python3.7/dist-packages (from py2neo) (2022.6.15)\n",
      "Requirement already satisfied: monotonic in /usr/local/lib/python3.7/dist-packages (from py2neo) (1.6)\n",
      "Requirement already satisfied: pygments>=2.0.0 in /usr/local/lib/python3.7/dist-packages (from py2neo) (2.6.1)\n",
      "Requirement already satisfied: urllib3 in /usr/local/lib/python3.7/dist-packages (from py2neo) (1.25.11)\n",
      "Requirement already satisfied: interchange~=2021.0.4 in /usr/local/lib/python3.7/dist-packages (from py2neo) (2021.0.4)\n",
      "Requirement already satisfied: six>=1.15.0 in /usr/local/lib/python3.7/dist-packages (from py2neo) (1.15.0)\n",
      "Requirement already satisfied: pytz in /usr/local/lib/python3.7/dist-packages (from interchange~=2021.0.4->py2neo) (2022.2.1)\n",
      "Requirement already satisfied: pyparsing!=3.0.5,>=2.0.2 in /usr/local/lib/python3.7/dist-packages (from packaging->py2neo) (3.0.9)\n",
      "Looking in indexes: https://pypi.org/simple, https://us-python.pkg.dev/colab-wheels/public/simple/\n",
      "Requirement already satisfied: transformers in /usr/local/lib/python3.7/dist-packages (4.22.1)\n",
      "Requirement already satisfied: datasets in /usr/local/lib/python3.7/dist-packages (2.4.0)\n",
      "Requirement already satisfied: pyyaml>=5.1 in /usr/local/lib/python3.7/dist-packages (from transformers) (6.0)\n",
      "Requirement already satisfied: tqdm>=4.27 in /usr/local/lib/python3.7/dist-packages (from transformers) (4.64.1)\n",
      "Requirement already satisfied: importlib-metadata in /usr/local/lib/python3.7/dist-packages (from transformers) (4.12.0)\n",
      "Requirement already satisfied: packaging>=20.0 in /usr/local/lib/python3.7/dist-packages (from transformers) (21.3)\n",
      "Requirement already satisfied: tokenizers!=0.11.3,<0.13,>=0.11.1 in /usr/local/lib/python3.7/dist-packages (from transformers) (0.12.1)\n",
      "Requirement already satisfied: regex!=2019.12.17 in /usr/local/lib/python3.7/dist-packages (from transformers) (2022.6.2)\n",
      "Requirement already satisfied: huggingface-hub<1.0,>=0.9.0 in /usr/local/lib/python3.7/dist-packages (from transformers) (0.9.1)\n",
      "Requirement already satisfied: filelock in /usr/local/lib/python3.7/dist-packages (from transformers) (3.8.0)\n",
      "Requirement already satisfied: requests in /usr/local/lib/python3.7/dist-packages (from transformers) (2.23.0)\n",
      "Requirement already satisfied: numpy>=1.17 in /usr/local/lib/python3.7/dist-packages (from transformers) (1.21.6)\n",
      "Requirement already satisfied: typing-extensions>=3.7.4.3 in /usr/local/lib/python3.7/dist-packages (from huggingface-hub<1.0,>=0.9.0->transformers) (4.1.1)\n",
      "Requirement already satisfied: pyparsing!=3.0.5,>=2.0.2 in /usr/local/lib/python3.7/dist-packages (from packaging>=20.0->transformers) (3.0.9)\n",
      "Requirement already satisfied: pandas in /usr/local/lib/python3.7/dist-packages (from datasets) (1.3.5)\n",
      "Requirement already satisfied: aiohttp in /usr/local/lib/python3.7/dist-packages (from datasets) (3.8.1)\n",
      "Requirement already satisfied: multiprocess in /usr/local/lib/python3.7/dist-packages (from datasets) (0.70.13)\n",
      "Requirement already satisfied: fsspec[http]>=2021.11.1 in /usr/local/lib/python3.7/dist-packages (from datasets) (2022.8.2)\n",
      "Requirement already satisfied: xxhash in /usr/local/lib/python3.7/dist-packages (from datasets) (3.0.0)\n",
      "Requirement already satisfied: dill<0.3.6 in /usr/local/lib/python3.7/dist-packages (from datasets) (0.3.5.1)\n",
      "Requirement already satisfied: responses<0.19 in /usr/local/lib/python3.7/dist-packages (from datasets) (0.18.0)\n",
      "Requirement already satisfied: pyarrow>=6.0.0 in /usr/local/lib/python3.7/dist-packages (from datasets) (6.0.1)\n",
      "Requirement already satisfied: attrs>=17.3.0 in /usr/local/lib/python3.7/dist-packages (from aiohttp->datasets) (22.1.0)\n",
      "Requirement already satisfied: frozenlist>=1.1.1 in /usr/local/lib/python3.7/dist-packages (from aiohttp->datasets) (1.3.1)\n",
      "Requirement already satisfied: multidict<7.0,>=4.5 in /usr/local/lib/python3.7/dist-packages (from aiohttp->datasets) (6.0.2)\n",
      "Requirement already satisfied: asynctest==0.13.0 in /usr/local/lib/python3.7/dist-packages (from aiohttp->datasets) (0.13.0)\n",
      "Requirement already satisfied: yarl<2.0,>=1.0 in /usr/local/lib/python3.7/dist-packages (from aiohttp->datasets) (1.8.1)\n",
      "Requirement already satisfied: async-timeout<5.0,>=4.0.0a3 in /usr/local/lib/python3.7/dist-packages (from aiohttp->datasets) (4.0.2)\n",
      "Requirement already satisfied: aiosignal>=1.1.2 in /usr/local/lib/python3.7/dist-packages (from aiohttp->datasets) (1.2.0)\n",
      "Requirement already satisfied: charset-normalizer<3.0,>=2.0 in /usr/local/lib/python3.7/dist-packages (from aiohttp->datasets) (2.1.1)\n",
      "Requirement already satisfied: urllib3!=1.25.0,!=1.25.1,<1.26,>=1.21.1 in /usr/local/lib/python3.7/dist-packages (from requests->transformers) (1.25.11)\n",
      "Requirement already satisfied: idna<3,>=2.5 in /usr/local/lib/python3.7/dist-packages (from requests->transformers) (2.10)\n",
      "Requirement already satisfied: certifi>=2017.4.17 in /usr/local/lib/python3.7/dist-packages (from requests->transformers) (2022.6.15)\n",
      "Requirement already satisfied: chardet<4,>=3.0.2 in /usr/local/lib/python3.7/dist-packages (from requests->transformers) (3.0.4)\n",
      "Requirement already satisfied: zipp>=0.5 in /usr/local/lib/python3.7/dist-packages (from importlib-metadata->transformers) (3.8.1)\n",
      "Requirement already satisfied: python-dateutil>=2.7.3 in /usr/local/lib/python3.7/dist-packages (from pandas->datasets) (2.8.2)\n",
      "Requirement already satisfied: pytz>=2017.3 in /usr/local/lib/python3.7/dist-packages (from pandas->datasets) (2022.2.1)\n",
      "Requirement already satisfied: six>=1.5 in /usr/local/lib/python3.7/dist-packages (from python-dateutil>=2.7.3->pandas->datasets) (1.15.0)\n"
     ]
    }
   ],
   "source": [
    "!pip install py2neo\n",
    "!pip install transformers datasets"
   ]
  },
  {
   "cell_type": "markdown",
   "metadata": {
    "id": "Ir5ILe5POLjk"
   },
   "source": [
    "# 加载医疗数据"
   ]
  },
  {
   "cell_type": "code",
   "execution_count": 3,
   "metadata": {
    "id": "qJqiseth0uQS"
   },
   "outputs": [],
   "source": [
    "# encoding:utf8\n",
    "import os\n",
    "import re\n",
    "import json\n",
    "import codecs\n",
    "import threading\n",
    "from py2neo import Graph\n",
    "import pandas as pd\n",
    "import numpy as np\n",
    "from tqdm import tqdm"
   ]
  },
  {
   "cell_type": "code",
   "execution_count": 5,
   "metadata": {
    "colab": {
     "base_uri": "https://localhost:8080/",
     "height": 84,
     "referenced_widgets": [
      "ca03919d1b3e4655bd0a2b00acedf49e",
      "bcb5fbb1a5b14d4688796f2e35107c85",
      "65161d0a942b41ccb93bc5d4ea87d577",
      "caf7bc647cbd4cb8bb7ebbfaa2a248cc",
      "ca4ac9b7f7e548eb94f7511af1038322",
      "874651bc6a834fbeaad6e79610607bab",
      "6f8899c192f84094994aa4c4d537ff27",
      "515ad1e656ed4963810cf55f631f8ff8",
      "7ede98957976406fb753241ede8efbc9",
      "29a9251d400a43439f229bfedc8d3b22",
      "16db80166b624762bbafbc3858e26b8e"
     ]
    },
    "id": "1EZLzrQc2NCs",
    "outputId": "2b2bb0f2-afce-484d-c214-04a3aa5b7024"
   },
   "outputs": [
    {
     "ename": "ModuleNotFoundError",
     "evalue": "No module named 'datasets'",
     "output_type": "error",
     "traceback": [
      "\u001B[1;31m---------------------------------------------------------------------------\u001B[0m",
      "\u001B[1;31mModuleNotFoundError\u001B[0m                       Traceback (most recent call last)",
      "Cell \u001B[1;32mIn [5], line 1\u001B[0m\n\u001B[1;32m----> 1\u001B[0m \u001B[38;5;28;01mfrom\u001B[39;00m \u001B[38;5;21;01mdatasets\u001B[39;00m \u001B[38;5;28;01mimport\u001B[39;00m load_dataset\n\u001B[0;32m      2\u001B[0m dataset \u001B[38;5;241m=\u001B[39m load_dataset(\u001B[38;5;124m\"\u001B[39m\u001B[38;5;124mnlp-guild/medical-data\u001B[39m\u001B[38;5;124m\"\u001B[39m)\n",
      "\u001B[1;31mModuleNotFoundError\u001B[0m: No module named 'datasets'"
     ]
    }
   ],
   "source": [
    "from datasets import load_dataset\n",
    "dataset = load_dataset(\"nlp-guild/medical-data\")"
   ]
  },
  {
   "cell_type": "code",
   "execution_count": null,
   "metadata": {
    "colab": {
     "base_uri": "https://localhost:8080/"
    },
    "id": "8Hy2bF8g2Xia",
    "outputId": "3fe59684-c7df-4863-9510-34257b89641d"
   },
   "outputs": [
    {
     "data": {
      "text/plain": [
       "DatasetDict({\n",
       "    train: Dataset({\n",
       "        features: ['_id', 'name', 'desc', 'category', 'prevent', 'cause', 'symptom', 'yibao_status', 'get_prob', 'easy_get', 'get_way', 'acompany', 'cure_department', 'cure_way', 'cure_lasttime', 'cured_prob', 'common_drug', 'cost_money', 'check', 'do_eat', 'not_eat', 'recommand_eat', 'recommand_drug', 'drug_detail'],\n",
       "        num_rows: 8808\n",
       "    })\n",
       "})"
      ]
     },
     "execution_count": 26,
     "metadata": {},
     "output_type": "execute_result"
    }
   ],
   "source": [
    "dataset"
   ]
  },
  {
   "cell_type": "code",
   "execution_count": null,
   "metadata": {
    "colab": {
     "base_uri": "https://localhost:8080/"
    },
    "id": "2YjIzBM827Lu",
    "outputId": "f1304ec2-473b-4df4-e79a-358e123ee725"
   },
   "outputs": [
    {
     "data": {
      "text/plain": [
       "['_id',\n",
       " 'name',\n",
       " 'desc',\n",
       " 'category',\n",
       " 'prevent',\n",
       " 'cause',\n",
       " 'symptom',\n",
       " 'yibao_status',\n",
       " 'get_prob',\n",
       " 'easy_get',\n",
       " 'get_way',\n",
       " 'acompany',\n",
       " 'cure_department',\n",
       " 'cure_way',\n",
       " 'cure_lasttime',\n",
       " 'cured_prob',\n",
       " 'common_drug',\n",
       " 'cost_money',\n",
       " 'check',\n",
       " 'do_eat',\n",
       " 'not_eat',\n",
       " 'recommand_eat',\n",
       " 'recommand_drug',\n",
       " 'drug_detail']"
      ]
     },
     "execution_count": 27,
     "metadata": {},
     "output_type": "execute_result"
    }
   ],
   "source": [
    "features = dataset['train'].column_names\n",
    "features"
   ]
  },
  {
   "cell_type": "code",
   "execution_count": null,
   "metadata": {
    "colab": {
     "base_uri": "https://localhost:8080/"
    },
    "id": "yX7XXtmD2bfg",
    "outputId": "ecaa8372-29f7-4242-a388-d8f4c8c96d0e"
   },
   "outputs": [
    {
     "name": "stdout",
     "output_type": "stream",
     "text": [
      "肺泡蛋白质沉积症的信息如下:\n",
      "_id: {'$oid': '5bb578b6831b973a137e3ee6'}\n",
      "name: 肺泡蛋白质沉积症\n",
      "desc: 肺泡蛋白质沉积症(简称PAP)，又称Rosen-Castle-man-Liebow综合征，是一种罕见疾病。该病以肺泡和细支气管腔内充满PAS染色阳性，来自肺的富磷脂蛋白质物质为其特征，好发于青中年，男性发病约3倍于女性。\n",
      "category: ['疾病百科', '内科', '呼吸内科']\n",
      "prevent: 1、避免感染分支杆菌病，卡氏肺囊肿肺炎，巨细胞病毒等。\n",
      "2、注意锻炼身体，提高免疫力。\n",
      "cause: 病因未明，推测与几方面因素有关：如大量粉尘吸入（铝，二氧化硅等），机体免疫功能下降（尤其婴幼儿），遗传因素，酗酒，微生物感染等，而对于感染，有时很难确认是原发致病因素还是继发于肺泡蛋白沉着症，例如巨细胞病毒，卡氏肺孢子虫，组织胞浆菌感染等均发现有肺泡内高蛋白沉着。\n",
      "虽然启动因素尚不明确，但基本上同意发病过程为脂质代谢障碍所致，即由于机体内，外因素作用引起肺泡表面活性物质的代谢异常，到目前为止，研究较多的有肺泡巨噬细胞活力，动物实验证明巨噬细胞吞噬粉尘后其活力明显下降，而病员灌洗液中的巨噬细胞内颗粒可使正常细胞活力下降，经支气管肺泡灌洗治疗后，其肺泡巨噬细胞活力可上升，而研究未发现Ⅱ型细胞生成蛋白增加，全身脂代谢也无异常，因此目前一般认为本病与清除能力下降有关。\n",
      "symptom: ['紫绀', '胸痛', '呼吸困难', '乏力', '毓卓']\n",
      "yibao_status: 否\n",
      "get_prob: 0.00002%\n",
      "easy_get: None\n",
      "get_way: 无传染性\n",
      "acompany: ['多重肺部感染']\n",
      "cure_department: ['内科', '呼吸内科']\n",
      "cure_way: ['支气管肺泡灌洗']\n",
      "cure_lasttime: 约3个月\n",
      "cured_prob: 约40%\n",
      "common_drug: None\n",
      "cost_money: 根据不同医院，收费标准不一致，省市三甲医院约（ 8000——15000 元）\n",
      "check: ['胸部CT检查', '肺活检', '支气管镜检查']\n",
      "do_eat: None\n",
      "not_eat: None\n",
      "recommand_eat: None\n",
      "recommand_drug: []\n",
      "drug_detail: []\n",
      "---------------------------------------\n",
      "\n",
      "百日咳的信息如下:\n",
      "_id: {'$oid': '5bb578b6831b973a137e3ee7'}\n",
      "name: 百日咳\n",
      "desc: 百日咳(pertussis，whoopingcough)是由百日咳杆菌所致的急性呼吸道传染病。其特征为阵发性痉挛性咳嗽，咳嗽末伴有特殊的鸡鸣样吸气吼声。病程较长，可达数周甚至3个月左右，故有百日咳之称。多见于5岁以下的小儿，幼婴患本病时易有窒息、肺炎，脑病等并发症，病死率高。百日咳患者，阴性感染者及带菌者为传染源。潜伏期末到病后2-3周传染性最强。百日咳经呼吸道飞沫传播。典型患者病程6-8周，临床病程可分3期：1.卡他期，从发病到开始出现咳嗽，一般1-2周。2,痉咳期，一般2-4周或更长，阵发性痉挛性咳嗽为本期特点。3，恢复期，一般1-2周，咳嗽发作的次数减少，程度减轻，不再出现阵发性痉咳。一般外周血白细胞计数明显增高，分类以淋巴细胞为主。在诊断本病时要注意与支气管异物及肺门淋巴结结核鉴别。近年来幼婴及成人发病有增多趋势。\n",
      "category: ['疾病百科', '儿科', '小儿内科']\n",
      "prevent: 1、控制传染源：在流行季节，若有前驱症状应及早抗生素治疗。\n",
      "2、切断传播途径：由于百日咳杆菌对外界抵抗力较弱，无需消毒处理，但应保持室内通风，衣物在阳光下曝晒，对痰液及口鼻分泌物则应进行消毒处理。\n",
      "cause: (一)发病原因\n",
      "病原菌是鲍特菌属(Bordetella)中的百日咳鲍特菌(B.pertussis)，常称百日咳杆菌，已知鲍特菌属有四种杆菌，除百日咳鲍特菌外还有副百日咳鲍特菌(B.parapertussis)，支气管败血鲍特菌(B.bronchiseptica)和鸟型鲍特菌(B.avium)，鸟型鲍特菌一般不引起人类致病，仅引起鸟类感染，百日咳杆菌长约1.0～1.5μm，宽约0.3～0.5μm，有荚膜，不能运动，革兰染色阴性，需氧，无芽孢，无鞭毛，用甲苯胺蓝染色两端着色较深，细菌培养需要大量(15%～25%)鲜血才能繁殖良好，故常以鲍-金(Border-Gengous)培养基(即血液，甘油，马铃薯)分离菌落，百日咳杆菌生长缓慢，在35～37℃潮湿的环境中3～7天后，一种细小的，不透明的菌落生长，初次菌落隆起而光滑，为光滑(S)型，又称I相细菌，形态高低一致，有荚膜和较强的毒力及抗原性，致病力强，如将分离菌落在普通培养基中继续培养，菌落由光滑型变为粗糙(R)型，称Ⅳ相细菌，无荚膜，毒力及抗原性丢失，并失去致病力，Ⅱ相，Ⅲ相为中间过渡型，百日咳杆菌能产生许多毒性因子，已知有五种毒素：\n",
      "1、百日咳外毒素(PT)：是存在百日咳杆菌细胞壁中一种蛋白质，过去称作为白细胞或淋巴细胞增多促进因子(leukocytosis or lymphocyte promoting factor，LPE)，组胺致敏因子(histamin sensitizing factor，HSF)，胰岛素分泌活性蛋白(insulin activating protein，IAP)，百日咳外毒素由五种非共价链亚单位(S1～S5)所组成，亚单位(S2～S5)为无毒性单位，能与宿主细胞膜结合，通过具有酶活力的亚单位S1介导毒性作用，S1能通过腺苷二磷酸(ADP)-核糖转移酶的活力，催化部分ADP-核糖从烟酰胺腺嘌呤二核苷酸(NAD)中分离出来，转移至细胞膜抑制鸟苷三磷酸(CTP)结合即G蛋白合成，导致细胞变生，同时还能促使淋巴细胞增高，活化胰岛细胞及增强免疫应答。\n",
      "2、耐热的内毒素(endotoxin，ET)，100℃60min只能部分破坏，180℃才能灭活，此毒素能引起机体发热及痉咳。\n",
      "3、不耐热毒素(HLT)这种毒素加热55℃30min后能破坏其毒性作用，此毒素抗体对百日咳杆菌感染无保护作用。\n",
      "4、气管细胞毒素(TCT)：能损害宿主呼吸道纤毛上皮细胞，使之变性，坏死。\n",
      "5、腺苷环化酶毒素(ACT)：存在百日咳杆菌细胞表面的一种酶，此酶进入吞噬细胞后被调钙蛋白所激活，催化cAMP的生成，干扰吞噬作用，并抑制中性粒细胞的趋化和吞噬细胞杀菌能力，使其能持续感染，ACT也是一种溶血素，能起溶血作用，百日咳的重要抗原是百日咳菌的两种血凝活性抗原，一种为丝状血凝素(filamentous hemagglutinin，FHA)，因来自菌体表面菌毛故又称菌毛抗原，FHA在百日咳杆菌黏附于呼吸道上皮细胞的过程中起决定作用，为致病的主要原因。实验发现，FHA免疫小鼠能对抗百日咳杆菌致死性攻击，因此FHA为保护性抗原，另一种凝集原(aggluginogens，AGG)为百日咳杆菌外膜及菌毛中的一种蛋白质成分，主要含1，2，3三种血清型凝血因子，AGG-1具有种特异性；AGG-2，3具有型特异性，通过检测凝集原的型别来了解当地流行情况，目前认为这两种血凝素抗原相应抗体是保护性抗体，百日咳杆菌根据不耐热凝集原抗原性不同分为七型凝集原，1型凝集原为所有百日咳杆菌均具备，7型凝集原为鲍特菌属(包括副百日咳杆菌，支气管败血性杆菌)所共有，2～6型以不同的配合将百日咳杆菌分为不同血清型，测定血清型主要是研究流行时菌株的血清型和选择特殊血清型菌株生产菌苗，此外，副百日咳杆菌与百日咳杆菌无交叉免疫，亦可引起流行，百日咳杆菌对外界理化因素抵抗力弱，55℃经30min即被破坏，干燥数小时即可杀灭，对一般消毒剂敏感，对紫外线抵抗力弱，但在0～10℃存活较长。\n",
      "(二)发病机制\n",
      "1、发病机制：百日咳发病机制不甚清楚，很可能是百日咳毒素对机体综合作用的结果，当细菌随空气飞沫浸入易感者的呼吸道后，细菌的丝状血凝素黏附于咽喉至细支气管黏膜的纤毛上皮细胞表面；继之，细菌在局部繁殖并产生多种毒素如百日咳外毒素，腺苷环化酶等引起上皮细胞纤毛麻痹和细胞变性，使其蛋白合成降低，上皮细胞坏死脱落，以及全身反应，由于上皮细胞的病变发生和纤毛麻痹使小支气管中黏液及坏死上皮堆聚潴留，分泌物排出受阻，不断刺激呼吸道的周围神经，传入大脑皮质及延髓咳嗽中枢，反射性引起痉挛性咳嗽，由于长期刺激使咳嗽中枢形成兴奋灶，以致非特异性刺激，如进食，咽部检查，冷风，烟雾以及注射疼痛等，均可引起反射性的痉咳，恢复期间亦可因哭泣及其他感染，诱发百日咳样痉咳，近来研究表明百日咳发生机制与百日咳杆菌毒素类物质损害宿主细胞免疫功能有关，CD4+T细胞和Th1细胞分泌的细胞因子所介导的免疫反应，在百日咳杆菌感染中起重要作用。\n",
      "2、病理解剖：百日咳杆菌侵犯鼻咽，喉，气管，支气管黏膜，可见黏膜充血，上皮细胞的基底部有多核白细胞，单核细胞浸润及部分细胞坏死。支气管及肺泡周围间质除炎症浸润外，可见上皮细胞胞质空泡形成，甚至核膜破裂溶解，坏死，脱落，但极少波及肺泡。若分泌物阻塞可引起肺不张，支气管扩张，有继发感染者，易发生支气管肺炎，有时可有间质性肺炎；若发生百日咳脑病，镜检或肉眼可见脑组织充血水肿，点状出血，皮质萎缩，神经细胞变性，脑水肿等改变，此时常可见到肝脏脂肪浸润等变化。\n",
      "symptom: ['吸气时有蝉鸣音', '痉挛性咳嗽', '胸闷', '肺阴虚', '抽搐', '低热', '闫鹏辉', '惊厥']\n",
      "yibao_status: 否\n",
      "get_prob: 0.5%\n",
      "easy_get: 多见于小儿\n",
      "get_way: 呼吸道传播\n",
      "acompany: ['肺不张']\n",
      "cure_department: ['儿科', '小儿内科']\n",
      "cure_way: ['药物治疗', '支持性治疗']\n",
      "cure_lasttime: 1-2个月\n",
      "cured_prob: 98%\n",
      "common_drug: ['穿心莲内酯片', '百咳静糖浆']\n",
      "cost_money: 根据不同医院，收费标准不一致，市三甲医院约（1000-4000元）\n",
      "check: ['耳、鼻、咽拭子细菌培养', '周围血白细胞计数及分类检验', '血常规', '酶联免疫吸附试验', '白细胞分类计数']\n",
      "do_eat: ['南瓜子仁', '圆白菜', '樱桃番茄', '小白菜']\n",
      "not_eat: ['螃蟹', '海蟹', '海虾', '海螺']\n",
      "recommand_eat: ['清蒸鸡蛋羹', '百合双耳鸡蛋羹', '排骨汤', '罗汉果雪耳鸡汤', '小黄瓜凉拌面', '黄瓜三丝汤', '黄瓜拌兔丝', '黄瓜拌皮丝']\n",
      "recommand_drug: ['琥乙红霉素片', '琥乙红霉素颗粒', '百咳静糖浆', '穿心莲内酯片', '红霉素肠溶片', '环酯红霉素片']\n",
      "drug_detail: ['惠普森穿心莲内酯片(穿心莲内酯片)', '北京同仁堂百咳静糖浆(百咳静糖浆)', '邦琪药业百咳静糖浆(百咳静糖浆)', '东新药业百咳静糖浆(百咳静糖浆)', '达发新(环酯红霉素片)', '康美药业红霉素肠溶片(红霉素肠溶片)', '旺龙药业琥乙红霉素颗粒(琥乙红霉素颗粒)', '白云山医药琥乙红霉素片(琥乙红霉素片)', '国瑞琥乙红霉素片(琥乙红霉素片)', '利君制药红霉素肠溶片(红霉素肠溶片)', '东信药业琥乙红霉素颗粒(琥乙红霉素颗粒)', '石药欧意红霉素肠溶片(红霉素肠溶片)', '平光制药红霉素肠溶片(红霉素肠溶片)', '北京曙光药业红霉素肠溶片(红霉素肠溶片)', '迪瑞制药琥乙红霉素颗粒(琥乙红霉素颗粒)', '永定制药百咳静糖浆(百咳静糖浆)', '东信药业琥乙红霉素片(琥乙红霉素片)', '利君制药琥乙红霉素片(琥乙红霉素片)', '北京中新制药琥乙红霉素片(琥乙红霉素片)', '华南药业红霉素肠溶片(红霉素肠溶片)', '佐今明百咳静糖浆(百咳静糖浆)', '恒益药业琥乙红霉素颗粒(琥乙红霉素颗粒)', '利君沙(琥乙红霉素颗粒)']\n",
      "---------------------------------------\n",
      "\n",
      "苯中毒的信息如下:\n",
      "_id: {'$oid': '5bb578b6831b973a137e3ee8'}\n",
      "name: 苯中毒\n",
      "desc: 苯(benzene)是从煤焦油分馏及石油裂解所得的一种芳香烃化合物，系无色有芳香气味的油状液体。挥发甚速，易燃易爆。工业上用作溶剂、稀释剂和化工原料。苯属中等毒类，可引起急性或慢性中毒。\n",
      "急性苯中毒是指口服含苯的有机溶剂或吸入高浓度苯蒸气后，出现以中枢神经系统麻醉作用为主要表现的病理生理过程，主要症状轻者为醉酒状，步态不稳，哭笑失常，重者意识丧失，抽搐，可因呼吸中枢麻痹或循环衰竭死亡。慢性苯中毒是指苯及其代谢产物酚类影响了骨髓的造血功能，临床表现为白细胞计数和血小板立秋持续减少，最终发展为再生障碍性贫血或白血病。也可影响神经系统，表现为神经衰弱和自主神经功能紊乱。\n",
      "category: ['疾病百科', '急诊科']\n",
      "prevent: 对于急性中毒患者，可以立即脱离现场至空气新鲜处，脱去污染的衣着，并用肥皂水或清水冲洗污染的皮肤。口服中毒者，要给患者洗胃，中毒者应卧床静息，并接受对症、支持治疗，可给予葡萄糖醛酸。要注意防止患者出现脑水肿，切记勿给心搏未停者使用肾上腺素，对由于苯中毒引起的再生障碍性贫血症患者，可给予小量多次输血及糖皮质激素治疗。\n",
      "cause: 吸入苯蒸气或皮肤接触苯而引起的中毒，有急性、慢性之分。急性苯中毒主要对中枢神经系统产生麻醉作用，出现昏迷和肌肉抽搐；高浓度的苯对皮肤有刺激作用。长期接角低浓度的苯可引起慢性苯中毒，出现造血障碍，早期常见血白细胞数减低，进而出现血小板数减少和贫血。患者可有鼻出血、牙龈出血、皮下出血、月经过多等临床表现。\n",
      "急性苯中毒多为误服或急性吸入含苯的有机溶剂所致。这些有机溶剂包括油漆、稀料、工业胶水等。慢性苯中毒是长期吸入低浓度苯及代谢产物酚类所致。\n",
      "symptom: ['恶心', '抽搐', '感觉障碍']\n",
      "yibao_status: 否\n",
      "get_prob: 0.065%\n",
      "easy_get: 多见于制鞋工人及接触化工染料的工人\n",
      "get_way: 无传染性\n",
      "acompany: ['贫血']\n",
      "cure_department: ['急诊科']\n",
      "cure_way: ['药物治疗', '支持性治疗']\n",
      "cure_lasttime: 根据不同病情一般为2-4周\n",
      "cured_prob: 75%\n",
      "common_drug: ['布美他尼片', '十一味金色丸']\n",
      "cost_money: 根据不同病情，不同医院，收费标准不一致，市三甲医院约（5000——8000元）\n",
      "check: ['血常规', '骨髓象分析', '先令氏指数']\n",
      "do_eat: ['鸡蛋', '大豆', '猪肉(瘦)', '樱桃番茄']\n",
      "not_eat: ['海蟹', '海虾', '海参（水浸）', '辣椒(青、尖)']\n",
      "recommand_eat: ['豆腐干炒韭菜', '素炒小白菜', '白菜蛋花粥']\n",
      "recommand_drug: ['布美他尼片', '十一味金色丸', '注射用布美他尼', '注射用呋塞米', '盐酸利多卡因注射液', '注射用硫代硫酸钠', '大月晶丸', '仁青芒觉', '注射用鼠神经生长因子', '地塞米松磷酸钠注射液']\n",
      "drug_detail: ['桂林南药布美他尼片(布美他尼片)', '雄巴拉曲神水十一味金色丸(十一味金色丸)', '西藏甘露仁青芒觉(仁青芒觉)', '金诃藏药大月晶丸(大月晶丸)', '金诃藏药仁青芒觉(仁青芒觉)', '苏肽生(注射用鼠神经生长因子)', '新峰药业盐酸利多卡因注射液(盐酸利多卡因注射液)', '海斯制药盐酸利多卡因注射液(盐酸利多卡因注射液)', '西藏甘露十一味金色丸(十一味金色丸)', '卓峰地塞米松磷酸钠注射液(地塞米松磷酸钠注射液)', '白云山天心地塞米松磷酸钠注(地塞米松磷酸钠注射液)', '涟水制药地塞米松磷酸钠注射(地塞米松磷酸钠注射液)', '金耀药业地塞米松磷酸钠注射(地塞米松磷酸钠注射液)', '遂成药业地塞米松磷酸钠注射(地塞米松磷酸钠注射液)', '恩经复(注射用鼠神经生长因子)', '金路捷(注射用鼠神经生长因子)', '新亚注射用硫代硫酸钠(注射用硫代硫酸钠)', '北京永康药业盐酸利多卡因注(盐酸利多卡因注射液)', '北京益民药业盐酸利多卡因注(盐酸利多卡因注射液)', '中国大冢盐酸利多卡因注射液(盐酸利多卡因注射液)', '盐酸利多卡因注射液(盐酸利多卡因注射液)', '全星制药注射用布美他尼(注射用布美他尼)', '皇隆制药注射用呋塞米(注射用呋塞米)']\n",
      "---------------------------------------\n",
      "\n"
     ]
    }
   ],
   "source": [
    "for i in range(3):\n",
    "    sample = dataset['train'][i] # dict\n",
    "    name = sample['name']\n",
    "    print(f'{name}的信息如下:')\n",
    "    for feat in features:\n",
    "        print(f'{feat}: {sample[feat]}')\n",
    "    \n",
    "    print('---------------------------------------')\n",
    "    print()"
   ]
  },
  {
   "cell_type": "markdown",
   "metadata": {
    "id": "VRGPF1CGOQvt"
   },
   "source": [
    "# 连接云知识图谱"
   ]
  },
  {
   "cell_type": "code",
   "execution_count": null,
   "metadata": {
    "id": "yIq-zVHuRNnP"
   },
   "outputs": [],
   "source": [
    "password = None # change password here"
   ]
  },
  {
   "cell_type": "code",
   "execution_count": null,
   "metadata": {
    "id": "UQ8NtF5a4H_1"
   },
   "outputs": [],
   "source": [
    "from py2neo import Graph\n",
    "graph = Graph(\"neo4j+s://f54cadff.databases.neo4j.io:7687\", auth=(\"neo4j\", password))"
   ]
  },
  {
   "cell_type": "code",
   "execution_count": null,
   "metadata": {
    "colab": {
     "base_uri": "https://localhost:8080/",
     "height": 100
    },
    "id": "pP5toZ6SPBzD",
    "outputId": "846c2e61-aa49-4b76-d38b-e9bd703f977c"
   },
   "outputs": [
    {
     "data": {
      "text/html": [
       "<table><tr><th>n</th><th>n_sq</th></tr><tr><td style=\"text-align:right\">1</td><td style=\"text-align:right\">1</td></tr><tr><td style=\"text-align:right\">2</td><td style=\"text-align:right\">4</td></tr><tr><td style=\"text-align:right\">3</td><td style=\"text-align:right\">9</td></tr></table>"
      ],
      "text/plain": [
       " n | n_sq \n",
       "---|------\n",
       " 1 |    1 \n",
       " 2 |    4 \n",
       " 3 |    9 "
      ]
     },
     "execution_count": 30,
     "metadata": {},
     "output_type": "execute_result"
    }
   ],
   "source": [
    "graph.run(\"UNWIND range(1, 3) AS n RETURN n, n * n as n_sq\")"
   ]
  },
  {
   "cell_type": "markdown",
   "metadata": {
    "id": "FZgxcknER0dq"
   },
   "source": [
    "# Build KG"
   ]
  },
  {
   "cell_type": "code",
   "execution_count": null,
   "metadata": {
    "id": "CK9wsCZkR4YV"
   },
   "outputs": [],
   "source": [
    "class MedicalExtractor(object):\n",
    "    def __init__(self):\n",
    "        super(MedicalExtractor, self).__init__()\n",
    "        self.graph = Graph(\"neo4j+s://f54cadff.databases.neo4j.io:7687\", auth=(\"neo4j\", password))\n",
    "\n",
    "        # 共8类节点\n",
    "        self.drugs = []  # 药品\n",
    "        self.recipes = []  # 菜谱\n",
    "        self.foods = []  # 食物\n",
    "        self.checks = []  # 检查\n",
    "        self.departments = []  # 科室\n",
    "        self.producers = []  # 药企\n",
    "        self.diseases = []  # 疾病\n",
    "        self.symptoms = []  # 症状\n",
    "\n",
    "        self.disease_infos = []  # 疾病信息\n",
    "\n",
    "        # 构建节点实体关系\n",
    "        self.rels_department = []  # 科室－科室关系\n",
    "        self.rels_noteat = []  # 疾病－忌吃食物关系\n",
    "        self.rels_doeat = []  # 疾病－宜吃食物关系\n",
    "        self.rels_recommandeat = []  # 疾病－推荐吃食物关系\n",
    "        self.rels_commonddrug = []  # 疾病－通用药品关系\n",
    "        self.rels_recommanddrug = []  # 疾病－热门药品关系\n",
    "        self.rels_check = []  # 疾病－检查关系\n",
    "        self.rels_drug_producer = []  # 厂商－药物关系\n",
    "\n",
    "        self.rels_symptom = []  # 疾病症状关系\n",
    "        self.rels_acompany = []  # 疾病并发关系\n",
    "        self.rels_category = []  # 疾病与科室之间的关系\n",
    "\n",
    "    def extract_triples(self):\n",
    "        print(\"从json文件中转换抽取三元组\")\n",
    "        for data_json in dataset['train']:\n",
    "            disease_dict = {}\n",
    "            disease = data_json['name']\n",
    "            disease_dict['name'] = disease\n",
    "            self.diseases.append(disease)\n",
    "            disease_dict['desc'] = ''\n",
    "            disease_dict['prevent'] = ''\n",
    "            disease_dict['cause'] = ''\n",
    "            disease_dict['easy_get'] = ''\n",
    "            disease_dict['cure_department'] = ''\n",
    "            disease_dict['cure_way'] = ''\n",
    "            disease_dict['cure_lasttime'] = ''\n",
    "            disease_dict['symptom'] = ''\n",
    "            disease_dict['cured_prob'] = ''\n",
    "\n",
    "            if data_json['symptom'] != None:\n",
    "                self.symptoms += data_json['symptom']\n",
    "                for symptom in data_json['symptom']:\n",
    "                    self.rels_symptom.append([disease, 'has_symptom', symptom])\n",
    "\n",
    "            if data_json['acompany'] != None:\n",
    "                for acompany in data_json['acompany']:\n",
    "                    self.rels_acompany.append([disease, 'acompany_with', acompany])\n",
    "                    self.diseases.append(acompany)\n",
    "\n",
    "            if data_json['desc'] != None:\n",
    "                disease_dict['desc'] = data_json['desc']\n",
    "\n",
    "            if data_json['prevent'] != None:\n",
    "                disease_dict['prevent'] = data_json['prevent']\n",
    "\n",
    "            if data_json['cause'] != None:\n",
    "                disease_dict['cause'] = data_json['cause']\n",
    "\n",
    "            if data_json['get_prob'] != None:\n",
    "                disease_dict['get_prob'] = data_json['get_prob']\n",
    "\n",
    "            if data_json['easy_get'] != None:\n",
    "                disease_dict['easy_get'] = data_json['easy_get']\n",
    "\n",
    "            if data_json['cure_department'] != None:\n",
    "                cure_department = data_json['cure_department']\n",
    "                if len(cure_department) == 1:\n",
    "                    self.rels_category.append([disease, 'cure_department', cure_department[0]])\n",
    "                if len(cure_department) == 2:\n",
    "                    big = cure_department[0]\n",
    "                    small = cure_department[1]\n",
    "                    self.rels_department.append([small, 'belongs_to', big])\n",
    "                    self.rels_category.append([disease, 'cure_department', small])\n",
    "\n",
    "                disease_dict['cure_department'] = cure_department\n",
    "                self.departments += cure_department\n",
    "\n",
    "            if data_json['cure_way'] != None:\n",
    "                disease_dict['cure_way'] = data_json['cure_way']\n",
    "\n",
    "            if data_json['cure_lasttime'] != None:\n",
    "                disease_dict['cure_lasttime'] = data_json['cure_lasttime']\n",
    "\n",
    "            if data_json['cured_prob'] != None:\n",
    "                disease_dict['cured_prob'] = data_json['cured_prob']\n",
    "\n",
    "            if data_json['common_drug'] != None:\n",
    "                common_drug = data_json['common_drug']\n",
    "                for drug in common_drug:\n",
    "                    self.rels_commonddrug.append([disease, 'has_common_drug', drug])\n",
    "                self.drugs += common_drug\n",
    "\n",
    "            if data_json['recommand_drug'] != None:\n",
    "                recommand_drug = data_json['recommand_drug']\n",
    "                self.drugs += recommand_drug\n",
    "                for drug in recommand_drug:\n",
    "                    self.rels_recommanddrug.append([disease, 'recommand_drug', drug])\n",
    "\n",
    "            if data_json['not_eat'] != None:\n",
    "                not_eat = data_json['not_eat']\n",
    "                for _not in not_eat:\n",
    "                    self.rels_noteat.append([disease, 'not_eat', _not])\n",
    "\n",
    "                self.foods += not_eat\n",
    "                do_eat = data_json['do_eat']\n",
    "                for _do in do_eat:\n",
    "                    self.rels_doeat.append([disease, 'do_eat', _do])\n",
    "\n",
    "                self.foods += do_eat\n",
    "\n",
    "            if data_json['recommand_eat'] != None:\n",
    "                recommand_eat = data_json['recommand_eat']\n",
    "                for _recommand in recommand_eat:\n",
    "                    self.rels_recommandeat.append([disease, 'recommand_recipes', _recommand])\n",
    "                self.recipes += recommand_eat\n",
    "\n",
    "            if data_json['check'] != None:\n",
    "                check = data_json['check']\n",
    "                for _check in check:\n",
    "                    self.rels_check.append([disease, 'need_check', _check])\n",
    "                self.checks += check\n",
    "\n",
    "            if data_json['drug_detail'] != None:\n",
    "                for det in data_json['drug_detail']:\n",
    "                    det_spilt = det.split('(')\n",
    "                    if len(det_spilt) == 2:\n",
    "                        p, d = det_spilt\n",
    "                        d = d.rstrip(')')\n",
    "                        if p.find(d) > 0:\n",
    "                            p = p.rstrip(d)\n",
    "                        self.producers.append(p)\n",
    "                        self.drugs.append(d)\n",
    "                        self.rels_drug_producer.append([p, 'production', d])\n",
    "                    else:\n",
    "                        d = det_spilt[0]\n",
    "                        self.drugs.append(d)\n",
    "\n",
    "            self.disease_infos.append(disease_dict)\n",
    "\n",
    "    def write_nodes(self, entitys, entity_type):\n",
    "        print(\"写入 {0} 实体\".format(entity_type))\n",
    "        for node in tqdm(set(entitys), ncols=80):\n",
    "            cql = \"\"\"MERGE(n:{label}{{name:'{entity_name}'}})\"\"\".format(\n",
    "                label=entity_type, entity_name=node.replace(\"'\", \"\"))\n",
    "            try:\n",
    "                self.graph.run(cql)\n",
    "            except Exception as e:\n",
    "                print(e)\n",
    "                print(cql)\n",
    "\n",
    "    def write_edges(self, triples, head_type, tail_type):\n",
    "        print(\"写入 {0} 关系\".format(triples[0][1]))\n",
    "        for head, relation, tail in tqdm(triples, ncols=80):\n",
    "            cql = \"\"\"MATCH(p:{head_type}),(q:{tail_type})\n",
    "                    WHERE p.name='{head}' AND q.name='{tail}'\n",
    "                    MERGE (p)-[r:{relation}]->(q)\"\"\".format(\n",
    "                head_type=head_type, tail_type=tail_type, head=head.replace(\"'\", \"\"),\n",
    "                tail=tail.replace(\"'\", \"\"), relation=relation)\n",
    "            try:\n",
    "                self.graph.run(cql)\n",
    "            except Exception as e:\n",
    "                print(e)\n",
    "                print(cql)\n",
    "\n",
    "    def set_attributes(self, entity_infos, etype):\n",
    "        print(\"写入 {0} 实体的属性\".format(etype))\n",
    "        for e_dict in tqdm(entity_infos, ncols=80):\n",
    "            name = e_dict['name']\n",
    "            del e_dict['name']\n",
    "            for k, v in e_dict.items():\n",
    "                if k in ['cure_department', 'cure_way']:\n",
    "                    cql = \"\"\"MATCH (n:{label})\n",
    "                        WHERE n.name='{name}'\n",
    "                        set n.{k}={v}\"\"\".format(label=etype, name=name.replace(\"'\", \"\"), k=k, v=v)\n",
    "                else:\n",
    "                    cql = \"\"\"MATCH (n:{label})\n",
    "                        WHERE n.name='{name}'\n",
    "                        set n.{k}='{v}'\"\"\".format(label=etype, name=name.replace(\"'\", \"\"), k=k,\n",
    "                                                  v=v.replace(\"'\", \"\").replace(\"\\n\", \"\"))\n",
    "                try:\n",
    "                    self.graph.run(cql)\n",
    "                except Exception as e:\n",
    "                    print(e)\n",
    "                    print(cql)\n",
    "\n",
    "    def create_entitys(self):\n",
    "        self.write_nodes(self.drugs, '药品')\n",
    "        self.write_nodes(self.recipes, '菜谱')\n",
    "        self.write_nodes(self.foods, '食物')\n",
    "        self.write_nodes(self.checks, '检查')\n",
    "        self.write_nodes(self.departments, '科室')\n",
    "        self.write_nodes(self.producers, '药企')\n",
    "        self.write_nodes(self.diseases, '疾病')\n",
    "        self.write_nodes(self.symptoms, '症状')\n",
    "\n",
    "    def create_relations(self):\n",
    "        self.write_edges(self.rels_department, '科室', '科室')\n",
    "        self.write_edges(self.rels_noteat, '疾病', '食物')\n",
    "        self.write_edges(self.rels_doeat, '疾病', '食物')\n",
    "        self.write_edges(self.rels_recommandeat, '疾病', '菜谱')\n",
    "        self.write_edges(self.rels_commonddrug, '疾病', '药品')\n",
    "        self.write_edges(self.rels_recommanddrug, '疾病', '药品')\n",
    "        self.write_edges(self.rels_check, '疾病', '检查')\n",
    "        self.write_edges(self.rels_drug_producer, '药企', '药品')\n",
    "        self.write_edges(self.rels_symptom, '疾病', '症状')\n",
    "        self.write_edges(self.rels_acompany, '疾病', '疾病')\n",
    "        self.write_edges(self.rels_category, '疾病', '科室')\n",
    "\n",
    "    def set_diseases_attributes(self):\n",
    "        self.set_attributes(self.disease_infos,\"疾病\")\n",
    "        # t = threading.Thread(target=self.set_attributes, args=(self.disease_infos, \"疾病\"))\n",
    "        # # t.setDaemon(False)\n",
    "        # t.start()\n",
    "        # t.join()"
   ]
  },
  {
   "cell_type": "code",
   "execution_count": null,
   "metadata": {
    "colab": {
     "base_uri": "https://localhost:8080/"
    },
    "id": "-UULfOT7awTI",
    "outputId": "2b891e1c-2a26-4771-ce53-f826fc30933a"
   },
   "outputs": [
    {
     "metadata": {
      "tags": null
     },
     "name": "stdout",
     "output_type": "stream",
     "text": [
      "从json文件中转换抽取三元组\n",
      "写入 药品 实体\n"
     ]
    },
    {
     "metadata": {
      "tags": null
     },
     "name": "stderr",
     "output_type": "stream",
     "text": [
      "100%|███████████████████████████████████████| 3975/3975 [01:02<00:00, 63.55it/s]\n"
     ]
    },
    {
     "metadata": {
      "tags": null
     },
     "name": "stdout",
     "output_type": "stream",
     "text": [
      "写入 菜谱 实体\n"
     ]
    },
    {
     "metadata": {
      "tags": null
     },
     "name": "stderr",
     "output_type": "stream",
     "text": [
      "100%|███████████████████████████████████████| 4506/4506 [01:10<00:00, 64.10it/s]\n"
     ]
    },
    {
     "metadata": {
      "tags": null
     },
     "name": "stdout",
     "output_type": "stream",
     "text": [
      "写入 食物 实体\n"
     ]
    },
    {
     "metadata": {
      "tags": null
     },
     "name": "stderr",
     "output_type": "stream",
     "text": [
      "100%|█████████████████████████████████████████| 366/366 [00:05<00:00, 67.31it/s]\n"
     ]
    },
    {
     "metadata": {
      "tags": null
     },
     "name": "stdout",
     "output_type": "stream",
     "text": [
      "写入 检查 实体\n"
     ]
    },
    {
     "metadata": {
      "tags": null
     },
     "name": "stderr",
     "output_type": "stream",
     "text": [
      "100%|███████████████████████████████████████| 3353/3353 [00:52<00:00, 63.50it/s]\n"
     ]
    },
    {
     "metadata": {
      "tags": null
     },
     "name": "stdout",
     "output_type": "stream",
     "text": [
      "写入 科室 实体\n"
     ]
    },
    {
     "metadata": {
      "tags": null
     },
     "name": "stderr",
     "output_type": "stream",
     "text": [
      "100%|███████████████████████████████████████████| 54/54 [00:00<00:00, 63.13it/s]\n"
     ]
    },
    {
     "metadata": {
      "tags": null
     },
     "name": "stdout",
     "output_type": "stream",
     "text": [
      "写入 药企 实体\n"
     ]
    },
    {
     "metadata": {
      "tags": null
     },
     "name": "stderr",
     "output_type": "stream",
     "text": [
      "100%|███████████████████████████████████████| 7919/7919 [02:14<00:00, 58.91it/s]\n"
     ]
    },
    {
     "metadata": {
      "tags": null
     },
     "name": "stdout",
     "output_type": "stream",
     "text": [
      "写入 疾病 实体\n"
     ]
    },
    {
     "metadata": {
      "tags": null
     },
     "name": "stderr",
     "output_type": "stream",
     "text": [
      "100%|███████████████████████████████████████| 8807/8807 [02:32<00:00, 57.79it/s]\n"
     ]
    },
    {
     "metadata": {
      "tags": null
     },
     "name": "stdout",
     "output_type": "stream",
     "text": [
      "写入 症状 实体\n"
     ]
    },
    {
     "metadata": {
      "tags": null
     },
     "name": "stderr",
     "output_type": "stream",
     "text": [
      "100%|███████████████████████████████████████| 5998/5998 [01:39<00:00, 60.43it/s]\n"
     ]
    },
    {
     "metadata": {
      "tags": null
     },
     "name": "stdout",
     "output_type": "stream",
     "text": [
      "写入 belongs_to 关系\n"
     ]
    },
    {
     "metadata": {
      "tags": null
     },
     "name": "stderr",
     "output_type": "stream",
     "text": [
      "100%|███████████████████████████████████████| 7976/7976 [01:38<00:00, 81.34it/s]\n"
     ]
    },
    {
     "metadata": {
      "tags": null
     },
     "name": "stdout",
     "output_type": "stream",
     "text": [
      "写入 not_eat 关系\n"
     ]
    },
    {
     "metadata": {
      "tags": null
     },
     "name": "stderr",
     "output_type": "stream",
     "text": [
      "100%|█████████████████████████████████████| 22278/22278 [08:47<00:00, 42.21it/s]\n"
     ]
    },
    {
     "metadata": {
      "tags": null
     },
     "name": "stdout",
     "output_type": "stream",
     "text": [
      "写入 do_eat 关系\n"
     ]
    },
    {
     "metadata": {
      "tags": null
     },
     "name": "stderr",
     "output_type": "stream",
     "text": [
      "100%|█████████████████████████████████████| 22258/22258 [08:46<00:00, 42.28it/s]\n"
     ]
    },
    {
     "metadata": {
      "tags": null
     },
     "name": "stdout",
     "output_type": "stream",
     "text": [
      "写入 recommand_recipes 关系\n"
     ]
    },
    {
     "metadata": {
      "tags": null
     },
     "name": "stderr",
     "output_type": "stream",
     "text": [
      "100%|█████████████████████████████████████| 40267/40267 [16:59<00:00, 39.51it/s]\n"
     ]
    },
    {
     "metadata": {
      "tags": null
     },
     "name": "stdout",
     "output_type": "stream",
     "text": [
      "写入 has_common_drug 关系\n"
     ]
    },
    {
     "metadata": {
      "tags": null
     },
     "name": "stderr",
     "output_type": "stream",
     "text": [
      "100%|█████████████████████████████████████| 14656/14656 [06:00<00:00, 40.69it/s]\n"
     ]
    },
    {
     "metadata": {
      "tags": null
     },
     "name": "stdout",
     "output_type": "stream",
     "text": [
      "写入 recommand_drug 关系\n"
     ]
    },
    {
     "metadata": {
      "tags": null
     },
     "name": "stderr",
     "output_type": "stream",
     "text": [
      "100%|█████████████████████████████████████| 59467/59467 [24:32<00:00, 40.38it/s]\n"
     ]
    },
    {
     "metadata": {
      "tags": null
     },
     "name": "stdout",
     "output_type": "stream",
     "text": [
      "写入 need_check 关系\n"
     ]
    },
    {
     "metadata": {
      "tags": null
     },
     "name": "stderr",
     "output_type": "stream",
     "text": [
      "100%|█████████████████████████████████████| 39531/39531 [16:11<00:00, 40.70it/s]\n"
     ]
    },
    {
     "metadata": {
      "tags": null
     },
     "name": "stdout",
     "output_type": "stream",
     "text": [
      "写入 production 关系\n"
     ]
    },
    {
     "metadata": {
      "tags": null
     },
     "name": "stderr",
     "output_type": "stream",
     "text": [
      "100%|█████████████████████████████████| 161664/161664 [1:01:25<00:00, 43.86it/s]\n"
     ]
    },
    {
     "metadata": {
      "tags": null
     },
     "name": "stdout",
     "output_type": "stream",
     "text": [
      "写入 has_symptom 关系\n"
     ]
    },
    {
     "metadata": {
      "tags": null
     },
     "name": "stderr",
     "output_type": "stream",
     "text": [
      "100%|█████████████████████████████████████| 54710/54710 [23:29<00:00, 38.83it/s]\n"
     ]
    },
    {
     "metadata": {
      "tags": null
     },
     "name": "stdout",
     "output_type": "stream",
     "text": [
      "写入 acompany_with 关系\n"
     ]
    },
    {
     "metadata": {
      "tags": null
     },
     "name": "stderr",
     "output_type": "stream",
     "text": [
      "100%|█████████████████████████████████████| 12052/12052 [05:32<00:00, 36.21it/s]\n"
     ]
    },
    {
     "metadata": {
      "tags": null
     },
     "name": "stdout",
     "output_type": "stream",
     "text": [
      "写入 cure_department 关系\n"
     ]
    },
    {
     "metadata": {
      "tags": null
     },
     "name": "stderr",
     "output_type": "stream",
     "text": [
      "100%|███████████████████████████████████████| 8807/8807 [03:21<00:00, 43.70it/s]\n"
     ]
    },
    {
     "metadata": {
      "tags": null
     },
     "name": "stdout",
     "output_type": "stream",
     "text": [
      "写入 疾病 实体的属性\n"
     ]
    },
    {
     "metadata": {
      "tags": null
     },
     "name": "stderr",
     "output_type": "stream",
     "text": [
      " 22%|████████▋                              | 1767/7916 [06:35<23:15,  4.41it/s]"
     ]
    },
    {
     "metadata": {
      "tags": null
     },
     "name": "stdout",
     "output_type": "stream",
     "text": [
      "[Statement.SyntaxError] Invalid input '': expected \"NOT\" or an expression (line 3, column 40 (offset: 96))\n",
      "\"                        set n.cure_way=\"\n",
      "                                        ^\n",
      "MATCH (n:疾病)\n",
      "                        WHERE n.name='肺纤维化'\n",
      "                        set n.cure_way=\n"
     ]
    },
    {
     "name": "stderr",
     "output_type": "stream",
     "text": [
      "100%|███████████████████████████████████████| 7916/7916 [32:02<00:00,  4.12it/s]\n"
     ]
    }
   ],
   "source": [
    "extractor = MedicalExtractor()\n",
    "extractor.extract_triples()\n",
    "extractor.create_entitys()\n",
    "extractor.create_relations()\n",
    "extractor.set_diseases_attributes()"
   ]
  }
 ],
 "metadata": {
  "colab": {
   "collapsed_sections": [],
   "provenance": []
  },
  "kernelspec": {
   "display_name": "Python 3 (ipykernel)",
   "language": "python",
   "name": "python3"
  },
  "language_info": {
   "codemirror_mode": {
    "name": "ipython",
    "version": 3
   },
   "file_extension": ".py",
   "mimetype": "text/x-python",
   "name": "python",
   "nbconvert_exporter": "python",
   "pygments_lexer": "ipython3",
   "version": "3.10.7"
  },
  "widgets": {
   "application/vnd.jupyter.widget-state+json": {
    "16db80166b624762bbafbc3858e26b8e": {
     "model_module": "@jupyter-widgets/controls",
     "model_module_version": "1.5.0",
     "model_name": "DescriptionStyleModel",
     "state": {
      "_model_module": "@jupyter-widgets/controls",
      "_model_module_version": "1.5.0",
      "_model_name": "DescriptionStyleModel",
      "_view_count": null,
      "_view_module": "@jupyter-widgets/base",
      "_view_module_version": "1.2.0",
      "_view_name": "StyleView",
      "description_width": ""
     }
    },
    "29a9251d400a43439f229bfedc8d3b22": {
     "model_module": "@jupyter-widgets/base",
     "model_module_version": "1.2.0",
     "model_name": "LayoutModel",
     "state": {
      "_model_module": "@jupyter-widgets/base",
      "_model_module_version": "1.2.0",
      "_model_name": "LayoutModel",
      "_view_count": null,
      "_view_module": "@jupyter-widgets/base",
      "_view_module_version": "1.2.0",
      "_view_name": "LayoutView",
      "align_content": null,
      "align_items": null,
      "align_self": null,
      "border": null,
      "bottom": null,
      "display": null,
      "flex": null,
      "flex_flow": null,
      "grid_area": null,
      "grid_auto_columns": null,
      "grid_auto_flow": null,
      "grid_auto_rows": null,
      "grid_column": null,
      "grid_gap": null,
      "grid_row": null,
      "grid_template_areas": null,
      "grid_template_columns": null,
      "grid_template_rows": null,
      "height": null,
      "justify_content": null,
      "justify_items": null,
      "left": null,
      "margin": null,
      "max_height": null,
      "max_width": null,
      "min_height": null,
      "min_width": null,
      "object_fit": null,
      "object_position": null,
      "order": null,
      "overflow": null,
      "overflow_x": null,
      "overflow_y": null,
      "padding": null,
      "right": null,
      "top": null,
      "visibility": null,
      "width": null
     }
    },
    "515ad1e656ed4963810cf55f631f8ff8": {
     "model_module": "@jupyter-widgets/base",
     "model_module_version": "1.2.0",
     "model_name": "LayoutModel",
     "state": {
      "_model_module": "@jupyter-widgets/base",
      "_model_module_version": "1.2.0",
      "_model_name": "LayoutModel",
      "_view_count": null,
      "_view_module": "@jupyter-widgets/base",
      "_view_module_version": "1.2.0",
      "_view_name": "LayoutView",
      "align_content": null,
      "align_items": null,
      "align_self": null,
      "border": null,
      "bottom": null,
      "display": null,
      "flex": null,
      "flex_flow": null,
      "grid_area": null,
      "grid_auto_columns": null,
      "grid_auto_flow": null,
      "grid_auto_rows": null,
      "grid_column": null,
      "grid_gap": null,
      "grid_row": null,
      "grid_template_areas": null,
      "grid_template_columns": null,
      "grid_template_rows": null,
      "height": null,
      "justify_content": null,
      "justify_items": null,
      "left": null,
      "margin": null,
      "max_height": null,
      "max_width": null,
      "min_height": null,
      "min_width": null,
      "object_fit": null,
      "object_position": null,
      "order": null,
      "overflow": null,
      "overflow_x": null,
      "overflow_y": null,
      "padding": null,
      "right": null,
      "top": null,
      "visibility": null,
      "width": null
     }
    },
    "65161d0a942b41ccb93bc5d4ea87d577": {
     "model_module": "@jupyter-widgets/controls",
     "model_module_version": "1.5.0",
     "model_name": "FloatProgressModel",
     "state": {
      "_dom_classes": [],
      "_model_module": "@jupyter-widgets/controls",
      "_model_module_version": "1.5.0",
      "_model_name": "FloatProgressModel",
      "_view_count": null,
      "_view_module": "@jupyter-widgets/controls",
      "_view_module_version": "1.5.0",
      "_view_name": "ProgressView",
      "bar_style": "success",
      "description": "",
      "description_tooltip": null,
      "layout": "IPY_MODEL_515ad1e656ed4963810cf55f631f8ff8",
      "max": 1,
      "min": 0,
      "orientation": "horizontal",
      "style": "IPY_MODEL_7ede98957976406fb753241ede8efbc9",
      "value": 1
     }
    },
    "6f8899c192f84094994aa4c4d537ff27": {
     "model_module": "@jupyter-widgets/controls",
     "model_module_version": "1.5.0",
     "model_name": "DescriptionStyleModel",
     "state": {
      "_model_module": "@jupyter-widgets/controls",
      "_model_module_version": "1.5.0",
      "_model_name": "DescriptionStyleModel",
      "_view_count": null,
      "_view_module": "@jupyter-widgets/base",
      "_view_module_version": "1.2.0",
      "_view_name": "StyleView",
      "description_width": ""
     }
    },
    "7ede98957976406fb753241ede8efbc9": {
     "model_module": "@jupyter-widgets/controls",
     "model_module_version": "1.5.0",
     "model_name": "ProgressStyleModel",
     "state": {
      "_model_module": "@jupyter-widgets/controls",
      "_model_module_version": "1.5.0",
      "_model_name": "ProgressStyleModel",
      "_view_count": null,
      "_view_module": "@jupyter-widgets/base",
      "_view_module_version": "1.2.0",
      "_view_name": "StyleView",
      "bar_color": null,
      "description_width": ""
     }
    },
    "874651bc6a834fbeaad6e79610607bab": {
     "model_module": "@jupyter-widgets/base",
     "model_module_version": "1.2.0",
     "model_name": "LayoutModel",
     "state": {
      "_model_module": "@jupyter-widgets/base",
      "_model_module_version": "1.2.0",
      "_model_name": "LayoutModel",
      "_view_count": null,
      "_view_module": "@jupyter-widgets/base",
      "_view_module_version": "1.2.0",
      "_view_name": "LayoutView",
      "align_content": null,
      "align_items": null,
      "align_self": null,
      "border": null,
      "bottom": null,
      "display": null,
      "flex": null,
      "flex_flow": null,
      "grid_area": null,
      "grid_auto_columns": null,
      "grid_auto_flow": null,
      "grid_auto_rows": null,
      "grid_column": null,
      "grid_gap": null,
      "grid_row": null,
      "grid_template_areas": null,
      "grid_template_columns": null,
      "grid_template_rows": null,
      "height": null,
      "justify_content": null,
      "justify_items": null,
      "left": null,
      "margin": null,
      "max_height": null,
      "max_width": null,
      "min_height": null,
      "min_width": null,
      "object_fit": null,
      "object_position": null,
      "order": null,
      "overflow": null,
      "overflow_x": null,
      "overflow_y": null,
      "padding": null,
      "right": null,
      "top": null,
      "visibility": null,
      "width": null
     }
    },
    "bcb5fbb1a5b14d4688796f2e35107c85": {
     "model_module": "@jupyter-widgets/controls",
     "model_module_version": "1.5.0",
     "model_name": "HTMLModel",
     "state": {
      "_dom_classes": [],
      "_model_module": "@jupyter-widgets/controls",
      "_model_module_version": "1.5.0",
      "_model_name": "HTMLModel",
      "_view_count": null,
      "_view_module": "@jupyter-widgets/controls",
      "_view_module_version": "1.5.0",
      "_view_name": "HTMLView",
      "description": "",
      "description_tooltip": null,
      "layout": "IPY_MODEL_874651bc6a834fbeaad6e79610607bab",
      "placeholder": "​",
      "style": "IPY_MODEL_6f8899c192f84094994aa4c4d537ff27",
      "value": "100%"
     }
    },
    "ca03919d1b3e4655bd0a2b00acedf49e": {
     "model_module": "@jupyter-widgets/controls",
     "model_module_version": "1.5.0",
     "model_name": "HBoxModel",
     "state": {
      "_dom_classes": [],
      "_model_module": "@jupyter-widgets/controls",
      "_model_module_version": "1.5.0",
      "_model_name": "HBoxModel",
      "_view_count": null,
      "_view_module": "@jupyter-widgets/controls",
      "_view_module_version": "1.5.0",
      "_view_name": "HBoxView",
      "box_style": "",
      "children": [
       "IPY_MODEL_bcb5fbb1a5b14d4688796f2e35107c85",
       "IPY_MODEL_65161d0a942b41ccb93bc5d4ea87d577",
       "IPY_MODEL_caf7bc647cbd4cb8bb7ebbfaa2a248cc"
      ],
      "layout": "IPY_MODEL_ca4ac9b7f7e548eb94f7511af1038322"
     }
    },
    "ca4ac9b7f7e548eb94f7511af1038322": {
     "model_module": "@jupyter-widgets/base",
     "model_module_version": "1.2.0",
     "model_name": "LayoutModel",
     "state": {
      "_model_module": "@jupyter-widgets/base",
      "_model_module_version": "1.2.0",
      "_model_name": "LayoutModel",
      "_view_count": null,
      "_view_module": "@jupyter-widgets/base",
      "_view_module_version": "1.2.0",
      "_view_name": "LayoutView",
      "align_content": null,
      "align_items": null,
      "align_self": null,
      "border": null,
      "bottom": null,
      "display": null,
      "flex": null,
      "flex_flow": null,
      "grid_area": null,
      "grid_auto_columns": null,
      "grid_auto_flow": null,
      "grid_auto_rows": null,
      "grid_column": null,
      "grid_gap": null,
      "grid_row": null,
      "grid_template_areas": null,
      "grid_template_columns": null,
      "grid_template_rows": null,
      "height": null,
      "justify_content": null,
      "justify_items": null,
      "left": null,
      "margin": null,
      "max_height": null,
      "max_width": null,
      "min_height": null,
      "min_width": null,
      "object_fit": null,
      "object_position": null,
      "order": null,
      "overflow": null,
      "overflow_x": null,
      "overflow_y": null,
      "padding": null,
      "right": null,
      "top": null,
      "visibility": null,
      "width": null
     }
    },
    "caf7bc647cbd4cb8bb7ebbfaa2a248cc": {
     "model_module": "@jupyter-widgets/controls",
     "model_module_version": "1.5.0",
     "model_name": "HTMLModel",
     "state": {
      "_dom_classes": [],
      "_model_module": "@jupyter-widgets/controls",
      "_model_module_version": "1.5.0",
      "_model_name": "HTMLModel",
      "_view_count": null,
      "_view_module": "@jupyter-widgets/controls",
      "_view_module_version": "1.5.0",
      "_view_name": "HTMLView",
      "description": "",
      "description_tooltip": null,
      "layout": "IPY_MODEL_29a9251d400a43439f229bfedc8d3b22",
      "placeholder": "​",
      "style": "IPY_MODEL_16db80166b624762bbafbc3858e26b8e",
      "value": " 1/1 [00:00&lt;00:00,  9.73it/s]"
     }
    }
   }
  }
 },
 "nbformat": 4,
 "nbformat_minor": 1
}
