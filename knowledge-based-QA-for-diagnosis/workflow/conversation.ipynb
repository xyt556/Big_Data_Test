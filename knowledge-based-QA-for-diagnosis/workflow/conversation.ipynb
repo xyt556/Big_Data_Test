{
  "nbformat": 4,
  "nbformat_minor": 0,
  "metadata": {
    "colab": {
      "provenance": [],
      "toc_visible": true,
      "collapsed_sections": []
    },
    "kernelspec": {
      "name": "python3",
      "display_name": "Python 3"
    },
    "language_info": {
      "name": "python"
    }
  },
  "cells": [
    {
      "cell_type": "code",
      "source": [
        "!pip install transformers\n",
        "!pip install py2neo"
      ],
      "metadata": {
        "colab": {
          "base_uri": "https://localhost:8080/"
        },
        "id": "ni_aOGLJ0VRW",
        "outputId": "42bc9a79-4bec-419e-bb08-e352f61bc011"
      },
      "execution_count": null,
      "outputs": [
        {
          "output_type": "stream",
          "name": "stdout",
          "text": [
            "Looking in indexes: https://pypi.org/simple, https://us-python.pkg.dev/colab-wheels/public/simple/\n",
            "Requirement already satisfied: transformers in /usr/local/lib/python3.7/dist-packages (4.22.1)\n",
            "Requirement already satisfied: tqdm>=4.27 in /usr/local/lib/python3.7/dist-packages (from transformers) (4.64.1)\n",
            "Requirement already satisfied: filelock in /usr/local/lib/python3.7/dist-packages (from transformers) (3.8.0)\n",
            "Requirement already satisfied: pyyaml>=5.1 in /usr/local/lib/python3.7/dist-packages (from transformers) (6.0)\n",
            "Requirement already satisfied: packaging>=20.0 in /usr/local/lib/python3.7/dist-packages (from transformers) (21.3)\n",
            "Requirement already satisfied: regex!=2019.12.17 in /usr/local/lib/python3.7/dist-packages (from transformers) (2022.6.2)\n",
            "Requirement already satisfied: importlib-metadata in /usr/local/lib/python3.7/dist-packages (from transformers) (4.12.0)\n",
            "Requirement already satisfied: requests in /usr/local/lib/python3.7/dist-packages (from transformers) (2.23.0)\n",
            "Requirement already satisfied: numpy>=1.17 in /usr/local/lib/python3.7/dist-packages (from transformers) (1.21.6)\n",
            "Requirement already satisfied: huggingface-hub<1.0,>=0.9.0 in /usr/local/lib/python3.7/dist-packages (from transformers) (0.9.1)\n",
            "Requirement already satisfied: tokenizers!=0.11.3,<0.13,>=0.11.1 in /usr/local/lib/python3.7/dist-packages (from transformers) (0.12.1)\n",
            "Requirement already satisfied: typing-extensions>=3.7.4.3 in /usr/local/lib/python3.7/dist-packages (from huggingface-hub<1.0,>=0.9.0->transformers) (4.1.1)\n",
            "Requirement already satisfied: pyparsing!=3.0.5,>=2.0.2 in /usr/local/lib/python3.7/dist-packages (from packaging>=20.0->transformers) (3.0.9)\n",
            "Requirement already satisfied: zipp>=0.5 in /usr/local/lib/python3.7/dist-packages (from importlib-metadata->transformers) (3.8.1)\n",
            "Requirement already satisfied: idna<3,>=2.5 in /usr/local/lib/python3.7/dist-packages (from requests->transformers) (2.10)\n",
            "Requirement already satisfied: urllib3!=1.25.0,!=1.25.1,<1.26,>=1.21.1 in /usr/local/lib/python3.7/dist-packages (from requests->transformers) (1.24.3)\n",
            "Requirement already satisfied: chardet<4,>=3.0.2 in /usr/local/lib/python3.7/dist-packages (from requests->transformers) (3.0.4)\n",
            "Requirement already satisfied: certifi>=2017.4.17 in /usr/local/lib/python3.7/dist-packages (from requests->transformers) (2022.6.15)\n",
            "Looking in indexes: https://pypi.org/simple, https://us-python.pkg.dev/colab-wheels/public/simple/\n",
            "Requirement already satisfied: py2neo in /usr/local/lib/python3.7/dist-packages (2021.2.3)\n",
            "Requirement already satisfied: urllib3 in /usr/local/lib/python3.7/dist-packages (from py2neo) (1.24.3)\n",
            "Requirement already satisfied: certifi in /usr/local/lib/python3.7/dist-packages (from py2neo) (2022.6.15)\n",
            "Requirement already satisfied: pansi>=2020.7.3 in /usr/local/lib/python3.7/dist-packages (from py2neo) (2020.7.3)\n",
            "Requirement already satisfied: monotonic in /usr/local/lib/python3.7/dist-packages (from py2neo) (1.6)\n",
            "Requirement already satisfied: pygments>=2.0.0 in /usr/local/lib/python3.7/dist-packages (from py2neo) (2.6.1)\n",
            "Requirement already satisfied: packaging in /usr/local/lib/python3.7/dist-packages (from py2neo) (21.3)\n",
            "Requirement already satisfied: interchange~=2021.0.4 in /usr/local/lib/python3.7/dist-packages (from py2neo) (2021.0.4)\n",
            "Requirement already satisfied: six>=1.15.0 in /usr/local/lib/python3.7/dist-packages (from py2neo) (1.15.0)\n",
            "Requirement already satisfied: pytz in /usr/local/lib/python3.7/dist-packages (from interchange~=2021.0.4->py2neo) (2022.2.1)\n",
            "Requirement already satisfied: pyparsing!=3.0.5,>=2.0.2 in /usr/local/lib/python3.7/dist-packages (from packaging->py2neo) (3.0.9)\n"
          ]
        }
      ]
    },
    {
      "cell_type": "markdown",
      "source": [
        "# Intent Recognition Model"
      ],
      "metadata": {
        "id": "90OIpFp004mj"
      }
    },
    {
      "cell_type": "code",
      "execution_count": null,
      "metadata": {
        "id": "VAKbK1Ye0RmC"
      },
      "outputs": [],
      "source": [
        "\n",
        "from transformers import AutoTokenizer, AutoModelForSequenceClassification\n",
        "from transformers import TextClassificationPipeline\n",
        "\n",
        "tokenizer = AutoTokenizer.from_pretrained(\"nlp-guild/bert-base-chinese-finetuned-intent_recognition-biomedical\")\n",
        "model = AutoModelForSequenceClassification.from_pretrained(\"nlp-guild/bert-base-chinese-finetuned-intent_recognition-biomedical\")\n",
        "ir_pipeline = TextClassificationPipeline(model = model, tokenizer = tokenizer)\n",
        "\n",
        "label_set = [\n",
        "'定义',\n",
        "'病因',\n",
        "'预防',\n",
        "'临床表现(病症表现)',\n",
        "'相关病症',\n",
        "'治疗方法',\n",
        "'所属科室',\n",
        "'传染性',\n",
        "'治愈率',\n",
        "'禁忌',\n",
        "'化验/体检方案',\n",
        "'治疗时间',\n",
        "'其他'\n",
        "]\n"
      ]
    },
    {
      "cell_type": "code",
      "source": [
        "def readable_results_ir(top_k:int, usr_query:str):\n",
        "    raw = ir_pipeline(usr_query, top_k = top_k)\n",
        "    def f(x):\n",
        "        index = int(x['label'][6:])\n",
        "        x['label'] = label_set[index]\n",
        "    \n",
        "    for i in raw:\n",
        "        f(i)\n",
        "    return raw\n",
        " \n",
        "readable_results_ir(3,'得了心脏病怎么办')"
      ],
      "metadata": {
        "colab": {
          "base_uri": "https://localhost:8080/"
        },
        "id": "Y-1aUd-D0hXo",
        "outputId": "87ccceb4-73f8-4c01-9609-7b8d943fb298"
      },
      "execution_count": null,
      "outputs": [
        {
          "output_type": "execute_result",
          "data": {
            "text/plain": [
              "[{'label': '治疗方法', 'score': 0.9994503855705261},\n",
              " {'label': '其他', 'score': 0.00018375989748165011},\n",
              " {'label': '临床表现(病症表现)', 'score': 0.00010841596667887643}]"
            ]
          },
          "metadata": {},
          "execution_count": 3
        }
      ]
    },
    {
      "cell_type": "markdown",
      "source": [
        "# NER model"
      ],
      "metadata": {
        "id": "wfna9emk1JVQ"
      }
    },
    {
      "cell_type": "code",
      "source": [
        "from transformers import AutoTokenizer, AutoModelForTokenClassification\n",
        "tokenizer = AutoTokenizer.from_pretrained(\"Adapting/bert-base-chinese-finetuned-NER-biomedical\")\n",
        "model = AutoModelForTokenClassification.from_pretrained(\"Adapting/bert-base-chinese-finetuned-NER-biomedical\",revision='7f63e3d18b1dc3cc23041a89e77be21860704d2e')\n",
        "\n",
        "from transformers import pipeline\n",
        "ner_pipeline = pipeline('ner',model=model,tokenizer = tokenizer)\n",
        "\n",
        "tag_set = [\n",
        " 'B_手术',\n",
        " 'I_疾病和诊断',\n",
        " 'B_症状',\n",
        " 'I_解剖部位',\n",
        " 'I_药物',\n",
        " 'B_影像检查',\n",
        " 'B_药物',\n",
        " 'B_疾病和诊断',\n",
        " 'I_影像检查',\n",
        " 'I_手术',\n",
        " 'B_解剖部位',\n",
        " 'O',\n",
        " 'B_实验室检验',\n",
        " 'I_症状',\n",
        " 'I_实验室检验'\n",
        " ]\n",
        " \n",
        "tag2id = lambda tag: tag_set.index(tag)\n",
        "id2tag = lambda id: tag_set[id]\n",
        "\n",
        "def readable_results_ner(query):\n",
        "    result = ner_pipeline(query)\n",
        "\n",
        "    results_in_word = {}\n",
        "    j = 0\n",
        "    while j < len(result):   \n",
        "        i = result[j]\n",
        "        entity = id2tag(int(i['entity'][i['entity'].index('_')+1:]))\n",
        "        token = i['word']\n",
        "        if entity.startswith('B'):\n",
        "            entity_name = entity[entity.index('_')+1:]\n",
        "\n",
        "            word = token\n",
        "            j = j+1\n",
        "            while j<len(result):\n",
        "                next = result[j]\n",
        "                next_ent = id2tag(int(next['entity'][next['entity'].index('_')+1:]))\n",
        "                next_token = next['word']\n",
        "\n",
        "                if next_ent.startswith('I') and next_ent[next_ent.index('_')+1:] == entity_name:\n",
        "                    word += next_token\n",
        "                    j += 1\n",
        "\n",
        "                    if j >= len(result):\n",
        "                        # results_in_word.append((entity_name,word))\n",
        "                        if entity_name not in results_in_word.keys():\n",
        "                            results_in_word[entity_name] = [word]\n",
        "                        else:\n",
        "                             results_in_word[entity_name].append(word)\n",
        "                else:\n",
        "                    # results_in_word.append((entity_name,word))\n",
        "                    if entity_name not in results_in_word.keys():\n",
        "                        results_in_word[entity_name] = [word]\n",
        "                    else:\n",
        "                        results_in_word[entity_name].append(word)\n",
        "                    break\n",
        "\n",
        "        else:\n",
        "            j += 1\n",
        "    \n",
        "    return results_in_word\n",
        "\n",
        "\n",
        "        "
      ],
      "metadata": {
        "id": "W2Bz21Dv0q5S"
      },
      "execution_count": null,
      "outputs": []
    },
    {
      "cell_type": "code",
      "source": [
        "print(readable_results_ner('淋球菌性尿道炎会引起头痛'))"
      ],
      "metadata": {
        "colab": {
          "base_uri": "https://localhost:8080/"
        },
        "id": "VVteQbAR1q2_",
        "outputId": "d8fc01ac-ca93-4ee3-c359-88e9846dd0ab"
      },
      "execution_count": null,
      "outputs": [
        {
          "output_type": "stream",
          "name": "stdout",
          "text": [
            "{'疾病和诊断': ['淋球菌性尿道炎'], '症状': ['头痛']}\n"
          ]
        }
      ]
    },
    {
      "cell_type": "code",
      "source": [
        "readable_results_ir(3,'得了心肌炎怎么办')"
      ],
      "metadata": {
        "colab": {
          "base_uri": "https://localhost:8080/"
        },
        "id": "rzvwbk571v8S",
        "outputId": "65f3f310-5960-481b-d977-0b2838f0faf7"
      },
      "execution_count": null,
      "outputs": [
        {
          "output_type": "execute_result",
          "data": {
            "text/plain": [
              "[{'label': '治疗方法', 'score': 0.9994162321090698},\n",
              " {'label': '其他', 'score': 0.00015517184510827065},\n",
              " {'label': '临床表现(病症表现)', 'score': 0.0001521914527984336}]"
            ]
          },
          "metadata": {},
          "execution_count": 6
        }
      ]
    },
    {
      "cell_type": "markdown",
      "source": [
        "# Conversation"
      ],
      "metadata": {
        "id": "6FRQm3Ye2Ak4"
      }
    },
    {
      "cell_type": "code",
      "source": [
        "user_query = '得了心肌炎怎么办'"
      ],
      "metadata": {
        "id": "zI_t6ntU16t4"
      },
      "execution_count": null,
      "outputs": []
    },
    {
      "cell_type": "code",
      "source": [
        "user_intent = readable_results_ir(1,user_query)[0]['label']\n",
        "user_intent"
      ],
      "metadata": {
        "colab": {
          "base_uri": "https://localhost:8080/",
          "height": 35
        },
        "id": "mAG3M2Sc2J8S",
        "outputId": "27dfc48b-5715-463c-8f96-f350c2819a15"
      },
      "execution_count": null,
      "outputs": [
        {
          "output_type": "execute_result",
          "data": {
            "text/plain": [
              "'治疗方法'"
            ],
            "application/vnd.google.colaboratory.intrinsic+json": {
              "type": "string"
            }
          },
          "metadata": {},
          "execution_count": 8
        }
      ]
    },
    {
      "cell_type": "code",
      "source": [
        "disease = readable_results_ner(user_query).get('疾病和诊断',None)\n",
        "disease"
      ],
      "metadata": {
        "colab": {
          "base_uri": "https://localhost:8080/"
        },
        "id": "fysrdi8S2Y3P",
        "outputId": "83469b55-1d88-400b-ea90-0b40b5461f3a"
      },
      "execution_count": null,
      "outputs": [
        {
          "output_type": "execute_result",
          "data": {
            "text/plain": [
              "['心肌炎']"
            ]
          },
          "metadata": {},
          "execution_count": 9
        }
      ]
    },
    {
      "cell_type": "code",
      "source": [
        "class Template:\n",
        "    def __init__(self):\n",
        "        self.schema = {\n",
        "    \"定义\":{\n",
        "        \"slot_list\" : [\"疾病和诊断\"],\n",
        "        \"cql_template\" : \"MATCH(p:疾病) WHERE p.name= '<Disease>' RETURN p.desc\",\n",
        "        \"reply_template\" : \"<Disease>是这样的：\\n\",\n",
        "        \"ask_template\" : \"您问的是<Disease>的定义吗？\",\n",
        "    },\n",
        "    \"病因\":{\n",
        "        \"slot_list\" : [\"疾病和诊断\"],\n",
        "        \"cql_template\" : \"MATCH(p:疾病) WHERE p.name= '<Disease>' RETURN p.cause\",\n",
        "        \"reply_template\" : \"<Disease>疾病的原因是：\\n\",\n",
        "        \"ask_template\" : \"您问的是疾病<Disease>的原因吗？\",\n",
        "    },\n",
        "    \"预防\":{\n",
        "        \"slot_list\" : [\"疾病和诊断\"],\n",
        "        \"cql_template\" : \"MATCH(p:疾病) WHERE p.name= '<Disease>' RETURN p.prevent\",\n",
        "        \"reply_template\" : \"关于<Disease>疾病您可以这样预防：\\n\",\n",
        "        \"ask_template\" : \"请问您问的是疾病<Disease>的预防措施吗？\",\n",
        "    },\n",
        "    \"临床表现(病症表现)\":{\n",
        "        \"slot_list\" : [\"疾病和诊断\"],\n",
        "        \"cql_template\" : \"MATCH(p:疾病)-[r:has_symptom]->(q:症状) WHERE p.name= '<Disease>' RETURN q.name\",\n",
        "        \"reply_template\" : \"<Disease>疾病的病症表现一般是这样的：\\n\",\n",
        "        \"ask_template\" : \"您问的是疾病<Disease>的症状表现吗？\",\n",
        "    },\n",
        "    \"相关病症\":{\n",
        "        \"slot_list\" : [\"疾病和诊断\"],\n",
        "        \"cql_template\" : \"MATCH(p:疾病)-[r:acompany_with]->(q:疾病) WHERE p.name= '<Disease>' RETURN q.name\",\n",
        "        \"reply_template\" : \"<Disease>疾病的具有以下并发疾病：\\n\",\n",
        "        \"ask_template\" : \"您问的是疾病<Disease>的并发疾病吗？\",\n",
        "    },\n",
        "    \"治疗方法\":{\n",
        "        \"slot_list\" : [\"疾病和诊断\"],\n",
        "        \"cql_template\" : [\"MATCH(p:疾病) WHERE p.name= '<Disease>' RETURN p.cure_way\",\n",
        "                        \"MATCH(p:疾病)-[r:recommand_drug]->(q) WHERE p.name= '<Disease>' RETURN q.name\",\n",
        "                        \"MATCH(p:疾病)-[r:recommand_recipes]->(q) WHERE p.name= '<Disease>' RETURN q.name\"],\n",
        "        \"reply_template\" : \"<Disease>疾病的治疗方式、可用的药物、推荐菜肴有：\\n\",\n",
        "        \"ask_template\" : \"您问的是疾病<Disease>的治疗方法吗？\",\n",
        "    },\n",
        "    \"所属科室\":{\n",
        "        \"slot_list\" : [\"疾病和诊断\"],\n",
        "        \"cql_template\" : \"MATCH(p:疾病)-[r:cure_department]->(q:科室) WHERE p.name= '<Disease>' RETURN q.name\",\n",
        "        \"reply_template\" : \"得了<Disease>可以挂这个科室哦：\\n\",\n",
        "        \"ask_template\" : \"您想问的是疾病<Disease>要挂什么科室吗？\",\n",
        "    },\n",
        "    \"传染性\":{\n",
        "        \"slot_list\" : [\"疾病和诊断\"],\n",
        "        \"cql_template\" : \"MATCH(p:疾病) WHERE p.name= '<Disease>' RETURN p.easy_get\",\n",
        "        \"reply_template\" : \"<Disease>较为容易感染这些人群：\\n\",\n",
        "        \"ask_template\" : \"您想问的是疾病<Disease>会感染哪些人吗？\",\n",
        "    },\n",
        "    \"治愈率\":{\n",
        "        \"slot_list\" : [\"疾病和诊断\"],\n",
        "        \"cql_template\" : \"MATCH(p:疾病) WHERE p.name= '<Disease>' RETURN p.cured_prob\",\n",
        "        \"reply_template\" : \"得了<Disease>的治愈率为：\",\n",
        "        \"ask_template\" : \"您想问<Disease>的治愈率吗？\",\n",
        "    },\n",
        "    \"治疗时间\":{\n",
        "        \"slot_list\" : [\"疾病和诊断\"],\n",
        "        \"cql_template\" : \"MATCH(p:疾病) WHERE p.name= '<Disease>' RETURN p.cure_lasttime\",\n",
        "        \"reply_template\" : \"疾病<Disease>的治疗周期为：\",\n",
        "        \"ask_template\" : \"您想问<Disease>的治疗周期吗？\",\n",
        "    },\n",
        "    \"化验/体检方案\":{\n",
        "        \"slot_list\" : [\"疾病和诊断\"],\n",
        "        \"cql_template\" : \"MATCH(p:疾病)-[r:need_check]->(q:检查) WHERE p.name= '<Disease>' RETURN q.name\",\n",
        "        \"reply_template\" : \"得了<Disease>需要做以下检查：\\n\",\n",
        "        \"ask_template\" : \"您是想问<Disease>要做什么检查吗？\",\n",
        "    },\n",
        "    \"禁忌\":{\n",
        "        \"slot_list\" : [\"疾病和诊断\"],\n",
        "        \"cql_template\" : \"MATCH(p:疾病)-[r:not_eat]->(q:食物) WHERE p.name= '<Disease>' RETURN q.name\",\n",
        "        \"reply_template\" : \"得了<Disease>切记不要吃这些食物哦：\\n\",\n",
        "        \"ask_template\" : \"您是想问<Disease>不可以吃的食物是什么吗？\",\n",
        "    },\n",
        "    \"其他\": None\n",
        "}\n",
        "        self.dunno_templates = [\n",
        "            \"人类的语言太难了！！\",\n",
        "            \"没有理解您说的意思哦~\",\n",
        "            \"非常抱歉，我还不知道如何回答您，我正在努力学习中~\",\n",
        "            \"额~似乎有点不理解你说的是啥呢~~\",\n",
        "            \"您说的我有点不明白，您可以换个问法问我哦~\",\n",
        "            \"很抱歉没有理解你的意思呢~\",\n",
        "        ]\n",
        "\n",
        "        self.greeting_templates = [\n",
        "            \"hi\",\n",
        "            \"你好呀\",\n",
        "            \"我是智能医疗诊断机器人，有什么可以帮助你吗\",\n",
        "            \"hi，你好，你可以叫我小智\",\n",
        "            \"你好，你可以问我一些关于疾病诊断的问题哦\"\n",
        "        ]\n",
        "\n",
        "        self.goodbye_templates = [\n",
        "            \"再见，很高兴为您服务\",\n",
        "            \"bye\",\n",
        "            \"再见，感谢使用我的服务\",\n",
        "            \"再见啦，祝你健康\"\n",
        "        ]\n",
        "\n",
        "        self.self_intro_templates = [\n",
        "            \"我是小智，你的智能健康顾问\",\n",
        "            \"你可以叫我小智哦~\",\n",
        "            \"我是医疗诊断机器人小智\"\n",
        "        ]"
      ],
      "metadata": {
        "id": "slMRttQL384a"
      },
      "execution_count": null,
      "outputs": []
    },
    {
      "cell_type": "code",
      "source": [
        "import random\n",
        "from py2neo import Graph\n",
        "\n",
        "class Conversation:\n",
        "    def __init__(self) -> None:\n",
        "        self.context = None # 正在讨论的疾病\n",
        "        self.templates = Template()\n",
        "        self.password = None # change password here\n",
        "        self.kg = Graph(\"neo4j+s://f54cadff.databases.neo4j.io:7687\", auth=(\"neo4j\", self.password))\n",
        "    \n",
        "    def reply(self, user_query:str):\n",
        "        if any(x in user_query for x in ['hello', 'hi','你好', '嗨嗨', '你好啊']):\n",
        "            return random.choice(self.templates.greeting_templates)\n",
        "        elif any(x in user_query for x in ['bye', 'goodbye','88', '再见', '谢谢', '感谢','拜拜','白白', '好的']):\n",
        "            return random.choice(self.templates.goodbye_templates)\n",
        "        elif any(x in user_query for x in ['名字', '是谁','who are you', '你是']):\n",
        "            return random.choice(self.templates.self_intro_templates)\n",
        "\n",
        "        user_intent = readable_results_ir(1,user_query)[0]['label']\n",
        "        if user_intent == '其他':\n",
        "            return random.choice(self.templates.dunno_templates)\n",
        "        else:\n",
        "            # get the slot list for this intent\n",
        "            schema = self.templates.schema[user_intent]\n",
        "            slot_list = schema['slot_list']\n",
        "\n",
        "            ne =  readable_results_ner(user_query)\n",
        "            slots = {}\n",
        "\n",
        "            for slot in slot_list:\n",
        "                slot_value = ne.get(slot,None)\n",
        "                if slot_value is None:\n",
        "                    if slot == '疾病和诊断' and self.context is not None:\n",
        "                        slot_value = [self.context]\n",
        "                        slots[slot] = slot_value\n",
        "                    else:\n",
        "                        return f'请您提供一下信息: {slot}.'\n",
        "                else:\n",
        "                    slots[slot] = slot_value\n",
        "            \n",
        "\n",
        "            # 到这里时该intent所有必要的slots已填充并保存于 $slots$\n",
        "            disease = slots['疾病和诊断'][0]\n",
        "            self.context = disease\n",
        "            cql_templates = schema['cql_template']\n",
        "\n",
        "            knowledge = ''\n",
        "\n",
        "            if isinstance(cql_templates, list):\n",
        "                for _ in cql_templates:\n",
        "                    knowledge += self.query_kg(_.replace('<Disease>',disease)) +'\\n'\n",
        "            else:\n",
        "                knowledge += self.query_kg(cql_templates.replace('<Disease>',disease))\n",
        "            \n",
        "            response = schema['reply_template'].replace('<Disease>',disease)\n",
        "            response += knowledge\n",
        "\n",
        "            # context management\n",
        "\n",
        "\n",
        "            return response\n",
        "\n",
        "    def query_kg(self,cql:str):\n",
        "        try:   \n",
        "            ret = ''\n",
        "            data = self.kg.run(cql).data()\n",
        "            for i in data:\n",
        "                tmp = list(i.values())[0]\n",
        "                if isinstance(tmp,list):\n",
        "                    ret +=', '.join(tmp)\n",
        "                else:\n",
        "                    ret += tmp\n",
        "                \n",
        "                ret += ', '\n",
        "    \n",
        "            return ret[:-2]+'.'\n",
        "        except Exception as e:\n",
        "            print(e)\n",
        "            return ''\n"
      ],
      "metadata": {
        "id": "Kcw-pjBS6SMb"
      },
      "execution_count": null,
      "outputs": []
    },
    {
      "cell_type": "code",
      "source": [
        "conv = Conversation()"
      ],
      "metadata": {
        "id": "NsThK7nH-7sP"
      },
      "execution_count": null,
      "outputs": []
    },
    {
      "cell_type": "code",
      "source": [
        "conv.reply('你干嘛')"
      ],
      "metadata": {
        "colab": {
          "base_uri": "https://localhost:8080/",
          "height": 35
        },
        "id": "JMUMby_y_BEO",
        "outputId": "bb25c569-28af-40a8-fcc3-e44ed1732265"
      },
      "execution_count": null,
      "outputs": [
        {
          "output_type": "execute_result",
          "data": {
            "text/plain": [
              "'人类的语言太难了！！'"
            ],
            "application/vnd.google.colaboratory.intrinsic+json": {
              "type": "string"
            }
          },
          "metadata": {},
          "execution_count": 13
        }
      ]
    },
    {
      "cell_type": "code",
      "source": [
        "print(conv.reply('得了心肌炎怎么办'))"
      ],
      "metadata": {
        "colab": {
          "base_uri": "https://localhost:8080/"
        },
        "id": "Tl6ILLyrBPdG",
        "outputId": "50f67254-f7ad-4c3e-e46a-431970f53d8f"
      },
      "execution_count": null,
      "outputs": [
        {
          "output_type": "stream",
          "name": "stdout",
          "text": [
            "心肌炎疾病的治疗方式、可用的药物、推荐菜肴有：\n",
            "药物治疗, 支持性治疗.\n",
            "转移因子胶囊, 滋心阴胶囊, 三磷酸腺苷二钠片, 辅酶Q10胶囊, 复方二氯醋酸二异丙胺片, 辅酶Q10片, 门冬氨酸钾镁片, 参龙宁心胶囊, 心欣舒胶囊, 软脉灵口服液, 屏风生脉胶囊.\n",
            "小麦红枣猪脑汤, 莲子黑枣小麦汤, 雪菜牛肉粥, 草菇猪心肉片饭, 百合芝麻猪心汤, 牛肉汉堡包, 芹菜牛肉粥, 紫菜色拉卷.\n",
            "\n"
          ]
        }
      ]
    },
    {
      "cell_type": "code",
      "source": [
        "print(conv.reply('请问得了心脏病怎么办'))"
      ],
      "metadata": {
        "colab": {
          "base_uri": "https://localhost:8080/"
        },
        "id": "iBWD9zY4LS8a",
        "outputId": "0a4e2198-ad67-4c4d-e514-7809b131d1c7"
      },
      "execution_count": null,
      "outputs": [
        {
          "output_type": "stream",
          "name": "stdout",
          "text": [
            "心脏病疾病的治疗方式、可用的药物、推荐菜肴有：\n",
            "手术治疗, 介入治疗, 药物治疗, 支持性治疗.\n",
            "琥乙红霉素片, 依托红霉素颗粒, 琥乙红霉素颗粒, 依托红霉素片, 地高辛片.\n",
            "素炒菠菜, 五香蒜苔, 素炒小白菜, 苦瓜粥, 银耳冬瓜羹, 芥菜炒蚕豆, 豌豆绿豆粥, 马兰头菜粥.\n",
            "\n"
          ]
        }
      ]
    },
    {
      "cell_type": "code",
      "source": [
        "print(conv.reply('心肌炎是什么'))"
      ],
      "metadata": {
        "colab": {
          "base_uri": "https://localhost:8080/"
        },
        "id": "5XBQmgDQLfr2",
        "outputId": "04c26794-80ab-4949-f629-30214a4c2a2e"
      },
      "execution_count": null,
      "outputs": [
        {
          "output_type": "stream",
          "name": "stdout",
          "text": [
            "心肌炎是这样的：\n",
            "心肌炎(myocarditis)是指由各种原因引起的心肌的局限性或弥漫性炎症，多种因素如感染、物理和化学因素均可引起心肌炎，所造成的心肌损害的轻重程度差别很大，临床表现各异，轻症患者无任何症状，而重症患者可发生心力衰竭、心源性休克甚至猝死。大部分患者经治疗可获得痊愈，有些患者在急性期之后发展为扩张型心肌病改变，可反复发生心力衰竭。虽然某些心肌炎由于在终期可过渡为充血性或限制性心肌病，而被某些学者视为继发性心肌病，但在发病学上心肌炎毕竟是可区分的疾病类型，引起心肌炎的原因很多：感染性因素，主要是病毒如柯萨奇病毒、艾柯病毒、流感病毒、腺病毒、肝炎病毒等;细菌如白喉杆菌、链球菌等;真菌;立克次体;螺旋体;原虫等。其中病毒性心肌炎最常见。自身免疫性疾病：如系统性红斑狼疮、巨细胞性心肌炎;物理因素：如胸部放射性治疗引起的心肌损伤;化学因素：如多种药物如一些抗菌素、肿瘤化疗药物等。.\n"
          ]
        }
      ]
    },
    {
      "cell_type": "code",
      "source": [
        "print(conv.reply('心肌炎要治疗多久'))"
      ],
      "metadata": {
        "colab": {
          "base_uri": "https://localhost:8080/"
        },
        "id": "9TzM0GfcLsFI",
        "outputId": "b3d7971d-c56a-4d73-e9a6-38a47cdf498b"
      },
      "execution_count": null,
      "outputs": [
        {
          "output_type": "stream",
          "name": "stdout",
          "text": [
            "疾病心肌炎的治疗周期为：6个月.\n"
          ]
        }
      ]
    },
    {
      "cell_type": "code",
      "source": [
        "print(conv.context)"
      ],
      "metadata": {
        "colab": {
          "base_uri": "https://localhost:8080/"
        },
        "id": "_r7HerRSNBjN",
        "outputId": "3f68ae4f-315f-48ca-9be1-82547ed66ee6"
      },
      "execution_count": null,
      "outputs": [
        {
          "output_type": "stream",
          "name": "stdout",
          "text": [
            "心肌炎\n"
          ]
        }
      ]
    },
    {
      "cell_type": "code",
      "source": [
        "conv.reply('他需要治疗多久')"
      ],
      "metadata": {
        "colab": {
          "base_uri": "https://localhost:8080/",
          "height": 35
        },
        "id": "s9UbVArfNML9",
        "outputId": "9da41fa2-bb07-48b2-f2b1-5d4a2d61b3ab"
      },
      "execution_count": null,
      "outputs": [
        {
          "output_type": "execute_result",
          "data": {
            "text/plain": [
              "'疾病心肌炎的治疗周期为：6个月.'"
            ],
            "application/vnd.google.colaboratory.intrinsic+json": {
              "type": "string"
            }
          },
          "metadata": {},
          "execution_count": 19
        }
      ]
    },
    {
      "cell_type": "code",
      "source": [
        "conv.reply('他有没有并发症')"
      ],
      "metadata": {
        "colab": {
          "base_uri": "https://localhost:8080/",
          "height": 35
        },
        "id": "crbNvG5WNfH2",
        "outputId": "50e707c5-08cd-402a-8319-1e0093ba57fe"
      },
      "execution_count": null,
      "outputs": [
        {
          "output_type": "execute_result",
          "data": {
            "text/plain": [
              "'心肌炎疾病的具有以下并发疾病：\\n心源性休克.'"
            ],
            "application/vnd.google.colaboratory.intrinsic+json": {
              "type": "string"
            }
          },
          "metadata": {},
          "execution_count": 20
        }
      ]
    },
    {
      "cell_type": "code",
      "source": [
        "usr = input()\n",
        "while usr != 'exit':\n",
        "    print(conv.reply(usr))\n",
        "    print()\n",
        "    usr = input()"
      ],
      "metadata": {
        "colab": {
          "base_uri": "https://localhost:8080/"
        },
        "id": "gpmPWl2rNqaz",
        "outputId": "2c24111c-dad5-4276-f5f1-004b15961ae6"
      },
      "execution_count": null,
      "outputs": [
        {
          "name": "stdout",
          "output_type": "stream",
          "text": [
            "你是谁\n",
            "你可以叫我小智哦~\n",
            "\n",
            "你知道得了心脏病怎么办吗\n",
            "心脏病疾病的治疗方式、可用的药物、推荐菜肴有：\n",
            "手术治疗, 介入治疗, 药物治疗, 支持性治疗.\n",
            "琥乙红霉素片, 依托红霉素颗粒, 琥乙红霉素颗粒, 依托红霉素片, 地高辛片.\n",
            "素炒菠菜, 五香蒜苔, 素炒小白菜, 苦瓜粥, 银耳冬瓜羹, 芥菜炒蚕豆, 豌豆绿豆粥, 马兰头菜粥.\n",
            "\n",
            "\n",
            "要治疗多久啊\n",
            "疾病心脏病的治疗周期为：1-3个月.\n",
            "\n",
            "有没有禁忌啥的\n",
            "得了心脏病切记不要吃这些食物哦：\n",
            "白酒, 鹌鹑蛋, 鸡腿, 鸡肉.\n",
            "\n",
            "有并发症吗\n",
            "心脏病疾病的具有以下并发疾病：\n",
            "脑梗塞.\n",
            "\n",
            "好的 谢谢\n",
            "再见，感谢使用我的服务\n",
            "\n",
            "exit\n"
          ]
        }
      ]
    }
  ]
}