{
  "nbformat": 4,
  "nbformat_minor": 0,
  "metadata": {
    "colab": {
      "provenance": [],
      "collapsed_sections": []
    },
    "kernelspec": {
      "name": "python3",
      "display_name": "Python 3"
    },
    "language_info": {
      "name": "python"
    }
  },
  "cells": [
    {
      "cell_type": "code",
      "source": [
        "!pip install textdistance\n",
        "!pip install py2neo"
      ],
      "metadata": {
        "colab": {
          "base_uri": "https://localhost:8080/"
        },
        "id": "GkowQj3mUkyk",
        "outputId": "361edefd-6cbf-40ac-c19c-603f8d91af4e"
      },
      "execution_count": null,
      "outputs": [
        {
          "output_type": "stream",
          "name": "stdout",
          "text": [
            "Looking in indexes: https://pypi.org/simple, https://us-python.pkg.dev/colab-wheels/public/simple/\n",
            "Collecting py2neo\n",
            "  Downloading py2neo-2021.2.3-py2.py3-none-any.whl (177 kB)\n",
            "\u001b[K     |████████████████████████████████| 177 kB 4.0 MB/s \n",
            "\u001b[?25hRequirement already satisfied: certifi in /usr/local/lib/python3.7/dist-packages (from py2neo) (2022.6.15)\n",
            "Requirement already satisfied: pygments>=2.0.0 in /usr/local/lib/python3.7/dist-packages (from py2neo) (2.6.1)\n",
            "Collecting interchange~=2021.0.4\n",
            "  Downloading interchange-2021.0.4-py2.py3-none-any.whl (28 kB)\n",
            "Requirement already satisfied: six>=1.15.0 in /usr/local/lib/python3.7/dist-packages (from py2neo) (1.15.0)\n",
            "Collecting pansi>=2020.7.3\n",
            "  Downloading pansi-2020.7.3-py2.py3-none-any.whl (10 kB)\n",
            "Collecting monotonic\n",
            "  Downloading monotonic-1.6-py2.py3-none-any.whl (8.2 kB)\n",
            "Requirement already satisfied: urllib3 in /usr/local/lib/python3.7/dist-packages (from py2neo) (1.24.3)\n",
            "Requirement already satisfied: packaging in /usr/local/lib/python3.7/dist-packages (from py2neo) (21.3)\n",
            "Requirement already satisfied: pytz in /usr/local/lib/python3.7/dist-packages (from interchange~=2021.0.4->py2neo) (2022.2.1)\n",
            "Requirement already satisfied: pyparsing!=3.0.5,>=2.0.2 in /usr/local/lib/python3.7/dist-packages (from packaging->py2neo) (3.0.9)\n",
            "Installing collected packages: pansi, monotonic, interchange, py2neo\n",
            "Successfully installed interchange-2021.0.4 monotonic-1.6 pansi-2020.7.3 py2neo-2021.2.3\n"
          ]
        }
      ]
    },
    {
      "cell_type": "markdown",
      "source": [
        "# 1 Token-level distance function\n",
        "\n",
        "We use algorithms in `textdistance` to compute the distance between two strings in token-level. An example is `jaccard` algorithm:"
      ],
      "metadata": {
        "id": "EgRmhSIuLMbp"
      }
    },
    {
      "cell_type": "code",
      "source": [
        "import textdistance as td "
      ],
      "metadata": {
        "id": "J8WoRQVhUlrd"
      },
      "execution_count": null,
      "outputs": []
    },
    {
      "cell_type": "code",
      "source": [
        "td.jaccard('感冒','感,;sdf冒')"
      ],
      "metadata": {
        "colab": {
          "base_uri": "https://localhost:8080/"
        },
        "id": "I-ad3cWmUyyk",
        "outputId": "baa2aabf-3a89-4598-cb32-da6f43700000"
      },
      "execution_count": null,
      "outputs": [
        {
          "output_type": "execute_result",
          "data": {
            "text/plain": [
              "0.2857142857142857"
            ]
          },
          "metadata": {},
          "execution_count": 3
        }
      ]
    },
    {
      "cell_type": "markdown",
      "source": [
        "## One Mention, Many Candidates\n",
        "Since in real practice we should compute a mention word against many entities from a knowledge base, we further implement this interface."
      ],
      "metadata": {
        "id": "79fRytPkLe0N"
      }
    },
    {
      "cell_type": "code",
      "source": [
        "import numpy as np\n",
        "def one2many(dist_func):\n",
        "    def new_func(mention:str, candidates: list):\n",
        "        f = lambda candidate: dist_func(mention,candidate)\n",
        "        return np.array(list(map(f, candidates)))\n",
        "\n",
        "    return new_func"
      ],
      "metadata": {
        "id": "hvxYaob9JQq3"
      },
      "execution_count": null,
      "outputs": []
    },
    {
      "cell_type": "code",
      "source": [
        "jaccard_many = one2many(td.jaccard)"
      ],
      "metadata": {
        "id": "ku1BIqmAKy5C"
      },
      "execution_count": null,
      "outputs": []
    },
    {
      "cell_type": "code",
      "source": [
        "jaccard_many('感冒',['感冒','流行感冒','小儿感冒'])"
      ],
      "metadata": {
        "colab": {
          "base_uri": "https://localhost:8080/"
        },
        "id": "beDRy_AGK657",
        "outputId": "1839c6e5-c0f9-4d3e-e24c-d1153c8ffb45"
      },
      "execution_count": null,
      "outputs": [
        {
          "output_type": "execute_result",
          "data": {
            "text/plain": [
              "array([1. , 0.5, 0.5])"
            ]
          },
          "metadata": {},
          "execution_count": 46
        }
      ]
    },
    {
      "cell_type": "markdown",
      "source": [
        "# 2 Connect to Neo4j KG\n",
        "Connect to Neo4j KG and load the disease entities."
      ],
      "metadata": {
        "id": "S9AKtLjCL3do"
      }
    },
    {
      "cell_type": "code",
      "source": [
        "from py2neo import Graph\n",
        "password = None # set your password here\n",
        "graph = Graph(\"neo4j+s://f54cadff.databases.neo4j.io:7687\", auth=(\"neo4j\", password))"
      ],
      "metadata": {
        "id": "QD9MRuTmFrx9"
      },
      "execution_count": null,
      "outputs": []
    },
    {
      "cell_type": "code",
      "source": [
        "def query_graph(entity_type:str):\n",
        "    '''\n",
        "    return: query results in List\n",
        "    '''\n",
        "    cql = f'match (n:`{entity_type}`) return n.name'\n",
        "    ret = list(graph.run(cql))\n",
        "    f = lambda record: record.values()[0]\n",
        "    ret = list(map(f,ret))\n",
        "    return ret"
      ],
      "metadata": {
        "id": "69SEOI2cG0n9"
      },
      "execution_count": null,
      "outputs": []
    },
    {
      "cell_type": "code",
      "source": [
        "result = query_graph('疾病')"
      ],
      "metadata": {
        "id": "l4s4lp4OHD85"
      },
      "execution_count": null,
      "outputs": []
    },
    {
      "cell_type": "code",
      "source": [
        "len(result)"
      ],
      "metadata": {
        "colab": {
          "base_uri": "https://localhost:8080/"
        },
        "id": "ib0rvus9HJ7q",
        "outputId": "cd133abf-0d88-4dd5-9a7b-b490152eafea"
      },
      "execution_count": null,
      "outputs": [
        {
          "output_type": "execute_result",
          "data": {
            "text/plain": [
              "8807"
            ]
          },
          "metadata": {},
          "execution_count": 74
        }
      ]
    },
    {
      "cell_type": "code",
      "source": [
        "result[0]"
      ],
      "metadata": {
        "colab": {
          "base_uri": "https://localhost:8080/",
          "height": 35
        },
        "id": "jwUJkbk5IFKP",
        "outputId": "d42ba160-d5e1-49ea-f56e-9f0a96f47f19"
      },
      "execution_count": null,
      "outputs": [
        {
          "output_type": "execute_result",
          "data": {
            "text/plain": [
              "'放射性视网膜病变'"
            ],
            "application/vnd.google.colaboratory.intrinsic+json": {
              "type": "string"
            }
          },
          "metadata": {},
          "execution_count": 75
        }
      ]
    },
    {
      "cell_type": "markdown",
      "source": [
        "# 3 Compute similarity between mention and candidates"
      ],
      "metadata": {
        "id": "FIZtnZ38OJyD"
      }
    },
    {
      "cell_type": "code",
      "source": [
        "similarities = jaccard_many('感冒',result)"
      ],
      "metadata": {
        "id": "4Fi2jjZdOQkL"
      },
      "execution_count": null,
      "outputs": []
    },
    {
      "cell_type": "code",
      "source": [
        "id = np.argmax(similarities)\n",
        "id"
      ],
      "metadata": {
        "colab": {
          "base_uri": "https://localhost:8080/"
        },
        "id": "PofPAXd4Oaim",
        "outputId": "10ee3a56-53b9-45bc-eb94-ee2e80dc2bc2"
      },
      "execution_count": null,
      "outputs": [
        {
          "output_type": "execute_result",
          "data": {
            "text/plain": [
              "5686"
            ]
          },
          "metadata": {},
          "execution_count": 87
        }
      ]
    },
    {
      "cell_type": "code",
      "source": [
        "result[id]"
      ],
      "metadata": {
        "colab": {
          "base_uri": "https://localhost:8080/",
          "height": 35
        },
        "id": "yRKI37raOgTC",
        "outputId": "f807e335-ef80-43da-e015-ab8a44c67d41"
      },
      "execution_count": null,
      "outputs": [
        {
          "output_type": "execute_result",
          "data": {
            "text/plain": [
              "'感冒'"
            ],
            "application/vnd.google.colaboratory.intrinsic+json": {
              "type": "string"
            }
          },
          "metadata": {},
          "execution_count": 88
        }
      ]
    },
    {
      "cell_type": "code",
      "source": [
        "def topK_candidates(k:int, mention, candidates):\n",
        "    similarities = jaccard_many(mention,candidates)\n",
        "    ids = np.argpartition(similarities, -k)[-k:]\n",
        "\n",
        "    result = [candidates[a] for a in ids]\n",
        "    f = lambda x : td.jaccard(mention,x)\n",
        "    return sorted(result, key=f, reverse= True)\n",
        "    "
      ],
      "metadata": {
        "id": "hzplBm7TP3Dx"
      },
      "execution_count": null,
      "outputs": []
    },
    {
      "cell_type": "code",
      "source": [
        "topK_candidates(3,'感冒',result)"
      ],
      "metadata": {
        "colab": {
          "base_uri": "https://localhost:8080/"
        },
        "id": "9uZ_Jbn-QesX",
        "outputId": "ee196b77-d5e2-4b7b-dcc0-20deefadc043"
      },
      "execution_count": null,
      "outputs": [
        {
          "output_type": "execute_result",
          "data": {
            "text/plain": [
              "['感冒', '风寒感冒', '小儿感冒']"
            ]
          },
          "metadata": {},
          "execution_count": 100
        }
      ]
    },
    {
      "cell_type": "code",
      "source": [
        "!pip install git+https://github.com/leoxiang66/text-similarity.git"
      ],
      "metadata": {
        "colab": {
          "base_uri": "https://localhost:8080/"
        },
        "id": "YnKkglIyTLFd",
        "outputId": "21554ff0-8c61-499b-d565-a7f7eda5d879"
      },
      "execution_count": null,
      "outputs": [
        {
          "output_type": "stream",
          "name": "stdout",
          "text": [
            "Looking in indexes: https://pypi.org/simple, https://us-python.pkg.dev/colab-wheels/public/simple/\n",
            "Collecting git+https://github.com/leoxiang66/text-similarity.git\n",
            "  Cloning https://github.com/leoxiang66/text-similarity.git to /tmp/pip-req-build-p_kjfvhm\n",
            "  Running command git clone -q https://github.com/leoxiang66/text-similarity.git /tmp/pip-req-build-p_kjfvhm\n",
            "Requirement already satisfied: textdistance in /usr/local/lib/python3.7/dist-packages (from textsimilarity==0.1.0) (4.5.0)\n",
            "Requirement already satisfied: numpy in /usr/local/lib/python3.7/dist-packages (from textsimilarity==0.1.0) (1.21.6)\n"
          ]
        }
      ]
    },
    {
      "cell_type": "code",
      "source": [
        "from textsimilarity import textsimilarity as ts"
      ],
      "metadata": {
        "id": "7r1XDmRbZ33e"
      },
      "execution_count": null,
      "outputs": []
    },
    {
      "cell_type": "code",
      "source": [
        "ts.top_K_similarity_between_one_mention_and_many_candidates(10,'感冒',result)"
      ],
      "metadata": {
        "colab": {
          "base_uri": "https://localhost:8080/"
        },
        "id": "sGGBMKmbZ8zp",
        "outputId": "b0188471-fa6e-41e3-d691-2d2bd1ffe023"
      },
      "execution_count": null,
      "outputs": [
        {
          "output_type": "execute_result",
          "data": {
            "text/plain": [
              "['感冒',\n",
              " '风热感冒',\n",
              " '小儿感冒',\n",
              " '风寒感冒',\n",
              " '肠胃型感冒',\n",
              " '病毒性感冒',\n",
              " '流行性感冒',\n",
              " '郁冒',\n",
              " '副流行性感冒',\n",
              " '小儿流行性感冒']"
            ]
          },
          "metadata": {},
          "execution_count": 107
        }
      ]
    }
  ]
}