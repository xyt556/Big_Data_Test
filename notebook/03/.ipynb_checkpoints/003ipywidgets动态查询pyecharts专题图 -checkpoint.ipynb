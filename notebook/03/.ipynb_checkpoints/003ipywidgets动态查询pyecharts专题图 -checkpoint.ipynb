{
 "cells": [
  {
   "cell_type": "code",
   "execution_count": null,
   "metadata": {},
   "outputs": [],
   "source": [
    "import pandas,numpy\n",
    "from sqlalchemy import create_engine\n",
    "import seaborn as sns\n",
    "import matplotlib.pyplot as plt\n",
    "from ipywidgets import *\n",
    "from IPython.display import display\n",
    "import pyecharts\n",
    "from pyecharts import options as opts\n",
    "from pyecharts.charts import Bar,Map,Line3D,Line,Bar3D\n",
    "from pyecharts.globals import ThemeType"
   ]
  },
  {
   "cell_type": "code",
   "execution_count": null,
   "metadata": {},
   "outputs": [],
   "source": [
    "engine = create_engine('postgresql://{0}:{1}@{2}:5432/{3}'.format(\"postgres\",\n",
    "                                                                    \"postgres\",\n",
    "                                                                  \"localhost\",\n",
    "                                                                  \"postgres\"))"
   ]
  },
  {
   "cell_type": "code",
   "execution_count": null,
   "metadata": {
    "scrolled": true
   },
   "outputs": [],
   "source": [
    "df = pandas.read_sql_query(\"SELECT name FROM public.citieslocation\",engine)"
   ]
  },
  {
   "cell_type": "code",
   "execution_count": null,
   "metadata": {},
   "outputs": [],
   "source": [
    "def showecharts(data) -> Bar:\n",
    "    bar = pyecharts.charts.Bar(init_opts=opts.InitOpts(theme=ThemeType.ESSOS))\n",
    "    bar.add_xaxis(data[\"date\"].tolist())\n",
    "    x = True\n",
    "    for i in data:\n",
    "        if i == \"hour\" or i == \"name\" or i == \"date\":pass\n",
    "        else:\n",
    "            bar.add_yaxis(i, data[i].tolist(),is_selected=x)\n",
    "        x= False\n",
    "    bar.set_series_opts(label_opts=opts.LabelOpts(is_show=False))\n",
    "    bar.set_global_opts(title_opts=opts.TitleOpts(title=c.value),\n",
    "                       xaxis_opts=opts.AxisOpts(axislabel_opts=opts.LabelOpts(rotate=90)))\n",
    "    return bar\n",
    "\n",
    "def showecharts3d(data) -> Bar3D:\n",
    "    x = [\"{0}\".format(i) for i in data[\"date\"].tolist()]\n",
    "    y = []\n",
    "    for i in data:\n",
    "        if i == \"hour\" or i == \"name\" or i == \"date\":pass\n",
    "        else:\n",
    "            y.append(i)\n",
    "    data = [(x[i], y[j], data[y[j]].iloc[i]) for i in range(len(x)) for j in range(len(y))]\n",
    "    bar = pyecharts.charts.Bar3D(init_opts=opts.InitOpts(theme=ThemeType.ESSOS))\n",
    "    bar.add(\"{0} {1} {2}\".format(c.value,m.value,h.value),\n",
    "            [[d[0], d[1], d[2]] for d in data])\n",
    "    return bar\n",
    "\n",
    "def showechartsLine(data) -> Line:\n",
    "    bar = pyecharts.charts.Line(init_opts=opts.InitOpts(theme=ThemeType.ESSOS))\n",
    "    bar.add_xaxis([\"{0}\".format(i) for i in data[\"date\"].tolist()])\n",
    "    for i in data.columns:\n",
    "        if i == \"hour\" or i == \"name\" or i == \"date\":pass\n",
    "        else:\n",
    "            bar.add_yaxis(i, data[i].tolist())\n",
    "\n",
    "    bar.set_series_opts(label_opts=opts.LabelOpts(is_show=False))\n",
    "    bar.set_global_opts(title_opts=opts.TitleOpts(title=c.value),\n",
    "                       xaxis_opts=opts.AxisOpts(axislabel_opts=opts.LabelOpts(rotate=90)))\n",
    "\n",
    "    return bar"
   ]
  },
  {
   "cell_type": "code",
   "execution_count": null,
   "metadata": {},
   "outputs": [],
   "source": [
    "def queryData(m,h,c):\n",
    "    m1 = m * 100\n",
    "    m2 = (m + 1) * 100\n",
    "    sql = \"SELECT * \\\n",
    "    FROM public.chinacitiesair where name = '{0}' \\\n",
    "    and date > {1} and date < {2} and hour = {3}\".format(c,m1,m2,h)\n",
    "    return pandas.read_sql_query(sql,engine)"
   ]
  },
  {
   "cell_type": "code",
   "execution_count": null,
   "metadata": {},
   "outputs": [],
   "source": [
    "import IPython.display"
   ]
  },
  {
   "cell_type": "code",
   "execution_count": null,
   "metadata": {},
   "outputs": [],
   "source": [
    "def btnClick(i):\n",
    "    IPython.display.clear_output()\n",
    "    display(form)\n",
    "    name = c.value\n",
    "    if name == \"输入\":\n",
    "        name = c1.value\n",
    "    else:\n",
    "        c1.value = name\n",
    "    res = queryData(m.value,h.value,name)\n",
    "    if tp.value == \"2D柱状图\":\n",
    "        charts = showecharts(res)\n",
    "    elif tp.value == \"3D柱状图\":\n",
    "        charts = showecharts3d(res)\n",
    "    else:\n",
    "        charts = showechartsLine(res)\n",
    "    display(charts.render_notebook())"
   ]
  },
  {
   "cell_type": "code",
   "execution_count": null,
   "metadata": {},
   "outputs": [],
   "source": [
    "tp = widgets.RadioButtons(\n",
    "    options=['2D柱状图','3D柱状图','折线图'],\n",
    "    disabled=False\n",
    ")\n",
    "b = Button(description=\"查询\")\n",
    "m = IntSlider(min=201801, max=201811)\n",
    "h = IntSlider(min=0, max=23)\n",
    "c = Dropdown(options=[\"输入\"]+df[\"name\"].tolist())\n",
    "c1 = Text()\n",
    "b.on_click(btnClick)\n",
    "form_item_layout = Layout(\n",
    "    display='flex',\n",
    "    flex_flow='row',\n",
    "    justify_content='space-between'\n",
    ")\n",
    "form_items = [\n",
    "    Box([Label(value='专题图样式'),tp] ,layout=form_item_layout),\n",
    "    Box([Label(value='月份'),m] ,layout=form_item_layout),\n",
    "    Box([Label(value='时间'), h], layout=form_item_layout),\n",
    "    Box([Label(value='城市'),c,c1], layout=form_item_layout),\n",
    "    b\n",
    "]\n",
    "form = Box(form_items, layout=Layout(\n",
    "    display='flex',flex_flow='column',order='solid 2px',\n",
    "    align_items='stretch',width='50%'))\n",
    "form"
   ]
  },
  {
   "cell_type": "code",
   "execution_count": null,
   "metadata": {},
   "outputs": [],
   "source": []
  },
  {
   "cell_type": "code",
   "execution_count": null,
   "metadata": {},
   "outputs": [],
   "source": []
  }
 ],
 "metadata": {
  "kernelspec": {
   "display_name": "Python 3",
   "language": "python",
   "name": "python3"
  },
  "language_info": {
   "codemirror_mode": {
    "name": "ipython",
    "version": 3
   },
   "file_extension": ".py",
   "mimetype": "text/x-python",
   "name": "python",
   "nbconvert_exporter": "python",
   "pygments_lexer": "ipython3",
   "version": "3.6.8"
  }
 },
 "nbformat": 4,
 "nbformat_minor": 2
}
