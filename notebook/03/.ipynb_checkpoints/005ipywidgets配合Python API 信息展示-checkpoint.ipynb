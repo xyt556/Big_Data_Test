{
 "cells": [
  {
   "cell_type": "code",
   "execution_count": 1,
   "metadata": {},
   "outputs": [],
   "source": [
    "import pandas,numpy\n",
    "from sqlalchemy import create_engine\n",
    "import seaborn as sns\n",
    "import matplotlib.pyplot as plt\n",
    "from ipywidgets import *\n",
    "from IPython.display import display\n",
    "import pyecharts\n",
    "from pyecharts import options as opts\n",
    "from pyecharts.charts import Bar,Map,Line3D,Line,Bar3D\n",
    "from pyecharts.globals import ThemeType\n",
    "import calendar\n",
    "import datetime"
   ]
  },
  {
   "cell_type": "code",
   "execution_count": 2,
   "metadata": {},
   "outputs": [],
   "source": [
    "engine = create_engine('postgresql://{0}:{1}@{2}:5432/{3}'.format(\"postgres\",\n",
    "                                                                    \"postgres\",\n",
    "                                                                  \"127.0.0.1\",\n",
    "                                                                  \"postgres\"))"
   ]
  },
  {
   "cell_type": "code",
   "execution_count": 3,
   "metadata": {
    "scrolled": true
   },
   "outputs": [],
   "source": [
    "df = pandas.read_sql_query(\"SELECT name,x,y FROM public.citieslocation\",engine)"
   ]
  },
  {
   "cell_type": "code",
   "execution_count": 4,
   "metadata": {},
   "outputs": [],
   "source": [
    "import arcgis.widgets as aw\n",
    "aw.MapView.set_js_cdn(\"http://localhost/jsapi/4.11/\")"
   ]
  },
  {
   "cell_type": "code",
   "execution_count": 5,
   "metadata": {},
   "outputs": [],
   "source": [
    "from arcgis import GIS\n",
    "from arcgis.geometry import Point"
   ]
  },
  {
   "cell_type": "code",
   "execution_count": 6,
   "metadata": {},
   "outputs": [],
   "source": [
    "gis = GIS(\"https://www.arcgisonline.cn/arcgis\",\"jupyter123\",\"notebook123\")\n",
    "mymap = gis.map()\n",
    "mymap.basemap = \"捷泰地图彩色中文版\"\n",
    "mymap.layout = Layout(height=\"600px\")"
   ]
  },
  {
   "cell_type": "code",
   "execution_count": 9,
   "metadata": {},
   "outputs": [],
   "source": [
    "def caleMr(y):\n",
    "    mr = calendar.monthrange(2018,y%100)\n",
    "    return mr[1] \n",
    "\n",
    "        \n",
    "tp = widgets.RadioButtons(\n",
    "    options=['bar','line'],\n",
    "    disabled=False\n",
    ")\n",
    "m = IntSlider(min=201801, max=201811)"
   ]
  },
  {
   "cell_type": "code",
   "execution_count": 10,
   "metadata": {
    "scrolled": false
   },
   "outputs": [
    {
     "data": {
      "application/vnd.jupyter.widget-view+json": {
       "model_id": "34ff8d63ae1d49c6a4473b95cbe13c70",
       "version_major": 2,
       "version_minor": 0
      },
      "text/plain": [
       "Box(children=(Box(children=(Label(value='专题图样式'), RadioButtons(options=('bar', 'line'), value='bar')), layout=…"
      ]
     },
     "metadata": {},
     "output_type": "display_data"
    }
   ],
   "source": [
    "form_item_layout = Layout(\n",
    "    display='flex',\n",
    "    flex_flow='row',\n",
    ")\n",
    "form_items = [\n",
    "    Box([Label(value='专题图样式'),tp] ,layout=form_item_layout),\n",
    "    Box([Label(value='月份'),m] ,layout=form_item_layout),\n",
    "    mymap\n",
    "]\n",
    "form = Box(form_items, layout=Layout(\n",
    "    display='flex',flex_flow='column',order='solid 2px',\n",
    "    align_items='stretch',width='100%'))\n",
    "form"
   ]
  },
  {
   "cell_type": "code",
   "execution_count": 14,
   "metadata": {},
   "outputs": [],
   "source": [
    "mymap.clear_graphics()\n",
    "for d in df.iterrows():\n",
    "    pnt = Point({\"x\" : d[1][\"x\"], \"y\" : d[1][\"y\"], \"spatialReference\" : {\"wkid\" : 4326}})\n",
    "    sym = {}\n",
    "    sym[\"type\"] = \"esriSMS\"\n",
    "    sym[\"style\"] = \"esriSMSCircle\"\n",
    "    sym[\"color\"]= (255,0,0,255)\n",
    "    sym[\"size\"] = 7\n",
    "    s = \"<p>\"\n",
    "    for i in range(1,caleMr(m.value)+1):\n",
    "        s += \"<a href=\\\"http://127.0.0.1:8890/echarts?sty={0}&d={1}&c={2}\\\"\\\n",
    "        target=\\\"_blank\\\"\\\">{3}</a>&nbsp;&nbsp&nbsp;\".format(tp.value,m.value*100+i,d[1][\"name\"],i) \n",
    "        if i % 10 == 0:\n",
    "            s+=\"</p><p>\"\n",
    "    s += \"</p>\" \n",
    "    mymap.draw(pnt,popup=({\"title\":d[1][\"name\"]+\"  {0}\".format(m.value),\n",
    "                           \"content\":\"<p>请选择查询日期：</p>\"+s})\n",
    "              ,symbol=sym\n",
    "              )"
   ]
  },
  {
   "cell_type": "code",
   "execution_count": null,
   "metadata": {},
   "outputs": [],
   "source": []
  }
 ],
 "metadata": {
  "kernelspec": {
   "display_name": "Python 3",
   "language": "python",
   "name": "python3"
  },
  "language_info": {
   "codemirror_mode": {
    "name": "ipython",
    "version": 3
   },
   "file_extension": ".py",
   "mimetype": "text/x-python",
   "name": "python",
   "nbconvert_exporter": "python",
   "pygments_lexer": "ipython3",
   "version": "3.6.8"
  }
 },
 "nbformat": 4,
 "nbformat_minor": 2
}
