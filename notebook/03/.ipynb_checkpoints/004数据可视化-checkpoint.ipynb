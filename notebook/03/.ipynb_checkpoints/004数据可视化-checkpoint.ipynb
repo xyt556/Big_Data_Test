{
 "cells": [
  {
   "cell_type": "code",
   "execution_count": null,
   "metadata": {},
   "outputs": [],
   "source": [
    "import pandas,numpy\n",
    "from sqlalchemy import create_engine\n",
    "import time,random\n",
    "import seaborn as sns\n",
    "import matplotlib.pyplot as plt"
   ]
  },
  {
   "cell_type": "code",
   "execution_count": null,
   "metadata": {},
   "outputs": [],
   "source": [
    "engine = create_engine('postgresql://{0}:{1}@{2}:5432/{3}'.format(\"postgres\",\n",
    "                                                                    \"postgres\",\n",
    "                                                                  \"localhost\",\n",
    "                                                                  \"postgres\"))"
   ]
  },
  {
   "cell_type": "code",
   "execution_count": null,
   "metadata": {},
   "outputs": [],
   "source": [
    "air = pandas.read_sql_query(\"select * from public.chinacitiesair where date=20181001\\\n",
    " and hour=9\",engine)"
   ]
  },
  {
   "cell_type": "code",
   "execution_count": null,
   "metadata": {},
   "outputs": [],
   "source": [
    "df = pandas.read_sql_query(\"SELECT x, y,name FROM public.citieslocation\",engine)"
   ]
  },
  {
   "cell_type": "code",
   "execution_count": null,
   "metadata": {},
   "outputs": [],
   "source": [
    "df.set_index(\"name\")\n",
    "air.set_index(\"name\")\n",
    "air2 = pandas.merge(air, df, on='name').dropna()"
   ]
  },
  {
   "cell_type": "code",
   "execution_count": null,
   "metadata": {},
   "outputs": [],
   "source": [
    "air2 = air2.sort_values(\"PM2.5\")\n",
    "x = air2[\"x\"].tolist()\n",
    "y = air2[\"y\"].tolist()\n",
    "pm25 = air2[\"PM2.5\"].tolist()\n",
    "so2 = [s * 3 for s in air2[\"SO2\"].tolist()]\n",
    "name = air2[\"name\"].tolist()"
   ]
  },
  {
   "cell_type": "code",
   "execution_count": null,
   "metadata": {},
   "outputs": [],
   "source": [
    "c = sns.color_palette(\"Reds\",len(x))\n",
    "c2 = [(int(x[0]*255),int(x[1]*255),int(x[2]*255),255)for x in c]"
   ]
  },
  {
   "cell_type": "code",
   "execution_count": null,
   "metadata": {},
   "outputs": [],
   "source": [
    "fig = plt.figure(figsize=(16,10))\n",
    "plt.scatter(x,y,c=c,s=so2*10)"
   ]
  },
  {
   "cell_type": "code",
   "execution_count": null,
   "metadata": {},
   "outputs": [],
   "source": [
    "import arcgis.widgets as aw\n",
    "aw.MapView.set_js_cdn(\"http://localhost/jsapi/4.11/\")"
   ]
  },
  {
   "cell_type": "code",
   "execution_count": null,
   "metadata": {},
   "outputs": [],
   "source": [
    "from arcgis import GIS\n",
    "from arcgis.geometry import Point"
   ]
  },
  {
   "cell_type": "code",
   "execution_count": null,
   "metadata": {},
   "outputs": [],
   "source": [
    "gis = GIS(\"https://www.arcgisonline.cn/arcgis\",\"jupyter123\",\"notebook123\")\n",
    "mymap = gis.map()\n",
    "mymap.basemap = \"捷泰地图彩色中文版\""
   ]
  },
  {
   "cell_type": "code",
   "execution_count": null,
   "metadata": {},
   "outputs": [],
   "source": [
    "mymap"
   ]
  },
  {
   "cell_type": "code",
   "execution_count": null,
   "metadata": {},
   "outputs": [],
   "source": [
    "mymap.clear_graphics()\n",
    "for i in range(len(x)):\n",
    "    pnt = Point({\"x\" : x[i], \"y\" : y[i], \"spatialReference\" : {\"wkid\" : 4326}})\n",
    "    sym = {}\n",
    "    sym[\"type\"] = \"esriSMS\"\n",
    "    sym[\"style\"] = \"esriSMSCircle\"\n",
    "    sym[\"color\"]= c2[i]\n",
    "    sym[\"size\"] = so2[i]/10\n",
    "    mymap.draw(pnt,popup=({\"title\":str(name[i]),\n",
    "                           \"content\":\"日期：2018年5月1日<br/>pm2.5 : {0}\\\n",
    "                           <br/>SO2 : {1}\".format(pm25[i],so2[i])}),symbol=sym)\n",
    "    t = random.randint(0,5)\n",
    "    if t == 1:\n",
    "        time.sleep(0.05)"
   ]
  }
 ],
 "metadata": {
  "kernelspec": {
   "display_name": "Python 3",
   "language": "python",
   "name": "python3"
  },
  "language_info": {
   "codemirror_mode": {
    "name": "ipython",
    "version": 3
   },
   "file_extension": ".py",
   "mimetype": "text/x-python",
   "name": "python",
   "nbconvert_exporter": "python",
   "pygments_lexer": "ipython3",
   "version": "3.6.8"
  }
 },
 "nbformat": 4,
 "nbformat_minor": 2
}
