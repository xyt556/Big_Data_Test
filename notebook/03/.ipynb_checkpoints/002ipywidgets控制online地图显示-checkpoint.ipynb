{
 "cells": [
  {
   "cell_type": "markdown",
   "metadata": {},
   "source": [
    "## 叠加online的数据与地图\n"
   ]
  },
  {
   "cell_type": "code",
   "execution_count": null,
   "metadata": {},
   "outputs": [],
   "source": [
    "from arcgis.gis import GIS\n",
    "gis = GIS(\"https://www.geosceneonline.cn/geoscene\",\"jupyter_notebook\",\"jupyter123\")"
   ]
  },
  {
   "cell_type": "code",
   "execution_count": null,
   "metadata": {},
   "outputs": [],
   "source": [
    "from ipywidgets import *"
   ]
  },
  {
   "cell_type": "code",
   "execution_count": null,
   "metadata": {},
   "outputs": [],
   "source": [
    "mymap = gis.map()"
   ]
  },
  {
   "cell_type": "code",
   "execution_count": null,
   "metadata": {
    "scrolled": true
   },
   "outputs": [],
   "source": [
    "mymap.gallery_basemaps"
   ]
  },
  {
   "cell_type": "code",
   "execution_count": null,
   "metadata": {},
   "outputs": [],
   "source": [
    "mymap.basemap = \"捷泰地图彩色中文版\""
   ]
  },
  {
   "cell_type": "code",
   "execution_count": null,
   "metadata": {},
   "outputs": [],
   "source": [
    "mymap"
   ]
  },
  {
   "cell_type": "code",
   "execution_count": null,
   "metadata": {},
   "outputs": [],
   "source": [
    "mymap.layout = Layout(height=\"600px\")"
   ]
  },
  {
   "cell_type": "code",
   "execution_count": null,
   "metadata": {},
   "outputs": [],
   "source": [
    "mymap2 = gis.map()\n",
    "mymap2.basemap = \"捷泰地图蓝黑版\""
   ]
  },
  {
   "cell_type": "code",
   "execution_count": null,
   "metadata": {},
   "outputs": [],
   "source": [
    "mymap.layout = Layout(height=\"600px\",flex= '1 1',padding=\"5px\")\n",
    "mymap2.layout = Layout(height=\"600px\",flex= '1 1',padding=\"5px\")"
   ]
  },
  {
   "cell_type": "code",
   "execution_count": null,
   "metadata": {},
   "outputs": [],
   "source": [
    "box = HBox([mymap,mymap2])\n",
    "box"
   ]
  },
  {
   "cell_type": "code",
   "execution_count": null,
   "metadata": {},
   "outputs": [],
   "source": [
    "mymap.layout = Layout(height=\"400px\",flex= '1 1',padding=\"5px\")\n",
    "mymap2.layout = Layout(height=\"400px\",flex= '1 1',padding=\"5px\")\n",
    "box = VBox([mymap,mymap2])\n",
    "box"
   ]
  },
  {
   "cell_type": "code",
   "execution_count": null,
   "metadata": {},
   "outputs": [],
   "source": [
    "mymap3 = gis.map()\n",
    "mymap3.basemap = \"捷泰地图暖色版\"\n",
    "mymap4 = gis.map()\n",
    "mymap4.basemap = \"捷泰地图浅灰色版\""
   ]
  },
  {
   "cell_type": "code",
   "execution_count": null,
   "metadata": {},
   "outputs": [],
   "source": [
    "mymap.layout = Layout(height=\"400px\",flex= '1 1',padding=\"5px\")\n",
    "mymap2.layout = Layout(height=\"400px\",flex= '1 1',padding=\"5px\")\n",
    "mymap3.layout = Layout(height=\"400px\",flex= '1 1',padding=\"5px\")\n",
    "mymap4.layout = Layout(height=\"400px\",flex= '1 1',padding=\"5px\")"
   ]
  },
  {
   "cell_type": "code",
   "execution_count": null,
   "metadata": {},
   "outputs": [],
   "source": [
    "box1 = HBox([mymap,mymap2])\n",
    "box2 = HBox([mymap3,mymap4])\n",
    "box3 = VBox([box1,box2])\n",
    "box3"
   ]
  },
  {
   "cell_type": "code",
   "execution_count": null,
   "metadata": {},
   "outputs": [],
   "source": [
    "b = Button(description='范围同步为map1',\n",
    "           layout=Layout(width='50%', height='30px'))\n",
    "b2 = Button(description='范围同步为map4',\n",
    "           layout=Layout(width='50%', height='30px'))\n",
    "def on_button_clicked(b):\n",
    "    mymap2.extent = mymap.extent\n",
    "    mymap3.extent = mymap.extent\n",
    "    mymap4.extent = mymap.extent\n",
    "\n",
    "def on_button_clicked2(b):\n",
    "    mymap2.extent = mymap4.extent\n",
    "    mymap3.extent = mymap4.extent\n",
    "    mymap.extent = mymap4.extent\n",
    "\n",
    "b.on_click(on_button_clicked)\n",
    "b2.on_click(on_button_clicked2)\n",
    "HBox([b,b2])"
   ]
  },
  {
   "cell_type": "code",
   "execution_count": null,
   "metadata": {},
   "outputs": [],
   "source": [
    "gis.content.search(\"Earthquakes\",max_items=100,outside_org=True)"
   ]
  },
  {
   "cell_type": "code",
   "execution_count": null,
   "metadata": {},
   "outputs": [],
   "source": [
    "agol_gis = GIS(set_active=False)\n",
    "eq = agol_gis.content.get(\"9a6f0a75f6f442a589d733ac755faf52\")\n",
    "eq"
   ]
  },
  {
   "cell_type": "code",
   "execution_count": null,
   "metadata": {},
   "outputs": [],
   "source": [
    "mymap.add_layer(eq.layers[0])"
   ]
  },
  {
   "cell_type": "code",
   "execution_count": null,
   "metadata": {},
   "outputs": [],
   "source": [
    "mymap.add_layer(eq.layers[0], {\"renderer\":\"HeatmapRenderer\"})"
   ]
  },
  {
   "cell_type": "code",
   "execution_count": null,
   "metadata": {},
   "outputs": [],
   "source": [
    "agol_gis = GIS(set_active=False)\n",
    "item = agol_gis.content.get(\"74d57145e9db4c14876344573f4391c9\")\n",
    "item"
   ]
  },
  {
   "cell_type": "code",
   "execution_count": null,
   "metadata": {},
   "outputs": [],
   "source": [
    "mymap.add_layer({'type':'ArcGISTiledMapServiceLayer',\n",
    "             'url':item.url})"
   ]
  },
  {
   "cell_type": "code",
   "execution_count": null,
   "metadata": {},
   "outputs": [],
   "source": [
    "mymap.remove_layers(mymap.layers[0])"
   ]
  },
  {
   "cell_type": "code",
   "execution_count": null,
   "metadata": {},
   "outputs": [],
   "source": []
  }
 ],
 "metadata": {
  "kernelspec": {
   "display_name": "Python 3",
   "language": "python",
   "name": "python3"
  },
  "language_info": {
   "codemirror_mode": {
    "name": "ipython",
    "version": 3
   },
   "file_extension": ".py",
   "mimetype": "text/x-python",
   "name": "python",
   "nbconvert_exporter": "python",
   "pygments_lexer": "ipython3",
   "version": "3.7.11"
  },
  "toc": {
   "base_numbering": 1,
   "nav_menu": {},
   "number_sections": true,
   "sideBar": true,
   "skip_h1_title": false,
   "title_cell": "Table of Contents",
   "title_sidebar": "Contents",
   "toc_cell": false,
   "toc_position": {},
   "toc_section_display": true,
   "toc_window_display": false
  },
  "varInspector": {
   "cols": {
    "lenName": 16,
    "lenType": 16,
    "lenVar": 40
   },
   "kernels_config": {
    "python": {
     "delete_cmd_postfix": "",
     "delete_cmd_prefix": "del ",
     "library": "var_list.py",
     "varRefreshCmd": "print(var_dic_list())"
    },
    "r": {
     "delete_cmd_postfix": ") ",
     "delete_cmd_prefix": "rm(",
     "library": "var_list.r",
     "varRefreshCmd": "cat(var_dic_list()) "
    }
   },
   "types_to_exclude": [
    "module",
    "function",
    "builtin_function_or_method",
    "instance",
    "_Feature"
   ],
   "window_display": false
  }
 },
 "nbformat": 4,
 "nbformat_minor": 2
}
