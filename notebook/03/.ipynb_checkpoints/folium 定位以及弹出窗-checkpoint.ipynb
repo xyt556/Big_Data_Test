{
 "cells": [
  {
   "cell_type": "code",
   "execution_count": 1,
   "metadata": {},
   "outputs": [],
   "source": [
    "import folium"
   ]
  },
  {
   "cell_type": "code",
   "execution_count": 2,
   "metadata": {},
   "outputs": [
    {
     "data": {
      "text/plain": [
       "<folium.map.Marker at 0x244bb2bb1d0>"
      ]
     },
     "execution_count": 2,
     "metadata": {},
     "output_type": "execute_result"
    }
   ],
   "source": [
    "m = folium.Map([39.92,116.40], zoom_start=4)\n",
    "popup1 = folium.Popup(\"你点的是第一个点，这里是北京\")\n",
    "popup2 = folium.Popup(\"你点的是第二个点，这里是重庆\")\n",
    "folium.Marker([39.92,116.40], popup=popup1).add_to(m)\n",
    "folium.Marker([29.567,106.591036], popup=popup2).add_to(m)"
   ]
  },
  {
   "cell_type": "code",
   "execution_count": 3,
   "metadata": {
    "scrolled": false
   },
   "outputs": [
    {
     "data": {
      "text/html": [
       "<div style=\"width:100%;\"><div style=\"position:relative;width:100%;height:0;padding-bottom:60%;\"><iframe src=\"data:text/html;charset=utf-8;base64,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\" style=\"position:absolute;width:100%;height:100%;left:0;top:0;border:none !important;\" allowfullscreen webkitallowfullscreen mozallowfullscreen></iframe></div></div>"
      ],
      "text/plain": [
       "<folium.folium.Map at 0x244bb2bb400>"
      ]
     },
     "execution_count": 3,
     "metadata": {},
     "output_type": "execute_result"
    }
   ],
   "source": [
    "m"
   ]
  },
  {
   "cell_type": "code",
   "execution_count": 7,
   "metadata": {},
   "outputs": [
    {
     "data": {
      "text/html": [
       "<div style=\"width:100%;\"><div style=\"position:relative;width:100%;height:0;padding-bottom:60%;\"><iframe src=\"data:text/html;charset=utf-8;base64,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\" style=\"position:absolute;width:100%;height:100%;left:0;top:0;border:none !important;\" allowfullscreen webkitallowfullscreen mozallowfullscreen></iframe></div></div>"
      ],
      "text/plain": [
       "<folium.folium.Map at 0x244bb2f3b00>"
      ]
     },
     "execution_count": 7,
     "metadata": {},
     "output_type": "execute_result"
    }
   ],
   "source": [
    "m = folium.Map([39.92,116.40], zoom_start=12)\n",
    "\n",
    "html = \"<p><font size=8>天安门</font>，坐落在中华人民共和国首都北京市的中心、\\\n",
    "        故宫的南端，与天安门广场以及人民英雄纪念碑、毛主席纪念堂、\\\n",
    "        人民大会堂、中国国家博物馆隔长安街相望，占地面积4800平方米，\\\n",
    "        以杰出的建筑艺术和特殊的政治地位为世人所瞩目。<p>\\\n",
    "        <a href=\\\"http://www.tiananmen.org.cn/index.htm\\\">点击查看更多</a>\\\n",
    "        <p><img src=\\\"http://img.blog.csdn.net/20161016004301807\\\" width=\\\"55%\\\"></p>\\\n",
    "        <p><img src=\\\"http://img.blog.csdn.net/20161016005048911\\\" width=\\\"70%\\\"></p>\"\n",
    "popup1 = folium.Popup(html = html)\n",
    "folium.Marker([39.92,116.40], popup=popup1).add_to(m)\n",
    "m"
   ]
  },
  {
   "cell_type": "code",
   "execution_count": null,
   "metadata": {},
   "outputs": [],
   "source": []
  },
  {
   "cell_type": "code",
   "execution_count": null,
   "metadata": {},
   "outputs": [],
   "source": []
  }
 ],
 "metadata": {
  "kernelspec": {
   "display_name": "Python 3",
   "language": "python",
   "name": "python3"
  },
  "language_info": {
   "codemirror_mode": {
    "name": "ipython",
    "version": 3
   },
   "file_extension": ".py",
   "mimetype": "text/x-python",
   "name": "python",
   "nbconvert_exporter": "python",
   "pygments_lexer": "ipython3",
   "version": "3.6.8"
  }
 },
 "nbformat": 4,
 "nbformat_minor": 2
}
