{
 "cells": [
  {
   "cell_type": "code",
   "execution_count": 22,
   "metadata": {},
   "outputs": [],
   "source": [
    "from arcgis.gis import GIS\n",
    "from IPython.display import display\n",
    "from ipywidgets import *"
   ]
  },
  {
   "cell_type": "code",
   "execution_count": 23,
   "metadata": {},
   "outputs": [],
   "source": [
    "gis = GIS()"
   ]
  },
  {
   "cell_type": "code",
   "execution_count": 24,
   "metadata": {},
   "outputs": [],
   "source": [
    "mymap = gis.map()\n",
    "mymap.basemap = \"osm\""
   ]
  },
  {
   "cell_type": "code",
   "execution_count": 25,
   "metadata": {},
   "outputs": [],
   "source": [
    "mymap.layout = Layout(height=\"600px\")"
   ]
  },
  {
   "cell_type": "code",
   "execution_count": 26,
   "metadata": {},
   "outputs": [
    {
     "data": {
      "application/vnd.jupyter.widget-view+json": {
       "model_id": "c1d782fa163940979bf078f67ef83ea5",
       "version_major": 2,
       "version_minor": 0
      },
      "text/plain": [
       "MapView(layout=Layout(height='600px'))"
      ]
     },
     "metadata": {},
     "output_type": "display_data"
    },
    {
     "data": {
      "text/html": [
       "<div class=\"map-static-img-preview-3a4ef5a1-18f3-4bdc-bcf0-76482c450f4b\"><img src=\"\"></img></div>"
      ],
      "text/plain": [
       "<IPython.core.display.HTML object>"
      ]
     },
     "metadata": {},
     "output_type": "display_data"
    },
    {
     "data": {
      "text/html": [
       "<div class=\"map-html-embed-preview-3a4ef5a1-18f3-4bdc-bcf0-76482c450f4b\"></div>"
      ],
      "text/plain": [
       "<IPython.core.display.HTML object>"
      ]
     },
     "metadata": {},
     "output_type": "display_data"
    }
   ],
   "source": [
    "mymap"
   ]
  },
  {
   "cell_type": "code",
   "execution_count": 27,
   "metadata": {
    "scrolled": false
   },
   "outputs": [
    {
     "data": {
      "text/html": [
       "<div class=\"item_container\" style=\"height: auto; overflow: hidden; border: 1px solid #cfcfcf; border-radius: 2px; background: #f6fafa; line-height: 1.21429em; padding: 10px;\">\n",
       "                    <div class=\"item_left\" style=\"width: 210px; float: left;\">\n",
       "                       <a href='https://www.arcgis.com/home/item.html?id=e367786cd8e54ff89cd0a9262b1b3e25' target='_blank'>\n",
       "                        <img src='https://www.arcgis.com/sharing/rest//content/items/e367786cd8e54ff89cd0a9262b1b3e25/info/thumbnail/thumbnail.png' class=\"itemThumbnail\">\n",
       "                       </a>\n",
       "                    </div>\n",
       "\n",
       "                    <div class=\"item_right\"     style=\"float: none; width: auto; overflow: hidden;\">\n",
       "                        <a href='https://www.arcgis.com/home/item.html?id=e367786cd8e54ff89cd0a9262b1b3e25' target='_blank'><b>QuakesSouthAmer_5</b>\n",
       "                        </a>\n",
       "                        <br/>Earthquakes along South American Pacific boundary<img src='https://www.arcgis.com/home/js/jsapi/esri/css/images/item_type_icons/featureshosted16.png' style=\"vertical-align:middle;\">Feature Layer Collection by Esri_TESS\n",
       "                        <br/>Last Modified: 五月 06, 2021\n",
       "                        <br/>0 comments, 245,138 views\n",
       "                    </div>\n",
       "                </div>\n",
       "                "
      ],
      "text/plain": [
       "<Item title:\"QuakesSouthAmer_5\" type:Feature Layer Collection owner:Esri_TESS>"
      ]
     },
     "metadata": {},
     "output_type": "display_data"
    },
    {
     "data": {
      "text/html": [
       "<div class=\"item_container\" style=\"height: auto; overflow: hidden; border: 1px solid #cfcfcf; border-radius: 2px; background: #f6fafa; line-height: 1.21429em; padding: 10px;\">\n",
       "                    <div class=\"item_left\" style=\"width: 210px; float: left;\">\n",
       "                       <a href='https://www.arcgis.com/home/item.html?id=25e36eb0d93d49859f73a4c98b1d3484' target='_blank'>\n",
       "                        <img src='https://www.arcgis.com/sharing/rest//content/items/25e36eb0d93d49859f73a4c98b1d3484/info/thumbnail/thumbnail1603142282546.jpeg' class=\"itemThumbnail\">\n",
       "                       </a>\n",
       "                    </div>\n",
       "\n",
       "                    <div class=\"item_right\"     style=\"float: none; width: auto; overflow: hidden;\">\n",
       "                        <a href='https://www.arcgis.com/home/item.html?id=25e36eb0d93d49859f73a4c98b1d3484' target='_blank'><b>Earthquakes in Canada 2010-2019</b>\n",
       "                        </a>\n",
       "                        <br/>Historical earthquakes recorded by Earthquakes Canada. This dataset contains the earthquakes recorded in decade 2010.<img src='https://www.arcgis.com/home/js/jsapi/esri/css/images/item_type_icons/featureshosted16.png' style=\"vertical-align:middle;\">Feature Layer Collection by esri_canada\n",
       "                        <br/>Last Modified: 二月 23, 2022\n",
       "                        <br/>0 comments, 24,062 views\n",
       "                    </div>\n",
       "                </div>\n",
       "                "
      ],
      "text/plain": [
       "<Item title:\"Earthquakes in Canada 2010-2019\" type:Feature Layer Collection owner:esri_canada>"
      ]
     },
     "metadata": {},
     "output_type": "display_data"
    },
    {
     "data": {
      "text/html": [
       "<div class=\"item_container\" style=\"height: auto; overflow: hidden; border: 1px solid #cfcfcf; border-radius: 2px; background: #f6fafa; line-height: 1.21429em; padding: 10px;\">\n",
       "                    <div class=\"item_left\" style=\"width: 210px; float: left;\">\n",
       "                       <a href='https://www.arcgis.com/home/item.html?id=7add98e882ec4442931e63b29f2d3b94' target='_blank'>\n",
       "                        <img src='https://www.arcgis.com/sharing/rest//content/items/7add98e882ec4442931e63b29f2d3b94/info/thumbnail/MajorEarthquakes_AGOL_thumbnail.png' class=\"itemThumbnail\">\n",
       "                       </a>\n",
       "                    </div>\n",
       "\n",
       "                    <div class=\"item_right\"     style=\"float: none; width: auto; overflow: hidden;\">\n",
       "                        <a href='https://www.arcgis.com/home/item.html?id=7add98e882ec4442931e63b29f2d3b94' target='_blank'><b>Major Earthquakes</b>\n",
       "                        </a>\n",
       "                        <br/>Most intense, most fatal and most damaging global earthquakes from 2150 BCE to present.<img src='https://www.arcgis.com/home/js/jsapi/esri/css/images/item_type_icons/featureshosted16.png' style=\"vertical-align:middle;\">Feature Layer Collection by Maps.com_carto\n",
       "                        <br/>Last Modified: 三月 30, 2016\n",
       "                        <br/>1 comments, 384,881 views\n",
       "                    </div>\n",
       "                </div>\n",
       "                "
      ],
      "text/plain": [
       "<Item title:\"Major Earthquakes\" type:Feature Layer Collection owner:Maps.com_carto>"
      ]
     },
     "metadata": {},
     "output_type": "display_data"
    },
    {
     "data": {
      "text/html": [
       "<div class=\"item_container\" style=\"height: auto; overflow: hidden; border: 1px solid #cfcfcf; border-radius: 2px; background: #f6fafa; line-height: 1.21429em; padding: 10px;\">\n",
       "                    <div class=\"item_left\" style=\"width: 210px; float: left;\">\n",
       "                       <a href='https://www.arcgis.com/home/item.html?id=47da9f0a9c92416794eaefbc882c87c2' target='_blank'>\n",
       "                        <img src='https://www.arcgis.com/sharing/rest//content/items/47da9f0a9c92416794eaefbc882c87c2/info/thumbnail/thumbnail.png' class=\"itemThumbnail\">\n",
       "                       </a>\n",
       "                    </div>\n",
       "\n",
       "                    <div class=\"item_right\"     style=\"float: none; width: auto; overflow: hidden;\">\n",
       "                        <a href='https://www.arcgis.com/home/item.html?id=47da9f0a9c92416794eaefbc882c87c2' target='_blank'><b>EarthquakesGlob_57</b>\n",
       "                        </a>\n",
       "                        <br/>Large global quakes from 1997 to 2007 above 5.7 magnitude<img src='https://www.arcgis.com/home/js/jsapi/esri/css/images/item_type_icons/featureshosted16.png' style=\"vertical-align:middle;\">Feature Layer Collection by Esri_TESS\n",
       "                        <br/>Last Modified: 五月 06, 2021\n",
       "                        <br/>0 comments, 339,817 views\n",
       "                    </div>\n",
       "                </div>\n",
       "                "
      ],
      "text/plain": [
       "<Item title:\"EarthquakesGlob_57\" type:Feature Layer Collection owner:Esri_TESS>"
      ]
     },
     "metadata": {},
     "output_type": "display_data"
    },
    {
     "data": {
      "text/html": [
       "<div class=\"item_container\" style=\"height: auto; overflow: hidden; border: 1px solid #cfcfcf; border-radius: 2px; background: #f6fafa; line-height: 1.21429em; padding: 10px;\">\n",
       "                    <div class=\"item_left\" style=\"width: 210px; float: left;\">\n",
       "                       <a href='https://www.arcgis.com/home/item.html?id=70a1ed248171467abce663808df4963a' target='_blank'>\n",
       "                        <img src='https://www.arcgis.com/sharing/rest//content/items/70a1ed248171467abce663808df4963a/info/thumbnail/thumbnail.png' class=\"itemThumbnail\">\n",
       "                       </a>\n",
       "                    </div>\n",
       "\n",
       "                    <div class=\"item_right\"     style=\"float: none; width: auto; overflow: hidden;\">\n",
       "                        <a href='https://www.arcgis.com/home/item.html?id=70a1ed248171467abce663808df4963a' target='_blank'><b>CA Bay Area Liquefaction Risk</b>\n",
       "                        </a>\n",
       "                        <br/>Risks of liquefaction occurring as a result of earthquakes in the Bay Area.<img src='https://www.arcgis.com/home/js/jsapi/esri/css/images/item_type_icons/featureshosted16.png' style=\"vertical-align:middle;\">Feature Layer Collection by Ferrar@FracTracker.org\n",
       "                        <br/>Last Modified: 六月 23, 2014\n",
       "                        <br/>0 comments, 24,766 views\n",
       "                    </div>\n",
       "                </div>\n",
       "                "
      ],
      "text/plain": [
       "<Item title:\"CA Bay Area Liquefaction Risk\" type:Feature Layer Collection owner:Ferrar@FracTracker.org>"
      ]
     },
     "metadata": {},
     "output_type": "display_data"
    },
    {
     "data": {
      "text/html": [
       "<div class=\"item_container\" style=\"height: auto; overflow: hidden; border: 1px solid #cfcfcf; border-radius: 2px; background: #f6fafa; line-height: 1.21429em; padding: 10px;\">\n",
       "                    <div class=\"item_left\" style=\"width: 210px; float: left;\">\n",
       "                       <a href='https://www.arcgis.com/home/item.html?id=9e2f2b544c954fda9cd13b7f3e6eebce' target='_blank'>\n",
       "                        <img src='https://www.arcgis.com/sharing/rest//content/items/9e2f2b544c954fda9cd13b7f3e6eebce/info/thumbnail/thumbnail1580401986030.jpeg' class=\"itemThumbnail\">\n",
       "                       </a>\n",
       "                    </div>\n",
       "\n",
       "                    <div class=\"item_right\"     style=\"float: none; width: auto; overflow: hidden;\">\n",
       "                        <a href='https://www.arcgis.com/home/item.html?id=9e2f2b544c954fda9cd13b7f3e6eebce' target='_blank'><b>Recent Earthquakes</b>\n",
       "                        </a>\n",
       "                        <br/>This service presents recent earthquake information from the USGS Prompt Assessment of Global Earthquakes for Response (PAGER) program.<img src='https://www.arcgis.com/home/js/jsapi/esri/css/images/item_type_icons/featureshosted16.png' style=\"vertical-align:middle;\">Feature Layer Collection by esri_livefeeds2\n",
       "                        <br/>Last Modified: 七月 12, 2022\n",
       "                        <br/>49 comments, 8,945,909 views\n",
       "                    </div>\n",
       "                </div>\n",
       "                "
      ],
      "text/plain": [
       "<Item title:\"Recent Earthquakes\" type:Feature Layer Collection owner:esri_livefeeds2>"
      ]
     },
     "metadata": {},
     "output_type": "display_data"
    },
    {
     "data": {
      "text/html": [
       "<div class=\"item_container\" style=\"height: auto; overflow: hidden; border: 1px solid #cfcfcf; border-radius: 2px; background: #f6fafa; line-height: 1.21429em; padding: 10px;\">\n",
       "                    <div class=\"item_left\" style=\"width: 210px; float: left;\">\n",
       "                       <a href='https://www.arcgis.com/home/item.html?id=5afaa0bc2c1e487798f5ea6702e4417c' target='_blank'>\n",
       "                        <img src='https://www.arcgis.com/sharing/rest//content/items/5afaa0bc2c1e487798f5ea6702e4417c/info/thumbnail/ago_downloaded.png' class=\"itemThumbnail\">\n",
       "                       </a>\n",
       "                    </div>\n",
       "\n",
       "                    <div class=\"item_right\"     style=\"float: none; width: auto; overflow: hidden;\">\n",
       "                        <a href='https://www.arcgis.com/home/item.html?id=5afaa0bc2c1e487798f5ea6702e4417c' target='_blank'><b>USGS Earthquakes Feature Service</b>\n",
       "                        </a>\n",
       "                        <br/>USGS Earthquakes Feature Service<img src='https://www.arcgis.com/home/js/jsapi/esri/css/images/item_type_icons/featureshosted16.png' style=\"vertical-align:middle;\">Feature Layer Collection by TestPublisher\n",
       "                        <br/>Last Modified: 六月 26, 2013\n",
       "                        <br/>0 comments, 60,959 views\n",
       "                    </div>\n",
       "                </div>\n",
       "                "
      ],
      "text/plain": [
       "<Item title:\"USGS Earthquakes Feature Service\" type:Feature Layer Collection owner:TestPublisher>"
      ]
     },
     "metadata": {},
     "output_type": "display_data"
    },
    {
     "data": {
      "text/html": [
       "<div class=\"item_container\" style=\"height: auto; overflow: hidden; border: 1px solid #cfcfcf; border-radius: 2px; background: #f6fafa; line-height: 1.21429em; padding: 10px;\">\n",
       "                    <div class=\"item_left\" style=\"width: 210px; float: left;\">\n",
       "                       <a href='https://www.arcgis.com/home/item.html?id=fb8390b4eb314d1a87bfff0e6e6ff8c0' target='_blank'>\n",
       "                        <img src='https://www.arcgis.com/sharing/rest//content/items/fb8390b4eb314d1a87bfff0e6e6ff8c0/info/thumbnail/thumbnail.png' class=\"itemThumbnail\">\n",
       "                       </a>\n",
       "                    </div>\n",
       "\n",
       "                    <div class=\"item_right\"     style=\"float: none; width: auto; overflow: hidden;\">\n",
       "                        <a href='https://www.arcgis.com/home/item.html?id=fb8390b4eb314d1a87bfff0e6e6ff8c0' target='_blank'><b>Natural Events in Canada</b>\n",
       "                        </a>\n",
       "                        <br/>This map service depicts natural events that have occurred between 2006 and 2012.<img src='https://www.arcgis.com/home/js/jsapi/esri/css/images/item_type_icons/featureshosted16.png' style=\"vertical-align:middle;\">Feature Layer Collection by EsriCanadaEducation\n",
       "                        <br/>Last Modified: 十二月 18, 2013\n",
       "                        <br/>0 comments, 1,401,658 views\n",
       "                    </div>\n",
       "                </div>\n",
       "                "
      ],
      "text/plain": [
       "<Item title:\"Natural Events in Canada\" type:Feature Layer Collection owner:EsriCanadaEducation>"
      ]
     },
     "metadata": {},
     "output_type": "display_data"
    },
    {
     "data": {
      "text/html": [
       "<div class=\"item_container\" style=\"height: auto; overflow: hidden; border: 1px solid #cfcfcf; border-radius: 2px; background: #f6fafa; line-height: 1.21429em; padding: 10px;\">\n",
       "                    <div class=\"item_left\" style=\"width: 210px; float: left;\">\n",
       "                       <a href='https://www.arcgis.com/home/item.html?id=97ccd4894cd143449aed43029256de86' target='_blank'>\n",
       "                        <img src='https://www.arcgis.com/sharing/rest//content/items/97ccd4894cd143449aed43029256de86/info/thumbnail/thumbnail.png' class=\"itemThumbnail\">\n",
       "                       </a>\n",
       "                    </div>\n",
       "\n",
       "                    <div class=\"item_right\"     style=\"float: none; width: auto; overflow: hidden;\">\n",
       "                        <a href='https://www.arcgis.com/home/item.html?id=97ccd4894cd143449aed43029256de86' target='_blank'><b>Aardbevingen_WFL1</b>\n",
       "                        </a>\n",
       "                        <br/>Alle aardbevingen in Nederland vanaf 1986 tot februari 2018. Data van de Geodienst Groningen.<img src='https://www.arcgis.com/home/js/jsapi/esri/css/images/item_type_icons/featureshosted16.png' style=\"vertical-align:middle;\">Feature Layer Collection by BNRnieuwsradio\n",
       "                        <br/>Last Modified: 四月 17, 2018\n",
       "                        <br/>0 comments, 25 views\n",
       "                    </div>\n",
       "                </div>\n",
       "                "
      ],
      "text/plain": [
       "<Item title:\"Aardbevingen_WFL1\" type:Feature Layer Collection owner:BNRnieuwsradio>"
      ]
     },
     "metadata": {},
     "output_type": "display_data"
    },
    {
     "data": {
      "text/html": [
       "<div class=\"item_container\" style=\"height: auto; overflow: hidden; border: 1px solid #cfcfcf; border-radius: 2px; background: #f6fafa; line-height: 1.21429em; padding: 10px;\">\n",
       "                    <div class=\"item_left\" style=\"width: 210px; float: left;\">\n",
       "                       <a href='https://www.arcgis.com/home/item.html?id=a39eff89d4534c27b364f062809f159a' target='_blank'>\n",
       "                        <img src='http://static.arcgis.com/images/desktopapp.png' class=\"itemThumbnail\">\n",
       "                       </a>\n",
       "                    </div>\n",
       "\n",
       "                    <div class=\"item_right\"     style=\"float: none; width: auto; overflow: hidden;\">\n",
       "                        <a href='https://www.arcgis.com/home/item.html?id=a39eff89d4534c27b364f062809f159a' target='_blank'><b>Earthquake_in_Countries_WSD_XD</b>\n",
       "                        </a>\n",
       "                        <br/>Feature layer generated from Summarize Within<img src='https://www.arcgis.com/home/js/jsapi/esri/css/images/item_type_icons/featureshosted16.png' style=\"vertical-align:middle;\">Feature Layer Collection by 2018fairfax808\n",
       "                        <br/>Last Modified: 十月 02, 2018\n",
       "                        <br/>0 comments, 19 views\n",
       "                    </div>\n",
       "                </div>\n",
       "                "
      ],
      "text/plain": [
       "<Item title:\"Earthquake_in_Countries_WSD_XD\" type:Feature Layer Collection owner:2018fairfax808>"
      ]
     },
     "metadata": {},
     "output_type": "display_data"
    }
   ],
   "source": [
    "items = gis.content.search(\"Earthquakes*\", item_type=\"feature Layer\", max_items=10)\n",
    "for i in items:\n",
    "    display(i)"
   ]
  },
  {
   "cell_type": "code",
   "execution_count": 28,
   "metadata": {},
   "outputs": [],
   "source": [
    "lyr = items[3].layers[0]"
   ]
  },
  {
   "cell_type": "code",
   "execution_count": 33,
   "metadata": {},
   "outputs": [],
   "source": [
    "mymap.add_layer(lyr)"
   ]
  },
  {
   "cell_type": "markdown",
   "metadata": {},
   "source": [
    "## {\"renderer\":\"HeatmapRenderer\"})\n",
    "## {\"renderer\":\"ClassedSizeRenderer\",\"field_name\": \"Magnitude\"}\n",
    "## {\"renderer\":\"ClassedColorRenderer\",\"field_name\":\"Magnitude\"}"
   ]
  },
  {
   "cell_type": "code",
   "execution_count": 35,
   "metadata": {},
   "outputs": [],
   "source": [
    "mymap.add_layer(lyr,{\"renderer\":\"HeatmapRenderer\"})"
   ]
  },
  {
   "cell_type": "code",
   "execution_count": 36,
   "metadata": {},
   "outputs": [
    {
     "data": {
      "text/plain": [
       "True"
      ]
     },
     "execution_count": 36,
     "metadata": {},
     "output_type": "execute_result"
    }
   ],
   "source": [
    "mymap.remove_layers()"
   ]
  },
  {
   "cell_type": "code",
   "execution_count": null,
   "metadata": {},
   "outputs": [],
   "source": []
  }
 ],
 "metadata": {
  "kernelspec": {
   "display_name": "Python 3",
   "language": "python",
   "name": "python3"
  },
  "language_info": {
   "codemirror_mode": {
    "name": "ipython",
    "version": 3
   },
   "file_extension": ".py",
   "mimetype": "text/x-python",
   "name": "python",
   "nbconvert_exporter": "python",
   "pygments_lexer": "ipython3",
   "version": "3.7.11"
  },
  "toc": {
   "base_numbering": 1,
   "nav_menu": {},
   "number_sections": true,
   "sideBar": true,
   "skip_h1_title": false,
   "title_cell": "Table of Contents",
   "title_sidebar": "Contents",
   "toc_cell": false,
   "toc_position": {},
   "toc_section_display": "block",
   "toc_window_display": false
  },
  "varInspector": {
   "cols": {
    "lenName": 16,
    "lenType": 16,
    "lenVar": 40
   },
   "kernels_config": {
    "python": {
     "delete_cmd_postfix": "",
     "delete_cmd_prefix": "del ",
     "library": "var_list.py",
     "varRefreshCmd": "print(var_dic_list())"
    },
    "r": {
     "delete_cmd_postfix": ") ",
     "delete_cmd_prefix": "rm(",
     "library": "var_list.r",
     "varRefreshCmd": "cat(var_dic_list()) "
    }
   },
   "types_to_exclude": [
    "module",
    "function",
    "builtin_function_or_method",
    "instance",
    "_Feature"
   ],
   "window_display": false
  }
 },
 "nbformat": 4,
 "nbformat_minor": 2
}
