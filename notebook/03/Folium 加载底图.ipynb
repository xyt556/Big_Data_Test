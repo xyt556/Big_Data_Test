{
 "cells": [
  {
   "cell_type": "code",
   "execution_count": null,
   "metadata": {},
   "outputs": [],
   "source": [
    "import folium\n",
    "m = folium.Map(\n",
    "    location=[39.92,116.40],\n",
    "    zoom_start=4)\n",
    "m"
   ]
  },
  {
   "cell_type": "code",
   "execution_count": null,
   "metadata": {},
   "outputs": [],
   "source": [
    "m = folium.Map(\n",
    "    location=[0,0],\n",
    "#    tiles='OpenStreetMap',\n",
    "#    tiles='Mapbox Bright',\n",
    "#    tiles='Mapbox Control Room',\n",
    "#    tiles='Stamen Terrain',\n",
    "#    tiles='Stamen Toner',\n",
    "#    tiles='Stamen Watercolor',\n",
    "#    tiles='Stamen Terrain',\n",
    "#    tiles='Cartodb Positron',\n",
    "#    tiles='Cartodb dark_matter',\n",
    "    zoom_start=2\n",
    ")\n",
    "m"
   ]
  },
  {
   "cell_type": "code",
   "execution_count": null,
   "metadata": {},
   "outputs": [],
   "source": []
  }
 ],
 "metadata": {
  "kernelspec": {
   "display_name": "Python 3",
   "language": "python",
   "name": "python3"
  },
  "language_info": {
   "codemirror_mode": {
    "name": "ipython",
    "version": 3
   },
   "file_extension": ".py",
   "mimetype": "text/x-python",
   "name": "python",
   "nbconvert_exporter": "python",
   "pygments_lexer": "ipython3",
   "version": "3.6.8"
  }
 },
 "nbformat": 4,
 "nbformat_minor": 2
}
