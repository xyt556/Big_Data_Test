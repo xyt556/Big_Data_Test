{
 "cells": [
  {
   "cell_type": "code",
   "execution_count": null,
   "metadata": {},
   "outputs": [],
   "source": [
    "import numpy as np\n",
    "import matplotlib.pyplot as plt"
   ]
  },
  {
   "cell_type": "code",
   "execution_count": null,
   "metadata": {},
   "outputs": [],
   "source": [
    "def floodFill(c, r, mask):\n",
    "    filled = set()\n",
    "    fill = set()\n",
    "    fill.add((c, r))\n",
    "    width = mask.shape[1] - 1\n",
    "    height = mask.shape[0] - 1\n",
    "    flood = np.zeros_like(mask , dtype=np.int8)\n",
    "    while fill:\n",
    "        x, y = fill.pop()\n",
    "        if y == height or x == width or x < 0 or y < 0:\n",
    "            continue\n",
    "        if mask[y][x] == 1:\n",
    "            flood[y][x] = 1\n",
    "            filled.add((x, y))\n",
    "            west = (x-1, y)\n",
    "            east = (x+1, y)\n",
    "            north = (x, y-1)\n",
    "            south = (x, y+1)\n",
    "            if west not in filled:\n",
    "                fill.add(west)\n",
    "            if east not in filled:\n",
    "                fill.add(east)\n",
    "            if north not in filled:\n",
    "                fill.add(north)\n",
    "            if south not in filled:\n",
    "                fill.add(south)\n",
    "    return flood"
   ]
  },
  {
   "cell_type": "code",
   "execution_count": null,
   "metadata": {},
   "outputs": [],
   "source": [
    "import arcpy"
   ]
  },
  {
   "cell_type": "code",
   "execution_count": null,
   "metadata": {},
   "outputs": [],
   "source": [
    "rkz = arcpy.RasterToNumPyArray(arcpy.Raster(\"../data/dem/rkzNorth2.tif\"))"
   ]
  },
  {
   "cell_type": "code",
   "execution_count": null,
   "metadata": {},
   "outputs": [],
   "source": [
    "print(np.max(rkz))\n",
    "print(np.min(rkz))"
   ]
  },
  {
   "cell_type": "code",
   "execution_count": null,
   "metadata": {},
   "outputs": [],
   "source": [
    "ax = plt.figure(figsize=(9,9))\n",
    "plt.imshow(rkz, cmap= plt.cm.gist_gray)"
   ]
  },
  {
   "cell_type": "code",
   "execution_count": null,
   "metadata": {},
   "outputs": [],
   "source": [
    "rkz.shape"
   ]
  },
  {
   "cell_type": "code",
   "execution_count": null,
   "metadata": {},
   "outputs": [],
   "source": [
    "sx = 30\n",
    "sy = 940"
   ]
  },
  {
   "cell_type": "code",
   "execution_count": null,
   "metadata": {},
   "outputs": [],
   "source": [
    "rkz[940][30]"
   ]
  },
  {
   "cell_type": "code",
   "execution_count": null,
   "metadata": {},
   "outputs": [],
   "source": [
    "wet = np.where(rkz < 4000 , 1, 0)\n",
    "fld = floodFill(sx, sy, wet)"
   ]
  },
  {
   "cell_type": "code",
   "execution_count": null,
   "metadata": {},
   "outputs": [],
   "source": [
    "fld"
   ]
  },
  {
   "cell_type": "code",
   "execution_count": null,
   "metadata": {},
   "outputs": [],
   "source": [
    "ax = plt.figure(figsize=(9,9))\n",
    "plt.imshow(fld, cmap= plt.cm.gist_gray)"
   ]
  },
  {
   "cell_type": "code",
   "execution_count": null,
   "metadata": {},
   "outputs": [],
   "source": [
    "wet = np.where(rkz < 4800 , 1, 0)\n",
    "fld = floodFill(sx, sy, wet)\n",
    "ax = plt.figure(figsize=(9,9))\n",
    "plt.imshow(fld, cmap= plt.cm.gist_gray)"
   ]
  },
  {
   "cell_type": "code",
   "execution_count": null,
   "metadata": {},
   "outputs": [],
   "source": [
    "for i in range(20):\n",
    "    wet = np.where(rkz < (4000+i*50) , 1, 0)\n",
    "    fld = floodFill(sx, sy, wet)\n",
    "    ax = plt.figure(figsize=(9,9))\n",
    "    png = \"../data/dem/img/p{0}.png\".format(i)\n",
    "    ps = plt.imsave(png, fld, format=\"png\", cmap=plt.cm.gray)\n",
    "    print(png)"
   ]
  },
  {
   "cell_type": "code",
   "execution_count": null,
   "metadata": {},
   "outputs": [],
   "source": []
  }
 ],
 "metadata": {
  "kernelspec": {
   "display_name": "Python 3",
   "language": "python",
   "name": "python3"
  },
  "language_info": {
   "codemirror_mode": {
    "name": "ipython",
    "version": 3
   },
   "file_extension": ".py",
   "mimetype": "text/x-python",
   "name": "python",
   "nbconvert_exporter": "python",
   "pygments_lexer": "ipython3",
   "version": "3.6.8"
  }
 },
 "nbformat": 4,
 "nbformat_minor": 2
}
