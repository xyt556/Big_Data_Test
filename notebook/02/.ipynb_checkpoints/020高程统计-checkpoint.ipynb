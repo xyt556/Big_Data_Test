{
 "cells": [
  {
   "cell_type": "code",
   "execution_count": null,
   "metadata": {},
   "outputs": [],
   "source": [
    "import arcpy,numpy\n",
    "import matplotlib.pyplot as plt"
   ]
  },
  {
   "cell_type": "code",
   "execution_count": null,
   "metadata": {},
   "outputs": [],
   "source": [
    "def getColorDist(colName, colValue):\n",
    "    cm = plt.cm.get_cmap(colName)\n",
    "    col = [cm(float(i)/(len(colValue))) for i in range(len(colValue))]\n",
    "    carr = numpy.ceil(numpy.array(col)*255).astype(\"int16\")\n",
    "    cols = []\n",
    "    for c in carr:\n",
    "        cols.append(\"#\"+\"\".join(['%02X'% c1 for c1 in c]))\n",
    "    return cols"
   ]
  },
  {
   "cell_type": "code",
   "execution_count": null,
   "metadata": {},
   "outputs": [],
   "source": [
    "#dem = arcpy.RasterToNumPyArray(\"data/dem/Himalaya100.tif\")\n",
    "dem = arcpy.RasterToNumPyArray(\"../data/dem/rkzNorth2.tif\")"
   ]
  },
  {
   "cell_type": "code",
   "execution_count": null,
   "metadata": {},
   "outputs": [],
   "source": [
    "dem2 = numpy.ceil(dem / 10)*10"
   ]
  },
  {
   "cell_type": "code",
   "execution_count": null,
   "metadata": {
    "scrolled": true
   },
   "outputs": [],
   "source": [
    "%%time\n",
    "h = numpy.unique(dem2,return_counts=True)\n",
    "h"
   ]
  },
  {
   "cell_type": "code",
   "execution_count": null,
   "metadata": {},
   "outputs": [],
   "source": [
    "cls = getColorDist(plt.cm.gist_earth,h[0])"
   ]
  },
  {
   "cell_type": "code",
   "execution_count": null,
   "metadata": {},
   "outputs": [],
   "source": [
    "ax = plt.figure(figsize=(7,7))\n",
    "plt.imshow(dem2,cmap=plt.cm.gist_earth)"
   ]
  },
  {
   "cell_type": "code",
   "execution_count": null,
   "metadata": {},
   "outputs": [],
   "source": [
    "plt.figure(figsize=(18,7))\n",
    "plt.bar(range(len(h[0])),h[1],tick_label=h[0],color=cls)\n",
    "plt.xticks(rotation=90)\n",
    "pass"
   ]
  },
  {
   "cell_type": "code",
   "execution_count": null,
   "metadata": {},
   "outputs": [],
   "source": []
  }
 ],
 "metadata": {
  "kernelspec": {
   "display_name": "Python 3",
   "language": "python",
   "name": "python3"
  },
  "language_info": {
   "codemirror_mode": {
    "name": "ipython",
    "version": 3
   },
   "file_extension": ".py",
   "mimetype": "text/x-python",
   "name": "python",
   "nbconvert_exporter": "python",
   "pygments_lexer": "ipython3",
   "version": "3.6.8"
  }
 },
 "nbformat": 4,
 "nbformat_minor": 2
}
