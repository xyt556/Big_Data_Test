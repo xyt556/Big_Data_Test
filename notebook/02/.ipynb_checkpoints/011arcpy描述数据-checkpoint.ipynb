{
 "cells": [
  {
   "cell_type": "code",
   "execution_count": null,
   "metadata": {},
   "outputs": [],
   "source": [
    "import arcpy"
   ]
  },
  {
   "cell_type": "code",
   "execution_count": null,
   "metadata": {},
   "outputs": [],
   "source": [
    "arcpy.env.workspace = \"../data/shp/bj\""
   ]
  },
  {
   "cell_type": "code",
   "execution_count": null,
   "metadata": {},
   "outputs": [],
   "source": [
    "feat = arcpy.ListFeatureClasses(\"*\")\n",
    "feat"
   ]
  },
  {
   "cell_type": "code",
   "execution_count": null,
   "metadata": {},
   "outputs": [],
   "source": [
    "desc = arcpy.Describe(feat[2])\n",
    "desc"
   ]
  },
  {
   "cell_type": "code",
   "execution_count": null,
   "metadata": {},
   "outputs": [],
   "source": [
    "print(desc.name)\n",
    "print(desc.path)\n",
    "print(desc.dataType)\n",
    "print(desc.catalogPath)"
   ]
  },
  {
   "cell_type": "code",
   "execution_count": null,
   "metadata": {},
   "outputs": [],
   "source": [
    "print(desc.featureType)\n",
    "print(desc.shapeType)\n",
    "print(desc.spatialReference.name)\n",
    "print(desc.extent)\n",
    "print(desc.shapeFieldName)"
   ]
  },
  {
   "cell_type": "code",
   "execution_count": null,
   "metadata": {},
   "outputs": [],
   "source": [
    "for feat in arcpy.ListFeatureClasses(\"*\"):\n",
    "    desc = arcpy.Describe(feat)\n",
    "    print(\"name : {0}\".format(feat))\n",
    "    print(\"\\t--Feature Type:  {0}\".format(desc.featureType))\n",
    "    print(\"\\t-Shape Type :   {0}\".format(desc.shapeType))\n",
    "    print(\"\\t--Spatial Index: {0}\".format(desc.hasSpatialIndex))\n",
    "    print(\"\\t--Dataset Type: {0}\".format(desc.datasetType))\n",
    "    print(\"\\t--Extent:  XMin: {0}, XMax: {1}, YMin: {2}, YMax: {3}\".format(\\\n",
    "    desc.extent.XMin, desc.extent.XMax, desc.extent.YMin, desc.extent.YMax))\n",
    "    print(\"\\t--MExtent: {0}\".format(desc.MExtent))\n",
    "    print(\"\\t--ZExtent: {0}\".format(desc.ZExtent))\n",
    "    print(\"\\t--Spatial reference name: {0}:\".format(desc.spatialReference.name))\n",
    "    print(\"\\t--Data Type: \".format(desc.dataType))\n",
    "    print(\"\\t--Path:      \".format(desc.path))\n",
    "    print(\"\\t--Base Name: \".format(desc.baseName))\n",
    "    print(\"\\t--Extension: \".format(desc.extension))"
   ]
  },
  {
   "cell_type": "code",
   "execution_count": null,
   "metadata": {},
   "outputs": [],
   "source": [
    "arcpy.Describe(arcpy.env.workspace).workspaceType"
   ]
  },
  {
   "cell_type": "code",
   "execution_count": null,
   "metadata": {},
   "outputs": [],
   "source": [
    "for f in arcpy.ListFields(feat):\n",
    "    print(f.name,f.type,f.length)"
   ]
  },
  {
   "cell_type": "code",
   "execution_count": null,
   "metadata": {},
   "outputs": [],
   "source": [
    "%%time\n",
    "cnt = arcpy.GetCount_management(feat)"
   ]
  },
  {
   "cell_type": "code",
   "execution_count": null,
   "metadata": {},
   "outputs": [],
   "source": [
    "print(cnt.getMessages())"
   ]
  },
  {
   "cell_type": "code",
   "execution_count": null,
   "metadata": {},
   "outputs": [],
   "source": [
    "cnt.getOutput(0)"
   ]
  },
  {
   "cell_type": "code",
   "execution_count": null,
   "metadata": {},
   "outputs": [],
   "source": []
  }
 ],
 "metadata": {
  "kernelspec": {
   "display_name": "Python 3",
   "language": "python",
   "name": "python3"
  },
  "language_info": {
   "codemirror_mode": {
    "name": "ipython",
    "version": 3
   },
   "file_extension": ".py",
   "mimetype": "text/x-python",
   "name": "python",
   "nbconvert_exporter": "python",
   "pygments_lexer": "ipython3",
   "version": "3.6.8"
  }
 },
 "nbformat": 4,
 "nbformat_minor": 2
}
