{
 "cells": [
  {
   "cell_type": "code",
   "execution_count": null,
   "metadata": {},
   "outputs": [],
   "source": [
    "import arcpy"
   ]
  },
  {
   "cell_type": "code",
   "execution_count": null,
   "metadata": {},
   "outputs": [],
   "source": [
    "arcpy.env.workspace = \"../data/shp/china\""
   ]
  },
  {
   "cell_type": "code",
   "execution_count": null,
   "metadata": {},
   "outputs": [],
   "source": [
    "arcpy.Select_analysis(\"china.shp\",\"china2.shp\")"
   ]
  },
  {
   "cell_type": "code",
   "execution_count": null,
   "metadata": {},
   "outputs": [],
   "source": [
    "print([f.name for f in arcpy.ListFields(\"china2.shp\")])"
   ]
  },
  {
   "cell_type": "code",
   "execution_count": null,
   "metadata": {},
   "outputs": [],
   "source": [
    "arcpy.AddField_management(\"china2.shp\",\"cg2009\",\"FLOAT\")"
   ]
  },
  {
   "cell_type": "code",
   "execution_count": null,
   "metadata": {},
   "outputs": [],
   "source": [
    "arcpy.CalculateField_management(\"china2.shp\",\"cg2009\",\"!GDP_2009!/!Pop_2009!\")"
   ]
  },
  {
   "cell_type": "code",
   "execution_count": null,
   "metadata": {},
   "outputs": [],
   "source": [
    "with arcpy.da.UpdateCursor(\"china2.shp\",[\"Pop_2009\",\"GDP_2009\",\n",
    "                                        \"cg2009\",\"FIRST_NAME\"],\"Pop_2009 > 0\") as upc:\n",
    "    for u in upc:\n",
    "        u[2] = u[1] / u[0]\n",
    "        print(u)\n",
    "        upc.updateRow(u)"
   ]
  },
  {
   "cell_type": "code",
   "execution_count": null,
   "metadata": {},
   "outputs": [],
   "source": [
    "import matplotlib.pyplot as plt\n",
    "import matplotlib as mpl\n",
    "import seaborn as sns\n",
    "import numpy\n",
    "mpl.rcParams['font.sans-serif'] = ['SimHei']\n",
    "mpl.rcParams['font.serif'] = ['SimHei']\n",
    "mpl.rcParams['axes.unicode_minus'] = False"
   ]
  },
  {
   "cell_type": "code",
   "execution_count": null,
   "metadata": {},
   "outputs": [],
   "source": [
    "d = arcpy.da.FeatureClassToNumPyArray(\"china2.shp\",[\"FIRST_NAME\",\"cg2009\"])"
   ]
  },
  {
   "cell_type": "code",
   "execution_count": null,
   "metadata": {},
   "outputs": [],
   "source": [
    "d = numpy.sort(d,order=\"cg2009\")\n",
    "d"
   ]
  },
  {
   "cell_type": "code",
   "execution_count": null,
   "metadata": {},
   "outputs": [],
   "source": [
    "fig = plt.figure(figsize=(10,10))\n",
    "sns.barplot(d[\"cg2009\"],d[\"FIRST_NAME\"])"
   ]
  },
  {
   "cell_type": "code",
   "execution_count": null,
   "metadata": {},
   "outputs": [],
   "source": [
    "arcpy.AddField_management(\"china2.shp\",\"ag2009\",\"FLOAT\")\n",
    "with arcpy.da.UpdateCursor(\"china2.shp\",[\"GDP_2005\",\"GDP_2009\",\n",
    "                                        \"ag2009\",\"FIRST_NAME\"]) as upc:\n",
    "    for u in upc:\n",
    "        if u[1] <= 0:\n",
    "            pass\n",
    "        else:\n",
    "            u[2] = (u[1] -u[0])/ u[1] / 5\n",
    "            print(u)\n",
    "            upc.updateRow(u)"
   ]
  },
  {
   "cell_type": "code",
   "execution_count": null,
   "metadata": {},
   "outputs": [],
   "source": [
    "d = arcpy.da.FeatureClassToNumPyArray(\"china2.shp\",[\"FIRST_NAME\",\"ag2009\"])\n",
    "d = numpy.sort(d,order=\"ag2009\")\n",
    "fig = plt.figure(figsize=(10,10))\n",
    "sns.barplot(d[\"ag2009\"],d[\"FIRST_NAME\"])"
   ]
  },
  {
   "cell_type": "code",
   "execution_count": null,
   "metadata": {},
   "outputs": [],
   "source": []
  }
 ],
 "metadata": {
  "kernelspec": {
   "display_name": "Python 3",
   "language": "python",
   "name": "python3"
  },
  "language_info": {
   "codemirror_mode": {
    "name": "ipython",
    "version": 3
   },
   "file_extension": ".py",
   "mimetype": "text/x-python",
   "name": "python",
   "nbconvert_exporter": "python",
   "pygments_lexer": "ipython3",
   "version": "3.6.8"
  }
 },
 "nbformat": 4,
 "nbformat_minor": 2
}
