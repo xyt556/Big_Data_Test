{
 "cells": [
  {
   "cell_type": "code",
   "execution_count": null,
   "metadata": {},
   "outputs": [],
   "source": [
    "import arcpy\n",
    "import json,numpy\n",
    "import matplotlib.pyplot as plt"
   ]
  },
  {
   "cell_type": "code",
   "execution_count": null,
   "metadata": {},
   "outputs": [],
   "source": [
    "arcpy.env.workspace = \"../data/shp/bj\"\n",
    "feat = arcpy.ListFeatureClasses(\"*\")\n",
    "feat"
   ]
  },
  {
   "cell_type": "code",
   "execution_count": null,
   "metadata": {},
   "outputs": [],
   "source": [
    "with arcpy.da.SearchCursor(feat[2],[\"Shape@\",\"name\"],\"name ='海淀区'\") as cursor:\n",
    "    for row in cursor:\n",
    "        print(row[0],row[1])"
   ]
  },
  {
   "cell_type": "code",
   "execution_count": null,
   "metadata": {},
   "outputs": [],
   "source": [
    "ext = row[0].extent"
   ]
  },
  {
   "cell_type": "code",
   "execution_count": null,
   "metadata": {},
   "outputs": [],
   "source": [
    "print(ext.XMax,ext.XMin,ext.YMax,ext.YMin)"
   ]
  },
  {
   "cell_type": "code",
   "execution_count": null,
   "metadata": {},
   "outputs": [],
   "source": [
    "x = numpy.random.uniform(ext.XMin,ext.XMax,10000)\n",
    "y = numpy.random.uniform(ext.YMin,ext.YMax,10000)"
   ]
  },
  {
   "cell_type": "code",
   "execution_count": null,
   "metadata": {},
   "outputs": [],
   "source": [
    "plt.figure(figsize=(12,9))\n",
    "plt.scatter(x,y)\n",
    "js = json.loads(row[0].JSON)\n",
    "px = [r[0] for r in js[\"rings\"][0]]\n",
    "py = [r[1] for r in js[\"rings\"][0]]\n",
    "plt.plot(px,py,color=\"red\")"
   ]
  },
  {
   "cell_type": "code",
   "execution_count": null,
   "metadata": {},
   "outputs": [],
   "source": [
    "%%time\n",
    "isc = []\n",
    "for i in range(10000):\n",
    "    p = arcpy.Point(x[i],y[i])\n",
    "    isc.append(row[0].contains(p))"
   ]
  },
  {
   "cell_type": "code",
   "execution_count": null,
   "metadata": {},
   "outputs": [],
   "source": [
    "plt.figure(figsize=(12,9))\n",
    "plt.scatter(x,y,2,isc)\n",
    "plt.plot(px,py,color=\"red\")"
   ]
  },
  {
   "cell_type": "code",
   "execution_count": null,
   "metadata": {},
   "outputs": [],
   "source": [
    "rings = []\n",
    "p = []\n",
    "for i in range(100):\n",
    "    cnt = numpy.random.randint(4,10)\n",
    "    x = numpy.random.uniform(ext.XMin,ext.XMax,cnt)\n",
    "    y = numpy.random.uniform(ext.YMin,ext.YMax,cnt)\n",
    "    arr = arcpy.Array()\n",
    "    for i in range(cnt):\n",
    "        arr.add(arcpy.Point(x[i],y[i]))\n",
    "    arr.add(arcpy.Point(x[0],y[0]))\n",
    "    p = arcpy.Polygon(arr)\n",
    "    rings.append(p)"
   ]
  },
  {
   "cell_type": "code",
   "execution_count": null,
   "metadata": {},
   "outputs": [],
   "source": [
    "plt.figure(figsize=(15,9))\n",
    "for r in rings[:]:\n",
    "    js = json.loads(r.JSON)\n",
    "    px2 = [r[0] for r in js[\"rings\"][0]]\n",
    "    py2 = [r[1] for r in js[\"rings\"][0]]\n",
    "    plt.plot(px2,py2)\n",
    "plt.plot(px,py,color=\"red\")"
   ]
  },
  {
   "cell_type": "code",
   "execution_count": null,
   "metadata": {},
   "outputs": [],
   "source": [
    "plt.figure(figsize=(15,9))\n",
    "for r in rings[:]:\n",
    "    js = json.loads(r.JSON)\n",
    "    px2 = [r[0] for r in js[\"rings\"][0]]\n",
    "    py2 = [r[1] for r in js[\"rings\"][0]]\n",
    "    if row[0].contains(r):\n",
    "        plt.plot(px2,py2)\n",
    "plt.plot(px,py,color=\"red\")"
   ]
  },
  {
   "cell_type": "code",
   "execution_count": null,
   "metadata": {},
   "outputs": [],
   "source": []
  }
 ],
 "metadata": {
  "kernelspec": {
   "display_name": "Python 3",
   "language": "python",
   "name": "python3"
  },
  "language_info": {
   "codemirror_mode": {
    "name": "ipython",
    "version": 3
   },
   "file_extension": ".py",
   "mimetype": "text/x-python",
   "name": "python",
   "nbconvert_exporter": "python",
   "pygments_lexer": "ipython3",
   "version": "3.6.8"
  }
 },
 "nbformat": 4,
 "nbformat_minor": 2
}
