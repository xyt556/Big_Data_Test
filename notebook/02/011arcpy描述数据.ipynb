{
 "cells": [
  {
   "cell_type": "code",
   "execution_count": 1,
   "metadata": {},
   "outputs": [],
   "source": [
    "import arcpy"
   ]
  },
  {
   "cell_type": "code",
   "execution_count": 2,
   "metadata": {},
   "outputs": [],
   "source": [
    "arcpy.env.workspace = \"../data/shp/bj\""
   ]
  },
  {
   "cell_type": "code",
   "execution_count": 13,
   "metadata": {},
   "outputs": [
    {
     "data": {
      "text/plain": [
       "['北京_line.shp', '北京_point.shp', '北京_polygon.shp']"
      ]
     },
     "execution_count": 13,
     "metadata": {},
     "output_type": "execute_result"
    }
   ],
   "source": [
    "feat = arcpy.ListFeatureClasses(\"*\")\n",
    "feat"
   ]
  },
  {
   "cell_type": "code",
   "execution_count": 4,
   "metadata": {},
   "outputs": [
    {
     "data": {
      "text/plain": [
       "<geoprocessing describe data object at 0x1bd235d03f0>"
      ]
     },
     "execution_count": 4,
     "metadata": {},
     "output_type": "execute_result"
    }
   ],
   "source": [
    "desc = arcpy.Describe(feat[2])\n",
    "desc"
   ]
  },
  {
   "cell_type": "code",
   "execution_count": 6,
   "metadata": {},
   "outputs": [
    {
     "name": "stdout",
     "output_type": "stream",
     "text": [
      "北京_polygon.shp\n",
      "../data/shp/bj\n",
      "ShapeFile\n",
      "../data/shp/bj\\北京_polygon.shp\n"
     ]
    }
   ],
   "source": [
    "print(desc.name)\n",
    "print(desc.path)\n",
    "print(desc.dataType)\n",
    "print(desc.catalogPath)"
   ]
  },
  {
   "cell_type": "code",
   "execution_count": 7,
   "metadata": {},
   "outputs": [
    {
     "name": "stdout",
     "output_type": "stream",
     "text": [
      "Simple\n",
      "Polygon\n",
      "GCS_WGS_1984\n",
      "115.41731 39.4382400000001 117.36931 41.0591900000001 0 0 nan nan\n",
      "Shape\n"
     ]
    }
   ],
   "source": [
    "print(desc.featureType)\n",
    "print(desc.shapeType)\n",
    "print(desc.spatialReference.name)\n",
    "print(desc.extent)\n",
    "print(desc.shapeFieldName)"
   ]
  },
  {
   "cell_type": "code",
   "execution_count": 8,
   "metadata": {},
   "outputs": [
    {
     "name": "stdout",
     "output_type": "stream",
     "text": [
      "name : 北京_line.shp\n",
      "\t--Feature Type:  Simple\n",
      "\t-Shape Type :   Polyline\n",
      "\t--Spatial Index: True\n",
      "\t--Dataset Type: FeatureClass\n",
      "\t--Extent:  XMin: 115.36946, XMax: 117.36931, YMin: 39.41629, YMax: 41.08266\n",
      "\t--MExtent: 0 0\n",
      "\t--ZExtent: 0 0\n",
      "\t--Spatial reference name: GCS_WGS_1984:\n",
      "\t--Data Type: \n",
      "\t--Path:      \n",
      "\t--Base Name: \n",
      "\t--Extension: \n",
      "name : 北京_point.shp\n",
      "\t--Feature Type:  Simple\n",
      "\t-Shape Type :   Point\n",
      "\t--Spatial Index: True\n",
      "\t--Dataset Type: FeatureClass\n",
      "\t--Extent:  XMin: 115.37294, XMax: 117.36857, YMin: 39.41652, YMax: 41.07743\n",
      "\t--MExtent: 0 0\n",
      "\t--ZExtent: 0 0\n",
      "\t--Spatial reference name: GCS_WGS_1984:\n",
      "\t--Data Type: \n",
      "\t--Path:      \n",
      "\t--Base Name: \n",
      "\t--Extension: \n",
      "name : 北京_polygon.shp\n",
      "\t--Feature Type:  Simple\n",
      "\t-Shape Type :   Polygon\n",
      "\t--Spatial Index: True\n",
      "\t--Dataset Type: FeatureClass\n",
      "\t--Extent:  XMin: 115.41731000000004, XMax: 117.36931000000001, YMin: 39.438240000000064, YMax: 41.059190000000065\n",
      "\t--MExtent: nan nan\n",
      "\t--ZExtent: 0 0\n",
      "\t--Spatial reference name: GCS_WGS_1984:\n",
      "\t--Data Type: \n",
      "\t--Path:      \n",
      "\t--Base Name: \n",
      "\t--Extension: \n"
     ]
    }
   ],
   "source": [
    "for feat in arcpy.ListFeatureClasses(\"*\"):\n",
    "    desc = arcpy.Describe(feat)\n",
    "    print(\"name : {0}\".format(feat))\n",
    "    print(\"\\t--Feature Type:  {0}\".format(desc.featureType))\n",
    "    print(\"\\t-Shape Type :   {0}\".format(desc.shapeType))\n",
    "    print(\"\\t--Spatial Index: {0}\".format(desc.hasSpatialIndex))\n",
    "    print(\"\\t--Dataset Type: {0}\".format(desc.datasetType))\n",
    "    print(\"\\t--Extent:  XMin: {0}, XMax: {1}, YMin: {2}, YMax: {3}\".format(\\\n",
    "    desc.extent.XMin, desc.extent.XMax, desc.extent.YMin, desc.extent.YMax))\n",
    "    print(\"\\t--MExtent: {0}\".format(desc.MExtent))\n",
    "    print(\"\\t--ZExtent: {0}\".format(desc.ZExtent))\n",
    "    print(\"\\t--Spatial reference name: {0}:\".format(desc.spatialReference.name))\n",
    "    print(\"\\t--Data Type: \".format(desc.dataType))\n",
    "    print(\"\\t--Path:      \".format(desc.path))\n",
    "    print(\"\\t--Base Name: \".format(desc.baseName))\n",
    "    print(\"\\t--Extension: \".format(desc.extension))"
   ]
  },
  {
   "cell_type": "code",
   "execution_count": 9,
   "metadata": {},
   "outputs": [
    {
     "data": {
      "text/plain": [
       "'FileSystem'"
      ]
     },
     "execution_count": 9,
     "metadata": {},
     "output_type": "execute_result"
    }
   ],
   "source": [
    "arcpy.Describe(arcpy.env.workspace).workspaceType"
   ]
  },
  {
   "cell_type": "code",
   "execution_count": 10,
   "metadata": {},
   "outputs": [
    {
     "name": "stdout",
     "output_type": "stream",
     "text": [
      "FID OID 4\n",
      "Shape Geometry 0\n",
      "NAME String 26\n",
      "Shape_Leng Double 19\n",
      "Shape_Area Double 19\n"
     ]
    }
   ],
   "source": [
    "for f in arcpy.ListFields(feat):\n",
    "    print(f.name,f.type,f.length)"
   ]
  },
  {
   "cell_type": "code",
   "execution_count": 20,
   "metadata": {},
   "outputs": [
    {
     "data": {
      "text/plain": [
       "<Result '16'>"
      ]
     },
     "execution_count": 20,
     "metadata": {},
     "output_type": "execute_result"
    }
   ],
   "source": [
    "cnt = arcpy.GetCount_management(feat[2])\n",
    "cnt"
   ]
  },
  {
   "cell_type": "code",
   "execution_count": 21,
   "metadata": {},
   "outputs": [
    {
     "name": "stdout",
     "output_type": "stream",
     "text": [
      "Start Time: 2020年2月13日 10:41:49\n",
      "Row Count = 16\n",
      "Succeeded at 2020年2月13日 10:41:49 (Elapsed Time: 0.01 seconds)\n"
     ]
    }
   ],
   "source": [
    "print(cnt.getMessages())"
   ]
  },
  {
   "cell_type": "code",
   "execution_count": 22,
   "metadata": {},
   "outputs": [
    {
     "data": {
      "text/plain": [
       "'16'"
      ]
     },
     "execution_count": 22,
     "metadata": {},
     "output_type": "execute_result"
    }
   ],
   "source": [
    "cnt.getOutput(0)"
   ]
  },
  {
   "cell_type": "code",
   "execution_count": null,
   "metadata": {},
   "outputs": [],
   "source": []
  }
 ],
 "metadata": {
  "kernelspec": {
   "display_name": "Python 3",
   "language": "python",
   "name": "python3"
  },
  "language_info": {
   "codemirror_mode": {
    "name": "ipython",
    "version": 3
   },
   "file_extension": ".py",
   "mimetype": "text/x-python",
   "name": "python",
   "nbconvert_exporter": "python",
   "pygments_lexer": "ipython3",
   "version": "3.6.8"
  }
 },
 "nbformat": 4,
 "nbformat_minor": 2
}
