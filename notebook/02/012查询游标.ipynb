{
 "cells": [
  {
   "cell_type": "code",
   "execution_count": 1,
   "metadata": {},
   "outputs": [],
   "source": [
    "import arcpy"
   ]
  },
  {
   "cell_type": "code",
   "execution_count": 2,
   "metadata": {},
   "outputs": [],
   "source": [
    "arcpy.env.workspace = \"../data/shp/china\""
   ]
  },
  {
   "cell_type": "markdown",
   "metadata": {},
   "source": [
    "## 显示所有字段"
   ]
  },
  {
   "cell_type": "code",
   "execution_count": 3,
   "metadata": {},
   "outputs": [
    {
     "name": "stdout",
     "output_type": "stream",
     "text": [
      "['FID', 'Shape', 'FIRST_NAME', 'Code', 'AREA', 'Pop_2009', 'Pop_2005', 'Pop_2000', 'Pop_1999', 'Pop_1995', 'Pop_1990', 'Pop_Birth_', 'Pop_Death_', 'GDP_2009', 'GDP_2008', 'GDP_2007', 'GDP_2006', 'GDP_2005', 'CPI_2009', 'CATEGORIES']\n"
     ]
    }
   ],
   "source": [
    "fd = [fs.name for fs in arcpy.ListFields(\"china.shp\")]\n",
    "print(fd)"
   ]
  },
  {
   "cell_type": "markdown",
   "metadata": {},
   "source": [
    "## 用传统游标方式进行查询。"
   ]
  },
  {
   "cell_type": "code",
   "execution_count": 4,
   "metadata": {},
   "outputs": [
    {
     "name": "stdout",
     "output_type": "stream",
     "text": [
      "name = 北京 ,              2009年人口 = 1755.0 ,              2009年GDP = 12153.03\n",
      "name = 天津 ,              2009年人口 = 1228.16 ,              2009年GDP = 7521.85\n",
      "name = 山西 ,              2009年人口 = 3427.36 ,              2009年GDP = 7358.31\n",
      "name = 辽宁 ,              2009年人口 = 4319.0 ,              2009年GDP = 15212.49\n",
      "name = 吉林 ,              2009年人口 = 2739.55 ,              2009年GDP = 7278.75\n",
      "name = 黑龙江 ,              2009年人口 = 3826.0 ,              2009年GDP = 8587.0\n",
      "name = 上海 ,              2009年人口 = 1921.0 ,              2009年GDP = 15046.45\n",
      "name = 江苏 ,              2009年人口 = 7725.0 ,              2009年GDP = 34457.3\n",
      "name = 浙江 ,              2009年人口 = 5180.0 ,              2009年GDP = 22990.35\n",
      "name = 安徽 ,              2009年人口 = 6131.0 ,              2009年GDP = 10062.82\n",
      "name = 福建 ,              2009年人口 = 3627.0 ,              2009年GDP = 12236.53\n",
      "name = 江西 ,              2009年人口 = 4432.1581 ,              2009年GDP = 7655.18\n",
      "name = 山东 ,              2009年人口 = 9470.3 ,              2009年GDP = 33896.65\n",
      "name = 河南 ,              2009年人口 = 9487.0 ,              2009年GDP = 19480.46\n",
      "name = 湖北 ,              2009年人口 = 5720.0 ,              2009年GDP = 12961.1\n",
      "name = 湖南 ,              2009年人口 = 6406.0 ,              2009年GDP = 13059.69\n",
      "name = 广东 ,              2009年人口 = 9638.0 ,              2009年GDP = 39482.56\n",
      "name = 广西 ,              2009年人口 = 4856.0 ,              2009年GDP = 7759.16\n",
      "name = 海南 ,              2009年人口 = 864.07 ,              2009年GDP = 1654.21\n",
      "name = 重庆 ,              2009年人口 = 2859.0 ,              2009年GDP = 6530.01\n",
      "name = 四川 ,              2009年人口 = 8185.0 ,              2009年GDP = 14151.28\n",
      "name = 贵州 ,              2009年人口 = 3798.0 ,              2009年GDP = 3912.68\n",
      "name = 云南 ,              2009年人口 = 4571.0 ,              2009年GDP = 6169.75\n",
      "name = 西藏 ,              2009年人口 = 290.03 ,              2009年GDP = 441.36\n",
      "name = 陕西 ,              2009年人口 = 3772.0 ,              2009年GDP = 8169.8\n",
      "name = 青海 ,              2009年人口 = 557.3 ,              2009年GDP = 1081.27\n",
      "name = 宁夏 ,              2009年人口 = 625.2 ,              2009年GDP = 1353.31\n",
      "name = 新疆 ,              2009年人口 = 2158.63 ,              2009年GDP = 4277.05\n",
      "name = 台湾 ,              2009年人口 = 0.0 ,              2009年GDP = 0.0\n",
      "name = 内蒙古 ,              2009年人口 = 2422.07 ,              2009年GDP = 9740.25\n",
      "name = 甘肃 ,              2009年人口 = 2635.46 ,              2009年GDP = 3387.56\n",
      "name = 河北 ,              2009年人口 = 7034.4 ,              2009年GDP = 17235.48\n",
      "Wall time: 57.8 ms\n"
     ]
    }
   ],
   "source": [
    "%%time\n",
    "cursor = arcpy.SearchCursor(\"china.shp\")\n",
    "for row in cursor:\n",
    "    print(u\"name = {0} ,  \\\n",
    "            2009年人口 = {1} ,  \\\n",
    "            2009年GDP = {2}\".format(row.getValue(\"FIRST_NAME\"),\n",
    "                                           row.getValue(\"Pop_2009\"),\n",
    "                                           row.getValue(\"GDP_2009\")))\n",
    "del cursor"
   ]
  },
  {
   "cell_type": "markdown",
   "metadata": {},
   "source": [
    "## 利用令牌方式进行查询"
   ]
  },
  {
   "cell_type": "code",
   "execution_count": 5,
   "metadata": {
    "scrolled": true
   },
   "outputs": [
    {
     "name": "stdout",
     "output_type": "stream",
     "text": [
      "name = 北京 ,              2009年人口 = 1755.0 ,              2009年GDP = 12153.03\n",
      "name = 天津 ,              2009年人口 = 1228.16 ,              2009年GDP = 7521.85\n",
      "name = 山西 ,              2009年人口 = 3427.36 ,              2009年GDP = 7358.31\n",
      "name = 辽宁 ,              2009年人口 = 4319.0 ,              2009年GDP = 15212.49\n",
      "name = 吉林 ,              2009年人口 = 2739.55 ,              2009年GDP = 7278.75\n",
      "name = 黑龙江 ,              2009年人口 = 3826.0 ,              2009年GDP = 8587.0\n",
      "name = 上海 ,              2009年人口 = 1921.0 ,              2009年GDP = 15046.45\n",
      "name = 江苏 ,              2009年人口 = 7725.0 ,              2009年GDP = 34457.3\n",
      "name = 浙江 ,              2009年人口 = 5180.0 ,              2009年GDP = 22990.35\n",
      "name = 安徽 ,              2009年人口 = 6131.0 ,              2009年GDP = 10062.82\n",
      "name = 福建 ,              2009年人口 = 3627.0 ,              2009年GDP = 12236.53\n",
      "name = 江西 ,              2009年人口 = 4432.1581 ,              2009年GDP = 7655.18\n",
      "name = 山东 ,              2009年人口 = 9470.3 ,              2009年GDP = 33896.65\n",
      "name = 河南 ,              2009年人口 = 9487.0 ,              2009年GDP = 19480.46\n",
      "name = 湖北 ,              2009年人口 = 5720.0 ,              2009年GDP = 12961.1\n",
      "name = 湖南 ,              2009年人口 = 6406.0 ,              2009年GDP = 13059.69\n",
      "name = 广东 ,              2009年人口 = 9638.0 ,              2009年GDP = 39482.56\n",
      "name = 广西 ,              2009年人口 = 4856.0 ,              2009年GDP = 7759.16\n",
      "name = 海南 ,              2009年人口 = 864.07 ,              2009年GDP = 1654.21\n",
      "name = 重庆 ,              2009年人口 = 2859.0 ,              2009年GDP = 6530.01\n",
      "name = 四川 ,              2009年人口 = 8185.0 ,              2009年GDP = 14151.28\n",
      "name = 贵州 ,              2009年人口 = 3798.0 ,              2009年GDP = 3912.68\n",
      "name = 云南 ,              2009年人口 = 4571.0 ,              2009年GDP = 6169.75\n",
      "name = 西藏 ,              2009年人口 = 290.03 ,              2009年GDP = 441.36\n",
      "name = 陕西 ,              2009年人口 = 3772.0 ,              2009年GDP = 8169.8\n",
      "name = 青海 ,              2009年人口 = 557.3 ,              2009年GDP = 1081.27\n",
      "name = 宁夏 ,              2009年人口 = 625.2 ,              2009年GDP = 1353.31\n",
      "name = 新疆 ,              2009年人口 = 2158.63 ,              2009年GDP = 4277.05\n",
      "name = 台湾 ,              2009年人口 = 0.0 ,              2009年GDP = 0.0\n",
      "name = 内蒙古 ,              2009年人口 = 2422.07 ,              2009年GDP = 9740.25\n",
      "name = 甘肃 ,              2009年人口 = 2635.46 ,              2009年GDP = 3387.56\n",
      "name = 河北 ,              2009年人口 = 7034.4 ,              2009年GDP = 17235.48\n",
      "Wall time: 12 ms\n"
     ]
    }
   ],
   "source": [
    "%%time\n",
    "cursor = arcpy.da.SearchCursor(\"china.shp\",[\"FIRST_NAME\",\"Pop_2009\",\"GDP_2009\"])\n",
    "for row in cursor:\n",
    "    print(u\"name = {0} ,  \\\n",
    "            2009年人口 = {1} ,  \\\n",
    "            2009年GDP = {2}\".format(row[0],row[1],row[2]))\n",
    "del cursor"
   ]
  },
  {
   "cell_type": "markdown",
   "metadata": {},
   "source": [
    "## Esri官方推荐写法，使用with..as..语法"
   ]
  },
  {
   "cell_type": "code",
   "execution_count": 6,
   "metadata": {
    "scrolled": true
   },
   "outputs": [
    {
     "name": "stdout",
     "output_type": "stream",
     "text": [
      "name = 北京 ,              2009年人口 = 1755.0 ,              2009年GDP = 12153.03\n",
      "name = 天津 ,              2009年人口 = 1228.16 ,              2009年GDP = 7521.85\n",
      "name = 山西 ,              2009年人口 = 3427.36 ,              2009年GDP = 7358.31\n",
      "name = 辽宁 ,              2009年人口 = 4319.0 ,              2009年GDP = 15212.49\n",
      "name = 吉林 ,              2009年人口 = 2739.55 ,              2009年GDP = 7278.75\n",
      "name = 黑龙江 ,              2009年人口 = 3826.0 ,              2009年GDP = 8587.0\n",
      "name = 上海 ,              2009年人口 = 1921.0 ,              2009年GDP = 15046.45\n",
      "name = 江苏 ,              2009年人口 = 7725.0 ,              2009年GDP = 34457.3\n",
      "name = 浙江 ,              2009年人口 = 5180.0 ,              2009年GDP = 22990.35\n",
      "name = 安徽 ,              2009年人口 = 6131.0 ,              2009年GDP = 10062.82\n",
      "name = 福建 ,              2009年人口 = 3627.0 ,              2009年GDP = 12236.53\n",
      "name = 江西 ,              2009年人口 = 4432.1581 ,              2009年GDP = 7655.18\n",
      "name = 山东 ,              2009年人口 = 9470.3 ,              2009年GDP = 33896.65\n",
      "name = 河南 ,              2009年人口 = 9487.0 ,              2009年GDP = 19480.46\n",
      "name = 湖北 ,              2009年人口 = 5720.0 ,              2009年GDP = 12961.1\n",
      "name = 湖南 ,              2009年人口 = 6406.0 ,              2009年GDP = 13059.69\n",
      "name = 广东 ,              2009年人口 = 9638.0 ,              2009年GDP = 39482.56\n",
      "name = 广西 ,              2009年人口 = 4856.0 ,              2009年GDP = 7759.16\n",
      "name = 海南 ,              2009年人口 = 864.07 ,              2009年GDP = 1654.21\n",
      "name = 重庆 ,              2009年人口 = 2859.0 ,              2009年GDP = 6530.01\n",
      "name = 四川 ,              2009年人口 = 8185.0 ,              2009年GDP = 14151.28\n",
      "name = 贵州 ,              2009年人口 = 3798.0 ,              2009年GDP = 3912.68\n",
      "name = 云南 ,              2009年人口 = 4571.0 ,              2009年GDP = 6169.75\n",
      "name = 西藏 ,              2009年人口 = 290.03 ,              2009年GDP = 441.36\n",
      "name = 陕西 ,              2009年人口 = 3772.0 ,              2009年GDP = 8169.8\n",
      "name = 青海 ,              2009年人口 = 557.3 ,              2009年GDP = 1081.27\n",
      "name = 宁夏 ,              2009年人口 = 625.2 ,              2009年GDP = 1353.31\n",
      "name = 新疆 ,              2009年人口 = 2158.63 ,              2009年GDP = 4277.05\n",
      "name = 台湾 ,              2009年人口 = 0.0 ,              2009年GDP = 0.0\n",
      "name = 内蒙古 ,              2009年人口 = 2422.07 ,              2009年GDP = 9740.25\n",
      "name = 甘肃 ,              2009年人口 = 2635.46 ,              2009年GDP = 3387.56\n",
      "name = 河北 ,              2009年人口 = 7034.4 ,              2009年GDP = 17235.48\n",
      "Wall time: 11 ms\n"
     ]
    }
   ],
   "source": [
    "%%time\n",
    "with arcpy.da.SearchCursor(\"china.shp\",[\"FIRST_NAME\",\"Pop_2009\",\"GDP_2009\"]) as cursor:\n",
    "    for row in cursor:\n",
    "        print(u\"name = {0} ,  \\\n",
    "            2009年人口 = {1} ,  \\\n",
    "            2009年GDP = {2}\".format(row[0],row[1],row[2]))"
   ]
  },
  {
   "cell_type": "markdown",
   "metadata": {},
   "source": [
    "# 查询人口大于5000万的人口"
   ]
  },
  {
   "cell_type": "markdown",
   "metadata": {},
   "source": [
    "## 传统游标模式"
   ]
  },
  {
   "cell_type": "code",
   "execution_count": 7,
   "metadata": {},
   "outputs": [
    {
     "name": "stdout",
     "output_type": "stream",
     "text": [
      "name = 江苏 ,          2009年人口 = 7725.0 ,          2009年GDP = 34457.3\n",
      "name = 浙江 ,          2009年人口 = 5180.0 ,          2009年GDP = 22990.35\n",
      "name = 安徽 ,          2009年人口 = 6131.0 ,          2009年GDP = 10062.82\n",
      "name = 山东 ,          2009年人口 = 9470.3 ,          2009年GDP = 33896.65\n",
      "name = 河南 ,          2009年人口 = 9487.0 ,          2009年GDP = 19480.46\n",
      "name = 湖北 ,          2009年人口 = 5720.0 ,          2009年GDP = 12961.1\n",
      "name = 湖南 ,          2009年人口 = 6406.0 ,          2009年GDP = 13059.69\n",
      "name = 广东 ,          2009年人口 = 9638.0 ,          2009年GDP = 39482.56\n",
      "name = 四川 ,          2009年人口 = 8185.0 ,          2009年GDP = 14151.28\n",
      "name = 河北 ,          2009年人口 = 7034.4 ,          2009年GDP = 17235.48\n",
      "Wall time: 23.9 ms\n"
     ]
    }
   ],
   "source": [
    "%%time\n",
    "cursor = arcpy.SearchCursor(\"china.shp\",\"Pop_2009 > 5000\")\n",
    "for row in cursor:\n",
    "    print(u\"name = {0} ,  \\\n",
    "        2009年人口 = {1} ,  \\\n",
    "        2009年GDP = {2}\".format(row.getValue(\"FIRST_NAME\"),\n",
    "                                           row.getValue(\"Pop_2009\"),\n",
    "                                           row.getValue(\"GDP_2009\")))"
   ]
  },
  {
   "cell_type": "markdown",
   "metadata": {},
   "source": [
    "## 令牌模式"
   ]
  },
  {
   "cell_type": "code",
   "execution_count": 8,
   "metadata": {},
   "outputs": [
    {
     "name": "stdout",
     "output_type": "stream",
     "text": [
      "name = 江苏 ,              2009年人口 = 7725.0 ,              2009年GDP = 34457.3\n",
      "name = 浙江 ,              2009年人口 = 5180.0 ,              2009年GDP = 22990.35\n",
      "name = 安徽 ,              2009年人口 = 6131.0 ,              2009年GDP = 10062.82\n",
      "name = 山东 ,              2009年人口 = 9470.3 ,              2009年GDP = 33896.65\n",
      "name = 河南 ,              2009年人口 = 9487.0 ,              2009年GDP = 19480.46\n",
      "name = 湖北 ,              2009年人口 = 5720.0 ,              2009年GDP = 12961.1\n",
      "name = 湖南 ,              2009年人口 = 6406.0 ,              2009年GDP = 13059.69\n",
      "name = 广东 ,              2009年人口 = 9638.0 ,              2009年GDP = 39482.56\n",
      "name = 四川 ,              2009年人口 = 8185.0 ,              2009年GDP = 14151.28\n",
      "name = 河北 ,              2009年人口 = 7034.4 ,              2009年GDP = 17235.48\n",
      "Wall time: 8.96 ms\n"
     ]
    }
   ],
   "source": [
    "%%time\n",
    "with arcpy.da.SearchCursor(\"china.shp\",[\"FIRST_NAME\",\"Pop_2009\",\"GDP_2009\"],\n",
    "                           \"Pop_2009 > 5000\") as cursor:\n",
    "    for row in cursor:\n",
    "        print(u\"name = {0} ,  \\\n",
    "            2009年人口 = {1} ,  \\\n",
    "            2009年GDP = {2}\".format(row[0],row[1],row[2]))"
   ]
  },
  {
   "cell_type": "markdown",
   "metadata": {},
   "source": [
    "## 多字段查询：查询09年人口大于5000万且GDP大于2万亿（传统）"
   ]
  },
  {
   "cell_type": "code",
   "execution_count": 9,
   "metadata": {},
   "outputs": [
    {
     "name": "stdout",
     "output_type": "stream",
     "text": [
      "name = 江苏 ,          2009年人口 = 7725.0 ,          2009年GDP = 34457.3\n",
      "name = 浙江 ,          2009年人口 = 5180.0 ,          2009年GDP = 22990.35\n",
      "name = 山东 ,          2009年人口 = 9470.3 ,          2009年GDP = 33896.65\n",
      "name = 广东 ,          2009年人口 = 9638.0 ,          2009年GDP = 39482.56\n",
      "Wall time: 18 ms\n"
     ]
    }
   ],
   "source": [
    "%%time\n",
    "cursor = arcpy.SearchCursor(\"china.shp\",\"Pop_2009 > 5000 and GDP_2009 > 20000\")\n",
    "for row in cursor:\n",
    "    print(u\"name = {0} ,  \\\n",
    "        2009年人口 = {1} ,  \\\n",
    "        2009年GDP = {2}\".format(row.getValue(\"FIRST_NAME\"),\n",
    "                                           row.getValue(\"Pop_2009\"),\n",
    "                                           row.getValue(\"GDP_2009\")))"
   ]
  },
  {
   "cell_type": "code",
   "execution_count": 10,
   "metadata": {},
   "outputs": [
    {
     "name": "stdout",
     "output_type": "stream",
     "text": [
      "name = 江苏 ,              2009年人口 = 7725.0 ,              2009年GDP = 34457.3\n",
      "name = 浙江 ,              2009年人口 = 5180.0 ,              2009年GDP = 22990.35\n",
      "name = 山东 ,              2009年人口 = 9470.3 ,              2009年GDP = 33896.65\n",
      "name = 广东 ,              2009年人口 = 9638.0 ,              2009年GDP = 39482.56\n",
      "Wall time: 7.98 ms\n"
     ]
    }
   ],
   "source": [
    "%%time\n",
    "with arcpy.da.SearchCursor(\"china.shp\",[\"FIRST_NAME\",\"Pop_2009\",\"GDP_2009\"],\n",
    "                           \"Pop_2009 > 5000 and GDP_2009 > 20000\") as cursor:\n",
    "    for row in cursor:\n",
    "        print(u\"name = {0} ,  \\\n",
    "            2009年人口 = {1} ,  \\\n",
    "            2009年GDP = {2}\".format(row[0],row[1],row[2]))"
   ]
  },
  {
   "cell_type": "code",
   "execution_count": null,
   "metadata": {},
   "outputs": [],
   "source": []
  }
 ],
 "metadata": {
  "kernelspec": {
   "display_name": "Python 3",
   "language": "python",
   "name": "python3"
  },
  "language_info": {
   "codemirror_mode": {
    "name": "ipython",
    "version": 3
   },
   "file_extension": ".py",
   "mimetype": "text/x-python",
   "name": "python",
   "nbconvert_exporter": "python",
   "pygments_lexer": "ipython3",
   "version": "3.6.8"
  }
 },
 "nbformat": 4,
 "nbformat_minor": 2
}
