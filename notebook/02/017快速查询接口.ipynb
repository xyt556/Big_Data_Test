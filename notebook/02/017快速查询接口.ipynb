{
 "cells": [
  {
   "cell_type": "code",
   "execution_count": 1,
   "metadata": {},
   "outputs": [],
   "source": [
    "import arcpy\n",
    "import matplotlib.pyplot as plt"
   ]
  },
  {
   "cell_type": "code",
   "execution_count": 2,
   "metadata": {},
   "outputs": [
    {
     "data": {
      "text/plain": [
       "['北京_line.shp', '北京_point.shp', '北京_polygon.shp']"
      ]
     },
     "execution_count": 2,
     "metadata": {},
     "output_type": "execute_result"
    }
   ],
   "source": [
    "arcpy.env.workspace = \"../data/shp/bj\"\n",
    "feat = arcpy.ListFeatureClasses(\"*\")\n",
    "feat"
   ]
  },
  {
   "cell_type": "code",
   "execution_count": 7,
   "metadata": {},
   "outputs": [
    {
     "name": "stdout",
     "output_type": "stream",
     "text": [
      "1068\n",
      "Wall time: 846 ms\n"
     ]
    }
   ],
   "source": [
    "%%time\n",
    "x = []\n",
    "with arcpy.da.SearchCursor(feat[1],[\"Shape@\",\"NAME\"],\"NAME like '%学校'\") as sc:\n",
    "    for r in sc:\n",
    "        x.append(r[1])\n",
    "print(len(x))"
   ]
  },
  {
   "cell_type": "code",
   "execution_count": 5,
   "metadata": {},
   "outputs": [
    {
     "data": {
      "text/plain": [
       "<Result 'bjpnt'>"
      ]
     },
     "execution_count": 5,
     "metadata": {},
     "output_type": "execute_result"
    }
   ],
   "source": [
    "arcpy.MakeFeatureLayer_management(feat[1], \"bjpnt\")"
   ]
  },
  {
   "cell_type": "code",
   "execution_count": 8,
   "metadata": {},
   "outputs": [
    {
     "name": "stdout",
     "output_type": "stream",
     "text": [
      "1068\n",
      "Wall time: 1.04 s\n"
     ]
    }
   ],
   "source": [
    "%%time\n",
    "arcpy.SelectLayerByAttribute_management('bjpnt', \n",
    "                                        'NEW_SELECTION', \n",
    "                                        'NAME like \\'%学校\\'')\n",
    "print(arcpy.GetCount_management(\"bjpnt\"))"
   ]
  },
  {
   "cell_type": "code",
   "execution_count": 9,
   "metadata": {},
   "outputs": [
    {
     "name": "stdout",
     "output_type": "stream",
     "text": [
      "<geoprocessing describe geometry object object at 0x000001FE8906BF80> 东城区\n"
     ]
    }
   ],
   "source": [
    "with arcpy.da.SearchCursor(feat[2],[\"Shape@\",\"NAME\"],\"NAME = '东城区'\") as sc:\n",
    "    for r in sc:\n",
    "        print(r[0],r[1])\n",
    "        poly = r[0]"
   ]
  },
  {
   "cell_type": "code",
   "execution_count": 10,
   "metadata": {},
   "outputs": [
    {
     "name": "stdout",
     "output_type": "stream",
     "text": [
      "Wall time: 21.2 s\n"
     ]
    }
   ],
   "source": [
    "%%time\n",
    "cp = []\n",
    "with arcpy.da.SearchCursor(feat[1],[\"Shape@\",\"NAME\"]) as sc:\n",
    "    for r in sc:\n",
    "        if poly.contains(r[0]):\n",
    "            cp.append(r[1])"
   ]
  },
  {
   "cell_type": "code",
   "execution_count": null,
   "metadata": {},
   "outputs": [],
   "source": [
    "%%time\n",
    "try:\n",
    "    arcpy.MakeFeatureLayer_management(feat[2], \"bjpoly\")\n",
    "except:\n",
    "    pass\n",
    "arcpy.SelectLayerByAttribute_management(\"bjpoly\", 'NEW_SELECTION', \n",
    "                                        'NAME = \\'东城区\\'')\n",
    "arcpy.SelectLayerByLocation_management(\"bjpnt\",'WITHIN',select_features=\"bjpoly\")\n",
    "cp = []\n",
    "with arcpy.da.SearchCursor(\"bjpnt\",[\"Shape@\",\"NAME\"]) as sc:\n",
    "    for r in sc:\n",
    "        if poly.contains(r[0]):\n",
    "            cp.append(r[1])\n",
    "len(cp)"
   ]
  },
  {
   "cell_type": "code",
   "execution_count": null,
   "metadata": {},
   "outputs": [],
   "source": []
  },
  {
   "cell_type": "code",
   "execution_count": null,
   "metadata": {},
   "outputs": [],
   "source": []
  }
 ],
 "metadata": {
  "kernelspec": {
   "display_name": "Python 3",
   "language": "python",
   "name": "python3"
  },
  "language_info": {
   "codemirror_mode": {
    "name": "ipython",
    "version": 3
   },
   "file_extension": ".py",
   "mimetype": "text/x-python",
   "name": "python",
   "nbconvert_exporter": "python",
   "pygments_lexer": "ipython3",
   "version": "3.6.8"
  }
 },
 "nbformat": 4,
 "nbformat_minor": 2
}
