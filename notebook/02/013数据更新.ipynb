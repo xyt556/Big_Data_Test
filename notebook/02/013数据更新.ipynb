{
 "cells": [
  {
   "cell_type": "code",
   "execution_count": 1,
   "metadata": {},
   "outputs": [],
   "source": [
    "import arcpy"
   ]
  },
  {
   "cell_type": "code",
   "execution_count": 2,
   "metadata": {},
   "outputs": [],
   "source": [
    "arcpy.env.workspace = \"../data/shp/china\""
   ]
  },
  {
   "cell_type": "code",
   "execution_count": 3,
   "metadata": {},
   "outputs": [
    {
     "data": {
      "text/plain": [
       "<Result '../data/shp/china\\\\china2.shp'>"
      ]
     },
     "execution_count": 3,
     "metadata": {},
     "output_type": "execute_result"
    }
   ],
   "source": [
    "arcpy.Select_analysis(\"china.shp\",\"china2.shp\")"
   ]
  },
  {
   "cell_type": "code",
   "execution_count": 6,
   "metadata": {},
   "outputs": [
    {
     "name": "stdout",
     "output_type": "stream",
     "text": [
      "['FID', 'Shape', 'FIRST_NAME', 'Code', 'AREA', 'Pop_2009', 'Pop_2005', 'Pop_2000', 'Pop_1999', 'Pop_1995', 'Pop_1990', 'Pop_Birth_', 'Pop_Death_', 'GDP_2009', 'GDP_2008', 'GDP_2007', 'GDP_2006', 'GDP_2005', 'CPI_2009', 'CATEGORIES', 'cg2009']\n"
     ]
    }
   ],
   "source": [
    "print([f.name for f in arcpy.ListFields(\"china2.shp\")])"
   ]
  },
  {
   "cell_type": "code",
   "execution_count": 5,
   "metadata": {},
   "outputs": [
    {
     "data": {
      "text/plain": [
       "<Result '../data/shp/china\\\\china2.shp'>"
      ]
     },
     "execution_count": 5,
     "metadata": {},
     "output_type": "execute_result"
    }
   ],
   "source": [
    "arcpy.AddField_management(\"china2.shp\",\"cg2009\",\"FLOAT\")"
   ]
  },
  {
   "cell_type": "code",
   "execution_count": 7,
   "metadata": {},
   "outputs": [
    {
     "ename": "ZeroDivisionError",
     "evalue": "float division by zero",
     "output_type": "error",
     "traceback": [
      "\u001b[1;31m---------------------------------------------------------------------------\u001b[0m",
      "\u001b[1;31mZeroDivisionError\u001b[0m                         Traceback (most recent call last)",
      "\u001b[1;32m<expression>\u001b[0m in \u001b[0;36m<module>\u001b[1;34m\u001b[0m\n",
      "\u001b[1;31mZeroDivisionError\u001b[0m: float division by zero"
     ]
    },
    {
     "ename": "ExecuteError",
     "evalue": "ERROR 999999: Something unexpected caused the tool to fail. Contact Esri Technical Support (http://esriurl.com/support) to Report a Bug, and refer to the error help for potential solutions or workarounds.\nFailed to execute (CalculateField).\n",
     "output_type": "error",
     "traceback": [
      "\u001b[1;31m---------------------------------------------------------------------------\u001b[0m",
      "\u001b[1;31mExecuteError\u001b[0m                              Traceback (most recent call last)",
      "\u001b[1;32m<ipython-input-7-3b570e0ba95c>\u001b[0m in \u001b[0;36m<module>\u001b[1;34m\u001b[0m\n\u001b[1;32m----> 1\u001b[1;33m \u001b[0marcpy\u001b[0m\u001b[1;33m.\u001b[0m\u001b[0mCalculateField_management\u001b[0m\u001b[1;33m(\u001b[0m\u001b[1;34m\"china2.shp\"\u001b[0m\u001b[1;33m,\u001b[0m\u001b[1;34m\"cg2009\"\u001b[0m\u001b[1;33m,\u001b[0m\u001b[1;34m\"!GDP_2009!/!Pop_2009!\"\u001b[0m\u001b[1;33m)\u001b[0m\u001b[1;33m\u001b[0m\u001b[1;33m\u001b[0m\u001b[0m\n\u001b[0m",
      "\u001b[1;32mD:\\Program Files\\ArcGIS\\Pro\\Resources\\ArcPy\\arcpy\\management.py\u001b[0m in \u001b[0;36mCalculateField\u001b[1;34m(in_table, field, expression, expression_type, code_block)\u001b[0m\n\u001b[0;32m   4228\u001b[0m         \u001b[1;32mreturn\u001b[0m \u001b[0mretval\u001b[0m\u001b[1;33m\u001b[0m\u001b[1;33m\u001b[0m\u001b[0m\n\u001b[0;32m   4229\u001b[0m     \u001b[1;32mexcept\u001b[0m \u001b[0mException\u001b[0m \u001b[1;32mas\u001b[0m \u001b[0me\u001b[0m\u001b[1;33m:\u001b[0m\u001b[1;33m\u001b[0m\u001b[1;33m\u001b[0m\u001b[0m\n\u001b[1;32m-> 4230\u001b[1;33m         \u001b[1;32mraise\u001b[0m \u001b[0me\u001b[0m\u001b[1;33m\u001b[0m\u001b[1;33m\u001b[0m\u001b[0m\n\u001b[0m\u001b[0;32m   4231\u001b[0m \u001b[1;33m\u001b[0m\u001b[0m\n\u001b[0;32m   4232\u001b[0m \u001b[1;33m@\u001b[0m\u001b[0mgptooldoc\u001b[0m\u001b[1;33m(\u001b[0m\u001b[1;34m'CalculateFields_management'\u001b[0m\u001b[1;33m,\u001b[0m \u001b[1;32mNone\u001b[0m\u001b[1;33m)\u001b[0m\u001b[1;33m\u001b[0m\u001b[1;33m\u001b[0m\u001b[0m\n",
      "\u001b[1;32mD:\\Program Files\\ArcGIS\\Pro\\Resources\\ArcPy\\arcpy\\management.py\u001b[0m in \u001b[0;36mCalculateField\u001b[1;34m(in_table, field, expression, expression_type, code_block)\u001b[0m\n\u001b[0;32m   4225\u001b[0m     \u001b[1;32mfrom\u001b[0m \u001b[0marcpy\u001b[0m\u001b[1;33m.\u001b[0m\u001b[0marcobjects\u001b[0m\u001b[1;33m.\u001b[0m\u001b[0marcobjectconversion\u001b[0m \u001b[1;32mimport\u001b[0m \u001b[0mconvertArcObjectToPythonObject\u001b[0m\u001b[1;33m\u001b[0m\u001b[1;33m\u001b[0m\u001b[0m\n\u001b[0;32m   4226\u001b[0m     \u001b[1;32mtry\u001b[0m\u001b[1;33m:\u001b[0m\u001b[1;33m\u001b[0m\u001b[1;33m\u001b[0m\u001b[0m\n\u001b[1;32m-> 4227\u001b[1;33m         \u001b[0mretval\u001b[0m \u001b[1;33m=\u001b[0m \u001b[0mconvertArcObjectToPythonObject\u001b[0m\u001b[1;33m(\u001b[0m\u001b[0mgp\u001b[0m\u001b[1;33m.\u001b[0m\u001b[0mCalculateField_management\u001b[0m\u001b[1;33m(\u001b[0m\u001b[1;33m*\u001b[0m\u001b[0mgp_fixargs\u001b[0m\u001b[1;33m(\u001b[0m\u001b[1;33m(\u001b[0m\u001b[0min_table\u001b[0m\u001b[1;33m,\u001b[0m \u001b[0mfield\u001b[0m\u001b[1;33m,\u001b[0m \u001b[0mexpression\u001b[0m\u001b[1;33m,\u001b[0m \u001b[0mexpression_type\u001b[0m\u001b[1;33m,\u001b[0m \u001b[0mcode_block\u001b[0m\u001b[1;33m)\u001b[0m\u001b[1;33m,\u001b[0m \u001b[1;32mTrue\u001b[0m\u001b[1;33m)\u001b[0m\u001b[1;33m)\u001b[0m\u001b[1;33m)\u001b[0m\u001b[1;33m\u001b[0m\u001b[1;33m\u001b[0m\u001b[0m\n\u001b[0m\u001b[0;32m   4228\u001b[0m         \u001b[1;32mreturn\u001b[0m \u001b[0mretval\u001b[0m\u001b[1;33m\u001b[0m\u001b[1;33m\u001b[0m\u001b[0m\n\u001b[0;32m   4229\u001b[0m     \u001b[1;32mexcept\u001b[0m \u001b[0mException\u001b[0m \u001b[1;32mas\u001b[0m \u001b[0me\u001b[0m\u001b[1;33m:\u001b[0m\u001b[1;33m\u001b[0m\u001b[1;33m\u001b[0m\u001b[0m\n",
      "\u001b[1;32mD:\\Program Files\\ArcGIS\\Pro\\Resources\\ArcPy\\arcpy\\geoprocessing\\_base.py\u001b[0m in \u001b[0;36m<lambda>\u001b[1;34m(*args)\u001b[0m\n\u001b[0;32m    504\u001b[0m         \u001b[0mval\u001b[0m \u001b[1;33m=\u001b[0m \u001b[0mgetattr\u001b[0m\u001b[1;33m(\u001b[0m\u001b[0mself\u001b[0m\u001b[1;33m.\u001b[0m\u001b[0m_gp\u001b[0m\u001b[1;33m,\u001b[0m \u001b[0mattr\u001b[0m\u001b[1;33m)\u001b[0m\u001b[1;33m\u001b[0m\u001b[1;33m\u001b[0m\u001b[0m\n\u001b[0;32m    505\u001b[0m         \u001b[1;32mif\u001b[0m \u001b[0mcallable\u001b[0m\u001b[1;33m(\u001b[0m\u001b[0mval\u001b[0m\u001b[1;33m)\u001b[0m\u001b[1;33m:\u001b[0m\u001b[1;33m\u001b[0m\u001b[1;33m\u001b[0m\u001b[0m\n\u001b[1;32m--> 506\u001b[1;33m             \u001b[1;32mreturn\u001b[0m \u001b[1;32mlambda\u001b[0m \u001b[1;33m*\u001b[0m\u001b[0margs\u001b[0m\u001b[1;33m:\u001b[0m \u001b[0mval\u001b[0m\u001b[1;33m(\u001b[0m\u001b[1;33m*\u001b[0m\u001b[0mgp_fixargs\u001b[0m\u001b[1;33m(\u001b[0m\u001b[0margs\u001b[0m\u001b[1;33m,\u001b[0m \u001b[1;32mTrue\u001b[0m\u001b[1;33m)\u001b[0m\u001b[1;33m)\u001b[0m\u001b[1;33m\u001b[0m\u001b[1;33m\u001b[0m\u001b[0m\n\u001b[0m\u001b[0;32m    507\u001b[0m         \u001b[1;32melse\u001b[0m\u001b[1;33m:\u001b[0m\u001b[1;33m\u001b[0m\u001b[1;33m\u001b[0m\u001b[0m\n\u001b[0;32m    508\u001b[0m             \u001b[1;32mreturn\u001b[0m \u001b[0mconvertArcObjectToPythonObject\u001b[0m\u001b[1;33m(\u001b[0m\u001b[0mval\u001b[0m\u001b[1;33m)\u001b[0m\u001b[1;33m\u001b[0m\u001b[1;33m\u001b[0m\u001b[0m\n",
      "\u001b[1;31mExecuteError\u001b[0m: ERROR 999999: Something unexpected caused the tool to fail. Contact Esri Technical Support (http://esriurl.com/support) to Report a Bug, and refer to the error help for potential solutions or workarounds.\nFailed to execute (CalculateField).\n"
     ]
    }
   ],
   "source": [
    "arcpy.CalculateField_management(\"china2.shp\",\"cg2009\",\"!GDP_2009!/!Pop_2009!\")"
   ]
  },
  {
   "cell_type": "code",
   "execution_count": 8,
   "metadata": {},
   "outputs": [
    {
     "name": "stdout",
     "output_type": "stream",
     "text": [
      "[1755.0, 12153.03, 6.924803418803419, '北京']\n",
      "[1228.16, 7521.85, 6.1244870375195415, '天津']\n",
      "[3427.36, 7358.31, 2.1469323327575744, '山西']\n",
      "[4319.0, 15212.49, 3.5222250520953926, '辽宁']\n",
      "[2739.55, 7278.75, 2.6569144567538463, '吉林']\n",
      "[3826.0, 8587.0, 2.2443805541035022, '黑龙江']\n",
      "[1921.0, 15046.45, 7.832613222280063, '上海']\n",
      "[7725.0, 34457.3, 4.460491909385114, '江苏']\n",
      "[5180.0, 22990.35, 4.438291505791505, '浙江']\n",
      "[6131.0, 10062.82, 1.6413015821236339, '安徽']\n",
      "[3627.0, 12236.53, 3.373733112765371, '福建']\n",
      "[4432.1581, 7655.18, 1.7271901920646742, '江西']\n",
      "[9470.3, 33896.65, 3.5792583128306394, '山东']\n",
      "[9487.0, 19480.46, 2.0533846316011384, '河南']\n",
      "[5720.0, 12961.1, 2.2659265734265737, '湖北']\n",
      "[6406.0, 13059.69, 2.0386653137683424, '湖南']\n",
      "[9638.0, 39482.56, 4.096551151691222, '广东']\n",
      "[4856.0, 7759.16, 1.597850082372323, '广西']\n",
      "[864.07, 1654.21, 1.9144398023308296, '海南']\n",
      "[2859.0, 6530.01, 2.28401888772298, '重庆']\n",
      "[8185.0, 14151.28, 1.7289285277947466, '四川']\n",
      "[3798.0, 3912.68, 1.0301948393891522, '贵州']\n",
      "[4571.0, 6169.75, 1.3497593524392912, '云南']\n",
      "[290.03, 441.36, 1.5217736096265906, '西藏']\n",
      "[3772.0, 8169.8, 2.1659066808059384, '陕西']\n",
      "[557.3, 1081.27, 1.9401937914947067, '青海']\n",
      "[625.2, 1353.31, 2.1646033269353806, '宁夏']\n",
      "[2158.63, 4277.05, 1.9813724445597438, '新疆']\n",
      "[2422.07, 9740.25, 4.021456853022414, '内蒙古']\n",
      "[2635.46, 3387.56, 1.2853771258148483, '甘肃']\n",
      "[7034.4, 17235.48, 2.450170590242238, '河北']\n"
     ]
    }
   ],
   "source": [
    "with arcpy.da.UpdateCursor(\"china2.shp\",[\"Pop_2009\",\"GDP_2009\",\n",
    "                                        \"cg2009\",\"FIRST_NAME\"],\"Pop_2009 > 0\") as upc:\n",
    "    for u in upc:\n",
    "        u[2] = u[1] / u[0]\n",
    "        print(u)\n",
    "        upc.updateRow(u)"
   ]
  },
  {
   "cell_type": "code",
   "execution_count": 9,
   "metadata": {},
   "outputs": [],
   "source": [
    "import matplotlib.pyplot as plt\n",
    "import matplotlib as mpl\n",
    "import seaborn as sns\n",
    "import numpy\n",
    "mpl.rcParams['font.sans-serif'] = ['SimHei']\n",
    "mpl.rcParams['font.serif'] = ['SimHei']\n",
    "mpl.rcParams['axes.unicode_minus'] = False"
   ]
  },
  {
   "cell_type": "code",
   "execution_count": 10,
   "metadata": {},
   "outputs": [],
   "source": [
    "d = arcpy.da.FeatureClassToNumPyArray(\"china2.shp\",[\"FIRST_NAME\",\"cg2009\"])"
   ]
  },
  {
   "cell_type": "code",
   "execution_count": 12,
   "metadata": {},
   "outputs": [
    {
     "data": {
      "text/plain": [
       "array([('台湾', 0.     ), ('贵州', 1.03019), ('甘肃', 1.28538), ('云南', 1.34976),\n",
       "       ('西藏', 1.52177), ('广西', 1.59785), ('安徽', 1.6413 ), ('江西', 1.72719),\n",
       "       ('四川', 1.72893), ('海南', 1.91444), ('青海', 1.94019), ('新疆', 1.98137),\n",
       "       ('湖南', 2.03867), ('河南', 2.05338), ('山西', 2.14693), ('宁夏', 2.1646 ),\n",
       "       ('陕西', 2.16591), ('黑龙江', 2.24438), ('湖北', 2.26593),\n",
       "       ('重庆', 2.28402), ('河北', 2.45017), ('吉林', 2.65691), ('福建', 3.37373),\n",
       "       ('辽宁', 3.52223), ('山东', 3.57926), ('内蒙古', 4.02146),\n",
       "       ('广东', 4.09655), ('浙江', 4.43829), ('江苏', 4.46049), ('天津', 6.12449),\n",
       "       ('北京', 6.9248 ), ('上海', 7.83261)],\n",
       "      dtype=[('FIRST_NAME', '<U60'), ('cg2009', '<f4')])"
      ]
     },
     "execution_count": 12,
     "metadata": {},
     "output_type": "execute_result"
    }
   ],
   "source": [
    "d = numpy.sort(d,order=\"cg2009\")\n",
    "d"
   ]
  },
  {
   "cell_type": "code",
   "execution_count": 13,
   "metadata": {},
   "outputs": [
    {
     "data": {
      "text/plain": [
       "<matplotlib.axes._subplots.AxesSubplot at 0x1e900060828>"
      ]
     },
     "execution_count": 13,
     "metadata": {},
     "output_type": "execute_result"
    },
    {
     "data": {
      "image/png": "[encoded data removed]",
      "text/plain": [
       "<Figure size 720x720 with 1 Axes>"
      ]
     },
     "metadata": {
      "needs_background": "light"
     },
     "output_type": "display_data"
    }
   ],
   "source": [
    "fig = plt.figure(figsize=(10,10))\n",
    "sns.barplot(d[\"cg2009\"],d[\"FIRST_NAME\"])"
   ]
  },
  {
   "cell_type": "code",
   "execution_count": 14,
   "metadata": {},
   "outputs": [
    {
     "name": "stdout",
     "output_type": "stream",
     "text": [
      "[6969.52, 12153.03, 0.08530399414796146, '北京']\n",
      "[3905.64, 7521.85, 0.09615214342216344, '天津']\n",
      "[4230.53, 7358.31, 0.0850135425117996, '山西']\n",
      "[8047.26, 15212.49, 0.09420193538335933, '辽宁']\n",
      "[3620.27, 7278.75, 0.10052495277348446, '吉林']\n",
      "[5513.7, 8587.0, 0.07158029579597067, '黑龙江']\n",
      "[9247.66, 15046.45, 0.07707851353641557, '上海']\n",
      "[18598.69, 34457.3, 0.0920478969623273, '江苏']\n",
      "[13417.68, 22990.35, 0.08327554821914411, '浙江']\n",
      "[5350.17, 10062.82, 0.09366459898915015, '安徽']\n",
      "[6554.69, 12236.53, 0.09286685032439754, '福建']\n",
      "[4056.76, 7655.18, 0.09401268160905427, '江西']\n",
      "[18366.87, 33896.65, 0.09163017584333556, '山东']\n",
      "[10587.42, 19480.46, 0.09130215610924998, '河南']\n",
      "[6590.19, 12961.1, 0.09830816828818542, '湖北']\n",
      "[6596.1, 13059.69, 0.09898535110710897, '湖南']\n",
      "[22557.37, 39482.56, 0.08573501819537538, '广东']\n",
      "[3984.1, 7759.16, 0.09730589393697256, '广西']\n",
      "[897.99, 1654.21, 0.09142974592101366, '海南']\n",
      "[3467.72, 6530.01, 0.09379128056465458, '重庆']\n",
      "[7385.1, 14151.28, 0.09562640269996778, '四川']\n",
      "[2005.42, 3912.68, 0.09749123363014608, '贵州']\n",
      "[3461.73, 6169.75, 0.08778378378378379, '云南']\n",
      "[248.8, 441.36, 0.08725756751857894, '西藏']\n",
      "[3933.72, 8169.8, 0.10370094739161302, '陕西']\n",
      "[543.32, 1081.27, 0.09950336178752762, '青海']\n",
      "[612.61, 1353.31, 0.10946494151376993, '宁夏']\n",
      "[2604.19, 4277.05, 0.07822494476332988, '新疆']\n",
      "[3905.03, 9740.25, 0.11981663714997046, '内蒙古']\n",
      "[1933.98, 3387.56, 0.08581870136617506, '甘肃']\n",
      "[10012.11, 17235.48, 0.08381977177310987, '河北']\n"
     ]
    }
   ],
   "source": [
    "arcpy.AddField_management(\"china2.shp\",\"ag2009\",\"FLOAT\")\n",
    "with arcpy.da.UpdateCursor(\"china2.shp\",[\"GDP_2005\",\"GDP_2009\",\n",
    "                                        \"ag2009\",\"FIRST_NAME\"]) as upc:\n",
    "    for u in upc:\n",
    "        if u[1] <= 0:\n",
    "            pass\n",
    "        else:\n",
    "            u[2] = (u[1] -u[0])/ u[1] / 5\n",
    "            print(u)\n",
    "            upc.updateRow(u)"
   ]
  },
  {
   "cell_type": "code",
   "execution_count": 15,
   "metadata": {},
   "outputs": [
    {
     "data": {
      "text/plain": [
       "<matplotlib.axes._subplots.AxesSubplot at 0x1e90f0a5d30>"
      ]
     },
     "execution_count": 15,
     "metadata": {},
     "output_type": "execute_result"
    },
    {
     "data": {
      "image/png": "[encoded data removed]",
      "text/plain": [
       "<Figure size 720x720 with 1 Axes>"
      ]
     },
     "metadata": {
      "needs_background": "light"
     },
     "output_type": "display_data"
    }
   ],
   "source": [
    "d = arcpy.da.FeatureClassToNumPyArray(\"china2.shp\",[\"FIRST_NAME\",\"ag2009\"])\n",
    "d = numpy.sort(d,order=\"ag2009\")\n",
    "fig = plt.figure(figsize=(10,10))\n",
    "sns.barplot(d[\"ag2009\"],d[\"FIRST_NAME\"])"
   ]
  },
  {
   "cell_type": "code",
   "execution_count": null,
   "metadata": {},
   "outputs": [],
   "source": []
  }
 ],
 "metadata": {
  "kernelspec": {
   "display_name": "Python 3",
   "language": "python",
   "name": "python3"
  },
  "language_info": {
   "codemirror_mode": {
    "name": "ipython",
    "version": 3
   },
   "file_extension": ".py",
   "mimetype": "text/x-python",
   "name": "python",
   "nbconvert_exporter": "python",
   "pygments_lexer": "ipython3",
   "version": "3.6.8"
  }
 },
 "nbformat": 4,
 "nbformat_minor": 2
}
