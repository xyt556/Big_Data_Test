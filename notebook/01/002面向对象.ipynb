{
 "cells": [
  {
   "cell_type": "markdown",
   "metadata": {},
   "source": [
    "### 定义个叫做狗的类，Python3支持中文变量名，但是实际开发中，最好不要这么做"
   ]
  },
  {
   "cell_type": "code",
   "execution_count": null,
   "metadata": {},
   "outputs": [],
   "source": [
    "class 狗:\n",
    "    名字 = \"\"\n",
    "    品种 = \"\"\n",
    "    年龄 = \"\"\n",
    "    def __init__(self,名字,品种,年龄):\n",
    "        self.名字 = 名字\n",
    "        self.品种 = 品种\n",
    "        self.年龄 = 年龄\n",
    "    def 狗牌(self):\n",
    "        print(\"名字 ： {0}\".format(self.名字))\n",
    "        print(\"品种 ： {0}\".format(self.品种))\n",
    "        print(\"年龄 ： {0}岁\".format(self.年龄))\n",
    "    def 打(self,次数=1):\n",
    "        for i in range(次数):\n",
    "            print(\"汪\")"
   ]
  },
  {
   "cell_type": "code",
   "execution_count": null,
   "metadata": {},
   "outputs": [],
   "source": [
    "甲 = 狗(\"托尼\",\"泰迪\",3)"
   ]
  },
  {
   "cell_type": "code",
   "execution_count": null,
   "metadata": {},
   "outputs": [],
   "source": [
    "甲.狗牌()"
   ]
  },
  {
   "cell_type": "code",
   "execution_count": null,
   "metadata": {},
   "outputs": [],
   "source": [
    "甲.打(10)"
   ]
  },
  {
   "cell_type": "markdown",
   "metadata": {},
   "source": [
    "### 定义一个新的类，叫做傻狗，继承了狗的所有属性和方法，并且有自己特有的方法"
   ]
  },
  {
   "cell_type": "code",
   "execution_count": null,
   "metadata": {},
   "outputs": [],
   "source": [
    "class 傻狗(狗):\n",
    "    def 打(self,次数=1):\n",
    "        if 次数 ==1:\n",
    "            print(\"跑掉\")\n",
    "        else:\n",
    "            print(\"我跑远了，你打不到我了\")"
   ]
  },
  {
   "cell_type": "code",
   "execution_count": null,
   "metadata": {},
   "outputs": [],
   "source": [
    "乙 = 傻狗(\"约翰\",\"二哈\",5)"
   ]
  },
  {
   "cell_type": "code",
   "execution_count": null,
   "metadata": {},
   "outputs": [],
   "source": [
    "乙.狗牌()"
   ]
  },
  {
   "cell_type": "code",
   "execution_count": null,
   "metadata": {},
   "outputs": [],
   "source": [
    "乙.打()"
   ]
  },
  {
   "cell_type": "code",
   "execution_count": null,
   "metadata": {},
   "outputs": [],
   "source": [
    "乙.打(5)"
   ]
  },
  {
   "cell_type": "code",
   "execution_count": null,
   "metadata": {},
   "outputs": [],
   "source": [
    "import arcpy"
   ]
  },
  {
   "cell_type": "code",
   "execution_count": null,
   "metadata": {},
   "outputs": [],
   "source": [
    "import arcpy.da as 数据访问包"
   ]
  },
  {
   "cell_type": "code",
   "execution_count": null,
   "metadata": {},
   "outputs": [],
   "source": [
    "from arcpy.da import SearchCursor as 查询游标"
   ]
  },
  {
   "cell_type": "code",
   "execution_count": null,
   "metadata": {},
   "outputs": [],
   "source": [
    "for row in 查询游标(\"../data/shp/china/china.shp\",[\"*\"]):\n",
    "    print(row)"
   ]
  },
  {
   "cell_type": "code",
   "execution_count": null,
   "metadata": {},
   "outputs": [],
   "source": []
  }
 ],
 "metadata": {
  "kernelspec": {
   "display_name": "Python 3",
   "language": "python",
   "name": "python3"
  },
  "language_info": {
   "codemirror_mode": {
    "name": "ipython",
    "version": 3
   },
   "file_extension": ".py",
   "mimetype": "text/x-python",
   "name": "python",
   "nbconvert_exporter": "python",
   "pygments_lexer": "ipython3",
   "version": "3.6.8"
  }
 },
 "nbformat": 4,
 "nbformat_minor": 2
}
