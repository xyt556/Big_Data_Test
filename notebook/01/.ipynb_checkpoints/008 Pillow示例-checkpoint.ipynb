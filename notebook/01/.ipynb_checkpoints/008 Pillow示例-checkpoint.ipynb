{
 "cells": [
  {
   "cell_type": "code",
   "execution_count": null,
   "metadata": {},
   "outputs": [],
   "source": [
    "from PIL import Image, ImageDraw, ImageFont\n",
    "import datetime\n",
    "import matplotlib.pyplot as plt\n",
    "import pylab"
   ]
  },
  {
   "cell_type": "code",
   "execution_count": null,
   "metadata": {},
   "outputs": [],
   "source": [
    "def AddText(text, imgUrl):\n",
    "    im = Image.open(imgUrl)\n",
    "    draw = ImageDraw.Draw(im)\n",
    "    font = ImageFont.truetype('STXINGKA.TTF', 30)\n",
    "    color = (0, 255, 0)\n",
    "    x = initx = 160\n",
    "    y = inity = 55\n",
    "    interval = 35\n",
    "    n = 0\n",
    "    for s in text:\n",
    "        pos=(x,y)\n",
    "        draw.text(pos,s,color,font)\n",
    "        if s==\".\" or s == \";\":\n",
    "            n = n + 1\n",
    "            x = initx - n * interval\n",
    "            y = inity\n",
    "        else:\n",
    "            y = y + 30 \n",
    "    mySign = \"godxia@Esri China\"\n",
    "    pos=(1000, 560)\n",
    "    draw.text(pos,mySign,(255,0,0),font)\n",
    "    outimg = str(datetime.datetime.now().strftime('%Y%m%d%H%M%S%f')) + \".jpg\"\n",
    "    newFileName = \"{0}\".format(outimg)\n",
    "    im.save(newFileName,'JPEG')\n",
    "    return outimg"
   ]
  },
  {
   "cell_type": "code",
   "execution_count": null,
   "metadata": {},
   "outputs": [],
   "source": [
    "img = \"../data/world.jpg\""
   ]
  },
  {
   "cell_type": "code",
   "execution_count": null,
   "metadata": {},
   "outputs": [],
   "source": [
    "text = u\"世界上只有一个中国\"\n",
    "im = AddText(text,img)"
   ]
  },
  {
   "cell_type": "code",
   "execution_count": null,
   "metadata": {},
   "outputs": [],
   "source": [
    "import matplotlib.cbook as cbook\n",
    "plt.figure(figsize=(15,8))\n",
    "image_file = cbook.get_sample_data(path+\"/\"+im)  \n",
    "image = plt.imread(image_file)  \n",
    "plt.imshow(image)  "
   ]
  },
  {
   "cell_type": "code",
   "execution_count": null,
   "metadata": {},
   "outputs": [],
   "source": []
  }
 ],
 "metadata": {
  "kernelspec": {
   "display_name": "Python 3",
   "language": "python",
   "name": "python3"
  },
  "language_info": {
   "codemirror_mode": {
    "name": "ipython",
    "version": 3
   },
   "file_extension": ".py",
   "mimetype": "text/x-python",
   "name": "python",
   "nbconvert_exporter": "python",
   "pygments_lexer": "ipython3",
   "version": "3.6.8"
  }
 },
 "nbformat": 4,
 "nbformat_minor": 2
}
