{
 "cells": [
  {
   "cell_type": "markdown",
   "metadata": {},
   "source": [
    "# 利用numpy计算中国所有县之间的距离矩阵"
   ]
  },
  {
   "cell_type": "code",
   "execution_count": null,
   "metadata": {},
   "outputs": [],
   "source": [
    "import os\n",
    "path = os.getcwd()\n",
    "import matplotlib.pyplot as plt"
   ]
  },
  {
   "cell_type": "code",
   "execution_count": null,
   "metadata": {},
   "outputs": [],
   "source": [
    "import numpy as np"
   ]
  },
  {
   "cell_type": "markdown",
   "metadata": {},
   "source": [
    "## 利用numpy的load功能，导入数据，设置编码格式为utf-8以支持中文"
   ]
  },
  {
   "cell_type": "code",
   "execution_count": null,
   "metadata": {},
   "outputs": [],
   "source": [
    "pnt = np.loadtxt(open(\"../data/XianCH_PNT2.csv\", encoding='utf8'),\n",
    "                 skiprows=1,\n",
    "                dtype=np.str,delimiter=',')"
   ]
  },
  {
   "cell_type": "code",
   "execution_count": null,
   "metadata": {},
   "outputs": [],
   "source": [
    "pnt"
   ]
  },
  {
   "cell_type": "markdown",
   "metadata": {},
   "source": [
    "## 转换字符串为浮点型数据"
   ]
  },
  {
   "cell_type": "code",
   "execution_count": null,
   "metadata": {},
   "outputs": [],
   "source": [
    "X = np.array([pnt[:,5].astype(np.float64)])\n",
    "Y = np.array([pnt[:,6].astype(np.float64)])"
   ]
  },
  {
   "cell_type": "markdown",
   "metadata": {},
   "source": [
    "## 计算距离矩阵"
   ]
  },
  {
   "cell_type": "markdown",
   "metadata": {},
   "source": [
    "### numpy有很强的矩阵计算能力，适合超大型数据的快速计算"
   ]
  },
  {
   "cell_type": "code",
   "execution_count": null,
   "metadata": {},
   "outputs": [],
   "source": [
    "D = np.sqrt( (X-X.T)**2 + (Y-Y.T)**2)  "
   ]
  },
  {
   "cell_type": "code",
   "execution_count": null,
   "metadata": {},
   "outputs": [],
   "source": [
    "D"
   ]
  },
  {
   "cell_type": "markdown",
   "metadata": {},
   "source": [
    "## 获取中国最东到最西的两个县"
   ]
  },
  {
   "cell_type": "code",
   "execution_count": null,
   "metadata": {},
   "outputs": [],
   "source": [
    "i = np.argwhere(X == X.min())[0][1]\n",
    "j = np.argwhere(X == X.max())[0][1]\n",
    "print(\"i = {0},name = {1},j = {2},name = {3}\".format(i,pnt[i][2],\n",
    "                                                     j,pnt[j][2]))"
   ]
  },
  {
   "cell_type": "markdown",
   "metadata": {},
   "source": [
    "## 获取中国最南到最北的两个县"
   ]
  },
  {
   "cell_type": "code",
   "execution_count": null,
   "metadata": {},
   "outputs": [],
   "source": [
    "i = np.argwhere(Y == Y.min())[0][1]\n",
    "j = np.argwhere(Y == Y.max())[0][1]\n",
    "print(\"i = {0},name = {1},j = {2},name = {3}\".format(i,pnt[i][2],\n",
    "                                                     j,pnt[j][2]))"
   ]
  },
  {
   "cell_type": "markdown",
   "metadata": {},
   "source": [
    "## 手动获取指定的县"
   ]
  },
  {
   "cell_type": "code",
   "execution_count": null,
   "metadata": {},
   "outputs": [],
   "source": [
    "i = np.argwhere(pnt == \"漠河县\")[0][0]\n",
    "j = np.argwhere(pnt == \"密云县\")[0][0]\n",
    "print(\"i = {0}, j = {1}\".format(i,j))"
   ]
  },
  {
   "cell_type": "markdown",
   "metadata": {},
   "source": [
    "## 显示距离"
   ]
  },
  {
   "cell_type": "code",
   "execution_count": null,
   "metadata": {},
   "outputs": [],
   "source": [
    "print(\"距离1为 ： {0}(单位：十进制度)， 大致地理距离为 ： {1}(单位：公里)\\\n",
    "        \".format(D[i][j],D[i][j] * 105.0))"
   ]
  },
  {
   "cell_type": "markdown",
   "metadata": {},
   "source": [
    "## 绘制地图"
   ]
  },
  {
   "cell_type": "code",
   "execution_count": null,
   "metadata": {},
   "outputs": [],
   "source": [
    "X1 = np.array([pnt[i][5],pnt[j][5]]).astype(np.float64)\n",
    "Y1 = np.array([pnt[i][6],pnt[j][6]]).astype(np.float64)\n",
    "fig=plt.figure(figsize=(9,6)) \n",
    "ax=fig.gca() \n",
    "plt.xlim(70,139)\n",
    "plt.ylim(15,55)\n",
    "ax.scatter(X,Y)\n",
    "ax.plot(X1,Y1, \"r\")\n",
    "ax.scatter(X1,Y1)"
   ]
  },
  {
   "cell_type": "markdown",
   "metadata": {},
   "source": [
    "# 效率对比试验，用传统迭代的方式，来对比numpy的矩阵运算"
   ]
  },
  {
   "cell_type": "code",
   "execution_count": null,
   "metadata": {},
   "outputs": [],
   "source": [
    "import math"
   ]
  },
  {
   "cell_type": "code",
   "execution_count": null,
   "metadata": {},
   "outputs": [],
   "source": [
    "%%time\n",
    "D2 = []\n",
    "for i in range(len(X[0])):\n",
    "    t = []\n",
    "    for j in range(len(X[0])):\n",
    "        d = math.sqrt((X[0][i]-X[0][j])**2 + (Y[0][i]-Y[0][j])**2)\n",
    "        t.append(d)\n",
    "    D2.append(t)"
   ]
  },
  {
   "cell_type": "code",
   "execution_count": null,
   "metadata": {},
   "outputs": [],
   "source": [
    "2048 **2"
   ]
  },
  {
   "cell_type": "code",
   "execution_count": null,
   "metadata": {},
   "outputs": [],
   "source": [
    "%%time\n",
    "D = np.sqrt( (X-X.T)**2 + (Y-Y.T)**2)  "
   ]
  },
  {
   "cell_type": "markdown",
   "metadata": {},
   "source": [
    "# 快速获取k临近要素"
   ]
  },
  {
   "cell_type": "code",
   "execution_count": null,
   "metadata": {},
   "outputs": [],
   "source": [
    "i = np.argwhere(pnt == \"香河县\")[0][0]\n",
    "for n in range(1,10):\n",
    "    ns = np.sort(D[i])\n",
    "    print(pnt[np.where(D[i]==ns[n])[0][0]])"
   ]
  },
  {
   "cell_type": "code",
   "execution_count": null,
   "metadata": {},
   "outputs": [],
   "source": []
  }
 ],
 "metadata": {
  "kernelspec": {
   "display_name": "Python 3",
   "language": "python",
   "name": "python3"
  },
  "language_info": {
   "codemirror_mode": {
    "name": "ipython",
    "version": 3
   },
   "file_extension": ".py",
   "mimetype": "text/x-python",
   "name": "python",
   "nbconvert_exporter": "python",
   "pygments_lexer": "ipython3",
   "version": "3.6.8"
  }
 },
 "nbformat": 4,
 "nbformat_minor": 2
}
