{
 "cells": [
  {
   "cell_type": "code",
   "execution_count": null,
   "metadata": {},
   "outputs": [],
   "source": [
    "import arcpy,numpy"
   ]
  },
  {
   "cell_type": "code",
   "execution_count": null,
   "metadata": {},
   "outputs": [],
   "source": [
    "rasnum = arcpy.RasterToNumPyArray(\"../data/dem/Himalaya100.tif\")"
   ]
  },
  {
   "cell_type": "code",
   "execution_count": null,
   "metadata": {},
   "outputs": [],
   "source": [
    "rasnum"
   ]
  },
  {
   "cell_type": "code",
   "execution_count": null,
   "metadata": {},
   "outputs": [],
   "source": [
    "xa,ya = rasnum.shape"
   ]
  },
  {
   "cell_type": "code",
   "execution_count": null,
   "metadata": {},
   "outputs": [],
   "source": [
    "def surface3d_data():\n",
    "    for y in range(0, ya):\n",
    "        for x in range(0, xa):\n",
    "            yield [x, y, int(rasnum[x][y])]"
   ]
  },
  {
   "cell_type": "code",
   "execution_count": null,
   "metadata": {},
   "outputs": [],
   "source": [
    "import matplotlib.pyplot as plt\n",
    "from matplotlib.colors import LightSource"
   ]
  },
  {
   "cell_type": "code",
   "execution_count": null,
   "metadata": {},
   "outputs": [],
   "source": [
    "col = []\n",
    "cm = plt.cm.get_cmap(plt.cm.terrain)\n",
    "for c in [cm(float(i)/(20)) for i in range(20)]:\n",
    "    x = \"#\"+\"\".join([f\"{hex(int(r*255))[2:]}\".rjust(2,'0') for r in c[:3]])\n",
    "    col.append(x)"
   ]
  },
  {
   "cell_type": "code",
   "execution_count": null,
   "metadata": {},
   "outputs": [],
   "source": [
    "from pyecharts import options as opts\n",
    "from pyecharts.charts import Surface3D"
   ]
  },
  {
   "cell_type": "code",
   "execution_count": null,
   "metadata": {},
   "outputs": [],
   "source": [
    "c = (\n",
    "    Surface3D()\n",
    "    .add(\n",
    "        \"\",\n",
    "        list(surface3d_data()),\n",
    "        xaxis3d_opts=opts.Axis3DOpts(type_=\"value\"),\n",
    "        yaxis3d_opts=opts.Axis3DOpts(type_=\"value\"),\n",
    "        zaxis3d_opts=opts.Axis3DOpts(type_=\"value\",max_=9000,min_=5000),\n",
    "        grid3d_opts=opts.Grid3DOpts(width=100, height=100, depth=100),\n",
    "    )\n",
    "    .set_global_opts(\n",
    "        title_opts=opts.TitleOpts(title=\"珠穆朗玛峰\"),\n",
    "        visualmap_opts=opts.VisualMapOpts(\n",
    "            max_=8848, min_=4000, range_color=col\n",
    "        ),\n",
    "    )\n",
    ")"
   ]
  },
  {
   "cell_type": "code",
   "execution_count": null,
   "metadata": {},
   "outputs": [],
   "source": [
    "c.render_notebook()"
   ]
  },
  {
   "cell_type": "code",
   "execution_count": null,
   "metadata": {},
   "outputs": [],
   "source": [
    "from mpl_toolkits.mplot3d import Axes3D"
   ]
  },
  {
   "cell_type": "code",
   "execution_count": null,
   "metadata": {},
   "outputs": [],
   "source": [
    "num = 120"
   ]
  },
  {
   "cell_type": "code",
   "execution_count": null,
   "metadata": {},
   "outputs": [],
   "source": [
    "ncols, nrows = rasnum.shape\n",
    "x = numpy.linspace(0,num, ncols)\n",
    "y = numpy.linspace(0,num, nrows)\n",
    "x,y = numpy.meshgrid(x, y)\n",
    "region = numpy.s_[0:num,0:num]\n",
    "nx, ny, nz =x[region], y[region],rasnum[region]"
   ]
  },
  {
   "cell_type": "code",
   "execution_count": null,
   "metadata": {},
   "outputs": [],
   "source": [
    "#%matplotlib inline\n",
    "%matplotlib auto\n",
    "#%matplotlib notebook"
   ]
  },
  {
   "cell_type": "code",
   "execution_count": null,
   "metadata": {
    "scrolled": false
   },
   "outputs": [],
   "source": [
    "fig, ax = plt.subplots(subplot_kw=dict(projection='3d'), \n",
    "                       figsize=(12,10))\n",
    "ls = LightSource(270, 20) \n",
    "rgb = ls.shade(nz, cmap=plt.cm.terrain, \n",
    "               vert_exag=0.1, blend_mode='soft')\n",
    "surf = ax.plot_surface(nx, ny, nz, rstride=1, cstride=1, facecolors=rgb,\n",
    "                        linewidth=0, antialiased=False, shade=False)\n",
    "plt.show()"
   ]
  },
  {
   "cell_type": "code",
   "execution_count": null,
   "metadata": {},
   "outputs": [],
   "source": []
  }
 ],
 "metadata": {
  "kernelspec": {
   "display_name": "Python 3",
   "language": "python",
   "name": "python3"
  },
  "language_info": {
   "codemirror_mode": {
    "name": "ipython",
    "version": 3
   },
   "file_extension": ".py",
   "mimetype": "text/x-python",
   "name": "python",
   "nbconvert_exporter": "python",
   "pygments_lexer": "ipython3",
   "version": "3.7.11"
  },
  "toc": {
   "base_numbering": 1,
   "nav_menu": {},
   "number_sections": true,
   "sideBar": true,
   "skip_h1_title": false,
   "title_cell": "Table of Contents",
   "title_sidebar": "Contents",
   "toc_cell": false,
   "toc_position": {},
   "toc_section_display": true,
   "toc_window_display": false
  },
  "varInspector": {
   "cols": {
    "lenName": 16,
    "lenType": 16,
    "lenVar": 40
   },
   "kernels_config": {
    "python": {
     "delete_cmd_postfix": "",
     "delete_cmd_prefix": "del ",
     "library": "var_list.py",
     "varRefreshCmd": "print(var_dic_list())"
    },
    "r": {
     "delete_cmd_postfix": ") ",
     "delete_cmd_prefix": "rm(",
     "library": "var_list.r",
     "varRefreshCmd": "cat(var_dic_list()) "
    }
   },
   "types_to_exclude": [
    "module",
    "function",
    "builtin_function_or_method",
    "instance",
    "_Feature"
   ],
   "window_display": false
  }
 },
 "nbformat": 4,
 "nbformat_minor": 2
}
