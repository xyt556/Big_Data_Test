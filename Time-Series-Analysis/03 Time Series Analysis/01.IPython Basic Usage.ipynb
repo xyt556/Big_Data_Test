{
 "cells": [
  {
   "cell_type": "markdown",
   "id": "19ed19fa",
   "metadata": {},
   "source": [
    "# 重要的Python库\n",
    "\n",
    "## NumPy\n",
    "- Python科学计算基础包。\n",
    "\n",
    "## Pandas\n",
    "- 提供了能够快速便捷地处理结构化数据的大量数据结构和函数。\n",
    "\n",
    "## matplotlib\n",
    "- 用于绘制图表的Python库。\n",
    "\n",
    "## IPython\n",
    "- Python科学计算标准工具集的组成部分，它将所有的东西联系到了一起。它是一个增强的Power shell，目的是提高编写、测试、调试Python代码的速度。\n",
    "\n",
    "## Scipy\n",
    "- 专门解决科学计算中各种标准问题域的包的集合。"
   ]
  },
  {
   "cell_type": "markdown",
   "id": "e9ddd0a4",
   "metadata": {},
   "source": [
    "# Python 标准库\n",
    "\n",
    "## collections\n",
    "collections模块包含了除list、dict、和tuple之外的容器数据类型，如counter、defaultdict、deque、namedtuple、orderdict。\n",
    "\n",
    "## functools\n",
    "functools提供了一些非常有用的高阶函数（一个可以接受函数作为参数或者以函数作为返回值的函数），因为Python中函数也是对象，因此很容易支持这样的函数式特性。\n",
    "\n",
    "## itertools\n",
    "Python 内置的 itertools 模块包含了一系列用来产生不同类型迭代器的函数或类，这些函数的返回都是一个迭代器，可以通过 for 循环来遍历取值，也可以使用 next() 来取值。\n",
    "\n",
    "## operator\n",
    "operator模块输出一系列对应Python内部操作符的函数。\n",
    "\n",
    "\n",
    "---\n",
    "> Ref：\n",
    "> 1. https://so.csdn.net/so/search?q=%E6%A0%87%E5%87%86%E5%BA%93&t=blog&u=qq_27825451\n",
    "> 2. https://zhuanlan.zhihu.com/p/244847990\n"
   ]
  },
  {
   "cell_type": "code",
   "execution_count": 1,
   "id": "b95e95fd",
   "metadata": {},
   "outputs": [],
   "source": [
    "import collections"
   ]
  },
  {
   "cell_type": "code",
   "execution_count": 2,
   "id": "24681186",
   "metadata": {},
   "outputs": [
    {
     "data": {
      "text/plain": "defaultdict(int, {})"
     },
     "execution_count": 2,
     "metadata": {},
     "output_type": "execute_result"
    }
   ],
   "source": [
    "collections.defaultdict(int)"
   ]
  },
  {
   "cell_type": "code",
   "execution_count": 3,
   "id": "362a41ca",
   "metadata": {},
   "outputs": [
    {
     "data": {
      "text/plain": "Counter({'a': 2, 'b': 3, 'c': 1})"
     },
     "execution_count": 3,
     "metadata": {},
     "output_type": "execute_result"
    }
   ],
   "source": [
    "collections.Counter(['a', 'b', 'c', 'a', 'b', 'b'])"
   ]
  },
  {
   "cell_type": "code",
   "execution_count": 4,
   "id": "f15273f9",
   "metadata": {},
   "outputs": [
    {
     "name": "stdout",
     "output_type": "stream",
     "text": [
      "a A\n",
      "b B\n",
      "c C\n",
      "d D\n",
      "e E\n"
     ]
    }
   ],
   "source": [
    "# OrderedDict是字典子类，记得其内容被添加的顺序\n",
    "d = collections.OrderedDict()\n",
    "d['a'] = 'A'\n",
    "d['b'] = 'B'\n",
    "d['c'] = 'C'\n",
    "d['d'] = 'D'\n",
    "d['e'] = 'E'\n",
    "for k, v in d.items():\n",
    "    print (k, v)"
   ]
  },
  {
   "cell_type": "code",
   "execution_count": 5,
   "id": "2ca3dac0",
   "metadata": {},
   "outputs": [
    {
     "name": "stdout",
     "output_type": "stream",
     "text": [
      "Type of Person: <class 'type'>\n",
      "\n",
      "Representation: Person(name='Bob', age=30, gender='male')\n",
      "\n",
      "Field by name: Jane\n",
      "\n",
      "Fields by index:\n",
      "Bob is a 30 year old male\n",
      "Jane is a 29 year old female\n"
     ]
    }
   ],
   "source": [
    "# namedtuple 标准的元组使用数值索引来访问其成员\n",
    "Person = collections.namedtuple('Person', 'name age gender')\n",
    "print('Type of Person:', type(Person))\n",
    "bob = Person(name='Bob', age=30, gender='male')\n",
    "print('\\nRepresentation:', bob)\n",
    "jane = Person(name='Jane', age=29, gender='female')\n",
    "print('\\nField by name:', jane.name)\n",
    "print('\\nFields by index:')\n",
    "for p in [bob, jane]:\n",
    "    print('%s is a %d year old %s' % p)"
   ]
  },
  {
   "cell_type": "markdown",
   "id": "7a7d4609",
   "metadata": {},
   "source": [
    "# 1. IPython\n",
    "\n",
    "## 1.1 IPython 基本使用\n",
    "IPython设计的目的是在交互式计算和软件开发这两个方面最大化地提高生产力。它鼓励一种“执行-探索（execute explore）”的工作模式，而不是传统的编程语言那样“编辑-编译-运行”的工作模式。此外，它跟操作系统shell和文件系统之间也有非常紧密的集成。"
   ]
  },
  {
   "cell_type": "markdown",
   "id": "6ea7077a",
   "metadata": {},
   "source": [
    "### 1) 内省 introspection\n",
    "变量的前面或后面加上一个 `?` 就可以将有关该对象的一些通用信息显示出来。\n",
    "\n",
    "![1](./images/ipython_introspection1.jpg)\n",
    "\n",
    "如果该对象是一个函数或实例方法，则其docstring也会被显示出来。\n",
    "使用 `??` 可以将源代码显示出来！\n",
    "\n",
    "![2](./images/ipython_introspection2.jpg)\n"
   ]
  },
  {
   "cell_type": "code",
   "execution_count": 6,
   "id": "0e39ba5f",
   "metadata": {},
   "outputs": [],
   "source": [
    "d?"
   ]
  },
  {
   "cell_type": "code",
   "execution_count": 7,
   "id": "71cbc659",
   "metadata": {},
   "outputs": [],
   "source": [
    "def func():\n",
    "    \"\"\"\n",
    "    this is a function.\n",
    "    \"\"\"\n",
    "    pass"
   ]
  },
  {
   "cell_type": "code",
   "execution_count": 8,
   "id": "34638b8f",
   "metadata": {},
   "outputs": [],
   "source": [
    "func??"
   ]
  },
  {
   "cell_type": "markdown",
   "id": "8ca6f1aa",
   "metadata": {},
   "source": [
    "### 2) `%run` 命令运行 `.py` 文件\n",
    "\n",
    "例如：`%run test.py`"
   ]
  },
  {
   "cell_type": "code",
   "execution_count": 9,
   "id": "caa614f5",
   "metadata": {},
   "outputs": [
    {
     "name": "stdout",
     "output_type": "stream",
     "text": [
      "This is a test.py file.\n"
     ]
    }
   ],
   "source": [
    "%run test.py"
   ]
  },
  {
   "cell_type": "markdown",
   "id": "e2220f42",
   "metadata": {},
   "source": [
    "### 3) `%paste` 执行剪切板的代码"
   ]
  },
  {
   "cell_type": "code",
   "execution_count": 10,
   "id": "fff522a6",
   "metadata": {},
   "outputs": [
    {
     "name": "stderr",
     "output_type": "stream",
     "text": [
      "UsageError: Line magic function `%paste` not found.\n"
     ]
    }
   ],
   "source": [
    "%paste"
   ]
  },
  {
   "cell_type": "markdown",
   "id": "3a578674",
   "metadata": {},
   "source": [
    "### 4) `%timeit` 检测语句平均执行时间"
   ]
  },
  {
   "cell_type": "code",
   "execution_count": null,
   "id": "b41b6950",
   "metadata": {},
   "outputs": [],
   "source": [
    "import numpy as np"
   ]
  },
  {
   "cell_type": "code",
   "execution_count": null,
   "id": "e45470d3",
   "metadata": {
    "scrolled": true
   },
   "outputs": [],
   "source": [
    "a = np.random.rand(10, 10)\n",
    "a"
   ]
  },
  {
   "cell_type": "code",
   "execution_count": null,
   "id": "df9a610a",
   "metadata": {},
   "outputs": [],
   "source": [
    "%time np.dot(a, a)"
   ]
  },
  {
   "cell_type": "code",
   "execution_count": null,
   "id": "c4a038e8",
   "metadata": {},
   "outputs": [],
   "source": [
    "%timeit np.dot(a, a)"
   ]
  },
  {
   "cell_type": "markdown",
   "id": "f059a495",
   "metadata": {},
   "source": [
    "### 5) 魔术命令之后添加 `?` 查看帮助"
   ]
  },
  {
   "cell_type": "code",
   "execution_count": null,
   "id": "b5cf1555",
   "metadata": {},
   "outputs": [],
   "source": [
    "%timeit?"
   ]
  },
  {
   "cell_type": "markdown",
   "id": "9318780b",
   "metadata": {},
   "source": [
    "## 1.2  常用的IPython魔术命令"
   ]
  },
  {
   "cell_type": "code",
   "execution_count": null,
   "id": "0b0c9e3a",
   "metadata": {},
   "outputs": [],
   "source": [
    "# 显示IPython的快速参考\n",
    "%quickref"
   ]
  },
  {
   "cell_type": "code",
   "execution_count": null,
   "id": "9e41918e",
   "metadata": {},
   "outputs": [],
   "source": [
    "# 显示所有魔术命令的文档\n",
    "%magic"
   ]
  },
  {
   "cell_type": "code",
   "execution_count": null,
   "id": "8a39fe12",
   "metadata": {},
   "outputs": [],
   "source": [
    "raise ValueError(\"Test\")"
   ]
  },
  {
   "cell_type": "code",
   "execution_count": null,
   "id": "963e9d08",
   "metadata": {},
   "outputs": [],
   "source": [
    "# 从最新的异常跟踪的底部进入交互式调试器\n",
    "%debug"
   ]
  },
  {
   "cell_type": "code",
   "execution_count": null,
   "id": "dc154eb7",
   "metadata": {},
   "outputs": [],
   "source": [
    "# 打印命令的输入（可选输出）的历史\n",
    "%hist"
   ]
  },
  {
   "cell_type": "code",
   "execution_count": null,
   "id": "7340ebb6",
   "metadata": {},
   "outputs": [],
   "source": [
    "# 删除交互式命令空间中的全部变量/名称\n",
    "%reset"
   ]
  },
  {
   "cell_type": "code",
   "execution_count": null,
   "id": "3eaf6fe1",
   "metadata": {},
   "outputs": [],
   "source": [
    "# 通过分页打印输出对象\n",
    "%page a"
   ]
  },
  {
   "cell_type": "code",
   "execution_count": null,
   "id": "eea5e5ef",
   "metadata": {},
   "outputs": [],
   "source": [
    "# 显示交互式命名空间中定义的变量，信息级别/冗余度可变\n",
    "%who"
   ]
  },
  {
   "cell_type": "code",
   "execution_count": null,
   "id": "f7000c08",
   "metadata": {},
   "outputs": [],
   "source": [
    "%who_ls"
   ]
  },
  {
   "cell_type": "code",
   "execution_count": null,
   "id": "be069c12",
   "metadata": {},
   "outputs": [],
   "source": [
    "%whos"
   ]
  },
  {
   "cell_type": "code",
   "execution_count": null,
   "id": "d483b3ce",
   "metadata": {},
   "outputs": [],
   "source": [
    "b = 10\n",
    "c = b"
   ]
  },
  {
   "cell_type": "code",
   "execution_count": null,
   "id": "794d4190",
   "metadata": {},
   "outputs": [],
   "source": [
    "# 删除变量，并尝试清楚其在IPython中的一切引用\n",
    "%xdel b"
   ]
  },
  {
   "cell_type": "code",
   "execution_count": null,
   "id": "da79c628",
   "metadata": {},
   "outputs": [],
   "source": [
    "# 变量b被删除，并把b的引用c一并删除！\n",
    "c"
   ]
  },
  {
   "cell_type": "markdown",
   "id": "42b51923",
   "metadata": {},
   "source": [
    "## 1.3 使用命令历史"
   ]
  },
  {
   "cell_type": "markdown",
   "id": "3839b9e1",
   "metadata": {},
   "source": [
    "### 1) 搜索并重用命令历史\n",
    "在win10 pycharm ipython console 和 jupyter notebook都测试了，发现然并卵。"
   ]
  },
  {
   "cell_type": "markdown",
   "id": "403582d4",
   "metadata": {},
   "source": [
    "### 2) 记录输入和输出！\n",
    "IPython能够记录整个控制台会话，包括输入和输出。执行 `%logstart` 即可开始记录日志："
   ]
  },
  {
   "cell_type": "code",
   "execution_count": null,
   "id": "2841ad70",
   "metadata": {},
   "outputs": [],
   "source": [
    "%logstart"
   ]
  },
  {
   "cell_type": "code",
   "execution_count": null,
   "id": "bc64fd13",
   "metadata": {},
   "outputs": [],
   "source": [
    "%logstart?"
   ]
  },
  {
   "cell_type": "markdown",
   "id": "65db904e",
   "metadata": {},
   "source": [
    "几个相似的命令\n",
    "- %logoff\n",
    "- %logon\n",
    "- %logstate\n",
    "- %logstop"
   ]
  },
  {
   "cell_type": "code",
   "execution_count": null,
   "id": "b35b5a2d",
   "metadata": {},
   "outputs": [],
   "source": [
    "%logon"
   ]
  },
  {
   "cell_type": "code",
   "execution_count": null,
   "id": "8541c1c0",
   "metadata": {},
   "outputs": [],
   "source": [
    "%logstate"
   ]
  },
  {
   "cell_type": "markdown",
   "id": "e3ab4ac7",
   "metadata": {},
   "source": [
    "## 1.4 与操作系统交互\n",
    "IPython与操作系统shell结合得非常紧密。也就是说，可以直接在其中实现标准的windows或unix命令行活动。比如执行shell命令、更改目录、将命令的执行结果保存到Python对象中等。此外，还提供了shell命令别名以及目录书签等功能。"
   ]
  },
  {
   "cell_type": "markdown",
   "id": "b4ed5c53",
   "metadata": {},
   "source": [
    "### 1) shell命令和别名\n",
    "以 `!` 开头的命令行表示其后的所有内容都需要在系统shell中执行。"
   ]
  },
  {
   "cell_type": "code",
   "execution_count": null,
   "id": "60981a80",
   "metadata": {},
   "outputs": [],
   "source": [
    "# pycharm ipython console测试可用\n",
    "# jupyter notebook不可用\n",
    "!python"
   ]
  },
  {
   "cell_type": "code",
   "execution_count": null,
   "id": "61217960",
   "metadata": {},
   "outputs": [],
   "source": [
    "# pycharm ipython console测试可用\n",
    "# jupyter notebook不可用\n",
    "!cmd"
   ]
  },
  {
   "cell_type": "code",
   "execution_count": null,
   "id": "44ee67fa",
   "metadata": {},
   "outputs": [],
   "source": [
    "%dirs"
   ]
  },
  {
   "cell_type": "markdown",
   "id": "3aa6a2b9",
   "metadata": {},
   "source": [
    "### 2) 目录书签系统\n",
    "IPython有一个简单的目录书签系统，它使你能够保存常用目录的别名以便实现快速跳转。首先定义书签："
   ]
  },
  {
   "cell_type": "code",
   "execution_count": null,
   "id": "df98542e",
   "metadata": {},
   "outputs": [],
   "source": [
    "%bookmark bm ./bookmarks/"
   ]
  },
  {
   "cell_type": "code",
   "execution_count": null,
   "id": "f0e84f0f",
   "metadata": {},
   "outputs": [],
   "source": [
    "cd bm"
   ]
  },
  {
   "cell_type": "code",
   "execution_count": null,
   "id": "7c1563f7",
   "metadata": {},
   "outputs": [],
   "source": [
    "# 列出所有书签\n",
    "%bookmark -l"
   ]
  },
  {
   "cell_type": "markdown",
   "id": "11cc093d",
   "metadata": {},
   "source": [
    "### 3) 与系统相关的魔术命令 "
   ]
  },
  {
   "cell_type": "code",
   "execution_count": null,
   "id": "440344f8",
   "metadata": {},
   "outputs": [],
   "source": [
    "ls"
   ]
  },
  {
   "cell_type": "code",
   "execution_count": null,
   "id": "57280317",
   "metadata": {},
   "outputs": [],
   "source": [
    "# 将当前目录入栈，并专项目标目录\n",
    "%pushd ./bookmarks"
   ]
  },
  {
   "cell_type": "code",
   "execution_count": null,
   "id": "8ae656b2",
   "metadata": {},
   "outputs": [],
   "source": [
    "# 弹出栈顶项目录，并转向目标目录\n",
    "%popd"
   ]
  },
  {
   "cell_type": "code",
   "execution_count": null,
   "id": "b926ec18",
   "metadata": {},
   "outputs": [],
   "source": [
    "# 返回上级目录\n",
    "!cd .."
   ]
  },
  {
   "cell_type": "code",
   "execution_count": null,
   "id": "f0b2af91",
   "metadata": {},
   "outputs": [],
   "source": [
    "# 返回一个含有当前目录栈的列表\n",
    "%dirs"
   ]
  },
  {
   "cell_type": "code",
   "execution_count": null,
   "id": "b9d7574a",
   "metadata": {},
   "outputs": [],
   "source": [
    "# 打印目录访问历史\n",
    "%dhist"
   ]
  },
  {
   "cell_type": "code",
   "execution_count": null,
   "id": "03498e23",
   "metadata": {},
   "outputs": [],
   "source": [
    "# 以字典形式返回系统环境变量\n",
    "%env"
   ]
  },
  {
   "cell_type": "code",
   "execution_count": null,
   "id": "2641dbdf",
   "metadata": {},
   "outputs": [],
   "source": [
    "!nvcc -V"
   ]
  },
  {
   "cell_type": "code",
   "execution_count": null,
   "id": "d811725a",
   "metadata": {},
   "outputs": [],
   "source": [
    "# 返回系统的当前工作目录\n",
    "!pwd"
   ]
  }
 ],
 "metadata": {
  "kernelspec": {
   "display_name": "Python 3",
   "language": "python",
   "name": "python3"
  },
  "language_info": {
   "codemirror_mode": {
    "name": "ipython",
    "version": 3
   },
   "file_extension": ".py",
   "mimetype": "text/x-python",
   "name": "python",
   "nbconvert_exporter": "python",
   "pygments_lexer": "ipython3",
   "version": "3.8.8"
  }
 },
 "nbformat": 4,
 "nbformat_minor": 5
}